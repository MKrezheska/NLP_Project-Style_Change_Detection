{
  "nbformat": 4,
  "nbformat_minor": 0,
  "metadata": {
    "colab": {
      "name": "Models_doc2vec-Task2.ipynb",
      "provenance": [],
      "authorship_tag": "ABX9TyOnk/3PmB3CKADoXGXfMfrT",
      "include_colab_link": true
    },
    "kernelspec": {
      "display_name": "Python 3",
      "name": "python3"
    },
    "language_info": {
      "name": "python"
    },
    "widgets": {
      "application/vnd.jupyter.widget-state+json": {
        "da9262ef6eec45db8b7d4dd3c3e5da3a": {
          "model_module": "catboost-widget",
          "model_name": "CatboostWidgetModel",
          "model_module_version": "^1.0.0",
          "state": {
            "_view_name": "CatboostWidgetView",
            "_dom_classes": [],
            "_model_name": "CatboostWidgetModel",
            "data": {
              "catboost_info": {
                "content": {
                  "data": {
                    "meta": {
                      "name": "experiment",
                      "parameters": "",
                      "test_metrics": [],
                      "learn_sets": [
                        "learn"
                      ],
                      "launch_mode": "Train",
                      "learn_metrics": [
                        {
                          "best_value": "Min",
                          "name": "MultiClass"
                        }
                      ],
                      "iteration_count": 1000,
                      "test_sets": []
                    },
                    "iterations": [
                      {
                        "passed_time": 1.434570127,
                        "iteration": 0,
                        "remaining_time": 1433.135557,
                        "learn": [
                          1.379426287
                        ]
                      },
                      {
                        "passed_time": 2.024126437,
                        "iteration": 1,
                        "remaining_time": 1010.039092,
                        "learn": [
                          1.372777378
                        ]
                      },
                      {
                        "passed_time": 2.604968083,
                        "iteration": 2,
                        "remaining_time": 865.7177262,
                        "learn": [
                          1.3653999
                        ]
                      },
                      {
                        "passed_time": 3.208665578,
                        "iteration": 3,
                        "remaining_time": 798.9577289,
                        "learn": [
                          1.359121362
                        ]
                      },
                      {
                        "passed_time": 3.779682471,
                        "iteration": 4,
                        "remaining_time": 752.1568117,
                        "learn": [
                          1.354162511
                        ]
                      },
                      {
                        "passed_time": 4.351303301,
                        "iteration": 5,
                        "remaining_time": 720.8659136,
                        "learn": [
                          1.349658503
                        ]
                      },
                      {
                        "passed_time": 4.929665831,
                        "iteration": 6,
                        "remaining_time": 699.3083101,
                        "learn": [
                          1.343725259
                        ]
                      },
                      {
                        "passed_time": 5.575683788,
                        "iteration": 7,
                        "remaining_time": 691.3847897,
                        "learn": [
                          1.338784738
                        ]
                      },
                      {
                        "passed_time": 6.228414168,
                        "iteration": 8,
                        "remaining_time": 685.8176045,
                        "learn": [
                          1.335229728
                        ]
                      },
                      {
                        "passed_time": 6.859017502,
                        "iteration": 9,
                        "remaining_time": 679.0427327,
                        "learn": [
                          1.331367344
                        ]
                      },
                      {
                        "passed_time": 7.511681908,
                        "iteration": 10,
                        "remaining_time": 675.3684916,
                        "learn": [
                          1.327144749
                        ]
                      },
                      {
                        "passed_time": 8.153710437,
                        "iteration": 11,
                        "remaining_time": 671.3221594,
                        "learn": [
                          1.324097385
                        ]
                      },
                      {
                        "passed_time": 8.804302573,
                        "iteration": 12,
                        "remaining_time": 668.4497415,
                        "learn": [
                          1.320595249
                        ]
                      },
                      {
                        "passed_time": 9.427509468,
                        "iteration": 13,
                        "remaining_time": 663.9660239,
                        "learn": [
                          1.317611557
                        ]
                      },
                      {
                        "passed_time": 10.0606508,
                        "iteration": 14,
                        "remaining_time": 660.6494027,
                        "learn": [
                          1.314774265
                        ]
                      },
                      {
                        "passed_time": 10.71746697,
                        "iteration": 15,
                        "remaining_time": 659.1242185,
                        "learn": [
                          1.311188539
                        ]
                      },
                      {
                        "passed_time": 11.36463242,
                        "iteration": 16,
                        "remaining_time": 657.1431571,
                        "learn": [
                          1.306625604
                        ]
                      },
                      {
                        "passed_time": 12.01731697,
                        "iteration": 17,
                        "remaining_time": 655.6114037,
                        "learn": [
                          1.302693034
                        ]
                      },
                      {
                        "passed_time": 12.66195822,
                        "iteration": 18,
                        "remaining_time": 653.7568957,
                        "learn": [
                          1.299508739
                        ]
                      },
                      {
                        "passed_time": 13.2916798,
                        "iteration": 19,
                        "remaining_time": 651.2923102,
                        "learn": [
                          1.296581077
                        ]
                      },
                      {
                        "passed_time": 13.90630262,
                        "iteration": 20,
                        "remaining_time": 648.298584,
                        "learn": [
                          1.29294055
                        ]
                      },
                      {
                        "passed_time": 14.50219442,
                        "iteration": 21,
                        "remaining_time": 644.6884609,
                        "learn": [
                          1.289162013
                        ]
                      },
                      {
                        "passed_time": 15.13831361,
                        "iteration": 22,
                        "remaining_time": 643.0492345,
                        "learn": [
                          1.285854133
                        ]
                      },
                      {
                        "passed_time": 15.7762352,
                        "iteration": 23,
                        "remaining_time": 641.5668979,
                        "learn": [
                          1.282994516
                        ]
                      },
                      {
                        "passed_time": 16.41048507,
                        "iteration": 24,
                        "remaining_time": 640.0089179,
                        "learn": [
                          1.279944788
                        ]
                      },
                      {
                        "passed_time": 16.99557962,
                        "iteration": 25,
                        "remaining_time": 636.6805595,
                        "learn": [
                          1.276876822
                        ]
                      },
                      {
                        "passed_time": 17.60174374,
                        "iteration": 26,
                        "remaining_time": 634.314691,
                        "learn": [
                          1.273408309
                        ]
                      },
                      {
                        "passed_time": 18.18353847,
                        "iteration": 27,
                        "remaining_time": 631.2285497,
                        "learn": [
                          1.269871041
                        ]
                      },
                      {
                        "passed_time": 18.75079022,
                        "iteration": 28,
                        "remaining_time": 627.8281827,
                        "learn": [
                          1.267184493
                        ]
                      },
                      {
                        "passed_time": 19.33398776,
                        "iteration": 29,
                        "remaining_time": 625.1322709,
                        "learn": [
                          1.264688116
                        ]
                      },
                      {
                        "passed_time": 19.92346352,
                        "iteration": 30,
                        "remaining_time": 622.768908,
                        "learn": [
                          1.261426796
                        ]
                      },
                      {
                        "passed_time": 20.48923983,
                        "iteration": 31,
                        "remaining_time": 619.7995048,
                        "learn": [
                          1.259212832
                        ]
                      },
                      {
                        "passed_time": 21.07232506,
                        "iteration": 32,
                        "remaining_time": 617.4829798,
                        "learn": [
                          1.256448948
                        ]
                      },
                      {
                        "passed_time": 21.65407446,
                        "iteration": 33,
                        "remaining_time": 615.2304685,
                        "learn": [
                          1.253952103
                        ]
                      },
                      {
                        "passed_time": 22.22225038,
                        "iteration": 34,
                        "remaining_time": 612.6991889,
                        "learn": [
                          1.251347092
                        ]
                      },
                      {
                        "passed_time": 22.80822499,
                        "iteration": 35,
                        "remaining_time": 610.7535802,
                        "learn": [
                          1.248895756
                        ]
                      },
                      {
                        "passed_time": 23.39016233,
                        "iteration": 36,
                        "remaining_time": 608.7763871,
                        "learn": [
                          1.246339087
                        ]
                      },
                      {
                        "passed_time": 23.9698501,
                        "iteration": 37,
                        "remaining_time": 606.8156789,
                        "learn": [
                          1.243691865
                        ]
                      },
                      {
                        "passed_time": 24.55426386,
                        "iteration": 38,
                        "remaining_time": 605.0422455,
                        "learn": [
                          1.240823376
                        ]
                      },
                      {
                        "passed_time": 25.16926898,
                        "iteration": 39,
                        "remaining_time": 604.0624555,
                        "learn": [
                          1.239005116
                        ]
                      },
                      {
                        "passed_time": 25.79495154,
                        "iteration": 40,
                        "remaining_time": 603.350208,
                        "learn": [
                          1.235789473
                        ]
                      },
                      {
                        "passed_time": 26.37641348,
                        "iteration": 41,
                        "remaining_time": 601.6334313,
                        "learn": [
                          1.23314168
                        ]
                      },
                      {
                        "passed_time": 26.96739477,
                        "iteration": 42,
                        "remaining_time": 600.1813207,
                        "learn": [
                          1.230280239
                        ]
                      },
                      {
                        "passed_time": 27.53441194,
                        "iteration": 43,
                        "remaining_time": 598.2476775,
                        "learn": [
                          1.227731573
                        ]
                      },
                      {
                        "passed_time": 28.11296321,
                        "iteration": 44,
                        "remaining_time": 596.6195526,
                        "learn": [
                          1.224956136
                        ]
                      },
                      {
                        "passed_time": 28.6815001,
                        "iteration": 45,
                        "remaining_time": 594.8293717,
                        "learn": [
                          1.222614034
                        ]
                      },
                      {
                        "passed_time": 29.24302401,
                        "iteration": 46,
                        "remaining_time": 592.9489763,
                        "learn": [
                          1.220364973
                        ]
                      },
                      {
                        "passed_time": 29.85694545,
                        "iteration": 47,
                        "remaining_time": 592.1627515,
                        "learn": [
                          1.218405599
                        ]
                      },
                      {
                        "passed_time": 30.50167976,
                        "iteration": 48,
                        "remaining_time": 591.9815807,
                        "learn": [
                          1.2165814
                        ]
                      },
                      {
                        "passed_time": 31.11956453,
                        "iteration": 49,
                        "remaining_time": 591.271726,
                        "learn": [
                          1.214465768
                        ]
                      },
                      {
                        "passed_time": 31.75003745,
                        "iteration": 50,
                        "remaining_time": 590.7997165,
                        "learn": [
                          1.21224495
                        ]
                      },
                      {
                        "passed_time": 32.37836543,
                        "iteration": 51,
                        "remaining_time": 590.2825083,
                        "learn": [
                          1.210199227
                        ]
                      },
                      {
                        "passed_time": 32.95981742,
                        "iteration": 52,
                        "remaining_time": 588.9235301,
                        "learn": [
                          1.208150422
                        ]
                      },
                      {
                        "passed_time": 33.52190034,
                        "iteration": 53,
                        "remaining_time": 587.2540319,
                        "learn": [
                          1.205926756
                        ]
                      },
                      {
                        "passed_time": 34.12825191,
                        "iteration": 54,
                        "remaining_time": 586.3854193,
                        "learn": [
                          1.203368023
                        ]
                      },
                      {
                        "passed_time": 34.71399377,
                        "iteration": 55,
                        "remaining_time": 585.1787521,
                        "learn": [
                          1.20147982
                        ]
                      },
                      {
                        "passed_time": 35.27784108,
                        "iteration": 56,
                        "remaining_time": 583.6316516,
                        "learn": [
                          1.199009161
                        ]
                      },
                      {
                        "passed_time": 35.88678903,
                        "iteration": 57,
                        "remaining_time": 582.8509529,
                        "learn": [
                          1.19642514
                        ]
                      },
                      {
                        "passed_time": 36.54316539,
                        "iteration": 58,
                        "remaining_time": 582.8325193,
                        "learn": [
                          1.194150594
                        ]
                      },
                      {
                        "passed_time": 37.19482083,
                        "iteration": 59,
                        "remaining_time": 582.7188597,
                        "learn": [
                          1.192490224
                        ]
                      },
                      {
                        "passed_time": 37.82280344,
                        "iteration": 60,
                        "remaining_time": 582.2231545,
                        "learn": [
                          1.190731776
                        ]
                      },
                      {
                        "passed_time": 38.38522867,
                        "iteration": 61,
                        "remaining_time": 580.7313628,
                        "learn": [
                          1.188913355
                        ]
                      },
                      {
                        "passed_time": 38.97854953,
                        "iteration": 62,
                        "remaining_time": 579.7285859,
                        "learn": [
                          1.186853251
                        ]
                      },
                      {
                        "passed_time": 39.56673092,
                        "iteration": 63,
                        "remaining_time": 578.6634398,
                        "learn": [
                          1.184532958
                        ]
                      },
                      {
                        "passed_time": 40.13306414,
                        "iteration": 64,
                        "remaining_time": 577.2986918,
                        "learn": [
                          1.1830295
                        ]
                      },
                      {
                        "passed_time": 40.70496558,
                        "iteration": 65,
                        "remaining_time": 576.0369371,
                        "learn": [
                          1.181179351
                        ]
                      },
                      {
                        "passed_time": 41.31291799,
                        "iteration": 66,
                        "remaining_time": 575.2977983,
                        "learn": [
                          1.178654792
                        ]
                      },
                      {
                        "passed_time": 41.87617495,
                        "iteration": 67,
                        "remaining_time": 573.9499273,
                        "learn": [
                          1.176485058
                        ]
                      },
                      {
                        "passed_time": 42.44087492,
                        "iteration": 68,
                        "remaining_time": 572.6442689,
                        "learn": [
                          1.174699681
                        ]
                      },
                      {
                        "passed_time": 43.04961991,
                        "iteration": 69,
                        "remaining_time": 571.9449502,
                        "learn": [
                          1.172539685
                        ]
                      },
                      {
                        "passed_time": 43.68522191,
                        "iteration": 70,
                        "remaining_time": 571.5995937,
                        "learn": [
                          1.170777429
                        ]
                      },
                      {
                        "passed_time": 44.3040779,
                        "iteration": 71,
                        "remaining_time": 571.0303373,
                        "learn": [
                          1.16886178
                        ]
                      },
                      {
                        "passed_time": 44.86331442,
                        "iteration": 72,
                        "remaining_time": 569.7026366,
                        "learn": [
                          1.167623555
                        ]
                      },
                      {
                        "passed_time": 45.45428208,
                        "iteration": 73,
                        "remaining_time": 568.7927731,
                        "learn": [
                          1.165241806
                        ]
                      },
                      {
                        "passed_time": 46.01062457,
                        "iteration": 74,
                        "remaining_time": 567.4643697,
                        "learn": [
                          1.163846241
                        ]
                      },
                      {
                        "passed_time": 46.65668839,
                        "iteration": 75,
                        "remaining_time": 567.2471062,
                        "learn": [
                          1.162150516
                        ]
                      },
                      {
                        "passed_time": 47.31645702,
                        "iteration": 76,
                        "remaining_time": 567.1829848,
                        "learn": [
                          1.159981126
                        ]
                      },
                      {
                        "passed_time": 47.95405498,
                        "iteration": 77,
                        "remaining_time": 566.8415217,
                        "learn": [
                          1.158011416
                        ]
                      },
                      {
                        "passed_time": 48.60844191,
                        "iteration": 78,
                        "remaining_time": 566.6882912,
                        "learn": [
                          1.155587449
                        ]
                      },
                      {
                        "passed_time": 49.28469786,
                        "iteration": 79,
                        "remaining_time": 566.7740254,
                        "learn": [
                          1.153313827
                        ]
                      },
                      {
                        "passed_time": 49.94393146,
                        "iteration": 80,
                        "remaining_time": 566.6478149,
                        "learn": [
                          1.151132943
                        ]
                      },
                      {
                        "passed_time": 50.58882861,
                        "iteration": 81,
                        "remaining_time": 566.3481057,
                        "learn": [
                          1.149271575
                        ]
                      },
                      {
                        "passed_time": 51.21303909,
                        "iteration": 82,
                        "remaining_time": 565.8115283,
                        "learn": [
                          1.147660761
                        ]
                      },
                      {
                        "passed_time": 51.89946999,
                        "iteration": 83,
                        "remaining_time": 565.9513632,
                        "learn": [
                          1.14582816
                        ]
                      },
                      {
                        "passed_time": 52.54768494,
                        "iteration": 84,
                        "remaining_time": 565.6603732,
                        "learn": [
                          1.1440682
                        ]
                      },
                      {
                        "passed_time": 53.14457073,
                        "iteration": 85,
                        "remaining_time": 564.815554,
                        "learn": [
                          1.141825189
                        ]
                      },
                      {
                        "passed_time": 53.71465203,
                        "iteration": 86,
                        "remaining_time": 563.6951415,
                        "learn": [
                          1.140110158
                        ]
                      },
                      {
                        "passed_time": 54.32092671,
                        "iteration": 87,
                        "remaining_time": 562.9623313,
                        "learn": [
                          1.138595441
                        ]
                      },
                      {
                        "passed_time": 54.96821609,
                        "iteration": 88,
                        "remaining_time": 562.6521895,
                        "learn": [
                          1.136468379
                        ]
                      },
                      {
                        "passed_time": 55.59918859,
                        "iteration": 89,
                        "remaining_time": 562.1695735,
                        "learn": [
                          1.134010568
                        ]
                      },
                      {
                        "passed_time": 56.15342983,
                        "iteration": 90,
                        "remaining_time": 560.9172276,
                        "learn": [
                          1.132053671
                        ]
                      },
                      {
                        "passed_time": 56.73801314,
                        "iteration": 91,
                        "remaining_time": 559.979521,
                        "learn": [
                          1.129906496
                        ]
                      },
                      {
                        "passed_time": 57.29465924,
                        "iteration": 92,
                        "remaining_time": 558.7769455,
                        "learn": [
                          1.12739891
                        ]
                      },
                      {
                        "passed_time": 57.86926611,
                        "iteration": 93,
                        "remaining_time": 557.7612244,
                        "learn": [
                          1.125366447
                        ]
                      },
                      {
                        "passed_time": 58.46075276,
                        "iteration": 94,
                        "remaining_time": 556.915592,
                        "learn": [
                          1.123380882
                        ]
                      },
                      {
                        "passed_time": 59.03282777,
                        "iteration": 95,
                        "remaining_time": 555.8924615,
                        "learn": [
                          1.121634201
                        ]
                      },
                      {
                        "passed_time": 59.68937662,
                        "iteration": 96,
                        "remaining_time": 555.6650216,
                        "learn": [
                          1.119640422
                        ]
                      },
                      {
                        "passed_time": 60.32769144,
                        "iteration": 97,
                        "remaining_time": 555.2609967,
                        "learn": [
                          1.117734413
                        ]
                      },
                      {
                        "passed_time": 60.92774509,
                        "iteration": 98,
                        "remaining_time": 554.5040235,
                        "learn": [
                          1.115975051
                        ]
                      },
                      {
                        "passed_time": 61.50967325,
                        "iteration": 99,
                        "remaining_time": 553.5870592,
                        "learn": [
                          1.113667947
                        ]
                      },
                      {
                        "passed_time": 62.07314291,
                        "iteration": 100,
                        "remaining_time": 552.5124305,
                        "learn": [
                          1.111746305
                        ]
                      },
                      {
                        "passed_time": 62.67513702,
                        "iteration": 101,
                        "remaining_time": 551.7869906,
                        "learn": [
                          1.109980327
                        ]
                      },
                      {
                        "passed_time": 63.31028765,
                        "iteration": 102,
                        "remaining_time": 551.3526992,
                        "learn": [
                          1.107780489
                        ]
                      },
                      {
                        "passed_time": 63.95666409,
                        "iteration": 103,
                        "remaining_time": 551.0112599,
                        "learn": [
                          1.105766158
                        ]
                      },
                      {
                        "passed_time": 64.57684509,
                        "iteration": 104,
                        "remaining_time": 550.4407272,
                        "learn": [
                          1.103819881
                        ]
                      },
                      {
                        "passed_time": 65.22545685,
                        "iteration": 105,
                        "remaining_time": 550.1090417,
                        "learn": [
                          1.101789611
                        ]
                      },
                      {
                        "passed_time": 65.8198152,
                        "iteration": 106,
                        "remaining_time": 549.3186446,
                        "learn": [
                          1.099433037
                        ]
                      },
                      {
                        "passed_time": 66.42041081,
                        "iteration": 107,
                        "remaining_time": 548.583393,
                        "learn": [
                          1.096956298
                        ]
                      },
                      {
                        "passed_time": 66.99555735,
                        "iteration": 108,
                        "remaining_time": 547.6425835,
                        "learn": [
                          1.094955541
                        ]
                      },
                      {
                        "passed_time": 67.5454568,
                        "iteration": 109,
                        "remaining_time": 546.5041505,
                        "learn": [
                          1.093166796
                        ]
                      },
                      {
                        "passed_time": 68.13417576,
                        "iteration": 110,
                        "remaining_time": 545.6872275,
                        "learn": [
                          1.091192806
                        ]
                      },
                      {
                        "passed_time": 68.74002883,
                        "iteration": 111,
                        "remaining_time": 545.0102286,
                        "learn": [
                          1.08877713
                        ]
                      },
                      {
                        "passed_time": 69.37147218,
                        "iteration": 112,
                        "remaining_time": 544.5353612,
                        "learn": [
                          1.086758255
                        ]
                      },
                      {
                        "passed_time": 70.03418792,
                        "iteration": 113,
                        "remaining_time": 544.3007938,
                        "learn": [
                          1.084478429
                        ]
                      },
                      {
                        "passed_time": 70.68124138,
                        "iteration": 114,
                        "remaining_time": 543.9382489,
                        "learn": [
                          1.08229452
                        ]
                      },
                      {
                        "passed_time": 71.3355928,
                        "iteration": 115,
                        "remaining_time": 543.6264141,
                        "learn": [
                          1.080372624
                        ]
                      },
                      {
                        "passed_time": 71.96829009,
                        "iteration": 116,
                        "remaining_time": 543.1453004,
                        "learn": [
                          1.078091298
                        ]
                      },
                      {
                        "passed_time": 72.54167502,
                        "iteration": 117,
                        "remaining_time": 542.2182828,
                        "learn": [
                          1.075872935
                        ]
                      },
                      {
                        "passed_time": 73.10130369,
                        "iteration": 118,
                        "remaining_time": 541.1953659,
                        "learn": [
                          1.073992601
                        ]
                      },
                      {
                        "passed_time": 73.69163789,
                        "iteration": 119,
                        "remaining_time": 540.4053445,
                        "learn": [
                          1.072145477
                        ]
                      },
                      {
                        "passed_time": 74.3785082,
                        "iteration": 120,
                        "remaining_time": 540.3199067,
                        "learn": [
                          1.069996701
                        ]
                      },
                      {
                        "passed_time": 74.99125245,
                        "iteration": 121,
                        "remaining_time": 539.6911446,
                        "learn": [
                          1.068181003
                        ]
                      },
                      {
                        "passed_time": 75.62924759,
                        "iteration": 122,
                        "remaining_time": 539.242684,
                        "learn": [
                          1.065750003
                        ]
                      },
                      {
                        "passed_time": 76.2180691,
                        "iteration": 123,
                        "remaining_time": 538.4437785,
                        "learn": [
                          1.063620347
                        ]
                      },
                      {
                        "passed_time": 76.79396574,
                        "iteration": 124,
                        "remaining_time": 537.5577602,
                        "learn": [
                          1.061205471
                        ]
                      },
                      {
                        "passed_time": 77.36615843,
                        "iteration": 125,
                        "remaining_time": 536.650972,
                        "learn": [
                          1.059137706
                        ]
                      },
                      {
                        "passed_time": 77.9457292,
                        "iteration": 126,
                        "remaining_time": 535.80017,
                        "learn": [
                          1.056981237
                        ]
                      },
                      {
                        "passed_time": 78.53270292,
                        "iteration": 127,
                        "remaining_time": 535.0040386,
                        "learn": [
                          1.054845192
                        ]
                      },
                      {
                        "passed_time": 79.12411888,
                        "iteration": 128,
                        "remaining_time": 534.2411438,
                        "learn": [
                          1.052671967
                        ]
                      },
                      {
                        "passed_time": 79.68482108,
                        "iteration": 129,
                        "remaining_time": 533.2753411,
                        "learn": [
                          1.050447503
                        ]
                      },
                      {
                        "passed_time": 80.27128471,
                        "iteration": 130,
                        "remaining_time": 532.4866139,
                        "learn": [
                          1.048087956
                        ]
                      },
                      {
                        "passed_time": 80.86675426,
                        "iteration": 131,
                        "remaining_time": 531.760172,
                        "learn": [
                          1.04595801
                        ]
                      },
                      {
                        "passed_time": 81.53308707,
                        "iteration": 132,
                        "remaining_time": 531.4976428,
                        "learn": [
                          1.043841889
                        ]
                      },
                      {
                        "passed_time": 82.1729731,
                        "iteration": 133,
                        "remaining_time": 531.0581695,
                        "learn": [
                          1.041656784
                        ]
                      },
                      {
                        "passed_time": 82.74856893,
                        "iteration": 134,
                        "remaining_time": 530.2037935,
                        "learn": [
                          1.039522334
                        ]
                      },
                      {
                        "passed_time": 83.34414485,
                        "iteration": 135,
                        "remaining_time": 529.4804496,
                        "learn": [
                          1.037067476
                        ]
                      },
                      {
                        "passed_time": 83.91813026,
                        "iteration": 136,
                        "remaining_time": 528.6229666,
                        "learn": [
                          1.034752827
                        ]
                      },
                      {
                        "passed_time": 84.5205065,
                        "iteration": 137,
                        "remaining_time": 527.9469319,
                        "learn": [
                          1.032663083
                        ]
                      },
                      {
                        "passed_time": 85.11296803,
                        "iteration": 138,
                        "remaining_time": 527.210543,
                        "learn": [
                          1.030524695
                        ]
                      },
                      {
                        "passed_time": 85.75997674,
                        "iteration": 139,
                        "remaining_time": 526.8112857,
                        "learn": [
                          1.028417552
                        ]
                      },
                      {
                        "passed_time": 86.4102797,
                        "iteration": 140,
                        "remaining_time": 526.4285834,
                        "learn": [
                          1.02620629
                        ]
                      },
                      {
                        "passed_time": 87.02836196,
                        "iteration": 141,
                        "remaining_time": 525.8474265,
                        "learn": [
                          1.024071346
                        ]
                      },
                      {
                        "passed_time": 87.69847949,
                        "iteration": 142,
                        "remaining_time": 525.5776008,
                        "learn": [
                          1.021725523
                        ]
                      },
                      {
                        "passed_time": 88.35732991,
                        "iteration": 143,
                        "remaining_time": 525.2352389,
                        "learn": [
                          1.01948234
                        ]
                      },
                      {
                        "passed_time": 88.98255419,
                        "iteration": 144,
                        "remaining_time": 524.6902333,
                        "learn": [
                          1.017518487
                        ]
                      },
                      {
                        "passed_time": 89.63857717,
                        "iteration": 145,
                        "remaining_time": 524.3242802,
                        "learn": [
                          1.01582592
                        ]
                      },
                      {
                        "passed_time": 90.2961896,
                        "iteration": 146,
                        "remaining_time": 523.9636036,
                        "learn": [
                          1.013753328
                        ]
                      },
                      {
                        "passed_time": 90.90678167,
                        "iteration": 147,
                        "remaining_time": 523.3282296,
                        "learn": [
                          1.011929312
                        ]
                      },
                      {
                        "passed_time": 91.47146768,
                        "iteration": 148,
                        "remaining_time": 522.431,
                        "learn": [
                          1.010251905
                        ]
                      },
                      {
                        "passed_time": 92.01222728,
                        "iteration": 149,
                        "remaining_time": 521.4026213,
                        "learn": [
                          1.008286909
                        ]
                      },
                      {
                        "passed_time": 92.59532977,
                        "iteration": 150,
                        "remaining_time": 520.6187747,
                        "learn": [
                          1.006288853
                        ]
                      },
                      {
                        "passed_time": 93.13381101,
                        "iteration": 151,
                        "remaining_time": 519.5886299,
                        "learn": [
                          1.004562019
                        ]
                      },
                      {
                        "passed_time": 93.72677134,
                        "iteration": 152,
                        "remaining_time": 518.8665054,
                        "learn": [
                          1.002393278
                        ]
                      },
                      {
                        "passed_time": 94.32697151,
                        "iteration": 153,
                        "remaining_time": 518.1858305,
                        "learn": [
                          1.000394805
                        ]
                      },
                      {
                        "passed_time": 94.95132117,
                        "iteration": 154,
                        "remaining_time": 517.6378476,
                        "learn": [
                          0.9986943292
                        ]
                      },
                      {
                        "passed_time": 95.60501026,
                        "iteration": 155,
                        "remaining_time": 517.2476196,
                        "learn": [
                          0.9967503626
                        ]
                      },
                      {
                        "passed_time": 96.24500111,
                        "iteration": 156,
                        "remaining_time": 516.7804837,
                        "learn": [
                          0.9945933217
                        ]
                      },
                      {
                        "passed_time": 96.84059836,
                        "iteration": 157,
                        "remaining_time": 516.0745812,
                        "learn": [
                          0.9926895259
                        ]
                      },
                      {
                        "passed_time": 97.43149898,
                        "iteration": 158,
                        "remaining_time": 515.3452242,
                        "learn": [
                          0.9906239092
                        ]
                      },
                      {
                        "passed_time": 97.99084024,
                        "iteration": 159,
                        "remaining_time": 514.4519112,
                        "learn": [
                          0.9887528316
                        ]
                      },
                      {
                        "passed_time": 98.58611492,
                        "iteration": 160,
                        "remaining_time": 513.7500026,
                        "learn": [
                          0.9865704861
                        ]
                      },
                      {
                        "passed_time": 99.11763344,
                        "iteration": 161,
                        "remaining_time": 512.71961,
                        "learn": [
                          0.9849174748
                        ]
                      },
                      {
                        "passed_time": 99.77803749,
                        "iteration": 162,
                        "remaining_time": 512.3571618,
                        "learn": [
                          0.9828101618
                        ]
                      },
                      {
                        "passed_time": 100.4095144,
                        "iteration": 163,
                        "remaining_time": 511.8436223,
                        "learn": [
                          0.9809515436
                        ]
                      },
                      {
                        "passed_time": 101.0457018,
                        "iteration": 164,
                        "remaining_time": 511.3524908,
                        "learn": [
                          0.9792812518
                        ]
                      },
                      {
                        "passed_time": 101.7104461,
                        "iteration": 165,
                        "remaining_time": 511.0030849,
                        "learn": [
                          0.9774127093
                        ]
                      },
                      {
                        "passed_time": 102.3328588,
                        "iteration": 166,
                        "remaining_time": 510.4387509,
                        "learn": [
                          0.9757261476
                        ]
                      },
                      {
                        "passed_time": 103.0035817,
                        "iteration": 167,
                        "remaining_time": 510.1129759,
                        "learn": [
                          0.973892719
                        ]
                      },
                      {
                        "passed_time": 103.6401257,
                        "iteration": 168,
                        "remaining_time": 509.6150559,
                        "learn": [
                          0.9722492407
                        ]
                      },
                      {
                        "passed_time": 104.2873458,
                        "iteration": 169,
                        "remaining_time": 509.1676295,
                        "learn": [
                          0.9701402321
                        ]
                      },
                      {
                        "passed_time": 104.9368108,
                        "iteration": 170,
                        "remaining_time": 508.7287496,
                        "learn": [
                          0.9686311981
                        ]
                      },
                      {
                        "passed_time": 105.5689465,
                        "iteration": 171,
                        "remaining_time": 508.2039982,
                        "learn": [
                          0.966978726
                        ]
                      },
                      {
                        "passed_time": 106.249202,
                        "iteration": 172,
                        "remaining_time": 507.9080348,
                        "learn": [
                          0.9652680881
                        ]
                      },
                      {
                        "passed_time": 106.9196032,
                        "iteration": 173,
                        "remaining_time": 507.5608751,
                        "learn": [
                          0.9633818862
                        ]
                      },
                      {
                        "passed_time": 107.5715532,
                        "iteration": 174,
                        "remaining_time": 507.1230367,
                        "learn": [
                          0.9613549879
                        ]
                      },
                      {
                        "passed_time": 108.2486961,
                        "iteration": 175,
                        "remaining_time": 506.8007135,
                        "learn": [
                          0.9591577611
                        ]
                      },
                      {
                        "passed_time": 108.915273,
                        "iteration": 176,
                        "remaining_time": 506.4252523,
                        "learn": [
                          0.9573232128
                        ]
                      },
                      {
                        "passed_time": 109.543418,
                        "iteration": 177,
                        "remaining_time": 505.8690427,
                        "learn": [
                          0.9557453508
                        ]
                      },
                      {
                        "passed_time": 110.1313592,
                        "iteration": 178,
                        "remaining_time": 505.127631,
                        "learn": [
                          0.9544964449
                        ]
                      },
                      {
                        "passed_time": 110.6851747,
                        "iteration": 179,
                        "remaining_time": 504.2324627,
                        "learn": [
                          0.9525529375
                        ]
                      },
                      {
                        "passed_time": 111.26487,
                        "iteration": 180,
                        "remaining_time": 503.4581688,
                        "learn": [
                          0.9505731822
                        ]
                      },
                      {
                        "passed_time": 111.8331661,
                        "iteration": 181,
                        "remaining_time": 502.6347795,
                        "learn": [
                          0.9488259335
                        ]
                      },
                      {
                        "passed_time": 112.4268069,
                        "iteration": 182,
                        "remaining_time": 501.9273291,
                        "learn": [
                          0.9468859544
                        ]
                      },
                      {
                        "passed_time": 113.0653237,
                        "iteration": 183,
                        "remaining_time": 501.4201312,
                        "learn": [
                          0.9450205679
                        ]
                      },
                      {
                        "passed_time": 113.7056881,
                        "iteration": 184,
                        "remaining_time": 500.9196531,
                        "learn": [
                          0.9431350945
                        ]
                      },
                      {
                        "passed_time": 114.37932,
                        "iteration": 185,
                        "remaining_time": 500.5632606,
                        "learn": [
                          0.9416162671
                        ]
                      },
                      {
                        "passed_time": 115.0509809,
                        "iteration": 186,
                        "remaining_time": 500.1949062,
                        "learn": [
                          0.939687768
                        ]
                      },
                      {
                        "passed_time": 115.6848336,
                        "iteration": 187,
                        "remaining_time": 499.6600258,
                        "learn": [
                          0.9379031221
                        ]
                      },
                      {
                        "passed_time": 116.3476249,
                        "iteration": 188,
                        "remaining_time": 499.248274,
                        "learn": [
                          0.9364159663
                        ]
                      },
                      {
                        "passed_time": 116.9657723,
                        "iteration": 189,
                        "remaining_time": 498.6435554,
                        "learn": [
                          0.9348898983
                        ]
                      },
                      {
                        "passed_time": 117.5400098,
                        "iteration": 190,
                        "remaining_time": 497.8527118,
                        "learn": [
                          0.9331738674
                        ]
                      },
                      {
                        "passed_time": 118.1638004,
                        "iteration": 191,
                        "remaining_time": 497.27266,
                        "learn": [
                          0.9314912915
                        ]
                      },
                      {
                        "passed_time": 118.7882689,
                        "iteration": 192,
                        "remaining_time": 496.6949899,
                        "learn": [
                          0.9296175241
                        ]
                      },
                      {
                        "passed_time": 119.4345417,
                        "iteration": 193,
                        "remaining_time": 496.2074258,
                        "learn": [
                          0.9279540857
                        ]
                      },
                      {
                        "passed_time": 120.0862033,
                        "iteration": 194,
                        "remaining_time": 495.7404801,
                        "learn": [
                          0.9259760083
                        ]
                      },
                      {
                        "passed_time": 120.6712838,
                        "iteration": 195,
                        "remaining_time": 494.9985314,
                        "learn": [
                          0.9248195152
                        ]
                      },
                      {
                        "passed_time": 121.3326084,
                        "iteration": 196,
                        "remaining_time": 494.5689571,
                        "learn": [
                          0.9232165634
                        ]
                      },
                      {
                        "passed_time": 122.0216987,
                        "iteration": 197,
                        "remaining_time": 494.2495068,
                        "learn": [
                          0.921494121
                        ]
                      },
                      {
                        "passed_time": 122.6636543,
                        "iteration": 198,
                        "remaining_time": 493.7366184,
                        "learn": [
                          0.9196326211
                        ]
                      },
                      {
                        "passed_time": 123.3116031,
                        "iteration": 199,
                        "remaining_time": 493.2464123,
                        "learn": [
                          0.917973793
                        ]
                      },
                      {
                        "passed_time": 123.9260284,
                        "iteration": 200,
                        "remaining_time": 492.6213766,
                        "learn": [
                          0.9162946841
                        ]
                      },
                      {
                        "passed_time": 124.6255717,
                        "iteration": 201,
                        "remaining_time": 492.332704,
                        "learn": [
                          0.9143550375
                        ]
                      },
                      {
                        "passed_time": 125.2917888,
                        "iteration": 202,
                        "remaining_time": 491.9091411,
                        "learn": [
                          0.9126832158
                        ]
                      },
                      {
                        "passed_time": 125.8973842,
                        "iteration": 203,
                        "remaining_time": 491.2466559,
                        "learn": [
                          0.911444953
                        ]
                      },
                      {
                        "passed_time": 126.475049,
                        "iteration": 204,
                        "remaining_time": 490.4764096,
                        "learn": [
                          0.9099694327
                        ]
                      },
                      {
                        "passed_time": 127.0217496,
                        "iteration": 205,
                        "remaining_time": 489.5886853,
                        "learn": [
                          0.9085162631
                        ]
                      },
                      {
                        "passed_time": 127.5887217,
                        "iteration": 206,
                        "remaining_time": 488.7819146,
                        "learn": [
                          0.9066993766
                        ]
                      },
                      {
                        "passed_time": 128.1377458,
                        "iteration": 207,
                        "remaining_time": 487.9091089,
                        "learn": [
                          0.9052405694
                        ]
                      },
                      {
                        "passed_time": 128.7270453,
                        "iteration": 208,
                        "remaining_time": 487.1918318,
                        "learn": [
                          0.9035289944
                        ]
                      },
                      {
                        "passed_time": 129.3162213,
                        "iteration": 209,
                        "remaining_time": 486.4753088,
                        "learn": [
                          0.9017646632
                        ]
                      },
                      {
                        "passed_time": 129.877024,
                        "iteration": 210,
                        "remaining_time": 485.6538955,
                        "learn": [
                          0.899941668
                        ]
                      },
                      {
                        "passed_time": 130.4377125,
                        "iteration": 211,
                        "remaining_time": 484.8345164,
                        "learn": [
                          0.8985487091
                        ]
                      },
                      {
                        "passed_time": 131.0077179,
                        "iteration": 212,
                        "remaining_time": 484.0519906,
                        "learn": [
                          0.8968770827
                        ]
                      },
                      {
                        "passed_time": 131.6525395,
                        "iteration": 213,
                        "remaining_time": 483.5462432,
                        "learn": [
                          0.8952047408
                        ]
                      },
                      {
                        "passed_time": 132.2656827,
                        "iteration": 214,
                        "remaining_time": 482.9235393,
                        "learn": [
                          0.8934785059
                        ]
                      },
                      {
                        "passed_time": 132.8684514,
                        "iteration": 215,
                        "remaining_time": 482.2632681,
                        "learn": [
                          0.891812942
                        ]
                      },
                      {
                        "passed_time": 133.4359964,
                        "iteration": 216,
                        "remaining_time": 481.4764294,
                        "learn": [
                          0.8904211447
                        ]
                      },
                      {
                        "passed_time": 134.0052852,
                        "iteration": 217,
                        "remaining_time": 480.6978579,
                        "learn": [
                          0.8886461003
                        ]
                      },
                      {
                        "passed_time": 134.6655355,
                        "iteration": 218,
                        "remaining_time": 480.2455854,
                        "learn": [
                          0.8869436767
                        ]
                      },
                      {
                        "passed_time": 135.3138939,
                        "iteration": 219,
                        "remaining_time": 479.7492603,
                        "learn": [
                          0.8853952563
                        ]
                      },
                      {
                        "passed_time": 135.92594,
                        "iteration": 220,
                        "remaining_time": 479.1235622,
                        "learn": [
                          0.8836475147
                        ]
                      },
                      {
                        "passed_time": 136.5183781,
                        "iteration": 221,
                        "remaining_time": 478.4292708,
                        "learn": [
                          0.8820362279
                        ]
                      },
                      {
                        "passed_time": 137.0859745,
                        "iteration": 222,
                        "remaining_time": 477.6493373,
                        "learn": [
                          0.8805287271
                        ]
                      },
                      {
                        "passed_time": 137.6903008,
                        "iteration": 223,
                        "remaining_time": 476.998542,
                        "learn": [
                          0.8787053246
                        ]
                      },
                      {
                        "passed_time": 138.2470102,
                        "iteration": 224,
                        "remaining_time": 476.1841461,
                        "learn": [
                          0.8774306822
                        ]
                      },
                      {
                        "passed_time": 138.8576641,
                        "iteration": 225,
                        "remaining_time": 475.556779,
                        "learn": [
                          0.8758624507
                        ]
                      },
                      {
                        "passed_time": 139.4351114,
                        "iteration": 226,
                        "remaining_time": 474.8164807,
                        "learn": [
                          0.874058937
                        ]
                      },
                      {
                        "passed_time": 139.9981598,
                        "iteration": 227,
                        "remaining_time": 474.028857,
                        "learn": [
                          0.8724589992
                        ]
                      },
                      {
                        "passed_time": 140.641189,
                        "iteration": 228,
                        "remaining_time": 473.5124747,
                        "learn": [
                          0.870713516
                        ]
                      },
                      {
                        "passed_time": 141.2787213,
                        "iteration": 229,
                        "remaining_time": 472.9765887,
                        "learn": [
                          0.8693063264
                        ]
                      },
                      {
                        "passed_time": 141.9366372,
                        "iteration": 230,
                        "remaining_time": 472.5076798,
                        "learn": [
                          0.8678707957
                        ]
                      },
                      {
                        "passed_time": 142.5797071,
                        "iteration": 231,
                        "remaining_time": 471.9879961,
                        "learn": [
                          0.8664025363
                        ]
                      },
                      {
                        "passed_time": 143.2179411,
                        "iteration": 232,
                        "remaining_time": 471.4513341,
                        "learn": [
                          0.86485344
                        ]
                      },
                      {
                        "passed_time": 143.8604266,
                        "iteration": 233,
                        "remaining_time": 470.9277214,
                        "learn": [
                          0.8632648689
                        ]
                      },
                      {
                        "passed_time": 144.4911611,
                        "iteration": 234,
                        "remaining_time": 470.3648436,
                        "learn": [
                          0.861775764
                        ]
                      },
                      {
                        "passed_time": 145.1581563,
                        "iteration": 235,
                        "remaining_time": 469.9187771,
                        "learn": [
                          0.8601260716
                        ]
                      },
                      {
                        "passed_time": 145.8258203,
                        "iteration": 236,
                        "remaining_time": 469.4729995,
                        "learn": [
                          0.8585213715
                        ]
                      },
                      {
                        "passed_time": 146.4467212,
                        "iteration": 237,
                        "remaining_time": 468.8756369,
                        "learn": [
                          0.8568472189
                        ]
                      },
                      {
                        "passed_time": 147.0690037,
                        "iteration": 238,
                        "remaining_time": 468.2824761,
                        "learn": [
                          0.8557139253
                        ]
                      },
                      {
                        "passed_time": 147.6988694,
                        "iteration": 239,
                        "remaining_time": 467.7130864,
                        "learn": [
                          0.854280886
                        ]
                      },
                      {
                        "passed_time": 148.3490205,
                        "iteration": 240,
                        "remaining_time": 467.2070811,
                        "learn": [
                          0.8528444966
                        ]
                      },
                      {
                        "passed_time": 148.9800643,
                        "iteration": 241,
                        "remaining_time": 466.6400361,
                        "learn": [
                          0.8517399483
                        ]
                      },
                      {
                        "passed_time": 149.6102355,
                        "iteration": 242,
                        "remaining_time": 466.0697459,
                        "learn": [
                          0.8503457228
                        ]
                      },
                      {
                        "passed_time": 150.2676529,
                        "iteration": 243,
                        "remaining_time": 465.5833836,
                        "learn": [
                          0.8488960949
                        ]
                      },
                      {
                        "passed_time": 150.9251309,
                        "iteration": 244,
                        "remaining_time": 465.0958116,
                        "learn": [
                          0.8472818232
                        ]
                      },
                      {
                        "passed_time": 151.5482026,
                        "iteration": 245,
                        "remaining_time": 464.5014016,
                        "learn": [
                          0.8459749989
                        ]
                      },
                      {
                        "passed_time": 152.1725395,
                        "iteration": 246,
                        "remaining_time": 463.9106162,
                        "learn": [
                          0.8444904263
                        ]
                      },
                      {
                        "passed_time": 152.7885232,
                        "iteration": 247,
                        "remaining_time": 463.2942317,
                        "learn": [
                          0.8430375628
                        ]
                      },
                      {
                        "passed_time": 153.4012713,
                        "iteration": 248,
                        "remaining_time": 462.6680913,
                        "learn": [
                          0.8414172406
                        ]
                      },
                      {
                        "passed_time": 153.996316,
                        "iteration": 249,
                        "remaining_time": 461.988948,
                        "learn": [
                          0.8400502824
                        ]
                      },
                      {
                        "passed_time": 154.6017851,
                        "iteration": 250,
                        "remaining_time": 461.3415818,
                        "learn": [
                          0.8384584991
                        ]
                      },
                      {
                        "passed_time": 155.2243305,
                        "iteration": 251,
                        "remaining_time": 460.745235,
                        "learn": [
                          0.8371914795
                        ]
                      },
                      {
                        "passed_time": 155.8465626,
                        "iteration": 252,
                        "remaining_time": 460.1477558,
                        "learn": [
                          0.8359255044
                        ]
                      },
                      {
                        "passed_time": 156.4980765,
                        "iteration": 253,
                        "remaining_time": 459.636083,
                        "learn": [
                          0.8347087139
                        ]
                      },
                      {
                        "passed_time": 157.1217709,
                        "iteration": 254,
                        "remaining_time": 459.0420366,
                        "learn": [
                          0.8335132888
                        ]
                      },
                      {
                        "passed_time": 157.7834906,
                        "iteration": 255,
                        "remaining_time": 458.5582697,
                        "learn": [
                          0.8319555563
                        ]
                      },
                      {
                        "passed_time": 158.4253238,
                        "iteration": 256,
                        "remaining_time": 458.0156248,
                        "learn": [
                          0.8306674502
                        ]
                      },
                      {
                        "passed_time": 159.0418279,
                        "iteration": 257,
                        "remaining_time": 457.3993655,
                        "learn": [
                          0.8294971731
                        ]
                      },
                      {
                        "passed_time": 159.6688239,
                        "iteration": 258,
                        "remaining_time": 456.8131217,
                        "learn": [
                          0.8285592605
                        ]
                      },
                      {
                        "passed_time": 160.314638,
                        "iteration": 259,
                        "remaining_time": 456.2801236,
                        "learn": [
                          0.8272732677
                        ]
                      },
                      {
                        "passed_time": 160.916952,
                        "iteration": 260,
                        "remaining_time": 455.6230939,
                        "learn": [
                          0.8256323761
                        ]
                      },
                      {
                        "passed_time": 161.5728274,
                        "iteration": 261,
                        "remaining_time": 455.1173536,
                        "learn": [
                          0.8241507735
                        ]
                      },
                      {
                        "passed_time": 162.2183603,
                        "iteration": 262,
                        "remaining_time": 454.5814887,
                        "learn": [
                          0.8225106696
                        ]
                      },
                      {
                        "passed_time": 162.8563313,
                        "iteration": 263,
                        "remaining_time": 454.0237115,
                        "learn": [
                          0.8210994494
                        ]
                      },
                      {
                        "passed_time": 163.5110373,
                        "iteration": 264,
                        "remaining_time": 453.5117449,
                        "learn": [
                          0.8195800749
                        ]
                      },
                      {
                        "passed_time": 164.1355955,
                        "iteration": 265,
                        "remaining_time": 452.9155153,
                        "learn": [
                          0.8180570416
                        ]
                      },
                      {
                        "passed_time": 164.7826711,
                        "iteration": 266,
                        "remaining_time": 452.3808912,
                        "learn": [
                          0.816583958
                        ]
                      },
                      {
                        "passed_time": 165.4511106,
                        "iteration": 267,
                        "remaining_time": 451.9037796,
                        "learn": [
                          0.8151794857
                        ]
                      },
                      {
                        "passed_time": 166.0760701,
                        "iteration": 268,
                        "remaining_time": 451.3070901,
                        "learn": [
                          0.8136918754
                        ]
                      },
                      {
                        "passed_time": 166.7560566,
                        "iteration": 269,
                        "remaining_time": 450.8589679,
                        "learn": [
                          0.812125172
                        ]
                      },
                      {
                        "passed_time": 167.3831727,
                        "iteration": 270,
                        "remaining_time": 450.2669111,
                        "learn": [
                          0.8106299784
                        ]
                      },
                      {
                        "passed_time": 168.0377987,
                        "iteration": 271,
                        "remaining_time": 449.7482259,
                        "learn": [
                          0.8094694193
                        ]
                      },
                      {
                        "passed_time": 168.6830878,
                        "iteration": 272,
                        "remaining_time": 449.2036808,
                        "learn": [
                          0.8079967263
                        ]
                      },
                      {
                        "passed_time": 169.3212859,
                        "iteration": 273,
                        "remaining_time": 448.6396115,
                        "learn": [
                          0.8066136364
                        ]
                      },
                      {
                        "passed_time": 170.0153051,
                        "iteration": 274,
                        "remaining_time": 448.2221681,
                        "learn": [
                          0.8049116162
                        ]
                      },
                      {
                        "passed_time": 170.6708899,
                        "iteration": 275,
                        "remaining_time": 447.7018996,
                        "learn": [
                          0.8037961866
                        ]
                      },
                      {
                        "passed_time": 171.3252518,
                        "iteration": 276,
                        "remaining_time": 447.1774622,
                        "learn": [
                          0.8023768088
                        ]
                      },
                      {
                        "passed_time": 171.9749221,
                        "iteration": 277,
                        "remaining_time": 446.6399057,
                        "learn": [
                          0.8010195903
                        ]
                      },
                      {
                        "passed_time": 172.5775711,
                        "iteration": 278,
                        "remaining_time": 445.9800314,
                        "learn": [
                          0.7995414747
                        ]
                      },
                      {
                        "passed_time": 173.1600463,
                        "iteration": 279,
                        "remaining_time": 445.2686906,
                        "learn": [
                          0.7983269656
                        ]
                      },
                      {
                        "passed_time": 173.7089105,
                        "iteration": 280,
                        "remaining_time": 444.4722655,
                        "learn": [
                          0.7971473078
                        ]
                      },
                      {
                        "passed_time": 174.3088912,
                        "iteration": 281,
                        "remaining_time": 443.8077442,
                        "learn": [
                          0.7957895483
                        ]
                      },
                      {
                        "passed_time": 174.8837424,
                        "iteration": 282,
                        "remaining_time": 443.0800116,
                        "learn": [
                          0.7945129804
                        ]
                      },
                      {
                        "passed_time": 175.4306522,
                        "iteration": 283,
                        "remaining_time": 442.282912,
                        "learn": [
                          0.7933417779
                        ]
                      },
                      {
                        "passed_time": 175.9852352,
                        "iteration": 284,
                        "remaining_time": 441.5068182,
                        "learn": [
                          0.7920084198
                        ]
                      },
                      {
                        "passed_time": 176.5523249,
                        "iteration": 285,
                        "remaining_time": 440.7634965,
                        "learn": [
                          0.7907833531
                        ]
                      },
                      {
                        "passed_time": 177.1304173,
                        "iteration": 286,
                        "remaining_time": 440.0487371,
                        "learn": [
                          0.7896143502
                        ]
                      },
                      {
                        "passed_time": 177.7075762,
                        "iteration": 287,
                        "remaining_time": 439.3326188,
                        "learn": [
                          0.7883825378
                        ]
                      },
                      {
                        "passed_time": 178.3431269,
                        "iteration": 288,
                        "remaining_time": 438.7611185,
                        "learn": [
                          0.7868732225
                        ]
                      },
                      {
                        "passed_time": 178.9873422,
                        "iteration": 289,
                        "remaining_time": 438.2103896,
                        "learn": [
                          0.7856489736
                        ]
                      },
                      {
                        "passed_time": 179.6130275,
                        "iteration": 290,
                        "remaining_time": 437.6138711,
                        "learn": [
                          0.7843210682
                        ]
                      },
                      {
                        "passed_time": 180.2658782,
                        "iteration": 291,
                        "remaining_time": 437.0830196,
                        "learn": [
                          0.7829844034
                        ]
                      },
                      {
                        "passed_time": 180.8355182,
                        "iteration": 292,
                        "remaining_time": 436.3505509,
                        "learn": [
                          0.7817272148
                        ]
                      },
                      {
                        "passed_time": 181.4175065,
                        "iteration": 293,
                        "remaining_time": 435.6488422,
                        "learn": [
                          0.7806976574
                        ]
                      },
                      {
                        "passed_time": 181.9547742,
                        "iteration": 294,
                        "remaining_time": 434.8410707,
                        "learn": [
                          0.7794894416
                        ]
                      },
                      {
                        "passed_time": 182.554935,
                        "iteration": 295,
                        "remaining_time": 434.1847102,
                        "learn": [
                          0.7782986134
                        ]
                      },
                      {
                        "passed_time": 183.217437,
                        "iteration": 296,
                        "remaining_time": 433.6762904,
                        "learn": [
                          0.7769339234
                        ]
                      },
                      {
                        "passed_time": 183.7834667,
                        "iteration": 297,
                        "remaining_time": 432.9395759,
                        "learn": [
                          0.7759583104
                        ]
                      },
                      {
                        "passed_time": 184.3591281,
                        "iteration": 298,
                        "remaining_time": 432.2265846,
                        "learn": [
                          0.7751368876
                        ]
                      },
                      {
                        "passed_time": 184.9331227,
                        "iteration": 299,
                        "remaining_time": 431.5106195,
                        "learn": [
                          0.7738308215
                        ]
                      },
                      {
                        "passed_time": 185.5065613,
                        "iteration": 300,
                        "remaining_time": 430.7943068,
                        "learn": [
                          0.7728437251
                        ]
                      },
                      {
                        "passed_time": 186.058439,
                        "iteration": 301,
                        "remaining_time": 430.0291075,
                        "learn": [
                          0.7717128307
                        ]
                      },
                      {
                        "passed_time": 186.7247682,
                        "iteration": 302,
                        "remaining_time": 429.5285922,
                        "learn": [
                          0.7704151651
                        ]
                      },
                      {
                        "passed_time": 187.3663515,
                        "iteration": 303,
                        "remaining_time": 428.9703311,
                        "learn": [
                          0.7690756457
                        ]
                      },
                      {
                        "passed_time": 188.000408,
                        "iteration": 304,
                        "remaining_time": 428.3943722,
                        "learn": [
                          0.7679079088
                        ]
                      },
                      {
                        "passed_time": 188.6750059,
                        "iteration": 305,
                        "remaining_time": 427.9099807,
                        "learn": [
                          0.7665631267
                        ]
                      },
                      {
                        "passed_time": 189.3115222,
                        "iteration": 306,
                        "remaining_time": 427.3383873,
                        "learn": [
                          0.7653553875
                        ]
                      },
                      {
                        "passed_time": 189.9693082,
                        "iteration": 307,
                        "remaining_time": 426.8141599,
                        "learn": [
                          0.7639198691
                        ]
                      },
                      {
                        "passed_time": 190.5938326,
                        "iteration": 308,
                        "remaining_time": 426.214687,
                        "learn": [
                          0.7625075194
                        ]
                      },
                      {
                        "passed_time": 191.1734939,
                        "iteration": 309,
                        "remaining_time": 425.5151962,
                        "learn": [
                          0.761352892
                        ]
                      },
                      {
                        "passed_time": 191.8275402,
                        "iteration": 310,
                        "remaining_time": 424.9812706,
                        "learn": [
                          0.7600990822
                        ]
                      },
                      {
                        "passed_time": 192.4569652,
                        "iteration": 311,
                        "remaining_time": 424.3922823,
                        "learn": [
                          0.7591806629
                        ]
                      },
                      {
                        "passed_time": 193.0856106,
                        "iteration": 312,
                        "remaining_time": 423.8013242,
                        "learn": [
                          0.7579507548
                        ]
                      },
                      {
                        "passed_time": 193.7635926,
                        "iteration": 313,
                        "remaining_time": 423.3179124,
                        "learn": [
                          0.756332497
                        ]
                      },
                      {
                        "passed_time": 194.3909445,
                        "iteration": 314,
                        "remaining_time": 422.723165,
                        "learn": [
                          0.7553550926
                        ]
                      },
                      {
                        "passed_time": 195.0421391,
                        "iteration": 315,
                        "remaining_time": 422.1798202,
                        "learn": [
                          0.7540464815
                        ]
                      },
                      {
                        "passed_time": 195.6759998,
                        "iteration": 316,
                        "remaining_time": 421.5984475,
                        "learn": [
                          0.7531199107
                        ]
                      },
                      {
                        "passed_time": 196.3048416,
                        "iteration": 317,
                        "remaining_time": 421.005981,
                        "learn": [
                          0.752126011
                        ]
                      },
                      {
                        "passed_time": 196.9393038,
                        "iteration": 318,
                        "remaining_time": 420.425285,
                        "learn": [
                          0.7510165807
                        ]
                      },
                      {
                        "passed_time": 197.5472026,
                        "iteration": 319,
                        "remaining_time": 419.7878054,
                        "learn": [
                          0.7496297145
                        ]
                      },
                      {
                        "passed_time": 198.2018098,
                        "iteration": 320,
                        "remaining_time": 419.249311,
                        "learn": [
                          0.7482461951
                        ]
                      },
                      {
                        "passed_time": 198.8526869,
                        "iteration": 321,
                        "remaining_time": 418.7022413,
                        "learn": [
                          0.7467734055
                        ]
                      },
                      {
                        "passed_time": 199.5140641,
                        "iteration": 322,
                        "remaining_time": 418.1765369,
                        "learn": [
                          0.7455298468
                        ]
                      },
                      {
                        "passed_time": 200.2024975,
                        "iteration": 323,
                        "remaining_time": 417.7064454,
                        "learn": [
                          0.7442642396
                        ]
                      },
                      {
                        "passed_time": 200.8248166,
                        "iteration": 324,
                        "remaining_time": 417.097696,
                        "learn": [
                          0.743320187
                        ]
                      },
                      {
                        "passed_time": 201.4459167,
                        "iteration": 325,
                        "remaining_time": 416.4863432,
                        "learn": [
                          0.7421629703
                        ]
                      },
                      {
                        "passed_time": 202.0666367,
                        "iteration": 326,
                        "remaining_time": 415.8741483,
                        "learn": [
                          0.7408097388
                        ]
                      },
                      {
                        "passed_time": 202.655968,
                        "iteration": 327,
                        "remaining_time": 415.197593,
                        "learn": [
                          0.7395193688
                        ]
                      },
                      {
                        "passed_time": 203.2348141,
                        "iteration": 328,
                        "remaining_time": 414.5001832,
                        "learn": [
                          0.7383281119
                        ]
                      },
                      {
                        "passed_time": 203.8208319,
                        "iteration": 329,
                        "remaining_time": 413.8180527,
                        "learn": [
                          0.7371193675
                        ]
                      },
                      {
                        "passed_time": 204.4176528,
                        "iteration": 330,
                        "remaining_time": 413.1583376,
                        "learn": [
                          0.7357543878
                        ]
                      },
                      {
                        "passed_time": 205.022136,
                        "iteration": 331,
                        "remaining_time": 412.5144182,
                        "learn": [
                          0.7345141572
                        ]
                      },
                      {
                        "passed_time": 205.591593,
                        "iteration": 332,
                        "remaining_time": 411.8005782,
                        "learn": [
                          0.7333146562
                        ]
                      },
                      {
                        "passed_time": 206.2340009,
                        "iteration": 333,
                        "remaining_time": 411.2330677,
                        "learn": [
                          0.7321659406
                        ]
                      },
                      {
                        "passed_time": 206.8320625,
                        "iteration": 334,
                        "remaining_time": 410.5770793,
                        "learn": [
                          0.7311656537
                        ]
                      },
                      {
                        "passed_time": 207.432468,
                        "iteration": 335,
                        "remaining_time": 409.9260678,
                        "learn": [
                          0.7302215782
                        ]
                      },
                      {
                        "passed_time": 208.0102179,
                        "iteration": 336,
                        "remaining_time": 409.2307848,
                        "learn": [
                          0.7292996343
                        ]
                      },
                      {
                        "passed_time": 208.6830962,
                        "iteration": 337,
                        "remaining_time": 408.7225138,
                        "learn": [
                          0.7280824959
                        ]
                      },
                      {
                        "passed_time": 209.3360407,
                        "iteration": 338,
                        "remaining_time": 408.1744038,
                        "learn": [
                          0.726712258
                        ]
                      },
                      {
                        "passed_time": 209.9521613,
                        "iteration": 339,
                        "remaining_time": 407.5541955,
                        "learn": [
                          0.7255524289
                        ]
                      },
                      {
                        "passed_time": 210.5415868,
                        "iteration": 340,
                        "remaining_time": 406.8824214,
                        "learn": [
                          0.7245193633
                        ]
                      },
                      {
                        "passed_time": 211.1287251,
                        "iteration": 341,
                        "remaining_time": 406.2067284,
                        "learn": [
                          0.7234069254
                        ]
                      },
                      {
                        "passed_time": 211.7786816,
                        "iteration": 342,
                        "remaining_time": 405.651877,
                        "learn": [
                          0.7223293026
                        ]
                      },
                      {
                        "passed_time": 212.4444907,
                        "iteration": 343,
                        "remaining_time": 405.1267031,
                        "learn": [
                          0.7211498202
                        ]
                      },
                      {
                        "passed_time": 213.0591607,
                        "iteration": 344,
                        "remaining_time": 404.5036239,
                        "learn": [
                          0.7203626511
                        ]
                      },
                      {
                        "passed_time": 213.6861321,
                        "iteration": 345,
                        "remaining_time": 403.9038451,
                        "learn": [
                          0.7190884526
                        ]
                      },
                      {
                        "passed_time": 214.2893943,
                        "iteration": 346,
                        "remaining_time": 403.2592925,
                        "learn": [
                          0.7178386756
                        ]
                      },
                      {
                        "passed_time": 214.8639396,
                        "iteration": 347,
                        "remaining_time": 402.5611742,
                        "learn": [
                          0.716923079
                        ]
                      },
                      {
                        "passed_time": 215.4700487,
                        "iteration": 348,
                        "remaining_time": 401.922641,
                        "learn": [
                          0.7156969473
                        ]
                      },
                      {
                        "passed_time": 216.0283677,
                        "iteration": 349,
                        "remaining_time": 401.19554,
                        "learn": [
                          0.7148276575
                        ]
                      },
                      {
                        "passed_time": 216.6841853,
                        "iteration": 350,
                        "remaining_time": 400.6496759,
                        "learn": [
                          0.7138985129
                        ]
                      },
                      {
                        "passed_time": 217.2842163,
                        "iteration": 351,
                        "remaining_time": 400.0004892,
                        "learn": [
                          0.7126282537
                        ]
                      },
                      {
                        "passed_time": 217.8981941,
                        "iteration": 352,
                        "remaining_time": 399.3771434,
                        "learn": [
                          0.7115984014
                        ]
                      },
                      {
                        "passed_time": 218.4416314,
                        "iteration": 353,
                        "remaining_time": 398.6251239,
                        "learn": [
                          0.7107463502
                        ]
                      },
                      {
                        "passed_time": 219.0118362,
                        "iteration": 354,
                        "remaining_time": 397.9229137,
                        "learn": [
                          0.7095043608
                        ]
                      },
                      {
                        "passed_time": 219.6882006,
                        "iteration": 355,
                        "remaining_time": 397.4134865,
                        "learn": [
                          0.7082100598
                        ]
                      },
                      {
                        "passed_time": 220.2772234,
                        "iteration": 356,
                        "remaining_time": 396.7458114,
                        "learn": [
                          0.707244137
                        ]
                      },
                      {
                        "passed_time": 220.8762307,
                        "iteration": 357,
                        "remaining_time": 396.0964807,
                        "learn": [
                          0.7061400276
                        ]
                      },
                      {
                        "passed_time": 221.5064949,
                        "iteration": 358,
                        "remaining_time": 395.5032402,
                        "learn": [
                          0.7050577282
                        ]
                      },
                      {
                        "passed_time": 222.1669936,
                        "iteration": 359,
                        "remaining_time": 394.9635442,
                        "learn": [
                          0.7037595831
                        ]
                      },
                      {
                        "passed_time": 222.8318153,
                        "iteration": 360,
                        "remaining_time": 394.4308309,
                        "learn": [
                          0.7025830713
                        ]
                      },
                      {
                        "passed_time": 223.4888901,
                        "iteration": 361,
                        "remaining_time": 393.8837344,
                        "learn": [
                          0.7012953279
                        ]
                      },
                      {
                        "passed_time": 224.1523462,
                        "iteration": 362,
                        "remaining_time": 393.3472301,
                        "learn": [
                          0.7003275938
                        ]
                      },
                      {
                        "passed_time": 224.8194941,
                        "iteration": 363,
                        "remaining_time": 392.8164786,
                        "learn": [
                          0.6992541954
                        ]
                      },
                      {
                        "passed_time": 225.4219263,
                        "iteration": 364,
                        "remaining_time": 392.1723924,
                        "learn": [
                          0.6983417879
                        ]
                      },
                      {
                        "passed_time": 226.0875192,
                        "iteration": 365,
                        "remaining_time": 391.637943,
                        "learn": [
                          0.6973593306
                        ]
                      },
                      {
                        "passed_time": 226.7151839,
                        "iteration": 366,
                        "remaining_time": 391.0373608,
                        "learn": [
                          0.6965266043
                        ]
                      },
                      {
                        "passed_time": 227.3528207,
                        "iteration": 367,
                        "remaining_time": 390.4537572,
                        "learn": [
                          0.6958376253
                        ]
                      },
                      {
                        "passed_time": 228.0038698,
                        "iteration": 368,
                        "remaining_time": 389.8927963,
                        "learn": [
                          0.695008902
                        ]
                      },
                      {
                        "passed_time": 228.6283,
                        "iteration": 369,
                        "remaining_time": 389.2860244,
                        "learn": [
                          0.6940322519
                        ]
                      },
                      {
                        "passed_time": 229.2710671,
                        "iteration": 370,
                        "remaining_time": 388.7102458,
                        "learn": [
                          0.6933274288
                        ]
                      },
                      {
                        "passed_time": 229.9469331,
                        "iteration": 371,
                        "remaining_time": 388.1899839,
                        "learn": [
                          0.6920150284
                        ]
                      },
                      {
                        "passed_time": 230.5903608,
                        "iteration": 372,
                        "remaining_time": 387.6143599,
                        "learn": [
                          0.6909083719
                        ]
                      },
                      {
                        "passed_time": 231.2655876,
                        "iteration": 373,
                        "remaining_time": 387.0915984,
                        "learn": [
                          0.6897466921
                        ]
                      },
                      {
                        "passed_time": 231.9064178,
                        "iteration": 374,
                        "remaining_time": 386.5106964,
                        "learn": [
                          0.6886891193
                        ]
                      },
                      {
                        "passed_time": 232.6022799,
                        "iteration": 375,
                        "remaining_time": 386.0208049,
                        "learn": [
                          0.6874258263
                        ]
                      },
                      {
                        "passed_time": 233.2675365,
                        "iteration": 376,
                        "remaining_time": 385.4792446,
                        "learn": [
                          0.6864619012
                        ]
                      },
                      {
                        "passed_time": 233.8730816,
                        "iteration": 377,
                        "remaining_time": 384.8387745,
                        "learn": [
                          0.6854203074
                        ]
                      },
                      {
                        "passed_time": 234.5117329,
                        "iteration": 378,
                        "remaining_time": 384.2527338,
                        "learn": [
                          0.684495083
                        ]
                      },
                      {
                        "passed_time": 235.1499247,
                        "iteration": 379,
                        "remaining_time": 383.6656667,
                        "learn": [
                          0.6833393311
                        ]
                      },
                      {
                        "passed_time": 235.8082628,
                        "iteration": 380,
                        "remaining_time": 383.1110622,
                        "learn": [
                          0.6821934367
                        ]
                      },
                      {
                        "passed_time": 236.435644,
                        "iteration": 381,
                        "remaining_time": 382.5058325,
                        "learn": [
                          0.6811205415
                        ]
                      },
                      {
                        "passed_time": 237.0226417,
                        "iteration": 382,
                        "remaining_time": 381.8354306,
                        "learn": [
                          0.6799080346
                        ]
                      },
                      {
                        "passed_time": 237.6104964,
                        "iteration": 383,
                        "remaining_time": 381.1668379,
                        "learn": [
                          0.6788432586
                        ]
                      },
                      {
                        "passed_time": 238.1810261,
                        "iteration": 384,
                        "remaining_time": 380.4709898,
                        "learn": [
                          0.6777044764
                        ]
                      },
                      {
                        "passed_time": 238.7540342,
                        "iteration": 385,
                        "remaining_time": 379.7797331,
                        "learn": [
                          0.6766476894
                        ]
                      },
                      {
                        "passed_time": 239.3316162,
                        "iteration": 386,
                        "remaining_time": 379.0963326,
                        "learn": [
                          0.6758031451
                        ]
                      },
                      {
                        "passed_time": 239.9103343,
                        "iteration": 387,
                        "remaining_time": 378.4152696,
                        "learn": [
                          0.6747334924
                        ]
                      },
                      {
                        "passed_time": 240.5227043,
                        "iteration": 388,
                        "remaining_time": 377.7875895,
                        "learn": [
                          0.6736118379
                        ]
                      },
                      {
                        "passed_time": 241.1343166,
                        "iteration": 389,
                        "remaining_time": 377.1588028,
                        "learn": [
                          0.6726539731
                        ]
                      },
                      {
                        "passed_time": 241.7743214,
                        "iteration": 390,
                        "remaining_time": 376.5743267,
                        "learn": [
                          0.6715393624
                        ]
                      },
                      {
                        "passed_time": 242.3833357,
                        "iteration": 391,
                        "remaining_time": 375.9415002,
                        "learn": [
                          0.6707717934
                        ]
                      },
                      {
                        "passed_time": 243.0081948,
                        "iteration": 392,
                        "remaining_time": 375.3332678,
                        "learn": [
                          0.6697954019
                        ]
                      },
                      {
                        "passed_time": 243.6954121,
                        "iteration": 393,
                        "remaining_time": 374.8208623,
                        "learn": [
                          0.668720698
                        ]
                      },
                      {
                        "passed_time": 244.2818051,
                        "iteration": 394,
                        "remaining_time": 374.1531444,
                        "learn": [
                          0.6679229538
                        ]
                      },
                      {
                        "passed_time": 244.9318073,
                        "iteration": 395,
                        "remaining_time": 373.5828576,
                        "learn": [
                          0.6668002934
                        ]
                      },
                      {
                        "passed_time": 245.5855496,
                        "iteration": 396,
                        "remaining_time": 373.0178499,
                        "learn": [
                          0.6658119119
                        ]
                      },
                      {
                        "passed_time": 246.2517071,
                        "iteration": 397,
                        "remaining_time": 372.4711751,
                        "learn": [
                          0.6646711627
                        ]
                      },
                      {
                        "passed_time": 246.8847475,
                        "iteration": 398,
                        "remaining_time": 371.8740182,
                        "learn": [
                          0.6637980915
                        ]
                      },
                      {
                        "passed_time": 247.5075195,
                        "iteration": 399,
                        "remaining_time": 371.2612792,
                        "learn": [
                          0.6628470609
                        ]
                      },
                      {
                        "passed_time": 248.1752443,
                        "iteration": 400,
                        "remaining_time": 370.7156392,
                        "learn": [
                          0.6617041145
                        ]
                      },
                      {
                        "passed_time": 248.8272702,
                        "iteration": 401,
                        "remaining_time": 370.1460388,
                        "learn": [
                          0.660641506
                        ]
                      },
                      {
                        "passed_time": 249.4559008,
                        "iteration": 402,
                        "remaining_time": 369.5413716,
                        "learn": [
                          0.660036301
                        ]
                      },
                      {
                        "passed_time": 250.1001321,
                        "iteration": 403,
                        "remaining_time": 368.9596008,
                        "learn": [
                          0.6590698906
                        ]
                      },
                      {
                        "passed_time": 250.7320225,
                        "iteration": 404,
                        "remaining_time": 368.3593911,
                        "learn": [
                          0.6578448358
                        ]
                      },
                      {
                        "passed_time": 251.3649926,
                        "iteration": 405,
                        "remaining_time": 367.7606049,
                        "learn": [
                          0.6571315093
                        ]
                      },
                      {
                        "passed_time": 251.9987119,
                        "iteration": 406,
                        "remaining_time": 367.1627424,
                        "learn": [
                          0.656174865
                        ]
                      },
                      {
                        "passed_time": 252.6260923,
                        "iteration": 407,
                        "remaining_time": 366.5555065,
                        "learn": [
                          0.655293053
                        ]
                      },
                      {
                        "passed_time": 253.2660836,
                        "iteration": 408,
                        "remaining_time": 365.9663947,
                        "learn": [
                          0.6543168704
                        ]
                      },
                      {
                        "passed_time": 253.9071297,
                        "iteration": 409,
                        "remaining_time": 365.3785524,
                        "learn": [
                          0.6531449602
                        ]
                      },
                      {
                        "passed_time": 254.5502662,
                        "iteration": 410,
                        "remaining_time": 364.7934472,
                        "learn": [
                          0.6521257439
                        ]
                      },
                      {
                        "passed_time": 255.2078381,
                        "iteration": 411,
                        "remaining_time": 364.2286622,
                        "learn": [
                          0.650933321
                        ]
                      },
                      {
                        "passed_time": 255.8505339,
                        "iteration": 412,
                        "remaining_time": 363.6422842,
                        "learn": [
                          0.6499458159
                        ]
                      },
                      {
                        "passed_time": 256.4743754,
                        "iteration": 413,
                        "remaining_time": 363.0289469,
                        "learn": [
                          0.6489196421
                        ]
                      },
                      {
                        "passed_time": 257.0176173,
                        "iteration": 414,
                        "remaining_time": 362.3019425,
                        "learn": [
                          0.647853734
                        ]
                      },
                      {
                        "passed_time": 257.6137916,
                        "iteration": 415,
                        "remaining_time": 361.6501306,
                        "learn": [
                          0.6468651579
                        ]
                      },
                      {
                        "passed_time": 258.1838238,
                        "iteration": 416,
                        "remaining_time": 360.9620367,
                        "learn": [
                          0.6459842192
                        ]
                      },
                      {
                        "passed_time": 258.7703316,
                        "iteration": 417,
                        "remaining_time": 360.2974474,
                        "learn": [
                          0.6448234873
                        ]
                      },
                      {
                        "passed_time": 259.3631109,
                        "iteration": 418,
                        "remaining_time": 359.641927,
                        "learn": [
                          0.6435958349
                        ]
                      },
                      {
                        "passed_time": 259.9311254,
                        "iteration": 419,
                        "remaining_time": 358.9525066,
                        "learn": [
                          0.6429149138
                        ]
                      },
                      {
                        "passed_time": 260.5163423,
                        "iteration": 420,
                        "remaining_time": 358.2873212,
                        "learn": [
                          0.6419948492
                        ]
                      },
                      {
                        "passed_time": 261.0840459,
                        "iteration": 421,
                        "remaining_time": 357.5985273,
                        "learn": [
                          0.6407909405
                        ]
                      },
                      {
                        "passed_time": 261.6816234,
                        "iteration": 422,
                        "remaining_time": 356.9510561,
                        "learn": [
                          0.6397285172
                        ]
                      },
                      {
                        "passed_time": 262.2403685,
                        "iteration": 423,
                        "remaining_time": 356.2510666,
                        "learn": [
                          0.6388162553
                        ]
                      },
                      {
                        "passed_time": 262.8281531,
                        "iteration": 424,
                        "remaining_time": 355.5910307,
                        "learn": [
                          0.6379870584
                        ]
                      },
                      {
                        "passed_time": 263.4043049,
                        "iteration": 425,
                        "remaining_time": 354.9156596,
                        "learn": [
                          0.6370230852
                        ]
                      },
                      {
                        "passed_time": 263.9712958,
                        "iteration": 426,
                        "remaining_time": 354.2284601,
                        "learn": [
                          0.6362360695
                        ]
                      },
                      {
                        "passed_time": 264.7678789,
                        "iteration": 427,
                        "remaining_time": 353.8486606,
                        "learn": [
                          0.6351592625
                        ]
                      },
                      {
                        "passed_time": 265.3670208,
                        "iteration": 428,
                        "remaining_time": 353.2041232,
                        "learn": [
                          0.6343945412
                        ]
                      },
                      {
                        "passed_time": 265.9862388,
                        "iteration": 429,
                        "remaining_time": 352.5864096,
                        "learn": [
                          0.6332904446
                        ]
                      },
                      {
                        "passed_time": 266.5314124,
                        "iteration": 430,
                        "remaining_time": 351.8709365,
                        "learn": [
                          0.6326464689
                        ]
                      },
                      {
                        "passed_time": 267.1400794,
                        "iteration": 431,
                        "remaining_time": 351.239734,
                        "learn": [
                          0.631611368
                        ]
                      },
                      {
                        "passed_time": 267.7765456,
                        "iteration": 432,
                        "remaining_time": 350.6450378,
                        "learn": [
                          0.6304885449
                        ]
                      },
                      {
                        "passed_time": 268.4049263,
                        "iteration": 433,
                        "remaining_time": 350.0396043,
                        "learn": [
                          0.629573285
                        ]
                      },
                      {
                        "passed_time": 269.0740012,
                        "iteration": 434,
                        "remaining_time": 349.4869211,
                        "learn": [
                          0.628671064
                        ]
                      },
                      {
                        "passed_time": 269.6855752,
                        "iteration": 435,
                        "remaining_time": 348.8593221,
                        "learn": [
                          0.6276640163
                        ]
                      },
                      {
                        "passed_time": 270.3641583,
                        "iteration": 436,
                        "remaining_time": 348.3181262,
                        "learn": [
                          0.6267482631
                        ]
                      },
                      {
                        "passed_time": 270.9564318,
                        "iteration": 437,
                        "remaining_time": 347.6655586,
                        "learn": [
                          0.625700591
                        ]
                      },
                      {
                        "passed_time": 271.5279053,
                        "iteration": 438,
                        "remaining_time": 346.9866854,
                        "learn": [
                          0.6249528413
                        ]
                      },
                      {
                        "passed_time": 272.1378065,
                        "iteration": 439,
                        "remaining_time": 346.3572082,
                        "learn": [
                          0.623546158
                        ]
                      },
                      {
                        "passed_time": 272.6999492,
                        "iteration": 440,
                        "remaining_time": 345.6672826,
                        "learn": [
                          0.6226227832
                        ]
                      },
                      {
                        "passed_time": 273.2940099,
                        "iteration": 441,
                        "remaining_time": 345.0182297,
                        "learn": [
                          0.6216209702
                        ]
                      },
                      {
                        "passed_time": 273.8432039,
                        "iteration": 442,
                        "remaining_time": 344.3130126,
                        "learn": [
                          0.6209613062
                        ]
                      },
                      {
                        "passed_time": 274.4271667,
                        "iteration": 443,
                        "remaining_time": 343.6520375,
                        "learn": [
                          0.6201001582
                        ]
                      },
                      {
                        "passed_time": 275.0139543,
                        "iteration": 444,
                        "remaining_time": 342.9949317,
                        "learn": [
                          0.6190846409
                        ]
                      },
                      {
                        "passed_time": 275.6241789,
                        "iteration": 445,
                        "remaining_time": 342.3672537,
                        "learn": [
                          0.618348196
                        ]
                      },
                      {
                        "passed_time": 276.2386887,
                        "iteration": 446,
                        "remaining_time": 341.7449549,
                        "learn": [
                          0.6174981224
                        ]
                      },
                      {
                        "passed_time": 276.8609082,
                        "iteration": 447,
                        "remaining_time": 341.1321905,
                        "learn": [
                          0.616778435
                        ]
                      },
                      {
                        "passed_time": 277.4820705,
                        "iteration": 448,
                        "remaining_time": 340.5180865,
                        "learn": [
                          0.6157226561
                        ]
                      },
                      {
                        "passed_time": 278.0536636,
                        "iteration": 449,
                        "remaining_time": 339.8433667,
                        "learn": [
                          0.614690965
                        ]
                      },
                      {
                        "passed_time": 278.6225254,
                        "iteration": 450,
                        "remaining_time": 339.1657793,
                        "learn": [
                          0.6139331684
                        ]
                      },
                      {
                        "passed_time": 279.1889283,
                        "iteration": 451,
                        "remaining_time": 338.4856918,
                        "learn": [
                          0.6131384487
                        ]
                      },
                      {
                        "passed_time": 279.7508789,
                        "iteration": 452,
                        "remaining_time": 337.8007301,
                        "learn": [
                          0.612151437
                        ]
                      },
                      {
                        "passed_time": 280.3161983,
                        "iteration": 453,
                        "remaining_time": 337.1203618,
                        "learn": [
                          0.6113506951
                        ]
                      },
                      {
                        "passed_time": 280.8902142,
                        "iteration": 454,
                        "remaining_time": 336.4509159,
                        "learn": [
                          0.6104927608
                        ]
                      },
                      {
                        "passed_time": 281.5227109,
                        "iteration": 455,
                        "remaining_time": 335.8516551,
                        "learn": [
                          0.6097787972
                        ]
                      },
                      {
                        "passed_time": 282.1575394,
                        "iteration": 456,
                        "remaining_time": 335.2550194,
                        "learn": [
                          0.6089910675
                        ]
                      },
                      {
                        "passed_time": 282.7590743,
                        "iteration": 457,
                        "remaining_time": 334.6188171,
                        "learn": [
                          0.6080290229
                        ]
                      },
                      {
                        "passed_time": 283.3529758,
                        "iteration": 458,
                        "remaining_time": 333.9737688,
                        "learn": [
                          0.6069633708
                        ]
                      },
                      {
                        "passed_time": 283.9581067,
                        "iteration": 459,
                        "remaining_time": 333.3421253,
                        "learn": [
                          0.6061083133
                        ]
                      },
                      {
                        "passed_time": 284.5276946,
                        "iteration": 460,
                        "remaining_time": 332.6690399,
                        "learn": [
                          0.6052222589
                        ]
                      },
                      {
                        "passed_time": 285.1724903,
                        "iteration": 461,
                        "remaining_time": 332.0839822,
                        "learn": [
                          0.6043687166
                        ]
                      },
                      {
                        "passed_time": 285.8247551,
                        "iteration": 462,
                        "remaining_time": 331.5073294,
                        "learn": [
                          0.6033524228
                        ]
                      },
                      {
                        "passed_time": 286.4599612,
                        "iteration": 463,
                        "remaining_time": 330.9106448,
                        "learn": [
                          0.6025696687
                        ]
                      },
                      {
                        "passed_time": 287.1231584,
                        "iteration": 464,
                        "remaining_time": 330.3459995,
                        "learn": [
                          0.6017702514
                        ]
                      },
                      {
                        "passed_time": 287.7287039,
                        "iteration": 465,
                        "remaining_time": 329.7148667,
                        "learn": [
                          0.6009086126
                        ]
                      },
                      {
                        "passed_time": 288.3176996,
                        "iteration": 466,
                        "remaining_time": 329.0649548,
                        "learn": [
                          0.6000159058
                        ]
                      },
                      {
                        "passed_time": 288.8919707,
                        "iteration": 467,
                        "remaining_time": 328.3985649,
                        "learn": [
                          0.5989860742
                        ]
                      },
                      {
                        "passed_time": 289.4868124,
                        "iteration": 468,
                        "remaining_time": 327.755858,
                        "learn": [
                          0.5981607572
                        ]
                      },
                      {
                        "passed_time": 290.0385695,
                        "iteration": 469,
                        "remaining_time": 327.0647698,
                        "learn": [
                          0.5972581679
                        ]
                      },
                      {
                        "passed_time": 290.6002176,
                        "iteration": 470,
                        "remaining_time": 326.3853824,
                        "learn": [
                          0.5965927302
                        ]
                      },
                      {
                        "passed_time": 291.1992154,
                        "iteration": 471,
                        "remaining_time": 325.7482748,
                        "learn": [
                          0.5956888096
                        ]
                      },
                      {
                        "passed_time": 291.9301217,
                        "iteration": 472,
                        "remaining_time": 325.2582963,
                        "learn": [
                          0.5950465192
                        ]
                      },
                      {
                        "passed_time": 292.537983,
                        "iteration": 473,
                        "remaining_time": 324.6307575,
                        "learn": [
                          0.5944629336
                        ]
                      },
                      {
                        "passed_time": 293.1295377,
                        "iteration": 474,
                        "remaining_time": 323.9852785,
                        "learn": [
                          0.5936895777
                        ]
                      },
                      {
                        "passed_time": 293.7889882,
                        "iteration": 475,
                        "remaining_time": 323.4147686,
                        "learn": [
                          0.5928857991
                        ]
                      },
                      {
                        "passed_time": 294.4453836,
                        "iteration": 476,
                        "remaining_time": 322.8405359,
                        "learn": [
                          0.5921400387
                        ]
                      },
                      {
                        "passed_time": 295.031274,
                        "iteration": 477,
                        "remaining_time": 322.1889645,
                        "learn": [
                          0.5915144445
                        ]
                      },
                      {
                        "passed_time": 295.7008714,
                        "iteration": 478,
                        "remaining_time": 321.6287139,
                        "learn": [
                          0.5906341891
                        ]
                      },
                      {
                        "passed_time": 296.3254682,
                        "iteration": 479,
                        "remaining_time": 321.0192573,
                        "learn": [
                          0.5897751453
                        ]
                      },
                      {
                        "passed_time": 296.9790605,
                        "iteration": 480,
                        "remaining_time": 320.4410237,
                        "learn": [
                          0.5888499649
                        ]
                      },
                      {
                        "passed_time": 297.6382217,
                        "iteration": 481,
                        "remaining_time": 319.8684623,
                        "learn": [
                          0.5881706277
                        ]
                      },
                      {
                        "passed_time": 298.2598036,
                        "iteration": 482,
                        "remaining_time": 319.2553178,
                        "learn": [
                          0.5874128646
                        ]
                      },
                      {
                        "passed_time": 298.9241192,
                        "iteration": 483,
                        "remaining_time": 318.6876973,
                        "learn": [
                          0.5865862594
                        ]
                      },
                      {
                        "passed_time": 299.5740285,
                        "iteration": 484,
                        "remaining_time": 318.1043808,
                        "learn": [
                          0.5857769962
                        ]
                      },
                      {
                        "passed_time": 300.2205309,
                        "iteration": 485,
                        "remaining_time": 317.517187,
                        "learn": [
                          0.5850585273
                        ]
                      },
                      {
                        "passed_time": 300.8989219,
                        "iteration": 486,
                        "remaining_time": 316.9633407,
                        "learn": [
                          0.5840865447
                        ]
                      },
                      {
                        "passed_time": 301.5108435,
                        "iteration": 487,
                        "remaining_time": 316.3392456,
                        "learn": [
                          0.5834610148
                        ]
                      },
                      {
                        "passed_time": 302.1612638,
                        "iteration": 488,
                        "remaining_time": 315.7554311,
                        "learn": [
                          0.5828778054
                        ]
                      },
                      {
                        "passed_time": 302.8235175,
                        "iteration": 489,
                        "remaining_time": 315.183661,
                        "learn": [
                          0.5821682519
                        ]
                      },
                      {
                        "passed_time": 303.4353093,
                        "iteration": 490,
                        "remaining_time": 314.5592106,
                        "learn": [
                          0.5814710293
                        ]
                      },
                      {
                        "passed_time": 304.0933604,
                        "iteration": 491,
                        "remaining_time": 313.9825753,
                        "learn": [
                          0.5804810259
                        ]
                      },
                      {
                        "passed_time": 304.6940349,
                        "iteration": 492,
                        "remaining_time": 313.3466039,
                        "learn": [
                          0.5798841087
                        ]
                      },
                      {
                        "passed_time": 305.3036816,
                        "iteration": 493,
                        "remaining_time": 312.7199654,
                        "learn": [
                          0.5789353345
                        ]
                      },
                      {
                        "passed_time": 305.8460473,
                        "iteration": 494,
                        "remaining_time": 312.0247553,
                        "learn": [
                          0.5782023025
                        ]
                      },
                      {
                        "passed_time": 306.4606268,
                        "iteration": 495,
                        "remaining_time": 311.4035402,
                        "learn": [
                          0.5774661205
                        ]
                      },
                      {
                        "passed_time": 307.1371586,
                        "iteration": 496,
                        "remaining_time": 310.8450519,
                        "learn": [
                          0.5767322381
                        ]
                      },
                      {
                        "passed_time": 307.7609871,
                        "iteration": 497,
                        "remaining_time": 310.2329629,
                        "learn": [
                          0.5758324317
                        ]
                      },
                      {
                        "passed_time": 308.398172,
                        "iteration": 498,
                        "remaining_time": 309.6342368,
                        "learn": [
                          0.575012457
                        ]
                      },
                      {
                        "passed_time": 308.9795592,
                        "iteration": 499,
                        "remaining_time": 308.9795592,
                        "learn": [
                          0.5742915195
                        ]
                      },
                      {
                        "passed_time": 309.5940729,
                        "iteration": 500,
                        "remaining_time": 308.3581685,
                        "learn": [
                          0.5737040544
                        ]
                      },
                      {
                        "passed_time": 310.2885461,
                        "iteration": 501,
                        "remaining_time": 307.8161275,
                        "learn": [
                          0.5727928143
                        ]
                      },
                      {
                        "passed_time": 310.9263989,
                        "iteration": 502,
                        "remaining_time": 307.2175353,
                        "learn": [
                          0.5718118915
                        ]
                      },
                      {
                        "passed_time": 311.5702973,
                        "iteration": 503,
                        "remaining_time": 306.6247371,
                        "learn": [
                          0.570967113
                        ]
                      },
                      {
                        "passed_time": 312.1313383,
                        "iteration": 504,
                        "remaining_time": 305.9505198,
                        "learn": [
                          0.5703283473
                        ]
                      },
                      {
                        "passed_time": 312.8307526,
                        "iteration": 505,
                        "remaining_time": 305.4118415,
                        "learn": [
                          0.5694568837
                        ]
                      },
                      {
                        "passed_time": 313.4770615,
                        "iteration": 506,
                        "remaining_time": 304.8208902,
                        "learn": [
                          0.5686049652
                        ]
                      },
                      {
                        "passed_time": 314.1124738,
                        "iteration": 507,
                        "remaining_time": 304.2191676,
                        "learn": [
                          0.5678262679
                        ]
                      },
                      {
                        "passed_time": 314.7891608,
                        "iteration": 508,
                        "remaining_time": 303.6571276,
                        "learn": [
                          0.5672756253
                        ]
                      },
                      {
                        "passed_time": 315.4507373,
                        "iteration": 509,
                        "remaining_time": 303.0801202,
                        "learn": [
                          0.5663141063
                        ]
                      },
                      {
                        "passed_time": 316.0846781,
                        "iteration": 510,
                        "remaining_time": 302.4763358,
                        "learn": [
                          0.5655326509
                        ]
                      },
                      {
                        "passed_time": 316.6922891,
                        "iteration": 511,
                        "remaining_time": 301.847338,
                        "learn": [
                          0.5648011249
                        ]
                      },
                      {
                        "passed_time": 317.2670428,
                        "iteration": 512,
                        "remaining_time": 301.1872316,
                        "learn": [
                          0.5638465867
                        ]
                      },
                      {
                        "passed_time": 317.8739382,
                        "iteration": 513,
                        "remaining_time": 300.5578482,
                        "learn": [
                          0.5630137473
                        ]
                      },
                      {
                        "passed_time": 318.4670054,
                        "iteration": 514,
                        "remaining_time": 299.9155293,
                        "learn": [
                          0.56209598
                        ]
                      },
                      {
                        "passed_time": 319.1409892,
                        "iteration": 515,
                        "remaining_time": 299.3493,
                        "learn": [
                          0.5610798086
                        ]
                      },
                      {
                        "passed_time": 319.7824178,
                        "iteration": 516,
                        "remaining_time": 298.7522395,
                        "learn": [
                          0.5602764239
                        ]
                      },
                      {
                        "passed_time": 320.4167276,
                        "iteration": 517,
                        "remaining_time": 298.1483836,
                        "learn": [
                          0.5593292927
                        ]
                      },
                      {
                        "passed_time": 321.0552261,
                        "iteration": 518,
                        "remaining_time": 297.5482924,
                        "learn": [
                          0.5585504625
                        ]
                      },
                      {
                        "passed_time": 321.7101247,
                        "iteration": 519,
                        "remaining_time": 296.9631921,
                        "learn": [
                          0.557798304
                        ]
                      },
                      {
                        "passed_time": 322.3662226,
                        "iteration": 520,
                        "remaining_time": 296.3789263,
                        "learn": [
                          0.5569176348
                        ]
                      },
                      {
                        "passed_time": 323.0443683,
                        "iteration": 521,
                        "remaining_time": 295.8145748,
                        "learn": [
                          0.5563074389
                        ]
                      },
                      {
                        "passed_time": 323.6733604,
                        "iteration": 522,
                        "remaining_time": 295.2049578,
                        "learn": [
                          0.5556754251
                        ]
                      },
                      {
                        "passed_time": 324.3451098,
                        "iteration": 523,
                        "remaining_time": 294.6341073,
                        "learn": [
                          0.5548565126
                        ]
                      },
                      {
                        "passed_time": 325.0092499,
                        "iteration": 524,
                        "remaining_time": 294.055988,
                        "learn": [
                          0.5540302393
                        ]
                      },
                      {
                        "passed_time": 325.6245489,
                        "iteration": 525,
                        "remaining_time": 293.4335289,
                        "learn": [
                          0.5532731751
                        ]
                      },
                      {
                        "passed_time": 326.2874959,
                        "iteration": 526,
                        "remaining_time": 292.8538626,
                        "learn": [
                          0.552551881
                        ]
                      },
                      {
                        "passed_time": 326.9046105,
                        "iteration": 527,
                        "remaining_time": 292.2329094,
                        "learn": [
                          0.5519726594
                        ]
                      },
                      {
                        "passed_time": 327.549124,
                        "iteration": 528,
                        "remaining_time": 291.6363656,
                        "learn": [
                          0.5512240346
                        ]
                      },
                      {
                        "passed_time": 328.2159517,
                        "iteration": 529,
                        "remaining_time": 291.0594289,
                        "learn": [
                          0.5503752532
                        ]
                      },
                      {
                        "passed_time": 328.8468103,
                        "iteration": 530,
                        "remaining_time": 290.4503842,
                        "learn": [
                          0.5495477939
                        ]
                      },
                      {
                        "passed_time": 329.5146002,
                        "iteration": 531,
                        "remaining_time": 289.8737461,
                        "learn": [
                          0.548820741
                        ]
                      },
                      {
                        "passed_time": 330.1445797,
                        "iteration": 532,
                        "remaining_time": 289.2636374,
                        "learn": [
                          0.5480630938
                        ]
                      },
                      {
                        "passed_time": 330.7951487,
                        "iteration": 533,
                        "remaining_time": 288.6714219,
                        "learn": [
                          0.5474256241
                        ]
                      },
                      {
                        "passed_time": 331.4486032,
                        "iteration": 534,
                        "remaining_time": 288.0814962,
                        "learn": [
                          0.5467520687
                        ]
                      },
                      {
                        "passed_time": 332.0278151,
                        "iteration": 535,
                        "remaining_time": 287.4270638,
                        "learn": [
                          0.5459125578
                        ]
                      },
                      {
                        "passed_time": 332.6158337,
                        "iteration": 536,
                        "remaining_time": 286.7805047,
                        "learn": [
                          0.5451568995
                        ]
                      },
                      {
                        "passed_time": 333.2190077,
                        "iteration": 537,
                        "remaining_time": 286.1471776,
                        "learn": [
                          0.5446144878
                        ]
                      },
                      {
                        "passed_time": 333.8898368,
                        "iteration": 538,
                        "remaining_time": 285.571827,
                        "learn": [
                          0.5438120979
                        ]
                      },
                      {
                        "passed_time": 334.5230846,
                        "iteration": 539,
                        "remaining_time": 284.9641091,
                        "learn": [
                          0.5433167177
                        ]
                      },
                      {
                        "passed_time": 335.1056141,
                        "iteration": 540,
                        "remaining_time": 284.3132659,
                        "learn": [
                          0.5425620726
                        ]
                      },
                      {
                        "passed_time": 335.6992243,
                        "iteration": 541,
                        "remaining_time": 283.6720382,
                        "learn": [
                          0.5417216584
                        ]
                      },
                      {
                        "passed_time": 336.3487759,
                        "iteration": 542,
                        "remaining_time": 283.0780674,
                        "learn": [
                          0.5407064621
                        ]
                      },
                      {
                        "passed_time": 336.9820247,
                        "iteration": 543,
                        "remaining_time": 282.4702265,
                        "learn": [
                          0.5401664698
                        ]
                      },
                      {
                        "passed_time": 337.5885012,
                        "iteration": 544,
                        "remaining_time": 281.8399414,
                        "learn": [
                          0.5395324309
                        ]
                      },
                      {
                        "passed_time": 338.2481217,
                        "iteration": 545,
                        "remaining_time": 281.2539327,
                        "learn": [
                          0.5387701807
                        ]
                      },
                      {
                        "passed_time": 338.9138982,
                        "iteration": 546,
                        "remaining_time": 280.672753,
                        "learn": [
                          0.5379703544
                        ]
                      },
                      {
                        "passed_time": 339.5347347,
                        "iteration": 547,
                        "remaining_time": 280.0541973,
                        "learn": [
                          0.5373744303
                        ]
                      },
                      {
                        "passed_time": 340.1742734,
                        "iteration": 548,
                        "remaining_time": 279.4509969,
                        "learn": [
                          0.536713728
                        ]
                      },
                      {
                        "passed_time": 340.836553,
                        "iteration": 549,
                        "remaining_time": 278.8662707,
                        "learn": [
                          0.5358261979
                        ]
                      },
                      {
                        "passed_time": 341.5034583,
                        "iteration": 550,
                        "remaining_time": 278.2850323,
                        "learn": [
                          0.5351662091
                        ]
                      },
                      {
                        "passed_time": 342.1509962,
                        "iteration": 551,
                        "remaining_time": 277.687765,
                        "learn": [
                          0.534222302
                        ]
                      },
                      {
                        "passed_time": 342.7239712,
                        "iteration": 552,
                        "remaining_time": 277.0300455,
                        "learn": [
                          0.5335783333
                        ]
                      },
                      {
                        "passed_time": 343.2953159,
                        "iteration": 553,
                        "remaining_time": 276.3713193,
                        "learn": [
                          0.5329159486
                        ]
                      },
                      {
                        "passed_time": 343.8731363,
                        "iteration": 554,
                        "remaining_time": 275.7181003,
                        "learn": [
                          0.5321381803
                        ]
                      },
                      {
                        "passed_time": 344.5310216,
                        "iteration": 555,
                        "remaining_time": 275.1290892,
                        "learn": [
                          0.53149017
                        ]
                      },
                      {
                        "passed_time": 345.1656094,
                        "iteration": 556,
                        "remaining_time": 274.5213016,
                        "learn": [
                          0.5307949704
                        ]
                      },
                      {
                        "passed_time": 345.8031804,
                        "iteration": 557,
                        "remaining_time": 273.9157809,
                        "learn": [
                          0.5300177903
                        ]
                      },
                      {
                        "passed_time": 346.467263,
                        "iteration": 558,
                        "remaining_time": 273.3310608,
                        "learn": [
                          0.5293323496
                        ]
                      },
                      {
                        "passed_time": 347.0943415,
                        "iteration": 559,
                        "remaining_time": 272.7169826,
                        "learn": [
                          0.5287109369
                        ]
                      },
                      {
                        "passed_time": 347.7664021,
                        "iteration": 560,
                        "remaining_time": 272.138058,
                        "learn": [
                          0.5279506344
                        ]
                      },
                      {
                        "passed_time": 348.4382354,
                        "iteration": 561,
                        "remaining_time": 271.5586248,
                        "learn": [
                          0.52700861
                        ]
                      },
                      {
                        "passed_time": 349.0578057,
                        "iteration": 562,
                        "remaining_time": 270.9382968,
                        "learn": [
                          0.526425012
                        ]
                      },
                      {
                        "passed_time": 349.6980272,
                        "iteration": 563,
                        "remaining_time": 270.3339359,
                        "learn": [
                          0.5260402935
                        ]
                      },
                      {
                        "passed_time": 350.2967228,
                        "iteration": 564,
                        "remaining_time": 269.6974769,
                        "learn": [
                          0.5255216388
                        ]
                      },
                      {
                        "passed_time": 350.9447404,
                        "iteration": 565,
                        "remaining_time": 269.0989706,
                        "learn": [
                          0.5247312924
                        ]
                      },
                      {
                        "passed_time": 351.5887187,
                        "iteration": 566,
                        "remaining_time": 268.4972049,
                        "learn": [
                          0.523927493
                        ]
                      },
                      {
                        "passed_time": 352.2400205,
                        "iteration": 567,
                        "remaining_time": 267.9008607,
                        "learn": [
                          0.5232356907
                        ]
                      },
                      {
                        "passed_time": 352.9361494,
                        "iteration": 568,
                        "remaining_time": 267.3382784,
                        "learn": [
                          0.5223766525
                        ]
                      },
                      {
                        "passed_time": 353.5590149,
                        "iteration": 569,
                        "remaining_time": 266.7199586,
                        "learn": [
                          0.5217220115
                        ]
                      },
                      {
                        "passed_time": 354.2318021,
                        "iteration": 570,
                        "remaining_time": 266.1391298,
                        "learn": [
                          0.5211909212
                        ]
                      },
                      {
                        "passed_time": 354.9160045,
                        "iteration": 571,
                        "remaining_time": 265.5665208,
                        "learn": [
                          0.5202838071
                        ]
                      },
                      {
                        "passed_time": 355.5307907,
                        "iteration": 572,
                        "remaining_time": 264.9417934,
                        "learn": [
                          0.519625144
                        ]
                      },
                      {
                        "passed_time": 356.2147456,
                        "iteration": 573,
                        "remaining_time": 264.3684349,
                        "learn": [
                          0.5188428697
                        ]
                      },
                      {
                        "passed_time": 356.8544395,
                        "iteration": 574,
                        "remaining_time": 263.7619771,
                        "learn": [
                          0.5181237189
                        ]
                      },
                      {
                        "passed_time": 357.4487262,
                        "iteration": 575,
                        "remaining_time": 263.121979,
                        "learn": [
                          0.5174073012
                        ]
                      },
                      {
                        "passed_time": 358.0960814,
                        "iteration": 576,
                        "remaining_time": 262.5210441,
                        "learn": [
                          0.5170010233
                        ]
                      },
                      {
                        "passed_time": 358.7070159,
                        "iteration": 577,
                        "remaining_time": 261.8933576,
                        "learn": [
                          0.5163090837
                        ]
                      },
                      {
                        "passed_time": 359.3600559,
                        "iteration": 578,
                        "remaining_time": 261.2963446,
                        "learn": [
                          0.5155919069
                        ]
                      },
                      {
                        "passed_time": 359.966165,
                        "iteration": 579,
                        "remaining_time": 260.665154,
                        "learn": [
                          0.5149288829
                        ]
                      },
                      {
                        "passed_time": 360.6466092,
                        "iteration": 580,
                        "remaining_time": 260.0876579,
                        "learn": [
                          0.5142874746
                        ]
                      },
                      {
                        "passed_time": 361.2957727,
                        "iteration": 581,
                        "remaining_time": 259.4873419,
                        "learn": [
                          0.513723887
                        ]
                      },
                      {
                        "passed_time": 361.9097661,
                        "iteration": 582,
                        "remaining_time": 258.8617023,
                        "learn": [
                          0.5132101642
                        ]
                      },
                      {
                        "passed_time": 362.5509192,
                        "iteration": 583,
                        "remaining_time": 258.2554493,
                        "learn": [
                          0.5124398054
                        ]
                      },
                      {
                        "passed_time": 363.1026367,
                        "iteration": 584,
                        "remaining_time": 257.5856311,
                        "learn": [
                          0.5117040645
                        ]
                      },
                      {
                        "passed_time": 363.6795214,
                        "iteration": 585,
                        "remaining_time": 256.9339964,
                        "learn": [
                          0.5111793611
                        ]
                      },
                      {
                        "passed_time": 364.2664031,
                        "iteration": 586,
                        "remaining_time": 256.2896499,
                        "learn": [
                          0.510625803
                        ]
                      },
                      {
                        "passed_time": 364.8112866,
                        "iteration": 587,
                        "remaining_time": 255.6160716,
                        "learn": [
                          0.5100838155
                        ]
                      },
                      {
                        "passed_time": 365.4170998,
                        "iteration": 588,
                        "remaining_time": 254.9854465,
                        "learn": [
                          0.5094875393
                        ]
                      },
                      {
                        "passed_time": 365.9816184,
                        "iteration": 589,
                        "remaining_time": 254.3262094,
                        "learn": [
                          0.5087675725
                        ]
                      },
                      {
                        "passed_time": 366.5861374,
                        "iteration": 590,
                        "remaining_time": 253.6949749,
                        "learn": [
                          0.5082045616
                        ]
                      },
                      {
                        "passed_time": 367.2194724,
                        "iteration": 591,
                        "remaining_time": 253.0836905,
                        "learn": [
                          0.5075047898
                        ]
                      },
                      {
                        "passed_time": 367.8801769,
                        "iteration": 592,
                        "remaining_time": 252.4911163,
                        "learn": [
                          0.5068873289
                        ]
                      },
                      {
                        "passed_time": 368.5124286,
                        "iteration": 593,
                        "remaining_time": 251.8788653,
                        "learn": [
                          0.5062990773
                        ]
                      },
                      {
                        "passed_time": 369.0901852,
                        "iteration": 594,
                        "remaining_time": 251.2294538,
                        "learn": [
                          0.5057503063
                        ]
                      },
                      {
                        "passed_time": 369.6831319,
                        "iteration": 595,
                        "remaining_time": 250.5905793,
                        "learn": [
                          0.5049925427
                        ]
                      },
                      {
                        "passed_time": 370.2439836,
                        "iteration": 596,
                        "remaining_time": 249.9301933,
                        "learn": [
                          0.5041658115
                        ]
                      },
                      {
                        "passed_time": 370.9542391,
                        "iteration": 597,
                        "remaining_time": 249.3705755,
                        "learn": [
                          0.5035029632
                        ]
                      },
                      {
                        "passed_time": 371.5249088,
                        "iteration": 598,
                        "remaining_time": 248.7170091,
                        "learn": [
                          0.5029044455
                        ]
                      },
                      {
                        "passed_time": 372.2086617,
                        "iteration": 599,
                        "remaining_time": 248.1391078,
                        "learn": [
                          0.5021146705
                        ]
                      },
                      {
                        "passed_time": 372.8253158,
                        "iteration": 600,
                        "remaining_time": 247.5163078,
                        "learn": [
                          0.5014197164
                        ]
                      },
                      {
                        "passed_time": 373.4913038,
                        "iteration": 601,
                        "remaining_time": 246.9261443,
                        "learn": [
                          0.5007633312
                        ]
                      },
                      {
                        "passed_time": 374.1195296,
                        "iteration": 602,
                        "remaining_time": 246.3108678,
                        "learn": [
                          0.5002515037
                        ]
                      },
                      {
                        "passed_time": 374.7731938,
                        "iteration": 603,
                        "remaining_time": 245.7122264,
                        "learn": [
                          0.4994486783
                        ]
                      },
                      {
                        "passed_time": 375.4656293,
                        "iteration": 604,
                        "remaining_time": 245.1387166,
                        "learn": [
                          0.4986743059
                        ]
                      },
                      {
                        "passed_time": 376.086369,
                        "iteration": 605,
                        "remaining_time": 244.5182003,
                        "learn": [
                          0.4980660375
                        ]
                      },
                      {
                        "passed_time": 376.7365642,
                        "iteration": 606,
                        "remaining_time": 243.9167541,
                        "learn": [
                          0.4975619984
                        ]
                      },
                      {
                        "passed_time": 377.4134325,
                        "iteration": 607,
                        "remaining_time": 243.3323447,
                        "learn": [
                          0.4969757706
                        ]
                      },
                      {
                        "passed_time": 378.0609421,
                        "iteration": 608,
                        "remaining_time": 242.7287822,
                        "learn": [
                          0.4962752349
                        ]
                      },
                      {
                        "passed_time": 378.7141834,
                        "iteration": 609,
                        "remaining_time": 242.1287402,
                        "learn": [
                          0.4957139531
                        ]
                      },
                      {
                        "passed_time": 379.3518597,
                        "iteration": 610,
                        "remaining_time": 241.5186144,
                        "learn": [
                          0.4948545519
                        ]
                      },
                      {
                        "passed_time": 380.0221906,
                        "iteration": 611,
                        "remaining_time": 240.9291012,
                        "learn": [
                          0.4943210052
                        ]
                      },
                      {
                        "passed_time": 380.7009657,
                        "iteration": 612,
                        "remaining_time": 240.3446553,
                        "learn": [
                          0.4938188985
                        ]
                      },
                      {
                        "passed_time": 381.3360477,
                        "iteration": 613,
                        "remaining_time": 239.7324339,
                        "learn": [
                          0.4933227858
                        ]
                      },
                      {
                        "passed_time": 381.9701937,
                        "iteration": 614,
                        "remaining_time": 239.1195522,
                        "learn": [
                          0.4926925474
                        ]
                      },
                      {
                        "passed_time": 382.531248,
                        "iteration": 615,
                        "remaining_time": 238.4610377,
                        "learn": [
                          0.4919436921
                        ]
                      },
                      {
                        "passed_time": 383.193056,
                        "iteration": 616,
                        "remaining_time": 237.8653816,
                        "learn": [
                          0.4911815533
                        ]
                      },
                      {
                        "passed_time": 383.8321943,
                        "iteration": 617,
                        "remaining_time": 237.2554988,
                        "learn": [
                          0.490724982
                        ]
                      },
                      {
                        "passed_time": 384.4290113,
                        "iteration": 618,
                        "remaining_time": 236.6194722,
                        "learn": [
                          0.490106704
                        ]
                      },
                      {
                        "passed_time": 385.0227048,
                        "iteration": 619,
                        "remaining_time": 235.9816578,
                        "learn": [
                          0.4895206945
                        ]
                      },
                      {
                        "passed_time": 385.5927016,
                        "iteration": 620,
                        "remaining_time": 235.3295232,
                        "learn": [
                          0.4889930392
                        ]
                      },
                      {
                        "passed_time": 386.2038248,
                        "iteration": 621,
                        "remaining_time": 234.7026459,
                        "learn": [
                          0.4884155449
                        ]
                      },
                      {
                        "passed_time": 386.8346207,
                        "iteration": 622,
                        "remaining_time": 234.0877239,
                        "learn": [
                          0.4878732219
                        ]
                      },
                      {
                        "passed_time": 387.482197,
                        "iteration": 623,
                        "remaining_time": 233.4828623,
                        "learn": [
                          0.487424631
                        ]
                      },
                      {
                        "passed_time": 388.1562876,
                        "iteration": 624,
                        "remaining_time": 232.8937726,
                        "learn": [
                          0.4866056506
                        ]
                      },
                      {
                        "passed_time": 388.7816376,
                        "iteration": 625,
                        "remaining_time": 232.2752915,
                        "learn": [
                          0.4859799512
                        ]
                      },
                      {
                        "passed_time": 389.4200686,
                        "iteration": 626,
                        "remaining_time": 231.6645703,
                        "learn": [
                          0.4853044427
                        ]
                      },
                      {
                        "passed_time": 390.0436213,
                        "iteration": 627,
                        "remaining_time": 231.0449477,
                        "learn": [
                          0.484562701
                        ]
                      },
                      {
                        "passed_time": 390.6463316,
                        "iteration": 628,
                        "remaining_time": 230.4130191,
                        "learn": [
                          0.484038183
                        ]
                      },
                      {
                        "passed_time": 391.2434121,
                        "iteration": 629,
                        "remaining_time": 229.7778769,
                        "learn": [
                          0.4834822777
                        ]
                      },
                      {
                        "passed_time": 391.7985614,
                        "iteration": 630,
                        "remaining_time": 229.1183346,
                        "learn": [
                          0.4829510024
                        ]
                      },
                      {
                        "passed_time": 392.4666658,
                        "iteration": 631,
                        "remaining_time": 228.524894,
                        "learn": [
                          0.4822277222
                        ]
                      },
                      {
                        "passed_time": 393.1106731,
                        "iteration": 632,
                        "remaining_time": 227.9172465,
                        "learn": [
                          0.4814878179
                        ]
                      },
                      {
                        "passed_time": 393.7773075,
                        "iteration": 633,
                        "remaining_time": 227.3225466,
                        "learn": [
                          0.4808965175
                        ]
                      },
                      {
                        "passed_time": 394.4959969,
                        "iteration": 634,
                        "remaining_time": 226.7575415,
                        "learn": [
                          0.4800919368
                        ]
                      },
                      {
                        "passed_time": 395.1456609,
                        "iteration": 635,
                        "remaining_time": 226.1525481,
                        "learn": [
                          0.4796698236
                        ]
                      },
                      {
                        "passed_time": 395.8213832,
                        "iteration": 636,
                        "remaining_time": 225.5622639,
                        "learn": [
                          0.4791113754
                        ]
                      },
                      {
                        "passed_time": 396.4231507,
                        "iteration": 637,
                        "remaining_time": 224.9297501,
                        "learn": [
                          0.4786633485
                        ]
                      },
                      {
                        "passed_time": 397.1052055,
                        "iteration": 638,
                        "remaining_time": 224.3426904,
                        "learn": [
                          0.4780717636
                        ]
                      },
                      {
                        "passed_time": 397.7668426,
                        "iteration": 639,
                        "remaining_time": 223.743849,
                        "learn": [
                          0.4775606846
                        ]
                      },
                      {
                        "passed_time": 398.3539397,
                        "iteration": 640,
                        "remaining_time": 223.1030645,
                        "learn": [
                          0.4770282463
                        ]
                      },
                      {
                        "passed_time": 398.9911721,
                        "iteration": 641,
                        "remaining_time": 222.4904044,
                        "learn": [
                          0.4762681065
                        ]
                      },
                      {
                        "passed_time": 399.6151387,
                        "iteration": 642,
                        "remaining_time": 221.8703025,
                        "learn": [
                          0.4754827131
                        ]
                      },
                      {
                        "passed_time": 400.297062,
                        "iteration": 643,
                        "remaining_time": 221.2822268,
                        "learn": [
                          0.4748398399
                        ]
                      },
                      {
                        "passed_time": 400.9571386,
                        "iteration": 644,
                        "remaining_time": 220.681836,
                        "learn": [
                          0.4742143715
                        ]
                      },
                      {
                        "passed_time": 401.5765874,
                        "iteration": 645,
                        "remaining_time": 220.0589968,
                        "learn": [
                          0.4734827576
                        ]
                      },
                      {
                        "passed_time": 402.2431923,
                        "iteration": 646,
                        "remaining_time": 219.4618962,
                        "learn": [
                          0.4730366333
                        ]
                      },
                      {
                        "passed_time": 402.8665336,
                        "iteration": 647,
                        "remaining_time": 218.84108,
                        "learn": [
                          0.4724417974
                        ]
                      },
                      {
                        "passed_time": 403.5793187,
                        "iteration": 648,
                        "remaining_time": 218.26863,
                        "learn": [
                          0.4718454891
                        ]
                      },
                      {
                        "passed_time": 404.2525592,
                        "iteration": 649,
                        "remaining_time": 217.674455,
                        "learn": [
                          0.4713448514
                        ]
                      },
                      {
                        "passed_time": 404.8547106,
                        "iteration": 650,
                        "remaining_time": 217.0419263,
                        "learn": [
                          0.4707761074
                        ]
                      },
                      {
                        "passed_time": 405.5072898,
                        "iteration": 651,
                        "remaining_time": 216.4364062,
                        "learn": [
                          0.4703851428
                        ]
                      },
                      {
                        "passed_time": 406.1537435,
                        "iteration": 652,
                        "remaining_time": 215.827487,
                        "learn": [
                          0.4696960227
                        ]
                      },
                      {
                        "passed_time": 406.8424679,
                        "iteration": 653,
                        "remaining_time": 215.2408163,
                        "learn": [
                          0.4690008664
                        ]
                      },
                      {
                        "passed_time": 407.5030016,
                        "iteration": 654,
                        "remaining_time": 214.6389856,
                        "learn": [
                          0.4683512858
                        ]
                      },
                      {
                        "passed_time": 408.1355619,
                        "iteration": 655,
                        "remaining_time": 214.0223068,
                        "learn": [
                          0.467681519
                        ]
                      },
                      {
                        "passed_time": 408.8142982,
                        "iteration": 656,
                        "remaining_time": 213.4296869,
                        "learn": [
                          0.46695347
                        ]
                      },
                      {
                        "passed_time": 409.448199,
                        "iteration": 657,
                        "remaining_time": 212.8135016,
                        "learn": [
                          0.4664151318
                        ]
                      },
                      {
                        "passed_time": 410.0388399,
                        "iteration": 658,
                        "remaining_time": 212.1748777,
                        "learn": [
                          0.4659253185
                        ]
                      },
                      {
                        "passed_time": 410.6175705,
                        "iteration": 659,
                        "remaining_time": 211.5302636,
                        "learn": [
                          0.4655278336
                        ]
                      },
                      {
                        "passed_time": 411.1893056,
                        "iteration": 660,
                        "remaining_time": 210.8822611,
                        "learn": [
                          0.465007993
                        ]
                      },
                      {
                        "passed_time": 411.7540105,
                        "iteration": 661,
                        "remaining_time": 210.2308996,
                        "learn": [
                          0.4645674282
                        ]
                      },
                      {
                        "passed_time": 412.3329584,
                        "iteration": 662,
                        "remaining_time": 209.5870392,
                        "learn": [
                          0.4638085428
                        ]
                      },
                      {
                        "passed_time": 413.003016,
                        "iteration": 663,
                        "remaining_time": 208.989478,
                        "learn": [
                          0.4630222904
                        ]
                      },
                      {
                        "passed_time": 413.6378655,
                        "iteration": 664,
                        "remaining_time": 208.3739623,
                        "learn": [
                          0.462358188
                        ]
                      },
                      {
                        "passed_time": 414.3294826,
                        "iteration": 665,
                        "remaining_time": 207.7868576,
                        "learn": [
                          0.4615301159
                        ]
                      },
                      {
                        "passed_time": 414.9790479,
                        "iteration": 666,
                        "remaining_time": 207.1784452,
                        "learn": [
                          0.460874862
                        ]
                      },
                      {
                        "passed_time": 415.594386,
                        "iteration": 667,
                        "remaining_time": 206.5528984,
                        "learn": [
                          0.4601433167
                        ]
                      },
                      {
                        "passed_time": 416.2787127,
                        "iteration": 668,
                        "remaining_time": 205.9615156,
                        "learn": [
                          0.4597075584
                        ]
                      },
                      {
                        "passed_time": 416.8975378,
                        "iteration": 669,
                        "remaining_time": 205.3375932,
                        "learn": [
                          0.4590522352
                        ]
                      },
                      {
                        "passed_time": 417.5856649,
                        "iteration": 670,
                        "remaining_time": 204.7476658,
                        "learn": [
                          0.458518263
                        ]
                      },
                      {
                        "passed_time": 418.2238352,
                        "iteration": 671,
                        "remaining_time": 204.1330624,
                        "learn": [
                          0.457853672
                        ]
                      },
                      {
                        "passed_time": 418.8704178,
                        "iteration": 672,
                        "remaining_time": 203.5224764,
                        "learn": [
                          0.4573359302
                        ]
                      },
                      {
                        "passed_time": 419.5421082,
                        "iteration": 673,
                        "remaining_time": 202.9239277,
                        "learn": [
                          0.4566831149
                        ]
                      },
                      {
                        "passed_time": 420.1713833,
                        "iteration": 674,
                        "remaining_time": 202.3047401,
                        "learn": [
                          0.4559730141
                        ]
                      },
                      {
                        "passed_time": 420.8212272,
                        "iteration": 675,
                        "remaining_time": 201.6953811,
                        "learn": [
                          0.4554491213
                        ]
                      },
                      {
                        "passed_time": 421.4415303,
                        "iteration": 676,
                        "remaining_time": 201.0718084,
                        "learn": [
                          0.4548042353
                        ]
                      },
                      {
                        "passed_time": 422.0306142,
                        "iteration": 677,
                        "remaining_time": 200.4334185,
                        "learn": [
                          0.4541838618
                        ]
                      },
                      {
                        "passed_time": 422.7035272,
                        "iteration": 678,
                        "remaining_time": 199.8348045,
                        "learn": [
                          0.4536511161
                        ]
                      },
                      {
                        "passed_time": 423.2848969,
                        "iteration": 679,
                        "remaining_time": 199.1928927,
                        "learn": [
                          0.4530701035
                        ]
                      },
                      {
                        "passed_time": 423.9046962,
                        "iteration": 680,
                        "remaining_time": 198.5691602,
                        "learn": [
                          0.4524430698
                        ]
                      },
                      {
                        "passed_time": 424.5783922,
                        "iteration": 681,
                        "remaining_time": 197.97057,
                        "learn": [
                          0.4517087299
                        ]
                      },
                      {
                        "passed_time": 425.2176876,
                        "iteration": 682,
                        "remaining_time": 197.3557935,
                        "learn": [
                          0.4510997406
                        ]
                      },
                      {
                        "passed_time": 425.9153959,
                        "iteration": 683,
                        "remaining_time": 196.7679315,
                        "learn": [
                          0.4504305601
                        ]
                      },
                      {
                        "passed_time": 426.548278,
                        "iteration": 684,
                        "remaining_time": 196.149938,
                        "learn": [
                          0.4500283194
                        ]
                      },
                      {
                        "passed_time": 427.2043869,
                        "iteration": 685,
                        "remaining_time": 195.5425328,
                        "learn": [
                          0.4493987717
                        ]
                      },
                      {
                        "passed_time": 427.8791629,
                        "iteration": 686,
                        "remaining_time": 194.9434905,
                        "learn": [
                          0.4487056903
                        ]
                      },
                      {
                        "passed_time": 428.4601143,
                        "iteration": 687,
                        "remaining_time": 194.3016797,
                        "learn": [
                          0.447986139
                        ]
                      },
                      {
                        "passed_time": 429.0809637,
                        "iteration": 688,
                        "remaining_time": 193.6780547,
                        "learn": [
                          0.4475733296
                        ]
                      },
                      {
                        "passed_time": 429.6924711,
                        "iteration": 689,
                        "remaining_time": 193.0502406,
                        "learn": [
                          0.4470560197
                        ]
                      },
                      {
                        "passed_time": 430.5933372,
                        "iteration": 690,
                        "remaining_time": 192.5518686,
                        "learn": [
                          0.4463589624
                        ]
                      },
                      {
                        "passed_time": 431.1753726,
                        "iteration": 691,
                        "remaining_time": 191.910426,
                        "learn": [
                          0.4459070339
                        ]
                      },
                      {
                        "passed_time": 431.7928968,
                        "iteration": 692,
                        "remaining_time": 191.2848764,
                        "learn": [
                          0.4454167403
                        ]
                      },
                      {
                        "passed_time": 432.462882,
                        "iteration": 693,
                        "remaining_time": 190.6824811,
                        "learn": [
                          0.4447223256
                        ]
                      },
                      {
                        "passed_time": 433.1074968,
                        "iteration": 694,
                        "remaining_time": 190.0687576,
                        "learn": [
                          0.4440227442
                        ]
                      },
                      {
                        "passed_time": 433.7694234,
                        "iteration": 695,
                        "remaining_time": 189.4625068,
                        "learn": [
                          0.4435553668
                        ]
                      },
                      {
                        "passed_time": 434.3368403,
                        "iteration": 696,
                        "remaining_time": 188.8150109,
                        "learn": [
                          0.4428916398
                        ]
                      },
                      {
                        "passed_time": 434.9229283,
                        "iteration": 697,
                        "remaining_time": 188.1758228,
                        "learn": [
                          0.4423096063
                        ]
                      },
                      {
                        "passed_time": 435.4773352,
                        "iteration": 698,
                        "remaining_time": 187.5231443,
                        "learn": [
                          0.4417958212
                        ]
                      },
                      {
                        "passed_time": 436.1042339,
                        "iteration": 699,
                        "remaining_time": 186.9018145,
                        "learn": [
                          0.4411537583
                        ]
                      },
                      {
                        "passed_time": 436.7023603,
                        "iteration": 700,
                        "remaining_time": 186.2681965,
                        "learn": [
                          0.440470482
                        ]
                      },
                      {
                        "passed_time": 437.2769958,
                        "iteration": 701,
                        "remaining_time": 185.6247076,
                        "learn": [
                          0.4399598187
                        ]
                      },
                      {
                        "passed_time": 437.8972297,
                        "iteration": 702,
                        "remaining_time": 185.0006788,
                        "learn": [
                          0.4394777869
                        ]
                      },
                      {
                        "passed_time": 438.4804682,
                        "iteration": 703,
                        "remaining_time": 184.361106,
                        "learn": [
                          0.4387025826
                        ]
                      },
                      {
                        "passed_time": 439.0998752,
                        "iteration": 704,
                        "remaining_time": 183.7368272,
                        "learn": [
                          0.4381492886
                        ]
                      },
                      {
                        "passed_time": 439.6506815,
                        "iteration": 705,
                        "remaining_time": 183.0839948,
                        "learn": [
                          0.4374018786
                        ]
                      },
                      {
                        "passed_time": 440.2602484,
                        "iteration": 706,
                        "remaining_time": 182.4558031,
                        "learn": [
                          0.4366981867
                        ]
                      },
                      {
                        "passed_time": 440.8197237,
                        "iteration": 707,
                        "remaining_time": 181.8070047,
                        "learn": [
                          0.4360349769
                        ]
                      },
                      {
                        "passed_time": 441.4258363,
                        "iteration": 708,
                        "remaining_time": 181.1775999,
                        "learn": [
                          0.4354141846
                        ]
                      },
                      {
                        "passed_time": 441.9962728,
                        "iteration": 709,
                        "remaining_time": 180.5336889,
                        "learn": [
                          0.434816775
                        ]
                      },
                      {
                        "passed_time": 442.6353033,
                        "iteration": 710,
                        "remaining_time": 179.9178659,
                        "learn": [
                          0.4343164774
                        ]
                      },
                      {
                        "passed_time": 443.3387174,
                        "iteration": 711,
                        "remaining_time": 179.3280205,
                        "learn": [
                          0.4336443797
                        ]
                      },
                      {
                        "passed_time": 443.9706694,
                        "iteration": 712,
                        "remaining_time": 178.7090913,
                        "learn": [
                          0.4331133998
                        ]
                      },
                      {
                        "passed_time": 444.5945614,
                        "iteration": 713,
                        "remaining_time": 178.0868971,
                        "learn": [
                          0.4325238168
                        ]
                      },
                      {
                        "passed_time": 445.1601646,
                        "iteration": 714,
                        "remaining_time": 177.4414642,
                        "learn": [
                          0.431968001
                        ]
                      },
                      {
                        "passed_time": 445.7368945,
                        "iteration": 715,
                        "remaining_time": 176.8006676,
                        "learn": [
                          0.4315888707
                        ]
                      },
                      {
                        "passed_time": 446.3503667,
                        "iteration": 716,
                        "remaining_time": 176.174552,
                        "learn": [
                          0.4311085545
                        ]
                      },
                      {
                        "passed_time": 446.9500049,
                        "iteration": 717,
                        "remaining_time": 175.5430381,
                        "learn": [
                          0.4306680772
                        ]
                      },
                      {
                        "passed_time": 447.603024,
                        "iteration": 718,
                        "remaining_time": 174.9324753,
                        "learn": [
                          0.4301698989
                        ]
                      },
                      {
                        "passed_time": 448.2040547,
                        "iteration": 719,
                        "remaining_time": 174.3015768,
                        "learn": [
                          0.4297923444
                        ]
                      },
                      {
                        "passed_time": 448.8856998,
                        "iteration": 720,
                        "remaining_time": 173.7019559,
                        "learn": [
                          0.4292555752
                        ]
                      },
                      {
                        "passed_time": 449.4952471,
                        "iteration": 721,
                        "remaining_time": 173.0743472,
                        "learn": [
                          0.4288939845
                        ]
                      },
                      {
                        "passed_time": 450.2137204,
                        "iteration": 722,
                        "remaining_time": 172.4885208,
                        "learn": [
                          0.4281816956
                        ]
                      },
                      {
                        "passed_time": 450.8528945,
                        "iteration": 723,
                        "remaining_time": 171.8720979,
                        "learn": [
                          0.427662974
                        ]
                      },
                      {
                        "passed_time": 451.5048948,
                        "iteration": 724,
                        "remaining_time": 171.2604773,
                        "learn": [
                          0.4268927807
                        ]
                      },
                      {
                        "passed_time": 452.1748128,
                        "iteration": 725,
                        "remaining_time": 170.6555079,
                        "learn": [
                          0.4262920839
                        ]
                      },
                      {
                        "passed_time": 452.7841283,
                        "iteration": 726,
                        "remaining_time": 170.0276025,
                        "learn": [
                          0.4256048745
                        ]
                      },
                      {
                        "passed_time": 453.3561026,
                        "iteration": 727,
                        "remaining_time": 169.3857966,
                        "learn": [
                          0.4250670691
                        ]
                      },
                      {
                        "passed_time": 453.9415796,
                        "iteration": 728,
                        "remaining_time": 168.7492017,
                        "learn": [
                          0.4245221904
                        ]
                      },
                      {
                        "passed_time": 454.4884884,
                        "iteration": 729,
                        "remaining_time": 168.098482,
                        "learn": [
                          0.4240224823
                        ]
                      },
                      {
                        "passed_time": 455.1040189,
                        "iteration": 730,
                        "remaining_time": 167.4732983,
                        "learn": [
                          0.4233634161
                        ]
                      },
                      {
                        "passed_time": 455.6660408,
                        "iteration": 731,
                        "remaining_time": 166.8285505,
                        "learn": [
                          0.4228664315
                        ]
                      },
                      {
                        "passed_time": 456.2644075,
                        "iteration": 732,
                        "remaining_time": 166.1972671,
                        "learn": [
                          0.4223634388
                        ]
                      },
                      {
                        "passed_time": 456.828285,
                        "iteration": 733,
                        "remaining_time": 165.5535747,
                        "learn": [
                          0.4216912236
                        ]
                      },
                      {
                        "passed_time": 457.4540262,
                        "iteration": 734,
                        "remaining_time": 164.932404,
                        "learn": [
                          0.4211113086
                        ]
                      },
                      {
                        "passed_time": 457.9849241,
                        "iteration": 735,
                        "remaining_time": 164.277201,
                        "learn": [
                          0.420700558
                        ]
                      },
                      {
                        "passed_time": 458.5679682,
                        "iteration": 736,
                        "remaining_time": 163.6409439,
                        "learn": [
                          0.4203100116
                        ]
                      },
                      {
                        "passed_time": 459.1273285,
                        "iteration": 737,
                        "remaining_time": 162.9964229,
                        "learn": [
                          0.4198013638
                        ]
                      },
                      {
                        "passed_time": 459.7650721,
                        "iteration": 738,
                        "remaining_time": 162.3798157,
                        "learn": [
                          0.4192798958
                        ]
                      },
                      {
                        "passed_time": 460.447227,
                        "iteration": 739,
                        "remaining_time": 161.7787554,
                        "learn": [
                          0.4186347703
                        ]
                      },
                      {
                        "passed_time": 461.1186868,
                        "iteration": 740,
                        "remaining_time": 161.173738,
                        "learn": [
                          0.4179200815
                        ]
                      },
                      {
                        "passed_time": 461.7869799,
                        "iteration": 741,
                        "remaining_time": 160.5674405,
                        "learn": [
                          0.4175092126
                        ]
                      },
                      {
                        "passed_time": 462.3405516,
                        "iteration": 742,
                        "remaining_time": 159.9212944,
                        "learn": [
                          0.4170051378
                        ]
                      },
                      {
                        "passed_time": 462.9578239,
                        "iteration": 743,
                        "remaining_time": 159.2973157,
                        "learn": [
                          0.4165510167
                        ]
                      },
                      {
                        "passed_time": 463.5657779,
                        "iteration": 744,
                        "remaining_time": 158.6701656,
                        "learn": [
                          0.4160999897
                        ]
                      },
                      {
                        "passed_time": 464.1223794,
                        "iteration": 745,
                        "remaining_time": 158.0255823,
                        "learn": [
                          0.4156238853
                        ]
                      },
                      {
                        "passed_time": 464.7127151,
                        "iteration": 746,
                        "remaining_time": 157.3926599,
                        "learn": [
                          0.4150537129
                        ]
                      },
                      {
                        "passed_time": 465.306991,
                        "iteration": 747,
                        "remaining_time": 156.7611788,
                        "learn": [
                          0.4144178353
                        ]
                      },
                      {
                        "passed_time": 466.1836702,
                        "iteration": 748,
                        "remaining_time": 156.2244342,
                        "learn": [
                          0.4137235847
                        ]
                      },
                      {
                        "passed_time": 466.8135521,
                        "iteration": 749,
                        "remaining_time": 155.6045174,
                        "learn": [
                          0.4132032821
                        ]
                      },
                      {
                        "passed_time": 467.5226451,
                        "iteration": 750,
                        "remaining_time": 155.0108371,
                        "learn": [
                          0.4125858225
                        ]
                      },
                      {
                        "passed_time": 468.240902,
                        "iteration": 751,
                        "remaining_time": 154.4198719,
                        "learn": [
                          0.4118908761
                        ]
                      },
                      {
                        "passed_time": 468.8574015,
                        "iteration": 752,
                        "remaining_time": 153.7951901,
                        "learn": [
                          0.4114402348
                        ]
                      },
                      {
                        "passed_time": 469.5667509,
                        "iteration": 753,
                        "remaining_time": 153.2008233,
                        "learn": [
                          0.4107781443
                        ]
                      },
                      {
                        "passed_time": 470.1941426,
                        "iteration": 754,
                        "remaining_time": 152.5795562,
                        "learn": [
                          0.4100790299
                        ]
                      },
                      {
                        "passed_time": 470.7881396,
                        "iteration": 755,
                        "remaining_time": 151.9474948,
                        "learn": [
                          0.4094694386
                        ]
                      },
                      {
                        "passed_time": 471.3738889,
                        "iteration": 756,
                        "remaining_time": 151.3128864,
                        "learn": [
                          0.4090416974
                        ]
                      },
                      {
                        "passed_time": 471.9689844,
                        "iteration": 757,
                        "remaining_time": 150.6813908,
                        "learn": [
                          0.4084805116
                        ]
                      },
                      {
                        "passed_time": 472.6438272,
                        "iteration": 758,
                        "remaining_time": 150.0753127,
                        "learn": [
                          0.4080313545
                        ]
                      },
                      {
                        "passed_time": 473.2519684,
                        "iteration": 759,
                        "remaining_time": 149.44799,
                        "learn": [
                          0.4075900916
                        ]
                      },
                      {
                        "passed_time": 473.947729,
                        "iteration": 760,
                        "remaining_time": 148.8482355,
                        "learn": [
                          0.4069766058
                        ]
                      },
                      {
                        "passed_time": 474.6073122,
                        "iteration": 761,
                        "remaining_time": 148.2369295,
                        "learn": [
                          0.4065140089
                        ]
                      },
                      {
                        "passed_time": 475.2567402,
                        "iteration": 762,
                        "remaining_time": 147.6223426,
                        "learn": [
                          0.4059279203
                        ]
                      },
                      {
                        "passed_time": 475.9227636,
                        "iteration": 763,
                        "remaining_time": 147.0127908,
                        "learn": [
                          0.4053833796
                        ]
                      },
                      {
                        "passed_time": 476.463938,
                        "iteration": 764,
                        "remaining_time": 146.3647391,
                        "learn": [
                          0.4049190405
                        ]
                      },
                      {
                        "passed_time": 477.1034676,
                        "iteration": 765,
                        "remaining_time": 145.7470123,
                        "learn": [
                          0.4042432966
                        ]
                      },
                      {
                        "passed_time": 477.7011661,
                        "iteration": 766,
                        "remaining_time": 145.1165211,
                        "learn": [
                          0.4038629803
                        ]
                      },
                      {
                        "passed_time": 478.3894615,
                        "iteration": 767,
                        "remaining_time": 144.5134832,
                        "learn": [
                          0.403362666
                        ]
                      },
                      {
                        "passed_time": 479.0754574,
                        "iteration": 768,
                        "remaining_time": 143.9095327,
                        "learn": [
                          0.4028284058
                        ]
                      },
                      {
                        "passed_time": 479.679762,
                        "iteration": 769,
                        "remaining_time": 143.2809679,
                        "learn": [
                          0.4022405362
                        ]
                      },
                      {
                        "passed_time": 480.3276964,
                        "iteration": 770,
                        "remaining_time": 142.6654248,
                        "learn": [
                          0.4016863499
                        ]
                      },
                      {
                        "passed_time": 480.9638557,
                        "iteration": 771,
                        "remaining_time": 142.0463201,
                        "learn": [
                          0.4011261407
                        ]
                      },
                      {
                        "passed_time": 481.6294698,
                        "iteration": 772,
                        "remaining_time": 141.435821,
                        "learn": [
                          0.4006222864
                        ]
                      },
                      {
                        "passed_time": 482.2929997,
                        "iteration": 773,
                        "remaining_time": 140.824571,
                        "learn": [
                          0.4001401955
                        ]
                      },
                      {
                        "passed_time": 482.9204865,
                        "iteration": 774,
                        "remaining_time": 140.2027219,
                        "learn": [
                          0.3996880273
                        ]
                      },
                      {
                        "passed_time": 483.5461815,
                        "iteration": 775,
                        "remaining_time": 139.5803411,
                        "learn": [
                          0.3991612687
                        ]
                      },
                      {
                        "passed_time": 484.1333875,
                        "iteration": 776,
                        "remaining_time": 138.9469053,
                        "learn": [
                          0.3986164129
                        ]
                      },
                      {
                        "passed_time": 484.7558369,
                        "iteration": 777,
                        "remaining_time": 138.323645,
                        "learn": [
                          0.3980086203
                        ]
                      },
                      {
                        "passed_time": 485.3010079,
                        "iteration": 778,
                        "remaining_time": 137.6784631,
                        "learn": [
                          0.3975182272
                        ]
                      },
                      {
                        "passed_time": 485.8930031,
                        "iteration": 779,
                        "remaining_time": 137.0467445,
                        "learn": [
                          0.397003532
                        ]
                      },
                      {
                        "passed_time": 486.5468881,
                        "iteration": 780,
                        "remaining_time": 136.4324821,
                        "learn": [
                          0.3966968502
                        ]
                      },
                      {
                        "passed_time": 487.1696374,
                        "iteration": 781,
                        "remaining_time": 135.8094386,
                        "learn": [
                          0.3963780812
                        ]
                      },
                      {
                        "passed_time": 487.8775261,
                        "iteration": 782,
                        "remaining_time": 135.2099913,
                        "learn": [
                          0.3958793501
                        ]
                      },
                      {
                        "passed_time": 488.5241074,
                        "iteration": 783,
                        "remaining_time": 134.5933765,
                        "learn": [
                          0.3953203351
                        ]
                      },
                      {
                        "passed_time": 489.2286028,
                        "iteration": 784,
                        "remaining_time": 133.9925473,
                        "learn": [
                          0.3946348652
                        ]
                      },
                      {
                        "passed_time": 489.9148341,
                        "iteration": 785,
                        "remaining_time": 133.3864816,
                        "learn": [
                          0.3940945994
                        ]
                      },
                      {
                        "passed_time": 490.5588052,
                        "iteration": 786,
                        "remaining_time": 132.7687745,
                        "learn": [
                          0.3934684216
                        ]
                      },
                      {
                        "passed_time": 491.2536488,
                        "iteration": 787,
                        "remaining_time": 132.1646872,
                        "learn": [
                          0.3928274097
                        ]
                      },
                      {
                        "passed_time": 491.8478138,
                        "iteration": 788,
                        "remaining_time": 131.5334458,
                        "learn": [
                          0.3924093265
                        ]
                      },
                      {
                        "passed_time": 492.5364318,
                        "iteration": 789,
                        "remaining_time": 130.9274059,
                        "learn": [
                          0.3918107556
                        ]
                      },
                      {
                        "passed_time": 493.2009681,
                        "iteration": 790,
                        "remaining_time": 130.3147943,
                        "learn": [
                          0.3912467097
                        ]
                      },
                      {
                        "passed_time": 493.8155067,
                        "iteration": 791,
                        "remaining_time": 129.688921,
                        "learn": [
                          0.390850211
                        ]
                      },
                      {
                        "passed_time": 494.4810951,
                        "iteration": 792,
                        "remaining_time": 129.0764019,
                        "learn": [
                          0.3902700952
                        ]
                      },
                      {
                        "passed_time": 495.0324457,
                        "iteration": 793,
                        "remaining_time": 128.4341106,
                        "learn": [
                          0.3898696007
                        ]
                      },
                      {
                        "passed_time": 495.65187,
                        "iteration": 794,
                        "remaining_time": 127.8096017,
                        "learn": [
                          0.3892975838
                        ]
                      },
                      {
                        "passed_time": 496.2621124,
                        "iteration": 795,
                        "remaining_time": 127.1827524,
                        "learn": [
                          0.3888130055
                        ]
                      },
                      {
                        "passed_time": 496.8415183,
                        "iteration": 796,
                        "remaining_time": 126.5480906,
                        "learn": [
                          0.3882173862
                        ]
                      },
                      {
                        "passed_time": 497.6173225,
                        "iteration": 797,
                        "remaining_time": 125.9632821,
                        "learn": [
                          0.387778146
                        ]
                      },
                      {
                        "passed_time": 498.2826098,
                        "iteration": 798,
                        "remaining_time": 125.3501934,
                        "learn": [
                          0.3872925747
                        ]
                      },
                      {
                        "passed_time": 498.9347799,
                        "iteration": 799,
                        "remaining_time": 124.733695,
                        "learn": [
                          0.3868494912
                        ]
                      },
                      {
                        "passed_time": 499.5556742,
                        "iteration": 800,
                        "remaining_time": 124.1093373,
                        "learn": [
                          0.3864058739
                        ]
                      },
                      {
                        "passed_time": 500.1531319,
                        "iteration": 801,
                        "remaining_time": 123.4792021,
                        "learn": [
                          0.3860981899
                        ]
                      },
                      {
                        "passed_time": 500.7315497,
                        "iteration": 802,
                        "remaining_time": 122.8444773,
                        "learn": [
                          0.3857136378
                        ]
                      },
                      {
                        "passed_time": 501.332017,
                        "iteration": 803,
                        "remaining_time": 122.2152678,
                        "learn": [
                          0.3852304801
                        ]
                      },
                      {
                        "passed_time": 501.9750734,
                        "iteration": 804,
                        "remaining_time": 121.5964464,
                        "learn": [
                          0.3847389288
                        ]
                      },
                      {
                        "passed_time": 502.6062532,
                        "iteration": 805,
                        "remaining_time": 120.9747061,
                        "learn": [
                          0.3843160824
                        ]
                      },
                      {
                        "passed_time": 503.2696579,
                        "iteration": 806,
                        "remaining_time": 120.3606493,
                        "learn": [
                          0.383953112
                        ]
                      },
                      {
                        "passed_time": 503.9288625,
                        "iteration": 807,
                        "remaining_time": 119.7454723,
                        "learn": [
                          0.3833537107
                        ]
                      },
                      {
                        "passed_time": 504.6268828,
                        "iteration": 808,
                        "remaining_time": 119.1393506,
                        "learn": [
                          0.3829069865
                        ]
                      },
                      {
                        "passed_time": 505.2161427,
                        "iteration": 809,
                        "remaining_time": 118.5074903,
                        "learn": [
                          0.3824732557
                        ]
                      },
                      {
                        "passed_time": 505.8026662,
                        "iteration": 810,
                        "remaining_time": 117.8750973,
                        "learn": [
                          0.38206889
                        ]
                      },
                      {
                        "passed_time": 506.409157,
                        "iteration": 811,
                        "remaining_time": 117.2474403,
                        "learn": [
                          0.3814444402
                        ]
                      },
                      {
                        "passed_time": 506.9608617,
                        "iteration": 812,
                        "remaining_time": 116.6072339,
                        "learn": [
                          0.3809768199
                        ]
                      },
                      {
                        "passed_time": 507.565021,
                        "iteration": 813,
                        "remaining_time": 115.9792308,
                        "learn": [
                          0.3805025664
                        ]
                      },
                      {
                        "passed_time": 508.114646,
                        "iteration": 814,
                        "remaining_time": 115.3389074,
                        "learn": [
                          0.3799811283
                        ]
                      },
                      {
                        "passed_time": 508.7008019,
                        "iteration": 815,
                        "remaining_time": 114.7070436,
                        "learn": [
                          0.3796586696
                        ]
                      },
                      {
                        "passed_time": 509.2866193,
                        "iteration": 816,
                        "remaining_time": 114.0752158,
                        "learn": [
                          0.3793692687
                        ]
                      },
                      {
                        "passed_time": 509.9748128,
                        "iteration": 817,
                        "remaining_time": 113.4662786,
                        "learn": [
                          0.3788910042
                        ]
                      },
                      {
                        "passed_time": 510.7036073,
                        "iteration": 818,
                        "remaining_time": 112.8661208,
                        "learn": [
                          0.3783070901
                        ]
                      },
                      {
                        "passed_time": 511.3056977,
                        "iteration": 819,
                        "remaining_time": 112.2378361,
                        "learn": [
                          0.3777920578
                        ]
                      },
                      {
                        "passed_time": 511.9636143,
                        "iteration": 820,
                        "remaining_time": 111.6217868,
                        "learn": [
                          0.3773619599
                        ]
                      },
                      {
                        "passed_time": 512.5667448,
                        "iteration": 821,
                        "remaining_time": 110.993772,
                        "learn": [
                          0.3770567112
                        ]
                      },
                      {
                        "passed_time": 513.248666,
                        "iteration": 822,
                        "remaining_time": 110.3827629,
                        "learn": [
                          0.3768269359
                        ]
                      },
                      {
                        "passed_time": 513.8973759,
                        "iteration": 823,
                        "remaining_time": 109.7644881,
                        "learn": [
                          0.376434206
                        ]
                      },
                      {
                        "passed_time": 514.5475309,
                        "iteration": 824,
                        "remaining_time": 109.1464459,
                        "learn": [
                          0.3760308726
                        ]
                      },
                      {
                        "passed_time": 515.2392745,
                        "iteration": 825,
                        "remaining_time": 108.5370869,
                        "learn": [
                          0.3756070971
                        ]
                      },
                      {
                        "passed_time": 515.8591084,
                        "iteration": 826,
                        "remaining_time": 107.9124858,
                        "learn": [
                          0.3751266018
                        ]
                      },
                      {
                        "passed_time": 516.5504653,
                        "iteration": 827,
                        "remaining_time": 107.3027537,
                        "learn": [
                          0.374518295
                        ]
                      },
                      {
                        "passed_time": 517.217977,
                        "iteration": 828,
                        "remaining_time": 106.687906,
                        "learn": [
                          0.374157296
                        ]
                      },
                      {
                        "passed_time": 517.8924544,
                        "iteration": 829,
                        "remaining_time": 106.0743581,
                        "learn": [
                          0.373663334
                        ]
                      },
                      {
                        "passed_time": 518.5847502,
                        "iteration": 830,
                        "remaining_time": 105.4642873,
                        "learn": [
                          0.3731063053
                        ]
                      },
                      {
                        "passed_time": 519.1899108,
                        "iteration": 831,
                        "remaining_time": 104.8364243,
                        "learn": [
                          0.3727983332
                        ]
                      },
                      {
                        "passed_time": 519.8797633,
                        "iteration": 832,
                        "remaining_time": 104.2255948,
                        "learn": [
                          0.3722063629
                        ]
                      },
                      {
                        "passed_time": 520.542827,
                        "iteration": 833,
                        "remaining_time": 103.6092437,
                        "learn": [
                          0.3717366226
                        ]
                      },
                      {
                        "passed_time": 521.1821528,
                        "iteration": 834,
                        "remaining_time": 102.9880901,
                        "learn": [
                          0.3712080349
                        ]
                      },
                      {
                        "passed_time": 521.7844026,
                        "iteration": 835,
                        "remaining_time": 102.3596196,
                        "learn": [
                          0.3708412646
                        ]
                      },
                      {
                        "passed_time": 522.3969234,
                        "iteration": 836,
                        "remaining_time": 101.7332121,
                        "learn": [
                          0.3702362814
                        ]
                      },
                      {
                        "passed_time": 523.1012621,
                        "iteration": 837,
                        "remaining_time": 101.1245877,
                        "learn": [
                          0.3696686933
                        ]
                      },
                      {
                        "passed_time": 523.7197584,
                        "iteration": 838,
                        "remaining_time": 100.4992623,
                        "learn": [
                          0.3692661683
                        ]
                      },
                      {
                        "passed_time": 524.3292321,
                        "iteration": 839,
                        "remaining_time": 99.87223469,
                        "learn": [
                          0.3687321122
                        ]
                      },
                      {
                        "passed_time": 524.9226439,
                        "iteration": 840,
                        "remaining_time": 99.24221211,
                        "learn": [
                          0.368363961
                        ]
                      },
                      {
                        "passed_time": 525.4581774,
                        "iteration": 841,
                        "remaining_time": 98.60141571,
                        "learn": [
                          0.3680222829
                        ]
                      },
                      {
                        "passed_time": 526.0459179,
                        "iteration": 842,
                        "remaining_time": 97.97059206,
                        "learn": [
                          0.3676349269
                        ]
                      },
                      {
                        "passed_time": 526.6667371,
                        "iteration": 843,
                        "remaining_time": 97.34598458,
                        "learn": [
                          0.3670575116
                        ]
                      },
                      {
                        "passed_time": 527.3333483,
                        "iteration": 844,
                        "remaining_time": 96.72978579,
                        "learn": [
                          0.366591803
                        ]
                      },
                      {
                        "passed_time": 527.9324837,
                        "iteration": 845,
                        "remaining_time": 96.10118498,
                        "learn": [
                          0.366231953
                        ]
                      },
                      {
                        "passed_time": 528.5712295,
                        "iteration": 846,
                        "remaining_time": 95.47980888,
                        "learn": [
                          0.3657881216
                        ]
                      },
                      {
                        "passed_time": 529.3952396,
                        "iteration": 847,
                        "remaining_time": 94.89159956,
                        "learn": [
                          0.3652483398
                        ]
                      },
                      {
                        "passed_time": 530.0546746,
                        "iteration": 848,
                        "remaining_time": 94.27356403,
                        "learn": [
                          0.3647421191
                        ]
                      },
                      {
                        "passed_time": 530.7430799,
                        "iteration": 849,
                        "remaining_time": 93.66054352,
                        "learn": [
                          0.3642275611
                        ]
                      },
                      {
                        "passed_time": 531.3765967,
                        "iteration": 850,
                        "remaining_time": 93.03773551,
                        "learn": [
                          0.363800415
                        ]
                      },
                      {
                        "passed_time": 532.0616153,
                        "iteration": 851,
                        "remaining_time": 92.42384867,
                        "learn": [
                          0.3634565529
                        ]
                      },
                      {
                        "passed_time": 532.760792,
                        "iteration": 852,
                        "remaining_time": 91.81223497,
                        "learn": [
                          0.3628966908
                        ]
                      },
                      {
                        "passed_time": 533.3865852,
                        "iteration": 853,
                        "remaining_time": 91.18787053,
                        "learn": [
                          0.3626100219
                        ]
                      },
                      {
                        "passed_time": 534.0682183,
                        "iteration": 854,
                        "remaining_time": 90.57297269,
                        "learn": [
                          0.3620984835
                        ]
                      },
                      {
                        "passed_time": 534.6787539,
                        "iteration": 855,
                        "remaining_time": 89.94595861,
                        "learn": [
                          0.3617487047
                        ]
                      },
                      {
                        "passed_time": 535.3622385,
                        "iteration": 856,
                        "remaining_time": 89.33115532,
                        "learn": [
                          0.3614346151
                        ]
                      },
                      {
                        "passed_time": 536.027802,
                        "iteration": 857,
                        "remaining_time": 88.71322597,
                        "learn": [
                          0.3610709401
                        ]
                      },
                      {
                        "passed_time": 536.7012389,
                        "iteration": 858,
                        "remaining_time": 88.09647809,
                        "learn": [
                          0.360482198
                        ]
                      },
                      {
                        "passed_time": 537.3546753,
                        "iteration": 859,
                        "remaining_time": 87.47634249,
                        "learn": [
                          0.3602189103
                        ]
                      },
                      {
                        "passed_time": 537.9791385,
                        "iteration": 860,
                        "remaining_time": 86.8514521,
                        "learn": [
                          0.3598438394
                        ]
                      },
                      {
                        "passed_time": 538.671404,
                        "iteration": 861,
                        "remaining_time": 86.23741735,
                        "learn": [
                          0.3593981742
                        ]
                      },
                      {
                        "passed_time": 539.3711497,
                        "iteration": 862,
                        "remaining_time": 85.62438877,
                        "learn": [
                          0.3588241436
                        ]
                      },
                      {
                        "passed_time": 539.9552565,
                        "iteration": 863,
                        "remaining_time": 84.99295705,
                        "learn": [
                          0.3582633937
                        ]
                      },
                      {
                        "passed_time": 540.5664897,
                        "iteration": 864,
                        "remaining_time": 84.36586833,
                        "learn": [
                          0.3578876564
                        ]
                      },
                      {
                        "passed_time": 541.1771917,
                        "iteration": 865,
                        "remaining_time": 83.73873405,
                        "learn": [
                          0.3575376315
                        ]
                      },
                      {
                        "passed_time": 541.8586448,
                        "iteration": 866,
                        "remaining_time": 83.12249107,
                        "learn": [
                          0.35712487
                        ]
                      },
                      {
                        "passed_time": 542.3986687,
                        "iteration": 867,
                        "remaining_time": 82.48459018,
                        "learn": [
                          0.3567726468
                        ]
                      },
                      {
                        "passed_time": 543.0271716,
                        "iteration": 868,
                        "remaining_time": 81.86025256,
                        "learn": [
                          0.3564516696
                        ]
                      },
                      {
                        "passed_time": 543.6906307,
                        "iteration": 869,
                        "remaining_time": 81.24112873,
                        "learn": [
                          0.3559872623
                        ]
                      },
                      {
                        "passed_time": 544.2579163,
                        "iteration": 870,
                        "remaining_time": 80.60765925,
                        "learn": [
                          0.355542143
                        ]
                      },
                      {
                        "passed_time": 544.8497907,
                        "iteration": 871,
                        "remaining_time": 79.97795093,
                        "learn": [
                          0.3551074302
                        ]
                      },
                      {
                        "passed_time": 545.4309133,
                        "iteration": 872,
                        "remaining_time": 79.34676516,
                        "learn": [
                          0.3546459248
                        ]
                      },
                      {
                        "passed_time": 546.0636689,
                        "iteration": 873,
                        "remaining_time": 78.72313762,
                        "learn": [
                          0.3541638431
                        ]
                      },
                      {
                        "passed_time": 546.6242725,
                        "iteration": 874,
                        "remaining_time": 78.08918178,
                        "learn": [
                          0.3536037129
                        ]
                      },
                      {
                        "passed_time": 547.2154796,
                        "iteration": 875,
                        "remaining_time": 77.45972543,
                        "learn": [
                          0.3533398327
                        ]
                      },
                      {
                        "passed_time": 547.8006023,
                        "iteration": 876,
                        "remaining_time": 76.82950295,
                        "learn": [
                          0.3528650131
                        ]
                      },
                      {
                        "passed_time": 548.4367617,
                        "iteration": 877,
                        "remaining_time": 76.20647486,
                        "learn": [
                          0.3524038299
                        ]
                      },
                      {
                        "passed_time": 549.0629384,
                        "iteration": 878,
                        "remaining_time": 75.58204271,
                        "learn": [
                          0.352059761
                        ]
                      },
                      {
                        "passed_time": 549.631846,
                        "iteration": 879,
                        "remaining_time": 74.94979718,
                        "learn": [
                          0.3517531242
                        ]
                      },
                      {
                        "passed_time": 550.2438609,
                        "iteration": 880,
                        "remaining_time": 74.3235181,
                        "learn": [
                          0.3512651644
                        ]
                      },
                      {
                        "passed_time": 550.8027111,
                        "iteration": 881,
                        "remaining_time": 73.69015863,
                        "learn": [
                          0.3508847109
                        ]
                      },
                      {
                        "passed_time": 551.4516931,
                        "iteration": 882,
                        "remaining_time": 73.06891063,
                        "learn": [
                          0.3506003433
                        ]
                      },
                      {
                        "passed_time": 552.0730964,
                        "iteration": 883,
                        "remaining_time": 72.44398098,
                        "learn": [
                          0.3500219972
                        ]
                      },
                      {
                        "passed_time": 552.7049476,
                        "iteration": 884,
                        "remaining_time": 71.82041692,
                        "learn": [
                          0.3495169484
                        ]
                      },
                      {
                        "passed_time": 553.325026,
                        "iteration": 885,
                        "remaining_time": 71.19531938,
                        "learn": [
                          0.349103899
                        ]
                      },
                      {
                        "passed_time": 553.9655874,
                        "iteration": 886,
                        "remaining_time": 70.57284259,
                        "learn": [
                          0.3486884011
                        ]
                      },
                      {
                        "passed_time": 554.5604982,
                        "iteration": 887,
                        "remaining_time": 69.94456734,
                        "learn": [
                          0.3483867092
                        ]
                      },
                      {
                        "passed_time": 555.1463637,
                        "iteration": 888,
                        "remaining_time": 69.31523777,
                        "learn": [
                          0.3479374391
                        ]
                      },
                      {
                        "passed_time": 555.7615406,
                        "iteration": 889,
                        "remaining_time": 68.68962862,
                        "learn": [
                          0.3476088399
                        ]
                      },
                      {
                        "passed_time": 556.3534535,
                        "iteration": 890,
                        "remaining_time": 68.06119689,
                        "learn": [
                          0.3470411901
                        ]
                      },
                      {
                        "passed_time": 556.969096,
                        "iteration": 891,
                        "remaining_time": 67.43572014,
                        "learn": [
                          0.3466110711
                        ]
                      },
                      {
                        "passed_time": 557.5179853,
                        "iteration": 892,
                        "remaining_time": 66.80226699,
                        "learn": [
                          0.3461789618
                        ]
                      },
                      {
                        "passed_time": 558.1481344,
                        "iteration": 893,
                        "remaining_time": 66.17863786,
                        "learn": [
                          0.3458064429
                        ]
                      },
                      {
                        "passed_time": 558.7909201,
                        "iteration": 894,
                        "remaining_time": 65.55647666,
                        "learn": [
                          0.3454037144
                        ]
                      },
                      {
                        "passed_time": 559.437059,
                        "iteration": 895,
                        "remaining_time": 64.93465864,
                        "learn": [
                          0.3450348475
                        ]
                      },
                      {
                        "passed_time": 560.1290739,
                        "iteration": 896,
                        "remaining_time": 64.31805419,
                        "learn": [
                          0.3446988109
                        ]
                      },
                      {
                        "passed_time": 560.757483,
                        "iteration": 897,
                        "remaining_time": 63.69405709,
                        "learn": [
                          0.3441810271
                        ]
                      },
                      {
                        "passed_time": 561.4711601,
                        "iteration": 898,
                        "remaining_time": 63.07962978,
                        "learn": [
                          0.3439022578
                        ]
                      },
                      {
                        "passed_time": 562.1465594,
                        "iteration": 899,
                        "remaining_time": 62.46072882,
                        "learn": [
                          0.3434900337
                        ]
                      },
                      {
                        "passed_time": 562.7739365,
                        "iteration": 900,
                        "remaining_time": 61.83642588,
                        "learn": [
                          0.3430972289
                        ]
                      },
                      {
                        "passed_time": 563.5168072,
                        "iteration": 901,
                        "remaining_time": 61.2246642,
                        "learn": [
                          0.342662513
                        ]
                      },
                      {
                        "passed_time": 564.1703211,
                        "iteration": 902,
                        "remaining_time": 60.60301345,
                        "learn": [
                          0.3421998597
                        ]
                      },
                      {
                        "passed_time": 564.7716608,
                        "iteration": 903,
                        "remaining_time": 59.97575159,
                        "learn": [
                          0.3417459531
                        ]
                      },
                      {
                        "passed_time": 565.5749518,
                        "iteration": 904,
                        "remaining_time": 59.36974632,
                        "learn": [
                          0.341428709
                        ]
                      },
                      {
                        "passed_time": 566.2237455,
                        "iteration": 905,
                        "remaining_time": 58.74727603,
                        "learn": [
                          0.3411363198
                        ]
                      },
                      {
                        "passed_time": 566.9007627,
                        "iteration": 906,
                        "remaining_time": 58.1276416,
                        "learn": [
                          0.3407346037
                        ]
                      },
                      {
                        "passed_time": 567.5350637,
                        "iteration": 907,
                        "remaining_time": 57.50355271,
                        "learn": [
                          0.3403140555
                        ]
                      },
                      {
                        "passed_time": 568.2038766,
                        "iteration": 908,
                        "remaining_time": 56.88289634,
                        "learn": [
                          0.3399170044
                        ]
                      },
                      {
                        "passed_time": 568.783324,
                        "iteration": 909,
                        "remaining_time": 56.25329578,
                        "learn": [
                          0.3394309298
                        ]
                      },
                      {
                        "passed_time": 569.4537533,
                        "iteration": 910,
                        "remaining_time": 55.63269379,
                        "learn": [
                          0.3389402287
                        ]
                      },
                      {
                        "passed_time": 570.1422854,
                        "iteration": 911,
                        "remaining_time": 55.01372929,
                        "learn": [
                          0.3385427012
                        ]
                      },
                      {
                        "passed_time": 570.7016252,
                        "iteration": 912,
                        "remaining_time": 54.38230163,
                        "learn": [
                          0.3382043351
                        ]
                      },
                      {
                        "passed_time": 571.3225646,
                        "iteration": 913,
                        "remaining_time": 53.75682774,
                        "learn": [
                          0.3376487467
                        ]
                      },
                      {
                        "passed_time": 571.8672522,
                        "iteration": 914,
                        "remaining_time": 53.12428026,
                        "learn": [
                          0.3373357273
                        ]
                      },
                      {
                        "passed_time": 572.4513038,
                        "iteration": 915,
                        "remaining_time": 52.49553441,
                        "learn": [
                          0.3371007382
                        ]
                      },
                      {
                        "passed_time": 573.0308223,
                        "iteration": 916,
                        "remaining_time": 51.86647574,
                        "learn": [
                          0.3366711234
                        ]
                      },
                      {
                        "passed_time": 573.6255341,
                        "iteration": 917,
                        "remaining_time": 51.23888213,
                        "learn": [
                          0.336329874
                        ]
                      },
                      {
                        "passed_time": 574.179457,
                        "iteration": 918,
                        "remaining_time": 50.60776498,
                        "learn": [
                          0.3359319115
                        ]
                      },
                      {
                        "passed_time": 574.7910525,
                        "iteration": 919,
                        "remaining_time": 49.98183065,
                        "learn": [
                          0.3355069043
                        ]
                      },
                      {
                        "passed_time": 575.3237566,
                        "iteration": 920,
                        "remaining_time": 49.34916045,
                        "learn": [
                          0.3352621274
                        ]
                      },
                      {
                        "passed_time": 575.9071389,
                        "iteration": 921,
                        "remaining_time": 48.72099439,
                        "learn": [
                          0.335072599
                        ]
                      },
                      {
                        "passed_time": 576.4691451,
                        "iteration": 922,
                        "remaining_time": 48.09114212,
                        "learn": [
                          0.3348036593
                        ]
                      },
                      {
                        "passed_time": 577.0245918,
                        "iteration": 923,
                        "remaining_time": 47.46089716,
                        "learn": [
                          0.3345315553
                        ]
                      },
                      {
                        "passed_time": 577.598357,
                        "iteration": 924,
                        "remaining_time": 46.83229921,
                        "learn": [
                          0.3342649617
                        ]
                      },
                      {
                        "passed_time": 578.2047358,
                        "iteration": 925,
                        "remaining_time": 46.20642597,
                        "learn": [
                          0.3336345823
                        ]
                      },
                      {
                        "passed_time": 578.833172,
                        "iteration": 926,
                        "remaining_time": 45.58233178,
                        "learn": [
                          0.3330779204
                        ]
                      },
                      {
                        "passed_time": 579.4134516,
                        "iteration": 927,
                        "remaining_time": 44.95449193,
                        "learn": [
                          0.3326714522
                        ]
                      },
                      {
                        "passed_time": 580.0899588,
                        "iteration": 928,
                        "remaining_time": 44.3341088,
                        "learn": [
                          0.3324539458
                        ]
                      },
                      {
                        "passed_time": 580.701361,
                        "iteration": 929,
                        "remaining_time": 43.70870459,
                        "learn": [
                          0.3320962707
                        ]
                      },
                      {
                        "passed_time": 581.3907803,
                        "iteration": 930,
                        "remaining_time": 43.08911261,
                        "learn": [
                          0.3316993158
                        ]
                      },
                      {
                        "passed_time": 582.0568753,
                        "iteration": 931,
                        "remaining_time": 42.46766901,
                        "learn": [
                          0.3313221045
                        ]
                      },
                      {
                        "passed_time": 582.6503879,
                        "iteration": 932,
                        "remaining_time": 41.84091746,
                        "learn": [
                          0.3309545827
                        ]
                      },
                      {
                        "passed_time": 583.2648516,
                        "iteration": 933,
                        "remaining_time": 41.21571756,
                        "learn": [
                          0.3306398925
                        ]
                      },
                      {
                        "passed_time": 583.8233107,
                        "iteration": 934,
                        "remaining_time": 40.58664727,
                        "learn": [
                          0.3303137155
                        ]
                      },
                      {
                        "passed_time": 584.4363544,
                        "iteration": 935,
                        "remaining_time": 39.96146013,
                        "learn": [
                          0.3298938999
                        ]
                      },
                      {
                        "passed_time": 584.991708,
                        "iteration": 936,
                        "remaining_time": 39.33242007,
                        "learn": [
                          0.3295976246
                        ]
                      },
                      {
                        "passed_time": 585.6231216,
                        "iteration": 937,
                        "remaining_time": 38.70856454,
                        "learn": [
                          0.3291405397
                        ]
                      },
                      {
                        "passed_time": 586.1512441,
                        "iteration": 938,
                        "remaining_time": 38.07798284,
                        "learn": [
                          0.3288173472
                        ]
                      },
                      {
                        "passed_time": 586.7595074,
                        "iteration": 939,
                        "remaining_time": 37.45273451,
                        "learn": [
                          0.3283856473
                        ]
                      },
                      {
                        "passed_time": 587.3300168,
                        "iteration": 940,
                        "remaining_time": 36.82515514,
                        "learn": [
                          0.3279907119
                        ]
                      },
                      {
                        "passed_time": 587.9714969,
                        "iteration": 941,
                        "remaining_time": 36.20206669,
                        "learn": [
                          0.3276332739
                        ]
                      },
                      {
                        "passed_time": 588.5957873,
                        "iteration": 942,
                        "remaining_time": 35.57790018,
                        "learn": [
                          0.3272722437
                        ]
                      },
                      {
                        "passed_time": 589.1422872,
                        "iteration": 943,
                        "remaining_time": 34.94911873,
                        "learn": [
                          0.3270323336
                        ]
                      },
                      {
                        "passed_time": 589.7579406,
                        "iteration": 944,
                        "remaining_time": 34.32453623,
                        "learn": [
                          0.326704644
                        ]
                      },
                      {
                        "passed_time": 590.3023377,
                        "iteration": 945,
                        "remaining_time": 33.69590511,
                        "learn": [
                          0.3263747935
                        ]
                      },
                      {
                        "passed_time": 590.9507452,
                        "iteration": 946,
                        "remaining_time": 33.07327296,
                        "learn": [
                          0.3260380121
                        ]
                      },
                      {
                        "passed_time": 591.5841299,
                        "iteration": 947,
                        "remaining_time": 32.4497624,
                        "learn": [
                          0.3256845624
                        ]
                      },
                      {
                        "passed_time": 592.1915969,
                        "iteration": 948,
                        "remaining_time": 31.82483819,
                        "learn": [
                          0.3253267657
                        ]
                      },
                      {
                        "passed_time": 592.7628717,
                        "iteration": 949,
                        "remaining_time": 31.19804588,
                        "learn": [
                          0.3248826007
                        ]
                      },
                      {
                        "passed_time": 593.3970845,
                        "iteration": 950,
                        "remaining_time": 30.57461318,
                        "learn": [
                          0.3245486974
                        ]
                      },
                      {
                        "passed_time": 593.9488578,
                        "iteration": 951,
                        "remaining_time": 29.94700123,
                        "learn": [
                          0.3242114996
                        ]
                      },
                      {
                        "passed_time": 594.5755061,
                        "iteration": 952,
                        "remaining_time": 29.32324112,
                        "learn": [
                          0.3237393607
                        ]
                      },
                      {
                        "passed_time": 595.1612331,
                        "iteration": 953,
                        "remaining_time": 28.69750181,
                        "learn": [
                          0.3233992565
                        ]
                      },
                      {
                        "passed_time": 595.7250555,
                        "iteration": 954,
                        "remaining_time": 28.07081413,
                        "learn": [
                          0.3230241049
                        ]
                      },
                      {
                        "passed_time": 596.4094978,
                        "iteration": 955,
                        "remaining_time": 27.44980952,
                        "learn": [
                          0.3225129498
                        ]
                      },
                      {
                        "passed_time": 597.0467745,
                        "iteration": 956,
                        "remaining_time": 26.82655309,
                        "learn": [
                          0.3221555877
                        ]
                      },
                      {
                        "passed_time": 597.9130142,
                        "iteration": 957,
                        "remaining_time": 26.21330542,
                        "learn": [
                          0.3218139143
                        ]
                      },
                      {
                        "passed_time": 598.5531911,
                        "iteration": 958,
                        "remaining_time": 25.58986531,
                        "learn": [
                          0.3214200898
                        ]
                      },
                      {
                        "passed_time": 599.2701966,
                        "iteration": 959,
                        "remaining_time": 24.96959152,
                        "learn": [
                          0.3211061895
                        ]
                      },
                      {
                        "passed_time": 599.9361717,
                        "iteration": 960,
                        "remaining_time": 24.34704547,
                        "learn": [
                          0.3207316262
                        ]
                      },
                      {
                        "passed_time": 600.5314563,
                        "iteration": 961,
                        "remaining_time": 23.72161678,
                        "learn": [
                          0.3204379926
                        ]
                      },
                      {
                        "passed_time": 601.2220748,
                        "iteration": 962,
                        "remaining_time": 23.09991357,
                        "learn": [
                          0.3200803464
                        ]
                      },
                      {
                        "passed_time": 601.8619235,
                        "iteration": 963,
                        "remaining_time": 22.47617142,
                        "learn": [
                          0.3196753014
                        ]
                      },
                      {
                        "passed_time": 602.5494574,
                        "iteration": 964,
                        "remaining_time": 21.8541254,
                        "learn": [
                          0.3192995215
                        ]
                      },
                      {
                        "passed_time": 603.1906093,
                        "iteration": 965,
                        "remaining_time": 21.2303113,
                        "learn": [
                          0.3189848607
                        ]
                      },
                      {
                        "passed_time": 603.7406458,
                        "iteration": 966,
                        "remaining_time": 20.60335192,
                        "learn": [
                          0.3186098676
                        ]
                      },
                      {
                        "passed_time": 604.4199956,
                        "iteration": 967,
                        "remaining_time": 19.9808263,
                        "learn": [
                          0.3182044888
                        ]
                      },
                      {
                        "passed_time": 605.03357,
                        "iteration": 968,
                        "remaining_time": 19.35607912,
                        "learn": [
                          0.3179407145
                        ]
                      },
                      {
                        "passed_time": 605.7026315,
                        "iteration": 969,
                        "remaining_time": 18.73307108,
                        "learn": [
                          0.3175469487
                        ]
                      },
                      {
                        "passed_time": 606.3353669,
                        "iteration": 970,
                        "remaining_time": 18.10888326,
                        "learn": [
                          0.3171912806
                        ]
                      },
                      {
                        "passed_time": 607.0477614,
                        "iteration": 971,
                        "remaining_time": 17.48697255,
                        "learn": [
                          0.3167829566
                        ]
                      },
                      {
                        "passed_time": 607.7086863,
                        "iteration": 972,
                        "remaining_time": 16.86344762,
                        "learn": [
                          0.3164585852
                        ]
                      },
                      {
                        "passed_time": 608.294653,
                        "iteration": 973,
                        "remaining_time": 16.23784495,
                        "learn": [
                          0.316177045
                        ]
                      },
                      {
                        "passed_time": 608.9186499,
                        "iteration": 974,
                        "remaining_time": 15.61329871,
                        "learn": [
                          0.3158431802
                        ]
                      },
                      {
                        "passed_time": 609.4707653,
                        "iteration": 975,
                        "remaining_time": 14.98698603,
                        "learn": [
                          0.3155463997
                        ]
                      },
                      {
                        "passed_time": 610.0646222,
                        "iteration": 976,
                        "remaining_time": 14.36180789,
                        "learn": [
                          0.3152482104
                        ]
                      },
                      {
                        "passed_time": 610.6075017,
                        "iteration": 977,
                        "remaining_time": 13.73554707,
                        "learn": [
                          0.3148400607
                        ]
                      },
                      {
                        "passed_time": 611.2315951,
                        "iteration": 978,
                        "remaining_time": 13.11119867,
                        "learn": [
                          0.3144195528
                        ]
                      },
                      {
                        "passed_time": 611.7855453,
                        "iteration": 979,
                        "remaining_time": 12.48541929,
                        "learn": [
                          0.3140926321
                        ]
                      },
                      {
                        "passed_time": 612.4038767,
                        "iteration": 980,
                        "remaining_time": 11.86103329,
                        "learn": [
                          0.3138055245
                        ]
                      },
                      {
                        "passed_time": 612.9784268,
                        "iteration": 981,
                        "remaining_time": 11.23585711,
                        "learn": [
                          0.3134951564
                        ]
                      },
                      {
                        "passed_time": 613.5999667,
                        "iteration": 982,
                        "remaining_time": 10.61159657,
                        "learn": [
                          0.3130600357
                        ]
                      },
                      {
                        "passed_time": 614.226967,
                        "iteration": 983,
                        "remaining_time": 9.987430358,
                        "learn": [
                          0.3126873372
                        ]
                      },
                      {
                        "passed_time": 614.7926491,
                        "iteration": 984,
                        "remaining_time": 9.362324606,
                        "learn": [
                          0.3123308042
                        ]
                      },
                      {
                        "passed_time": 615.4344167,
                        "iteration": 985,
                        "remaining_time": 8.73841971,
                        "learn": [
                          0.3119832404
                        ]
                      },
                      {
                        "passed_time": 616.0672416,
                        "iteration": 986,
                        "remaining_time": 8.114360832,
                        "learn": [
                          0.3116025571
                        ]
                      },
                      {
                        "passed_time": 616.7627133,
                        "iteration": 987,
                        "remaining_time": 7.4910451,
                        "learn": [
                          0.3110485217
                        ]
                      },
                      {
                        "passed_time": 617.4018296,
                        "iteration": 988,
                        "remaining_time": 6.866956649,
                        "learn": [
                          0.3106843388
                        ]
                      },
                      {
                        "passed_time": 618.0735802,
                        "iteration": 989,
                        "remaining_time": 6.243167477,
                        "learn": [
                          0.3104281533
                        ]
                      },
                      {
                        "passed_time": 618.7416122,
                        "iteration": 990,
                        "remaining_time": 5.61924774,
                        "learn": [
                          0.3099397738
                        ]
                      },
                      {
                        "passed_time": 619.3064475,
                        "iteration": 991,
                        "remaining_time": 4.994406835,
                        "learn": [
                          0.3095453535
                        ]
                      },
                      {
                        "passed_time": 619.9283933,
                        "iteration": 992,
                        "remaining_time": 4.370089379,
                        "learn": [
                          0.309092556
                        ]
                      },
                      {
                        "passed_time": 620.4848566,
                        "iteration": 993,
                        "remaining_time": 3.745381428,
                        "learn": [
                          0.3087908697
                        ]
                      },
                      {
                        "passed_time": 621.1707738,
                        "iteration": 994,
                        "remaining_time": 3.121461175,
                        "learn": [
                          0.308415163
                        ]
                      },
                      {
                        "passed_time": 621.8388669,
                        "iteration": 995,
                        "remaining_time": 2.497344847,
                        "learn": [
                          0.3080366051
                        ]
                      },
                      {
                        "passed_time": 622.4572801,
                        "iteration": 996,
                        "remaining_time": 1.872990813,
                        "learn": [
                          0.3076699391
                        ]
                      },
                      {
                        "passed_time": 623.135436,
                        "iteration": 997,
                        "remaining_time": 1.248768409,
                        "learn": [
                          0.3072702493
                        ]
                      },
                      {
                        "passed_time": 623.7258413,
                        "iteration": 998,
                        "remaining_time": 0.6243501915,
                        "learn": [
                          0.3068730879
                        ]
                      },
                      {
                        "passed_time": 624.352454,
                        "iteration": 999,
                        "remaining_time": 0,
                        "learn": [
                          0.3063729199
                        ]
                      }
                    ]
                  },
                  "total_iterations": 1000,
                  "passed_iterations": 999
                },
                "path": "catboost_info",
                "name": "catboost_info"
              }
            },
            "_view_module": "catboost-widget",
            "_model_module_version": "^1.0.0",
            "_view_count": null,
            "_view_module_version": "^1.0.0",
            "layout": "IPY_MODEL_18c80f8211524a6e90977546f67e4bbe",
            "_model_module": "catboost-widget"
          }
        }
      }
    }
  },
  "cells": [
    {
      "cell_type": "markdown",
      "metadata": {
        "id": "view-in-github",
        "colab_type": "text"
      },
      "source": [
        "<a href=\"https://colab.research.google.com/github/MKrezheska/NLP_Project-Style_Change_Detection/blob/main/Models_doc2vec_Task2.ipynb\" target=\"_parent\"><img src=\"https://colab.research.google.com/assets/colab-badge.svg\" alt=\"Open In Colab\"/></a>"
      ]
    },
    {
      "cell_type": "code",
      "metadata": {
        "colab": {
          "base_uri": "https://localhost:8080/"
        },
        "id": "rdQCV-9w0zlB",
        "outputId": "01de887f-2605-4910-d22a-9bc662c4e285"
      },
      "source": [
        "from google.colab import drive\n",
        "drive.mount('/content/drive')"
      ],
      "execution_count": 57,
      "outputs": [
        {
          "output_type": "stream",
          "name": "stdout",
          "text": [
            "Drive already mounted at /content/drive; to attempt to forcibly remount, call drive.mount(\"/content/drive\", force_remount=True).\n"
          ]
        }
      ]
    },
    {
      "cell_type": "code",
      "metadata": {
        "id": "JFRgLrGS8HFn"
      },
      "source": [
        "import pandas as pd"
      ],
      "execution_count": 58,
      "outputs": []
    },
    {
      "cell_type": "code",
      "metadata": {
        "id": "8JqDRgHAN5mg"
      },
      "source": [
        "import json\n",
        "import numpy as np \n",
        "import time\n",
        "import joblib"
      ],
      "execution_count": 59,
      "outputs": []
    },
    {
      "cell_type": "code",
      "metadata": {
        "id": "55siDObqEJMa"
      },
      "source": [
        "df = pd.read_csv('drive/MyDrive/pan-2021/train-all-doc2vec-t2.csv')"
      ],
      "execution_count": 60,
      "outputs": []
    },
    {
      "cell_type": "code",
      "metadata": {
        "colab": {
          "base_uri": "https://localhost:8080/",
          "height": 416
        },
        "id": "yNxidgNkLtd-",
        "outputId": "5423ee85-7e28-4875-ce5e-0094648b2a90"
      },
      "source": [
        "df"
      ],
      "execution_count": 61,
      "outputs": [
        {
          "output_type": "execute_result",
          "data": {
            "text/html": [
              "<div>\n",
              "<style scoped>\n",
              "    .dataframe tbody tr th:only-of-type {\n",
              "        vertical-align: middle;\n",
              "    }\n",
              "\n",
              "    .dataframe tbody tr th {\n",
              "        vertical-align: top;\n",
              "    }\n",
              "\n",
              "    .dataframe thead th {\n",
              "        text-align: right;\n",
              "    }\n",
              "</style>\n",
              "<table border=\"1\" class=\"dataframe\">\n",
              "  <thead>\n",
              "    <tr style=\"text-align: right;\">\n",
              "      <th></th>\n",
              "      <th>Unnamed: 0</th>\n",
              "      <th>emb</th>\n",
              "      <th>label</th>\n",
              "    </tr>\n",
              "  </thead>\n",
              "  <tbody>\n",
              "    <tr>\n",
              "      <th>0</th>\n",
              "      <td>0</td>\n",
              "      <td>[0.06924932, -0.25643814, -0.27330634, -0.7190...</td>\n",
              "      <td>2</td>\n",
              "    </tr>\n",
              "    <tr>\n",
              "      <th>1</th>\n",
              "      <td>1</td>\n",
              "      <td>[0.06573843, -0.22989067, -0.31539053, -0.7379...</td>\n",
              "      <td>4</td>\n",
              "    </tr>\n",
              "    <tr>\n",
              "      <th>2</th>\n",
              "      <td>2</td>\n",
              "      <td>[0.06285742, -0.26100272, -0.2918665, -0.76148...</td>\n",
              "      <td>4</td>\n",
              "    </tr>\n",
              "    <tr>\n",
              "      <th>3</th>\n",
              "      <td>3</td>\n",
              "      <td>[0.046392955, -0.25465074, -0.2506725, -0.6695...</td>\n",
              "      <td>2</td>\n",
              "    </tr>\n",
              "    <tr>\n",
              "      <th>4</th>\n",
              "      <td>4</td>\n",
              "      <td>[0.058492783, -0.26142803, -0.29558456, -0.752...</td>\n",
              "      <td>3</td>\n",
              "    </tr>\n",
              "    <tr>\n",
              "      <th>...</th>\n",
              "      <td>...</td>\n",
              "      <td>...</td>\n",
              "      <td>...</td>\n",
              "    </tr>\n",
              "    <tr>\n",
              "      <th>11195</th>\n",
              "      <td>11195</td>\n",
              "      <td>[0.083049014, -0.21181066, -0.30392092, -0.782...</td>\n",
              "      <td>2</td>\n",
              "    </tr>\n",
              "    <tr>\n",
              "      <th>11196</th>\n",
              "      <td>11196</td>\n",
              "      <td>[0.07690144, -0.2368402, -0.29450998, -0.71980...</td>\n",
              "      <td>3</td>\n",
              "    </tr>\n",
              "    <tr>\n",
              "      <th>11197</th>\n",
              "      <td>11197</td>\n",
              "      <td>[0.07830705, -0.19369532, -0.3003696, -0.72892...</td>\n",
              "      <td>2</td>\n",
              "    </tr>\n",
              "    <tr>\n",
              "      <th>11198</th>\n",
              "      <td>11198</td>\n",
              "      <td>[0.029893693, -0.26020843, -0.28396496, -0.746...</td>\n",
              "      <td>3</td>\n",
              "    </tr>\n",
              "    <tr>\n",
              "      <th>11199</th>\n",
              "      <td>11199</td>\n",
              "      <td>[0.043238163, -0.2806307, -0.28548402, -0.7542...</td>\n",
              "      <td>4</td>\n",
              "    </tr>\n",
              "  </tbody>\n",
              "</table>\n",
              "<p>11200 rows × 3 columns</p>\n",
              "</div>"
            ],
            "text/plain": [
              "       Unnamed: 0                                                emb  label\n",
              "0               0  [0.06924932, -0.25643814, -0.27330634, -0.7190...      2\n",
              "1               1  [0.06573843, -0.22989067, -0.31539053, -0.7379...      4\n",
              "2               2  [0.06285742, -0.26100272, -0.2918665, -0.76148...      4\n",
              "3               3  [0.046392955, -0.25465074, -0.2506725, -0.6695...      2\n",
              "4               4  [0.058492783, -0.26142803, -0.29558456, -0.752...      3\n",
              "...           ...                                                ...    ...\n",
              "11195       11195  [0.083049014, -0.21181066, -0.30392092, -0.782...      2\n",
              "11196       11196  [0.07690144, -0.2368402, -0.29450998, -0.71980...      3\n",
              "11197       11197  [0.07830705, -0.19369532, -0.3003696, -0.72892...      2\n",
              "11198       11198  [0.029893693, -0.26020843, -0.28396496, -0.746...      3\n",
              "11199       11199  [0.043238163, -0.2806307, -0.28548402, -0.7542...      4\n",
              "\n",
              "[11200 rows x 3 columns]"
            ]
          },
          "metadata": {},
          "execution_count": 61
        }
      ]
    },
    {
      "cell_type": "code",
      "metadata": {
        "id": "WZpTJMbqNPsu"
      },
      "source": [
        "df = df.drop([\"Unnamed: 0\"], axis=\"columns\")"
      ],
      "execution_count": 62,
      "outputs": []
    },
    {
      "cell_type": "code",
      "metadata": {
        "colab": {
          "base_uri": "https://localhost:8080/",
          "height": 202
        },
        "id": "s6TkLMWbL0tY",
        "outputId": "5e933186-b597-4625-c91d-bdf43f080b4e"
      },
      "source": [
        "df_valid = pd.read_csv('drive/MyDrive/pan-2021/validation-all-doc2vec-t2.csv')\n",
        "df_valid.head()"
      ],
      "execution_count": 63,
      "outputs": [
        {
          "output_type": "execute_result",
          "data": {
            "text/html": [
              "<div>\n",
              "<style scoped>\n",
              "    .dataframe tbody tr th:only-of-type {\n",
              "        vertical-align: middle;\n",
              "    }\n",
              "\n",
              "    .dataframe tbody tr th {\n",
              "        vertical-align: top;\n",
              "    }\n",
              "\n",
              "    .dataframe thead th {\n",
              "        text-align: right;\n",
              "    }\n",
              "</style>\n",
              "<table border=\"1\" class=\"dataframe\">\n",
              "  <thead>\n",
              "    <tr style=\"text-align: right;\">\n",
              "      <th></th>\n",
              "      <th>Unnamed: 0</th>\n",
              "      <th>emb</th>\n",
              "      <th>label</th>\n",
              "    </tr>\n",
              "  </thead>\n",
              "  <tbody>\n",
              "    <tr>\n",
              "      <th>0</th>\n",
              "      <td>0</td>\n",
              "      <td>[0.03939512, -0.24804303, -0.2813319, -0.72638...</td>\n",
              "      <td>4</td>\n",
              "    </tr>\n",
              "    <tr>\n",
              "      <th>1</th>\n",
              "      <td>1</td>\n",
              "      <td>[0.038594052, -0.2600853, -0.29697317, -0.7238...</td>\n",
              "      <td>3</td>\n",
              "    </tr>\n",
              "    <tr>\n",
              "      <th>2</th>\n",
              "      <td>2</td>\n",
              "      <td>[0.0663576, -0.28915745, -0.27263632, -0.76401...</td>\n",
              "      <td>3</td>\n",
              "    </tr>\n",
              "    <tr>\n",
              "      <th>3</th>\n",
              "      <td>3</td>\n",
              "      <td>[0.07062378, -0.2118937, -0.33366448, -0.76128...</td>\n",
              "      <td>4</td>\n",
              "    </tr>\n",
              "    <tr>\n",
              "      <th>4</th>\n",
              "      <td>4</td>\n",
              "      <td>[0.05476076, -0.27742493, -0.29275045, -0.7475...</td>\n",
              "      <td>4</td>\n",
              "    </tr>\n",
              "  </tbody>\n",
              "</table>\n",
              "</div>"
            ],
            "text/plain": [
              "   Unnamed: 0                                                emb  label\n",
              "0           0  [0.03939512, -0.24804303, -0.2813319, -0.72638...      4\n",
              "1           1  [0.038594052, -0.2600853, -0.29697317, -0.7238...      3\n",
              "2           2  [0.0663576, -0.28915745, -0.27263632, -0.76401...      3\n",
              "3           3  [0.07062378, -0.2118937, -0.33366448, -0.76128...      4\n",
              "4           4  [0.05476076, -0.27742493, -0.29275045, -0.7475...      4"
            ]
          },
          "metadata": {},
          "execution_count": 63
        }
      ]
    },
    {
      "cell_type": "code",
      "metadata": {
        "id": "Mj1sf7VFMBJX"
      },
      "source": [
        "df_valid = df_valid.drop([\"Unnamed: 0\"], axis=\"columns\")"
      ],
      "execution_count": 64,
      "outputs": []
    },
    {
      "cell_type": "code",
      "metadata": {
        "colab": {
          "base_uri": "https://localhost:8080/"
        },
        "id": "NsH17aHpjVrv",
        "outputId": "2f376029-1e79-412e-ffad-0dff5d1e4e23"
      },
      "source": [
        "df_train = df.iloc[:, : ]\n",
        "df_test = df_valid.iloc[:, : ]\n",
        "print(len(df_train))\n",
        "print(len(df_test))"
      ],
      "execution_count": 65,
      "outputs": [
        {
          "output_type": "stream",
          "name": "stdout",
          "text": [
            "11200\n",
            "2400\n"
          ]
        }
      ]
    },
    {
      "cell_type": "code",
      "metadata": {
        "colab": {
          "base_uri": "https://localhost:8080/",
          "height": 664
        },
        "id": "t68ySKq0f0eo",
        "outputId": "6043f2e9-a2db-49e0-d4db-6d4b145dafc5"
      },
      "source": [
        "y_train = df_train['label']\n",
        "df_train.drop(['label'], axis=1, inplace= True)\n",
        "df_train.head(20)"
      ],
      "execution_count": 66,
      "outputs": [
        {
          "output_type": "execute_result",
          "data": {
            "text/html": [
              "<div>\n",
              "<style scoped>\n",
              "    .dataframe tbody tr th:only-of-type {\n",
              "        vertical-align: middle;\n",
              "    }\n",
              "\n",
              "    .dataframe tbody tr th {\n",
              "        vertical-align: top;\n",
              "    }\n",
              "\n",
              "    .dataframe thead th {\n",
              "        text-align: right;\n",
              "    }\n",
              "</style>\n",
              "<table border=\"1\" class=\"dataframe\">\n",
              "  <thead>\n",
              "    <tr style=\"text-align: right;\">\n",
              "      <th></th>\n",
              "      <th>emb</th>\n",
              "    </tr>\n",
              "  </thead>\n",
              "  <tbody>\n",
              "    <tr>\n",
              "      <th>0</th>\n",
              "      <td>[0.06924932, -0.25643814, -0.27330634, -0.7190...</td>\n",
              "    </tr>\n",
              "    <tr>\n",
              "      <th>1</th>\n",
              "      <td>[0.06573843, -0.22989067, -0.31539053, -0.7379...</td>\n",
              "    </tr>\n",
              "    <tr>\n",
              "      <th>2</th>\n",
              "      <td>[0.06285742, -0.26100272, -0.2918665, -0.76148...</td>\n",
              "    </tr>\n",
              "    <tr>\n",
              "      <th>3</th>\n",
              "      <td>[0.046392955, -0.25465074, -0.2506725, -0.6695...</td>\n",
              "    </tr>\n",
              "    <tr>\n",
              "      <th>4</th>\n",
              "      <td>[0.058492783, -0.26142803, -0.29558456, -0.752...</td>\n",
              "    </tr>\n",
              "    <tr>\n",
              "      <th>5</th>\n",
              "      <td>[0.035753787, -0.26272282, -0.3075458, -0.7400...</td>\n",
              "    </tr>\n",
              "    <tr>\n",
              "      <th>6</th>\n",
              "      <td>[0.058088552, -0.25928256, -0.28793675, -0.750...</td>\n",
              "    </tr>\n",
              "    <tr>\n",
              "      <th>7</th>\n",
              "      <td>[0.05072801, -0.23375107, -0.30449012, -0.7192...</td>\n",
              "    </tr>\n",
              "    <tr>\n",
              "      <th>8</th>\n",
              "      <td>[0.07670629, -0.2574865, -0.32222596, -0.79441...</td>\n",
              "    </tr>\n",
              "    <tr>\n",
              "      <th>9</th>\n",
              "      <td>[0.047125563, -0.22618222, -0.32718807, -0.754...</td>\n",
              "    </tr>\n",
              "    <tr>\n",
              "      <th>10</th>\n",
              "      <td>[0.071918495, -0.19711925, -0.3359532, -0.7538...</td>\n",
              "    </tr>\n",
              "    <tr>\n",
              "      <th>11</th>\n",
              "      <td>[0.0770889, -0.25213498, -0.27303118, -0.75016...</td>\n",
              "    </tr>\n",
              "    <tr>\n",
              "      <th>12</th>\n",
              "      <td>[0.033544872, -0.30654424, -0.2894983, -0.7338...</td>\n",
              "    </tr>\n",
              "    <tr>\n",
              "      <th>13</th>\n",
              "      <td>[0.07913934, -0.2316586, -0.3067013, -0.76848,...</td>\n",
              "    </tr>\n",
              "    <tr>\n",
              "      <th>14</th>\n",
              "      <td>[0.087961674, -0.25237766, -0.27590987, -0.722...</td>\n",
              "    </tr>\n",
              "    <tr>\n",
              "      <th>15</th>\n",
              "      <td>[0.090331204, -0.25944987, -0.32262698, -0.755...</td>\n",
              "    </tr>\n",
              "    <tr>\n",
              "      <th>16</th>\n",
              "      <td>[0.0861901, -0.2489094, -0.31096572, -0.771350...</td>\n",
              "    </tr>\n",
              "    <tr>\n",
              "      <th>17</th>\n",
              "      <td>[0.049501084, -0.3140311, -0.27281004, -0.7451...</td>\n",
              "    </tr>\n",
              "    <tr>\n",
              "      <th>18</th>\n",
              "      <td>[0.06186957, -0.2825821, -0.29298145, -0.75119...</td>\n",
              "    </tr>\n",
              "    <tr>\n",
              "      <th>19</th>\n",
              "      <td>[0.06879972, -0.2414715, -0.28431714, -0.69158...</td>\n",
              "    </tr>\n",
              "  </tbody>\n",
              "</table>\n",
              "</div>"
            ],
            "text/plain": [
              "                                                  emb\n",
              "0   [0.06924932, -0.25643814, -0.27330634, -0.7190...\n",
              "1   [0.06573843, -0.22989067, -0.31539053, -0.7379...\n",
              "2   [0.06285742, -0.26100272, -0.2918665, -0.76148...\n",
              "3   [0.046392955, -0.25465074, -0.2506725, -0.6695...\n",
              "4   [0.058492783, -0.26142803, -0.29558456, -0.752...\n",
              "5   [0.035753787, -0.26272282, -0.3075458, -0.7400...\n",
              "6   [0.058088552, -0.25928256, -0.28793675, -0.750...\n",
              "7   [0.05072801, -0.23375107, -0.30449012, -0.7192...\n",
              "8   [0.07670629, -0.2574865, -0.32222596, -0.79441...\n",
              "9   [0.047125563, -0.22618222, -0.32718807, -0.754...\n",
              "10  [0.071918495, -0.19711925, -0.3359532, -0.7538...\n",
              "11  [0.0770889, -0.25213498, -0.27303118, -0.75016...\n",
              "12  [0.033544872, -0.30654424, -0.2894983, -0.7338...\n",
              "13  [0.07913934, -0.2316586, -0.3067013, -0.76848,...\n",
              "14  [0.087961674, -0.25237766, -0.27590987, -0.722...\n",
              "15  [0.090331204, -0.25944987, -0.32262698, -0.755...\n",
              "16  [0.0861901, -0.2489094, -0.31096572, -0.771350...\n",
              "17  [0.049501084, -0.3140311, -0.27281004, -0.7451...\n",
              "18  [0.06186957, -0.2825821, -0.29298145, -0.75119...\n",
              "19  [0.06879972, -0.2414715, -0.28431714, -0.69158..."
            ]
          },
          "metadata": {},
          "execution_count": 66
        }
      ]
    },
    {
      "cell_type": "code",
      "metadata": {
        "colab": {
          "base_uri": "https://localhost:8080/",
          "height": 664
        },
        "id": "c25t5BcMmOxV",
        "outputId": "83278568-9f31-4de0-c0ef-53f3487caac6"
      },
      "source": [
        "y_test = df_test['label']\n",
        "df_test.drop(['label'], axis=1, inplace= True)\n",
        "df_test.head(20)"
      ],
      "execution_count": 67,
      "outputs": [
        {
          "output_type": "execute_result",
          "data": {
            "text/html": [
              "<div>\n",
              "<style scoped>\n",
              "    .dataframe tbody tr th:only-of-type {\n",
              "        vertical-align: middle;\n",
              "    }\n",
              "\n",
              "    .dataframe tbody tr th {\n",
              "        vertical-align: top;\n",
              "    }\n",
              "\n",
              "    .dataframe thead th {\n",
              "        text-align: right;\n",
              "    }\n",
              "</style>\n",
              "<table border=\"1\" class=\"dataframe\">\n",
              "  <thead>\n",
              "    <tr style=\"text-align: right;\">\n",
              "      <th></th>\n",
              "      <th>emb</th>\n",
              "    </tr>\n",
              "  </thead>\n",
              "  <tbody>\n",
              "    <tr>\n",
              "      <th>0</th>\n",
              "      <td>[0.03939512, -0.24804303, -0.2813319, -0.72638...</td>\n",
              "    </tr>\n",
              "    <tr>\n",
              "      <th>1</th>\n",
              "      <td>[0.038594052, -0.2600853, -0.29697317, -0.7238...</td>\n",
              "    </tr>\n",
              "    <tr>\n",
              "      <th>2</th>\n",
              "      <td>[0.0663576, -0.28915745, -0.27263632, -0.76401...</td>\n",
              "    </tr>\n",
              "    <tr>\n",
              "      <th>3</th>\n",
              "      <td>[0.07062378, -0.2118937, -0.33366448, -0.76128...</td>\n",
              "    </tr>\n",
              "    <tr>\n",
              "      <th>4</th>\n",
              "      <td>[0.05476076, -0.27742493, -0.29275045, -0.7475...</td>\n",
              "    </tr>\n",
              "    <tr>\n",
              "      <th>5</th>\n",
              "      <td>[0.016969422, -0.28680927, -0.2456671, -0.7298...</td>\n",
              "    </tr>\n",
              "    <tr>\n",
              "      <th>6</th>\n",
              "      <td>[0.07492879, -0.2016417, -0.311591, -0.7444280...</td>\n",
              "    </tr>\n",
              "    <tr>\n",
              "      <th>7</th>\n",
              "      <td>[0.068105504, -0.27478743, -0.2942579, -0.7808...</td>\n",
              "    </tr>\n",
              "    <tr>\n",
              "      <th>8</th>\n",
              "      <td>[0.07256639, -0.2535855, -0.31979063, -0.76345...</td>\n",
              "    </tr>\n",
              "    <tr>\n",
              "      <th>9</th>\n",
              "      <td>[0.04020924, -0.28264266, -0.28948796, -0.7489...</td>\n",
              "    </tr>\n",
              "    <tr>\n",
              "      <th>10</th>\n",
              "      <td>[0.06852859, -0.22285981, -0.30695286, -0.7372...</td>\n",
              "    </tr>\n",
              "    <tr>\n",
              "      <th>11</th>\n",
              "      <td>[0.03437467, -0.2630257, -0.2840329, -0.767551...</td>\n",
              "    </tr>\n",
              "    <tr>\n",
              "      <th>12</th>\n",
              "      <td>[0.05225028, -0.28983083, -0.26871103, -0.7814...</td>\n",
              "    </tr>\n",
              "    <tr>\n",
              "      <th>13</th>\n",
              "      <td>[0.06541388, -0.25971025, -0.30227718, -0.7540...</td>\n",
              "    </tr>\n",
              "    <tr>\n",
              "      <th>14</th>\n",
              "      <td>[0.053902794, -0.28839624, -0.2756699, -0.7327...</td>\n",
              "    </tr>\n",
              "    <tr>\n",
              "      <th>15</th>\n",
              "      <td>[0.05312361, -0.2695454, -0.27940875, -0.75126...</td>\n",
              "    </tr>\n",
              "    <tr>\n",
              "      <th>16</th>\n",
              "      <td>[0.054246962, -0.25900677, -0.26160458, -0.703...</td>\n",
              "    </tr>\n",
              "    <tr>\n",
              "      <th>17</th>\n",
              "      <td>[0.06592274, -0.2213957, -0.33041927, -0.75055...</td>\n",
              "    </tr>\n",
              "    <tr>\n",
              "      <th>18</th>\n",
              "      <td>[0.066859595, -0.2823942, -0.2779861, -0.76192...</td>\n",
              "    </tr>\n",
              "    <tr>\n",
              "      <th>19</th>\n",
              "      <td>[0.09109736, -0.21833363, -0.2844252, -0.71601...</td>\n",
              "    </tr>\n",
              "  </tbody>\n",
              "</table>\n",
              "</div>"
            ],
            "text/plain": [
              "                                                  emb\n",
              "0   [0.03939512, -0.24804303, -0.2813319, -0.72638...\n",
              "1   [0.038594052, -0.2600853, -0.29697317, -0.7238...\n",
              "2   [0.0663576, -0.28915745, -0.27263632, -0.76401...\n",
              "3   [0.07062378, -0.2118937, -0.33366448, -0.76128...\n",
              "4   [0.05476076, -0.27742493, -0.29275045, -0.7475...\n",
              "5   [0.016969422, -0.28680927, -0.2456671, -0.7298...\n",
              "6   [0.07492879, -0.2016417, -0.311591, -0.7444280...\n",
              "7   [0.068105504, -0.27478743, -0.2942579, -0.7808...\n",
              "8   [0.07256639, -0.2535855, -0.31979063, -0.76345...\n",
              "9   [0.04020924, -0.28264266, -0.28948796, -0.7489...\n",
              "10  [0.06852859, -0.22285981, -0.30695286, -0.7372...\n",
              "11  [0.03437467, -0.2630257, -0.2840329, -0.767551...\n",
              "12  [0.05225028, -0.28983083, -0.26871103, -0.7814...\n",
              "13  [0.06541388, -0.25971025, -0.30227718, -0.7540...\n",
              "14  [0.053902794, -0.28839624, -0.2756699, -0.7327...\n",
              "15  [0.05312361, -0.2695454, -0.27940875, -0.75126...\n",
              "16  [0.054246962, -0.25900677, -0.26160458, -0.703...\n",
              "17  [0.06592274, -0.2213957, -0.33041927, -0.75055...\n",
              "18  [0.066859595, -0.2823942, -0.2779861, -0.76192...\n",
              "19  [0.09109736, -0.21833363, -0.2844252, -0.71601..."
            ]
          },
          "metadata": {},
          "execution_count": 67
        }
      ]
    },
    {
      "cell_type": "code",
      "metadata": {
        "id": "LLNTbTCtr77S"
      },
      "source": [
        "xtrain = df_train.values.tolist()\n",
        "X_test = df_test.values.tolist()"
      ],
      "execution_count": 68,
      "outputs": []
    },
    {
      "cell_type": "code",
      "metadata": {
        "id": "8TpCbwr3rHse"
      },
      "source": [
        "xtrain = [eval(xtrain[i][0]) for i in range(0, len(xtrain))]\n",
        "X_test = [eval(X_test[i][0]) for i in range(0, len(X_test))]"
      ],
      "execution_count": 69,
      "outputs": []
    },
    {
      "cell_type": "code",
      "metadata": {
        "id": "Aw1ESkBDsbQc"
      },
      "source": [
        "xtrain = np.asarray(xtrain)"
      ],
      "execution_count": 70,
      "outputs": []
    },
    {
      "cell_type": "code",
      "metadata": {
        "id": "TuQ5Z5KJs9h2"
      },
      "source": [
        "X_test = np.asarray(X_test)"
      ],
      "execution_count": 71,
      "outputs": []
    },
    {
      "cell_type": "code",
      "metadata": {
        "id": "DVHzcGxZtm0w"
      },
      "source": [
        "import seaborn as sns\n",
        "from sklearn.metrics import confusion_matrix\n",
        "from sklearn.metrics import classification_report\n",
        "import warnings\n",
        "warnings.simplefilter(action='ignore', category=FutureWarning)"
      ],
      "execution_count": 72,
      "outputs": []
    },
    {
      "cell_type": "code",
      "metadata": {
        "id": "J16D3aMzS3PW"
      },
      "source": [
        "def print_confusion_matrix(preds, labels, names):\n",
        "  print(classification_report(labels, preds))\n",
        "\n",
        "  # Mатрица на конфузија \n",
        "  names = names\n",
        "  confusion = confusion_matrix(labels, preds)\n",
        "  confusion = 100 * confusion.astype('float') / confusion.sum(axis=-1)[:, np.newaxis]\n",
        "  df_1 = pd.DataFrame(data=confusion, columns=names, index=names)\n",
        "  image = sns.heatmap(df_1, annot=True, fmt=\".1f\", vmin=0, vmax=100,cmap='Greens')\n",
        "  image.set_title('Confusion matrix')\n",
        "  image.set_ylabel('True label')\n",
        "  image.set_xlabel('Predicted label')\n",
        "  image.plot()"
      ],
      "execution_count": 73,
      "outputs": []
    },
    {
      "cell_type": "code",
      "metadata": {
        "id": "Kz-X5T8E8N5X"
      },
      "source": [
        "ytrain = y_train"
      ],
      "execution_count": 74,
      "outputs": []
    },
    {
      "cell_type": "code",
      "metadata": {
        "colab": {
          "base_uri": "https://localhost:8080/"
        },
        "id": "6xeduEz3t9kI",
        "outputId": "30d7fcc1-0665-4866-e3be-a87515d4e4cf"
      },
      "source": [
        "from sklearn.tree import DecisionTreeClassifier\n",
        "from sklearn.naive_bayes import GaussianNB\n",
        "from sklearn.ensemble import RandomForestClassifier\n",
        "\n",
        "dtc = DecisionTreeClassifier()\n",
        "nbc = GaussianNB()\n",
        "rfc = RandomForestClassifier()\n",
        "\n",
        "dtc.fit(xtrain, ytrain)\n",
        "nbc.fit(xtrain, ytrain)\n",
        "rfc.fit(xtrain, ytrain)"
      ],
      "execution_count": 75,
      "outputs": [
        {
          "output_type": "execute_result",
          "data": {
            "text/plain": [
              "RandomForestClassifier(bootstrap=True, ccp_alpha=0.0, class_weight=None,\n",
              "                       criterion='gini', max_depth=None, max_features='auto',\n",
              "                       max_leaf_nodes=None, max_samples=None,\n",
              "                       min_impurity_decrease=0.0, min_impurity_split=None,\n",
              "                       min_samples_leaf=1, min_samples_split=2,\n",
              "                       min_weight_fraction_leaf=0.0, n_estimators=100,\n",
              "                       n_jobs=None, oob_score=False, random_state=None,\n",
              "                       verbose=0, warm_start=False)"
            ]
          },
          "metadata": {},
          "execution_count": 75
        }
      ]
    },
    {
      "cell_type": "code",
      "metadata": {
        "id": "ZTaLbY3JuGQy"
      },
      "source": [
        "test_tree_predict = dtc.predict(X_test)\n",
        "test_naive_predict = nbc.predict(X_test)\n",
        "test_random_forest_predict = rfc.predict(X_test)"
      ],
      "execution_count": 76,
      "outputs": []
    },
    {
      "cell_type": "code",
      "metadata": {
        "colab": {
          "base_uri": "https://localhost:8080/",
          "height": 480
        },
        "id": "W4ayJJJ5TSe2",
        "outputId": "06dfd270-0cd0-49f9-c52d-b5d9603e83ea"
      },
      "source": [
        "print_confusion_matrix(test_tree_predict,y_test, [\"1\", \"2\", \"3\", \"4\"])"
      ],
      "execution_count": 77,
      "outputs": [
        {
          "output_type": "stream",
          "name": "stdout",
          "text": [
            "              precision    recall  f1-score   support\n",
            "\n",
            "           1       0.24      0.27      0.26       600\n",
            "           2       0.24      0.24      0.24       600\n",
            "           3       0.24      0.24      0.24       600\n",
            "           4       0.27      0.24      0.26       600\n",
            "\n",
            "    accuracy                           0.25      2400\n",
            "   macro avg       0.25      0.25      0.25      2400\n",
            "weighted avg       0.25      0.25      0.25      2400\n",
            "\n"
          ]
        },
        {
          "output_type": "display_data",
          "data": {
            "image/png": "[encoded data removed]",
            "text/plain": [
              "<Figure size 432x288 with 2 Axes>"
            ]
          },
          "metadata": {
            "needs_background": "light"
          }
        }
      ]
    },
    {
      "cell_type": "code",
      "metadata": {
        "colab": {
          "base_uri": "https://localhost:8080/",
          "height": 480
        },
        "id": "_M62vF_dTWrb",
        "outputId": "bd63b157-e88a-4bf2-aa30-8c6775aabf52"
      },
      "source": [
        "print_confusion_matrix(test_naive_predict, y_test, [\"1\", \"2\", \"3\", \"4\"])"
      ],
      "execution_count": 78,
      "outputs": [
        {
          "output_type": "stream",
          "name": "stdout",
          "text": [
            "              precision    recall  f1-score   support\n",
            "\n",
            "           1       0.22      0.02      0.04       600\n",
            "           2       0.28      0.01      0.02       600\n",
            "           3       0.38      0.01      0.02       600\n",
            "           4       0.25      0.97      0.40       600\n",
            "\n",
            "    accuracy                           0.25      2400\n",
            "   macro avg       0.28      0.25      0.12      2400\n",
            "weighted avg       0.28      0.25      0.12      2400\n",
            "\n"
          ]
        },
        {
          "output_type": "display_data",
          "data": {
            "image/png": "[encoded data removed]",
            "text/plain": [
              "<Figure size 432x288 with 2 Axes>"
            ]
          },
          "metadata": {
            "needs_background": "light"
          }
        }
      ]
    },
    {
      "cell_type": "code",
      "metadata": {
        "colab": {
          "base_uri": "https://localhost:8080/",
          "height": 480
        },
        "id": "BlhMD1ahTXAc",
        "outputId": "2383b0e8-294d-45fa-84ae-30851e0c244c"
      },
      "source": [
        "print_confusion_matrix(test_random_forest_predict,y_test, [\"1\", \"2\", \"3\", \"4\"])"
      ],
      "execution_count": 79,
      "outputs": [
        {
          "output_type": "stream",
          "name": "stdout",
          "text": [
            "              precision    recall  f1-score   support\n",
            "\n",
            "           1       0.27      0.42      0.33       600\n",
            "           2       0.26      0.38      0.31       600\n",
            "           3       0.27      0.17      0.20       600\n",
            "           4       0.42      0.14      0.21       600\n",
            "\n",
            "    accuracy                           0.28      2400\n",
            "   macro avg       0.30      0.28      0.26      2400\n",
            "weighted avg       0.30      0.28      0.26      2400\n",
            "\n"
          ]
        },
        {
          "output_type": "display_data",
          "data": {
            "image/png": "[encoded data removed]",
            "text/plain": [
              "<Figure size 432x288 with 2 Axes>"
            ]
          },
          "metadata": {
            "needs_background": "light"
          }
        }
      ]
    },
    {
      "cell_type": "code",
      "metadata": {
        "colab": {
          "base_uri": "https://localhost:8080/"
        },
        "id": "tADymSdZtQ2E",
        "outputId": "218f1073-2a3b-45fe-adc4-37d5d4a55baa"
      },
      "source": [
        "from sklearn.model_selection import StratifiedKFold, RandomizedSearchCV\n",
        "from sklearn.metrics import accuracy_score\n",
        "\n",
        "\n",
        "parameters_rf = {\n",
        "          \"criterion\":['gini','entropy'],\n",
        "          \"max_depth\": [3,5,None],\n",
        "          \"max_features\": [None, \"auto\"],\n",
        "          \"min_samples_leaf\": [1, 5],\n",
        "          \"min_samples_split\": [2, 5],\n",
        "          'bootstrap': [False, True],\n",
        "          'max_samples': [0.5, 1],\n",
        "          'n_estimators': [2, 5, 100],\n",
        "          \"oob_score\":[False, True],\n",
        "           \"random_state\":[None,2]\n",
        "         }\n",
        "\n",
        "\n",
        "gs_rf = RandomizedSearchCV(rfc, parameters_rf, scoring='accuracy', n_jobs=3)\n",
        "gs_rf.fit(xtrain, ytrain)"
      ],
      "execution_count": 81,
      "outputs": [
        {
          "output_type": "stream",
          "name": "stderr",
          "text": [
            "/usr/local/lib/python3.7/dist-packages/sklearn/ensemble/_forest.py:523: UserWarning: Some inputs do not have OOB scores. This probably means too few trees were used to compute any reliable oob estimates.\n",
            "  warn(\"Some inputs do not have OOB scores. \"\n",
            "/usr/local/lib/python3.7/dist-packages/sklearn/ensemble/_forest.py:528: RuntimeWarning: invalid value encountered in true_divide\n",
            "  predictions[k].sum(axis=1)[:, np.newaxis])\n"
          ]
        },
        {
          "output_type": "execute_result",
          "data": {
            "text/plain": [
              "RandomizedSearchCV(cv=None, error_score=nan,\n",
              "                   estimator=RandomForestClassifier(bootstrap=True,\n",
              "                                                    ccp_alpha=0.0,\n",
              "                                                    class_weight=None,\n",
              "                                                    criterion='gini',\n",
              "                                                    max_depth=None,\n",
              "                                                    max_features='auto',\n",
              "                                                    max_leaf_nodes=None,\n",
              "                                                    max_samples=None,\n",
              "                                                    min_impurity_decrease=0.0,\n",
              "                                                    min_impurity_split=None,\n",
              "                                                    min_samples_leaf=1,\n",
              "                                                    min_samples_split=2,\n",
              "                                                    min_weight_fraction_leaf=0.0,\n",
              "                                                    n_estimators=100,\n",
              "                                                    n_j...\n",
              "                   param_distributions={'bootstrap': [False, True],\n",
              "                                        'criterion': ['gini', 'entropy'],\n",
              "                                        'max_depth': [3, 5, None],\n",
              "                                        'max_features': [None, 'auto'],\n",
              "                                        'max_samples': [0.5, 1],\n",
              "                                        'min_samples_leaf': [1, 5],\n",
              "                                        'min_samples_split': [2, 5],\n",
              "                                        'n_estimators': [2, 5, 100],\n",
              "                                        'oob_score': [False, True],\n",
              "                                        'random_state': [None, 2]},\n",
              "                   pre_dispatch='2*n_jobs', random_state=None, refit=True,\n",
              "                   return_train_score=False, scoring='accuracy', verbose=0)"
            ]
          },
          "metadata": {},
          "execution_count": 81
        }
      ]
    },
    {
      "cell_type": "code",
      "metadata": {
        "id": "OqBbTdtm8XKA",
        "colab": {
          "base_uri": "https://localhost:8080/"
        },
        "outputId": "3337b216-6dea-4eef-80e8-9a37dba028c1"
      },
      "source": [
        "print(\"Best score: %0.3f\" % gs_rf.best_score_) \n",
        "print(\"Best parameters set:\" )\n",
        "best_parameters_rf = gs_rf.best_estimator_.get_params()\n",
        "for param_name_rf in sorted (parameters_rf . keys()): \n",
        "                    print(\"\\t %s: %r\" % (param_name_rf, best_parameters_rf[param_name_rf]))\n",
        "        \n",
        "y_pred = gs_rf.predict(X_test)"
      ],
      "execution_count": 82,
      "outputs": [
        {
          "output_type": "stream",
          "name": "stdout",
          "text": [
            "Best score: 0.333\n",
            "Best parameters set:\n",
            "\t bootstrap: True\n",
            "\t criterion: 'gini'\n",
            "\t max_depth: 5\n",
            "\t max_features: 'auto'\n",
            "\t max_samples: 0.5\n",
            "\t min_samples_leaf: 5\n",
            "\t min_samples_split: 2\n",
            "\t n_estimators: 5\n",
            "\t oob_score: True\n",
            "\t random_state: None\n"
          ]
        }
      ]
    },
    {
      "cell_type": "code",
      "metadata": {
        "id": "AV0CE8-OG1vS",
        "colab": {
          "base_uri": "https://localhost:8080/",
          "height": 496
        },
        "outputId": "f4e9ab41-4b94-49e2-9575-23f2999658c9"
      },
      "source": [
        "print(\"accuracy: \",accuracy_score(y_test, y_pred))\n",
        "print_confusion_matrix( y_pred,y_test, [\"1\", \"2\", \"3\", \"4\"])"
      ],
      "execution_count": 83,
      "outputs": [
        {
          "output_type": "stream",
          "name": "stdout",
          "text": [
            "accuracy:  0.28125\n",
            "              precision    recall  f1-score   support\n",
            "\n",
            "           1       0.29      0.55      0.38       600\n",
            "           2       0.24      0.17      0.20       600\n",
            "           3       0.25      0.19      0.21       600\n",
            "           4       0.35      0.22      0.27       600\n",
            "\n",
            "    accuracy                           0.28      2400\n",
            "   macro avg       0.28      0.28      0.26      2400\n",
            "weighted avg       0.28      0.28      0.26      2400\n",
            "\n"
          ]
        },
        {
          "output_type": "display_data",
          "data": {
            "image/png": "[encoded data removed]",
            "text/plain": [
              "<Figure size 432x288 with 2 Axes>"
            ]
          },
          "metadata": {
            "needs_background": "light"
          }
        }
      ]
    },
    {
      "cell_type": "code",
      "metadata": {
        "id": "9jCuGZAEvaBg"
      },
      "source": [
        "X_train_norm = xtrain\n",
        "X_test_norm = X_test"
      ],
      "execution_count": 84,
      "outputs": []
    },
    {
      "cell_type": "code",
      "metadata": {
        "colab": {
          "base_uri": "https://localhost:8080/"
        },
        "id": "SHCXU5iLHJSW",
        "outputId": "65521bb4-5759-4511-85ff-8e78c532a6c0"
      },
      "source": [
        "!pip install catboost"
      ],
      "execution_count": 85,
      "outputs": [
        {
          "output_type": "stream",
          "name": "stdout",
          "text": [
            "Requirement already satisfied: catboost in /usr/local/lib/python3.7/dist-packages (0.26.1)\n",
            "Requirement already satisfied: matplotlib in /usr/local/lib/python3.7/dist-packages (from catboost) (3.2.2)\n",
            "Requirement already satisfied: scipy in /usr/local/lib/python3.7/dist-packages (from catboost) (1.4.1)\n",
            "Requirement already satisfied: six in /usr/local/lib/python3.7/dist-packages (from catboost) (1.15.0)\n",
            "Requirement already satisfied: graphviz in /usr/local/lib/python3.7/dist-packages (from catboost) (0.10.1)\n",
            "Requirement already satisfied: plotly in /usr/local/lib/python3.7/dist-packages (from catboost) (4.4.1)\n",
            "Requirement already satisfied: pandas>=0.24.0 in /usr/local/lib/python3.7/dist-packages (from catboost) (1.1.5)\n",
            "Requirement already satisfied: numpy>=1.16.0 in /usr/local/lib/python3.7/dist-packages (from catboost) (1.19.5)\n",
            "Requirement already satisfied: python-dateutil>=2.7.3 in /usr/local/lib/python3.7/dist-packages (from pandas>=0.24.0->catboost) (2.8.2)\n",
            "Requirement already satisfied: pytz>=2017.2 in /usr/local/lib/python3.7/dist-packages (from pandas>=0.24.0->catboost) (2018.9)\n",
            "Requirement already satisfied: kiwisolver>=1.0.1 in /usr/local/lib/python3.7/dist-packages (from matplotlib->catboost) (1.3.1)\n",
            "Requirement already satisfied: cycler>=0.10 in /usr/local/lib/python3.7/dist-packages (from matplotlib->catboost) (0.10.0)\n",
            "Requirement already satisfied: pyparsing!=2.0.4,!=2.1.2,!=2.1.6,>=2.0.1 in /usr/local/lib/python3.7/dist-packages (from matplotlib->catboost) (2.4.7)\n",
            "Requirement already satisfied: retrying>=1.3.3 in /usr/local/lib/python3.7/dist-packages (from plotly->catboost) (1.3.3)\n"
          ]
        }
      ]
    },
    {
      "cell_type": "code",
      "metadata": {
        "id": "4yEJP7H1HHqQ"
      },
      "source": [
        "from catboost import Pool, cv, CatBoostClassifier, CatBoostRegressor"
      ],
      "execution_count": 86,
      "outputs": []
    },
    {
      "cell_type": "code",
      "metadata": {
        "id": "yOpNC5EIG2sE"
      },
      "source": [
        "train_pool = Pool(data=xtrain,label = ytrain)"
      ],
      "execution_count": 87,
      "outputs": []
    },
    {
      "cell_type": "code",
      "metadata": {
        "id": "rZyM7CCCbKdj"
      },
      "source": [
        "import sklearn.metrics as metrics"
      ],
      "execution_count": 88,
      "outputs": []
    },
    {
      "cell_type": "code",
      "metadata": {
        "colab": {
          "base_uri": "https://localhost:8080/",
          "height": 33,
          "referenced_widgets": [
            "da9262ef6eec45db8b7d4dd3c3e5da3a"
          ]
        },
        "id": "Ozg2jw8LG-_h",
        "outputId": "370f32f4-dc0e-4328-993c-06be8e2cddbb"
      },
      "source": [
        "model_basic = CatBoostClassifier()\n",
        "model_basic.fit(train_pool, plot=True,silent=True)\n",
        "print(model_basic.get_best_score())\n",
        "\n",
        "predicted_values = model_basic.predict(X_test)"
      ],
      "execution_count": 89,
      "outputs": [
        {
          "output_type": "display_data",
          "data": {
            "application/vnd.jupyter.widget-view+json": {
              "model_id": "da9262ef6eec45db8b7d4dd3c3e5da3a",
              "version_minor": 0,
              "version_major": 2
            },
            "text/plain": [
              "MetricVisualizer(layout=Layout(align_self='stretch', height='500px'))"
            ]
          },
          "metadata": {}
        },
        {
          "output_type": "stream",
          "name": "stdout",
          "text": [
            "{'learn': {'MultiClass': 0.3063729199298118}}\n"
          ]
        }
      ]
    },
    {
      "cell_type": "code",
      "metadata": {
        "colab": {
          "base_uri": "https://localhost:8080/",
          "height": 496
        },
        "id": "T0wyhJbKPmP2",
        "outputId": "cb21b1b6-30e4-4f87-8dac-d2abedb4036b"
      },
      "source": [
        "print_confusion_matrix(predicted_values, y_test, [\"1\", \"2\", \"3\", \"4\"])\n",
        "print(\"Accuracy:\", metrics.accuracy_score(y_test, predicted_values))"
      ],
      "execution_count": 90,
      "outputs": [
        {
          "output_type": "stream",
          "name": "stdout",
          "text": [
            "              precision    recall  f1-score   support\n",
            "\n",
            "           1       0.30      0.63      0.40       600\n",
            "           2       0.26      0.26      0.26       600\n",
            "           3       0.30      0.14      0.19       600\n",
            "           4       0.43      0.18      0.26       600\n",
            "\n",
            "    accuracy                           0.30      2400\n",
            "   macro avg       0.32      0.30      0.28      2400\n",
            "weighted avg       0.32      0.30      0.28      2400\n",
            "\n",
            "Accuracy: 0.30416666666666664\n"
          ]
        },
        {
          "output_type": "display_data",
          "data": {
            "image/png": "[encoded data removed]",
            "text/plain": [
              "<Figure size 432x288 with 2 Axes>"
            ]
          },
          "metadata": {
            "needs_background": "light"
          }
        }
      ]
    },
    {
      "cell_type": "code",
      "metadata": {
        "id": "4yciljC9FaTN"
      },
      "source": [
        "from sklearn.preprocessing import MinMaxScaler\n",
        "from sklearn.ensemble import GradientBoostingClassifier"
      ],
      "execution_count": 91,
      "outputs": []
    },
    {
      "cell_type": "code",
      "metadata": {
        "id": "5gah2kuBK2qu"
      },
      "source": [
        "import matplotlib.pyplot as plt"
      ],
      "execution_count": 92,
      "outputs": []
    },
    {
      "cell_type": "code",
      "metadata": {
        "colab": {
          "base_uri": "https://localhost:8080/",
          "height": 1000
        },
        "id": "0CFGIyWv4ks6",
        "outputId": "3da72bff-9aaf-4ac8-fab7-b6ddb2b6e8ea"
      },
      "source": [
        "lr_list = [ 0.5, 0.75, 1, 1.1, 1.2, 1.3, 1.4, 1.5, 2, 3, 4, 5, 6.3, 7.7, 10, 20, 30, 45, 55, 62, 77, 84, 90]\n",
        "\n",
        "for learning_rate in lr_list:\n",
        "    gb_clf = GradientBoostingClassifier(n_estimators=100, learning_rate=learning_rate, max_features=2, max_depth=4, random_state=0)\n",
        "    gb_clf.fit(xtrain, ytrain)\n",
        "    predicted_values = gb_clf.predict(X_test)\n",
        "\n",
        "    print(\"Learning rate: \", learning_rate)\n",
        "    print_confusion_matrix(predicted_values, y_test, [\"1\", \"2\", \"3\", \"4\"])\n",
        "    plt.show()"
      ],
      "execution_count": 93,
      "outputs": [
        {
          "output_type": "stream",
          "name": "stdout",
          "text": [
            "Learning rate:  0.5\n",
            "              precision    recall  f1-score   support\n",
            "\n",
            "           1       0.30      0.47      0.37       600\n",
            "           2       0.27      0.34      0.30       600\n",
            "           3       0.27      0.18      0.22       600\n",
            "           4       0.34      0.19      0.24       600\n",
            "\n",
            "    accuracy                           0.29      2400\n",
            "   macro avg       0.30      0.29      0.28      2400\n",
            "weighted avg       0.30      0.29      0.28      2400\n",
            "\n"
          ]
        },
        {
          "output_type": "display_data",
          "data": {
            "image/png": "[encoded data removed]",
            "text/plain": [
              "<Figure size 432x288 with 2 Axes>"
            ]
          },
          "metadata": {
            "needs_background": "light"
          }
        },
        {
          "output_type": "stream",
          "name": "stdout",
          "text": [
            "Learning rate:  0.75\n",
            "              precision    recall  f1-score   support\n",
            "\n",
            "           1       0.31      0.44      0.36       600\n",
            "           2       0.26      0.29      0.28       600\n",
            "           3       0.30      0.23      0.26       600\n",
            "           4       0.31      0.22      0.26       600\n",
            "\n",
            "    accuracy                           0.30      2400\n",
            "   macro avg       0.30      0.30      0.29      2400\n",
            "weighted avg       0.30      0.30      0.29      2400\n",
            "\n"
          ]
        },
        {
          "output_type": "display_data",
          "data": {
            "image/png": "[encoded data removed]",
            "text/plain": [
              "<Figure size 432x288 with 2 Axes>"
            ]
          },
          "metadata": {
            "needs_background": "light"
          }
        },
        {
          "output_type": "stream",
          "name": "stdout",
          "text": [
            "Learning rate:  1\n",
            "              precision    recall  f1-score   support\n",
            "\n",
            "           1       0.28      0.43      0.34       600\n",
            "           2       0.29      0.30      0.30       600\n",
            "           3       0.27      0.22      0.24       600\n",
            "           4       0.34      0.21      0.26       600\n",
            "\n",
            "    accuracy                           0.29      2400\n",
            "   macro avg       0.30      0.29      0.28      2400\n",
            "weighted avg       0.30      0.29      0.28      2400\n",
            "\n"
          ]
        },
        {
          "output_type": "display_data",
          "data": {
            "image/png": "[encoded data removed]",
            "text/plain": [
              "<Figure size 432x288 with 2 Axes>"
            ]
          },
          "metadata": {
            "needs_background": "light"
          }
        },
        {
          "output_type": "stream",
          "name": "stdout",
          "text": [
            "Learning rate:  1.1\n",
            "              precision    recall  f1-score   support\n",
            "\n",
            "           1       0.29      0.37      0.32       600\n",
            "           2       0.29      0.31      0.30       600\n",
            "           3       0.25      0.18      0.21       600\n",
            "           4       0.29      0.26      0.28       600\n",
            "\n",
            "    accuracy                           0.28      2400\n",
            "   macro avg       0.28      0.28      0.28      2400\n",
            "weighted avg       0.28      0.28      0.28      2400\n",
            "\n"
          ]
        },
        {
          "output_type": "display_data",
          "data": {
            "image/png": "[encoded data removed]",
            "text/plain": [
              "<Figure size 432x288 with 2 Axes>"
            ]
          },
          "metadata": {
            "needs_background": "light"
          }
        },
        {
          "output_type": "stream",
          "name": "stdout",
          "text": [
            "Learning rate:  1.2\n",
            "              precision    recall  f1-score   support\n",
            "\n",
            "           1       0.31      0.27      0.29       600\n",
            "           2       0.29      0.30      0.30       600\n",
            "           3       0.29      0.22      0.25       600\n",
            "           4       0.28      0.38      0.32       600\n",
            "\n",
            "    accuracy                           0.29      2400\n",
            "   macro avg       0.29      0.29      0.29      2400\n",
            "weighted avg       0.29      0.29      0.29      2400\n",
            "\n"
          ]
        },
        {
          "output_type": "display_data",
          "data": {
            "image/png": "[encoded data removed]",
            "text/plain": [
              "<Figure size 432x288 with 2 Axes>"
            ]
          },
          "metadata": {
            "needs_background": "light"
          }
        },
        {
          "output_type": "stream",
          "name": "stdout",
          "text": [
            "Learning rate:  1.3\n",
            "              precision    recall  f1-score   support\n",
            "\n",
            "           1       0.28      0.45      0.34       600\n",
            "           2       0.27      0.29      0.28       600\n",
            "           3       0.29      0.18      0.22       600\n",
            "           4       0.28      0.19      0.23       600\n",
            "\n",
            "    accuracy                           0.28      2400\n",
            "   macro avg       0.28      0.28      0.27      2400\n",
            "weighted avg       0.28      0.28      0.27      2400\n",
            "\n"
          ]
        },
        {
          "output_type": "display_data",
          "data": {
            "image/png": "[encoded data removed]",
            "text/plain": [
              "<Figure size 432x288 with 2 Axes>"
            ]
          },
          "metadata": {
            "needs_background": "light"
          }
        },
        {
          "output_type": "stream",
          "name": "stdout",
          "text": [
            "Learning rate:  1.4\n",
            "              precision    recall  f1-score   support\n",
            "\n",
            "           1       0.24      0.24      0.24       600\n",
            "           2       0.28      0.36      0.32       600\n",
            "           3       0.23      0.11      0.15       600\n",
            "           4       0.26      0.31      0.28       600\n",
            "\n",
            "    accuracy                           0.26      2400\n",
            "   macro avg       0.25      0.26      0.25      2400\n",
            "weighted avg       0.25      0.26      0.25      2400\n",
            "\n"
          ]
        },
        {
          "output_type": "display_data",
          "data": {
            "image/png": "[encoded data removed]",
            "text/plain": [
              "<Figure size 432x288 with 2 Axes>"
            ]
          },
          "metadata": {
            "needs_background": "light"
          }
        },
        {
          "output_type": "stream",
          "name": "stdout",
          "text": [
            "Learning rate:  1.5\n",
            "              precision    recall  f1-score   support\n",
            "\n",
            "           1       0.27      0.27      0.27       600\n",
            "           2       0.29      0.35      0.32       600\n",
            "           3       0.26      0.20      0.23       600\n",
            "           4       0.26      0.27      0.27       600\n",
            "\n",
            "    accuracy                           0.28      2400\n",
            "   macro avg       0.27      0.28      0.27      2400\n",
            "weighted avg       0.27      0.28      0.27      2400\n",
            "\n"
          ]
        },
        {
          "output_type": "display_data",
          "data": {
            "image/png": "[encoded data removed]",
            "text/plain": [
              "<Figure size 432x288 with 2 Axes>"
            ]
          },
          "metadata": {
            "needs_background": "light"
          }
        },
        {
          "output_type": "stream",
          "name": "stdout",
          "text": [
            "Learning rate:  2\n",
            "              precision    recall  f1-score   support\n",
            "\n",
            "           1       0.00      0.00      0.00       600\n",
            "           2       0.23      0.01      0.03       600\n",
            "           3       0.24      0.36      0.29       600\n",
            "           4       0.24      0.59      0.35       600\n",
            "\n",
            "    accuracy                           0.24      2400\n",
            "   macro avg       0.18      0.24      0.17      2400\n",
            "weighted avg       0.18      0.24      0.17      2400\n",
            "\n"
          ]
        },
        {
          "output_type": "stream",
          "name": "stderr",
          "text": [
            "/usr/local/lib/python3.7/dist-packages/sklearn/metrics/_classification.py:1272: UndefinedMetricWarning: Precision and F-score are ill-defined and being set to 0.0 in labels with no predicted samples. Use `zero_division` parameter to control this behavior.\n",
            "  _warn_prf(average, modifier, msg_start, len(result))\n"
          ]
        },
        {
          "output_type": "display_data",
          "data": {
            "image/png": "[encoded data removed]",
            "text/plain": [
              "<Figure size 432x288 with 2 Axes>"
            ]
          },
          "metadata": {
            "needs_background": "light"
          }
        },
        {
          "output_type": "stream",
          "name": "stdout",
          "text": [
            "Learning rate:  3\n",
            "              precision    recall  f1-score   support\n",
            "\n",
            "           1       0.27      0.38      0.32       600\n",
            "           2       0.29      0.28      0.29       600\n",
            "           3       0.27      0.43      0.33       600\n",
            "           4       0.00      0.00      0.00       600\n",
            "\n",
            "    accuracy                           0.27      2400\n",
            "   macro avg       0.21      0.27      0.23      2400\n",
            "weighted avg       0.21      0.27      0.23      2400\n",
            "\n"
          ]
        },
        {
          "output_type": "stream",
          "name": "stderr",
          "text": [
            "/usr/local/lib/python3.7/dist-packages/sklearn/metrics/_classification.py:1272: UndefinedMetricWarning: Precision and F-score are ill-defined and being set to 0.0 in labels with no predicted samples. Use `zero_division` parameter to control this behavior.\n",
            "  _warn_prf(average, modifier, msg_start, len(result))\n"
          ]
        },
        {
          "output_type": "display_data",
          "data": {
            "image/png": "[encoded data removed]",
            "text/plain": [
              "<Figure size 432x288 with 2 Axes>"
            ]
          },
          "metadata": {
            "needs_background": "light"
          }
        },
        {
          "output_type": "stream",
          "name": "stdout",
          "text": [
            "Learning rate:  4\n",
            "              precision    recall  f1-score   support\n",
            "\n",
            "           1       0.20      0.19      0.19       600\n",
            "           2       0.24      0.11      0.15       600\n",
            "           3       0.25      0.63      0.35       600\n",
            "           4       0.00      0.00      0.00       600\n",
            "\n",
            "    accuracy                           0.23      2400\n",
            "   macro avg       0.17      0.23      0.18      2400\n",
            "weighted avg       0.17      0.23      0.18      2400\n",
            "\n"
          ]
        },
        {
          "output_type": "stream",
          "name": "stderr",
          "text": [
            "/usr/local/lib/python3.7/dist-packages/sklearn/metrics/_classification.py:1272: UndefinedMetricWarning: Precision and F-score are ill-defined and being set to 0.0 in labels with no predicted samples. Use `zero_division` parameter to control this behavior.\n",
            "  _warn_prf(average, modifier, msg_start, len(result))\n"
          ]
        },
        {
          "output_type": "display_data",
          "data": {
            "image/png": "[encoded data removed]",
            "text/plain": [
              "<Figure size 432x288 with 2 Axes>"
            ]
          },
          "metadata": {
            "needs_background": "light"
          }
        },
        {
          "output_type": "stream",
          "name": "stdout",
          "text": [
            "Learning rate:  5\n",
            "              precision    recall  f1-score   support\n",
            "\n",
            "           1       0.00      0.00      0.00       600\n",
            "           2       0.23      0.42      0.30       600\n",
            "           3       0.00      0.00      0.00       600\n",
            "           4       0.25      0.54      0.34       600\n",
            "\n",
            "    accuracy                           0.24      2400\n",
            "   macro avg       0.12      0.24      0.16      2400\n",
            "weighted avg       0.12      0.24      0.16      2400\n",
            "\n"
          ]
        },
        {
          "output_type": "stream",
          "name": "stderr",
          "text": [
            "/usr/local/lib/python3.7/dist-packages/sklearn/metrics/_classification.py:1272: UndefinedMetricWarning: Precision and F-score are ill-defined and being set to 0.0 in labels with no predicted samples. Use `zero_division` parameter to control this behavior.\n",
            "  _warn_prf(average, modifier, msg_start, len(result))\n"
          ]
        },
        {
          "output_type": "display_data",
          "data": {
            "image/png": "[encoded data removed]",
            "text/plain": [
              "<Figure size 432x288 with 2 Axes>"
            ]
          },
          "metadata": {
            "needs_background": "light"
          }
        },
        {
          "output_type": "stream",
          "name": "stdout",
          "text": [
            "Learning rate:  6.3\n",
            "              precision    recall  f1-score   support\n",
            "\n",
            "           1       0.27      0.22      0.24       600\n",
            "           2       0.26      0.75      0.38       600\n",
            "           3       0.34      0.07      0.12       600\n",
            "           4       0.42      0.03      0.06       600\n",
            "\n",
            "    accuracy                           0.27      2400\n",
            "   macro avg       0.32      0.27      0.20      2400\n",
            "weighted avg       0.32      0.27      0.20      2400\n",
            "\n"
          ]
        },
        {
          "output_type": "display_data",
          "data": {
            "image/png": "[encoded data removed]",
            "text/plain": [
              "<Figure size 432x288 with 2 Axes>"
            ]
          },
          "metadata": {
            "needs_background": "light"
          }
        },
        {
          "output_type": "stream",
          "name": "stdout",
          "text": [
            "Learning rate:  7.7\n",
            "              precision    recall  f1-score   support\n",
            "\n",
            "           1       0.25      0.01      0.02       600\n",
            "           2       0.20      0.01      0.02       600\n",
            "           3       0.24      0.54      0.33       600\n",
            "           4       0.25      0.41      0.31       600\n",
            "\n",
            "    accuracy                           0.24      2400\n",
            "   macro avg       0.23      0.24      0.17      2400\n",
            "weighted avg       0.23      0.24      0.17      2400\n",
            "\n"
          ]
        },
        {
          "output_type": "display_data",
          "data": {
            "image/png": "[encoded data removed]",
            "text/plain": [
              "<Figure size 432x288 with 2 Axes>"
            ]
          },
          "metadata": {
            "needs_background": "light"
          }
        },
        {
          "output_type": "stream",
          "name": "stdout",
          "text": [
            "Learning rate:  10\n",
            "              precision    recall  f1-score   support\n",
            "\n",
            "           1       0.25      0.63      0.36       600\n",
            "           2       0.00      0.00      0.00       600\n",
            "           3       0.27      0.40      0.32       600\n",
            "           4       0.00      0.00      0.00       600\n",
            "\n",
            "    accuracy                           0.26      2400\n",
            "   macro avg       0.13      0.26      0.17      2400\n",
            "weighted avg       0.13      0.26      0.17      2400\n",
            "\n"
          ]
        },
        {
          "output_type": "stream",
          "name": "stderr",
          "text": [
            "/usr/local/lib/python3.7/dist-packages/sklearn/metrics/_classification.py:1272: UndefinedMetricWarning: Precision and F-score are ill-defined and being set to 0.0 in labels with no predicted samples. Use `zero_division` parameter to control this behavior.\n",
            "  _warn_prf(average, modifier, msg_start, len(result))\n"
          ]
        },
        {
          "output_type": "display_data",
          "data": {
            "image/png": "[encoded data removed]",
            "text/plain": [
              "<Figure size 432x288 with 2 Axes>"
            ]
          },
          "metadata": {
            "needs_background": "light"
          }
        },
        {
          "output_type": "stream",
          "name": "stdout",
          "text": [
            "Learning rate:  20\n",
            "              precision    recall  f1-score   support\n",
            "\n",
            "           1       0.26      0.40      0.32       600\n",
            "           2       0.23      0.31      0.27       600\n",
            "           3       0.26      0.29      0.28       600\n",
            "           4       0.25      0.00      0.00       600\n",
            "\n",
            "    accuracy                           0.25      2400\n",
            "   macro avg       0.25      0.25      0.22      2400\n",
            "weighted avg       0.25      0.25      0.22      2400\n",
            "\n"
          ]
        },
        {
          "output_type": "display_data",
          "data": {
            "image/png": "[encoded data removed]",
            "text/plain": [
              "<Figure size 432x288 with 2 Axes>"
            ]
          },
          "metadata": {
            "needs_background": "light"
          }
        },
        {
          "output_type": "stream",
          "name": "stdout",
          "text": [
            "Learning rate:  30\n",
            "              precision    recall  f1-score   support\n",
            "\n",
            "           1       0.25      0.48      0.33       600\n",
            "           2       0.00      0.00      0.00       600\n",
            "           3       0.24      0.28      0.26       600\n",
            "           4       0.23      0.21      0.22       600\n",
            "\n",
            "    accuracy                           0.24      2400\n",
            "   macro avg       0.18      0.24      0.20      2400\n",
            "weighted avg       0.18      0.24      0.20      2400\n",
            "\n"
          ]
        },
        {
          "output_type": "display_data",
          "data": {
            "image/png": "[encoded data removed]",
            "text/plain": [
              "<Figure size 432x288 with 2 Axes>"
            ]
          },
          "metadata": {
            "needs_background": "light"
          }
        },
        {
          "output_type": "stream",
          "name": "stdout",
          "text": [
            "Learning rate:  45\n",
            "              precision    recall  f1-score   support\n",
            "\n",
            "           1       0.25      0.58      0.35       600\n",
            "           2       0.23      0.04      0.06       600\n",
            "           3       0.26      0.35      0.30       600\n",
            "           4       0.37      0.07      0.12       600\n",
            "\n",
            "    accuracy                           0.26      2400\n",
            "   macro avg       0.28      0.26      0.21      2400\n",
            "weighted avg       0.28      0.26      0.21      2400\n",
            "\n"
          ]
        },
        {
          "output_type": "display_data",
          "data": {
            "image/png": "[encoded data removed]",
            "text/plain": [
              "<Figure size 432x288 with 2 Axes>"
            ]
          },
          "metadata": {
            "needs_background": "light"
          }
        },
        {
          "output_type": "stream",
          "name": "stdout",
          "text": [
            "Learning rate:  55\n",
            "              precision    recall  f1-score   support\n",
            "\n",
            "           1       0.28      0.42      0.34       600\n",
            "           2       0.22      0.09      0.13       600\n",
            "           3       0.26      0.42      0.32       600\n",
            "           4       0.28      0.14      0.18       600\n",
            "\n",
            "    accuracy                           0.27      2400\n",
            "   macro avg       0.26      0.27      0.24      2400\n",
            "weighted avg       0.26      0.27      0.24      2400\n",
            "\n"
          ]
        },
        {
          "output_type": "display_data",
          "data": {
            "image/png": "[encoded data removed]",
            "text/plain": [
              "<Figure size 432x288 with 2 Axes>"
            ]
          },
          "metadata": {
            "needs_background": "light"
          }
        },
        {
          "output_type": "stream",
          "name": "stdout",
          "text": [
            "Learning rate:  62\n",
            "              precision    recall  f1-score   support\n",
            "\n",
            "           1       0.27      0.64      0.38       600\n",
            "           2       0.21      0.09      0.12       600\n",
            "           3       0.25      0.14      0.18       600\n",
            "           4       0.27      0.17      0.21       600\n",
            "\n",
            "    accuracy                           0.26      2400\n",
            "   macro avg       0.25      0.26      0.22      2400\n",
            "weighted avg       0.25      0.26      0.22      2400\n",
            "\n"
          ]
        },
        {
          "output_type": "display_data",
          "data": {
            "image/png": "[encoded data removed]",
            "text/plain": [
              "<Figure size 432x288 with 2 Axes>"
            ]
          },
          "metadata": {
            "needs_background": "light"
          }
        },
        {
          "output_type": "stream",
          "name": "stdout",
          "text": [
            "Learning rate:  77\n",
            "              precision    recall  f1-score   support\n",
            "\n",
            "           1       0.26      0.47      0.34       600\n",
            "           2       0.26      0.25      0.25       600\n",
            "           3       0.24      0.06      0.09       600\n",
            "           4       0.30      0.30      0.30       600\n",
            "\n",
            "    accuracy                           0.27      2400\n",
            "   macro avg       0.27      0.27      0.25      2400\n",
            "weighted avg       0.27      0.27      0.25      2400\n",
            "\n"
          ]
        },
        {
          "output_type": "display_data",
          "data": {
            "image/png": "[encoded data removed]",
            "text/plain": [
              "<Figure size 432x288 with 2 Axes>"
            ]
          },
          "metadata": {
            "needs_background": "light"
          }
        },
        {
          "output_type": "stream",
          "name": "stdout",
          "text": [
            "Learning rate:  84\n",
            "              precision    recall  f1-score   support\n",
            "\n",
            "           1       0.29      0.41      0.34       600\n",
            "           2       0.25      0.50      0.33       600\n",
            "           3       0.25      0.08      0.12       600\n",
            "           4       0.36      0.10      0.15       600\n",
            "\n",
            "    accuracy                           0.27      2400\n",
            "   macro avg       0.29      0.27      0.24      2400\n",
            "weighted avg       0.29      0.27      0.24      2400\n",
            "\n"
          ]
        },
        {
          "output_type": "display_data",
          "data": {
            "image/png": "[encoded data removed]",
            "text/plain": [
              "<Figure size 432x288 with 2 Axes>"
            ]
          },
          "metadata": {
            "needs_background": "light"
          }
        },
        {
          "output_type": "stream",
          "name": "stdout",
          "text": [
            "Learning rate:  90\n",
            "              precision    recall  f1-score   support\n",
            "\n",
            "           1       0.23      0.02      0.04       600\n",
            "           2       0.26      0.66      0.37       600\n",
            "           3       0.23      0.23      0.23       600\n",
            "           4       0.35      0.12      0.18       600\n",
            "\n",
            "    accuracy                           0.26      2400\n",
            "   macro avg       0.26      0.26      0.20      2400\n",
            "weighted avg       0.26      0.26      0.20      2400\n",
            "\n"
          ]
        },
        {
          "output_type": "display_data",
          "data": {
            "image/png": "[encoded data removed]",
            "text/plain": [
              "<Figure size 432x288 with 2 Axes>"
            ]
          },
          "metadata": {
            "needs_background": "light"
          }
        }
      ]
    },
    {
      "cell_type": "code",
      "metadata": {
        "id": "FSa4s9KAchAf"
      },
      "source": [
        "from sklearn.model_selection import train_test_split\n",
        "import scipy.stats as st"
      ],
      "execution_count": 94,
      "outputs": []
    },
    {
      "cell_type": "code",
      "metadata": {
        "id": "APw2Zh054PXq"
      },
      "source": [
        "X_val, X_test_1, y_val, y_test_1 = train_test_split(X_test, y_test, test_size=0.7, random_state=42)"
      ],
      "execution_count": 95,
      "outputs": []
    },
    {
      "cell_type": "code",
      "metadata": {
        "id": "VuVNnEikPOOV"
      },
      "source": [
        "from sklearn.neural_network import MLPClassifier\n",
        "\n",
        "clf = MLPClassifier((20, ), max_iter=100000).fit(xtrain, ytrain)"
      ],
      "execution_count": 96,
      "outputs": []
    },
    {
      "cell_type": "code",
      "metadata": {
        "id": "gQLITkC9P0OJ"
      },
      "source": [
        "predicted_values = clf.predict(X_test)"
      ],
      "execution_count": 97,
      "outputs": []
    },
    {
      "cell_type": "code",
      "metadata": {
        "colab": {
          "base_uri": "https://localhost:8080/",
          "height": 496
        },
        "id": "J7D4apu5PuDn",
        "outputId": "47c4769b-b8f0-4960-b399-e337407558ef"
      },
      "source": [
        "print_confusion_matrix(predicted_values, y_test,[\"1\", \"2\", \"3\", \"4\"])\n",
        "print(\"Accuracy:\", metrics.accuracy_score(y_test, predicted_values))"
      ],
      "execution_count": 98,
      "outputs": [
        {
          "output_type": "stream",
          "name": "stdout",
          "text": [
            "              precision    recall  f1-score   support\n",
            "\n",
            "           1       0.32      0.45      0.37       600\n",
            "           2       0.30      0.27      0.28       600\n",
            "           3       0.27      0.22      0.25       600\n",
            "           4       0.37      0.33      0.35       600\n",
            "\n",
            "    accuracy                           0.32      2400\n",
            "   macro avg       0.32      0.32      0.31      2400\n",
            "weighted avg       0.32      0.32      0.31      2400\n",
            "\n",
            "Accuracy: 0.3179166666666667\n"
          ]
        },
        {
          "output_type": "display_data",
          "data": {
            "image/png": "[encoded data removed]",
            "text/plain": [
              "<Figure size 432x288 with 2 Axes>"
            ]
          },
          "metadata": {
            "needs_background": "light"
          }
        }
      ]
    },
    {
      "cell_type": "code",
      "metadata": {
        "colab": {
          "base_uri": "https://localhost:8080/",
          "height": 496
        },
        "id": "7wJeUY1SEeU4",
        "outputId": "6d90478d-7e64-404c-eba6-5e734d804df3"
      },
      "source": [
        "clf = MLPClassifier((20, 20, ), max_iter=100000).fit(xtrain, ytrain)\n",
        "predicted_values = clf.predict(X_test)\n",
        "print_confusion_matrix(predicted_values, y_test,[\"1\", \"2\", \"3\", \"4\"])\n",
        "print(\"Accuracy:\", metrics.accuracy_score(y_test, predicted_values))"
      ],
      "execution_count": 99,
      "outputs": [
        {
          "output_type": "stream",
          "name": "stdout",
          "text": [
            "              precision    recall  f1-score   support\n",
            "\n",
            "           1       0.33      0.44      0.38       600\n",
            "           2       0.30      0.32      0.31       600\n",
            "           3       0.27      0.23      0.25       600\n",
            "           4       0.38      0.29      0.33       600\n",
            "\n",
            "    accuracy                           0.32      2400\n",
            "   macro avg       0.32      0.32      0.32      2400\n",
            "weighted avg       0.32      0.32      0.32      2400\n",
            "\n",
            "Accuracy: 0.32166666666666666\n"
          ]
        },
        {
          "output_type": "display_data",
          "data": {
            "image/png": "[encoded data removed]",
            "text/plain": [
              "<Figure size 432x288 with 2 Axes>"
            ]
          },
          "metadata": {
            "needs_background": "light"
          }
        }
      ]
    },
    {
      "cell_type": "code",
      "metadata": {
        "id": "eIZpYZCyEr6d",
        "colab": {
          "base_uri": "https://localhost:8080/",
          "height": 496
        },
        "outputId": "df25a52d-8a7a-4965-ef70-e345f88a6c43"
      },
      "source": [
        "clf = MLPClassifier((1000, ), max_iter=100000).fit(xtrain, ytrain)\n",
        "predicted_values = clf.predict(X_test)\n",
        "print_confusion_matrix(predicted_values, y_test, [\"1\", \"2\", \"3\", \"4\"])\n",
        "print(\"Accuracy:\", metrics.accuracy_score(y_test, predicted_values))"
      ],
      "execution_count": 100,
      "outputs": [
        {
          "output_type": "stream",
          "name": "stdout",
          "text": [
            "              precision    recall  f1-score   support\n",
            "\n",
            "           1       0.32      0.41      0.36       600\n",
            "           2       0.30      0.24      0.27       600\n",
            "           3       0.28      0.23      0.25       600\n",
            "           4       0.34      0.36      0.35       600\n",
            "\n",
            "    accuracy                           0.31      2400\n",
            "   macro avg       0.31      0.31      0.31      2400\n",
            "weighted avg       0.31      0.31      0.31      2400\n",
            "\n",
            "Accuracy: 0.3120833333333333\n"
          ]
        },
        {
          "output_type": "display_data",
          "data": {
            "image/png": "[encoded data removed]",
            "text/plain": [
              "<Figure size 432x288 with 2 Axes>"
            ]
          },
          "metadata": {
            "needs_background": "light"
          }
        }
      ]
    },
    {
      "cell_type": "code",
      "metadata": {
        "id": "GKiGOYvSE_Xc",
        "colab": {
          "base_uri": "https://localhost:8080/",
          "height": 496
        },
        "outputId": "d87803b1-39cf-4d40-c185-65b8a3c9a938"
      },
      "source": [
        "clf = MLPClassifier((256, 64, 128, ), max_iter=100000, learning_rate=\"invscaling\").fit(xtrain, ytrain)\n",
        "predicted_values = clf.predict(X_test)\n",
        "print_confusion_matrix(predicted_values, y_test, [\"1\", \"2\", \"3\", \"4\"])\n",
        "print(\"Accuracy:\", metrics.accuracy_score(y_test, predicted_values))"
      ],
      "execution_count": 101,
      "outputs": [
        {
          "output_type": "stream",
          "name": "stdout",
          "text": [
            "              precision    recall  f1-score   support\n",
            "\n",
            "           1       0.33      0.43      0.37       600\n",
            "           2       0.29      0.27      0.28       600\n",
            "           3       0.27      0.22      0.24       600\n",
            "           4       0.37      0.35      0.36       600\n",
            "\n",
            "    accuracy                           0.32      2400\n",
            "   macro avg       0.31      0.32      0.31      2400\n",
            "weighted avg       0.31      0.32      0.31      2400\n",
            "\n",
            "Accuracy: 0.31708333333333333\n"
          ]
        },
        {
          "output_type": "display_data",
          "data": {
            "image/png": "[encoded data removed]",
            "text/plain": [
              "<Figure size 432x288 with 2 Axes>"
            ]
          },
          "metadata": {
            "needs_background": "light"
          }
        }
      ]
    },
    {
      "cell_type": "code",
      "metadata": {
        "id": "-0vnk47zj9ii"
      },
      "source": [
        "import keras\n",
        "from keras.models import Sequential \n",
        "from keras.layers import Dense   \n",
        "from tensorflow.keras.callbacks import EarlyStopping"
      ],
      "execution_count": 102,
      "outputs": []
    }
  ]
}