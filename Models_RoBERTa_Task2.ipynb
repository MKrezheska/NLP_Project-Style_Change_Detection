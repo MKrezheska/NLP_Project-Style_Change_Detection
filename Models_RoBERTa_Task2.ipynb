{
  "nbformat": 4,
  "nbformat_minor": 0,
  "metadata": {
    "colab": {
      "name": "Models_RoBERTa-Task2.ipynb",
      "provenance": [],
      "authorship_tag": "ABX9TyPvdSoQJHihxRICxit24DW7",
      "include_colab_link": true
    },
    "kernelspec": {
      "display_name": "Python 3",
      "name": "python3"
    },
    "language_info": {
      "name": "python"
    },
    "widgets": {
      "application/vnd.jupyter.widget-state+json": {
        "d8799a5988fa410684ce81e63a7190c3": {
          "model_module": "catboost-widget",
          "model_name": "CatboostWidgetModel",
          "model_module_version": "^1.0.0",
          "state": {
            "_view_name": "CatboostWidgetView",
            "_dom_classes": [],
            "_model_name": "CatboostWidgetModel",
            "data": {
              "catboost_info": {
                "content": {
                  "data": {
                    "meta": {
                      "name": "experiment",
                      "parameters": "",
                      "test_metrics": [],
                      "learn_sets": [
                        "learn"
                      ],
                      "launch_mode": "Train",
                      "learn_metrics": [
                        {
                          "best_value": "Min",
                          "name": "MultiClass"
                        }
                      ],
                      "iteration_count": 1000,
                      "test_sets": []
                    },
                    "iterations": [
                      {
                        "passed_time": 2.886626912,
                        "iteration": 0,
                        "remaining_time": 2883.740285,
                        "learn": [
                          1.379985342
                        ]
                      },
                      {
                        "passed_time": 3.773125009,
                        "iteration": 1,
                        "remaining_time": 1882.789379,
                        "learn": [
                          1.372846041
                        ]
                      },
                      {
                        "passed_time": 4.660236861,
                        "iteration": 2,
                        "remaining_time": 1548.75205,
                        "learn": [
                          1.366672385
                        ]
                      },
                      {
                        "passed_time": 5.525280021,
                        "iteration": 3,
                        "remaining_time": 1375.794725,
                        "learn": [
                          1.361491816
                        ]
                      },
                      {
                        "passed_time": 6.741857676,
                        "iteration": 4,
                        "remaining_time": 1341.629677,
                        "learn": [
                          1.356019461
                        ]
                      },
                      {
                        "passed_time": 8.011944247,
                        "iteration": 5,
                        "remaining_time": 1327.312097,
                        "learn": [
                          1.350565396
                        ]
                      },
                      {
                        "passed_time": 9.039912955,
                        "iteration": 6,
                        "remaining_time": 1282.376224,
                        "learn": [
                          1.34581269
                        ]
                      },
                      {
                        "passed_time": 9.825102184,
                        "iteration": 7,
                        "remaining_time": 1218.312671,
                        "learn": [
                          1.341660084
                        ]
                      },
                      {
                        "passed_time": 10.61495213,
                        "iteration": 8,
                        "remaining_time": 1168.824174,
                        "learn": [
                          1.337703567
                        ]
                      },
                      {
                        "passed_time": 11.31898973,
                        "iteration": 9,
                        "remaining_time": 1120.579984,
                        "learn": [
                          1.334185246
                        ]
                      },
                      {
                        "passed_time": 12.02238956,
                        "iteration": 10,
                        "remaining_time": 1080.922116,
                        "learn": [
                          1.330805075
                        ]
                      },
                      {
                        "passed_time": 12.73836922,
                        "iteration": 11,
                        "remaining_time": 1048.792399,
                        "learn": [
                          1.327554511
                        ]
                      },
                      {
                        "passed_time": 13.44431797,
                        "iteration": 12,
                        "remaining_time": 1020.733987,
                        "learn": [
                          1.324740077
                        ]
                      },
                      {
                        "passed_time": 14.16132998,
                        "iteration": 13,
                        "remaining_time": 997.36224,
                        "learn": [
                          1.322616466
                        ]
                      },
                      {
                        "passed_time": 14.86353489,
                        "iteration": 14,
                        "remaining_time": 976.0387909,
                        "learn": [
                          1.318641599
                        ]
                      },
                      {
                        "passed_time": 15.55467731,
                        "iteration": 15,
                        "remaining_time": 956.6126545,
                        "learn": [
                          1.315156807
                        ]
                      },
                      {
                        "passed_time": 16.26164127,
                        "iteration": 16,
                        "remaining_time": 940.3054924,
                        "learn": [
                          1.312593621
                        ]
                      },
                      {
                        "passed_time": 16.95836102,
                        "iteration": 17,
                        "remaining_time": 925.172807,
                        "learn": [
                          1.309500695
                        ]
                      },
                      {
                        "passed_time": 17.6562366,
                        "iteration": 18,
                        "remaining_time": 911.6193739,
                        "learn": [
                          1.307049874
                        ]
                      },
                      {
                        "passed_time": 18.38198423,
                        "iteration": 19,
                        "remaining_time": 900.7172272,
                        "learn": [
                          1.303434092
                        ]
                      },
                      {
                        "passed_time": 19.09085301,
                        "iteration": 20,
                        "remaining_time": 889.9973854,
                        "learn": [
                          1.3006343
                        ]
                      },
                      {
                        "passed_time": 19.76692285,
                        "iteration": 21,
                        "remaining_time": 878.7295702,
                        "learn": [
                          1.298082794
                        ]
                      },
                      {
                        "passed_time": 20.58146998,
                        "iteration": 22,
                        "remaining_time": 874.2650511,
                        "learn": [
                          1.295852425
                        ]
                      },
                      {
                        "passed_time": 21.33363571,
                        "iteration": 23,
                        "remaining_time": 867.5678524,
                        "learn": [
                          1.292854253
                        ]
                      },
                      {
                        "passed_time": 22.06738279,
                        "iteration": 24,
                        "remaining_time": 860.6279288,
                        "learn": [
                          1.290710838
                        ]
                      },
                      {
                        "passed_time": 22.77119483,
                        "iteration": 25,
                        "remaining_time": 853.0439909,
                        "learn": [
                          1.288335966
                        ]
                      },
                      {
                        "passed_time": 23.48970483,
                        "iteration": 26,
                        "remaining_time": 846.4993629,
                        "learn": [
                          1.286101295
                        ]
                      },
                      {
                        "passed_time": 24.25444858,
                        "iteration": 27,
                        "remaining_time": 841.9758578,
                        "learn": [
                          1.283505556
                        ]
                      },
                      {
                        "passed_time": 25.00325415,
                        "iteration": 28,
                        "remaining_time": 837.1779235,
                        "learn": [
                          1.281071616
                        ]
                      },
                      {
                        "passed_time": 25.7077941,
                        "iteration": 29,
                        "remaining_time": 831.218676,
                        "learn": [
                          1.279119953
                        ]
                      },
                      {
                        "passed_time": 26.4825202,
                        "iteration": 30,
                        "remaining_time": 827.7923249,
                        "learn": [
                          1.277244696
                        ]
                      },
                      {
                        "passed_time": 27.19711074,
                        "iteration": 31,
                        "remaining_time": 822.7125998,
                        "learn": [
                          1.274777745
                        ]
                      },
                      {
                        "passed_time": 27.93781237,
                        "iteration": 32,
                        "remaining_time": 818.6625625,
                        "learn": [
                          1.272696717
                        ]
                      },
                      {
                        "passed_time": 28.7266435,
                        "iteration": 33,
                        "remaining_time": 816.1746359,
                        "learn": [
                          1.270612919
                        ]
                      },
                      {
                        "passed_time": 29.46575259,
                        "iteration": 34,
                        "remaining_time": 812.412893,
                        "learn": [
                          1.268158015
                        ]
                      },
                      {
                        "passed_time": 30.14451123,
                        "iteration": 35,
                        "remaining_time": 807.203023,
                        "learn": [
                          1.266496068
                        ]
                      },
                      {
                        "passed_time": 30.86166958,
                        "iteration": 36,
                        "remaining_time": 803.2375081,
                        "learn": [
                          1.264227184
                        ]
                      },
                      {
                        "passed_time": 31.62120778,
                        "iteration": 37,
                        "remaining_time": 800.5158391,
                        "learn": [
                          1.262204449
                        ]
                      },
                      {
                        "passed_time": 32.38159549,
                        "iteration": 38,
                        "remaining_time": 797.9157247,
                        "learn": [
                          1.26023713
                        ]
                      },
                      {
                        "passed_time": 33.11677775,
                        "iteration": 39,
                        "remaining_time": 794.8026661,
                        "learn": [
                          1.258432297
                        ]
                      },
                      {
                        "passed_time": 33.81615412,
                        "iteration": 40,
                        "remaining_time": 790.9680926,
                        "learn": [
                          1.25667607
                        ]
                      },
                      {
                        "passed_time": 34.61765906,
                        "iteration": 41,
                        "remaining_time": 789.6123186,
                        "learn": [
                          1.254815422
                        ]
                      },
                      {
                        "passed_time": 35.39495772,
                        "iteration": 42,
                        "remaining_time": 787.743594,
                        "learn": [
                          1.252731828
                        ]
                      },
                      {
                        "passed_time": 36.17526284,
                        "iteration": 43,
                        "remaining_time": 785.9898017,
                        "learn": [
                          1.250943106
                        ]
                      },
                      {
                        "passed_time": 36.91302283,
                        "iteration": 44,
                        "remaining_time": 783.3763734,
                        "learn": [
                          1.249089969
                        ]
                      },
                      {
                        "passed_time": 37.58732909,
                        "iteration": 45,
                        "remaining_time": 779.5285207,
                        "learn": [
                          1.247600864
                        ]
                      },
                      {
                        "passed_time": 38.26953335,
                        "iteration": 46,
                        "remaining_time": 775.9758571,
                        "learn": [
                          1.245719004
                        ]
                      },
                      {
                        "passed_time": 38.99099776,
                        "iteration": 47,
                        "remaining_time": 773.3214555,
                        "learn": [
                          1.24391673
                        ]
                      },
                      {
                        "passed_time": 39.72037452,
                        "iteration": 48,
                        "remaining_time": 770.8995137,
                        "learn": [
                          1.242193362
                        ]
                      },
                      {
                        "passed_time": 40.40695736,
                        "iteration": 49,
                        "remaining_time": 767.7321898,
                        "learn": [
                          1.240598002
                        ]
                      },
                      {
                        "passed_time": 41.12196803,
                        "iteration": 50,
                        "remaining_time": 765.1911305,
                        "learn": [
                          1.238944076
                        ]
                      },
                      {
                        "passed_time": 41.83290936,
                        "iteration": 51,
                        "remaining_time": 762.6461168,
                        "learn": [
                          1.237537026
                        ]
                      },
                      {
                        "passed_time": 42.52152666,
                        "iteration": 52,
                        "remaining_time": 759.7714291,
                        "learn": [
                          1.23513679
                        ]
                      },
                      {
                        "passed_time": 43.21608365,
                        "iteration": 53,
                        "remaining_time": 757.0817616,
                        "learn": [
                          1.23325386
                        ]
                      },
                      {
                        "passed_time": 43.9072908,
                        "iteration": 54,
                        "remaining_time": 754.4070874,
                        "learn": [
                          1.231695329
                        ]
                      },
                      {
                        "passed_time": 44.60994432,
                        "iteration": 55,
                        "remaining_time": 751.9962042,
                        "learn": [
                          1.230109302
                        ]
                      },
                      {
                        "passed_time": 45.36223584,
                        "iteration": 56,
                        "remaining_time": 750.4664631,
                        "learn": [
                          1.227903886
                        ]
                      },
                      {
                        "passed_time": 46.09679026,
                        "iteration": 57,
                        "remaining_time": 748.6754555,
                        "learn": [
                          1.226331403
                        ]
                      },
                      {
                        "passed_time": 46.82283332,
                        "iteration": 58,
                        "remaining_time": 746.784511,
                        "learn": [
                          1.22474884
                        ]
                      },
                      {
                        "passed_time": 47.48884309,
                        "iteration": 59,
                        "remaining_time": 743.9918751,
                        "learn": [
                          1.223315259
                        ]
                      },
                      {
                        "passed_time": 48.2445785,
                        "iteration": 60,
                        "remaining_time": 742.6501511,
                        "learn": [
                          1.22172508
                        ]
                      },
                      {
                        "passed_time": 48.95022163,
                        "iteration": 61,
                        "remaining_time": 740.5694821,
                        "learn": [
                          1.219953884
                        ]
                      },
                      {
                        "passed_time": 49.61984654,
                        "iteration": 62,
                        "remaining_time": 737.9967652,
                        "learn": [
                          1.218507901
                        ]
                      },
                      {
                        "passed_time": 50.33898107,
                        "iteration": 63,
                        "remaining_time": 736.2075981,
                        "learn": [
                          1.216623325
                        ]
                      },
                      {
                        "passed_time": 51.09037794,
                        "iteration": 64,
                        "remaining_time": 734.9154365,
                        "learn": [
                          1.214981335
                        ]
                      },
                      {
                        "passed_time": 51.79647498,
                        "iteration": 65,
                        "remaining_time": 732.9986004,
                        "learn": [
                          1.213575848
                        ]
                      },
                      {
                        "passed_time": 52.49266122,
                        "iteration": 66,
                        "remaining_time": 730.9798944,
                        "learn": [
                          1.212238052
                        ]
                      },
                      {
                        "passed_time": 53.2754635,
                        "iteration": 67,
                        "remaining_time": 730.187235,
                        "learn": [
                          1.211053849
                        ]
                      },
                      {
                        "passed_time": 54.07479382,
                        "iteration": 68,
                        "remaining_time": 729.6178703,
                        "learn": [
                          1.209423167
                        ]
                      },
                      {
                        "passed_time": 54.81540112,
                        "iteration": 69,
                        "remaining_time": 728.2617578,
                        "learn": [
                          1.207594553
                        ]
                      },
                      {
                        "passed_time": 55.50446952,
                        "iteration": 70,
                        "remaining_time": 726.2486223,
                        "learn": [
                          1.206269469
                        ]
                      },
                      {
                        "passed_time": 56.23149122,
                        "iteration": 71,
                        "remaining_time": 724.7614424,
                        "learn": [
                          1.204595956
                        ]
                      },
                      {
                        "passed_time": 56.95057465,
                        "iteration": 72,
                        "remaining_time": 723.1942835,
                        "learn": [
                          1.203540962
                        ]
                      },
                      {
                        "passed_time": 57.73942702,
                        "iteration": 73,
                        "remaining_time": 722.5231003,
                        "learn": [
                          1.201958368
                        ]
                      },
                      {
                        "passed_time": 58.50901229,
                        "iteration": 74,
                        "remaining_time": 721.6111516,
                        "learn": [
                          1.200525519
                        ]
                      },
                      {
                        "passed_time": 59.31551944,
                        "iteration": 75,
                        "remaining_time": 721.1518416,
                        "learn": [
                          1.199090507
                        ]
                      },
                      {
                        "passed_time": 60.06899973,
                        "iteration": 76,
                        "remaining_time": 720.0478798,
                        "learn": [
                          1.197262063
                        ]
                      },
                      {
                        "passed_time": 60.76909436,
                        "iteration": 77,
                        "remaining_time": 718.3218589,
                        "learn": [
                          1.195994105
                        ]
                      },
                      {
                        "passed_time": 61.45929727,
                        "iteration": 78,
                        "remaining_time": 716.506491,
                        "learn": [
                          1.194811655
                        ]
                      },
                      {
                        "passed_time": 62.19168279,
                        "iteration": 79,
                        "remaining_time": 715.204352,
                        "learn": [
                          1.193276446
                        ]
                      },
                      {
                        "passed_time": 62.99901689,
                        "iteration": 80,
                        "remaining_time": 714.7666238,
                        "learn": [
                          1.191846683
                        ]
                      },
                      {
                        "passed_time": 63.66256911,
                        "iteration": 81,
                        "remaining_time": 712.7102249,
                        "learn": [
                          1.190695121
                        ]
                      },
                      {
                        "passed_time": 64.36408251,
                        "iteration": 82,
                        "remaining_time": 711.1067911,
                        "learn": [
                          1.189255523
                        ]
                      },
                      {
                        "passed_time": 65.1003259,
                        "iteration": 83,
                        "remaining_time": 709.9035539,
                        "learn": [
                          1.187854784
                        ]
                      },
                      {
                        "passed_time": 65.90183902,
                        "iteration": 84,
                        "remaining_time": 709.4139141,
                        "learn": [
                          1.18639309
                        ]
                      },
                      {
                        "passed_time": 66.67296047,
                        "iteration": 85,
                        "remaining_time": 708.5940217,
                        "learn": [
                          1.18529575
                        ]
                      },
                      {
                        "passed_time": 67.41331421,
                        "iteration": 86,
                        "remaining_time": 707.4523664,
                        "learn": [
                          1.183803974
                        ]
                      },
                      {
                        "passed_time": 68.11176952,
                        "iteration": 87,
                        "remaining_time": 705.8856114,
                        "learn": [
                          1.182613397
                        ]
                      },
                      {
                        "passed_time": 68.81208404,
                        "iteration": 88,
                        "remaining_time": 704.3573995,
                        "learn": [
                          1.181397087
                        ]
                      },
                      {
                        "passed_time": 69.48873083,
                        "iteration": 89,
                        "remaining_time": 702.6082784,
                        "learn": [
                          1.179910477
                        ]
                      },
                      {
                        "passed_time": 70.25934993,
                        "iteration": 90,
                        "remaining_time": 701.8214185,
                        "learn": [
                          1.178735239
                        ]
                      },
                      {
                        "passed_time": 71.05179416,
                        "iteration": 91,
                        "remaining_time": 701.2503162,
                        "learn": [
                          1.177292733
                        ]
                      },
                      {
                        "passed_time": 71.80369182,
                        "iteration": 92,
                        "remaining_time": 700.279016,
                        "learn": [
                          1.176207753
                        ]
                      },
                      {
                        "passed_time": 72.5049625,
                        "iteration": 93,
                        "remaining_time": 698.8244258,
                        "learn": [
                          1.175249925
                        ]
                      },
                      {
                        "passed_time": 73.23162383,
                        "iteration": 94,
                        "remaining_time": 697.6275743,
                        "learn": [
                          1.173448296
                        ]
                      },
                      {
                        "passed_time": 74.03251804,
                        "iteration": 95,
                        "remaining_time": 697.1395449,
                        "learn": [
                          1.172192322
                        ]
                      },
                      {
                        "passed_time": 74.80516676,
                        "iteration": 96,
                        "remaining_time": 696.3821194,
                        "learn": [
                          1.170768289
                        ]
                      },
                      {
                        "passed_time": 75.56519531,
                        "iteration": 97,
                        "remaining_time": 695.5082262,
                        "learn": [
                          1.169204542
                        ]
                      },
                      {
                        "passed_time": 76.27645028,
                        "iteration": 98,
                        "remaining_time": 694.1927444,
                        "learn": [
                          1.16796582
                        ]
                      },
                      {
                        "passed_time": 76.99360119,
                        "iteration": 99,
                        "remaining_time": 692.9424107,
                        "learn": [
                          1.166587177
                        ]
                      },
                      {
                        "passed_time": 77.72363439,
                        "iteration": 100,
                        "remaining_time": 691.8173002,
                        "learn": [
                          1.165215706
                        ]
                      },
                      {
                        "passed_time": 78.47777773,
                        "iteration": 101,
                        "remaining_time": 690.9122,
                        "learn": [
                          1.163916751
                        ]
                      },
                      {
                        "passed_time": 79.19515218,
                        "iteration": 102,
                        "remaining_time": 689.6898204,
                        "learn": [
                          1.162437752
                        ]
                      },
                      {
                        "passed_time": 79.93866623,
                        "iteration": 103,
                        "remaining_time": 688.7023552,
                        "learn": [
                          1.16032751
                        ]
                      },
                      {
                        "passed_time": 80.65477831,
                        "iteration": 104,
                        "remaining_time": 687.4859675,
                        "learn": [
                          1.158990542
                        ]
                      },
                      {
                        "passed_time": 81.36217815,
                        "iteration": 105,
                        "remaining_time": 686.2055403,
                        "learn": [
                          1.157201406
                        ]
                      },
                      {
                        "passed_time": 82.07669937,
                        "iteration": 106,
                        "remaining_time": 684.9952574,
                        "learn": [
                          1.155810616
                        ]
                      },
                      {
                        "passed_time": 82.77122732,
                        "iteration": 107,
                        "remaining_time": 683.6290256,
                        "learn": [
                          1.154452144
                        ]
                      },
                      {
                        "passed_time": 83.54620425,
                        "iteration": 108,
                        "remaining_time": 682.9327338,
                        "learn": [
                          1.152999657
                        ]
                      },
                      {
                        "passed_time": 84.3378446,
                        "iteration": 109,
                        "remaining_time": 682.3698336,
                        "learn": [
                          1.151831355
                        ]
                      },
                      {
                        "passed_time": 85.0752609,
                        "iteration": 110,
                        "remaining_time": 681.368531,
                        "learn": [
                          1.150022484
                        ]
                      },
                      {
                        "passed_time": 85.84835065,
                        "iteration": 111,
                        "remaining_time": 680.6547802,
                        "learn": [
                          1.1489147
                        ]
                      },
                      {
                        "passed_time": 86.61893397,
                        "iteration": 112,
                        "remaining_time": 679.9203047,
                        "learn": [
                          1.147901549
                        ]
                      },
                      {
                        "passed_time": 87.32932458,
                        "iteration": 113,
                        "remaining_time": 678.7173823,
                        "learn": [
                          1.146222465
                        ]
                      },
                      {
                        "passed_time": 88.05093893,
                        "iteration": 114,
                        "remaining_time": 677.6093996,
                        "learn": [
                          1.144997553
                        ]
                      },
                      {
                        "passed_time": 88.77655572,
                        "iteration": 115,
                        "remaining_time": 676.5385798,
                        "learn": [
                          1.14368566
                        ]
                      },
                      {
                        "passed_time": 89.49530793,
                        "iteration": 116,
                        "remaining_time": 675.4218539,
                        "learn": [
                          1.141946743
                        ]
                      },
                      {
                        "passed_time": 90.20374479,
                        "iteration": 117,
                        "remaining_time": 674.2347704,
                        "learn": [
                          1.140612303
                        ]
                      },
                      {
                        "passed_time": 90.90223172,
                        "iteration": 118,
                        "remaining_time": 672.9820685,
                        "learn": [
                          1.139236501
                        ]
                      },
                      {
                        "passed_time": 91.64862696,
                        "iteration": 119,
                        "remaining_time": 672.089931,
                        "learn": [
                          1.138166265
                        ]
                      },
                      {
                        "passed_time": 92.46046299,
                        "iteration": 120,
                        "remaining_time": 671.6755948,
                        "learn": [
                          1.136777219
                        ]
                      },
                      {
                        "passed_time": 93.22272285,
                        "iteration": 121,
                        "remaining_time": 670.8979562,
                        "learn": [
                          1.134654882
                        ]
                      },
                      {
                        "passed_time": 93.91586567,
                        "iteration": 122,
                        "remaining_time": 669.6277577,
                        "learn": [
                          1.133301971
                        ]
                      },
                      {
                        "passed_time": 94.62633993,
                        "iteration": 123,
                        "remaining_time": 668.4893046,
                        "learn": [
                          1.131910103
                        ]
                      },
                      {
                        "passed_time": 95.31135082,
                        "iteration": 124,
                        "remaining_time": 667.1794558,
                        "learn": [
                          1.130489661
                        ]
                      },
                      {
                        "passed_time": 96.04365921,
                        "iteration": 125,
                        "remaining_time": 666.2076044,
                        "learn": [
                          1.129059648
                        ]
                      },
                      {
                        "passed_time": 96.79576289,
                        "iteration": 126,
                        "remaining_time": 665.3755985,
                        "learn": [
                          1.127896338
                        ]
                      },
                      {
                        "passed_time": 97.5851088,
                        "iteration": 127,
                        "remaining_time": 664.7985537,
                        "learn": [
                          1.126419427
                        ]
                      },
                      {
                        "passed_time": 98.28800582,
                        "iteration": 128,
                        "remaining_time": 663.6345199,
                        "learn": [
                          1.124877353
                        ]
                      },
                      {
                        "passed_time": 98.94663539,
                        "iteration": 129,
                        "remaining_time": 662.1813291,
                        "learn": [
                          1.123747169
                        ]
                      },
                      {
                        "passed_time": 99.64405937,
                        "iteration": 130,
                        "remaining_time": 660.9976152,
                        "learn": [
                          1.122310553
                        ]
                      },
                      {
                        "passed_time": 100.3210252,
                        "iteration": 131,
                        "remaining_time": 659.6867417,
                        "learn": [
                          1.121160657
                        ]
                      },
                      {
                        "passed_time": 101.0842216,
                        "iteration": 132,
                        "remaining_time": 658.9475197,
                        "learn": [
                          1.119252627
                        ]
                      },
                      {
                        "passed_time": 101.8884746,
                        "iteration": 133,
                        "remaining_time": 658.4732758,
                        "learn": [
                          1.117760053
                        ]
                      },
                      {
                        "passed_time": 102.6703732,
                        "iteration": 134,
                        "remaining_time": 657.8509095,
                        "learn": [
                          1.116305282
                        ]
                      },
                      {
                        "passed_time": 103.4197913,
                        "iteration": 135,
                        "remaining_time": 657.0198509,
                        "learn": [
                          1.114601834
                        ]
                      },
                      {
                        "passed_time": 104.1290476,
                        "iteration": 136,
                        "remaining_time": 655.9369933,
                        "learn": [
                          1.113409132
                        ]
                      },
                      {
                        "passed_time": 104.8378411,
                        "iteration": 137,
                        "remaining_time": 654.8566596,
                        "learn": [
                          1.112328906
                        ]
                      },
                      {
                        "passed_time": 105.5837698,
                        "iteration": 138,
                        "remaining_time": 654.0116966,
                        "learn": [
                          1.110907424
                        ]
                      },
                      {
                        "passed_time": 106.2715621,
                        "iteration": 139,
                        "remaining_time": 652.8110246,
                        "learn": [
                          1.109378795
                        ]
                      },
                      {
                        "passed_time": 106.9669156,
                        "iteration": 140,
                        "remaining_time": 651.6636915,
                        "learn": [
                          1.108243491
                        ]
                      },
                      {
                        "passed_time": 107.6817127,
                        "iteration": 141,
                        "remaining_time": 650.6402076,
                        "learn": [
                          1.106879514
                        ]
                      },
                      {
                        "passed_time": 108.4048769,
                        "iteration": 142,
                        "remaining_time": 649.6711854,
                        "learn": [
                          1.105111201
                        ]
                      },
                      {
                        "passed_time": 109.186898,
                        "iteration": 143,
                        "remaining_time": 649.0554491,
                        "learn": [
                          1.103281136
                        ]
                      },
                      {
                        "passed_time": 109.964409,
                        "iteration": 144,
                        "remaining_time": 648.4108254,
                        "learn": [
                          1.102237641
                        ]
                      },
                      {
                        "passed_time": 110.7325923,
                        "iteration": 145,
                        "remaining_time": 647.7098206,
                        "learn": [
                          1.100795017
                        ]
                      },
                      {
                        "passed_time": 111.4487098,
                        "iteration": 146,
                        "remaining_time": 646.7057787,
                        "learn": [
                          1.099495635
                        ]
                      },
                      {
                        "passed_time": 112.1841347,
                        "iteration": 147,
                        "remaining_time": 645.8167754,
                        "learn": [
                          1.098265042
                        ]
                      },
                      {
                        "passed_time": 112.9802371,
                        "iteration": 148,
                        "remaining_time": 645.2763878,
                        "learn": [
                          1.096853971
                        ]
                      },
                      {
                        "passed_time": 113.7164683,
                        "iteration": 149,
                        "remaining_time": 644.3933205,
                        "learn": [
                          1.09577498
                        ]
                      },
                      {
                        "passed_time": 114.4122104,
                        "iteration": 150,
                        "remaining_time": 643.2845473,
                        "learn": [
                          1.094470654
                        ]
                      },
                      {
                        "passed_time": 115.1241974,
                        "iteration": 151,
                        "remaining_time": 642.271838,
                        "learn": [
                          1.093207099
                        ]
                      },
                      {
                        "passed_time": 115.8812281,
                        "iteration": 152,
                        "remaining_time": 641.5124197,
                        "learn": [
                          1.091770074
                        ]
                      },
                      {
                        "passed_time": 116.5924571,
                        "iteration": 153,
                        "remaining_time": 640.5014203,
                        "learn": [
                          1.090622219
                        ]
                      },
                      {
                        "passed_time": 117.3126033,
                        "iteration": 154,
                        "remaining_time": 639.5429016,
                        "learn": [
                          1.089123928
                        ]
                      },
                      {
                        "passed_time": 118.0676723,
                        "iteration": 155,
                        "remaining_time": 638.776381,
                        "learn": [
                          1.088106666
                        ]
                      },
                      {
                        "passed_time": 118.8553364,
                        "iteration": 156,
                        "remaining_time": 638.185023,
                        "learn": [
                          1.087009977
                        ]
                      },
                      {
                        "passed_time": 119.6478051,
                        "iteration": 157,
                        "remaining_time": 637.616784,
                        "learn": [
                          1.085938111
                        ]
                      },
                      {
                        "passed_time": 120.4208588,
                        "iteration": 158,
                        "remaining_time": 636.9430332,
                        "learn": [
                          1.084558105
                        ]
                      },
                      {
                        "passed_time": 121.2268687,
                        "iteration": 159,
                        "remaining_time": 636.4410608,
                        "learn": [
                          1.082992963
                        ]
                      },
                      {
                        "passed_time": 122.0616188,
                        "iteration": 160,
                        "remaining_time": 636.0850819,
                        "learn": [
                          1.081153209
                        ]
                      },
                      {
                        "passed_time": 122.8492888,
                        "iteration": 161,
                        "remaining_time": 635.4796545,
                        "learn": [
                          1.079777912
                        ]
                      },
                      {
                        "passed_time": 123.6793885,
                        "iteration": 162,
                        "remaining_time": 635.0898661,
                        "learn": [
                          1.078294148
                        ]
                      },
                      {
                        "passed_time": 124.4497045,
                        "iteration": 163,
                        "remaining_time": 634.3899573,
                        "learn": [
                          1.077070995
                        ]
                      },
                      {
                        "passed_time": 125.2382341,
                        "iteration": 164,
                        "remaining_time": 633.7813663,
                        "learn": [
                          1.075700173
                        ]
                      },
                      {
                        "passed_time": 125.9746622,
                        "iteration": 165,
                        "remaining_time": 632.9088452,
                        "learn": [
                          1.074515327
                        ]
                      },
                      {
                        "passed_time": 126.7554879,
                        "iteration": 166,
                        "remaining_time": 632.2594095,
                        "learn": [
                          1.073391323
                        ]
                      },
                      {
                        "passed_time": 127.511423,
                        "iteration": 167,
                        "remaining_time": 631.4851424,
                        "learn": [
                          1.072193052
                        ]
                      },
                      {
                        "passed_time": 128.3406561,
                        "iteration": 168,
                        "remaining_time": 631.0715101,
                        "learn": [
                          1.070356397
                        ]
                      },
                      {
                        "passed_time": 129.0754595,
                        "iteration": 169,
                        "remaining_time": 630.1919494,
                        "learn": [
                          1.069335681
                        ]
                      },
                      {
                        "passed_time": 129.8766419,
                        "iteration": 170,
                        "remaining_time": 629.6358841,
                        "learn": [
                          1.067904001
                        ]
                      },
                      {
                        "passed_time": 130.6592328,
                        "iteration": 171,
                        "remaining_time": 628.9874694,
                        "learn": [
                          1.066890843
                        ]
                      },
                      {
                        "passed_time": 131.4279687,
                        "iteration": 172,
                        "remaining_time": 628.2712725,
                        "learn": [
                          1.065805797
                        ]
                      },
                      {
                        "passed_time": 132.1372321,
                        "iteration": 173,
                        "remaining_time": 627.2721476,
                        "learn": [
                          1.064586762
                        ]
                      },
                      {
                        "passed_time": 132.8993791,
                        "iteration": 174,
                        "remaining_time": 626.5256444,
                        "learn": [
                          1.063239498
                        ]
                      },
                      {
                        "passed_time": 133.6379161,
                        "iteration": 175,
                        "remaining_time": 625.6684254,
                        "learn": [
                          1.062274892
                        ]
                      },
                      {
                        "passed_time": 134.3487036,
                        "iteration": 176,
                        "remaining_time": 624.6835202,
                        "learn": [
                          1.061215739
                        ]
                      },
                      {
                        "passed_time": 135.0585593,
                        "iteration": 177,
                        "remaining_time": 623.6973919,
                        "learn": [
                          1.060021497
                        ]
                      },
                      {
                        "passed_time": 135.7966844,
                        "iteration": 178,
                        "remaining_time": 622.8440104,
                        "learn": [
                          1.058919272
                        ]
                      },
                      {
                        "passed_time": 136.5106854,
                        "iteration": 179,
                        "remaining_time": 621.8820112,
                        "learn": [
                          1.057813294
                        ]
                      },
                      {
                        "passed_time": 137.3078868,
                        "iteration": 180,
                        "remaining_time": 621.2992225,
                        "learn": [
                          1.056601776
                        ]
                      },
                      {
                        "passed_time": 138.110247,
                        "iteration": 181,
                        "remaining_time": 620.7372642,
                        "learn": [
                          1.055446275
                        ]
                      },
                      {
                        "passed_time": 138.930369,
                        "iteration": 182,
                        "remaining_time": 620.2519751,
                        "learn": [
                          1.053958226
                        ]
                      },
                      {
                        "passed_time": 139.6599271,
                        "iteration": 183,
                        "remaining_time": 619.3614159,
                        "learn": [
                          1.053379551
                        ]
                      },
                      {
                        "passed_time": 140.4383362,
                        "iteration": 184,
                        "remaining_time": 618.6878055,
                        "learn": [
                          1.051782469
                        ]
                      },
                      {
                        "passed_time": 141.2408431,
                        "iteration": 185,
                        "remaining_time": 618.1185285,
                        "learn": [
                          1.050169023
                        ]
                      },
                      {
                        "passed_time": 141.999547,
                        "iteration": 186,
                        "remaining_time": 617.3563195,
                        "learn": [
                          1.049465422
                        ]
                      },
                      {
                        "passed_time": 142.7860356,
                        "iteration": 187,
                        "remaining_time": 616.7141538,
                        "learn": [
                          1.04836332
                        ]
                      },
                      {
                        "passed_time": 143.5042014,
                        "iteration": 188,
                        "remaining_time": 615.7772877,
                        "learn": [
                          1.047129487
                        ]
                      },
                      {
                        "passed_time": 144.221699,
                        "iteration": 189,
                        "remaining_time": 614.8398746,
                        "learn": [
                          1.045662149
                        ]
                      },
                      {
                        "passed_time": 144.9276065,
                        "iteration": 190,
                        "remaining_time": 613.8556735,
                        "learn": [
                          1.044734226
                        ]
                      },
                      {
                        "passed_time": 145.666956,
                        "iteration": 191,
                        "remaining_time": 613.0151064,
                        "learn": [
                          1.043447334
                        ]
                      },
                      {
                        "passed_time": 146.4648672,
                        "iteration": 192,
                        "remaining_time": 612.4204551,
                        "learn": [
                          1.04247188
                        ]
                      },
                      {
                        "passed_time": 147.252722,
                        "iteration": 193,
                        "remaining_time": 611.7819276,
                        "learn": [
                          1.041324401
                        ]
                      },
                      {
                        "passed_time": 148.0080874,
                        "iteration": 194,
                        "remaining_time": 611.0077456,
                        "learn": [
                          1.040156707
                        ]
                      },
                      {
                        "passed_time": 148.6972453,
                        "iteration": 195,
                        "remaining_time": 609.9621697,
                        "learn": [
                          1.039337874
                        ]
                      },
                      {
                        "passed_time": 149.4491441,
                        "iteration": 196,
                        "remaining_time": 609.1759527,
                        "learn": [
                          1.038122675
                        ]
                      },
                      {
                        "passed_time": 150.1415852,
                        "iteration": 197,
                        "remaining_time": 608.149249,
                        "learn": [
                          1.037100112
                        ]
                      },
                      {
                        "passed_time": 150.8658142,
                        "iteration": 198,
                        "remaining_time": 607.2538552,
                        "learn": [
                          1.035446758
                        ]
                      },
                      {
                        "passed_time": 151.5714434,
                        "iteration": 199,
                        "remaining_time": 606.2857736,
                        "learn": [
                          1.034217521
                        ]
                      },
                      {
                        "passed_time": 152.3373187,
                        "iteration": 200,
                        "remaining_time": 605.5597892,
                        "learn": [
                          1.032537008
                        ]
                      },
                      {
                        "passed_time": 153.1331542,
                        "iteration": 201,
                        "remaining_time": 604.9517674,
                        "learn": [
                          1.031042538
                        ]
                      },
                      {
                        "passed_time": 153.8823406,
                        "iteration": 202,
                        "remaining_time": 604.158746,
                        "learn": [
                          1.030122076
                        ]
                      },
                      {
                        "passed_time": 154.6527182,
                        "iteration": 203,
                        "remaining_time": 603.4488414,
                        "learn": [
                          1.028817499
                        ]
                      },
                      {
                        "passed_time": 155.4223811,
                        "iteration": 204,
                        "remaining_time": 602.7355753,
                        "learn": [
                          1.02813505
                        ]
                      },
                      {
                        "passed_time": 156.2476908,
                        "iteration": 205,
                        "remaining_time": 602.2362452,
                        "learn": [
                          1.02705092
                        ]
                      },
                      {
                        "passed_time": 157.0079865,
                        "iteration": 206,
                        "remaining_time": 601.4847019,
                        "learn": [
                          1.02604743
                        ]
                      },
                      {
                        "passed_time": 157.7785066,
                        "iteration": 207,
                        "remaining_time": 600.7720058,
                        "learn": [
                          1.02480082
                        ]
                      },
                      {
                        "passed_time": 158.5904157,
                        "iteration": 208,
                        "remaining_time": 600.2154009,
                        "learn": [
                          1.023589962
                        ]
                      },
                      {
                        "passed_time": 159.3768282,
                        "iteration": 209,
                        "remaining_time": 599.5604491,
                        "learn": [
                          1.022186824
                        ]
                      },
                      {
                        "passed_time": 160.0889849,
                        "iteration": 210,
                        "remaining_time": 598.6265832,
                        "learn": [
                          1.020928996
                        ]
                      },
                      {
                        "passed_time": 160.8494897,
                        "iteration": 211,
                        "remaining_time": 597.8745184,
                        "learn": [
                          1.020007839
                        ]
                      },
                      {
                        "passed_time": 161.5616928,
                        "iteration": 212,
                        "remaining_time": 596.9439072,
                        "learn": [
                          1.018817242
                        ]
                      },
                      {
                        "passed_time": 162.3227193,
                        "iteration": 213,
                        "remaining_time": 596.1946606,
                        "learn": [
                          1.017743769
                        ]
                      },
                      {
                        "passed_time": 163.084904,
                        "iteration": 214,
                        "remaining_time": 595.4495333,
                        "learn": [
                          1.01671929
                        ]
                      },
                      {
                        "passed_time": 163.8501438,
                        "iteration": 215,
                        "remaining_time": 594.7153367,
                        "learn": [
                          1.015880091
                        ]
                      },
                      {
                        "passed_time": 164.6255768,
                        "iteration": 216,
                        "remaining_time": 594.0176343,
                        "learn": [
                          1.014814969
                        ]
                      },
                      {
                        "passed_time": 165.406238,
                        "iteration": 217,
                        "remaining_time": 593.3379732,
                        "learn": [
                          1.013683941
                        ]
                      },
                      {
                        "passed_time": 166.1953505,
                        "iteration": 218,
                        "remaining_time": 592.6875284,
                        "learn": [
                          1.012649608
                        ]
                      },
                      {
                        "passed_time": 167.0227054,
                        "iteration": 219,
                        "remaining_time": 592.1714099,
                        "learn": [
                          1.011123447
                        ]
                      },
                      {
                        "passed_time": 167.8134819,
                        "iteration": 220,
                        "remaining_time": 591.5235404,
                        "learn": [
                          1.009845431
                        ]
                      },
                      {
                        "passed_time": 168.6329329,
                        "iteration": 221,
                        "remaining_time": 590.974873,
                        "learn": [
                          1.00843013
                        ]
                      },
                      {
                        "passed_time": 169.426264,
                        "iteration": 222,
                        "remaining_time": 590.3327675,
                        "learn": [
                          1.007242055
                        ]
                      },
                      {
                        "passed_time": 170.2089899,
                        "iteration": 223,
                        "remaining_time": 589.6525721,
                        "learn": [
                          1.006197991
                        ]
                      },
                      {
                        "passed_time": 170.9865478,
                        "iteration": 224,
                        "remaining_time": 588.9536646,
                        "learn": [
                          1.004844711
                        ]
                      },
                      {
                        "passed_time": 171.7237812,
                        "iteration": 225,
                        "remaining_time": 588.1159585,
                        "learn": [
                          1.003396395
                        ]
                      },
                      {
                        "passed_time": 172.4370631,
                        "iteration": 226,
                        "remaining_time": 587.1975763,
                        "learn": [
                          1.002255126
                        ]
                      },
                      {
                        "passed_time": 173.1677684,
                        "iteration": 227,
                        "remaining_time": 586.3399878,
                        "learn": [
                          1.001030355
                        ]
                      },
                      {
                        "passed_time": 173.881518,
                        "iteration": 228,
                        "remaining_time": 585.4264208,
                        "learn": [
                          0.9998473202
                        ]
                      },
                      {
                        "passed_time": 174.572294,
                        "iteration": 229,
                        "remaining_time": 584.4376798,
                        "learn": [
                          0.9987532069
                        ]
                      },
                      {
                        "passed_time": 175.3168926,
                        "iteration": 230,
                        "remaining_time": 583.6306943,
                        "learn": [
                          0.9975392982
                        ]
                      },
                      {
                        "passed_time": 176.0037342,
                        "iteration": 231,
                        "remaining_time": 582.6330513,
                        "learn": [
                          0.9966174254
                        ]
                      },
                      {
                        "passed_time": 176.7898856,
                        "iteration": 232,
                        "remaining_time": 581.9649882,
                        "learn": [
                          0.9953277883
                        ]
                      },
                      {
                        "passed_time": 177.5562242,
                        "iteration": 233,
                        "remaining_time": 581.2310587,
                        "learn": [
                          0.9943019392
                        ]
                      },
                      {
                        "passed_time": 178.2974052,
                        "iteration": 234,
                        "remaining_time": 580.4149573,
                        "learn": [
                          0.9930355733
                        ]
                      },
                      {
                        "passed_time": 179.0773035,
                        "iteration": 235,
                        "remaining_time": 579.7248298,
                        "learn": [
                          0.9919268707
                        ]
                      },
                      {
                        "passed_time": 179.9046525,
                        "iteration": 236,
                        "remaining_time": 579.1867083,
                        "learn": [
                          0.9903237635
                        ]
                      },
                      {
                        "passed_time": 180.7409668,
                        "iteration": 237,
                        "remaining_time": 578.6748601,
                        "learn": [
                          0.9890647384
                        ]
                      },
                      {
                        "passed_time": 181.5053874,
                        "iteration": 238,
                        "remaining_time": 577.9313799,
                        "learn": [
                          0.9880124538
                        ]
                      },
                      {
                        "passed_time": 182.2350025,
                        "iteration": 239,
                        "remaining_time": 577.0775078,
                        "learn": [
                          0.9867810519
                        ]
                      },
                      {
                        "passed_time": 182.9817449,
                        "iteration": 240,
                        "remaining_time": 576.2786073,
                        "learn": [
                          0.9857269826
                        ]
                      },
                      {
                        "passed_time": 183.7439638,
                        "iteration": 241,
                        "remaining_time": 575.5286137,
                        "learn": [
                          0.9846174444
                        ]
                      },
                      {
                        "passed_time": 184.5351192,
                        "iteration": 242,
                        "remaining_time": 574.8686635,
                        "learn": [
                          0.9834539658
                        ]
                      },
                      {
                        "passed_time": 185.2849501,
                        "iteration": 243,
                        "remaining_time": 574.0795996,
                        "learn": [
                          0.9824503585
                        ]
                      },
                      {
                        "passed_time": 186.0764161,
                        "iteration": 244,
                        "remaining_time": 573.41916,
                        "learn": [
                          0.9811237094
                        ]
                      },
                      {
                        "passed_time": 186.8164197,
                        "iteration": 245,
                        "remaining_time": 572.5999205,
                        "learn": [
                          0.9801547792
                        ]
                      },
                      {
                        "passed_time": 187.5831614,
                        "iteration": 246,
                        "remaining_time": 571.8628363,
                        "learn": [
                          0.9793034948
                        ]
                      },
                      {
                        "passed_time": 188.3577279,
                        "iteration": 247,
                        "remaining_time": 571.1492396,
                        "learn": [
                          0.9783476472
                        ]
                      },
                      {
                        "passed_time": 189.1447787,
                        "iteration": 248,
                        "remaining_time": 570.4728064,
                        "learn": [
                          0.9773542692
                        ]
                      },
                      {
                        "passed_time": 189.9224944,
                        "iteration": 249,
                        "remaining_time": 569.7674833,
                        "learn": [
                          0.9759748029
                        ]
                      },
                      {
                        "passed_time": 190.6921279,
                        "iteration": 250,
                        "remaining_time": 569.0374654,
                        "learn": [
                          0.9748045616
                        ]
                      },
                      {
                        "passed_time": 191.4640839,
                        "iteration": 251,
                        "remaining_time": 568.3140268,
                        "learn": [
                          0.9738712398
                        ]
                      },
                      {
                        "passed_time": 192.2291101,
                        "iteration": 252,
                        "remaining_time": 567.5697439,
                        "learn": [
                          0.9727747456
                        ]
                      },
                      {
                        "passed_time": 192.915821,
                        "iteration": 253,
                        "remaining_time": 566.5952852,
                        "learn": [
                          0.9716138368
                        ]
                      },
                      {
                        "passed_time": 193.6480125,
                        "iteration": 254,
                        "remaining_time": 565.7559582,
                        "learn": [
                          0.9702511497
                        ]
                      },
                      {
                        "passed_time": 194.4172385,
                        "iteration": 255,
                        "remaining_time": 565.0250995,
                        "learn": [
                          0.9693523737
                        ]
                      },
                      {
                        "passed_time": 195.1544135,
                        "iteration": 256,
                        "remaining_time": 564.2012812,
                        "learn": [
                          0.9683207834
                        ]
                      },
                      {
                        "passed_time": 195.9105739,
                        "iteration": 257,
                        "remaining_time": 563.4327358,
                        "learn": [
                          0.9672955129
                        ]
                      },
                      {
                        "passed_time": 196.6771648,
                        "iteration": 258,
                        "remaining_time": 562.6941279,
                        "learn": [
                          0.9661393326
                        ]
                      },
                      {
                        "passed_time": 197.4889948,
                        "iteration": 259,
                        "remaining_time": 562.0840622,
                        "learn": [
                          0.9649337036
                        ]
                      },
                      {
                        "passed_time": 198.2941115,
                        "iteration": 260,
                        "remaining_time": 561.4534423,
                        "learn": [
                          0.9637525781
                        ]
                      },
                      {
                        "passed_time": 199.0745543,
                        "iteration": 261,
                        "remaining_time": 560.7519887,
                        "learn": [
                          0.9626149221
                        ]
                      },
                      {
                        "passed_time": 199.7855259,
                        "iteration": 262,
                        "remaining_time": 559.8552569,
                        "learn": [
                          0.961730583
                        ]
                      },
                      {
                        "passed_time": 200.5272094,
                        "iteration": 263,
                        "remaining_time": 559.0455535,
                        "learn": [
                          0.9607736288
                        ]
                      },
                      {
                        "passed_time": 201.2654898,
                        "iteration": 264,
                        "remaining_time": 558.2269244,
                        "learn": [
                          0.959745325
                        ]
                      },
                      {
                        "passed_time": 201.9788447,
                        "iteration": 265,
                        "remaining_time": 557.3401202,
                        "learn": [
                          0.9586400918
                        ]
                      },
                      {
                        "passed_time": 202.6912316,
                        "iteration": 266,
                        "remaining_time": 556.451958,
                        "learn": [
                          0.9575934397
                        ]
                      },
                      {
                        "passed_time": 203.4689491,
                        "iteration": 267,
                        "remaining_time": 555.7435475,
                        "learn": [
                          0.9565570537
                        ]
                      },
                      {
                        "passed_time": 204.2587643,
                        "iteration": 268,
                        "remaining_time": 555.0674971,
                        "learn": [
                          0.95541844
                        ]
                      },
                      {
                        "passed_time": 205.0049881,
                        "iteration": 269,
                        "remaining_time": 554.2727455,
                        "learn": [
                          0.9538325184
                        ]
                      },
                      {
                        "passed_time": 205.7956532,
                        "iteration": 270,
                        "remaining_time": 553.5979011,
                        "learn": [
                          0.9529118201
                        ]
                      },
                      {
                        "passed_time": 206.5984269,
                        "iteration": 271,
                        "remaining_time": 552.9546131,
                        "learn": [
                          0.951734192
                        ]
                      },
                      {
                        "passed_time": 207.3662029,
                        "iteration": 272,
                        "remaining_time": 552.216958,
                        "learn": [
                          0.9506645758
                        ]
                      },
                      {
                        "passed_time": 208.0534409,
                        "iteration": 273,
                        "remaining_time": 551.2656865,
                        "learn": [
                          0.949799779
                        ]
                      },
                      {
                        "passed_time": 209.0488957,
                        "iteration": 274,
                        "remaining_time": 551.1289069,
                        "learn": [
                          0.9487158511
                        ]
                      },
                      {
                        "passed_time": 209.8255185,
                        "iteration": 275,
                        "remaining_time": 550.4118673,
                        "learn": [
                          0.9474252837
                        ]
                      },
                      {
                        "passed_time": 210.5683707,
                        "iteration": 276,
                        "remaining_time": 549.6062527,
                        "learn": [
                          0.9464673466
                        ]
                      },
                      {
                        "passed_time": 211.3468646,
                        "iteration": 277,
                        "remaining_time": 548.8936555,
                        "learn": [
                          0.9450015438
                        ]
                      },
                      {
                        "passed_time": 212.1071123,
                        "iteration": 278,
                        "remaining_time": 548.1334336,
                        "learn": [
                          0.9442547634
                        ]
                      },
                      {
                        "passed_time": 212.8276613,
                        "iteration": 279,
                        "remaining_time": 547.2711291,
                        "learn": [
                          0.9428974412
                        ]
                      },
                      {
                        "passed_time": 213.5293199,
                        "iteration": 280,
                        "remaining_time": 546.3614982,
                        "learn": [
                          0.9419139663
                        ]
                      },
                      {
                        "passed_time": 214.2257271,
                        "iteration": 281,
                        "remaining_time": 545.4399719,
                        "learn": [
                          0.9413088241
                        ]
                      },
                      {
                        "passed_time": 214.9618181,
                        "iteration": 282,
                        "remaining_time": 544.6205781,
                        "learn": [
                          0.9403668318
                        ]
                      },
                      {
                        "passed_time": 215.7197602,
                        "iteration": 283,
                        "remaining_time": 543.8568601,
                        "learn": [
                          0.9394489597
                        ]
                      },
                      {
                        "passed_time": 216.5100494,
                        "iteration": 284,
                        "remaining_time": 543.1743344,
                        "learn": [
                          0.9382463837
                        ]
                      },
                      {
                        "passed_time": 217.3385978,
                        "iteration": 285,
                        "remaining_time": 542.5865692,
                        "learn": [
                          0.9371493482
                        ]
                      },
                      {
                        "passed_time": 218.099052,
                        "iteration": 286,
                        "remaining_time": 541.8279584,
                        "learn": [
                          0.9359960428
                        ]
                      },
                      {
                        "passed_time": 218.8129565,
                        "iteration": 287,
                        "remaining_time": 540.9542535,
                        "learn": [
                          0.934885469
                        ]
                      },
                      {
                        "passed_time": 219.4805095,
                        "iteration": 288,
                        "remaining_time": 539.9676202,
                        "learn": [
                          0.9340894783
                        ]
                      },
                      {
                        "passed_time": 220.280418,
                        "iteration": 289,
                        "remaining_time": 539.3072302,
                        "learn": [
                          0.9331188021
                        ]
                      },
                      {
                        "passed_time": 221.0367849,
                        "iteration": 290,
                        "remaining_time": 538.5397956,
                        "learn": [
                          0.931785072
                        ]
                      },
                      {
                        "passed_time": 221.7700021,
                        "iteration": 291,
                        "remaining_time": 537.7163064,
                        "learn": [
                          0.9307220007
                        ]
                      },
                      {
                        "passed_time": 222.5771988,
                        "iteration": 292,
                        "remaining_time": 537.071944,
                        "learn": [
                          0.9296118651
                        ]
                      },
                      {
                        "passed_time": 223.3311874,
                        "iteration": 293,
                        "remaining_time": 536.2987018,
                        "learn": [
                          0.9286579231
                        ]
                      },
                      {
                        "passed_time": 224.1071151,
                        "iteration": 294,
                        "remaining_time": 535.5780208,
                        "learn": [
                          0.9275156041
                        ]
                      },
                      {
                        "passed_time": 224.8496286,
                        "iteration": 295,
                        "remaining_time": 534.7774952,
                        "learn": [
                          0.9263046132
                        ]
                      },
                      {
                        "passed_time": 225.584224,
                        "iteration": 296,
                        "remaining_time": 533.9586177,
                        "learn": [
                          0.9252702797
                        ]
                      },
                      {
                        "passed_time": 226.3303311,
                        "iteration": 297,
                        "remaining_time": 533.1674243,
                        "learn": [
                          0.9238134844
                        ]
                      },
                      {
                        "passed_time": 227.1459608,
                        "iteration": 298,
                        "remaining_time": 532.5395268,
                        "learn": [
                          0.9227812472
                        ]
                      },
                      {
                        "passed_time": 227.8724502,
                        "iteration": 299,
                        "remaining_time": 531.7023839,
                        "learn": [
                          0.9219383803
                        ]
                      },
                      {
                        "passed_time": 228.5888417,
                        "iteration": 300,
                        "remaining_time": 530.8425262,
                        "learn": [
                          0.9211108973
                        ]
                      },
                      {
                        "passed_time": 229.405888,
                        "iteration": 301,
                        "remaining_time": 530.2162577,
                        "learn": [
                          0.9199452598
                        ]
                      },
                      {
                        "passed_time": 230.2580451,
                        "iteration": 302,
                        "remaining_time": 529.6694964,
                        "learn": [
                          0.9183553231
                        ]
                      },
                      {
                        "passed_time": 231.0511321,
                        "iteration": 303,
                        "remaining_time": 528.9854866,
                        "learn": [
                          0.9169644391
                        ]
                      },
                      {
                        "passed_time": 231.8375802,
                        "iteration": 304,
                        "remaining_time": 528.2856335,
                        "learn": [
                          0.9159714394
                        ]
                      },
                      {
                        "passed_time": 232.6325311,
                        "iteration": 305,
                        "remaining_time": 527.6044986,
                        "learn": [
                          0.9148466265
                        ]
                      },
                      {
                        "passed_time": 233.4058079,
                        "iteration": 306,
                        "remaining_time": 526.8736968,
                        "learn": [
                          0.9134260242
                        ]
                      },
                      {
                        "passed_time": 234.109243,
                        "iteration": 307,
                        "remaining_time": 525.9857019,
                        "learn": [
                          0.9124126364
                        ]
                      },
                      {
                        "passed_time": 234.8699931,
                        "iteration": 308,
                        "remaining_time": 525.2270718,
                        "learn": [
                          0.9112724303
                        ]
                      },
                      {
                        "passed_time": 235.6976719,
                        "iteration": 309,
                        "remaining_time": 524.6173987,
                        "learn": [
                          0.9098748633
                        ]
                      },
                      {
                        "passed_time": 236.4268247,
                        "iteration": 310,
                        "remaining_time": 523.7880458,
                        "learn": [
                          0.909199971
                        ]
                      },
                      {
                        "passed_time": 237.1725711,
                        "iteration": 311,
                        "remaining_time": 522.9959259,
                        "learn": [
                          0.9081289591
                        ]
                      },
                      {
                        "passed_time": 237.9741396,
                        "iteration": 312,
                        "remaining_time": 522.3266259,
                        "learn": [
                          0.9072890575
                        ]
                      },
                      {
                        "passed_time": 238.7003235,
                        "iteration": 313,
                        "remaining_time": 521.4917896,
                        "learn": [
                          0.9064658185
                        ]
                      },
                      {
                        "passed_time": 239.4718408,
                        "iteration": 314,
                        "remaining_time": 520.7562253,
                        "learn": [
                          0.9054941529
                        ]
                      },
                      {
                        "passed_time": 240.2239163,
                        "iteration": 315,
                        "remaining_time": 519.9783505,
                        "learn": [
                          0.9045294444
                        ]
                      },
                      {
                        "passed_time": 240.9372402,
                        "iteration": 316,
                        "remaining_time": 519.1171454,
                        "learn": [
                          0.9034307096
                        ]
                      },
                      {
                        "passed_time": 241.7416142,
                        "iteration": 317,
                        "remaining_time": 518.4521411,
                        "learn": [
                          0.902488587
                        ]
                      },
                      {
                        "passed_time": 242.4694972,
                        "iteration": 318,
                        "remaining_time": 517.6229705,
                        "learn": [
                          0.9013272049
                        ]
                      },
                      {
                        "passed_time": 243.2205819,
                        "iteration": 319,
                        "remaining_time": 516.8437365,
                        "learn": [
                          0.9000303461
                        ]
                      },
                      {
                        "passed_time": 243.9053415,
                        "iteration": 320,
                        "remaining_time": 515.9243829,
                        "learn": [
                          0.8992329289
                        ]
                      },
                      {
                        "passed_time": 244.6739059,
                        "iteration": 321,
                        "remaining_time": 515.1829447,
                        "learn": [
                          0.8983497125
                        ]
                      },
                      {
                        "passed_time": 245.5020486,
                        "iteration": 322,
                        "remaining_time": 514.5662133,
                        "learn": [
                          0.8974784445
                        ]
                      },
                      {
                        "passed_time": 246.4009193,
                        "iteration": 323,
                        "remaining_time": 514.0957453,
                        "learn": [
                          0.8962070947
                        ]
                      },
                      {
                        "passed_time": 247.2306933,
                        "iteration": 324,
                        "remaining_time": 513.4791323,
                        "learn": [
                          0.8954179402
                        ]
                      },
                      {
                        "passed_time": 248.0614252,
                        "iteration": 325,
                        "remaining_time": 512.863192,
                        "learn": [
                          0.8943525495
                        ]
                      },
                      {
                        "passed_time": 248.8445512,
                        "iteration": 326,
                        "remaining_time": 512.1479601,
                        "learn": [
                          0.8934864972
                        ]
                      },
                      {
                        "passed_time": 249.6504185,
                        "iteration": 327,
                        "remaining_time": 511.4789062,
                        "learn": [
                          0.892248217
                        ]
                      },
                      {
                        "passed_time": 250.3654399,
                        "iteration": 328,
                        "remaining_time": 510.623739,
                        "learn": [
                          0.8913674918
                        ]
                      },
                      {
                        "passed_time": 251.1523162,
                        "iteration": 329,
                        "remaining_time": 509.9153086,
                        "learn": [
                          0.8904560802
                        ]
                      },
                      {
                        "passed_time": 251.9248144,
                        "iteration": 330,
                        "remaining_time": 509.177344,
                        "learn": [
                          0.8892020191
                        ]
                      },
                      {
                        "passed_time": 252.7159973,
                        "iteration": 331,
                        "remaining_time": 508.4767656,
                        "learn": [
                          0.8881057655
                        ]
                      },
                      {
                        "passed_time": 253.5444304,
                        "iteration": 332,
                        "remaining_time": 507.8502556,
                        "learn": [
                          0.88734514
                        ]
                      },
                      {
                        "passed_time": 254.3332395,
                        "iteration": 333,
                        "remaining_time": 507.1435255,
                        "learn": [
                          0.8865967212
                        ]
                      },
                      {
                        "passed_time": 255.1748119,
                        "iteration": 334,
                        "remaining_time": 506.5410445,
                        "learn": [
                          0.8853608842
                        ]
                      },
                      {
                        "passed_time": 255.9848221,
                        "iteration": 335,
                        "remaining_time": 505.8747675,
                        "learn": [
                          0.8842376454
                        ]
                      },
                      {
                        "passed_time": 256.7498883,
                        "iteration": 336,
                        "remaining_time": 505.1192164,
                        "learn": [
                          0.8836074486
                        ]
                      },
                      {
                        "passed_time": 257.506973,
                        "iteration": 337,
                        "remaining_time": 504.3479766,
                        "learn": [
                          0.8825413976
                        ]
                      },
                      {
                        "passed_time": 258.3056186,
                        "iteration": 338,
                        "remaining_time": 503.6578581,
                        "learn": [
                          0.8815111495
                        ]
                      },
                      {
                        "passed_time": 259.1259248,
                        "iteration": 339,
                        "remaining_time": 503.009148,
                        "learn": [
                          0.8802435533
                        ]
                      },
                      {
                        "passed_time": 259.8900539,
                        "iteration": 340,
                        "remaining_time": 502.2508666,
                        "learn": [
                          0.8795337609
                        ]
                      },
                      {
                        "passed_time": 260.683298,
                        "iteration": 341,
                        "remaining_time": 501.5485674,
                        "learn": [
                          0.8784400206
                        ]
                      },
                      {
                        "passed_time": 261.4388526,
                        "iteration": 342,
                        "remaining_time": 500.7735456,
                        "learn": [
                          0.8773323421
                        ]
                      },
                      {
                        "passed_time": 262.2261727,
                        "iteration": 343,
                        "remaining_time": 500.059213,
                        "learn": [
                          0.8763797606
                        ]
                      },
                      {
                        "passed_time": 263.0508717,
                        "iteration": 344,
                        "remaining_time": 499.415423,
                        "learn": [
                          0.8751988601
                        ]
                      },
                      {
                        "passed_time": 263.8954696,
                        "iteration": 345,
                        "remaining_time": 498.8081997,
                        "learn": [
                          0.8740560869
                        ]
                      },
                      {
                        "passed_time": 264.7382083,
                        "iteration": 346,
                        "remaining_time": 498.1961096,
                        "learn": [
                          0.8731503979
                        ]
                      },
                      {
                        "passed_time": 265.5721706,
                        "iteration": 347,
                        "remaining_time": 497.5662506,
                        "learn": [
                          0.8717919629
                        ]
                      },
                      {
                        "passed_time": 266.3894508,
                        "iteration": 348,
                        "remaining_time": 496.9041045,
                        "learn": [
                          0.8706288464
                        ]
                      },
                      {
                        "passed_time": 267.1545998,
                        "iteration": 349,
                        "remaining_time": 496.1442567,
                        "learn": [
                          0.8697571405
                        ]
                      },
                      {
                        "passed_time": 267.9541871,
                        "iteration": 350,
                        "remaining_time": 495.4480554,
                        "learn": [
                          0.8688159967
                        ]
                      },
                      {
                        "passed_time": 268.7654686,
                        "iteration": 351,
                        "remaining_time": 494.7727944,
                        "learn": [
                          0.867917413
                        ]
                      },
                      {
                        "passed_time": 269.5292889,
                        "iteration": 352,
                        "remaining_time": 494.0097731,
                        "learn": [
                          0.8671832008
                        ]
                      },
                      {
                        "passed_time": 270.281798,
                        "iteration": 353,
                        "remaining_time": 493.226106,
                        "learn": [
                          0.8662236913
                        ]
                      },
                      {
                        "passed_time": 270.9971534,
                        "iteration": 354,
                        "remaining_time": 492.3751098,
                        "learn": [
                          0.8652163376
                        ]
                      },
                      {
                        "passed_time": 271.7215135,
                        "iteration": 355,
                        "remaining_time": 491.5411648,
                        "learn": [
                          0.8641493929
                        ]
                      },
                      {
                        "passed_time": 272.5291541,
                        "iteration": 356,
                        "remaining_time": 490.8578323,
                        "learn": [
                          0.8631267774
                        ]
                      },
                      {
                        "passed_time": 273.3396607,
                        "iteration": 357,
                        "remaining_time": 490.1789446,
                        "learn": [
                          0.862389686
                        ]
                      },
                      {
                        "passed_time": 274.1617137,
                        "iteration": 358,
                        "remaining_time": 489.5199401,
                        "learn": [
                          0.8610599509
                        ]
                      },
                      {
                        "passed_time": 274.9623563,
                        "iteration": 359,
                        "remaining_time": 488.8219668,
                        "learn": [
                          0.8598719091
                        ]
                      },
                      {
                        "passed_time": 275.7858929,
                        "iteration": 360,
                        "remaining_time": 488.1639489,
                        "learn": [
                          0.8588654414
                        ]
                      },
                      {
                        "passed_time": 276.547546,
                        "iteration": 361,
                        "remaining_time": 487.3959512,
                        "learn": [
                          0.8575757431
                        ]
                      },
                      {
                        "passed_time": 277.2768824,
                        "iteration": 362,
                        "remaining_time": 486.5712785,
                        "learn": [
                          0.856724082
                        ]
                      },
                      {
                        "passed_time": 278.0623964,
                        "iteration": 363,
                        "remaining_time": 485.8452861,
                        "learn": [
                          0.8555954104
                        ]
                      },
                      {
                        "passed_time": 278.8807416,
                        "iteration": 364,
                        "remaining_time": 485.1760846,
                        "learn": [
                          0.8546160276
                        ]
                      },
                      {
                        "passed_time": 279.6334234,
                        "iteration": 365,
                        "remaining_time": 484.3923235,
                        "learn": [
                          0.8538341778
                        ]
                      },
                      {
                        "passed_time": 280.4267682,
                        "iteration": 366,
                        "remaining_time": 483.6788672,
                        "learn": [
                          0.8530138885
                        ]
                      },
                      {
                        "passed_time": 281.2635762,
                        "iteration": 367,
                        "remaining_time": 483.0396201,
                        "learn": [
                          0.851940763
                        ]
                      },
                      {
                        "passed_time": 282.0546853,
                        "iteration": 368,
                        "remaining_time": 482.3211556,
                        "learn": [
                          0.8506958012
                        ]
                      },
                      {
                        "passed_time": 282.7944808,
                        "iteration": 369,
                        "remaining_time": 481.5149268,
                        "learn": [
                          0.8496013524
                        ]
                      },
                      {
                        "passed_time": 283.5990862,
                        "iteration": 370,
                        "remaining_time": 480.8189359,
                        "learn": [
                          0.848556736
                        ]
                      },
                      {
                        "passed_time": 284.4246358,
                        "iteration": 371,
                        "remaining_time": 480.1577186,
                        "learn": [
                          0.8475228824
                        ]
                      },
                      {
                        "passed_time": 285.1992045,
                        "iteration": 372,
                        "remaining_time": 479.4099228,
                        "learn": [
                          0.8466945389
                        ]
                      },
                      {
                        "passed_time": 285.9608366,
                        "iteration": 373,
                        "remaining_time": 478.6403309,
                        "learn": [
                          0.8459741022
                        ]
                      },
                      {
                        "passed_time": 286.7344575,
                        "iteration": 374,
                        "remaining_time": 477.8907625,
                        "learn": [
                          0.8448383361
                        ]
                      },
                      {
                        "passed_time": 287.4179356,
                        "iteration": 375,
                        "remaining_time": 476.9914676,
                        "learn": [
                          0.8441020952
                        ]
                      },
                      {
                        "passed_time": 288.1848921,
                        "iteration": 376,
                        "remaining_time": 476.2312673,
                        "learn": [
                          0.8430290526
                        ]
                      },
                      {
                        "passed_time": 288.9877018,
                        "iteration": 377,
                        "remaining_time": 475.5300278,
                        "learn": [
                          0.8418294317
                        ]
                      },
                      {
                        "passed_time": 289.7276645,
                        "iteration": 378,
                        "remaining_time": 474.7252761,
                        "learn": [
                          0.8409777408
                        ]
                      },
                      {
                        "passed_time": 290.502206,
                        "iteration": 379,
                        "remaining_time": 473.9772835,
                        "learn": [
                          0.8401779483
                        ]
                      },
                      {
                        "passed_time": 291.3116956,
                        "iteration": 380,
                        "remaining_time": 473.2859307,
                        "learn": [
                          0.8393547052
                        ]
                      },
                      {
                        "passed_time": 292.070996,
                        "iteration": 381,
                        "remaining_time": 472.5127632,
                        "learn": [
                          0.8381403648
                        ]
                      },
                      {
                        "passed_time": 292.8365849,
                        "iteration": 382,
                        "remaining_time": 471.7497986,
                        "learn": [
                          0.8370318073
                        ]
                      },
                      {
                        "passed_time": 293.5774947,
                        "iteration": 383,
                        "remaining_time": 470.9472311,
                        "learn": [
                          0.8361851146
                        ]
                      },
                      {
                        "passed_time": 294.3115694,
                        "iteration": 384,
                        "remaining_time": 470.1340654,
                        "learn": [
                          0.8353072747
                        ]
                      },
                      {
                        "passed_time": 295.0408166,
                        "iteration": 385,
                        "remaining_time": 469.3136306,
                        "learn": [
                          0.8344154859
                        ]
                      },
                      {
                        "passed_time": 295.8196177,
                        "iteration": 386,
                        "remaining_time": 468.5721593,
                        "learn": [
                          0.8335608418
                        ]
                      },
                      {
                        "passed_time": 296.627499,
                        "iteration": 387,
                        "remaining_time": 467.8763643,
                        "learn": [
                          0.8324735149
                        ]
                      },
                      {
                        "passed_time": 297.3673485,
                        "iteration": 388,
                        "remaining_time": 467.073136,
                        "learn": [
                          0.831725413
                        ]
                      },
                      {
                        "passed_time": 298.0668105,
                        "iteration": 389,
                        "remaining_time": 466.2070626,
                        "learn": [
                          0.8310589575
                        ]
                      },
                      {
                        "passed_time": 298.7851304,
                        "iteration": 390,
                        "remaining_time": 465.3712133,
                        "learn": [
                          0.830443207
                        ]
                      },
                      {
                        "passed_time": 299.5172736,
                        "iteration": 391,
                        "remaining_time": 464.5574039,
                        "learn": [
                          0.8297490912
                        ]
                      },
                      {
                        "passed_time": 300.3239661,
                        "iteration": 392,
                        "remaining_time": 463.8591538,
                        "learn": [
                          0.8285053822
                        ]
                      },
                      {
                        "passed_time": 301.0505227,
                        "iteration": 393,
                        "remaining_time": 463.0370984,
                        "learn": [
                          0.8275881092
                        ]
                      },
                      {
                        "passed_time": 301.7664864,
                        "iteration": 394,
                        "remaining_time": 462.199302,
                        "learn": [
                          0.8268238696
                        ]
                      },
                      {
                        "passed_time": 302.5166607,
                        "iteration": 395,
                        "remaining_time": 461.4143006,
                        "learn": [
                          0.8259413104
                        ]
                      },
                      {
                        "passed_time": 303.2473554,
                        "iteration": 396,
                        "remaining_time": 460.5998875,
                        "learn": [
                          0.8250631066
                        ]
                      },
                      {
                        "passed_time": 303.9913539,
                        "iteration": 397,
                        "remaining_time": 459.8060177,
                        "learn": [
                          0.8242370481
                        ]
                      },
                      {
                        "passed_time": 304.7365809,
                        "iteration": 398,
                        "remaining_time": 459.0142484,
                        "learn": [
                          0.8234750519
                        ]
                      },
                      {
                        "passed_time": 305.4734016,
                        "iteration": 399,
                        "remaining_time": 458.2101024,
                        "learn": [
                          0.822418183
                        ]
                      },
                      {
                        "passed_time": 306.2672544,
                        "iteration": 400,
                        "remaining_time": 457.4914847,
                        "learn": [
                          0.8217413739
                        ]
                      },
                      {
                        "passed_time": 307.0276773,
                        "iteration": 401,
                        "remaining_time": 456.7227637,
                        "learn": [
                          0.8210191941
                        ]
                      },
                      {
                        "passed_time": 307.8334089,
                        "iteration": 402,
                        "remaining_time": 456.0212038,
                        "learn": [
                          0.819861702
                        ]
                      },
                      {
                        "passed_time": 308.5212289,
                        "iteration": 403,
                        "remaining_time": 455.1451793,
                        "learn": [
                          0.8191482128
                        ]
                      },
                      {
                        "passed_time": 309.2526169,
                        "iteration": 404,
                        "remaining_time": 454.3340915,
                        "learn": [
                          0.8184072461
                        ]
                      },
                      {
                        "passed_time": 309.9845984,
                        "iteration": 405,
                        "remaining_time": 453.5242647,
                        "learn": [
                          0.8177404928
                        ]
                      },
                      {
                        "passed_time": 310.7196106,
                        "iteration": 406,
                        "remaining_time": 452.719236,
                        "learn": [
                          0.8169222074
                        ]
                      },
                      {
                        "passed_time": 311.4605921,
                        "iteration": 407,
                        "remaining_time": 451.9232121,
                        "learn": [
                          0.8160931369
                        ]
                      },
                      {
                        "passed_time": 312.1716214,
                        "iteration": 408,
                        "remaining_time": 451.0841767,
                        "learn": [
                          0.8155767018
                        ]
                      },
                      {
                        "passed_time": 313.0293051,
                        "iteration": 409,
                        "remaining_time": 450.4568048,
                        "learn": [
                          0.8144100224
                        ]
                      },
                      {
                        "passed_time": 313.8049713,
                        "iteration": 410,
                        "remaining_time": 449.710774,
                        "learn": [
                          0.8135863856
                        ]
                      },
                      {
                        "passed_time": 314.6108531,
                        "iteration": 411,
                        "remaining_time": 449.0077224,
                        "learn": [
                          0.8122720624
                        ]
                      },
                      {
                        "passed_time": 315.4034829,
                        "iteration": 412,
                        "remaining_time": 448.2853377,
                        "learn": [
                          0.8115225177
                        ]
                      },
                      {
                        "passed_time": 316.1867318,
                        "iteration": 413,
                        "remaining_time": 447.5493354,
                        "learn": [
                          0.81042112
                        ]
                      },
                      {
                        "passed_time": 316.9323034,
                        "iteration": 414,
                        "remaining_time": 446.7599939,
                        "learn": [
                          0.8092433269
                        ]
                      },
                      {
                        "passed_time": 317.7087047,
                        "iteration": 415,
                        "remaining_time": 446.0141431,
                        "learn": [
                          0.8081372333
                        ]
                      },
                      {
                        "passed_time": 318.4765627,
                        "iteration": 416,
                        "remaining_time": 445.2562015,
                        "learn": [
                          0.8073045898
                        ]
                      },
                      {
                        "passed_time": 319.2767018,
                        "iteration": 417,
                        "remaining_time": 444.543159,
                        "learn": [
                          0.8065441522
                        ]
                      },
                      {
                        "passed_time": 320.1044668,
                        "iteration": 418,
                        "remaining_time": 443.8680077,
                        "learn": [
                          0.8055136687
                        ]
                      },
                      {
                        "passed_time": 320.922237,
                        "iteration": 419,
                        "remaining_time": 443.1783273,
                        "learn": [
                          0.8048973223
                        ]
                      },
                      {
                        "passed_time": 321.710614,
                        "iteration": 420,
                        "remaining_time": 442.447614,
                        "learn": [
                          0.8042412784
                        ]
                      },
                      {
                        "passed_time": 322.5203603,
                        "iteration": 421,
                        "remaining_time": 441.7458964,
                        "learn": [
                          0.8030766108
                        ]
                      },
                      {
                        "passed_time": 323.2746422,
                        "iteration": 422,
                        "remaining_time": 440.9680107,
                        "learn": [
                          0.8024313599
                        ]
                      },
                      {
                        "passed_time": 324.0399752,
                        "iteration": 423,
                        "remaining_time": 440.2052493,
                        "learn": [
                          0.8017357243
                        ]
                      },
                      {
                        "passed_time": 324.7813245,
                        "iteration": 424,
                        "remaining_time": 439.4100272,
                        "learn": [
                          0.8008769451
                        ]
                      },
                      {
                        "passed_time": 325.499183,
                        "iteration": 425,
                        "remaining_time": 438.5834062,
                        "learn": [
                          0.8003107265
                        ]
                      },
                      {
                        "passed_time": 326.234167,
                        "iteration": 426,
                        "remaining_time": 437.7802757,
                        "learn": [
                          0.7996483641
                        ]
                      },
                      {
                        "passed_time": 327.0499168,
                        "iteration": 427,
                        "remaining_time": 437.0854028,
                        "learn": [
                          0.7991265807
                        ]
                      },
                      {
                        "passed_time": 327.867781,
                        "iteration": 428,
                        "remaining_time": 436.3927807,
                        "learn": [
                          0.7980020718
                        ]
                      },
                      {
                        "passed_time": 328.6040006,
                        "iteration": 429,
                        "remaining_time": 435.5913496,
                        "learn": [
                          0.7970456437
                        ]
                      },
                      {
                        "passed_time": 329.4188236,
                        "iteration": 430,
                        "remaining_time": 434.8939921,
                        "learn": [
                          0.7961500197
                        ]
                      },
                      {
                        "passed_time": 330.2411735,
                        "iteration": 431,
                        "remaining_time": 434.2059874,
                        "learn": [
                          0.7950560105
                        ]
                      },
                      {
                        "passed_time": 331.0469217,
                        "iteration": 432,
                        "remaining_time": 433.4956226,
                        "learn": [
                          0.7940828582
                        ]
                      },
                      {
                        "passed_time": 331.7699531,
                        "iteration": 433,
                        "remaining_time": 432.6769434,
                        "learn": [
                          0.7931800855
                        ]
                      },
                      {
                        "passed_time": 332.5380836,
                        "iteration": 434,
                        "remaining_time": 431.917281,
                        "learn": [
                          0.7923082749
                        ]
                      },
                      {
                        "passed_time": 333.3816877,
                        "iteration": 435,
                        "remaining_time": 431.2552107,
                        "learn": [
                          0.7913935571
                        ]
                      },
                      {
                        "passed_time": 334.1758766,
                        "iteration": 436,
                        "remaining_time": 430.5286465,
                        "learn": [
                          0.7905707484
                        ]
                      },
                      {
                        "passed_time": 334.9586275,
                        "iteration": 437,
                        "remaining_time": 429.7870974,
                        "learn": [
                          0.7895762576
                        ]
                      },
                      {
                        "passed_time": 335.6849441,
                        "iteration": 438,
                        "remaining_time": 428.9732429,
                        "learn": [
                          0.7885935985
                        ]
                      },
                      {
                        "passed_time": 336.5179294,
                        "iteration": 439,
                        "remaining_time": 428.2955465,
                        "learn": [
                          0.787447739
                        ]
                      },
                      {
                        "passed_time": 337.2778656,
                        "iteration": 440,
                        "remaining_time": 427.5245507,
                        "learn": [
                          0.7869847187
                        ]
                      },
                      {
                        "passed_time": 338.0191828,
                        "iteration": 441,
                        "remaining_time": 426.7300995,
                        "learn": [
                          0.7860271715
                        ]
                      },
                      {
                        "passed_time": 338.7546606,
                        "iteration": 442,
                        "remaining_time": 425.9285462,
                        "learn": [
                          0.7852899346
                        ]
                      },
                      {
                        "passed_time": 339.5161686,
                        "iteration": 443,
                        "remaining_time": 425.1598868,
                        "learn": [
                          0.7844347688
                        ]
                      },
                      {
                        "passed_time": 340.3117628,
                        "iteration": 444,
                        "remaining_time": 424.4337716,
                        "learn": [
                          0.7836868216
                        ]
                      },
                      {
                        "passed_time": 340.9976007,
                        "iteration": 445,
                        "remaining_time": 423.5710107,
                        "learn": [
                          0.7830925002
                        ]
                      },
                      {
                        "passed_time": 341.7567697,
                        "iteration": 446,
                        "remaining_time": 422.7997621,
                        "learn": [
                          0.7822639367
                        ]
                      },
                      {
                        "passed_time": 342.5038971,
                        "iteration": 447,
                        "remaining_time": 422.0137303,
                        "learn": [
                          0.7814582184
                        ]
                      },
                      {
                        "passed_time": 343.2380595,
                        "iteration": 448,
                        "remaining_time": 421.2119617,
                        "learn": [
                          0.780756821
                        ]
                      },
                      {
                        "passed_time": 344.064652,
                        "iteration": 449,
                        "remaining_time": 420.5234635,
                        "learn": [
                          0.7796004726
                        ]
                      },
                      {
                        "passed_time": 344.8678679,
                        "iteration": 450,
                        "remaining_time": 419.8058969,
                        "learn": [
                          0.7788164135
                        ]
                      },
                      {
                        "passed_time": 345.6410866,
                        "iteration": 451,
                        "remaining_time": 419.0515829,
                        "learn": [
                          0.778111145
                        ]
                      },
                      {
                        "passed_time": 346.3654595,
                        "iteration": 452,
                        "remaining_time": 418.2382039,
                        "learn": [
                          0.7773085106
                        ]
                      },
                      {
                        "passed_time": 347.1324725,
                        "iteration": 453,
                        "remaining_time": 417.4764978,
                        "learn": [
                          0.776593505
                        ]
                      },
                      {
                        "passed_time": 347.8851358,
                        "iteration": 454,
                        "remaining_time": 416.6975803,
                        "learn": [
                          0.7758999052
                        ]
                      },
                      {
                        "passed_time": 348.6250192,
                        "iteration": 455,
                        "remaining_time": 415.9035316,
                        "learn": [
                          0.7750303878
                        ]
                      },
                      {
                        "passed_time": 349.3264813,
                        "iteration": 456,
                        "remaining_time": 415.0640686,
                        "learn": [
                          0.7742774589
                        ]
                      },
                      {
                        "passed_time": 350.085673,
                        "iteration": 457,
                        "remaining_time": 414.2935256,
                        "learn": [
                          0.7734644616
                        ]
                      },
                      {
                        "passed_time": 350.8535931,
                        "iteration": 458,
                        "remaining_time": 413.53332,
                        "learn": [
                          0.7726664686
                        ]
                      },
                      {
                        "passed_time": 351.5991165,
                        "iteration": 459,
                        "remaining_time": 412.746789,
                        "learn": [
                          0.7719328552
                        ]
                      },
                      {
                        "passed_time": 352.5085682,
                        "iteration": 460,
                        "remaining_time": 412.1521003,
                        "learn": [
                          0.7710963317
                        ]
                      },
                      {
                        "passed_time": 353.3047209,
                        "iteration": 461,
                        "remaining_time": 411.4241122,
                        "learn": [
                          0.7696950527
                        ]
                      },
                      {
                        "passed_time": 354.0425326,
                        "iteration": 462,
                        "remaining_time": 410.6281641,
                        "learn": [
                          0.7689246506
                        ]
                      },
                      {
                        "passed_time": 354.7878594,
                        "iteration": 463,
                        "remaining_time": 409.841148,
                        "learn": [
                          0.7678110038
                        ]
                      },
                      {
                        "passed_time": 355.5355362,
                        "iteration": 464,
                        "remaining_time": 409.0570148,
                        "learn": [
                          0.7669074756
                        ]
                      },
                      {
                        "passed_time": 356.2739938,
                        "iteration": 465,
                        "remaining_time": 408.2624736,
                        "learn": [
                          0.7660059811
                        ]
                      },
                      {
                        "passed_time": 356.9748194,
                        "iteration": 466,
                        "remaining_time": 407.4252222,
                        "learn": [
                          0.7651712585
                        ]
                      },
                      {
                        "passed_time": 357.7592944,
                        "iteration": 467,
                        "remaining_time": 406.6836423,
                        "learn": [
                          0.7645240076
                        ]
                      },
                      {
                        "passed_time": 358.5982527,
                        "iteration": 468,
                        "remaining_time": 406.0035654,
                        "learn": [
                          0.7633972614
                        ]
                      },
                      {
                        "passed_time": 359.4229155,
                        "iteration": 469,
                        "remaining_time": 405.306692,
                        "learn": [
                          0.7624313517
                        ]
                      },
                      {
                        "passed_time": 360.1598705,
                        "iteration": 470,
                        "remaining_time": 404.5107675,
                        "learn": [
                          0.7617357648
                        ]
                      },
                      {
                        "passed_time": 360.9331042,
                        "iteration": 471,
                        "remaining_time": 403.7556759,
                        "learn": [
                          0.7607797791
                        ]
                      },
                      {
                        "passed_time": 361.7413891,
                        "iteration": 472,
                        "remaining_time": 403.0395603,
                        "learn": [
                          0.7601757343
                        ]
                      },
                      {
                        "passed_time": 362.5227821,
                        "iteration": 473,
                        "remaining_time": 402.2932139,
                        "learn": [
                          0.7596783785
                        ]
                      },
                      {
                        "passed_time": 363.2952363,
                        "iteration": 474,
                        "remaining_time": 401.5368402,
                        "learn": [
                          0.7589686773
                        ]
                      },
                      {
                        "passed_time": 364.1554413,
                        "iteration": 475,
                        "remaining_time": 400.8769984,
                        "learn": [
                          0.7577301498
                        ]
                      },
                      {
                        "passed_time": 364.9638735,
                        "iteration": 476,
                        "remaining_time": 400.1595511,
                        "learn": [
                          0.7569034856
                        ]
                      },
                      {
                        "passed_time": 365.7643698,
                        "iteration": 477,
                        "remaining_time": 399.4330565,
                        "learn": [
                          0.7560327346
                        ]
                      },
                      {
                        "passed_time": 366.6036846,
                        "iteration": 478,
                        "remaining_time": 398.7484753,
                        "learn": [
                          0.755129309
                        ]
                      },
                      {
                        "passed_time": 367.4473906,
                        "iteration": 479,
                        "remaining_time": 398.0680065,
                        "learn": [
                          0.7542037582
                        ]
                      },
                      {
                        "passed_time": 368.2489081,
                        "iteration": 480,
                        "remaining_time": 397.3413375,
                        "learn": [
                          0.7536099385
                        ]
                      },
                      {
                        "passed_time": 369.0528095,
                        "iteration": 481,
                        "remaining_time": 396.6169198,
                        "learn": [
                          0.7530924871
                        ]
                      },
                      {
                        "passed_time": 369.7733342,
                        "iteration": 482,
                        "remaining_time": 395.8029271,
                        "learn": [
                          0.7523805883
                        ]
                      },
                      {
                        "passed_time": 370.5580413,
                        "iteration": 483,
                        "remaining_time": 395.0577465,
                        "learn": [
                          0.7517701212
                        ]
                      },
                      {
                        "passed_time": 371.3595969,
                        "iteration": 484,
                        "remaining_time": 394.3302936,
                        "learn": [
                          0.751144627
                        ]
                      },
                      {
                        "passed_time": 372.1368087,
                        "iteration": 485,
                        "remaining_time": 393.5767894,
                        "learn": [
                          0.7501081461
                        ]
                      },
                      {
                        "passed_time": 372.8198904,
                        "iteration": 486,
                        "remaining_time": 392.7240324,
                        "learn": [
                          0.749399609
                        ]
                      },
                      {
                        "passed_time": 373.5506348,
                        "iteration": 487,
                        "remaining_time": 391.9219775,
                        "learn": [
                          0.7487557072
                        ]
                      },
                      {
                        "passed_time": 374.3464956,
                        "iteration": 488,
                        "remaining_time": 391.1882602,
                        "learn": [
                          0.7479753777
                        ]
                      },
                      {
                        "passed_time": 375.1555663,
                        "iteration": 489,
                        "remaining_time": 390.4680384,
                        "learn": [
                          0.7471931506
                        ]
                      },
                      {
                        "passed_time": 375.8547522,
                        "iteration": 490,
                        "remaining_time": 389.6335415,
                        "learn": [
                          0.7465486539
                        ]
                      },
                      {
                        "passed_time": 376.6378556,
                        "iteration": 491,
                        "remaining_time": 388.8862411,
                        "learn": [
                          0.745789186
                        ]
                      },
                      {
                        "passed_time": 377.4381721,
                        "iteration": 492,
                        "remaining_time": 388.1564975,
                        "learn": [
                          0.7451079696
                        ]
                      },
                      {
                        "passed_time": 378.2553045,
                        "iteration": 493,
                        "remaining_time": 387.4436925,
                        "learn": [
                          0.7442179662
                        ]
                      },
                      {
                        "passed_time": 379.0518616,
                        "iteration": 494,
                        "remaining_time": 386.709475,
                        "learn": [
                          0.7436148981
                        ]
                      },
                      {
                        "passed_time": 379.8935194,
                        "iteration": 495,
                        "remaining_time": 386.0208343,
                        "learn": [
                          0.7426734103
                        ]
                      },
                      {
                        "passed_time": 380.668657,
                        "iteration": 496,
                        "remaining_time": 385.2642544,
                        "learn": [
                          0.7419282951
                        ]
                      },
                      {
                        "passed_time": 381.4936587,
                        "iteration": 497,
                        "remaining_time": 384.5578648,
                        "learn": [
                          0.7407435231
                        ]
                      },
                      {
                        "passed_time": 382.2657645,
                        "iteration": 498,
                        "remaining_time": 383.7978918,
                        "learn": [
                          0.7399599881
                        ]
                      },
                      {
                        "passed_time": 383.0720471,
                        "iteration": 499,
                        "remaining_time": 383.0720471,
                        "learn": [
                          0.7391079472
                        ]
                      },
                      {
                        "passed_time": 383.8919128,
                        "iteration": 500,
                        "remaining_time": 382.3594101,
                        "learn": [
                          0.738293478
                        ]
                      },
                      {
                        "passed_time": 384.6941077,
                        "iteration": 501,
                        "remaining_time": 381.628816,
                        "learn": [
                          0.7374914678
                        ]
                      },
                      {
                        "passed_time": 385.445407,
                        "iteration": 502,
                        "remaining_time": 380.8476487,
                        "learn": [
                          0.7367098786
                        ]
                      },
                      {
                        "passed_time": 386.3060894,
                        "iteration": 503,
                        "remaining_time": 380.1742468,
                        "learn": [
                          0.7358537599
                        ]
                      },
                      {
                        "passed_time": 387.0768656,
                        "iteration": 504,
                        "remaining_time": 379.4119772,
                        "learn": [
                          0.7352005152
                        ]
                      },
                      {
                        "passed_time": 387.8259021,
                        "iteration": 505,
                        "remaining_time": 378.6284498,
                        "learn": [
                          0.7342552418
                        ]
                      },
                      {
                        "passed_time": 388.6035071,
                        "iteration": 506,
                        "remaining_time": 377.8728383,
                        "learn": [
                          0.733465084
                        ]
                      },
                      {
                        "passed_time": 389.4304846,
                        "iteration": 507,
                        "remaining_time": 377.1649575,
                        "learn": [
                          0.7324868989
                        ]
                      },
                      {
                        "passed_time": 390.1860499,
                        "iteration": 508,
                        "remaining_time": 376.387722,
                        "learn": [
                          0.731642078
                        ]
                      },
                      {
                        "passed_time": 390.9017024,
                        "iteration": 509,
                        "remaining_time": 375.5722238,
                        "learn": [
                          0.7308238365
                        ]
                      },
                      {
                        "passed_time": 391.6791693,
                        "iteration": 510,
                        "remaining_time": 374.8162697,
                        "learn": [
                          0.730085417
                        ]
                      },
                      {
                        "passed_time": 392.4982192,
                        "iteration": 511,
                        "remaining_time": 374.0998652,
                        "learn": [
                          0.7293226133
                        ]
                      },
                      {
                        "passed_time": 393.2691437,
                        "iteration": 512,
                        "remaining_time": 373.3373742,
                        "learn": [
                          0.7286082174
                        ]
                      },
                      {
                        "passed_time": 393.9602617,
                        "iteration": 513,
                        "remaining_time": 372.4993914,
                        "learn": [
                          0.7279907506
                        ]
                      },
                      {
                        "passed_time": 394.6772664,
                        "iteration": 514,
                        "remaining_time": 371.6863577,
                        "learn": [
                          0.7276044243
                        ]
                      },
                      {
                        "passed_time": 395.5057988,
                        "iteration": 515,
                        "remaining_time": 370.9783074,
                        "learn": [
                          0.7269918222
                        ]
                      },
                      {
                        "passed_time": 396.3255867,
                        "iteration": 516,
                        "remaining_time": 370.2616216,
                        "learn": [
                          0.7261150001
                        ]
                      },
                      {
                        "passed_time": 397.1078688,
                        "iteration": 517,
                        "remaining_time": 369.5096385,
                        "learn": [
                          0.7254345913
                        ]
                      },
                      {
                        "passed_time": 397.9219659,
                        "iteration": 518,
                        "remaining_time": 368.7870243,
                        "learn": [
                          0.7246294871
                        ]
                      },
                      {
                        "passed_time": 398.7253805,
                        "iteration": 519,
                        "remaining_time": 368.0541974,
                        "learn": [
                          0.7239464318
                        ]
                      },
                      {
                        "passed_time": 399.5089072,
                        "iteration": 520,
                        "remaining_time": 367.3028149,
                        "learn": [
                          0.7228369552
                        ]
                      },
                      {
                        "passed_time": 400.2471628,
                        "iteration": 521,
                        "remaining_time": 366.509854,
                        "learn": [
                          0.7218675986
                        ]
                      },
                      {
                        "passed_time": 401.0622614,
                        "iteration": 522,
                        "remaining_time": 365.7871867,
                        "learn": [
                          0.7210143264
                        ]
                      },
                      {
                        "passed_time": 401.8464314,
                        "iteration": 523,
                        "remaining_time": 365.0360712,
                        "learn": [
                          0.7205557983
                        ]
                      },
                      {
                        "passed_time": 402.5169948,
                        "iteration": 524,
                        "remaining_time": 364.1820429,
                        "learn": [
                          0.7200375044
                        ]
                      },
                      {
                        "passed_time": 403.2434271,
                        "iteration": 525,
                        "remaining_time": 363.3790579,
                        "learn": [
                          0.7192387956
                        ]
                      },
                      {
                        "passed_time": 404.0035079,
                        "iteration": 526,
                        "remaining_time": 362.606564,
                        "learn": [
                          0.7184672596
                        ]
                      },
                      {
                        "passed_time": 404.7320346,
                        "iteration": 527,
                        "remaining_time": 361.8059098,
                        "learn": [
                          0.7177726633
                        ]
                      },
                      {
                        "passed_time": 405.4580696,
                        "iteration": 528,
                        "remaining_time": 361.0033096,
                        "learn": [
                          0.7168708314
                        ]
                      },
                      {
                        "passed_time": 406.3160492,
                        "iteration": 529,
                        "remaining_time": 360.3180059,
                        "learn": [
                          0.7156952329
                        ]
                      },
                      {
                        "passed_time": 407.1234696,
                        "iteration": 530,
                        "remaining_time": 359.5873959,
                        "learn": [
                          0.7150335771
                        ]
                      },
                      {
                        "passed_time": 407.9048661,
                        "iteration": 531,
                        "remaining_time": 358.833604,
                        "learn": [
                          0.7143997558
                        ]
                      },
                      {
                        "passed_time": 408.6576739,
                        "iteration": 532,
                        "remaining_time": 358.0546599,
                        "learn": [
                          0.7135228325
                        ]
                      },
                      {
                        "passed_time": 409.48343,
                        "iteration": 533,
                        "remaining_time": 357.3394726,
                        "learn": [
                          0.7127195108
                        ]
                      },
                      {
                        "passed_time": 410.2756126,
                        "iteration": 534,
                        "remaining_time": 356.5946913,
                        "learn": [
                          0.7118877664
                        ]
                      },
                      {
                        "passed_time": 411.0209676,
                        "iteration": 535,
                        "remaining_time": 355.8091958,
                        "learn": [
                          0.7111058118
                        ]
                      },
                      {
                        "passed_time": 411.7569686,
                        "iteration": 536,
                        "remaining_time": 355.0157848,
                        "learn": [
                          0.710413873
                        ]
                      },
                      {
                        "passed_time": 412.7053124,
                        "iteration": 537,
                        "remaining_time": 354.4049337,
                        "learn": [
                          0.7093890254
                        ]
                      },
                      {
                        "passed_time": 413.5188216,
                        "iteration": 538,
                        "remaining_time": 353.6775079,
                        "learn": [
                          0.7087190655
                        ]
                      },
                      {
                        "passed_time": 414.3021661,
                        "iteration": 539,
                        "remaining_time": 352.9240674,
                        "learn": [
                          0.707964981
                        ]
                      },
                      {
                        "passed_time": 415.0974205,
                        "iteration": 540,
                        "remaining_time": 352.1806211,
                        "learn": [
                          0.707409478
                        ]
                      },
                      {
                        "passed_time": 415.8692738,
                        "iteration": 541,
                        "remaining_time": 351.4172092,
                        "learn": [
                          0.70630945
                        ]
                      },
                      {
                        "passed_time": 416.6903264,
                        "iteration": 542,
                        "remaining_time": 350.6951734,
                        "learn": [
                          0.7055066282
                        ]
                      },
                      {
                        "passed_time": 417.4396264,
                        "iteration": 543,
                        "remaining_time": 349.912628,
                        "learn": [
                          0.704717781
                        ]
                      },
                      {
                        "passed_time": 418.1775805,
                        "iteration": 544,
                        "remaining_time": 349.1207324,
                        "learn": [
                          0.7041343564
                        ]
                      },
                      {
                        "passed_time": 418.9002563,
                        "iteration": 545,
                        "remaining_time": 348.3163304,
                        "learn": [
                          0.7035612317
                        ]
                      },
                      {
                        "passed_time": 419.687432,
                        "iteration": 546,
                        "remaining_time": 347.5656429,
                        "learn": [
                          0.7028536843
                        ]
                      },
                      {
                        "passed_time": 420.4771539,
                        "iteration": 547,
                        "remaining_time": 346.8169226,
                        "learn": [
                          0.7020212957
                        ]
                      },
                      {
                        "passed_time": 421.2625593,
                        "iteration": 548,
                        "remaining_time": 346.0645068,
                        "learn": [
                          0.7010816009
                        ]
                      },
                      {
                        "passed_time": 422.0033962,
                        "iteration": 549,
                        "remaining_time": 345.275506,
                        "learn": [
                          0.7003835348
                        ]
                      },
                      {
                        "passed_time": 422.7977802,
                        "iteration": 550,
                        "remaining_time": 344.5303146,
                        "learn": [
                          0.6995149011
                        ]
                      },
                      {
                        "passed_time": 423.5723657,
                        "iteration": 551,
                        "remaining_time": 343.7688765,
                        "learn": [
                          0.698779284
                        ]
                      },
                      {
                        "passed_time": 424.3691323,
                        "iteration": 552,
                        "remaining_time": 343.0253203,
                        "learn": [
                          0.6981950662
                        ]
                      },
                      {
                        "passed_time": 425.1864432,
                        "iteration": 553,
                        "remaining_time": 342.2981113,
                        "learn": [
                          0.6972524349
                        ]
                      },
                      {
                        "passed_time": 425.9049006,
                        "iteration": 554,
                        "remaining_time": 341.4913167,
                        "learn": [
                          0.6966223824
                        ]
                      },
                      {
                        "passed_time": 426.6832275,
                        "iteration": 555,
                        "remaining_time": 340.7326493,
                        "learn": [
                          0.6960742034
                        ]
                      },
                      {
                        "passed_time": 427.5148479,
                        "iteration": 556,
                        "remaining_time": 340.0162973,
                        "learn": [
                          0.69528727
                        ]
                      },
                      {
                        "passed_time": 428.3134479,
                        "iteration": 557,
                        "remaining_time": 339.2733763,
                        "learn": [
                          0.6946913115
                        ]
                      },
                      {
                        "passed_time": 429.0770611,
                        "iteration": 558,
                        "remaining_time": 338.5026547,
                        "learn": [
                          0.6939249272
                        ]
                      },
                      {
                        "passed_time": 429.8867477,
                        "iteration": 559,
                        "remaining_time": 337.7681589,
                        "learn": [
                          0.6931923189
                        ]
                      },
                      {
                        "passed_time": 430.7064151,
                        "iteration": 560,
                        "remaining_time": 337.0412054,
                        "learn": [
                          0.6924083663
                        ]
                      },
                      {
                        "passed_time": 431.4732056,
                        "iteration": 561,
                        "remaining_time": 336.2727118,
                        "learn": [
                          0.6918379344
                        ]
                      },
                      {
                        "passed_time": 432.3364773,
                        "iteration": 562,
                        "remaining_time": 335.5791129,
                        "learn": [
                          0.6911424867
                        ]
                      },
                      {
                        "passed_time": 433.1731345,
                        "iteration": 563,
                        "remaining_time": 334.864338,
                        "learn": [
                          0.6904752306
                        ]
                      },
                      {
                        "passed_time": 433.8989042,
                        "iteration": 564,
                        "remaining_time": 334.0637581,
                        "learn": [
                          0.6899412741
                        ]
                      },
                      {
                        "passed_time": 434.6277632,
                        "iteration": 565,
                        "remaining_time": 333.2658113,
                        "learn": [
                          0.6890103104
                        ]
                      },
                      {
                        "passed_time": 435.3327894,
                        "iteration": 566,
                        "remaining_time": 332.449908,
                        "learn": [
                          0.6885020828
                        ]
                      },
                      {
                        "passed_time": 436.1398967,
                        "iteration": 567,
                        "remaining_time": 331.7120341,
                        "learn": [
                          0.6876921354
                        ]
                      },
                      {
                        "passed_time": 436.9648585,
                        "iteration": 568,
                        "remaining_time": 330.9874412,
                        "learn": [
                          0.6870865557
                        ]
                      },
                      {
                        "passed_time": 437.780892,
                        "iteration": 569,
                        "remaining_time": 330.2557606,
                        "learn": [
                          0.6860981128
                        ]
                      },
                      {
                        "passed_time": 438.5979178,
                        "iteration": 570,
                        "remaining_time": 329.5245302,
                        "learn": [
                          0.6854385817
                        ]
                      },
                      {
                        "passed_time": 439.3942312,
                        "iteration": 571,
                        "remaining_time": 328.7775016,
                        "learn": [
                          0.6847105414
                        ]
                      },
                      {
                        "passed_time": 440.1812837,
                        "iteration": 572,
                        "remaining_time": 328.0233999,
                        "learn": [
                          0.684145112
                        ]
                      },
                      {
                        "passed_time": 441.0070815,
                        "iteration": 573,
                        "remaining_time": 327.2979386,
                        "learn": [
                          0.6832490143
                        ]
                      },
                      {
                        "passed_time": 441.832673,
                        "iteration": 574,
                        "remaining_time": 326.5719757,
                        "learn": [
                          0.6825382199
                        ]
                      },
                      {
                        "passed_time": 442.6793838,
                        "iteration": 575,
                        "remaining_time": 325.8612131,
                        "learn": [
                          0.6817568685
                        ]
                      },
                      {
                        "passed_time": 443.4584089,
                        "iteration": 576,
                        "remaining_time": 325.1003587,
                        "learn": [
                          0.681119885
                        ]
                      },
                      {
                        "passed_time": 444.2470233,
                        "iteration": 577,
                        "remaining_time": 324.3464426,
                        "learn": [
                          0.6803650302
                        ]
                      },
                      {
                        "passed_time": 445.0212922,
                        "iteration": 578,
                        "remaining_time": 323.5819759,
                        "learn": [
                          0.6795103847
                        ]
                      },
                      {
                        "passed_time": 445.7698138,
                        "iteration": 579,
                        "remaining_time": 322.7988306,
                        "learn": [
                          0.6788983253
                        ]
                      },
                      {
                        "passed_time": 446.4600596,
                        "iteration": 580,
                        "remaining_time": 321.9737779,
                        "learn": [
                          0.6784347623
                        ]
                      },
                      {
                        "passed_time": 447.2981545,
                        "iteration": 581,
                        "remaining_time": 321.2553755,
                        "learn": [
                          0.6776785814
                        ]
                      },
                      {
                        "passed_time": 448.129566,
                        "iteration": 582,
                        "remaining_time": 320.5317822,
                        "learn": [
                          0.677150353
                        ]
                      },
                      {
                        "passed_time": 448.9373064,
                        "iteration": 583,
                        "remaining_time": 319.790958,
                        "learn": [
                          0.676389352
                        ]
                      },
                      {
                        "passed_time": 449.6956951,
                        "iteration": 584,
                        "remaining_time": 319.0148948,
                        "learn": [
                          0.6753293344
                        ]
                      },
                      {
                        "passed_time": 450.4431332,
                        "iteration": 585,
                        "remaining_time": 318.2311556,
                        "learn": [
                          0.6747095737
                        ]
                      },
                      {
                        "passed_time": 451.1851587,
                        "iteration": 586,
                        "remaining_time": 317.4437318,
                        "learn": [
                          0.6740097338
                        ]
                      },
                      {
                        "passed_time": 451.9248423,
                        "iteration": 587,
                        "remaining_time": 316.6548215,
                        "learn": [
                          0.6734504499
                        ]
                      },
                      {
                        "passed_time": 452.6345727,
                        "iteration": 588,
                        "remaining_time": 315.8451772,
                        "learn": [
                          0.6726318331
                        ]
                      },
                      {
                        "passed_time": 453.3837185,
                        "iteration": 589,
                        "remaining_time": 315.063262,
                        "learn": [
                          0.6719178792
                        ]
                      },
                      {
                        "passed_time": 454.1076962,
                        "iteration": 590,
                        "remaining_time": 314.2640401,
                        "learn": [
                          0.6712147825
                        ]
                      },
                      {
                        "passed_time": 454.8100601,
                        "iteration": 591,
                        "remaining_time": 313.4501765,
                        "learn": [
                          0.6706349609
                        ]
                      },
                      {
                        "passed_time": 455.5096582,
                        "iteration": 592,
                        "remaining_time": 312.6347907,
                        "learn": [
                          0.6702465015
                        ]
                      },
                      {
                        "passed_time": 456.3120609,
                        "iteration": 593,
                        "remaining_time": 311.8900618,
                        "learn": [
                          0.6694934584
                        ]
                      },
                      {
                        "passed_time": 457.0715699,
                        "iteration": 594,
                        "remaining_time": 311.1159425,
                        "learn": [
                          0.6688661062
                        ]
                      },
                      {
                        "passed_time": 457.9885149,
                        "iteration": 595,
                        "remaining_time": 310.4485907,
                        "learn": [
                          0.6680267866
                        ]
                      },
                      {
                        "passed_time": 458.823243,
                        "iteration": 596,
                        "remaining_time": 309.7249027,
                        "learn": [
                          0.6673288773
                        ]
                      },
                      {
                        "passed_time": 459.6381026,
                        "iteration": 597,
                        "remaining_time": 308.987487,
                        "learn": [
                          0.6665414011
                        ]
                      },
                      {
                        "passed_time": 460.4524037,
                        "iteration": 598,
                        "remaining_time": 308.2494389,
                        "learn": [
                          0.6657989366
                        ]
                      },
                      {
                        "passed_time": 461.2442884,
                        "iteration": 599,
                        "remaining_time": 307.4961922,
                        "learn": [
                          0.6651362548
                        ]
                      },
                      {
                        "passed_time": 462.0719022,
                        "iteration": 600,
                        "remaining_time": 306.7665374,
                        "learn": [
                          0.6646195558
                        ]
                      },
                      {
                        "passed_time": 462.8488809,
                        "iteration": 601,
                        "remaining_time": 306.0030807,
                        "learn": [
                          0.6639207209
                        ]
                      },
                      {
                        "passed_time": 463.6457215,
                        "iteration": 602,
                        "remaining_time": 305.2526558,
                        "learn": [
                          0.6631622162
                        ]
                      },
                      {
                        "passed_time": 464.4728757,
                        "iteration": 603,
                        "remaining_time": 304.5219516,
                        "learn": [
                          0.6623019046
                        ]
                      },
                      {
                        "passed_time": 465.2311965,
                        "iteration": 604,
                        "remaining_time": 303.7459878,
                        "learn": [
                          0.6617447263
                        ]
                      },
                      {
                        "passed_time": 465.995327,
                        "iteration": 605,
                        "remaining_time": 302.9738595,
                        "learn": [
                          0.6609739874
                        ]
                      },
                      {
                        "passed_time": 466.739388,
                        "iteration": 606,
                        "remaining_time": 302.1887636,
                        "learn": [
                          0.6600390419
                        ]
                      },
                      {
                        "passed_time": 467.5579972,
                        "iteration": 607,
                        "remaining_time": 301.4518666,
                        "learn": [
                          0.6591979235
                        ]
                      },
                      {
                        "passed_time": 468.4120355,
                        "iteration": 608,
                        "remaining_time": 300.7374481,
                        "learn": [
                          0.6582351531
                        ]
                      },
                      {
                        "passed_time": 469.1602111,
                        "iteration": 609,
                        "remaining_time": 299.9548891,
                        "learn": [
                          0.6576320919
                        ]
                      },
                      {
                        "passed_time": 469.9246963,
                        "iteration": 610,
                        "remaining_time": 299.1828263,
                        "learn": [
                          0.656985247
                        ]
                      },
                      {
                        "passed_time": 470.7092876,
                        "iteration": 611,
                        "remaining_time": 298.4235353,
                        "learn": [
                          0.6562304441
                        ]
                      },
                      {
                        "passed_time": 471.5477719,
                        "iteration": 612,
                        "remaining_time": 297.6981855,
                        "learn": [
                          0.6554730528
                        ]
                      },
                      {
                        "passed_time": 472.3712732,
                        "iteration": 613,
                        "remaining_time": 296.963048,
                        "learn": [
                          0.6546798172
                        ]
                      },
                      {
                        "passed_time": 473.1540403,
                        "iteration": 614,
                        "remaining_time": 296.2021228,
                        "learn": [
                          0.6539031012
                        ]
                      },
                      {
                        "passed_time": 473.9252785,
                        "iteration": 615,
                        "remaining_time": 295.4339398,
                        "learn": [
                          0.6531211538
                        ]
                      },
                      {
                        "passed_time": 474.7050642,
                        "iteration": 616,
                        "remaining_time": 294.6710528,
                        "learn": [
                          0.6524568841
                        ]
                      },
                      {
                        "passed_time": 475.4408314,
                        "iteration": 617,
                        "remaining_time": 293.8809022,
                        "learn": [
                          0.6519306881
                        ]
                      },
                      {
                        "passed_time": 476.1597547,
                        "iteration": 618,
                        "remaining_time": 293.0805598,
                        "learn": [
                          0.6514164259
                        ]
                      },
                      {
                        "passed_time": 476.9093582,
                        "iteration": 619,
                        "remaining_time": 292.299284,
                        "learn": [
                          0.650783782
                        ]
                      },
                      {
                        "passed_time": 477.6797447,
                        "iteration": 620,
                        "remaining_time": 291.5307943,
                        "learn": [
                          0.6499508362
                        ]
                      },
                      {
                        "passed_time": 478.3702966,
                        "iteration": 621,
                        "remaining_time": 290.7137816,
                        "learn": [
                          0.6493789242
                        ]
                      },
                      {
                        "passed_time": 479.1947409,
                        "iteration": 622,
                        "remaining_time": 289.9781979,
                        "learn": [
                          0.6486749733
                        ]
                      },
                      {
                        "passed_time": 480.0627036,
                        "iteration": 623,
                        "remaining_time": 289.2685522,
                        "learn": [
                          0.6477864105
                        ]
                      },
                      {
                        "passed_time": 480.8902875,
                        "iteration": 624,
                        "remaining_time": 288.5341725,
                        "learn": [
                          0.6471554093
                        ]
                      },
                      {
                        "passed_time": 481.7063658,
                        "iteration": 625,
                        "remaining_time": 287.7926211,
                        "learn": [
                          0.6464250647
                        ]
                      },
                      {
                        "passed_time": 482.5414597,
                        "iteration": 626,
                        "remaining_time": 287.0621443,
                        "learn": [
                          0.6456387791
                        ]
                      },
                      {
                        "passed_time": 483.3119638,
                        "iteration": 627,
                        "remaining_time": 286.2930741,
                        "learn": [
                          0.6448823327
                        ]
                      },
                      {
                        "passed_time": 484.0199913,
                        "iteration": 628,
                        "remaining_time": 285.4871491,
                        "learn": [
                          0.6444025932
                        ]
                      },
                      {
                        "passed_time": 484.7897495,
                        "iteration": 629,
                        "remaining_time": 284.7177894,
                        "learn": [
                          0.643717005
                        ]
                      },
                      {
                        "passed_time": 485.6476468,
                        "iteration": 630,
                        "remaining_time": 283.9999709,
                        "learn": [
                          0.6432023675
                        ]
                      },
                      {
                        "passed_time": 486.3631221,
                        "iteration": 631,
                        "remaining_time": 283.19878,
                        "learn": [
                          0.6426289071
                        ]
                      },
                      {
                        "passed_time": 487.1329008,
                        "iteration": 632,
                        "remaining_time": 282.4293438,
                        "learn": [
                          0.6417626342
                        ]
                      },
                      {
                        "passed_time": 487.88595,
                        "iteration": 633,
                        "remaining_time": 281.6502488,
                        "learn": [
                          0.6412821399
                        ]
                      },
                      {
                        "passed_time": 488.6738625,
                        "iteration": 634,
                        "remaining_time": 280.8912753,
                        "learn": [
                          0.6405776354
                        ]
                      },
                      {
                        "passed_time": 489.3791462,
                        "iteration": 635,
                        "remaining_time": 280.0849202,
                        "learn": [
                          0.6399162777
                        ]
                      },
                      {
                        "passed_time": 490.157533,
                        "iteration": 636,
                        "remaining_time": 279.3205408,
                        "learn": [
                          0.6391391162
                        ]
                      },
                      {
                        "passed_time": 490.8689413,
                        "iteration": 637,
                        "remaining_time": 278.5181141,
                        "learn": [
                          0.6385226855
                        ]
                      },
                      {
                        "passed_time": 491.539863,
                        "iteration": 638,
                        "remaining_time": 277.6930994,
                        "learn": [
                          0.6379127873
                        ]
                      },
                      {
                        "passed_time": 492.3451121,
                        "iteration": 639,
                        "remaining_time": 276.9441255,
                        "learn": [
                          0.6371590239
                        ]
                      },
                      {
                        "passed_time": 493.1681903,
                        "iteration": 640,
                        "remaining_time": 276.2049615,
                        "learn": [
                          0.636540749
                        ]
                      },
                      {
                        "passed_time": 493.942172,
                        "iteration": 641,
                        "remaining_time": 275.4381582,
                        "learn": [
                          0.6360491272
                        ]
                      },
                      {
                        "passed_time": 494.6772325,
                        "iteration": 642,
                        "remaining_time": 274.6497232,
                        "learn": [
                          0.6352792907
                        ]
                      },
                      {
                        "passed_time": 495.4501857,
                        "iteration": 643,
                        "remaining_time": 273.8824008,
                        "learn": [
                          0.6345930416
                        ]
                      },
                      {
                        "passed_time": 496.2598289,
                        "iteration": 644,
                        "remaining_time": 273.1352547,
                        "learn": [
                          0.6339181536
                        ]
                      },
                      {
                        "passed_time": 497.0679064,
                        "iteration": 645,
                        "remaining_time": 272.3870571,
                        "learn": [
                          0.6334305588
                        ]
                      },
                      {
                        "passed_time": 497.8515251,
                        "iteration": 646,
                        "remaining_time": 271.6253297,
                        "learn": [
                          0.6328492544
                        ]
                      },
                      {
                        "passed_time": 498.604544,
                        "iteration": 647,
                        "remaining_time": 270.8469128,
                        "learn": [
                          0.6323442399
                        ]
                      },
                      {
                        "passed_time": 499.3865778,
                        "iteration": 648,
                        "remaining_time": 270.0842663,
                        "learn": [
                          0.6314971401
                        ]
                      },
                      {
                        "passed_time": 500.1318883,
                        "iteration": 649,
                        "remaining_time": 269.301786,
                        "learn": [
                          0.6305980969
                        ]
                      },
                      {
                        "passed_time": 500.9039423,
                        "iteration": 650,
                        "remaining_time": 268.5337571,
                        "learn": [
                          0.6298595872
                        ]
                      },
                      {
                        "passed_time": 501.6822791,
                        "iteration": 651,
                        "remaining_time": 267.7690692,
                        "learn": [
                          0.629067867
                        ]
                      },
                      {
                        "passed_time": 502.4980241,
                        "iteration": 652,
                        "remaining_time": 267.024218,
                        "learn": [
                          0.6283405443
                        ]
                      },
                      {
                        "passed_time": 503.3041466,
                        "iteration": 653,
                        "remaining_time": 266.2740592,
                        "learn": [
                          0.6275441399
                        ]
                      },
                      {
                        "passed_time": 504.1113652,
                        "iteration": 654,
                        "remaining_time": 265.5243069,
                        "learn": [
                          0.6269558886
                        ]
                      },
                      {
                        "passed_time": 504.8968453,
                        "iteration": 655,
                        "remaining_time": 264.7629799,
                        "learn": [
                          0.6263859082
                        ]
                      },
                      {
                        "passed_time": 505.6952875,
                        "iteration": 656,
                        "remaining_time": 264.0083464,
                        "learn": [
                          0.6254679061
                        ]
                      },
                      {
                        "passed_time": 506.3955939,
                        "iteration": 657,
                        "remaining_time": 263.2025731,
                        "learn": [
                          0.6248508122
                        ]
                      },
                      {
                        "passed_time": 507.1683074,
                        "iteration": 658,
                        "remaining_time": 262.434587,
                        "learn": [
                          0.6242001261
                        ]
                      },
                      {
                        "passed_time": 507.9375008,
                        "iteration": 659,
                        "remaining_time": 261.6647731,
                        "learn": [
                          0.6234276268
                        ]
                      },
                      {
                        "passed_time": 508.7487024,
                        "iteration": 660,
                        "remaining_time": 260.9165054,
                        "learn": [
                          0.6227476387
                        ]
                      },
                      {
                        "passed_time": 509.5306447,
                        "iteration": 661,
                        "remaining_time": 260.1531086,
                        "learn": [
                          0.6222921711
                        ]
                      },
                      {
                        "passed_time": 510.2954047,
                        "iteration": 662,
                        "remaining_time": 259.3809222,
                        "learn": [
                          0.6217405144
                        ]
                      },
                      {
                        "passed_time": 511.1395617,
                        "iteration": 663,
                        "remaining_time": 258.6489349,
                        "learn": [
                          0.6212627756
                        ]
                      },
                      {
                        "passed_time": 511.9176811,
                        "iteration": 664,
                        "remaining_time": 257.8833431,
                        "learn": [
                          0.6206301768
                        ]
                      },
                      {
                        "passed_time": 512.7534939,
                        "iteration": 665,
                        "remaining_time": 257.1466471,
                        "learn": [
                          0.6201044835
                        ]
                      },
                      {
                        "passed_time": 513.6230752,
                        "iteration": 666,
                        "remaining_time": 256.4265128,
                        "learn": [
                          0.6192392944
                        ]
                      },
                      {
                        "passed_time": 514.4800469,
                        "iteration": 667,
                        "remaining_time": 255.699664,
                        "learn": [
                          0.6187102732
                        ]
                      },
                      {
                        "passed_time": 515.3319357,
                        "iteration": 668,
                        "remaining_time": 254.9699114,
                        "learn": [
                          0.6180753335
                        ]
                      },
                      {
                        "passed_time": 516.1039329,
                        "iteration": 669,
                        "remaining_time": 254.2004445,
                        "learn": [
                          0.6173417695
                        ]
                      },
                      {
                        "passed_time": 516.8688084,
                        "iteration": 670,
                        "remaining_time": 253.4274783,
                        "learn": [
                          0.6168038879
                        ]
                      },
                      {
                        "passed_time": 517.6136604,
                        "iteration": 671,
                        "remaining_time": 252.6447628,
                        "learn": [
                          0.6162426409
                        ]
                      },
                      {
                        "passed_time": 518.3633876,
                        "iteration": 672,
                        "remaining_time": 251.8645286,
                        "learn": [
                          0.6155100735
                        ]
                      },
                      {
                        "passed_time": 519.18817,
                        "iteration": 673,
                        "remaining_time": 251.1206875,
                        "learn": [
                          0.6147804197
                        ]
                      },
                      {
                        "passed_time": 520.0434236,
                        "iteration": 674,
                        "remaining_time": 250.391278,
                        "learn": [
                          0.6141240873
                        ]
                      },
                      {
                        "passed_time": 520.8573094,
                        "iteration": 675,
                        "remaining_time": 249.641669,
                        "learn": [
                          0.6132924747
                        ]
                      },
                      {
                        "passed_time": 521.7357756,
                        "iteration": 676,
                        "remaining_time": 248.9226817,
                        "learn": [
                          0.612381222
                        ]
                      },
                      {
                        "passed_time": 522.5438487,
                        "iteration": 677,
                        "remaining_time": 248.1697924,
                        "learn": [
                          0.6118663122
                        ]
                      },
                      {
                        "passed_time": 523.3811963,
                        "iteration": 678,
                        "remaining_time": 247.4305803,
                        "learn": [
                          0.6110891297
                        ]
                      },
                      {
                        "passed_time": 524.1851481,
                        "iteration": 679,
                        "remaining_time": 246.6753638,
                        "learn": [
                          0.6105021904
                        ]
                      },
                      {
                        "passed_time": 524.9703659,
                        "iteration": 680,
                        "remaining_time": 245.9112287,
                        "learn": [
                          0.6099045506
                        ]
                      },
                      {
                        "passed_time": 525.7779148,
                        "iteration": 681,
                        "remaining_time": 245.1574441,
                        "learn": [
                          0.6092226788
                        ]
                      },
                      {
                        "passed_time": 526.6076781,
                        "iteration": 682,
                        "remaining_time": 244.4138125,
                        "learn": [
                          0.6085865371
                        ]
                      },
                      {
                        "passed_time": 527.4917031,
                        "iteration": 683,
                        "remaining_time": 243.6949973,
                        "learn": [
                          0.6077503558
                        ]
                      },
                      {
                        "passed_time": 528.2526121,
                        "iteration": 684,
                        "remaining_time": 242.9190844,
                        "learn": [
                          0.6068091779
                        ]
                      },
                      {
                        "passed_time": 529.0834685,
                        "iteration": 685,
                        "remaining_time": 242.175232,
                        "learn": [
                          0.6059545977
                        ]
                      },
                      {
                        "passed_time": 529.937175,
                        "iteration": 686,
                        "remaining_time": 241.4415368,
                        "learn": [
                          0.6053973607
                        ]
                      },
                      {
                        "passed_time": 530.7138713,
                        "iteration": 687,
                        "remaining_time": 240.6725695,
                        "learn": [
                          0.6049664779
                        ]
                      },
                      {
                        "passed_time": 531.4656619,
                        "iteration": 688,
                        "remaining_time": 239.892338,
                        "learn": [
                          0.6039923628
                        ]
                      },
                      {
                        "passed_time": 532.3044171,
                        "iteration": 689,
                        "remaining_time": 239.1512599,
                        "learn": [
                          0.6031086707
                        ]
                      },
                      {
                        "passed_time": 533.1205423,
                        "iteration": 690,
                        "remaining_time": 238.3997794,
                        "learn": [
                          0.6023501366
                        ]
                      },
                      {
                        "passed_time": 533.8878521,
                        "iteration": 691,
                        "remaining_time": 237.626385,
                        "learn": [
                          0.6017670713
                        ]
                      },
                      {
                        "passed_time": 534.665813,
                        "iteration": 692,
                        "remaining_time": 236.8577267,
                        "learn": [
                          0.6012546161
                        ]
                      },
                      {
                        "passed_time": 535.3942243,
                        "iteration": 693,
                        "remaining_time": 236.067194,
                        "learn": [
                          0.6007145
                        ]
                      },
                      {
                        "passed_time": 536.1393331,
                        "iteration": 694,
                        "remaining_time": 235.2841678,
                        "learn": [
                          0.6002010446
                        ]
                      },
                      {
                        "passed_time": 536.8774929,
                        "iteration": 695,
                        "remaining_time": 234.4982153,
                        "learn": [
                          0.599653151
                        ]
                      },
                      {
                        "passed_time": 537.7095943,
                        "iteration": 696,
                        "remaining_time": 233.7532383,
                        "learn": [
                          0.5991500061
                        ]
                      },
                      {
                        "passed_time": 538.4784023,
                        "iteration": 697,
                        "remaining_time": 232.9806268,
                        "learn": [
                          0.5986222863
                        ]
                      },
                      {
                        "passed_time": 539.2834691,
                        "iteration": 698,
                        "remaining_time": 232.2236397,
                        "learn": [
                          0.5979435845
                        ]
                      },
                      {
                        "passed_time": 540.0749884,
                        "iteration": 699,
                        "remaining_time": 231.4607093,
                        "learn": [
                          0.5974913896
                        ]
                      },
                      {
                        "passed_time": 540.876892,
                        "iteration": 700,
                        "remaining_time": 230.7021265,
                        "learn": [
                          0.5969520481
                        ]
                      },
                      {
                        "passed_time": 541.6623991,
                        "iteration": 701,
                        "remaining_time": 229.93646,
                        "learn": [
                          0.5964803612
                        ]
                      },
                      {
                        "passed_time": 542.557603,
                        "iteration": 702,
                        "remaining_time": 229.2170812,
                        "learn": [
                          0.5957963098
                        ]
                      },
                      {
                        "passed_time": 543.3691253,
                        "iteration": 703,
                        "remaining_time": 228.4620186,
                        "learn": [
                          0.5953257429
                        ]
                      },
                      {
                        "passed_time": 544.2262229,
                        "iteration": 704,
                        "remaining_time": 227.7258663,
                        "learn": [
                          0.5946471724
                        ]
                      },
                      {
                        "passed_time": 545.0577174,
                        "iteration": 705,
                        "remaining_time": 226.9787095,
                        "learn": [
                          0.5939832865
                        ]
                      },
                      {
                        "passed_time": 545.8968485,
                        "iteration": 706,
                        "remaining_time": 226.2344789,
                        "learn": [
                          0.593311763
                        ]
                      },
                      {
                        "passed_time": 546.6748121,
                        "iteration": 707,
                        "remaining_time": 225.464753,
                        "learn": [
                          0.5925999644
                        ]
                      },
                      {
                        "passed_time": 547.5047338,
                        "iteration": 708,
                        "remaining_time": 224.7163294,
                        "learn": [
                          0.591946348
                        ]
                      },
                      {
                        "passed_time": 548.3977665,
                        "iteration": 709,
                        "remaining_time": 223.9934539,
                        "learn": [
                          0.5911431864
                        ]
                      },
                      {
                        "passed_time": 549.2044508,
                        "iteration": 710,
                        "remaining_time": 223.2350018,
                        "learn": [
                          0.5905925623
                        ]
                      },
                      {
                        "passed_time": 549.9555889,
                        "iteration": 711,
                        "remaining_time": 222.4539461,
                        "learn": [
                          0.5897094208
                        ]
                      },
                      {
                        "passed_time": 550.7958186,
                        "iteration": 712,
                        "remaining_time": 221.7088358,
                        "learn": [
                          0.5890574399
                        ]
                      },
                      {
                        "passed_time": 551.606727,
                        "iteration": 713,
                        "remaining_time": 220.9517142,
                        "learn": [
                          0.5884442829
                        ]
                      },
                      {
                        "passed_time": 552.3856645,
                        "iteration": 714,
                        "remaining_time": 220.1816984,
                        "learn": [
                          0.5877054326
                        ]
                      },
                      {
                        "passed_time": 553.1079249,
                        "iteration": 715,
                        "remaining_time": 219.3891769,
                        "learn": [
                          0.587066788
                        ]
                      },
                      {
                        "passed_time": 553.8562036,
                        "iteration": 716,
                        "remaining_time": 218.6071208,
                        "learn": [
                          0.5862836156
                        ]
                      },
                      {
                        "passed_time": 554.6286495,
                        "iteration": 717,
                        "remaining_time": 217.8346506,
                        "learn": [
                          0.5856368667
                        ]
                      },
                      {
                        "passed_time": 555.3604282,
                        "iteration": 718,
                        "remaining_time": 217.046287,
                        "learn": [
                          0.5850998764
                        ]
                      },
                      {
                        "passed_time": 556.1726082,
                        "iteration": 719,
                        "remaining_time": 216.2893476,
                        "learn": [
                          0.5845681153
                        ]
                      },
                      {
                        "passed_time": 556.9926429,
                        "iteration": 720,
                        "remaining_time": 215.5352945,
                        "learn": [
                          0.5838444689
                        ]
                      },
                      {
                        "passed_time": 557.8438962,
                        "iteration": 721,
                        "remaining_time": 214.7930792,
                        "learn": [
                          0.5833289057
                        ]
                      },
                      {
                        "passed_time": 558.6217543,
                        "iteration": 722,
                        "remaining_time": 214.0224425,
                        "learn": [
                          0.58287767
                        ]
                      },
                      {
                        "passed_time": 559.4377072,
                        "iteration": 723,
                        "remaining_time": 213.2663083,
                        "learn": [
                          0.5822265091
                        ]
                      },
                      {
                        "passed_time": 560.2607816,
                        "iteration": 724,
                        "remaining_time": 212.5127102,
                        "learn": [
                          0.5817183174
                        ]
                      },
                      {
                        "passed_time": 561.0511621,
                        "iteration": 725,
                        "remaining_time": 211.7465819,
                        "learn": [
                          0.5809887914
                        ]
                      },
                      {
                        "passed_time": 561.7909316,
                        "iteration": 726,
                        "remaining_time": 210.9613815,
                        "learn": [
                          0.5803013328
                        ]
                      },
                      {
                        "passed_time": 562.5718968,
                        "iteration": 727,
                        "remaining_time": 210.1916977,
                        "learn": [
                          0.5796416533
                        ]
                      },
                      {
                        "passed_time": 563.3588147,
                        "iteration": 728,
                        "remaining_time": 209.4241958,
                        "learn": [
                          0.5791307218
                        ]
                      },
                      {
                        "passed_time": 564.1109719,
                        "iteration": 729,
                        "remaining_time": 208.6437841,
                        "learn": [
                          0.5783568153
                        ]
                      },
                      {
                        "passed_time": 564.8544338,
                        "iteration": 730,
                        "remaining_time": 207.8602499,
                        "learn": [
                          0.5778018745
                        ]
                      },
                      {
                        "passed_time": 565.6192772,
                        "iteration": 731,
                        "remaining_time": 207.0846534,
                        "learn": [
                          0.5771834548
                        ]
                      },
                      {
                        "passed_time": 566.3744585,
                        "iteration": 732,
                        "remaining_time": 206.3055667,
                        "learn": [
                          0.5764144276
                        ]
                      },
                      {
                        "passed_time": 567.136944,
                        "iteration": 733,
                        "remaining_time": 205.5291922,
                        "learn": [
                          0.5760215443
                        ]
                      },
                      {
                        "passed_time": 568.0748145,
                        "iteration": 734,
                        "remaining_time": 204.8160896,
                        "learn": [
                          0.5751330361
                        ]
                      },
                      {
                        "passed_time": 568.9138318,
                        "iteration": 735,
                        "remaining_time": 204.0669179,
                        "learn": [
                          0.5744504172
                        ]
                      },
                      {
                        "passed_time": 569.7484725,
                        "iteration": 736,
                        "remaining_time": 203.3159407,
                        "learn": [
                          0.573729345
                        ]
                      },
                      {
                        "passed_time": 570.540911,
                        "iteration": 737,
                        "remaining_time": 202.5497543,
                        "learn": [
                          0.5730883913
                        ]
                      },
                      {
                        "passed_time": 571.3096344,
                        "iteration": 738,
                        "remaining_time": 201.7751212,
                        "learn": [
                          0.5725217033
                        ]
                      },
                      {
                        "passed_time": 572.0798449,
                        "iteration": 739,
                        "remaining_time": 201.0010266,
                        "learn": [
                          0.5719905487
                        ]
                      },
                      {
                        "passed_time": 572.8205763,
                        "iteration": 740,
                        "remaining_time": 200.2166387,
                        "learn": [
                          0.5715552742
                        ]
                      },
                      {
                        "passed_time": 573.5713392,
                        "iteration": 741,
                        "remaining_time": 199.4358565,
                        "learn": [
                          0.5708133521
                        ]
                      },
                      {
                        "passed_time": 574.3689018,
                        "iteration": 742,
                        "remaining_time": 198.6713429,
                        "learn": [
                          0.5704502328
                        ]
                      },
                      {
                        "passed_time": 575.1549549,
                        "iteration": 743,
                        "remaining_time": 197.9027802,
                        "learn": [
                          0.5698684011
                        ]
                      },
                      {
                        "passed_time": 575.9311193,
                        "iteration": 744,
                        "remaining_time": 197.1307858,
                        "learn": [
                          0.5691447198
                        ]
                      },
                      {
                        "passed_time": 576.7176263,
                        "iteration": 745,
                        "remaining_time": 196.3623017,
                        "learn": [
                          0.5688005515
                        ]
                      },
                      {
                        "passed_time": 577.5159054,
                        "iteration": 746,
                        "remaining_time": 195.5977564,
                        "learn": [
                          0.5680901714
                        ]
                      },
                      {
                        "passed_time": 578.2762114,
                        "iteration": 747,
                        "remaining_time": 194.8203279,
                        "learn": [
                          0.5675931486
                        ]
                      },
                      {
                        "passed_time": 579.0342152,
                        "iteration": 748,
                        "remaining_time": 194.0421736,
                        "learn": [
                          0.5671801342
                        ]
                      },
                      {
                        "passed_time": 579.8654607,
                        "iteration": 749,
                        "remaining_time": 193.2884869,
                        "learn": [
                          0.5664500419
                        ]
                      },
                      {
                        "passed_time": 580.6786955,
                        "iteration": 750,
                        "remaining_time": 192.5286221,
                        "learn": [
                          0.5657279541
                        ]
                      },
                      {
                        "passed_time": 581.5060386,
                        "iteration": 751,
                        "remaining_time": 191.7732681,
                        "learn": [
                          0.5651084564
                        ]
                      },
                      {
                        "passed_time": 582.2739421,
                        "iteration": 752,
                        "remaining_time": 190.9982254,
                        "learn": [
                          0.5644035476
                        ]
                      },
                      {
                        "passed_time": 583.1044452,
                        "iteration": 753,
                        "remaining_time": 190.2436253,
                        "learn": [
                          0.5636132907
                        ]
                      },
                      {
                        "passed_time": 583.919719,
                        "iteration": 754,
                        "remaining_time": 189.4838823,
                        "learn": [
                          0.5629215286
                        ]
                      },
                      {
                        "passed_time": 584.6343591,
                        "iteration": 755,
                        "remaining_time": 188.6915127,
                        "learn": [
                          0.5624390769
                        ]
                      },
                      {
                        "passed_time": 585.4360537,
                        "iteration": 756,
                        "remaining_time": 187.9272933,
                        "learn": [
                          0.5619780989
                        ]
                      },
                      {
                        "passed_time": 586.2111572,
                        "iteration": 757,
                        "remaining_time": 187.1544856,
                        "learn": [
                          0.5613596953
                        ]
                      },
                      {
                        "passed_time": 586.9397162,
                        "iteration": 758,
                        "remaining_time": 186.3668928,
                        "learn": [
                          0.5608299756
                        ]
                      },
                      {
                        "passed_time": 587.6586792,
                        "iteration": 759,
                        "remaining_time": 185.576425,
                        "learn": [
                          0.5602604912
                        ]
                      },
                      {
                        "passed_time": 588.4320439,
                        "iteration": 760,
                        "remaining_time": 184.8032306,
                        "learn": [
                          0.559674937
                        ]
                      },
                      {
                        "passed_time": 589.2062195,
                        "iteration": 761,
                        "remaining_time": 184.030289,
                        "learn": [
                          0.5590210015
                        ]
                      },
                      {
                        "passed_time": 589.9061613,
                        "iteration": 762,
                        "remaining_time": 183.234286,
                        "learn": [
                          0.5585818461
                        ]
                      },
                      {
                        "passed_time": 590.7202955,
                        "iteration": 763,
                        "remaining_time": 182.4738085,
                        "learn": [
                          0.5577406049
                        ]
                      },
                      {
                        "passed_time": 591.5435239,
                        "iteration": 764,
                        "remaining_time": 181.7159845,
                        "learn": [
                          0.556993109
                        ]
                      },
                      {
                        "passed_time": 592.3369941,
                        "iteration": 765,
                        "remaining_time": 180.948899,
                        "learn": [
                          0.5562176051
                        ]
                      },
                      {
                        "passed_time": 593.1677334,
                        "iteration": 766,
                        "remaining_time": 180.1930663,
                        "learn": [
                          0.5554557986
                        ]
                      },
                      {
                        "passed_time": 594.0465495,
                        "iteration": 767,
                        "remaining_time": 179.4515618,
                        "learn": [
                          0.5547104124
                        ]
                      },
                      {
                        "passed_time": 594.7836223,
                        "iteration": 768,
                        "remaining_time": 178.6671219,
                        "learn": [
                          0.554035569
                        ]
                      },
                      {
                        "passed_time": 595.63274,
                        "iteration": 769,
                        "remaining_time": 177.916273,
                        "learn": [
                          0.5533039318
                        ]
                      },
                      {
                        "passed_time": 596.4119369,
                        "iteration": 770,
                        "remaining_time": 177.1444015,
                        "learn": [
                          0.5527845653
                        ]
                      },
                      {
                        "passed_time": 597.1732163,
                        "iteration": 771,
                        "remaining_time": 176.3672193,
                        "learn": [
                          0.5523547703
                        ]
                      },
                      {
                        "passed_time": 597.9211056,
                        "iteration": 772,
                        "remaining_time": 175.5861462,
                        "learn": [
                          0.5517259702
                        ]
                      },
                      {
                        "passed_time": 598.6558476,
                        "iteration": 773,
                        "remaining_time": 174.8013198,
                        "learn": [
                          0.5511235597
                        ]
                      },
                      {
                        "passed_time": 599.4462685,
                        "iteration": 774,
                        "remaining_time": 174.0327876,
                        "learn": [
                          0.5505894828
                        ]
                      },
                      {
                        "passed_time": 600.1944679,
                        "iteration": 775,
                        "remaining_time": 173.2520113,
                        "learn": [
                          0.5500543665
                        ]
                      },
                      {
                        "passed_time": 600.9311654,
                        "iteration": 776,
                        "remaining_time": 172.4680179,
                        "learn": [
                          0.5494788492
                        ]
                      },
                      {
                        "passed_time": 601.7152169,
                        "iteration": 777,
                        "remaining_time": 171.6976583,
                        "learn": [
                          0.5487758121
                        ]
                      },
                      {
                        "passed_time": 602.5409586,
                        "iteration": 778,
                        "remaining_time": 170.9390909,
                        "learn": [
                          0.548314662
                        ]
                      },
                      {
                        "passed_time": 603.334746,
                        "iteration": 779,
                        "remaining_time": 170.1713386,
                        "learn": [
                          0.5476937837
                        ]
                      },
                      {
                        "passed_time": 604.1184255,
                        "iteration": 780,
                        "remaining_time": 169.4006852,
                        "learn": [
                          0.5470518861
                        ]
                      },
                      {
                        "passed_time": 604.9452068,
                        "iteration": 781,
                        "remaining_time": 168.6420142,
                        "learn": [
                          0.5465037716
                        ]
                      },
                      {
                        "passed_time": 605.7539738,
                        "iteration": 782,
                        "remaining_time": 167.8781767,
                        "learn": [
                          0.5458036229
                        ]
                      },
                      {
                        "passed_time": 606.5071072,
                        "iteration": 783,
                        "remaining_time": 167.0988969,
                        "learn": [
                          0.5454123865
                        ]
                      },
                      {
                        "passed_time": 607.1981999,
                        "iteration": 784,
                        "remaining_time": 166.3026917,
                        "learn": [
                          0.5449676738
                        ]
                      },
                      {
                        "passed_time": 607.9523309,
                        "iteration": 785,
                        "remaining_time": 165.5239171,
                        "learn": [
                          0.5442584674
                        ]
                      },
                      {
                        "passed_time": 608.73543,
                        "iteration": 786,
                        "remaining_time": 164.7530452,
                        "learn": [
                          0.5438141132
                        ]
                      },
                      {
                        "passed_time": 609.5352308,
                        "iteration": 787,
                        "remaining_time": 163.9866357,
                        "learn": [
                          0.5433309246
                        ]
                      },
                      {
                        "passed_time": 610.3928358,
                        "iteration": 788,
                        "remaining_time": 163.2355999,
                        "learn": [
                          0.5427838324
                        ]
                      },
                      {
                        "passed_time": 611.1978013,
                        "iteration": 789,
                        "remaining_time": 162.4703016,
                        "learn": [
                          0.5421301977
                        ]
                      },
                      {
                        "passed_time": 612.0076864,
                        "iteration": 790,
                        "remaining_time": 161.7062029,
                        "learn": [
                          0.5412521415
                        ]
                      },
                      {
                        "passed_time": 612.7035623,
                        "iteration": 791,
                        "remaining_time": 160.9120467,
                        "learn": [
                          0.5408070131
                        ]
                      },
                      {
                        "passed_time": 613.4870974,
                        "iteration": 792,
                        "remaining_time": 160.1410204,
                        "learn": [
                          0.540319606
                        ]
                      },
                      {
                        "passed_time": 614.2258609,
                        "iteration": 793,
                        "remaining_time": 159.3583468,
                        "learn": [
                          0.539708264
                        ]
                      },
                      {
                        "passed_time": 614.9602865,
                        "iteration": 794,
                        "remaining_time": 158.5746651,
                        "learn": [
                          0.5391162992
                        ]
                      },
                      {
                        "passed_time": 615.7045373,
                        "iteration": 795,
                        "remaining_time": 157.7936251,
                        "learn": [
                          0.5384572253
                        ]
                      },
                      {
                        "passed_time": 616.5870803,
                        "iteration": 796,
                        "remaining_time": 157.0479013,
                        "learn": [
                          0.5377455849
                        ]
                      },
                      {
                        "passed_time": 617.4206123,
                        "iteration": 797,
                        "remaining_time": 156.2894282,
                        "learn": [
                          0.5373051088
                        ]
                      },
                      {
                        "passed_time": 618.2363628,
                        "iteration": 798,
                        "remaining_time": 155.526294,
                        "learn": [
                          0.536818722
                        ]
                      },
                      {
                        "passed_time": 619.0524445,
                        "iteration": 799,
                        "remaining_time": 154.7631111,
                        "learn": [
                          0.5362101908
                        ]
                      },
                      {
                        "passed_time": 619.9088318,
                        "iteration": 800,
                        "remaining_time": 154.0098096,
                        "learn": [
                          0.5355759968
                        ]
                      },
                      {
                        "passed_time": 620.6920874,
                        "iteration": 801,
                        "remaining_time": 153.2381961,
                        "learn": [
                          0.5348948383
                        ]
                      },
                      {
                        "passed_time": 621.5337921,
                        "iteration": 802,
                        "remaining_time": 152.480893,
                        "learn": [
                          0.5344356015
                        ]
                      },
                      {
                        "passed_time": 622.3499246,
                        "iteration": 803,
                        "remaining_time": 151.7171458,
                        "learn": [
                          0.5337854052
                        ]
                      },
                      {
                        "passed_time": 623.1749284,
                        "iteration": 804,
                        "remaining_time": 150.9554174,
                        "learn": [
                          0.5331689931
                        ]
                      },
                      {
                        "passed_time": 623.9350479,
                        "iteration": 805,
                        "remaining_time": 150.1779147,
                        "learn": [
                          0.5325232895
                        ]
                      },
                      {
                        "passed_time": 624.6363362,
                        "iteration": 806,
                        "remaining_time": 149.3863852,
                        "learn": [
                          0.5320780133
                        ]
                      },
                      {
                        "passed_time": 625.4445299,
                        "iteration": 807,
                        "remaining_time": 148.6204824,
                        "learn": [
                          0.5313138102
                        ]
                      },
                      {
                        "passed_time": 626.2724416,
                        "iteration": 808,
                        "remaining_time": 147.8591302,
                        "learn": [
                          0.5307175765
                        ]
                      },
                      {
                        "passed_time": 627.0916406,
                        "iteration": 809,
                        "remaining_time": 147.09557,
                        "learn": [
                          0.5302452355
                        ]
                      },
                      {
                        "passed_time": 628.013243,
                        "iteration": 810,
                        "remaining_time": 146.3557373,
                        "learn": [
                          0.5295135423
                        ]
                      },
                      {
                        "passed_time": 628.7547204,
                        "iteration": 811,
                        "remaining_time": 145.573753,
                        "learn": [
                          0.5287533165
                        ]
                      },
                      {
                        "passed_time": 629.49564,
                        "iteration": 812,
                        "remaining_time": 144.7917401,
                        "learn": [
                          0.5282024954
                        ]
                      },
                      {
                        "passed_time": 630.2434696,
                        "iteration": 813,
                        "remaining_time": 144.0114071,
                        "learn": [
                          0.5278793682
                        ]
                      },
                      {
                        "passed_time": 631.0022737,
                        "iteration": 814,
                        "remaining_time": 143.2336449,
                        "learn": [
                          0.5272623861
                        ]
                      },
                      {
                        "passed_time": 631.7705103,
                        "iteration": 815,
                        "remaining_time": 142.4580562,
                        "learn": [
                          0.5266849249
                        ]
                      },
                      {
                        "passed_time": 632.54607,
                        "iteration": 816,
                        "remaining_time": 141.6841258,
                        "learn": [
                          0.5262678882
                        ]
                      },
                      {
                        "passed_time": 633.3135354,
                        "iteration": 817,
                        "remaining_time": 140.9083905,
                        "learn": [
                          0.5256613356
                        ]
                      },
                      {
                        "passed_time": 634.1377134,
                        "iteration": 818,
                        "remaining_time": 140.1452089,
                        "learn": [
                          0.5252290647
                        ]
                      },
                      {
                        "passed_time": 634.9325634,
                        "iteration": 819,
                        "remaining_time": 139.3754407,
                        "learn": [
                          0.5245138042
                        ]
                      },
                      {
                        "passed_time": 635.6590822,
                        "iteration": 820,
                        "remaining_time": 138.5907134,
                        "learn": [
                          0.5240328321
                        ]
                      },
                      {
                        "passed_time": 636.4341829,
                        "iteration": 821,
                        "remaining_time": 137.8166479,
                        "learn": [
                          0.5235129313
                        ]
                      },
                      {
                        "passed_time": 637.2426744,
                        "iteration": 822,
                        "remaining_time": 137.0497611,
                        "learn": [
                          0.5230177762
                        ]
                      },
                      {
                        "passed_time": 638.0645898,
                        "iteration": 823,
                        "remaining_time": 136.2856405,
                        "learn": [
                          0.5223811303
                        ]
                      },
                      {
                        "passed_time": 638.8985347,
                        "iteration": 824,
                        "remaining_time": 135.5239316,
                        "learn": [
                          0.5217056824
                        ]
                      },
                      {
                        "passed_time": 639.7394497,
                        "iteration": 825,
                        "remaining_time": 134.763516,
                        "learn": [
                          0.5211461698
                        ]
                      },
                      {
                        "passed_time": 640.5684294,
                        "iteration": 826,
                        "remaining_time": 134.0004091,
                        "learn": [
                          0.5205464219
                        ]
                      },
                      {
                        "passed_time": 641.3955841,
                        "iteration": 827,
                        "remaining_time": 133.2367639,
                        "learn": [
                          0.5201713527
                        ]
                      },
                      {
                        "passed_time": 642.2455147,
                        "iteration": 828,
                        "remaining_time": 132.4776635,
                        "learn": [
                          0.519638093
                        ]
                      },
                      {
                        "passed_time": 643.0392223,
                        "iteration": 829,
                        "remaining_time": 131.7068287,
                        "learn": [
                          0.5190352019
                        ]
                      },
                      {
                        "passed_time": 643.8996876,
                        "iteration": 830,
                        "remaining_time": 130.9495153,
                        "learn": [
                          0.5183730643
                        ]
                      },
                      {
                        "passed_time": 644.7563156,
                        "iteration": 831,
                        "remaining_time": 130.1911791,
                        "learn": [
                          0.5176812158
                        ]
                      },
                      {
                        "passed_time": 645.6236662,
                        "iteration": 832,
                        "remaining_time": 129.4347566,
                        "learn": [
                          0.5170201753
                        ]
                      },
                      {
                        "passed_time": 646.399619,
                        "iteration": 833,
                        "remaining_time": 128.6598762,
                        "learn": [
                          0.5165835906
                        ]
                      },
                      {
                        "passed_time": 647.1957418,
                        "iteration": 834,
                        "remaining_time": 127.8889789,
                        "learn": [
                          0.5159272618
                        ]
                      },
                      {
                        "passed_time": 647.9838482,
                        "iteration": 835,
                        "remaining_time": 127.1164487,
                        "learn": [
                          0.515332463
                        ]
                      },
                      {
                        "passed_time": 648.738269,
                        "iteration": 836,
                        "remaining_time": 126.3373212,
                        "learn": [
                          0.5146881795
                        ]
                      },
                      {
                        "passed_time": 649.4870505,
                        "iteration": 837,
                        "remaining_time": 125.5571625,
                        "learn": [
                          0.5141957692
                        ]
                      },
                      {
                        "passed_time": 650.3981079,
                        "iteration": 838,
                        "remaining_time": 124.8082186,
                        "learn": [
                          0.5137297453
                        ]
                      },
                      {
                        "passed_time": 651.1462648,
                        "iteration": 839,
                        "remaining_time": 124.02786,
                        "learn": [
                          0.5132024972
                        ]
                      },
                      {
                        "passed_time": 651.9244559,
                        "iteration": 840,
                        "remaining_time": 123.2532562,
                        "learn": [
                          0.5126529963
                        ]
                      },
                      {
                        "passed_time": 652.7296593,
                        "iteration": 841,
                        "remaining_time": 122.4837128,
                        "learn": [
                          0.5122191854
                        ]
                      },
                      {
                        "passed_time": 653.4899155,
                        "iteration": 842,
                        "remaining_time": 121.7057138,
                        "learn": [
                          0.5118567511
                        ]
                      },
                      {
                        "passed_time": 654.3252771,
                        "iteration": 843,
                        "remaining_time": 120.9416389,
                        "learn": [
                          0.5113668364
                        ]
                      },
                      {
                        "passed_time": 655.1113422,
                        "iteration": 844,
                        "remaining_time": 120.1683527,
                        "learn": [
                          0.5107027798
                        ]
                      },
                      {
                        "passed_time": 655.9142203,
                        "iteration": 845,
                        "remaining_time": 119.3980968,
                        "learn": [
                          0.5102686411
                        ]
                      },
                      {
                        "passed_time": 656.7583087,
                        "iteration": 846,
                        "remaining_time": 118.6352081,
                        "learn": [
                          0.509566402
                        ]
                      },
                      {
                        "passed_time": 657.6169713,
                        "iteration": 847,
                        "remaining_time": 117.8747401,
                        "learn": [
                          0.50906066
                        ]
                      },
                      {
                        "passed_time": 658.3488468,
                        "iteration": 848,
                        "remaining_time": 117.091491,
                        "learn": [
                          0.5084837305
                        ]
                      },
                      {
                        "passed_time": 659.1581064,
                        "iteration": 849,
                        "remaining_time": 116.3220188,
                        "learn": [
                          0.5076713166
                        ]
                      },
                      {
                        "passed_time": 659.9465627,
                        "iteration": 850,
                        "remaining_time": 115.5488106,
                        "learn": [
                          0.5071406378
                        ]
                      },
                      {
                        "passed_time": 660.6525018,
                        "iteration": 851,
                        "remaining_time": 114.7612327,
                        "learn": [
                          0.5067333935
                        ]
                      },
                      {
                        "passed_time": 661.4869217,
                        "iteration": 852,
                        "remaining_time": 113.9959877,
                        "learn": [
                          0.5061138206
                        ]
                      },
                      {
                        "passed_time": 662.321984,
                        "iteration": 853,
                        "remaining_time": 113.2306905,
                        "learn": [
                          0.5054531442
                        ]
                      },
                      {
                        "passed_time": 663.1382691,
                        "iteration": 854,
                        "remaining_time": 112.4620456,
                        "learn": [
                          0.5048154618
                        ]
                      },
                      {
                        "passed_time": 663.911357,
                        "iteration": 855,
                        "remaining_time": 111.6860227,
                        "learn": [
                          0.5043076893
                        ]
                      },
                      {
                        "passed_time": 664.7032601,
                        "iteration": 856,
                        "remaining_time": 110.9131461,
                        "learn": [
                          0.5036632861
                        ]
                      },
                      {
                        "passed_time": 665.5331184,
                        "iteration": 857,
                        "remaining_time": 110.1465068,
                        "learn": [
                          0.503113186
                        ]
                      },
                      {
                        "passed_time": 666.3893374,
                        "iteration": 858,
                        "remaining_time": 109.3840472,
                        "learn": [
                          0.5024842793
                        ]
                      },
                      {
                        "passed_time": 667.136389,
                        "iteration": 859,
                        "remaining_time": 108.6035982,
                        "learn": [
                          0.5019935843
                        ]
                      },
                      {
                        "passed_time": 667.9136637,
                        "iteration": 860,
                        "remaining_time": 107.828106,
                        "learn": [
                          0.5013800981
                        ]
                      },
                      {
                        "passed_time": 668.6723405,
                        "iteration": 861,
                        "remaining_time": 107.0496322,
                        "learn": [
                          0.5009289671
                        ]
                      },
                      {
                        "passed_time": 669.3551454,
                        "iteration": 862,
                        "remaining_time": 106.2591598,
                        "learn": [
                          0.5003961999
                        ]
                      },
                      {
                        "passed_time": 670.1632868,
                        "iteration": 863,
                        "remaining_time": 105.4886655,
                        "learn": [
                          0.4997572016
                        ]
                      },
                      {
                        "passed_time": 671.0762727,
                        "iteration": 864,
                        "remaining_time": 104.7344472,
                        "learn": [
                          0.4992871176
                        ]
                      },
                      {
                        "passed_time": 671.8304532,
                        "iteration": 865,
                        "remaining_time": 103.9552895,
                        "learn": [
                          0.498834801
                        ]
                      },
                      {
                        "passed_time": 672.6608246,
                        "iteration": 866,
                        "remaining_time": 103.1878774,
                        "learn": [
                          0.4982883505
                        ]
                      },
                      {
                        "passed_time": 673.4608384,
                        "iteration": 867,
                        "remaining_time": 102.4157035,
                        "learn": [
                          0.497848894
                        ]
                      },
                      {
                        "passed_time": 674.284357,
                        "iteration": 868,
                        "remaining_time": 101.6470089,
                        "learn": [
                          0.4972152716
                        ]
                      },
                      {
                        "passed_time": 675.0276357,
                        "iteration": 869,
                        "remaining_time": 100.8661984,
                        "learn": [
                          0.4966751342
                        ]
                      },
                      {
                        "passed_time": 675.8676784,
                        "iteration": 870,
                        "remaining_time": 100.0998054,
                        "learn": [
                          0.4959721735
                        ]
                      },
                      {
                        "passed_time": 676.7391725,
                        "iteration": 871,
                        "remaining_time": 99.33786019,
                        "learn": [
                          0.4953907961
                        ]
                      },
                      {
                        "passed_time": 677.5847109,
                        "iteration": 872,
                        "remaining_time": 98.57188806,
                        "learn": [
                          0.4948031524
                        ]
                      },
                      {
                        "passed_time": 678.4144211,
                        "iteration": 873,
                        "remaining_time": 97.80345201,
                        "learn": [
                          0.4941711744
                        ]
                      },
                      {
                        "passed_time": 679.2593456,
                        "iteration": 874,
                        "remaining_time": 97.03704936,
                        "learn": [
                          0.4936278736
                        ]
                      },
                      {
                        "passed_time": 680.1101691,
                        "iteration": 875,
                        "remaining_time": 96.27130248,
                        "learn": [
                          0.492968747
                        ]
                      },
                      {
                        "passed_time": 680.9813585,
                        "iteration": 876,
                        "remaining_time": 95.50821789,
                        "learn": [
                          0.492316894
                        ]
                      },
                      {
                        "passed_time": 681.7066547,
                        "iteration": 877,
                        "remaining_time": 94.72461489,
                        "learn": [
                          0.4920411812
                        ]
                      },
                      {
                        "passed_time": 682.4433068,
                        "iteration": 878,
                        "remaining_time": 93.94270776,
                        "learn": [
                          0.4914655674
                        ]
                      },
                      {
                        "passed_time": 683.2144341,
                        "iteration": 879,
                        "remaining_time": 93.16560466,
                        "learn": [
                          0.4910851214
                        ]
                      },
                      {
                        "passed_time": 684.0874605,
                        "iteration": 880,
                        "remaining_time": 92.40227899,
                        "learn": [
                          0.4908065667
                        ]
                      },
                      {
                        "passed_time": 684.8875192,
                        "iteration": 881,
                        "remaining_time": 91.62894248,
                        "learn": [
                          0.4903908612
                        ]
                      },
                      {
                        "passed_time": 685.6603285,
                        "iteration": 882,
                        "remaining_time": 90.8519348,
                        "learn": [
                          0.4898884846
                        ]
                      },
                      {
                        "passed_time": 686.4707338,
                        "iteration": 883,
                        "remaining_time": 90.07987004,
                        "learn": [
                          0.4893937499
                        ]
                      },
                      {
                        "passed_time": 687.3082973,
                        "iteration": 884,
                        "remaining_time": 89.31124767,
                        "learn": [
                          0.4888482106
                        ]
                      },
                      {
                        "passed_time": 688.1103376,
                        "iteration": 885,
                        "remaining_time": 88.53789896,
                        "learn": [
                          0.4881408281
                        ]
                      },
                      {
                        "passed_time": 688.9051691,
                        "iteration": 886,
                        "remaining_time": 87.7635672,
                        "learn": [
                          0.4875642144
                        ]
                      },
                      {
                        "passed_time": 689.6835884,
                        "iteration": 887,
                        "remaining_time": 86.98711926,
                        "learn": [
                          0.4871536425
                        ]
                      },
                      {
                        "passed_time": 690.3731387,
                        "iteration": 888,
                        "remaining_time": 86.19957075,
                        "learn": [
                          0.4867800466
                        ]
                      },
                      {
                        "passed_time": 691.1515229,
                        "iteration": 889,
                        "remaining_time": 85.42322193,
                        "learn": [
                          0.4862362303
                        ]
                      },
                      {
                        "passed_time": 691.9473152,
                        "iteration": 890,
                        "remaining_time": 84.64899816,
                        "learn": [
                          0.4856750104
                        ]
                      },
                      {
                        "passed_time": 692.6703515,
                        "iteration": 891,
                        "remaining_time": 83.865917,
                        "learn": [
                          0.4851091631
                        ]
                      },
                      {
                        "passed_time": 693.4763506,
                        "iteration": 892,
                        "remaining_time": 83.09291099,
                        "learn": [
                          0.4846437586
                        ]
                      },
                      {
                        "passed_time": 694.2840154,
                        "iteration": 893,
                        "remaining_time": 82.32002867,
                        "learn": [
                          0.4842112803
                        ]
                      },
                      {
                        "passed_time": 695.0791389,
                        "iteration": 894,
                        "remaining_time": 81.5455973,
                        "learn": [
                          0.483716279
                        ]
                      },
                      {
                        "passed_time": 695.7819908,
                        "iteration": 895,
                        "remaining_time": 80.76040965,
                        "learn": [
                          0.4833101675
                        ]
                      },
                      {
                        "passed_time": 696.6293389,
                        "iteration": 896,
                        "remaining_time": 79.99199767,
                        "learn": [
                          0.482878509
                        ]
                      },
                      {
                        "passed_time": 697.4474902,
                        "iteration": 897,
                        "remaining_time": 79.22009354,
                        "learn": [
                          0.4825904154
                        ]
                      },
                      {
                        "passed_time": 698.2334971,
                        "iteration": 898,
                        "remaining_time": 78.4444752,
                        "learn": [
                          0.4821438777
                        ]
                      },
                      {
                        "passed_time": 699.0655878,
                        "iteration": 899,
                        "remaining_time": 77.6739542,
                        "learn": [
                          0.4817611564
                        ]
                      },
                      {
                        "passed_time": 699.8853269,
                        "iteration": 900,
                        "remaining_time": 76.90193936,
                        "learn": [
                          0.4811879097
                        ]
                      },
                      {
                        "passed_time": 700.7355584,
                        "iteration": 901,
                        "remaining_time": 76.13313163,
                        "learn": [
                          0.4805324476
                        ]
                      },
                      {
                        "passed_time": 701.4338854,
                        "iteration": 902,
                        "remaining_time": 75.347826,
                        "learn": [
                          0.4801631833
                        ]
                      },
                      {
                        "passed_time": 702.2426401,
                        "iteration": 903,
                        "remaining_time": 74.57443965,
                        "learn": [
                          0.4795806579
                        ]
                      },
                      {
                        "passed_time": 703.0550319,
                        "iteration": 904,
                        "remaining_time": 73.80135694,
                        "learn": [
                          0.4791093801
                        ]
                      },
                      {
                        "passed_time": 703.8345178,
                        "iteration": 905,
                        "remaining_time": 73.02477337,
                        "learn": [
                          0.4786438389
                        ]
                      },
                      {
                        "passed_time": 704.6720584,
                        "iteration": 906,
                        "remaining_time": 72.25413609,
                        "learn": [
                          0.4780210269
                        ]
                      },
                      {
                        "passed_time": 705.4262256,
                        "iteration": 907,
                        "remaining_time": 71.47490392,
                        "learn": [
                          0.4776288381
                        ]
                      },
                      {
                        "passed_time": 706.2043026,
                        "iteration": 908,
                        "remaining_time": 70.6981205,
                        "learn": [
                          0.4770895174
                        ]
                      },
                      {
                        "passed_time": 706.9201909,
                        "iteration": 909,
                        "remaining_time": 69.91518371,
                        "learn": [
                          0.4768582517
                        ]
                      },
                      {
                        "passed_time": 707.6919448,
                        "iteration": 910,
                        "remaining_time": 69.13785191,
                        "learn": [
                          0.476434098
                        ]
                      },
                      {
                        "passed_time": 708.4905485,
                        "iteration": 911,
                        "remaining_time": 68.3631231,
                        "learn": [
                          0.4757878881
                        ]
                      },
                      {
                        "passed_time": 709.260624,
                        "iteration": 912,
                        "remaining_time": 67.58562353,
                        "learn": [
                          0.4751063124
                        ]
                      },
                      {
                        "passed_time": 710.0633695,
                        "iteration": 913,
                        "remaining_time": 66.8112142,
                        "learn": [
                          0.4744701606
                        ]
                      },
                      {
                        "passed_time": 710.8316701,
                        "iteration": 914,
                        "remaining_time": 66.03354312,
                        "learn": [
                          0.4740104868
                        ]
                      },
                      {
                        "passed_time": 711.6834833,
                        "iteration": 915,
                        "remaining_time": 65.26355087,
                        "learn": [
                          0.4734773478
                        ]
                      },
                      {
                        "passed_time": 712.4460336,
                        "iteration": 916,
                        "remaining_time": 64.48530075,
                        "learn": [
                          0.4731334085
                        ]
                      },
                      {
                        "passed_time": 713.3731325,
                        "iteration": 917,
                        "remaining_time": 63.72178307,
                        "learn": [
                          0.472599305
                        ]
                      },
                      {
                        "passed_time": 714.1930066,
                        "iteration": 918,
                        "remaining_time": 62.94845869,
                        "learn": [
                          0.4722784311
                        ]
                      },
                      {
                        "passed_time": 714.9619668,
                        "iteration": 919,
                        "remaining_time": 62.17060581,
                        "learn": [
                          0.4717277946
                        ]
                      },
                      {
                        "passed_time": 715.7748937,
                        "iteration": 920,
                        "remaining_time": 61.39654354,
                        "learn": [
                          0.4711981575
                        ]
                      },
                      {
                        "passed_time": 716.6239762,
                        "iteration": 921,
                        "remaining_time": 60.62545569,
                        "learn": [
                          0.4705996332
                        ]
                      },
                      {
                        "passed_time": 717.4644498,
                        "iteration": 922,
                        "remaining_time": 59.85348064,
                        "learn": [
                          0.4701297815
                        ]
                      },
                      {
                        "passed_time": 718.3085199,
                        "iteration": 923,
                        "remaining_time": 59.08165315,
                        "learn": [
                          0.4695489052
                        ]
                      },
                      {
                        "passed_time": 719.0827391,
                        "iteration": 924,
                        "remaining_time": 58.30400587,
                        "learn": [
                          0.4690296789
                        ]
                      },
                      {
                        "passed_time": 719.9507866,
                        "iteration": 925,
                        "remaining_time": 57.53386416,
                        "learn": [
                          0.4686518347
                        ]
                      },
                      {
                        "passed_time": 720.7546354,
                        "iteration": 926,
                        "remaining_time": 56.75845565,
                        "learn": [
                          0.4683340011
                        ]
                      },
                      {
                        "passed_time": 721.4968865,
                        "iteration": 927,
                        "remaining_time": 55.97820671,
                        "learn": [
                          0.4678655
                        ]
                      },
                      {
                        "passed_time": 722.2897037,
                        "iteration": 928,
                        "remaining_time": 55.20190416,
                        "learn": [
                          0.467272036
                        ]
                      },
                      {
                        "passed_time": 723.0546678,
                        "iteration": 929,
                        "remaining_time": 54.42346962,
                        "learn": [
                          0.4667427317
                        ]
                      },
                      {
                        "passed_time": 723.8947516,
                        "iteration": 930,
                        "remaining_time": 53.65063143,
                        "learn": [
                          0.4662246173
                        ]
                      },
                      {
                        "passed_time": 724.7036247,
                        "iteration": 931,
                        "remaining_time": 52.87537176,
                        "learn": [
                          0.4657260742
                        ]
                      },
                      {
                        "passed_time": 725.5245706,
                        "iteration": 932,
                        "remaining_time": 52.100907,
                        "learn": [
                          0.4653081963
                        ]
                      },
                      {
                        "passed_time": 726.2964633,
                        "iteration": 933,
                        "remaining_time": 51.32287642,
                        "learn": [
                          0.4649690102
                        ]
                      },
                      {
                        "passed_time": 727.0775526,
                        "iteration": 934,
                        "remaining_time": 50.54549831,
                        "learn": [
                          0.4646827856
                        ]
                      },
                      {
                        "passed_time": 727.8708555,
                        "iteration": 935,
                        "remaining_time": 49.76894739,
                        "learn": [
                          0.4642141089
                        ]
                      },
                      {
                        "passed_time": 728.6388983,
                        "iteration": 936,
                        "remaining_time": 48.99066232,
                        "learn": [
                          0.4638075996
                        ]
                      },
                      {
                        "passed_time": 729.3994705,
                        "iteration": 937,
                        "remaining_time": 48.2119053,
                        "learn": [
                          0.4633847523
                        ]
                      },
                      {
                        "passed_time": 730.2291339,
                        "iteration": 938,
                        "remaining_time": 47.43767537,
                        "learn": [
                          0.4628983662
                        ]
                      },
                      {
                        "passed_time": 731.0739815,
                        "iteration": 939,
                        "remaining_time": 46.66429669,
                        "learn": [
                          0.4624020565
                        ]
                      },
                      {
                        "passed_time": 731.9552697,
                        "iteration": 940,
                        "remaining_time": 45.89305092,
                        "learn": [
                          0.4617364925
                        ]
                      },
                      {
                        "passed_time": 732.8587112,
                        "iteration": 941,
                        "remaining_time": 45.12293551,
                        "learn": [
                          0.4612026026
                        ]
                      },
                      {
                        "passed_time": 733.6779803,
                        "iteration": 942,
                        "remaining_time": 44.3474495,
                        "learn": [
                          0.4605922965
                        ]
                      },
                      {
                        "passed_time": 734.4916168,
                        "iteration": 943,
                        "remaining_time": 43.57153659,
                        "learn": [
                          0.4601687771
                        ]
                      },
                      {
                        "passed_time": 735.2958381,
                        "iteration": 944,
                        "remaining_time": 42.79499587,
                        "learn": [
                          0.4596154164
                        ]
                      },
                      {
                        "passed_time": 736.0687108,
                        "iteration": 945,
                        "remaining_time": 42.01660717,
                        "learn": [
                          0.4589671484
                        ]
                      },
                      {
                        "passed_time": 736.8778591,
                        "iteration": 946,
                        "remaining_time": 41.24026033,
                        "learn": [
                          0.4584068248
                        ]
                      },
                      {
                        "passed_time": 737.7215296,
                        "iteration": 947,
                        "remaining_time": 40.46573791,
                        "learn": [
                          0.4577928982
                        ]
                      },
                      {
                        "passed_time": 738.4965494,
                        "iteration": 948,
                        "remaining_time": 39.68738042,
                        "learn": [
                          0.4572205282
                        ]
                      },
                      {
                        "passed_time": 739.3370983,
                        "iteration": 949,
                        "remaining_time": 38.91247886,
                        "learn": [
                          0.4567753653
                        ]
                      },
                      {
                        "passed_time": 740.2191494,
                        "iteration": 950,
                        "remaining_time": 38.13957762,
                        "learn": [
                          0.4561386342
                        ]
                      },
                      {
                        "passed_time": 741.0463453,
                        "iteration": 951,
                        "remaining_time": 37.36368128,
                        "learn": [
                          0.4556700493
                        ]
                      },
                      {
                        "passed_time": 741.9116933,
                        "iteration": 952,
                        "remaining_time": 36.58955885,
                        "learn": [
                          0.4552546019
                        ]
                      },
                      {
                        "passed_time": 742.7508316,
                        "iteration": 953,
                        "remaining_time": 35.8139814,
                        "learn": [
                          0.4547659872
                        ]
                      },
                      {
                        "passed_time": 743.5210589,
                        "iteration": 954,
                        "remaining_time": 35.03502372,
                        "learn": [
                          0.4543954439
                        ]
                      },
                      {
                        "passed_time": 744.3765934,
                        "iteration": 955,
                        "remaining_time": 34.26001058,
                        "learn": [
                          0.4539654514
                        ]
                      },
                      {
                        "passed_time": 745.1764344,
                        "iteration": 956,
                        "remaining_time": 33.48232673,
                        "learn": [
                          0.4534720738
                        ]
                      },
                      {
                        "passed_time": 745.9363628,
                        "iteration": 957,
                        "remaining_time": 32.7028468,
                        "learn": [
                          0.4530257106
                        ]
                      },
                      {
                        "passed_time": 746.7262685,
                        "iteration": 958,
                        "remaining_time": 31.92468927,
                        "learn": [
                          0.4524577844
                        ]
                      },
                      {
                        "passed_time": 747.5709708,
                        "iteration": 959,
                        "remaining_time": 31.14879045,
                        "learn": [
                          0.4520744074
                        ]
                      },
                      {
                        "passed_time": 748.3757442,
                        "iteration": 960,
                        "remaining_time": 30.37112801,
                        "learn": [
                          0.4515801646
                        ]
                      },
                      {
                        "passed_time": 749.1171415,
                        "iteration": 961,
                        "remaining_time": 29.5909058,
                        "learn": [
                          0.4509743193
                        ]
                      },
                      {
                        "passed_time": 749.8473793,
                        "iteration": 962,
                        "remaining_time": 28.81033544,
                        "learn": [
                          0.450741174
                        ]
                      },
                      {
                        "passed_time": 750.6261629,
                        "iteration": 963,
                        "remaining_time": 28.03168243,
                        "learn": [
                          0.4501603669
                        ]
                      },
                      {
                        "passed_time": 751.4368754,
                        "iteration": 964,
                        "remaining_time": 27.25418719,
                        "learn": [
                          0.4497727343
                        ]
                      },
                      {
                        "passed_time": 752.1689383,
                        "iteration": 965,
                        "remaining_time": 26.47385497,
                        "learn": [
                          0.4493590934
                        ]
                      },
                      {
                        "passed_time": 752.9778376,
                        "iteration": 966,
                        "remaining_time": 25.69624472,
                        "learn": [
                          0.4489438823
                        ]
                      },
                      {
                        "passed_time": 753.7797519,
                        "iteration": 967,
                        "remaining_time": 24.91833891,
                        "learn": [
                          0.4486463498
                        ]
                      },
                      {
                        "passed_time": 754.5897255,
                        "iteration": 968,
                        "remaining_time": 24.14064137,
                        "learn": [
                          0.4481569269
                        ]
                      },
                      {
                        "passed_time": 755.4251573,
                        "iteration": 969,
                        "remaining_time": 23.36366466,
                        "learn": [
                          0.447783519
                        ]
                      },
                      {
                        "passed_time": 756.2148336,
                        "iteration": 970,
                        "remaining_time": 22.585201,
                        "learn": [
                          0.4473340611
                        ]
                      },
                      {
                        "passed_time": 756.92107,
                        "iteration": 971,
                        "remaining_time": 21.80431066,
                        "learn": [
                          0.4470718508
                        ]
                      },
                      {
                        "passed_time": 757.6904764,
                        "iteration": 972,
                        "remaining_time": 21.02532668,
                        "learn": [
                          0.4464382715
                        ]
                      },
                      {
                        "passed_time": 758.4649348,
                        "iteration": 973,
                        "remaining_time": 20.24649723,
                        "learn": [
                          0.4459577127
                        ]
                      },
                      {
                        "passed_time": 759.2937136,
                        "iteration": 974,
                        "remaining_time": 19.46906958,
                        "learn": [
                          0.4454194632
                        ]
                      },
                      {
                        "passed_time": 760.147131,
                        "iteration": 975,
                        "remaining_time": 18.69214257,
                        "learn": [
                          0.4448104766
                        ]
                      },
                      {
                        "passed_time": 760.9147295,
                        "iteration": 976,
                        "remaining_time": 17.91303867,
                        "learn": [
                          0.4441568308
                        ]
                      },
                      {
                        "passed_time": 761.7572898,
                        "iteration": 977,
                        "remaining_time": 17.13564456,
                        "learn": [
                          0.4436672916
                        ]
                      },
                      {
                        "passed_time": 762.5590238,
                        "iteration": 978,
                        "remaining_time": 16.35724157,
                        "learn": [
                          0.4432168202
                        ]
                      },
                      {
                        "passed_time": 763.3144084,
                        "iteration": 979,
                        "remaining_time": 15.57784507,
                        "learn": [
                          0.4425901532
                        ]
                      },
                      {
                        "passed_time": 764.0819342,
                        "iteration": 980,
                        "remaining_time": 14.79873267,
                        "learn": [
                          0.4421056045
                        ]
                      },
                      {
                        "passed_time": 764.9478696,
                        "iteration": 981,
                        "remaining_time": 14.02144771,
                        "learn": [
                          0.4416718304
                        ]
                      },
                      {
                        "passed_time": 765.7204727,
                        "iteration": 982,
                        "remaining_time": 13.2423683,
                        "learn": [
                          0.4411984625
                        ]
                      },
                      {
                        "passed_time": 766.452726,
                        "iteration": 983,
                        "remaining_time": 12.46264595,
                        "learn": [
                          0.4406268132
                        ]
                      },
                      {
                        "passed_time": 767.2369494,
                        "iteration": 984,
                        "remaining_time": 11.68381141,
                        "learn": [
                          0.4401862998
                        ]
                      },
                      {
                        "passed_time": 768.0165806,
                        "iteration": 985,
                        "remaining_time": 10.90490074,
                        "learn": [
                          0.4398614292
                        ]
                      },
                      {
                        "passed_time": 768.8348126,
                        "iteration": 986,
                        "remaining_time": 10.12649703,
                        "learn": [
                          0.4393450291
                        ]
                      },
                      {
                        "passed_time": 769.6498938,
                        "iteration": 987,
                        "remaining_time": 9.347974418,
                        "learn": [
                          0.4387896516
                        ]
                      },
                      {
                        "passed_time": 770.5228803,
                        "iteration": 988,
                        "remaining_time": 8.570021925,
                        "learn": [
                          0.4383161731
                        ]
                      },
                      {
                        "passed_time": 771.3272795,
                        "iteration": 989,
                        "remaining_time": 7.791184641,
                        "learn": [
                          0.437826229
                        ]
                      },
                      {
                        "passed_time": 772.1719124,
                        "iteration": 990,
                        "remaining_time": 7.012661162,
                        "learn": [
                          0.4372091498
                        ]
                      },
                      {
                        "passed_time": 772.9527315,
                        "iteration": 991,
                        "remaining_time": 6.23348977,
                        "learn": [
                          0.4368301143
                        ]
                      },
                      {
                        "passed_time": 773.7633616,
                        "iteration": 992,
                        "remaining_time": 5.454525207,
                        "learn": [
                          0.4362623725
                        ]
                      },
                      {
                        "passed_time": 774.5188084,
                        "iteration": 993,
                        "remaining_time": 4.675163833,
                        "learn": [
                          0.4359095655
                        ]
                      },
                      {
                        "passed_time": 775.3301887,
                        "iteration": 994,
                        "remaining_time": 3.896131601,
                        "learn": [
                          0.4353492229
                        ]
                      },
                      {
                        "passed_time": 776.1022646,
                        "iteration": 995,
                        "remaining_time": 3.116876565,
                        "learn": [
                          0.4348205142
                        ]
                      },
                      {
                        "passed_time": 776.8465563,
                        "iteration": 996,
                        "remaining_time": 2.337552326,
                        "learn": [
                          0.4343217398
                        ]
                      },
                      {
                        "passed_time": 777.5931046,
                        "iteration": 997,
                        "remaining_time": 1.558302815,
                        "learn": [
                          0.4340508041
                        ]
                      },
                      {
                        "passed_time": 778.3688274,
                        "iteration": 998,
                        "remaining_time": 0.7791479753,
                        "learn": [
                          0.4336485224
                        ]
                      },
                      {
                        "passed_time": 779.1428377,
                        "iteration": 999,
                        "remaining_time": 0,
                        "learn": [
                          0.4330033389
                        ]
                      }
                    ]
                  },
                  "total_iterations": 1000,
                  "passed_iterations": 999
                },
                "path": "catboost_info",
                "name": "catboost_info"
              }
            },
            "_view_module": "catboost-widget",
            "_model_module_version": "^1.0.0",
            "_view_count": null,
            "_view_module_version": "^1.0.0",
            "layout": "IPY_MODEL_9589de2c501a449e8e8512e5e9ead1e7",
            "_model_module": "catboost-widget"
          }
        }
      }
    }
  },
  "cells": [
    {
      "cell_type": "markdown",
      "metadata": {
        "id": "view-in-github",
        "colab_type": "text"
      },
      "source": [
        "<a href=\"https://colab.research.google.com/github/MKrezheska/NLP_Project-Style_Change_Detection/blob/main/Models_RoBERTa_Task2.ipynb\" target=\"_parent\"><img src=\"https://colab.research.google.com/assets/colab-badge.svg\" alt=\"Open In Colab\"/></a>"
      ]
    },
    {
      "cell_type": "code",
      "metadata": {
        "colab": {
          "base_uri": "https://localhost:8080/"
        },
        "id": "rdQCV-9w0zlB",
        "outputId": "6bac16d3-dd59-4b4d-99c8-268923a0ff46"
      },
      "source": [
        "from google.colab import drive\n",
        "drive.mount('/content/drive')"
      ],
      "execution_count": 1,
      "outputs": [
        {
          "output_type": "stream",
          "name": "stdout",
          "text": [
            "Mounted at /content/drive\n"
          ]
        }
      ]
    },
    {
      "cell_type": "code",
      "metadata": {
        "id": "JFRgLrGS8HFn"
      },
      "source": [
        "import pandas as pd"
      ],
      "execution_count": 2,
      "outputs": []
    },
    {
      "cell_type": "code",
      "metadata": {
        "id": "8JqDRgHAN5mg"
      },
      "source": [
        "import json\n",
        "import numpy as np \n",
        "import time\n",
        "import joblib"
      ],
      "execution_count": 3,
      "outputs": []
    },
    {
      "cell_type": "code",
      "metadata": {
        "id": "55siDObqEJMa"
      },
      "source": [
        "df_1 = pd.read_csv('drive/MyDrive/pan-2021/train-690-roberta-768-long-vectors.csv')\n",
        "df_2 = pd.read_csv('drive/MyDrive/pan-2021/train-2000-roberta-768-long-vectors.csv')\n",
        "df_3 = pd.read_csv('drive/MyDrive/pan-2021/train-4000-roberta-768-long-vectors.csv')\n",
        "df_4 = pd.read_csv('drive/MyDrive/pan-2021/train-7000-roberta-768-long-vectors.csv')\n",
        "df_5 = pd.read_csv('drive/MyDrive/pan-2021/train-end-roberta-768-long-vectors.csv')\n",
        "\n",
        "\n",
        "df = pd.concat([df_1, df_2, df_3, df_4, df_5])"
      ],
      "execution_count": 8,
      "outputs": []
    },
    {
      "cell_type": "code",
      "metadata": {
        "colab": {
          "base_uri": "https://localhost:8080/",
          "height": 416
        },
        "id": "yNxidgNkLtd-",
        "outputId": "38666fe1-a55d-46bd-fee3-62b99ce815f4"
      },
      "source": [
        "df"
      ],
      "execution_count": 9,
      "outputs": [
        {
          "output_type": "execute_result",
          "data": {
            "text/html": [
              "<div>\n",
              "<style scoped>\n",
              "    .dataframe tbody tr th:only-of-type {\n",
              "        vertical-align: middle;\n",
              "    }\n",
              "\n",
              "    .dataframe tbody tr th {\n",
              "        vertical-align: top;\n",
              "    }\n",
              "\n",
              "    .dataframe thead th {\n",
              "        text-align: right;\n",
              "    }\n",
              "</style>\n",
              "<table border=\"1\" class=\"dataframe\">\n",
              "  <thead>\n",
              "    <tr style=\"text-align: right;\">\n",
              "      <th></th>\n",
              "      <th>Unnamed: 0</th>\n",
              "      <th>file_name</th>\n",
              "      <th>emb</th>\n",
              "      <th>changes</th>\n",
              "      <th>label</th>\n",
              "      <th>authors</th>\n",
              "      <th>paragraph_authors</th>\n",
              "    </tr>\n",
              "  </thead>\n",
              "  <tbody>\n",
              "    <tr>\n",
              "      <th>0</th>\n",
              "      <td>0</td>\n",
              "      <td>problem-10702</td>\n",
              "      <td>[-0.06933309137821198, 0.08886080235242844, -0...</td>\n",
              "      <td>[1, 1, 1, 0, 1]</td>\n",
              "      <td>1</td>\n",
              "      <td>2</td>\n",
              "      <td>[1, 2, 1, 2, 2, 1]</td>\n",
              "    </tr>\n",
              "    <tr>\n",
              "      <th>1</th>\n",
              "      <td>1</td>\n",
              "      <td>problem-10706</td>\n",
              "      <td>[-0.059775013476610184, 0.08716754615306854, -...</td>\n",
              "      <td>[0, 1, 1, 1, 1, 1]</td>\n",
              "      <td>1</td>\n",
              "      <td>4</td>\n",
              "      <td>[1, 1, 2, 3, 4, 3, 2]</td>\n",
              "    </tr>\n",
              "    <tr>\n",
              "      <th>2</th>\n",
              "      <td>2</td>\n",
              "      <td>problem-10710</td>\n",
              "      <td>[-0.05192521959543228, 0.0976557806134224, -0....</td>\n",
              "      <td>[1, 1, 0, 1, 0, 1]</td>\n",
              "      <td>1</td>\n",
              "      <td>4</td>\n",
              "      <td>[1, 2, 3, 3, 4, 4, 3]</td>\n",
              "    </tr>\n",
              "    <tr>\n",
              "      <th>3</th>\n",
              "      <td>3</td>\n",
              "      <td>problem-10712</td>\n",
              "      <td>[-0.058702100068330765, 0.08107157796621323, -...</td>\n",
              "      <td>[0, 0, 0, 0, 1, 1]</td>\n",
              "      <td>1</td>\n",
              "      <td>2</td>\n",
              "      <td>[1, 1, 1, 1, 1, 2, 1]</td>\n",
              "    </tr>\n",
              "    <tr>\n",
              "      <th>4</th>\n",
              "      <td>4</td>\n",
              "      <td>problem-10708</td>\n",
              "      <td>[-0.06454212963581085, 0.08104275166988373, -0...</td>\n",
              "      <td>[1, 0, 0, 0, 1]</td>\n",
              "      <td>1</td>\n",
              "      <td>3</td>\n",
              "      <td>[1, 2, 2, 2, 2, 3]</td>\n",
              "    </tr>\n",
              "    <tr>\n",
              "      <th>...</th>\n",
              "      <td>...</td>\n",
              "      <td>...</td>\n",
              "      <td>...</td>\n",
              "      <td>...</td>\n",
              "      <td>...</td>\n",
              "      <td>...</td>\n",
              "      <td>...</td>\n",
              "    </tr>\n",
              "    <tr>\n",
              "      <th>4195</th>\n",
              "      <td>4195</td>\n",
              "      <td>problem-207</td>\n",
              "      <td>[-0.041760582476854324, 0.0787864625453949, -0...</td>\n",
              "      <td>[1, 0, 0]</td>\n",
              "      <td>1</td>\n",
              "      <td>2</td>\n",
              "      <td>[1, 2, 2, 2]</td>\n",
              "    </tr>\n",
              "    <tr>\n",
              "      <th>4196</th>\n",
              "      <td>4196</td>\n",
              "      <td>problem-211</td>\n",
              "      <td>[-0.05708981305360794, 0.08273273706436157, -0...</td>\n",
              "      <td>[0, 0, 1, 0, 1, 0, 0]</td>\n",
              "      <td>1</td>\n",
              "      <td>3</td>\n",
              "      <td>[1, 1, 1, 2, 2, 3, 3, 3]</td>\n",
              "    </tr>\n",
              "    <tr>\n",
              "      <th>4197</th>\n",
              "      <td>4197</td>\n",
              "      <td>problem-208</td>\n",
              "      <td>[-0.05604788288474083, 0.101335808634758, -0.0...</td>\n",
              "      <td>[1, 1, 0, 0, 1]</td>\n",
              "      <td>1</td>\n",
              "      <td>2</td>\n",
              "      <td>[1, 2, 1, 1, 1, 2]</td>\n",
              "    </tr>\n",
              "    <tr>\n",
              "      <th>4198</th>\n",
              "      <td>4198</td>\n",
              "      <td>problem-217</td>\n",
              "      <td>[-0.06293439120054245, 0.0814419537782669, -0....</td>\n",
              "      <td>[1, 1, 1]</td>\n",
              "      <td>1</td>\n",
              "      <td>3</td>\n",
              "      <td>[1, 2, 3, 2]</td>\n",
              "    </tr>\n",
              "    <tr>\n",
              "      <th>4199</th>\n",
              "      <td>4199</td>\n",
              "      <td>problem-219</td>\n",
              "      <td>[-0.06578440964221954, 0.0862765684723854, -0....</td>\n",
              "      <td>[1, 0, 1, 1, 0, 1]</td>\n",
              "      <td>1</td>\n",
              "      <td>4</td>\n",
              "      <td>[1, 2, 2, 1, 3, 3, 4]</td>\n",
              "    </tr>\n",
              "  </tbody>\n",
              "</table>\n",
              "<p>11197 rows × 7 columns</p>\n",
              "</div>"
            ],
            "text/plain": [
              "      Unnamed: 0      file_name  ... authors         paragraph_authors\n",
              "0              0  problem-10702  ...       2        [1, 2, 1, 2, 2, 1]\n",
              "1              1  problem-10706  ...       4     [1, 1, 2, 3, 4, 3, 2]\n",
              "2              2  problem-10710  ...       4     [1, 2, 3, 3, 4, 4, 3]\n",
              "3              3  problem-10712  ...       2     [1, 1, 1, 1, 1, 2, 1]\n",
              "4              4  problem-10708  ...       3        [1, 2, 2, 2, 2, 3]\n",
              "...          ...            ...  ...     ...                       ...\n",
              "4195        4195    problem-207  ...       2              [1, 2, 2, 2]\n",
              "4196        4196    problem-211  ...       3  [1, 1, 1, 2, 2, 3, 3, 3]\n",
              "4197        4197    problem-208  ...       2        [1, 2, 1, 1, 1, 2]\n",
              "4198        4198    problem-217  ...       3              [1, 2, 3, 2]\n",
              "4199        4199    problem-219  ...       4     [1, 2, 2, 1, 3, 3, 4]\n",
              "\n",
              "[11197 rows x 7 columns]"
            ]
          },
          "metadata": {},
          "execution_count": 9
        }
      ]
    },
    {
      "cell_type": "code",
      "metadata": {
        "id": "l77LvwdjrnwC"
      },
      "source": [
        "df = df.drop([\"Unnamed: 0\",\"file_name\", \"changes\", \"label\", \"paragraph_authors\"], axis=\"columns\")"
      ],
      "execution_count": 10,
      "outputs": []
    },
    {
      "cell_type": "code",
      "metadata": {
        "colab": {
          "base_uri": "https://localhost:8080/",
          "height": 202
        },
        "id": "s6TkLMWbL0tY",
        "outputId": "4e3dbe28-a4d7-464b-fa68-0fd5182d0bba"
      },
      "source": [
        "df_valid = pd.read_csv('drive/MyDrive/pan-2021/validation-roberta-768-long-vectors.csv')\n",
        "df_valid.head()"
      ],
      "execution_count": 12,
      "outputs": [
        {
          "output_type": "execute_result",
          "data": {
            "text/html": [
              "<div>\n",
              "<style scoped>\n",
              "    .dataframe tbody tr th:only-of-type {\n",
              "        vertical-align: middle;\n",
              "    }\n",
              "\n",
              "    .dataframe tbody tr th {\n",
              "        vertical-align: top;\n",
              "    }\n",
              "\n",
              "    .dataframe thead th {\n",
              "        text-align: right;\n",
              "    }\n",
              "</style>\n",
              "<table border=\"1\" class=\"dataframe\">\n",
              "  <thead>\n",
              "    <tr style=\"text-align: right;\">\n",
              "      <th></th>\n",
              "      <th>Unnamed: 0</th>\n",
              "      <th>file_name</th>\n",
              "      <th>emb</th>\n",
              "      <th>changes</th>\n",
              "      <th>label</th>\n",
              "      <th>authors</th>\n",
              "      <th>paragraph_authors</th>\n",
              "    </tr>\n",
              "  </thead>\n",
              "  <tbody>\n",
              "    <tr>\n",
              "      <th>0</th>\n",
              "      <td>0</td>\n",
              "      <td>problem-1899</td>\n",
              "      <td>[-0.06812208890914917, 0.08334814757108688, -0...</td>\n",
              "      <td>[0, 1, 1, 1, 1, 1, 0, 1]</td>\n",
              "      <td>1</td>\n",
              "      <td>4</td>\n",
              "      <td>[1, 1, 2, 3, 1, 4, 3, 3, 1]</td>\n",
              "    </tr>\n",
              "    <tr>\n",
              "      <th>1</th>\n",
              "      <td>1</td>\n",
              "      <td>problem-1906</td>\n",
              "      <td>[-0.07429127395153046, 0.07846497744321823, -0...</td>\n",
              "      <td>[1, 0, 1]</td>\n",
              "      <td>1</td>\n",
              "      <td>3</td>\n",
              "      <td>[1, 2, 2, 3]</td>\n",
              "    </tr>\n",
              "    <tr>\n",
              "      <th>2</th>\n",
              "      <td>2</td>\n",
              "      <td>problem-1903</td>\n",
              "      <td>[-0.06153155490756035, 0.07799900323152542, -0...</td>\n",
              "      <td>[1, 1, 1, 1, 0, 0]</td>\n",
              "      <td>1</td>\n",
              "      <td>3</td>\n",
              "      <td>[1, 2, 3, 1, 3, 3, 3]</td>\n",
              "    </tr>\n",
              "    <tr>\n",
              "      <th>3</th>\n",
              "      <td>3</td>\n",
              "      <td>problem-1900</td>\n",
              "      <td>[-0.059520427137613297, 0.08365883678197861, -...</td>\n",
              "      <td>[1, 1, 1, 1, 1]</td>\n",
              "      <td>1</td>\n",
              "      <td>4</td>\n",
              "      <td>[1, 2, 1, 3, 4, 2]</td>\n",
              "    </tr>\n",
              "    <tr>\n",
              "      <th>4</th>\n",
              "      <td>4</td>\n",
              "      <td>problem-1904</td>\n",
              "      <td>[-0.05482497438788414, 0.09679285436868668, -0...</td>\n",
              "      <td>[0, 1, 1, 0, 1, 1, 1, 1]</td>\n",
              "      <td>1</td>\n",
              "      <td>4</td>\n",
              "      <td>[1, 1, 2, 3, 3, 1, 2, 4, 1]</td>\n",
              "    </tr>\n",
              "  </tbody>\n",
              "</table>\n",
              "</div>"
            ],
            "text/plain": [
              "   Unnamed: 0     file_name  ... authors            paragraph_authors\n",
              "0           0  problem-1899  ...       4  [1, 1, 2, 3, 1, 4, 3, 3, 1]\n",
              "1           1  problem-1906  ...       3                 [1, 2, 2, 3]\n",
              "2           2  problem-1903  ...       3        [1, 2, 3, 1, 3, 3, 3]\n",
              "3           3  problem-1900  ...       4           [1, 2, 1, 3, 4, 2]\n",
              "4           4  problem-1904  ...       4  [1, 1, 2, 3, 3, 1, 2, 4, 1]\n",
              "\n",
              "[5 rows x 7 columns]"
            ]
          },
          "metadata": {},
          "execution_count": 12
        }
      ]
    },
    {
      "cell_type": "code",
      "metadata": {
        "id": "Mj1sf7VFMBJX"
      },
      "source": [
        "df_valid = df_valid.drop([\"Unnamed: 0\",\"file_name\", \"changes\", \"label\", \"paragraph_authors\"], axis=\"columns\")"
      ],
      "execution_count": 13,
      "outputs": []
    },
    {
      "cell_type": "code",
      "metadata": {
        "colab": {
          "base_uri": "https://localhost:8080/"
        },
        "id": "NsH17aHpjVrv",
        "outputId": "b601b1a6-30d8-40c1-9e3a-6e1bffa990b3"
      },
      "source": [
        "df_train = df.iloc[:, : ]\n",
        "df_test = df_valid.iloc[:, : ]\n",
        "print(len(df_train))\n",
        "print(len(df_test))"
      ],
      "execution_count": 14,
      "outputs": [
        {
          "output_type": "stream",
          "name": "stdout",
          "text": [
            "11197\n",
            "2400\n"
          ]
        }
      ]
    },
    {
      "cell_type": "code",
      "metadata": {
        "colab": {
          "base_uri": "https://localhost:8080/",
          "height": 664
        },
        "id": "t68ySKq0f0eo",
        "outputId": "a0b9051d-2ce3-4312-eee8-71670506583e"
      },
      "source": [
        "y_train = df_train['authors']\n",
        "df_train.drop(['authors'], axis=1, inplace= True)\n",
        "df_train.head(20)"
      ],
      "execution_count": 17,
      "outputs": [
        {
          "output_type": "execute_result",
          "data": {
            "text/html": [
              "<div>\n",
              "<style scoped>\n",
              "    .dataframe tbody tr th:only-of-type {\n",
              "        vertical-align: middle;\n",
              "    }\n",
              "\n",
              "    .dataframe tbody tr th {\n",
              "        vertical-align: top;\n",
              "    }\n",
              "\n",
              "    .dataframe thead th {\n",
              "        text-align: right;\n",
              "    }\n",
              "</style>\n",
              "<table border=\"1\" class=\"dataframe\">\n",
              "  <thead>\n",
              "    <tr style=\"text-align: right;\">\n",
              "      <th></th>\n",
              "      <th>emb</th>\n",
              "    </tr>\n",
              "  </thead>\n",
              "  <tbody>\n",
              "    <tr>\n",
              "      <th>0</th>\n",
              "      <td>[-0.06933309137821198, 0.08886080235242844, -0...</td>\n",
              "    </tr>\n",
              "    <tr>\n",
              "      <th>1</th>\n",
              "      <td>[-0.059775013476610184, 0.08716754615306854, -...</td>\n",
              "    </tr>\n",
              "    <tr>\n",
              "      <th>2</th>\n",
              "      <td>[-0.05192521959543228, 0.0976557806134224, -0....</td>\n",
              "    </tr>\n",
              "    <tr>\n",
              "      <th>3</th>\n",
              "      <td>[-0.058702100068330765, 0.08107157796621323, -...</td>\n",
              "    </tr>\n",
              "    <tr>\n",
              "      <th>4</th>\n",
              "      <td>[-0.06454212963581085, 0.08104275166988373, -0...</td>\n",
              "    </tr>\n",
              "    <tr>\n",
              "      <th>5</th>\n",
              "      <td>[-0.07626723498106003, 0.07279245555400848, -0...</td>\n",
              "    </tr>\n",
              "    <tr>\n",
              "      <th>6</th>\n",
              "      <td>[-0.04915666580200195, 0.07974720746278763, -0...</td>\n",
              "    </tr>\n",
              "    <tr>\n",
              "      <th>7</th>\n",
              "      <td>[-0.04666608199477196, 0.08518311381340027, -0...</td>\n",
              "    </tr>\n",
              "    <tr>\n",
              "      <th>8</th>\n",
              "      <td>[-0.05412495136260986, 0.07708549499511719, -0...</td>\n",
              "    </tr>\n",
              "    <tr>\n",
              "      <th>9</th>\n",
              "      <td>[-0.06253185123205185, 0.08380239456892014, -0...</td>\n",
              "    </tr>\n",
              "    <tr>\n",
              "      <th>10</th>\n",
              "      <td>[-0.06737938523292542, 0.09521542489528656, -0...</td>\n",
              "    </tr>\n",
              "    <tr>\n",
              "      <th>11</th>\n",
              "      <td>[-0.054744042456150055, 0.09434903413057327, -...</td>\n",
              "    </tr>\n",
              "    <tr>\n",
              "      <th>12</th>\n",
              "      <td>[-0.0621710866689682, 0.07750372588634491, -0....</td>\n",
              "    </tr>\n",
              "    <tr>\n",
              "      <th>13</th>\n",
              "      <td>[-0.0712386965751648, 0.08703964203596115, -0....</td>\n",
              "    </tr>\n",
              "    <tr>\n",
              "      <th>14</th>\n",
              "      <td>[-0.05014123022556305, 0.08812782913446426, -0...</td>\n",
              "    </tr>\n",
              "    <tr>\n",
              "      <th>15</th>\n",
              "      <td>[-0.060892410576343536, 0.08320694416761398, -...</td>\n",
              "    </tr>\n",
              "    <tr>\n",
              "      <th>16</th>\n",
              "      <td>[-0.060153890401124954, 0.06622373312711716, -...</td>\n",
              "    </tr>\n",
              "    <tr>\n",
              "      <th>17</th>\n",
              "      <td>[-0.0614175908267498, 0.08265221863985062, -0....</td>\n",
              "    </tr>\n",
              "    <tr>\n",
              "      <th>18</th>\n",
              "      <td>[-0.054029639810323715, 0.07969633489847183, -...</td>\n",
              "    </tr>\n",
              "    <tr>\n",
              "      <th>19</th>\n",
              "      <td>[-0.050184156745672226, 0.0894581526517868, -0...</td>\n",
              "    </tr>\n",
              "  </tbody>\n",
              "</table>\n",
              "</div>"
            ],
            "text/plain": [
              "                                                  emb\n",
              "0   [-0.06933309137821198, 0.08886080235242844, -0...\n",
              "1   [-0.059775013476610184, 0.08716754615306854, -...\n",
              "2   [-0.05192521959543228, 0.0976557806134224, -0....\n",
              "3   [-0.058702100068330765, 0.08107157796621323, -...\n",
              "4   [-0.06454212963581085, 0.08104275166988373, -0...\n",
              "5   [-0.07626723498106003, 0.07279245555400848, -0...\n",
              "6   [-0.04915666580200195, 0.07974720746278763, -0...\n",
              "7   [-0.04666608199477196, 0.08518311381340027, -0...\n",
              "8   [-0.05412495136260986, 0.07708549499511719, -0...\n",
              "9   [-0.06253185123205185, 0.08380239456892014, -0...\n",
              "10  [-0.06737938523292542, 0.09521542489528656, -0...\n",
              "11  [-0.054744042456150055, 0.09434903413057327, -...\n",
              "12  [-0.0621710866689682, 0.07750372588634491, -0....\n",
              "13  [-0.0712386965751648, 0.08703964203596115, -0....\n",
              "14  [-0.05014123022556305, 0.08812782913446426, -0...\n",
              "15  [-0.060892410576343536, 0.08320694416761398, -...\n",
              "16  [-0.060153890401124954, 0.06622373312711716, -...\n",
              "17  [-0.0614175908267498, 0.08265221863985062, -0....\n",
              "18  [-0.054029639810323715, 0.07969633489847183, -...\n",
              "19  [-0.050184156745672226, 0.0894581526517868, -0..."
            ]
          },
          "metadata": {},
          "execution_count": 17
        }
      ]
    },
    {
      "cell_type": "code",
      "metadata": {
        "colab": {
          "base_uri": "https://localhost:8080/",
          "height": 664
        },
        "id": "c25t5BcMmOxV",
        "outputId": "ac4f9cfc-204d-4433-85d4-cab6c0e22b1d"
      },
      "source": [
        "y_test = df_test['authors']\n",
        "df_test.drop(['authors'], axis=1, inplace= True)\n",
        "df_test.head(20)"
      ],
      "execution_count": 18,
      "outputs": [
        {
          "output_type": "execute_result",
          "data": {
            "text/html": [
              "<div>\n",
              "<style scoped>\n",
              "    .dataframe tbody tr th:only-of-type {\n",
              "        vertical-align: middle;\n",
              "    }\n",
              "\n",
              "    .dataframe tbody tr th {\n",
              "        vertical-align: top;\n",
              "    }\n",
              "\n",
              "    .dataframe thead th {\n",
              "        text-align: right;\n",
              "    }\n",
              "</style>\n",
              "<table border=\"1\" class=\"dataframe\">\n",
              "  <thead>\n",
              "    <tr style=\"text-align: right;\">\n",
              "      <th></th>\n",
              "      <th>emb</th>\n",
              "    </tr>\n",
              "  </thead>\n",
              "  <tbody>\n",
              "    <tr>\n",
              "      <th>0</th>\n",
              "      <td>[-0.06812208890914917, 0.08334814757108688, -0...</td>\n",
              "    </tr>\n",
              "    <tr>\n",
              "      <th>1</th>\n",
              "      <td>[-0.07429127395153046, 0.07846497744321823, -0...</td>\n",
              "    </tr>\n",
              "    <tr>\n",
              "      <th>2</th>\n",
              "      <td>[-0.06153155490756035, 0.07799900323152542, -0...</td>\n",
              "    </tr>\n",
              "    <tr>\n",
              "      <th>3</th>\n",
              "      <td>[-0.059520427137613297, 0.08365883678197861, -...</td>\n",
              "    </tr>\n",
              "    <tr>\n",
              "      <th>4</th>\n",
              "      <td>[-0.05482497438788414, 0.09679285436868668, -0...</td>\n",
              "    </tr>\n",
              "    <tr>\n",
              "      <th>5</th>\n",
              "      <td>[-0.04895215108990669, 0.09911777079105377, -0...</td>\n",
              "    </tr>\n",
              "    <tr>\n",
              "      <th>6</th>\n",
              "      <td>[-0.06733780354261398, 0.09219272434711456, -0...</td>\n",
              "    </tr>\n",
              "    <tr>\n",
              "      <th>7</th>\n",
              "      <td>[-0.06058989837765694, 0.08327583968639374, -0...</td>\n",
              "    </tr>\n",
              "    <tr>\n",
              "      <th>8</th>\n",
              "      <td>[-0.06618160009384155, 0.09293551743030548, -0...</td>\n",
              "    </tr>\n",
              "    <tr>\n",
              "      <th>9</th>\n",
              "      <td>[-0.05665931850671768, 0.08093248307704926, -0...</td>\n",
              "    </tr>\n",
              "    <tr>\n",
              "      <th>10</th>\n",
              "      <td>[-0.06277534365653992, 0.08326636254787445, -0...</td>\n",
              "    </tr>\n",
              "    <tr>\n",
              "      <th>11</th>\n",
              "      <td>[-0.050291579216718674, 0.10915865749120712, -...</td>\n",
              "    </tr>\n",
              "    <tr>\n",
              "      <th>12</th>\n",
              "      <td>[-0.059964247047901154, 0.0890049859881401, -0...</td>\n",
              "    </tr>\n",
              "    <tr>\n",
              "      <th>13</th>\n",
              "      <td>[-0.06434916704893112, 0.0804954394698143, -0....</td>\n",
              "    </tr>\n",
              "    <tr>\n",
              "      <th>14</th>\n",
              "      <td>[-0.06274638324975967, 0.08011189848184586, -0...</td>\n",
              "    </tr>\n",
              "    <tr>\n",
              "      <th>15</th>\n",
              "      <td>[-0.05251024663448334, 0.09349905699491501, -0...</td>\n",
              "    </tr>\n",
              "    <tr>\n",
              "      <th>16</th>\n",
              "      <td>[-0.059399135410785675, 0.0766969844698906, -0...</td>\n",
              "    </tr>\n",
              "    <tr>\n",
              "      <th>17</th>\n",
              "      <td>[-0.054258354008197784, 0.08205876499414444, -...</td>\n",
              "    </tr>\n",
              "    <tr>\n",
              "      <th>18</th>\n",
              "      <td>[-0.07132887840270996, 0.08970341831445694, -0...</td>\n",
              "    </tr>\n",
              "    <tr>\n",
              "      <th>19</th>\n",
              "      <td>[-0.06166800856590271, 0.07919818162918091, -0...</td>\n",
              "    </tr>\n",
              "  </tbody>\n",
              "</table>\n",
              "</div>"
            ],
            "text/plain": [
              "                                                  emb\n",
              "0   [-0.06812208890914917, 0.08334814757108688, -0...\n",
              "1   [-0.07429127395153046, 0.07846497744321823, -0...\n",
              "2   [-0.06153155490756035, 0.07799900323152542, -0...\n",
              "3   [-0.059520427137613297, 0.08365883678197861, -...\n",
              "4   [-0.05482497438788414, 0.09679285436868668, -0...\n",
              "5   [-0.04895215108990669, 0.09911777079105377, -0...\n",
              "6   [-0.06733780354261398, 0.09219272434711456, -0...\n",
              "7   [-0.06058989837765694, 0.08327583968639374, -0...\n",
              "8   [-0.06618160009384155, 0.09293551743030548, -0...\n",
              "9   [-0.05665931850671768, 0.08093248307704926, -0...\n",
              "10  [-0.06277534365653992, 0.08326636254787445, -0...\n",
              "11  [-0.050291579216718674, 0.10915865749120712, -...\n",
              "12  [-0.059964247047901154, 0.0890049859881401, -0...\n",
              "13  [-0.06434916704893112, 0.0804954394698143, -0....\n",
              "14  [-0.06274638324975967, 0.08011189848184586, -0...\n",
              "15  [-0.05251024663448334, 0.09349905699491501, -0...\n",
              "16  [-0.059399135410785675, 0.0766969844698906, -0...\n",
              "17  [-0.054258354008197784, 0.08205876499414444, -...\n",
              "18  [-0.07132887840270996, 0.08970341831445694, -0...\n",
              "19  [-0.06166800856590271, 0.07919818162918091, -0..."
            ]
          },
          "metadata": {},
          "execution_count": 18
        }
      ]
    },
    {
      "cell_type": "code",
      "metadata": {
        "id": "LLNTbTCtr77S"
      },
      "source": [
        "xtrain = df_train.values.tolist()\n",
        "X_test = df_test.values.tolist()"
      ],
      "execution_count": 19,
      "outputs": []
    },
    {
      "cell_type": "code",
      "metadata": {
        "id": "8TpCbwr3rHse"
      },
      "source": [
        "xtrain = [eval(xtrain[i][0]) for i in range(0, len(xtrain))]\n",
        "X_test = [eval(X_test[i][0]) for i in range(0, len(X_test))]"
      ],
      "execution_count": 20,
      "outputs": []
    },
    {
      "cell_type": "code",
      "metadata": {
        "id": "Aw1ESkBDsbQc"
      },
      "source": [
        "xtrain = np.asarray(xtrain)"
      ],
      "execution_count": 21,
      "outputs": []
    },
    {
      "cell_type": "code",
      "metadata": {
        "id": "TuQ5Z5KJs9h2"
      },
      "source": [
        "X_test = np.asarray(X_test)"
      ],
      "execution_count": 22,
      "outputs": []
    },
    {
      "cell_type": "code",
      "metadata": {
        "id": "DVHzcGxZtm0w"
      },
      "source": [
        "import seaborn as sns\n",
        "from sklearn.metrics import confusion_matrix\n",
        "from sklearn.metrics import classification_report\n",
        "import warnings\n",
        "warnings.simplefilter(action='ignore', category=FutureWarning)"
      ],
      "execution_count": 23,
      "outputs": []
    },
    {
      "cell_type": "code",
      "metadata": {
        "id": "J16D3aMzS3PW"
      },
      "source": [
        "def print_confusion_matrix(preds, labels, names):\n",
        "  print(classification_report(labels, preds))\n",
        "\n",
        "  # Mатрица на конфузија \n",
        "  names = names\n",
        "  confusion = confusion_matrix(labels, preds)\n",
        "  confusion = 100 * confusion.astype('float') / confusion.sum(axis=-1)[:, np.newaxis]\n",
        "  df_1 = pd.DataFrame(data=confusion, columns=names, index=names)\n",
        "  image = sns.heatmap(df_1, annot=True, fmt=\".1f\", vmin=0, vmax=100,cmap='Greens')\n",
        "  image.set_title('Confusion matrix')\n",
        "  image.set_ylabel('True label')\n",
        "  image.set_xlabel('Predicted label')\n",
        "  image.plot()"
      ],
      "execution_count": 24,
      "outputs": []
    },
    {
      "cell_type": "code",
      "metadata": {
        "id": "Kz-X5T8E8N5X"
      },
      "source": [
        "ytrain = y_train"
      ],
      "execution_count": 25,
      "outputs": []
    },
    {
      "cell_type": "code",
      "metadata": {
        "colab": {
          "base_uri": "https://localhost:8080/"
        },
        "id": "6xeduEz3t9kI",
        "outputId": "e1d6d364-4494-47f2-cd9c-046768bd8501"
      },
      "source": [
        "from sklearn.tree import DecisionTreeClassifier\n",
        "from sklearn.naive_bayes import GaussianNB\n",
        "from sklearn.ensemble import RandomForestClassifier\n",
        "\n",
        "dtc = DecisionTreeClassifier()\n",
        "nbc = GaussianNB()\n",
        "rfc = RandomForestClassifier()\n",
        "\n",
        "dtc.fit(xtrain, ytrain)\n",
        "nbc.fit(xtrain, ytrain)\n",
        "rfc.fit(xtrain, ytrain)"
      ],
      "execution_count": 26,
      "outputs": [
        {
          "output_type": "execute_result",
          "data": {
            "text/plain": [
              "RandomForestClassifier(bootstrap=True, ccp_alpha=0.0, class_weight=None,\n",
              "                       criterion='gini', max_depth=None, max_features='auto',\n",
              "                       max_leaf_nodes=None, max_samples=None,\n",
              "                       min_impurity_decrease=0.0, min_impurity_split=None,\n",
              "                       min_samples_leaf=1, min_samples_split=2,\n",
              "                       min_weight_fraction_leaf=0.0, n_estimators=100,\n",
              "                       n_jobs=None, oob_score=False, random_state=None,\n",
              "                       verbose=0, warm_start=False)"
            ]
          },
          "metadata": {},
          "execution_count": 26
        }
      ]
    },
    {
      "cell_type": "code",
      "metadata": {
        "id": "ZTaLbY3JuGQy"
      },
      "source": [
        "test_tree_predict = dtc.predict(X_test)\n",
        "test_naive_predict = nbc.predict(X_test)\n",
        "test_random_forest_predict = rfc.predict(X_test)"
      ],
      "execution_count": 27,
      "outputs": []
    },
    {
      "cell_type": "code",
      "metadata": {
        "colab": {
          "base_uri": "https://localhost:8080/",
          "height": 480
        },
        "id": "W4ayJJJ5TSe2",
        "outputId": "e686dd0d-3691-4bdf-a737-b3095265dba5"
      },
      "source": [
        "print_confusion_matrix(test_tree_predict,y_test, [\"1\", \"2\", \"3\", \"4\"])"
      ],
      "execution_count": 29,
      "outputs": [
        {
          "output_type": "stream",
          "name": "stdout",
          "text": [
            "              precision    recall  f1-score   support\n",
            "\n",
            "           1       0.37      0.35      0.36       600\n",
            "           2       0.27      0.28      0.27       600\n",
            "           3       0.25      0.25      0.25       600\n",
            "           4       0.31      0.33      0.32       600\n",
            "\n",
            "    accuracy                           0.30      2400\n",
            "   macro avg       0.30      0.30      0.30      2400\n",
            "weighted avg       0.30      0.30      0.30      2400\n",
            "\n"
          ]
        },
        {
          "output_type": "display_data",
          "data": {
            "image/png": "[encoded data removed]",
            "text/plain": [
              "<Figure size 432x288 with 2 Axes>"
            ]
          },
          "metadata": {
            "needs_background": "light"
          }
        }
      ]
    },
    {
      "cell_type": "code",
      "metadata": {
        "colab": {
          "base_uri": "https://localhost:8080/",
          "height": 480
        },
        "id": "_M62vF_dTWrb",
        "outputId": "5e4cbe45-3dd0-4d14-fc02-fc85d1538dc5"
      },
      "source": [
        "print_confusion_matrix(test_naive_predict, y_test, [\"1\", \"2\", \"3\", \"4\"])"
      ],
      "execution_count": 30,
      "outputs": [
        {
          "output_type": "stream",
          "name": "stdout",
          "text": [
            "              precision    recall  f1-score   support\n",
            "\n",
            "           1       0.43      0.45      0.44       600\n",
            "           2       0.33      0.22      0.26       600\n",
            "           3       0.32      0.14      0.20       600\n",
            "           4       0.36      0.67      0.46       600\n",
            "\n",
            "    accuracy                           0.37      2400\n",
            "   macro avg       0.36      0.37      0.34      2400\n",
            "weighted avg       0.36      0.37      0.34      2400\n",
            "\n"
          ]
        },
        {
          "output_type": "display_data",
          "data": {
            "image/png": "[encoded data removed]",
            "text/plain": [
              "<Figure size 432x288 with 2 Axes>"
            ]
          },
          "metadata": {
            "needs_background": "light"
          }
        }
      ]
    },
    {
      "cell_type": "code",
      "metadata": {
        "colab": {
          "base_uri": "https://localhost:8080/",
          "height": 480
        },
        "id": "BlhMD1ahTXAc",
        "outputId": "d03f3c55-641d-4cb6-c7ba-2b159b5ae5b9"
      },
      "source": [
        "print_confusion_matrix(test_random_forest_predict,y_test, [\"1\", \"2\", \"3\", \"4\"])"
      ],
      "execution_count": 31,
      "outputs": [
        {
          "output_type": "stream",
          "name": "stdout",
          "text": [
            "              precision    recall  f1-score   support\n",
            "\n",
            "           1       0.48      0.55      0.52       600\n",
            "           2       0.31      0.26      0.28       600\n",
            "           3       0.31      0.26      0.28       600\n",
            "           4       0.41      0.49      0.45       600\n",
            "\n",
            "    accuracy                           0.39      2400\n",
            "   macro avg       0.38      0.39      0.38      2400\n",
            "weighted avg       0.38      0.39      0.38      2400\n",
            "\n"
          ]
        },
        {
          "output_type": "display_data",
          "data": {
            "image/png": "[encoded data removed]",
            "text/plain": [
              "<Figure size 432x288 with 2 Axes>"
            ]
          },
          "metadata": {
            "needs_background": "light"
          }
        }
      ]
    },
    {
      "cell_type": "code",
      "metadata": {
        "colab": {
          "base_uri": "https://localhost:8080/"
        },
        "id": "tADymSdZtQ2E",
        "outputId": "84352932-ccaf-4ae8-884a-3cfa74f62b88"
      },
      "source": [
        "from sklearn.model_selection import StratifiedKFold, RandomizedSearchCV\n",
        "from sklearn.metrics import accuracy_score\n",
        "\n",
        "\n",
        "parameters_rf = {\n",
        "          \"criterion\":['gini','entropy'],\n",
        "          \"max_depth\": [3,5,None],\n",
        "          \"max_features\": [None, \"auto\"],\n",
        "          \"min_samples_leaf\": [1, 5],\n",
        "          \"min_samples_split\": [2, 5],\n",
        "          'bootstrap': [False, True],\n",
        "          'max_samples': [0.5, 1],\n",
        "          'n_estimators': [2, 5, 100],\n",
        "          \"oob_score\":[False, True],\n",
        "           \"random_state\":[None,2]\n",
        "         }\n",
        "\n",
        "\n",
        "gs_rf = RandomizedSearchCV(rfc, parameters_rf, scoring='accuracy', n_jobs=3)\n",
        "gs_rf.fit(xtrain, ytrain)"
      ],
      "execution_count": 33,
      "outputs": [
        {
          "output_type": "execute_result",
          "data": {
            "text/plain": [
              "RandomizedSearchCV(cv=None, error_score=nan,\n",
              "                   estimator=RandomForestClassifier(bootstrap=True,\n",
              "                                                    ccp_alpha=0.0,\n",
              "                                                    class_weight=None,\n",
              "                                                    criterion='gini',\n",
              "                                                    max_depth=None,\n",
              "                                                    max_features='auto',\n",
              "                                                    max_leaf_nodes=None,\n",
              "                                                    max_samples=None,\n",
              "                                                    min_impurity_decrease=0.0,\n",
              "                                                    min_impurity_split=None,\n",
              "                                                    min_samples_leaf=1,\n",
              "                                                    min_samples_split=2,\n",
              "                                                    min_weight_fraction_leaf=0.0,\n",
              "                                                    n_estimators=100,\n",
              "                                                    n_j...\n",
              "                   param_distributions={'bootstrap': [False, True],\n",
              "                                        'criterion': ['gini', 'entropy'],\n",
              "                                        'max_depth': [3, 5, None],\n",
              "                                        'max_features': [None, 'auto'],\n",
              "                                        'max_samples': [0.5, 1],\n",
              "                                        'min_samples_leaf': [1, 5],\n",
              "                                        'min_samples_split': [2, 5],\n",
              "                                        'n_estimators': [2, 5, 100],\n",
              "                                        'oob_score': [False, True],\n",
              "                                        'random_state': [None, 2]},\n",
              "                   pre_dispatch='2*n_jobs', random_state=None, refit=True,\n",
              "                   return_train_score=False, scoring='accuracy', verbose=0)"
            ]
          },
          "metadata": {},
          "execution_count": 33
        }
      ]
    },
    {
      "cell_type": "code",
      "metadata": {
        "colab": {
          "base_uri": "https://localhost:8080/"
        },
        "id": "OqBbTdtm8XKA",
        "outputId": "21ce4e93-b5d8-4594-ac0d-5e8f33c8a6a9"
      },
      "source": [
        "print(\"Best score: %0.3f\" % gs_rf.best_score_) \n",
        "print(\"Best parameters set:\" )\n",
        "best_parameters_rf = gs_rf.best_estimator_.get_params()\n",
        "for param_name_rf in sorted (parameters_rf . keys()): \n",
        "                    print(\"\\t %s: %r\" % (param_name_rf, best_parameters_rf[param_name_rf]))\n",
        "        \n",
        "y_pred = gs_rf.predict(X_test)"
      ],
      "execution_count": 65,
      "outputs": [
        {
          "output_type": "stream",
          "name": "stdout",
          "text": [
            "Best score: 0.377\n",
            "Best parameters set:\n",
            "\t bootstrap: True\n",
            "\t criterion: 'entropy'\n",
            "\t max_depth: 5\n",
            "\t max_features: None\n",
            "\t max_samples: 0.5\n",
            "\t min_samples_leaf: 1\n",
            "\t min_samples_split: 5\n",
            "\t n_estimators: 100\n",
            "\t oob_score: False\n",
            "\t random_state: None\n"
          ]
        }
      ]
    },
    {
      "cell_type": "code",
      "metadata": {
        "colab": {
          "base_uri": "https://localhost:8080/",
          "height": 496
        },
        "id": "AV0CE8-OG1vS",
        "outputId": "88b5832a-2130-4997-9e75-08ac545fa081"
      },
      "source": [
        "print(\"accuracy: \",accuracy_score(y_test, y_pred))\n",
        "print_confusion_matrix( y_pred,y_test, [\"1\", \"2\", \"3\", \"4\"])"
      ],
      "execution_count": 66,
      "outputs": [
        {
          "output_type": "stream",
          "name": "stdout",
          "text": [
            "accuracy:  0.3754166666666667\n",
            "              precision    recall  f1-score   support\n",
            "\n",
            "           1       0.42      0.59      0.49       600\n",
            "           2       0.33      0.17      0.23       600\n",
            "           3       0.35      0.07      0.12       600\n",
            "           4       0.36      0.67      0.46       600\n",
            "\n",
            "    accuracy                           0.38      2400\n",
            "   macro avg       0.36      0.38      0.33      2400\n",
            "weighted avg       0.36      0.38      0.33      2400\n",
            "\n"
          ]
        },
        {
          "output_type": "display_data",
          "data": {
            "image/png": "[encoded data removed]",
            "text/plain": [
              "<Figure size 432x288 with 2 Axes>"
            ]
          },
          "metadata": {
            "needs_background": "light"
          }
        }
      ]
    },
    {
      "cell_type": "code",
      "metadata": {
        "id": "9jCuGZAEvaBg"
      },
      "source": [
        "X_train_norm = xtrain\n",
        "X_test_norm = X_test"
      ],
      "execution_count": 36,
      "outputs": []
    },
    {
      "cell_type": "code",
      "metadata": {
        "colab": {
          "base_uri": "https://localhost:8080/"
        },
        "id": "SHCXU5iLHJSW",
        "outputId": "d59a8510-d49c-4928-f9bb-e1b469689f2e"
      },
      "source": [
        "!pip install catboost"
      ],
      "execution_count": 37,
      "outputs": [
        {
          "output_type": "stream",
          "name": "stdout",
          "text": [
            "Collecting catboost\n",
            "  Downloading catboost-0.26.1-cp37-none-manylinux1_x86_64.whl (67.4 MB)\n",
            "\u001b[K     |████████████████████████████████| 67.4 MB 27 kB/s \n",
            "\u001b[?25hRequirement already satisfied: six in /usr/local/lib/python3.7/dist-packages (from catboost) (1.15.0)\n",
            "Requirement already satisfied: pandas>=0.24.0 in /usr/local/lib/python3.7/dist-packages (from catboost) (1.1.5)\n",
            "Requirement already satisfied: plotly in /usr/local/lib/python3.7/dist-packages (from catboost) (4.4.1)\n",
            "Requirement already satisfied: graphviz in /usr/local/lib/python3.7/dist-packages (from catboost) (0.10.1)\n",
            "Requirement already satisfied: numpy>=1.16.0 in /usr/local/lib/python3.7/dist-packages (from catboost) (1.19.5)\n",
            "Requirement already satisfied: scipy in /usr/local/lib/python3.7/dist-packages (from catboost) (1.4.1)\n",
            "Requirement already satisfied: matplotlib in /usr/local/lib/python3.7/dist-packages (from catboost) (3.2.2)\n",
            "Requirement already satisfied: python-dateutil>=2.7.3 in /usr/local/lib/python3.7/dist-packages (from pandas>=0.24.0->catboost) (2.8.2)\n",
            "Requirement already satisfied: pytz>=2017.2 in /usr/local/lib/python3.7/dist-packages (from pandas>=0.24.0->catboost) (2018.9)\n",
            "Requirement already satisfied: cycler>=0.10 in /usr/local/lib/python3.7/dist-packages (from matplotlib->catboost) (0.10.0)\n",
            "Requirement already satisfied: pyparsing!=2.0.4,!=2.1.2,!=2.1.6,>=2.0.1 in /usr/local/lib/python3.7/dist-packages (from matplotlib->catboost) (2.4.7)\n",
            "Requirement already satisfied: kiwisolver>=1.0.1 in /usr/local/lib/python3.7/dist-packages (from matplotlib->catboost) (1.3.1)\n",
            "Requirement already satisfied: retrying>=1.3.3 in /usr/local/lib/python3.7/dist-packages (from plotly->catboost) (1.3.3)\n",
            "Installing collected packages: catboost\n",
            "Successfully installed catboost-0.26.1\n"
          ]
        }
      ]
    },
    {
      "cell_type": "code",
      "metadata": {
        "id": "4yEJP7H1HHqQ"
      },
      "source": [
        "from catboost import Pool, cv, CatBoostClassifier, CatBoostRegressor"
      ],
      "execution_count": 38,
      "outputs": []
    },
    {
      "cell_type": "code",
      "metadata": {
        "id": "yOpNC5EIG2sE"
      },
      "source": [
        "train_pool = Pool(data=xtrain,label = ytrain)"
      ],
      "execution_count": 39,
      "outputs": []
    },
    {
      "cell_type": "code",
      "metadata": {
        "id": "rZyM7CCCbKdj"
      },
      "source": [
        "import sklearn.metrics as metrics"
      ],
      "execution_count": 40,
      "outputs": []
    },
    {
      "cell_type": "code",
      "metadata": {
        "colab": {
          "base_uri": "https://localhost:8080/",
          "height": 33,
          "referenced_widgets": [
            "d8799a5988fa410684ce81e63a7190c3"
          ]
        },
        "id": "Ozg2jw8LG-_h",
        "outputId": "9c6171dc-992b-4837-c529-ab6341380377"
      },
      "source": [
        "model_basic = CatBoostClassifier()\n",
        "model_basic.fit(train_pool, plot=True,silent=True)\n",
        "print(model_basic.get_best_score())\n",
        "\n",
        "predicted_values = model_basic.predict(X_test)"
      ],
      "execution_count": 41,
      "outputs": [
        {
          "output_type": "display_data",
          "data": {
            "application/vnd.jupyter.widget-view+json": {
              "model_id": "d8799a5988fa410684ce81e63a7190c3",
              "version_minor": 0,
              "version_major": 2
            },
            "text/plain": [
              "MetricVisualizer(layout=Layout(align_self='stretch', height='500px'))"
            ]
          },
          "metadata": {}
        },
        {
          "output_type": "stream",
          "name": "stdout",
          "text": [
            "{'learn': {'MultiClass': 0.43300333889936643}}\n"
          ]
        }
      ]
    },
    {
      "cell_type": "code",
      "metadata": {
        "colab": {
          "base_uri": "https://localhost:8080/",
          "height": 496
        },
        "id": "T0wyhJbKPmP2",
        "outputId": "9bc4e8b7-d889-4fc3-93c5-1b6e9443d79a"
      },
      "source": [
        "print_confusion_matrix(predicted_values, y_test, [\"1\", \"2\", \"3\", \"4\"])\n",
        "print(\"Accuracy:\", metrics.accuracy_score(y_test, predicted_values))"
      ],
      "execution_count": 42,
      "outputs": [
        {
          "output_type": "stream",
          "name": "stdout",
          "text": [
            "              precision    recall  f1-score   support\n",
            "\n",
            "           1       0.52      0.59      0.55       600\n",
            "           2       0.36      0.31      0.33       600\n",
            "           3       0.35      0.28      0.31       600\n",
            "           4       0.42      0.52      0.46       600\n",
            "\n",
            "    accuracy                           0.42      2400\n",
            "   macro avg       0.41      0.42      0.41      2400\n",
            "weighted avg       0.41      0.42      0.41      2400\n",
            "\n",
            "Accuracy: 0.4225\n"
          ]
        },
        {
          "output_type": "display_data",
          "data": {
            "image/png": "[encoded data removed]",
            "text/plain": [
              "<Figure size 432x288 with 2 Axes>"
            ]
          },
          "metadata": {
            "needs_background": "light"
          }
        }
      ]
    },
    {
      "cell_type": "code",
      "metadata": {
        "id": "4yciljC9FaTN"
      },
      "source": [
        "from sklearn.preprocessing import MinMaxScaler\n",
        "from sklearn.ensemble import GradientBoostingClassifier"
      ],
      "execution_count": 43,
      "outputs": []
    },
    {
      "cell_type": "code",
      "metadata": {
        "id": "5gah2kuBK2qu"
      },
      "source": [
        "import matplotlib.pyplot as plt"
      ],
      "execution_count": 45,
      "outputs": []
    },
    {
      "cell_type": "code",
      "metadata": {
        "colab": {
          "base_uri": "https://localhost:8080/",
          "height": 1000
        },
        "id": "0CFGIyWv4ks6",
        "outputId": "e4e8dfe9-d9d0-474a-a719-d8be904e8bf1"
      },
      "source": [
        "lr_list = [ 0.5, 0.75, 1, 1.1, 1.2, 1.3, 1.4, 1.5, 2, 3, 4, 5, 6.3, 7.7, 10, 20, 30, 45, 55, 62, 77, 84, 90]\n",
        "\n",
        "for learning_rate in lr_list:\n",
        "    gb_clf = GradientBoostingClassifier(n_estimators=100, learning_rate=learning_rate, max_features=2, max_depth=4, random_state=0)\n",
        "    gb_clf.fit(xtrain, ytrain)\n",
        "    predicted_values = gb_clf.predict(X_test)\n",
        "\n",
        "    print(\"Learning rate: \", learning_rate)\n",
        "    print_confusion_matrix(predicted_values, y_test, [\"1\", \"2\", \"3\", \"4\"])\n",
        "    plt.show()"
      ],
      "execution_count": 46,
      "outputs": [
        {
          "output_type": "stream",
          "name": "stdout",
          "text": [
            "Learning rate:  0.5\n",
            "              precision    recall  f1-score   support\n",
            "\n",
            "           1       0.49      0.49      0.49       600\n",
            "           2       0.31      0.28      0.29       600\n",
            "           3       0.33      0.33      0.33       600\n",
            "           4       0.41      0.45      0.43       600\n",
            "\n",
            "    accuracy                           0.39      2400\n",
            "   macro avg       0.38      0.39      0.39      2400\n",
            "weighted avg       0.38      0.39      0.39      2400\n",
            "\n"
          ]
        },
        {
          "output_type": "display_data",
          "data": {
            "image/png": "[encoded data removed]",
            "text/plain": [
              "<Figure size 432x288 with 2 Axes>"
            ]
          },
          "metadata": {
            "needs_background": "light"
          }
        },
        {
          "output_type": "stream",
          "name": "stdout",
          "text": [
            "Learning rate:  0.75\n",
            "              precision    recall  f1-score   support\n",
            "\n",
            "           1       0.46      0.47      0.47       600\n",
            "           2       0.32      0.31      0.31       600\n",
            "           3       0.32      0.29      0.30       600\n",
            "           4       0.43      0.46      0.44       600\n",
            "\n",
            "    accuracy                           0.38      2400\n",
            "   macro avg       0.38      0.38      0.38      2400\n",
            "weighted avg       0.38      0.38      0.38      2400\n",
            "\n"
          ]
        },
        {
          "output_type": "display_data",
          "data": {
            "image/png": "[encoded data removed]",
            "text/plain": [
              "<Figure size 432x288 with 2 Axes>"
            ]
          },
          "metadata": {
            "needs_background": "light"
          }
        },
        {
          "output_type": "stream",
          "name": "stdout",
          "text": [
            "Learning rate:  1\n",
            "              precision    recall  f1-score   support\n",
            "\n",
            "           1       0.46      0.47      0.47       600\n",
            "           2       0.32      0.31      0.32       600\n",
            "           3       0.30      0.29      0.30       600\n",
            "           4       0.39      0.41      0.40       600\n",
            "\n",
            "    accuracy                           0.37      2400\n",
            "   macro avg       0.37      0.37      0.37      2400\n",
            "weighted avg       0.37      0.37      0.37      2400\n",
            "\n"
          ]
        },
        {
          "output_type": "display_data",
          "data": {
            "image/png": "[encoded data removed]",
            "text/plain": [
              "<Figure size 432x288 with 2 Axes>"
            ]
          },
          "metadata": {
            "needs_background": "light"
          }
        },
        {
          "output_type": "stream",
          "name": "stdout",
          "text": [
            "Learning rate:  1.1\n",
            "              precision    recall  f1-score   support\n",
            "\n",
            "           1       0.48      0.46      0.47       600\n",
            "           2       0.30      0.31      0.30       600\n",
            "           3       0.29      0.27      0.28       600\n",
            "           4       0.36      0.39      0.38       600\n",
            "\n",
            "    accuracy                           0.36      2400\n",
            "   macro avg       0.36      0.36      0.36      2400\n",
            "weighted avg       0.36      0.36      0.36      2400\n",
            "\n"
          ]
        },
        {
          "output_type": "display_data",
          "data": {
            "image/png": "[encoded data removed]",
            "text/plain": [
              "<Figure size 432x288 with 2 Axes>"
            ]
          },
          "metadata": {
            "needs_background": "light"
          }
        },
        {
          "output_type": "stream",
          "name": "stdout",
          "text": [
            "Learning rate:  1.2\n",
            "              precision    recall  f1-score   support\n",
            "\n",
            "           1       0.45      0.43      0.44       600\n",
            "           2       0.28      0.24      0.26       600\n",
            "           3       0.27      0.28      0.28       600\n",
            "           4       0.38      0.43      0.40       600\n",
            "\n",
            "    accuracy                           0.35      2400\n",
            "   macro avg       0.35      0.35      0.35      2400\n",
            "weighted avg       0.35      0.35      0.35      2400\n",
            "\n"
          ]
        },
        {
          "output_type": "display_data",
          "data": {
            "image/png": "[encoded data removed]",
            "text/plain": [
              "<Figure size 432x288 with 2 Axes>"
            ]
          },
          "metadata": {
            "needs_background": "light"
          }
        },
        {
          "output_type": "stream",
          "name": "stdout",
          "text": [
            "Learning rate:  1.3\n",
            "              precision    recall  f1-score   support\n",
            "\n",
            "           1       0.47      0.43      0.45       600\n",
            "           2       0.30      0.29      0.29       600\n",
            "           3       0.29      0.30      0.29       600\n",
            "           4       0.37      0.40      0.39       600\n",
            "\n",
            "    accuracy                           0.35      2400\n",
            "   macro avg       0.36      0.35      0.35      2400\n",
            "weighted avg       0.36      0.35      0.35      2400\n",
            "\n"
          ]
        },
        {
          "output_type": "display_data",
          "data": {
            "image/png": "[encoded data removed]",
            "text/plain": [
              "<Figure size 432x288 with 2 Axes>"
            ]
          },
          "metadata": {
            "needs_background": "light"
          }
        },
        {
          "output_type": "stream",
          "name": "stdout",
          "text": [
            "Learning rate:  1.4\n",
            "              precision    recall  f1-score   support\n",
            "\n",
            "           1       0.44      0.43      0.43       600\n",
            "           2       0.31      0.30      0.30       600\n",
            "           3       0.26      0.26      0.26       600\n",
            "           4       0.35      0.38      0.37       600\n",
            "\n",
            "    accuracy                           0.34      2400\n",
            "   macro avg       0.34      0.34      0.34      2400\n",
            "weighted avg       0.34      0.34      0.34      2400\n",
            "\n"
          ]
        },
        {
          "output_type": "display_data",
          "data": {
            "image/png": "[encoded data removed]",
            "text/plain": [
              "<Figure size 432x288 with 2 Axes>"
            ]
          },
          "metadata": {
            "needs_background": "light"
          }
        },
        {
          "output_type": "stream",
          "name": "stdout",
          "text": [
            "Learning rate:  1.5\n",
            "              precision    recall  f1-score   support\n",
            "\n",
            "           1       0.43      0.43      0.43       600\n",
            "           2       0.29      0.28      0.28       600\n",
            "           3       0.28      0.28      0.28       600\n",
            "           4       0.36      0.37      0.36       600\n",
            "\n",
            "    accuracy                           0.34      2400\n",
            "   macro avg       0.34      0.34      0.34      2400\n",
            "weighted avg       0.34      0.34      0.34      2400\n",
            "\n"
          ]
        },
        {
          "output_type": "display_data",
          "data": {
            "image/png": "[encoded data removed]",
            "text/plain": [
              "<Figure size 432x288 with 2 Axes>"
            ]
          },
          "metadata": {
            "needs_background": "light"
          }
        },
        {
          "output_type": "stream",
          "name": "stdout",
          "text": [
            "Learning rate:  2\n",
            "              precision    recall  f1-score   support\n",
            "\n",
            "           1       1.00      0.00      0.00       600\n",
            "           2       0.24      0.16      0.19       600\n",
            "           3       0.25      0.84      0.39       600\n",
            "           4       0.00      0.00      0.00       600\n",
            "\n",
            "    accuracy                           0.25      2400\n",
            "   macro avg       0.37      0.25      0.15      2400\n",
            "weighted avg       0.37      0.25      0.15      2400\n",
            "\n"
          ]
        },
        {
          "output_type": "stream",
          "name": "stderr",
          "text": [
            "/usr/local/lib/python3.7/dist-packages/sklearn/metrics/_classification.py:1272: UndefinedMetricWarning: Precision and F-score are ill-defined and being set to 0.0 in labels with no predicted samples. Use `zero_division` parameter to control this behavior.\n",
            "  _warn_prf(average, modifier, msg_start, len(result))\n"
          ]
        },
        {
          "output_type": "display_data",
          "data": {
            "image/png": "[encoded data removed]",
            "text/plain": [
              "<Figure size 432x288 with 2 Axes>"
            ]
          },
          "metadata": {
            "needs_background": "light"
          }
        },
        {
          "output_type": "stream",
          "name": "stdout",
          "text": [
            "Learning rate:  3\n",
            "              precision    recall  f1-score   support\n",
            "\n",
            "           1       0.80      0.01      0.01       600\n",
            "           2       0.26      0.56      0.35       600\n",
            "           3       0.26      0.48      0.34       600\n",
            "           4       0.00      0.00      0.00       600\n",
            "\n",
            "    accuracy                           0.26      2400\n",
            "   macro avg       0.33      0.26      0.18      2400\n",
            "weighted avg       0.33      0.26      0.18      2400\n",
            "\n"
          ]
        },
        {
          "output_type": "stream",
          "name": "stderr",
          "text": [
            "/usr/local/lib/python3.7/dist-packages/sklearn/metrics/_classification.py:1272: UndefinedMetricWarning: Precision and F-score are ill-defined and being set to 0.0 in labels with no predicted samples. Use `zero_division` parameter to control this behavior.\n",
            "  _warn_prf(average, modifier, msg_start, len(result))\n"
          ]
        },
        {
          "output_type": "display_data",
          "data": {
            "image/png": "[encoded data removed]",
            "text/plain": [
              "<Figure size 432x288 with 2 Axes>"
            ]
          },
          "metadata": {
            "needs_background": "light"
          }
        },
        {
          "output_type": "stream",
          "name": "stdout",
          "text": [
            "Learning rate:  4\n",
            "              precision    recall  f1-score   support\n",
            "\n",
            "           1       0.37      0.13      0.19       600\n",
            "           2       0.25      0.91      0.39       600\n",
            "           3       0.00      0.00      0.00       600\n",
            "           4       0.00      0.00      0.00       600\n",
            "\n",
            "    accuracy                           0.26      2400\n",
            "   macro avg       0.16      0.26      0.15      2400\n",
            "weighted avg       0.16      0.26      0.15      2400\n",
            "\n"
          ]
        },
        {
          "output_type": "stream",
          "name": "stderr",
          "text": [
            "/usr/local/lib/python3.7/dist-packages/sklearn/metrics/_classification.py:1272: UndefinedMetricWarning: Precision and F-score are ill-defined and being set to 0.0 in labels with no predicted samples. Use `zero_division` parameter to control this behavior.\n",
            "  _warn_prf(average, modifier, msg_start, len(result))\n"
          ]
        },
        {
          "output_type": "display_data",
          "data": {
            "image/png": "[encoded data removed]",
            "text/plain": [
              "<Figure size 432x288 with 2 Axes>"
            ]
          },
          "metadata": {
            "needs_background": "light"
          }
        },
        {
          "output_type": "stream",
          "name": "stdout",
          "text": [
            "Learning rate:  5\n",
            "              precision    recall  f1-score   support\n",
            "\n",
            "           1       0.00      0.00      0.00       600\n",
            "           2       0.00      0.00      0.00       600\n",
            "           3       0.29      0.00      0.01       600\n",
            "           4       0.25      1.00      0.40       600\n",
            "\n",
            "    accuracy                           0.25      2400\n",
            "   macro avg       0.13      0.25      0.10      2400\n",
            "weighted avg       0.13      0.25      0.10      2400\n",
            "\n"
          ]
        },
        {
          "output_type": "stream",
          "name": "stderr",
          "text": [
            "/usr/local/lib/python3.7/dist-packages/sklearn/metrics/_classification.py:1272: UndefinedMetricWarning: Precision and F-score are ill-defined and being set to 0.0 in labels with no predicted samples. Use `zero_division` parameter to control this behavior.\n",
            "  _warn_prf(average, modifier, msg_start, len(result))\n"
          ]
        },
        {
          "output_type": "display_data",
          "data": {
            "image/png": "[encoded data removed]",
            "text/plain": [
              "<Figure size 432x288 with 2 Axes>"
            ]
          },
          "metadata": {
            "needs_background": "light"
          }
        },
        {
          "output_type": "stream",
          "name": "stdout",
          "text": [
            "Learning rate:  6.3\n",
            "              precision    recall  f1-score   support\n",
            "\n",
            "           1       0.15      0.00      0.01       600\n",
            "           2       0.00      0.00      0.00       600\n",
            "           3       0.00      0.00      0.00       600\n",
            "           4       0.25      1.00      0.40       600\n",
            "\n",
            "    accuracy                           0.25      2400\n",
            "   macro avg       0.10      0.25      0.10      2400\n",
            "weighted avg       0.10      0.25      0.10      2400\n",
            "\n"
          ]
        },
        {
          "output_type": "stream",
          "name": "stderr",
          "text": [
            "/usr/local/lib/python3.7/dist-packages/sklearn/metrics/_classification.py:1272: UndefinedMetricWarning: Precision and F-score are ill-defined and being set to 0.0 in labels with no predicted samples. Use `zero_division` parameter to control this behavior.\n",
            "  _warn_prf(average, modifier, msg_start, len(result))\n"
          ]
        },
        {
          "output_type": "display_data",
          "data": {
            "image/png": "[encoded data removed]",
            "text/plain": [
              "<Figure size 432x288 with 2 Axes>"
            ]
          },
          "metadata": {
            "needs_background": "light"
          }
        },
        {
          "output_type": "stream",
          "name": "stdout",
          "text": [
            "Learning rate:  7.7\n",
            "              precision    recall  f1-score   support\n",
            "\n",
            "           1       0.31      0.66      0.42       600\n",
            "           2       0.00      0.00      0.00       600\n",
            "           3       0.28      0.51      0.36       600\n",
            "           4       0.00      0.00      0.00       600\n",
            "\n",
            "    accuracy                           0.29      2400\n",
            "   macro avg       0.15      0.29      0.19      2400\n",
            "weighted avg       0.15      0.29      0.19      2400\n",
            "\n"
          ]
        },
        {
          "output_type": "stream",
          "name": "stderr",
          "text": [
            "/usr/local/lib/python3.7/dist-packages/sklearn/metrics/_classification.py:1272: UndefinedMetricWarning: Precision and F-score are ill-defined and being set to 0.0 in labels with no predicted samples. Use `zero_division` parameter to control this behavior.\n",
            "  _warn_prf(average, modifier, msg_start, len(result))\n"
          ]
        },
        {
          "output_type": "display_data",
          "data": {
            "image/png": "[encoded data removed]",
            "text/plain": [
              "<Figure size 432x288 with 2 Axes>"
            ]
          },
          "metadata": {
            "needs_background": "light"
          }
        },
        {
          "output_type": "stream",
          "name": "stdout",
          "text": [
            "Learning rate:  10\n",
            "              precision    recall  f1-score   support\n",
            "\n",
            "           1       0.33      0.37      0.35       600\n",
            "           2       0.24      0.70      0.36       600\n",
            "           3       0.00      0.00      0.00       600\n",
            "           4       0.00      0.00      0.00       600\n",
            "\n",
            "    accuracy                           0.27      2400\n",
            "   macro avg       0.14      0.27      0.18      2400\n",
            "weighted avg       0.14      0.27      0.18      2400\n",
            "\n"
          ]
        },
        {
          "output_type": "stream",
          "name": "stderr",
          "text": [
            "/usr/local/lib/python3.7/dist-packages/sklearn/metrics/_classification.py:1272: UndefinedMetricWarning: Precision and F-score are ill-defined and being set to 0.0 in labels with no predicted samples. Use `zero_division` parameter to control this behavior.\n",
            "  _warn_prf(average, modifier, msg_start, len(result))\n"
          ]
        },
        {
          "output_type": "display_data",
          "data": {
            "image/png": "[encoded data removed]",
            "text/plain": [
              "<Figure size 432x288 with 2 Axes>"
            ]
          },
          "metadata": {
            "needs_background": "light"
          }
        },
        {
          "output_type": "stream",
          "name": "stdout",
          "text": [
            "Learning rate:  20\n",
            "              precision    recall  f1-score   support\n",
            "\n",
            "           1       0.22      0.59      0.32       600\n",
            "           2       0.30      0.27      0.29       600\n",
            "           3       0.24      0.09      0.13       600\n",
            "           4       0.26      0.01      0.02       600\n",
            "\n",
            "    accuracy                           0.24      2400\n",
            "   macro avg       0.26      0.24      0.19      2400\n",
            "weighted avg       0.26      0.24      0.19      2400\n",
            "\n"
          ]
        },
        {
          "output_type": "display_data",
          "data": {
            "image/png": "[encoded data removed]",
            "text/plain": [
              "<Figure size 432x288 with 2 Axes>"
            ]
          },
          "metadata": {
            "needs_background": "light"
          }
        },
        {
          "output_type": "stream",
          "name": "stdout",
          "text": [
            "Learning rate:  30\n",
            "              precision    recall  f1-score   support\n",
            "\n",
            "           1       0.67      0.00      0.01       600\n",
            "           2       0.25      0.21      0.23       600\n",
            "           3       0.25      0.79      0.38       600\n",
            "           4       0.21      0.01      0.01       600\n",
            "\n",
            "    accuracy                           0.25      2400\n",
            "   macro avg       0.35      0.25      0.16      2400\n",
            "weighted avg       0.35      0.25      0.16      2400\n",
            "\n"
          ]
        },
        {
          "output_type": "display_data",
          "data": {
            "image/png": "[encoded data removed]",
            "text/plain": [
              "<Figure size 432x288 with 2 Axes>"
            ]
          },
          "metadata": {
            "needs_background": "light"
          }
        },
        {
          "output_type": "stream",
          "name": "stdout",
          "text": [
            "Learning rate:  45\n",
            "              precision    recall  f1-score   support\n",
            "\n",
            "           1       0.17      0.00      0.00       600\n",
            "           2       0.41      0.01      0.03       600\n",
            "           3       0.29      0.03      0.06       600\n",
            "           4       0.26      0.98      0.41       600\n",
            "\n",
            "    accuracy                           0.26      2400\n",
            "   macro avg       0.28      0.26      0.12      2400\n",
            "weighted avg       0.28      0.26      0.12      2400\n",
            "\n"
          ]
        },
        {
          "output_type": "display_data",
          "data": {
            "image/png": "[encoded data removed]",
            "text/plain": [
              "<Figure size 432x288 with 2 Axes>"
            ]
          },
          "metadata": {
            "needs_background": "light"
          }
        },
        {
          "output_type": "stream",
          "name": "stdout",
          "text": [
            "Learning rate:  55\n",
            "              precision    recall  f1-score   support\n",
            "\n",
            "           1       0.00      0.00      0.00       600\n",
            "           2       0.36      0.01      0.02       600\n",
            "           3       0.25      0.12      0.17       600\n",
            "           4       0.26      0.90      0.40       600\n",
            "\n",
            "    accuracy                           0.26      2400\n",
            "   macro avg       0.22      0.26      0.15      2400\n",
            "weighted avg       0.22      0.26      0.15      2400\n",
            "\n"
          ]
        },
        {
          "output_type": "stream",
          "name": "stderr",
          "text": [
            "/usr/local/lib/python3.7/dist-packages/sklearn/metrics/_classification.py:1272: UndefinedMetricWarning: Precision and F-score are ill-defined and being set to 0.0 in labels with no predicted samples. Use `zero_division` parameter to control this behavior.\n",
            "  _warn_prf(average, modifier, msg_start, len(result))\n"
          ]
        },
        {
          "output_type": "display_data",
          "data": {
            "image/png": "[encoded data removed]",
            "text/plain": [
              "<Figure size 432x288 with 2 Axes>"
            ]
          },
          "metadata": {
            "needs_background": "light"
          }
        },
        {
          "output_type": "stream",
          "name": "stdout",
          "text": [
            "Learning rate:  62\n",
            "              precision    recall  f1-score   support\n",
            "\n",
            "           1       0.37      0.04      0.06       600\n",
            "           2       0.43      0.01      0.01       600\n",
            "           3       0.17      0.00      0.00       600\n",
            "           4       0.25      0.98      0.40       600\n",
            "\n",
            "    accuracy                           0.26      2400\n",
            "   macro avg       0.30      0.26      0.12      2400\n",
            "weighted avg       0.30      0.26      0.12      2400\n",
            "\n"
          ]
        },
        {
          "output_type": "display_data",
          "data": {
            "image/png": "[encoded data removed]",
            "text/plain": [
              "<Figure size 432x288 with 2 Axes>"
            ]
          },
          "metadata": {
            "needs_background": "light"
          }
        },
        {
          "output_type": "stream",
          "name": "stdout",
          "text": [
            "Learning rate:  77\n",
            "              precision    recall  f1-score   support\n",
            "\n",
            "           1       0.00      0.00      0.00       600\n",
            "           2       0.29      0.25      0.27       600\n",
            "           3       0.25      0.18      0.21       600\n",
            "           4       0.25      0.60      0.35       600\n",
            "\n",
            "    accuracy                           0.26      2400\n",
            "   macro avg       0.20      0.26      0.21      2400\n",
            "weighted avg       0.20      0.26      0.21      2400\n",
            "\n"
          ]
        },
        {
          "output_type": "display_data",
          "data": {
            "image/png": "[encoded data removed]",
            "text/plain": [
              "<Figure size 432x288 with 2 Axes>"
            ]
          },
          "metadata": {
            "needs_background": "light"
          }
        },
        {
          "output_type": "stream",
          "name": "stdout",
          "text": [
            "Learning rate:  84\n",
            "              precision    recall  f1-score   support\n",
            "\n",
            "           1       0.00      0.00      0.00       600\n",
            "           2       0.27      0.28      0.27       600\n",
            "           3       0.28      0.02      0.03       600\n",
            "           4       0.26      0.77      0.39       600\n",
            "\n",
            "    accuracy                           0.26      2400\n",
            "   macro avg       0.20      0.26      0.17      2400\n",
            "weighted avg       0.20      0.26      0.17      2400\n",
            "\n"
          ]
        },
        {
          "output_type": "display_data",
          "data": {
            "image/png": "[encoded data removed]",
            "text/plain": [
              "<Figure size 432x288 with 2 Axes>"
            ]
          },
          "metadata": {
            "needs_background": "light"
          }
        },
        {
          "output_type": "stream",
          "name": "stdout",
          "text": [
            "Learning rate:  90\n",
            "              precision    recall  f1-score   support\n",
            "\n",
            "           1       0.32      0.04      0.07       600\n",
            "           2       0.24      0.32      0.27       600\n",
            "           3       0.25      0.50      0.33       600\n",
            "           4       0.18      0.10      0.13       600\n",
            "\n",
            "    accuracy                           0.24      2400\n",
            "   macro avg       0.25      0.24      0.20      2400\n",
            "weighted avg       0.25      0.24      0.20      2400\n",
            "\n"
          ]
        },
        {
          "output_type": "display_data",
          "data": {
            "image/png": "[encoded data removed]",
            "text/plain": [
              "<Figure size 432x288 with 2 Axes>"
            ]
          },
          "metadata": {
            "needs_background": "light"
          }
        }
      ]
    },
    {
      "cell_type": "code",
      "metadata": {
        "id": "FSa4s9KAchAf"
      },
      "source": [
        "from sklearn.model_selection import train_test_split\n",
        "import scipy.stats as st"
      ],
      "execution_count": 47,
      "outputs": []
    },
    {
      "cell_type": "code",
      "metadata": {
        "id": "APw2Zh054PXq"
      },
      "source": [
        "X_val, X_test_1, y_val, y_test_1 = train_test_split(X_test, y_test, test_size=0.7, random_state=42)"
      ],
      "execution_count": 48,
      "outputs": []
    },
    {
      "cell_type": "code",
      "metadata": {
        "id": "VuVNnEikPOOV"
      },
      "source": [
        "from sklearn.neural_network import MLPClassifier\n",
        "\n",
        "clf = MLPClassifier((20, ), max_iter=100000).fit(xtrain, ytrain)"
      ],
      "execution_count": 49,
      "outputs": []
    },
    {
      "cell_type": "code",
      "metadata": {
        "id": "gQLITkC9P0OJ"
      },
      "source": [
        "predicted_values = clf.predict(X_test)"
      ],
      "execution_count": 50,
      "outputs": []
    },
    {
      "cell_type": "code",
      "metadata": {
        "colab": {
          "base_uri": "https://localhost:8080/",
          "height": 496
        },
        "id": "J7D4apu5PuDn",
        "outputId": "d94f0cfd-031f-4929-c193-9e545b2e1d1d"
      },
      "source": [
        "print_confusion_matrix(predicted_values, y_test,[\"1\", \"2\", \"3\", \"4\"])\n",
        "print(\"Accuracy:\", metrics.accuracy_score(y_test, predicted_values))"
      ],
      "execution_count": 51,
      "outputs": [
        {
          "output_type": "stream",
          "name": "stdout",
          "text": [
            "              precision    recall  f1-score   support\n",
            "\n",
            "           1       0.58      0.50      0.54       600\n",
            "           2       0.41      0.27      0.33       600\n",
            "           3       0.29      0.15      0.20       600\n",
            "           4       0.36      0.70      0.48       600\n",
            "\n",
            "    accuracy                           0.41      2400\n",
            "   macro avg       0.41      0.41      0.39      2400\n",
            "weighted avg       0.41      0.41      0.39      2400\n",
            "\n",
            "Accuracy: 0.4075\n"
          ]
        },
        {
          "output_type": "display_data",
          "data": {
            "image/png": "[encoded data removed]",
            "text/plain": [
              "<Figure size 432x288 with 2 Axes>"
            ]
          },
          "metadata": {
            "needs_background": "light"
          }
        }
      ]
    },
    {
      "cell_type": "code",
      "metadata": {
        "colab": {
          "base_uri": "https://localhost:8080/",
          "height": 496
        },
        "id": "7wJeUY1SEeU4",
        "outputId": "ea1bb109-9b98-4b1d-e6e3-be463ad40060"
      },
      "source": [
        "clf = MLPClassifier((20, 20, ), max_iter=100000).fit(xtrain, ytrain)\n",
        "predicted_values = clf.predict(X_test)\n",
        "print_confusion_matrix(predicted_values, y_test,[\"1\", \"2\", \"3\", \"4\"])\n",
        "print(\"Accuracy:\", metrics.accuracy_score(y_test, predicted_values))"
      ],
      "execution_count": 52,
      "outputs": [
        {
          "output_type": "stream",
          "name": "stdout",
          "text": [
            "              precision    recall  f1-score   support\n",
            "\n",
            "           1       0.54      0.60      0.57       600\n",
            "           2       0.42      0.28      0.34       600\n",
            "           3       0.32      0.24      0.28       600\n",
            "           4       0.39      0.56      0.46       600\n",
            "\n",
            "    accuracy                           0.42      2400\n",
            "   macro avg       0.42      0.42      0.41      2400\n",
            "weighted avg       0.42      0.42      0.41      2400\n",
            "\n",
            "Accuracy: 0.42291666666666666\n"
          ]
        },
        {
          "output_type": "display_data",
          "data": {
            "image/png": "[encoded data removed]",
            "text/plain": [
              "<Figure size 432x288 with 2 Axes>"
            ]
          },
          "metadata": {
            "needs_background": "light"
          }
        }
      ]
    },
    {
      "cell_type": "code",
      "metadata": {
        "colab": {
          "base_uri": "https://localhost:8080/",
          "height": 496
        },
        "id": "eIZpYZCyEr6d",
        "outputId": "9663e8d9-28fe-414c-8bb0-2a20d2077127"
      },
      "source": [
        "clf = MLPClassifier((1000, ), max_iter=100000).fit(xtrain, ytrain)\n",
        "predicted_values = clf.predict(X_test)\n",
        "print_confusion_matrix(predicted_values, y_test, [\"1\", \"2\", \"3\", \"4\"])\n",
        "print(\"Accuracy:\", metrics.accuracy_score(y_test, predicted_values))"
      ],
      "execution_count": 53,
      "outputs": [
        {
          "output_type": "stream",
          "name": "stdout",
          "text": [
            "              precision    recall  f1-score   support\n",
            "\n",
            "           1       0.51      0.71      0.59       600\n",
            "           2       0.35      0.40      0.38       600\n",
            "           3       0.35      0.28      0.31       600\n",
            "           4       0.48      0.31      0.38       600\n",
            "\n",
            "    accuracy                           0.43      2400\n",
            "   macro avg       0.42      0.43      0.41      2400\n",
            "weighted avg       0.42      0.43      0.41      2400\n",
            "\n",
            "Accuracy: 0.4266666666666667\n"
          ]
        },
        {
          "output_type": "display_data",
          "data": {
            "image/png": "[encoded data removed]",
            "text/plain": [
              "<Figure size 432x288 with 2 Axes>"
            ]
          },
          "metadata": {
            "needs_background": "light"
          }
        }
      ]
    },
    {
      "cell_type": "code",
      "metadata": {
        "colab": {
          "base_uri": "https://localhost:8080/",
          "height": 496
        },
        "id": "GKiGOYvSE_Xc",
        "outputId": "5a149b6f-0fd8-4cf0-8e87-309b836e594f"
      },
      "source": [
        "clf = MLPClassifier((256, 64, 128, ), max_iter=100000, learning_rate=\"invscaling\").fit(xtrain, ytrain)\n",
        "predicted_values = clf.predict(X_test)\n",
        "print_confusion_matrix(predicted_values, y_test, [\"1\", \"2\", \"3\", \"4\"])\n",
        "print(\"Accuracy:\", metrics.accuracy_score(y_test, predicted_values))"
      ],
      "execution_count": 54,
      "outputs": [
        {
          "output_type": "stream",
          "name": "stdout",
          "text": [
            "              precision    recall  f1-score   support\n",
            "\n",
            "           1       0.60      0.47      0.53       600\n",
            "           2       0.35      0.28      0.31       600\n",
            "           3       0.29      0.33      0.31       600\n",
            "           4       0.40      0.52      0.45       600\n",
            "\n",
            "    accuracy                           0.40      2400\n",
            "   macro avg       0.41      0.40      0.40      2400\n",
            "weighted avg       0.41      0.40      0.40      2400\n",
            "\n",
            "Accuracy: 0.4\n"
          ]
        },
        {
          "output_type": "display_data",
          "data": {
            "image/png": "[encoded data removed]",
            "text/plain": [
              "<Figure size 432x288 with 2 Axes>"
            ]
          },
          "metadata": {
            "needs_background": "light"
          }
        }
      ]
    }
  ]
}