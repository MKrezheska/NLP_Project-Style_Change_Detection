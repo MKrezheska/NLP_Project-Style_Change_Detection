{
  "nbformat": 4,
  "nbformat_minor": 0,
  "metadata": {
    "colab": {
      "name": "Models_BERT-Task2.ipynb",
      "provenance": [],
      "authorship_tag": "ABX9TyN7Derm7cG9zMyXxdM6dhc4",
      "include_colab_link": true
    },
    "kernelspec": {
      "name": "python3",
      "display_name": "Python 3"
    },
    "language_info": {
      "name": "python"
    },
    "widgets": {
      "application/vnd.jupyter.widget-state+json": {
        "beeae663e8554680856e90892a1b86fc": {
          "model_module": "catboost-widget",
          "model_name": "CatboostWidgetModel",
          "model_module_version": "^1.0.0",
          "state": {
            "_view_name": "CatboostWidgetView",
            "_dom_classes": [],
            "_model_name": "CatboostWidgetModel",
            "data": {
              "catboost_info": {
                "content": {
                  "data": {
                    "meta": {
                      "name": "experiment",
                      "parameters": "",
                      "test_metrics": [],
                      "learn_sets": [
                        "learn"
                      ],
                      "launch_mode": "Train",
                      "learn_metrics": [
                        {
                          "best_value": "Min",
                          "name": "MultiClass"
                        }
                      ],
                      "iteration_count": 1000,
                      "test_sets": []
                    },
                    "iterations": [
                      {
                        "passed_time": 1.009565272,
                        "iteration": 0,
                        "remaining_time": 1008.555707,
                        "learn": [
                          1.379048785
                        ]
                      },
                      {
                        "passed_time": 1.778684869,
                        "iteration": 1,
                        "remaining_time": 887.5637495,
                        "learn": [
                          1.373132712
                        ]
                      },
                      {
                        "passed_time": 2.505617114,
                        "iteration": 2,
                        "remaining_time": 832.7000877,
                        "learn": [
                          1.367442651
                        ]
                      },
                      {
                        "passed_time": 3.246829615,
                        "iteration": 3,
                        "remaining_time": 808.4605742,
                        "learn": [
                          1.361741851
                        ]
                      },
                      {
                        "passed_time": 3.99843692,
                        "iteration": 4,
                        "remaining_time": 795.688947,
                        "learn": [
                          1.356187318
                        ]
                      },
                      {
                        "passed_time": 4.714884864,
                        "iteration": 5,
                        "remaining_time": 781.0992592,
                        "learn": [
                          1.351037488
                        ]
                      },
                      {
                        "passed_time": 5.474677495,
                        "iteration": 6,
                        "remaining_time": 776.6221075,
                        "learn": [
                          1.346811269
                        ]
                      },
                      {
                        "passed_time": 6.218544396,
                        "iteration": 7,
                        "remaining_time": 771.0995051,
                        "learn": [
                          1.342500549
                        ]
                      },
                      {
                        "passed_time": 6.997348684,
                        "iteration": 8,
                        "remaining_time": 770.4858385,
                        "learn": [
                          1.337862434
                        ]
                      },
                      {
                        "passed_time": 7.782148256,
                        "iteration": 9,
                        "remaining_time": 770.4326773,
                        "learn": [
                          1.335118021
                        ]
                      },
                      {
                        "passed_time": 8.536304942,
                        "iteration": 10,
                        "remaining_time": 767.491417,
                        "learn": [
                          1.331128724
                        ]
                      },
                      {
                        "passed_time": 9.254236368,
                        "iteration": 11,
                        "remaining_time": 761.9321276,
                        "learn": [
                          1.327884725
                        ]
                      },
                      {
                        "passed_time": 9.943086253,
                        "iteration": 12,
                        "remaining_time": 754.9097025,
                        "learn": [
                          1.324387969
                        ]
                      },
                      {
                        "passed_time": 10.74094305,
                        "iteration": 13,
                        "remaining_time": 756.4692745,
                        "learn": [
                          1.321919016
                        ]
                      },
                      {
                        "passed_time": 11.4665075,
                        "iteration": 14,
                        "remaining_time": 752.9673255,
                        "learn": [
                          1.318955122
                        ]
                      },
                      {
                        "passed_time": 12.19450487,
                        "iteration": 15,
                        "remaining_time": 749.9620496,
                        "learn": [
                          1.315824174
                        ]
                      },
                      {
                        "passed_time": 12.96832781,
                        "iteration": 16,
                        "remaining_time": 749.8744843,
                        "learn": [
                          1.312478248
                        ]
                      },
                      {
                        "passed_time": 13.67149107,
                        "iteration": 17,
                        "remaining_time": 745.8557904,
                        "learn": [
                          1.310035413
                        ]
                      },
                      {
                        "passed_time": 14.36546451,
                        "iteration": 18,
                        "remaining_time": 741.7116148,
                        "learn": [
                          1.307920351
                        ]
                      },
                      {
                        "passed_time": 15.11010408,
                        "iteration": 19,
                        "remaining_time": 740.3950998,
                        "learn": [
                          1.304858025
                        ]
                      },
                      {
                        "passed_time": 15.84639152,
                        "iteration": 20,
                        "remaining_time": 738.743681,
                        "learn": [
                          1.302517012
                        ]
                      },
                      {
                        "passed_time": 16.58971024,
                        "iteration": 21,
                        "remaining_time": 737.4880282,
                        "learn": [
                          1.30007967
                        ]
                      },
                      {
                        "passed_time": 17.30517896,
                        "iteration": 22,
                        "remaining_time": 735.0939063,
                        "learn": [
                          1.298392578
                        ]
                      },
                      {
                        "passed_time": 18.03201624,
                        "iteration": 23,
                        "remaining_time": 733.3019936,
                        "learn": [
                          1.295616089
                        ]
                      },
                      {
                        "passed_time": 18.80251241,
                        "iteration": 24,
                        "remaining_time": 733.297984,
                        "learn": [
                          1.293514763
                        ]
                      },
                      {
                        "passed_time": 19.55283149,
                        "iteration": 25,
                        "remaining_time": 732.4791488,
                        "learn": [
                          1.291165748
                        ]
                      },
                      {
                        "passed_time": 20.32854245,
                        "iteration": 26,
                        "remaining_time": 732.580437,
                        "learn": [
                          1.288255156
                        ]
                      },
                      {
                        "passed_time": 21.08750503,
                        "iteration": 27,
                        "remaining_time": 732.0376745,
                        "learn": [
                          1.286439066
                        ]
                      },
                      {
                        "passed_time": 21.90947778,
                        "iteration": 28,
                        "remaining_time": 733.5897559,
                        "learn": [
                          1.284221883
                        ]
                      },
                      {
                        "passed_time": 22.67505518,
                        "iteration": 29,
                        "remaining_time": 733.1601174,
                        "learn": [
                          1.282201384
                        ]
                      },
                      {
                        "passed_time": 23.4586158,
                        "iteration": 30,
                        "remaining_time": 733.2709262,
                        "learn": [
                          1.279859996
                        ]
                      },
                      {
                        "passed_time": 24.22838118,
                        "iteration": 31,
                        "remaining_time": 732.9085306,
                        "learn": [
                          1.277915373
                        ]
                      },
                      {
                        "passed_time": 25.02966367,
                        "iteration": 32,
                        "remaining_time": 733.4449929,
                        "learn": [
                          1.276251804
                        ]
                      },
                      {
                        "passed_time": 25.78667409,
                        "iteration": 33,
                        "remaining_time": 732.6449169,
                        "learn": [
                          1.273927981
                        ]
                      },
                      {
                        "passed_time": 26.58731101,
                        "iteration": 34,
                        "remaining_time": 733.0501464,
                        "learn": [
                          1.271785676
                        ]
                      },
                      {
                        "passed_time": 27.4214847,
                        "iteration": 35,
                        "remaining_time": 734.2864237,
                        "learn": [
                          1.26971156
                        ]
                      },
                      {
                        "passed_time": 28.25485406,
                        "iteration": 36,
                        "remaining_time": 735.3898503,
                        "learn": [
                          1.267596622
                        ]
                      },
                      {
                        "passed_time": 29.06361271,
                        "iteration": 37,
                        "remaining_time": 735.7683008,
                        "learn": [
                          1.265485581
                        ]
                      },
                      {
                        "passed_time": 29.88513234,
                        "iteration": 38,
                        "remaining_time": 736.4003123,
                        "learn": [
                          1.263379894
                        ]
                      },
                      {
                        "passed_time": 30.64300904,
                        "iteration": 39,
                        "remaining_time": 735.432217,
                        "learn": [
                          1.261943631
                        ]
                      },
                      {
                        "passed_time": 31.42863998,
                        "iteration": 40,
                        "remaining_time": 735.1235548,
                        "learn": [
                          1.259974897
                        ]
                      },
                      {
                        "passed_time": 32.21817631,
                        "iteration": 41,
                        "remaining_time": 734.8812596,
                        "learn": [
                          1.258302523
                        ]
                      },
                      {
                        "passed_time": 32.96234763,
                        "iteration": 42,
                        "remaining_time": 733.6038764,
                        "learn": [
                          1.256535631
                        ]
                      },
                      {
                        "passed_time": 33.83056796,
                        "iteration": 43,
                        "remaining_time": 735.0459766,
                        "learn": [
                          1.254675825
                        ]
                      },
                      {
                        "passed_time": 34.6365539,
                        "iteration": 44,
                        "remaining_time": 735.064644,
                        "learn": [
                          1.253642258
                        ]
                      },
                      {
                        "passed_time": 35.41515166,
                        "iteration": 45,
                        "remaining_time": 734.4794496,
                        "learn": [
                          1.252036608
                        ]
                      },
                      {
                        "passed_time": 36.15921043,
                        "iteration": 46,
                        "remaining_time": 733.1856924,
                        "learn": [
                          1.250312755
                        ]
                      },
                      {
                        "passed_time": 36.91908684,
                        "iteration": 47,
                        "remaining_time": 732.2285556,
                        "learn": [
                          1.248874891
                        ]
                      },
                      {
                        "passed_time": 37.71618548,
                        "iteration": 48,
                        "remaining_time": 732.0018855,
                        "learn": [
                          1.247670911
                        ]
                      },
                      {
                        "passed_time": 38.49299544,
                        "iteration": 49,
                        "remaining_time": 731.3669133,
                        "learn": [
                          1.246562646
                        ]
                      },
                      {
                        "passed_time": 39.26827363,
                        "iteration": 50,
                        "remaining_time": 730.697876,
                        "learn": [
                          1.24510514
                        ]
                      },
                      {
                        "passed_time": 40.01175926,
                        "iteration": 51,
                        "remaining_time": 729.4451496,
                        "learn": [
                          1.243457695
                        ]
                      },
                      {
                        "passed_time": 40.78663691,
                        "iteration": 52,
                        "remaining_time": 728.7725501,
                        "learn": [
                          1.241737411
                        ]
                      },
                      {
                        "passed_time": 41.5461144,
                        "iteration": 53,
                        "remaining_time": 727.8263745,
                        "learn": [
                          1.240313846
                        ]
                      },
                      {
                        "passed_time": 42.34166372,
                        "iteration": 54,
                        "remaining_time": 727.5067675,
                        "learn": [
                          1.238577491
                        ]
                      },
                      {
                        "passed_time": 43.1062469,
                        "iteration": 55,
                        "remaining_time": 726.6481621,
                        "learn": [
                          1.237264341
                        ]
                      },
                      {
                        "passed_time": 43.89632028,
                        "iteration": 56,
                        "remaining_time": 726.2145618,
                        "learn": [
                          1.235320781
                        ]
                      },
                      {
                        "passed_time": 44.66619902,
                        "iteration": 57,
                        "remaining_time": 725.4406806,
                        "learn": [
                          1.233824184
                        ]
                      },
                      {
                        "passed_time": 45.45048981,
                        "iteration": 58,
                        "remaining_time": 724.8967951,
                        "learn": [
                          1.232328177
                        ]
                      },
                      {
                        "passed_time": 46.23350182,
                        "iteration": 59,
                        "remaining_time": 724.3248619,
                        "learn": [
                          1.230746142
                        ]
                      },
                      {
                        "passed_time": 47.03390833,
                        "iteration": 60,
                        "remaining_time": 724.0137692,
                        "learn": [
                          1.229296164
                        ]
                      },
                      {
                        "passed_time": 47.81024608,
                        "iteration": 61,
                        "remaining_time": 723.3227551,
                        "learn": [
                          1.227797543
                        ]
                      },
                      {
                        "passed_time": 48.58932246,
                        "iteration": 62,
                        "remaining_time": 722.6697642,
                        "learn": [
                          1.226256536
                        ]
                      },
                      {
                        "passed_time": 49.36060225,
                        "iteration": 63,
                        "remaining_time": 721.8988079,
                        "learn": [
                          1.224638863
                        ]
                      },
                      {
                        "passed_time": 50.1880664,
                        "iteration": 64,
                        "remaining_time": 721.936032,
                        "learn": [
                          1.223478376
                        ]
                      },
                      {
                        "passed_time": 50.95434151,
                        "iteration": 65,
                        "remaining_time": 721.0811359,
                        "learn": [
                          1.221671804
                        ]
                      },
                      {
                        "passed_time": 51.75249409,
                        "iteration": 66,
                        "remaining_time": 720.6727908,
                        "learn": [
                          1.220292306
                        ]
                      },
                      {
                        "passed_time": 52.53613583,
                        "iteration": 67,
                        "remaining_time": 720.054097,
                        "learn": [
                          1.218729644
                        ]
                      },
                      {
                        "passed_time": 53.26267851,
                        "iteration": 68,
                        "remaining_time": 718.6601985,
                        "learn": [
                          1.217415111
                        ]
                      },
                      {
                        "passed_time": 54.04187596,
                        "iteration": 69,
                        "remaining_time": 717.9849234,
                        "learn": [
                          1.215689295
                        ]
                      },
                      {
                        "passed_time": 54.79642262,
                        "iteration": 70,
                        "remaining_time": 716.9841776,
                        "learn": [
                          1.214464646
                        ]
                      },
                      {
                        "passed_time": 55.56963933,
                        "iteration": 71,
                        "remaining_time": 716.2309069,
                        "learn": [
                          1.21326615
                        ]
                      },
                      {
                        "passed_time": 56.3286272,
                        "iteration": 72,
                        "remaining_time": 715.296403,
                        "learn": [
                          1.211674036
                        ]
                      },
                      {
                        "passed_time": 57.08171937,
                        "iteration": 73,
                        "remaining_time": 714.2928667,
                        "learn": [
                          1.21027523
                        ]
                      },
                      {
                        "passed_time": 57.85308371,
                        "iteration": 74,
                        "remaining_time": 713.5213658,
                        "learn": [
                          1.208752007
                        ]
                      },
                      {
                        "passed_time": 58.63758552,
                        "iteration": 75,
                        "remaining_time": 712.9095924,
                        "learn": [
                          1.207323159
                        ]
                      },
                      {
                        "passed_time": 59.42658159,
                        "iteration": 76,
                        "remaining_time": 712.3472053,
                        "learn": [
                          1.205783432
                        ]
                      },
                      {
                        "passed_time": 60.19621173,
                        "iteration": 77,
                        "remaining_time": 711.5500925,
                        "learn": [
                          1.204858703
                        ]
                      },
                      {
                        "passed_time": 61.00208722,
                        "iteration": 78,
                        "remaining_time": 711.176232,
                        "learn": [
                          1.203536862
                        ]
                      },
                      {
                        "passed_time": 61.79532827,
                        "iteration": 79,
                        "remaining_time": 710.6462751,
                        "learn": [
                          1.20201811
                        ]
                      },
                      {
                        "passed_time": 62.60280849,
                        "iteration": 80,
                        "remaining_time": 710.2713704,
                        "learn": [
                          1.201035511
                        ]
                      },
                      {
                        "passed_time": 63.38246278,
                        "iteration": 81,
                        "remaining_time": 709.5744004,
                        "learn": [
                          1.199543682
                        ]
                      },
                      {
                        "passed_time": 64.20611403,
                        "iteration": 82,
                        "remaining_time": 709.3615249,
                        "learn": [
                          1.197876071
                        ]
                      },
                      {
                        "passed_time": 65.04333635,
                        "iteration": 83,
                        "remaining_time": 709.2820964,
                        "learn": [
                          1.196808076
                        ]
                      },
                      {
                        "passed_time": 65.78052658,
                        "iteration": 84,
                        "remaining_time": 708.1080214,
                        "learn": [
                          1.19567458
                        ]
                      },
                      {
                        "passed_time": 66.60096459,
                        "iteration": 85,
                        "remaining_time": 707.8288563,
                        "learn": [
                          1.194432973
                        ]
                      },
                      {
                        "passed_time": 67.38762917,
                        "iteration": 86,
                        "remaining_time": 707.182821,
                        "learn": [
                          1.193089129
                        ]
                      },
                      {
                        "passed_time": 68.11903784,
                        "iteration": 87,
                        "remaining_time": 705.9609376,
                        "learn": [
                          1.192123234
                        ]
                      },
                      {
                        "passed_time": 68.91435301,
                        "iteration": 88,
                        "remaining_time": 705.4042201,
                        "learn": [
                          1.190602265
                        ]
                      },
                      {
                        "passed_time": 69.73894851,
                        "iteration": 89,
                        "remaining_time": 705.1382571,
                        "learn": [
                          1.189257315
                        ]
                      },
                      {
                        "passed_time": 70.52507994,
                        "iteration": 90,
                        "remaining_time": 704.4757986,
                        "learn": [
                          1.188003898
                        ]
                      },
                      {
                        "passed_time": 71.26849011,
                        "iteration": 91,
                        "remaining_time": 703.3890111,
                        "learn": [
                          1.187117509
                        ]
                      },
                      {
                        "passed_time": 72.05429941,
                        "iteration": 92,
                        "remaining_time": 702.7231136,
                        "learn": [
                          1.185568989
                        ]
                      },
                      {
                        "passed_time": 72.82108627,
                        "iteration": 93,
                        "remaining_time": 701.8713209,
                        "learn": [
                          1.184379756
                        ]
                      },
                      {
                        "passed_time": 73.55770194,
                        "iteration": 94,
                        "remaining_time": 700.7338974,
                        "learn": [
                          1.183356788
                        ]
                      },
                      {
                        "passed_time": 74.28548231,
                        "iteration": 95,
                        "remaining_time": 699.5216251,
                        "learn": [
                          1.182203667
                        ]
                      },
                      {
                        "passed_time": 75.10603215,
                        "iteration": 96,
                        "remaining_time": 699.1829591,
                        "learn": [
                          1.180844572
                        ]
                      },
                      {
                        "passed_time": 75.89929945,
                        "iteration": 97,
                        "remaining_time": 698.583348,
                        "learn": [
                          1.179573077
                        ]
                      },
                      {
                        "passed_time": 76.6800182,
                        "iteration": 98,
                        "remaining_time": 697.8656202,
                        "learn": [
                          1.178238987
                        ]
                      },
                      {
                        "passed_time": 77.48449208,
                        "iteration": 99,
                        "remaining_time": 697.3604287,
                        "learn": [
                          1.177035668
                        ]
                      },
                      {
                        "passed_time": 78.28660987,
                        "iteration": 100,
                        "remaining_time": 696.8283394,
                        "learn": [
                          1.17561233
                        ]
                      },
                      {
                        "passed_time": 79.11233629,
                        "iteration": 101,
                        "remaining_time": 696.4988038,
                        "learn": [
                          1.174288425
                        ]
                      },
                      {
                        "passed_time": 79.88990633,
                        "iteration": 102,
                        "remaining_time": 695.7402522,
                        "learn": [
                          1.173000992
                        ]
                      },
                      {
                        "passed_time": 80.61721858,
                        "iteration": 103,
                        "remaining_time": 694.5483447,
                        "learn": [
                          1.172154179
                        ]
                      },
                      {
                        "passed_time": 81.42084175,
                        "iteration": 104,
                        "remaining_time": 694.0157463,
                        "learn": [
                          1.170856665
                        ]
                      },
                      {
                        "passed_time": 82.21686357,
                        "iteration": 105,
                        "remaining_time": 693.4139248,
                        "learn": [
                          1.169739671
                        ]
                      },
                      {
                        "passed_time": 82.96637951,
                        "iteration": 106,
                        "remaining_time": 692.4203449,
                        "learn": [
                          1.168720004
                        ]
                      },
                      {
                        "passed_time": 83.7268317,
                        "iteration": 107,
                        "remaining_time": 691.52161,
                        "learn": [
                          1.167039596
                        ]
                      },
                      {
                        "passed_time": 84.47840519,
                        "iteration": 108,
                        "remaining_time": 690.5528351,
                        "learn": [
                          1.165995757
                        ]
                      },
                      {
                        "passed_time": 85.23456878,
                        "iteration": 109,
                        "remaining_time": 689.6251474,
                        "learn": [
                          1.164594468
                        ]
                      },
                      {
                        "passed_time": 85.96000467,
                        "iteration": 110,
                        "remaining_time": 688.4544518,
                        "learn": [
                          1.163339772
                        ]
                      },
                      {
                        "passed_time": 86.67641055,
                        "iteration": 111,
                        "remaining_time": 687.2201122,
                        "learn": [
                          1.161995015
                        ]
                      },
                      {
                        "passed_time": 87.39168417,
                        "iteration": 112,
                        "remaining_time": 685.9860519,
                        "learn": [
                          1.161121668
                        ]
                      },
                      {
                        "passed_time": 88.11185099,
                        "iteration": 113,
                        "remaining_time": 684.7991226,
                        "learn": [
                          1.15986846
                        ]
                      },
                      {
                        "passed_time": 88.90774549,
                        "iteration": 114,
                        "remaining_time": 684.2030848,
                        "learn": [
                          1.158579259
                        ]
                      },
                      {
                        "passed_time": 89.71152013,
                        "iteration": 115,
                        "remaining_time": 683.6636534,
                        "learn": [
                          1.157150485
                        ]
                      },
                      {
                        "passed_time": 90.48859779,
                        "iteration": 116,
                        "remaining_time": 682.9182209,
                        "learn": [
                          1.155337813
                        ]
                      },
                      {
                        "passed_time": 91.27640237,
                        "iteration": 117,
                        "remaining_time": 682.2524313,
                        "learn": [
                          1.153708308
                        ]
                      },
                      {
                        "passed_time": 92.09199492,
                        "iteration": 118,
                        "remaining_time": 681.7903153,
                        "learn": [
                          1.152091202
                        ]
                      },
                      {
                        "passed_time": 92.80194718,
                        "iteration": 119,
                        "remaining_time": 680.5476127,
                        "learn": [
                          1.150579275
                        ]
                      },
                      {
                        "passed_time": 93.55152707,
                        "iteration": 120,
                        "remaining_time": 679.6015892,
                        "learn": [
                          1.14887794
                        ]
                      },
                      {
                        "passed_time": 94.37050652,
                        "iteration": 121,
                        "remaining_time": 679.1582354,
                        "learn": [
                          1.147828188
                        ]
                      },
                      {
                        "passed_time": 95.16732665,
                        "iteration": 122,
                        "remaining_time": 678.5507762,
                        "learn": [
                          1.146383681
                        ]
                      },
                      {
                        "passed_time": 95.92394451,
                        "iteration": 123,
                        "remaining_time": 677.6562532,
                        "learn": [
                          1.14517539
                        ]
                      },
                      {
                        "passed_time": 96.74215484,
                        "iteration": 124,
                        "remaining_time": 677.1950839,
                        "learn": [
                          1.143690218
                        ]
                      },
                      {
                        "passed_time": 97.51821676,
                        "iteration": 125,
                        "remaining_time": 676.4358845,
                        "learn": [
                          1.142571461
                        ]
                      },
                      {
                        "passed_time": 98.32917695,
                        "iteration": 126,
                        "remaining_time": 675.9163108,
                        "learn": [
                          1.140972066
                        ]
                      },
                      {
                        "passed_time": 99.15099213,
                        "iteration": 127,
                        "remaining_time": 675.4661339,
                        "learn": [
                          1.139144145
                        ]
                      },
                      {
                        "passed_time": 99.94766434,
                        "iteration": 128,
                        "remaining_time": 674.8404313,
                        "learn": [
                          1.137654918
                        ]
                      },
                      {
                        "passed_time": 100.7445419,
                        "iteration": 129,
                        "remaining_time": 674.2134728,
                        "learn": [
                          1.136421585
                        ]
                      },
                      {
                        "passed_time": 101.4979714,
                        "iteration": 130,
                        "remaining_time": 673.2957032,
                        "learn": [
                          1.135266212
                        ]
                      },
                      {
                        "passed_time": 102.1955429,
                        "iteration": 131,
                        "remaining_time": 672.0131157,
                        "learn": [
                          1.133989966
                        ]
                      },
                      {
                        "passed_time": 102.9171659,
                        "iteration": 132,
                        "remaining_time": 670.8961117,
                        "learn": [
                          1.132572971
                        ]
                      },
                      {
                        "passed_time": 103.6804492,
                        "iteration": 133,
                        "remaining_time": 670.0542464,
                        "learn": [
                          1.131219719
                        ]
                      },
                      {
                        "passed_time": 104.4542086,
                        "iteration": 134,
                        "remaining_time": 669.28067,
                        "learn": [
                          1.130026802
                        ]
                      },
                      {
                        "passed_time": 105.255662,
                        "iteration": 135,
                        "remaining_time": 668.6830289,
                        "learn": [
                          1.128389915
                        ]
                      },
                      {
                        "passed_time": 106.0134217,
                        "iteration": 136,
                        "remaining_time": 667.8071745,
                        "learn": [
                          1.12722643
                        ]
                      },
                      {
                        "passed_time": 106.8022357,
                        "iteration": 137,
                        "remaining_time": 667.1270082,
                        "learn": [
                          1.125919817
                        ]
                      },
                      {
                        "passed_time": 107.5746295,
                        "iteration": 138,
                        "remaining_time": 666.3435686,
                        "learn": [
                          1.124549524
                        ]
                      },
                      {
                        "passed_time": 108.3438731,
                        "iteration": 139,
                        "remaining_time": 665.5409347,
                        "learn": [
                          1.123403244
                        ]
                      },
                      {
                        "passed_time": 109.0947734,
                        "iteration": 140,
                        "remaining_time": 664.6270236,
                        "learn": [
                          1.122173685
                        ]
                      },
                      {
                        "passed_time": 109.913688,
                        "iteration": 141,
                        "remaining_time": 664.1263682,
                        "learn": [
                          1.120681216
                        ]
                      },
                      {
                        "passed_time": 110.7336743,
                        "iteration": 142,
                        "remaining_time": 663.6276843,
                        "learn": [
                          1.119292515
                        ]
                      },
                      {
                        "passed_time": 111.5412113,
                        "iteration": 143,
                        "remaining_time": 663.050534,
                        "learn": [
                          1.117656588
                        ]
                      },
                      {
                        "passed_time": 112.3087447,
                        "iteration": 144,
                        "remaining_time": 662.2343224,
                        "learn": [
                          1.11606827
                        ]
                      },
                      {
                        "passed_time": 113.1248542,
                        "iteration": 145,
                        "remaining_time": 661.7029146,
                        "learn": [
                          1.114377702
                        ]
                      },
                      {
                        "passed_time": 113.9270046,
                        "iteration": 146,
                        "remaining_time": 661.0866323,
                        "learn": [
                          1.112911809
                        ]
                      },
                      {
                        "passed_time": 114.7450583,
                        "iteration": 147,
                        "remaining_time": 660.5593898,
                        "learn": [
                          1.111667516
                        ]
                      },
                      {
                        "passed_time": 115.5469236,
                        "iteration": 148,
                        "remaining_time": 659.9357854,
                        "learn": [
                          1.110445583
                        ]
                      },
                      {
                        "passed_time": 116.3647984,
                        "iteration": 149,
                        "remaining_time": 659.4005241,
                        "learn": [
                          1.109030556
                        ]
                      },
                      {
                        "passed_time": 117.1888172,
                        "iteration": 150,
                        "remaining_time": 658.8960651,
                        "learn": [
                          1.107376148
                        ]
                      },
                      {
                        "passed_time": 118.0148499,
                        "iteration": 151,
                        "remaining_time": 658.3986365,
                        "learn": [
                          1.105722707
                        ]
                      },
                      {
                        "passed_time": 118.8402435,
                        "iteration": 152,
                        "remaining_time": 657.8933739,
                        "learn": [
                          1.104547717
                        ]
                      },
                      {
                        "passed_time": 119.6579857,
                        "iteration": 153,
                        "remaining_time": 657.3419212,
                        "learn": [
                          1.103003502
                        ]
                      },
                      {
                        "passed_time": 120.41092,
                        "iteration": 154,
                        "remaining_time": 656.4337251,
                        "learn": [
                          1.102138628
                        ]
                      },
                      {
                        "passed_time": 121.2689835,
                        "iteration": 155,
                        "remaining_time": 656.0962952,
                        "learn": [
                          1.100876555
                        ]
                      },
                      {
                        "passed_time": 122.0362201,
                        "iteration": 156,
                        "remaining_time": 655.264545,
                        "learn": [
                          1.099295544
                        ]
                      },
                      {
                        "passed_time": 122.8308527,
                        "iteration": 157,
                        "remaining_time": 654.5796076,
                        "learn": [
                          1.098270366
                        ]
                      },
                      {
                        "passed_time": 123.5867022,
                        "iteration": 158,
                        "remaining_time": 653.6881545,
                        "learn": [
                          1.096777345
                        ]
                      },
                      {
                        "passed_time": 124.3588292,
                        "iteration": 159,
                        "remaining_time": 652.8838531,
                        "learn": [
                          1.095380534
                        ]
                      },
                      {
                        "passed_time": 125.1548844,
                        "iteration": 160,
                        "remaining_time": 652.2046462,
                        "learn": [
                          1.094229771
                        ]
                      },
                      {
                        "passed_time": 125.9221457,
                        "iteration": 161,
                        "remaining_time": 651.3750499,
                        "learn": [
                          1.093128758
                        ]
                      },
                      {
                        "passed_time": 126.6682143,
                        "iteration": 162,
                        "remaining_time": 650.4373948,
                        "learn": [
                          1.092093708
                        ]
                      },
                      {
                        "passed_time": 127.4291681,
                        "iteration": 163,
                        "remaining_time": 649.5779545,
                        "learn": [
                          1.090676332
                        ]
                      },
                      {
                        "passed_time": 128.1942819,
                        "iteration": 164,
                        "remaining_time": 648.7407599,
                        "learn": [
                          1.089437804
                        ]
                      },
                      {
                        "passed_time": 128.9848205,
                        "iteration": 165,
                        "remaining_time": 648.0321707,
                        "learn": [
                          1.088161872
                        ]
                      },
                      {
                        "passed_time": 129.7847878,
                        "iteration": 166,
                        "remaining_time": 647.3696301,
                        "learn": [
                          1.086729828
                        ]
                      },
                      {
                        "passed_time": 130.5980474,
                        "iteration": 167,
                        "remaining_time": 646.7712826,
                        "learn": [
                          1.085396996
                        ]
                      },
                      {
                        "passed_time": 131.3516814,
                        "iteration": 168,
                        "remaining_time": 645.8772028,
                        "learn": [
                          1.084131444
                        ]
                      },
                      {
                        "passed_time": 132.091027,
                        "iteration": 169,
                        "remaining_time": 644.9150144,
                        "learn": [
                          1.083056296
                        ]
                      },
                      {
                        "passed_time": 132.828203,
                        "iteration": 170,
                        "remaining_time": 643.9449138,
                        "learn": [
                          1.081638908
                        ]
                      },
                      {
                        "passed_time": 133.5768953,
                        "iteration": 171,
                        "remaining_time": 643.0329611,
                        "learn": [
                          1.080284871
                        ]
                      },
                      {
                        "passed_time": 134.4085195,
                        "iteration": 172,
                        "remaining_time": 642.5193391,
                        "learn": [
                          1.078797993
                        ]
                      },
                      {
                        "passed_time": 135.1752699,
                        "iteration": 173,
                        "remaining_time": 641.6940974,
                        "learn": [
                          1.077418269
                        ]
                      },
                      {
                        "passed_time": 135.9100961,
                        "iteration": 174,
                        "remaining_time": 640.7190246,
                        "learn": [
                          1.076180989
                        ]
                      },
                      {
                        "passed_time": 136.765194,
                        "iteration": 175,
                        "remaining_time": 640.3097717,
                        "learn": [
                          1.074572501
                        ]
                      },
                      {
                        "passed_time": 137.6375069,
                        "iteration": 176,
                        "remaining_time": 639.9755263,
                        "learn": [
                          1.073034165
                        ]
                      },
                      {
                        "passed_time": 138.4086344,
                        "iteration": 177,
                        "remaining_time": 639.1679636,
                        "learn": [
                          1.072273622
                        ]
                      },
                      {
                        "passed_time": 139.169256,
                        "iteration": 178,
                        "remaining_time": 638.3126211,
                        "learn": [
                          1.071069378
                        ]
                      },
                      {
                        "passed_time": 139.9072716,
                        "iteration": 179,
                        "remaining_time": 637.3553482,
                        "learn": [
                          1.069949206
                        ]
                      },
                      {
                        "passed_time": 140.7037345,
                        "iteration": 180,
                        "remaining_time": 636.6649646,
                        "learn": [
                          1.06881853
                        ]
                      },
                      {
                        "passed_time": 141.5028482,
                        "iteration": 181,
                        "remaining_time": 635.9853287,
                        "learn": [
                          1.067904482
                        ]
                      },
                      {
                        "passed_time": 142.2629932,
                        "iteration": 182,
                        "remaining_time": 635.1304124,
                        "learn": [
                          1.066895602
                        ]
                      },
                      {
                        "passed_time": 142.9989033,
                        "iteration": 183,
                        "remaining_time": 634.1690494,
                        "learn": [
                          1.065839719
                        ]
                      },
                      {
                        "passed_time": 143.8411114,
                        "iteration": 184,
                        "remaining_time": 633.6784096,
                        "learn": [
                          1.064538565
                        ]
                      },
                      {
                        "passed_time": 144.6727821,
                        "iteration": 185,
                        "remaining_time": 633.1378745,
                        "learn": [
                          1.063287055
                        ]
                      },
                      {
                        "passed_time": 145.4464336,
                        "iteration": 186,
                        "remaining_time": 632.3419815,
                        "learn": [
                          1.062223024
                        ]
                      },
                      {
                        "passed_time": 146.2343417,
                        "iteration": 187,
                        "remaining_time": 631.6079012,
                        "learn": [
                          1.060930501
                        ]
                      },
                      {
                        "passed_time": 147.00852,
                        "iteration": 188,
                        "remaining_time": 630.8143371,
                        "learn": [
                          1.059961621
                        ]
                      },
                      {
                        "passed_time": 147.8095705,
                        "iteration": 189,
                        "remaining_time": 630.1355374,
                        "learn": [
                          1.05885961
                        ]
                      },
                      {
                        "passed_time": 148.5884761,
                        "iteration": 190,
                        "remaining_time": 629.3616604,
                        "learn": [
                          1.057681973
                        ]
                      },
                      {
                        "passed_time": 149.3217881,
                        "iteration": 191,
                        "remaining_time": 628.3958583,
                        "learn": [
                          1.056597329
                        ]
                      },
                      {
                        "passed_time": 150.0696498,
                        "iteration": 192,
                        "remaining_time": 627.4933025,
                        "learn": [
                          1.055712595
                        ]
                      },
                      {
                        "passed_time": 150.8015597,
                        "iteration": 193,
                        "remaining_time": 626.5260677,
                        "learn": [
                          1.0545143
                        ]
                      },
                      {
                        "passed_time": 151.6003215,
                        "iteration": 194,
                        "remaining_time": 625.8372247,
                        "learn": [
                          1.052942779
                        ]
                      },
                      {
                        "passed_time": 152.3560941,
                        "iteration": 195,
                        "remaining_time": 624.9709166,
                        "learn": [
                          1.051828486
                        ]
                      },
                      {
                        "passed_time": 153.1223135,
                        "iteration": 196,
                        "remaining_time": 624.1483136,
                        "learn": [
                          1.050702432
                        ]
                      },
                      {
                        "passed_time": 153.8919306,
                        "iteration": 197,
                        "remaining_time": 623.3400421,
                        "learn": [
                          1.049345579
                        ]
                      },
                      {
                        "passed_time": 154.7111819,
                        "iteration": 198,
                        "remaining_time": 622.7319431,
                        "learn": [
                          1.048135225
                        ]
                      },
                      {
                        "passed_time": 155.4640544,
                        "iteration": 199,
                        "remaining_time": 621.8562177,
                        "learn": [
                          1.046835807
                        ]
                      },
                      {
                        "passed_time": 156.2290363,
                        "iteration": 200,
                        "remaining_time": 621.0298509,
                        "learn": [
                          1.045535051
                        ]
                      },
                      {
                        "passed_time": 157.0143162,
                        "iteration": 201,
                        "remaining_time": 620.2842788,
                        "learn": [
                          1.044414778
                        ]
                      },
                      {
                        "passed_time": 157.7368738,
                        "iteration": 202,
                        "remaining_time": 619.292061,
                        "learn": [
                          1.043124845
                        ]
                      },
                      {
                        "passed_time": 158.5005018,
                        "iteration": 203,
                        "remaining_time": 618.4627424,
                        "learn": [
                          1.041455376
                        ]
                      },
                      {
                        "passed_time": 159.2736723,
                        "iteration": 204,
                        "remaining_time": 617.6710705,
                        "learn": [
                          1.040168573
                        ]
                      },
                      {
                        "passed_time": 160.0556812,
                        "iteration": 205,
                        "remaining_time": 616.9136451,
                        "learn": [
                          1.038909972
                        ]
                      },
                      {
                        "passed_time": 160.8554715,
                        "iteration": 206,
                        "remaining_time": 616.2241011,
                        "learn": [
                          1.037785209
                        ]
                      },
                      {
                        "passed_time": 161.5940432,
                        "iteration": 207,
                        "remaining_time": 615.3003954,
                        "learn": [
                          1.036315634
                        ]
                      },
                      {
                        "passed_time": 162.3341428,
                        "iteration": 208,
                        "remaining_time": 614.3842439,
                        "learn": [
                          1.035237481
                        ]
                      },
                      {
                        "passed_time": 163.1304367,
                        "iteration": 209,
                        "remaining_time": 613.6811666,
                        "learn": [
                          1.0339988
                        ]
                      },
                      {
                        "passed_time": 163.9241498,
                        "iteration": 210,
                        "remaining_time": 612.9675555,
                        "learn": [
                          1.032617697
                        ]
                      },
                      {
                        "passed_time": 164.7023077,
                        "iteration": 211,
                        "remaining_time": 612.1953702,
                        "learn": [
                          1.031277444
                        ]
                      },
                      {
                        "passed_time": 165.495021,
                        "iteration": 212,
                        "remaining_time": 611.4769086,
                        "learn": [
                          1.029890706
                        ]
                      },
                      {
                        "passed_time": 166.3290533,
                        "iteration": 213,
                        "remaining_time": 610.9095134,
                        "learn": [
                          1.028338289
                        ]
                      },
                      {
                        "passed_time": 167.0897958,
                        "iteration": 214,
                        "remaining_time": 610.0720452,
                        "learn": [
                          1.027097756
                        ]
                      },
                      {
                        "passed_time": 167.8272386,
                        "iteration": 215,
                        "remaining_time": 609.1507178,
                        "learn": [
                          1.025910383
                        ]
                      },
                      {
                        "passed_time": 168.5718979,
                        "iteration": 216,
                        "remaining_time": 608.2571248,
                        "learn": [
                          1.024745821
                        ]
                      },
                      {
                        "passed_time": 169.3376493,
                        "iteration": 217,
                        "remaining_time": 607.4405587,
                        "learn": [
                          1.023435891
                        ]
                      },
                      {
                        "passed_time": 170.1648529,
                        "iteration": 218,
                        "remaining_time": 606.843608,
                        "learn": [
                          1.022192077
                        ]
                      },
                      {
                        "passed_time": 170.9235331,
                        "iteration": 219,
                        "remaining_time": 606.0016172,
                        "learn": [
                          1.021229764
                        ]
                      },
                      {
                        "passed_time": 171.6914197,
                        "iteration": 220,
                        "remaining_time": 605.1928322,
                        "learn": [
                          1.020003214
                        ]
                      },
                      {
                        "passed_time": 172.4360402,
                        "iteration": 221,
                        "remaining_time": 604.3028795,
                        "learn": [
                          1.018873554
                        ]
                      },
                      {
                        "passed_time": 173.2035053,
                        "iteration": 222,
                        "remaining_time": 603.4938278,
                        "learn": [
                          1.017794668
                        ]
                      },
                      {
                        "passed_time": 173.9623318,
                        "iteration": 223,
                        "remaining_time": 602.6552209,
                        "learn": [
                          1.01675732
                        ]
                      },
                      {
                        "passed_time": 174.772564,
                        "iteration": 224,
                        "remaining_time": 601.9943872,
                        "learn": [
                          1.015859873
                        ]
                      },
                      {
                        "passed_time": 175.6256035,
                        "iteration": 225,
                        "remaining_time": 601.4788368,
                        "learn": [
                          1.014218751
                        ]
                      },
                      {
                        "passed_time": 176.3557977,
                        "iteration": 226,
                        "remaining_time": 600.5419895,
                        "learn": [
                          1.013309517
                        ]
                      },
                      {
                        "passed_time": 177.1027065,
                        "iteration": 227,
                        "remaining_time": 599.6635501,
                        "learn": [
                          1.012551426
                        ]
                      },
                      {
                        "passed_time": 177.8937978,
                        "iteration": 228,
                        "remaining_time": 598.9350136,
                        "learn": [
                          1.011515584
                        ]
                      },
                      {
                        "passed_time": 178.7115428,
                        "iteration": 229,
                        "remaining_time": 598.2951652,
                        "learn": [
                          1.010040137
                        ]
                      },
                      {
                        "passed_time": 179.5070888,
                        "iteration": 230,
                        "remaining_time": 597.5798757,
                        "learn": [
                          1.008899396
                        ]
                      },
                      {
                        "passed_time": 180.2616858,
                        "iteration": 231,
                        "remaining_time": 596.7283393,
                        "learn": [
                          1.008210257
                        ]
                      },
                      {
                        "passed_time": 181.0822376,
                        "iteration": 232,
                        "remaining_time": 596.0947478,
                        "learn": [
                          1.007137272
                        ]
                      },
                      {
                        "passed_time": 181.8545034,
                        "iteration": 233,
                        "remaining_time": 595.3014939,
                        "learn": [
                          1.006395352
                        ]
                      },
                      {
                        "passed_time": 182.6418778,
                        "iteration": 234,
                        "remaining_time": 594.5576023,
                        "learn": [
                          1.005337889
                        ]
                      },
                      {
                        "passed_time": 183.4056431,
                        "iteration": 235,
                        "remaining_time": 593.7369125,
                        "learn": [
                          1.00431007
                        ]
                      },
                      {
                        "passed_time": 184.2137107,
                        "iteration": 236,
                        "remaining_time": 593.0593304,
                        "learn": [
                          1.002915245
                        ]
                      },
                      {
                        "passed_time": 184.9704017,
                        "iteration": 237,
                        "remaining_time": 592.2161602,
                        "learn": [
                          1.002177483
                        ]
                      },
                      {
                        "passed_time": 185.7653721,
                        "iteration": 238,
                        "remaining_time": 591.4955992,
                        "learn": [
                          1.001117051
                        ]
                      },
                      {
                        "passed_time": 186.5312636,
                        "iteration": 239,
                        "remaining_time": 590.6823348,
                        "learn": [
                          1.000233433
                        ]
                      },
                      {
                        "passed_time": 187.3119602,
                        "iteration": 240,
                        "remaining_time": 589.9160903,
                        "learn": [
                          0.9991020917
                        ]
                      },
                      {
                        "passed_time": 188.0993323,
                        "iteration": 241,
                        "remaining_time": 589.170636,
                        "learn": [
                          0.9982642145
                        ]
                      },
                      {
                        "passed_time": 188.891571,
                        "iteration": 242,
                        "remaining_time": 588.439997,
                        "learn": [
                          0.9970021003
                        ]
                      },
                      {
                        "passed_time": 189.7462741,
                        "iteration": 243,
                        "remaining_time": 587.9023903,
                        "learn": [
                          0.9954367656
                        ]
                      },
                      {
                        "passed_time": 190.5059251,
                        "iteration": 244,
                        "remaining_time": 587.0692795,
                        "learn": [
                          0.9946088843
                        ]
                      },
                      {
                        "passed_time": 191.292266,
                        "iteration": 245,
                        "remaining_time": 586.3185715,
                        "learn": [
                          0.9935458159
                        ]
                      },
                      {
                        "passed_time": 192.0685363,
                        "iteration": 246,
                        "remaining_time": 585.536874,
                        "learn": [
                          0.9927804237
                        ]
                      },
                      {
                        "passed_time": 192.885899,
                        "iteration": 247,
                        "remaining_time": 584.8798227,
                        "learn": [
                          0.9914149504
                        ]
                      },
                      {
                        "passed_time": 193.6582146,
                        "iteration": 248,
                        "remaining_time": 584.0856191,
                        "learn": [
                          0.9906039438
                        ]
                      },
                      {
                        "passed_time": 194.4238532,
                        "iteration": 249,
                        "remaining_time": 583.2715597,
                        "learn": [
                          0.9896761192
                        ]
                      },
                      {
                        "passed_time": 195.2257072,
                        "iteration": 250,
                        "remaining_time": 582.565955,
                        "learn": [
                          0.9889537207
                        ]
                      },
                      {
                        "passed_time": 195.9698455,
                        "iteration": 251,
                        "remaining_time": 581.6882716,
                        "learn": [
                          0.9877937959
                        ]
                      },
                      {
                        "passed_time": 196.6946503,
                        "iteration": 252,
                        "remaining_time": 580.7545604,
                        "learn": [
                          0.9866743359
                        ]
                      },
                      {
                        "passed_time": 197.4931689,
                        "iteration": 253,
                        "remaining_time": 580.0389922,
                        "learn": [
                          0.9857060136
                        ]
                      },
                      {
                        "passed_time": 198.2619124,
                        "iteration": 254,
                        "remaining_time": 579.2357831,
                        "learn": [
                          0.9847812652
                        ]
                      },
                      {
                        "passed_time": 199.0649767,
                        "iteration": 255,
                        "remaining_time": 578.5325886,
                        "learn": [
                          0.9835862671
                        ]
                      },
                      {
                        "passed_time": 199.8393086,
                        "iteration": 256,
                        "remaining_time": 577.7455499,
                        "learn": [
                          0.9825866775
                        ]
                      },
                      {
                        "passed_time": 200.6617064,
                        "iteration": 257,
                        "remaining_time": 577.0968456,
                        "learn": [
                          0.9815198447
                        ]
                      },
                      {
                        "passed_time": 201.4874723,
                        "iteration": 258,
                        "remaining_time": 576.4564361,
                        "learn": [
                          0.9802696861
                        ]
                      },
                      {
                        "passed_time": 202.2410428,
                        "iteration": 259,
                        "remaining_time": 575.6091217,
                        "learn": [
                          0.9796481426
                        ]
                      },
                      {
                        "passed_time": 203.0198861,
                        "iteration": 260,
                        "remaining_time": 574.8340836,
                        "learn": [
                          0.9789801436
                        ]
                      },
                      {
                        "passed_time": 203.8521616,
                        "iteration": 261,
                        "remaining_time": 574.2095239,
                        "learn": [
                          0.9779375583
                        ]
                      },
                      {
                        "passed_time": 204.6693062,
                        "iteration": 262,
                        "remaining_time": 573.5409836,
                        "learn": [
                          0.9770617734
                        ]
                      },
                      {
                        "passed_time": 205.4501244,
                        "iteration": 263,
                        "remaining_time": 572.7700438,
                        "learn": [
                          0.9761008372
                        ]
                      },
                      {
                        "passed_time": 206.2478581,
                        "iteration": 264,
                        "remaining_time": 572.045946,
                        "learn": [
                          0.9751059217
                        ]
                      },
                      {
                        "passed_time": 207.0032638,
                        "iteration": 265,
                        "remaining_time": 571.2044949,
                        "learn": [
                          0.9742425604
                        ]
                      },
                      {
                        "passed_time": 207.8347732,
                        "iteration": 266,
                        "remaining_time": 570.5726172,
                        "learn": [
                          0.9730061725
                        ]
                      },
                      {
                        "passed_time": 208.6425367,
                        "iteration": 267,
                        "remaining_time": 569.8743914,
                        "learn": [
                          0.9717339834
                        ]
                      },
                      {
                        "passed_time": 209.4625245,
                        "iteration": 268,
                        "remaining_time": 569.2085704,
                        "learn": [
                          0.9705749074
                        ]
                      },
                      {
                        "passed_time": 210.2744316,
                        "iteration": 269,
                        "remaining_time": 568.5197596,
                        "learn": [
                          0.9693434868
                        ]
                      },
                      {
                        "passed_time": 211.1061637,
                        "iteration": 270,
                        "remaining_time": 567.8833702,
                        "learn": [
                          0.9681003903
                        ]
                      },
                      {
                        "passed_time": 211.8855439,
                        "iteration": 271,
                        "remaining_time": 567.1054262,
                        "learn": [
                          0.9672595562
                        ]
                      },
                      {
                        "passed_time": 212.7249204,
                        "iteration": 272,
                        "remaining_time": 566.4872421,
                        "learn": [
                          0.9658818932
                        ]
                      },
                      {
                        "passed_time": 213.5651433,
                        "iteration": 273,
                        "remaining_time": 565.8696863,
                        "learn": [
                          0.9646244246
                        ]
                      },
                      {
                        "passed_time": 214.4788342,
                        "iteration": 274,
                        "remaining_time": 565.4441992,
                        "learn": [
                          0.9635312269
                        ]
                      },
                      {
                        "passed_time": 215.2722987,
                        "iteration": 275,
                        "remaining_time": 564.699798,
                        "learn": [
                          0.9625178264
                        ]
                      },
                      {
                        "passed_time": 215.9991486,
                        "iteration": 276,
                        "remaining_time": 563.7811713,
                        "learn": [
                          0.9618549219
                        ]
                      },
                      {
                        "passed_time": 216.7654668,
                        "iteration": 277,
                        "remaining_time": 562.9664282,
                        "learn": [
                          0.9609600604
                        ]
                      },
                      {
                        "passed_time": 217.5688478,
                        "iteration": 278,
                        "remaining_time": 562.2478111,
                        "learn": [
                          0.9599373705
                        ]
                      },
                      {
                        "passed_time": 218.3436662,
                        "iteration": 279,
                        "remaining_time": 561.4551416,
                        "learn": [
                          0.9587152817
                        ]
                      },
                      {
                        "passed_time": 219.1324405,
                        "iteration": 280,
                        "remaining_time": 560.6983086,
                        "learn": [
                          0.9580674271
                        ]
                      },
                      {
                        "passed_time": 219.9103673,
                        "iteration": 281,
                        "remaining_time": 559.9136303,
                        "learn": [
                          0.9570849678
                        ]
                      },
                      {
                        "passed_time": 220.7524591,
                        "iteration": 282,
                        "remaining_time": 559.2915659,
                        "learn": [
                          0.9561691149
                        ]
                      },
                      {
                        "passed_time": 221.5551935,
                        "iteration": 283,
                        "remaining_time": 558.5687272,
                        "learn": [
                          0.9548393642
                        ]
                      },
                      {
                        "passed_time": 222.3615778,
                        "iteration": 284,
                        "remaining_time": 557.8544847,
                        "learn": [
                          0.9538248655
                        ]
                      },
                      {
                        "passed_time": 223.1378045,
                        "iteration": 285,
                        "remaining_time": 557.0643091,
                        "learn": [
                          0.9528552669
                        ]
                      },
                      {
                        "passed_time": 223.891825,
                        "iteration": 286,
                        "remaining_time": 556.2190635,
                        "learn": [
                          0.9519652881
                        ]
                      },
                      {
                        "passed_time": 224.6858865,
                        "iteration": 287,
                        "remaining_time": 555.4734416,
                        "learn": [
                          0.9509046472
                        ]
                      },
                      {
                        "passed_time": 225.5357531,
                        "iteration": 288,
                        "remaining_time": 554.8647767,
                        "learn": [
                          0.9498343922
                        ]
                      },
                      {
                        "passed_time": 226.3499254,
                        "iteration": 289,
                        "remaining_time": 554.1670587,
                        "learn": [
                          0.9486444502
                        ]
                      },
                      {
                        "passed_time": 227.1371246,
                        "iteration": 290,
                        "remaining_time": 553.4028226,
                        "learn": [
                          0.9474818778
                        ]
                      },
                      {
                        "passed_time": 227.8913208,
                        "iteration": 291,
                        "remaining_time": 552.558408,
                        "learn": [
                          0.9466048322
                        ]
                      },
                      {
                        "passed_time": 228.6141369,
                        "iteration": 292,
                        "remaining_time": 551.63889,
                        "learn": [
                          0.9460522845
                        ]
                      },
                      {
                        "passed_time": 229.4248748,
                        "iteration": 293,
                        "remaining_time": 550.9318421,
                        "learn": [
                          0.9448139293
                        ]
                      },
                      {
                        "passed_time": 230.2568675,
                        "iteration": 294,
                        "remaining_time": 550.2748867,
                        "learn": [
                          0.9437683321
                        ]
                      },
                      {
                        "passed_time": 231.0182123,
                        "iteration": 295,
                        "remaining_time": 549.4487211,
                        "learn": [
                          0.9432525885
                        ]
                      },
                      {
                        "passed_time": 231.7827645,
                        "iteration": 296,
                        "remaining_time": 548.6305841,
                        "learn": [
                          0.942173712
                        ]
                      },
                      {
                        "passed_time": 232.6249921,
                        "iteration": 297,
                        "remaining_time": 547.9957868,
                        "learn": [
                          0.9407751693
                        ]
                      },
                      {
                        "passed_time": 233.4152712,
                        "iteration": 298,
                        "remaining_time": 547.2378097,
                        "learn": [
                          0.9399480458
                        ]
                      },
                      {
                        "passed_time": 234.1331185,
                        "iteration": 299,
                        "remaining_time": 546.3106099,
                        "learn": [
                          0.9385835552
                        ]
                      },
                      {
                        "passed_time": 234.9268207,
                        "iteration": 300,
                        "remaining_time": 545.5609558,
                        "learn": [
                          0.9374095433
                        ]
                      },
                      {
                        "passed_time": 235.6901964,
                        "iteration": 301,
                        "remaining_time": 544.7409176,
                        "learn": [
                          0.9367770638
                        ]
                      },
                      {
                        "passed_time": 236.4881091,
                        "iteration": 302,
                        "remaining_time": 544.0006998,
                        "learn": [
                          0.9358494674
                        ]
                      },
                      {
                        "passed_time": 237.2562572,
                        "iteration": 303,
                        "remaining_time": 543.1919573,
                        "learn": [
                          0.9350181433
                        ]
                      },
                      {
                        "passed_time": 238.0263243,
                        "iteration": 304,
                        "remaining_time": 542.3878536,
                        "learn": [
                          0.9341147639
                        ]
                      },
                      {
                        "passed_time": 238.7856526,
                        "iteration": 305,
                        "remaining_time": 541.5596173,
                        "learn": [
                          0.9335319826
                        ]
                      },
                      {
                        "passed_time": 239.6292477,
                        "iteration": 306,
                        "remaining_time": 540.9220478,
                        "learn": [
                          0.9326322824
                        ]
                      },
                      {
                        "passed_time": 240.5207691,
                        "iteration": 307,
                        "remaining_time": 540.3908188,
                        "learn": [
                          0.9315494344
                        ]
                      },
                      {
                        "passed_time": 241.2722433,
                        "iteration": 308,
                        "remaining_time": 539.544078,
                        "learn": [
                          0.930631505
                        ]
                      },
                      {
                        "passed_time": 242.1259329,
                        "iteration": 309,
                        "remaining_time": 538.9254636,
                        "learn": [
                          0.929647286
                        ]
                      },
                      {
                        "passed_time": 242.9022067,
                        "iteration": 310,
                        "remaining_time": 538.1338277,
                        "learn": [
                          0.9286681262
                        ]
                      },
                      {
                        "passed_time": 243.6760746,
                        "iteration": 311,
                        "remaining_time": 537.3369851,
                        "learn": [
                          0.9274865369
                        ]
                      },
                      {
                        "passed_time": 244.4847653,
                        "iteration": 312,
                        "remaining_time": 536.6167213,
                        "learn": [
                          0.9266854206
                        ]
                      },
                      {
                        "passed_time": 245.2621305,
                        "iteration": 313,
                        "remaining_time": 535.8274571,
                        "learn": [
                          0.9255204477
                        ]
                      },
                      {
                        "passed_time": 245.9940282,
                        "iteration": 314,
                        "remaining_time": 534.9393947,
                        "learn": [
                          0.9247096096
                        ]
                      },
                      {
                        "passed_time": 246.7480212,
                        "iteration": 315,
                        "remaining_time": 534.1001471,
                        "learn": [
                          0.9239714882
                        ]
                      },
                      {
                        "passed_time": 247.5707744,
                        "iteration": 316,
                        "remaining_time": 533.4095865,
                        "learn": [
                          0.9230518626
                        ]
                      },
                      {
                        "passed_time": 248.3725908,
                        "iteration": 317,
                        "remaining_time": 532.6732923,
                        "learn": [
                          0.9222449845
                        ]
                      },
                      {
                        "passed_time": 249.2052396,
                        "iteration": 318,
                        "remaining_time": 532.0024081,
                        "learn": [
                          0.9209618887
                        ]
                      },
                      {
                        "passed_time": 249.9335572,
                        "iteration": 319,
                        "remaining_time": 531.108809,
                        "learn": [
                          0.9202077008
                        ]
                      },
                      {
                        "passed_time": 250.7529321,
                        "iteration": 320,
                        "remaining_time": 530.4088502,
                        "learn": [
                          0.9189581852
                        ]
                      },
                      {
                        "passed_time": 251.5418568,
                        "iteration": 321,
                        "remaining_time": 529.6440339,
                        "learn": [
                          0.9180502775
                        ]
                      },
                      {
                        "passed_time": 252.322193,
                        "iteration": 322,
                        "remaining_time": 528.861067,
                        "learn": [
                          0.9167640047
                        ]
                      },
                      {
                        "passed_time": 253.1935116,
                        "iteration": 323,
                        "remaining_time": 528.2679439,
                        "learn": [
                          0.9152837341
                        ]
                      },
                      {
                        "passed_time": 253.9330668,
                        "iteration": 324,
                        "remaining_time": 527.3994464,
                        "learn": [
                          0.9144118884
                        ]
                      },
                      {
                        "passed_time": 254.7246702,
                        "iteration": 325,
                        "remaining_time": 526.6393489,
                        "learn": [
                          0.9136515237
                        ]
                      },
                      {
                        "passed_time": 255.5228609,
                        "iteration": 326,
                        "remaining_time": 525.8926159,
                        "learn": [
                          0.912780536
                        ]
                      },
                      {
                        "passed_time": 256.3540998,
                        "iteration": 327,
                        "remaining_time": 525.2132777,
                        "learn": [
                          0.9115898
                        ]
                      },
                      {
                        "passed_time": 257.1062134,
                        "iteration": 328,
                        "remaining_time": 524.3716389,
                        "learn": [
                          0.9109033648
                        ]
                      },
                      {
                        "passed_time": 257.8392867,
                        "iteration": 329,
                        "remaining_time": 523.4918852,
                        "learn": [
                          0.9099333825
                        ]
                      },
                      {
                        "passed_time": 258.5590875,
                        "iteration": 330,
                        "remaining_time": 522.5861919,
                        "learn": [
                          0.9091525707
                        ]
                      },
                      {
                        "passed_time": 259.2644817,
                        "iteration": 331,
                        "remaining_time": 521.6526318,
                        "learn": [
                          0.9082915418
                        ]
                      },
                      {
                        "passed_time": 260.0133935,
                        "iteration": 332,
                        "remaining_time": 520.807608,
                        "learn": [
                          0.9070256799
                        ]
                      },
                      {
                        "passed_time": 260.7619233,
                        "iteration": 333,
                        "remaining_time": 519.962398,
                        "learn": [
                          0.906151189
                        ]
                      },
                      {
                        "passed_time": 261.5781943,
                        "iteration": 334,
                        "remaining_time": 519.2522365,
                        "learn": [
                          0.9049111265
                        ]
                      },
                      {
                        "passed_time": 262.2937412,
                        "iteration": 335,
                        "remaining_time": 518.3423932,
                        "learn": [
                          0.9039716741
                        ]
                      },
                      {
                        "passed_time": 263.1119062,
                        "iteration": 336,
                        "remaining_time": 517.6355899,
                        "learn": [
                          0.903156274
                        ]
                      },
                      {
                        "passed_time": 263.8814459,
                        "iteration": 337,
                        "remaining_time": 516.832891,
                        "learn": [
                          0.9020884506
                        ]
                      },
                      {
                        "passed_time": 264.6799091,
                        "iteration": 338,
                        "remaining_time": 516.0867844,
                        "learn": [
                          0.9011827293
                        ]
                      },
                      {
                        "passed_time": 265.4673883,
                        "iteration": 339,
                        "remaining_time": 515.3190478,
                        "learn": [
                          0.9002571916
                        ]
                      },
                      {
                        "passed_time": 266.2945785,
                        "iteration": 340,
                        "remaining_time": 514.6279391,
                        "learn": [
                          0.8992697842
                        ]
                      },
                      {
                        "passed_time": 267.0918444,
                        "iteration": 341,
                        "remaining_time": 513.8784608,
                        "learn": [
                          0.8981512566
                        ]
                      },
                      {
                        "passed_time": 267.8421697,
                        "iteration": 342,
                        "remaining_time": 513.0387916,
                        "learn": [
                          0.8973348285
                        ]
                      },
                      {
                        "passed_time": 268.6018213,
                        "iteration": 343,
                        "remaining_time": 512.2174266,
                        "learn": [
                          0.8963755266
                        ]
                      },
                      {
                        "passed_time": 269.3898641,
                        "iteration": 344,
                        "remaining_time": 511.4503217,
                        "learn": [
                          0.8949771425
                        ]
                      },
                      {
                        "passed_time": 270.2007453,
                        "iteration": 345,
                        "remaining_time": 510.7262643,
                        "learn": [
                          0.8939039725
                        ]
                      },
                      {
                        "passed_time": 270.994197,
                        "iteration": 346,
                        "remaining_time": 509.9689067,
                        "learn": [
                          0.8927635177
                        ]
                      },
                      {
                        "passed_time": 271.7910746,
                        "iteration": 347,
                        "remaining_time": 509.2177604,
                        "learn": [
                          0.8918106644
                        ]
                      },
                      {
                        "passed_time": 272.5850699,
                        "iteration": 348,
                        "remaining_time": 508.4609757,
                        "learn": [
                          0.8908921574
                        ]
                      },
                      {
                        "passed_time": 273.4161272,
                        "iteration": 349,
                        "remaining_time": 507.7728076,
                        "learn": [
                          0.8895353183
                        ]
                      },
                      {
                        "passed_time": 274.2325298,
                        "iteration": 350,
                        "remaining_time": 507.056729,
                        "learn": [
                          0.8883282987
                        ]
                      },
                      {
                        "passed_time": 275.0474325,
                        "iteration": 351,
                        "remaining_time": 506.3373189,
                        "learn": [
                          0.8872527195
                        ]
                      },
                      {
                        "passed_time": 275.8214533,
                        "iteration": 352,
                        "remaining_time": 505.542437,
                        "learn": [
                          0.8862999019
                        ]
                      },
                      {
                        "passed_time": 276.6082789,
                        "iteration": 353,
                        "remaining_time": 504.77104,
                        "learn": [
                          0.8854883234
                        ]
                      },
                      {
                        "passed_time": 277.4135312,
                        "iteration": 354,
                        "remaining_time": 504.0330356,
                        "learn": [
                          0.884692484
                        ]
                      },
                      {
                        "passed_time": 278.2421795,
                        "iteration": 355,
                        "remaining_time": 503.3369764,
                        "learn": [
                          0.883646205
                        ]
                      },
                      {
                        "passed_time": 279.0331278,
                        "iteration": 356,
                        "remaining_time": 502.5722722,
                        "learn": [
                          0.8828402575
                        ]
                      },
                      {
                        "passed_time": 279.8659592,
                        "iteration": 357,
                        "remaining_time": 501.8825301,
                        "learn": [
                          0.8819920251
                        ]
                      },
                      {
                        "passed_time": 280.6524604,
                        "iteration": 358,
                        "remaining_time": 501.1092677,
                        "learn": [
                          0.8810312615
                        ]
                      },
                      {
                        "passed_time": 281.4659372,
                        "iteration": 359,
                        "remaining_time": 500.3838883,
                        "learn": [
                          0.8802412778
                        ]
                      },
                      {
                        "passed_time": 282.2073361,
                        "iteration": 360,
                        "remaining_time": 499.530437,
                        "learn": [
                          0.8796704557
                        ]
                      },
                      {
                        "passed_time": 283.043547,
                        "iteration": 361,
                        "remaining_time": 498.8447043,
                        "learn": [
                          0.8787102277
                        ]
                      },
                      {
                        "passed_time": 283.9150462,
                        "iteration": 362,
                        "remaining_time": 498.2200674,
                        "learn": [
                          0.8779174789
                        ]
                      },
                      {
                        "passed_time": 284.7152267,
                        "iteration": 363,
                        "remaining_time": 497.469462,
                        "learn": [
                          0.8766651131
                        ]
                      },
                      {
                        "passed_time": 285.5086398,
                        "iteration": 364,
                        "remaining_time": 496.7068118,
                        "learn": [
                          0.8759087105
                        ]
                      },
                      {
                        "passed_time": 286.2738781,
                        "iteration": 365,
                        "remaining_time": 495.8951877,
                        "learn": [
                          0.8749083713
                        ]
                      },
                      {
                        "passed_time": 287.0164899,
                        "iteration": 366,
                        "remaining_time": 495.0447906,
                        "learn": [
                          0.8744279081
                        ]
                      },
                      {
                        "passed_time": 287.8573222,
                        "iteration": 367,
                        "remaining_time": 494.363662,
                        "learn": [
                          0.873426984
                        ]
                      },
                      {
                        "passed_time": 288.6363599,
                        "iteration": 368,
                        "remaining_time": 493.5759975,
                        "learn": [
                          0.8725634986
                        ]
                      },
                      {
                        "passed_time": 289.3942384,
                        "iteration": 369,
                        "remaining_time": 492.7523519,
                        "learn": [
                          0.8717876618
                        ]
                      },
                      {
                        "passed_time": 290.2141112,
                        "iteration": 370,
                        "remaining_time": 492.0341669,
                        "learn": [
                          0.8705603555
                        ]
                      },
                      {
                        "passed_time": 291.0169152,
                        "iteration": 371,
                        "remaining_time": 491.2866202,
                        "learn": [
                          0.8696282448
                        ]
                      },
                      {
                        "passed_time": 291.8288508,
                        "iteration": 372,
                        "remaining_time": 490.5541272,
                        "learn": [
                          0.8686463554
                        ]
                      },
                      {
                        "passed_time": 292.5696559,
                        "iteration": 373,
                        "remaining_time": 489.7021513,
                        "learn": [
                          0.8676899683
                        ]
                      },
                      {
                        "passed_time": 293.3822088,
                        "iteration": 374,
                        "remaining_time": 488.970348,
                        "learn": [
                          0.8668862409
                        ]
                      },
                      {
                        "passed_time": 294.1908875,
                        "iteration": 375,
                        "remaining_time": 488.2316856,
                        "learn": [
                          0.866390879
                        ]
                      },
                      {
                        "passed_time": 295.0693078,
                        "iteration": 376,
                        "remaining_time": 487.6079013,
                        "learn": [
                          0.8653643472
                        ]
                      },
                      {
                        "passed_time": 295.8451778,
                        "iteration": 377,
                        "remaining_time": 486.8140227,
                        "learn": [
                          0.8642374178
                        ]
                      },
                      {
                        "passed_time": 296.6129506,
                        "iteration": 378,
                        "remaining_time": 486.0069718,
                        "learn": [
                          0.8632101634
                        ]
                      },
                      {
                        "passed_time": 297.4624236,
                        "iteration": 379,
                        "remaining_time": 485.333428,
                        "learn": [
                          0.8624206691
                        ]
                      },
                      {
                        "passed_time": 298.2308889,
                        "iteration": 380,
                        "remaining_time": 484.5273497,
                        "learn": [
                          0.861573165
                        ]
                      },
                      {
                        "passed_time": 299.026053,
                        "iteration": 381,
                        "remaining_time": 483.7646617,
                        "learn": [
                          0.8603817435
                        ]
                      },
                      {
                        "passed_time": 299.8183845,
                        "iteration": 382,
                        "remaining_time": 482.9972409,
                        "learn": [
                          0.8593069815
                        ]
                      },
                      {
                        "passed_time": 300.6347544,
                        "iteration": 383,
                        "remaining_time": 482.2682519,
                        "learn": [
                          0.8584798934
                        ]
                      },
                      {
                        "passed_time": 301.4355756,
                        "iteration": 384,
                        "remaining_time": 481.5139714,
                        "learn": [
                          0.8576920727
                        ]
                      },
                      {
                        "passed_time": 302.2335465,
                        "iteration": 385,
                        "remaining_time": 480.7549159,
                        "learn": [
                          0.856899997
                        ]
                      },
                      {
                        "passed_time": 302.9555456,
                        "iteration": 386,
                        "remaining_time": 479.8753217,
                        "learn": [
                          0.8563658013
                        ]
                      },
                      {
                        "passed_time": 303.7314533,
                        "iteration": 387,
                        "remaining_time": 479.0815707,
                        "learn": [
                          0.8553238639
                        ]
                      },
                      {
                        "passed_time": 304.5117216,
                        "iteration": 388,
                        "remaining_time": 478.2947607,
                        "learn": [
                          0.8544274581
                        ]
                      },
                      {
                        "passed_time": 305.3605639,
                        "iteration": 389,
                        "remaining_time": 477.615241,
                        "learn": [
                          0.8532215152
                        ]
                      },
                      {
                        "passed_time": 306.1037048,
                        "iteration": 390,
                        "remaining_time": 476.7702206,
                        "learn": [
                          0.852438692
                        ]
                      },
                      {
                        "passed_time": 306.9094255,
                        "iteration": 391,
                        "remaining_time": 476.0227824,
                        "learn": [
                          0.8514565348
                        ]
                      },
                      {
                        "passed_time": 307.6768551,
                        "iteration": 392,
                        "remaining_time": 475.215906,
                        "learn": [
                          0.8502008802
                        ]
                      },
                      {
                        "passed_time": 308.4150369,
                        "iteration": 393,
                        "remaining_time": 474.3642446,
                        "learn": [
                          0.8491224509
                        ]
                      },
                      {
                        "passed_time": 309.2561104,
                        "iteration": 394,
                        "remaining_time": 473.6707514,
                        "learn": [
                          0.8479994976
                        ]
                      },
                      {
                        "passed_time": 310.0346205,
                        "iteration": 395,
                        "remaining_time": 472.8810879,
                        "learn": [
                          0.8470395631
                        ]
                      },
                      {
                        "passed_time": 310.8380305,
                        "iteration": 396,
                        "remaining_time": 472.1293008,
                        "learn": [
                          0.8461205152
                        ]
                      },
                      {
                        "passed_time": 311.6131834,
                        "iteration": 397,
                        "remaining_time": 471.3345136,
                        "learn": [
                          0.8454627306
                        ]
                      },
                      {
                        "passed_time": 312.3598748,
                        "iteration": 398,
                        "remaining_time": 470.4969543,
                        "learn": [
                          0.8446905783
                        ]
                      },
                      {
                        "passed_time": 313.1710182,
                        "iteration": 399,
                        "remaining_time": 469.7565274,
                        "learn": [
                          0.8433948319
                        ]
                      },
                      {
                        "passed_time": 313.9597318,
                        "iteration": 400,
                        "remaining_time": 468.9822428,
                        "learn": [
                          0.8423199529
                        ]
                      },
                      {
                        "passed_time": 314.7567753,
                        "iteration": 401,
                        "remaining_time": 468.2202777,
                        "learn": [
                          0.8413524241
                        ]
                      },
                      {
                        "passed_time": 315.5382439,
                        "iteration": 402,
                        "remaining_time": 467.435066,
                        "learn": [
                          0.8404789574
                        ]
                      },
                      {
                        "passed_time": 316.3824071,
                        "iteration": 403,
                        "remaining_time": 466.742363,
                        "learn": [
                          0.8394339168
                        ]
                      },
                      {
                        "passed_time": 317.1880139,
                        "iteration": 404,
                        "remaining_time": 465.9922673,
                        "learn": [
                          0.8381806634
                        ]
                      },
                      {
                        "passed_time": 317.9917393,
                        "iteration": 405,
                        "remaining_time": 465.2391457,
                        "learn": [
                          0.8374192028
                        ]
                      },
                      {
                        "passed_time": 318.7580832,
                        "iteration": 406,
                        "remaining_time": 464.4313105,
                        "learn": [
                          0.8366411304
                        ]
                      },
                      {
                        "passed_time": 319.5498556,
                        "iteration": 407,
                        "remaining_time": 463.6605748,
                        "learn": [
                          0.836070603
                        ]
                      },
                      {
                        "passed_time": 320.3841944,
                        "iteration": 408,
                        "remaining_time": 462.9512443,
                        "learn": [
                          0.8350168383
                        ]
                      },
                      {
                        "passed_time": 321.1673852,
                        "iteration": 409,
                        "remaining_time": 462.1677007,
                        "learn": [
                          0.8341445654
                        ]
                      },
                      {
                        "passed_time": 321.9293344,
                        "iteration": 410,
                        "remaining_time": 461.3537177,
                        "learn": [
                          0.833305911
                        ]
                      },
                      {
                        "passed_time": 322.7911724,
                        "iteration": 411,
                        "remaining_time": 460.682547,
                        "learn": [
                          0.8325342993
                        ]
                      },
                      {
                        "passed_time": 323.570264,
                        "iteration": 412,
                        "remaining_time": 459.8928449,
                        "learn": [
                          0.83153046
                        ]
                      },
                      {
                        "passed_time": 324.3276728,
                        "iteration": 413,
                        "remaining_time": 459.072503,
                        "learn": [
                          0.8306292116
                        ]
                      },
                      {
                        "passed_time": 325.1017708,
                        "iteration": 414,
                        "remaining_time": 458.2759902,
                        "learn": [
                          0.8295500162
                        ]
                      },
                      {
                        "passed_time": 325.8632201,
                        "iteration": 415,
                        "remaining_time": 457.4618283,
                        "learn": [
                          0.8287956223
                        ]
                      },
                      {
                        "passed_time": 326.6774357,
                        "iteration": 416,
                        "remaining_time": 456.7216907,
                        "learn": [
                          0.8277504552
                        ]
                      },
                      {
                        "passed_time": 327.5154098,
                        "iteration": 417,
                        "remaining_time": 456.0142787,
                        "learn": [
                          0.8267792219
                        ]
                      },
                      {
                        "passed_time": 328.284729,
                        "iteration": 418,
                        "remaining_time": 455.2110443,
                        "learn": [
                          0.8256799284
                        ]
                      },
                      {
                        "passed_time": 329.1137706,
                        "iteration": 419,
                        "remaining_time": 454.4904451,
                        "learn": [
                          0.8248197393
                        ]
                      },
                      {
                        "passed_time": 329.9708726,
                        "iteration": 420,
                        "remaining_time": 453.8079222,
                        "learn": [
                          0.823518212
                        ]
                      },
                      {
                        "passed_time": 330.7917768,
                        "iteration": 421,
                        "remaining_time": 453.0749929,
                        "learn": [
                          0.8227285867
                        ]
                      },
                      {
                        "passed_time": 331.6074805,
                        "iteration": 422,
                        "remaining_time": 452.3345538,
                        "learn": [
                          0.82168913
                        ]
                      },
                      {
                        "passed_time": 332.4177677,
                        "iteration": 423,
                        "remaining_time": 451.5864014,
                        "learn": [
                          0.820827673
                        ]
                      },
                      {
                        "passed_time": 333.2295408,
                        "iteration": 424,
                        "remaining_time": 450.839967,
                        "learn": [
                          0.8198881304
                        ]
                      },
                      {
                        "passed_time": 334.0522971,
                        "iteration": 425,
                        "remaining_time": 450.1080247,
                        "learn": [
                          0.8191705524
                        ]
                      },
                      {
                        "passed_time": 334.8671258,
                        "iteration": 426,
                        "remaining_time": 449.3650189,
                        "learn": [
                          0.8182795408
                        ]
                      },
                      {
                        "passed_time": 335.6817492,
                        "iteration": 427,
                        "remaining_time": 448.6214031,
                        "learn": [
                          0.8175781453
                        ]
                      },
                      {
                        "passed_time": 336.5414411,
                        "iteration": 428,
                        "remaining_time": 447.9374425,
                        "learn": [
                          0.8166168149
                        ]
                      },
                      {
                        "passed_time": 337.3976718,
                        "iteration": 429,
                        "remaining_time": 447.2480766,
                        "learn": [
                          0.8159899668
                        ]
                      },
                      {
                        "passed_time": 338.2080692,
                        "iteration": 430,
                        "remaining_time": 446.4974278,
                        "learn": [
                          0.814962408
                        ]
                      },
                      {
                        "passed_time": 338.9961118,
                        "iteration": 431,
                        "remaining_time": 445.71711,
                        "learn": [
                          0.813869993
                        ]
                      },
                      {
                        "passed_time": 339.8173556,
                        "iteration": 432,
                        "remaining_time": 444.9802324,
                        "learn": [
                          0.8130173557
                        ]
                      },
                      {
                        "passed_time": 340.5989148,
                        "iteration": 433,
                        "remaining_time": 444.1912115,
                        "learn": [
                          0.8122578753
                        ]
                      },
                      {
                        "passed_time": 341.4096106,
                        "iteration": 434,
                        "remaining_time": 443.4400689,
                        "learn": [
                          0.8114738626
                        ]
                      },
                      {
                        "passed_time": 342.1620362,
                        "iteration": 435,
                        "remaining_time": 442.6132762,
                        "learn": [
                          0.8107270342
                        ]
                      },
                      {
                        "passed_time": 343.0127604,
                        "iteration": 436,
                        "remaining_time": 441.9134647,
                        "learn": [
                          0.8097518427
                        ]
                      },
                      {
                        "passed_time": 343.8181344,
                        "iteration": 437,
                        "remaining_time": 441.1547752,
                        "learn": [
                          0.8085112176
                        ]
                      },
                      {
                        "passed_time": 344.6016768,
                        "iteration": 438,
                        "remaining_time": 440.3679742,
                        "learn": [
                          0.807587237
                        ]
                      },
                      {
                        "passed_time": 345.4420698,
                        "iteration": 439,
                        "remaining_time": 439.6535433,
                        "learn": [
                          0.8067149351
                        ]
                      },
                      {
                        "passed_time": 346.2559252,
                        "iteration": 440,
                        "remaining_time": 438.904903,
                        "learn": [
                          0.8056780362
                        ]
                      },
                      {
                        "passed_time": 347.027029,
                        "iteration": 441,
                        "remaining_time": 438.1019958,
                        "learn": [
                          0.8048174451
                        ]
                      },
                      {
                        "passed_time": 347.8150132,
                        "iteration": 442,
                        "remaining_time": 437.3204567,
                        "learn": [
                          0.8038628164
                        ]
                      },
                      {
                        "passed_time": 348.6255407,
                        "iteration": 443,
                        "remaining_time": 436.5671186,
                        "learn": [
                          0.8031993811
                        ]
                      },
                      {
                        "passed_time": 349.383121,
                        "iteration": 444,
                        "remaining_time": 435.747488,
                        "learn": [
                          0.8022576465
                        ]
                      },
                      {
                        "passed_time": 350.1853381,
                        "iteration": 445,
                        "remaining_time": 434.9835815,
                        "learn": [
                          0.8012109501
                        ]
                      },
                      {
                        "passed_time": 350.9496443,
                        "iteration": 446,
                        "remaining_time": 434.1726024,
                        "learn": [
                          0.8006576922
                        ]
                      },
                      {
                        "passed_time": 351.753473,
                        "iteration": 447,
                        "remaining_time": 433.4105292,
                        "learn": [
                          0.7998977022
                        ]
                      },
                      {
                        "passed_time": 352.526848,
                        "iteration": 448,
                        "remaining_time": 432.6108981,
                        "learn": [
                          0.7988138498
                        ]
                      },
                      {
                        "passed_time": 353.2973447,
                        "iteration": 449,
                        "remaining_time": 431.8078657,
                        "learn": [
                          0.798050438
                        ]
                      },
                      {
                        "passed_time": 354.0529005,
                        "iteration": 450,
                        "remaining_time": 430.9867901,
                        "learn": [
                          0.7973765754
                        ]
                      },
                      {
                        "passed_time": 354.8726501,
                        "iteration": 451,
                        "remaining_time": 430.2438325,
                        "learn": [
                          0.7964525619
                        ]
                      },
                      {
                        "passed_time": 355.6109816,
                        "iteration": 452,
                        "remaining_time": 429.4022228,
                        "learn": [
                          0.7961170431
                        ]
                      },
                      {
                        "passed_time": 356.4177322,
                        "iteration": 453,
                        "remaining_time": 428.6433519,
                        "learn": [
                          0.7950831643
                        ]
                      },
                      {
                        "passed_time": 357.2499333,
                        "iteration": 454,
                        "remaining_time": 427.9147553,
                        "learn": [
                          0.7940365502
                        ]
                      },
                      {
                        "passed_time": 358.1339336,
                        "iteration": 455,
                        "remaining_time": 427.2474997,
                        "learn": [
                          0.7928077913
                        ]
                      },
                      {
                        "passed_time": 358.9003599,
                        "iteration": 456,
                        "remaining_time": 426.4395961,
                        "learn": [
                          0.7918966905
                        ]
                      },
                      {
                        "passed_time": 359.7229763,
                        "iteration": 457,
                        "remaining_time": 425.6983693,
                        "learn": [
                          0.7910721399
                        ]
                      },
                      {
                        "passed_time": 360.5787332,
                        "iteration": 458,
                        "remaining_time": 424.995849,
                        "learn": [
                          0.7900273671
                        ]
                      },
                      {
                        "passed_time": 361.4099284,
                        "iteration": 459,
                        "remaining_time": 424.263829,
                        "learn": [
                          0.7890495874
                        ]
                      },
                      {
                        "passed_time": 362.1754537,
                        "iteration": 460,
                        "remaining_time": 423.4545977,
                        "learn": [
                          0.7884117813
                        ]
                      },
                      {
                        "passed_time": 362.9429391,
                        "iteration": 461,
                        "remaining_time": 422.6478382,
                        "learn": [
                          0.7876118886
                        ]
                      },
                      {
                        "passed_time": 363.8650903,
                        "iteration": 462,
                        "remaining_time": 422.0206339,
                        "learn": [
                          0.7864111952
                        ]
                      },
                      {
                        "passed_time": 364.6448744,
                        "iteration": 463,
                        "remaining_time": 421.2276997,
                        "learn": [
                          0.7855354335
                        ]
                      },
                      {
                        "passed_time": 365.3964639,
                        "iteration": 464,
                        "remaining_time": 420.4023832,
                        "learn": [
                          0.7848030855
                        ]
                      },
                      {
                        "passed_time": 366.1741775,
                        "iteration": 465,
                        "remaining_time": 419.6073192,
                        "learn": [
                          0.7836268037
                        ]
                      },
                      {
                        "passed_time": 366.9669589,
                        "iteration": 466,
                        "remaining_time": 418.829527,
                        "learn": [
                          0.7828222404
                        ]
                      },
                      {
                        "passed_time": 367.7657873,
                        "iteration": 467,
                        "remaining_time": 418.0585445,
                        "learn": [
                          0.7821336015
                        ]
                      },
                      {
                        "passed_time": 368.537816,
                        "iteration": 468,
                        "remaining_time": 417.2571009,
                        "learn": [
                          0.7813615902
                        ]
                      },
                      {
                        "passed_time": 369.3246331,
                        "iteration": 469,
                        "remaining_time": 416.4724586,
                        "learn": [
                          0.780489685
                        ]
                      },
                      {
                        "passed_time": 370.1797826,
                        "iteration": 470,
                        "remaining_time": 415.7645541,
                        "learn": [
                          0.7795954562
                        ]
                      },
                      {
                        "passed_time": 370.9948751,
                        "iteration": 471,
                        "remaining_time": 415.0112163,
                        "learn": [
                          0.7788894338
                        ]
                      },
                      {
                        "passed_time": 371.820035,
                        "iteration": 472,
                        "remaining_time": 414.268834,
                        "learn": [
                          0.778023456
                        ]
                      },
                      {
                        "passed_time": 372.60261,
                        "iteration": 473,
                        "remaining_time": 413.4788457,
                        "learn": [
                          0.7772695145
                        ]
                      },
                      {
                        "passed_time": 373.3986445,
                        "iteration": 474,
                        "remaining_time": 412.703765,
                        "learn": [
                          0.7763698342
                        ]
                      },
                      {
                        "passed_time": 374.308817,
                        "iteration": 475,
                        "remaining_time": 412.0542439,
                        "learn": [
                          0.7754960147
                        ]
                      },
                      {
                        "passed_time": 375.1277834,
                        "iteration": 476,
                        "remaining_time": 411.3036283,
                        "learn": [
                          0.7744469799
                        ]
                      },
                      {
                        "passed_time": 375.9346133,
                        "iteration": 477,
                        "remaining_time": 410.5394731,
                        "learn": [
                          0.7736674546
                        ]
                      },
                      {
                        "passed_time": 376.8282823,
                        "iteration": 478,
                        "remaining_time": 409.8695931,
                        "learn": [
                          0.7727050793
                        ]
                      },
                      {
                        "passed_time": 377.6434834,
                        "iteration": 479,
                        "remaining_time": 409.1137737,
                        "learn": [
                          0.7717005816
                        ]
                      },
                      {
                        "passed_time": 378.4217619,
                        "iteration": 480,
                        "remaining_time": 408.3178678,
                        "learn": [
                          0.7710727588
                        ]
                      },
                      {
                        "passed_time": 379.3055692,
                        "iteration": 481,
                        "remaining_time": 407.6354458,
                        "learn": [
                          0.7701975905
                        ]
                      },
                      {
                        "passed_time": 380.073766,
                        "iteration": 482,
                        "remaining_time": 406.8284411,
                        "learn": [
                          0.7693636204
                        ]
                      },
                      {
                        "passed_time": 380.9538478,
                        "iteration": 483,
                        "remaining_time": 406.140879,
                        "learn": [
                          0.7681501941
                        ]
                      },
                      {
                        "passed_time": 381.7948824,
                        "iteration": 484,
                        "remaining_time": 405.4110606,
                        "learn": [
                          0.7670967551
                        ]
                      },
                      {
                        "passed_time": 382.608129,
                        "iteration": 485,
                        "remaining_time": 404.6513957,
                        "learn": [
                          0.7664600326
                        ]
                      },
                      {
                        "passed_time": 383.4600463,
                        "iteration": 486,
                        "remaining_time": 403.9322459,
                        "learn": [
                          0.7653973259
                        ]
                      },
                      {
                        "passed_time": 384.2369097,
                        "iteration": 487,
                        "remaining_time": 403.1338069,
                        "learn": [
                          0.7647690815
                        ]
                      },
                      {
                        "passed_time": 385.0853751,
                        "iteration": 488,
                        "remaining_time": 402.4102795,
                        "learn": [
                          0.7639098518
                        ]
                      },
                      {
                        "passed_time": 385.9511204,
                        "iteration": 489,
                        "remaining_time": 401.7042274,
                        "learn": [
                          0.7629404891
                        ]
                      },
                      {
                        "passed_time": 386.6821748,
                        "iteration": 490,
                        "remaining_time": 400.8578961,
                        "learn": [
                          0.7623261166
                        ]
                      },
                      {
                        "passed_time": 387.4196876,
                        "iteration": 491,
                        "remaining_time": 400.0187018,
                        "learn": [
                          0.7618183277
                        ]
                      },
                      {
                        "passed_time": 388.2003322,
                        "iteration": 492,
                        "remaining_time": 399.2242768,
                        "learn": [
                          0.7611002455
                        ]
                      },
                      {
                        "passed_time": 389.034925,
                        "iteration": 493,
                        "remaining_time": 398.4851661,
                        "learn": [
                          0.7600891535
                        ]
                      },
                      {
                        "passed_time": 389.9193958,
                        "iteration": 494,
                        "remaining_time": 397.7965553,
                        "learn": [
                          0.7590154875
                        ]
                      },
                      {
                        "passed_time": 390.7370507,
                        "iteration": 495,
                        "remaining_time": 397.0392612,
                        "learn": [
                          0.7581113243
                        ]
                      },
                      {
                        "passed_time": 391.5610741,
                        "iteration": 496,
                        "remaining_time": 396.2881695,
                        "learn": [
                          0.7574701431
                        ]
                      },
                      {
                        "passed_time": 392.3439431,
                        "iteration": 497,
                        "remaining_time": 395.4953001,
                        "learn": [
                          0.7566603365
                        ]
                      },
                      {
                        "passed_time": 393.1612977,
                        "iteration": 498,
                        "remaining_time": 394.7370945,
                        "learn": [
                          0.7560674588
                        ]
                      },
                      {
                        "passed_time": 393.9609826,
                        "iteration": 499,
                        "remaining_time": 393.9609826,
                        "learn": [
                          0.7552319916
                        ]
                      },
                      {
                        "passed_time": 394.7872397,
                        "iteration": 500,
                        "remaining_time": 393.2112427,
                        "learn": [
                          0.7545927932
                        ]
                      },
                      {
                        "passed_time": 395.5735393,
                        "iteration": 501,
                        "remaining_time": 392.4215589,
                        "learn": [
                          0.7538738397
                        ]
                      },
                      {
                        "passed_time": 396.3636779,
                        "iteration": 502,
                        "remaining_time": 391.6356818,
                        "learn": [
                          0.7531542776
                        ]
                      },
                      {
                        "passed_time": 397.1630252,
                        "iteration": 503,
                        "remaining_time": 390.8588502,
                        "learn": [
                          0.7524690021
                        ]
                      },
                      {
                        "passed_time": 397.9926587,
                        "iteration": 504,
                        "remaining_time": 390.1116159,
                        "learn": [
                          0.7516459629
                        ]
                      },
                      {
                        "passed_time": 398.7879876,
                        "iteration": 505,
                        "remaining_time": 389.330565,
                        "learn": [
                          0.7511236077
                        ]
                      },
                      {
                        "passed_time": 399.6281487,
                        "iteration": 506,
                        "remaining_time": 388.5930518,
                        "learn": [
                          0.7503674433
                        ]
                      },
                      {
                        "passed_time": 400.4032937,
                        "iteration": 507,
                        "remaining_time": 387.7921664,
                        "learn": [
                          0.7499614638
                        ]
                      },
                      {
                        "passed_time": 401.2305152,
                        "iteration": 508,
                        "remaining_time": 387.0416168,
                        "learn": [
                          0.7490216496
                        ]
                      },
                      {
                        "passed_time": 402.0722302,
                        "iteration": 509,
                        "remaining_time": 386.3046918,
                        "learn": [
                          0.7482105205
                        ]
                      },
                      {
                        "passed_time": 402.8840866,
                        "iteration": 510,
                        "remaining_time": 385.5387835,
                        "learn": [
                          0.7475577639
                        ]
                      },
                      {
                        "passed_time": 403.6703839,
                        "iteration": 511,
                        "remaining_time": 384.7483347,
                        "learn": [
                          0.7466725612
                        ]
                      },
                      {
                        "passed_time": 404.4683132,
                        "iteration": 512,
                        "remaining_time": 383.9689445,
                        "learn": [
                          0.7458104326
                        ]
                      },
                      {
                        "passed_time": 405.3044903,
                        "iteration": 513,
                        "remaining_time": 383.2256465,
                        "learn": [
                          0.7447680796
                        ]
                      },
                      {
                        "passed_time": 406.1482268,
                        "iteration": 514,
                        "remaining_time": 382.4891067,
                        "learn": [
                          0.7437716775
                        ]
                      },
                      {
                        "passed_time": 406.9572866,
                        "iteration": 515,
                        "remaining_time": 381.7196254,
                        "learn": [
                          0.7430686064
                        ]
                      },
                      {
                        "passed_time": 407.7479366,
                        "iteration": 516,
                        "remaining_time": 380.9327918,
                        "learn": [
                          0.7423268722
                        ]
                      },
                      {
                        "passed_time": 408.5705392,
                        "iteration": 517,
                        "remaining_time": 380.1756755,
                        "learn": [
                          0.7415930833
                        ]
                      },
                      {
                        "passed_time": 409.3842545,
                        "iteration": 518,
                        "remaining_time": 379.4100701,
                        "learn": [
                          0.7405808632
                        ]
                      },
                      {
                        "passed_time": 410.1817115,
                        "iteration": 519,
                        "remaining_time": 378.6292722,
                        "learn": [
                          0.7398592022
                        ]
                      },
                      {
                        "passed_time": 411.099599,
                        "iteration": 520,
                        "remaining_time": 377.9591323,
                        "learn": [
                          0.7389469408
                        ]
                      },
                      {
                        "passed_time": 411.8742363,
                        "iteration": 521,
                        "remaining_time": 377.1568677,
                        "learn": [
                          0.7383594305
                        ]
                      },
                      {
                        "passed_time": 412.6278102,
                        "iteration": 522,
                        "remaining_time": 376.335498,
                        "learn": [
                          0.7375765691
                        ]
                      },
                      {
                        "passed_time": 413.4214088,
                        "iteration": 523,
                        "remaining_time": 375.5507454,
                        "learn": [
                          0.7368081538
                        ]
                      },
                      {
                        "passed_time": 414.253913,
                        "iteration": 524,
                        "remaining_time": 374.8011594,
                        "learn": [
                          0.7361822974
                        ]
                      },
                      {
                        "passed_time": 415.0670796,
                        "iteration": 525,
                        "remaining_time": 374.0338322,
                        "learn": [
                          0.7356442805
                        ]
                      },
                      {
                        "passed_time": 415.8845505,
                        "iteration": 526,
                        "remaining_time": 373.2701942,
                        "learn": [
                          0.7347992199
                        ]
                      },
                      {
                        "passed_time": 416.65076,
                        "iteration": 527,
                        "remaining_time": 372.4605279,
                        "learn": [
                          0.7341411644
                        ]
                      },
                      {
                        "passed_time": 417.421493,
                        "iteration": 528,
                        "remaining_time": 371.6550533,
                        "learn": [
                          0.7332388748
                        ]
                      },
                      {
                        "passed_time": 418.1834635,
                        "iteration": 529,
                        "remaining_time": 370.8419393,
                        "learn": [
                          0.7324659765
                        ]
                      },
                      {
                        "passed_time": 419.0556696,
                        "iteration": 530,
                        "remaining_time": 370.1263824,
                        "learn": [
                          0.7312927401
                        ]
                      },
                      {
                        "passed_time": 419.8549683,
                        "iteration": 531,
                        "remaining_time": 369.3460999,
                        "learn": [
                          0.7304733655
                        ]
                      },
                      {
                        "passed_time": 420.6347012,
                        "iteration": 532,
                        "remaining_time": 368.5486032,
                        "learn": [
                          0.729619429
                        ]
                      },
                      {
                        "passed_time": 421.4039867,
                        "iteration": 533,
                        "remaining_time": 367.7420558,
                        "learn": [
                          0.7287265276
                        ]
                      },
                      {
                        "passed_time": 422.174886,
                        "iteration": 534,
                        "remaining_time": 366.9370505,
                        "learn": [
                          0.7280519452
                        ]
                      },
                      {
                        "passed_time": 422.9320053,
                        "iteration": 535,
                        "remaining_time": 366.1202434,
                        "learn": [
                          0.7274070582
                        ]
                      },
                      {
                        "passed_time": 423.6858112,
                        "iteration": 536,
                        "remaining_time": 365.3008019,
                        "learn": [
                          0.7266453131
                        ]
                      },
                      {
                        "passed_time": 424.5198318,
                        "iteration": 537,
                        "remaining_time": 364.5504875,
                        "learn": [
                          0.7258706745
                        ]
                      },
                      {
                        "passed_time": 425.3419759,
                        "iteration": 538,
                        "remaining_time": 363.7897048,
                        "learn": [
                          0.7250900081
                        ]
                      },
                      {
                        "passed_time": 426.2311789,
                        "iteration": 539,
                        "remaining_time": 363.085819,
                        "learn": [
                          0.7244083742
                        ]
                      },
                      {
                        "passed_time": 427.0118921,
                        "iteration": 540,
                        "remaining_time": 362.2892023,
                        "learn": [
                          0.7235900789
                        ]
                      },
                      {
                        "passed_time": 427.8143862,
                        "iteration": 541,
                        "remaining_time": 361.5110496,
                        "learn": [
                          0.7226942605
                        ]
                      },
                      {
                        "passed_time": 428.6918405,
                        "iteration": 542,
                        "remaining_time": 360.7958953,
                        "learn": [
                          0.7217170357
                        ]
                      },
                      {
                        "passed_time": 429.5620459,
                        "iteration": 543,
                        "remaining_time": 360.0740679,
                        "learn": [
                          0.7212063431
                        ]
                      },
                      {
                        "passed_time": 430.4546738,
                        "iteration": 544,
                        "remaining_time": 359.3704157,
                        "learn": [
                          0.7206423214
                        ]
                      },
                      {
                        "passed_time": 431.2670463,
                        "iteration": 545,
                        "remaining_time": 358.5993389,
                        "learn": [
                          0.7201530554
                        ]
                      },
                      {
                        "passed_time": 432.0959894,
                        "iteration": 546,
                        "remaining_time": 357.841834,
                        "learn": [
                          0.7191548384
                        ]
                      },
                      {
                        "passed_time": 432.9137221,
                        "iteration": 547,
                        "remaining_time": 357.0748219,
                        "learn": [
                          0.718201087
                        ]
                      },
                      {
                        "passed_time": 433.8009196,
                        "iteration": 548,
                        "remaining_time": 356.3646898,
                        "learn": [
                          0.717190019
                        ]
                      },
                      {
                        "passed_time": 434.5606901,
                        "iteration": 549,
                        "remaining_time": 355.5496555,
                        "learn": [
                          0.7163746541
                        ]
                      },
                      {
                        "passed_time": 435.3224424,
                        "iteration": 550,
                        "remaining_time": 354.7364367,
                        "learn": [
                          0.7155078427
                        ]
                      },
                      {
                        "passed_time": 436.2203751,
                        "iteration": 551,
                        "remaining_time": 354.0339276,
                        "learn": [
                          0.7148319747
                        ]
                      },
                      {
                        "passed_time": 437.1010161,
                        "iteration": 552,
                        "remaining_time": 353.3167346,
                        "learn": [
                          0.7139756566
                        ]
                      },
                      {
                        "passed_time": 437.9144528,
                        "iteration": 553,
                        "remaining_time": 352.5448483,
                        "learn": [
                          0.7131902609
                        ]
                      },
                      {
                        "passed_time": 438.709133,
                        "iteration": 554,
                        "remaining_time": 351.7577733,
                        "learn": [
                          0.7125306529
                        ]
                      },
                      {
                        "passed_time": 439.5083852,
                        "iteration": 555,
                        "remaining_time": 350.974322,
                        "learn": [
                          0.7118917088
                        ]
                      },
                      {
                        "passed_time": 440.304823,
                        "iteration": 556,
                        "remaining_time": 350.1885756,
                        "learn": [
                          0.7112384147
                        ]
                      },
                      {
                        "passed_time": 441.1125813,
                        "iteration": 557,
                        "remaining_time": 349.4117579,
                        "learn": [
                          0.7104697497
                        ]
                      },
                      {
                        "passed_time": 441.9177942,
                        "iteration": 558,
                        "remaining_time": 348.6328216,
                        "learn": [
                          0.7097101449
                        ]
                      },
                      {
                        "passed_time": 442.7165215,
                        "iteration": 559,
                        "remaining_time": 347.8486955,
                        "learn": [
                          0.7092187868
                        ]
                      },
                      {
                        "passed_time": 443.5074911,
                        "iteration": 560,
                        "remaining_time": 347.0584467,
                        "learn": [
                          0.7085977684
                        ]
                      },
                      {
                        "passed_time": 444.2281675,
                        "iteration": 561,
                        "remaining_time": 346.2134117,
                        "learn": [
                          0.708084264
                        ]
                      },
                      {
                        "passed_time": 445.0202014,
                        "iteration": 562,
                        "remaining_time": 345.4242061,
                        "learn": [
                          0.7074015669
                        ]
                      },
                      {
                        "passed_time": 445.9073481,
                        "iteration": 563,
                        "remaining_time": 344.7085173,
                        "learn": [
                          0.7063076014
                        ]
                      },
                      {
                        "passed_time": 446.7461116,
                        "iteration": 564,
                        "remaining_time": 343.9549709,
                        "learn": [
                          0.705548665
                        ]
                      },
                      {
                        "passed_time": 447.549975,
                        "iteration": 565,
                        "remaining_time": 343.1743624,
                        "learn": [
                          0.7048213534
                        ]
                      },
                      {
                        "passed_time": 448.3402182,
                        "iteration": 566,
                        "remaining_time": 342.3832707,
                        "learn": [
                          0.7041660731
                        ]
                      },
                      {
                        "passed_time": 449.1547746,
                        "iteration": 567,
                        "remaining_time": 341.6106737,
                        "learn": [
                          0.7033765237
                        ]
                      },
                      {
                        "passed_time": 450.0882699,
                        "iteration": 568,
                        "remaining_time": 340.9280217,
                        "learn": [
                          0.7027107466
                        ]
                      },
                      {
                        "passed_time": 450.8798515,
                        "iteration": 569,
                        "remaining_time": 340.1374318,
                        "learn": [
                          0.7019800844
                        ]
                      },
                      {
                        "passed_time": 451.6968435,
                        "iteration": 570,
                        "remaining_time": 339.3659297,
                        "learn": [
                          0.7012310455
                        ]
                      },
                      {
                        "passed_time": 452.4543251,
                        "iteration": 571,
                        "remaining_time": 338.5497398,
                        "learn": [
                          0.7006211171
                        ]
                      },
                      {
                        "passed_time": 453.2944646,
                        "iteration": 572,
                        "remaining_time": 337.7953515,
                        "learn": [
                          0.6998270181
                        ]
                      },
                      {
                        "passed_time": 454.1252193,
                        "iteration": 573,
                        "remaining_time": 337.0336993,
                        "learn": [
                          0.6989856794
                        ]
                      },
                      {
                        "passed_time": 454.9342488,
                        "iteration": 574,
                        "remaining_time": 336.2557491,
                        "learn": [
                          0.6983140227
                        ]
                      },
                      {
                        "passed_time": 455.7472203,
                        "iteration": 575,
                        "remaining_time": 335.4805927,
                        "learn": [
                          0.6977254293
                        ]
                      },
                      {
                        "passed_time": 456.5104687,
                        "iteration": 576,
                        "remaining_time": 334.6688532,
                        "learn": [
                          0.6971598536
                        ]
                      },
                      {
                        "passed_time": 457.2981393,
                        "iteration": 577,
                        "remaining_time": 333.8751121,
                        "learn": [
                          0.6964883097
                        ]
                      },
                      {
                        "passed_time": 458.0845638,
                        "iteration": 578,
                        "remaining_time": 333.0804859,
                        "learn": [
                          0.6958202391
                        ]
                      },
                      {
                        "passed_time": 458.8370922,
                        "iteration": 579,
                        "remaining_time": 332.2613426,
                        "learn": [
                          0.6952724577
                        ]
                      },
                      {
                        "passed_time": 459.6244068,
                        "iteration": 580,
                        "remaining_time": 331.4675154,
                        "learn": [
                          0.6944091715
                        ]
                      },
                      {
                        "passed_time": 460.4331963,
                        "iteration": 581,
                        "remaining_time": 330.6891341,
                        "learn": [
                          0.6934195611
                        ]
                      },
                      {
                        "passed_time": 461.2168359,
                        "iteration": 582,
                        "remaining_time": 329.8926597,
                        "learn": [
                          0.6926394741
                        ]
                      },
                      {
                        "passed_time": 461.9658284,
                        "iteration": 583,
                        "remaining_time": 329.071549,
                        "learn": [
                          0.6920069346
                        ]
                      },
                      {
                        "passed_time": 462.7399472,
                        "iteration": 584,
                        "remaining_time": 328.2685095,
                        "learn": [
                          0.6915082175
                        ]
                      },
                      {
                        "passed_time": 463.5328802,
                        "iteration": 585,
                        "remaining_time": 327.4788608,
                        "learn": [
                          0.6910459665
                        ]
                      },
                      {
                        "passed_time": 464.3225886,
                        "iteration": 586,
                        "remaining_time": 326.686932,
                        "learn": [
                          0.6900507446
                        ]
                      },
                      {
                        "passed_time": 465.1195937,
                        "iteration": 587,
                        "remaining_time": 325.9001235,
                        "learn": [
                          0.6894762344
                        ]
                      },
                      {
                        "passed_time": 466.0078878,
                        "iteration": 588,
                        "remaining_time": 325.1769811,
                        "learn": [
                          0.6885738444
                        ]
                      },
                      {
                        "passed_time": 466.8450512,
                        "iteration": 589,
                        "remaining_time": 324.4177474,
                        "learn": [
                          0.6877710162
                        ]
                      },
                      {
                        "passed_time": 467.6683965,
                        "iteration": 590,
                        "remaining_time": 323.6486873,
                        "learn": [
                          0.6871732505
                        ]
                      },
                      {
                        "passed_time": 468.4817404,
                        "iteration": 591,
                        "remaining_time": 322.8725508,
                        "learn": [
                          0.6862755275
                        ]
                      },
                      {
                        "passed_time": 469.2930509,
                        "iteration": 592,
                        "remaining_time": 322.0948933,
                        "learn": [
                          0.6852666216
                        ]
                      },
                      {
                        "passed_time": 470.1344624,
                        "iteration": 593,
                        "remaining_time": 321.3376965,
                        "learn": [
                          0.6843176474
                        ]
                      },
                      {
                        "passed_time": 470.9500049,
                        "iteration": 594,
                        "remaining_time": 320.5626084,
                        "learn": [
                          0.6837307304
                        ]
                      },
                      {
                        "passed_time": 471.7709188,
                        "iteration": 595,
                        "remaining_time": 319.7910255,
                        "learn": [
                          0.6830270288
                        ]
                      },
                      {
                        "passed_time": 472.5746285,
                        "iteration": 596,
                        "remaining_time": 319.0076638,
                        "learn": [
                          0.6822676616
                        ]
                      },
                      {
                        "passed_time": 473.3512074,
                        "iteration": 597,
                        "remaining_time": 318.2059956,
                        "learn": [
                          0.6817604947
                        ]
                      },
                      {
                        "passed_time": 474.2047126,
                        "iteration": 598,
                        "remaining_time": 317.4559094,
                        "learn": [
                          0.6807187199
                        ]
                      },
                      {
                        "passed_time": 475.0692719,
                        "iteration": 599,
                        "remaining_time": 316.7128479,
                        "learn": [
                          0.679897807
                        ]
                      },
                      {
                        "passed_time": 475.85278,
                        "iteration": 600,
                        "remaining_time": 315.9155728,
                        "learn": [
                          0.6789830887
                        ]
                      },
                      {
                        "passed_time": 476.6616618,
                        "iteration": 601,
                        "remaining_time": 315.1351186,
                        "learn": [
                          0.6784245538
                        ]
                      },
                      {
                        "passed_time": 477.5269397,
                        "iteration": 602,
                        "remaining_time": 314.3916999,
                        "learn": [
                          0.6775157286
                        ]
                      },
                      {
                        "passed_time": 478.3213531,
                        "iteration": 603,
                        "remaining_time": 313.6014169,
                        "learn": [
                          0.6769322343
                        ]
                      },
                      {
                        "passed_time": 479.1425304,
                        "iteration": 604,
                        "remaining_time": 312.8285942,
                        "learn": [
                          0.6760874749
                        ]
                      },
                      {
                        "passed_time": 479.947244,
                        "iteration": 605,
                        "remaining_time": 312.0449078,
                        "learn": [
                          0.6753636029
                        ]
                      },
                      {
                        "passed_time": 480.7513838,
                        "iteration": 606,
                        "remaining_time": 311.2607806,
                        "learn": [
                          0.6744609093
                        ]
                      },
                      {
                        "passed_time": 481.5786963,
                        "iteration": 607,
                        "remaining_time": 310.4915279,
                        "learn": [
                          0.6738784696
                        ]
                      },
                      {
                        "passed_time": 482.3874229,
                        "iteration": 608,
                        "remaining_time": 309.7101516,
                        "learn": [
                          0.6732417851
                        ]
                      },
                      {
                        "passed_time": 483.2095382,
                        "iteration": 609,
                        "remaining_time": 308.9372457,
                        "learn": [
                          0.6725619696
                        ]
                      },
                      {
                        "passed_time": 484.0742514,
                        "iteration": 610,
                        "remaining_time": 308.1912992,
                        "learn": [
                          0.6717762119
                        ]
                      },
                      {
                        "passed_time": 484.8887017,
                        "iteration": 611,
                        "remaining_time": 307.4130985,
                        "learn": [
                          0.6712133893
                        ]
                      },
                      {
                        "passed_time": 485.6406556,
                        "iteration": 612,
                        "remaining_time": 306.5953242,
                        "learn": [
                          0.6705213122
                        ]
                      },
                      {
                        "passed_time": 486.4837773,
                        "iteration": 613,
                        "remaining_time": 305.8350782,
                        "learn": [
                          0.6698333036
                        ]
                      },
                      {
                        "passed_time": 487.3291466,
                        "iteration": 614,
                        "remaining_time": 305.0759698,
                        "learn": [
                          0.669168153
                        ]
                      },
                      {
                        "passed_time": 488.1437304,
                        "iteration": 615,
                        "remaining_time": 304.2973904,
                        "learn": [
                          0.668344762
                        ]
                      },
                      {
                        "passed_time": 488.8518169,
                        "iteration": 616,
                        "remaining_time": 303.4525865,
                        "learn": [
                          0.6677590797
                        ]
                      },
                      {
                        "passed_time": 489.6673988,
                        "iteration": 617,
                        "remaining_time": 302.6746705,
                        "learn": [
                          0.6672638076
                        ]
                      },
                      {
                        "passed_time": 490.4841759,
                        "iteration": 618,
                        "remaining_time": 301.8973683,
                        "learn": [
                          0.6668988227
                        ]
                      },
                      {
                        "passed_time": 491.3306852,
                        "iteration": 619,
                        "remaining_time": 301.1381619,
                        "learn": [
                          0.6662505168
                        ]
                      },
                      {
                        "passed_time": 492.1071907,
                        "iteration": 620,
                        "remaining_time": 300.3359505,
                        "learn": [
                          0.665634514
                        ]
                      },
                      {
                        "passed_time": 492.9445765,
                        "iteration": 621,
                        "remaining_time": 299.5708198,
                        "learn": [
                          0.664951226
                        ]
                      },
                      {
                        "passed_time": 493.7410703,
                        "iteration": 622,
                        "remaining_time": 298.7807119,
                        "learn": [
                          0.6645659034
                        ]
                      },
                      {
                        "passed_time": 494.579427,
                        "iteration": 623,
                        "remaining_time": 298.0158086,
                        "learn": [
                          0.6639756846
                        ]
                      },
                      {
                        "passed_time": 495.3608269,
                        "iteration": 624,
                        "remaining_time": 297.2164962,
                        "learn": [
                          0.6634105003
                        ]
                      },
                      {
                        "passed_time": 496.1948537,
                        "iteration": 625,
                        "remaining_time": 296.4486826,
                        "learn": [
                          0.6627690262
                        ]
                      },
                      {
                        "passed_time": 496.9796196,
                        "iteration": 626,
                        "remaining_time": 295.6513527,
                        "learn": [
                          0.6622093563
                        ]
                      },
                      {
                        "passed_time": 497.7626655,
                        "iteration": 627,
                        "remaining_time": 294.8530439,
                        "learn": [
                          0.6613092283
                        ]
                      },
                      {
                        "passed_time": 498.5382094,
                        "iteration": 628,
                        "remaining_time": 294.0503588,
                        "learn": [
                          0.660483632
                        ]
                      },
                      {
                        "passed_time": 499.3541137,
                        "iteration": 629,
                        "remaining_time": 293.2714636,
                        "learn": [
                          0.6599142486
                        ]
                      },
                      {
                        "passed_time": 500.2074746,
                        "iteration": 630,
                        "remaining_time": 292.5143552,
                        "learn": [
                          0.659129482
                        ]
                      },
                      {
                        "passed_time": 500.9971447,
                        "iteration": 631,
                        "remaining_time": 291.7198564,
                        "learn": [
                          0.658419302
                        ]
                      },
                      {
                        "passed_time": 501.7995222,
                        "iteration": 632,
                        "remaining_time": 290.9327403,
                        "learn": [
                          0.6573478819
                        ]
                      },
                      {
                        "passed_time": 502.6089696,
                        "iteration": 633,
                        "remaining_time": 290.1496575,
                        "learn": [
                          0.6568491708
                        ]
                      },
                      {
                        "passed_time": 503.4274775,
                        "iteration": 634,
                        "remaining_time": 289.3716997,
                        "learn": [
                          0.656190932
                        ]
                      },
                      {
                        "passed_time": 504.2682857,
                        "iteration": 635,
                        "remaining_time": 288.6063773,
                        "learn": [
                          0.6551991059
                        ]
                      },
                      {
                        "passed_time": 505.1023202,
                        "iteration": 636,
                        "remaining_time": 287.836958,
                        "learn": [
                          0.6542784886
                        ]
                      },
                      {
                        "passed_time": 505.9270489,
                        "iteration": 637,
                        "remaining_time": 287.0620559,
                        "learn": [
                          0.653491518
                        ]
                      },
                      {
                        "passed_time": 506.783332,
                        "iteration": 638,
                        "remaining_time": 286.3048245,
                        "learn": [
                          0.6527866318
                        ]
                      },
                      {
                        "passed_time": 507.7072815,
                        "iteration": 639,
                        "remaining_time": 285.5853458,
                        "learn": [
                          0.6518236017
                        ]
                      },
                      {
                        "passed_time": 508.5106067,
                        "iteration": 640,
                        "remaining_time": 284.7976721,
                        "learn": [
                          0.6510568835
                        ]
                      },
                      {
                        "passed_time": 509.3586786,
                        "iteration": 641,
                        "remaining_time": 284.0349017,
                        "learn": [
                          0.6501784996
                        ]
                      },
                      {
                        "passed_time": 510.2209392,
                        "iteration": 642,
                        "remaining_time": 283.2797438,
                        "learn": [
                          0.6492433368
                        ]
                      },
                      {
                        "passed_time": 511.1316184,
                        "iteration": 643,
                        "remaining_time": 282.5510189,
                        "learn": [
                          0.6483717239
                        ]
                      },
                      {
                        "passed_time": 511.926072,
                        "iteration": 644,
                        "remaining_time": 281.7577605,
                        "learn": [
                          0.647844785
                        ]
                      },
                      {
                        "passed_time": 512.7700162,
                        "iteration": 645,
                        "remaining_time": 280.9916188,
                        "learn": [
                          0.6470139539
                        ]
                      },
                      {
                        "passed_time": 513.5804682,
                        "iteration": 646,
                        "remaining_time": 280.2069633,
                        "learn": [
                          0.6462862856
                        ]
                      },
                      {
                        "passed_time": 514.3483612,
                        "iteration": 647,
                        "remaining_time": 279.3991098,
                        "learn": [
                          0.6455822766
                        ]
                      },
                      {
                        "passed_time": 515.131009,
                        "iteration": 648,
                        "remaining_time": 278.5993592,
                        "learn": [
                          0.644916213
                        ]
                      },
                      {
                        "passed_time": 515.9628532,
                        "iteration": 649,
                        "remaining_time": 277.8261517,
                        "learn": [
                          0.644090711
                        ]
                      },
                      {
                        "passed_time": 516.7501172,
                        "iteration": 650,
                        "remaining_time": 277.0288647,
                        "learn": [
                          0.6435754414
                        ]
                      },
                      {
                        "passed_time": 517.5638839,
                        "iteration": 651,
                        "remaining_time": 276.245754,
                        "learn": [
                          0.6428231807
                        ]
                      },
                      {
                        "passed_time": 518.4089555,
                        "iteration": 652,
                        "remaining_time": 275.4791846,
                        "learn": [
                          0.6419617171
                        ]
                      },
                      {
                        "passed_time": 519.2052384,
                        "iteration": 653,
                        "remaining_time": 274.6865634,
                        "learn": [
                          0.641313646
                        ]
                      },
                      {
                        "passed_time": 520.0828559,
                        "iteration": 654,
                        "remaining_time": 273.9367715,
                        "learn": [
                          0.6404370708
                        ]
                      },
                      {
                        "passed_time": 520.880789,
                        "iteration": 655,
                        "remaining_time": 273.144804,
                        "learn": [
                          0.6398264202
                        ]
                      },
                      {
                        "passed_time": 521.6862413,
                        "iteration": 656,
                        "remaining_time": 272.3567439,
                        "learn": [
                          0.6391313193
                        ]
                      },
                      {
                        "passed_time": 522.5260625,
                        "iteration": 657,
                        "remaining_time": 271.5864945,
                        "learn": [
                          0.6384918819
                        ]
                      },
                      {
                        "passed_time": 523.2900409,
                        "iteration": 658,
                        "remaining_time": 270.776789,
                        "learn": [
                          0.6376465581
                        ]
                      },
                      {
                        "passed_time": 524.0602211,
                        "iteration": 659,
                        "remaining_time": 269.9704169,
                        "learn": [
                          0.6368502148
                        ]
                      },
                      {
                        "passed_time": 524.8324799,
                        "iteration": 660,
                        "remaining_time": 269.1652204,
                        "learn": [
                          0.6362172085
                        ]
                      },
                      {
                        "passed_time": 525.6346592,
                        "iteration": 661,
                        "remaining_time": 268.3754,
                        "learn": [
                          0.6355690916
                        ]
                      },
                      {
                        "passed_time": 526.4280197,
                        "iteration": 662,
                        "remaining_time": 267.5810598,
                        "learn": [
                          0.635086767
                        ]
                      },
                      {
                        "passed_time": 527.1982177,
                        "iteration": 663,
                        "remaining_time": 266.7750017,
                        "learn": [
                          0.6345669938
                        ]
                      },
                      {
                        "passed_time": 527.9850685,
                        "iteration": 664,
                        "remaining_time": 265.9774405,
                        "learn": [
                          0.6337772365
                        ]
                      },
                      {
                        "passed_time": 528.7372313,
                        "iteration": 665,
                        "remaining_time": 265.1625154,
                        "learn": [
                          0.6331594125
                        ]
                      },
                      {
                        "passed_time": 529.572827,
                        "iteration": 666,
                        "remaining_time": 264.3894324,
                        "learn": [
                          0.6324833551
                        ]
                      },
                      {
                        "passed_time": 530.3528389,
                        "iteration": 667,
                        "remaining_time": 263.5885367,
                        "learn": [
                          0.6321162528
                        ]
                      },
                      {
                        "passed_time": 531.1086447,
                        "iteration": 668,
                        "remaining_time": 262.775727,
                        "learn": [
                          0.6315698347
                        ]
                      },
                      {
                        "passed_time": 531.8701045,
                        "iteration": 669,
                        "remaining_time": 261.9658724,
                        "learn": [
                          0.6307799966
                        ]
                      },
                      {
                        "passed_time": 532.6760981,
                        "iteration": 670,
                        "remaining_time": 261.1779974,
                        "learn": [
                          0.6301727682
                        ]
                      },
                      {
                        "passed_time": 533.4565388,
                        "iteration": 671,
                        "remaining_time": 260.3775963,
                        "learn": [
                          0.6294766757
                        ]
                      },
                      {
                        "passed_time": 534.1951627,
                        "iteration": 672,
                        "remaining_time": 259.5569364,
                        "learn": [
                          0.6289343282
                        ]
                      },
                      {
                        "passed_time": 535.0510802,
                        "iteration": 673,
                        "remaining_time": 258.7932525,
                        "learn": [
                          0.6283777859
                        ]
                      },
                      {
                        "passed_time": 535.8746345,
                        "iteration": 674,
                        "remaining_time": 258.0137129,
                        "learn": [
                          0.6276336812
                        ]
                      },
                      {
                        "passed_time": 536.7095821,
                        "iteration": 675,
                        "remaining_time": 257.2395039,
                        "learn": [
                          0.6269090047
                        ]
                      },
                      {
                        "passed_time": 537.5644338,
                        "iteration": 676,
                        "remaining_time": 256.4746117,
                        "learn": [
                          0.6259559987
                        ]
                      },
                      {
                        "passed_time": 538.441712,
                        "iteration": 677,
                        "remaining_time": 255.7201051,
                        "learn": [
                          0.6251525178
                        ]
                      },
                      {
                        "passed_time": 539.2320227,
                        "iteration": 678,
                        "remaining_time": 254.9241227,
                        "learn": [
                          0.6243668945
                        ]
                      },
                      {
                        "passed_time": 540.1413716,
                        "iteration": 679,
                        "remaining_time": 254.1841749,
                        "learn": [
                          0.6235557859
                        ]
                      },
                      {
                        "passed_time": 540.987158,
                        "iteration": 680,
                        "remaining_time": 253.4139551,
                        "learn": [
                          0.6231428637
                        ]
                      },
                      {
                        "passed_time": 541.7953151,
                        "iteration": 681,
                        "remaining_time": 252.625968,
                        "learn": [
                          0.6227221901
                        ]
                      },
                      {
                        "passed_time": 542.5836406,
                        "iteration": 682,
                        "remaining_time": 251.8287175,
                        "learn": [
                          0.6222962914
                        ]
                      },
                      {
                        "passed_time": 543.4424696,
                        "iteration": 683,
                        "remaining_time": 251.0640649,
                        "learn": [
                          0.6218377108
                        ]
                      },
                      {
                        "passed_time": 544.3426991,
                        "iteration": 684,
                        "remaining_time": 250.3181755,
                        "learn": [
                          0.6212121295
                        ]
                      },
                      {
                        "passed_time": 545.1293124,
                        "iteration": 685,
                        "remaining_time": 249.519831,
                        "learn": [
                          0.620626034
                        ]
                      },
                      {
                        "passed_time": 545.9739003,
                        "iteration": 686,
                        "remaining_time": 248.7479342,
                        "learn": [
                          0.6200400969
                        ]
                      },
                      {
                        "passed_time": 546.8266172,
                        "iteration": 687,
                        "remaining_time": 247.9795124,
                        "learn": [
                          0.619376671
                        ]
                      },
                      {
                        "passed_time": 547.6492002,
                        "iteration": 688,
                        "remaining_time": 247.1972442,
                        "learn": [
                          0.6187544109
                        ]
                      },
                      {
                        "passed_time": 548.4003386,
                        "iteration": 689,
                        "remaining_time": 246.3827608,
                        "learn": [
                          0.6182039168
                        ]
                      },
                      {
                        "passed_time": 549.2094256,
                        "iteration": 690,
                        "remaining_time": 245.5943741,
                        "learn": [
                          0.6176618773
                        ]
                      },
                      {
                        "passed_time": 550.0536254,
                        "iteration": 691,
                        "remaining_time": 244.8215558,
                        "learn": [
                          0.6168707056
                        ]
                      },
                      {
                        "passed_time": 550.8682265,
                        "iteration": 692,
                        "remaining_time": 244.0354192,
                        "learn": [
                          0.6162184409
                        ]
                      },
                      {
                        "passed_time": 551.6779999,
                        "iteration": 693,
                        "remaining_time": 243.247072,
                        "learn": [
                          0.6154224881
                        ]
                      },
                      {
                        "passed_time": 552.4514505,
                        "iteration": 694,
                        "remaining_time": 242.4427229,
                        "learn": [
                          0.6146745877
                        ]
                      },
                      {
                        "passed_time": 553.2540793,
                        "iteration": 695,
                        "remaining_time": 241.6512071,
                        "learn": [
                          0.6139500843
                        ]
                      },
                      {
                        "passed_time": 554.1013953,
                        "iteration": 696,
                        "remaining_time": 240.8790858,
                        "learn": [
                          0.6132941653
                        ]
                      },
                      {
                        "passed_time": 554.9312827,
                        "iteration": 697,
                        "remaining_time": 240.0992083,
                        "learn": [
                          0.6129077328
                        ]
                      },
                      {
                        "passed_time": 555.7128567,
                        "iteration": 698,
                        "remaining_time": 239.2983832,
                        "learn": [
                          0.6124627514
                        ]
                      },
                      {
                        "passed_time": 556.5370941,
                        "iteration": 699,
                        "remaining_time": 238.5158975,
                        "learn": [
                          0.6119800943
                        ]
                      },
                      {
                        "passed_time": 557.3102512,
                        "iteration": 700,
                        "remaining_time": 237.7115051,
                        "learn": [
                          0.6114965249
                        ]
                      },
                      {
                        "passed_time": 558.0722622,
                        "iteration": 701,
                        "remaining_time": 236.9024703,
                        "learn": [
                          0.6109938733
                        ]
                      },
                      {
                        "passed_time": 558.846032,
                        "iteration": 702,
                        "remaining_time": 236.098537,
                        "learn": [
                          0.6103823877
                        ]
                      },
                      {
                        "passed_time": 559.6538209,
                        "iteration": 703,
                        "remaining_time": 235.3089929,
                        "learn": [
                          0.6098355225
                        ]
                      },
                      {
                        "passed_time": 560.4779752,
                        "iteration": 704,
                        "remaining_time": 234.526245,
                        "learn": [
                          0.6093570822
                        ]
                      },
                      {
                        "passed_time": 561.3027443,
                        "iteration": 705,
                        "remaining_time": 233.7436357,
                        "learn": [
                          0.6086056423
                        ]
                      },
                      {
                        "passed_time": 562.0662464,
                        "iteration": 706,
                        "remaining_time": 232.9355165,
                        "learn": [
                          0.608101716
                        ]
                      },
                      {
                        "passed_time": 562.8526094,
                        "iteration": 707,
                        "remaining_time": 232.1369519,
                        "learn": [
                          0.6074658114
                        ]
                      },
                      {
                        "passed_time": 563.6720375,
                        "iteration": 708,
                        "remaining_time": 231.3519928,
                        "learn": [
                          0.6068984504
                        ]
                      },
                      {
                        "passed_time": 564.4743784,
                        "iteration": 709,
                        "remaining_time": 230.5599574,
                        "learn": [
                          0.6061237566
                        ]
                      },
                      {
                        "passed_time": 565.3153312,
                        "iteration": 710,
                        "remaining_time": 229.7835875,
                        "learn": [
                          0.6052757224
                        ]
                      },
                      {
                        "passed_time": 566.1417297,
                        "iteration": 711,
                        "remaining_time": 229.0011491,
                        "learn": [
                          0.6047358558
                        ]
                      },
                      {
                        "passed_time": 566.9608366,
                        "iteration": 712,
                        "remaining_time": 228.2156523,
                        "learn": [
                          0.6039022861
                        ]
                      },
                      {
                        "passed_time": 567.760175,
                        "iteration": 713,
                        "remaining_time": 227.4221429,
                        "learn": [
                          0.603121709
                        ]
                      },
                      {
                        "passed_time": 568.4927047,
                        "iteration": 714,
                        "remaining_time": 226.6019872,
                        "learn": [
                          0.6025423715
                        ]
                      },
                      {
                        "passed_time": 569.2962386,
                        "iteration": 715,
                        "remaining_time": 225.8102399,
                        "learn": [
                          0.6019372478
                        ]
                      },
                      {
                        "passed_time": 570.0648228,
                        "iteration": 716,
                        "remaining_time": 225.0046651,
                        "learn": [
                          0.6012750507
                        ]
                      },
                      {
                        "passed_time": 570.8410735,
                        "iteration": 717,
                        "remaining_time": 224.2022043,
                        "learn": [
                          0.6007444182
                        ]
                      },
                      {
                        "passed_time": 571.6788234,
                        "iteration": 718,
                        "remaining_time": 223.4238517,
                        "learn": [
                          0.6002528572
                        ]
                      },
                      {
                        "passed_time": 572.4869571,
                        "iteration": 719,
                        "remaining_time": 222.6338167,
                        "learn": [
                          0.599423789
                        ]
                      },
                      {
                        "passed_time": 573.2884083,
                        "iteration": 720,
                        "remaining_time": 221.8411455,
                        "learn": [
                          0.5988717547
                        ]
                      },
                      {
                        "passed_time": 574.0728693,
                        "iteration": 721,
                        "remaining_time": 221.0419081,
                        "learn": [
                          0.5981668467
                        ]
                      },
                      {
                        "passed_time": 574.9223502,
                        "iteration": 722,
                        "remaining_time": 220.2676224,
                        "learn": [
                          0.5975318499
                        ]
                      },
                      {
                        "passed_time": 575.8184267,
                        "iteration": 723,
                        "remaining_time": 219.510892,
                        "learn": [
                          0.5968630719
                        ]
                      },
                      {
                        "passed_time": 576.693951,
                        "iteration": 724,
                        "remaining_time": 218.7459814,
                        "learn": [
                          0.5962704436
                        ]
                      },
                      {
                        "passed_time": 577.5250368,
                        "iteration": 725,
                        "remaining_time": 217.9639946,
                        "learn": [
                          0.5956552708
                        ]
                      },
                      {
                        "passed_time": 578.263235,
                        "iteration": 726,
                        "remaining_time": 217.146992,
                        "learn": [
                          0.5949416235
                        ]
                      },
                      {
                        "passed_time": 579.0475562,
                        "iteration": 727,
                        "remaining_time": 216.3474386,
                        "learn": [
                          0.5942648931
                        ]
                      },
                      {
                        "passed_time": 579.8791252,
                        "iteration": 728,
                        "remaining_time": 215.565491,
                        "learn": [
                          0.5935921549
                        ]
                      },
                      {
                        "passed_time": 580.7323796,
                        "iteration": 729,
                        "remaining_time": 214.7914281,
                        "learn": [
                          0.5927508176
                        ]
                      },
                      {
                        "passed_time": 581.4993831,
                        "iteration": 730,
                        "remaining_time": 213.9854091,
                        "learn": [
                          0.592220332
                        ]
                      },
                      {
                        "passed_time": 582.2836828,
                        "iteration": 731,
                        "remaining_time": 213.1858292,
                        "learn": [
                          0.5916261529
                        ]
                      },
                      {
                        "passed_time": 583.091182,
                        "iteration": 732,
                        "remaining_time": 212.3947416,
                        "learn": [
                          0.5911635554
                        ]
                      },
                      {
                        "passed_time": 583.8515136,
                        "iteration": 733,
                        "remaining_time": 211.5865158,
                        "learn": [
                          0.5906512016
                        ]
                      },
                      {
                        "passed_time": 584.6553987,
                        "iteration": 734,
                        "remaining_time": 210.7941233,
                        "learn": [
                          0.5901264498
                        ]
                      },
                      {
                        "passed_time": 585.514997,
                        "iteration": 735,
                        "remaining_time": 210.0216837,
                        "learn": [
                          0.589565138
                        ]
                      },
                      {
                        "passed_time": 586.374715,
                        "iteration": 736,
                        "remaining_time": 209.2490503,
                        "learn": [
                          0.5888921972
                        ]
                      },
                      {
                        "passed_time": 587.1059087,
                        "iteration": 737,
                        "remaining_time": 208.430553,
                        "learn": [
                          0.5884095875
                        ]
                      },
                      {
                        "passed_time": 587.9148383,
                        "iteration": 738,
                        "remaining_time": 207.6397467,
                        "learn": [
                          0.5878417901
                        ]
                      },
                      {
                        "passed_time": 588.7434143,
                        "iteration": 739,
                        "remaining_time": 206.8557942,
                        "learn": [
                          0.587447008
                        ]
                      },
                      {
                        "passed_time": 589.6015785,
                        "iteration": 740,
                        "remaining_time": 206.0820632,
                        "learn": [
                          0.5867708204
                        ]
                      },
                      {
                        "passed_time": 590.2908304,
                        "iteration": 741,
                        "remaining_time": 205.2493723,
                        "learn": [
                          0.5864406987
                        ]
                      },
                      {
                        "passed_time": 591.0842337,
                        "iteration": 742,
                        "remaining_time": 204.453093,
                        "learn": [
                          0.5858448508
                        ]
                      },
                      {
                        "passed_time": 591.8967799,
                        "iteration": 743,
                        "remaining_time": 203.6634081,
                        "learn": [
                          0.5852661249
                        ]
                      },
                      {
                        "passed_time": 592.6791613,
                        "iteration": 744,
                        "remaining_time": 202.8633371,
                        "learn": [
                          0.5848819862
                        ]
                      },
                      {
                        "passed_time": 593.4820252,
                        "iteration": 745,
                        "remaining_time": 202.0702874,
                        "learn": [
                          0.5841961878
                        ]
                      },
                      {
                        "passed_time": 594.3047197,
                        "iteration": 746,
                        "remaining_time": 201.2839278,
                        "learn": [
                          0.5835291265
                        ]
                      },
                      {
                        "passed_time": 595.1141702,
                        "iteration": 747,
                        "remaining_time": 200.4930092,
                        "learn": [
                          0.5830123265
                        ]
                      },
                      {
                        "passed_time": 596.0339113,
                        "iteration": 748,
                        "remaining_time": 199.739001,
                        "learn": [
                          0.5824523224
                        ]
                      },
                      {
                        "passed_time": 596.7901041,
                        "iteration": 749,
                        "remaining_time": 198.9300347,
                        "learn": [
                          0.5819867073
                        ]
                      },
                      {
                        "passed_time": 597.5872973,
                        "iteration": 750,
                        "remaining_time": 198.134803,
                        "learn": [
                          0.5813414154
                        ]
                      },
                      {
                        "passed_time": 598.3629684,
                        "iteration": 751,
                        "remaining_time": 197.3324683,
                        "learn": [
                          0.580928523
                        ]
                      },
                      {
                        "passed_time": 599.1098339,
                        "iteration": 752,
                        "remaining_time": 196.5207556,
                        "learn": [
                          0.5805341312
                        ]
                      },
                      {
                        "passed_time": 599.8735853,
                        "iteration": 753,
                        "remaining_time": 195.7147241,
                        "learn": [
                          0.5800371738
                        ]
                      },
                      {
                        "passed_time": 600.6972729,
                        "iteration": 754,
                        "remaining_time": 194.9282541,
                        "learn": [
                          0.5792122538
                        ]
                      },
                      {
                        "passed_time": 601.5102493,
                        "iteration": 755,
                        "remaining_time": 194.1382286,
                        "learn": [
                          0.5787992572
                        ]
                      },
                      {
                        "passed_time": 602.2731309,
                        "iteration": 756,
                        "remaining_time": 193.3320618,
                        "learn": [
                          0.5781140559
                        ]
                      },
                      {
                        "passed_time": 603.1498117,
                        "iteration": 757,
                        "remaining_time": 192.5623409,
                        "learn": [
                          0.5775616521
                        ]
                      },
                      {
                        "passed_time": 604.0305914,
                        "iteration": 758,
                        "remaining_time": 191.7936397,
                        "learn": [
                          0.5769077998
                        ]
                      },
                      {
                        "passed_time": 604.8638574,
                        "iteration": 759,
                        "remaining_time": 191.0096392,
                        "learn": [
                          0.5763369499
                        ]
                      },
                      {
                        "passed_time": 605.6418901,
                        "iteration": 760,
                        "remaining_time": 190.2081626,
                        "learn": [
                          0.5757852669
                        ]
                      },
                      {
                        "passed_time": 606.4919482,
                        "iteration": 761,
                        "remaining_time": 189.4292437,
                        "learn": [
                          0.5751455987
                        ]
                      },
                      {
                        "passed_time": 607.3270767,
                        "iteration": 762,
                        "remaining_time": 188.6455009,
                        "learn": [
                          0.5744552081
                        ]
                      },
                      {
                        "passed_time": 608.1328271,
                        "iteration": 763,
                        "remaining_time": 187.8525487,
                        "learn": [
                          0.5740495713
                        ]
                      },
                      {
                        "passed_time": 608.9020228,
                        "iteration": 764,
                        "remaining_time": 187.0483338,
                        "learn": [
                          0.5733622859
                        ]
                      },
                      {
                        "passed_time": 609.698074,
                        "iteration": 765,
                        "remaining_time": 186.2524143,
                        "learn": [
                          0.5728896058
                        ]
                      },
                      {
                        "passed_time": 610.5433202,
                        "iteration": 766,
                        "remaining_time": 185.4714388,
                        "learn": [
                          0.5723540799
                        ]
                      },
                      {
                        "passed_time": 611.4165428,
                        "iteration": 767,
                        "remaining_time": 184.6987473,
                        "learn": [
                          0.5717325523
                        ]
                      },
                      {
                        "passed_time": 612.2192624,
                        "iteration": 768,
                        "remaining_time": 183.9046159,
                        "learn": [
                          0.5711429292
                        ]
                      },
                      {
                        "passed_time": 613.0437319,
                        "iteration": 769,
                        "remaining_time": 183.1169589,
                        "learn": [
                          0.5705310557
                        ]
                      },
                      {
                        "passed_time": 613.8685536,
                        "iteration": 770,
                        "remaining_time": 182.329311,
                        "learn": [
                          0.5699248896
                        ]
                      },
                      {
                        "passed_time": 614.6750414,
                        "iteration": 771,
                        "remaining_time": 181.5361521,
                        "learn": [
                          0.5692700162
                        ]
                      },
                      {
                        "passed_time": 615.4669525,
                        "iteration": 772,
                        "remaining_time": 180.7386782,
                        "learn": [
                          0.5685063349
                        ]
                      },
                      {
                        "passed_time": 616.3470682,
                        "iteration": 773,
                        "remaining_time": 179.9669734,
                        "learn": [
                          0.5677989018
                        ]
                      },
                      {
                        "passed_time": 617.1772561,
                        "iteration": 774,
                        "remaining_time": 179.1804937,
                        "learn": [
                          0.5671713104
                        ]
                      },
                      {
                        "passed_time": 618.0180825,
                        "iteration": 775,
                        "remaining_time": 178.3969723,
                        "learn": [
                          0.5664507438
                        ]
                      },
                      {
                        "passed_time": 618.7853718,
                        "iteration": 776,
                        "remaining_time": 177.5921981,
                        "learn": [
                          0.5661115444
                        ]
                      },
                      {
                        "passed_time": 619.5766822,
                        "iteration": 777,
                        "remaining_time": 176.7943746,
                        "learn": [
                          0.5656730409
                        ]
                      },
                      {
                        "passed_time": 620.4420161,
                        "iteration": 778,
                        "remaining_time": 176.0175681,
                        "learn": [
                          0.5648354399
                        ]
                      },
                      {
                        "passed_time": 621.2704766,
                        "iteration": 779,
                        "remaining_time": 175.2301344,
                        "learn": [
                          0.564184376
                        ]
                      },
                      {
                        "passed_time": 622.0833089,
                        "iteration": 780,
                        "remaining_time": 174.4382134,
                        "learn": [
                          0.5635093622
                        ]
                      },
                      {
                        "passed_time": 622.9531293,
                        "iteration": 781,
                        "remaining_time": 173.6621256,
                        "learn": [
                          0.562921483
                        ]
                      },
                      {
                        "passed_time": 623.7598215,
                        "iteration": 782,
                        "remaining_time": 172.868303,
                        "learn": [
                          0.5622508805
                        ]
                      },
                      {
                        "passed_time": 624.5534467,
                        "iteration": 783,
                        "remaining_time": 172.0708476,
                        "learn": [
                          0.5616938321
                        ]
                      },
                      {
                        "passed_time": 625.3087741,
                        "iteration": 784,
                        "remaining_time": 171.2629126,
                        "learn": [
                          0.5613504175
                        ]
                      },
                      {
                        "passed_time": 626.0237526,
                        "iteration": 785,
                        "remaining_time": 170.444126,
                        "learn": [
                          0.5609665915
                        ]
                      },
                      {
                        "passed_time": 626.8994968,
                        "iteration": 786,
                        "remaining_time": 169.6691141,
                        "learn": [
                          0.5603084785
                        ]
                      },
                      {
                        "passed_time": 627.7859706,
                        "iteration": 787,
                        "remaining_time": 168.8967332,
                        "learn": [
                          0.5596289424
                        ]
                      },
                      {
                        "passed_time": 628.6480015,
                        "iteration": 788,
                        "remaining_time": 168.1175264,
                        "learn": [
                          0.5589251435
                        ]
                      },
                      {
                        "passed_time": 629.5048783,
                        "iteration": 789,
                        "remaining_time": 167.3367398,
                        "learn": [
                          0.5580859576
                        ]
                      },
                      {
                        "passed_time": 630.3192251,
                        "iteration": 790,
                        "remaining_time": 166.5445235,
                        "learn": [
                          0.5575866224
                        ]
                      },
                      {
                        "passed_time": 631.2333431,
                        "iteration": 791,
                        "remaining_time": 165.7784537,
                        "learn": [
                          0.5570741695
                        ]
                      },
                      {
                        "passed_time": 632.0446315,
                        "iteration": 792,
                        "remaining_time": 164.9851686,
                        "learn": [
                          0.5565954002
                        ]
                      },
                      {
                        "passed_time": 632.8635561,
                        "iteration": 793,
                        "remaining_time": 164.1938193,
                        "learn": [
                          0.5559144218
                        ]
                      },
                      {
                        "passed_time": 633.6901755,
                        "iteration": 794,
                        "remaining_time": 163.4043849,
                        "learn": [
                          0.5552291345
                        ]
                      },
                      {
                        "passed_time": 634.5136229,
                        "iteration": 795,
                        "remaining_time": 162.6140441,
                        "learn": [
                          0.5546221177
                        ]
                      },
                      {
                        "passed_time": 635.3293284,
                        "iteration": 796,
                        "remaining_time": 161.8216483,
                        "learn": [
                          0.5541234948
                        ]
                      },
                      {
                        "passed_time": 636.1564027,
                        "iteration": 797,
                        "remaining_time": 161.0320719,
                        "learn": [
                          0.5535059262
                        ]
                      },
                      {
                        "passed_time": 637.0062984,
                        "iteration": 798,
                        "remaining_time": 160.2481426,
                        "learn": [
                          0.5528540501
                        ]
                      },
                      {
                        "passed_time": 637.8582616,
                        "iteration": 799,
                        "remaining_time": 159.4645654,
                        "learn": [
                          0.5521092813
                        ]
                      },
                      {
                        "passed_time": 638.6727795,
                        "iteration": 800,
                        "remaining_time": 158.6715145,
                        "learn": [
                          0.5514276908
                        ]
                      },
                      {
                        "passed_time": 639.4978958,
                        "iteration": 801,
                        "remaining_time": 157.8810267,
                        "learn": [
                          0.5508461308
                        ]
                      },
                      {
                        "passed_time": 640.3649368,
                        "iteration": 802,
                        "remaining_time": 157.1007379,
                        "learn": [
                          0.5503685374
                        ]
                      },
                      {
                        "passed_time": 641.2045471,
                        "iteration": 803,
                        "remaining_time": 156.3135463,
                        "learn": [
                          0.549842793
                        ]
                      },
                      {
                        "passed_time": 642.0846822,
                        "iteration": 804,
                        "remaining_time": 155.536041,
                        "learn": [
                          0.5490047107
                        ]
                      },
                      {
                        "passed_time": 643.0299976,
                        "iteration": 805,
                        "remaining_time": 154.7739696,
                        "learn": [
                          0.5481858688
                        ]
                      },
                      {
                        "passed_time": 643.8278898,
                        "iteration": 806,
                        "remaining_time": 153.9761868,
                        "learn": [
                          0.5476263356
                        ]
                      },
                      {
                        "passed_time": 644.6072906,
                        "iteration": 807,
                        "remaining_time": 153.1740096,
                        "learn": [
                          0.5473353542
                        ]
                      },
                      {
                        "passed_time": 645.4511329,
                        "iteration": 808,
                        "remaining_time": 152.3871031,
                        "learn": [
                          0.5466293528
                        ]
                      },
                      {
                        "passed_time": 646.291559,
                        "iteration": 809,
                        "remaining_time": 151.5992546,
                        "learn": [
                          0.5459589065
                        ]
                      },
                      {
                        "passed_time": 647.0715351,
                        "iteration": 810,
                        "remaining_time": 150.7971888,
                        "learn": [
                          0.5454378269
                        ]
                      },
                      {
                        "passed_time": 647.8960709,
                        "iteration": 811,
                        "remaining_time": 150.0054943,
                        "learn": [
                          0.5450488603
                        ]
                      },
                      {
                        "passed_time": 648.7143028,
                        "iteration": 812,
                        "remaining_time": 149.2122689,
                        "learn": [
                          0.5445800926
                        ]
                      },
                      {
                        "passed_time": 649.5306244,
                        "iteration": 813,
                        "remaining_time": 148.4185456,
                        "learn": [
                          0.5439021038
                        ]
                      },
                      {
                        "passed_time": 650.3073346,
                        "iteration": 814,
                        "remaining_time": 147.6157753,
                        "learn": [
                          0.5433960862
                        ]
                      },
                      {
                        "passed_time": 651.185473,
                        "iteration": 815,
                        "remaining_time": 146.83594,
                        "learn": [
                          0.5427892846
                        ]
                      },
                      {
                        "passed_time": 651.9928928,
                        "iteration": 816,
                        "remaining_time": 146.0400237,
                        "learn": [
                          0.5423398252
                        ]
                      },
                      {
                        "passed_time": 652.8026572,
                        "iteration": 817,
                        "remaining_time": 145.244601,
                        "learn": [
                          0.5418036113
                        ]
                      },
                      {
                        "passed_time": 653.5908306,
                        "iteration": 818,
                        "remaining_time": 144.4443716,
                        "learn": [
                          0.5413068642
                        ]
                      },
                      {
                        "passed_time": 654.428415,
                        "iteration": 819,
                        "remaining_time": 143.6550179,
                        "learn": [
                          0.5408776164
                        ]
                      },
                      {
                        "passed_time": 655.2656953,
                        "iteration": 820,
                        "remaining_time": 142.8654805,
                        "learn": [
                          0.5404940847
                        ]
                      },
                      {
                        "passed_time": 656.0975403,
                        "iteration": 821,
                        "remaining_time": 142.0746499,
                        "learn": [
                          0.5399967969
                        ]
                      },
                      {
                        "passed_time": 656.8701095,
                        "iteration": 822,
                        "remaining_time": 141.2709713,
                        "learn": [
                          0.5392910351
                        ]
                      },
                      {
                        "passed_time": 657.7383635,
                        "iteration": 823,
                        "remaining_time": 140.4878058,
                        "learn": [
                          0.5387285315
                        ]
                      },
                      {
                        "passed_time": 658.6722541,
                        "iteration": 824,
                        "remaining_time": 139.7183569,
                        "learn": [
                          0.5381848167
                        ]
                      },
                      {
                        "passed_time": 659.5478823,
                        "iteration": 825,
                        "remaining_time": 138.9362367,
                        "learn": [
                          0.5376714885
                        ]
                      },
                      {
                        "passed_time": 660.375727,
                        "iteration": 826,
                        "remaining_time": 138.1438945,
                        "learn": [
                          0.5372335691
                        ]
                      },
                      {
                        "passed_time": 661.184897,
                        "iteration": 827,
                        "remaining_time": 137.3475873,
                        "learn": [
                          0.5367647625
                        ]
                      },
                      {
                        "passed_time": 662.0572362,
                        "iteration": 828,
                        "remaining_time": 136.5642791,
                        "learn": [
                          0.5361099848
                        ]
                      },
                      {
                        "passed_time": 662.9702233,
                        "iteration": 829,
                        "remaining_time": 135.7890819,
                        "learn": [
                          0.5356081056
                        ]
                      },
                      {
                        "passed_time": 663.7272704,
                        "iteration": 830,
                        "remaining_time": 134.9818396,
                        "learn": [
                          0.5349661289
                        ]
                      },
                      {
                        "passed_time": 664.6269329,
                        "iteration": 831,
                        "remaining_time": 134.2035153,
                        "learn": [
                          0.5345380948
                        ]
                      },
                      {
                        "passed_time": 665.4380832,
                        "iteration": 832,
                        "remaining_time": 133.4071547,
                        "learn": [
                          0.5339552041
                        ]
                      },
                      {
                        "passed_time": 666.2469858,
                        "iteration": 833,
                        "remaining_time": 132.6103113,
                        "learn": [
                          0.5333298208
                        ]
                      },
                      {
                        "passed_time": 667.0204657,
                        "iteration": 834,
                        "remaining_time": 131.8064393,
                        "learn": [
                          0.5329633387
                        ]
                      },
                      {
                        "passed_time": 667.8693235,
                        "iteration": 835,
                        "remaining_time": 131.0174271,
                        "learn": [
                          0.5323846472
                        ]
                      },
                      {
                        "passed_time": 668.7225478,
                        "iteration": 836,
                        "remaining_time": 130.2291222,
                        "learn": [
                          0.5316032861
                        ]
                      },
                      {
                        "passed_time": 669.5634867,
                        "iteration": 837,
                        "remaining_time": 129.4382874,
                        "learn": [
                          0.5309673496
                        ]
                      },
                      {
                        "passed_time": 670.3798799,
                        "iteration": 838,
                        "remaining_time": 128.642623,
                        "learn": [
                          0.5306111631
                        ]
                      },
                      {
                        "passed_time": 671.1838564,
                        "iteration": 839,
                        "remaining_time": 127.8445441,
                        "learn": [
                          0.5301793828
                        ]
                      },
                      {
                        "passed_time": 672.0607912,
                        "iteration": 840,
                        "remaining_time": 127.0602447,
                        "learn": [
                          0.5296898683
                        ]
                      },
                      {
                        "passed_time": 672.904044,
                        "iteration": 841,
                        "remaining_time": 126.2694049,
                        "learn": [
                          0.5290605797
                        ]
                      },
                      {
                        "passed_time": 673.7458976,
                        "iteration": 842,
                        "remaining_time": 125.4781802,
                        "learn": [
                          0.5286308518
                        ]
                      },
                      {
                        "passed_time": 674.5686043,
                        "iteration": 843,
                        "remaining_time": 124.6832965,
                        "learn": [
                          0.528021258
                        ]
                      },
                      {
                        "passed_time": 675.4261211,
                        "iteration": 844,
                        "remaining_time": 123.8947323,
                        "learn": [
                          0.5274428366
                        ]
                      },
                      {
                        "passed_time": 676.2485381,
                        "iteration": 845,
                        "remaining_time": 123.0996157,
                        "learn": [
                          0.5268161678
                        ]
                      },
                      {
                        "passed_time": 677.0726797,
                        "iteration": 846,
                        "remaining_time": 122.3047462,
                        "learn": [
                          0.5263188119
                        ]
                      },
                      {
                        "passed_time": 677.8318121,
                        "iteration": 847,
                        "remaining_time": 121.498155,
                        "learn": [
                          0.5258120371
                        ]
                      },
                      {
                        "passed_time": 678.6718823,
                        "iteration": 848,
                        "remaining_time": 120.7060709,
                        "learn": [
                          0.5254098245
                        ]
                      },
                      {
                        "passed_time": 679.5686289,
                        "iteration": 849,
                        "remaining_time": 119.9238757,
                        "learn": [
                          0.5246665258
                        ]
                      },
                      {
                        "passed_time": 680.3234032,
                        "iteration": 850,
                        "remaining_time": 119.1165536,
                        "learn": [
                          0.5243294831
                        ]
                      },
                      {
                        "passed_time": 681.066756,
                        "iteration": 851,
                        "remaining_time": 118.3073708,
                        "learn": [
                          0.5237753994
                        ]
                      },
                      {
                        "passed_time": 681.8924511,
                        "iteration": 852,
                        "remaining_time": 117.5125326,
                        "learn": [
                          0.5232366096
                        ]
                      },
                      {
                        "passed_time": 682.6829264,
                        "iteration": 853,
                        "remaining_time": 116.711601,
                        "learn": [
                          0.522709165
                        ]
                      },
                      {
                        "passed_time": 683.4203967,
                        "iteration": 854,
                        "remaining_time": 115.9017047,
                        "learn": [
                          0.5223329192
                        ]
                      },
                      {
                        "passed_time": 684.2800014,
                        "iteration": 855,
                        "remaining_time": 115.1125236,
                        "learn": [
                          0.5217426045
                        ]
                      },
                      {
                        "passed_time": 685.1465288,
                        "iteration": 856,
                        "remaining_time": 114.3243333,
                        "learn": [
                          0.5213538847
                        ]
                      },
                      {
                        "passed_time": 686.0025072,
                        "iteration": 857,
                        "remaining_time": 113.5342145,
                        "learn": [
                          0.5207372857
                        ]
                      },
                      {
                        "passed_time": 686.9147096,
                        "iteration": 858,
                        "remaining_time": 112.7531712,
                        "learn": [
                          0.5202101322
                        ]
                      },
                      {
                        "passed_time": 687.7142607,
                        "iteration": 859,
                        "remaining_time": 111.9534843,
                        "learn": [
                          0.5198584777
                        ]
                      },
                      {
                        "passed_time": 688.602915,
                        "iteration": 860,
                        "remaining_time": 111.1681826,
                        "learn": [
                          0.5192106434
                        ]
                      },
                      {
                        "passed_time": 689.5158258,
                        "iteration": 861,
                        "remaining_time": 110.3865243,
                        "learn": [
                          0.5185451853
                        ]
                      },
                      {
                        "passed_time": 690.3503794,
                        "iteration": 862,
                        "remaining_time": 109.5921228,
                        "learn": [
                          0.5181216886
                        ]
                      },
                      {
                        "passed_time": 691.1648827,
                        "iteration": 863,
                        "remaining_time": 108.7944723,
                        "learn": [
                          0.5176307104
                        ]
                      },
                      {
                        "passed_time": 692.0279487,
                        "iteration": 864,
                        "remaining_time": 108.0043619,
                        "learn": [
                          0.5171894461
                        ]
                      },
                      {
                        "passed_time": 692.8677656,
                        "iteration": 865,
                        "remaining_time": 107.2104857,
                        "learn": [
                          0.5166412679
                        ]
                      },
                      {
                        "passed_time": 693.6940888,
                        "iteration": 866,
                        "remaining_time": 106.4144335,
                        "learn": [
                          0.5160027252
                        ]
                      },
                      {
                        "passed_time": 694.52237,
                        "iteration": 867,
                        "remaining_time": 105.6186093,
                        "learn": [
                          0.5153981998
                        ]
                      },
                      {
                        "passed_time": 695.3903217,
                        "iteration": 868,
                        "remaining_time": 104.8286906,
                        "learn": [
                          0.514996936
                        ]
                      },
                      {
                        "passed_time": 696.2938374,
                        "iteration": 869,
                        "remaining_time": 104.0439067,
                        "learn": [
                          0.5142778782
                        ]
                      },
                      {
                        "passed_time": 697.1008273,
                        "iteration": 870,
                        "remaining_time": 103.2445542,
                        "learn": [
                          0.5138461896
                        ]
                      },
                      {
                        "passed_time": 697.9507348,
                        "iteration": 871,
                        "remaining_time": 102.451484,
                        "learn": [
                          0.5131543174
                        ]
                      },
                      {
                        "passed_time": 698.8224696,
                        "iteration": 872,
                        "remaining_time": 101.6614589,
                        "learn": [
                          0.5124525913
                        ]
                      },
                      {
                        "passed_time": 699.6983028,
                        "iteration": 873,
                        "remaining_time": 100.8718377,
                        "learn": [
                          0.5119619626
                        ]
                      },
                      {
                        "passed_time": 700.6471012,
                        "iteration": 874,
                        "remaining_time": 100.092443,
                        "learn": [
                          0.5114796846
                        ]
                      },
                      {
                        "passed_time": 701.4950961,
                        "iteration": 875,
                        "remaining_time": 99.29839259,
                        "learn": [
                          0.5108318303
                        ]
                      },
                      {
                        "passed_time": 702.3692298,
                        "iteration": 876,
                        "remaining_time": 98.50788513,
                        "learn": [
                          0.5101976487
                        ]
                      },
                      {
                        "passed_time": 703.2693906,
                        "iteration": 877,
                        "remaining_time": 97.7208037,
                        "learn": [
                          0.509710525
                        ]
                      },
                      {
                        "passed_time": 704.1343965,
                        "iteration": 878,
                        "remaining_time": 96.92862568,
                        "learn": [
                          0.5091371893
                        ]
                      },
                      {
                        "passed_time": 704.9663202,
                        "iteration": 879,
                        "remaining_time": 96.13177094,
                        "learn": [
                          0.5086508066
                        ]
                      },
                      {
                        "passed_time": 705.8896351,
                        "iteration": 880,
                        "remaining_time": 95.34718113,
                        "learn": [
                          0.5081490023
                        ]
                      },
                      {
                        "passed_time": 706.7006048,
                        "iteration": 881,
                        "remaining_time": 94.54724644,
                        "learn": [
                          0.5074875923
                        ]
                      },
                      {
                        "passed_time": 707.5318306,
                        "iteration": 882,
                        "remaining_time": 93.74997075,
                        "learn": [
                          0.507214142
                        ]
                      },
                      {
                        "passed_time": 708.3801435,
                        "iteration": 883,
                        "remaining_time": 92.95486046,
                        "learn": [
                          0.5065382981
                        ]
                      },
                      {
                        "passed_time": 709.2421568,
                        "iteration": 884,
                        "remaining_time": 92.1614102,
                        "learn": [
                          0.5058087758
                        ]
                      },
                      {
                        "passed_time": 710.0063462,
                        "iteration": 885,
                        "remaining_time": 91.35521836,
                        "learn": [
                          0.5052791541
                        ]
                      },
                      {
                        "passed_time": 710.8419683,
                        "iteration": 886,
                        "remaining_time": 90.55822145,
                        "learn": [
                          0.5046527953
                        ]
                      },
                      {
                        "passed_time": 711.6817623,
                        "iteration": 887,
                        "remaining_time": 89.76166371,
                        "learn": [
                          0.5039574851
                        ]
                      },
                      {
                        "passed_time": 712.5110212,
                        "iteration": 888,
                        "remaining_time": 88.96369331,
                        "learn": [
                          0.5036832111
                        ]
                      },
                      {
                        "passed_time": 713.2715842,
                        "iteration": 889,
                        "remaining_time": 88.1571621,
                        "learn": [
                          0.5032235333
                        ]
                      },
                      {
                        "passed_time": 714.0985378,
                        "iteration": 890,
                        "remaining_time": 87.35885591,
                        "learn": [
                          0.5026109781
                        ]
                      },
                      {
                        "passed_time": 714.9635782,
                        "iteration": 891,
                        "remaining_time": 86.56509691,
                        "learn": [
                          0.5019913099
                        ]
                      },
                      {
                        "passed_time": 715.8251421,
                        "iteration": 892,
                        "remaining_time": 85.77076171,
                        "learn": [
                          0.501617382
                        ]
                      },
                      {
                        "passed_time": 716.6029167,
                        "iteration": 893,
                        "remaining_time": 84.96634136,
                        "learn": [
                          0.5010629585
                        ]
                      },
                      {
                        "passed_time": 717.4382829,
                        "iteration": 894,
                        "remaining_time": 84.1687371,
                        "learn": [
                          0.5005382197
                        ]
                      },
                      {
                        "passed_time": 718.3475661,
                        "iteration": 895,
                        "remaining_time": 83.3796282,
                        "learn": [
                          0.5000017262
                        ]
                      },
                      {
                        "passed_time": 719.2368273,
                        "iteration": 896,
                        "remaining_time": 82.5879523,
                        "learn": [
                          0.4993610541
                        ]
                      },
                      {
                        "passed_time": 720.0772934,
                        "iteration": 897,
                        "remaining_time": 81.79051662,
                        "learn": [
                          0.4986933783
                        ]
                      },
                      {
                        "passed_time": 720.9271634,
                        "iteration": 898,
                        "remaining_time": 80.99404171,
                        "learn": [
                          0.4982282515
                        ]
                      },
                      {
                        "passed_time": 721.818046,
                        "iteration": 899,
                        "remaining_time": 80.20200511,
                        "learn": [
                          0.4978280244
                        ]
                      },
                      {
                        "passed_time": 722.6050014,
                        "iteration": 900,
                        "remaining_time": 79.39832979,
                        "learn": [
                          0.4974839652
                        ]
                      },
                      {
                        "passed_time": 723.3685621,
                        "iteration": 901,
                        "remaining_time": 78.59214976,
                        "learn": [
                          0.4970784282
                        ]
                      },
                      {
                        "passed_time": 724.2195342,
                        "iteration": 902,
                        "remaining_time": 77.79545384,
                        "learn": [
                          0.4964961527
                        ]
                      },
                      {
                        "passed_time": 725.0664589,
                        "iteration": 903,
                        "remaining_time": 76.99820802,
                        "learn": [
                          0.4959992572
                        ]
                      },
                      {
                        "passed_time": 725.8818107,
                        "iteration": 904,
                        "remaining_time": 76.19753814,
                        "learn": [
                          0.4954882951
                        ]
                      },
                      {
                        "passed_time": 726.7254325,
                        "iteration": 905,
                        "remaining_time": 75.39976893,
                        "learn": [
                          0.4949033624
                        ]
                      },
                      {
                        "passed_time": 727.5833463,
                        "iteration": 906,
                        "remaining_time": 74.60336407,
                        "learn": [
                          0.4944582955
                        ]
                      },
                      {
                        "passed_time": 728.3961044,
                        "iteration": 907,
                        "remaining_time": 73.80224846,
                        "learn": [
                          0.4940371115
                        ]
                      },
                      {
                        "passed_time": 729.2397192,
                        "iteration": 908,
                        "remaining_time": 73.00419631,
                        "learn": [
                          0.4935605789
                        ]
                      },
                      {
                        "passed_time": 730.0122113,
                        "iteration": 909,
                        "remaining_time": 72.19900991,
                        "learn": [
                          0.4930613564
                        ]
                      },
                      {
                        "passed_time": 730.8287416,
                        "iteration": 910,
                        "remaining_time": 71.39819759,
                        "learn": [
                          0.4925120731
                        ]
                      },
                      {
                        "passed_time": 731.6432509,
                        "iteration": 911,
                        "remaining_time": 70.59715579,
                        "learn": [
                          0.4919621404
                        ]
                      },
                      {
                        "passed_time": 732.4745999,
                        "iteration": 912,
                        "remaining_time": 69.79768915,
                        "learn": [
                          0.4915141659
                        ]
                      },
                      {
                        "passed_time": 733.2722406,
                        "iteration": 913,
                        "remaining_time": 68.99498106,
                        "learn": [
                          0.4908350356
                        ]
                      },
                      {
                        "passed_time": 734.0749134,
                        "iteration": 914,
                        "remaining_time": 68.19275152,
                        "learn": [
                          0.4903420787
                        ]
                      },
                      {
                        "passed_time": 734.9335225,
                        "iteration": 915,
                        "remaining_time": 67.39565053,
                        "learn": [
                          0.4897641256
                        ]
                      },
                      {
                        "passed_time": 735.7877974,
                        "iteration": 916,
                        "remaining_time": 66.5980231,
                        "learn": [
                          0.4891245987
                        ]
                      },
                      {
                        "passed_time": 736.6333258,
                        "iteration": 917,
                        "remaining_time": 65.79949097,
                        "learn": [
                          0.4884421375
                        ]
                      },
                      {
                        "passed_time": 737.5073175,
                        "iteration": 918,
                        "remaining_time": 65.00336531,
                        "learn": [
                          0.4880058483
                        ]
                      },
                      {
                        "passed_time": 738.337705,
                        "iteration": 919,
                        "remaining_time": 64.2032787,
                        "learn": [
                          0.4876372544
                        ]
                      },
                      {
                        "passed_time": 739.148879,
                        "iteration": 920,
                        "remaining_time": 63.40147822,
                        "learn": [
                          0.4873233751
                        ]
                      },
                      {
                        "passed_time": 739.9340742,
                        "iteration": 921,
                        "remaining_time": 62.59745964,
                        "learn": [
                          0.486669044
                        ]
                      },
                      {
                        "passed_time": 740.7737564,
                        "iteration": 922,
                        "remaining_time": 61.79802735,
                        "learn": [
                          0.4862517346
                        ]
                      },
                      {
                        "passed_time": 741.669727,
                        "iteration": 923,
                        "remaining_time": 61.00313772,
                        "learn": [
                          0.485675804
                        ]
                      },
                      {
                        "passed_time": 742.5430587,
                        "iteration": 924,
                        "remaining_time": 60.20619395,
                        "learn": [
                          0.4853564923
                        ]
                      },
                      {
                        "passed_time": 743.3514742,
                        "iteration": 925,
                        "remaining_time": 59.40389751,
                        "learn": [
                          0.4847748263
                        ]
                      },
                      {
                        "passed_time": 744.1479422,
                        "iteration": 926,
                        "remaining_time": 58.60064701,
                        "learn": [
                          0.4842205598
                        ]
                      },
                      {
                        "passed_time": 744.9961991,
                        "iteration": 927,
                        "remaining_time": 57.80142924,
                        "learn": [
                          0.4837256468
                        ]
                      },
                      {
                        "passed_time": 745.8803943,
                        "iteration": 928,
                        "remaining_time": 57.00485253,
                        "learn": [
                          0.4831894261
                        ]
                      },
                      {
                        "passed_time": 746.6379246,
                        "iteration": 929,
                        "remaining_time": 56.19855347,
                        "learn": [
                          0.4828263504
                        ]
                      },
                      {
                        "passed_time": 747.457365,
                        "iteration": 930,
                        "remaining_time": 55.39694756,
                        "learn": [
                          0.4822535706
                        ]
                      },
                      {
                        "passed_time": 748.2888372,
                        "iteration": 931,
                        "remaining_time": 54.59618125,
                        "learn": [
                          0.4815382247
                        ]
                      },
                      {
                        "passed_time": 749.0854963,
                        "iteration": 932,
                        "remaining_time": 53.79284915,
                        "learn": [
                          0.4809899546
                        ]
                      },
                      {
                        "passed_time": 749.8668395,
                        "iteration": 933,
                        "remaining_time": 52.98844904,
                        "learn": [
                          0.4804906725
                        ]
                      },
                      {
                        "passed_time": 750.8372645,
                        "iteration": 934,
                        "remaining_time": 52.19724299,
                        "learn": [
                          0.4798441102
                        ]
                      },
                      {
                        "passed_time": 751.6976147,
                        "iteration": 935,
                        "remaining_time": 51.3981275,
                        "learn": [
                          0.479375145
                        ]
                      },
                      {
                        "passed_time": 752.5010472,
                        "iteration": 936,
                        "remaining_time": 50.5950544,
                        "learn": [
                          0.478903837
                        ]
                      },
                      {
                        "passed_time": 753.2450052,
                        "iteration": 937,
                        "remaining_time": 49.78804939,
                        "learn": [
                          0.4785479699
                        ]
                      },
                      {
                        "passed_time": 754.1026385,
                        "iteration": 938,
                        "remaining_time": 48.98856331,
                        "learn": [
                          0.4780084891
                        ]
                      },
                      {
                        "passed_time": 754.911998,
                        "iteration": 939,
                        "remaining_time": 48.18587221,
                        "learn": [
                          0.477515294
                        ]
                      },
                      {
                        "passed_time": 755.777956,
                        "iteration": 940,
                        "remaining_time": 47.38671562,
                        "learn": [
                          0.4769614104
                        ]
                      },
                      {
                        "passed_time": 756.5915514,
                        "iteration": 941,
                        "remaining_time": 46.58419318,
                        "learn": [
                          0.4763572453
                        ]
                      },
                      {
                        "passed_time": 757.4106872,
                        "iteration": 942,
                        "remaining_time": 45.78198215,
                        "learn": [
                          0.4760521173
                        ]
                      },
                      {
                        "passed_time": 758.2508614,
                        "iteration": 943,
                        "remaining_time": 44.98098331,
                        "learn": [
                          0.4754841821
                        ]
                      },
                      {
                        "passed_time": 759.1269967,
                        "iteration": 944,
                        "remaining_time": 44.18199452,
                        "learn": [
                          0.4749675503
                        ]
                      },
                      {
                        "passed_time": 759.9521403,
                        "iteration": 945,
                        "remaining_time": 43.3799319,
                        "learn": [
                          0.4743538041
                        ]
                      },
                      {
                        "passed_time": 760.7977351,
                        "iteration": 946,
                        "remaining_time": 42.57896511,
                        "learn": [
                          0.4739680164
                        ]
                      },
                      {
                        "passed_time": 761.6589535,
                        "iteration": 947,
                        "remaining_time": 41.77876116,
                        "learn": [
                          0.4735273585
                        ]
                      },
                      {
                        "passed_time": 762.5191713,
                        "iteration": 948,
                        "remaining_time": 40.97837486,
                        "learn": [
                          0.4728740993
                        ]
                      },
                      {
                        "passed_time": 763.3458447,
                        "iteration": 949,
                        "remaining_time": 40.17609709,
                        "learn": [
                          0.4722888681
                        ]
                      },
                      {
                        "passed_time": 764.1617383,
                        "iteration": 950,
                        "remaining_time": 39.37321259,
                        "learn": [
                          0.4718582107
                        ]
                      },
                      {
                        "passed_time": 765.0557339,
                        "iteration": 951,
                        "remaining_time": 38.57423869,
                        "learn": [
                          0.4714064357
                        ]
                      },
                      {
                        "passed_time": 765.8803919,
                        "iteration": 952,
                        "remaining_time": 37.77164577,
                        "learn": [
                          0.4710004068
                        ]
                      },
                      {
                        "passed_time": 766.6344912,
                        "iteration": 953,
                        "remaining_time": 36.9656044,
                        "learn": [
                          0.4705634851
                        ]
                      },
                      {
                        "passed_time": 767.4722173,
                        "iteration": 954,
                        "remaining_time": 36.16361233,
                        "learn": [
                          0.4701943287
                        ]
                      },
                      {
                        "passed_time": 768.327399,
                        "iteration": 955,
                        "remaining_time": 35.36234891,
                        "learn": [
                          0.4697635732
                        ]
                      },
                      {
                        "passed_time": 769.1234315,
                        "iteration": 956,
                        "remaining_time": 34.55831511,
                        "learn": [
                          0.4692040774
                        ]
                      },
                      {
                        "passed_time": 769.9188805,
                        "iteration": 957,
                        "remaining_time": 33.75427242,
                        "learn": [
                          0.4686742783
                        ]
                      },
                      {
                        "passed_time": 770.7781196,
                        "iteration": 958,
                        "remaining_time": 32.95297487,
                        "learn": [
                          0.4681493656
                        ]
                      },
                      {
                        "passed_time": 771.578542,
                        "iteration": 959,
                        "remaining_time": 32.14910592,
                        "learn": [
                          0.4678739188
                        ]
                      },
                      {
                        "passed_time": 772.345659,
                        "iteration": 960,
                        "remaining_time": 31.34389251,
                        "learn": [
                          0.4674397115
                        ]
                      },
                      {
                        "passed_time": 773.1917697,
                        "iteration": 961,
                        "remaining_time": 30.54187864,
                        "learn": [
                          0.4669484835
                        ]
                      },
                      {
                        "passed_time": 774.0398104,
                        "iteration": 962,
                        "remaining_time": 29.73984734,
                        "learn": [
                          0.4664639792
                        ]
                      },
                      {
                        "passed_time": 774.9476502,
                        "iteration": 963,
                        "remaining_time": 28.93995374,
                        "learn": [
                          0.4658055152
                        ]
                      },
                      {
                        "passed_time": 775.7799547,
                        "iteration": 964,
                        "remaining_time": 28.1370968,
                        "learn": [
                          0.4653028364
                        ]
                      },
                      {
                        "passed_time": 776.6053935,
                        "iteration": 965,
                        "remaining_time": 27.33393725,
                        "learn": [
                          0.4649622308
                        ]
                      },
                      {
                        "passed_time": 777.4686034,
                        "iteration": 966,
                        "remaining_time": 26.53202059,
                        "learn": [
                          0.4644539674
                        ]
                      },
                      {
                        "passed_time": 778.331717,
                        "iteration": 967,
                        "remaining_time": 25.72997412,
                        "learn": [
                          0.4640754115
                        ]
                      },
                      {
                        "passed_time": 779.1660617,
                        "iteration": 968,
                        "remaining_time": 24.92688123,
                        "learn": [
                          0.4636224865
                        ]
                      },
                      {
                        "passed_time": 779.967213,
                        "iteration": 969,
                        "remaining_time": 24.12269731,
                        "learn": [
                          0.4631459639
                        ]
                      },
                      {
                        "passed_time": 780.7988326,
                        "iteration": 970,
                        "remaining_time": 23.3194296,
                        "learn": [
                          0.4626686979
                        ]
                      },
                      {
                        "passed_time": 781.6593272,
                        "iteration": 971,
                        "remaining_time": 22.51693535,
                        "learn": [
                          0.4622248745
                        ]
                      },
                      {
                        "passed_time": 782.3913171,
                        "iteration": 972,
                        "remaining_time": 21.71075597,
                        "learn": [
                          0.461842569
                        ]
                      },
                      {
                        "passed_time": 783.1809308,
                        "iteration": 973,
                        "remaining_time": 20.90626715,
                        "learn": [
                          0.4614362219
                        ]
                      },
                      {
                        "passed_time": 784.0037621,
                        "iteration": 974,
                        "remaining_time": 20.10266057,
                        "learn": [
                          0.4609445578
                        ]
                      },
                      {
                        "passed_time": 784.7622985,
                        "iteration": 975,
                        "remaining_time": 19.29743357,
                        "learn": [
                          0.4604620434
                        ]
                      },
                      {
                        "passed_time": 785.5948013,
                        "iteration": 976,
                        "remaining_time": 18.49404343,
                        "learn": [
                          0.4599008609
                        ]
                      },
                      {
                        "passed_time": 786.4012018,
                        "iteration": 977,
                        "remaining_time": 17.69000658,
                        "learn": [
                          0.459361657
                        ]
                      },
                      {
                        "passed_time": 787.2552763,
                        "iteration": 978,
                        "remaining_time": 16.88698754,
                        "learn": [
                          0.4589002641
                        ]
                      },
                      {
                        "passed_time": 788.0310549,
                        "iteration": 979,
                        "remaining_time": 16.08226643,
                        "learn": [
                          0.4585025811
                        ]
                      },
                      {
                        "passed_time": 788.8730209,
                        "iteration": 980,
                        "remaining_time": 15.27888623,
                        "learn": [
                          0.4581143594
                        ]
                      },
                      {
                        "passed_time": 789.7462249,
                        "iteration": 981,
                        "remaining_time": 14.47600005,
                        "learn": [
                          0.457588618
                        ]
                      },
                      {
                        "passed_time": 790.6256405,
                        "iteration": 982,
                        "remaining_time": 13.67307822,
                        "learn": [
                          0.4572186306
                        ]
                      },
                      {
                        "passed_time": 791.5242704,
                        "iteration": 983,
                        "remaining_time": 12.87031334,
                        "learn": [
                          0.4567059768
                        ]
                      },
                      {
                        "passed_time": 792.3677291,
                        "iteration": 984,
                        "remaining_time": 12.06651364,
                        "learn": [
                          0.4562702731
                        ]
                      },
                      {
                        "passed_time": 793.2401074,
                        "iteration": 985,
                        "remaining_time": 11.26304412,
                        "learn": [
                          0.4558897176
                        ]
                      },
                      {
                        "passed_time": 794.0184654,
                        "iteration": 986,
                        "remaining_time": 10.45819661,
                        "learn": [
                          0.4553728112
                        ]
                      },
                      {
                        "passed_time": 794.8390393,
                        "iteration": 987,
                        "remaining_time": 9.653915458,
                        "learn": [
                          0.4549446534
                        ]
                      },
                      {
                        "passed_time": 795.6296636,
                        "iteration": 988,
                        "remaining_time": 8.84926825,
                        "learn": [
                          0.4543784153
                        ]
                      },
                      {
                        "passed_time": 796.4655698,
                        "iteration": 989,
                        "remaining_time": 8.045106766,
                        "learn": [
                          0.4539520271
                        ]
                      },
                      {
                        "passed_time": 797.2267192,
                        "iteration": 990,
                        "remaining_time": 7.240202293,
                        "learn": [
                          0.4536207306
                        ]
                      },
                      {
                        "passed_time": 797.9390338,
                        "iteration": 991,
                        "remaining_time": 6.434992208,
                        "learn": [
                          0.453259188
                        ]
                      },
                      {
                        "passed_time": 798.7858659,
                        "iteration": 992,
                        "remaining_time": 5.630917484,
                        "learn": [
                          0.4526024508
                        ]
                      },
                      {
                        "passed_time": 799.6311961,
                        "iteration": 993,
                        "remaining_time": 4.826747663,
                        "learn": [
                          0.4520249745
                        ]
                      },
                      {
                        "passed_time": 800.4684002,
                        "iteration": 994,
                        "remaining_time": 4.022454273,
                        "learn": [
                          0.4515363519
                        ]
                      },
                      {
                        "passed_time": 801.265226,
                        "iteration": 995,
                        "remaining_time": 3.217932635,
                        "learn": [
                          0.4509478644
                        ]
                      },
                      {
                        "passed_time": 802.1204148,
                        "iteration": 996,
                        "remaining_time": 2.413602051,
                        "learn": [
                          0.4504848424
                        ]
                      },
                      {
                        "passed_time": 802.9619943,
                        "iteration": 997,
                        "remaining_time": 1.609142273,
                        "learn": [
                          0.4501044597
                        ]
                      },
                      {
                        "passed_time": 803.8938384,
                        "iteration": 998,
                        "remaining_time": 0.8046985369,
                        "learn": [
                          0.4496572356
                        ]
                      },
                      {
                        "passed_time": 804.6793817,
                        "iteration": 999,
                        "remaining_time": 0,
                        "learn": [
                          0.4492288843
                        ]
                      }
                    ]
                  },
                  "total_iterations": 1000,
                  "passed_iterations": 999
                },
                "path": "catboost_info",
                "name": "catboost_info"
              }
            },
            "_view_module": "catboost-widget",
            "_model_module_version": "^1.0.0",
            "_view_count": null,
            "_view_module_version": "^1.0.0",
            "layout": "IPY_MODEL_acaa454c174e4725ae33b9054d976cc2",
            "_model_module": "catboost-widget"
          }
        }
      }
    }
  },
  "cells": [
    {
      "cell_type": "markdown",
      "metadata": {
        "id": "view-in-github",
        "colab_type": "text"
      },
      "source": [
        "<a href=\"https://colab.research.google.com/github/MKrezheska/NLP_Project-Style_Change_Detetion/blob/main/Models_BERT_Task2.ipynb\" target=\"_parent\"><img src=\"https://colab.research.google.com/assets/colab-badge.svg\" alt=\"Open In Colab\"/></a>"
      ]
    },
    {
      "cell_type": "code",
      "metadata": {
        "colab": {
          "base_uri": "https://localhost:8080/"
        },
        "id": "rdQCV-9w0zlB",
        "outputId": "1c1efa1e-5884-4faf-ff4b-040d3ef639e5"
      },
      "source": [
        "from google.colab import drive\n",
        "drive.mount('/content/drive')"
      ],
      "execution_count": 44,
      "outputs": [
        {
          "output_type": "stream",
          "name": "stdout",
          "text": [
            "Drive already mounted at /content/drive; to attempt to forcibly remount, call drive.mount(\"/content/drive\", force_remount=True).\n"
          ]
        }
      ]
    },
    {
      "cell_type": "code",
      "metadata": {
        "id": "JFRgLrGS8HFn"
      },
      "source": [
        "import pandas as pd"
      ],
      "execution_count": 45,
      "outputs": []
    },
    {
      "cell_type": "code",
      "metadata": {
        "id": "8JqDRgHAN5mg"
      },
      "source": [
        "import json\n",
        "import numpy as np \n",
        "import time\n",
        "import joblib"
      ],
      "execution_count": 46,
      "outputs": []
    },
    {
      "cell_type": "code",
      "metadata": {
        "id": "55siDObqEJMa"
      },
      "source": [
        "df_1 = pd.read_csv('drive/MyDrive/pan-2021/first-5000-bert-emb.csv')\n",
        "df_2 = pd.read_csv('drive/MyDrive/pan-2021/train-5000-7300-bert.csv')\n",
        "df_3 = pd.read_csv('drive/MyDrive/pan-2021/train-from-7300-bert.csv')\n",
        "\n",
        "df = pd.concat([df_1, df_2, df_3])"
      ],
      "execution_count": 47,
      "outputs": []
    },
    {
      "cell_type": "code",
      "metadata": {
        "colab": {
          "base_uri": "https://localhost:8080/",
          "height": 416
        },
        "id": "yNxidgNkLtd-",
        "outputId": "33cb70ba-fb97-4272-fe92-11f07dc7cdcc"
      },
      "source": [
        "df"
      ],
      "execution_count": 48,
      "outputs": [
        {
          "output_type": "execute_result",
          "data": {
            "text/html": [
              "<div>\n",
              "<style scoped>\n",
              "    .dataframe tbody tr th:only-of-type {\n",
              "        vertical-align: middle;\n",
              "    }\n",
              "\n",
              "    .dataframe tbody tr th {\n",
              "        vertical-align: top;\n",
              "    }\n",
              "\n",
              "    .dataframe thead th {\n",
              "        text-align: right;\n",
              "    }\n",
              "</style>\n",
              "<table border=\"1\" class=\"dataframe\">\n",
              "  <thead>\n",
              "    <tr style=\"text-align: right;\">\n",
              "      <th></th>\n",
              "      <th>Unnamed: 0</th>\n",
              "      <th>file_name</th>\n",
              "      <th>emb</th>\n",
              "      <th>changes</th>\n",
              "      <th>label</th>\n",
              "      <th>authors</th>\n",
              "      <th>paragraph_authors</th>\n",
              "    </tr>\n",
              "  </thead>\n",
              "  <tbody>\n",
              "    <tr>\n",
              "      <th>0</th>\n",
              "      <td>0</td>\n",
              "      <td>problem-10702</td>\n",
              "      <td>[50.449974060058594, 2.697402238845825, 14.426...</td>\n",
              "      <td>[1, 1, 1, 0, 1]</td>\n",
              "      <td>1</td>\n",
              "      <td>2</td>\n",
              "      <td>[1, 2, 1, 2, 2, 1]</td>\n",
              "    </tr>\n",
              "    <tr>\n",
              "      <th>1</th>\n",
              "      <td>1</td>\n",
              "      <td>problem-10706</td>\n",
              "      <td>[50.037479400634766, -24.617265701293945, 1.43...</td>\n",
              "      <td>[0, 1, 1, 1, 1, 1]</td>\n",
              "      <td>1</td>\n",
              "      <td>4</td>\n",
              "      <td>[1, 1, 2, 3, 4, 3, 2]</td>\n",
              "    </tr>\n",
              "    <tr>\n",
              "      <th>2</th>\n",
              "      <td>2</td>\n",
              "      <td>problem-10710</td>\n",
              "      <td>[38.54051971435547, 14.400163650512695, 6.9886...</td>\n",
              "      <td>[1, 1, 0, 1, 0, 1]</td>\n",
              "      <td>1</td>\n",
              "      <td>4</td>\n",
              "      <td>[1, 2, 3, 3, 4, 4, 3]</td>\n",
              "    </tr>\n",
              "    <tr>\n",
              "      <th>3</th>\n",
              "      <td>3</td>\n",
              "      <td>problem-10712</td>\n",
              "      <td>[71.1371078491211, -0.6726647019386292, 17.260...</td>\n",
              "      <td>[0, 0, 0, 0, 1, 1]</td>\n",
              "      <td>1</td>\n",
              "      <td>2</td>\n",
              "      <td>[1, 1, 1, 1, 1, 2, 1]</td>\n",
              "    </tr>\n",
              "    <tr>\n",
              "      <th>4</th>\n",
              "      <td>4</td>\n",
              "      <td>problem-10708</td>\n",
              "      <td>[42.75421142578125, 3.8431107997894287, 3.0734...</td>\n",
              "      <td>[1, 0, 0, 0, 1]</td>\n",
              "      <td>1</td>\n",
              "      <td>3</td>\n",
              "      <td>[1, 2, 2, 2, 2, 3]</td>\n",
              "    </tr>\n",
              "    <tr>\n",
              "      <th>...</th>\n",
              "      <td>...</td>\n",
              "      <td>...</td>\n",
              "      <td>...</td>\n",
              "      <td>...</td>\n",
              "      <td>...</td>\n",
              "      <td>...</td>\n",
              "      <td>...</td>\n",
              "    </tr>\n",
              "    <tr>\n",
              "      <th>3895</th>\n",
              "      <td>3895</td>\n",
              "      <td>problem-207</td>\n",
              "      <td>[55.4754524230957, -7.976742744445801, 3.05340...</td>\n",
              "      <td>[1, 0, 0]</td>\n",
              "      <td>1</td>\n",
              "      <td>2</td>\n",
              "      <td>[1, 2, 2, 2]</td>\n",
              "    </tr>\n",
              "    <tr>\n",
              "      <th>3896</th>\n",
              "      <td>3896</td>\n",
              "      <td>problem-211</td>\n",
              "      <td>[70.7889404296875, 2.030505418777466, -0.37436...</td>\n",
              "      <td>[0, 0, 1, 0, 1, 0, 0]</td>\n",
              "      <td>1</td>\n",
              "      <td>3</td>\n",
              "      <td>[1, 1, 1, 2, 2, 3, 3, 3]</td>\n",
              "    </tr>\n",
              "    <tr>\n",
              "      <th>3897</th>\n",
              "      <td>3897</td>\n",
              "      <td>problem-208</td>\n",
              "      <td>[65.77025604248047, 1.8704386949539185, -1.180...</td>\n",
              "      <td>[1, 1, 0, 0, 1]</td>\n",
              "      <td>1</td>\n",
              "      <td>2</td>\n",
              "      <td>[1, 2, 1, 1, 1, 2]</td>\n",
              "    </tr>\n",
              "    <tr>\n",
              "      <th>3898</th>\n",
              "      <td>3898</td>\n",
              "      <td>problem-217</td>\n",
              "      <td>[54.963741302490234, 0.9973352551460266, 16.82...</td>\n",
              "      <td>[1, 1, 1]</td>\n",
              "      <td>1</td>\n",
              "      <td>3</td>\n",
              "      <td>[1, 2, 3, 2]</td>\n",
              "    </tr>\n",
              "    <tr>\n",
              "      <th>3899</th>\n",
              "      <td>3899</td>\n",
              "      <td>problem-219</td>\n",
              "      <td>[56.694549560546875, -0.448446661233902, -2.90...</td>\n",
              "      <td>[1, 0, 1, 1, 0, 1]</td>\n",
              "      <td>1</td>\n",
              "      <td>4</td>\n",
              "      <td>[1, 2, 2, 1, 3, 3, 4]</td>\n",
              "    </tr>\n",
              "  </tbody>\n",
              "</table>\n",
              "<p>11200 rows × 7 columns</p>\n",
              "</div>"
            ],
            "text/plain": [
              "      Unnamed: 0      file_name  ... authors         paragraph_authors\n",
              "0              0  problem-10702  ...       2        [1, 2, 1, 2, 2, 1]\n",
              "1              1  problem-10706  ...       4     [1, 1, 2, 3, 4, 3, 2]\n",
              "2              2  problem-10710  ...       4     [1, 2, 3, 3, 4, 4, 3]\n",
              "3              3  problem-10712  ...       2     [1, 1, 1, 1, 1, 2, 1]\n",
              "4              4  problem-10708  ...       3        [1, 2, 2, 2, 2, 3]\n",
              "...          ...            ...  ...     ...                       ...\n",
              "3895        3895    problem-207  ...       2              [1, 2, 2, 2]\n",
              "3896        3896    problem-211  ...       3  [1, 1, 1, 2, 2, 3, 3, 3]\n",
              "3897        3897    problem-208  ...       2        [1, 2, 1, 1, 1, 2]\n",
              "3898        3898    problem-217  ...       3              [1, 2, 3, 2]\n",
              "3899        3899    problem-219  ...       4     [1, 2, 2, 1, 3, 3, 4]\n",
              "\n",
              "[11200 rows x 7 columns]"
            ]
          },
          "metadata": {},
          "execution_count": 48
        }
      ]
    },
    {
      "cell_type": "code",
      "metadata": {
        "id": "l77LvwdjrnwC"
      },
      "source": [
        "df = df.drop([\"Unnamed: 0\",\"file_name\", \"changes\", \"label\", \"paragraph_authors\"], axis=\"columns\")"
      ],
      "execution_count": 49,
      "outputs": []
    },
    {
      "cell_type": "code",
      "metadata": {
        "colab": {
          "base_uri": "https://localhost:8080/",
          "height": 202
        },
        "id": "s6TkLMWbL0tY",
        "outputId": "750e56c9-a48a-40b7-f99a-8ba37d6fd29d"
      },
      "source": [
        "df_valid = pd.read_csv('drive/MyDrive/pan-2021/validation_bert.csv')\n",
        "df_valid.head()"
      ],
      "execution_count": 50,
      "outputs": [
        {
          "output_type": "execute_result",
          "data": {
            "text/html": [
              "<div>\n",
              "<style scoped>\n",
              "    .dataframe tbody tr th:only-of-type {\n",
              "        vertical-align: middle;\n",
              "    }\n",
              "\n",
              "    .dataframe tbody tr th {\n",
              "        vertical-align: top;\n",
              "    }\n",
              "\n",
              "    .dataframe thead th {\n",
              "        text-align: right;\n",
              "    }\n",
              "</style>\n",
              "<table border=\"1\" class=\"dataframe\">\n",
              "  <thead>\n",
              "    <tr style=\"text-align: right;\">\n",
              "      <th></th>\n",
              "      <th>Unnamed: 0</th>\n",
              "      <th>file_name</th>\n",
              "      <th>emb</th>\n",
              "      <th>changes</th>\n",
              "      <th>multi_author</th>\n",
              "      <th>authors</th>\n",
              "      <th>paragraph_authors</th>\n",
              "    </tr>\n",
              "  </thead>\n",
              "  <tbody>\n",
              "    <tr>\n",
              "      <th>0</th>\n",
              "      <td>0</td>\n",
              "      <td>problem-1899</td>\n",
              "      <td>[49.12980651855469, -1.5622761249542236, 14.18...</td>\n",
              "      <td>[0, 1, 1, 1, 1, 1, 0, 1]</td>\n",
              "      <td>1</td>\n",
              "      <td>4</td>\n",
              "      <td>[1, 1, 2, 3, 1, 4, 3, 3, 1]</td>\n",
              "    </tr>\n",
              "    <tr>\n",
              "      <th>1</th>\n",
              "      <td>1</td>\n",
              "      <td>problem-1906</td>\n",
              "      <td>[61.219879150390625, -5.509589195251465, 29.22...</td>\n",
              "      <td>[1, 0, 1]</td>\n",
              "      <td>1</td>\n",
              "      <td>3</td>\n",
              "      <td>[1, 2, 2, 3]</td>\n",
              "    </tr>\n",
              "    <tr>\n",
              "      <th>2</th>\n",
              "      <td>2</td>\n",
              "      <td>problem-1903</td>\n",
              "      <td>[44.21048355102539, -6.232966423034668, 26.735...</td>\n",
              "      <td>[1, 1, 1, 1, 0, 0]</td>\n",
              "      <td>1</td>\n",
              "      <td>3</td>\n",
              "      <td>[1, 2, 3, 1, 3, 3, 3]</td>\n",
              "    </tr>\n",
              "    <tr>\n",
              "      <th>3</th>\n",
              "      <td>3</td>\n",
              "      <td>problem-1900</td>\n",
              "      <td>[44.55337905883789, -5.841452598571777, 13.936...</td>\n",
              "      <td>[1, 1, 1, 1, 1]</td>\n",
              "      <td>1</td>\n",
              "      <td>4</td>\n",
              "      <td>[1, 2, 1, 3, 4, 2]</td>\n",
              "    </tr>\n",
              "    <tr>\n",
              "      <th>4</th>\n",
              "      <td>4</td>\n",
              "      <td>problem-1904</td>\n",
              "      <td>[53.226463317871094, 6.5912981033325195, 16.66...</td>\n",
              "      <td>[0, 1, 1, 0, 1, 1, 1, 1]</td>\n",
              "      <td>1</td>\n",
              "      <td>4</td>\n",
              "      <td>[1, 1, 2, 3, 3, 1, 2, 4, 1]</td>\n",
              "    </tr>\n",
              "  </tbody>\n",
              "</table>\n",
              "</div>"
            ],
            "text/plain": [
              "   Unnamed: 0     file_name  ... authors            paragraph_authors\n",
              "0           0  problem-1899  ...       4  [1, 1, 2, 3, 1, 4, 3, 3, 1]\n",
              "1           1  problem-1906  ...       3                 [1, 2, 2, 3]\n",
              "2           2  problem-1903  ...       3        [1, 2, 3, 1, 3, 3, 3]\n",
              "3           3  problem-1900  ...       4           [1, 2, 1, 3, 4, 2]\n",
              "4           4  problem-1904  ...       4  [1, 1, 2, 3, 3, 1, 2, 4, 1]\n",
              "\n",
              "[5 rows x 7 columns]"
            ]
          },
          "metadata": {},
          "execution_count": 50
        }
      ]
    },
    {
      "cell_type": "code",
      "metadata": {
        "id": "Mj1sf7VFMBJX"
      },
      "source": [
        "df_valid = df_valid.drop([\"Unnamed: 0\",\"file_name\", \"changes\", \"multi_author\", \"paragraph_authors\"], axis=\"columns\")"
      ],
      "execution_count": 51,
      "outputs": []
    },
    {
      "cell_type": "code",
      "metadata": {
        "colab": {
          "base_uri": "https://localhost:8080/"
        },
        "id": "NsH17aHpjVrv",
        "outputId": "f6400a44-79ff-41df-8e21-c8d5f065492c"
      },
      "source": [
        "df_train = df.iloc[:, : ]\n",
        "df_test = df_valid.iloc[:, : ]\n",
        "print(len(df_train))\n",
        "print(len(df_test))"
      ],
      "execution_count": 52,
      "outputs": [
        {
          "output_type": "stream",
          "name": "stdout",
          "text": [
            "11200\n",
            "2400\n"
          ]
        }
      ]
    },
    {
      "cell_type": "code",
      "metadata": {
        "colab": {
          "base_uri": "https://localhost:8080/",
          "height": 664
        },
        "id": "t68ySKq0f0eo",
        "outputId": "b727e2ec-9d35-4178-f15c-6a18c1009f90"
      },
      "source": [
        "y_train = df_train['authors']\n",
        "df_train.drop(['authors'], axis=1, inplace= True)\n",
        "df_train.head(20)"
      ],
      "execution_count": 53,
      "outputs": [
        {
          "output_type": "execute_result",
          "data": {
            "text/html": [
              "<div>\n",
              "<style scoped>\n",
              "    .dataframe tbody tr th:only-of-type {\n",
              "        vertical-align: middle;\n",
              "    }\n",
              "\n",
              "    .dataframe tbody tr th {\n",
              "        vertical-align: top;\n",
              "    }\n",
              "\n",
              "    .dataframe thead th {\n",
              "        text-align: right;\n",
              "    }\n",
              "</style>\n",
              "<table border=\"1\" class=\"dataframe\">\n",
              "  <thead>\n",
              "    <tr style=\"text-align: right;\">\n",
              "      <th></th>\n",
              "      <th>emb</th>\n",
              "    </tr>\n",
              "  </thead>\n",
              "  <tbody>\n",
              "    <tr>\n",
              "      <th>0</th>\n",
              "      <td>[50.449974060058594, 2.697402238845825, 14.426...</td>\n",
              "    </tr>\n",
              "    <tr>\n",
              "      <th>1</th>\n",
              "      <td>[50.037479400634766, -24.617265701293945, 1.43...</td>\n",
              "    </tr>\n",
              "    <tr>\n",
              "      <th>2</th>\n",
              "      <td>[38.54051971435547, 14.400163650512695, 6.9886...</td>\n",
              "    </tr>\n",
              "    <tr>\n",
              "      <th>3</th>\n",
              "      <td>[71.1371078491211, -0.6726647019386292, 17.260...</td>\n",
              "    </tr>\n",
              "    <tr>\n",
              "      <th>4</th>\n",
              "      <td>[42.75421142578125, 3.8431107997894287, 3.0734...</td>\n",
              "    </tr>\n",
              "    <tr>\n",
              "      <th>5</th>\n",
              "      <td>[55.965675354003906, -10.863653182983398, 21.1...</td>\n",
              "    </tr>\n",
              "    <tr>\n",
              "      <th>6</th>\n",
              "      <td>[57.53012466430664, 3.316451072692871, 24.9135...</td>\n",
              "    </tr>\n",
              "    <tr>\n",
              "      <th>7</th>\n",
              "      <td>[65.28244018554688, 8.659195899963379, 22.4455...</td>\n",
              "    </tr>\n",
              "    <tr>\n",
              "      <th>8</th>\n",
              "      <td>[55.271812438964844, -7.61473274230957, 11.138...</td>\n",
              "    </tr>\n",
              "    <tr>\n",
              "      <th>9</th>\n",
              "      <td>[54.49051284790039, -3.902076482772827, -1.088...</td>\n",
              "    </tr>\n",
              "    <tr>\n",
              "      <th>10</th>\n",
              "      <td>[53.479156494140625, -3.165987014770508, -7.41...</td>\n",
              "    </tr>\n",
              "    <tr>\n",
              "      <th>11</th>\n",
              "      <td>[40.99274826049805, -0.215070903301239, 11.532...</td>\n",
              "    </tr>\n",
              "    <tr>\n",
              "      <th>12</th>\n",
              "      <td>[49.76732635498047, -1.4836666584014893, 13.23...</td>\n",
              "    </tr>\n",
              "    <tr>\n",
              "      <th>13</th>\n",
              "      <td>[67.90938568115234, 2.4500410556793213, 3.0704...</td>\n",
              "    </tr>\n",
              "    <tr>\n",
              "      <th>14</th>\n",
              "      <td>[82.6149673461914, -4.886507987976074, 1.67071...</td>\n",
              "    </tr>\n",
              "    <tr>\n",
              "      <th>15</th>\n",
              "      <td>[51.11058044433594, -2.2949912548065186, 24.35...</td>\n",
              "    </tr>\n",
              "    <tr>\n",
              "      <th>16</th>\n",
              "      <td>[38.687782287597656, 0.14057967066764832, 21.9...</td>\n",
              "    </tr>\n",
              "    <tr>\n",
              "      <th>17</th>\n",
              "      <td>[50.43648910522461, -5.118882179260254, 18.281...</td>\n",
              "    </tr>\n",
              "    <tr>\n",
              "      <th>18</th>\n",
              "      <td>[69.52214050292969, -0.04532412067055702, 11.6...</td>\n",
              "    </tr>\n",
              "    <tr>\n",
              "      <th>19</th>\n",
              "      <td>[34.52493667602539, 1.0090495347976685, 11.310...</td>\n",
              "    </tr>\n",
              "  </tbody>\n",
              "</table>\n",
              "</div>"
            ],
            "text/plain": [
              "                                                  emb\n",
              "0   [50.449974060058594, 2.697402238845825, 14.426...\n",
              "1   [50.037479400634766, -24.617265701293945, 1.43...\n",
              "2   [38.54051971435547, 14.400163650512695, 6.9886...\n",
              "3   [71.1371078491211, -0.6726647019386292, 17.260...\n",
              "4   [42.75421142578125, 3.8431107997894287, 3.0734...\n",
              "5   [55.965675354003906, -10.863653182983398, 21.1...\n",
              "6   [57.53012466430664, 3.316451072692871, 24.9135...\n",
              "7   [65.28244018554688, 8.659195899963379, 22.4455...\n",
              "8   [55.271812438964844, -7.61473274230957, 11.138...\n",
              "9   [54.49051284790039, -3.902076482772827, -1.088...\n",
              "10  [53.479156494140625, -3.165987014770508, -7.41...\n",
              "11  [40.99274826049805, -0.215070903301239, 11.532...\n",
              "12  [49.76732635498047, -1.4836666584014893, 13.23...\n",
              "13  [67.90938568115234, 2.4500410556793213, 3.0704...\n",
              "14  [82.6149673461914, -4.886507987976074, 1.67071...\n",
              "15  [51.11058044433594, -2.2949912548065186, 24.35...\n",
              "16  [38.687782287597656, 0.14057967066764832, 21.9...\n",
              "17  [50.43648910522461, -5.118882179260254, 18.281...\n",
              "18  [69.52214050292969, -0.04532412067055702, 11.6...\n",
              "19  [34.52493667602539, 1.0090495347976685, 11.310..."
            ]
          },
          "metadata": {},
          "execution_count": 53
        }
      ]
    },
    {
      "cell_type": "code",
      "metadata": {
        "colab": {
          "base_uri": "https://localhost:8080/",
          "height": 664
        },
        "id": "c25t5BcMmOxV",
        "outputId": "69154e30-fe02-40d9-8151-3935c3bb176b"
      },
      "source": [
        "y_test = df_test['authors']\n",
        "df_test.drop(['authors'], axis=1, inplace= True)\n",
        "df_test.head(20)"
      ],
      "execution_count": 54,
      "outputs": [
        {
          "output_type": "execute_result",
          "data": {
            "text/html": [
              "<div>\n",
              "<style scoped>\n",
              "    .dataframe tbody tr th:only-of-type {\n",
              "        vertical-align: middle;\n",
              "    }\n",
              "\n",
              "    .dataframe tbody tr th {\n",
              "        vertical-align: top;\n",
              "    }\n",
              "\n",
              "    .dataframe thead th {\n",
              "        text-align: right;\n",
              "    }\n",
              "</style>\n",
              "<table border=\"1\" class=\"dataframe\">\n",
              "  <thead>\n",
              "    <tr style=\"text-align: right;\">\n",
              "      <th></th>\n",
              "      <th>emb</th>\n",
              "    </tr>\n",
              "  </thead>\n",
              "  <tbody>\n",
              "    <tr>\n",
              "      <th>0</th>\n",
              "      <td>[49.12980651855469, -1.5622761249542236, 14.18...</td>\n",
              "    </tr>\n",
              "    <tr>\n",
              "      <th>1</th>\n",
              "      <td>[61.219879150390625, -5.509589195251465, 29.22...</td>\n",
              "    </tr>\n",
              "    <tr>\n",
              "      <th>2</th>\n",
              "      <td>[44.21048355102539, -6.232966423034668, 26.735...</td>\n",
              "    </tr>\n",
              "    <tr>\n",
              "      <th>3</th>\n",
              "      <td>[44.55337905883789, -5.841452598571777, 13.936...</td>\n",
              "    </tr>\n",
              "    <tr>\n",
              "      <th>4</th>\n",
              "      <td>[53.226463317871094, 6.5912981033325195, 16.66...</td>\n",
              "    </tr>\n",
              "    <tr>\n",
              "      <th>5</th>\n",
              "      <td>[128.64418029785156, -9.34257984161377, 13.457...</td>\n",
              "    </tr>\n",
              "    <tr>\n",
              "      <th>6</th>\n",
              "      <td>[54.58216094970703, -9.10063648223877, 20.0652...</td>\n",
              "    </tr>\n",
              "    <tr>\n",
              "      <th>7</th>\n",
              "      <td>[51.603538513183594, -8.352190017700195, 15.29...</td>\n",
              "    </tr>\n",
              "    <tr>\n",
              "      <th>8</th>\n",
              "      <td>[41.43244934082031, 4.549075603485107, 8.16766...</td>\n",
              "    </tr>\n",
              "    <tr>\n",
              "      <th>9</th>\n",
              "      <td>[24.141916275024414, -0.02147524617612362, 11....</td>\n",
              "    </tr>\n",
              "    <tr>\n",
              "      <th>10</th>\n",
              "      <td>[67.75716400146484, -8.146570205688477, 22.627...</td>\n",
              "    </tr>\n",
              "    <tr>\n",
              "      <th>11</th>\n",
              "      <td>[85.95368957519531, -4.500657558441162, 7.5279...</td>\n",
              "    </tr>\n",
              "    <tr>\n",
              "      <th>12</th>\n",
              "      <td>[37.48949432373047, -2.715994119644165, -2.352...</td>\n",
              "    </tr>\n",
              "    <tr>\n",
              "      <th>13</th>\n",
              "      <td>[69.31034851074219, -3.2226738929748535, 15.71...</td>\n",
              "    </tr>\n",
              "    <tr>\n",
              "      <th>14</th>\n",
              "      <td>[49.52146911621094, -11.581655502319336, 12.98...</td>\n",
              "    </tr>\n",
              "    <tr>\n",
              "      <th>15</th>\n",
              "      <td>[62.06267166137695, -6.393728256225586, 21.470...</td>\n",
              "    </tr>\n",
              "    <tr>\n",
              "      <th>16</th>\n",
              "      <td>[78.77119445800781, -9.490426063537598, 26.569...</td>\n",
              "    </tr>\n",
              "    <tr>\n",
              "      <th>17</th>\n",
              "      <td>[45.70342254638672, -6.156473636627197, 14.690...</td>\n",
              "    </tr>\n",
              "    <tr>\n",
              "      <th>18</th>\n",
              "      <td>[43.94287872314453, 9.55101490020752, 14.89742...</td>\n",
              "    </tr>\n",
              "    <tr>\n",
              "      <th>19</th>\n",
              "      <td>[70.65206146240234, -7.1862311363220215, 20.22...</td>\n",
              "    </tr>\n",
              "  </tbody>\n",
              "</table>\n",
              "</div>"
            ],
            "text/plain": [
              "                                                  emb\n",
              "0   [49.12980651855469, -1.5622761249542236, 14.18...\n",
              "1   [61.219879150390625, -5.509589195251465, 29.22...\n",
              "2   [44.21048355102539, -6.232966423034668, 26.735...\n",
              "3   [44.55337905883789, -5.841452598571777, 13.936...\n",
              "4   [53.226463317871094, 6.5912981033325195, 16.66...\n",
              "5   [128.64418029785156, -9.34257984161377, 13.457...\n",
              "6   [54.58216094970703, -9.10063648223877, 20.0652...\n",
              "7   [51.603538513183594, -8.352190017700195, 15.29...\n",
              "8   [41.43244934082031, 4.549075603485107, 8.16766...\n",
              "9   [24.141916275024414, -0.02147524617612362, 11....\n",
              "10  [67.75716400146484, -8.146570205688477, 22.627...\n",
              "11  [85.95368957519531, -4.500657558441162, 7.5279...\n",
              "12  [37.48949432373047, -2.715994119644165, -2.352...\n",
              "13  [69.31034851074219, -3.2226738929748535, 15.71...\n",
              "14  [49.52146911621094, -11.581655502319336, 12.98...\n",
              "15  [62.06267166137695, -6.393728256225586, 21.470...\n",
              "16  [78.77119445800781, -9.490426063537598, 26.569...\n",
              "17  [45.70342254638672, -6.156473636627197, 14.690...\n",
              "18  [43.94287872314453, 9.55101490020752, 14.89742...\n",
              "19  [70.65206146240234, -7.1862311363220215, 20.22..."
            ]
          },
          "metadata": {},
          "execution_count": 54
        }
      ]
    },
    {
      "cell_type": "code",
      "metadata": {
        "id": "LLNTbTCtr77S"
      },
      "source": [
        "xtrain = df_train.values.tolist()\n",
        "X_test = df_test.values.tolist()"
      ],
      "execution_count": 55,
      "outputs": []
    },
    {
      "cell_type": "code",
      "metadata": {
        "id": "8TpCbwr3rHse"
      },
      "source": [
        "xtrain = [eval(xtrain[i][0]) for i in range(0, len(xtrain))]\n",
        "X_test = [eval(X_test[i][0]) for i in range(0, len(X_test))]"
      ],
      "execution_count": 56,
      "outputs": []
    },
    {
      "cell_type": "code",
      "metadata": {
        "id": "Aw1ESkBDsbQc"
      },
      "source": [
        "xtrain = np.asarray(xtrain)"
      ],
      "execution_count": 57,
      "outputs": []
    },
    {
      "cell_type": "code",
      "metadata": {
        "id": "TuQ5Z5KJs9h2"
      },
      "source": [
        "X_test = np.asarray(X_test)"
      ],
      "execution_count": 58,
      "outputs": []
    },
    {
      "cell_type": "code",
      "metadata": {
        "id": "DVHzcGxZtm0w"
      },
      "source": [
        "import seaborn as sns\n",
        "from sklearn.metrics import confusion_matrix\n",
        "from sklearn.metrics import classification_report\n",
        "import warnings\n",
        "warnings.simplefilter(action='ignore', category=FutureWarning)"
      ],
      "execution_count": 59,
      "outputs": []
    },
    {
      "cell_type": "code",
      "metadata": {
        "id": "J16D3aMzS3PW"
      },
      "source": [
        "def print_confusion_matrix(preds, labels, names):\n",
        "  print(classification_report(labels, preds))\n",
        "\n",
        "  # Mатрица на конфузија \n",
        "  names = names\n",
        "  confusion = confusion_matrix(labels, preds)\n",
        "  confusion = 100 * confusion.astype('float') / confusion.sum(axis=-1)[:, np.newaxis]\n",
        "  df_1 = pd.DataFrame(data=confusion, columns=names, index=names)\n",
        "  image = sns.heatmap(df_1, annot=True, fmt=\".1f\", vmin=0, vmax=100,cmap='Greens')\n",
        "  image.set_title('Confusion matrix')\n",
        "  image.set_ylabel('True label')\n",
        "  image.set_xlabel('Predicted label')\n",
        "  image.plot()"
      ],
      "execution_count": 60,
      "outputs": []
    },
    {
      "cell_type": "code",
      "metadata": {
        "id": "Kz-X5T8E8N5X"
      },
      "source": [
        "ytrain = y_train"
      ],
      "execution_count": 61,
      "outputs": []
    },
    {
      "cell_type": "code",
      "metadata": {
        "colab": {
          "base_uri": "https://localhost:8080/"
        },
        "id": "6xeduEz3t9kI",
        "outputId": "bcf34140-6fbe-4d31-96c3-863a5d43585e"
      },
      "source": [
        "from sklearn.tree import DecisionTreeClassifier\n",
        "from sklearn.naive_bayes import GaussianNB\n",
        "from sklearn.ensemble import RandomForestClassifier\n",
        "\n",
        "dtc = DecisionTreeClassifier()\n",
        "nbc = GaussianNB()\n",
        "rfc = RandomForestClassifier()\n",
        "\n",
        "dtc.fit(xtrain, ytrain)\n",
        "nbc.fit(xtrain, ytrain)\n",
        "rfc.fit(xtrain, ytrain)"
      ],
      "execution_count": 62,
      "outputs": [
        {
          "output_type": "execute_result",
          "data": {
            "text/plain": [
              "RandomForestClassifier(bootstrap=True, ccp_alpha=0.0, class_weight=None,\n",
              "                       criterion='gini', max_depth=None, max_features='auto',\n",
              "                       max_leaf_nodes=None, max_samples=None,\n",
              "                       min_impurity_decrease=0.0, min_impurity_split=None,\n",
              "                       min_samples_leaf=1, min_samples_split=2,\n",
              "                       min_weight_fraction_leaf=0.0, n_estimators=100,\n",
              "                       n_jobs=None, oob_score=False, random_state=None,\n",
              "                       verbose=0, warm_start=False)"
            ]
          },
          "metadata": {},
          "execution_count": 62
        }
      ]
    },
    {
      "cell_type": "code",
      "metadata": {
        "id": "ZTaLbY3JuGQy"
      },
      "source": [
        "test_tree_predict = dtc.predict(X_test)\n",
        "test_naive_predict = nbc.predict(X_test)\n",
        "test_random_forest_predict = rfc.predict(X_test)"
      ],
      "execution_count": 63,
      "outputs": []
    },
    {
      "cell_type": "code",
      "metadata": {
        "colab": {
          "base_uri": "https://localhost:8080/",
          "height": 480
        },
        "id": "W4ayJJJ5TSe2",
        "outputId": "c453e703-d88b-464c-b418-ce27f29b0f61"
      },
      "source": [
        "print_confusion_matrix(test_tree_predict,y_test,[\"1\", \"2\", \"3\", \"4\"])"
      ],
      "execution_count": 64,
      "outputs": [
        {
          "output_type": "stream",
          "name": "stdout",
          "text": [
            "              precision    recall  f1-score   support\n",
            "\n",
            "           1       0.31      0.30      0.30       600\n",
            "           2       0.25      0.26      0.26       600\n",
            "           3       0.26      0.24      0.25       600\n",
            "           4       0.31      0.32      0.31       600\n",
            "\n",
            "    accuracy                           0.28      2400\n",
            "   macro avg       0.28      0.28      0.28      2400\n",
            "weighted avg       0.28      0.28      0.28      2400\n",
            "\n"
          ]
        },
        {
          "output_type": "display_data",
          "data": {
            "image/png": "[encoded data removed]",
            "text/plain": [
              "<Figure size 432x288 with 2 Axes>"
            ]
          },
          "metadata": {
            "needs_background": "light"
          }
        }
      ]
    },
    {
      "cell_type": "code",
      "metadata": {
        "colab": {
          "base_uri": "https://localhost:8080/",
          "height": 480
        },
        "id": "_M62vF_dTWrb",
        "outputId": "587614e9-a2bb-4f9c-cabb-1324965aa1d4"
      },
      "source": [
        "print_confusion_matrix(test_naive_predict, y_test, [\"1\", \"2\", \"3\", \"4\"])"
      ],
      "execution_count": 65,
      "outputs": [
        {
          "output_type": "stream",
          "name": "stdout",
          "text": [
            "              precision    recall  f1-score   support\n",
            "\n",
            "           1       0.43      0.36      0.39       600\n",
            "           2       0.34      0.16      0.22       600\n",
            "           3       0.33      0.10      0.15       600\n",
            "           4       0.31      0.75      0.44       600\n",
            "\n",
            "    accuracy                           0.34      2400\n",
            "   macro avg       0.35      0.34      0.30      2400\n",
            "weighted avg       0.35      0.34      0.30      2400\n",
            "\n"
          ]
        },
        {
          "output_type": "display_data",
          "data": {
            "image/png": "[encoded data removed]",
            "text/plain": [
              "<Figure size 432x288 with 2 Axes>"
            ]
          },
          "metadata": {
            "needs_background": "light"
          }
        }
      ]
    },
    {
      "cell_type": "code",
      "metadata": {
        "colab": {
          "base_uri": "https://localhost:8080/",
          "height": 480
        },
        "id": "BlhMD1ahTXAc",
        "outputId": "5e72f9c6-9421-4a21-ef59-eae60edf91b6"
      },
      "source": [
        "print_confusion_matrix(test_random_forest_predict,y_test, [\"1\", \"2\", \"3\", \"4\"])"
      ],
      "execution_count": 66,
      "outputs": [
        {
          "output_type": "stream",
          "name": "stdout",
          "text": [
            "              precision    recall  f1-score   support\n",
            "\n",
            "           1       0.45      0.52      0.48       600\n",
            "           2       0.32      0.29      0.30       600\n",
            "           3       0.32      0.23      0.27       600\n",
            "           4       0.42      0.50      0.46       600\n",
            "\n",
            "    accuracy                           0.38      2400\n",
            "   macro avg       0.37      0.39      0.38      2400\n",
            "weighted avg       0.37      0.39      0.38      2400\n",
            "\n"
          ]
        },
        {
          "output_type": "display_data",
          "data": {
            "image/png": "[encoded data removed]",
            "text/plain": [
              "<Figure size 432x288 with 2 Axes>"
            ]
          },
          "metadata": {
            "needs_background": "light"
          }
        }
      ]
    },
    {
      "cell_type": "code",
      "metadata": {
        "id": "tADymSdZtQ2E",
        "colab": {
          "base_uri": "https://localhost:8080/"
        },
        "outputId": "6a08ad98-fa04-4117-c791-5ffab45bd505"
      },
      "source": [
        "from sklearn.model_selection import StratifiedKFold, RandomizedSearchCV\n",
        "from sklearn.metrics import accuracy_score\n",
        "\n",
        "\n",
        "parameters_rf = {\n",
        "          \"criterion\":['gini','entropy'],\n",
        "          \"max_depth\": [3,5,None],\n",
        "          \"max_features\": [None, \"auto\"],\n",
        "          \"min_samples_leaf\": [1, 5],\n",
        "          \"min_samples_split\": [2, 5],\n",
        "          'bootstrap': [False, True],\n",
        "          'max_samples': [0.5, 1],\n",
        "          'n_estimators': [2, 5, 100],\n",
        "          \"oob_score\":[False, True],\n",
        "           \"random_state\":[None,2]\n",
        "         }\n",
        "\n",
        "\n",
        "gs_rf = RandomizedSearchCV(rfc, parameters_rf, scoring='accuracy', n_jobs=3)\n",
        "gs_rf.fit(xtrain, ytrain)"
      ],
      "execution_count": 67,
      "outputs": [
        {
          "output_type": "execute_result",
          "data": {
            "text/plain": [
              "RandomizedSearchCV(cv=None, error_score=nan,\n",
              "                   estimator=RandomForestClassifier(bootstrap=True,\n",
              "                                                    ccp_alpha=0.0,\n",
              "                                                    class_weight=None,\n",
              "                                                    criterion='gini',\n",
              "                                                    max_depth=None,\n",
              "                                                    max_features='auto',\n",
              "                                                    max_leaf_nodes=None,\n",
              "                                                    max_samples=None,\n",
              "                                                    min_impurity_decrease=0.0,\n",
              "                                                    min_impurity_split=None,\n",
              "                                                    min_samples_leaf=1,\n",
              "                                                    min_samples_split=2,\n",
              "                                                    min_weight_fraction_leaf=0.0,\n",
              "                                                    n_estimators=100,\n",
              "                                                    n_j...\n",
              "                   param_distributions={'bootstrap': [False, True],\n",
              "                                        'criterion': ['gini', 'entropy'],\n",
              "                                        'max_depth': [3, 5, None],\n",
              "                                        'max_features': [None, 'auto'],\n",
              "                                        'max_samples': [0.5, 1],\n",
              "                                        'min_samples_leaf': [1, 5],\n",
              "                                        'min_samples_split': [2, 5],\n",
              "                                        'n_estimators': [2, 5, 100],\n",
              "                                        'oob_score': [False, True],\n",
              "                                        'random_state': [None, 2]},\n",
              "                   pre_dispatch='2*n_jobs', random_state=None, refit=True,\n",
              "                   return_train_score=False, scoring='accuracy', verbose=0)"
            ]
          },
          "metadata": {},
          "execution_count": 67
        }
      ]
    },
    {
      "cell_type": "code",
      "metadata": {
        "id": "OqBbTdtm8XKA",
        "colab": {
          "base_uri": "https://localhost:8080/",
          "height": 698
        },
        "outputId": "d7e33729-8bb3-4903-8654-888cdb509461"
      },
      "source": [
        "print(\"Best score: %0.3f\" % gs_rf.best_score_) \n",
        "print(\"Best parameters set:\" )\n",
        "best_parameters_rf = gs_rf.best_estimator_.get_params()\n",
        "for param_name_rf in sorted (parameters_rf . keys()): \n",
        "                    print(\"\\t %s: %r\" % (param_name_rf, best_parameters_rf[param_name_rf]))\n",
        "        \n",
        "y_pred = gs_rf.predict(X_test)\n",
        "\n",
        "# print(classification_report(y_test, y_pred))\n",
        "print(\"accuracy: \",accuracy_score(y_test, y_pred))\n",
        "print_confusion_matrix( y_pred,y_test,[\"1\", \"2\", \"3\", \"4\"])"
      ],
      "execution_count": 68,
      "outputs": [
        {
          "output_type": "stream",
          "name": "stdout",
          "text": [
            "Best score: 0.351\n",
            "Best parameters set:\n",
            "\t bootstrap: True\n",
            "\t criterion: 'entropy'\n",
            "\t max_depth: 3\n",
            "\t max_features: None\n",
            "\t max_samples: 0.5\n",
            "\t min_samples_leaf: 1\n",
            "\t min_samples_split: 2\n",
            "\t n_estimators: 100\n",
            "\t oob_score: True\n",
            "\t random_state: 2\n",
            "accuracy:  0.34708333333333335\n",
            "              precision    recall  f1-score   support\n",
            "\n",
            "           1       0.40      0.52      0.45       600\n",
            "           2       0.30      0.10      0.15       600\n",
            "           3       0.28      0.07      0.11       600\n",
            "           4       0.33      0.70      0.45       600\n",
            "\n",
            "    accuracy                           0.35      2400\n",
            "   macro avg       0.33      0.35      0.29      2400\n",
            "weighted avg       0.33      0.35      0.29      2400\n",
            "\n"
          ]
        },
        {
          "output_type": "display_data",
          "data": {
            "image/png": "[encoded data removed]",
            "text/plain": [
              "<Figure size 432x288 with 2 Axes>"
            ]
          },
          "metadata": {
            "needs_background": "light"
          }
        }
      ]
    },
    {
      "cell_type": "code",
      "metadata": {
        "id": "9jCuGZAEvaBg"
      },
      "source": [
        "X_train_norm = xtrain\n",
        "X_test_norm = X_test"
      ],
      "execution_count": 69,
      "outputs": []
    },
    {
      "cell_type": "code",
      "metadata": {
        "colab": {
          "base_uri": "https://localhost:8080/"
        },
        "id": "SHCXU5iLHJSW",
        "outputId": "6cf6e4f3-c5e2-4a9e-c09d-d5f4e2ce73e0"
      },
      "source": [
        "!pip install catboost"
      ],
      "execution_count": 70,
      "outputs": [
        {
          "output_type": "stream",
          "name": "stdout",
          "text": [
            "Requirement already satisfied: catboost in /usr/local/lib/python3.7/dist-packages (0.26.1)\n",
            "Requirement already satisfied: plotly in /usr/local/lib/python3.7/dist-packages (from catboost) (4.4.1)\n",
            "Requirement already satisfied: numpy>=1.16.0 in /usr/local/lib/python3.7/dist-packages (from catboost) (1.19.5)\n",
            "Requirement already satisfied: six in /usr/local/lib/python3.7/dist-packages (from catboost) (1.15.0)\n",
            "Requirement already satisfied: matplotlib in /usr/local/lib/python3.7/dist-packages (from catboost) (3.2.2)\n",
            "Requirement already satisfied: scipy in /usr/local/lib/python3.7/dist-packages (from catboost) (1.4.1)\n",
            "Requirement already satisfied: pandas>=0.24.0 in /usr/local/lib/python3.7/dist-packages (from catboost) (1.1.5)\n",
            "Requirement already satisfied: graphviz in /usr/local/lib/python3.7/dist-packages (from catboost) (0.10.1)\n",
            "Requirement already satisfied: python-dateutil>=2.7.3 in /usr/local/lib/python3.7/dist-packages (from pandas>=0.24.0->catboost) (2.8.2)\n",
            "Requirement already satisfied: pytz>=2017.2 in /usr/local/lib/python3.7/dist-packages (from pandas>=0.24.0->catboost) (2018.9)\n",
            "Requirement already satisfied: kiwisolver>=1.0.1 in /usr/local/lib/python3.7/dist-packages (from matplotlib->catboost) (1.3.1)\n",
            "Requirement already satisfied: pyparsing!=2.0.4,!=2.1.2,!=2.1.6,>=2.0.1 in /usr/local/lib/python3.7/dist-packages (from matplotlib->catboost) (2.4.7)\n",
            "Requirement already satisfied: cycler>=0.10 in /usr/local/lib/python3.7/dist-packages (from matplotlib->catboost) (0.10.0)\n",
            "Requirement already satisfied: retrying>=1.3.3 in /usr/local/lib/python3.7/dist-packages (from plotly->catboost) (1.3.3)\n"
          ]
        }
      ]
    },
    {
      "cell_type": "code",
      "metadata": {
        "id": "4yEJP7H1HHqQ"
      },
      "source": [
        "from catboost import Pool, cv, CatBoostClassifier, CatBoostRegressor"
      ],
      "execution_count": 71,
      "outputs": []
    },
    {
      "cell_type": "code",
      "metadata": {
        "id": "yOpNC5EIG2sE"
      },
      "source": [
        "train_pool = Pool(data=xtrain,label = ytrain)"
      ],
      "execution_count": 72,
      "outputs": []
    },
    {
      "cell_type": "code",
      "metadata": {
        "id": "rZyM7CCCbKdj"
      },
      "source": [
        "import sklearn.metrics as metrics"
      ],
      "execution_count": 73,
      "outputs": []
    },
    {
      "cell_type": "code",
      "metadata": {
        "colab": {
          "base_uri": "https://localhost:8080/",
          "height": 33,
          "referenced_widgets": [
            "beeae663e8554680856e90892a1b86fc"
          ]
        },
        "id": "Ozg2jw8LG-_h",
        "outputId": "f6c96b7f-4748-4081-ab01-b436e162774d"
      },
      "source": [
        "model_basic = CatBoostClassifier()\n",
        "model_basic.fit(train_pool, plot=True,silent=True)\n",
        "print(model_basic.get_best_score())\n",
        "\n",
        "predicted_values = model_basic.predict(X_test)"
      ],
      "execution_count": 74,
      "outputs": [
        {
          "output_type": "display_data",
          "data": {
            "application/vnd.jupyter.widget-view+json": {
              "model_id": "beeae663e8554680856e90892a1b86fc",
              "version_minor": 0,
              "version_major": 2
            },
            "text/plain": [
              "MetricVisualizer(layout=Layout(align_self='stretch', height='500px'))"
            ]
          },
          "metadata": {}
        },
        {
          "output_type": "stream",
          "name": "stdout",
          "text": [
            "{'learn': {'MultiClass': 0.4492288842510256}}\n"
          ]
        }
      ]
    },
    {
      "cell_type": "code",
      "metadata": {
        "id": "T0wyhJbKPmP2",
        "colab": {
          "base_uri": "https://localhost:8080/",
          "height": 496
        },
        "outputId": "5f5d4051-3bb6-4268-e998-fb78d3b1488d"
      },
      "source": [
        "print_confusion_matrix(predicted_values, y_test, [\"1\", \"2\", \"3\", \"4\"])\n",
        "print(\"Accuracy:\", metrics.accuracy_score(y_test, predicted_values))"
      ],
      "execution_count": 75,
      "outputs": [
        {
          "output_type": "stream",
          "name": "stdout",
          "text": [
            "              precision    recall  f1-score   support\n",
            "\n",
            "           1       0.51      0.56      0.54       600\n",
            "           2       0.36      0.32      0.34       600\n",
            "           3       0.30      0.25      0.27       600\n",
            "           4       0.42      0.51      0.46       600\n",
            "\n",
            "    accuracy                           0.41      2400\n",
            "   macro avg       0.40      0.41      0.40      2400\n",
            "weighted avg       0.40      0.41      0.40      2400\n",
            "\n",
            "Accuracy: 0.40875\n"
          ]
        },
        {
          "output_type": "display_data",
          "data": {
            "image/png": "[encoded data removed]",
            "text/plain": [
              "<Figure size 432x288 with 2 Axes>"
            ]
          },
          "metadata": {
            "needs_background": "light"
          }
        }
      ]
    },
    {
      "cell_type": "code",
      "metadata": {
        "id": "4yciljC9FaTN"
      },
      "source": [
        "from sklearn.preprocessing import MinMaxScaler\n",
        "from sklearn.ensemble import GradientBoostingClassifier"
      ],
      "execution_count": 76,
      "outputs": []
    },
    {
      "cell_type": "code",
      "metadata": {
        "colab": {
          "base_uri": "https://localhost:8080/",
          "height": 1000
        },
        "id": "0CFGIyWv4ks6",
        "outputId": "d0527da5-139b-49c8-83f8-6cb396dc8239"
      },
      "source": [
        "lr_list = [ 0.5, 0.75, 1, 1.1, 1.2, 1.3, 1.4, 1.5, 2, 3, 4, 5, 6.3, 7.7, 10, 20, 30, 45, 55, 62, 77, 84, 90]\n",
        "\n",
        "for learning_rate in lr_list:\n",
        "    gb_clf = GradientBoostingClassifier(n_estimators=100, learning_rate=learning_rate, max_features=4, max_depth=4, random_state=0)\n",
        "    gb_clf.fit(xtrain, ytrain)\n",
        "    predicted_values = gb_clf.predict(X_test)\n",
        "\n",
        "    print(\"Learning rate: \", learning_rate)\n",
        "    print_confusion_matrix(predicted_values, y_test, [\"1\", \"2\", \"3\", \"4\"])\n",
        "    plt.show()"
      ],
      "execution_count": 77,
      "outputs": [
        {
          "output_type": "stream",
          "name": "stdout",
          "text": [
            "Learning rate:  0.5\n",
            "              precision    recall  f1-score   support\n",
            "\n",
            "           1       0.48      0.48      0.48       600\n",
            "           2       0.32      0.28      0.30       600\n",
            "           3       0.28      0.29      0.29       600\n",
            "           4       0.38      0.42      0.40       600\n",
            "\n",
            "    accuracy                           0.37      2400\n",
            "   macro avg       0.37      0.37      0.37      2400\n",
            "weighted avg       0.37      0.37      0.37      2400\n",
            "\n"
          ]
        },
        {
          "output_type": "display_data",
          "data": {
            "image/png": "[encoded data removed]",
            "text/plain": [
              "<Figure size 432x288 with 2 Axes>"
            ]
          },
          "metadata": {
            "needs_background": "light"
          }
        },
        {
          "output_type": "stream",
          "name": "stdout",
          "text": [
            "Learning rate:  0.75\n",
            "              precision    recall  f1-score   support\n",
            "\n",
            "           1       0.44      0.45      0.44       600\n",
            "           2       0.27      0.26      0.27       600\n",
            "           3       0.30      0.28      0.29       600\n",
            "           4       0.41      0.43      0.42       600\n",
            "\n",
            "    accuracy                           0.36      2400\n",
            "   macro avg       0.35      0.35      0.35      2400\n",
            "weighted avg       0.35      0.35      0.35      2400\n",
            "\n"
          ]
        },
        {
          "output_type": "display_data",
          "data": {
            "image/png": "[encoded data removed]",
            "text/plain": [
              "<Figure size 432x288 with 2 Axes>"
            ]
          },
          "metadata": {
            "needs_background": "light"
          }
        },
        {
          "output_type": "stream",
          "name": "stdout",
          "text": [
            "Learning rate:  1\n",
            "              precision    recall  f1-score   support\n",
            "\n",
            "           1       0.47      0.43      0.45       600\n",
            "           2       0.31      0.30      0.30       600\n",
            "           3       0.29      0.29      0.29       600\n",
            "           4       0.39      0.43      0.41       600\n",
            "\n",
            "    accuracy                           0.36      2400\n",
            "   macro avg       0.37      0.36      0.36      2400\n",
            "weighted avg       0.37      0.36      0.36      2400\n",
            "\n"
          ]
        },
        {
          "output_type": "display_data",
          "data": {
            "image/png": "[encoded data removed]",
            "text/plain": [
              "<Figure size 432x288 with 2 Axes>"
            ]
          },
          "metadata": {
            "needs_background": "light"
          }
        },
        {
          "output_type": "stream",
          "name": "stdout",
          "text": [
            "Learning rate:  1.1\n",
            "              precision    recall  f1-score   support\n",
            "\n",
            "           1       0.45      0.41      0.43       600\n",
            "           2       0.30      0.28      0.29       600\n",
            "           3       0.29      0.31      0.30       600\n",
            "           4       0.36      0.38      0.37       600\n",
            "\n",
            "    accuracy                           0.35      2400\n",
            "   macro avg       0.35      0.35      0.35      2400\n",
            "weighted avg       0.35      0.35      0.35      2400\n",
            "\n"
          ]
        },
        {
          "output_type": "display_data",
          "data": {
            "image/png": "[encoded data removed]",
            "text/plain": [
              "<Figure size 432x288 with 2 Axes>"
            ]
          },
          "metadata": {
            "needs_background": "light"
          }
        },
        {
          "output_type": "stream",
          "name": "stdout",
          "text": [
            "Learning rate:  1.2\n",
            "              precision    recall  f1-score   support\n",
            "\n",
            "           1       0.47      0.44      0.45       600\n",
            "           2       0.32      0.31      0.32       600\n",
            "           3       0.29      0.30      0.29       600\n",
            "           4       0.38      0.41      0.39       600\n",
            "\n",
            "    accuracy                           0.36      2400\n",
            "   macro avg       0.37      0.36      0.36      2400\n",
            "weighted avg       0.37      0.36      0.36      2400\n",
            "\n"
          ]
        },
        {
          "output_type": "display_data",
          "data": {
            "image/png": "[encoded data removed]",
            "text/plain": [
              "<Figure size 432x288 with 2 Axes>"
            ]
          },
          "metadata": {
            "needs_background": "light"
          }
        },
        {
          "output_type": "stream",
          "name": "stdout",
          "text": [
            "Learning rate:  1.3\n",
            "              precision    recall  f1-score   support\n",
            "\n",
            "           1       0.46      0.43      0.45       600\n",
            "           2       0.27      0.26      0.26       600\n",
            "           3       0.28      0.28      0.28       600\n",
            "           4       0.36      0.38      0.37       600\n",
            "\n",
            "    accuracy                           0.34      2400\n",
            "   macro avg       0.34      0.34      0.34      2400\n",
            "weighted avg       0.34      0.34      0.34      2400\n",
            "\n"
          ]
        },
        {
          "output_type": "display_data",
          "data": {
            "image/png": "[encoded data removed]",
            "text/plain": [
              "<Figure size 432x288 with 2 Axes>"
            ]
          },
          "metadata": {
            "needs_background": "light"
          }
        },
        {
          "output_type": "stream",
          "name": "stdout",
          "text": [
            "Learning rate:  1.4\n",
            "              precision    recall  f1-score   support\n",
            "\n",
            "           1       0.42      0.40      0.41       600\n",
            "           2       0.28      0.29      0.29       600\n",
            "           3       0.29      0.28      0.28       600\n",
            "           4       0.36      0.38      0.37       600\n",
            "\n",
            "    accuracy                           0.34      2400\n",
            "   macro avg       0.34      0.34      0.34      2400\n",
            "weighted avg       0.34      0.34      0.34      2400\n",
            "\n"
          ]
        },
        {
          "output_type": "display_data",
          "data": {
            "image/png": "[encoded data removed]",
            "text/plain": [
              "<Figure size 432x288 with 2 Axes>"
            ]
          },
          "metadata": {
            "needs_background": "light"
          }
        },
        {
          "output_type": "stream",
          "name": "stdout",
          "text": [
            "Learning rate:  1.5\n",
            "              precision    recall  f1-score   support\n",
            "\n",
            "           1       0.42      0.41      0.41       600\n",
            "           2       0.28      0.28      0.28       600\n",
            "           3       0.30      0.32      0.31       600\n",
            "           4       0.38      0.38      0.38       600\n",
            "\n",
            "    accuracy                           0.35      2400\n",
            "   macro avg       0.35      0.35      0.35      2400\n",
            "weighted avg       0.35      0.35      0.35      2400\n",
            "\n"
          ]
        },
        {
          "output_type": "display_data",
          "data": {
            "image/png": "[encoded data removed]",
            "text/plain": [
              "<Figure size 432x288 with 2 Axes>"
            ]
          },
          "metadata": {
            "needs_background": "light"
          }
        },
        {
          "output_type": "stream",
          "name": "stdout",
          "text": [
            "Learning rate:  2\n",
            "              precision    recall  f1-score   support\n",
            "\n",
            "           1       0.31      0.04      0.07       600\n",
            "           2       0.23      0.34      0.28       600\n",
            "           3       0.19      0.01      0.01       600\n",
            "           4       0.26      0.62      0.37       600\n",
            "\n",
            "    accuracy                           0.25      2400\n",
            "   macro avg       0.25      0.25      0.18      2400\n",
            "weighted avg       0.25      0.25      0.18      2400\n",
            "\n"
          ]
        },
        {
          "output_type": "display_data",
          "data": {
            "image/png": "[encoded data removed]",
            "text/plain": [
              "<Figure size 432x288 with 2 Axes>"
            ]
          },
          "metadata": {
            "needs_background": "light"
          }
        },
        {
          "output_type": "stream",
          "name": "stdout",
          "text": [
            "Learning rate:  3\n",
            "              precision    recall  f1-score   support\n",
            "\n",
            "           1       0.19      0.12      0.15       600\n",
            "           2       0.27      0.40      0.32       600\n",
            "           3       0.23      0.39      0.29       600\n",
            "           4       0.44      0.08      0.14       600\n",
            "\n",
            "    accuracy                           0.25      2400\n",
            "   macro avg       0.28      0.25      0.23      2400\n",
            "weighted avg       0.28      0.25      0.23      2400\n",
            "\n"
          ]
        },
        {
          "output_type": "display_data",
          "data": {
            "image/png": "[encoded data removed]",
            "text/plain": [
              "<Figure size 432x288 with 2 Axes>"
            ]
          },
          "metadata": {
            "needs_background": "light"
          }
        },
        {
          "output_type": "stream",
          "name": "stdout",
          "text": [
            "Learning rate:  4\n",
            "              precision    recall  f1-score   support\n",
            "\n",
            "           1       0.23      0.72      0.34       600\n",
            "           2       0.31      0.05      0.08       600\n",
            "           3       0.20      0.12      0.15       600\n",
            "           4       0.00      0.00      0.00       600\n",
            "\n",
            "    accuracy                           0.22      2400\n",
            "   macro avg       0.18      0.22      0.15      2400\n",
            "weighted avg       0.18      0.22      0.15      2400\n",
            "\n"
          ]
        },
        {
          "output_type": "stream",
          "name": "stderr",
          "text": [
            "/usr/local/lib/python3.7/dist-packages/sklearn/metrics/_classification.py:1272: UndefinedMetricWarning: Precision and F-score are ill-defined and being set to 0.0 in labels with no predicted samples. Use `zero_division` parameter to control this behavior.\n",
            "  _warn_prf(average, modifier, msg_start, len(result))\n"
          ]
        },
        {
          "output_type": "display_data",
          "data": {
            "image/png": "[encoded data removed]",
            "text/plain": [
              "<Figure size 432x288 with 2 Axes>"
            ]
          },
          "metadata": {
            "needs_background": "light"
          }
        },
        {
          "output_type": "stream",
          "name": "stdout",
          "text": [
            "Learning rate:  5\n",
            "              precision    recall  f1-score   support\n",
            "\n",
            "           1       0.78      0.01      0.02       600\n",
            "           2       0.30      0.09      0.14       600\n",
            "           3       0.27      0.82      0.41       600\n",
            "           4       0.13      0.08      0.10       600\n",
            "\n",
            "    accuracy                           0.25      2400\n",
            "   macro avg       0.37      0.25      0.17      2400\n",
            "weighted avg       0.37      0.25      0.17      2400\n",
            "\n"
          ]
        },
        {
          "output_type": "display_data",
          "data": {
            "image/png": "[encoded data removed]",
            "text/plain": [
              "<Figure size 432x288 with 2 Axes>"
            ]
          },
          "metadata": {
            "needs_background": "light"
          }
        },
        {
          "output_type": "stream",
          "name": "stdout",
          "text": [
            "Learning rate:  6.3\n",
            "              precision    recall  f1-score   support\n",
            "\n",
            "           1       0.22      0.26      0.24       600\n",
            "           2       0.26      0.65      0.37       600\n",
            "           3       0.16      0.04      0.07       600\n",
            "           4       0.30      0.01      0.01       600\n",
            "\n",
            "    accuracy                           0.24      2400\n",
            "   macro avg       0.23      0.24      0.17      2400\n",
            "weighted avg       0.23      0.24      0.17      2400\n",
            "\n"
          ]
        },
        {
          "output_type": "display_data",
          "data": {
            "image/png": "[encoded data removed]",
            "text/plain": [
              "<Figure size 432x288 with 2 Axes>"
            ]
          },
          "metadata": {
            "needs_background": "light"
          }
        },
        {
          "output_type": "stream",
          "name": "stdout",
          "text": [
            "Learning rate:  7.7\n",
            "              precision    recall  f1-score   support\n",
            "\n",
            "           1       0.44      0.09      0.15       600\n",
            "           2       0.26      0.01      0.02       600\n",
            "           3       0.26      0.79      0.39       600\n",
            "           4       0.23      0.16      0.19       600\n",
            "\n",
            "    accuracy                           0.26      2400\n",
            "   macro avg       0.30      0.26      0.19      2400\n",
            "weighted avg       0.30      0.26      0.19      2400\n",
            "\n"
          ]
        },
        {
          "output_type": "display_data",
          "data": {
            "image/png": "[encoded data removed]",
            "text/plain": [
              "<Figure size 432x288 with 2 Axes>"
            ]
          },
          "metadata": {
            "needs_background": "light"
          }
        },
        {
          "output_type": "stream",
          "name": "stdout",
          "text": [
            "Learning rate:  10\n",
            "              precision    recall  f1-score   support\n",
            "\n",
            "           1       0.51      0.07      0.12       600\n",
            "           2       0.29      0.03      0.05       600\n",
            "           3       0.22      0.07      0.10       600\n",
            "           4       0.27      0.92      0.41       600\n",
            "\n",
            "    accuracy                           0.27      2400\n",
            "   macro avg       0.32      0.27      0.17      2400\n",
            "weighted avg       0.32      0.27      0.17      2400\n",
            "\n"
          ]
        },
        {
          "output_type": "display_data",
          "data": {
            "image/png": "[encoded data removed]",
            "text/plain": [
              "<Figure size 432x288 with 2 Axes>"
            ]
          },
          "metadata": {
            "needs_background": "light"
          }
        },
        {
          "output_type": "stream",
          "name": "stdout",
          "text": [
            "Learning rate:  20\n",
            "              precision    recall  f1-score   support\n",
            "\n",
            "           1       0.33      0.04      0.08       600\n",
            "           2       0.26      0.27      0.27       600\n",
            "           3       0.26      0.71      0.38       600\n",
            "           4       0.11      0.01      0.02       600\n",
            "\n",
            "    accuracy                           0.26      2400\n",
            "   macro avg       0.24      0.26      0.18      2400\n",
            "weighted avg       0.24      0.26      0.18      2400\n",
            "\n"
          ]
        },
        {
          "output_type": "display_data",
          "data": {
            "image/png": "[encoded data removed]",
            "text/plain": [
              "<Figure size 432x288 with 2 Axes>"
            ]
          },
          "metadata": {
            "needs_background": "light"
          }
        },
        {
          "output_type": "stream",
          "name": "stdout",
          "text": [
            "Learning rate:  30\n",
            "              precision    recall  f1-score   support\n",
            "\n",
            "           1       0.22      0.63      0.33       600\n",
            "           2       0.28      0.19      0.22       600\n",
            "           3       0.18      0.08      0.11       600\n",
            "           4       0.21      0.01      0.03       600\n",
            "\n",
            "    accuracy                           0.23      2400\n",
            "   macro avg       0.22      0.23      0.17      2400\n",
            "weighted avg       0.22      0.23      0.17      2400\n",
            "\n"
          ]
        },
        {
          "output_type": "display_data",
          "data": {
            "image/png": "[encoded data removed]",
            "text/plain": [
              "<Figure size 432x288 with 2 Axes>"
            ]
          },
          "metadata": {
            "needs_background": "light"
          }
        },
        {
          "output_type": "stream",
          "name": "stdout",
          "text": [
            "Learning rate:  45\n",
            "              precision    recall  f1-score   support\n",
            "\n",
            "           1       0.23      0.29      0.26       600\n",
            "           2       0.26      0.51      0.35       600\n",
            "           3       0.25      0.20      0.22       600\n",
            "           4       0.25      0.00      0.00       600\n",
            "\n",
            "    accuracy                           0.25      2400\n",
            "   macro avg       0.25      0.25      0.21      2400\n",
            "weighted avg       0.25      0.25      0.21      2400\n",
            "\n"
          ]
        },
        {
          "output_type": "display_data",
          "data": {
            "image/png": "[encoded data removed]",
            "text/plain": [
              "<Figure size 432x288 with 2 Axes>"
            ]
          },
          "metadata": {
            "needs_background": "light"
          }
        },
        {
          "output_type": "stream",
          "name": "stdout",
          "text": [
            "Learning rate:  55\n",
            "              precision    recall  f1-score   support\n",
            "\n",
            "           1       0.24      0.41      0.30       600\n",
            "           2       0.24      0.39      0.30       600\n",
            "           3       0.20      0.09      0.13       600\n",
            "           4       0.18      0.04      0.07       600\n",
            "\n",
            "    accuracy                           0.23      2400\n",
            "   macro avg       0.22      0.23      0.20      2400\n",
            "weighted avg       0.22      0.23      0.20      2400\n",
            "\n"
          ]
        },
        {
          "output_type": "display_data",
          "data": {
            "image/png": "[encoded data removed]",
            "text/plain": [
              "<Figure size 432x288 with 2 Axes>"
            ]
          },
          "metadata": {
            "needs_background": "light"
          }
        },
        {
          "output_type": "stream",
          "name": "stdout",
          "text": [
            "Learning rate:  62\n",
            "              precision    recall  f1-score   support\n",
            "\n",
            "           1       0.37      0.17      0.23       600\n",
            "           2       0.26      0.25      0.25       600\n",
            "           3       0.24      0.06      0.09       600\n",
            "           4       0.28      0.66      0.39       600\n",
            "\n",
            "    accuracy                           0.28      2400\n",
            "   macro avg       0.29      0.28      0.24      2400\n",
            "weighted avg       0.29      0.28      0.24      2400\n",
            "\n"
          ]
        },
        {
          "output_type": "display_data",
          "data": {
            "image/png": "[encoded data removed]",
            "text/plain": [
              "<Figure size 432x288 with 2 Axes>"
            ]
          },
          "metadata": {
            "needs_background": "light"
          }
        },
        {
          "output_type": "stream",
          "name": "stdout",
          "text": [
            "Learning rate:  77\n",
            "              precision    recall  f1-score   support\n",
            "\n",
            "           1       0.32      0.17      0.22       600\n",
            "           2       0.24      0.17      0.20       600\n",
            "           3       0.26      0.49      0.34       600\n",
            "           4       0.23      0.20      0.22       600\n",
            "\n",
            "    accuracy                           0.26      2400\n",
            "   macro avg       0.26      0.26      0.24      2400\n",
            "weighted avg       0.26      0.26      0.24      2400\n",
            "\n"
          ]
        },
        {
          "output_type": "display_data",
          "data": {
            "image/png": "[encoded data removed]",
            "text/plain": [
              "<Figure size 432x288 with 2 Axes>"
            ]
          },
          "metadata": {
            "needs_background": "light"
          }
        },
        {
          "output_type": "stream",
          "name": "stdout",
          "text": [
            "Learning rate:  84\n",
            "              precision    recall  f1-score   support\n",
            "\n",
            "           1       0.34      0.38      0.36       600\n",
            "           2       0.25      0.27      0.26       600\n",
            "           3       0.26      0.12      0.17       600\n",
            "           4       0.26      0.35      0.30       600\n",
            "\n",
            "    accuracy                           0.28      2400\n",
            "   macro avg       0.28      0.28      0.27      2400\n",
            "weighted avg       0.28      0.28      0.27      2400\n",
            "\n"
          ]
        },
        {
          "output_type": "display_data",
          "data": {
            "image/png": "[encoded data removed]",
            "text/plain": [
              "<Figure size 432x288 with 2 Axes>"
            ]
          },
          "metadata": {
            "needs_background": "light"
          }
        },
        {
          "output_type": "stream",
          "name": "stdout",
          "text": [
            "Learning rate:  90\n",
            "              precision    recall  f1-score   support\n",
            "\n",
            "           1       0.35      0.30      0.32       600\n",
            "           2       0.28      0.16      0.20       600\n",
            "           3       0.27      0.34      0.30       600\n",
            "           4       0.26      0.33      0.29       600\n",
            "\n",
            "    accuracy                           0.28      2400\n",
            "   macro avg       0.29      0.28      0.28      2400\n",
            "weighted avg       0.29      0.28      0.28      2400\n",
            "\n"
          ]
        },
        {
          "output_type": "display_data",
          "data": {
            "image/png": "[encoded data removed]",
            "text/plain": [
              "<Figure size 432x288 with 2 Axes>"
            ]
          },
          "metadata": {
            "needs_background": "light"
          }
        }
      ]
    },
    {
      "cell_type": "code",
      "metadata": {
        "id": "FSa4s9KAchAf"
      },
      "source": [
        "from sklearn.model_selection import train_test_split\n",
        "import scipy.stats as st"
      ],
      "execution_count": 78,
      "outputs": []
    },
    {
      "cell_type": "code",
      "metadata": {
        "id": "APw2Zh054PXq"
      },
      "source": [
        "X_val, X_test_1, y_val, y_test_1 = train_test_split(X_test, y_test, test_size=0.7, random_state=42)"
      ],
      "execution_count": 79,
      "outputs": []
    },
    {
      "cell_type": "code",
      "metadata": {
        "id": "VuVNnEikPOOV"
      },
      "source": [
        "from sklearn.neural_network import MLPClassifier\n",
        "\n",
        "clf = MLPClassifier((20, ), max_iter=100000).fit(xtrain, ytrain)"
      ],
      "execution_count": 80,
      "outputs": []
    },
    {
      "cell_type": "code",
      "metadata": {
        "id": "gQLITkC9P0OJ"
      },
      "source": [
        "predicted_values = clf.predict(X_test)"
      ],
      "execution_count": 81,
      "outputs": []
    },
    {
      "cell_type": "code",
      "metadata": {
        "colab": {
          "base_uri": "https://localhost:8080/",
          "height": 496
        },
        "id": "J7D4apu5PuDn",
        "outputId": "f509bcec-4eb5-4f5d-f777-d451740f72bc"
      },
      "source": [
        "print_confusion_matrix(predicted_values, y_test, [\"1\", \"2\", \"3\", \"4\"])\n",
        "print(\"Accuracy:\", metrics.accuracy_score(y_test, predicted_values))"
      ],
      "execution_count": 82,
      "outputs": [
        {
          "output_type": "stream",
          "name": "stdout",
          "text": [
            "              precision    recall  f1-score   support\n",
            "\n",
            "           1       0.58      0.37      0.45       600\n",
            "           2       0.27      0.73      0.39       600\n",
            "           3       0.27      0.05      0.09       600\n",
            "           4       0.37      0.16      0.23       600\n",
            "\n",
            "    accuracy                           0.33      2400\n",
            "   macro avg       0.37      0.33      0.29      2400\n",
            "weighted avg       0.37      0.33      0.29      2400\n",
            "\n",
            "Accuracy: 0.3279166666666667\n"
          ]
        },
        {
          "output_type": "display_data",
          "data": {
            "image/png": "[encoded data removed]",
            "text/plain": [
              "<Figure size 432x288 with 2 Axes>"
            ]
          },
          "metadata": {
            "needs_background": "light"
          }
        }
      ]
    },
    {
      "cell_type": "code",
      "metadata": {
        "colab": {
          "base_uri": "https://localhost:8080/",
          "height": 496
        },
        "id": "7wJeUY1SEeU4",
        "outputId": "35b1ce49-9763-4bf8-fbaf-b2a2cd6975d9"
      },
      "source": [
        "clf = MLPClassifier((20, 20, ), max_iter=100000).fit(xtrain, ytrain)\n",
        "predicted_values = clf.predict(X_test)\n",
        "print_confusion_matrix(predicted_values, y_test,[\"1\", \"2\", \"3\", \"4\"])\n",
        "print(\"Accuracy:\", metrics.accuracy_score(y_test, predicted_values))"
      ],
      "execution_count": 83,
      "outputs": [
        {
          "output_type": "stream",
          "name": "stdout",
          "text": [
            "              precision    recall  f1-score   support\n",
            "\n",
            "           1       0.50      0.55      0.52       600\n",
            "           2       0.35      0.28      0.31       600\n",
            "           3       0.30      0.20      0.24       600\n",
            "           4       0.37      0.54      0.44       600\n",
            "\n",
            "    accuracy                           0.39      2400\n",
            "   macro avg       0.38      0.39      0.38      2400\n",
            "weighted avg       0.38      0.39      0.38      2400\n",
            "\n",
            "Accuracy: 0.39125\n"
          ]
        },
        {
          "output_type": "display_data",
          "data": {
            "image/png": "[encoded data removed]",
            "text/plain": [
              "<Figure size 432x288 with 2 Axes>"
            ]
          },
          "metadata": {
            "needs_background": "light"
          }
        }
      ]
    },
    {
      "cell_type": "code",
      "metadata": {
        "colab": {
          "base_uri": "https://localhost:8080/",
          "height": 496
        },
        "id": "eIZpYZCyEr6d",
        "outputId": "feebecc2-e296-411e-fb17-5088e0c2196f"
      },
      "source": [
        "clf = MLPClassifier((1000, ), max_iter=100000).fit(xtrain, ytrain)\n",
        "predicted_values = clf.predict(X_test)\n",
        "print_confusion_matrix(predicted_values, y_test,[\"1\", \"2\", \"3\", \"4\"])\n",
        "print(\"Accuracy:\", metrics.accuracy_score(y_test, predicted_values))"
      ],
      "execution_count": 84,
      "outputs": [
        {
          "output_type": "stream",
          "name": "stdout",
          "text": [
            "              precision    recall  f1-score   support\n",
            "\n",
            "           1       0.53      0.54      0.53       600\n",
            "           2       0.33      0.23      0.27       600\n",
            "           3       0.31      0.41      0.35       600\n",
            "           4       0.42      0.42      0.42       600\n",
            "\n",
            "    accuracy                           0.40      2400\n",
            "   macro avg       0.40      0.40      0.39      2400\n",
            "weighted avg       0.40      0.40      0.39      2400\n",
            "\n",
            "Accuracy: 0.39625\n"
          ]
        },
        {
          "output_type": "display_data",
          "data": {
            "image/png": "[encoded data removed]",
            "text/plain": [
              "<Figure size 432x288 with 2 Axes>"
            ]
          },
          "metadata": {
            "needs_background": "light"
          }
        }
      ]
    },
    {
      "cell_type": "code",
      "metadata": {
        "colab": {
          "base_uri": "https://localhost:8080/",
          "height": 496
        },
        "id": "GKiGOYvSE_Xc",
        "outputId": "e6b2888e-f648-4205-ff23-9e3f2cef65d7"
      },
      "source": [
        "clf = MLPClassifier((256, 64, 128, ), max_iter=100000, learning_rate=\"invscaling\").fit(xtrain, ytrain)\n",
        "predicted_values = clf.predict(X_test)\n",
        "print_confusion_matrix(predicted_values, y_test, [\"1\", \"2\", \"3\", \"4\"])\n",
        "print(\"Accuracy:\", metrics.accuracy_score(y_test, predicted_values))"
      ],
      "execution_count": 85,
      "outputs": [
        {
          "output_type": "stream",
          "name": "stdout",
          "text": [
            "              precision    recall  f1-score   support\n",
            "\n",
            "           1       0.51      0.54      0.52       600\n",
            "           2       0.33      0.33      0.33       600\n",
            "           3       0.31      0.26      0.28       600\n",
            "           4       0.41      0.44      0.42       600\n",
            "\n",
            "    accuracy                           0.39      2400\n",
            "   macro avg       0.39      0.39      0.39      2400\n",
            "weighted avg       0.39      0.39      0.39      2400\n",
            "\n",
            "Accuracy: 0.39458333333333334\n"
          ]
        },
        {
          "output_type": "display_data",
          "data": {
            "image/png": "[encoded data removed]",
            "text/plain": [
              "<Figure size 432x288 with 2 Axes>"
            ]
          },
          "metadata": {
            "needs_background": "light"
          }
        }
      ]
    }
  ]
}