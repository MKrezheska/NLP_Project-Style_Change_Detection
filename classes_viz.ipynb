{
  "nbformat": 4,
  "nbformat_minor": 0,
  "metadata": {
    "colab": {
      "name": "classes_viz.ipynb",
      "provenance": [],
      "authorship_tag": "ABX9TyOnD/3lb3ds314AbUWo5WHI",
      "include_colab_link": true
    },
    "kernelspec": {
      "display_name": "Python 3",
      "name": "python3"
    },
    "language_info": {
      "name": "python"
    }
  },
  "cells": [
    {
      "cell_type": "markdown",
      "metadata": {
        "id": "view-in-github",
        "colab_type": "text"
      },
      "source": [
        "<a href=\"https://colab.research.google.com/github/MKrezheska/NLP_Project-Style_Change_Detection/blob/main/classes_viz.ipynb\" target=\"_parent\"><img src=\"https://colab.research.google.com/assets/colab-badge.svg\" alt=\"Open In Colab\"/></a>"
      ]
    },
    {
      "cell_type": "code",
      "metadata": {
        "colab": {
          "base_uri": "https://localhost:8080/"
        },
        "id": "rdQCV-9w0zlB",
        "outputId": "0f898df3-4ba1-4beb-f639-0d9561e9dd4c"
      },
      "source": [
        "from google.colab import drive\n",
        "drive.mount('/content/drive')"
      ],
      "execution_count": null,
      "outputs": [
        {
          "output_type": "stream",
          "name": "stdout",
          "text": [
            "Mounted at /content/drive\n"
          ]
        }
      ]
    },
    {
      "cell_type": "code",
      "metadata": {
        "id": "JFRgLrGS8HFn"
      },
      "source": [
        "import pandas as pd"
      ],
      "execution_count": null,
      "outputs": []
    },
    {
      "cell_type": "code",
      "metadata": {
        "colab": {
          "base_uri": "https://localhost:8080/",
          "height": 202
        },
        "id": "55siDObqEJMa",
        "outputId": "8d6c304d-f916-42c0-f132-e0dd02587e3e"
      },
      "source": [
        "train_data_df = data = pd.read_csv('drive/MyDrive/pan-2021/train.csv')\n",
        "train_data_df.head()"
      ],
      "execution_count": null,
      "outputs": [
        {
          "output_type": "execute_result",
          "data": {
            "text/html": [
              "<div>\n",
              "<style scoped>\n",
              "    .dataframe tbody tr th:only-of-type {\n",
              "        vertical-align: middle;\n",
              "    }\n",
              "\n",
              "    .dataframe tbody tr th {\n",
              "        vertical-align: top;\n",
              "    }\n",
              "\n",
              "    .dataframe thead th {\n",
              "        text-align: right;\n",
              "    }\n",
              "</style>\n",
              "<table border=\"1\" class=\"dataframe\">\n",
              "  <thead>\n",
              "    <tr style=\"text-align: right;\">\n",
              "      <th></th>\n",
              "      <th>Unnamed: 0</th>\n",
              "      <th>file_name</th>\n",
              "      <th>content</th>\n",
              "      <th>changes</th>\n",
              "      <th>multi_author</th>\n",
              "      <th>authors</th>\n",
              "      <th>paragraph_authors</th>\n",
              "    </tr>\n",
              "  </thead>\n",
              "  <tbody>\n",
              "    <tr>\n",
              "      <th>0</th>\n",
              "      <td>0</td>\n",
              "      <td>problem-10702</td>\n",
              "      <td>However the hardware simulated by your virtual...</td>\n",
              "      <td>[1, 1, 1, 0, 1]</td>\n",
              "      <td>1</td>\n",
              "      <td>2</td>\n",
              "      <td>[1, 2, 1, 2, 2, 1]</td>\n",
              "    </tr>\n",
              "    <tr>\n",
              "      <th>1</th>\n",
              "      <td>1</td>\n",
              "      <td>problem-10706</td>\n",
              "      <td>If you don't want to do that, but you can stil...</td>\n",
              "      <td>[0, 1, 1, 1, 1, 1]</td>\n",
              "      <td>1</td>\n",
              "      <td>4</td>\n",
              "      <td>[1, 1, 2, 3, 4, 3, 2]</td>\n",
              "    </tr>\n",
              "    <tr>\n",
              "      <th>2</th>\n",
              "      <td>2</td>\n",
              "      <td>problem-10710</td>\n",
              "      <td>Since you already have a fast processor and vi...</td>\n",
              "      <td>[1, 1, 0, 1, 0, 1]</td>\n",
              "      <td>1</td>\n",
              "      <td>4</td>\n",
              "      <td>[1, 2, 3, 3, 4, 4, 3]</td>\n",
              "    </tr>\n",
              "    <tr>\n",
              "      <th>3</th>\n",
              "      <td>3</td>\n",
              "      <td>problem-10712</td>\n",
              "      <td>We have two users in the domain, both assigned...</td>\n",
              "      <td>[0, 0, 0, 0, 1, 1]</td>\n",
              "      <td>1</td>\n",
              "      <td>2</td>\n",
              "      <td>[1, 1, 1, 1, 1, 2, 1]</td>\n",
              "    </tr>\n",
              "    <tr>\n",
              "      <th>4</th>\n",
              "      <td>4</td>\n",
              "      <td>problem-10708</td>\n",
              "      <td>The idea was actually used for server rooms at...</td>\n",
              "      <td>[1, 0, 0, 0, 1]</td>\n",
              "      <td>1</td>\n",
              "      <td>3</td>\n",
              "      <td>[1, 2, 2, 2, 2, 3]</td>\n",
              "    </tr>\n",
              "  </tbody>\n",
              "</table>\n",
              "</div>"
            ],
            "text/plain": [
              "   Unnamed: 0      file_name  ... authors      paragraph_authors\n",
              "0           0  problem-10702  ...       2     [1, 2, 1, 2, 2, 1]\n",
              "1           1  problem-10706  ...       4  [1, 1, 2, 3, 4, 3, 2]\n",
              "2           2  problem-10710  ...       4  [1, 2, 3, 3, 4, 4, 3]\n",
              "3           3  problem-10712  ...       2  [1, 1, 1, 1, 1, 2, 1]\n",
              "4           4  problem-10708  ...       3     [1, 2, 2, 2, 2, 3]\n",
              "\n",
              "[5 rows x 7 columns]"
            ]
          },
          "metadata": {},
          "execution_count": 3
        }
      ]
    },
    {
      "cell_type": "code",
      "metadata": {
        "colab": {
          "base_uri": "https://localhost:8080/",
          "height": 202
        },
        "id": "8Hz5JXCrsJe8",
        "outputId": "5a2cfd14-f7c1-4d9c-f676-0a22901c6a4c"
      },
      "source": [
        "test_data_df  = pd.read_csv('drive/MyDrive/pan-2021/validation.csv')\n",
        "test_data_df.head()"
      ],
      "execution_count": null,
      "outputs": [
        {
          "output_type": "execute_result",
          "data": {
            "text/html": [
              "<div>\n",
              "<style scoped>\n",
              "    .dataframe tbody tr th:only-of-type {\n",
              "        vertical-align: middle;\n",
              "    }\n",
              "\n",
              "    .dataframe tbody tr th {\n",
              "        vertical-align: top;\n",
              "    }\n",
              "\n",
              "    .dataframe thead th {\n",
              "        text-align: right;\n",
              "    }\n",
              "</style>\n",
              "<table border=\"1\" class=\"dataframe\">\n",
              "  <thead>\n",
              "    <tr style=\"text-align: right;\">\n",
              "      <th></th>\n",
              "      <th>Unnamed: 0</th>\n",
              "      <th>file_name</th>\n",
              "      <th>content</th>\n",
              "      <th>changes</th>\n",
              "      <th>multi_author</th>\n",
              "      <th>authors</th>\n",
              "      <th>paragraph_authors</th>\n",
              "    </tr>\n",
              "  </thead>\n",
              "  <tbody>\n",
              "    <tr>\n",
              "      <th>0</th>\n",
              "      <td>0</td>\n",
              "      <td>problem-1899</td>\n",
              "      <td>I briefly hosted my own website on my desktop ...</td>\n",
              "      <td>[0, 1, 1, 1, 1, 1, 0, 1]</td>\n",
              "      <td>1</td>\n",
              "      <td>4</td>\n",
              "      <td>[1, 1, 2, 3, 1, 4, 3, 3, 1]</td>\n",
              "    </tr>\n",
              "    <tr>\n",
              "      <th>1</th>\n",
              "      <td>1</td>\n",
              "      <td>problem-1906</td>\n",
              "      <td>The env command takes care of finding the comm...</td>\n",
              "      <td>[1, 0, 1]</td>\n",
              "      <td>1</td>\n",
              "      <td>3</td>\n",
              "      <td>[1, 2, 2, 3]</td>\n",
              "    </tr>\n",
              "    <tr>\n",
              "      <th>2</th>\n",
              "      <td>2</td>\n",
              "      <td>problem-1903</td>\n",
              "      <td>Otherwise, read manual pages for the init syst...</td>\n",
              "      <td>[1, 1, 1, 1, 0, 0]</td>\n",
              "      <td>1</td>\n",
              "      <td>3</td>\n",
              "      <td>[1, 2, 3, 1, 3, 3, 3]</td>\n",
              "    </tr>\n",
              "    <tr>\n",
              "      <th>3</th>\n",
              "      <td>3</td>\n",
              "      <td>problem-1900</td>\n",
              "      <td>You'd have to loop over it with a few seconds ...</td>\n",
              "      <td>[1, 1, 1, 1, 1]</td>\n",
              "      <td>1</td>\n",
              "      <td>4</td>\n",
              "      <td>[1, 2, 1, 3, 4, 2]</td>\n",
              "    </tr>\n",
              "    <tr>\n",
              "      <th>4</th>\n",
              "      <td>4</td>\n",
              "      <td>problem-1904</td>\n",
              "      <td>You won't get around using either symmetric en...</td>\n",
              "      <td>[0, 1, 1, 0, 1, 1, 1, 1]</td>\n",
              "      <td>1</td>\n",
              "      <td>4</td>\n",
              "      <td>[1, 1, 2, 3, 3, 1, 2, 4, 1]</td>\n",
              "    </tr>\n",
              "  </tbody>\n",
              "</table>\n",
              "</div>"
            ],
            "text/plain": [
              "   Unnamed: 0     file_name  ... authors            paragraph_authors\n",
              "0           0  problem-1899  ...       4  [1, 1, 2, 3, 1, 4, 3, 3, 1]\n",
              "1           1  problem-1906  ...       3                 [1, 2, 2, 3]\n",
              "2           2  problem-1903  ...       3        [1, 2, 3, 1, 3, 3, 3]\n",
              "3           3  problem-1900  ...       4           [1, 2, 1, 3, 4, 2]\n",
              "4           4  problem-1904  ...       4  [1, 1, 2, 3, 3, 1, 2, 4, 1]\n",
              "\n",
              "[5 rows x 7 columns]"
            ]
          },
          "metadata": {},
          "execution_count": 4
        }
      ]
    },
    {
      "cell_type": "code",
      "metadata": {
        "colab": {
          "base_uri": "https://localhost:8080/"
        },
        "id": "KAfFkJ1LEJMc",
        "outputId": "f72b1d15-dd5a-41d1-9810-7a417a41a24d"
      },
      "source": [
        "# Пример за текст - Секој параграф е одделен од другиот со нов ред (\\n)\n",
        "print(train_data_df['content'][0])"
      ],
      "execution_count": null,
      "outputs": [
        {
          "output_type": "stream",
          "name": "stdout",
          "text": [
            "However the hardware simulated by your virtual machine will not perfectly match the hardware of your original computer. Thus windows will complain about drivers and it will want to be reactivated. This will change the windows installation on disk. When (if) you boot windows natively it will complain again since the hardware will have reverted to native.\n",
            "Note: Looks like VirtualBox's website is temporarily offline, but it should be in the Ubuntu repos for you if you do not have it.\n",
            "Yes, it is possible. You already mentioned Vmware workstation. That has a 30 day trail. And the machines it creates can be used in the free Vmware player.\n",
            "I have run something similar before a few years back, but I do not recall the step-by-step.  Virtualbox is highly recommended as a VM program (cross platform as well).  Once you get it set up, you may hit a few snags if you boot to physical again since the VM doesn't fully emulate the environment you installed it on (especially if you install the Guest Additions).\n",
            "Here you go Martin,  glad you find it as helpful.  I generally try to prove things work before I give people a rabbit to chase!\n",
            "Instead you might consider trying it first with a copy of your installation. Use the vmware converter for this. If that does not work, then:\n"
          ]
        }
      ]
    },
    {
      "cell_type": "code",
      "metadata": {
        "id": "Gijj8UbcjSah"
      },
      "source": [
        "train_data_df = train_data_df.drop([\"Unnamed: 0\",\"file_name\", \"changes\", \"authors\", \"paragraph_authors\"], axis=\"columns\")"
      ],
      "execution_count": null,
      "outputs": []
    },
    {
      "cell_type": "code",
      "metadata": {
        "id": "sRsgf_z-_bHE"
      },
      "source": [
        "test_data_df = test_data_df.drop([\"Unnamed: 0\",\"file_name\", \"changes\", \"authors\", \"paragraph_authors\"], axis=\"columns\")"
      ],
      "execution_count": null,
      "outputs": []
    },
    {
      "cell_type": "code",
      "metadata": {
        "colab": {
          "base_uri": "https://localhost:8080/",
          "height": 202
        },
        "id": "zWjoDEF7jYzQ",
        "outputId": "33a76e74-5143-4abf-a6db-4445c61f5903"
      },
      "source": [
        "train_data_df.head()"
      ],
      "execution_count": null,
      "outputs": [
        {
          "output_type": "execute_result",
          "data": {
            "text/html": [
              "<div>\n",
              "<style scoped>\n",
              "    .dataframe tbody tr th:only-of-type {\n",
              "        vertical-align: middle;\n",
              "    }\n",
              "\n",
              "    .dataframe tbody tr th {\n",
              "        vertical-align: top;\n",
              "    }\n",
              "\n",
              "    .dataframe thead th {\n",
              "        text-align: right;\n",
              "    }\n",
              "</style>\n",
              "<table border=\"1\" class=\"dataframe\">\n",
              "  <thead>\n",
              "    <tr style=\"text-align: right;\">\n",
              "      <th></th>\n",
              "      <th>content</th>\n",
              "      <th>multi_author</th>\n",
              "    </tr>\n",
              "  </thead>\n",
              "  <tbody>\n",
              "    <tr>\n",
              "      <th>0</th>\n",
              "      <td>However the hardware simulated by your virtual...</td>\n",
              "      <td>1</td>\n",
              "    </tr>\n",
              "    <tr>\n",
              "      <th>1</th>\n",
              "      <td>If you don't want to do that, but you can stil...</td>\n",
              "      <td>1</td>\n",
              "    </tr>\n",
              "    <tr>\n",
              "      <th>2</th>\n",
              "      <td>Since you already have a fast processor and vi...</td>\n",
              "      <td>1</td>\n",
              "    </tr>\n",
              "    <tr>\n",
              "      <th>3</th>\n",
              "      <td>We have two users in the domain, both assigned...</td>\n",
              "      <td>1</td>\n",
              "    </tr>\n",
              "    <tr>\n",
              "      <th>4</th>\n",
              "      <td>The idea was actually used for server rooms at...</td>\n",
              "      <td>1</td>\n",
              "    </tr>\n",
              "  </tbody>\n",
              "</table>\n",
              "</div>"
            ],
            "text/plain": [
              "                                             content  multi_author\n",
              "0  However the hardware simulated by your virtual...             1\n",
              "1  If you don't want to do that, but you can stil...             1\n",
              "2  Since you already have a fast processor and vi...             1\n",
              "3  We have two users in the domain, both assigned...             1\n",
              "4  The idea was actually used for server rooms at...             1"
            ]
          },
          "metadata": {},
          "execution_count": 8
        }
      ]
    },
    {
      "cell_type": "code",
      "metadata": {
        "colab": {
          "base_uri": "https://localhost:8080/"
        },
        "id": "Lo3H7qlnjf8G",
        "outputId": "be7f9540-9e5d-4bda-bcf9-dc29f0531d88"
      },
      "source": [
        "train_data_df.shape"
      ],
      "execution_count": null,
      "outputs": [
        {
          "output_type": "execute_result",
          "data": {
            "text/plain": [
              "(11200, 2)"
            ]
          },
          "metadata": {},
          "execution_count": 9
        }
      ]
    },
    {
      "cell_type": "code",
      "metadata": {
        "colab": {
          "base_uri": "https://localhost:8080/"
        },
        "id": "KNAZ1nWl_gTO",
        "outputId": "ae3cd650-0fbe-470f-c546-2a9fb9426871"
      },
      "source": [
        "test_data_df.shape"
      ],
      "execution_count": null,
      "outputs": [
        {
          "output_type": "execute_result",
          "data": {
            "text/plain": [
              "(2400, 2)"
            ]
          },
          "metadata": {},
          "execution_count": 10
        }
      ]
    },
    {
      "cell_type": "code",
      "metadata": {
        "id": "v1Ej8pUxj-jO"
      },
      "source": [
        "import matplotlib.pyplot as plt\n",
        "import seaborn as sns"
      ],
      "execution_count": null,
      "outputs": []
    },
    {
      "cell_type": "code",
      "metadata": {
        "colab": {
          "base_uri": "https://localhost:8080/",
          "height": 332
        },
        "id": "dBdn1seTj03z",
        "outputId": "25f83f2a-77b6-438e-95f5-cf31391c5e0e"
      },
      "source": [
        "cnt_pro = train_data_df['multi_author'].value_counts()\n",
        "plt.figure(figsize=(12,4))\n",
        "sns.barplot(cnt_pro.index, cnt_pro.values, alpha=0.8)\n",
        "plt.ylabel('Number of Occurrences', fontsize=12)\n",
        "plt.xlabel('Document', fontsize=12)\n",
        "plt.xticks(rotation=90)\n",
        "plt.show();"
      ],
      "execution_count": null,
      "outputs": [
        {
          "output_type": "stream",
          "name": "stderr",
          "text": [
            "/usr/local/lib/python3.7/dist-packages/seaborn/_decorators.py:43: FutureWarning: Pass the following variables as keyword args: x, y. From version 0.12, the only valid positional argument will be `data`, and passing other arguments without an explicit keyword will result in an error or misinterpretation.\n",
            "  FutureWarning\n"
          ]
        },
        {
          "output_type": "display_data",
          "data": {
            "image/png": "[encoded data removed]",
            "text/plain": [
              "<Figure size 864x288 with 1 Axes>"
            ]
          },
          "metadata": {
            "needs_background": "light"
          }
        }
      ]
    },
    {
      "cell_type": "code",
      "metadata": {
        "colab": {
          "base_uri": "https://localhost:8080/",
          "height": 332
        },
        "id": "CmuTnQFo_pZF",
        "outputId": "ed267703-aa15-4b83-9e0b-fe750b08f30a"
      },
      "source": [
        "cnt_pro = test_data_df['multi_author'].value_counts()\n",
        "plt.figure(figsize=(12,4))\n",
        "sns.barplot(cnt_pro.index, cnt_pro.values, alpha=0.8)\n",
        "plt.ylabel('Number of Occurrences', fontsize=12)\n",
        "plt.xlabel('Document', fontsize=12)\n",
        "plt.xticks(rotation=90)\n",
        "plt.show();"
      ],
      "execution_count": null,
      "outputs": [
        {
          "output_type": "stream",
          "name": "stderr",
          "text": [
            "/usr/local/lib/python3.7/dist-packages/seaborn/_decorators.py:43: FutureWarning: Pass the following variables as keyword args: x, y. From version 0.12, the only valid positional argument will be `data`, and passing other arguments without an explicit keyword will result in an error or misinterpretation.\n",
            "  FutureWarning\n"
          ]
        },
        {
          "output_type": "display_data",
          "data": {
            "image/png": "[encoded data removed]",
            "text/plain": [
              "<Figure size 864x288 with 1 Axes>"
            ]
          },
          "metadata": {
            "needs_background": "light"
          }
        }
      ]
    }
  ]
}