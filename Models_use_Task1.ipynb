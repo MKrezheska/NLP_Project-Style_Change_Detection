{
  "nbformat": 4,
  "nbformat_minor": 0,
  "metadata": {
    "colab": {
      "name": "Models_use-Task1.ipynb",
      "provenance": [],
      "authorship_tag": "ABX9TyMOxtM5NGJZIgN846HTYpDf",
      "include_colab_link": true
    },
    "kernelspec": {
      "display_name": "Python 3",
      "name": "python3"
    },
    "language_info": {
      "name": "python"
    },
    "widgets": {
      "application/vnd.jupyter.widget-state+json": {
        "7d0f01a3d3814cda8af39fb9a9af6671": {
          "model_module": "catboost-widget",
          "model_name": "CatboostWidgetModel",
          "model_module_version": "^1.0.0",
          "state": {
            "_view_name": "CatboostWidgetView",
            "_dom_classes": [],
            "_model_name": "CatboostWidgetModel",
            "data": {
              "catboost_info": {
                "content": {
                  "data": {
                    "meta": {
                      "name": "experiment",
                      "parameters": "",
                      "test_metrics": [],
                      "learn_sets": [
                        "learn"
                      ],
                      "launch_mode": "Train",
                      "learn_metrics": [
                        {
                          "best_value": "Min",
                          "name": "Logloss"
                        }
                      ],
                      "iteration_count": 1000,
                      "test_sets": []
                    },
                    "iterations": [
                      {
                        "passed_time": 0.2580733873,
                        "iteration": 0,
                        "remaining_time": 257.8153139,
                        "learn": [
                          0.6840714144
                        ]
                      },
                      {
                        "passed_time": 0.4234694943,
                        "iteration": 1,
                        "remaining_time": 211.3112777,
                        "learn": [
                          0.6750210231
                        ]
                      },
                      {
                        "passed_time": 0.5787780859,
                        "iteration": 2,
                        "remaining_time": 192.3472505,
                        "learn": [
                          0.6674114701
                        ]
                      },
                      {
                        "passed_time": 0.7423738807,
                        "iteration": 3,
                        "remaining_time": 184.8510963,
                        "learn": [
                          0.6599569324
                        ]
                      },
                      {
                        "passed_time": 0.9024769327,
                        "iteration": 4,
                        "remaining_time": 179.5929096,
                        "learn": [
                          0.6524932303
                        ]
                      },
                      {
                        "passed_time": 1.059322718,
                        "iteration": 5,
                        "remaining_time": 175.4944636,
                        "learn": [
                          0.6451150279
                        ]
                      },
                      {
                        "passed_time": 1.222660935,
                        "iteration": 6,
                        "remaining_time": 173.4431869,
                        "learn": [
                          0.6384160121
                        ]
                      },
                      {
                        "passed_time": 1.385389901,
                        "iteration": 7,
                        "remaining_time": 171.7883478,
                        "learn": [
                          0.6327909839
                        ]
                      },
                      {
                        "passed_time": 1.541679077,
                        "iteration": 8,
                        "remaining_time": 169.7559962,
                        "learn": [
                          0.6273445311
                        ]
                      },
                      {
                        "passed_time": 1.704000737,
                        "iteration": 9,
                        "remaining_time": 168.6960729,
                        "learn": [
                          0.6214905236
                        ]
                      },
                      {
                        "passed_time": 1.856951808,
                        "iteration": 10,
                        "remaining_time": 166.9568489,
                        "learn": [
                          0.6161344593
                        ]
                      },
                      {
                        "passed_time": 2.014047982,
                        "iteration": 11,
                        "remaining_time": 165.8232839,
                        "learn": [
                          0.6112319368
                        ]
                      },
                      {
                        "passed_time": 2.163011731,
                        "iteration": 12,
                        "remaining_time": 164.222506,
                        "learn": [
                          0.606521888
                        ]
                      },
                      {
                        "passed_time": 2.32335542,
                        "iteration": 13,
                        "remaining_time": 163.6306032,
                        "learn": [
                          0.601912396
                        ]
                      },
                      {
                        "passed_time": 2.481369221,
                        "iteration": 14,
                        "remaining_time": 162.9432455,
                        "learn": [
                          0.5979709238
                        ]
                      },
                      {
                        "passed_time": 2.643070702,
                        "iteration": 15,
                        "remaining_time": 162.5488482,
                        "learn": [
                          0.5937466343
                        ]
                      },
                      {
                        "passed_time": 2.796611795,
                        "iteration": 16,
                        "remaining_time": 161.7099644,
                        "learn": [
                          0.5899713155
                        ]
                      },
                      {
                        "passed_time": 2.957613442,
                        "iteration": 17,
                        "remaining_time": 161.3542444,
                        "learn": [
                          0.5866262403
                        ]
                      },
                      {
                        "passed_time": 3.104504095,
                        "iteration": 18,
                        "remaining_time": 160.2904483,
                        "learn": [
                          0.5832427357
                        ]
                      },
                      {
                        "passed_time": 3.274758508,
                        "iteration": 19,
                        "remaining_time": 160.4631669,
                        "learn": [
                          0.5798996171
                        ]
                      },
                      {
                        "passed_time": 3.435273016,
                        "iteration": 20,
                        "remaining_time": 160.1491563,
                        "learn": [
                          0.5768856245
                        ]
                      },
                      {
                        "passed_time": 3.593025803,
                        "iteration": 21,
                        "remaining_time": 159.7263289,
                        "learn": [
                          0.5739357303
                        ]
                      },
                      {
                        "passed_time": 3.746570144,
                        "iteration": 22,
                        "remaining_time": 159.1477839,
                        "learn": [
                          0.571170614
                        ]
                      },
                      {
                        "passed_time": 3.898237496,
                        "iteration": 23,
                        "remaining_time": 158.5283248,
                        "learn": [
                          0.5681330519
                        ]
                      },
                      {
                        "passed_time": 4.055392249,
                        "iteration": 24,
                        "remaining_time": 158.1602977,
                        "learn": [
                          0.5652613609
                        ]
                      },
                      {
                        "passed_time": 4.207990549,
                        "iteration": 25,
                        "remaining_time": 157.6377998,
                        "learn": [
                          0.5625820765
                        ]
                      },
                      {
                        "passed_time": 4.377983235,
                        "iteration": 26,
                        "remaining_time": 157.769544,
                        "learn": [
                          0.5602417081
                        ]
                      },
                      {
                        "passed_time": 4.53120501,
                        "iteration": 27,
                        "remaining_time": 157.2975453,
                        "learn": [
                          0.5577435439
                        ]
                      },
                      {
                        "passed_time": 4.68491775,
                        "iteration": 28,
                        "remaining_time": 156.8639702,
                        "learn": [
                          0.5557663682
                        ]
                      },
                      {
                        "passed_time": 4.838261378,
                        "iteration": 29,
                        "remaining_time": 156.4371179,
                        "learn": [
                          0.5539092148
                        ]
                      },
                      {
                        "passed_time": 4.991876288,
                        "iteration": 30,
                        "remaining_time": 156.0363911,
                        "learn": [
                          0.5519468844
                        ]
                      },
                      {
                        "passed_time": 5.145394404,
                        "iteration": 31,
                        "remaining_time": 155.6481807,
                        "learn": [
                          0.5500814097
                        ]
                      },
                      {
                        "passed_time": 5.310199771,
                        "iteration": 32,
                        "remaining_time": 155.6049448,
                        "learn": [
                          0.548443064
                        ]
                      },
                      {
                        "passed_time": 5.480238729,
                        "iteration": 33,
                        "remaining_time": 155.7032533,
                        "learn": [
                          0.5466155182
                        ]
                      },
                      {
                        "passed_time": 5.63713261,
                        "iteration": 34,
                        "remaining_time": 155.4237991,
                        "learn": [
                          0.5450362776
                        ]
                      },
                      {
                        "passed_time": 5.791861215,
                        "iteration": 35,
                        "remaining_time": 155.0931725,
                        "learn": [
                          0.543465447
                        ]
                      },
                      {
                        "passed_time": 5.94566234,
                        "iteration": 36,
                        "remaining_time": 154.7479144,
                        "learn": [
                          0.5420634049
                        ]
                      },
                      {
                        "passed_time": 6.102191712,
                        "iteration": 37,
                        "remaining_time": 154.4818007,
                        "learn": [
                          0.5404791704
                        ]
                      },
                      {
                        "passed_time": 6.255181373,
                        "iteration": 38,
                        "remaining_time": 154.1340846,
                        "learn": [
                          0.5390653445
                        ]
                      },
                      {
                        "passed_time": 6.428667612,
                        "iteration": 39,
                        "remaining_time": 154.2880227,
                        "learn": [
                          0.5379276002
                        ]
                      },
                      {
                        "passed_time": 6.585597038,
                        "iteration": 40,
                        "remaining_time": 154.038721,
                        "learn": [
                          0.5365974722
                        ]
                      },
                      {
                        "passed_time": 6.738123365,
                        "iteration": 41,
                        "remaining_time": 153.6933853,
                        "learn": [
                          0.5352255743
                        ]
                      },
                      {
                        "passed_time": 6.893442202,
                        "iteration": 42,
                        "remaining_time": 153.4191671,
                        "learn": [
                          0.533791969
                        ]
                      },
                      {
                        "passed_time": 7.048057691,
                        "iteration": 43,
                        "remaining_time": 153.1350717,
                        "learn": [
                          0.5325104777
                        ]
                      },
                      {
                        "passed_time": 7.203710524,
                        "iteration": 44,
                        "remaining_time": 152.8787456,
                        "learn": [
                          0.531401412
                        ]
                      },
                      {
                        "passed_time": 7.374099052,
                        "iteration": 45,
                        "remaining_time": 152.9324021,
                        "learn": [
                          0.5301717926
                        ]
                      },
                      {
                        "passed_time": 7.537157928,
                        "iteration": 46,
                        "remaining_time": 152.8279044,
                        "learn": [
                          0.5289092752
                        ]
                      },
                      {
                        "passed_time": 7.692803407,
                        "iteration": 47,
                        "remaining_time": 152.5739342,
                        "learn": [
                          0.5279751213
                        ]
                      },
                      {
                        "passed_time": 7.850900854,
                        "iteration": 48,
                        "remaining_time": 152.3715655,
                        "learn": [
                          0.5269362438
                        ]
                      },
                      {
                        "passed_time": 8.001649164,
                        "iteration": 49,
                        "remaining_time": 152.0313341,
                        "learn": [
                          0.5259834127
                        ]
                      },
                      {
                        "passed_time": 8.155536225,
                        "iteration": 50,
                        "remaining_time": 151.7569388,
                        "learn": [
                          0.5250533995
                        ]
                      },
                      {
                        "passed_time": 8.316023619,
                        "iteration": 51,
                        "remaining_time": 151.6075075,
                        "learn": [
                          0.524035772
                        ]
                      },
                      {
                        "passed_time": 8.473759413,
                        "iteration": 52,
                        "remaining_time": 151.4084937,
                        "learn": [
                          0.5230898367
                        ]
                      },
                      {
                        "passed_time": 8.63059819,
                        "iteration": 53,
                        "remaining_time": 151.1952942,
                        "learn": [
                          0.5220836611
                        ]
                      },
                      {
                        "passed_time": 8.786990397,
                        "iteration": 54,
                        "remaining_time": 150.9764714,
                        "learn": [
                          0.5213017923
                        ]
                      },
                      {
                        "passed_time": 8.943465851,
                        "iteration": 55,
                        "remaining_time": 150.7612815,
                        "learn": [
                          0.5203972197
                        ]
                      },
                      {
                        "passed_time": 9.095230211,
                        "iteration": 56,
                        "remaining_time": 150.4702121,
                        "learn": [
                          0.519612928
                        ]
                      },
                      {
                        "passed_time": 9.248027819,
                        "iteration": 57,
                        "remaining_time": 150.2007277,
                        "learn": [
                          0.5187856759
                        ]
                      },
                      {
                        "passed_time": 9.416773365,
                        "iteration": 58,
                        "remaining_time": 150.1895549,
                        "learn": [
                          0.5179423625
                        ]
                      },
                      {
                        "passed_time": 9.57319384,
                        "iteration": 59,
                        "remaining_time": 149.9800368,
                        "learn": [
                          0.5170966693
                        ]
                      },
                      {
                        "passed_time": 9.729740265,
                        "iteration": 60,
                        "remaining_time": 149.7741985,
                        "learn": [
                          0.5163990624
                        ]
                      },
                      {
                        "passed_time": 9.88578759,
                        "iteration": 61,
                        "remaining_time": 149.5623993,
                        "learn": [
                          0.5154302388
                        ]
                      },
                      {
                        "passed_time": 10.04107626,
                        "iteration": 62,
                        "remaining_time": 149.3410867,
                        "learn": [
                          0.5146140536
                        ]
                      },
                      {
                        "passed_time": 10.19571616,
                        "iteration": 63,
                        "remaining_time": 149.1123489,
                        "learn": [
                          0.5137987575
                        ]
                      },
                      {
                        "passed_time": 10.35649169,
                        "iteration": 64,
                        "remaining_time": 148.9741498,
                        "learn": [
                          0.5130211514
                        ]
                      },
                      {
                        "passed_time": 10.5222528,
                        "iteration": 65,
                        "remaining_time": 148.90582,
                        "learn": [
                          0.5121745451
                        ]
                      },
                      {
                        "passed_time": 10.67732003,
                        "iteration": 66,
                        "remaining_time": 148.6856656,
                        "learn": [
                          0.5114158004
                        ]
                      },
                      {
                        "passed_time": 10.83349495,
                        "iteration": 67,
                        "remaining_time": 148.4826072,
                        "learn": [
                          0.5106201299
                        ]
                      },
                      {
                        "passed_time": 10.98503645,
                        "iteration": 68,
                        "remaining_time": 148.2183904,
                        "learn": [
                          0.5100270679
                        ]
                      },
                      {
                        "passed_time": 11.14955304,
                        "iteration": 69,
                        "remaining_time": 148.1297761,
                        "learn": [
                          0.5092650669
                        ]
                      },
                      {
                        "passed_time": 11.30843217,
                        "iteration": 70,
                        "remaining_time": 147.9652604,
                        "learn": [
                          0.5086564003
                        ]
                      },
                      {
                        "passed_time": 11.48053757,
                        "iteration": 71,
                        "remaining_time": 147.9713732,
                        "learn": [
                          0.5080755165
                        ]
                      },
                      {
                        "passed_time": 11.63562233,
                        "iteration": 72,
                        "remaining_time": 147.7564644,
                        "learn": [
                          0.5073510258
                        ]
                      },
                      {
                        "passed_time": 11.79349031,
                        "iteration": 73,
                        "remaining_time": 147.5780004,
                        "learn": [
                          0.5066745503
                        ]
                      },
                      {
                        "passed_time": 11.94726108,
                        "iteration": 74,
                        "remaining_time": 147.3495534,
                        "learn": [
                          0.5060564891
                        ]
                      },
                      {
                        "passed_time": 12.10125028,
                        "iteration": 75,
                        "remaining_time": 147.1257271,
                        "learn": [
                          0.505300227
                        ]
                      },
                      {
                        "passed_time": 12.26177433,
                        "iteration": 76,
                        "remaining_time": 146.9820481,
                        "learn": [
                          0.5045463775
                        ]
                      },
                      {
                        "passed_time": 12.4327706,
                        "iteration": 77,
                        "remaining_time": 146.9617242,
                        "learn": [
                          0.5038814431
                        ]
                      },
                      {
                        "passed_time": 12.58949302,
                        "iteration": 78,
                        "remaining_time": 146.7711781,
                        "learn": [
                          0.5033738895
                        ]
                      },
                      {
                        "passed_time": 12.74521609,
                        "iteration": 79,
                        "remaining_time": 146.569985,
                        "learn": [
                          0.5027034123
                        ]
                      },
                      {
                        "passed_time": 12.89909544,
                        "iteration": 80,
                        "remaining_time": 146.3489965,
                        "learn": [
                          0.5020987357
                        ]
                      },
                      {
                        "passed_time": 13.05520654,
                        "iteration": 81,
                        "remaining_time": 146.1546293,
                        "learn": [
                          0.5016465013
                        ]
                      },
                      {
                        "passed_time": 13.20560115,
                        "iteration": 82,
                        "remaining_time": 145.8980272,
                        "learn": [
                          0.5011062884
                        ]
                      },
                      {
                        "passed_time": 13.36508504,
                        "iteration": 83,
                        "remaining_time": 145.7430702,
                        "learn": [
                          0.5003459368
                        ]
                      },
                      {
                        "passed_time": 13.53337832,
                        "iteration": 84,
                        "remaining_time": 145.6828372,
                        "learn": [
                          0.4999219046
                        ]
                      },
                      {
                        "passed_time": 13.68955476,
                        "iteration": 85,
                        "remaining_time": 145.4913145,
                        "learn": [
                          0.4993303215
                        ]
                      },
                      {
                        "passed_time": 13.84728645,
                        "iteration": 86,
                        "remaining_time": 145.3169256,
                        "learn": [
                          0.4987836878
                        ]
                      },
                      {
                        "passed_time": 14.00828538,
                        "iteration": 87,
                        "remaining_time": 145.1767757,
                        "learn": [
                          0.4982778591
                        ]
                      },
                      {
                        "passed_time": 14.16133596,
                        "iteration": 88,
                        "remaining_time": 144.9547984,
                        "learn": [
                          0.4979178175
                        ]
                      },
                      {
                        "passed_time": 14.31427939,
                        "iteration": 89,
                        "remaining_time": 144.7332694,
                        "learn": [
                          0.4972920443
                        ]
                      },
                      {
                        "passed_time": 14.4799071,
                        "iteration": 90,
                        "remaining_time": 144.6399511,
                        "learn": [
                          0.4969787201
                        ]
                      },
                      {
                        "passed_time": 14.63888114,
                        "iteration": 91,
                        "remaining_time": 144.4793921,
                        "learn": [
                          0.4964644159
                        ]
                      },
                      {
                        "passed_time": 14.79245166,
                        "iteration": 92,
                        "remaining_time": 144.2661683,
                        "learn": [
                          0.4958551211
                        ]
                      },
                      {
                        "passed_time": 14.94534536,
                        "iteration": 93,
                        "remaining_time": 144.0476903,
                        "learn": [
                          0.4954261597
                        ]
                      },
                      {
                        "passed_time": 15.09345844,
                        "iteration": 94,
                        "remaining_time": 143.7850514,
                        "learn": [
                          0.4949148942
                        ]
                      },
                      {
                        "passed_time": 15.24290795,
                        "iteration": 95,
                        "remaining_time": 143.5373832,
                        "learn": [
                          0.4945214217
                        ]
                      },
                      {
                        "passed_time": 15.39898917,
                        "iteration": 96,
                        "remaining_time": 143.3534765,
                        "learn": [
                          0.4939432232
                        ]
                      },
                      {
                        "passed_time": 15.57532194,
                        "iteration": 97,
                        "remaining_time": 143.3565346,
                        "learn": [
                          0.493492887
                        ]
                      },
                      {
                        "passed_time": 15.73037715,
                        "iteration": 98,
                        "remaining_time": 143.1623214,
                        "learn": [
                          0.4929923099
                        ]
                      },
                      {
                        "passed_time": 15.88447013,
                        "iteration": 99,
                        "remaining_time": 142.9602311,
                        "learn": [
                          0.4924854057
                        ]
                      },
                      {
                        "passed_time": 16.04053651,
                        "iteration": 100,
                        "remaining_time": 142.7766567,
                        "learn": [
                          0.4920038445
                        ]
                      },
                      {
                        "passed_time": 16.19729785,
                        "iteration": 101,
                        "remaining_time": 142.5997399,
                        "learn": [
                          0.4914786654
                        ]
                      },
                      {
                        "passed_time": 16.35314035,
                        "iteration": 102,
                        "remaining_time": 142.4152126,
                        "learn": [
                          0.4909537693
                        ]
                      },
                      {
                        "passed_time": 16.52817244,
                        "iteration": 103,
                        "remaining_time": 142.3965626,
                        "learn": [
                          0.4903128268
                        ]
                      },
                      {
                        "passed_time": 16.67861147,
                        "iteration": 104,
                        "remaining_time": 142.1653073,
                        "learn": [
                          0.489847839
                        ]
                      },
                      {
                        "passed_time": 16.84111226,
                        "iteration": 105,
                        "remaining_time": 142.0373053,
                        "learn": [
                          0.4894158747
                        ]
                      },
                      {
                        "passed_time": 16.99629494,
                        "iteration": 106,
                        "remaining_time": 141.847583,
                        "learn": [
                          0.4888979355
                        ]
                      },
                      {
                        "passed_time": 17.15010813,
                        "iteration": 107,
                        "remaining_time": 141.6471893,
                        "learn": [
                          0.4884808987
                        ]
                      },
                      {
                        "passed_time": 17.30316272,
                        "iteration": 108,
                        "remaining_time": 141.4414494,
                        "learn": [
                          0.4880456637
                        ]
                      },
                      {
                        "passed_time": 17.45631273,
                        "iteration": 109,
                        "remaining_time": 141.2374394,
                        "learn": [
                          0.4876351649
                        ]
                      },
                      {
                        "passed_time": 17.63369739,
                        "iteration": 110,
                        "remaining_time": 141.2284413,
                        "learn": [
                          0.487197919
                        ]
                      },
                      {
                        "passed_time": 17.78874462,
                        "iteration": 111,
                        "remaining_time": 141.0393324,
                        "learn": [
                          0.486750195
                        ]
                      },
                      {
                        "passed_time": 17.93991803,
                        "iteration": 112,
                        "remaining_time": 140.8204185,
                        "learn": [
                          0.4862476257
                        ]
                      },
                      {
                        "passed_time": 18.09256684,
                        "iteration": 113,
                        "remaining_time": 140.6141598,
                        "learn": [
                          0.4857258022
                        ]
                      },
                      {
                        "passed_time": 18.24581216,
                        "iteration": 114,
                        "remaining_time": 140.413424,
                        "learn": [
                          0.485324881
                        ]
                      },
                      {
                        "passed_time": 18.39352074,
                        "iteration": 115,
                        "remaining_time": 140.1713132,
                        "learn": [
                          0.4849023572
                        ]
                      },
                      {
                        "passed_time": 18.56747415,
                        "iteration": 116,
                        "remaining_time": 140.1288861,
                        "learn": [
                          0.4844729419
                        ]
                      },
                      {
                        "passed_time": 18.73070131,
                        "iteration": 117,
                        "remaining_time": 140.0040556,
                        "learn": [
                          0.4839582869
                        ]
                      },
                      {
                        "passed_time": 18.88673987,
                        "iteration": 118,
                        "remaining_time": 139.8253599,
                        "learn": [
                          0.4835778695
                        ]
                      },
                      {
                        "passed_time": 19.03855835,
                        "iteration": 119,
                        "remaining_time": 139.6160946,
                        "learn": [
                          0.4831571494
                        ]
                      },
                      {
                        "passed_time": 19.18849706,
                        "iteration": 120,
                        "remaining_time": 139.3941233,
                        "learn": [
                          0.4827997034
                        ]
                      },
                      {
                        "passed_time": 19.33678717,
                        "iteration": 121,
                        "remaining_time": 139.1614684,
                        "learn": [
                          0.4824396844
                        ]
                      },
                      {
                        "passed_time": 19.49997045,
                        "iteration": 122,
                        "remaining_time": 139.0363746,
                        "learn": [
                          0.4818758914
                        ]
                      },
                      {
                        "passed_time": 19.67368008,
                        "iteration": 123,
                        "remaining_time": 138.9850302,
                        "learn": [
                          0.4815020472
                        ]
                      },
                      {
                        "passed_time": 19.83189641,
                        "iteration": 124,
                        "remaining_time": 138.8232749,
                        "learn": [
                          0.4811256169
                        ]
                      },
                      {
                        "passed_time": 19.98344976,
                        "iteration": 125,
                        "remaining_time": 138.6153578,
                        "learn": [
                          0.4807538956
                        ]
                      },
                      {
                        "passed_time": 20.13670876,
                        "iteration": 126,
                        "remaining_time": 138.4200532,
                        "learn": [
                          0.4803200345
                        ]
                      },
                      {
                        "passed_time": 20.29167899,
                        "iteration": 127,
                        "remaining_time": 138.2370631,
                        "learn": [
                          0.4799136501
                        ]
                      },
                      {
                        "passed_time": 20.43757545,
                        "iteration": 128,
                        "remaining_time": 137.993242,
                        "learn": [
                          0.4796008982
                        ]
                      },
                      {
                        "passed_time": 20.62003024,
                        "iteration": 129,
                        "remaining_time": 137.995587,
                        "learn": [
                          0.4792041927
                        ]
                      },
                      {
                        "passed_time": 20.77586301,
                        "iteration": 130,
                        "remaining_time": 137.8185111,
                        "learn": [
                          0.4787532929
                        ]
                      },
                      {
                        "passed_time": 20.93323095,
                        "iteration": 131,
                        "remaining_time": 137.651852,
                        "learn": [
                          0.4784147711
                        ]
                      },
                      {
                        "passed_time": 21.08418303,
                        "iteration": 132,
                        "remaining_time": 137.4435089,
                        "learn": [
                          0.4781204357
                        ]
                      },
                      {
                        "passed_time": 21.23367392,
                        "iteration": 133,
                        "remaining_time": 137.2265792,
                        "learn": [
                          0.477746562
                        ]
                      },
                      {
                        "passed_time": 21.38890525,
                        "iteration": 134,
                        "remaining_time": 137.0474299,
                        "learn": [
                          0.4773573291
                        ]
                      },
                      {
                        "passed_time": 21.55742728,
                        "iteration": 135,
                        "remaining_time": 136.9530674,
                        "learn": [
                          0.4769624045
                        ]
                      },
                      {
                        "passed_time": 21.74236355,
                        "iteration": 136,
                        "remaining_time": 136.9610201,
                        "learn": [
                          0.4765792322
                        ]
                      },
                      {
                        "passed_time": 21.90974741,
                        "iteration": 137,
                        "remaining_time": 136.8565382,
                        "learn": [
                          0.4760811592
                        ]
                      },
                      {
                        "passed_time": 22.06592125,
                        "iteration": 138,
                        "remaining_time": 136.6817136,
                        "learn": [
                          0.4756959678
                        ]
                      },
                      {
                        "passed_time": 22.21992808,
                        "iteration": 139,
                        "remaining_time": 136.4938439,
                        "learn": [
                          0.4753207939
                        ]
                      },
                      {
                        "passed_time": 22.37864834,
                        "iteration": 140,
                        "remaining_time": 136.3351697,
                        "learn": [
                          0.4748073592
                        ]
                      },
                      {
                        "passed_time": 22.53211243,
                        "iteration": 141,
                        "remaining_time": 136.1447357,
                        "learn": [
                          0.4743634689
                        ]
                      },
                      {
                        "passed_time": 22.70556579,
                        "iteration": 142,
                        "remaining_time": 136.0746145,
                        "learn": [
                          0.4739025341
                        ]
                      },
                      {
                        "passed_time": 22.86505544,
                        "iteration": 143,
                        "remaining_time": 135.9200518,
                        "learn": [
                          0.4735394888
                        ]
                      },
                      {
                        "passed_time": 23.0166881,
                        "iteration": 144,
                        "remaining_time": 135.7190919,
                        "learn": [
                          0.4731708416
                        ]
                      },
                      {
                        "passed_time": 23.17064192,
                        "iteration": 145,
                        "remaining_time": 135.5323849,
                        "learn": [
                          0.4727889443
                        ]
                      },
                      {
                        "passed_time": 23.32227437,
                        "iteration": 146,
                        "remaining_time": 135.3326533,
                        "learn": [
                          0.4724142431
                        ]
                      },
                      {
                        "passed_time": 23.47892587,
                        "iteration": 147,
                        "remaining_time": 135.1624651,
                        "learn": [
                          0.4720080956
                        ]
                      },
                      {
                        "passed_time": 23.65409122,
                        "iteration": 148,
                        "remaining_time": 135.0981988,
                        "learn": [
                          0.4715792606
                        ]
                      },
                      {
                        "passed_time": 23.80228869,
                        "iteration": 149,
                        "remaining_time": 134.8796359,
                        "learn": [
                          0.4712363712
                        ]
                      },
                      {
                        "passed_time": 23.95711241,
                        "iteration": 150,
                        "remaining_time": 134.6992612,
                        "learn": [
                          0.4708673108
                        ]
                      },
                      {
                        "passed_time": 24.10677845,
                        "iteration": 151,
                        "remaining_time": 134.4904482,
                        "learn": [
                          0.4705117699
                        ]
                      },
                      {
                        "passed_time": 24.25970755,
                        "iteration": 152,
                        "remaining_time": 134.3004725,
                        "learn": [
                          0.4700802847
                        ]
                      },
                      {
                        "passed_time": 24.40932958,
                        "iteration": 153,
                        "remaining_time": 134.0928106,
                        "learn": [
                          0.4696136445
                        ]
                      },
                      {
                        "passed_time": 24.56608687,
                        "iteration": 154,
                        "remaining_time": 133.9247962,
                        "learn": [
                          0.4692870447
                        ]
                      },
                      {
                        "passed_time": 24.73857363,
                        "iteration": 155,
                        "remaining_time": 133.8420266,
                        "learn": [
                          0.4689994236
                        ]
                      },
                      {
                        "passed_time": 24.8879612,
                        "iteration": 156,
                        "remaining_time": 133.6340846,
                        "learn": [
                          0.4686154405
                        ]
                      },
                      {
                        "passed_time": 25.04276032,
                        "iteration": 157,
                        "remaining_time": 133.4557227,
                        "learn": [
                          0.4682745279
                        ]
                      },
                      {
                        "passed_time": 25.19330915,
                        "iteration": 158,
                        "remaining_time": 133.2551761,
                        "learn": [
                          0.4679870456
                        ]
                      },
                      {
                        "passed_time": 25.34906031,
                        "iteration": 159,
                        "remaining_time": 133.0825666,
                        "learn": [
                          0.4675769951
                        ]
                      },
                      {
                        "passed_time": 25.49972529,
                        "iteration": 160,
                        "remaining_time": 132.8836616,
                        "learn": [
                          0.4672788954
                        ]
                      },
                      {
                        "passed_time": 25.64618426,
                        "iteration": 161,
                        "remaining_time": 132.6635951,
                        "learn": [
                          0.4669428887
                        ]
                      },
                      {
                        "passed_time": 25.82112754,
                        "iteration": 162,
                        "remaining_time": 132.5906979,
                        "learn": [
                          0.46659859
                        ]
                      },
                      {
                        "passed_time": 25.98023442,
                        "iteration": 163,
                        "remaining_time": 132.4358291,
                        "learn": [
                          0.4663053364
                        ]
                      },
                      {
                        "passed_time": 26.14506752,
                        "iteration": 164,
                        "remaining_time": 132.3098872,
                        "learn": [
                          0.4659925295
                        ]
                      },
                      {
                        "passed_time": 26.30042675,
                        "iteration": 165,
                        "remaining_time": 132.135879,
                        "learn": [
                          0.4656113844
                        ]
                      },
                      {
                        "passed_time": 26.45329904,
                        "iteration": 166,
                        "remaining_time": 131.9496892,
                        "learn": [
                          0.4653084474
                        ]
                      },
                      {
                        "passed_time": 26.60578991,
                        "iteration": 167,
                        "remaining_time": 131.7620072,
                        "learn": [
                          0.4649419855
                        ]
                      },
                      {
                        "passed_time": 26.78154626,
                        "iteration": 168,
                        "remaining_time": 131.6891417,
                        "learn": [
                          0.4646406485
                        ]
                      },
                      {
                        "passed_time": 26.94585943,
                        "iteration": 169,
                        "remaining_time": 131.559196,
                        "learn": [
                          0.4642724265
                        ]
                      },
                      {
                        "passed_time": 27.09915006,
                        "iteration": 170,
                        "remaining_time": 131.3754117,
                        "learn": [
                          0.4639203853
                        ]
                      },
                      {
                        "passed_time": 27.25395626,
                        "iteration": 171,
                        "remaining_time": 131.1992778,
                        "learn": [
                          0.4636318179
                        ]
                      },
                      {
                        "passed_time": 27.40772916,
                        "iteration": 172,
                        "remaining_time": 131.018451,
                        "learn": [
                          0.4633053948
                        ]
                      },
                      {
                        "passed_time": 27.56132264,
                        "iteration": 173,
                        "remaining_time": 130.8370833,
                        "learn": [
                          0.4629934235
                        ]
                      },
                      {
                        "passed_time": 27.73144419,
                        "iteration": 174,
                        "remaining_time": 130.7339512,
                        "learn": [
                          0.4626264669
                        ]
                      },
                      {
                        "passed_time": 27.88998706,
                        "iteration": 175,
                        "remaining_time": 130.5758485,
                        "learn": [
                          0.4622847995
                        ]
                      },
                      {
                        "passed_time": 28.04584502,
                        "iteration": 176,
                        "remaining_time": 130.4052568,
                        "learn": [
                          0.4619882126
                        ]
                      },
                      {
                        "passed_time": 28.20192262,
                        "iteration": 177,
                        "remaining_time": 130.2358449,
                        "learn": [
                          0.461684861
                        ]
                      },
                      {
                        "passed_time": 28.3476493,
                        "iteration": 178,
                        "remaining_time": 130.0191066,
                        "learn": [
                          0.4614467493
                        ]
                      },
                      {
                        "passed_time": 28.50657336,
                        "iteration": 179,
                        "remaining_time": 129.8632787,
                        "learn": [
                          0.4609189484
                        ]
                      },
                      {
                        "passed_time": 28.6536834,
                        "iteration": 180,
                        "remaining_time": 129.6539597,
                        "learn": [
                          0.4606650745
                        ]
                      },
                      {
                        "passed_time": 28.82642556,
                        "iteration": 181,
                        "remaining_time": 129.5605281,
                        "learn": [
                          0.4603963122
                        ]
                      },
                      {
                        "passed_time": 28.97655418,
                        "iteration": 182,
                        "remaining_time": 129.3652719,
                        "learn": [
                          0.4601371239
                        ]
                      },
                      {
                        "passed_time": 29.13305624,
                        "iteration": 183,
                        "remaining_time": 129.1987712,
                        "learn": [
                          0.4598308401
                        ]
                      },
                      {
                        "passed_time": 29.28902557,
                        "iteration": 184,
                        "remaining_time": 129.0300316,
                        "learn": [
                          0.4594926378
                        ]
                      },
                      {
                        "passed_time": 29.44277777,
                        "iteration": 185,
                        "remaining_time": 128.8517264,
                        "learn": [
                          0.4592104788
                        ]
                      },
                      {
                        "passed_time": 29.59621689,
                        "iteration": 186,
                        "remaining_time": 128.6723226,
                        "learn": [
                          0.458853546
                        ]
                      },
                      {
                        "passed_time": 29.75291899,
                        "iteration": 187,
                        "remaining_time": 128.5072884,
                        "learn": [
                          0.4586281338
                        ]
                      },
                      {
                        "passed_time": 29.92105873,
                        "iteration": 188,
                        "remaining_time": 128.3914213,
                        "learn": [
                          0.4583362783
                        ]
                      },
                      {
                        "passed_time": 30.06710526,
                        "iteration": 189,
                        "remaining_time": 128.1808172,
                        "learn": [
                          0.4580735391
                        ]
                      },
                      {
                        "passed_time": 30.21819076,
                        "iteration": 190,
                        "remaining_time": 127.9922321,
                        "learn": [
                          0.457812917
                        ]
                      },
                      {
                        "passed_time": 30.36783998,
                        "iteration": 191,
                        "remaining_time": 127.7979933,
                        "learn": [
                          0.4574840533
                        ]
                      },
                      {
                        "passed_time": 30.51390947,
                        "iteration": 192,
                        "remaining_time": 127.5892484,
                        "learn": [
                          0.4572149235
                        ]
                      },
                      {
                        "passed_time": 30.66698982,
                        "iteration": 193,
                        "remaining_time": 127.4102773,
                        "learn": [
                          0.4568868166
                        ]
                      },
                      {
                        "passed_time": 30.85493731,
                        "iteration": 194,
                        "remaining_time": 127.3755105,
                        "learn": [
                          0.4564995307
                        ]
                      },
                      {
                        "passed_time": 31.01071274,
                        "iteration": 195,
                        "remaining_time": 127.2072094,
                        "learn": [
                          0.4562169655
                        ]
                      },
                      {
                        "passed_time": 31.16256086,
                        "iteration": 196,
                        "remaining_time": 127.0230273,
                        "learn": [
                          0.4559016494
                        ]
                      },
                      {
                        "passed_time": 31.3264548,
                        "iteration": 197,
                        "remaining_time": 126.8879634,
                        "learn": [
                          0.4555423259
                        ]
                      },
                      {
                        "passed_time": 31.48047448,
                        "iteration": 198,
                        "remaining_time": 126.7128646,
                        "learn": [
                          0.4551988859
                        ]
                      },
                      {
                        "passed_time": 31.63040199,
                        "iteration": 199,
                        "remaining_time": 126.521608,
                        "learn": [
                          0.4548702681
                        ]
                      },
                      {
                        "passed_time": 31.78563971,
                        "iteration": 200,
                        "remaining_time": 126.3518713,
                        "learn": [
                          0.4546133678
                        ]
                      },
                      {
                        "passed_time": 31.96613138,
                        "iteration": 201,
                        "remaining_time": 126.2820438,
                        "learn": [
                          0.4543521902
                        ]
                      },
                      {
                        "passed_time": 32.11973073,
                        "iteration": 202,
                        "remaining_time": 126.1055438,
                        "learn": [
                          0.4540516621
                        ]
                      },
                      {
                        "passed_time": 32.27099317,
                        "iteration": 203,
                        "remaining_time": 125.9201498,
                        "learn": [
                          0.4537792471
                        ]
                      },
                      {
                        "passed_time": 32.42505515,
                        "iteration": 204,
                        "remaining_time": 125.7459456,
                        "learn": [
                          0.4535379299
                        ]
                      },
                      {
                        "passed_time": 32.58214272,
                        "iteration": 205,
                        "remaining_time": 125.5835987,
                        "learn": [
                          0.4531916003
                        ]
                      },
                      {
                        "passed_time": 32.74015219,
                        "iteration": 206,
                        "remaining_time": 125.4248342,
                        "learn": [
                          0.4528421923
                        ]
                      },
                      {
                        "passed_time": 32.91298492,
                        "iteration": 207,
                        "remaining_time": 125.3225195,
                        "learn": [
                          0.4525561371
                        ]
                      },
                      {
                        "passed_time": 33.06953438,
                        "iteration": 208,
                        "remaining_time": 125.1579029,
                        "learn": [
                          0.452212419
                        ]
                      },
                      {
                        "passed_time": 33.21796252,
                        "iteration": 209,
                        "remaining_time": 124.9628114,
                        "learn": [
                          0.4519272973
                        ]
                      },
                      {
                        "passed_time": 33.37559841,
                        "iteration": 210,
                        "remaining_time": 124.8025931,
                        "learn": [
                          0.4516374579
                        ]
                      },
                      {
                        "passed_time": 33.52820324,
                        "iteration": 211,
                        "remaining_time": 124.6236988,
                        "learn": [
                          0.4513268095
                        ]
                      },
                      {
                        "passed_time": 33.68167393,
                        "iteration": 212,
                        "remaining_time": 124.4482506,
                        "learn": [
                          0.4509572215
                        ]
                      },
                      {
                        "passed_time": 33.84131829,
                        "iteration": 213,
                        "remaining_time": 124.2956831,
                        "learn": [
                          0.4506351434
                        ]
                      },
                      {
                        "passed_time": 34.01080065,
                        "iteration": 214,
                        "remaining_time": 124.1789698,
                        "learn": [
                          0.4502942259
                        ]
                      },
                      {
                        "passed_time": 34.16814872,
                        "iteration": 215,
                        "remaining_time": 124.017725,
                        "learn": [
                          0.450038599
                        ]
                      },
                      {
                        "passed_time": 34.31418179,
                        "iteration": 216,
                        "remaining_time": 123.8156882,
                        "learn": [
                          0.4497607726
                        ]
                      },
                      {
                        "passed_time": 34.46749749,
                        "iteration": 217,
                        "remaining_time": 123.6402892,
                        "learn": [
                          0.4494477415
                        ]
                      },
                      {
                        "passed_time": 34.61979189,
                        "iteration": 218,
                        "remaining_time": 123.4614496,
                        "learn": [
                          0.4491101585
                        ]
                      },
                      {
                        "passed_time": 34.76863728,
                        "iteration": 219,
                        "remaining_time": 123.2706231,
                        "learn": [
                          0.4488189625
                        ]
                      },
                      {
                        "passed_time": 34.94455032,
                        "iteration": 220,
                        "remaining_time": 123.1755869,
                        "learn": [
                          0.4485768269
                        ]
                      },
                      {
                        "passed_time": 35.09432367,
                        "iteration": 221,
                        "remaining_time": 122.9882154,
                        "learn": [
                          0.4482970488
                        ]
                      },
                      {
                        "passed_time": 35.25307086,
                        "iteration": 222,
                        "remaining_time": 122.8324487,
                        "learn": [
                          0.447966855
                        ]
                      },
                      {
                        "passed_time": 35.42357954,
                        "iteration": 223,
                        "remaining_time": 122.7174005,
                        "learn": [
                          0.4476633322
                        ]
                      },
                      {
                        "passed_time": 35.57709833,
                        "iteration": 224,
                        "remaining_time": 122.5433387,
                        "learn": [
                          0.4474158157
                        ]
                      },
                      {
                        "passed_time": 35.73399208,
                        "iteration": 225,
                        "remaining_time": 122.3810171,
                        "learn": [
                          0.4471392739
                        ]
                      },
                      {
                        "passed_time": 35.8880243,
                        "iteration": 226,
                        "remaining_time": 122.208999,
                        "learn": [
                          0.4468853172
                        ]
                      },
                      {
                        "passed_time": 36.05723007,
                        "iteration": 227,
                        "remaining_time": 122.0885159,
                        "learn": [
                          0.4465829747
                        ]
                      },
                      {
                        "passed_time": 36.20673714,
                        "iteration": 228,
                        "remaining_time": 121.9012853,
                        "learn": [
                          0.4463384173
                        ]
                      },
                      {
                        "passed_time": 36.36429362,
                        "iteration": 229,
                        "remaining_time": 121.7413308,
                        "learn": [
                          0.4460715446
                        ]
                      },
                      {
                        "passed_time": 36.51673149,
                        "iteration": 230,
                        "remaining_time": 121.5643572,
                        "learn": [
                          0.4458089677
                        ]
                      },
                      {
                        "passed_time": 36.67329451,
                        "iteration": 231,
                        "remaining_time": 121.4012508,
                        "learn": [
                          0.4454991407
                        ]
                      },
                      {
                        "passed_time": 36.82803614,
                        "iteration": 232,
                        "remaining_time": 121.2322048,
                        "learn": [
                          0.4451953447
                        ]
                      },
                      {
                        "passed_time": 37.10517286,
                        "iteration": 233,
                        "remaining_time": 121.4639419,
                        "learn": [
                          0.4449459294
                        ]
                      },
                      {
                        "passed_time": 37.27367669,
                        "iteration": 234,
                        "remaining_time": 121.3377135,
                        "learn": [
                          0.4446303952
                        ]
                      },
                      {
                        "passed_time": 37.42902513,
                        "iteration": 235,
                        "remaining_time": 121.168539,
                        "learn": [
                          0.4443476314
                        ]
                      },
                      {
                        "passed_time": 37.58281172,
                        "iteration": 236,
                        "remaining_time": 120.9944529,
                        "learn": [
                          0.4440299648
                        ]
                      },
                      {
                        "passed_time": 37.74001552,
                        "iteration": 237,
                        "remaining_time": 120.8314783,
                        "learn": [
                          0.4436837157
                        ]
                      },
                      {
                        "passed_time": 37.90728578,
                        "iteration": 238,
                        "remaining_time": 120.7006045,
                        "learn": [
                          0.4433009624
                        ]
                      },
                      {
                        "passed_time": 38.05580733,
                        "iteration": 239,
                        "remaining_time": 120.5100565,
                        "learn": [
                          0.4430545569
                        ]
                      },
                      {
                        "passed_time": 38.22962864,
                        "iteration": 240,
                        "remaining_time": 120.3995358,
                        "learn": [
                          0.4426939955
                        ]
                      },
                      {
                        "passed_time": 38.38690517,
                        "iteration": 241,
                        "remaining_time": 120.2366699,
                        "learn": [
                          0.4424349187
                        ]
                      },
                      {
                        "passed_time": 38.53822147,
                        "iteration": 242,
                        "remaining_time": 120.0552825,
                        "learn": [
                          0.4422041062
                        ]
                      },
                      {
                        "passed_time": 38.69363262,
                        "iteration": 243,
                        "remaining_time": 119.8868289,
                        "learn": [
                          0.4418664157
                        ]
                      },
                      {
                        "passed_time": 38.84148477,
                        "iteration": 244,
                        "remaining_time": 119.6951878,
                        "learn": [
                          0.4416196387
                        ]
                      },
                      {
                        "passed_time": 39.00340445,
                        "iteration": 245,
                        "remaining_time": 119.5470202,
                        "learn": [
                          0.4413101982
                        ]
                      },
                      {
                        "passed_time": 39.17057556,
                        "iteration": 246,
                        "remaining_time": 119.4147506,
                        "learn": [
                          0.4410222722
                        ]
                      },
                      {
                        "passed_time": 39.32317619,
                        "iteration": 247,
                        "remaining_time": 119.2380181,
                        "learn": [
                          0.440691341
                        ]
                      },
                      {
                        "passed_time": 39.48001148,
                        "iteration": 248,
                        "remaining_time": 119.0742515,
                        "learn": [
                          0.4404445658
                        ]
                      },
                      {
                        "passed_time": 39.62893872,
                        "iteration": 249,
                        "remaining_time": 118.8868162,
                        "learn": [
                          0.440237333
                        ]
                      },
                      {
                        "passed_time": 39.78356697,
                        "iteration": 250,
                        "remaining_time": 118.7166998,
                        "learn": [
                          0.439969509
                        ]
                      },
                      {
                        "passed_time": 39.94059884,
                        "iteration": 251,
                        "remaining_time": 118.553841,
                        "learn": [
                          0.4396986405
                        ]
                      },
                      {
                        "passed_time": 40.09358755,
                        "iteration": 252,
                        "remaining_time": 118.3790905,
                        "learn": [
                          0.4394341613
                        ]
                      },
                      {
                        "passed_time": 40.26294703,
                        "iteration": 253,
                        "remaining_time": 118.2525925,
                        "learn": [
                          0.4391825976
                        ]
                      },
                      {
                        "passed_time": 40.41573712,
                        "iteration": 254,
                        "remaining_time": 118.0773496,
                        "learn": [
                          0.4389083188
                        ]
                      },
                      {
                        "passed_time": 40.58421859,
                        "iteration": 255,
                        "remaining_time": 117.9478853,
                        "learn": [
                          0.4386438705
                        ]
                      },
                      {
                        "passed_time": 40.7406991,
                        "iteration": 256,
                        "remaining_time": 117.7834219,
                        "learn": [
                          0.4384160347
                        ]
                      },
                      {
                        "passed_time": 40.89168543,
                        "iteration": 257,
                        "remaining_time": 117.6032193,
                        "learn": [
                          0.438116967
                        ]
                      },
                      {
                        "passed_time": 41.0541233,
                        "iteration": 258,
                        "remaining_time": 117.4560053,
                        "learn": [
                          0.4378796862
                        ]
                      },
                      {
                        "passed_time": 41.22957018,
                        "iteration": 259,
                        "remaining_time": 117.3456997,
                        "learn": [
                          0.4374937866
                        ]
                      },
                      {
                        "passed_time": 41.38690173,
                        "iteration": 260,
                        "remaining_time": 117.183603,
                        "learn": [
                          0.4371573504
                        ]
                      },
                      {
                        "passed_time": 41.54490887,
                        "iteration": 261,
                        "remaining_time": 117.0234456,
                        "learn": [
                          0.4369362068
                        ]
                      },
                      {
                        "passed_time": 41.70483658,
                        "iteration": 262,
                        "remaining_time": 116.8686865,
                        "learn": [
                          0.4365817836
                        ]
                      },
                      {
                        "passed_time": 41.85850177,
                        "iteration": 263,
                        "remaining_time": 116.6964292,
                        "learn": [
                          0.4363081356
                        ]
                      },
                      {
                        "passed_time": 42.02623728,
                        "iteration": 264,
                        "remaining_time": 116.5633374,
                        "learn": [
                          0.435967787
                        ]
                      },
                      {
                        "passed_time": 42.17655844,
                        "iteration": 265,
                        "remaining_time": 116.3819319,
                        "learn": [
                          0.435682972
                        ]
                      },
                      {
                        "passed_time": 42.3470603,
                        "iteration": 266,
                        "remaining_time": 116.2561618,
                        "learn": [
                          0.435401048
                        ]
                      },
                      {
                        "passed_time": 42.50330599,
                        "iteration": 267,
                        "remaining_time": 116.0911194,
                        "learn": [
                          0.435162644
                        ]
                      },
                      {
                        "passed_time": 42.65881991,
                        "iteration": 268,
                        "remaining_time": 115.9241537,
                        "learn": [
                          0.4349242646
                        ]
                      },
                      {
                        "passed_time": 42.81113861,
                        "iteration": 269,
                        "remaining_time": 115.748634,
                        "learn": [
                          0.4346595218
                        ]
                      },
                      {
                        "passed_time": 42.97699895,
                        "iteration": 270,
                        "remaining_time": 115.609713,
                        "learn": [
                          0.4343047031
                        ]
                      },
                      {
                        "passed_time": 43.13830968,
                        "iteration": 271,
                        "remaining_time": 115.4584171,
                        "learn": [
                          0.4340266627
                        ]
                      },
                      {
                        "passed_time": 43.32772534,
                        "iteration": 272,
                        "remaining_time": 115.3818913,
                        "learn": [
                          0.4337040863
                        ]
                      },
                      {
                        "passed_time": 43.47967033,
                        "iteration": 273,
                        "remaining_time": 115.2052579,
                        "learn": [
                          0.4334652298
                        ]
                      },
                      {
                        "passed_time": 43.6347803,
                        "iteration": 274,
                        "remaining_time": 115.0371481,
                        "learn": [
                          0.4331881653
                        ]
                      },
                      {
                        "passed_time": 43.78482561,
                        "iteration": 275,
                        "remaining_time": 114.8558469,
                        "learn": [
                          0.4329199174
                        ]
                      },
                      {
                        "passed_time": 43.93975819,
                        "iteration": 276,
                        "remaining_time": 114.6875277,
                        "learn": [
                          0.4326088194
                        ]
                      },
                      {
                        "passed_time": 44.10336865,
                        "iteration": 277,
                        "remaining_time": 114.5418423,
                        "learn": [
                          0.4323276703
                        ]
                      },
                      {
                        "passed_time": 44.25242501,
                        "iteration": 278,
                        "remaining_time": 114.3584173,
                        "learn": [
                          0.4320329903
                        ]
                      },
                      {
                        "passed_time": 44.42589311,
                        "iteration": 279,
                        "remaining_time": 114.2380109,
                        "learn": [
                          0.4317332118
                        ]
                      },
                      {
                        "passed_time": 44.57901695,
                        "iteration": 280,
                        "remaining_time": 114.0651715,
                        "learn": [
                          0.4314427704
                        ]
                      },
                      {
                        "passed_time": 44.73736354,
                        "iteration": 281,
                        "remaining_time": 113.9057696,
                        "learn": [
                          0.4311893391
                        ]
                      },
                      {
                        "passed_time": 44.88943043,
                        "iteration": 282,
                        "remaining_time": 113.7304651,
                        "learn": [
                          0.4308786257
                        ]
                      },
                      {
                        "passed_time": 45.05314109,
                        "iteration": 283,
                        "remaining_time": 113.5846797,
                        "learn": [
                          0.4305881577
                        ]
                      },
                      {
                        "passed_time": 45.20511928,
                        "iteration": 284,
                        "remaining_time": 113.4093343,
                        "learn": [
                          0.4303469909
                        ]
                      },
                      {
                        "passed_time": 45.37826862,
                        "iteration": 285,
                        "remaining_time": 113.2870063,
                        "learn": [
                          0.4301356607
                        ]
                      },
                      {
                        "passed_time": 45.5276461,
                        "iteration": 286,
                        "remaining_time": 113.1052671,
                        "learn": [
                          0.4297972729
                        ]
                      },
                      {
                        "passed_time": 45.68633458,
                        "iteration": 287,
                        "remaining_time": 112.9467716,
                        "learn": [
                          0.4294653405
                        ]
                      },
                      {
                        "passed_time": 45.83750245,
                        "iteration": 288,
                        "remaining_time": 112.7697725,
                        "learn": [
                          0.4291637925
                        ]
                      },
                      {
                        "passed_time": 45.99172397,
                        "iteration": 289,
                        "remaining_time": 112.6004276,
                        "learn": [
                          0.428861248
                        ]
                      },
                      {
                        "passed_time": 46.15174045,
                        "iteration": 290,
                        "remaining_time": 112.4453058,
                        "learn": [
                          0.4286506238
                        ]
                      },
                      {
                        "passed_time": 46.31250245,
                        "iteration": 291,
                        "remaining_time": 112.291958,
                        "learn": [
                          0.4283375427
                        ]
                      },
                      {
                        "passed_time": 46.4893617,
                        "iteration": 292,
                        "remaining_time": 112.1774018,
                        "learn": [
                          0.4280438044
                        ]
                      },
                      {
                        "passed_time": 46.64275964,
                        "iteration": 293,
                        "remaining_time": 112.0060827,
                        "learn": [
                          0.4277602632
                        ]
                      },
                      {
                        "passed_time": 46.79423079,
                        "iteration": 294,
                        "remaining_time": 111.8302804,
                        "learn": [
                          0.4275018644
                        ]
                      },
                      {
                        "passed_time": 46.9442958,
                        "iteration": 295,
                        "remaining_time": 111.6512981,
                        "learn": [
                          0.4272136047
                        ]
                      },
                      {
                        "passed_time": 47.10167369,
                        "iteration": 296,
                        "remaining_time": 111.4898202,
                        "learn": [
                          0.4269040366
                        ]
                      },
                      {
                        "passed_time": 47.25414981,
                        "iteration": 297,
                        "remaining_time": 111.3168227,
                        "learn": [
                          0.4266224213
                        ]
                      },
                      {
                        "passed_time": 47.42790291,
                        "iteration": 298,
                        "remaining_time": 111.193846,
                        "learn": [
                          0.4263093511
                        ]
                      },
                      {
                        "passed_time": 47.58059083,
                        "iteration": 299,
                        "remaining_time": 111.0213786,
                        "learn": [
                          0.4260304216
                        ]
                      },
                      {
                        "passed_time": 47.73869866,
                        "iteration": 300,
                        "remaining_time": 110.8616291,
                        "learn": [
                          0.4256657429
                        ]
                      },
                      {
                        "passed_time": 47.88655424,
                        "iteration": 301,
                        "remaining_time": 110.6781949,
                        "learn": [
                          0.4253587727
                        ]
                      },
                      {
                        "passed_time": 48.03921469,
                        "iteration": 302,
                        "remaining_time": 110.5060483,
                        "learn": [
                          0.4250958804
                        ]
                      },
                      {
                        "passed_time": 48.19505997,
                        "iteration": 303,
                        "remaining_time": 110.3413215,
                        "learn": [
                          0.424795985
                        ]
                      },
                      {
                        "passed_time": 48.34345741,
                        "iteration": 304,
                        "remaining_time": 110.1596816,
                        "learn": [
                          0.4245436265
                        ]
                      },
                      {
                        "passed_time": 48.52114247,
                        "iteration": 305,
                        "remaining_time": 110.0446826,
                        "learn": [
                          0.4242274049
                        ]
                      },
                      {
                        "passed_time": 48.6778279,
                        "iteration": 306,
                        "remaining_time": 109.8818721,
                        "learn": [
                          0.4239076809
                        ]
                      },
                      {
                        "passed_time": 48.83733205,
                        "iteration": 307,
                        "remaining_time": 109.7254344,
                        "learn": [
                          0.4236028455
                        ]
                      },
                      {
                        "passed_time": 48.98895864,
                        "iteration": 308,
                        "remaining_time": 109.5513606,
                        "learn": [
                          0.4233717305
                        ]
                      },
                      {
                        "passed_time": 49.14954006,
                        "iteration": 309,
                        "remaining_time": 109.3973633,
                        "learn": [
                          0.4230646643
                        ]
                      },
                      {
                        "passed_time": 49.29999891,
                        "iteration": 310,
                        "remaining_time": 109.2208979,
                        "learn": [
                          0.4227241523
                        ]
                      },
                      {
                        "passed_time": 49.44644655,
                        "iteration": 311,
                        "remaining_time": 109.0357539,
                        "learn": [
                          0.4224907659
                        ]
                      },
                      {
                        "passed_time": 49.61878262,
                        "iteration": 312,
                        "remaining_time": 108.9076794,
                        "learn": [
                          0.4222543258
                        ]
                      },
                      {
                        "passed_time": 49.77167128,
                        "iteration": 313,
                        "remaining_time": 108.736836,
                        "learn": [
                          0.421987847
                        ]
                      },
                      {
                        "passed_time": 49.92335607,
                        "iteration": 314,
                        "remaining_time": 108.5634886,
                        "learn": [
                          0.4217215839
                        ]
                      },
                      {
                        "passed_time": 50.07588429,
                        "iteration": 315,
                        "remaining_time": 108.392104,
                        "learn": [
                          0.4214413828
                        ]
                      },
                      {
                        "passed_time": 50.23300862,
                        "iteration": 316,
                        "remaining_time": 108.230741,
                        "learn": [
                          0.4211270123
                        ]
                      },
                      {
                        "passed_time": 50.38604916,
                        "iteration": 317,
                        "remaining_time": 108.0606463,
                        "learn": [
                          0.4208529554
                        ]
                      },
                      {
                        "passed_time": 50.55390053,
                        "iteration": 318,
                        "remaining_time": 107.9222767,
                        "learn": [
                          0.4205785179
                        ]
                      },
                      {
                        "passed_time": 50.70875618,
                        "iteration": 319,
                        "remaining_time": 107.7561069,
                        "learn": [
                          0.420188674
                        ]
                      },
                      {
                        "passed_time": 50.86057604,
                        "iteration": 320,
                        "remaining_time": 107.5835861,
                        "learn": [
                          0.4199703715
                        ]
                      },
                      {
                        "passed_time": 51.01256997,
                        "iteration": 321,
                        "remaining_time": 107.4115604,
                        "learn": [
                          0.4196999329
                        ]
                      },
                      {
                        "passed_time": 51.17056968,
                        "iteration": 322,
                        "remaining_time": 107.2522467,
                        "learn": [
                          0.4194124754
                        ]
                      },
                      {
                        "passed_time": 51.31774485,
                        "iteration": 323,
                        "remaining_time": 107.0703565,
                        "learn": [
                          0.4191257723
                        ]
                      },
                      {
                        "passed_time": 51.46555273,
                        "iteration": 324,
                        "remaining_time": 106.8899941,
                        "learn": [
                          0.4188953324
                        ]
                      },
                      {
                        "passed_time": 51.64150025,
                        "iteration": 325,
                        "remaining_time": 106.7680097,
                        "learn": [
                          0.4186162272
                        ]
                      },
                      {
                        "passed_time": 51.78871814,
                        "iteration": 326,
                        "remaining_time": 106.5865667,
                        "learn": [
                          0.4182992001
                        ]
                      },
                      {
                        "passed_time": 51.94326285,
                        "iteration": 327,
                        "remaining_time": 106.4203434,
                        "learn": [
                          0.4180020668
                        ]
                      },
                      {
                        "passed_time": 52.09838889,
                        "iteration": 328,
                        "remaining_time": 106.2553767,
                        "learn": [
                          0.4176658538
                        ]
                      },
                      {
                        "passed_time": 52.25880224,
                        "iteration": 329,
                        "remaining_time": 106.1012046,
                        "learn": [
                          0.4173654228
                        ]
                      },
                      {
                        "passed_time": 52.4095817,
                        "iteration": 330,
                        "remaining_time": 105.9275231,
                        "learn": [
                          0.4171051785
                        ]
                      },
                      {
                        "passed_time": 52.55962452,
                        "iteration": 331,
                        "remaining_time": 105.7524975,
                        "learn": [
                          0.416806517
                        ]
                      },
                      {
                        "passed_time": 52.73285193,
                        "iteration": 332,
                        "remaining_time": 105.6240608,
                        "learn": [
                          0.4165705549
                        ]
                      },
                      {
                        "passed_time": 52.88051951,
                        "iteration": 333,
                        "remaining_time": 105.4443892,
                        "learn": [
                          0.4163838512
                        ]
                      },
                      {
                        "passed_time": 53.03883682,
                        "iteration": 334,
                        "remaining_time": 105.2860492,
                        "learn": [
                          0.4160837539
                        ]
                      },
                      {
                        "passed_time": 53.19398483,
                        "iteration": 335,
                        "remaining_time": 105.1214462,
                        "learn": [
                          0.4158265993
                        ]
                      },
                      {
                        "passed_time": 53.3531373,
                        "iteration": 336,
                        "remaining_time": 104.9647775,
                        "learn": [
                          0.4155177543
                        ]
                      },
                      {
                        "passed_time": 53.49886942,
                        "iteration": 337,
                        "remaining_time": 104.7818093,
                        "learn": [
                          0.4152812457
                        ]
                      },
                      {
                        "passed_time": 53.68570032,
                        "iteration": 338,
                        "remaining_time": 104.6791974,
                        "learn": [
                          0.4149513399
                        ]
                      },
                      {
                        "passed_time": 53.8416311,
                        "iteration": 339,
                        "remaining_time": 104.5161074,
                        "learn": [
                          0.4146375196
                        ]
                      },
                      {
                        "passed_time": 53.99166167,
                        "iteration": 340,
                        "remaining_time": 104.341657,
                        "learn": [
                          0.4143398774
                        ]
                      },
                      {
                        "passed_time": 54.14875483,
                        "iteration": 341,
                        "remaining_time": 104.1809377,
                        "learn": [
                          0.4139534027
                        ]
                      },
                      {
                        "passed_time": 54.30886431,
                        "iteration": 342,
                        "remaining_time": 104.0260171,
                        "learn": [
                          0.4136391061
                        ]
                      },
                      {
                        "passed_time": 54.45263373,
                        "iteration": 343,
                        "remaining_time": 103.8399062,
                        "learn": [
                          0.4133373544
                        ]
                      },
                      {
                        "passed_time": 54.6115026,
                        "iteration": 344,
                        "remaining_time": 103.6827078,
                        "learn": [
                          0.412947062
                        ]
                      },
                      {
                        "passed_time": 54.78827519,
                        "iteration": 345,
                        "remaining_time": 103.559341,
                        "learn": [
                          0.4126720526
                        ]
                      },
                      {
                        "passed_time": 54.94572858,
                        "iteration": 346,
                        "remaining_time": 103.3993106,
                        "learn": [
                          0.4122859707
                        ]
                      },
                      {
                        "passed_time": 55.09541883,
                        "iteration": 347,
                        "remaining_time": 103.2247502,
                        "learn": [
                          0.4120411397
                        ]
                      },
                      {
                        "passed_time": 55.25149773,
                        "iteration": 348,
                        "remaining_time": 103.0622494,
                        "learn": [
                          0.4118192769
                        ]
                      },
                      {
                        "passed_time": 55.40463052,
                        "iteration": 349,
                        "remaining_time": 102.8943138,
                        "learn": [
                          0.4114643078
                        ]
                      },
                      {
                        "passed_time": 55.55622421,
                        "iteration": 350,
                        "remaining_time": 102.7236169,
                        "learn": [
                          0.4111654188
                        ]
                      },
                      {
                        "passed_time": 55.72516376,
                        "iteration": 351,
                        "remaining_time": 102.5849606,
                        "learn": [
                          0.4107330517
                        ]
                      },
                      {
                        "passed_time": 55.88245231,
                        "iteration": 352,
                        "remaining_time": 102.424778,
                        "learn": [
                          0.4104424114
                        ]
                      },
                      {
                        "passed_time": 56.03990621,
                        "iteration": 353,
                        "remaining_time": 102.2649136,
                        "learn": [
                          0.4101595877
                        ]
                      },
                      {
                        "passed_time": 56.19307339,
                        "iteration": 354,
                        "remaining_time": 102.0972742,
                        "learn": [
                          0.4097662295
                        ]
                      },
                      {
                        "passed_time": 56.35133211,
                        "iteration": 355,
                        "remaining_time": 101.9389266,
                        "learn": [
                          0.4094300257
                        ]
                      },
                      {
                        "passed_time": 56.50617614,
                        "iteration": 356,
                        "remaining_time": 101.7744293,
                        "learn": [
                          0.4091020367
                        ]
                      },
                      {
                        "passed_time": 56.65545319,
                        "iteration": 357,
                        "remaining_time": 101.6000027,
                        "learn": [
                          0.4087642388
                        ]
                      },
                      {
                        "passed_time": 56.82387343,
                        "iteration": 358,
                        "remaining_time": 101.4598966,
                        "learn": [
                          0.408512068
                        ]
                      },
                      {
                        "passed_time": 56.97575522,
                        "iteration": 359,
                        "remaining_time": 101.2902315,
                        "learn": [
                          0.4081833812
                        ]
                      },
                      {
                        "passed_time": 57.12571444,
                        "iteration": 360,
                        "remaining_time": 101.1172618,
                        "learn": [
                          0.4078648387
                        ]
                      },
                      {
                        "passed_time": 57.2825665,
                        "iteration": 361,
                        "remaining_time": 100.9565675,
                        "learn": [
                          0.4074386418
                        ]
                      },
                      {
                        "passed_time": 57.43393711,
                        "iteration": 362,
                        "remaining_time": 100.7862753,
                        "learn": [
                          0.4071752777
                        ]
                      },
                      {
                        "passed_time": 57.58606456,
                        "iteration": 363,
                        "remaining_time": 100.6174095,
                        "learn": [
                          0.4068310942
                        ]
                      },
                      {
                        "passed_time": 57.73749622,
                        "iteration": 364,
                        "remaining_time": 100.4474249,
                        "learn": [
                          0.4065632012
                        ]
                      },
                      {
                        "passed_time": 57.918395,
                        "iteration": 365,
                        "remaining_time": 100.3285859,
                        "learn": [
                          0.4062569908
                        ]
                      },
                      {
                        "passed_time": 58.07598528,
                        "iteration": 366,
                        "remaining_time": 100.1692062,
                        "learn": [
                          0.4059906552
                        ]
                      },
                      {
                        "passed_time": 58.22669637,
                        "iteration": 367,
                        "remaining_time": 99.99802203,
                        "learn": [
                          0.4056274436
                        ]
                      },
                      {
                        "passed_time": 58.38339524,
                        "iteration": 368,
                        "remaining_time": 99.83718806,
                        "learn": [
                          0.4052011694
                        ]
                      },
                      {
                        "passed_time": 58.53982761,
                        "iteration": 369,
                        "remaining_time": 99.67592268,
                        "learn": [
                          0.4048370219
                        ]
                      },
                      {
                        "passed_time": 58.69426764,
                        "iteration": 370,
                        "remaining_time": 99.51130552,
                        "learn": [
                          0.4044465443
                        ]
                      },
                      {
                        "passed_time": 58.86575275,
                        "iteration": 371,
                        "remaining_time": 99.37551808,
                        "learn": [
                          0.4041233534
                        ]
                      },
                      {
                        "passed_time": 59.01462175,
                        "iteration": 372,
                        "remaining_time": 99.20152235,
                        "learn": [
                          0.4038362403
                        ]
                      },
                      {
                        "passed_time": 59.1676174,
                        "iteration": 373,
                        "remaining_time": 99.03456817,
                        "learn": [
                          0.4035324498
                        ]
                      },
                      {
                        "passed_time": 59.32895059,
                        "iteration": 374,
                        "remaining_time": 98.88158431,
                        "learn": [
                          0.4031008462
                        ]
                      },
                      {
                        "passed_time": 59.48044376,
                        "iteration": 375,
                        "remaining_time": 98.71222582,
                        "learn": [
                          0.4027256136
                        ]
                      },
                      {
                        "passed_time": 59.63185039,
                        "iteration": 376,
                        "remaining_time": 98.54281907,
                        "learn": [
                          0.4023670011
                        ]
                      },
                      {
                        "passed_time": 59.77826469,
                        "iteration": 377,
                        "remaining_time": 98.36529269,
                        "learn": [
                          0.4020927798
                        ]
                      },
                      {
                        "passed_time": 59.9539375,
                        "iteration": 378,
                        "remaining_time": 98.23587121,
                        "learn": [
                          0.4017921617
                        ]
                      },
                      {
                        "passed_time": 60.10438691,
                        "iteration": 379,
                        "remaining_time": 98.06505233,
                        "learn": [
                          0.4014956733
                        ]
                      },
                      {
                        "passed_time": 60.25943231,
                        "iteration": 380,
                        "remaining_time": 97.90180736,
                        "learn": [
                          0.4011483122
                        ]
                      },
                      {
                        "passed_time": 60.41826565,
                        "iteration": 381,
                        "remaining_time": 97.74473344,
                        "learn": [
                          0.4007844983
                        ]
                      },
                      {
                        "passed_time": 60.56460202,
                        "iteration": 382,
                        "remaining_time": 97.56751814,
                        "learn": [
                          0.4004717699
                        ]
                      },
                      {
                        "passed_time": 60.71262403,
                        "iteration": 383,
                        "remaining_time": 97.39316771,
                        "learn": [
                          0.4001233469
                        ]
                      },
                      {
                        "passed_time": 60.86119457,
                        "iteration": 384,
                        "remaining_time": 97.21983029,
                        "learn": [
                          0.3998157711
                        ]
                      },
                      {
                        "passed_time": 61.03935461,
                        "iteration": 385,
                        "remaining_time": 97.09368843,
                        "learn": [
                          0.3995174409
                        ]
                      },
                      {
                        "passed_time": 61.18962499,
                        "iteration": 386,
                        "remaining_time": 96.92310109,
                        "learn": [
                          0.3992181472
                        ]
                      },
                      {
                        "passed_time": 61.35063514,
                        "iteration": 387,
                        "remaining_time": 96.76955852,
                        "learn": [
                          0.3989293528
                        ]
                      },
                      {
                        "passed_time": 61.508721,
                        "iteration": 388,
                        "remaining_time": 96.61138439,
                        "learn": [
                          0.3985106626
                        ]
                      },
                      {
                        "passed_time": 61.66591615,
                        "iteration": 389,
                        "remaining_time": 96.45181756,
                        "learn": [
                          0.3982300831
                        ]
                      },
                      {
                        "passed_time": 61.815676,
                        "iteration": 390,
                        "remaining_time": 96.28068206,
                        "learn": [
                          0.397902944
                        ]
                      },
                      {
                        "passed_time": 61.98778913,
                        "iteration": 391,
                        "remaining_time": 96.14432599,
                        "learn": [
                          0.3975810581
                        ]
                      },
                      {
                        "passed_time": 62.13908428,
                        "iteration": 392,
                        "remaining_time": 95.97563399,
                        "learn": [
                          0.3971583301
                        ]
                      },
                      {
                        "passed_time": 62.29075666,
                        "iteration": 393,
                        "remaining_time": 95.8076105,
                        "learn": [
                          0.3968090981
                        ]
                      },
                      {
                        "passed_time": 62.45323379,
                        "iteration": 394,
                        "remaining_time": 95.65621884,
                        "learn": [
                          0.3964965239
                        ]
                      },
                      {
                        "passed_time": 62.60795704,
                        "iteration": 395,
                        "remaining_time": 95.49294458,
                        "learn": [
                          0.3961164702
                        ]
                      },
                      {
                        "passed_time": 62.76197306,
                        "iteration": 396,
                        "remaining_time": 95.32863918,
                        "learn": [
                          0.3957581785
                        ]
                      },
                      {
                        "passed_time": 62.91243646,
                        "iteration": 397,
                        "remaining_time": 95.15901193,
                        "learn": [
                          0.3954197299
                        ]
                      },
                      {
                        "passed_time": 63.09258357,
                        "iteration": 398,
                        "remaining_time": 95.03419229,
                        "learn": [
                          0.3951091446
                        ]
                      },
                      {
                        "passed_time": 63.24464796,
                        "iteration": 399,
                        "remaining_time": 94.86697194,
                        "learn": [
                          0.3947451261
                        ]
                      },
                      {
                        "passed_time": 63.40357484,
                        "iteration": 400,
                        "remaining_time": 94.71007812,
                        "learn": [
                          0.3943999341
                        ]
                      },
                      {
                        "passed_time": 63.57023877,
                        "iteration": 401,
                        "remaining_time": 94.56468354,
                        "learn": [
                          0.3940859997
                        ]
                      },
                      {
                        "passed_time": 63.72622828,
                        "iteration": 402,
                        "remaining_time": 94.40337042,
                        "learn": [
                          0.3936914371
                        ]
                      },
                      {
                        "passed_time": 63.88010589,
                        "iteration": 403,
                        "remaining_time": 94.23896809,
                        "learn": [
                          0.3933572479
                        ]
                      },
                      {
                        "passed_time": 64.06398504,
                        "iteration": 404,
                        "remaining_time": 94.11869407,
                        "learn": [
                          0.3930624667
                        ]
                      },
                      {
                        "passed_time": 64.23244784,
                        "iteration": 405,
                        "remaining_time": 93.97555177,
                        "learn": [
                          0.3926831966
                        ]
                      },
                      {
                        "passed_time": 64.38447812,
                        "iteration": 406,
                        "remaining_time": 93.80834282,
                        "learn": [
                          0.3923407256
                        ]
                      },
                      {
                        "passed_time": 64.54338196,
                        "iteration": 407,
                        "remaining_time": 93.65118167,
                        "learn": [
                          0.3920309255
                        ]
                      },
                      {
                        "passed_time": 64.690802,
                        "iteration": 408,
                        "remaining_time": 93.47741804,
                        "learn": [
                          0.3917592171
                        ]
                      },
                      {
                        "passed_time": 64.84009071,
                        "iteration": 409,
                        "remaining_time": 93.30647199,
                        "learn": [
                          0.3914942135
                        ]
                      },
                      {
                        "passed_time": 64.99348773,
                        "iteration": 410,
                        "remaining_time": 93.14151892,
                        "learn": [
                          0.3911058461
                        ]
                      },
                      {
                        "passed_time": 65.17497251,
                        "iteration": 411,
                        "remaining_time": 93.01670833,
                        "learn": [
                          0.3907012465
                        ]
                      },
                      {
                        "passed_time": 65.33268653,
                        "iteration": 412,
                        "remaining_time": 92.85783775,
                        "learn": [
                          0.3902546292
                        ]
                      },
                      {
                        "passed_time": 65.50177986,
                        "iteration": 413,
                        "remaining_time": 92.7150797,
                        "learn": [
                          0.3898866069
                        ]
                      },
                      {
                        "passed_time": 65.65603811,
                        "iteration": 414,
                        "remaining_time": 92.55128264,
                        "learn": [
                          0.3895529339
                        ]
                      },
                      {
                        "passed_time": 65.80477698,
                        "iteration": 415,
                        "remaining_time": 92.37978307,
                        "learn": [
                          0.3892027758
                        ]
                      },
                      {
                        "passed_time": 65.95887516,
                        "iteration": 416,
                        "remaining_time": 92.21588542,
                        "learn": [
                          0.3888128544
                        ]
                      },
                      {
                        "passed_time": 66.10616932,
                        "iteration": 417,
                        "remaining_time": 92.0425611,
                        "learn": [
                          0.3884678033
                        ]
                      },
                      {
                        "passed_time": 66.28034065,
                        "iteration": 418,
                        "remaining_time": 91.90662988,
                        "learn": [
                          0.3881700028
                        ]
                      },
                      {
                        "passed_time": 66.43084853,
                        "iteration": 419,
                        "remaining_time": 91.73783844,
                        "learn": [
                          0.3878245136
                        ]
                      },
                      {
                        "passed_time": 66.58691675,
                        "iteration": 420,
                        "remaining_time": 91.57678099,
                        "learn": [
                          0.3875521168
                        ]
                      },
                      {
                        "passed_time": 66.73807467,
                        "iteration": 421,
                        "remaining_time": 91.4090217,
                        "learn": [
                          0.3872201302
                        ]
                      },
                      {
                        "passed_time": 66.88991167,
                        "iteration": 422,
                        "remaining_time": 91.24226723,
                        "learn": [
                          0.3869331073
                        ]
                      },
                      {
                        "passed_time": 67.0371645,
                        "iteration": 423,
                        "remaining_time": 91.06935555,
                        "learn": [
                          0.3866602571
                        ]
                      },
                      {
                        "passed_time": 67.21267646,
                        "iteration": 424,
                        "remaining_time": 90.93479756,
                        "learn": [
                          0.3862738349
                        ]
                      },
                      {
                        "passed_time": 67.37109965,
                        "iteration": 425,
                        "remaining_time": 90.77702159,
                        "learn": [
                          0.386003404
                        ]
                      },
                      {
                        "passed_time": 67.54048608,
                        "iteration": 426,
                        "remaining_time": 90.63395439,
                        "learn": [
                          0.3856479823
                        ]
                      },
                      {
                        "passed_time": 67.68817987,
                        "iteration": 427,
                        "remaining_time": 90.4617731,
                        "learn": [
                          0.3853333893
                        ]
                      },
                      {
                        "passed_time": 67.84323475,
                        "iteration": 428,
                        "remaining_time": 90.2995036,
                        "learn": [
                          0.3850271996
                        ]
                      },
                      {
                        "passed_time": 67.99435124,
                        "iteration": 429,
                        "remaining_time": 90.13204699,
                        "learn": [
                          0.3846695763
                        ]
                      },
                      {
                        "passed_time": 68.14594792,
                        "iteration": 430,
                        "remaining_time": 89.96530015,
                        "learn": [
                          0.3842540828
                        ]
                      },
                      {
                        "passed_time": 68.32782855,
                        "iteration": 431,
                        "remaining_time": 89.83844124,
                        "learn": [
                          0.3839007558
                        ]
                      },
                      {
                        "passed_time": 68.49549281,
                        "iteration": 432,
                        "remaining_time": 89.69271229,
                        "learn": [
                          0.3835497573
                        ]
                      },
                      {
                        "passed_time": 68.64713746,
                        "iteration": 433,
                        "remaining_time": 89.52599033,
                        "learn": [
                          0.3832813985
                        ]
                      },
                      {
                        "passed_time": 68.79439359,
                        "iteration": 434,
                        "remaining_time": 89.35363765,
                        "learn": [
                          0.3829407241
                        ]
                      },
                      {
                        "passed_time": 68.94609572,
                        "iteration": 435,
                        "remaining_time": 89.18715135,
                        "learn": [
                          0.3825980571
                        ]
                      },
                      {
                        "passed_time": 69.09539818,
                        "iteration": 436,
                        "remaining_time": 89.01764114,
                        "learn": [
                          0.3822705302
                        ]
                      },
                      {
                        "passed_time": 69.26696223,
                        "iteration": 437,
                        "remaining_time": 88.87678716,
                        "learn": [
                          0.3818993097
                        ]
                      },
                      {
                        "passed_time": 69.43297529,
                        "iteration": 438,
                        "remaining_time": 88.72869963,
                        "learn": [
                          0.3815591511
                        ]
                      },
                      {
                        "passed_time": 69.5955365,
                        "iteration": 439,
                        "remaining_time": 88.57613736,
                        "learn": [
                          0.3812773126
                        ]
                      },
                      {
                        "passed_time": 69.75258093,
                        "iteration": 440,
                        "remaining_time": 88.41653683,
                        "learn": [
                          0.3809191925
                        ]
                      },
                      {
                        "passed_time": 69.90636871,
                        "iteration": 441,
                        "remaining_time": 88.25283652,
                        "learn": [
                          0.3806711823
                        ]
                      },
                      {
                        "passed_time": 70.05505581,
                        "iteration": 442,
                        "remaining_time": 88.08276768,
                        "learn": [
                          0.3803696286
                        ]
                      },
                      {
                        "passed_time": 70.2051497,
                        "iteration": 443,
                        "remaining_time": 87.91455683,
                        "learn": [
                          0.3800122694
                        ]
                      },
                      {
                        "passed_time": 70.38541141,
                        "iteration": 444,
                        "remaining_time": 87.78405243,
                        "learn": [
                          0.3796994217
                        ]
                      },
                      {
                        "passed_time": 70.53641332,
                        "iteration": 445,
                        "remaining_time": 87.61697977,
                        "learn": [
                          0.3794294156
                        ]
                      },
                      {
                        "passed_time": 70.6875873,
                        "iteration": 446,
                        "remaining_time": 87.45019189,
                        "learn": [
                          0.3791765693
                        ]
                      },
                      {
                        "passed_time": 70.83548451,
                        "iteration": 447,
                        "remaining_time": 87.27943627,
                        "learn": [
                          0.3788741171
                        ]
                      },
                      {
                        "passed_time": 70.98435798,
                        "iteration": 448,
                        "remaining_time": 87.10998051,
                        "learn": [
                          0.3785792184
                        ]
                      },
                      {
                        "passed_time": 71.12831567,
                        "iteration": 449,
                        "remaining_time": 86.93460804,
                        "learn": [
                          0.3782891658
                        ]
                      },
                      {
                        "passed_time": 71.27826964,
                        "iteration": 450,
                        "remaining_time": 86.76667412,
                        "learn": [
                          0.377928678
                        ]
                      },
                      {
                        "passed_time": 71.46221476,
                        "iteration": 451,
                        "remaining_time": 86.64003028,
                        "learn": [
                          0.3776021682
                        ]
                      },
                      {
                        "passed_time": 71.62668235,
                        "iteration": 452,
                        "remaining_time": 86.48961422,
                        "learn": [
                          0.3773495687
                        ]
                      },
                      {
                        "passed_time": 71.78080906,
                        "iteration": 453,
                        "remaining_time": 86.32669988,
                        "learn": [
                          0.3770047473
                        ]
                      },
                      {
                        "passed_time": 71.93255694,
                        "iteration": 454,
                        "remaining_time": 86.1609748,
                        "learn": [
                          0.3766932288
                        ]
                      },
                      {
                        "passed_time": 72.07941036,
                        "iteration": 455,
                        "remaining_time": 85.98947201,
                        "learn": [
                          0.376435367
                        ]
                      },
                      {
                        "passed_time": 72.2301313,
                        "iteration": 456,
                        "remaining_time": 85.82267242,
                        "learn": [
                          0.3761397802
                        ]
                      },
                      {
                        "passed_time": 72.39854074,
                        "iteration": 457,
                        "remaining_time": 85.67687572,
                        "learn": [
                          0.3758500178
                        ]
                      },
                      {
                        "passed_time": 72.56317281,
                        "iteration": 458,
                        "remaining_time": 85.5265283,
                        "learn": [
                          0.3755995537
                        ]
                      },
                      {
                        "passed_time": 72.71633094,
                        "iteration": 459,
                        "remaining_time": 85.36264937,
                        "learn": [
                          0.3752928969
                        ]
                      },
                      {
                        "passed_time": 72.86549257,
                        "iteration": 460,
                        "remaining_time": 85.19414424,
                        "learn": [
                          0.3750496822
                        ]
                      },
                      {
                        "passed_time": 73.02025363,
                        "iteration": 461,
                        "remaining_time": 85.0322434,
                        "learn": [
                          0.3747166999
                        ]
                      },
                      {
                        "passed_time": 73.17342631,
                        "iteration": 462,
                        "remaining_time": 84.86853116,
                        "learn": [
                          0.3744436807
                        ]
                      },
                      {
                        "passed_time": 73.3260969,
                        "iteration": 463,
                        "remaining_time": 84.70428435,
                        "learn": [
                          0.3741908995
                        ]
                      },
                      {
                        "passed_time": 73.5168536,
                        "iteration": 464,
                        "remaining_time": 84.58390683,
                        "learn": [
                          0.3738723272
                        ]
                      },
                      {
                        "passed_time": 73.67877072,
                        "iteration": 465,
                        "remaining_time": 84.43017933,
                        "learn": [
                          0.3735560586
                        ]
                      },
                      {
                        "passed_time": 73.83613879,
                        "iteration": 466,
                        "remaining_time": 84.27122478,
                        "learn": [
                          0.3732732937
                        ]
                      },
                      {
                        "passed_time": 73.9894068,
                        "iteration": 467,
                        "remaining_time": 84.10761628,
                        "learn": [
                          0.3729230004
                        ]
                      },
                      {
                        "passed_time": 74.14045192,
                        "iteration": 468,
                        "remaining_time": 83.94153512,
                        "learn": [
                          0.3726275969
                        ]
                      },
                      {
                        "passed_time": 74.29198505,
                        "iteration": 469,
                        "remaining_time": 83.77606824,
                        "learn": [
                          0.3723425597
                        ]
                      },
                      {
                        "passed_time": 74.46345507,
                        "iteration": 470,
                        "remaining_time": 83.63305251,
                        "learn": [
                          0.3721321375
                        ]
                      },
                      {
                        "passed_time": 74.63014352,
                        "iteration": 471,
                        "remaining_time": 83.48456733,
                        "learn": [
                          0.3718434724
                        ]
                      },
                      {
                        "passed_time": 74.78395544,
                        "iteration": 472,
                        "remaining_time": 83.3216586,
                        "learn": [
                          0.3714761978
                        ]
                      },
                      {
                        "passed_time": 74.93315729,
                        "iteration": 473,
                        "remaining_time": 83.15367243,
                        "learn": [
                          0.371149219
                        ]
                      },
                      {
                        "passed_time": 75.08374884,
                        "iteration": 474,
                        "remaining_time": 82.98730135,
                        "learn": [
                          0.3707898753
                        ]
                      },
                      {
                        "passed_time": 75.23309216,
                        "iteration": 475,
                        "remaining_time": 82.81962246,
                        "learn": [
                          0.3704664806
                        ]
                      },
                      {
                        "passed_time": 75.38337331,
                        "iteration": 476,
                        "remaining_time": 82.65304872,
                        "learn": [
                          0.3700880099
                        ]
                      },
                      {
                        "passed_time": 75.55812903,
                        "iteration": 477,
                        "remaining_time": 82.51327061,
                        "learn": [
                          0.3698312533
                        ]
                      },
                      {
                        "passed_time": 75.71722551,
                        "iteration": 478,
                        "remaining_time": 82.35631418,
                        "learn": [
                          0.3695559562
                        ]
                      },
                      {
                        "passed_time": 75.86336192,
                        "iteration": 479,
                        "remaining_time": 82.18530874,
                        "learn": [
                          0.3693116016
                        ]
                      },
                      {
                        "passed_time": 76.01399923,
                        "iteration": 480,
                        "remaining_time": 82.0192632,
                        "learn": [
                          0.3690554763
                        ]
                      },
                      {
                        "passed_time": 76.16218406,
                        "iteration": 481,
                        "remaining_time": 81.85064594,
                        "learn": [
                          0.368670051
                        ]
                      },
                      {
                        "passed_time": 76.31164122,
                        "iteration": 482,
                        "remaining_time": 81.68347518,
                        "learn": [
                          0.36837652
                        ]
                      },
                      {
                        "passed_time": 76.46127413,
                        "iteration": 483,
                        "remaining_time": 81.51656498,
                        "learn": [
                          0.3681135378
                        ]
                      },
                      {
                        "passed_time": 76.64608322,
                        "iteration": 484,
                        "remaining_time": 81.38707806,
                        "learn": [
                          0.3678665698
                        ]
                      },
                      {
                        "passed_time": 76.79330607,
                        "iteration": 485,
                        "remaining_time": 81.21761177,
                        "learn": [
                          0.3676419609
                        ]
                      },
                      {
                        "passed_time": 76.94624936,
                        "iteration": 486,
                        "remaining_time": 81.05426267,
                        "learn": [
                          0.3673432744
                        ]
                      },
                      {
                        "passed_time": 77.09163215,
                        "iteration": 487,
                        "remaining_time": 80.8830239,
                        "learn": [
                          0.3670170979
                        ]
                      },
                      {
                        "passed_time": 77.24226973,
                        "iteration": 488,
                        "remaining_time": 80.71738207,
                        "learn": [
                          0.366731688
                        ]
                      },
                      {
                        "passed_time": 77.39468647,
                        "iteration": 489,
                        "remaining_time": 80.55365327,
                        "learn": [
                          0.3664464668
                        ]
                      },
                      {
                        "passed_time": 77.57027977,
                        "iteration": 490,
                        "remaining_time": 80.41399674,
                        "learn": [
                          0.3661770689
                        ]
                      },
                      {
                        "passed_time": 77.73635581,
                        "iteration": 491,
                        "remaining_time": 80.26436738,
                        "learn": [
                          0.3659226081
                        ]
                      },
                      {
                        "passed_time": 77.88393216,
                        "iteration": 492,
                        "remaining_time": 80.09564626,
                        "learn": [
                          0.3656797755
                        ]
                      },
                      {
                        "passed_time": 78.03091742,
                        "iteration": 493,
                        "remaining_time": 79.92640529,
                        "learn": [
                          0.3654221593
                        ]
                      },
                      {
                        "passed_time": 78.18229756,
                        "iteration": 494,
                        "remaining_time": 79.76173792,
                        "learn": [
                          0.3651212413
                        ]
                      },
                      {
                        "passed_time": 78.33305582,
                        "iteration": 495,
                        "remaining_time": 79.5964922,
                        "learn": [
                          0.3647967222
                        ]
                      },
                      {
                        "passed_time": 78.48440274,
                        "iteration": 496,
                        "remaining_time": 79.43190056,
                        "learn": [
                          0.3645182873
                        ]
                      },
                      {
                        "passed_time": 78.67838202,
                        "iteration": 497,
                        "remaining_time": 79.3103369,
                        "learn": [
                          0.3642703105
                        ]
                      },
                      {
                        "passed_time": 78.84074331,
                        "iteration": 498,
                        "remaining_time": 79.15673827,
                        "learn": [
                          0.3640042643
                        ]
                      },
                      {
                        "passed_time": 78.99677706,
                        "iteration": 499,
                        "remaining_time": 78.99677706,
                        "learn": [
                          0.3637043113
                        ]
                      },
                      {
                        "passed_time": 79.1480044,
                        "iteration": 500,
                        "remaining_time": 78.8320443,
                        "learn": [
                          0.3634489906
                        ]
                      },
                      {
                        "passed_time": 79.30418443,
                        "iteration": 501,
                        "remaining_time": 78.67227858,
                        "learn": [
                          0.363126692
                        ]
                      },
                      {
                        "passed_time": 79.45776998,
                        "iteration": 502,
                        "remaining_time": 78.50996358,
                        "learn": [
                          0.3627908075
                        ]
                      },
                      {
                        "passed_time": 79.61105517,
                        "iteration": 503,
                        "remaining_time": 78.34738763,
                        "learn": [
                          0.3624877857
                        ]
                      },
                      {
                        "passed_time": 79.80056719,
                        "iteration": 504,
                        "remaining_time": 78.22035794,
                        "learn": [
                          0.3621915011
                        ]
                      },
                      {
                        "passed_time": 79.95350827,
                        "iteration": 505,
                        "remaining_time": 78.05737764,
                        "learn": [
                          0.3618813485
                        ]
                      },
                      {
                        "passed_time": 80.09898475,
                        "iteration": 506,
                        "remaining_time": 77.88717846,
                        "learn": [
                          0.3616431486
                        ]
                      },
                      {
                        "passed_time": 80.24534643,
                        "iteration": 507,
                        "remaining_time": 77.71793395,
                        "learn": [
                          0.3613417064
                        ]
                      },
                      {
                        "passed_time": 80.39228309,
                        "iteration": 508,
                        "remaining_time": 77.54933398,
                        "learn": [
                          0.361098159
                        ]
                      },
                      {
                        "passed_time": 80.54276651,
                        "iteration": 509,
                        "remaining_time": 77.38422665,
                        "learn": [
                          0.3607783672
                        ]
                      },
                      {
                        "passed_time": 80.73461936,
                        "iteration": 510,
                        "remaining_time": 77.25876491,
                        "learn": [
                          0.3603718052
                        ]
                      },
                      {
                        "passed_time": 80.88245671,
                        "iteration": 511,
                        "remaining_time": 77.09109155,
                        "learn": [
                          0.360132839
                        ]
                      },
                      {
                        "passed_time": 81.03564173,
                        "iteration": 512,
                        "remaining_time": 76.92857217,
                        "learn": [
                          0.3598538076
                        ]
                      },
                      {
                        "passed_time": 81.1846777,
                        "iteration": 513,
                        "remaining_time": 76.76216608,
                        "learn": [
                          0.3595644872
                        ]
                      },
                      {
                        "passed_time": 81.33602425,
                        "iteration": 514,
                        "remaining_time": 76.59800342,
                        "learn": [
                          0.359269897
                        ]
                      },
                      {
                        "passed_time": 81.48242006,
                        "iteration": 515,
                        "remaining_time": 76.42924672,
                        "learn": [
                          0.3590308893
                        ]
                      },
                      {
                        "passed_time": 81.63007556,
                        "iteration": 516,
                        "remaining_time": 76.26175338,
                        "learn": [
                          0.358728194
                        ]
                      },
                      {
                        "passed_time": 81.82122693,
                        "iteration": 517,
                        "remaining_time": 76.13480961,
                        "learn": [
                          0.358459526
                        ]
                      },
                      {
                        "passed_time": 81.97642955,
                        "iteration": 518,
                        "remaining_time": 75.97430176,
                        "learn": [
                          0.3581920155
                        ]
                      },
                      {
                        "passed_time": 82.12315985,
                        "iteration": 519,
                        "remaining_time": 75.80599371,
                        "learn": [
                          0.358015522
                        ]
                      },
                      {
                        "passed_time": 82.27138815,
                        "iteration": 520,
                        "remaining_time": 75.63914572,
                        "learn": [
                          0.3577520979
                        ]
                      },
                      {
                        "passed_time": 82.42100192,
                        "iteration": 521,
                        "remaining_time": 75.47363777,
                        "learn": [
                          0.357482801
                        ]
                      },
                      {
                        "passed_time": 82.57558368,
                        "iteration": 522,
                        "remaining_time": 75.31272163,
                        "learn": [
                          0.357136238
                        ]
                      },
                      {
                        "passed_time": 82.72112049,
                        "iteration": 523,
                        "remaining_time": 75.14361327,
                        "learn": [
                          0.3568662898
                        ]
                      },
                      {
                        "passed_time": 82.91102915,
                        "iteration": 524,
                        "remaining_time": 75.01474066,
                        "learn": [
                          0.3565837336
                        ]
                      },
                      {
                        "passed_time": 83.05588112,
                        "iteration": 525,
                        "remaining_time": 74.84503355,
                        "learn": [
                          0.3563753068
                        ]
                      },
                      {
                        "passed_time": 83.20688163,
                        "iteration": 526,
                        "remaining_time": 74.6809393,
                        "learn": [
                          0.3560878367
                        ]
                      },
                      {
                        "passed_time": 83.3556791,
                        "iteration": 527,
                        "remaining_time": 74.51492526,
                        "learn": [
                          0.3558622408
                        ]
                      },
                      {
                        "passed_time": 83.50144023,
                        "iteration": 528,
                        "remaining_time": 74.34627287,
                        "learn": [
                          0.3555465082
                        ]
                      },
                      {
                        "passed_time": 83.65239493,
                        "iteration": 529,
                        "remaining_time": 74.18231249,
                        "learn": [
                          0.3552814765
                        ]
                      },
                      {
                        "passed_time": 83.82927374,
                        "iteration": 530,
                        "remaining_time": 74.04129828,
                        "learn": [
                          0.3550322883
                        ]
                      },
                      {
                        "passed_time": 83.98642564,
                        "iteration": 531,
                        "remaining_time": 73.88279548,
                        "learn": [
                          0.3548158665
                        ]
                      },
                      {
                        "passed_time": 84.13881656,
                        "iteration": 532,
                        "remaining_time": 73.72012633,
                        "learn": [
                          0.3545379781
                        ]
                      },
                      {
                        "passed_time": 84.28922138,
                        "iteration": 533,
                        "remaining_time": 73.55576247,
                        "learn": [
                          0.3542176003
                        ]
                      },
                      {
                        "passed_time": 84.44285851,
                        "iteration": 534,
                        "remaining_time": 73.3942602,
                        "learn": [
                          0.3538753872
                        ]
                      },
                      {
                        "passed_time": 84.59384402,
                        "iteration": 535,
                        "remaining_time": 73.23049184,
                        "learn": [
                          0.3535731659
                        ]
                      },
                      {
                        "passed_time": 84.74657458,
                        "iteration": 536,
                        "remaining_time": 73.06827566,
                        "learn": [
                          0.3532127225
                        ]
                      },
                      {
                        "passed_time": 84.93527157,
                        "iteration": 537,
                        "remaining_time": 72.93698042,
                        "learn": [
                          0.3529647941
                        ]
                      },
                      {
                        "passed_time": 85.08188216,
                        "iteration": 538,
                        "remaining_time": 72.7694762,
                        "learn": [
                          0.3527108359
                        ]
                      },
                      {
                        "passed_time": 85.23663791,
                        "iteration": 539,
                        "remaining_time": 72.60898785,
                        "learn": [
                          0.3523848186
                        ]
                      },
                      {
                        "passed_time": 85.38424535,
                        "iteration": 540,
                        "remaining_time": 72.44245585,
                        "learn": [
                          0.352149036
                        ]
                      },
                      {
                        "passed_time": 85.52835361,
                        "iteration": 541,
                        "remaining_time": 72.27303681,
                        "learn": [
                          0.3518536351
                        ]
                      },
                      {
                        "passed_time": 85.67950219,
                        "iteration": 542,
                        "remaining_time": 72.10963628,
                        "learn": [
                          0.3516624554
                        ]
                      },
                      {
                        "passed_time": 85.83307444,
                        "iteration": 543,
                        "remaining_time": 71.9483124,
                        "learn": [
                          0.3514298348
                        ]
                      },
                      {
                        "passed_time": 86.02177059,
                        "iteration": 544,
                        "remaining_time": 71.81634058,
                        "learn": [
                          0.3511740037
                        ]
                      },
                      {
                        "passed_time": 86.18328072,
                        "iteration": 545,
                        "remaining_time": 71.66155577,
                        "learn": [
                          0.3508031446
                        ]
                      },
                      {
                        "passed_time": 86.34175225,
                        "iteration": 546,
                        "remaining_time": 71.50422992,
                        "learn": [
                          0.3505120934
                        ]
                      },
                      {
                        "passed_time": 86.49432994,
                        "iteration": 547,
                        "remaining_time": 71.34203856,
                        "learn": [
                          0.35022831
                        ]
                      },
                      {
                        "passed_time": 86.64239892,
                        "iteration": 548,
                        "remaining_time": 71.17617835,
                        "learn": [
                          0.3499544714
                        ]
                      },
                      {
                        "passed_time": 86.78832904,
                        "iteration": 549,
                        "remaining_time": 71.00863285,
                        "learn": [
                          0.3496799226
                        ]
                      },
                      {
                        "passed_time": 86.97274498,
                        "iteration": 550,
                        "remaining_time": 70.87252721,
                        "learn": [
                          0.3493683398
                        ]
                      },
                      {
                        "passed_time": 87.13639947,
                        "iteration": 551,
                        "remaining_time": 70.71939667,
                        "learn": [
                          0.3490823599
                        ]
                      },
                      {
                        "passed_time": 87.29067285,
                        "iteration": 552,
                        "remaining_time": 70.55864514,
                        "learn": [
                          0.3487574663
                        ]
                      },
                      {
                        "passed_time": 87.44252843,
                        "iteration": 553,
                        "remaining_time": 70.39597054,
                        "learn": [
                          0.3485301305
                        ]
                      },
                      {
                        "passed_time": 87.59577778,
                        "iteration": 554,
                        "remaining_time": 70.23445246,
                        "learn": [
                          0.3482677324
                        ]
                      },
                      {
                        "passed_time": 87.74849024,
                        "iteration": 555,
                        "remaining_time": 70.07253537,
                        "learn": [
                          0.3479962195
                        ]
                      },
                      {
                        "passed_time": 87.90889445,
                        "iteration": 556,
                        "remaining_time": 69.91676884,
                        "learn": [
                          0.347742994
                        ]
                      },
                      {
                        "passed_time": 88.0922038,
                        "iteration": 557,
                        "remaining_time": 69.77912917,
                        "learn": [
                          0.3475092566
                        ]
                      },
                      {
                        "passed_time": 88.24142278,
                        "iteration": 558,
                        "remaining_time": 69.61443192,
                        "learn": [
                          0.3472003907
                        ]
                      },
                      {
                        "passed_time": 88.39657536,
                        "iteration": 559,
                        "remaining_time": 69.45445207,
                        "learn": [
                          0.3468982473
                        ]
                      },
                      {
                        "passed_time": 88.54154599,
                        "iteration": 560,
                        "remaining_time": 69.28652172,
                        "learn": [
                          0.346638311
                        ]
                      },
                      {
                        "passed_time": 88.69147198,
                        "iteration": 561,
                        "remaining_time": 69.12253511,
                        "learn": [
                          0.3464227718
                        ]
                      },
                      {
                        "passed_time": 88.83754093,
                        "iteration": 562,
                        "remaining_time": 68.9556046,
                        "learn": [
                          0.3461863767
                        ]
                      },
                      {
                        "passed_time": 89.00136168,
                        "iteration": 563,
                        "remaining_time": 68.80247108,
                        "learn": [
                          0.3458587521
                        ]
                      },
                      {
                        "passed_time": 89.19288058,
                        "iteration": 564,
                        "remaining_time": 68.67062487,
                        "learn": [
                          0.3456489224
                        ]
                      },
                      {
                        "passed_time": 89.35059488,
                        "iteration": 565,
                        "remaining_time": 68.51264696,
                        "learn": [
                          0.3453761466
                        ]
                      },
                      {
                        "passed_time": 89.50153217,
                        "iteration": 566,
                        "remaining_time": 68.34949459,
                        "learn": [
                          0.3451139389
                        ]
                      },
                      {
                        "passed_time": 89.65085419,
                        "iteration": 567,
                        "remaining_time": 68.18515671,
                        "learn": [
                          0.3448550465
                        ]
                      },
                      {
                        "passed_time": 89.80018016,
                        "iteration": 568,
                        "remaining_time": 68.0208746,
                        "learn": [
                          0.3446098809
                        ]
                      },
                      {
                        "passed_time": 89.95406566,
                        "iteration": 569,
                        "remaining_time": 67.86008462,
                        "learn": [
                          0.3443916669
                        ]
                      },
                      {
                        "passed_time": 90.12127334,
                        "iteration": 570,
                        "remaining_time": 67.70932796,
                        "learn": [
                          0.3441434602
                        ]
                      },
                      {
                        "passed_time": 90.28923824,
                        "iteration": 571,
                        "remaining_time": 67.55908036,
                        "learn": [
                          0.3438463875
                        ]
                      },
                      {
                        "passed_time": 90.44459687,
                        "iteration": 572,
                        "remaining_time": 67.39937672,
                        "learn": [
                          0.3436298441
                        ]
                      },
                      {
                        "passed_time": 90.60009193,
                        "iteration": 573,
                        "remaining_time": 67.23978948,
                        "learn": [
                          0.3433159635
                        ]
                      },
                      {
                        "passed_time": 90.74785231,
                        "iteration": 574,
                        "remaining_time": 67.07449953,
                        "learn": [
                          0.3430757338
                        ]
                      },
                      {
                        "passed_time": 90.90590658,
                        "iteration": 575,
                        "remaining_time": 66.9168479,
                        "learn": [
                          0.3427962486
                        ]
                      },
                      {
                        "passed_time": 91.06354443,
                        "iteration": 576,
                        "remaining_time": 66.75888959,
                        "learn": [
                          0.3424538206
                        ]
                      },
                      {
                        "passed_time": 91.25236182,
                        "iteration": 577,
                        "remaining_time": 66.62369669,
                        "learn": [
                          0.3421893563
                        ]
                      },
                      {
                        "passed_time": 91.40174729,
                        "iteration": 578,
                        "remaining_time": 66.459647,
                        "learn": [
                          0.3418622925
                        ]
                      },
                      {
                        "passed_time": 91.55876442,
                        "iteration": 579,
                        "remaining_time": 66.30117423,
                        "learn": [
                          0.341515906
                        ]
                      },
                      {
                        "passed_time": 91.71126129,
                        "iteration": 580,
                        "remaining_time": 66.13944661,
                        "learn": [
                          0.3412438319
                        ]
                      },
                      {
                        "passed_time": 91.86350867,
                        "iteration": 581,
                        "remaining_time": 65.97757152,
                        "learn": [
                          0.3408910294
                        ]
                      },
                      {
                        "passed_time": 92.02219135,
                        "iteration": 582,
                        "remaining_time": 65.82033241,
                        "learn": [
                          0.3405625696
                        ]
                      },
                      {
                        "passed_time": 92.16911408,
                        "iteration": 583,
                        "remaining_time": 65.6547114,
                        "learn": [
                          0.3403242575
                        ]
                      },
                      {
                        "passed_time": 92.36232733,
                        "iteration": 584,
                        "remaining_time": 65.52199289,
                        "learn": [
                          0.3400477774
                        ]
                      },
                      {
                        "passed_time": 92.51443966,
                        "iteration": 585,
                        "remaining_time": 65.36003075,
                        "learn": [
                          0.3397901302
                        ]
                      },
                      {
                        "passed_time": 92.66963749,
                        "iteration": 586,
                        "remaining_time": 65.20027306,
                        "learn": [
                          0.3395101597
                        ]
                      },
                      {
                        "passed_time": 92.81552595,
                        "iteration": 587,
                        "remaining_time": 65.03400798,
                        "learn": [
                          0.3392751011
                        ]
                      },
                      {
                        "passed_time": 92.97276885,
                        "iteration": 588,
                        "remaining_time": 64.87573514,
                        "learn": [
                          0.3390489438
                        ]
                      },
                      {
                        "passed_time": 93.11787582,
                        "iteration": 589,
                        "remaining_time": 64.70903235,
                        "learn": [
                          0.3388509881
                        ]
                      },
                      {
                        "passed_time": 93.30752683,
                        "iteration": 590,
                        "remaining_time": 64.57322922,
                        "learn": [
                          0.3385288885
                        ]
                      },
                      {
                        "passed_time": 93.46038532,
                        "iteration": 591,
                        "remaining_time": 64.41188718,
                        "learn": [
                          0.3383136767
                        ]
                      },
                      {
                        "passed_time": 93.60832509,
                        "iteration": 592,
                        "remaining_time": 64.24719783,
                        "learn": [
                          0.3381273953
                        ]
                      },
                      {
                        "passed_time": 93.75490127,
                        "iteration": 593,
                        "remaining_time": 64.08163285,
                        "learn": [
                          0.3378912029
                        ]
                      },
                      {
                        "passed_time": 93.90312945,
                        "iteration": 594,
                        "remaining_time": 63.91725618,
                        "learn": [
                          0.3376813387
                        ]
                      },
                      {
                        "passed_time": 94.05986163,
                        "iteration": 595,
                        "remaining_time": 63.75869815,
                        "learn": [
                          0.337420516
                        ]
                      },
                      {
                        "passed_time": 94.20883014,
                        "iteration": 596,
                        "remaining_time": 63.59490544,
                        "learn": [
                          0.3371530398
                        ]
                      },
                      {
                        "passed_time": 94.39211861,
                        "iteration": 597,
                        "remaining_time": 63.45423358,
                        "learn": [
                          0.3369280705
                        ]
                      },
                      {
                        "passed_time": 94.53806089,
                        "iteration": 598,
                        "remaining_time": 63.28841806,
                        "learn": [
                          0.3367330092
                        ]
                      },
                      {
                        "passed_time": 94.69082018,
                        "iteration": 599,
                        "remaining_time": 63.12721345,
                        "learn": [
                          0.336476093
                        ]
                      },
                      {
                        "passed_time": 94.84153466,
                        "iteration": 600,
                        "remaining_time": 62.96467942,
                        "learn": [
                          0.3361997245
                        ]
                      },
                      {
                        "passed_time": 95.0012134,
                        "iteration": 601,
                        "remaining_time": 62.80811119,
                        "learn": [
                          0.3359245286
                        ]
                      },
                      {
                        "passed_time": 95.15015635,
                        "iteration": 602,
                        "remaining_time": 62.64446446,
                        "learn": [
                          0.3356374747
                        ]
                      },
                      {
                        "passed_time": 95.29789224,
                        "iteration": 603,
                        "remaining_time": 62.48007504,
                        "learn": [
                          0.3353848156
                        ]
                      },
                      {
                        "passed_time": 95.49475335,
                        "iteration": 604,
                        "remaining_time": 62.34781417,
                        "learn": [
                          0.3350879853
                        ]
                      },
                      {
                        "passed_time": 95.65297151,
                        "iteration": 605,
                        "remaining_time": 62.1902158,
                        "learn": [
                          0.3348251222
                        ]
                      },
                      {
                        "passed_time": 95.80999108,
                        "iteration": 606,
                        "remaining_time": 62.03183936,
                        "learn": [
                          0.3344759716
                        ]
                      },
                      {
                        "passed_time": 95.9607796,
                        "iteration": 607,
                        "remaining_time": 61.86945001,
                        "learn": [
                          0.3341949365
                        ]
                      },
                      {
                        "passed_time": 96.13982125,
                        "iteration": 608,
                        "remaining_time": 61.72523827,
                        "learn": [
                          0.3338978711
                        ]
                      },
                      {
                        "passed_time": 96.29429199,
                        "iteration": 609,
                        "remaining_time": 61.56520307,
                        "learn": [
                          0.333645524
                        ]
                      },
                      {
                        "passed_time": 96.48803694,
                        "iteration": 610,
                        "remaining_time": 61.43019046,
                        "learn": [
                          0.3333173091
                        ]
                      },
                      {
                        "passed_time": 96.64026024,
                        "iteration": 611,
                        "remaining_time": 61.26866172,
                        "learn": [
                          0.3330724566
                        ]
                      },
                      {
                        "passed_time": 96.79224108,
                        "iteration": 612,
                        "remaining_time": 61.10701027,
                        "learn": [
                          0.3328195661
                        ]
                      },
                      {
                        "passed_time": 96.94112437,
                        "iteration": 613,
                        "remaining_time": 60.94344301,
                        "learn": [
                          0.3325202821
                        ]
                      },
                      {
                        "passed_time": 97.10010494,
                        "iteration": 614,
                        "remaining_time": 60.78624456,
                        "learn": [
                          0.3322804863
                        ]
                      },
                      {
                        "passed_time": 97.25271816,
                        "iteration": 615,
                        "remaining_time": 60.62507106,
                        "learn": [
                          0.3319900526
                        ]
                      },
                      {
                        "passed_time": 97.40899,
                        "iteration": 616,
                        "remaining_time": 60.46619639,
                        "learn": [
                          0.3316690589
                        ]
                      },
                      {
                        "passed_time": 97.67384431,
                        "iteration": 617,
                        "remaining_time": 60.37444745,
                        "learn": [
                          0.3314278483
                        ]
                      },
                      {
                        "passed_time": 97.81986375,
                        "iteration": 618,
                        "remaining_time": 60.2089953,
                        "learn": [
                          0.3311987423
                        ]
                      },
                      {
                        "passed_time": 97.97690099,
                        "iteration": 619,
                        "remaining_time": 60.05035867,
                        "learn": [
                          0.3308981366
                        ]
                      },
                      {
                        "passed_time": 98.13542575,
                        "iteration": 620,
                        "remaining_time": 59.89263504,
                        "learn": [
                          0.3306364395
                        ]
                      },
                      {
                        "passed_time": 98.28812183,
                        "iteration": 621,
                        "remaining_time": 59.73136664,
                        "learn": [
                          0.330348151
                        ]
                      },
                      {
                        "passed_time": 98.4399535,
                        "iteration": 622,
                        "remaining_time": 59.56960268,
                        "learn": [
                          0.3301113467
                        ]
                      },
                      {
                        "passed_time": 98.62058935,
                        "iteration": 623,
                        "remaining_time": 59.42522692,
                        "learn": [
                          0.3298107342
                        ]
                      },
                      {
                        "passed_time": 98.7909729,
                        "iteration": 624,
                        "remaining_time": 59.27458374,
                        "learn": [
                          0.3296009751
                        ]
                      },
                      {
                        "passed_time": 98.94215789,
                        "iteration": 625,
                        "remaining_time": 59.11240743,
                        "learn": [
                          0.3292957755
                        ]
                      },
                      {
                        "passed_time": 99.10115789,
                        "iteration": 626,
                        "remaining_time": 58.9549153,
                        "learn": [
                          0.3290078858
                        ]
                      },
                      {
                        "passed_time": 99.25202798,
                        "iteration": 627,
                        "remaining_time": 58.79260256,
                        "learn": [
                          0.3287643673
                        ]
                      },
                      {
                        "passed_time": 99.40240237,
                        "iteration": 628,
                        "remaining_time": 58.63003383,
                        "learn": [
                          0.3284346081
                        ]
                      },
                      {
                        "passed_time": 99.55035312,
                        "iteration": 629,
                        "remaining_time": 58.4660804,
                        "learn": [
                          0.3281633091
                        ]
                      },
                      {
                        "passed_time": 99.743088,
                        "iteration": 630,
                        "remaining_time": 58.32836683,
                        "learn": [
                          0.3279057199
                        ]
                      },
                      {
                        "passed_time": 99.89292566,
                        "iteration": 631,
                        "remaining_time": 58.16550102,
                        "learn": [
                          0.3277115628
                        ]
                      },
                      {
                        "passed_time": 100.0526301,
                        "iteration": 632,
                        "remaining_time": 58.00839691,
                        "learn": [
                          0.3274662762
                        ]
                      },
                      {
                        "passed_time": 100.2112963,
                        "iteration": 633,
                        "remaining_time": 57.85068523,
                        "learn": [
                          0.3271634141
                        ]
                      },
                      {
                        "passed_time": 100.3575211,
                        "iteration": 634,
                        "remaining_time": 57.68581919,
                        "learn": [
                          0.3269495473
                        ]
                      },
                      {
                        "passed_time": 100.505547,
                        "iteration": 635,
                        "remaining_time": 57.52204262,
                        "learn": [
                          0.3267616732
                        ]
                      },
                      {
                        "passed_time": 100.6547835,
                        "iteration": 636,
                        "remaining_time": 57.35900535,
                        "learn": [
                          0.3265013073
                        ]
                      },
                      {
                        "passed_time": 100.8461491,
                        "iteration": 637,
                        "remaining_time": 57.2199153,
                        "learn": [
                          0.3262628343
                        ]
                      },
                      {
                        "passed_time": 101.003211,
                        "iteration": 638,
                        "remaining_time": 57.06128197,
                        "learn": [
                          0.326019612
                        ]
                      },
                      {
                        "passed_time": 101.1602809,
                        "iteration": 639,
                        "remaining_time": 56.90265802,
                        "learn": [
                          0.3257778996
                        ]
                      },
                      {
                        "passed_time": 101.3149435,
                        "iteration": 640,
                        "remaining_time": 56.74269067,
                        "learn": [
                          0.3255172152
                        ]
                      },
                      {
                        "passed_time": 101.4646248,
                        "iteration": 641,
                        "remaining_time": 56.57996209,
                        "learn": [
                          0.3252529003
                        ]
                      },
                      {
                        "passed_time": 101.6173615,
                        "iteration": 642,
                        "remaining_time": 56.41897054,
                        "learn": [
                          0.3250204295
                        ]
                      },
                      {
                        "passed_time": 101.8059206,
                        "iteration": 643,
                        "remaining_time": 56.27780703,
                        "learn": [
                          0.3247952462
                        ]
                      },
                      {
                        "passed_time": 101.9592749,
                        "iteration": 644,
                        "remaining_time": 56.11712028,
                        "learn": [
                          0.3245909772
                        ]
                      },
                      {
                        "passed_time": 102.1268436,
                        "iteration": 645,
                        "remaining_time": 55.96424556,
                        "learn": [
                          0.3243484384
                        ]
                      },
                      {
                        "passed_time": 102.2760459,
                        "iteration": 646,
                        "remaining_time": 55.8013048,
                        "learn": [
                          0.3241437089
                        ]
                      },
                      {
                        "passed_time": 102.4227525,
                        "iteration": 647,
                        "remaining_time": 55.63705076,
                        "learn": [
                          0.3238668232
                        ]
                      },
                      {
                        "passed_time": 102.5791827,
                        "iteration": 648,
                        "remaining_time": 55.4781096,
                        "learn": [
                          0.3235602532
                        ]
                      },
                      {
                        "passed_time": 102.7270575,
                        "iteration": 649,
                        "remaining_time": 55.31456942,
                        "learn": [
                          0.3233466766
                        ]
                      },
                      {
                        "passed_time": 102.9162338,
                        "iteration": 650,
                        "remaining_time": 55.17321907,
                        "learn": [
                          0.3231756824
                        ]
                      },
                      {
                        "passed_time": 103.0713024,
                        "iteration": 651,
                        "remaining_time": 55.01351723,
                        "learn": [
                          0.3228218213
                        ]
                      },
                      {
                        "passed_time": 103.2262083,
                        "iteration": 652,
                        "remaining_time": 54.85374317,
                        "learn": [
                          0.3225865655
                        ]
                      },
                      {
                        "passed_time": 103.377175,
                        "iteration": 653,
                        "remaining_time": 54.69189991,
                        "learn": [
                          0.3223666853
                        ]
                      },
                      {
                        "passed_time": 103.5266386,
                        "iteration": 654,
                        "remaining_time": 54.52929819,
                        "learn": [
                          0.3221272185
                        ]
                      },
                      {
                        "passed_time": 103.6782044,
                        "iteration": 655,
                        "remaining_time": 54.3678389,
                        "learn": [
                          0.3219034974
                        ]
                      },
                      {
                        "passed_time": 103.8532033,
                        "iteration": 656,
                        "remaining_time": 54.21864342,
                        "learn": [
                          0.3216023371
                        ]
                      },
                      {
                        "passed_time": 104.0251198,
                        "iteration": 657,
                        "remaining_time": 54.06776743,
                        "learn": [
                          0.3213909461
                        ]
                      },
                      {
                        "passed_time": 104.1845377,
                        "iteration": 658,
                        "remaining_time": 53.91036016,
                        "learn": [
                          0.3211126756
                        ]
                      },
                      {
                        "passed_time": 104.3361596,
                        "iteration": 659,
                        "remaining_time": 53.74893068,
                        "learn": [
                          0.3208539744
                        ]
                      },
                      {
                        "passed_time": 104.4875228,
                        "iteration": 660,
                        "remaining_time": 53.58739823,
                        "learn": [
                          0.3206261092
                        ]
                      },
                      {
                        "passed_time": 104.6417771,
                        "iteration": 661,
                        "remaining_time": 53.4273726,
                        "learn": [
                          0.3203456466
                        ]
                      },
                      {
                        "passed_time": 104.7885146,
                        "iteration": 662,
                        "remaining_time": 53.26354362,
                        "learn": [
                          0.3201495142
                        ]
                      },
                      {
                        "passed_time": 104.9813102,
                        "iteration": 663,
                        "remaining_time": 53.12307261,
                        "learn": [
                          0.3199153725
                        ]
                      },
                      {
                        "passed_time": 105.1303613,
                        "iteration": 664,
                        "remaining_time": 52.96040757,
                        "learn": [
                          0.3196911842
                        ]
                      },
                      {
                        "passed_time": 105.2943358,
                        "iteration": 665,
                        "remaining_time": 52.80526751,
                        "learn": [
                          0.319456531
                        ]
                      },
                      {
                        "passed_time": 105.4451385,
                        "iteration": 666,
                        "remaining_time": 52.64352493,
                        "learn": [
                          0.3192212399
                        ]
                      },
                      {
                        "passed_time": 105.5954904,
                        "iteration": 667,
                        "remaining_time": 52.48159102,
                        "learn": [
                          0.3190005825
                        ]
                      },
                      {
                        "passed_time": 105.7457046,
                        "iteration": 668,
                        "remaining_time": 52.31962363,
                        "learn": [
                          0.31874717
                        ]
                      },
                      {
                        "passed_time": 105.9061303,
                        "iteration": 669,
                        "remaining_time": 52.16272092,
                        "learn": [
                          0.318513368
                        ]
                      },
                      {
                        "passed_time": 106.1268866,
                        "iteration": 670,
                        "remaining_time": 52.0353885,
                        "learn": [
                          0.318201766
                        ]
                      },
                      {
                        "passed_time": 106.2843065,
                        "iteration": 671,
                        "remaining_time": 51.87686388,
                        "learn": [
                          0.3179966741
                        ]
                      },
                      {
                        "passed_time": 106.431478,
                        "iteration": 672,
                        "remaining_time": 51.713363,
                        "learn": [
                          0.317834917
                        ]
                      },
                      {
                        "passed_time": 106.581643,
                        "iteration": 673,
                        "remaining_time": 51.55135849,
                        "learn": [
                          0.3175910929
                        ]
                      },
                      {
                        "passed_time": 106.7360517,
                        "iteration": 674,
                        "remaining_time": 51.39143232,
                        "learn": [
                          0.3173180077
                        ]
                      },
                      {
                        "passed_time": 106.8862921,
                        "iteration": 675,
                        "remaining_time": 51.2295246,
                        "learn": [
                          0.3170546022
                        ]
                      },
                      {
                        "passed_time": 107.0833195,
                        "iteration": 676,
                        "remaining_time": 51.08997369,
                        "learn": [
                          0.3168238884
                        ]
                      },
                      {
                        "passed_time": 107.2442505,
                        "iteration": 677,
                        "remaining_time": 50.93311014,
                        "learn": [
                          0.3165993484
                        ]
                      },
                      {
                        "passed_time": 107.3939418,
                        "iteration": 678,
                        "remaining_time": 50.77092096,
                        "learn": [
                          0.316397909
                        ]
                      },
                      {
                        "passed_time": 107.5463723,
                        "iteration": 679,
                        "remaining_time": 50.61005754,
                        "learn": [
                          0.316184375
                        ]
                      },
                      {
                        "passed_time": 107.6952473,
                        "iteration": 680,
                        "remaining_time": 50.44755344,
                        "learn": [
                          0.3160211258
                        ]
                      },
                      {
                        "passed_time": 107.8459486,
                        "iteration": 681,
                        "remaining_time": 50.28594085,
                        "learn": [
                          0.3157765397
                        ]
                      },
                      {
                        "passed_time": 108.0239644,
                        "iteration": 682,
                        "remaining_time": 50.13703767,
                        "learn": [
                          0.3155344254
                        ]
                      },
                      {
                        "passed_time": 108.1856759,
                        "iteration": 683,
                        "remaining_time": 49.98051694,
                        "learn": [
                          0.3152588862
                        ]
                      },
                      {
                        "passed_time": 108.342358,
                        "iteration": 684,
                        "remaining_time": 49.82166829,
                        "learn": [
                          0.3150292042
                        ]
                      },
                      {
                        "passed_time": 108.5028446,
                        "iteration": 685,
                        "remaining_time": 49.66456737,
                        "learn": [
                          0.3148356964
                        ]
                      },
                      {
                        "passed_time": 108.6527373,
                        "iteration": 686,
                        "remaining_time": 49.50262996,
                        "learn": [
                          0.3146120765
                        ]
                      },
                      {
                        "passed_time": 108.8113691,
                        "iteration": 687,
                        "remaining_time": 49.34469066,
                        "learn": [
                          0.3144086758
                        ]
                      },
                      {
                        "passed_time": 108.9578204,
                        "iteration": 688,
                        "remaining_time": 49.1812513,
                        "learn": [
                          0.3142508783
                        ]
                      },
                      {
                        "passed_time": 109.1526958,
                        "iteration": 689,
                        "remaining_time": 49.03961698,
                        "learn": [
                          0.3139808098
                        ]
                      },
                      {
                        "passed_time": 109.3099868,
                        "iteration": 690,
                        "remaining_time": 48.88102157,
                        "learn": [
                          0.313722907
                        ]
                      },
                      {
                        "passed_time": 109.4583805,
                        "iteration": 691,
                        "remaining_time": 48.71846993,
                        "learn": [
                          0.313542598
                        ]
                      },
                      {
                        "passed_time": 109.6070341,
                        "iteration": 692,
                        "remaining_time": 48.55607426,
                        "learn": [
                          0.3133408202
                        ]
                      },
                      {
                        "passed_time": 109.7561875,
                        "iteration": 693,
                        "remaining_time": 48.39393856,
                        "learn": [
                          0.3131423428
                        ]
                      },
                      {
                        "passed_time": 109.9093096,
                        "iteration": 694,
                        "remaining_time": 48.23358192,
                        "learn": [
                          0.3129276759
                        ]
                      },
                      {
                        "passed_time": 110.0551069,
                        "iteration": 695,
                        "remaining_time": 48.07004669,
                        "learn": [
                          0.3127242229
                        ]
                      },
                      {
                        "passed_time": 110.2409835,
                        "iteration": 696,
                        "remaining_time": 47.92398566,
                        "learn": [
                          0.3125634618
                        ]
                      },
                      {
                        "passed_time": 110.3953895,
                        "iteration": 697,
                        "remaining_time": 47.76419431,
                        "learn": [
                          0.3123912312
                        ]
                      },
                      {
                        "passed_time": 110.5496305,
                        "iteration": 698,
                        "remaining_time": 47.60434732,
                        "learn": [
                          0.3121752723
                        ]
                      },
                      {
                        "passed_time": 110.6986071,
                        "iteration": 699,
                        "remaining_time": 47.4422602,
                        "learn": [
                          0.311939162
                        ]
                      },
                      {
                        "passed_time": 110.8568811,
                        "iteration": 700,
                        "remaining_time": 47.28417612,
                        "learn": [
                          0.3116151673
                        ]
                      },
                      {
                        "passed_time": 111.004895,
                        "iteration": 701,
                        "remaining_time": 47.12173606,
                        "learn": [
                          0.3113946496
                        ]
                      },
                      {
                        "passed_time": 111.1765349,
                        "iteration": 702,
                        "remaining_time": 46.96931844,
                        "learn": [
                          0.3111705634
                        ]
                      },
                      {
                        "passed_time": 111.3614265,
                        "iteration": 703,
                        "remaining_time": 46.82241797,
                        "learn": [
                          0.3109163162
                        ]
                      },
                      {
                        "passed_time": 111.5111325,
                        "iteration": 704,
                        "remaining_time": 46.66068665,
                        "learn": [
                          0.3107194815
                        ]
                      },
                      {
                        "passed_time": 111.6559113,
                        "iteration": 705,
                        "remaining_time": 46.49693755,
                        "learn": [
                          0.3105381286
                        ]
                      },
                      {
                        "passed_time": 111.8100021,
                        "iteration": 706,
                        "remaining_time": 46.3371013,
                        "learn": [
                          0.3102925857
                        ]
                      },
                      {
                        "passed_time": 111.9561048,
                        "iteration": 707,
                        "remaining_time": 46.17398674,
                        "learn": [
                          0.3101353636
                        ]
                      },
                      {
                        "passed_time": 112.105028,
                        "iteration": 708,
                        "remaining_time": 46.01207779,
                        "learn": [
                          0.3099412181
                        ]
                      },
                      {
                        "passed_time": 112.3004434,
                        "iteration": 709,
                        "remaining_time": 45.86919518,
                        "learn": [
                          0.3097301384
                        ]
                      },
                      {
                        "passed_time": 112.4475008,
                        "iteration": 710,
                        "remaining_time": 45.70650875,
                        "learn": [
                          0.3095239994
                        ]
                      },
                      {
                        "passed_time": 112.6062938,
                        "iteration": 711,
                        "remaining_time": 45.54861321,
                        "learn": [
                          0.3092992442
                        ]
                      },
                      {
                        "passed_time": 112.7550372,
                        "iteration": 712,
                        "remaining_time": 45.38666997,
                        "learn": [
                          0.3090983606
                        ]
                      },
                      {
                        "passed_time": 112.9060976,
                        "iteration": 713,
                        "remaining_time": 45.22569175,
                        "learn": [
                          0.308839554
                        ]
                      },
                      {
                        "passed_time": 113.0542304,
                        "iteration": 714,
                        "remaining_time": 45.06357435,
                        "learn": [
                          0.3085968476
                        ]
                      },
                      {
                        "passed_time": 113.2007846,
                        "iteration": 715,
                        "remaining_time": 44.90086988,
                        "learn": [
                          0.3083521506
                        ]
                      },
                      {
                        "passed_time": 113.4106281,
                        "iteration": 716,
                        "remaining_time": 44.76319071,
                        "learn": [
                          0.3081257113
                        ]
                      },
                      {
                        "passed_time": 113.5577112,
                        "iteration": 717,
                        "remaining_time": 44.60066096,
                        "learn": [
                          0.3079094535
                        ]
                      },
                      {
                        "passed_time": 113.7107735,
                        "iteration": 718,
                        "remaining_time": 44.44051092,
                        "learn": [
                          0.3076906906
                        ]
                      },
                      {
                        "passed_time": 113.8590254,
                        "iteration": 719,
                        "remaining_time": 44.27850989,
                        "learn": [
                          0.3074704214
                        ]
                      },
                      {
                        "passed_time": 114.0054486,
                        "iteration": 720,
                        "remaining_time": 44.11583934,
                        "learn": [
                          0.3072632579
                        ]
                      },
                      {
                        "passed_time": 114.1571413,
                        "iteration": 721,
                        "remaining_time": 43.95524277,
                        "learn": [
                          0.3070649396
                        ]
                      },
                      {
                        "passed_time": 114.3391967,
                        "iteration": 722,
                        "remaining_time": 43.80630356,
                        "learn": [
                          0.3068762909
                        ]
                      },
                      {
                        "passed_time": 114.5183627,
                        "iteration": 723,
                        "remaining_time": 43.65617142,
                        "learn": [
                          0.3066197694
                        ]
                      },
                      {
                        "passed_time": 114.6740204,
                        "iteration": 724,
                        "remaining_time": 43.49704221,
                        "learn": [
                          0.3063850328
                        ]
                      },
                      {
                        "passed_time": 114.8288359,
                        "iteration": 725,
                        "remaining_time": 43.33760474,
                        "learn": [
                          0.3061345338
                        ]
                      },
                      {
                        "passed_time": 114.980845,
                        "iteration": 726,
                        "remaining_time": 43.1771261,
                        "learn": [
                          0.3058605666
                        ]
                      },
                      {
                        "passed_time": 115.1367713,
                        "iteration": 727,
                        "remaining_time": 43.01813432,
                        "learn": [
                          0.3056200818
                        ]
                      },
                      {
                        "passed_time": 115.282708,
                        "iteration": 728,
                        "remaining_time": 42.85543739,
                        "learn": [
                          0.3053604854
                        ]
                      },
                      {
                        "passed_time": 115.4893503,
                        "iteration": 729,
                        "remaining_time": 42.71523915,
                        "learn": [
                          0.305143333
                        ]
                      },
                      {
                        "passed_time": 115.634557,
                        "iteration": 730,
                        "remaining_time": 42.55225148,
                        "learn": [
                          0.3049386958
                        ]
                      },
                      {
                        "passed_time": 115.7862971,
                        "iteration": 731,
                        "remaining_time": 42.39170442,
                        "learn": [
                          0.3047372787
                        ]
                      },
                      {
                        "passed_time": 115.9336347,
                        "iteration": 732,
                        "remaining_time": 42.22957771,
                        "learn": [
                          0.3044674587
                        ]
                      },
                      {
                        "passed_time": 116.0815766,
                        "iteration": 733,
                        "remaining_time": 42.06771032,
                        "learn": [
                          0.3042182496
                        ]
                      },
                      {
                        "passed_time": 116.2331784,
                        "iteration": 734,
                        "remaining_time": 41.90720039,
                        "learn": [
                          0.3039651173
                        ]
                      },
                      {
                        "passed_time": 116.3882177,
                        "iteration": 735,
                        "remaining_time": 41.74794765,
                        "learn": [
                          0.303757495
                        ]
                      },
                      {
                        "passed_time": 116.5866758,
                        "iteration": 736,
                        "remaining_time": 41.60420046,
                        "learn": [
                          0.3035041493
                        ]
                      },
                      {
                        "passed_time": 116.7384737,
                        "iteration": 737,
                        "remaining_time": 41.44374,
                        "learn": [
                          0.3032901114
                        ]
                      },
                      {
                        "passed_time": 116.8939415,
                        "iteration": 738,
                        "remaining_time": 41.28459908,
                        "learn": [
                          0.3030684097
                        ]
                      },
                      {
                        "passed_time": 117.0434469,
                        "iteration": 739,
                        "remaining_time": 41.12337324,
                        "learn": [
                          0.3028289997
                        ]
                      },
                      {
                        "passed_time": 117.1914614,
                        "iteration": 740,
                        "remaining_time": 40.96165791,
                        "learn": [
                          0.3025948814
                        ]
                      },
                      {
                        "passed_time": 117.3403566,
                        "iteration": 741,
                        "remaining_time": 40.80028571,
                        "learn": [
                          0.3023070178
                        ]
                      },
                      {
                        "passed_time": 117.5233796,
                        "iteration": 742,
                        "remaining_time": 40.65075175,
                        "learn": [
                          0.30207965
                        ]
                      },
                      {
                        "passed_time": 117.6980902,
                        "iteration": 743,
                        "remaining_time": 40.49826759,
                        "learn": [
                          0.3018808495
                        ]
                      },
                      {
                        "passed_time": 117.8560226,
                        "iteration": 744,
                        "remaining_time": 40.3399809,
                        "learn": [
                          0.3016709165
                        ]
                      },
                      {
                        "passed_time": 118.0057258,
                        "iteration": 745,
                        "remaining_time": 40.17889323,
                        "learn": [
                          0.3014689121
                        ]
                      },
                      {
                        "passed_time": 118.1561367,
                        "iteration": 746,
                        "remaining_time": 40.01807574,
                        "learn": [
                          0.3012400171
                        ]
                      },
                      {
                        "passed_time": 118.3052448,
                        "iteration": 747,
                        "remaining_time": 39.85684718,
                        "learn": [
                          0.3010024204
                        ]
                      },
                      {
                        "passed_time": 118.4630082,
                        "iteration": 748,
                        "remaining_time": 39.69855147,
                        "learn": [
                          0.3007868437
                        ]
                      },
                      {
                        "passed_time": 118.6525328,
                        "iteration": 749,
                        "remaining_time": 39.55084428,
                        "learn": [
                          0.3006358298
                        ]
                      },
                      {
                        "passed_time": 118.800402,
                        "iteration": 750,
                        "remaining_time": 39.38921453,
                        "learn": [
                          0.300431842
                        ]
                      },
                      {
                        "passed_time": 118.9627678,
                        "iteration": 751,
                        "remaining_time": 39.23240214,
                        "learn": [
                          0.3002073606
                        ]
                      },
                      {
                        "passed_time": 119.1122709,
                        "iteration": 752,
                        "remaining_time": 39.07135579,
                        "learn": [
                          0.2999837316
                        ]
                      },
                      {
                        "passed_time": 119.2623811,
                        "iteration": 753,
                        "remaining_time": 38.91053812,
                        "learn": [
                          0.2997345307
                        ]
                      },
                      {
                        "passed_time": 119.4253545,
                        "iteration": 754,
                        "remaining_time": 38.75392297,
                        "learn": [
                          0.2994858475
                        ]
                      },
                      {
                        "passed_time": 119.5751858,
                        "iteration": 755,
                        "remaining_time": 38.59304939,
                        "learn": [
                          0.2992576218
                        ]
                      },
                      {
                        "passed_time": 119.7749185,
                        "iteration": 756,
                        "remaining_time": 38.44822351,
                        "learn": [
                          0.2990501427
                        ]
                      },
                      {
                        "passed_time": 119.9280284,
                        "iteration": 757,
                        "remaining_time": 38.28836789,
                        "learn": [
                          0.2987825169
                        ]
                      },
                      {
                        "passed_time": 120.0730897,
                        "iteration": 758,
                        "remaining_time": 38.12597446,
                        "learn": [
                          0.2986107759
                        ]
                      },
                      {
                        "passed_time": 120.224323,
                        "iteration": 759,
                        "remaining_time": 37.96557567,
                        "learn": [
                          0.2983675082
                        ]
                      },
                      {
                        "passed_time": 120.380258,
                        "iteration": 760,
                        "remaining_time": 37.80667762,
                        "learn": [
                          0.2980844577
                        ]
                      },
                      {
                        "passed_time": 120.5364023,
                        "iteration": 761,
                        "remaining_time": 37.64785269,
                        "learn": [
                          0.2978519688
                        ]
                      },
                      {
                        "passed_time": 120.7167734,
                        "iteration": 762,
                        "remaining_time": 37.49656002,
                        "learn": [
                          0.2976493361
                        ]
                      },
                      {
                        "passed_time": 120.8770026,
                        "iteration": 763,
                        "remaining_time": 37.3389694,
                        "learn": [
                          0.2974876733
                        ]
                      },
                      {
                        "passed_time": 121.0264164,
                        "iteration": 764,
                        "remaining_time": 37.17804949,
                        "learn": [
                          0.2972959575
                        ]
                      },
                      {
                        "passed_time": 121.1754916,
                        "iteration": 765,
                        "remaining_time": 37.01705618,
                        "learn": [
                          0.2971288808
                        ]
                      },
                      {
                        "passed_time": 121.3222617,
                        "iteration": 766,
                        "remaining_time": 36.85539371,
                        "learn": [
                          0.2969422645
                        ]
                      },
                      {
                        "passed_time": 121.481932,
                        "iteration": 767,
                        "remaining_time": 36.69766695,
                        "learn": [
                          0.2967099721
                        ]
                      },
                      {
                        "passed_time": 121.6286109,
                        "iteration": 768,
                        "remaining_time": 36.53603266,
                        "learn": [
                          0.296458164
                        ]
                      },
                      {
                        "passed_time": 121.8215671,
                        "iteration": 769,
                        "remaining_time": 36.38826032,
                        "learn": [
                          0.2962310598
                        ]
                      },
                      {
                        "passed_time": 121.9719485,
                        "iteration": 770,
                        "remaining_time": 36.22772531,
                        "learn": [
                          0.2960342481
                        ]
                      },
                      {
                        "passed_time": 122.1209426,
                        "iteration": 771,
                        "remaining_time": 36.06680687,
                        "learn": [
                          0.2958064155
                        ]
                      },
                      {
                        "passed_time": 122.2664413,
                        "iteration": 772,
                        "remaining_time": 35.90489285,
                        "learn": [
                          0.2956040238
                        ]
                      },
                      {
                        "passed_time": 122.4210883,
                        "iteration": 773,
                        "remaining_time": 35.74569245,
                        "learn": [
                          0.2953136439
                        ]
                      },
                      {
                        "passed_time": 122.5826751,
                        "iteration": 774,
                        "remaining_time": 35.58851857,
                        "learn": [
                          0.2950406555
                        ]
                      },
                      {
                        "passed_time": 122.7311681,
                        "iteration": 775,
                        "remaining_time": 35.42755366,
                        "learn": [
                          0.29483374
                        ]
                      },
                      {
                        "passed_time": 122.9366267,
                        "iteration": 776,
                        "remaining_time": 35.28297007,
                        "learn": [
                          0.2946010746
                        ]
                      },
                      {
                        "passed_time": 123.0920395,
                        "iteration": 777,
                        "remaining_time": 35.12394957,
                        "learn": [
                          0.2943506036
                        ]
                      },
                      {
                        "passed_time": 123.2466685,
                        "iteration": 778,
                        "remaining_time": 34.96471598,
                        "learn": [
                          0.2940997502
                        ]
                      },
                      {
                        "passed_time": 123.398289,
                        "iteration": 779,
                        "remaining_time": 34.80464561,
                        "learn": [
                          0.2939093714
                        ]
                      },
                      {
                        "passed_time": 123.5521807,
                        "iteration": 780,
                        "remaining_time": 34.64523376,
                        "learn": [
                          0.2937290464
                        ]
                      },
                      {
                        "passed_time": 123.6969593,
                        "iteration": 781,
                        "remaining_time": 34.48329555,
                        "learn": [
                          0.2935608109
                        ]
                      },
                      {
                        "passed_time": 123.9372886,
                        "iteration": 782,
                        "remaining_time": 34.34788204,
                        "learn": [
                          0.29334563
                        ]
                      },
                      {
                        "passed_time": 124.1141277,
                        "iteration": 783,
                        "remaining_time": 34.19470866,
                        "learn": [
                          0.2930825909
                        ]
                      },
                      {
                        "passed_time": 124.2604629,
                        "iteration": 784,
                        "remaining_time": 34.03312041,
                        "learn": [
                          0.2929139012
                        ]
                      },
                      {
                        "passed_time": 124.4118602,
                        "iteration": 785,
                        "remaining_time": 33.87294921,
                        "learn": [
                          0.2926831529
                        ]
                      },
                      {
                        "passed_time": 124.5709186,
                        "iteration": 786,
                        "remaining_time": 33.71487378,
                        "learn": [
                          0.2924693579
                        ]
                      },
                      {
                        "passed_time": 124.7170663,
                        "iteration": 787,
                        "remaining_time": 33.5533224,
                        "learn": [
                          0.2923107839
                        ]
                      },
                      {
                        "passed_time": 124.8693338,
                        "iteration": 788,
                        "remaining_time": 33.39344669,
                        "learn": [
                          0.2920405292
                        ]
                      },
                      {
                        "passed_time": 125.0746352,
                        "iteration": 789,
                        "remaining_time": 33.24768783,
                        "learn": [
                          0.2918362432
                        ]
                      },
                      {
                        "passed_time": 125.2240467,
                        "iteration": 790,
                        "remaining_time": 33.08701109,
                        "learn": [
                          0.291636447
                        ]
                      },
                      {
                        "passed_time": 125.3738853,
                        "iteration": 791,
                        "remaining_time": 32.92647493,
                        "learn": [
                          0.2914508874
                        ]
                      },
                      {
                        "passed_time": 125.5260427,
                        "iteration": 792,
                        "remaining_time": 32.76657103,
                        "learn": [
                          0.2912274644
                        ]
                      },
                      {
                        "passed_time": 125.679813,
                        "iteration": 793,
                        "remaining_time": 32.60710513,
                        "learn": [
                          0.2910395142
                        ]
                      },
                      {
                        "passed_time": 125.8303015,
                        "iteration": 794,
                        "remaining_time": 32.44680732,
                        "learn": [
                          0.2907902165
                        ]
                      },
                      {
                        "passed_time": 125.9757504,
                        "iteration": 795,
                        "remaining_time": 32.28524256,
                        "learn": [
                          0.2905838341
                        ]
                      },
                      {
                        "passed_time": 126.1755395,
                        "iteration": 796,
                        "remaining_time": 32.137559,
                        "learn": [
                          0.2904025957
                        ]
                      },
                      {
                        "passed_time": 126.3294408,
                        "iteration": 797,
                        "remaining_time": 31.97812912,
                        "learn": [
                          0.2902113706
                        ]
                      },
                      {
                        "passed_time": 126.4797225,
                        "iteration": 798,
                        "remaining_time": 31.81780254,
                        "learn": [
                          0.2900381656
                        ]
                      },
                      {
                        "passed_time": 126.6386764,
                        "iteration": 799,
                        "remaining_time": 31.6596691,
                        "learn": [
                          0.2898511028
                        ]
                      },
                      {
                        "passed_time": 126.7867291,
                        "iteration": 800,
                        "remaining_time": 31.49882533,
                        "learn": [
                          0.2896974862
                        ]
                      },
                      {
                        "passed_time": 126.9376693,
                        "iteration": 801,
                        "remaining_time": 31.33872634,
                        "learn": [
                          0.2894862025
                        ]
                      },
                      {
                        "passed_time": 127.1125999,
                        "iteration": 802,
                        "remaining_time": 31.18453572,
                        "learn": [
                          0.2892492715
                        ]
                      },
                      {
                        "passed_time": 127.2786851,
                        "iteration": 803,
                        "remaining_time": 31.02813715,
                        "learn": [
                          0.2890386551
                        ]
                      },
                      {
                        "passed_time": 127.4378698,
                        "iteration": 804,
                        "remaining_time": 30.870043,
                        "learn": [
                          0.2888479723
                        ]
                      },
                      {
                        "passed_time": 127.6026141,
                        "iteration": 805,
                        "remaining_time": 30.71328429,
                        "learn": [
                          0.2886418323
                        ]
                      },
                      {
                        "passed_time": 127.7592759,
                        "iteration": 806,
                        "remaining_time": 30.55457279,
                        "learn": [
                          0.2884032088
                        ]
                      },
                      {
                        "passed_time": 127.9129729,
                        "iteration": 807,
                        "remaining_time": 30.39516187,
                        "learn": [
                          0.2881628995
                        ]
                      },
                      {
                        "passed_time": 128.0620076,
                        "iteration": 808,
                        "remaining_time": 30.23466435,
                        "learn": [
                          0.2879386642
                        ]
                      },
                      {
                        "passed_time": 128.2582131,
                        "iteration": 809,
                        "remaining_time": 30.08525987,
                        "learn": [
                          0.2877504503
                        ]
                      },
                      {
                        "passed_time": 128.4134902,
                        "iteration": 810,
                        "remaining_time": 29.92620177,
                        "learn": [
                          0.2875690267
                        ]
                      },
                      {
                        "passed_time": 128.5673432,
                        "iteration": 811,
                        "remaining_time": 29.76682329,
                        "learn": [
                          0.2873983938
                        ]
                      },
                      {
                        "passed_time": 128.729379,
                        "iteration": 812,
                        "remaining_time": 29.60934056,
                        "learn": [
                          0.2871954647
                        ]
                      },
                      {
                        "passed_time": 128.8817059,
                        "iteration": 813,
                        "remaining_time": 29.44962814,
                        "learn": [
                          0.2869507395
                        ]
                      },
                      {
                        "passed_time": 129.0277312,
                        "iteration": 814,
                        "remaining_time": 29.28850341,
                        "learn": [
                          0.2867639227
                        ]
                      },
                      {
                        "passed_time": 129.2068537,
                        "iteration": 815,
                        "remaining_time": 29.13487879,
                        "learn": [
                          0.28656749
                        ]
                      },
                      {
                        "passed_time": 129.378237,
                        "iteration": 816,
                        "remaining_time": 28.97945824,
                        "learn": [
                          0.2863575504
                        ]
                      },
                      {
                        "passed_time": 129.5301818,
                        "iteration": 817,
                        "remaining_time": 28.81967371,
                        "learn": [
                          0.2861269866
                        ]
                      },
                      {
                        "passed_time": 129.6952048,
                        "iteration": 818,
                        "remaining_time": 28.66279862,
                        "learn": [
                          0.2859182352
                        ]
                      },
                      {
                        "passed_time": 129.8419882,
                        "iteration": 819,
                        "remaining_time": 28.50189984,
                        "learn": [
                          0.2857244569
                        ]
                      },
                      {
                        "passed_time": 129.9903307,
                        "iteration": 820,
                        "remaining_time": 28.3413754,
                        "learn": [
                          0.2855488799
                        ]
                      },
                      {
                        "passed_time": 130.1357329,
                        "iteration": 821,
                        "remaining_time": 28.18024386,
                        "learn": [
                          0.2853520805
                        ]
                      },
                      {
                        "passed_time": 130.3383878,
                        "iteration": 822,
                        "remaining_time": 28.03146373,
                        "learn": [
                          0.2851368966
                        ]
                      },
                      {
                        "passed_time": 130.4924049,
                        "iteration": 823,
                        "remaining_time": 27.87216415,
                        "learn": [
                          0.284870884
                        ]
                      },
                      {
                        "passed_time": 130.6540949,
                        "iteration": 824,
                        "remaining_time": 27.71450498,
                        "learn": [
                          0.2846549072
                        ]
                      },
                      {
                        "passed_time": 130.8040388,
                        "iteration": 825,
                        "remaining_time": 27.55436168,
                        "learn": [
                          0.2845160532
                        ]
                      },
                      {
                        "passed_time": 130.9550941,
                        "iteration": 826,
                        "remaining_time": 27.39447556,
                        "learn": [
                          0.2843548213
                        ]
                      },
                      {
                        "passed_time": 131.1010094,
                        "iteration": 827,
                        "remaining_time": 27.23354302,
                        "learn": [
                          0.2841445839
                        ]
                      },
                      {
                        "passed_time": 131.2532196,
                        "iteration": 828,
                        "remaining_time": 27.07394518,
                        "learn": [
                          0.2839110578
                        ]
                      },
                      {
                        "passed_time": 131.4535251,
                        "iteration": 829,
                        "remaining_time": 26.92421598,
                        "learn": [
                          0.2836830223
                        ]
                      },
                      {
                        "passed_time": 131.5986715,
                        "iteration": 830,
                        "remaining_time": 26.76314739,
                        "learn": [
                          0.2834353468
                        ]
                      },
                      {
                        "passed_time": 131.7646262,
                        "iteration": 831,
                        "remaining_time": 26.60631875,
                        "learn": [
                          0.2832297416
                        ]
                      },
                      {
                        "passed_time": 131.9217871,
                        "iteration": 832,
                        "remaining_time": 26.44770521,
                        "learn": [
                          0.2830015656
                        ]
                      },
                      {
                        "passed_time": 132.072192,
                        "iteration": 833,
                        "remaining_time": 26.28775044,
                        "learn": [
                          0.2827907491
                        ]
                      },
                      {
                        "passed_time": 132.2189426,
                        "iteration": 834,
                        "remaining_time": 26.12709643,
                        "learn": [
                          0.282588217
                        ]
                      },
                      {
                        "passed_time": 132.3668112,
                        "iteration": 835,
                        "remaining_time": 25.96669503,
                        "learn": [
                          0.2824000152
                        ]
                      },
                      {
                        "passed_time": 132.5708531,
                        "iteration": 836,
                        "remaining_time": 25.81726291,
                        "learn": [
                          0.2821831062
                        ]
                      },
                      {
                        "passed_time": 132.7246503,
                        "iteration": 837,
                        "remaining_time": 25.65798728,
                        "learn": [
                          0.2819895403
                        ]
                      },
                      {
                        "passed_time": 132.8796165,
                        "iteration": 838,
                        "remaining_time": 25.49894905,
                        "learn": [
                          0.2818060618
                        ]
                      },
                      {
                        "passed_time": 133.0323801,
                        "iteration": 839,
                        "remaining_time": 25.33950097,
                        "learn": [
                          0.2815407256
                        ]
                      },
                      {
                        "passed_time": 133.1838108,
                        "iteration": 840,
                        "remaining_time": 25.17981679,
                        "learn": [
                          0.2812722662
                        ]
                      },
                      {
                        "passed_time": 133.3371717,
                        "iteration": 841,
                        "remaining_time": 25.0205144,
                        "learn": [
                          0.2810625596
                        ]
                      },
                      {
                        "passed_time": 133.5107409,
                        "iteration": 842,
                        "remaining_time": 24.86498971,
                        "learn": [
                          0.2808868522
                        ]
                      },
                      {
                        "passed_time": 133.6973146,
                        "iteration": 843,
                        "remaining_time": 24.71182592,
                        "learn": [
                          0.2806878186
                        ]
                      },
                      {
                        "passed_time": 133.8521848,
                        "iteration": 844,
                        "remaining_time": 24.55276763,
                        "learn": [
                          0.2804780687
                        ]
                      },
                      {
                        "passed_time": 134.0005502,
                        "iteration": 845,
                        "remaining_time": 24.39253514,
                        "learn": [
                          0.2802865195
                        ]
                      },
                      {
                        "passed_time": 134.1502336,
                        "iteration": 846,
                        "remaining_time": 24.23256877,
                        "learn": [
                          0.2800292333
                        ]
                      },
                      {
                        "passed_time": 134.3014376,
                        "iteration": 847,
                        "remaining_time": 24.07289919,
                        "learn": [
                          0.2797969383
                        ]
                      },
                      {
                        "passed_time": 134.4517298,
                        "iteration": 848,
                        "remaining_time": 23.9130874,
                        "learn": [
                          0.279573406
                        ]
                      },
                      {
                        "passed_time": 134.6470805,
                        "iteration": 849,
                        "remaining_time": 23.76124951,
                        "learn": [
                          0.2794235531
                        ]
                      },
                      {
                        "passed_time": 134.8093935,
                        "iteration": 850,
                        "remaining_time": 23.60352483,
                        "learn": [
                          0.2792060143
                        ]
                      },
                      {
                        "passed_time": 134.9631782,
                        "iteration": 851,
                        "remaining_time": 23.44430795,
                        "learn": [
                          0.2789665102
                        ]
                      },
                      {
                        "passed_time": 135.1173752,
                        "iteration": 852,
                        "remaining_time": 23.28517486,
                        "learn": [
                          0.2786887158
                        ]
                      },
                      {
                        "passed_time": 135.2702335,
                        "iteration": 853,
                        "remaining_time": 23.12582446,
                        "learn": [
                          0.2784811391
                        ]
                      },
                      {
                        "passed_time": 135.4205318,
                        "iteration": 854,
                        "remaining_time": 22.9660551,
                        "learn": [
                          0.2782628786
                        ]
                      },
                      {
                        "passed_time": 135.5652351,
                        "iteration": 855,
                        "remaining_time": 22.80536666,
                        "learn": [
                          0.2781180937
                        ]
                      },
                      {
                        "passed_time": 135.7745808,
                        "iteration": 856,
                        "remaining_time": 22.65550182,
                        "learn": [
                          0.2779477691
                        ]
                      },
                      {
                        "passed_time": 135.9243097,
                        "iteration": 857,
                        "remaining_time": 22.49563167,
                        "learn": [
                          0.2777682927
                        ]
                      },
                      {
                        "passed_time": 136.0749271,
                        "iteration": 858,
                        "remaining_time": 22.335931,
                        "learn": [
                          0.2775912252
                        ]
                      },
                      {
                        "passed_time": 136.2214148,
                        "iteration": 859,
                        "remaining_time": 22.17557916,
                        "learn": [
                          0.2774152842
                        ]
                      },
                      {
                        "passed_time": 136.3719646,
                        "iteration": 860,
                        "remaining_time": 22.0159153,
                        "learn": [
                          0.2772083922
                        ]
                      },
                      {
                        "passed_time": 136.5226801,
                        "iteration": 861,
                        "remaining_time": 21.85629913,
                        "learn": [
                          0.2770485463
                        ]
                      },
                      {
                        "passed_time": 136.7068679,
                        "iteration": 862,
                        "remaining_time": 21.70201726,
                        "learn": [
                          0.2768186363
                        ]
                      },
                      {
                        "passed_time": 136.8804928,
                        "iteration": 863,
                        "remaining_time": 21.54600349,
                        "learn": [
                          0.2766219038
                        ]
                      },
                      {
                        "passed_time": 137.0318789,
                        "iteration": 864,
                        "remaining_time": 21.3864782,
                        "learn": [
                          0.2764258136
                        ]
                      },
                      {
                        "passed_time": 137.175376,
                        "iteration": 865,
                        "remaining_time": 21.22575102,
                        "learn": [
                          0.2762314069
                        ]
                      },
                      {
                        "passed_time": 137.328468,
                        "iteration": 866,
                        "remaining_time": 21.06653546,
                        "learn": [
                          0.2759888621
                        ]
                      },
                      {
                        "passed_time": 137.482001,
                        "iteration": 867,
                        "remaining_time": 20.90740107,
                        "learn": [
                          0.2757680943
                        ]
                      },
                      {
                        "passed_time": 137.6334861,
                        "iteration": 868,
                        "remaining_time": 20.74797086,
                        "learn": [
                          0.2755438567
                        ]
                      },
                      {
                        "passed_time": 137.8464271,
                        "iteration": 869,
                        "remaining_time": 20.59774198,
                        "learn": [
                          0.2753185909
                        ]
                      },
                      {
                        "passed_time": 137.9949426,
                        "iteration": 870,
                        "remaining_time": 20.43782732,
                        "learn": [
                          0.2751423223
                        ]
                      },
                      {
                        "passed_time": 138.1437238,
                        "iteration": 871,
                        "remaining_time": 20.2779778,
                        "learn": [
                          0.2750089734
                        ]
                      },
                      {
                        "passed_time": 138.2971791,
                        "iteration": 872,
                        "remaining_time": 20.11883361,
                        "learn": [
                          0.2747889244
                        ]
                      },
                      {
                        "passed_time": 138.449111,
                        "iteration": 873,
                        "remaining_time": 19.95948282,
                        "learn": [
                          0.2746270876
                        ]
                      },
                      {
                        "passed_time": 138.602944,
                        "iteration": 874,
                        "remaining_time": 19.80042057,
                        "learn": [
                          0.2744076269
                        ]
                      },
                      {
                        "passed_time": 138.7593838,
                        "iteration": 875,
                        "remaining_time": 19.64173926,
                        "learn": [
                          0.2741796853
                        ]
                      },
                      {
                        "passed_time": 138.9884485,
                        "iteration": 876,
                        "remaining_time": 19.49324876,
                        "learn": [
                          0.2740246867
                        ]
                      },
                      {
                        "passed_time": 139.1410731,
                        "iteration": 877,
                        "remaining_time": 19.33395321,
                        "learn": [
                          0.2737429938
                        ]
                      },
                      {
                        "passed_time": 139.2913239,
                        "iteration": 878,
                        "remaining_time": 19.17434606,
                        "learn": [
                          0.2735704967
                        ]
                      },
                      {
                        "passed_time": 139.436682,
                        "iteration": 879,
                        "remaining_time": 19.014093,
                        "learn": [
                          0.2733879345
                        ]
                      },
                      {
                        "passed_time": 139.5920541,
                        "iteration": 880,
                        "remaining_time": 18.85522638,
                        "learn": [
                          0.2731628938
                        ]
                      },
                      {
                        "passed_time": 139.7395598,
                        "iteration": 881,
                        "remaining_time": 18.69531526,
                        "learn": [
                          0.2729946193
                        ]
                      },
                      {
                        "passed_time": 139.929638,
                        "iteration": 882,
                        "remaining_time": 18.54107321,
                        "learn": [
                          0.2727850068
                        ]
                      },
                      {
                        "passed_time": 140.1028484,
                        "iteration": 883,
                        "remaining_time": 18.38453667,
                        "learn": [
                          0.2726316506
                        ]
                      },
                      {
                        "passed_time": 140.2554699,
                        "iteration": 884,
                        "remaining_time": 18.22528704,
                        "learn": [
                          0.2724762018
                        ]
                      },
                      {
                        "passed_time": 140.4117475,
                        "iteration": 885,
                        "remaining_time": 18.06652281,
                        "learn": [
                          0.2722346067
                        ]
                      },
                      {
                        "passed_time": 140.5690859,
                        "iteration": 886,
                        "remaining_time": 17.90789933,
                        "learn": [
                          0.2720224906
                        ]
                      },
                      {
                        "passed_time": 140.7196786,
                        "iteration": 887,
                        "remaining_time": 17.74842793,
                        "learn": [
                          0.2718253132
                        ]
                      },
                      {
                        "passed_time": 140.8796112,
                        "iteration": 888,
                        "remaining_time": 17.59014269,
                        "learn": [
                          0.2716743583
                        ]
                      },
                      {
                        "passed_time": 141.0793617,
                        "iteration": 889,
                        "remaining_time": 17.43677504,
                        "learn": [
                          0.2714817222
                        ]
                      },
                      {
                        "passed_time": 141.2316493,
                        "iteration": 890,
                        "remaining_time": 17.27749694,
                        "learn": [
                          0.2712538757
                        ]
                      },
                      {
                        "passed_time": 141.385649,
                        "iteration": 891,
                        "remaining_time": 17.11844181,
                        "learn": [
                          0.2710285118
                        ]
                      },
                      {
                        "passed_time": 141.5326165,
                        "iteration": 892,
                        "remaining_time": 16.9585554,
                        "learn": [
                          0.2708392894
                        ]
                      },
                      {
                        "passed_time": 141.6847563,
                        "iteration": 893,
                        "remaining_time": 16.79931115,
                        "learn": [
                          0.2706907759
                        ]
                      },
                      {
                        "passed_time": 141.8338765,
                        "iteration": 894,
                        "remaining_time": 16.63972853,
                        "learn": [
                          0.2705119431
                        ]
                      },
                      {
                        "passed_time": 142.0277558,
                        "iteration": 895,
                        "remaining_time": 16.48536451,
                        "learn": [
                          0.2703222856
                        ]
                      },
                      {
                        "passed_time": 142.2047082,
                        "iteration": 896,
                        "remaining_time": 16.32896872,
                        "learn": [
                          0.2701185705
                        ]
                      },
                      {
                        "passed_time": 142.3632131,
                        "iteration": 897,
                        "remaining_time": 16.17043178,
                        "learn": [
                          0.2698895604
                        ]
                      },
                      {
                        "passed_time": 142.5095456,
                        "iteration": 898,
                        "remaining_time": 16.01052737,
                        "learn": [
                          0.2696923387
                        ]
                      },
                      {
                        "passed_time": 142.6576751,
                        "iteration": 899,
                        "remaining_time": 15.85085279,
                        "learn": [
                          0.2695384561
                        ]
                      },
                      {
                        "passed_time": 142.8125996,
                        "iteration": 900,
                        "remaining_time": 15.69195046,
                        "learn": [
                          0.2693322495
                        ]
                      },
                      {
                        "passed_time": 142.9703542,
                        "iteration": 901,
                        "remaining_time": 15.53336442,
                        "learn": [
                          0.2691493011
                        ]
                      },
                      {
                        "passed_time": 143.1903947,
                        "iteration": 902,
                        "remaining_time": 15.38147097,
                        "learn": [
                          0.2689458696
                        ]
                      },
                      {
                        "passed_time": 143.3382205,
                        "iteration": 903,
                        "remaining_time": 15.22175793,
                        "learn": [
                          0.2687794407
                        ]
                      },
                      {
                        "passed_time": 143.4865613,
                        "iteration": 904,
                        "remaining_time": 15.06212522,
                        "learn": [
                          0.268645738
                        ]
                      },
                      {
                        "passed_time": 143.630864,
                        "iteration": 905,
                        "remaining_time": 14.90209847,
                        "learn": [
                          0.2684705689
                        ]
                      },
                      {
                        "passed_time": 143.7766244,
                        "iteration": 906,
                        "remaining_time": 14.74225586,
                        "learn": [
                          0.2683059126
                        ]
                      },
                      {
                        "passed_time": 143.9337593,
                        "iteration": 907,
                        "remaining_time": 14.58359676,
                        "learn": [
                          0.2681052154
                        ]
                      },
                      {
                        "passed_time": 144.0817823,
                        "iteration": 908,
                        "remaining_time": 14.42402881,
                        "learn": [
                          0.267875964
                        ]
                      },
                      {
                        "passed_time": 144.2821258,
                        "iteration": 909,
                        "remaining_time": 14.26966079,
                        "learn": [
                          0.2676268656
                        ]
                      },
                      {
                        "passed_time": 144.4303866,
                        "iteration": 910,
                        "remaining_time": 14.11010363,
                        "learn": [
                          0.2674752146
                        ]
                      },
                      {
                        "passed_time": 144.58123,
                        "iteration": 911,
                        "remaining_time": 13.95082044,
                        "learn": [
                          0.2672422873
                        ]
                      },
                      {
                        "passed_time": 144.7324924,
                        "iteration": 912,
                        "remaining_time": 13.79159567,
                        "learn": [
                          0.2670600171
                        ]
                      },
                      {
                        "passed_time": 144.8832358,
                        "iteration": 913,
                        "remaining_time": 13.63233948,
                        "learn": [
                          0.2668894981
                        ]
                      },
                      {
                        "passed_time": 145.0379244,
                        "iteration": 914,
                        "remaining_time": 13.47346839,
                        "learn": [
                          0.2667404427
                        ]
                      },
                      {
                        "passed_time": 145.2817423,
                        "iteration": 915,
                        "remaining_time": 13.32277986,
                        "learn": [
                          0.2664974068
                        ]
                      },
                      {
                        "passed_time": 145.4578307,
                        "iteration": 916,
                        "remaining_time": 13.16575785,
                        "learn": [
                          0.2663359252
                        ]
                      },
                      {
                        "passed_time": 145.6157038,
                        "iteration": 917,
                        "remaining_time": 13.00706722,
                        "learn": [
                          0.2661082398
                        ]
                      },
                      {
                        "passed_time": 145.7689989,
                        "iteration": 918,
                        "remaining_time": 12.84797488,
                        "learn": [
                          0.2659299023
                        ]
                      },
                      {
                        "passed_time": 145.9265819,
                        "iteration": 919,
                        "remaining_time": 12.68926799,
                        "learn": [
                          0.2657665192
                        ]
                      },
                      {
                        "passed_time": 146.0741465,
                        "iteration": 920,
                        "remaining_time": 12.5297042,
                        "learn": [
                          0.2656358012
                        ]
                      },
                      {
                        "passed_time": 146.2257541,
                        "iteration": 921,
                        "remaining_time": 12.37050848,
                        "learn": [
                          0.2654803443
                        ]
                      },
                      {
                        "passed_time": 146.4221762,
                        "iteration": 922,
                        "remaining_time": 12.21506779,
                        "learn": [
                          0.2652960979
                        ]
                      },
                      {
                        "passed_time": 146.5712927,
                        "iteration": 923,
                        "remaining_time": 12.05564745,
                        "learn": [
                          0.2651339075
                        ]
                      },
                      {
                        "passed_time": 146.7176435,
                        "iteration": 924,
                        "remaining_time": 11.89602515,
                        "learn": [
                          0.2649690545
                        ]
                      },
                      {
                        "passed_time": 146.8709907,
                        "iteration": 925,
                        "remaining_time": 11.73699062,
                        "learn": [
                          0.2647919459
                        ]
                      },
                      {
                        "passed_time": 147.0285898,
                        "iteration": 926,
                        "remaining_time": 11.57830318,
                        "learn": [
                          0.2646289445
                        ]
                      },
                      {
                        "passed_time": 147.1774834,
                        "iteration": 927,
                        "remaining_time": 11.41894268,
                        "learn": [
                          0.2644527777
                        ]
                      },
                      {
                        "passed_time": 147.3221181,
                        "iteration": 928,
                        "remaining_time": 11.25927921,
                        "learn": [
                          0.2642863143
                        ]
                      },
                      {
                        "passed_time": 147.5286855,
                        "iteration": 929,
                        "remaining_time": 11.10430966,
                        "learn": [
                          0.2641224205
                        ]
                      },
                      {
                        "passed_time": 147.6737016,
                        "iteration": 930,
                        "remaining_time": 10.94466746,
                        "learn": [
                          0.2639448222
                        ]
                      },
                      {
                        "passed_time": 147.828663,
                        "iteration": 931,
                        "remaining_time": 10.78578228,
                        "learn": [
                          0.2637767321
                        ]
                      },
                      {
                        "passed_time": 147.9860863,
                        "iteration": 932,
                        "remaining_time": 10.6270823,
                        "learn": [
                          0.2635972549
                        ]
                      },
                      {
                        "passed_time": 148.1348542,
                        "iteration": 933,
                        "remaining_time": 10.46777342,
                        "learn": [
                          0.2633513293
                        ]
                      },
                      {
                        "passed_time": 148.2834029,
                        "iteration": 934,
                        "remaining_time": 10.30847186,
                        "learn": [
                          0.2631828218
                        ]
                      },
                      {
                        "passed_time": 148.4314372,
                        "iteration": 935,
                        "remaining_time": 10.1491581,
                        "learn": [
                          0.2629679614
                        ]
                      },
                      {
                        "passed_time": 148.6449874,
                        "iteration": 936,
                        "remaining_time": 9.994273434,
                        "learn": [
                          0.2628014568
                        ]
                      },
                      {
                        "passed_time": 148.7944041,
                        "iteration": 937,
                        "remaining_time": 9.835024576,
                        "learn": [
                          0.2626346747
                        ]
                      },
                      {
                        "passed_time": 148.951751,
                        "iteration": 938,
                        "remaining_time": 9.676311831,
                        "learn": [
                          0.2624444011
                        ]
                      },
                      {
                        "passed_time": 149.1113866,
                        "iteration": 939,
                        "remaining_time": 9.517748081,
                        "learn": [
                          0.2623034934
                        ]
                      },
                      {
                        "passed_time": 149.2643908,
                        "iteration": 940,
                        "remaining_time": 9.358766269,
                        "learn": [
                          0.262082607
                        ]
                      },
                      {
                        "passed_time": 149.4141135,
                        "iteration": 941,
                        "remaining_time": 9.199595097,
                        "learn": [
                          0.2619313154
                        ]
                      },
                      {
                        "passed_time": 149.617353,
                        "iteration": 942,
                        "remaining_time": 9.043678812,
                        "learn": [
                          0.2617612709
                        ]
                      },
                      {
                        "passed_time": 149.7685158,
                        "iteration": 943,
                        "remaining_time": 8.884572974,
                        "learn": [
                          0.2615835113
                        ]
                      },
                      {
                        "passed_time": 149.9172246,
                        "iteration": 944,
                        "remaining_time": 8.725341112,
                        "learn": [
                          0.2614488269
                        ]
                      },
                      {
                        "passed_time": 150.0760949,
                        "iteration": 945,
                        "remaining_time": 8.56671155,
                        "learn": [
                          0.2612679786
                        ]
                      },
                      {
                        "passed_time": 150.2216144,
                        "iteration": 946,
                        "remaining_time": 8.407334281,
                        "learn": [
                          0.2610622361
                        ]
                      },
                      {
                        "passed_time": 150.3710228,
                        "iteration": 947,
                        "remaining_time": 8.248199565,
                        "learn": [
                          0.2608789802
                        ]
                      },
                      {
                        "passed_time": 150.5210483,
                        "iteration": 948,
                        "remaining_time": 8.089118507,
                        "learn": [
                          0.2606894615
                        ]
                      },
                      {
                        "passed_time": 150.7234474,
                        "iteration": 949,
                        "remaining_time": 7.932813022,
                        "learn": [
                          0.2605459721
                        ]
                      },
                      {
                        "passed_time": 150.8737644,
                        "iteration": 950,
                        "remaining_time": 7.773727083,
                        "learn": [
                          0.2603417902
                        ]
                      },
                      {
                        "passed_time": 151.0454298,
                        "iteration": 951,
                        "remaining_time": 7.615735956,
                        "learn": [
                          0.2601855325
                        ]
                      },
                      {
                        "passed_time": 151.1927406,
                        "iteration": 952,
                        "remaining_time": 7.456515012,
                        "learn": [
                          0.2600579321
                        ]
                      },
                      {
                        "passed_time": 151.3396268,
                        "iteration": 953,
                        "remaining_time": 7.297298568,
                        "learn": [
                          0.2598564367
                        ]
                      },
                      {
                        "passed_time": 151.4854284,
                        "iteration": 954,
                        "remaining_time": 7.138056835,
                        "learn": [
                          0.2596858669
                        ]
                      },
                      {
                        "passed_time": 151.6644196,
                        "iteration": 955,
                        "remaining_time": 6.980370775,
                        "learn": [
                          0.2595079145
                        ]
                      },
                      {
                        "passed_time": 151.8412503,
                        "iteration": 956,
                        "remaining_time": 6.822543115,
                        "learn": [
                          0.2593214903
                        ]
                      },
                      {
                        "passed_time": 151.9865685,
                        "iteration": 957,
                        "remaining_time": 6.663294237,
                        "learn": [
                          0.2591763365
                        ]
                      },
                      {
                        "passed_time": 152.1522384,
                        "iteration": 958,
                        "remaining_time": 6.5049445,
                        "learn": [
                          0.2589611133
                        ]
                      },
                      {
                        "passed_time": 152.3023417,
                        "iteration": 959,
                        "remaining_time": 6.345930905,
                        "learn": [
                          0.2587784575
                        ]
                      },
                      {
                        "passed_time": 152.4522408,
                        "iteration": 960,
                        "remaining_time": 6.186927566,
                        "learn": [
                          0.2586141307
                        ]
                      },
                      {
                        "passed_time": 152.5993884,
                        "iteration": 961,
                        "remaining_time": 6.02783447,
                        "learn": [
                          0.2584524692
                        ]
                      },
                      {
                        "passed_time": 152.7834727,
                        "iteration": 962,
                        "remaining_time": 5.870185346,
                        "learn": [
                          0.2583036248
                        ]
                      },
                      {
                        "passed_time": 152.9526794,
                        "iteration": 963,
                        "remaining_time": 5.711925786,
                        "learn": [
                          0.2582032827
                        ]
                      },
                      {
                        "passed_time": 153.1179012,
                        "iteration": 964,
                        "remaining_time": 5.553499007,
                        "learn": [
                          0.2580096838
                        ]
                      },
                      {
                        "passed_time": 153.2670333,
                        "iteration": 965,
                        "remaining_time": 5.394491856,
                        "learn": [
                          0.2578015564
                        ]
                      },
                      {
                        "passed_time": 153.416787,
                        "iteration": 966,
                        "remaining_time": 5.235526342,
                        "learn": [
                          0.2575944431
                        ]
                      },
                      {
                        "passed_time": 153.5691089,
                        "iteration": 967,
                        "remaining_time": 5.076664756,
                        "learn": [
                          0.2574098034
                        ]
                      },
                      {
                        "passed_time": 153.7181411,
                        "iteration": 968,
                        "remaining_time": 4.917711429,
                        "learn": [
                          0.2572001412
                        ]
                      },
                      {
                        "passed_time": 153.9208512,
                        "iteration": 969,
                        "remaining_time": 4.760438698,
                        "learn": [
                          0.2570761071
                        ]
                      },
                      {
                        "passed_time": 154.0711506,
                        "iteration": 970,
                        "remaining_time": 4.601507072,
                        "learn": [
                          0.2569279709
                        ]
                      },
                      {
                        "passed_time": 154.2263856,
                        "iteration": 971,
                        "remaining_time": 4.442735388,
                        "learn": [
                          0.2567901321
                        ]
                      },
                      {
                        "passed_time": 154.3839874,
                        "iteration": 972,
                        "remaining_time": 4.28403665,
                        "learn": [
                          0.2565641414
                        ]
                      },
                      {
                        "passed_time": 154.5320667,
                        "iteration": 973,
                        "remaining_time": 4.125085969,
                        "learn": [
                          0.2563530001
                        ]
                      },
                      {
                        "passed_time": 154.6860863,
                        "iteration": 974,
                        "remaining_time": 3.966309904,
                        "learn": [
                          0.2561611863
                        ]
                      },
                      {
                        "passed_time": 154.8702271,
                        "iteration": 975,
                        "remaining_time": 3.808284272,
                        "learn": [
                          0.2560326771
                        ]
                      },
                      {
                        "passed_time": 155.0432876,
                        "iteration": 976,
                        "remaining_time": 3.649944335,
                        "learn": [
                          0.2558764929
                        ]
                      },
                      {
                        "passed_time": 155.203561,
                        "iteration": 977,
                        "remaining_time": 3.491286648,
                        "learn": [
                          0.2557303817
                        ]
                      },
                      {
                        "passed_time": 155.3498813,
                        "iteration": 978,
                        "remaining_time": 3.332326362,
                        "learn": [
                          0.2555823083
                        ]
                      },
                      {
                        "passed_time": 155.49964,
                        "iteration": 979,
                        "remaining_time": 3.17346204,
                        "learn": [
                          0.2554329763
                        ]
                      },
                      {
                        "passed_time": 155.6479481,
                        "iteration": 980,
                        "remaining_time": 3.014588189,
                        "learn": [
                          0.255255442
                        ]
                      },
                      {
                        "passed_time": 155.8016657,
                        "iteration": 981,
                        "remaining_time": 2.855835013,
                        "learn": [
                          0.2550772025
                        ]
                      },
                      {
                        "passed_time": 156.0052156,
                        "iteration": 982,
                        "remaining_time": 2.697953882,
                        "learn": [
                          0.2549202307
                        ]
                      },
                      {
                        "passed_time": 156.1697359,
                        "iteration": 983,
                        "remaining_time": 2.5393453,
                        "learn": [
                          0.2547461423
                        ]
                      },
                      {
                        "passed_time": 156.3185024,
                        "iteration": 984,
                        "remaining_time": 2.380484808,
                        "learn": [
                          0.2546183734
                        ]
                      },
                      {
                        "passed_time": 156.4755584,
                        "iteration": 985,
                        "remaining_time": 2.221762493,
                        "learn": [
                          0.2544242665
                        ]
                      },
                      {
                        "passed_time": 156.6200803,
                        "iteration": 986,
                        "remaining_time": 2.062878464,
                        "learn": [
                          0.2542156049
                        ]
                      },
                      {
                        "passed_time": 156.7664099,
                        "iteration": 987,
                        "remaining_time": 1.904045464,
                        "learn": [
                          0.2540869711
                        ]
                      },
                      {
                        "passed_time": 156.9198956,
                        "iteration": 988,
                        "remaining_time": 1.745317342,
                        "learn": [
                          0.2538783694
                        ]
                      },
                      {
                        "passed_time": 157.1479864,
                        "iteration": 989,
                        "remaining_time": 1.587353398,
                        "learn": [
                          0.2537356269
                        ]
                      },
                      {
                        "passed_time": 157.2980565,
                        "iteration": 990,
                        "remaining_time": 1.428539362,
                        "learn": [
                          0.2535649407
                        ]
                      },
                      {
                        "passed_time": 157.4431442,
                        "iteration": 991,
                        "remaining_time": 1.269702776,
                        "learn": [
                          0.2534178561
                        ]
                      },
                      {
                        "passed_time": 157.5946968,
                        "iteration": 992,
                        "remaining_time": 1.110939454,
                        "learn": [
                          0.253219057
                        ]
                      },
                      {
                        "passed_time": 157.7455351,
                        "iteration": 993,
                        "remaining_time": 0.9521863283,
                        "learn": [
                          0.2530719807
                        ]
                      },
                      {
                        "passed_time": 157.8982313,
                        "iteration": 994,
                        "remaining_time": 0.7934584489,
                        "learn": [
                          0.2528761179
                        ]
                      },
                      {
                        "passed_time": 158.075383,
                        "iteration": 995,
                        "remaining_time": 0.6348408954,
                        "learn": [
                          0.2527097923
                        ]
                      },
                      {
                        "passed_time": 158.2586757,
                        "iteration": 996,
                        "remaining_time": 0.476204641,
                        "learn": [
                          0.2525395185
                        ]
                      },
                      {
                        "passed_time": 158.413288,
                        "iteration": 997,
                        "remaining_time": 0.317461499,
                        "learn": [
                          0.2523134742
                        ]
                      },
                      {
                        "passed_time": 158.5594279,
                        "iteration": 998,
                        "remaining_time": 0.1587181461,
                        "learn": [
                          0.2521938544
                        ]
                      },
                      {
                        "passed_time": 158.7100741,
                        "iteration": 999,
                        "remaining_time": 0,
                        "learn": [
                          0.2520059573
                        ]
                      }
                    ]
                  },
                  "total_iterations": 1000,
                  "passed_iterations": 999
                },
                "path": "catboost_info",
                "name": "catboost_info"
              }
            },
            "_view_module": "catboost-widget",
            "_model_module_version": "^1.0.0",
            "_view_count": null,
            "_view_module_version": "^1.0.0",
            "layout": "IPY_MODEL_818c6899d9f74cc8933e66e2902b245e",
            "_model_module": "catboost-widget"
          }
        }
      }
    }
  },
  "cells": [
    {
      "cell_type": "markdown",
      "metadata": {
        "id": "view-in-github",
        "colab_type": "text"
      },
      "source": [
        "<a href=\"https://colab.research.google.com/github/MKrezheska/NLP_Project-Style_Change_Detection/blob/main/Models_use_Task1.ipynb\" target=\"_parent\"><img src=\"https://colab.research.google.com/assets/colab-badge.svg\" alt=\"Open In Colab\"/></a>"
      ]
    },
    {
      "cell_type": "code",
      "metadata": {
        "colab": {
          "base_uri": "https://localhost:8080/"
        },
        "id": "rdQCV-9w0zlB",
        "outputId": "9a5595e2-4e21-4244-de8f-5ab316335422"
      },
      "source": [
        "from google.colab import drive\n",
        "drive.mount('/content/drive')"
      ],
      "execution_count": null,
      "outputs": [
        {
          "output_type": "stream",
          "name": "stdout",
          "text": [
            "Mounted at /content/drive\n"
          ]
        }
      ]
    },
    {
      "cell_type": "code",
      "metadata": {
        "id": "JFRgLrGS8HFn"
      },
      "source": [
        "import pandas as pd"
      ],
      "execution_count": null,
      "outputs": []
    },
    {
      "cell_type": "code",
      "metadata": {
        "id": "8JqDRgHAN5mg"
      },
      "source": [
        "import json\n",
        "import numpy as np \n",
        "import time\n",
        "import joblib"
      ],
      "execution_count": null,
      "outputs": []
    },
    {
      "cell_type": "code",
      "metadata": {
        "id": "55siDObqEJMa"
      },
      "source": [
        "df = pd.read_csv('drive/MyDrive/pan-2021/train_use_embeddings.csv')"
      ],
      "execution_count": null,
      "outputs": []
    },
    {
      "cell_type": "code",
      "metadata": {
        "colab": {
          "base_uri": "https://localhost:8080/",
          "height": 416
        },
        "id": "yNxidgNkLtd-",
        "outputId": "5db21a3d-b2a7-4a1a-93a6-6641749ab224"
      },
      "source": [
        "df"
      ],
      "execution_count": null,
      "outputs": [
        {
          "output_type": "execute_result",
          "data": {
            "text/html": [
              "<div>\n",
              "<style scoped>\n",
              "    .dataframe tbody tr th:only-of-type {\n",
              "        vertical-align: middle;\n",
              "    }\n",
              "\n",
              "    .dataframe tbody tr th {\n",
              "        vertical-align: top;\n",
              "    }\n",
              "\n",
              "    .dataframe thead th {\n",
              "        text-align: right;\n",
              "    }\n",
              "</style>\n",
              "<table border=\"1\" class=\"dataframe\">\n",
              "  <thead>\n",
              "    <tr style=\"text-align: right;\">\n",
              "      <th></th>\n",
              "      <th>Unnamed: 0</th>\n",
              "      <th>content</th>\n",
              "      <th>multi_author</th>\n",
              "      <th>authors</th>\n",
              "      <th>embedding</th>\n",
              "    </tr>\n",
              "  </thead>\n",
              "  <tbody>\n",
              "    <tr>\n",
              "      <th>0</th>\n",
              "      <td>0</td>\n",
              "      <td>However the hardware simulated by your virtual...</td>\n",
              "      <td>1</td>\n",
              "      <td>2</td>\n",
              "      <td>[-0.030025938525795937, -0.026731019839644432,...</td>\n",
              "    </tr>\n",
              "    <tr>\n",
              "      <th>1</th>\n",
              "      <td>1</td>\n",
              "      <td>If you don't want to do that, but you can stil...</td>\n",
              "      <td>1</td>\n",
              "      <td>4</td>\n",
              "      <td>[-0.019566908478736877, -0.0539679229259491, 0...</td>\n",
              "    </tr>\n",
              "    <tr>\n",
              "      <th>2</th>\n",
              "      <td>2</td>\n",
              "      <td>Since you already have a fast processor and vi...</td>\n",
              "      <td>1</td>\n",
              "      <td>4</td>\n",
              "      <td>[-0.03646484389901161, 0.005934929009526968, 0...</td>\n",
              "    </tr>\n",
              "    <tr>\n",
              "      <th>3</th>\n",
              "      <td>3</td>\n",
              "      <td>We have two users in the domain, both assigned...</td>\n",
              "      <td>1</td>\n",
              "      <td>2</td>\n",
              "      <td>[-0.049063894897699356, 0.04039759188890457, -...</td>\n",
              "    </tr>\n",
              "    <tr>\n",
              "      <th>4</th>\n",
              "      <td>4</td>\n",
              "      <td>The idea was actually used for server rooms at...</td>\n",
              "      <td>1</td>\n",
              "      <td>3</td>\n",
              "      <td>[0.0015827243914827704, -0.009894867427647114,...</td>\n",
              "    </tr>\n",
              "    <tr>\n",
              "      <th>...</th>\n",
              "      <td>...</td>\n",
              "      <td>...</td>\n",
              "      <td>...</td>\n",
              "      <td>...</td>\n",
              "      <td>...</td>\n",
              "    </tr>\n",
              "    <tr>\n",
              "      <th>11195</th>\n",
              "      <td>11195</td>\n",
              "      <td>There are different techniques to do feature e...</td>\n",
              "      <td>1</td>\n",
              "      <td>2</td>\n",
              "      <td>[0.06771028786897659, 0.05182947963476181, 0.0...</td>\n",
              "    </tr>\n",
              "    <tr>\n",
              "      <th>11196</th>\n",
              "      <td>11196</td>\n",
              "      <td>Based on dimensions alone it would appear that...</td>\n",
              "      <td>1</td>\n",
              "      <td>3</td>\n",
              "      <td>[-0.08938922733068466, 0.04363614693284035, -0...</td>\n",
              "    </tr>\n",
              "    <tr>\n",
              "      <th>11197</th>\n",
              "      <td>11197</td>\n",
              "      <td>Typically this failure detection is accomplish...</td>\n",
              "      <td>1</td>\n",
              "      <td>2</td>\n",
              "      <td>[0.03856303170323372, 0.07833768427371979, -0....</td>\n",
              "    </tr>\n",
              "    <tr>\n",
              "      <th>11198</th>\n",
              "      <td>11198</td>\n",
              "      <td>I had the same issue. I am behind a Enterprise...</td>\n",
              "      <td>1</td>\n",
              "      <td>3</td>\n",
              "      <td>[-0.027252035215497017, -0.09017544984817505, ...</td>\n",
              "    </tr>\n",
              "    <tr>\n",
              "      <th>11199</th>\n",
              "      <td>11199</td>\n",
              "      <td>Try to think about this morally and ignore the...</td>\n",
              "      <td>1</td>\n",
              "      <td>4</td>\n",
              "      <td>[-0.04879104346036911, 0.06630168110132217, 0....</td>\n",
              "    </tr>\n",
              "  </tbody>\n",
              "</table>\n",
              "<p>11200 rows × 5 columns</p>\n",
              "</div>"
            ],
            "text/plain": [
              "       Unnamed: 0  ...                                          embedding\n",
              "0               0  ...  [-0.030025938525795937, -0.026731019839644432,...\n",
              "1               1  ...  [-0.019566908478736877, -0.0539679229259491, 0...\n",
              "2               2  ...  [-0.03646484389901161, 0.005934929009526968, 0...\n",
              "3               3  ...  [-0.049063894897699356, 0.04039759188890457, -...\n",
              "4               4  ...  [0.0015827243914827704, -0.009894867427647114,...\n",
              "...           ...  ...                                                ...\n",
              "11195       11195  ...  [0.06771028786897659, 0.05182947963476181, 0.0...\n",
              "11196       11196  ...  [-0.08938922733068466, 0.04363614693284035, -0...\n",
              "11197       11197  ...  [0.03856303170323372, 0.07833768427371979, -0....\n",
              "11198       11198  ...  [-0.027252035215497017, -0.09017544984817505, ...\n",
              "11199       11199  ...  [-0.04879104346036911, 0.06630168110132217, 0....\n",
              "\n",
              "[11200 rows x 5 columns]"
            ]
          },
          "metadata": {},
          "execution_count": 23
        }
      ]
    },
    {
      "cell_type": "code",
      "metadata": {
        "id": "l77LvwdjrnwC"
      },
      "source": [
        "df = df.drop([\"Unnamed: 0\",\"content\", \"authors\"], axis=\"columns\")"
      ],
      "execution_count": null,
      "outputs": []
    },
    {
      "cell_type": "code",
      "metadata": {
        "colab": {
          "base_uri": "https://localhost:8080/",
          "height": 202
        },
        "id": "s6TkLMWbL0tY",
        "outputId": "320d014a-e2dd-469e-efbb-a618f8c86aef"
      },
      "source": [
        "df_valid = pd.read_csv('drive/MyDrive/pan-2021/validation_use_embeddings.csv')\n",
        "df_valid.head()"
      ],
      "execution_count": null,
      "outputs": [
        {
          "output_type": "execute_result",
          "data": {
            "text/html": [
              "<div>\n",
              "<style scoped>\n",
              "    .dataframe tbody tr th:only-of-type {\n",
              "        vertical-align: middle;\n",
              "    }\n",
              "\n",
              "    .dataframe tbody tr th {\n",
              "        vertical-align: top;\n",
              "    }\n",
              "\n",
              "    .dataframe thead th {\n",
              "        text-align: right;\n",
              "    }\n",
              "</style>\n",
              "<table border=\"1\" class=\"dataframe\">\n",
              "  <thead>\n",
              "    <tr style=\"text-align: right;\">\n",
              "      <th></th>\n",
              "      <th>Unnamed: 0</th>\n",
              "      <th>content</th>\n",
              "      <th>multi_author</th>\n",
              "      <th>authors</th>\n",
              "      <th>embedding</th>\n",
              "    </tr>\n",
              "  </thead>\n",
              "  <tbody>\n",
              "    <tr>\n",
              "      <th>0</th>\n",
              "      <td>0</td>\n",
              "      <td>I briefly hosted my own website on my desktop ...</td>\n",
              "      <td>1</td>\n",
              "      <td>4</td>\n",
              "      <td>[-0.09329625219106674, -0.027974970638751984, ...</td>\n",
              "    </tr>\n",
              "    <tr>\n",
              "      <th>1</th>\n",
              "      <td>1</td>\n",
              "      <td>The env command takes care of finding the comm...</td>\n",
              "      <td>1</td>\n",
              "      <td>3</td>\n",
              "      <td>[-0.030991755425930023, 0.017223965376615524, ...</td>\n",
              "    </tr>\n",
              "    <tr>\n",
              "      <th>2</th>\n",
              "      <td>2</td>\n",
              "      <td>Otherwise, read manual pages for the init syst...</td>\n",
              "      <td>1</td>\n",
              "      <td>3</td>\n",
              "      <td>[0.009785751812160015, 0.04544724151492119, -0...</td>\n",
              "    </tr>\n",
              "    <tr>\n",
              "      <th>3</th>\n",
              "      <td>3</td>\n",
              "      <td>You'd have to loop over it with a few seconds ...</td>\n",
              "      <td>1</td>\n",
              "      <td>4</td>\n",
              "      <td>[0.007927578873932362, 0.03604438528418541, -0...</td>\n",
              "    </tr>\n",
              "    <tr>\n",
              "      <th>4</th>\n",
              "      <td>4</td>\n",
              "      <td>You won't get around using either symmetric en...</td>\n",
              "      <td>1</td>\n",
              "      <td>4</td>\n",
              "      <td>[-0.046861037611961365, -0.014460966922342777,...</td>\n",
              "    </tr>\n",
              "  </tbody>\n",
              "</table>\n",
              "</div>"
            ],
            "text/plain": [
              "   Unnamed: 0  ...                                          embedding\n",
              "0           0  ...  [-0.09329625219106674, -0.027974970638751984, ...\n",
              "1           1  ...  [-0.030991755425930023, 0.017223965376615524, ...\n",
              "2           2  ...  [0.009785751812160015, 0.04544724151492119, -0...\n",
              "3           3  ...  [0.007927578873932362, 0.03604438528418541, -0...\n",
              "4           4  ...  [-0.046861037611961365, -0.014460966922342777,...\n",
              "\n",
              "[5 rows x 5 columns]"
            ]
          },
          "metadata": {},
          "execution_count": 25
        }
      ]
    },
    {
      "cell_type": "code",
      "metadata": {
        "id": "Mj1sf7VFMBJX"
      },
      "source": [
        "df_valid = df_valid.drop([\"Unnamed: 0\", \"authors\", \"content\"], axis=\"columns\")"
      ],
      "execution_count": null,
      "outputs": []
    },
    {
      "cell_type": "code",
      "metadata": {
        "colab": {
          "base_uri": "https://localhost:8080/"
        },
        "id": "NsH17aHpjVrv",
        "outputId": "293a5448-8889-49f7-95a1-b7c6fb3af7c8"
      },
      "source": [
        "df_train = df.iloc[:, : ]\n",
        "df_test = df_valid.iloc[:, : ]\n",
        "print(len(df_train))\n",
        "print(len(df_test))"
      ],
      "execution_count": null,
      "outputs": [
        {
          "output_type": "stream",
          "name": "stdout",
          "text": [
            "11200\n",
            "2400\n"
          ]
        }
      ]
    },
    {
      "cell_type": "code",
      "metadata": {
        "colab": {
          "base_uri": "https://localhost:8080/",
          "height": 664
        },
        "id": "t68ySKq0f0eo",
        "outputId": "2424e017-9dc0-4dd1-c3ff-cd37ec20a099"
      },
      "source": [
        "y_train = df_train['multi_author']\n",
        "df_train.drop(['multi_author'], axis=1, inplace= True)\n",
        "df_train.head(20)"
      ],
      "execution_count": null,
      "outputs": [
        {
          "output_type": "execute_result",
          "data": {
            "text/html": [
              "<div>\n",
              "<style scoped>\n",
              "    .dataframe tbody tr th:only-of-type {\n",
              "        vertical-align: middle;\n",
              "    }\n",
              "\n",
              "    .dataframe tbody tr th {\n",
              "        vertical-align: top;\n",
              "    }\n",
              "\n",
              "    .dataframe thead th {\n",
              "        text-align: right;\n",
              "    }\n",
              "</style>\n",
              "<table border=\"1\" class=\"dataframe\">\n",
              "  <thead>\n",
              "    <tr style=\"text-align: right;\">\n",
              "      <th></th>\n",
              "      <th>embedding</th>\n",
              "    </tr>\n",
              "  </thead>\n",
              "  <tbody>\n",
              "    <tr>\n",
              "      <th>0</th>\n",
              "      <td>[-0.030025938525795937, -0.026731019839644432,...</td>\n",
              "    </tr>\n",
              "    <tr>\n",
              "      <th>1</th>\n",
              "      <td>[-0.019566908478736877, -0.0539679229259491, 0...</td>\n",
              "    </tr>\n",
              "    <tr>\n",
              "      <th>2</th>\n",
              "      <td>[-0.03646484389901161, 0.005934929009526968, 0...</td>\n",
              "    </tr>\n",
              "    <tr>\n",
              "      <th>3</th>\n",
              "      <td>[-0.049063894897699356, 0.04039759188890457, -...</td>\n",
              "    </tr>\n",
              "    <tr>\n",
              "      <th>4</th>\n",
              "      <td>[0.0015827243914827704, -0.009894867427647114,...</td>\n",
              "    </tr>\n",
              "    <tr>\n",
              "      <th>5</th>\n",
              "      <td>[0.07980763167142868, 0.031062481924891472, -0...</td>\n",
              "    </tr>\n",
              "    <tr>\n",
              "      <th>6</th>\n",
              "      <td>[0.017313001677393913, 0.03606828302145004, 0....</td>\n",
              "    </tr>\n",
              "    <tr>\n",
              "      <th>7</th>\n",
              "      <td>[0.008986406959593296, -0.015881959348917007, ...</td>\n",
              "    </tr>\n",
              "    <tr>\n",
              "      <th>8</th>\n",
              "      <td>[0.013466659002006054, 0.07398978620767593, -0...</td>\n",
              "    </tr>\n",
              "    <tr>\n",
              "      <th>9</th>\n",
              "      <td>[-0.0385468415915966, 0.037170134484767914, -0...</td>\n",
              "    </tr>\n",
              "    <tr>\n",
              "      <th>10</th>\n",
              "      <td>[-0.07308560609817505, 0.09144515544176102, 0....</td>\n",
              "    </tr>\n",
              "    <tr>\n",
              "      <th>11</th>\n",
              "      <td>[0.003912012092769146, 0.003549944143742323, -...</td>\n",
              "    </tr>\n",
              "    <tr>\n",
              "      <th>12</th>\n",
              "      <td>[0.016383979469537735, -0.012952794320881367, ...</td>\n",
              "    </tr>\n",
              "    <tr>\n",
              "      <th>13</th>\n",
              "      <td>[-0.048705849796533585, -0.05252212658524513, ...</td>\n",
              "    </tr>\n",
              "    <tr>\n",
              "      <th>14</th>\n",
              "      <td>[0.011668341234326363, 0.021948520094156265, -...</td>\n",
              "    </tr>\n",
              "    <tr>\n",
              "      <th>15</th>\n",
              "      <td>[-0.048935145139694214, 0.07899508625268936, 0...</td>\n",
              "    </tr>\n",
              "    <tr>\n",
              "      <th>16</th>\n",
              "      <td>[0.000266074639512226, -0.04900536313652992, -...</td>\n",
              "    </tr>\n",
              "    <tr>\n",
              "      <th>17</th>\n",
              "      <td>[-0.02932596020400524, -0.10130777955055237, 0...</td>\n",
              "    </tr>\n",
              "    <tr>\n",
              "      <th>18</th>\n",
              "      <td>[0.02137223444879055, 0.03365097567439079, -0....</td>\n",
              "    </tr>\n",
              "    <tr>\n",
              "      <th>19</th>\n",
              "      <td>[-0.04869549721479416, 0.033969979733228683, 0...</td>\n",
              "    </tr>\n",
              "  </tbody>\n",
              "</table>\n",
              "</div>"
            ],
            "text/plain": [
              "                                            embedding\n",
              "0   [-0.030025938525795937, -0.026731019839644432,...\n",
              "1   [-0.019566908478736877, -0.0539679229259491, 0...\n",
              "2   [-0.03646484389901161, 0.005934929009526968, 0...\n",
              "3   [-0.049063894897699356, 0.04039759188890457, -...\n",
              "4   [0.0015827243914827704, -0.009894867427647114,...\n",
              "5   [0.07980763167142868, 0.031062481924891472, -0...\n",
              "6   [0.017313001677393913, 0.03606828302145004, 0....\n",
              "7   [0.008986406959593296, -0.015881959348917007, ...\n",
              "8   [0.013466659002006054, 0.07398978620767593, -0...\n",
              "9   [-0.0385468415915966, 0.037170134484767914, -0...\n",
              "10  [-0.07308560609817505, 0.09144515544176102, 0....\n",
              "11  [0.003912012092769146, 0.003549944143742323, -...\n",
              "12  [0.016383979469537735, -0.012952794320881367, ...\n",
              "13  [-0.048705849796533585, -0.05252212658524513, ...\n",
              "14  [0.011668341234326363, 0.021948520094156265, -...\n",
              "15  [-0.048935145139694214, 0.07899508625268936, 0...\n",
              "16  [0.000266074639512226, -0.04900536313652992, -...\n",
              "17  [-0.02932596020400524, -0.10130777955055237, 0...\n",
              "18  [0.02137223444879055, 0.03365097567439079, -0....\n",
              "19  [-0.04869549721479416, 0.033969979733228683, 0..."
            ]
          },
          "metadata": {},
          "execution_count": 28
        }
      ]
    },
    {
      "cell_type": "code",
      "metadata": {
        "colab": {
          "base_uri": "https://localhost:8080/",
          "height": 664
        },
        "id": "c25t5BcMmOxV",
        "outputId": "467fea43-817c-4a6e-df84-4d11eb9ec982"
      },
      "source": [
        "y_test = df_test['multi_author']\n",
        "df_test.drop(['multi_author'], axis=1, inplace= True)\n",
        "df_test.head(20)"
      ],
      "execution_count": null,
      "outputs": [
        {
          "output_type": "execute_result",
          "data": {
            "text/html": [
              "<div>\n",
              "<style scoped>\n",
              "    .dataframe tbody tr th:only-of-type {\n",
              "        vertical-align: middle;\n",
              "    }\n",
              "\n",
              "    .dataframe tbody tr th {\n",
              "        vertical-align: top;\n",
              "    }\n",
              "\n",
              "    .dataframe thead th {\n",
              "        text-align: right;\n",
              "    }\n",
              "</style>\n",
              "<table border=\"1\" class=\"dataframe\">\n",
              "  <thead>\n",
              "    <tr style=\"text-align: right;\">\n",
              "      <th></th>\n",
              "      <th>embedding</th>\n",
              "    </tr>\n",
              "  </thead>\n",
              "  <tbody>\n",
              "    <tr>\n",
              "      <th>0</th>\n",
              "      <td>[-0.09329625219106674, -0.027974970638751984, ...</td>\n",
              "    </tr>\n",
              "    <tr>\n",
              "      <th>1</th>\n",
              "      <td>[-0.030991755425930023, 0.017223965376615524, ...</td>\n",
              "    </tr>\n",
              "    <tr>\n",
              "      <th>2</th>\n",
              "      <td>[0.009785751812160015, 0.04544724151492119, -0...</td>\n",
              "    </tr>\n",
              "    <tr>\n",
              "      <th>3</th>\n",
              "      <td>[0.007927578873932362, 0.03604438528418541, -0...</td>\n",
              "    </tr>\n",
              "    <tr>\n",
              "      <th>4</th>\n",
              "      <td>[-0.046861037611961365, -0.014460966922342777,...</td>\n",
              "    </tr>\n",
              "    <tr>\n",
              "      <th>5</th>\n",
              "      <td>[-0.014339126646518707, -0.005259948316961527,...</td>\n",
              "    </tr>\n",
              "    <tr>\n",
              "      <th>6</th>\n",
              "      <td>[-0.011513851583003998, 0.07877765595912933, 0...</td>\n",
              "    </tr>\n",
              "    <tr>\n",
              "      <th>7</th>\n",
              "      <td>[0.027231134474277496, 0.08961787074804306, 0....</td>\n",
              "    </tr>\n",
              "    <tr>\n",
              "      <th>8</th>\n",
              "      <td>[-0.0037707395385950804, 0.003699428401887417,...</td>\n",
              "    </tr>\n",
              "    <tr>\n",
              "      <th>9</th>\n",
              "      <td>[0.04632611945271492, 0.05171686410903931, 0.0...</td>\n",
              "    </tr>\n",
              "    <tr>\n",
              "      <th>10</th>\n",
              "      <td>[0.04374759644269943, 0.02350827120244503, -0....</td>\n",
              "    </tr>\n",
              "    <tr>\n",
              "      <th>11</th>\n",
              "      <td>[-0.00465010479092598, 0.06619840115308762, -0...</td>\n",
              "    </tr>\n",
              "    <tr>\n",
              "      <th>12</th>\n",
              "      <td>[-0.06176966056227684, 0.08357199281454086, -0...</td>\n",
              "    </tr>\n",
              "    <tr>\n",
              "      <th>13</th>\n",
              "      <td>[0.01620706357061863, 0.04209824651479721, -0....</td>\n",
              "    </tr>\n",
              "    <tr>\n",
              "      <th>14</th>\n",
              "      <td>[-0.07068372517824173, -0.008926356211304665, ...</td>\n",
              "    </tr>\n",
              "    <tr>\n",
              "      <th>15</th>\n",
              "      <td>[-0.016707953065633774, 0.009979336522519588, ...</td>\n",
              "    </tr>\n",
              "    <tr>\n",
              "      <th>16</th>\n",
              "      <td>[0.015951652079820633, 0.02994225174188614, -0...</td>\n",
              "    </tr>\n",
              "    <tr>\n",
              "      <th>17</th>\n",
              "      <td>[0.02627900242805481, 0.008856423199176788, -0...</td>\n",
              "    </tr>\n",
              "    <tr>\n",
              "      <th>18</th>\n",
              "      <td>[0.038120366632938385, 0.09725811332464218, -0...</td>\n",
              "    </tr>\n",
              "    <tr>\n",
              "      <th>19</th>\n",
              "      <td>[-0.07303471118211746, 0.004792462568730116, -...</td>\n",
              "    </tr>\n",
              "  </tbody>\n",
              "</table>\n",
              "</div>"
            ],
            "text/plain": [
              "                                            embedding\n",
              "0   [-0.09329625219106674, -0.027974970638751984, ...\n",
              "1   [-0.030991755425930023, 0.017223965376615524, ...\n",
              "2   [0.009785751812160015, 0.04544724151492119, -0...\n",
              "3   [0.007927578873932362, 0.03604438528418541, -0...\n",
              "4   [-0.046861037611961365, -0.014460966922342777,...\n",
              "5   [-0.014339126646518707, -0.005259948316961527,...\n",
              "6   [-0.011513851583003998, 0.07877765595912933, 0...\n",
              "7   [0.027231134474277496, 0.08961787074804306, 0....\n",
              "8   [-0.0037707395385950804, 0.003699428401887417,...\n",
              "9   [0.04632611945271492, 0.05171686410903931, 0.0...\n",
              "10  [0.04374759644269943, 0.02350827120244503, -0....\n",
              "11  [-0.00465010479092598, 0.06619840115308762, -0...\n",
              "12  [-0.06176966056227684, 0.08357199281454086, -0...\n",
              "13  [0.01620706357061863, 0.04209824651479721, -0....\n",
              "14  [-0.07068372517824173, -0.008926356211304665, ...\n",
              "15  [-0.016707953065633774, 0.009979336522519588, ...\n",
              "16  [0.015951652079820633, 0.02994225174188614, -0...\n",
              "17  [0.02627900242805481, 0.008856423199176788, -0...\n",
              "18  [0.038120366632938385, 0.09725811332464218, -0...\n",
              "19  [-0.07303471118211746, 0.004792462568730116, -..."
            ]
          },
          "metadata": {},
          "execution_count": 29
        }
      ]
    },
    {
      "cell_type": "code",
      "metadata": {
        "id": "LLNTbTCtr77S"
      },
      "source": [
        "xtrain = df_train.values.tolist()\n",
        "X_test = df_test.values.tolist()"
      ],
      "execution_count": null,
      "outputs": []
    },
    {
      "cell_type": "code",
      "metadata": {
        "id": "8TpCbwr3rHse"
      },
      "source": [
        "xtrain = [eval(xtrain[i][0]) for i in range(0, len(xtrain))]\n",
        "X_test = [eval(X_test[i][0]) for i in range(0, len(X_test))]"
      ],
      "execution_count": null,
      "outputs": []
    },
    {
      "cell_type": "code",
      "metadata": {
        "id": "Aw1ESkBDsbQc"
      },
      "source": [
        "xtrain = np.asarray(xtrain)"
      ],
      "execution_count": null,
      "outputs": []
    },
    {
      "cell_type": "code",
      "metadata": {
        "id": "TuQ5Z5KJs9h2"
      },
      "source": [
        "X_test = np.asarray(X_test)"
      ],
      "execution_count": null,
      "outputs": []
    },
    {
      "cell_type": "code",
      "metadata": {
        "id": "DVHzcGxZtm0w"
      },
      "source": [
        "import seaborn as sns\n",
        "from sklearn.metrics import confusion_matrix\n",
        "from sklearn.metrics import classification_report\n",
        "import warnings\n",
        "warnings.simplefilter(action='ignore', category=FutureWarning)"
      ],
      "execution_count": null,
      "outputs": []
    },
    {
      "cell_type": "code",
      "metadata": {
        "id": "J16D3aMzS3PW"
      },
      "source": [
        "def print_confusion_matrix(preds, labels, names):\n",
        "  print(classification_report(labels, preds))\n",
        "\n",
        "  # Mатрица на конфузија \n",
        "  names = names\n",
        "  confusion = confusion_matrix(labels, preds)\n",
        "  confusion = 100 * confusion.astype('float') / confusion.sum(axis=-1)[:, np.newaxis]\n",
        "  df_1 = pd.DataFrame(data=confusion, columns=names, index=names)\n",
        "  image = sns.heatmap(df_1, annot=True, fmt=\".1f\", vmin=0, vmax=100,cmap='Greens')\n",
        "  image.set_title('Confusion matrix')\n",
        "  image.set_ylabel('True label')\n",
        "  image.set_xlabel('Predicted label')\n",
        "  image.plot()"
      ],
      "execution_count": null,
      "outputs": []
    },
    {
      "cell_type": "code",
      "metadata": {
        "id": "Kz-X5T8E8N5X"
      },
      "source": [
        "ytrain = y_train"
      ],
      "execution_count": null,
      "outputs": []
    },
    {
      "cell_type": "code",
      "metadata": {
        "colab": {
          "base_uri": "https://localhost:8080/"
        },
        "id": "6xeduEz3t9kI",
        "outputId": "cb0336e2-a987-461f-af2c-3a586aff2d15"
      },
      "source": [
        "from sklearn.tree import DecisionTreeClassifier\n",
        "from sklearn.naive_bayes import GaussianNB\n",
        "from sklearn.ensemble import RandomForestClassifier\n",
        "\n",
        "dtc = DecisionTreeClassifier()\n",
        "nbc = GaussianNB()\n",
        "rfc = RandomForestClassifier()\n",
        "\n",
        "dtc.fit(xtrain, ytrain)\n",
        "nbc.fit(xtrain, ytrain)\n",
        "rfc.fit(xtrain, ytrain)"
      ],
      "execution_count": null,
      "outputs": [
        {
          "output_type": "execute_result",
          "data": {
            "text/plain": [
              "RandomForestClassifier(bootstrap=True, ccp_alpha=0.0, class_weight=None,\n",
              "                       criterion='gini', max_depth=None, max_features='auto',\n",
              "                       max_leaf_nodes=None, max_samples=None,\n",
              "                       min_impurity_decrease=0.0, min_impurity_split=None,\n",
              "                       min_samples_leaf=1, min_samples_split=2,\n",
              "                       min_weight_fraction_leaf=0.0, n_estimators=100,\n",
              "                       n_jobs=None, oob_score=False, random_state=None,\n",
              "                       verbose=0, warm_start=False)"
            ]
          },
          "metadata": {},
          "execution_count": 37
        }
      ]
    },
    {
      "cell_type": "code",
      "metadata": {
        "id": "ZTaLbY3JuGQy"
      },
      "source": [
        "test_tree_predict = dtc.predict(X_test)\n",
        "test_naive_predict = nbc.predict(X_test)\n",
        "test_random_forest_predict = rfc.predict(X_test)"
      ],
      "execution_count": null,
      "outputs": []
    },
    {
      "cell_type": "code",
      "metadata": {
        "colab": {
          "base_uri": "https://localhost:8080/",
          "height": 446
        },
        "id": "W4ayJJJ5TSe2",
        "outputId": "6ca016b1-4bbd-4546-9a34-12e9c562fdc7"
      },
      "source": [
        "print_confusion_matrix(test_tree_predict,y_test, [\"0\", \"1\"])"
      ],
      "execution_count": null,
      "outputs": [
        {
          "output_type": "stream",
          "name": "stdout",
          "text": [
            "              precision    recall  f1-score   support\n",
            "\n",
            "           0       0.36      0.37      0.36       600\n",
            "           1       0.79      0.78      0.78      1800\n",
            "\n",
            "    accuracy                           0.68      2400\n",
            "   macro avg       0.57      0.58      0.57      2400\n",
            "weighted avg       0.68      0.68      0.68      2400\n",
            "\n"
          ]
        },
        {
          "output_type": "display_data",
          "data": {
            "image/png": "[encoded data removed]",
            "text/plain": [
              "<Figure size 432x288 with 2 Axes>"
            ]
          },
          "metadata": {
            "needs_background": "light"
          }
        }
      ]
    },
    {
      "cell_type": "code",
      "metadata": {
        "colab": {
          "base_uri": "https://localhost:8080/",
          "height": 446
        },
        "id": "_M62vF_dTWrb",
        "outputId": "4ae76eae-d886-4e60-893e-5f978a9753e2"
      },
      "source": [
        "print_confusion_matrix(test_naive_predict, y_test, [\"0\", \"1\"])"
      ],
      "execution_count": null,
      "outputs": [
        {
          "output_type": "stream",
          "name": "stdout",
          "text": [
            "              precision    recall  f1-score   support\n",
            "\n",
            "           0       0.40      0.66      0.50       600\n",
            "           1       0.86      0.66      0.75      1800\n",
            "\n",
            "    accuracy                           0.66      2400\n",
            "   macro avg       0.63      0.66      0.62      2400\n",
            "weighted avg       0.74      0.66      0.69      2400\n",
            "\n"
          ]
        },
        {
          "output_type": "display_data",
          "data": {
            "image/png": "[encoded data removed]",
            "text/plain": [
              "<Figure size 432x288 with 2 Axes>"
            ]
          },
          "metadata": {
            "needs_background": "light"
          }
        }
      ]
    },
    {
      "cell_type": "code",
      "metadata": {
        "colab": {
          "base_uri": "https://localhost:8080/",
          "height": 446
        },
        "id": "BlhMD1ahTXAc",
        "outputId": "79c69e91-9f01-4699-fa67-35bf7d929fb1"
      },
      "source": [
        "print_confusion_matrix(test_random_forest_predict,y_test, [\"0\", \"1\"])"
      ],
      "execution_count": null,
      "outputs": [
        {
          "output_type": "stream",
          "name": "stdout",
          "text": [
            "              precision    recall  f1-score   support\n",
            "\n",
            "           0       0.70      0.07      0.12       600\n",
            "           1       0.76      0.99      0.86      1800\n",
            "\n",
            "    accuracy                           0.76      2400\n",
            "   macro avg       0.73      0.53      0.49      2400\n",
            "weighted avg       0.75      0.76      0.68      2400\n",
            "\n"
          ]
        },
        {
          "output_type": "display_data",
          "data": {
            "image/png": "[encoded data removed]",
            "text/plain": [
              "<Figure size 432x288 with 2 Axes>"
            ]
          },
          "metadata": {
            "needs_background": "light"
          }
        }
      ]
    },
    {
      "cell_type": "code",
      "metadata": {
        "colab": {
          "base_uri": "https://localhost:8080/"
        },
        "id": "tADymSdZtQ2E",
        "outputId": "cd7e1382-de1b-4763-db5a-a9388e1cf733"
      },
      "source": [
        "from sklearn.model_selection import StratifiedKFold, RandomizedSearchCV\n",
        "from sklearn.metrics import accuracy_score\n",
        "\n",
        "\n",
        "parameters_rf = {\n",
        "          \"criterion\":['gini','entropy'],\n",
        "          \"max_depth\": [3,5,None],\n",
        "          \"max_features\": [None, \"auto\"],\n",
        "          \"min_samples_leaf\": [1, 5],\n",
        "          \"min_samples_split\": [2, 5],\n",
        "          'bootstrap': [False, True],\n",
        "          'max_samples': [0.5, 1],\n",
        "          'n_estimators': [2, 5, 100],\n",
        "          \"oob_score\":[False, True],\n",
        "           \"random_state\":[None,2]\n",
        "         }\n",
        "\n",
        "\n",
        "gs_rf = RandomizedSearchCV(rfc, parameters_rf, scoring='accuracy', n_jobs=3)\n",
        "gs_rf.fit(xtrain, ytrain)"
      ],
      "execution_count": null,
      "outputs": [
        {
          "output_type": "execute_result",
          "data": {
            "text/plain": [
              "RandomizedSearchCV(cv=None, error_score=nan,\n",
              "                   estimator=RandomForestClassifier(bootstrap=True,\n",
              "                                                    ccp_alpha=0.0,\n",
              "                                                    class_weight=None,\n",
              "                                                    criterion='gini',\n",
              "                                                    max_depth=None,\n",
              "                                                    max_features='auto',\n",
              "                                                    max_leaf_nodes=None,\n",
              "                                                    max_samples=None,\n",
              "                                                    min_impurity_decrease=0.0,\n",
              "                                                    min_impurity_split=None,\n",
              "                                                    min_samples_leaf=1,\n",
              "                                                    min_samples_split=2,\n",
              "                                                    min_weight_fraction_leaf=0.0,\n",
              "                                                    n_estimators=100,\n",
              "                                                    n_j...\n",
              "                   param_distributions={'bootstrap': [False, True],\n",
              "                                        'criterion': ['gini', 'entropy'],\n",
              "                                        'max_depth': [3, 5, None],\n",
              "                                        'max_features': [None, 'auto'],\n",
              "                                        'max_samples': [0.5, 1],\n",
              "                                        'min_samples_leaf': [1, 5],\n",
              "                                        'min_samples_split': [2, 5],\n",
              "                                        'n_estimators': [2, 5, 100],\n",
              "                                        'oob_score': [False, True],\n",
              "                                        'random_state': [None, 2]},\n",
              "                   pre_dispatch='2*n_jobs', random_state=None, refit=True,\n",
              "                   return_train_score=False, scoring='accuracy', verbose=0)"
            ]
          },
          "metadata": {},
          "execution_count": 42
        }
      ]
    },
    {
      "cell_type": "code",
      "metadata": {
        "colab": {
          "base_uri": "https://localhost:8080/",
          "height": 698
        },
        "id": "OqBbTdtm8XKA",
        "outputId": "9dae949a-3633-4ded-f511-b1c138a89da9"
      },
      "source": [
        "print(\"Best score: %0.3f\" % gs_rf.best_score_) \n",
        "print(\"Best parameters set:\" )\n",
        "best_parameters_rf = gs_rf.best_estimator_.get_params()\n",
        "for param_name_rf in sorted (parameters_rf . keys()): \n",
        "                    print(\"\\t %s: %r\" % (param_name_rf, best_parameters_rf[param_name_rf]))\n",
        "        \n",
        "y_pred = gs_rf.predict(X_test)\n",
        "\n",
        "# print(classification_report(y_test, y_pred))\n",
        "print(\"accuracy: \",accuracy_score(y_test, y_pred))\n",
        "print_confusion_matrix( y_pred,y_test, [\"0\", \"1\"])"
      ],
      "execution_count": null,
      "outputs": [
        {
          "output_type": "stream",
          "name": "stdout",
          "text": [
            "Best score: 0.750\n",
            "Best parameters set:\n",
            "\t bootstrap: False\n",
            "\t criterion: 'entropy'\n",
            "\t max_depth: 3\n",
            "\t max_features: 'auto'\n",
            "\t max_samples: 0.5\n",
            "\t min_samples_leaf: 1\n",
            "\t min_samples_split: 2\n",
            "\t n_estimators: 100\n",
            "\t oob_score: False\n",
            "\t random_state: None\n",
            "accuracy:  0.75\n",
            "              precision    recall  f1-score   support\n",
            "\n",
            "           0       0.00      0.00      0.00       600\n",
            "           1       0.75      1.00      0.86      1800\n",
            "\n",
            "    accuracy                           0.75      2400\n",
            "   macro avg       0.38      0.50      0.43      2400\n",
            "weighted avg       0.56      0.75      0.64      2400\n",
            "\n"
          ]
        },
        {
          "output_type": "stream",
          "name": "stderr",
          "text": [
            "/usr/local/lib/python3.7/dist-packages/sklearn/metrics/_classification.py:1272: UndefinedMetricWarning: Precision and F-score are ill-defined and being set to 0.0 in labels with no predicted samples. Use `zero_division` parameter to control this behavior.\n",
            "  _warn_prf(average, modifier, msg_start, len(result))\n"
          ]
        },
        {
          "output_type": "display_data",
          "data": {
            "image/png": "[encoded data removed]",
            "text/plain": [
              "<Figure size 432x288 with 2 Axes>"
            ]
          },
          "metadata": {
            "needs_background": "light"
          }
        }
      ]
    },
    {
      "cell_type": "code",
      "metadata": {
        "colab": {
          "base_uri": "https://localhost:8080/",
          "height": 278
        },
        "id": "IvzVBmQnufZJ",
        "outputId": "bdb688cb-7629-4989-c722-4783e9c96d0f"
      },
      "source": [
        "from sklearn.metrics import roc_curve, auc\n",
        "import matplotlib.pyplot as plt\n",
        "\n",
        "actual = y_test\n",
        "decision_tree_prob = [p[1] for p in dtc.predict_proba(X_test)]\n",
        "naive_bayes_prob = [p[1] for p in nbc.predict_proba(X_test)]\n",
        "random_forest_prob = [p[1] for p in rfc.predict_proba(X_test)]\n",
        "random_forest_prob_1 = [p[1] for p in gs_rf.predict_proba(X_test)]\n",
        "\n",
        "\n",
        "dt_false_pos, dt_true_pos, _ = roc_curve(actual, decision_tree_prob)\n",
        "dt_auc = auc(dt_false_pos, dt_true_pos)\n",
        "\n",
        "nb_false_pos, nb_true_pos, _ = roc_curve(actual, naive_bayes_prob)\n",
        "nb_auc = auc(nb_false_pos, nb_true_pos)\n",
        "\n",
        "rf_false_pos, rf_true_pos, _ = roc_curve(actual, random_forest_prob)\n",
        "rf_auc = auc(rf_false_pos, rf_true_pos)\n",
        "\n",
        "gs_rf_false_pos, gs_rf_true_pos, _ = roc_curve(actual, random_forest_prob_1)\n",
        "gs_rf_auc = auc(gs_rf_false_pos, gs_rf_true_pos)\n",
        "\n",
        "# plot\n",
        "plt.plot(dt_false_pos, dt_true_pos, 'r', label='Decision Tree AUC = %0.2f'% dt_auc)\n",
        "plt.plot(nb_false_pos, nb_true_pos, 'g', label='Naive Bayes AUC = %0.2f'% nb_auc)\n",
        "plt.plot(rf_false_pos, rf_true_pos, 'b', label='Random Forest AUC = %0.2f'% rf_auc)\n",
        "plt.plot(gs_rf_false_pos, gs_rf_true_pos, 'y', label='GS Random Forest AUC = %0.2f'% gs_rf_auc)\n",
        "\n",
        "\n",
        "plt.legend(loc='lower right')\n",
        "plt.plot([0,1], [0,1], 'r--')\n",
        "plt.ylabel('True Positive Rate')\n",
        "plt.xlabel('False Positive Rate')\n",
        "plt.show()"
      ],
      "execution_count": null,
      "outputs": [
        {
          "output_type": "display_data",
          "data": {
            "image/png": "[encoded data removed]",
            "text/plain": [
              "<Figure size 432x288 with 1 Axes>"
            ]
          },
          "metadata": {
            "needs_background": "light"
          }
        }
      ]
    },
    {
      "cell_type": "code",
      "metadata": {
        "id": "9jCuGZAEvaBg"
      },
      "source": [
        "X_train_norm = xtrain\n",
        "X_test_norm = X_test"
      ],
      "execution_count": null,
      "outputs": []
    },
    {
      "cell_type": "code",
      "metadata": {
        "colab": {
          "base_uri": "https://localhost:8080/"
        },
        "id": "SHCXU5iLHJSW",
        "outputId": "0627c6a7-4a6c-4c5f-cf95-2abdd79ca16d"
      },
      "source": [
        "!pip install catboost"
      ],
      "execution_count": null,
      "outputs": [
        {
          "output_type": "stream",
          "name": "stdout",
          "text": [
            "Collecting catboost\n",
            "  Downloading catboost-0.26.1-cp37-none-manylinux1_x86_64.whl (67.4 MB)\n",
            "\u001b[K     |████████████████████████████████| 67.4 MB 26 kB/s \n",
            "\u001b[?25hRequirement already satisfied: scipy in /usr/local/lib/python3.7/dist-packages (from catboost) (1.4.1)\n",
            "Requirement already satisfied: plotly in /usr/local/lib/python3.7/dist-packages (from catboost) (4.4.1)\n",
            "Requirement already satisfied: pandas>=0.24.0 in /usr/local/lib/python3.7/dist-packages (from catboost) (1.1.5)\n",
            "Requirement already satisfied: six in /usr/local/lib/python3.7/dist-packages (from catboost) (1.15.0)\n",
            "Requirement already satisfied: numpy>=1.16.0 in /usr/local/lib/python3.7/dist-packages (from catboost) (1.19.5)\n",
            "Requirement already satisfied: graphviz in /usr/local/lib/python3.7/dist-packages (from catboost) (0.10.1)\n",
            "Requirement already satisfied: matplotlib in /usr/local/lib/python3.7/dist-packages (from catboost) (3.2.2)\n",
            "Requirement already satisfied: python-dateutil>=2.7.3 in /usr/local/lib/python3.7/dist-packages (from pandas>=0.24.0->catboost) (2.8.2)\n",
            "Requirement already satisfied: pytz>=2017.2 in /usr/local/lib/python3.7/dist-packages (from pandas>=0.24.0->catboost) (2018.9)\n",
            "Requirement already satisfied: kiwisolver>=1.0.1 in /usr/local/lib/python3.7/dist-packages (from matplotlib->catboost) (1.3.1)\n",
            "Requirement already satisfied: pyparsing!=2.0.4,!=2.1.2,!=2.1.6,>=2.0.1 in /usr/local/lib/python3.7/dist-packages (from matplotlib->catboost) (2.4.7)\n",
            "Requirement already satisfied: cycler>=0.10 in /usr/local/lib/python3.7/dist-packages (from matplotlib->catboost) (0.10.0)\n",
            "Requirement already satisfied: retrying>=1.3.3 in /usr/local/lib/python3.7/dist-packages (from plotly->catboost) (1.3.3)\n",
            "Installing collected packages: catboost\n",
            "Successfully installed catboost-0.26.1\n"
          ]
        }
      ]
    },
    {
      "cell_type": "code",
      "metadata": {
        "id": "4yEJP7H1HHqQ"
      },
      "source": [
        "from catboost import Pool, cv, CatBoostClassifier, CatBoostRegressor"
      ],
      "execution_count": null,
      "outputs": []
    },
    {
      "cell_type": "code",
      "metadata": {
        "id": "yOpNC5EIG2sE"
      },
      "source": [
        "train_pool = Pool(data=xtrain,label = ytrain)"
      ],
      "execution_count": null,
      "outputs": []
    },
    {
      "cell_type": "code",
      "metadata": {
        "id": "rZyM7CCCbKdj"
      },
      "source": [
        "import sklearn.metrics as metrics"
      ],
      "execution_count": null,
      "outputs": []
    },
    {
      "cell_type": "code",
      "metadata": {
        "colab": {
          "base_uri": "https://localhost:8080/",
          "height": 33,
          "referenced_widgets": [
            "7d0f01a3d3814cda8af39fb9a9af6671"
          ]
        },
        "id": "Ozg2jw8LG-_h",
        "outputId": "dce82d10-560e-42f2-9d84-334d131e5930"
      },
      "source": [
        "model_basic = CatBoostClassifier()\n",
        "model_basic.fit(train_pool, plot=True,silent=True)\n",
        "print(model_basic.get_best_score())\n",
        "\n",
        "predicted_values = model_basic.predict(X_test)"
      ],
      "execution_count": null,
      "outputs": [
        {
          "output_type": "display_data",
          "data": {
            "application/vnd.jupyter.widget-view+json": {
              "model_id": "7d0f01a3d3814cda8af39fb9a9af6671",
              "version_minor": 0,
              "version_major": 2
            },
            "text/plain": [
              "MetricVisualizer(layout=Layout(align_self='stretch', height='500px'))"
            ]
          },
          "metadata": {}
        },
        {
          "output_type": "stream",
          "name": "stdout",
          "text": [
            "{'learn': {'Logloss': 0.25200595728355424}}\n"
          ]
        }
      ]
    },
    {
      "cell_type": "code",
      "metadata": {
        "colab": {
          "base_uri": "https://localhost:8080/",
          "height": 463
        },
        "id": "T0wyhJbKPmP2",
        "outputId": "8fcf8957-8f24-4c57-9397-83fa26138f3c"
      },
      "source": [
        "print_confusion_matrix(predicted_values, y_test, [\"0\", \"1\"])\n",
        "print(\"Accuracy:\", metrics.accuracy_score(y_test, predicted_values))"
      ],
      "execution_count": null,
      "outputs": [
        {
          "output_type": "stream",
          "name": "stdout",
          "text": [
            "              precision    recall  f1-score   support\n",
            "\n",
            "           0       0.66      0.22      0.33       600\n",
            "           1       0.79      0.96      0.87      1800\n",
            "\n",
            "    accuracy                           0.78      2400\n",
            "   macro avg       0.72      0.59      0.60      2400\n",
            "weighted avg       0.75      0.78      0.73      2400\n",
            "\n",
            "Accuracy: 0.7758333333333334\n"
          ]
        },
        {
          "output_type": "display_data",
          "data": {
            "image/png": "[encoded data removed]",
            "text/plain": [
              "<Figure size 432x288 with 2 Axes>"
            ]
          },
          "metadata": {
            "needs_background": "light"
          }
        }
      ]
    },
    {
      "cell_type": "code",
      "metadata": {
        "id": "4yciljC9FaTN"
      },
      "source": [
        "from sklearn.preprocessing import MinMaxScaler\n",
        "from sklearn.ensemble import GradientBoostingClassifier"
      ],
      "execution_count": null,
      "outputs": []
    },
    {
      "cell_type": "code",
      "metadata": {
        "colab": {
          "base_uri": "https://localhost:8080/",
          "height": 1000
        },
        "id": "0CFGIyWv4ks6",
        "outputId": "68b8d79d-b717-43d3-f23d-ae21b5b45320"
      },
      "source": [
        "lr_list = [ 0.5, 0.75, 1, 1.1, 1.2, 1.3, 1.4, 1.5, 2, 3, 4, 5, 6.3, 7.7, 10, 20, 30, 45, 55, 62, 77, 84, 90]\n",
        "\n",
        "for learning_rate in lr_list:\n",
        "    gb_clf = GradientBoostingClassifier(n_estimators=100, learning_rate=learning_rate, max_features=10, max_depth=10, random_state=0)\n",
        "    gb_clf.fit(xtrain, ytrain)\n",
        "    predicted_values = gb_clf.predict(X_test)\n",
        "\n",
        "    print(\"Learning rate: \", learning_rate)\n",
        "    print_confusion_matrix(predicted_values, y_test, [\"0\", \"1\"])\n",
        "    plt.show()"
      ],
      "execution_count": null,
      "outputs": [
        {
          "output_type": "stream",
          "name": "stdout",
          "text": [
            "Learning rate:  0.5\n",
            "              precision    recall  f1-score   support\n",
            "\n",
            "           0       0.51      0.24      0.32       600\n",
            "           1       0.78      0.92      0.85      1800\n",
            "\n",
            "    accuracy                           0.75      2400\n",
            "   macro avg       0.65      0.58      0.59      2400\n",
            "weighted avg       0.72      0.75      0.72      2400\n",
            "\n"
          ]
        },
        {
          "output_type": "display_data",
          "data": {
            "image/png": "[encoded data removed]",
            "text/plain": [
              "<Figure size 432x288 with 2 Axes>"
            ]
          },
          "metadata": {
            "needs_background": "light"
          }
        },
        {
          "output_type": "stream",
          "name": "stdout",
          "text": [
            "Learning rate:  0.75\n",
            "              precision    recall  f1-score   support\n",
            "\n",
            "           0       0.49      0.27      0.35       600\n",
            "           1       0.79      0.91      0.84      1800\n",
            "\n",
            "    accuracy                           0.75      2400\n",
            "   macro avg       0.64      0.59      0.60      2400\n",
            "weighted avg       0.71      0.75      0.72      2400\n",
            "\n"
          ]
        },
        {
          "output_type": "display_data",
          "data": {
            "image/png": "[encoded data removed]",
            "text/plain": [
              "<Figure size 432x288 with 2 Axes>"
            ]
          },
          "metadata": {
            "needs_background": "light"
          }
        },
        {
          "output_type": "stream",
          "name": "stdout",
          "text": [
            "Learning rate:  1\n",
            "              precision    recall  f1-score   support\n",
            "\n",
            "           0       0.48      0.29      0.36       600\n",
            "           1       0.79      0.90      0.84      1800\n",
            "\n",
            "    accuracy                           0.74      2400\n",
            "   macro avg       0.63      0.59      0.60      2400\n",
            "weighted avg       0.71      0.74      0.72      2400\n",
            "\n"
          ]
        },
        {
          "output_type": "display_data",
          "data": {
            "image/png": "[encoded data removed]",
            "text/plain": [
              "<Figure size 432x288 with 2 Axes>"
            ]
          },
          "metadata": {
            "needs_background": "light"
          }
        },
        {
          "output_type": "stream",
          "name": "stdout",
          "text": [
            "Learning rate:  1.1\n",
            "              precision    recall  f1-score   support\n",
            "\n",
            "           0       0.44      0.30      0.36       600\n",
            "           1       0.79      0.87      0.83      1800\n",
            "\n",
            "    accuracy                           0.73      2400\n",
            "   macro avg       0.61      0.59      0.59      2400\n",
            "weighted avg       0.70      0.73      0.71      2400\n",
            "\n"
          ]
        },
        {
          "output_type": "display_data",
          "data": {
            "image/png": "[encoded data removed]",
            "text/plain": [
              "<Figure size 432x288 with 2 Axes>"
            ]
          },
          "metadata": {
            "needs_background": "light"
          }
        },
        {
          "output_type": "stream",
          "name": "stdout",
          "text": [
            "Learning rate:  1.2\n",
            "              precision    recall  f1-score   support\n",
            "\n",
            "           0       0.47      0.30      0.37       600\n",
            "           1       0.79      0.89      0.84      1800\n",
            "\n",
            "    accuracy                           0.74      2400\n",
            "   macro avg       0.63      0.60      0.60      2400\n",
            "weighted avg       0.71      0.74      0.72      2400\n",
            "\n"
          ]
        },
        {
          "output_type": "display_data",
          "data": {
            "image/png": "[encoded data removed]",
            "text/plain": [
              "<Figure size 432x288 with 2 Axes>"
            ]
          },
          "metadata": {
            "needs_background": "light"
          }
        },
        {
          "output_type": "stream",
          "name": "stdout",
          "text": [
            "Learning rate:  1.3\n",
            "              precision    recall  f1-score   support\n",
            "\n",
            "           0       0.46      0.33      0.38       600\n",
            "           1       0.80      0.87      0.83      1800\n",
            "\n",
            "    accuracy                           0.73      2400\n",
            "   macro avg       0.63      0.60      0.61      2400\n",
            "weighted avg       0.71      0.73      0.72      2400\n",
            "\n"
          ]
        },
        {
          "output_type": "display_data",
          "data": {
            "image/png": "[encoded data removed]",
            "text/plain": [
              "<Figure size 432x288 with 2 Axes>"
            ]
          },
          "metadata": {
            "needs_background": "light"
          }
        },
        {
          "output_type": "stream",
          "name": "stdout",
          "text": [
            "Learning rate:  1.4\n",
            "              precision    recall  f1-score   support\n",
            "\n",
            "           0       0.40      0.30      0.34       600\n",
            "           1       0.78      0.85      0.82      1800\n",
            "\n",
            "    accuracy                           0.71      2400\n",
            "   macro avg       0.59      0.58      0.58      2400\n",
            "weighted avg       0.69      0.71      0.70      2400\n",
            "\n"
          ]
        },
        {
          "output_type": "display_data",
          "data": {
            "image/png": "[encoded data removed]",
            "text/plain": [
              "<Figure size 432x288 with 2 Axes>"
            ]
          },
          "metadata": {
            "needs_background": "light"
          }
        },
        {
          "output_type": "stream",
          "name": "stdout",
          "text": [
            "Learning rate:  1.5\n",
            "              precision    recall  f1-score   support\n",
            "\n",
            "           0       0.41      0.30      0.35       600\n",
            "           1       0.79      0.85      0.82      1800\n",
            "\n",
            "    accuracy                           0.71      2400\n",
            "   macro avg       0.60      0.58      0.58      2400\n",
            "weighted avg       0.69      0.71      0.70      2400\n",
            "\n"
          ]
        },
        {
          "output_type": "display_data",
          "data": {
            "image/png": "[encoded data removed]",
            "text/plain": [
              "<Figure size 432x288 with 2 Axes>"
            ]
          },
          "metadata": {
            "needs_background": "light"
          }
        },
        {
          "output_type": "stream",
          "name": "stdout",
          "text": [
            "Learning rate:  2\n",
            "              precision    recall  f1-score   support\n",
            "\n",
            "           0       0.33      0.32      0.32       600\n",
            "           1       0.78      0.79      0.78      1800\n",
            "\n",
            "    accuracy                           0.67      2400\n",
            "   macro avg       0.56      0.55      0.55      2400\n",
            "weighted avg       0.67      0.67      0.67      2400\n",
            "\n"
          ]
        },
        {
          "output_type": "display_data",
          "data": {
            "image/png": "[encoded data removed]",
            "text/plain": [
              "<Figure size 432x288 with 2 Axes>"
            ]
          },
          "metadata": {
            "needs_background": "light"
          }
        },
        {
          "output_type": "stream",
          "name": "stdout",
          "text": [
            "Learning rate:  3\n",
            "              precision    recall  f1-score   support\n",
            "\n",
            "           0       0.30      0.33      0.32       600\n",
            "           1       0.77      0.75      0.76      1800\n",
            "\n",
            "    accuracy                           0.65      2400\n",
            "   macro avg       0.54      0.54      0.54      2400\n",
            "weighted avg       0.65      0.65      0.65      2400\n",
            "\n"
          ]
        },
        {
          "output_type": "display_data",
          "data": {
            "image/png": "[encoded data removed]",
            "text/plain": [
              "<Figure size 432x288 with 2 Axes>"
            ]
          },
          "metadata": {
            "needs_background": "light"
          }
        },
        {
          "output_type": "stream",
          "name": "stdout",
          "text": [
            "Learning rate:  4\n",
            "              precision    recall  f1-score   support\n",
            "\n",
            "           0       0.29      0.32      0.30       600\n",
            "           1       0.76      0.73      0.75      1800\n",
            "\n",
            "    accuracy                           0.63      2400\n",
            "   macro avg       0.53      0.53      0.53      2400\n",
            "weighted avg       0.65      0.63      0.64      2400\n",
            "\n"
          ]
        },
        {
          "output_type": "display_data",
          "data": {
            "image/png": "[encoded data removed]",
            "text/plain": [
              "<Figure size 432x288 with 2 Axes>"
            ]
          },
          "metadata": {
            "needs_background": "light"
          }
        },
        {
          "output_type": "stream",
          "name": "stdout",
          "text": [
            "Learning rate:  5\n",
            "              precision    recall  f1-score   support\n",
            "\n",
            "           0       0.28      0.38      0.32       600\n",
            "           1       0.77      0.68      0.72      1800\n",
            "\n",
            "    accuracy                           0.61      2400\n",
            "   macro avg       0.53      0.53      0.52      2400\n",
            "weighted avg       0.65      0.61      0.62      2400\n",
            "\n"
          ]
        },
        {
          "output_type": "display_data",
          "data": {
            "image/png": "[encoded data removed]",
            "text/plain": [
              "<Figure size 432x288 with 2 Axes>"
            ]
          },
          "metadata": {
            "needs_background": "light"
          }
        },
        {
          "output_type": "stream",
          "name": "stdout",
          "text": [
            "Learning rate:  6.3\n",
            "              precision    recall  f1-score   support\n",
            "\n",
            "           0       0.33      0.33      0.33       600\n",
            "           1       0.78      0.78      0.78      1800\n",
            "\n",
            "    accuracy                           0.66      2400\n",
            "   macro avg       0.55      0.55      0.55      2400\n",
            "weighted avg       0.66      0.66      0.66      2400\n",
            "\n"
          ]
        },
        {
          "output_type": "display_data",
          "data": {
            "image/png": "[encoded data removed]",
            "text/plain": [
              "<Figure size 432x288 with 2 Axes>"
            ]
          },
          "metadata": {
            "needs_background": "light"
          }
        },
        {
          "output_type": "stream",
          "name": "stdout",
          "text": [
            "Learning rate:  7.7\n",
            "              precision    recall  f1-score   support\n",
            "\n",
            "           0       0.25      0.35      0.30       600\n",
            "           1       0.75      0.65      0.70      1800\n",
            "\n",
            "    accuracy                           0.58      2400\n",
            "   macro avg       0.50      0.50      0.50      2400\n",
            "weighted avg       0.63      0.58      0.60      2400\n",
            "\n"
          ]
        },
        {
          "output_type": "display_data",
          "data": {
            "image/png": "[encoded data removed]",
            "text/plain": [
              "<Figure size 432x288 with 2 Axes>"
            ]
          },
          "metadata": {
            "needs_background": "light"
          }
        },
        {
          "output_type": "stream",
          "name": "stdout",
          "text": [
            "Learning rate:  10\n",
            "              precision    recall  f1-score   support\n",
            "\n",
            "           0       0.28      0.44      0.34       600\n",
            "           1       0.77      0.62      0.69      1800\n",
            "\n",
            "    accuracy                           0.58      2400\n",
            "   macro avg       0.52      0.53      0.51      2400\n",
            "weighted avg       0.65      0.58      0.60      2400\n",
            "\n"
          ]
        },
        {
          "output_type": "display_data",
          "data": {
            "image/png": "[encoded data removed]",
            "text/plain": [
              "<Figure size 432x288 with 2 Axes>"
            ]
          },
          "metadata": {
            "needs_background": "light"
          }
        },
        {
          "output_type": "stream",
          "name": "stdout",
          "text": [
            "Learning rate:  20\n",
            "              precision    recall  f1-score   support\n",
            "\n",
            "           0       0.34      0.27      0.30       600\n",
            "           1       0.77      0.83      0.80      1800\n",
            "\n",
            "    accuracy                           0.69      2400\n",
            "   macro avg       0.56      0.55      0.55      2400\n",
            "weighted avg       0.67      0.69      0.67      2400\n",
            "\n"
          ]
        },
        {
          "output_type": "display_data",
          "data": {
            "image/png": "[encoded data removed]",
            "text/plain": [
              "<Figure size 432x288 with 2 Axes>"
            ]
          },
          "metadata": {
            "needs_background": "light"
          }
        },
        {
          "output_type": "stream",
          "name": "stdout",
          "text": [
            "Learning rate:  30\n",
            "              precision    recall  f1-score   support\n",
            "\n",
            "           0       0.27      0.44      0.34       600\n",
            "           1       0.77      0.61      0.68      1800\n",
            "\n",
            "    accuracy                           0.57      2400\n",
            "   macro avg       0.52      0.53      0.51      2400\n",
            "weighted avg       0.64      0.57      0.59      2400\n",
            "\n"
          ]
        },
        {
          "output_type": "display_data",
          "data": {
            "image/png": "[encoded data removed]",
            "text/plain": [
              "<Figure size 432x288 with 2 Axes>"
            ]
          },
          "metadata": {
            "needs_background": "light"
          }
        },
        {
          "output_type": "stream",
          "name": "stdout",
          "text": [
            "Learning rate:  45\n",
            "              precision    recall  f1-score   support\n",
            "\n",
            "           0       0.29      0.28      0.29       600\n",
            "           1       0.76      0.78      0.77      1800\n",
            "\n",
            "    accuracy                           0.65      2400\n",
            "   macro avg       0.53      0.53      0.53      2400\n",
            "weighted avg       0.65      0.65      0.65      2400\n",
            "\n"
          ]
        },
        {
          "output_type": "display_data",
          "data": {
            "image/png": "[encoded data removed]",
            "text/plain": [
              "<Figure size 432x288 with 2 Axes>"
            ]
          },
          "metadata": {
            "needs_background": "light"
          }
        },
        {
          "output_type": "stream",
          "name": "stdout",
          "text": [
            "Learning rate:  55\n",
            "              precision    recall  f1-score   support\n",
            "\n",
            "           0       0.30      0.33      0.32       600\n",
            "           1       0.77      0.75      0.76      1800\n",
            "\n",
            "    accuracy                           0.64      2400\n",
            "   macro avg       0.54      0.54      0.54      2400\n",
            "weighted avg       0.65      0.64      0.65      2400\n",
            "\n"
          ]
        },
        {
          "output_type": "display_data",
          "data": {
            "image/png": "[encoded data removed]",
            "text/plain": [
              "<Figure size 432x288 with 2 Axes>"
            ]
          },
          "metadata": {
            "needs_background": "light"
          }
        },
        {
          "output_type": "stream",
          "name": "stdout",
          "text": [
            "Learning rate:  62\n",
            "              precision    recall  f1-score   support\n",
            "\n",
            "           0       0.25      0.35      0.29       600\n",
            "           1       0.75      0.65      0.70      1800\n",
            "\n",
            "    accuracy                           0.58      2400\n",
            "   macro avg       0.50      0.50      0.50      2400\n",
            "weighted avg       0.63      0.58      0.60      2400\n",
            "\n"
          ]
        },
        {
          "output_type": "display_data",
          "data": {
            "image/png": "[encoded data removed]",
            "text/plain": [
              "<Figure size 432x288 with 2 Axes>"
            ]
          },
          "metadata": {
            "needs_background": "light"
          }
        },
        {
          "output_type": "stream",
          "name": "stdout",
          "text": [
            "Learning rate:  77\n",
            "              precision    recall  f1-score   support\n",
            "\n",
            "           0       0.32      0.39      0.35       600\n",
            "           1       0.78      0.72      0.75      1800\n",
            "\n",
            "    accuracy                           0.64      2400\n",
            "   macro avg       0.55      0.55      0.55      2400\n",
            "weighted avg       0.66      0.64      0.65      2400\n",
            "\n"
          ]
        },
        {
          "output_type": "display_data",
          "data": {
            "image/png": "[encoded data removed]",
            "text/plain": [
              "<Figure size 432x288 with 2 Axes>"
            ]
          },
          "metadata": {
            "needs_background": "light"
          }
        },
        {
          "output_type": "stream",
          "name": "stdout",
          "text": [
            "Learning rate:  84\n",
            "              precision    recall  f1-score   support\n",
            "\n",
            "           0       0.26      0.45      0.33       600\n",
            "           1       0.76      0.57      0.65      1800\n",
            "\n",
            "    accuracy                           0.54      2400\n",
            "   macro avg       0.51      0.51      0.49      2400\n",
            "weighted avg       0.63      0.54      0.57      2400\n",
            "\n"
          ]
        },
        {
          "output_type": "display_data",
          "data": {
            "image/png": "[encoded data removed]",
            "text/plain": [
              "<Figure size 432x288 with 2 Axes>"
            ]
          },
          "metadata": {
            "needs_background": "light"
          }
        },
        {
          "output_type": "stream",
          "name": "stdout",
          "text": [
            "Learning rate:  90\n",
            "              precision    recall  f1-score   support\n",
            "\n",
            "           0       0.25      0.38      0.30       600\n",
            "           1       0.75      0.62      0.68      1800\n",
            "\n",
            "    accuracy                           0.56      2400\n",
            "   macro avg       0.50      0.50      0.49      2400\n",
            "weighted avg       0.62      0.56      0.59      2400\n",
            "\n"
          ]
        },
        {
          "output_type": "display_data",
          "data": {
            "image/png": "[encoded data removed]",
            "text/plain": [
              "<Figure size 432x288 with 2 Axes>"
            ]
          },
          "metadata": {
            "needs_background": "light"
          }
        }
      ]
    },
    {
      "cell_type": "code",
      "metadata": {
        "id": "FSa4s9KAchAf"
      },
      "source": [
        "from sklearn.model_selection import train_test_split\n",
        "import scipy.stats as st"
      ],
      "execution_count": null,
      "outputs": []
    },
    {
      "cell_type": "code",
      "metadata": {
        "id": "APw2Zh054PXq"
      },
      "source": [
        "X_val, X_test_1, y_val, y_test_1 = train_test_split(X_test, y_test, test_size=0.7, random_state=42)"
      ],
      "execution_count": null,
      "outputs": []
    },
    {
      "cell_type": "code",
      "metadata": {
        "colab": {
          "base_uri": "https://localhost:8080/"
        },
        "id": "utRGrQlxcVZa",
        "outputId": "619a2b69-d291-4fbe-9ce9-39c8d92973c9"
      },
      "source": [
        "from sklearn.model_selection import  GridSearchCV, RandomizedSearchCV\n",
        "from sklearn.metrics import roc_auc_score\n",
        "from sklearn.model_selection import KFold\n",
        "from xgboost import XGBClassifier\n",
        "from sklearn.metrics import roc_auc_score\n",
        "from sklearn.model_selection import StratifiedKFold, KFold\n",
        "\n",
        "from sklearn.metrics import (confusion_matrix, precision_recall_curve, auc,\n",
        "                             roc_curve, recall_score, classification_report, f1_score,\n",
        "                             precision_recall_fscore_support, roc_auc_score)\n",
        "\n",
        "gkf = KFold(n_splits=3, shuffle=True, random_state=42).split(X=xtrain, y=ytrain)\n",
        "fit_params_of_xgb = {\n",
        "    \"early_stopping_rounds\":100, \n",
        "    \"eval_metric\" : 'auc', \n",
        "    \"eval_set\" : [(X_val,y_val)],\n",
        "    'verbose': 500,\n",
        "}\n",
        "params = {\n",
        "    'booster': [\"gbtree\"],\n",
        "    'learning_rate': [0.01],\n",
        "    'n_estimators': [3000],\n",
        "    'min_child_weight': [1],#1\n",
        "    'gamma': [0],\n",
        "    'subsample': [0.4],\n",
        "    'colsample_bytree': [0.8],\n",
        "    'max_depth': [4],\n",
        "    \"scale_pos_weight\": [1],\n",
        "    \"reg_alpha\":[1],#0.08\n",
        "}\n",
        "xgb_estimator = XGBClassifier(\n",
        "    objective='binary:logistic',\n",
        "    silent=True,\n",
        ")\n",
        "\n",
        "gsearch = GridSearchCV(\n",
        "    estimator=xgb_estimator,\n",
        "    param_grid=params,\n",
        "    scoring='roc_auc',\n",
        "    n_jobs=-1,\n",
        "    cv=gkf, verbose=3\n",
        ")\n",
        "xgb_model = gsearch.fit(X=xtrain, y=ytrain, **fit_params_of_xgb)\n",
        "gsearch.best_params_, gsearch.best_score_"
      ],
      "execution_count": null,
      "outputs": [
        {
          "output_type": "stream",
          "name": "stdout",
          "text": [
            "Fitting 3 folds for each of 1 candidates, totalling 3 fits\n"
          ]
        },
        {
          "output_type": "stream",
          "name": "stderr",
          "text": [
            "[Parallel(n_jobs=-1)]: Using backend LokyBackend with 2 concurrent workers.\n",
            "[Parallel(n_jobs=-1)]: Done   3 out of   3 | elapsed:  8.0min finished\n"
          ]
        },
        {
          "output_type": "stream",
          "name": "stdout",
          "text": [
            "[0]\tvalidation_0-auc:0.610388\n",
            "Will train until validation_0-auc hasn't improved in 100 rounds.\n",
            "[500]\tvalidation_0-auc:0.778714\n",
            "Stopping. Best iteration:\n",
            "[841]\tvalidation_0-auc:0.789077\n",
            "\n"
          ]
        },
        {
          "output_type": "execute_result",
          "data": {
            "text/plain": [
              "({'booster': 'gbtree',\n",
              "  'colsample_bytree': 0.8,\n",
              "  'gamma': 0,\n",
              "  'learning_rate': 0.01,\n",
              "  'max_depth': 4,\n",
              "  'min_child_weight': 1,\n",
              "  'n_estimators': 3000,\n",
              "  'reg_alpha': 1,\n",
              "  'scale_pos_weight': 1,\n",
              "  'subsample': 0.4},\n",
              " 0.751666661733131)"
            ]
          },
          "metadata": {},
          "execution_count": 56
        }
      ]
    },
    {
      "cell_type": "code",
      "metadata": {
        "id": "SUj26D0N7YeH"
      },
      "source": [
        "predicted_values = xgb_model.predict(X_test)"
      ],
      "execution_count": null,
      "outputs": []
    },
    {
      "cell_type": "code",
      "metadata": {
        "colab": {
          "base_uri": "https://localhost:8080/",
          "height": 463
        },
        "id": "IhFQT6UaDuvb",
        "outputId": "dc257c2a-e1bf-4ce2-82e7-d8684b8c01b9"
      },
      "source": [
        "print_confusion_matrix(predicted_values, y_test, [\"0\", \"1\"])\n",
        "print(\"Accuracy:\", metrics.accuracy_score(y_test, predicted_values))"
      ],
      "execution_count": null,
      "outputs": [
        {
          "output_type": "stream",
          "name": "stdout",
          "text": [
            "              precision    recall  f1-score   support\n",
            "\n",
            "           0       0.67      0.20      0.31       600\n",
            "           1       0.78      0.97      0.87      1800\n",
            "\n",
            "    accuracy                           0.78      2400\n",
            "   macro avg       0.73      0.58      0.59      2400\n",
            "weighted avg       0.75      0.78      0.73      2400\n",
            "\n",
            "Accuracy: 0.775\n"
          ]
        },
        {
          "output_type": "display_data",
          "data": {
            "image/png": "[encoded data removed]",
            "text/plain": [
              "<Figure size 432x288 with 2 Axes>"
            ]
          },
          "metadata": {
            "needs_background": "light"
          }
        }
      ]
    },
    {
      "cell_type": "code",
      "metadata": {
        "colab": {
          "base_uri": "https://localhost:8080/",
          "height": 278
        },
        "id": "_w6VKlTlBuUi",
        "outputId": "b7cef534-03df-4027-9b5a-015a415c4a06"
      },
      "source": [
        "actual = y_test\n",
        "xg_tree_prob = [p[1] for p in xgb_model.predict_proba(X_test)]\n",
        "\n",
        "\n",
        "dt_false_pos, dt_true_pos, _ = roc_curve(actual, xg_tree_prob)\n",
        "dt_auc = auc(dt_false_pos, dt_true_pos)\n",
        "\n",
        "# plot\n",
        "plt.plot(dt_false_pos, dt_true_pos, 'r', label='XGBoost Tree AUC = %0.2f'% dt_auc)\n",
        "\n",
        "\n",
        "plt.legend(loc='lower right')\n",
        "plt.plot([0,1], [0,1], 'r--')\n",
        "plt.ylabel('True Positive Rate')\n",
        "plt.xlabel('False Positive Rate')\n",
        "plt.show()"
      ],
      "execution_count": null,
      "outputs": [
        {
          "output_type": "display_data",
          "data": {
            "image/png": "[encoded data removed]",
            "text/plain": [
              "<Figure size 432x288 with 1 Axes>"
            ]
          },
          "metadata": {
            "needs_background": "light"
          }
        }
      ]
    },
    {
      "cell_type": "code",
      "metadata": {
        "id": "lMU8AwNg35SX"
      },
      "source": [
        "from sklearn.neural_network import MLPClassifier"
      ],
      "execution_count": null,
      "outputs": []
    },
    {
      "cell_type": "code",
      "metadata": {
        "id": "VuVNnEikPOOV"
      },
      "source": [
        "clf = MLPClassifier((20, ), max_iter=100000).fit(xtrain, ytrain)"
      ],
      "execution_count": null,
      "outputs": []
    },
    {
      "cell_type": "code",
      "metadata": {
        "id": "gQLITkC9P0OJ"
      },
      "source": [
        "predicted_values = clf.predict(X_test)"
      ],
      "execution_count": null,
      "outputs": []
    },
    {
      "cell_type": "code",
      "metadata": {
        "colab": {
          "base_uri": "https://localhost:8080/",
          "height": 463
        },
        "id": "J7D4apu5PuDn",
        "outputId": "f1eac6c0-bc6b-4454-b314-38bb595bce56"
      },
      "source": [
        "print_confusion_matrix(predicted_values, y_test, [\"0\", \"1\"])\n",
        "print(\"Accuracy:\", metrics.accuracy_score(y_test, predicted_values))"
      ],
      "execution_count": null,
      "outputs": [
        {
          "output_type": "stream",
          "name": "stdout",
          "text": [
            "              precision    recall  f1-score   support\n",
            "\n",
            "           0       0.47      0.43      0.45       600\n",
            "           1       0.82      0.84      0.83      1800\n",
            "\n",
            "    accuracy                           0.74      2400\n",
            "   macro avg       0.65      0.64      0.64      2400\n",
            "weighted avg       0.73      0.74      0.73      2400\n",
            "\n",
            "Accuracy: 0.7383333333333333\n"
          ]
        },
        {
          "output_type": "display_data",
          "data": {
            "image/png": "[encoded data removed]",
            "text/plain": [
              "<Figure size 432x288 with 2 Axes>"
            ]
          },
          "metadata": {
            "needs_background": "light"
          }
        }
      ]
    },
    {
      "cell_type": "code",
      "metadata": {
        "colab": {
          "base_uri": "https://localhost:8080/",
          "height": 463
        },
        "id": "7wJeUY1SEeU4",
        "outputId": "a1ba2fca-ce39-40c6-f418-b4e3a3433edf"
      },
      "source": [
        "clf = MLPClassifier((20, 20, ), max_iter=100000).fit(xtrain, ytrain)\n",
        "predicted_values = clf.predict(X_test)\n",
        "print_confusion_matrix(predicted_values, y_test, [\"0\", \"1\"])\n",
        "print(\"Accuracy:\", metrics.accuracy_score(y_test, predicted_values))"
      ],
      "execution_count": null,
      "outputs": [
        {
          "output_type": "stream",
          "name": "stdout",
          "text": [
            "              precision    recall  f1-score   support\n",
            "\n",
            "           0       0.44      0.43      0.44       600\n",
            "           1       0.81      0.81      0.81      1800\n",
            "\n",
            "    accuracy                           0.72      2400\n",
            "   macro avg       0.63      0.62      0.63      2400\n",
            "weighted avg       0.72      0.72      0.72      2400\n",
            "\n",
            "Accuracy: 0.72\n"
          ]
        },
        {
          "output_type": "display_data",
          "data": {
            "image/png": "[encoded data removed]",
            "text/plain": [
              "<Figure size 432x288 with 2 Axes>"
            ]
          },
          "metadata": {
            "needs_background": "light"
          }
        }
      ]
    },
    {
      "cell_type": "code",
      "metadata": {
        "colab": {
          "base_uri": "https://localhost:8080/",
          "height": 463
        },
        "id": "eIZpYZCyEr6d",
        "outputId": "e399a7b7-09e3-45c6-986d-b1f8f029a09a"
      },
      "source": [
        "clf = MLPClassifier((1000, ), max_iter=100000).fit(xtrain, ytrain)\n",
        "predicted_values = clf.predict(X_test)\n",
        "print_confusion_matrix(predicted_values, y_test, [\"0\", \"1\"])\n",
        "print(\"Accuracy:\", metrics.accuracy_score(y_test, predicted_values))"
      ],
      "execution_count": null,
      "outputs": [
        {
          "output_type": "stream",
          "name": "stdout",
          "text": [
            "              precision    recall  f1-score   support\n",
            "\n",
            "           0       0.55      0.43      0.48       600\n",
            "           1       0.82      0.88      0.85      1800\n",
            "\n",
            "    accuracy                           0.77      2400\n",
            "   macro avg       0.69      0.66      0.67      2400\n",
            "weighted avg       0.76      0.77      0.76      2400\n",
            "\n",
            "Accuracy: 0.77\n"
          ]
        },
        {
          "output_type": "display_data",
          "data": {
            "image/png": "[encoded data removed]",
            "text/plain": [
              "<Figure size 432x288 with 2 Axes>"
            ]
          },
          "metadata": {
            "needs_background": "light"
          }
        }
      ]
    },
    {
      "cell_type": "code",
      "metadata": {
        "colab": {
          "base_uri": "https://localhost:8080/",
          "height": 463
        },
        "id": "GKiGOYvSE_Xc",
        "outputId": "0d2409f7-2764-4dac-f27a-29b761d41569"
      },
      "source": [
        "clf = MLPClassifier((256, 64, 128, ), max_iter=100000, learning_rate=\"invscaling\").fit(xtrain, ytrain)\n",
        "predicted_values = clf.predict(X_test)\n",
        "print_confusion_matrix(predicted_values, y_test, [\"0\", \"1\"])\n",
        "print(\"Accuracy:\", metrics.accuracy_score(y_test, predicted_values))"
      ],
      "execution_count": null,
      "outputs": [
        {
          "output_type": "stream",
          "name": "stdout",
          "text": [
            "              precision    recall  f1-score   support\n",
            "\n",
            "           0       0.51      0.44      0.47       600\n",
            "           1       0.82      0.86      0.84      1800\n",
            "\n",
            "    accuracy                           0.76      2400\n",
            "   macro avg       0.67      0.65      0.66      2400\n",
            "weighted avg       0.75      0.76      0.75      2400\n",
            "\n",
            "Accuracy: 0.75625\n"
          ]
        },
        {
          "output_type": "display_data",
          "data": {
            "image/png": "[encoded data removed]",
            "text/plain": [
              "<Figure size 432x288 with 2 Axes>"
            ]
          },
          "metadata": {
            "needs_background": "light"
          }
        }
      ]
    },
    {
      "cell_type": "markdown",
      "metadata": {
        "id": "EEP95j-g6HKc"
      },
      "source": [
        "Undersampling со RandomUndersampler"
      ]
    },
    {
      "cell_type": "code",
      "metadata": {
        "colab": {
          "base_uri": "https://localhost:8080/"
        },
        "id": "1DrhUTxuoQaT",
        "outputId": "2a210895-75bd-4e0a-f370-48aec4f6c5f3"
      },
      "source": [
        "from collections import Counter\n",
        "# from imblearn.under_sampling import TomekLinks\n",
        "from imblearn.under_sampling import RandomUnderSampler\n",
        "from sklearn.utils import shuffle\n",
        "\n",
        "undersample = RandomUnderSampler(sampling_strategy=0.75)\n",
        "X_train = xtrain\n",
        "X_over, y_over = undersample.fit_resample(X_train, y_train)\n",
        "print('Resampled dataset shape %s' % Counter(y_over))"
      ],
      "execution_count": null,
      "outputs": [
        {
          "output_type": "stream",
          "name": "stdout",
          "text": [
            "Resampled dataset shape Counter({1: 3733, 0: 2800})\n"
          ]
        }
      ]
    },
    {
      "cell_type": "code",
      "metadata": {
        "colab": {
          "base_uri": "https://localhost:8080/"
        },
        "id": "0bc89co9o3pF",
        "outputId": "d093970a-b132-4e9a-90e1-0ffcfcd8d3c3"
      },
      "source": [
        "final, targets = shuffle(X_over,y_over,random_state=0)\n",
        "X_train_u  = final\n",
        "y_train_u  = targets\n",
        "X_test = df_test.values.tolist()\n",
        "print('Training set class distribution %s' % Counter(y_train_u))\n",
        "print('Testing set class distribution %s' % Counter(y_test))"
      ],
      "execution_count": null,
      "outputs": [
        {
          "output_type": "stream",
          "name": "stdout",
          "text": [
            "Training set class distribution Counter({1: 3733, 0: 2800})\n",
            "Testing set class distribution Counter({1: 1800, 0: 600})\n"
          ]
        }
      ]
    },
    {
      "cell_type": "code",
      "metadata": {
        "colab": {
          "base_uri": "https://localhost:8080/",
          "height": 349
        },
        "id": "9WQ9c47VpwI7",
        "outputId": "30cbe719-b5af-44f1-864d-20b51b71983b"
      },
      "source": [
        "import matplotlib.pyplot as pyplot\n",
        "pyplot.pie([float(v) for v in Counter(y_train_u).values()], labels=[float(k) for k in Counter(y_train_u).keys()],\n",
        "           autopct='%1.0f%%')"
      ],
      "execution_count": null,
      "outputs": [
        {
          "output_type": "execute_result",
          "data": {
            "text/plain": [
              "([<matplotlib.patches.Wedge at 0x7f732c9519d0>,\n",
              "  <matplotlib.patches.Wedge at 0x7f732c96e190>],\n",
              " [Text(-0.24469941390058694, 1.0724375025318302, '1.0'),\n",
              "  Text(0.244699514309431, -1.0724374796214131, '0.0')],\n",
              " [Text(-0.13347240758213832, 0.5849659104719074, '57%'),\n",
              "  Text(0.1334724623505987, -0.5849658979753162, '43%')])"
            ]
          },
          "metadata": {},
          "execution_count": 69
        },
        {
          "output_type": "display_data",
          "data": {
            "image/png": "[encoded data removed]",
            "text/plain": [
              "<Figure size 432x288 with 1 Axes>"
            ]
          },
          "metadata": {}
        }
      ]
    },
    {
      "cell_type": "markdown",
      "metadata": {
        "id": "ODw2taBYr36G"
      },
      "source": [
        "Oversampling со SMOTE"
      ]
    },
    {
      "cell_type": "code",
      "metadata": {
        "colab": {
          "base_uri": "https://localhost:8080/"
        },
        "id": "S8S1WQ_nr4p9",
        "outputId": "7903f7f8-a2fb-48e0-f256-d2932a3ac691"
      },
      "source": [
        "import imblearn\n",
        "from imblearn.over_sampling import SMOTE\n",
        "from numpy import where\n",
        "# X = df_train.values.tolist()\n",
        "counter = Counter(ytrain)\n",
        "print('Original dataset shape %s' % Counter(ytrain))\n",
        "oversample = SMOTE(sampling_strategy=0.7)\n",
        "X_train_o, y_train_o = oversample.fit_resample(xtrain, ytrain)\n",
        "print('Resampled dataset shape %s' % Counter(y_train_o))"
      ],
      "execution_count": null,
      "outputs": [
        {
          "output_type": "stream",
          "name": "stdout",
          "text": [
            "Original dataset shape Counter({1: 8400, 0: 2800})\n",
            "Resampled dataset shape Counter({1: 8400, 0: 5880})\n"
          ]
        }
      ]
    },
    {
      "cell_type": "code",
      "metadata": {
        "colab": {
          "base_uri": "https://localhost:8080/",
          "height": 349
        },
        "id": "0hVdsbcownjX",
        "outputId": "c7478606-0ac8-4cc4-a5ce-299b37452d9f"
      },
      "source": [
        "import matplotlib.pyplot as pyplot\n",
        "pyplot.pie([float(v) for v in Counter(y_train_o).values()], labels=[float(k) for k in Counter(y_train_o).keys()],\n",
        "           autopct='%1.0f%%')"
      ],
      "execution_count": null,
      "outputs": [
        {
          "output_type": "execute_result",
          "data": {
            "text/plain": [
              "([<matplotlib.patches.Wedge at 0x7f7335482410>,\n",
              "  <matplotlib.patches.Wedge at 0x7f7335482c10>],\n",
              " [Text(-0.30102937065636565, 1.0580081842794187, '1.0'),\n",
              "  Text(0.30102946971423916, -1.0580081560950105, '0.0')],\n",
              " [Text(-0.16419783853983577, 0.5770953732433193, '59%'),\n",
              "  Text(0.16419789257140316, -0.5770953578700057, '41%')])"
            ]
          },
          "metadata": {},
          "execution_count": 71
        },
        {
          "output_type": "display_data",
          "data": {
            "image/png": "[encoded data removed]",
            "text/plain": [
              "<Figure size 432x288 with 1 Axes>"
            ]
          },
          "metadata": {}
        }
      ]
    },
    {
      "cell_type": "markdown",
      "metadata": {
        "id": "Y0EJxDSqw_RG"
      },
      "source": [
        "Комбинација: Undersampling на majority, Oversampling на minority"
      ]
    },
    {
      "cell_type": "code",
      "metadata": {
        "colab": {
          "base_uri": "https://localhost:8080/"
        },
        "id": "AVckpBp1xLLq",
        "outputId": "a739359a-086f-4a92-f5fa-8ad3691c14ee"
      },
      "source": [
        "from imblearn.pipeline import Pipeline\n",
        "print('Original dataset shape %s' % Counter(ytrain))\n",
        "over = SMOTE(sampling_strategy=0.7)\n",
        "under = RandomUnderSampler(sampling_strategy=0.5)\n",
        "steps = [('u', under),('o', over)]\n",
        "pipeline = Pipeline(steps=steps)\n",
        "X_train_ou, y_train_ou = pipeline.fit_resample(xtrain, ytrain)\n",
        "counter = Counter(y_train_ou)\n",
        "print('Resampled dataset shape %s' % Counter(counter))"
      ],
      "execution_count": null,
      "outputs": [
        {
          "output_type": "stream",
          "name": "stdout",
          "text": [
            "Original dataset shape Counter({1: 8400, 0: 2800})\n",
            "Resampled dataset shape Counter({1: 5600, 0: 3919})\n"
          ]
        }
      ]
    },
    {
      "cell_type": "code",
      "metadata": {
        "colab": {
          "base_uri": "https://localhost:8080/",
          "height": 349
        },
        "id": "W2zV3duFx17Z",
        "outputId": "a745ac96-6968-4b6c-9c3d-b61a4cba0860"
      },
      "source": [
        "import matplotlib.pyplot as pyplot\n",
        "pyplot.pie([float(v) for v in Counter(y_train_ou).values()], labels=[float(k) for k in Counter(y_train_ou).keys()],\n",
        "           autopct='%1.0f%%')"
      ],
      "execution_count": null,
      "outputs": [
        {
          "output_type": "execute_result",
          "data": {
            "text/plain": [
              "([<matplotlib.patches.Wedge at 0x7f732c945950>,\n",
              "  <matplotlib.patches.Wedge at 0x7f732c93c190>],\n",
              " [Text(0.30123471196054497, 1.0579497380830754, '0.0'),\n",
              "  Text(-0.3012348110129466, -1.0579497098794415, '1.0')],\n",
              " [Text(0.16430984288756995, 0.5770634934998592, '41%'),\n",
              "  Text(-0.16430989691615266, -0.577063478116059, '59%')])"
            ]
          },
          "metadata": {},
          "execution_count": 73
        },
        {
          "output_type": "display_data",
          "data": {
            "image/png": "[encoded data removed]",
            "text/plain": [
              "<Figure size 432x288 with 1 Axes>"
            ]
          },
          "metadata": {}
        }
      ]
    },
    {
      "cell_type": "code",
      "metadata": {
        "id": "xNHL_14r6qDK"
      },
      "source": [
        "X_test = [eval(X_test[i][0]) for i in range(0, len(X_test))]"
      ],
      "execution_count": null,
      "outputs": []
    },
    {
      "cell_type": "code",
      "metadata": {
        "colab": {
          "base_uri": "https://localhost:8080/"
        },
        "id": "3l32jpP7N32i",
        "outputId": "6a8b26eb-6582-4257-8705-93d3a7a188c4"
      },
      "source": [
        "from sklearn.tree import DecisionTreeClassifier\n",
        "from sklearn.naive_bayes import GaussianNB\n",
        "from sklearn.ensemble import RandomForestClassifier\n",
        "\n",
        "dtc = DecisionTreeClassifier()\n",
        "nbc = GaussianNB()\n",
        "rfc = RandomForestClassifier()\n",
        "\n",
        "dtc.fit(X_train_u, y_train_u)\n",
        "nbc.fit(X_train_u, y_train_u)\n",
        "rfc.fit(X_train_u, y_train_u)"
      ],
      "execution_count": null,
      "outputs": [
        {
          "output_type": "execute_result",
          "data": {
            "text/plain": [
              "RandomForestClassifier(bootstrap=True, ccp_alpha=0.0, class_weight=None,\n",
              "                       criterion='gini', max_depth=None, max_features='auto',\n",
              "                       max_leaf_nodes=None, max_samples=None,\n",
              "                       min_impurity_decrease=0.0, min_impurity_split=None,\n",
              "                       min_samples_leaf=1, min_samples_split=2,\n",
              "                       min_weight_fraction_leaf=0.0, n_estimators=100,\n",
              "                       n_jobs=None, oob_score=False, random_state=None,\n",
              "                       verbose=0, warm_start=False)"
            ]
          },
          "metadata": {},
          "execution_count": 75
        }
      ]
    },
    {
      "cell_type": "code",
      "metadata": {
        "id": "Y7nfouubN32i"
      },
      "source": [
        "test_tree_predict = dtc.predict(X_test)\n",
        "test_naive_predict = nbc.predict(X_test)\n",
        "test_random_forest_predict = rfc.predict(X_test)"
      ],
      "execution_count": null,
      "outputs": []
    },
    {
      "cell_type": "code",
      "metadata": {
        "colab": {
          "base_uri": "https://localhost:8080/",
          "height": 446
        },
        "id": "S85LUL4QN32i",
        "outputId": "4c3a3dd5-6b75-4d05-aa97-0827c20922e2"
      },
      "source": [
        "print_confusion_matrix(test_tree_predict,y_test, [\"0\", \"1\"])"
      ],
      "execution_count": null,
      "outputs": [
        {
          "output_type": "stream",
          "name": "stdout",
          "text": [
            "              precision    recall  f1-score   support\n",
            "\n",
            "           0       0.30      0.49      0.38       600\n",
            "           1       0.79      0.62      0.70      1800\n",
            "\n",
            "    accuracy                           0.59      2400\n",
            "   macro avg       0.55      0.56      0.54      2400\n",
            "weighted avg       0.67      0.59      0.62      2400\n",
            "\n"
          ]
        },
        {
          "output_type": "display_data",
          "data": {
            "image/png": "[encoded data removed]",
            "text/plain": [
              "<Figure size 432x288 with 2 Axes>"
            ]
          },
          "metadata": {
            "needs_background": "light"
          }
        }
      ]
    },
    {
      "cell_type": "code",
      "metadata": {
        "colab": {
          "base_uri": "https://localhost:8080/",
          "height": 446
        },
        "id": "AD0PiwUhN32i",
        "outputId": "18b92bce-b43e-4b70-8cf1-04d17c9b0798"
      },
      "source": [
        "print_confusion_matrix(test_naive_predict, y_test, [\"0\", \"1\"])"
      ],
      "execution_count": null,
      "outputs": [
        {
          "output_type": "stream",
          "name": "stdout",
          "text": [
            "              precision    recall  f1-score   support\n",
            "\n",
            "           0       0.39      0.68      0.50       600\n",
            "           1       0.86      0.64      0.74      1800\n",
            "\n",
            "    accuracy                           0.65      2400\n",
            "   macro avg       0.62      0.66      0.62      2400\n",
            "weighted avg       0.74      0.65      0.68      2400\n",
            "\n"
          ]
        },
        {
          "output_type": "display_data",
          "data": {
            "image/png": "[encoded data removed]",
            "text/plain": [
              "<Figure size 432x288 with 2 Axes>"
            ]
          },
          "metadata": {
            "needs_background": "light"
          }
        }
      ]
    },
    {
      "cell_type": "code",
      "metadata": {
        "colab": {
          "base_uri": "https://localhost:8080/",
          "height": 446
        },
        "id": "iiR5t5_TN32i",
        "outputId": "82635986-3f4a-4467-be80-dfb897855d69"
      },
      "source": [
        "print_confusion_matrix(test_random_forest_predict,y_test, [\"0\", \"1\"])"
      ],
      "execution_count": null,
      "outputs": [
        {
          "output_type": "stream",
          "name": "stdout",
          "text": [
            "              precision    recall  f1-score   support\n",
            "\n",
            "           0       0.48      0.54      0.51       600\n",
            "           1       0.84      0.80      0.82      1800\n",
            "\n",
            "    accuracy                           0.74      2400\n",
            "   macro avg       0.66      0.67      0.66      2400\n",
            "weighted avg       0.75      0.74      0.74      2400\n",
            "\n"
          ]
        },
        {
          "output_type": "display_data",
          "data": {
            "image/png": "[encoded data removed]",
            "text/plain": [
              "<Figure size 432x288 with 2 Axes>"
            ]
          },
          "metadata": {
            "needs_background": "light"
          }
        }
      ]
    },
    {
      "cell_type": "code",
      "metadata": {
        "colab": {
          "base_uri": "https://localhost:8080/",
          "height": 278
        },
        "id": "WEGs2LSON32j",
        "outputId": "103f4e91-97d7-47c3-9f03-a57eabfc233f"
      },
      "source": [
        "from sklearn.metrics import roc_curve, auc\n",
        "import matplotlib.pyplot as plt\n",
        "\n",
        "actual = y_test\n",
        "decision_tree_prob = [p[1] for p in dtc.predict_proba(X_test)]\n",
        "naive_bayes_prob = [p[1] for p in nbc.predict_proba(X_test)]\n",
        "random_forest_prob = [p[1] for p in rfc.predict_proba(X_test)]\n",
        "\n",
        "\n",
        "dt_false_pos, dt_true_pos, _ = roc_curve(actual, decision_tree_prob)\n",
        "dt_auc = auc(dt_false_pos, dt_true_pos)\n",
        "\n",
        "nb_false_pos, nb_true_pos, _ = roc_curve(actual, naive_bayes_prob)\n",
        "nb_auc = auc(nb_false_pos, nb_true_pos)\n",
        "\n",
        "rf_false_pos, rf_true_pos, _ = roc_curve(actual, random_forest_prob)\n",
        "rf_auc = auc(rf_false_pos, rf_true_pos)\n",
        "\n",
        "\n",
        "# plot\n",
        "plt.plot(dt_false_pos, dt_true_pos, 'r', label='Decision Tree AUC = %0.2f'% dt_auc)\n",
        "plt.plot(nb_false_pos, nb_true_pos, 'g', label='Naive Bayes AUC = %0.2f'% nb_auc)\n",
        "plt.plot(rf_false_pos, rf_true_pos, 'b', label='Random Forest AUC = %0.2f'% rf_auc)\n",
        "\n",
        "\n",
        "plt.legend(loc='lower right')\n",
        "plt.plot([0,1], [0,1], 'r--')\n",
        "plt.ylabel('True Positive Rate')\n",
        "plt.xlabel('False Positive Rate')\n",
        "plt.show()"
      ],
      "execution_count": null,
      "outputs": [
        {
          "output_type": "display_data",
          "data": {
            "image/png": "[encoded data removed]",
            "text/plain": [
              "<Figure size 432x288 with 1 Axes>"
            ]
          },
          "metadata": {
            "needs_background": "light"
          }
        }
      ]
    },
    {
      "cell_type": "code",
      "metadata": {
        "id": "i6lifyKx2djO"
      },
      "source": [
        "import keras\n",
        "from keras.models import Sequential \n",
        "from keras.layers import Dense   \n",
        "from tensorflow.keras.callbacks import EarlyStopping"
      ],
      "execution_count": null,
      "outputs": []
    },
    {
      "cell_type": "code",
      "metadata": {
        "id": "dECS0zXwQHmJ"
      },
      "source": [
        "X_train, X_val, y_train, y_val = train_test_split(X_train_ou, y_train_ou, test_size=0.2, random_state=42)"
      ],
      "execution_count": null,
      "outputs": []
    },
    {
      "cell_type": "code",
      "metadata": {
        "id": "o6aJo6UI7X_n"
      },
      "source": [
        "from sklearn.preprocessing import StandardScaler\n",
        "scaler = StandardScaler()\n",
        "X_train_norm = scaler.fit_transform(X_train)\n",
        "X_val_norm = scaler.fit_transform(X_val)\n",
        "X_test_norm = scaler.fit_transform(X_test)"
      ],
      "execution_count": null,
      "outputs": []
    },
    {
      "cell_type": "code",
      "metadata": {
        "colab": {
          "base_uri": "https://localhost:8080/"
        },
        "id": "rJVmFhgY4WDx",
        "outputId": "90e41929-0369-45e6-9202-35195bbcc8ea"
      },
      "source": [
        "classifier = Sequential()\n",
        "\n",
        "classifier.add(Dense(64, activation='relu', input_dim=512))\n",
        "\n",
        "classifier.add(Dense(256, activation='relu'))\n",
        "\n",
        "classifier.add(Dense(1, activation='sigmoid'))\n",
        "\n",
        "\n",
        "classifier.compile(optimizer ='adam',loss='binary_crossentropy', metrics =['accuracy'])\n",
        "es = EarlyStopping(monitor='val_loss', mode='min', verbose=1,patience=30)\n",
        "history_callback = classifier.fit(X_train_norm, y_train, epochs=500, batch_size=64,validation_data=(X_val_norm,y_val), callbacks=[es])"
      ],
      "execution_count": null,
      "outputs": [
        {
          "output_type": "stream",
          "name": "stdout",
          "text": [
            "Epoch 1/500\n",
            "119/119 [==============================] - 2s 5ms/step - loss: 0.6085 - accuracy: 0.6654 - val_loss: 0.5853 - val_accuracy: 0.6886\n",
            "Epoch 2/500\n",
            "119/119 [==============================] - 0s 3ms/step - loss: 0.5030 - accuracy: 0.7589 - val_loss: 0.5679 - val_accuracy: 0.7101\n",
            "Epoch 3/500\n",
            "119/119 [==============================] - 0s 3ms/step - loss: 0.4256 - accuracy: 0.8058 - val_loss: 0.5504 - val_accuracy: 0.7316\n",
            "Epoch 4/500\n",
            "119/119 [==============================] - 0s 3ms/step - loss: 0.3448 - accuracy: 0.8536 - val_loss: 0.5594 - val_accuracy: 0.7290\n",
            "Epoch 5/500\n",
            "119/119 [==============================] - 0s 3ms/step - loss: 0.2769 - accuracy: 0.8871 - val_loss: 0.6255 - val_accuracy: 0.7264\n",
            "Epoch 6/500\n",
            "119/119 [==============================] - 0s 3ms/step - loss: 0.2081 - accuracy: 0.9249 - val_loss: 0.6713 - val_accuracy: 0.7332\n",
            "Epoch 7/500\n",
            "119/119 [==============================] - 0s 3ms/step - loss: 0.1440 - accuracy: 0.9505 - val_loss: 0.7460 - val_accuracy: 0.7479\n",
            "Epoch 8/500\n",
            "119/119 [==============================] - 0s 3ms/step - loss: 0.1038 - accuracy: 0.9678 - val_loss: 0.8112 - val_accuracy: 0.7600\n",
            "Epoch 9/500\n",
            "119/119 [==============================] - 0s 3ms/step - loss: 0.0668 - accuracy: 0.9821 - val_loss: 0.9263 - val_accuracy: 0.7447\n",
            "Epoch 10/500\n",
            "119/119 [==============================] - 0s 3ms/step - loss: 0.0406 - accuracy: 0.9915 - val_loss: 1.0534 - val_accuracy: 0.7306\n",
            "Epoch 11/500\n",
            "119/119 [==============================] - 0s 3ms/step - loss: 0.0256 - accuracy: 0.9967 - val_loss: 1.1109 - val_accuracy: 0.7400\n",
            "Epoch 12/500\n",
            "119/119 [==============================] - 0s 3ms/step - loss: 0.0158 - accuracy: 0.9986 - val_loss: 1.1446 - val_accuracy: 0.7489\n",
            "Epoch 13/500\n",
            "119/119 [==============================] - 0s 3ms/step - loss: 0.0101 - accuracy: 0.9991 - val_loss: 1.2449 - val_accuracy: 0.7495\n",
            "Epoch 14/500\n",
            "119/119 [==============================] - 0s 3ms/step - loss: 0.0046 - accuracy: 1.0000 - val_loss: 1.2527 - val_accuracy: 0.7511\n",
            "Epoch 15/500\n",
            "119/119 [==============================] - 0s 3ms/step - loss: 0.0024 - accuracy: 1.0000 - val_loss: 1.2937 - val_accuracy: 0.7537\n",
            "Epoch 16/500\n",
            "119/119 [==============================] - 0s 3ms/step - loss: 0.0017 - accuracy: 1.0000 - val_loss: 1.3484 - val_accuracy: 0.7521\n",
            "Epoch 17/500\n",
            "119/119 [==============================] - 0s 3ms/step - loss: 0.0013 - accuracy: 1.0000 - val_loss: 1.3824 - val_accuracy: 0.7521\n",
            "Epoch 18/500\n",
            "119/119 [==============================] - 0s 3ms/step - loss: 0.0011 - accuracy: 1.0000 - val_loss: 1.4101 - val_accuracy: 0.7542\n",
            "Epoch 19/500\n",
            "119/119 [==============================] - 0s 3ms/step - loss: 9.3901e-04 - accuracy: 1.0000 - val_loss: 1.4451 - val_accuracy: 0.7542\n",
            "Epoch 20/500\n",
            "119/119 [==============================] - 0s 3ms/step - loss: 8.0053e-04 - accuracy: 1.0000 - val_loss: 1.4711 - val_accuracy: 0.7553\n",
            "Epoch 21/500\n",
            "119/119 [==============================] - 0s 3ms/step - loss: 6.9289e-04 - accuracy: 1.0000 - val_loss: 1.4958 - val_accuracy: 0.7547\n",
            "Epoch 22/500\n",
            "119/119 [==============================] - 0s 3ms/step - loss: 6.0176e-04 - accuracy: 1.0000 - val_loss: 1.5274 - val_accuracy: 0.7553\n",
            "Epoch 23/500\n",
            "119/119 [==============================] - 0s 3ms/step - loss: 5.2573e-04 - accuracy: 1.0000 - val_loss: 1.5467 - val_accuracy: 0.7547\n",
            "Epoch 24/500\n",
            "119/119 [==============================] - 0s 3ms/step - loss: 4.6597e-04 - accuracy: 1.0000 - val_loss: 1.5731 - val_accuracy: 0.7547\n",
            "Epoch 25/500\n",
            "119/119 [==============================] - 0s 3ms/step - loss: 4.1288e-04 - accuracy: 1.0000 - val_loss: 1.5933 - val_accuracy: 0.7553\n",
            "Epoch 26/500\n",
            "119/119 [==============================] - 0s 3ms/step - loss: 3.6617e-04 - accuracy: 1.0000 - val_loss: 1.6162 - val_accuracy: 0.7558\n",
            "Epoch 27/500\n",
            "119/119 [==============================] - 0s 3ms/step - loss: 3.2954e-04 - accuracy: 1.0000 - val_loss: 1.6404 - val_accuracy: 0.7532\n",
            "Epoch 28/500\n",
            "119/119 [==============================] - 0s 3ms/step - loss: 2.9241e-04 - accuracy: 1.0000 - val_loss: 1.6601 - val_accuracy: 0.7521\n",
            "Epoch 29/500\n",
            "119/119 [==============================] - 0s 3ms/step - loss: 2.6502e-04 - accuracy: 1.0000 - val_loss: 1.6791 - val_accuracy: 0.7505\n",
            "Epoch 30/500\n",
            "119/119 [==============================] - 0s 3ms/step - loss: 2.3854e-04 - accuracy: 1.0000 - val_loss: 1.7051 - val_accuracy: 0.7511\n",
            "Epoch 31/500\n",
            "119/119 [==============================] - 0s 3ms/step - loss: 2.1534e-04 - accuracy: 1.0000 - val_loss: 1.7214 - val_accuracy: 0.7558\n",
            "Epoch 32/500\n",
            "119/119 [==============================] - 0s 3ms/step - loss: 1.9568e-04 - accuracy: 1.0000 - val_loss: 1.7415 - val_accuracy: 0.7532\n",
            "Epoch 33/500\n",
            "119/119 [==============================] - 0s 3ms/step - loss: 1.7674e-04 - accuracy: 1.0000 - val_loss: 1.7600 - val_accuracy: 0.7532\n",
            "Epoch 00033: early stopping\n"
          ]
        }
      ]
    },
    {
      "cell_type": "code",
      "metadata": {
        "colab": {
          "base_uri": "https://localhost:8080/"
        },
        "id": "cVU2xmxA4bCb",
        "outputId": "07585cb8-0817-470f-aaaa-19d6d14cbc0d"
      },
      "source": [
        "probs       = classifier.predict(X_test_norm)\n",
        "preds       = probs > 0.5\n",
        "print('Neural network score on test:\\n',classification_report(y_test, preds))"
      ],
      "execution_count": null,
      "outputs": [
        {
          "output_type": "stream",
          "name": "stdout",
          "text": [
            "Neural network score on test:\n",
            "               precision    recall  f1-score   support\n",
            "\n",
            "           0       0.44      0.58      0.50       600\n",
            "           1       0.84      0.75      0.79      1800\n",
            "\n",
            "    accuracy                           0.71      2400\n",
            "   macro avg       0.64      0.67      0.65      2400\n",
            "weighted avg       0.74      0.71      0.72      2400\n",
            "\n"
          ]
        }
      ]
    },
    {
      "cell_type": "code",
      "metadata": {
        "colab": {
          "base_uri": "https://localhost:8080/",
          "height": 312
        },
        "id": "fW27wgBp9aej",
        "outputId": "2e976d01-0600-4766-e366-d3ef5a3b0904"
      },
      "source": [
        "cm=confusion_matrix(y_test,preds)\n",
        "names = ['0', '1'] \n",
        "cm = 100 * cm.astype('float') / cm.sum(axis=-1)[:, np.newaxis]  \n",
        " \n",
        "\n",
        "df = pd.DataFrame(data=cm, columns=names, index=names)\n",
        "g = sns.heatmap(df, annot=True, fmt=\".1f\", linewidths=.5, vmin=0, vmax=100,\n",
        "                    cmap='Greens')\n",
        "g.set_title('Confusion matrix')\n",
        "g.set_ylabel('True label')\n",
        "g.set_xlabel('Predicted label')\n",
        "g.plot()"
      ],
      "execution_count": null,
      "outputs": [
        {
          "output_type": "execute_result",
          "data": {
            "text/plain": [
              "[]"
            ]
          },
          "metadata": {},
          "execution_count": 89
        },
        {
          "output_type": "display_data",
          "data": {
            "image/png": "[encoded data removed]",
            "text/plain": [
              "<Figure size 432x288 with 2 Axes>"
            ]
          },
          "metadata": {
            "needs_background": "light"
          }
        }
      ]
    },
    {
      "cell_type": "code",
      "metadata": {
        "colab": {
          "base_uri": "https://localhost:8080/"
        },
        "id": "oqQWcEPKR0eD",
        "outputId": "9aee07f7-ceaa-4663-f616-ee3b4cf6df40"
      },
      "source": [
        "from sklearn.model_selection import  GridSearchCV, RandomizedSearchCV\n",
        "from sklearn.metrics import roc_auc_score\n",
        "from sklearn.model_selection import KFold\n",
        "from xgboost import XGBClassifier\n",
        "from sklearn.metrics import roc_auc_score\n",
        "from sklearn.model_selection import StratifiedKFold, KFold\n",
        "\n",
        "from sklearn.metrics import (confusion_matrix, precision_recall_curve, auc,\n",
        "                             roc_curve, recall_score, classification_report, f1_score,\n",
        "                             precision_recall_fscore_support, roc_auc_score)\n",
        "\n",
        "gkf = KFold(n_splits=3, shuffle=True, random_state=42).split(X=X_train_u, y=y_train_u)\n",
        "fit_params_of_xgb = {\n",
        "    \"early_stopping_rounds\":100, \n",
        "    \"eval_metric\" : 'auc', \n",
        "    \"eval_set\" : [(X_val,y_val)],\n",
        "    'verbose': 500,\n",
        "}\n",
        "params = {\n",
        "    'booster': [\"gbtree\"],\n",
        "    'learning_rate': [0.01],\n",
        "    'n_estimators': [3000],\n",
        "    'min_child_weight': [1],#1\n",
        "    'gamma': [0],\n",
        "    'subsample': [0.4],\n",
        "    'colsample_bytree': [0.8],\n",
        "    'max_depth': [4],\n",
        "    \"scale_pos_weight\": [1],\n",
        "    \"reg_alpha\":[1],#0.08\n",
        "}\n",
        "xgb_estimator = XGBClassifier(\n",
        "    objective='binary:logistic',\n",
        "    silent=True,\n",
        ")\n",
        "\n",
        "gsearch = GridSearchCV(\n",
        "    estimator=xgb_estimator,\n",
        "    param_grid=params,\n",
        "    scoring='roc_auc',\n",
        "    n_jobs=-1,\n",
        "    cv=gkf, verbose=3\n",
        ")\n",
        "xgb_model = gsearch.fit(X=X_train_u, y=y_train_u, **fit_params_of_xgb)\n",
        "gsearch.best_params_, gsearch.best_score_"
      ],
      "execution_count": 91,
      "outputs": [
        {
          "output_type": "stream",
          "name": "stdout",
          "text": [
            "Fitting 3 folds for each of 1 candidates, totalling 3 fits\n"
          ]
        },
        {
          "output_type": "stream",
          "name": "stderr",
          "text": [
            "[Parallel(n_jobs=-1)]: Using backend LokyBackend with 2 concurrent workers.\n",
            "[Parallel(n_jobs=-1)]: Done   3 out of   3 | elapsed: 15.1min finished\n"
          ]
        },
        {
          "output_type": "stream",
          "name": "stdout",
          "text": [
            "[0]\tvalidation_0-auc:0.633038\n",
            "Will train until validation_0-auc hasn't improved in 100 rounds.\n",
            "[500]\tvalidation_0-auc:0.845197\n",
            "[1000]\tvalidation_0-auc:0.89613\n",
            "[1500]\tvalidation_0-auc:0.924997\n",
            "[2000]\tvalidation_0-auc:0.943401\n",
            "[2500]\tvalidation_0-auc:0.955089\n",
            "[2999]\tvalidation_0-auc:0.96198\n"
          ]
        },
        {
          "output_type": "execute_result",
          "data": {
            "text/plain": [
              "({'booster': 'gbtree',\n",
              "  'colsample_bytree': 0.8,\n",
              "  'gamma': 0,\n",
              "  'learning_rate': 0.01,\n",
              "  'max_depth': 4,\n",
              "  'min_child_weight': 1,\n",
              "  'n_estimators': 3000,\n",
              "  'reg_alpha': 1,\n",
              "  'scale_pos_weight': 1,\n",
              "  'subsample': 0.4},\n",
              " 0.7565158657021863)"
            ]
          },
          "metadata": {},
          "execution_count": 91
        }
      ]
    },
    {
      "cell_type": "code",
      "metadata": {
        "id": "3X8F6sthR0eQ"
      },
      "source": [
        "predicted_values = xgb_model.predict(X_test)"
      ],
      "execution_count": 92,
      "outputs": []
    },
    {
      "cell_type": "code",
      "metadata": {
        "id": "JU8xnJFVR0eR",
        "colab": {
          "base_uri": "https://localhost:8080/",
          "height": 463
        },
        "outputId": "2c07b312-ce74-46f2-db98-d8006db6d526"
      },
      "source": [
        "print_confusion_matrix(predicted_values, y_test, [\"0\", \"1\"])\n",
        "print(\"Accuracy:\", metrics.accuracy_score(y_test, predicted_values))"
      ],
      "execution_count": 93,
      "outputs": [
        {
          "output_type": "stream",
          "name": "stdout",
          "text": [
            "              precision    recall  f1-score   support\n",
            "\n",
            "           0       0.50      0.61      0.55       600\n",
            "           1       0.86      0.79      0.83      1800\n",
            "\n",
            "    accuracy                           0.75      2400\n",
            "   macro avg       0.68      0.70      0.69      2400\n",
            "weighted avg       0.77      0.75      0.76      2400\n",
            "\n",
            "Accuracy: 0.7483333333333333\n"
          ]
        },
        {
          "output_type": "display_data",
          "data": {
            "image/png": "[encoded data removed]",
            "text/plain": [
              "<Figure size 432x288 with 2 Axes>"
            ]
          },
          "metadata": {
            "needs_background": "light"
          }
        }
      ]
    },
    {
      "cell_type": "code",
      "metadata": {
        "id": "dtaiB-fiR0eR",
        "colab": {
          "base_uri": "https://localhost:8080/",
          "height": 278
        },
        "outputId": "8cdfa37e-adfd-46dc-c522-d9c0074fbff7"
      },
      "source": [
        "actual = y_test\n",
        "xg_tree_prob = [p[1] for p in xgb_model.predict_proba(X_test)]\n",
        "\n",
        "\n",
        "dt_false_pos, dt_true_pos, _ = roc_curve(actual, xg_tree_prob)\n",
        "dt_auc = auc(dt_false_pos, dt_true_pos)\n",
        "\n",
        "# plot\n",
        "plt.plot(dt_false_pos, dt_true_pos, 'r', label='XGBoost Tree AUC = %0.2f'% dt_auc)\n",
        "\n",
        "\n",
        "plt.legend(loc='lower right')\n",
        "plt.plot([0,1], [0,1], 'r--')\n",
        "plt.ylabel('True Positive Rate')\n",
        "plt.xlabel('False Positive Rate')\n",
        "plt.show()"
      ],
      "execution_count": 94,
      "outputs": [
        {
          "output_type": "display_data",
          "data": {
            "image/png": "[encoded data removed]",
            "text/plain": [
              "<Figure size 432x288 with 1 Axes>"
            ]
          },
          "metadata": {
            "needs_background": "light"
          }
        }
      ]
    },
    {
      "cell_type": "code",
      "metadata": {
        "id": "tv7hRhz_R0eS",
        "colab": {
          "base_uri": "https://localhost:8080/",
          "height": 463
        },
        "outputId": "5ec33f3f-2608-4126-9119-46e85553ce13"
      },
      "source": [
        "clf = MLPClassifier((20, 20, ), max_iter=100000).fit(xtrain, ytrain)\n",
        "predicted_values = clf.predict(X_test)\n",
        "print_confusion_matrix(predicted_values, y_test, [\"0\", \"1\"])\n",
        "print(\"Accuracy:\", metrics.accuracy_score(y_test, predicted_values))"
      ],
      "execution_count": 95,
      "outputs": [
        {
          "output_type": "stream",
          "name": "stdout",
          "text": [
            "              precision    recall  f1-score   support\n",
            "\n",
            "           0       0.45      0.45      0.45       600\n",
            "           1       0.82      0.82      0.82      1800\n",
            "\n",
            "    accuracy                           0.73      2400\n",
            "   macro avg       0.64      0.63      0.63      2400\n",
            "weighted avg       0.73      0.73      0.73      2400\n",
            "\n",
            "Accuracy: 0.7266666666666667\n"
          ]
        },
        {
          "output_type": "display_data",
          "data": {
            "image/png": "[encoded data removed]",
            "text/plain": [
              "<Figure size 432x288 with 2 Axes>"
            ]
          },
          "metadata": {
            "needs_background": "light"
          }
        }
      ]
    },
    {
      "cell_type": "code",
      "metadata": {
        "id": "YXgC8-QnR0eT",
        "colab": {
          "base_uri": "https://localhost:8080/",
          "height": 463
        },
        "outputId": "1273b8cd-22ae-4f5d-9cbf-afca9aac67d0"
      },
      "source": [
        "clf = MLPClassifier((256, 64, 128, ), max_iter=100000, learning_rate=\"invscaling\").fit(xtrain, ytrain)\n",
        "predicted_values = clf.predict(X_test)\n",
        "print_confusion_matrix(predicted_values, y_test, [\"0\", \"1\"])\n",
        "print(\"Accuracy:\", metrics.accuracy_score(y_test, predicted_values))"
      ],
      "execution_count": 96,
      "outputs": [
        {
          "output_type": "stream",
          "name": "stdout",
          "text": [
            "              precision    recall  f1-score   support\n",
            "\n",
            "           0       0.51      0.43      0.47       600\n",
            "           1       0.82      0.86      0.84      1800\n",
            "\n",
            "    accuracy                           0.76      2400\n",
            "   macro avg       0.67      0.65      0.66      2400\n",
            "weighted avg       0.74      0.76      0.75      2400\n",
            "\n",
            "Accuracy: 0.7558333333333334\n"
          ]
        },
        {
          "output_type": "display_data",
          "data": {
            "image/png": "[encoded data removed]",
            "text/plain": [
              "<Figure size 432x288 with 2 Axes>"
            ]
          },
          "metadata": {
            "needs_background": "light"
          }
        }
      ]
    }
  ]
}