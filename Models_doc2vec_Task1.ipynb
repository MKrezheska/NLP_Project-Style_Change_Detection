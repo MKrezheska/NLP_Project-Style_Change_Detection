{
  "nbformat": 4,
  "nbformat_minor": 0,
  "metadata": {
    "colab": {
      "name": "Models_doc2vec-Task1.ipynb",
      "provenance": [],
      "authorship_tag": "ABX9TyN2rXujQDhA0u+G5ba0Gojm",
      "include_colab_link": true
    },
    "kernelspec": {
      "display_name": "Python 3",
      "name": "python3"
    },
    "language_info": {
      "name": "python"
    },
    "widgets": {
      "application/vnd.jupyter.widget-state+json": {
        "a62acfcdbe114e13aceb7ecd880ad051": {
          "model_module": "catboost-widget",
          "model_name": "CatboostWidgetModel",
          "model_module_version": "^1.0.0",
          "state": {
            "_dom_classes": [],
            "_model_module": "catboost-widget",
            "_model_module_version": "^1.0.0",
            "_model_name": "CatboostWidgetModel",
            "_view_count": null,
            "_view_module": "catboost-widget",
            "_view_module_version": "^1.0.0",
            "_view_name": "CatboostWidgetView",
            "data": {
              "catboost_info": {
                "content": {
                  "data": {
                    "iterations": [
                      {
                        "iteration": 0,
                        "learn": [
                          0.6845806786
                        ],
                        "passed_time": 0.293789154,
                        "remaining_time": 293.4953648
                      },
                      {
                        "iteration": 1,
                        "learn": [
                          0.6766397663
                        ],
                        "passed_time": 0.4775400818,
                        "remaining_time": 238.2925008
                      },
                      {
                        "iteration": 2,
                        "learn": [
                          0.6685494756
                        ],
                        "passed_time": 0.6804039092,
                        "remaining_time": 226.1208991
                      },
                      {
                        "iteration": 3,
                        "learn": [
                          0.6607795204
                        ],
                        "passed_time": 0.8855831826,
                        "remaining_time": 220.5102125
                      },
                      {
                        "iteration": 4,
                        "learn": [
                          0.6536064439
                        ],
                        "passed_time": 1.089040704,
                        "remaining_time": 216.7191001
                      },
                      {
                        "iteration": 5,
                        "learn": [
                          0.6466191519
                        ],
                        "passed_time": 1.282606529,
                        "remaining_time": 212.4851483
                      },
                      {
                        "iteration": 6,
                        "learn": [
                          0.6401087332
                        ],
                        "passed_time": 1.478286185,
                        "remaining_time": 209.7054546
                      },
                      {
                        "iteration": 7,
                        "learn": [
                          0.6341316656
                        ],
                        "passed_time": 1.676725404,
                        "remaining_time": 207.9139501
                      },
                      {
                        "iteration": 8,
                        "learn": [
                          0.6286504335
                        ],
                        "passed_time": 1.881870494,
                        "remaining_time": 207.2148511
                      },
                      {
                        "iteration": 9,
                        "learn": [
                          0.6231370513
                        ],
                        "passed_time": 2.066928143,
                        "remaining_time": 204.6258861
                      },
                      {
                        "iteration": 10,
                        "learn": [
                          0.6183222101
                        ],
                        "passed_time": 2.307753966,
                        "remaining_time": 207.4880611
                      },
                      {
                        "iteration": 11,
                        "learn": [
                          0.6132969571
                        ],
                        "passed_time": 2.587259306,
                        "remaining_time": 213.0176828
                      },
                      {
                        "iteration": 12,
                        "learn": [
                          0.6085936145
                        ],
                        "passed_time": 2.816877435,
                        "remaining_time": 213.8660022
                      },
                      {
                        "iteration": 13,
                        "learn": [
                          0.6047389144
                        ],
                        "passed_time": 3.037612425,
                        "remaining_time": 213.9347036
                      },
                      {
                        "iteration": 14,
                        "learn": [
                          0.6006858497
                        ],
                        "passed_time": 3.293605516,
                        "remaining_time": 216.2800955
                      },
                      {
                        "iteration": 15,
                        "learn": [
                          0.5971828192
                        ],
                        "passed_time": 3.532751429,
                        "remaining_time": 217.2642129
                      },
                      {
                        "iteration": 16,
                        "learn": [
                          0.593474011
                        ],
                        "passed_time": 3.774122947,
                        "remaining_time": 218.2331092
                      },
                      {
                        "iteration": 17,
                        "learn": [
                          0.5898809048
                        ],
                        "passed_time": 4.029741452,
                        "remaining_time": 219.8447837
                      },
                      {
                        "iteration": 18,
                        "learn": [
                          0.5867625338
                        ],
                        "passed_time": 4.264741915,
                        "remaining_time": 220.1953589
                      },
                      {
                        "iteration": 19,
                        "learn": [
                          0.5833700401
                        ],
                        "passed_time": 4.49818754,
                        "remaining_time": 220.4111895
                      },
                      {
                        "iteration": 20,
                        "learn": [
                          0.5803208694
                        ],
                        "passed_time": 4.720682649,
                        "remaining_time": 220.0737292
                      },
                      {
                        "iteration": 21,
                        "learn": [
                          0.5773575879
                        ],
                        "passed_time": 4.949832985,
                        "remaining_time": 220.0425754
                      },
                      {
                        "iteration": 22,
                        "learn": [
                          0.5747552069
                        ],
                        "passed_time": 5.169877967,
                        "remaining_time": 219.6074249
                      },
                      {
                        "iteration": 23,
                        "learn": [
                          0.5720188277
                        ],
                        "passed_time": 5.417603079,
                        "remaining_time": 220.3158586
                      },
                      {
                        "iteration": 24,
                        "learn": [
                          0.5692814344
                        ],
                        "passed_time": 5.645102747,
                        "remaining_time": 220.1590071
                      },
                      {
                        "iteration": 25,
                        "learn": [
                          0.5665738229
                        ],
                        "passed_time": 5.894407884,
                        "remaining_time": 220.8135877
                      },
                      {
                        "iteration": 26,
                        "learn": [
                          0.5643145988
                        ],
                        "passed_time": 6.140978248,
                        "remaining_time": 221.3026606
                      },
                      {
                        "iteration": 27,
                        "learn": [
                          0.5621010203
                        ],
                        "passed_time": 6.451652717,
                        "remaining_time": 223.9645158
                      },
                      {
                        "iteration": 28,
                        "learn": [
                          0.5602479608
                        ],
                        "passed_time": 6.700187948,
                        "remaining_time": 224.3407758
                      },
                      {
                        "iteration": 29,
                        "learn": [
                          0.5580336819
                        ],
                        "passed_time": 6.965714787,
                        "remaining_time": 225.2247781
                      },
                      {
                        "iteration": 30,
                        "learn": [
                          0.5560752061
                        ],
                        "passed_time": 7.195548845,
                        "remaining_time": 224.91893
                      },
                      {
                        "iteration": 31,
                        "learn": [
                          0.5543150013
                        ],
                        "passed_time": 7.546886959,
                        "remaining_time": 228.2933305
                      },
                      {
                        "iteration": 32,
                        "learn": [
                          0.5524214367
                        ],
                        "passed_time": 7.843880819,
                        "remaining_time": 229.8494773
                      },
                      {
                        "iteration": 33,
                        "learn": [
                          0.5506970985
                        ],
                        "passed_time": 8.13210374,
                        "remaining_time": 231.047418
                      },
                      {
                        "iteration": 34,
                        "learn": [
                          0.5490269997
                        ],
                        "passed_time": 8.435668177,
                        "remaining_time": 232.5834226
                      },
                      {
                        "iteration": 35,
                        "learn": [
                          0.5475558469
                        ],
                        "passed_time": 8.70144888,
                        "remaining_time": 233.0054644
                      },
                      {
                        "iteration": 36,
                        "learn": [
                          0.5458097872
                        ],
                        "passed_time": 9.012088371,
                        "remaining_time": 234.5578676
                      },
                      {
                        "iteration": 37,
                        "learn": [
                          0.5444548165
                        ],
                        "passed_time": 9.435860235,
                        "remaining_time": 238.8762512
                      },
                      {
                        "iteration": 38,
                        "learn": [
                          0.5429382614
                        ],
                        "passed_time": 9.766033178,
                        "remaining_time": 240.645074
                      },
                      {
                        "iteration": 39,
                        "learn": [
                          0.5417997326
                        ],
                        "passed_time": 10.07165027,
                        "remaining_time": 241.7196066
                      },
                      {
                        "iteration": 40,
                        "learn": [
                          0.5404942442
                        ],
                        "passed_time": 10.37283519,
                        "remaining_time": 242.623145
                      },
                      {
                        "iteration": 41,
                        "learn": [
                          0.5390901595
                        ],
                        "passed_time": 10.61919708,
                        "remaining_time": 242.2188287
                      },
                      {
                        "iteration": 42,
                        "learn": [
                          0.537852562
                        ],
                        "passed_time": 10.80275424,
                        "remaining_time": 240.4240886
                      },
                      {
                        "iteration": 43,
                        "learn": [
                          0.5363703578
                        ],
                        "passed_time": 11.01380771,
                        "remaining_time": 239.3000038
                      },
                      {
                        "iteration": 44,
                        "learn": [
                          0.5352026151
                        ],
                        "passed_time": 11.21330511,
                        "remaining_time": 237.9712528
                      },
                      {
                        "iteration": 45,
                        "learn": [
                          0.5339282435
                        ],
                        "passed_time": 11.40982011,
                        "remaining_time": 236.6297475
                      },
                      {
                        "iteration": 46,
                        "learn": [
                          0.5327798063
                        ],
                        "passed_time": 11.61679997,
                        "remaining_time": 235.5491568
                      },
                      {
                        "iteration": 47,
                        "learn": [
                          0.5317489
                        ],
                        "passed_time": 11.82068753,
                        "remaining_time": 234.4436359
                      },
                      {
                        "iteration": 48,
                        "learn": [
                          0.5306193147
                        ],
                        "passed_time": 12.01652028,
                        "remaining_time": 233.2185876
                      },
                      {
                        "iteration": 49,
                        "learn": [
                          0.529608623
                        ],
                        "passed_time": 12.20418203,
                        "remaining_time": 231.8794586
                      },
                      {
                        "iteration": 50,
                        "learn": [
                          0.5286475368
                        ],
                        "passed_time": 12.39729068,
                        "remaining_time": 230.6868403
                      },
                      {
                        "iteration": 51,
                        "learn": [
                          0.5278020043
                        ],
                        "passed_time": 12.60243871,
                        "remaining_time": 229.7521518
                      },
                      {
                        "iteration": 52,
                        "learn": [
                          0.5267958518
                        ],
                        "passed_time": 12.79084502,
                        "remaining_time": 228.5458534
                      },
                      {
                        "iteration": 53,
                        "learn": [
                          0.5258966581
                        ],
                        "passed_time": 12.97856591,
                        "remaining_time": 227.3652473
                      },
                      {
                        "iteration": 54,
                        "learn": [
                          0.5251428764
                        ],
                        "passed_time": 13.18156514,
                        "remaining_time": 226.4832556
                      },
                      {
                        "iteration": 55,
                        "learn": [
                          0.5242571628
                        ],
                        "passed_time": 13.37692031,
                        "remaining_time": 225.4966567
                      },
                      {
                        "iteration": 56,
                        "learn": [
                          0.5232187586
                        ],
                        "passed_time": 13.57967532,
                        "remaining_time": 224.6602425
                      },
                      {
                        "iteration": 57,
                        "learn": [
                          0.5224955573
                        ],
                        "passed_time": 13.78853312,
                        "remaining_time": 223.9447965
                      },
                      {
                        "iteration": 58,
                        "learn": [
                          0.5215490553
                        ],
                        "passed_time": 13.98109875,
                        "remaining_time": 222.9866767
                      },
                      {
                        "iteration": 59,
                        "learn": [
                          0.5207999508
                        ],
                        "passed_time": 14.16891261,
                        "remaining_time": 221.9796308
                      },
                      {
                        "iteration": 60,
                        "learn": [
                          0.5200208052
                        ],
                        "passed_time": 14.35311992,
                        "remaining_time": 220.943928
                      },
                      {
                        "iteration": 61,
                        "learn": [
                          0.5192917281
                        ],
                        "passed_time": 14.56059982,
                        "remaining_time": 220.2877844
                      },
                      {
                        "iteration": 62,
                        "learn": [
                          0.5185885725
                        ],
                        "passed_time": 14.75011724,
                        "remaining_time": 219.3787278
                      },
                      {
                        "iteration": 63,
                        "learn": [
                          0.5178010951
                        ],
                        "passed_time": 14.95124649,
                        "remaining_time": 218.66198
                      },
                      {
                        "iteration": 64,
                        "learn": [
                          0.5170618894
                        ],
                        "passed_time": 15.14597033,
                        "remaining_time": 217.8689578
                      },
                      {
                        "iteration": 65,
                        "learn": [
                          0.5163352754
                        ],
                        "passed_time": 15.33177087,
                        "remaining_time": 216.9677878
                      },
                      {
                        "iteration": 66,
                        "learn": [
                          0.5155209404
                        ],
                        "passed_time": 15.53542625,
                        "remaining_time": 216.3366074
                      },
                      {
                        "iteration": 67,
                        "learn": [
                          0.5148511293
                        ],
                        "passed_time": 15.72690813,
                        "remaining_time": 215.5511527
                      },
                      {
                        "iteration": 68,
                        "learn": [
                          0.5140186421
                        ],
                        "passed_time": 15.91669824,
                        "remaining_time": 214.7600879
                      },
                      {
                        "iteration": 69,
                        "learn": [
                          0.5134343433
                        ],
                        "passed_time": 16.10435253,
                        "remaining_time": 213.9578265
                      },
                      {
                        "iteration": 70,
                        "learn": [
                          0.5128381599
                        ],
                        "passed_time": 16.29686824,
                        "remaining_time": 213.2364873
                      },
                      {
                        "iteration": 71,
                        "learn": [
                          0.5121878093
                        ],
                        "passed_time": 16.51975362,
                        "remaining_time": 212.9212688
                      },
                      {
                        "iteration": 72,
                        "learn": [
                          0.5114813933
                        ],
                        "passed_time": 16.72366677,
                        "remaining_time": 212.3676588
                      },
                      {
                        "iteration": 73,
                        "learn": [
                          0.5107922561
                        ],
                        "passed_time": 16.91861953,
                        "remaining_time": 211.7113741
                      },
                      {
                        "iteration": 74,
                        "learn": [
                          0.5101076665
                        ],
                        "passed_time": 17.13666249,
                        "remaining_time": 211.3521707
                      },
                      {
                        "iteration": 75,
                        "learn": [
                          0.5092012089
                        ],
                        "passed_time": 17.32565796,
                        "remaining_time": 210.6435257
                      },
                      {
                        "iteration": 76,
                        "learn": [
                          0.5085595645
                        ],
                        "passed_time": 17.55133223,
                        "remaining_time": 210.3880474
                      },
                      {
                        "iteration": 77,
                        "learn": [
                          0.5080372417
                        ],
                        "passed_time": 17.75951931,
                        "remaining_time": 209.9266257
                      },
                      {
                        "iteration": 78,
                        "learn": [
                          0.5073696398
                        ],
                        "passed_time": 17.94853936,
                        "remaining_time": 209.2481614
                      },
                      {
                        "iteration": 79,
                        "learn": [
                          0.5066828873
                        ],
                        "passed_time": 18.13828776,
                        "remaining_time": 208.5903092
                      },
                      {
                        "iteration": 80,
                        "learn": [
                          0.5061759563
                        ],
                        "passed_time": 18.33976725,
                        "remaining_time": 208.0771124
                      },
                      {
                        "iteration": 81,
                        "learn": [
                          0.5056548782
                        ],
                        "passed_time": 18.52651608,
                        "remaining_time": 207.4066068
                      },
                      {
                        "iteration": 82,
                        "learn": [
                          0.5052137881
                        ],
                        "passed_time": 18.75144819,
                        "remaining_time": 207.1696144
                      },
                      {
                        "iteration": 83,
                        "learn": [
                          0.5046248692
                        ],
                        "passed_time": 18.95057743,
                        "remaining_time": 206.6515349
                      },
                      {
                        "iteration": 84,
                        "learn": [
                          0.503943299
                        ],
                        "passed_time": 19.1525756,
                        "remaining_time": 206.1718433
                      },
                      {
                        "iteration": 85,
                        "learn": [
                          0.5034187998
                        ],
                        "passed_time": 19.34274061,
                        "remaining_time": 205.5728479
                      },
                      {
                        "iteration": 86,
                        "learn": [
                          0.5028235122
                        ],
                        "passed_time": 19.55145835,
                        "remaining_time": 205.177948
                      },
                      {
                        "iteration": 87,
                        "learn": [
                          0.5021171698
                        ],
                        "passed_time": 19.77518967,
                        "remaining_time": 204.9428747
                      },
                      {
                        "iteration": 88,
                        "learn": [
                          0.5016379473
                        ],
                        "passed_time": 19.98325416,
                        "remaining_time": 204.5476914
                      },
                      {
                        "iteration": 89,
                        "learn": [
                          0.5009684226
                        ],
                        "passed_time": 20.18743418,
                        "remaining_time": 204.11739
                      },
                      {
                        "iteration": 90,
                        "learn": [
                          0.50040733
                        ],
                        "passed_time": 20.39124691,
                        "remaining_time": 203.6883895
                      },
                      {
                        "iteration": 91,
                        "learn": [
                          0.4998809536
                        ],
                        "passed_time": 20.59361779,
                        "remaining_time": 203.2500538
                      },
                      {
                        "iteration": 92,
                        "learn": [
                          0.4992729803
                        ],
                        "passed_time": 20.79982741,
                        "remaining_time": 202.8542308
                      },
                      {
                        "iteration": 93,
                        "learn": [
                          0.4988509287
                        ],
                        "passed_time": 20.99213855,
                        "remaining_time": 202.3284843
                      },
                      {
                        "iteration": 94,
                        "learn": [
                          0.4982583762
                        ],
                        "passed_time": 21.19160888,
                        "remaining_time": 201.8779583
                      },
                      {
                        "iteration": 95,
                        "learn": [
                          0.4977171
                        ],
                        "passed_time": 21.38239636,
                        "remaining_time": 201.3508991
                      },
                      {
                        "iteration": 96,
                        "learn": [
                          0.4971654755
                        ],
                        "passed_time": 21.56524037,
                        "remaining_time": 200.7568253
                      },
                      {
                        "iteration": 97,
                        "learn": [
                          0.4965930786
                        ],
                        "passed_time": 21.79367044,
                        "remaining_time": 200.5907218
                      },
                      {
                        "iteration": 98,
                        "learn": [
                          0.4960072376
                        ],
                        "passed_time": 21.98140308,
                        "remaining_time": 200.0529715
                      },
                      {
                        "iteration": 99,
                        "learn": [
                          0.4953611598
                        ],
                        "passed_time": 22.18298514,
                        "remaining_time": 199.6468663
                      },
                      {
                        "iteration": 100,
                        "learn": [
                          0.4947725839
                        ],
                        "passed_time": 22.37411373,
                        "remaining_time": 199.1517648
                      },
                      {
                        "iteration": 101,
                        "learn": [
                          0.4942706221
                        ],
                        "passed_time": 22.57127742,
                        "remaining_time": 198.7157561
                      },
                      {
                        "iteration": 102,
                        "learn": [
                          0.4937221997
                        ],
                        "passed_time": 22.79375199,
                        "remaining_time": 198.504811
                      },
                      {
                        "iteration": 103,
                        "learn": [
                          0.4931026006
                        ],
                        "passed_time": 22.98665556,
                        "remaining_time": 198.0388787
                      },
                      {
                        "iteration": 104,
                        "learn": [
                          0.4926323125
                        ],
                        "passed_time": 23.17789542,
                        "remaining_time": 197.5639657
                      },
                      {
                        "iteration": 105,
                        "learn": [
                          0.4921108617
                        ],
                        "passed_time": 23.36092344,
                        "remaining_time": 197.0251467
                      },
                      {
                        "iteration": 106,
                        "learn": [
                          0.4917900766
                        ],
                        "passed_time": 23.54048382,
                        "remaining_time": 196.4640379
                      },
                      {
                        "iteration": 107,
                        "learn": [
                          0.491286509
                        ],
                        "passed_time": 23.74441335,
                        "remaining_time": 196.1112658
                      },
                      {
                        "iteration": 108,
                        "learn": [
                          0.4907436371
                        ],
                        "passed_time": 23.94669339,
                        "remaining_time": 195.7477414
                      },
                      {
                        "iteration": 109,
                        "learn": [
                          0.4900795965
                        ],
                        "passed_time": 24.15702202,
                        "remaining_time": 195.4522691
                      },
                      {
                        "iteration": 110,
                        "learn": [
                          0.4896391315
                        ],
                        "passed_time": 24.37109799,
                        "remaining_time": 195.1883434
                      },
                      {
                        "iteration": 111,
                        "learn": [
                          0.4891640908
                        ],
                        "passed_time": 24.56556658,
                        "remaining_time": 194.7698493
                      },
                      {
                        "iteration": 112,
                        "learn": [
                          0.4886922151
                        ],
                        "passed_time": 24.7929273,
                        "remaining_time": 194.613509
                      },
                      {
                        "iteration": 113,
                        "learn": [
                          0.4882044048
                        ],
                        "passed_time": 24.97876088,
                        "remaining_time": 194.1331766
                      },
                      {
                        "iteration": 114,
                        "learn": [
                          0.4878071675
                        ],
                        "passed_time": 25.17600588,
                        "remaining_time": 193.7457844
                      },
                      {
                        "iteration": 115,
                        "learn": [
                          0.4873307842
                        ],
                        "passed_time": 25.36510139,
                        "remaining_time": 193.2995658
                      },
                      {
                        "iteration": 116,
                        "learn": [
                          0.4868432402
                        ],
                        "passed_time": 25.54852321,
                        "remaining_time": 192.814923
                      },
                      {
                        "iteration": 117,
                        "learn": [
                          0.486354945
                        ],
                        "passed_time": 25.76333378,
                        "remaining_time": 192.5700034
                      },
                      {
                        "iteration": 118,
                        "learn": [
                          0.4858488553
                        ],
                        "passed_time": 25.97054574,
                        "remaining_time": 192.2693345
                      },
                      {
                        "iteration": 119,
                        "learn": [
                          0.4853798263
                        ],
                        "passed_time": 26.17797872,
                        "remaining_time": 191.9718439
                      },
                      {
                        "iteration": 120,
                        "learn": [
                          0.4849073087
                        ],
                        "passed_time": 26.38776571,
                        "remaining_time": 191.6929427
                      },
                      {
                        "iteration": 121,
                        "learn": [
                          0.4844203032
                        ],
                        "passed_time": 26.59069783,
                        "remaining_time": 191.3658418
                      },
                      {
                        "iteration": 122,
                        "learn": [
                          0.4840036422
                        ],
                        "passed_time": 26.80918835,
                        "remaining_time": 191.1516925
                      },
                      {
                        "iteration": 123,
                        "learn": [
                          0.4834231322
                        ],
                        "passed_time": 27.02270303,
                        "remaining_time": 190.9023214
                      },
                      {
                        "iteration": 124,
                        "learn": [
                          0.4829093821
                        ],
                        "passed_time": 27.2273243,
                        "remaining_time": 190.5912701
                      },
                      {
                        "iteration": 125,
                        "learn": [
                          0.4823901068
                        ],
                        "passed_time": 27.4107397,
                        "remaining_time": 190.1348135
                      },
                      {
                        "iteration": 126,
                        "learn": [
                          0.4819743302
                        ],
                        "passed_time": 27.59881268,
                        "remaining_time": 189.714673
                      },
                      {
                        "iteration": 127,
                        "learn": [
                          0.4814469485
                        ],
                        "passed_time": 27.81559856,
                        "remaining_time": 189.4937652
                      },
                      {
                        "iteration": 128,
                        "learn": [
                          0.481023934
                        ],
                        "passed_time": 28.01022776,
                        "remaining_time": 189.1233208
                      },
                      {
                        "iteration": 129,
                        "learn": [
                          0.4806494673
                        ],
                        "passed_time": 28.20967831,
                        "remaining_time": 188.7878472
                      },
                      {
                        "iteration": 130,
                        "learn": [
                          0.4802197139
                        ],
                        "passed_time": 28.3934896,
                        "remaining_time": 188.3507058
                      },
                      {
                        "iteration": 131,
                        "learn": [
                          0.4797423775
                        ],
                        "passed_time": 28.58941231,
                        "remaining_time": 187.9970446
                      },
                      {
                        "iteration": 132,
                        "learn": [
                          0.4792746056
                        ],
                        "passed_time": 28.80939546,
                        "remaining_time": 187.8026005
                      },
                      {
                        "iteration": 133,
                        "learn": [
                          0.4788586579
                        ],
                        "passed_time": 29.01434723,
                        "remaining_time": 187.5106321
                      },
                      {
                        "iteration": 134,
                        "learn": [
                          0.4783802845
                        ],
                        "passed_time": 29.207377,
                        "remaining_time": 187.1435637
                      },
                      {
                        "iteration": 135,
                        "learn": [
                          0.4779376835
                        ],
                        "passed_time": 29.3940137,
                        "remaining_time": 186.7384399
                      },
                      {
                        "iteration": 136,
                        "learn": [
                          0.4775083669
                        ],
                        "passed_time": 29.58331218,
                        "remaining_time": 186.3532731
                      },
                      {
                        "iteration": 137,
                        "learn": [
                          0.4771207241
                        ],
                        "passed_time": 29.77267737,
                        "remaining_time": 185.9713615
                      },
                      {
                        "iteration": 138,
                        "learn": [
                          0.4766332301
                        ],
                        "passed_time": 29.99327353,
                        "remaining_time": 185.7856727
                      },
                      {
                        "iteration": 139,
                        "learn": [
                          0.4762646107
                        ],
                        "passed_time": 30.18478975,
                        "remaining_time": 185.4208513
                      },
                      {
                        "iteration": 140,
                        "learn": [
                          0.4758293778
                        ],
                        "passed_time": 30.3691707,
                        "remaining_time": 185.0150187
                      },
                      {
                        "iteration": 141,
                        "learn": [
                          0.4753486542
                        ],
                        "passed_time": 30.57070496,
                        "remaining_time": 184.7159497
                      },
                      {
                        "iteration": 142,
                        "learn": [
                          0.4749164907
                        ],
                        "passed_time": 30.78525039,
                        "remaining_time": 184.4962209
                      },
                      {
                        "iteration": 143,
                        "learn": [
                          0.4744032847
                        ],
                        "passed_time": 31.15613792,
                        "remaining_time": 185.205931
                      },
                      {
                        "iteration": 144,
                        "learn": [
                          0.4739805297
                        ],
                        "passed_time": 31.36637628,
                        "remaining_time": 184.9534601
                      },
                      {
                        "iteration": 145,
                        "learn": [
                          0.4736192445
                        ],
                        "passed_time": 31.57200163,
                        "remaining_time": 184.6745849
                      },
                      {
                        "iteration": 146,
                        "learn": [
                          0.4732517484
                        ],
                        "passed_time": 31.75990452,
                        "remaining_time": 184.2938677
                      },
                      {
                        "iteration": 147,
                        "learn": [
                          0.4726618912
                        ],
                        "passed_time": 31.96181022,
                        "remaining_time": 183.9963669
                      },
                      {
                        "iteration": 148,
                        "learn": [
                          0.4722188669
                        ],
                        "passed_time": 32.17221895,
                        "remaining_time": 183.7487136
                      },
                      {
                        "iteration": 149,
                        "learn": [
                          0.471788408
                        ],
                        "passed_time": 32.36123094,
                        "remaining_time": 183.3803086
                      },
                      {
                        "iteration": 150,
                        "learn": [
                          0.4712888884
                        ],
                        "passed_time": 32.55406166,
                        "remaining_time": 183.0357507
                      },
                      {
                        "iteration": 151,
                        "learn": [
                          0.4708908218
                        ],
                        "passed_time": 32.73653453,
                        "remaining_time": 182.6354032
                      },
                      {
                        "iteration": 152,
                        "learn": [
                          0.4704126915
                        ],
                        "passed_time": 32.93039451,
                        "remaining_time": 182.3009422
                      },
                      {
                        "iteration": 153,
                        "learn": [
                          0.469977505
                        ],
                        "passed_time": 33.13436183,
                        "remaining_time": 182.0238319
                      },
                      {
                        "iteration": 154,
                        "learn": [
                          0.4696003199
                        ],
                        "passed_time": 33.32159529,
                        "remaining_time": 181.6564388
                      },
                      {
                        "iteration": 155,
                        "learn": [
                          0.4692244781
                        ],
                        "passed_time": 33.53267483,
                        "remaining_time": 181.420369
                      },
                      {
                        "iteration": 156,
                        "learn": [
                          0.4688477774
                        ],
                        "passed_time": 33.70690563,
                        "remaining_time": 180.9867608
                      },
                      {
                        "iteration": 157,
                        "learn": [
                          0.4683752151
                        ],
                        "passed_time": 33.91742154,
                        "remaining_time": 180.7498034
                      },
                      {
                        "iteration": 158,
                        "learn": [
                          0.4680705312
                        ],
                        "passed_time": 34.12299559,
                        "remaining_time": 180.4870396
                      },
                      {
                        "iteration": 159,
                        "learn": [
                          0.4677349467
                        ],
                        "passed_time": 34.31267504,
                        "remaining_time": 180.1415439
                      },
                      {
                        "iteration": 160,
                        "learn": [
                          0.4672968009
                        ],
                        "passed_time": 34.49546063,
                        "remaining_time": 179.7620588
                      },
                      {
                        "iteration": 161,
                        "learn": [
                          0.4668163086
                        ],
                        "passed_time": 34.67760397,
                        "remaining_time": 179.3816798
                      },
                      {
                        "iteration": 162,
                        "learn": [
                          0.4664733163
                        ],
                        "passed_time": 34.8662227,
                        "remaining_time": 179.036984
                      },
                      {
                        "iteration": 163,
                        "learn": [
                          0.4660740679
                        ],
                        "passed_time": 35.09761966,
                        "remaining_time": 178.9122563
                      },
                      {
                        "iteration": 164,
                        "learn": [
                          0.4655891838
                        ],
                        "passed_time": 35.28853714,
                        "remaining_time": 178.5813849
                      },
                      {
                        "iteration": 165,
                        "learn": [
                          0.4651321911
                        ],
                        "passed_time": 35.48267509,
                        "remaining_time": 178.2683797
                      },
                      {
                        "iteration": 166,
                        "learn": [
                          0.4647603851
                        ],
                        "passed_time": 35.67469231,
                        "remaining_time": 177.9462197
                      },
                      {
                        "iteration": 167,
                        "learn": [
                          0.4643335402
                        ],
                        "passed_time": 35.87302534,
                        "remaining_time": 177.6568874
                      },
                      {
                        "iteration": 168,
                        "learn": [
                          0.4639236625
                        ],
                        "passed_time": 36.06976525,
                        "remaining_time": 177.3607983
                      },
                      {
                        "iteration": 169,
                        "learn": [
                          0.463495347
                        ],
                        "passed_time": 36.29411984,
                        "remaining_time": 177.2007027
                      },
                      {
                        "iteration": 170,
                        "learn": [
                          0.4630472899
                        ],
                        "passed_time": 36.49858883,
                        "remaining_time": 176.9434511
                      },
                      {
                        "iteration": 171,
                        "learn": [
                          0.4625541881
                        ],
                        "passed_time": 36.68489417,
                        "remaining_time": 176.5993743
                      },
                      {
                        "iteration": 172,
                        "learn": [
                          0.4621705995
                        ],
                        "passed_time": 36.87035166,
                        "remaining_time": 176.2530683
                      },
                      {
                        "iteration": 173,
                        "learn": [
                          0.4617607364
                        ],
                        "passed_time": 37.06919631,
                        "remaining_time": 175.9721618
                      },
                      {
                        "iteration": 174,
                        "learn": [
                          0.4613565709
                        ],
                        "passed_time": 37.28214414,
                        "remaining_time": 175.7586795
                      },
                      {
                        "iteration": 175,
                        "learn": [
                          0.4610595242
                        ],
                        "passed_time": 37.47345258,
                        "remaining_time": 175.4438916
                      },
                      {
                        "iteration": 176,
                        "learn": [
                          0.4606585401
                        ],
                        "passed_time": 37.6770482,
                        "remaining_time": 175.1876309
                      },
                      {
                        "iteration": 177,
                        "learn": [
                          0.4603119929
                        ],
                        "passed_time": 37.86341673,
                        "remaining_time": 174.8524076
                      },
                      {
                        "iteration": 178,
                        "learn": [
                          0.4599041932
                        ],
                        "passed_time": 38.08005642,
                        "remaining_time": 174.6576889
                      },
                      {
                        "iteration": 179,
                        "learn": [
                          0.4594545481
                        ],
                        "passed_time": 38.28517415,
                        "remaining_time": 174.4102378
                      },
                      {
                        "iteration": 180,
                        "learn": [
                          0.4590640228
                        ],
                        "passed_time": 38.47922013,
                        "remaining_time": 174.1131563
                      },
                      {
                        "iteration": 181,
                        "learn": [
                          0.4587487527
                        ],
                        "passed_time": 38.6779442,
                        "remaining_time": 173.8382327
                      },
                      {
                        "iteration": 182,
                        "learn": [
                          0.4583860155
                        ],
                        "passed_time": 38.87942864,
                        "remaining_time": 173.5764656
                      },
                      {
                        "iteration": 183,
                        "learn": [
                          0.4580035727
                        ],
                        "passed_time": 39.07743442,
                        "remaining_time": 173.2999266
                      },
                      {
                        "iteration": 184,
                        "learn": [
                          0.4576369099
                        ],
                        "passed_time": 39.29888627,
                        "remaining_time": 173.127526
                      },
                      {
                        "iteration": 185,
                        "learn": [
                          0.4573258852
                        ],
                        "passed_time": 39.50080046,
                        "remaining_time": 172.8690945
                      },
                      {
                        "iteration": 186,
                        "learn": [
                          0.4570114002
                        ],
                        "passed_time": 39.69279907,
                        "remaining_time": 172.5681585
                      },
                      {
                        "iteration": 187,
                        "learn": [
                          0.4566781705
                        ],
                        "passed_time": 39.88559195,
                        "remaining_time": 172.271812
                      },
                      {
                        "iteration": 188,
                        "learn": [
                          0.4562441061
                        ],
                        "passed_time": 40.08231235,
                        "remaining_time": 171.9934144
                      },
                      {
                        "iteration": 189,
                        "learn": [
                          0.4558065382
                        ],
                        "passed_time": 40.29512739,
                        "remaining_time": 171.7844905
                      },
                      {
                        "iteration": 190,
                        "learn": [
                          0.4554726913
                        ],
                        "passed_time": 40.48589002,
                        "remaining_time": 171.4821206
                      },
                      {
                        "iteration": 191,
                        "learn": [
                          0.4551766356
                        ],
                        "passed_time": 40.68788253,
                        "remaining_time": 171.2281723
                      },
                      {
                        "iteration": 192,
                        "learn": [
                          0.4548618296
                        ],
                        "passed_time": 40.88245798,
                        "remaining_time": 170.9437492
                      },
                      {
                        "iteration": 193,
                        "learn": [
                          0.4545253134
                        ],
                        "passed_time": 41.09162246,
                        "remaining_time": 170.7208645
                      },
                      {
                        "iteration": 194,
                        "learn": [
                          0.4541382968
                        ],
                        "passed_time": 41.31439256,
                        "remaining_time": 170.5542873
                      },
                      {
                        "iteration": 195,
                        "learn": [
                          0.4538284374
                        ],
                        "passed_time": 41.50854006,
                        "remaining_time": 170.2697255
                      },
                      {
                        "iteration": 196,
                        "learn": [
                          0.4534304619
                        ],
                        "passed_time": 41.71014635,
                        "remaining_time": 170.0164849
                      },
                      {
                        "iteration": 197,
                        "learn": [
                          0.4531146637
                        ],
                        "passed_time": 41.91029555,
                        "remaining_time": 169.7578638
                      },
                      {
                        "iteration": 198,
                        "learn": [
                          0.4527839448
                        ],
                        "passed_time": 42.10717823,
                        "remaining_time": 169.4866822
                      },
                      {
                        "iteration": 199,
                        "learn": [
                          0.4523263801
                        ],
                        "passed_time": 42.3157741,
                        "remaining_time": 169.2630964
                      },
                      {
                        "iteration": 200,
                        "learn": [
                          0.451948787
                        ],
                        "passed_time": 42.5165178,
                        "remaining_time": 169.0084464
                      },
                      {
                        "iteration": 201,
                        "learn": [
                          0.4516101725
                        ],
                        "passed_time": 42.72237777,
                        "remaining_time": 168.7745419
                      },
                      {
                        "iteration": 202,
                        "learn": [
                          0.4512456557
                        ],
                        "passed_time": 42.93383086,
                        "remaining_time": 168.5628729
                      },
                      {
                        "iteration": 203,
                        "learn": [
                          0.4508864955
                        ],
                        "passed_time": 43.13107932,
                        "remaining_time": 168.2957801
                      },
                      {
                        "iteration": 204,
                        "learn": [
                          0.4505269218
                        ],
                        "passed_time": 43.32375371,
                        "remaining_time": 168.0116302
                      },
                      {
                        "iteration": 205,
                        "learn": [
                          0.4501333372
                        ],
                        "passed_time": 43.53738818,
                        "remaining_time": 167.8091564
                      },
                      {
                        "iteration": 206,
                        "learn": [
                          0.4498671228
                        ],
                        "passed_time": 43.72994228,
                        "remaining_time": 167.5258175
                      },
                      {
                        "iteration": 207,
                        "learn": [
                          0.4494866082
                        ],
                        "passed_time": 43.91782246,
                        "remaining_time": 167.2255547
                      },
                      {
                        "iteration": 208,
                        "learn": [
                          0.4489582975
                        ],
                        "passed_time": 44.11741498,
                        "remaining_time": 166.970695
                      },
                      {
                        "iteration": 209,
                        "learn": [
                          0.4485798017
                        ],
                        "passed_time": 44.3053559,
                        "remaining_time": 166.6725293
                      },
                      {
                        "iteration": 210,
                        "learn": [
                          0.448207867
                        ],
                        "passed_time": 44.50907788,
                        "remaining_time": 166.4344192
                      },
                      {
                        "iteration": 211,
                        "learn": [
                          0.4477931668
                        ],
                        "passed_time": 44.70034108,
                        "remaining_time": 166.1503244
                      },
                      {
                        "iteration": 212,
                        "learn": [
                          0.4475049944
                        ],
                        "passed_time": 44.90523177,
                        "remaining_time": 165.9174526
                      },
                      {
                        "iteration": 213,
                        "learn": [
                          0.4471954844
                        ],
                        "passed_time": 45.09315046,
                        "remaining_time": 165.6225059
                      },
                      {
                        "iteration": 214,
                        "learn": [
                          0.4468603052
                        ],
                        "passed_time": 45.29436917,
                        "remaining_time": 165.3771153
                      },
                      {
                        "iteration": 215,
                        "learn": [
                          0.4465441944
                        ],
                        "passed_time": 45.49935149,
                        "remaining_time": 165.1457943
                      },
                      {
                        "iteration": 216,
                        "learn": [
                          0.446183922
                        ],
                        "passed_time": 45.69717668,
                        "remaining_time": 164.888891
                      },
                      {
                        "iteration": 217,
                        "learn": [
                          0.445753341
                        ],
                        "passed_time": 45.9082612,
                        "remaining_time": 164.6800929
                      },
                      {
                        "iteration": 218,
                        "learn": [
                          0.4453399134
                        ],
                        "passed_time": 46.11265459,
                        "remaining_time": 164.447412
                      },
                      {
                        "iteration": 219,
                        "learn": [
                          0.4449061716
                        ],
                        "passed_time": 46.30959455,
                        "remaining_time": 164.1885625
                      },
                      {
                        "iteration": 220,
                        "learn": [
                          0.444551294
                        ],
                        "passed_time": 46.53467353,
                        "remaining_time": 164.0294601
                      },
                      {
                        "iteration": 221,
                        "learn": [
                          0.4442392243
                        ],
                        "passed_time": 46.73664508,
                        "remaining_time": 163.7887832
                      },
                      {
                        "iteration": 222,
                        "learn": [
                          0.4438669266
                        ],
                        "passed_time": 46.93570676,
                        "remaining_time": 163.5383146
                      },
                      {
                        "iteration": 223,
                        "learn": [
                          0.4434813565
                        ],
                        "passed_time": 47.13183005,
                        "remaining_time": 163.2781255
                      },
                      {
                        "iteration": 224,
                        "learn": [
                          0.4431095649
                        ],
                        "passed_time": 47.32968449,
                        "remaining_time": 163.0244688
                      },
                      {
                        "iteration": 225,
                        "learn": [
                          0.4427567268
                        ],
                        "passed_time": 47.53269587,
                        "remaining_time": 162.7889673
                      },
                      {
                        "iteration": 226,
                        "learn": [
                          0.4423497143
                        ],
                        "passed_time": 47.7205052,
                        "remaining_time": 162.5019847
                      },
                      {
                        "iteration": 227,
                        "learn": [
                          0.442003916
                        ],
                        "passed_time": 47.92906109,
                        "remaining_time": 162.2861191
                      },
                      {
                        "iteration": 228,
                        "learn": [
                          0.4416100225
                        ],
                        "passed_time": 48.12404981,
                        "remaining_time": 162.0246393
                      },
                      {
                        "iteration": 229,
                        "learn": [
                          0.4412197115
                        ],
                        "passed_time": 48.33291813,
                        "remaining_time": 161.8102042
                      },
                      {
                        "iteration": 230,
                        "learn": [
                          0.4408226336
                        ],
                        "passed_time": 48.54166775,
                        "remaining_time": 161.5954221
                      },
                      {
                        "iteration": 231,
                        "learn": [
                          0.4404911168
                        ],
                        "passed_time": 48.73257933,
                        "remaining_time": 161.3216419
                      },
                      {
                        "iteration": 232,
                        "learn": [
                          0.4401412068
                        ],
                        "passed_time": 48.92071382,
                        "remaining_time": 161.0394313
                      },
                      {
                        "iteration": 233,
                        "learn": [
                          0.4397810303
                        ],
                        "passed_time": 49.11064128,
                        "remaining_time": 160.7638941
                      },
                      {
                        "iteration": 234,
                        "learn": [
                          0.4393682162
                        ],
                        "passed_time": 49.3131676,
                        "remaining_time": 160.5300988
                      },
                      {
                        "iteration": 235,
                        "learn": [
                          0.4390657946
                        ],
                        "passed_time": 49.51154631,
                        "remaining_time": 160.2831414
                      },
                      {
                        "iteration": 236,
                        "learn": [
                          0.4386800381
                        ],
                        "passed_time": 49.72476269,
                        "remaining_time": 160.0843626
                      },
                      {
                        "iteration": 237,
                        "learn": [
                          0.4383325447
                        ],
                        "passed_time": 49.91083917,
                        "remaining_time": 159.7985691
                      },
                      {
                        "iteration": 238,
                        "learn": [
                          0.4379539472
                        ],
                        "passed_time": 50.1065273,
                        "remaining_time": 159.5442145
                      },
                      {
                        "iteration": 239,
                        "learn": [
                          0.4375619773
                        ],
                        "passed_time": 50.30234293,
                        "remaining_time": 159.2907526
                      },
                      {
                        "iteration": 240,
                        "learn": [
                          0.4371432628
                        ],
                        "passed_time": 50.49043671,
                        "remaining_time": 159.0134501
                      },
                      {
                        "iteration": 241,
                        "learn": [
                          0.4368241435
                        ],
                        "passed_time": 50.70056351,
                        "remaining_time": 158.8058973
                      },
                      {
                        "iteration": 242,
                        "learn": [
                          0.4364593905
                        ],
                        "passed_time": 50.89737669,
                        "remaining_time": 158.5568484
                      },
                      {
                        "iteration": 243,
                        "learn": [
                          0.4361899074
                        ],
                        "passed_time": 51.08550434,
                        "remaining_time": 158.2813167
                      },
                      {
                        "iteration": 244,
                        "learn": [
                          0.4358573902
                        ],
                        "passed_time": 51.2911118,
                        "remaining_time": 158.0603649
                      },
                      {
                        "iteration": 245,
                        "learn": [
                          0.4355137832
                        ],
                        "passed_time": 51.47608144,
                        "remaining_time": 157.7762821
                      },
                      {
                        "iteration": 246,
                        "learn": [
                          0.4350972199
                        ],
                        "passed_time": 51.68625011,
                        "remaining_time": 157.5698232
                      },
                      {
                        "iteration": 247,
                        "learn": [
                          0.434729999
                        ],
                        "passed_time": 51.87396881,
                        "remaining_time": 157.2952603
                      },
                      {
                        "iteration": 248,
                        "learn": [
                          0.4343567757
                        ],
                        "passed_time": 52.07825442,
                        "remaining_time": 157.0713617
                      },
                      {
                        "iteration": 249,
                        "learn": [
                          0.4340006796
                        ],
                        "passed_time": 52.2937388,
                        "remaining_time": 156.8812164
                      },
                      {
                        "iteration": 250,
                        "learn": [
                          0.4337194934
                        ],
                        "passed_time": 52.48887042,
                        "remaining_time": 156.6301352
                      },
                      {
                        "iteration": 251,
                        "learn": [
                          0.4333718691
                        ],
                        "passed_time": 52.71625416,
                        "remaining_time": 156.4752306
                      },
                      {
                        "iteration": 252,
                        "learn": [
                          0.4330297273
                        ],
                        "passed_time": 52.92049821,
                        "remaining_time": 156.2514315
                      },
                      {
                        "iteration": 253,
                        "learn": [
                          0.4327071418
                        ],
                        "passed_time": 53.10889606,
                        "remaining_time": 155.9812459
                      },
                      {
                        "iteration": 254,
                        "learn": [
                          0.4323852981
                        ],
                        "passed_time": 53.31654481,
                        "remaining_time": 155.7679447
                      },
                      {
                        "iteration": 255,
                        "learn": [
                          0.4320599772
                        ],
                        "passed_time": 53.50947307,
                        "remaining_time": 155.5119061
                      },
                      {
                        "iteration": 256,
                        "learn": [
                          0.4317041783
                        ],
                        "passed_time": 53.72828297,
                        "remaining_time": 155.3311838
                      },
                      {
                        "iteration": 257,
                        "learn": [
                          0.4313304374
                        ],
                        "passed_time": 53.92087705,
                        "remaining_time": 155.0747704
                      },
                      {
                        "iteration": 258,
                        "learn": [
                          0.4309613994
                        ],
                        "passed_time": 54.12062672,
                        "remaining_time": 154.839322
                      },
                      {
                        "iteration": 259,
                        "learn": [
                          0.4305842429
                        ],
                        "passed_time": 54.32799924,
                        "remaining_time": 154.625844
                      },
                      {
                        "iteration": 260,
                        "learn": [
                          0.4302384343
                        ],
                        "passed_time": 54.52628765,
                        "remaining_time": 154.3866919
                      },
                      {
                        "iteration": 261,
                        "learn": [
                          0.4298597692
                        ],
                        "passed_time": 54.72147786,
                        "remaining_time": 154.1391247
                      },
                      {
                        "iteration": 262,
                        "learn": [
                          0.429474805
                        ],
                        "passed_time": 54.93360821,
                        "remaining_time": 153.9394268
                      },
                      {
                        "iteration": 263,
                        "learn": [
                          0.4290798891
                        ],
                        "passed_time": 55.11269233,
                        "remaining_time": 153.6475059
                      },
                      {
                        "iteration": 264,
                        "learn": [
                          0.4287285664
                        ],
                        "passed_time": 55.30257428,
                        "remaining_time": 153.3863853
                      },
                      {
                        "iteration": 265,
                        "learn": [
                          0.4283368109
                        ],
                        "passed_time": 55.50482899,
                        "remaining_time": 153.1599416
                      },
                      {
                        "iteration": 266,
                        "learn": [
                          0.4280576603
                        ],
                        "passed_time": 55.70773188,
                        "remaining_time": 152.9354587
                      },
                      {
                        "iteration": 267,
                        "learn": [
                          0.4277188119
                        ],
                        "passed_time": 55.92452599,
                        "remaining_time": 152.7490784
                      },
                      {
                        "iteration": 268,
                        "learn": [
                          0.4273507572
                        ],
                        "passed_time": 56.11630796,
                        "remaining_time": 152.4945023
                      },
                      {
                        "iteration": 269,
                        "learn": [
                          0.4269791705
                        ],
                        "passed_time": 56.3184894,
                        "remaining_time": 152.2685084
                      },
                      {
                        "iteration": 270,
                        "learn": [
                          0.426675705
                        ],
                        "passed_time": 56.51990459,
                        "remaining_time": 152.040629
                      },
                      {
                        "iteration": 271,
                        "learn": [
                          0.4263572623
                        ],
                        "passed_time": 56.70727081,
                        "remaining_time": 151.7753425
                      },
                      {
                        "iteration": 272,
                        "learn": [
                          0.4260131851
                        ],
                        "passed_time": 56.91899235,
                        "remaining_time": 151.5754851
                      },
                      {
                        "iteration": 273,
                        "learn": [
                          0.4255861442
                        ],
                        "passed_time": 57.1176677,
                        "remaining_time": 151.3409735
                      },
                      {
                        "iteration": 274,
                        "learn": [
                          0.4252948533
                        ],
                        "passed_time": 57.31747938,
                        "remaining_time": 151.1097184
                      },
                      {
                        "iteration": 275,
                        "learn": [
                          0.4248928184
                        ],
                        "passed_time": 57.51176795,
                        "remaining_time": 150.8642029
                      },
                      {
                        "iteration": 276,
                        "learn": [
                          0.4245146967
                        ],
                        "passed_time": 57.69961291,
                        "remaining_time": 150.6022388
                      },
                      {
                        "iteration": 277,
                        "learn": [
                          0.4242254196
                        ],
                        "passed_time": 57.92097358,
                        "remaining_time": 150.4278523
                      },
                      {
                        "iteration": 278,
                        "learn": [
                          0.4238325662
                        ],
                        "passed_time": 58.11023287,
                        "remaining_time": 150.1701717
                      },
                      {
                        "iteration": 279,
                        "learn": [
                          0.4235699375
                        ],
                        "passed_time": 58.29562489,
                        "remaining_time": 149.9030354
                      },
                      {
                        "iteration": 280,
                        "learn": [
                          0.4232063239
                        ],
                        "passed_time": 58.49358511,
                        "remaining_time": 149.6686395
                      },
                      {
                        "iteration": 281,
                        "learn": [
                          0.4228897479
                        ],
                        "passed_time": 58.68722136,
                        "remaining_time": 149.4234927
                      },
                      {
                        "iteration": 282,
                        "learn": [
                          0.4225260101
                        ],
                        "passed_time": 58.90945076,
                        "remaining_time": 149.2511526
                      },
                      {
                        "iteration": 283,
                        "learn": [
                          0.4221639836
                        ],
                        "passed_time": 59.11250504,
                        "remaining_time": 149.0301183
                      },
                      {
                        "iteration": 284,
                        "learn": [
                          0.4218035718
                        ],
                        "passed_time": 59.31988719,
                        "remaining_time": 148.8200679
                      },
                      {
                        "iteration": 285,
                        "learn": [
                          0.4214268166
                        ],
                        "passed_time": 59.52499669,
                        "remaining_time": 148.6043624
                      },
                      {
                        "iteration": 286,
                        "learn": [
                          0.4211009595
                        ],
                        "passed_time": 59.71978395,
                        "remaining_time": 148.363087
                      },
                      {
                        "iteration": 287,
                        "learn": [
                          0.4206789587
                        ],
                        "passed_time": 59.92156035,
                        "remaining_time": 148.1394131
                      },
                      {
                        "iteration": 288,
                        "learn": [
                          0.4202804116
                        ],
                        "passed_time": 60.13911214,
                        "remaining_time": 147.9547015
                      },
                      {
                        "iteration": 289,
                        "learn": [
                          0.4198777383
                        ],
                        "passed_time": 60.34441979,
                        "remaining_time": 147.7397864
                      },
                      {
                        "iteration": 290,
                        "learn": [
                          0.4194966678
                        ],
                        "passed_time": 60.55942864,
                        "remaining_time": 147.5485735
                      },
                      {
                        "iteration": 291,
                        "learn": [
                          0.4191435866
                        ],
                        "passed_time": 60.76394554,
                        "remaining_time": 147.3317584
                      },
                      {
                        "iteration": 292,
                        "learn": [
                          0.4188421486
                        ],
                        "passed_time": 60.98429674,
                        "remaining_time": 147.1532348
                      },
                      {
                        "iteration": 293,
                        "learn": [
                          0.4185029513
                        ],
                        "passed_time": 61.19583161,
                        "remaining_time": 146.9532555
                      },
                      {
                        "iteration": 294,
                        "learn": [
                          0.4181619292
                        ],
                        "passed_time": 61.40254055,
                        "remaining_time": 146.7416647
                      },
                      {
                        "iteration": 295,
                        "learn": [
                          0.4178199428
                        ],
                        "passed_time": 61.61133775,
                        "remaining_time": 146.5350736
                      },
                      {
                        "iteration": 296,
                        "learn": [
                          0.4174952937
                        ],
                        "passed_time": 61.82070017,
                        "remaining_time": 146.3298055
                      },
                      {
                        "iteration": 297,
                        "learn": [
                          0.4171566941
                        ],
                        "passed_time": 62.04342617,
                        "remaining_time": 146.1559905
                      },
                      {
                        "iteration": 298,
                        "learn": [
                          0.4168564744
                        ],
                        "passed_time": 62.24454539,
                        "remaining_time": 145.9311917
                      },
                      {
                        "iteration": 299,
                        "learn": [
                          0.4164647542
                        ],
                        "passed_time": 62.43511617,
                        "remaining_time": 145.6819377
                      },
                      {
                        "iteration": 300,
                        "learn": [
                          0.4160736037
                        ],
                        "passed_time": 62.64747664,
                        "remaining_time": 145.483675
                      },
                      {
                        "iteration": 301,
                        "learn": [
                          0.4157323172
                        ],
                        "passed_time": 62.83766425,
                        "remaining_time": 145.2340717
                      },
                      {
                        "iteration": 302,
                        "learn": [
                          0.4153643383
                        ],
                        "passed_time": 63.07370233,
                        "remaining_time": 145.0903318
                      },
                      {
                        "iteration": 303,
                        "learn": [
                          0.4150128544
                        ],
                        "passed_time": 63.27876317,
                        "remaining_time": 144.875063
                      },
                      {
                        "iteration": 304,
                        "learn": [
                          0.414611798
                        ],
                        "passed_time": 63.48140513,
                        "remaining_time": 144.6543494
                      },
                      {
                        "iteration": 305,
                        "learn": [
                          0.4142615196
                        ],
                        "passed_time": 63.6811424,
                        "remaining_time": 144.4271661
                      },
                      {
                        "iteration": 306,
                        "learn": [
                          0.413849207
                        ],
                        "passed_time": 63.86555926,
                        "remaining_time": 144.1655784
                      },
                      {
                        "iteration": 307,
                        "learn": [
                          0.4134638637
                        ],
                        "passed_time": 64.07684586,
                        "remaining_time": 143.9648615
                      },
                      {
                        "iteration": 308,
                        "learn": [
                          0.413106067
                        ],
                        "passed_time": 64.27781712,
                        "remaining_time": 143.7410085
                      },
                      {
                        "iteration": 309,
                        "learn": [
                          0.4127314295
                        ],
                        "passed_time": 64.47153285,
                        "remaining_time": 143.5011538
                      },
                      {
                        "iteration": 310,
                        "learn": [
                          0.4123352282
                        ],
                        "passed_time": 64.6703671,
                        "remaining_time": 143.2729355
                      },
                      {
                        "iteration": 311,
                        "learn": [
                          0.4119021406
                        ],
                        "passed_time": 64.85634147,
                        "remaining_time": 143.0165479
                      },
                      {
                        "iteration": 312,
                        "learn": [
                          0.4115110388
                        ],
                        "passed_time": 65.04717905,
                        "remaining_time": 142.7712844
                      },
                      {
                        "iteration": 313,
                        "learn": [
                          0.4111418445
                        ],
                        "passed_time": 65.27291481,
                        "remaining_time": 142.6026101
                      },
                      {
                        "iteration": 314,
                        "learn": [
                          0.4107844569
                        ],
                        "passed_time": 65.46971743,
                        "remaining_time": 142.3706554
                      },
                      {
                        "iteration": 315,
                        "learn": [
                          0.4103907301
                        ],
                        "passed_time": 65.67927377,
                        "remaining_time": 142.1665293
                      },
                      {
                        "iteration": 316,
                        "learn": [
                          0.4100329729
                        ],
                        "passed_time": 65.87883144,
                        "remaining_time": 141.9408261
                      },
                      {
                        "iteration": 317,
                        "learn": [
                          0.4096573429
                        ],
                        "passed_time": 66.06946937,
                        "remaining_time": 141.6961576
                      },
                      {
                        "iteration": 318,
                        "learn": [
                          0.4092739055
                        ],
                        "passed_time": 66.29584807,
                        "remaining_time": 141.5281271
                      },
                      {
                        "iteration": 319,
                        "learn": [
                          0.4088371248
                        ],
                        "passed_time": 66.48873899,
                        "remaining_time": 141.2885704
                      },
                      {
                        "iteration": 320,
                        "learn": [
                          0.4084870033
                        ],
                        "passed_time": 66.69056995,
                        "remaining_time": 141.0682149
                      },
                      {
                        "iteration": 321,
                        "learn": [
                          0.4080869436
                        ],
                        "passed_time": 66.88792362,
                        "remaining_time": 140.8385473
                      },
                      {
                        "iteration": 322,
                        "learn": [
                          0.4076923265
                        ],
                        "passed_time": 67.08599554,
                        "remaining_time": 140.6105851
                      },
                      {
                        "iteration": 323,
                        "learn": [
                          0.4072984752
                        ],
                        "passed_time": 67.2982177,
                        "remaining_time": 140.4123308
                      },
                      {
                        "iteration": 324,
                        "learn": [
                          0.4069807709
                        ],
                        "passed_time": 67.49226252,
                        "remaining_time": 140.1762376
                      },
                      {
                        "iteration": 325,
                        "learn": [
                          0.4066273591
                        ],
                        "passed_time": 67.68302647,
                        "remaining_time": 139.9336191
                      },
                      {
                        "iteration": 326,
                        "learn": [
                          0.4062587178
                        ],
                        "passed_time": 67.88224407,
                        "remaining_time": 139.7087164
                      },
                      {
                        "iteration": 327,
                        "learn": [
                          0.405887898
                        ],
                        "passed_time": 68.06459241,
                        "remaining_time": 139.4494088
                      },
                      {
                        "iteration": 328,
                        "learn": [
                          0.4055594287
                        ],
                        "passed_time": 68.2724023,
                        "remaining_time": 139.2424983
                      },
                      {
                        "iteration": 329,
                        "learn": [
                          0.4051396883
                        ],
                        "passed_time": 68.48969875,
                        "remaining_time": 139.0548429
                      },
                      {
                        "iteration": 330,
                        "learn": [
                          0.4047806184
                        ],
                        "passed_time": 68.69837167,
                        "remaining_time": 138.849579
                      },
                      {
                        "iteration": 331,
                        "learn": [
                          0.4043691604
                        ],
                        "passed_time": 68.90503546,
                        "remaining_time": 138.6402521
                      },
                      {
                        "iteration": 332,
                        "learn": [
                          0.4039676558
                        ],
                        "passed_time": 69.10691998,
                        "remaining_time": 138.4213682
                      },
                      {
                        "iteration": 333,
                        "learn": [
                          0.4036039669
                        ],
                        "passed_time": 69.31732237,
                        "remaining_time": 138.219571
                      },
                      {
                        "iteration": 334,
                        "learn": [
                          0.4031531035
                        ],
                        "passed_time": 69.52873969,
                        "remaining_time": 138.019737
                      },
                      {
                        "iteration": 335,
                        "learn": [
                          0.4027831374
                        ],
                        "passed_time": 69.7267507,
                        "remaining_time": 137.7933407
                      },
                      {
                        "iteration": 336,
                        "learn": [
                          0.4023987683
                        ],
                        "passed_time": 69.93336438,
                        "remaining_time": 137.5840373
                      },
                      {
                        "iteration": 337,
                        "learn": [
                          0.4019967363
                        ],
                        "passed_time": 70.12083289,
                        "remaining_time": 137.3372526
                      },
                      {
                        "iteration": 338,
                        "learn": [
                          0.4015576588
                        ],
                        "passed_time": 70.30938558,
                        "remaining_time": 137.0929318
                      },
                      {
                        "iteration": 339,
                        "learn": [
                          0.4011782255
                        ],
                        "passed_time": 70.53999456,
                        "remaining_time": 136.9305777
                      },
                      {
                        "iteration": 340,
                        "learn": [
                          0.4008026962
                        ],
                        "passed_time": 70.74723933,
                        "remaining_time": 136.7226707
                      },
                      {
                        "iteration": 341,
                        "learn": [
                          0.4003842721
                        ],
                        "passed_time": 70.96325795,
                        "remaining_time": 136.5316483
                      },
                      {
                        "iteration": 342,
                        "learn": [
                          0.399992441
                        ],
                        "passed_time": 71.15338937,
                        "remaining_time": 136.2908945
                      },
                      {
                        "iteration": 343,
                        "learn": [
                          0.3996137655
                        ],
                        "passed_time": 71.35622469,
                        "remaining_time": 136.074661
                      },
                      {
                        "iteration": 344,
                        "learn": [
                          0.3993025049
                        ],
                        "passed_time": 71.56135063,
                        "remaining_time": 135.8628541
                      },
                      {
                        "iteration": 345,
                        "learn": [
                          0.3989099641
                        ],
                        "passed_time": 71.7682103,
                        "remaining_time": 135.6543628
                      },
                      {
                        "iteration": 346,
                        "learn": [
                          0.3985561745
                        ],
                        "passed_time": 71.96997571,
                        "remaining_time": 135.4362944
                      },
                      {
                        "iteration": 347,
                        "learn": [
                          0.3981794938
                        ],
                        "passed_time": 72.16051178,
                        "remaining_time": 135.1972807
                      },
                      {
                        "iteration": 348,
                        "learn": [
                          0.3977869291
                        ],
                        "passed_time": 72.36111491,
                        "remaining_time": 134.9773232
                      },
                      {
                        "iteration": 349,
                        "learn": [
                          0.3974226999
                        ],
                        "passed_time": 72.58177092,
                        "remaining_time": 134.7947174
                      },
                      {
                        "iteration": 350,
                        "learn": [
                          0.3970525308
                        ],
                        "passed_time": 72.77607826,
                        "remaining_time": 134.563176
                      },
                      {
                        "iteration": 351,
                        "learn": [
                          0.3966366751
                        ],
                        "passed_time": 72.96437701,
                        "remaining_time": 134.3207849
                      },
                      {
                        "iteration": 352,
                        "learn": [
                          0.3962646979
                        ],
                        "passed_time": 73.15382408,
                        "remaining_time": 134.080805
                      },
                      {
                        "iteration": 353,
                        "learn": [
                          0.3958735389
                        ],
                        "passed_time": 73.34477825,
                        "remaining_time": 133.8438609
                      },
                      {
                        "iteration": 354,
                        "learn": [
                          0.3954642508
                        ],
                        "passed_time": 73.56330993,
                        "remaining_time": 133.6572814
                      },
                      {
                        "iteration": 355,
                        "learn": [
                          0.3951007536
                        ],
                        "passed_time": 73.74288621,
                        "remaining_time": 133.4000526
                      },
                      {
                        "iteration": 356,
                        "learn": [
                          0.394719744
                        ],
                        "passed_time": 73.94920151,
                        "remaining_time": 133.191419
                      },
                      {
                        "iteration": 357,
                        "learn": [
                          0.3942850304
                        ],
                        "passed_time": 74.13503923,
                        "remaining_time": 132.9460759
                      },
                      {
                        "iteration": 358,
                        "learn": [
                          0.3939277836
                        ],
                        "passed_time": 74.31100181,
                        "remaining_time": 132.6834322
                      },
                      {
                        "iteration": 359,
                        "learn": [
                          0.3935822668
                        ],
                        "passed_time": 74.52672451,
                        "remaining_time": 132.4919547
                      },
                      {
                        "iteration": 360,
                        "learn": [
                          0.3931391904
                        ],
                        "passed_time": 74.72600745,
                        "remaining_time": 132.2712431
                      },
                      {
                        "iteration": 361,
                        "learn": [
                          0.3927671232
                        ],
                        "passed_time": 74.91753827,
                        "remaining_time": 132.0369873
                      },
                      {
                        "iteration": 362,
                        "learn": [
                          0.3923164808
                        ],
                        "passed_time": 75.10900049,
                        "remaining_time": 131.8028466
                      },
                      {
                        "iteration": 363,
                        "learn": [
                          0.3918647876
                        ],
                        "passed_time": 75.31220767,
                        "remaining_time": 131.5894618
                      },
                      {
                        "iteration": 364,
                        "learn": [
                          0.3915175961
                        ],
                        "passed_time": 75.52937881,
                        "remaining_time": 131.4004262
                      },
                      {
                        "iteration": 365,
                        "learn": [
                          0.3911312667
                        ],
                        "passed_time": 75.74194523,
                        "remaining_time": 131.2032603
                      },
                      {
                        "iteration": 366,
                        "learn": [
                          0.3906978031
                        ],
                        "passed_time": 75.94585056,
                        "remaining_time": 130.9910719
                      },
                      {
                        "iteration": 367,
                        "learn": [
                          0.3902606909
                        ],
                        "passed_time": 76.14949963,
                        "remaining_time": 130.7784885
                      },
                      {
                        "iteration": 368,
                        "learn": [
                          0.3898284359
                        ],
                        "passed_time": 76.34418594,
                        "remaining_time": 130.5506269
                      },
                      {
                        "iteration": 369,
                        "learn": [
                          0.3894270578
                        ],
                        "passed_time": 76.53927486,
                        "remaining_time": 130.3236302
                      },
                      {
                        "iteration": 370,
                        "learn": [
                          0.3891376916
                        ],
                        "passed_time": 76.7429796,
                        "remaining_time": 130.1114128
                      },
                      {
                        "iteration": 371,
                        "learn": [
                          0.3886915544
                        ],
                        "passed_time": 76.94139915,
                        "remaining_time": 129.890319
                      },
                      {
                        "iteration": 372,
                        "learn": [
                          0.3883024457
                        ],
                        "passed_time": 77.14008576,
                        "remaining_time": 129.6697956
                      },
                      {
                        "iteration": 373,
                        "learn": [
                          0.3878972182
                        ],
                        "passed_time": 77.33762657,
                        "remaining_time": 129.4474712
                      },
                      {
                        "iteration": 374,
                        "learn": [
                          0.387498368
                        ],
                        "passed_time": 77.52498697,
                        "remaining_time": 129.2083116
                      },
                      {
                        "iteration": 375,
                        "learn": [
                          0.3870955624
                        ],
                        "passed_time": 77.75045292,
                        "remaining_time": 129.0326665
                      },
                      {
                        "iteration": 376,
                        "learn": [
                          0.3866804654
                        ],
                        "passed_time": 77.9619093,
                        "remaining_time": 128.8336061
                      },
                      {
                        "iteration": 377,
                        "learn": [
                          0.3863089276
                        ],
                        "passed_time": 78.16956727,
                        "remaining_time": 128.6282297
                      },
                      {
                        "iteration": 378,
                        "learn": [
                          0.3859137653
                        ],
                        "passed_time": 78.35169296,
                        "remaining_time": 128.3810061
                      },
                      {
                        "iteration": 379,
                        "learn": [
                          0.3855458437
                        ],
                        "passed_time": 78.54699141,
                        "remaining_time": 128.1556176
                      },
                      {
                        "iteration": 380,
                        "learn": [
                          0.3851457355
                        ],
                        "passed_time": 78.76158474,
                        "remaining_time": 127.9617348
                      },
                      {
                        "iteration": 381,
                        "learn": [
                          0.3847087075
                        ],
                        "passed_time": 78.97480724,
                        "remaining_time": 127.7655258
                      },
                      {
                        "iteration": 382,
                        "learn": [
                          0.384312417
                        ],
                        "passed_time": 79.17311605,
                        "remaining_time": 127.5452026
                      },
                      {
                        "iteration": 383,
                        "learn": [
                          0.3838893108
                        ],
                        "passed_time": 79.37854739,
                        "remaining_time": 127.3364198
                      },
                      {
                        "iteration": 384,
                        "learn": [
                          0.3835226407
                        ],
                        "passed_time": 79.57242416,
                        "remaining_time": 127.109197
                      },
                      {
                        "iteration": 385,
                        "learn": [
                          0.3831484609
                        ],
                        "passed_time": 79.80295467,
                        "remaining_time": 126.9404512
                      },
                      {
                        "iteration": 386,
                        "learn": [
                          0.3828156026
                        ],
                        "passed_time": 79.99037592,
                        "remaining_time": 126.7031019
                      },
                      {
                        "iteration": 387,
                        "learn": [
                          0.3824245387
                        ],
                        "passed_time": 80.17244622,
                        "remaining_time": 126.4575698
                      },
                      {
                        "iteration": 388,
                        "learn": [
                          0.3820742196
                        ],
                        "passed_time": 80.35908238,
                        "remaining_time": 126.2195356
                      },
                      {
                        "iteration": 389,
                        "learn": [
                          0.3817383024
                        ],
                        "passed_time": 80.55087429,
                        "remaining_time": 125.989829
                      },
                      {
                        "iteration": 390,
                        "learn": [
                          0.3813225705
                        ],
                        "passed_time": 80.76723383,
                        "remaining_time": 125.7985816
                      },
                      {
                        "iteration": 391,
                        "learn": [
                          0.3809243777
                        ],
                        "passed_time": 80.96232417,
                        "remaining_time": 125.5742171
                      },
                      {
                        "iteration": 392,
                        "learn": [
                          0.3804936066
                        ],
                        "passed_time": 81.16553625,
                        "remaining_time": 125.3625458
                      },
                      {
                        "iteration": 393,
                        "learn": [
                          0.3801041329
                        ],
                        "passed_time": 81.37226914,
                        "remaining_time": 125.1563327
                      },
                      {
                        "iteration": 394,
                        "learn": [
                          0.3797105905
                        ],
                        "passed_time": 81.56820255,
                        "remaining_time": 124.9335761
                      },
                      {
                        "iteration": 395,
                        "learn": [
                          0.3793559227
                        ],
                        "passed_time": 81.78478289,
                        "remaining_time": 124.7424466
                      },
                      {
                        "iteration": 396,
                        "learn": [
                          0.378987886
                        ],
                        "passed_time": 81.99868228,
                        "remaining_time": 124.5471169
                      },
                      {
                        "iteration": 397,
                        "learn": [
                          0.3785962727
                        ],
                        "passed_time": 82.20884623,
                        "remaining_time": 124.3460438
                      },
                      {
                        "iteration": 398,
                        "learn": [
                          0.3782496429
                        ],
                        "passed_time": 82.40124373,
                        "remaining_time": 124.1181641
                      },
                      {
                        "iteration": 399,
                        "learn": [
                          0.3778915243
                        ],
                        "passed_time": 82.58644018,
                        "remaining_time": 123.8796603
                      },
                      {
                        "iteration": 400,
                        "learn": [
                          0.3774695275
                        ],
                        "passed_time": 82.77878671,
                        "remaining_time": 123.6521028
                      },
                      {
                        "iteration": 401,
                        "learn": [
                          0.3770883694
                        ],
                        "passed_time": 83.01691205,
                        "remaining_time": 123.4928194
                      },
                      {
                        "iteration": 402,
                        "learn": [
                          0.3767181671
                        ],
                        "passed_time": 83.19126805,
                        "remaining_time": 123.2386775
                      },
                      {
                        "iteration": 403,
                        "learn": [
                          0.3763500132
                        ],
                        "passed_time": 83.37541745,
                        "remaining_time": 122.9993782
                      },
                      {
                        "iteration": 404,
                        "learn": [
                          0.3759240687
                        ],
                        "passed_time": 83.56474113,
                        "remaining_time": 122.767953
                      },
                      {
                        "iteration": 405,
                        "learn": [
                          0.3754786374
                        ],
                        "passed_time": 83.76090085,
                        "remaining_time": 122.5467367
                      },
                      {
                        "iteration": 406,
                        "learn": [
                          0.3750880902
                        ],
                        "passed_time": 83.990458,
                        "remaining_time": 122.3743037
                      },
                      {
                        "iteration": 407,
                        "learn": [
                          0.3746914871
                        ],
                        "passed_time": 84.1878844,
                        "remaining_time": 122.1549695
                      },
                      {
                        "iteration": 408,
                        "learn": [
                          0.3743172628
                        ],
                        "passed_time": 84.38139858,
                        "remaining_time": 121.9300894
                      },
                      {
                        "iteration": 409,
                        "learn": [
                          0.3739468384
                        ],
                        "passed_time": 84.57361676,
                        "remaining_time": 121.7034973
                      },
                      {
                        "iteration": 410,
                        "learn": [
                          0.3735511329
                        ],
                        "passed_time": 84.7611518,
                        "remaining_time": 121.4703611
                      },
                      {
                        "iteration": 411,
                        "learn": [
                          0.373178118
                        ],
                        "passed_time": 84.98924019,
                        "remaining_time": 121.2953234
                      },
                      {
                        "iteration": 412,
                        "learn": [
                          0.3727505435
                        ],
                        "passed_time": 85.18519837,
                        "remaining_time": 121.0743619
                      },
                      {
                        "iteration": 413,
                        "learn": [
                          0.3723640181
                        ],
                        "passed_time": 85.37905787,
                        "remaining_time": 120.8505505
                      },
                      {
                        "iteration": 414,
                        "learn": [
                          0.3719600652
                        ],
                        "passed_time": 85.56547395,
                        "remaining_time": 120.616391
                      },
                      {
                        "iteration": 415,
                        "learn": [
                          0.3715975917
                        ],
                        "passed_time": 85.74408676,
                        "remaining_time": 120.3715064
                      },
                      {
                        "iteration": 416,
                        "learn": [
                          0.3712320343
                        ],
                        "passed_time": 85.96258437,
                        "remaining_time": 120.1827019
                      },
                      {
                        "iteration": 417,
                        "learn": [
                          0.3708414038
                        ],
                        "passed_time": 86.18388554,
                        "remaining_time": 119.9976588
                      },
                      {
                        "iteration": 418,
                        "learn": [
                          0.3704077134
                        ],
                        "passed_time": 86.39213426,
                        "remaining_time": 119.7943437
                      },
                      {
                        "iteration": 419,
                        "learn": [
                          0.37001715
                        ],
                        "passed_time": 86.60191757,
                        "remaining_time": 119.5931243
                      },
                      {
                        "iteration": 420,
                        "learn": [
                          0.3696420008
                        ],
                        "passed_time": 86.80962142,
                        "remaining_time": 119.3890043
                      },
                      {
                        "iteration": 421,
                        "learn": [
                          0.3692735262
                        ],
                        "passed_time": 87.01642718,
                        "remaining_time": 119.1836372
                      },
                      {
                        "iteration": 422,
                        "learn": [
                          0.3688433515
                        ],
                        "passed_time": 87.22412849,
                        "remaining_time": 118.979485
                      },
                      {
                        "iteration": 423,
                        "learn": [
                          0.3684361079
                        ],
                        "passed_time": 87.41378141,
                        "remaining_time": 118.7507974
                      },
                      {
                        "iteration": 424,
                        "learn": [
                          0.3680440506
                        ],
                        "passed_time": 87.60487021,
                        "remaining_time": 118.5242362
                      },
                      {
                        "iteration": 425,
                        "learn": [
                          0.3676508588
                        ],
                        "passed_time": 87.8081929,
                        "remaining_time": 118.3143256
                      },
                      {
                        "iteration": 426,
                        "learn": [
                          0.3672723222
                        ],
                        "passed_time": 87.9994563,
                        "remaining_time": 118.0882634
                      },
                      {
                        "iteration": 427,
                        "learn": [
                          0.3668880811
                        ],
                        "passed_time": 88.24286241,
                        "remaining_time": 117.9320498
                      },
                      {
                        "iteration": 428,
                        "learn": [
                          0.3665275823
                        ],
                        "passed_time": 88.44894103,
                        "remaining_time": 117.7257467
                      },
                      {
                        "iteration": 429,
                        "learn": [
                          0.3662113509
                        ],
                        "passed_time": 88.64440518,
                        "remaining_time": 117.5053743
                      },
                      {
                        "iteration": 430,
                        "learn": [
                          0.3658497543
                        ],
                        "passed_time": 88.84140427,
                        "remaining_time": 117.2871439
                      },
                      {
                        "iteration": 431,
                        "learn": [
                          0.3655097266
                        ],
                        "passed_time": 89.03217663,
                        "remaining_time": 117.0608248
                      },
                      {
                        "iteration": 432,
                        "learn": [
                          0.3651357235
                        ],
                        "passed_time": 89.26537846,
                        "remaining_time": 116.89023
                      },
                      {
                        "iteration": 433,
                        "learn": [
                          0.3647871365
                        ],
                        "passed_time": 89.45198681,
                        "remaining_time": 116.6585819
                      },
                      {
                        "iteration": 434,
                        "learn": [
                          0.3643925311
                        ],
                        "passed_time": 89.64010812,
                        "remaining_time": 116.429106
                      },
                      {
                        "iteration": 435,
                        "learn": [
                          0.3640900765
                        ],
                        "passed_time": 89.82587661,
                        "remaining_time": 116.1967762
                      },
                      {
                        "iteration": 436,
                        "learn": [
                          0.363720795
                        ],
                        "passed_time": 90.02014999,
                        "remaining_time": 115.9756166
                      },
                      {
                        "iteration": 437,
                        "learn": [
                          0.3633490328
                        ],
                        "passed_time": 90.24155745,
                        "remaining_time": 115.7893956
                      },
                      {
                        "iteration": 438,
                        "learn": [
                          0.3630233739
                        ],
                        "passed_time": 90.42538057,
                        "remaining_time": 115.5549852
                      },
                      {
                        "iteration": 439,
                        "learn": [
                          0.3626497653
                        ],
                        "passed_time": 90.61876004,
                        "remaining_time": 115.3329673
                      },
                      {
                        "iteration": 440,
                        "learn": [
                          0.3622690653
                        ],
                        "passed_time": 90.82252535,
                        "remaining_time": 115.1242442
                      },
                      {
                        "iteration": 441,
                        "learn": [
                          0.3619274403
                        ],
                        "passed_time": 91.01477619,
                        "remaining_time": 114.9010071
                      },
                      {
                        "iteration": 442,
                        "learn": [
                          0.3615682575
                        ],
                        "passed_time": 91.23508394,
                        "remaining_time": 114.7131868
                      },
                      {
                        "iteration": 443,
                        "learn": [
                          0.3611982768
                        ],
                        "passed_time": 91.42792471,
                        "remaining_time": 114.4908246
                      },
                      {
                        "iteration": 444,
                        "learn": [
                          0.3607794573
                        ],
                        "passed_time": 91.61170223,
                        "remaining_time": 114.2572915
                      },
                      {
                        "iteration": 445,
                        "learn": [
                          0.3603802161
                        ],
                        "passed_time": 91.82138365,
                        "remaining_time": 114.0561582
                      },
                      {
                        "iteration": 446,
                        "learn": [
                          0.3600206381
                        ],
                        "passed_time": 92.01666173,
                        "remaining_time": 113.8371676
                      },
                      {
                        "iteration": 447,
                        "learn": [
                          0.3596425596
                        ],
                        "passed_time": 92.23578448,
                        "remaining_time": 113.647663
                      },
                      {
                        "iteration": 448,
                        "learn": [
                          0.3592769187
                        ],
                        "passed_time": 92.44688853,
                        "remaining_time": 113.4481861
                      },
                      {
                        "iteration": 449,
                        "learn": [
                          0.3588805081
                        ],
                        "passed_time": 92.64472519,
                        "remaining_time": 113.2324419
                      },
                      {
                        "iteration": 450,
                        "learn": [
                          0.3585235847
                        ],
                        "passed_time": 92.85410913,
                        "remaining_time": 113.0308335
                      },
                      {
                        "iteration": 451,
                        "learn": [
                          0.358131813
                        ],
                        "passed_time": 93.05028967,
                        "remaining_time": 112.8131831
                      },
                      {
                        "iteration": 452,
                        "learn": [
                          0.3577319921
                        ],
                        "passed_time": 93.27010679,
                        "remaining_time": 112.6241687
                      },
                      {
                        "iteration": 453,
                        "learn": [
                          0.3573742084
                        ],
                        "passed_time": 93.47691349,
                        "remaining_time": 112.4193717
                      },
                      {
                        "iteration": 454,
                        "learn": [
                          0.3570517982
                        ],
                        "passed_time": 93.66665548,
                        "remaining_time": 112.1941258
                      },
                      {
                        "iteration": 455,
                        "learn": [
                          0.3566984272
                        ],
                        "passed_time": 93.87624967,
                        "remaining_time": 111.9927189
                      },
                      {
                        "iteration": 456,
                        "learn": [
                          0.3563254268
                        ],
                        "passed_time": 94.0853753,
                        "remaining_time": 111.7907195
                      },
                      {
                        "iteration": 457,
                        "learn": [
                          0.355990361
                        ],
                        "passed_time": 94.32492625,
                        "remaining_time": 111.6246944
                      },
                      {
                        "iteration": 458,
                        "learn": [
                          0.3556842391
                        ],
                        "passed_time": 94.52761069,
                        "remaining_time": 111.4148963
                      },
                      {
                        "iteration": 459,
                        "learn": [
                          0.3553328041
                        ],
                        "passed_time": 94.71646006,
                        "remaining_time": 111.1888879
                      },
                      {
                        "iteration": 460,
                        "learn": [
                          0.3549889132
                        ],
                        "passed_time": 94.91957972,
                        "remaining_time": 110.9797255
                      },
                      {
                        "iteration": 461,
                        "learn": [
                          0.3546098131
                        ],
                        "passed_time": 95.10652265,
                        "remaining_time": 110.7517515
                      },
                      {
                        "iteration": 462,
                        "learn": [
                          0.3542743051
                        ],
                        "passed_time": 95.31393935,
                        "remaining_time": 110.5477007
                      },
                      {
                        "iteration": 463,
                        "learn": [
                          0.353893871
                        ],
                        "passed_time": 95.54506692,
                        "remaining_time": 110.3710256
                      },
                      {
                        "iteration": 464,
                        "learn": [
                          0.3535418355
                        ],
                        "passed_time": 95.73823524,
                        "remaining_time": 110.1504427
                      },
                      {
                        "iteration": 465,
                        "learn": [
                          0.3531669103
                        ],
                        "passed_time": 95.93415639,
                        "remaining_time": 109.933132
                      },
                      {
                        "iteration": 466,
                        "learn": [
                          0.3527926157
                        ],
                        "passed_time": 96.12801071,
                        "remaining_time": 109.713554
                      },
                      {
                        "iteration": 467,
                        "learn": [
                          0.3524495051
                        ],
                        "passed_time": 96.33632044,
                        "remaining_time": 109.5105181
                      },
                      {
                        "iteration": 468,
                        "learn": [
                          0.352105112
                        ],
                        "passed_time": 96.57937137,
                        "remaining_time": 109.3467936
                      },
                      {
                        "iteration": 469,
                        "learn": [
                          0.3517437521
                        ],
                        "passed_time": 96.77315638,
                        "remaining_time": 109.1271763
                      },
                      {
                        "iteration": 470,
                        "learn": [
                          0.3513769807
                        ],
                        "passed_time": 96.97610529,
                        "remaining_time": 108.9179611
                      },
                      {
                        "iteration": 471,
                        "learn": [
                          0.351015613
                        ],
                        "passed_time": 97.17905436,
                        "remaining_time": 108.7087727
                      },
                      {
                        "iteration": 472,
                        "learn": [
                          0.3507072954
                        ],
                        "passed_time": 97.37816731,
                        "remaining_time": 108.4953365
                      },
                      {
                        "iteration": 473,
                        "learn": [
                          0.3503896155
                        ],
                        "passed_time": 97.59473295,
                        "remaining_time": 108.3013281
                      },
                      {
                        "iteration": 474,
                        "learn": [
                          0.3500162649
                        ],
                        "passed_time": 97.79408121,
                        "remaining_time": 108.088195
                      },
                      {
                        "iteration": 475,
                        "learn": [
                          0.3496628406
                        ],
                        "passed_time": 98.00080808,
                        "remaining_time": 107.8832425
                      },
                      {
                        "iteration": 476,
                        "learn": [
                          0.3493401827
                        ],
                        "passed_time": 98.18422637,
                        "remaining_time": 107.6527262
                      },
                      {
                        "iteration": 477,
                        "learn": [
                          0.3489718053
                        ],
                        "passed_time": 98.38035405,
                        "remaining_time": 107.4362862
                      },
                      {
                        "iteration": 478,
                        "learn": [
                          0.3486502597
                        ],
                        "passed_time": 98.61164051,
                        "remaining_time": 107.2581727
                      },
                      {
                        "iteration": 479,
                        "learn": [
                          0.3483060449
                        ],
                        "passed_time": 98.80167995,
                        "remaining_time": 107.0351533
                      },
                      {
                        "iteration": 480,
                        "learn": [
                          0.3479753498
                        ],
                        "passed_time": 99.00158012,
                        "remaining_time": 106.8229108
                      },
                      {
                        "iteration": 481,
                        "learn": [
                          0.3476509426
                        ],
                        "passed_time": 99.17829383,
                        "remaining_time": 106.5858013
                      },
                      {
                        "iteration": 482,
                        "learn": [
                          0.3472857759
                        ],
                        "passed_time": 99.37404909,
                        "remaining_time": 106.3693238
                      },
                      {
                        "iteration": 483,
                        "learn": [
                          0.3469323785
                        ],
                        "passed_time": 99.60117146,
                        "remaining_time": 106.1863729
                      },
                      {
                        "iteration": 484,
                        "learn": [
                          0.3465888385
                        ],
                        "passed_time": 99.79059703,
                        "remaining_time": 105.9632113
                      },
                      {
                        "iteration": 485,
                        "learn": [
                          0.3462132258
                        ],
                        "passed_time": 99.98236866,
                        "remaining_time": 105.7426697
                      },
                      {
                        "iteration": 486,
                        "learn": [
                          0.3458669079
                        ],
                        "passed_time": 100.1757094,
                        "remaining_time": 105.5238992
                      },
                      {
                        "iteration": 487,
                        "learn": [
                          0.3455173585
                        ],
                        "passed_time": 100.3921769,
                        "remaining_time": 105.3294971
                      },
                      {
                        "iteration": 488,
                        "learn": [
                          0.3451563323
                        ],
                        "passed_time": 100.601569,
                        "remaining_time": 105.127611
                      },
                      {
                        "iteration": 489,
                        "learn": [
                          0.3449429716
                        ],
                        "passed_time": 100.7906956,
                        "remaining_time": 104.9046015
                      },
                      {
                        "iteration": 490,
                        "learn": [
                          0.3446067868
                        ],
                        "passed_time": 100.9709907,
                        "remaining_time": 104.6725749
                      },
                      {
                        "iteration": 491,
                        "learn": [
                          0.3442252746
                        ],
                        "passed_time": 101.1535641,
                        "remaining_time": 104.4431108
                      },
                      {
                        "iteration": 492,
                        "learn": [
                          0.3439327018
                        ],
                        "passed_time": 101.3468472,
                        "remaining_time": 104.224851
                      },
                      {
                        "iteration": 493,
                        "learn": [
                          0.3436100317
                        ],
                        "passed_time": 101.546171,
                        "remaining_time": 104.0128796
                      },
                      {
                        "iteration": 494,
                        "learn": [
                          0.3432597471
                        ],
                        "passed_time": 101.7799773,
                        "remaining_time": 103.8361384
                      },
                      {
                        "iteration": 495,
                        "learn": [
                          0.3428927902
                        ],
                        "passed_time": 101.972748,
                        "remaining_time": 103.6174698
                      },
                      {
                        "iteration": 496,
                        "learn": [
                          0.3425217675
                        ],
                        "passed_time": 102.1781097,
                        "remaining_time": 103.4116483
                      },
                      {
                        "iteration": 497,
                        "learn": [
                          0.3422110865
                        ],
                        "passed_time": 102.3703461,
                        "remaining_time": 103.1925979
                      },
                      {
                        "iteration": 498,
                        "learn": [
                          0.3419466936
                        ],
                        "passed_time": 102.5799296,
                        "remaining_time": 102.9910716
                      },
                      {
                        "iteration": 499,
                        "learn": [
                          0.3415956751
                        ],
                        "passed_time": 102.8184025,
                        "remaining_time": 102.8184025
                      },
                      {
                        "iteration": 500,
                        "learn": [
                          0.3412632231
                        ],
                        "passed_time": 103.01192,
                        "remaining_time": 102.6006947
                      },
                      {
                        "iteration": 501,
                        "learn": [
                          0.3409276527
                        ],
                        "passed_time": 103.2061163,
                        "remaining_time": 102.3837568
                      },
                      {
                        "iteration": 502,
                        "learn": [
                          0.3406244685
                        ],
                        "passed_time": 103.4203368,
                        "remaining_time": 102.1866946
                      },
                      {
                        "iteration": 503,
                        "learn": [
                          0.3402614679
                        ],
                        "passed_time": 103.6254376,
                        "remaining_time": 101.9805894
                      },
                      {
                        "iteration": 504,
                        "learn": [
                          0.3399045047
                        ],
                        "passed_time": 103.8442375,
                        "remaining_time": 101.7879159
                      },
                      {
                        "iteration": 505,
                        "learn": [
                          0.3395668855
                        ],
                        "passed_time": 104.0430067,
                        "remaining_time": 101.5755836
                      },
                      {
                        "iteration": 506,
                        "learn": [
                          0.339209524
                        ],
                        "passed_time": 104.2512855,
                        "remaining_time": 101.3725518
                      },
                      {
                        "iteration": 507,
                        "learn": [
                          0.3388685311
                        ],
                        "passed_time": 104.455824,
                        "remaining_time": 101.1658768
                      },
                      {
                        "iteration": 508,
                        "learn": [
                          0.3385624205
                        ],
                        "passed_time": 104.6471128,
                        "remaining_time": 100.9464291
                      },
                      {
                        "iteration": 509,
                        "learn": [
                          0.3381957636
                        ],
                        "passed_time": 104.875843,
                        "remaining_time": 100.7630648
                      },
                      {
                        "iteration": 510,
                        "learn": [
                          0.3378507068
                        ],
                        "passed_time": 105.0613877,
                        "remaining_time": 100.5381969
                      },
                      {
                        "iteration": 511,
                        "learn": [
                          0.3375039718
                        ],
                        "passed_time": 105.2547156,
                        "remaining_time": 100.3209008
                      },
                      {
                        "iteration": 512,
                        "learn": [
                          0.3371607173
                        ],
                        "passed_time": 105.4663178,
                        "remaining_time": 100.1210463
                      },
                      {
                        "iteration": 513,
                        "learn": [
                          0.3368327379
                        ],
                        "passed_time": 105.6463417,
                        "remaining_time": 99.8912881
                      },
                      {
                        "iteration": 514,
                        "learn": [
                          0.3364833529
                        ],
                        "passed_time": 105.876943,
                        "remaining_time": 99.70935413
                      },
                      {
                        "iteration": 515,
                        "learn": [
                          0.3361707641
                        ],
                        "passed_time": 106.1003462,
                        "remaining_time": 99.52047973
                      },
                      {
                        "iteration": 516,
                        "learn": [
                          0.335832804
                        ],
                        "passed_time": 106.2970745,
                        "remaining_time": 99.30655119
                      },
                      {
                        "iteration": 517,
                        "learn": [
                          0.3355283137
                        ],
                        "passed_time": 106.5085048,
                        "remaining_time": 99.10636937
                      },
                      {
                        "iteration": 518,
                        "learn": [
                          0.3351918304
                        ],
                        "passed_time": 106.698731,
                        "remaining_time": 98.88649249
                      },
                      {
                        "iteration": 519,
                        "learn": [
                          0.3348681307
                        ],
                        "passed_time": 106.9031702,
                        "remaining_time": 98.67984946
                      },
                      {
                        "iteration": 520,
                        "learn": [
                          0.3345300619
                        ],
                        "passed_time": 107.1017177,
                        "remaining_time": 98.46779808
                      },
                      {
                        "iteration": 521,
                        "learn": [
                          0.3342209486
                        ],
                        "passed_time": 107.2845842,
                        "remaining_time": 98.24143921
                      },
                      {
                        "iteration": 522,
                        "learn": [
                          0.3339051799
                        ],
                        "passed_time": 107.4808462,
                        "remaining_time": 98.02746392
                      },
                      {
                        "iteration": 523,
                        "learn": [
                          0.3335395439
                        ],
                        "passed_time": 107.695052,
                        "remaining_time": 97.82985637
                      },
                      {
                        "iteration": 524,
                        "learn": [
                          0.3331889181
                        ],
                        "passed_time": 107.8949354,
                        "remaining_time": 97.61922727
                      },
                      {
                        "iteration": 525,
                        "learn": [
                          0.3328172041
                        ],
                        "passed_time": 108.1289782,
                        "remaining_time": 97.4394214
                      },
                      {
                        "iteration": 526,
                        "learn": [
                          0.3324684859
                        ],
                        "passed_time": 108.3230919,
                        "remaining_time": 97.22357201
                      },
                      {
                        "iteration": 527,
                        "learn": [
                          0.3320945763
                        ],
                        "passed_time": 108.5313731,
                        "remaining_time": 97.02046988
                      },
                      {
                        "iteration": 528,
                        "learn": [
                          0.3317658095
                        ],
                        "passed_time": 108.7281667,
                        "remaining_time": 96.80712008
                      },
                      {
                        "iteration": 529,
                        "learn": [
                          0.3314777804
                        ],
                        "passed_time": 108.9314851,
                        "remaining_time": 96.59961886
                      },
                      {
                        "iteration": 530,
                        "learn": [
                          0.3311618135
                        ],
                        "passed_time": 109.153084,
                        "remaining_time": 96.40827943
                      },
                      {
                        "iteration": 531,
                        "learn": [
                          0.3308625153
                        ],
                        "passed_time": 109.3384479,
                        "remaining_time": 96.18495036
                      },
                      {
                        "iteration": 532,
                        "learn": [
                          0.3305343778
                        ],
                        "passed_time": 109.5506599,
                        "remaining_time": 95.98528735
                      },
                      {
                        "iteration": 533,
                        "learn": [
                          0.3302501171
                        ],
                        "passed_time": 109.7387244,
                        "remaining_time": 95.76450477
                      },
                      {
                        "iteration": 534,
                        "learn": [
                          0.3299717755
                        ],
                        "passed_time": 109.9360693,
                        "remaining_time": 95.5519107
                      },
                      {
                        "iteration": 535,
                        "learn": [
                          0.3296823584
                        ],
                        "passed_time": 110.1554049,
                        "remaining_time": 95.35841024
                      },
                      {
                        "iteration": 536,
                        "learn": [
                          0.3293523913
                        ],
                        "passed_time": 110.3625844,
                        "remaining_time": 95.15433253
                      },
                      {
                        "iteration": 537,
                        "learn": [
                          0.3290345333
                        ],
                        "passed_time": 110.5734358,
                        "remaining_time": 94.95339653
                      },
                      {
                        "iteration": 538,
                        "learn": [
                          0.3287054025
                        ],
                        "passed_time": 110.7725676,
                        "remaining_time": 94.74240013
                      },
                      {
                        "iteration": 539,
                        "learn": [
                          0.3283363543
                        ],
                        "passed_time": 110.9852818,
                        "remaining_time": 94.54301785
                      },
                      {
                        "iteration": 540,
                        "learn": [
                          0.3280103025
                        ],
                        "passed_time": 111.2272598,
                        "remaining_time": 94.36841447
                      },
                      {
                        "iteration": 541,
                        "learn": [
                          0.3276861558
                        ],
                        "passed_time": 111.43625,
                        "remaining_time": 94.1656873
                      },
                      {
                        "iteration": 542,
                        "learn": [
                          0.3274240684
                        ],
                        "passed_time": 111.6291383,
                        "remaining_time": 93.94938531
                      },
                      {
                        "iteration": 543,
                        "learn": [
                          0.327114237
                        ],
                        "passed_time": 111.845196,
                        "remaining_time": 93.75259073
                      },
                      {
                        "iteration": 544,
                        "learn": [
                          0.3267680996
                        ],
                        "passed_time": 112.0413766,
                        "remaining_time": 93.53913089
                      },
                      {
                        "iteration": 545,
                        "learn": [
                          0.3264181357
                        ],
                        "passed_time": 112.2733463,
                        "remaining_time": 93.35549306
                      },
                      {
                        "iteration": 546,
                        "learn": [
                          0.3260787305
                        ],
                        "passed_time": 112.4576464,
                        "remaining_time": 93.1322008
                      },
                      {
                        "iteration": 547,
                        "learn": [
                          0.3257944024
                        ],
                        "passed_time": 112.6670489,
                        "remaining_time": 92.92975567
                      },
                      {
                        "iteration": 548,
                        "learn": [
                          0.325513239
                        ],
                        "passed_time": 112.8571173,
                        "remaining_time": 92.71140236
                      },
                      {
                        "iteration": 549,
                        "learn": [
                          0.3251313183
                        ],
                        "passed_time": 113.0524544,
                        "remaining_time": 92.49746267
                      },
                      {
                        "iteration": 550,
                        "learn": [
                          0.32482111
                        ],
                        "passed_time": 113.3002389,
                        "remaining_time": 92.32632899
                      },
                      {
                        "iteration": 551,
                        "learn": [
                          0.3244886162
                        ],
                        "passed_time": 113.4876693,
                        "remaining_time": 92.10593452
                      },
                      {
                        "iteration": 552,
                        "learn": [
                          0.3241640542
                        ],
                        "passed_time": 113.6889427,
                        "remaining_time": 91.8968488
                      },
                      {
                        "iteration": 553,
                        "learn": [
                          0.3239339316
                        ],
                        "passed_time": 113.8865702,
                        "remaining_time": 91.68485617
                      },
                      {
                        "iteration": 554,
                        "learn": [
                          0.3235853521
                        ],
                        "passed_time": 114.0904823,
                        "remaining_time": 91.4779543
                      },
                      {
                        "iteration": 555,
                        "learn": [
                          0.3232823154
                        ],
                        "passed_time": 114.3266191,
                        "remaining_time": 91.29679656
                      },
                      {
                        "iteration": 556,
                        "learn": [
                          0.3229506279
                        ],
                        "passed_time": 114.52979,
                        "remaining_time": 91.08922256
                      },
                      {
                        "iteration": 557,
                        "learn": [
                          0.3226344795
                        ],
                        "passed_time": 114.7250848,
                        "remaining_time": 90.87542556
                      },
                      {
                        "iteration": 558,
                        "learn": [
                          0.322342001
                        ],
                        "passed_time": 114.9134802,
                        "remaining_time": 90.65625183
                      },
                      {
                        "iteration": 559,
                        "learn": [
                          0.3220264513
                        ],
                        "passed_time": 115.1054598,
                        "remaining_time": 90.44000411
                      },
                      {
                        "iteration": 560,
                        "learn": [
                          0.3217100266
                        ],
                        "passed_time": 115.3149937,
                        "remaining_time": 90.23757971
                      },
                      {
                        "iteration": 561,
                        "learn": [
                          0.3213618935
                        ],
                        "passed_time": 115.5324198,
                        "remaining_time": 90.04128093
                      },
                      {
                        "iteration": 562,
                        "learn": [
                          0.3210258901
                        ],
                        "passed_time": 115.7494263,
                        "remaining_time": 89.84458135
                      },
                      {
                        "iteration": 563,
                        "learn": [
                          0.3206918942
                        ],
                        "passed_time": 115.9566249,
                        "remaining_time": 89.64022774
                      },
                      {
                        "iteration": 564,
                        "learn": [
                          0.3203409735
                        ],
                        "passed_time": 116.1501748,
                        "remaining_time": 89.42535579
                      },
                      {
                        "iteration": 565,
                        "learn": [
                          0.3200401827
                        ],
                        "passed_time": 116.3581496,
                        "remaining_time": 89.22161999
                      },
                      {
                        "iteration": 566,
                        "learn": [
                          0.3197235418
                        ],
                        "passed_time": 116.5638594,
                        "remaining_time": 89.01613951
                      },
                      {
                        "iteration": 567,
                        "learn": [
                          0.3194308308
                        ],
                        "passed_time": 116.7586924,
                        "remaining_time": 88.80238575
                      },
                      {
                        "iteration": 568,
                        "learn": [
                          0.3191172382
                        ],
                        "passed_time": 116.9660847,
                        "remaining_time": 88.59821177
                      },
                      {
                        "iteration": 569,
                        "learn": [
                          0.3188134215
                        ],
                        "passed_time": 117.1580913,
                        "remaining_time": 88.38241973
                      },
                      {
                        "iteration": 570,
                        "learn": [
                          0.3184632925
                        ],
                        "passed_time": 117.3836789,
                        "remaining_time": 88.19194092
                      },
                      {
                        "iteration": 571,
                        "learn": [
                          0.3181170429
                        ],
                        "passed_time": 117.6046331,
                        "remaining_time": 87.99787231
                      },
                      {
                        "iteration": 572,
                        "learn": [
                          0.3177971373
                        ],
                        "passed_time": 117.7993637,
                        "remaining_time": 87.7841681
                      },
                      {
                        "iteration": 573,
                        "learn": [
                          0.3175095535
                        ],
                        "passed_time": 117.9979189,
                        "remaining_time": 87.57336838
                      },
                      {
                        "iteration": 574,
                        "learn": [
                          0.3172891628
                        ],
                        "passed_time": 118.1753614,
                        "remaining_time": 87.34700626
                      },
                      {
                        "iteration": 575,
                        "learn": [
                          0.3169671953
                        ],
                        "passed_time": 118.3816548,
                        "remaining_time": 87.14205144
                      },
                      {
                        "iteration": 576,
                        "learn": [
                          0.3166504364
                        ],
                        "passed_time": 118.6122103,
                        "remaining_time": 86.95487859
                      },
                      {
                        "iteration": 577,
                        "learn": [
                          0.3163439838
                        ],
                        "passed_time": 118.8113231,
                        "remaining_time": 86.74459924
                      },
                      {
                        "iteration": 578,
                        "learn": [
                          0.3160280525
                        ],
                        "passed_time": 119.0018213,
                        "remaining_time": 86.52809462
                      },
                      {
                        "iteration": 579,
                        "learn": [
                          0.3157691111
                        ],
                        "passed_time": 119.1952719,
                        "remaining_time": 86.31381755
                      },
                      {
                        "iteration": 580,
                        "learn": [
                          0.3154949334
                        ],
                        "passed_time": 119.3789927,
                        "remaining_time": 86.09259544
                      },
                      {
                        "iteration": 581,
                        "learn": [
                          0.3152191801
                        ],
                        "passed_time": 119.6058182,
                        "remaining_time": 85.90246048
                      },
                      {
                        "iteration": 582,
                        "learn": [
                          0.3148873105
                        ],
                        "passed_time": 119.813288,
                        "remaining_time": 85.69835519
                      },
                      {
                        "iteration": 583,
                        "learn": [
                          0.3146114728
                        ],
                        "passed_time": 119.9954074,
                        "remaining_time": 85.47618062
                      },
                      {
                        "iteration": 584,
                        "learn": [
                          0.314323082
                        ],
                        "passed_time": 120.1935601,
                        "remaining_time": 85.26551702
                      },
                      {
                        "iteration": 585,
                        "learn": [
                          0.3140176551
                        ],
                        "passed_time": 120.3782156,
                        "remaining_time": 85.04536053
                      },
                      {
                        "iteration": 586,
                        "learn": [
                          0.3137637168
                        ],
                        "passed_time": 120.6000476,
                        "remaining_time": 84.85148156
                      },
                      {
                        "iteration": 587,
                        "learn": [
                          0.3134239947
                        ],
                        "passed_time": 120.8035066,
                        "remaining_time": 84.64463389
                      },
                      {
                        "iteration": 588,
                        "learn": [
                          0.3131474042
                        ],
                        "passed_time": 120.9843475,
                        "remaining_time": 84.42201496
                      },
                      {
                        "iteration": 589,
                        "learn": [
                          0.3128672769
                        ],
                        "passed_time": 121.1758905,
                        "remaining_time": 84.20697477
                      },
                      {
                        "iteration": 590,
                        "learn": [
                          0.3125780598
                        ],
                        "passed_time": 121.3549142,
                        "remaining_time": 83.98335009
                      },
                      {
                        "iteration": 591,
                        "learn": [
                          0.3122745278
                        ],
                        "passed_time": 121.5324235,
                        "remaining_time": 83.7588324
                      },
                      {
                        "iteration": 592,
                        "learn": [
                          0.3120400909
                        ],
                        "passed_time": 121.7486317,
                        "remaining_time": 83.56103389
                      },
                      {
                        "iteration": 593,
                        "learn": [
                          0.3117598455
                        ],
                        "passed_time": 121.9479642,
                        "remaining_time": 83.35163883
                      },
                      {
                        "iteration": 594,
                        "learn": [
                          0.3114869914
                        ],
                        "passed_time": 122.1453504,
                        "remaining_time": 83.14095279
                      },
                      {
                        "iteration": 595,
                        "learn": [
                          0.3111789262
                        ],
                        "passed_time": 122.3363496,
                        "remaining_time": 82.92598196
                      },
                      {
                        "iteration": 596,
                        "learn": [
                          0.310918532
                        ],
                        "passed_time": 122.5226154,
                        "remaining_time": 82.70789615
                      },
                      {
                        "iteration": 597,
                        "learn": [
                          0.3105920896
                        ],
                        "passed_time": 122.7685762,
                        "remaining_time": 82.53004618
                      },
                      {
                        "iteration": 598,
                        "learn": [
                          0.3102900835
                        ],
                        "passed_time": 122.9742439,
                        "remaining_time": 82.32499468
                      },
                      {
                        "iteration": 599,
                        "learn": [
                          0.3100044529
                        ],
                        "passed_time": 123.1680063,
                        "remaining_time": 82.11200422
                      },
                      {
                        "iteration": 600,
                        "learn": [
                          0.3097499992
                        ],
                        "passed_time": 123.3587968,
                        "remaining_time": 81.89710472
                      },
                      {
                        "iteration": 601,
                        "learn": [
                          0.3094425762
                        ],
                        "passed_time": 123.5504276,
                        "remaining_time": 81.68284084
                      },
                      {
                        "iteration": 602,
                        "learn": [
                          0.3091497892
                        ],
                        "passed_time": 123.7881139,
                        "remaining_time": 81.49897384
                      },
                      {
                        "iteration": 603,
                        "learn": [
                          0.3088742579
                        ],
                        "passed_time": 124.0060105,
                        "remaining_time": 81.3019539
                      },
                      {
                        "iteration": 604,
                        "learn": [
                          0.3085485846
                        ],
                        "passed_time": 124.2088515,
                        "remaining_time": 81.09503531
                      },
                      {
                        "iteration": 605,
                        "learn": [
                          0.308275387
                        ],
                        "passed_time": 124.3983346,
                        "remaining_time": 80.87944528
                      },
                      {
                        "iteration": 606,
                        "learn": [
                          0.3079346345
                        ],
                        "passed_time": 124.6100745,
                        "remaining_time": 80.67835134
                      },
                      {
                        "iteration": 607,
                        "learn": [
                          0.3076867564
                        ],
                        "passed_time": 124.8872146,
                        "remaining_time": 80.51938837
                      },
                      {
                        "iteration": 608,
                        "learn": [
                          0.3074165767
                        ],
                        "passed_time": 125.0845418,
                        "remaining_time": 80.30879449
                      },
                      {
                        "iteration": 609,
                        "learn": [
                          0.3070812252
                        ],
                        "passed_time": 125.2949932,
                        "remaining_time": 80.10663501
                      },
                      {
                        "iteration": 610,
                        "learn": [
                          0.3067908607
                        ],
                        "passed_time": 125.4874967,
                        "remaining_time": 79.89302165
                      },
                      {
                        "iteration": 611,
                        "learn": [
                          0.3065090536
                        ],
                        "passed_time": 125.7016696,
                        "remaining_time": 79.69321538
                      },
                      {
                        "iteration": 612,
                        "learn": [
                          0.3062027112
                        ],
                        "passed_time": 125.9547617,
                        "remaining_time": 79.51793276
                      },
                      {
                        "iteration": 613,
                        "learn": [
                          0.3058945474
                        ],
                        "passed_time": 126.1464334,
                        "remaining_time": 79.30378387
                      },
                      {
                        "iteration": 614,
                        "learn": [
                          0.3056262353
                        ],
                        "passed_time": 126.3614004,
                        "remaining_time": 79.10429131
                      },
                      {
                        "iteration": 615,
                        "learn": [
                          0.3053199114
                        ],
                        "passed_time": 126.5517944,
                        "remaining_time": 78.88943027
                      },
                      {
                        "iteration": 616,
                        "learn": [
                          0.3050788579
                        ],
                        "passed_time": 126.7339673,
                        "remaining_time": 78.66954537
                      },
                      {
                        "iteration": 617,
                        "learn": [
                          0.3047799149
                        ],
                        "passed_time": 126.9914882,
                        "remaining_time": 78.49635676
                      },
                      {
                        "iteration": 618,
                        "learn": [
                          0.3044817681
                        ],
                        "passed_time": 127.179115,
                        "remaining_time": 78.2798753
                      },
                      {
                        "iteration": 619,
                        "learn": [
                          0.3042003749
                        ],
                        "passed_time": 127.3623363,
                        "remaining_time": 78.06078678
                      },
                      {
                        "iteration": 620,
                        "learn": [
                          0.3039087912
                        ],
                        "passed_time": 127.5711976,
                        "remaining_time": 77.857462
                      },
                      {
                        "iteration": 621,
                        "learn": [
                          0.3035955635
                        ],
                        "passed_time": 127.7733125,
                        "remaining_time": 77.65001948
                      },
                      {
                        "iteration": 622,
                        "learn": [
                          0.3032562922
                        ],
                        "passed_time": 128.0226677,
                        "remaining_time": 77.47118096
                      },
                      {
                        "iteration": 623,
                        "learn": [
                          0.3030162569
                        ],
                        "passed_time": 128.2242908,
                        "remaining_time": 77.26335473
                      },
                      {
                        "iteration": 624,
                        "learn": [
                          0.3027413056
                        ],
                        "passed_time": 128.4238699,
                        "remaining_time": 77.05432197
                      },
                      {
                        "iteration": 625,
                        "learn": [
                          0.3024609497
                        ],
                        "passed_time": 128.6115425,
                        "remaining_time": 76.83820588
                      },
                      {
                        "iteration": 626,
                        "learn": [
                          0.3021681558
                        ],
                        "passed_time": 128.8015215,
                        "remaining_time": 76.62355263
                      },
                      {
                        "iteration": 627,
                        "learn": [
                          0.3019103298
                        ],
                        "passed_time": 129.0421212,
                        "remaining_time": 76.4389635
                      },
                      {
                        "iteration": 628,
                        "learn": [
                          0.3016433133
                        ],
                        "passed_time": 129.2563117,
                        "remaining_time": 76.23861944
                      },
                      {
                        "iteration": 629,
                        "learn": [
                          0.3013613953
                        ],
                        "passed_time": 129.4603547,
                        "remaining_time": 76.0322718
                      },
                      {
                        "iteration": 630,
                        "learn": [
                          0.3010702971
                        ],
                        "passed_time": 129.6614478,
                        "remaining_time": 75.82420641
                      },
                      {
                        "iteration": 631,
                        "learn": [
                          0.3008249745
                        ],
                        "passed_time": 129.8372388,
                        "remaining_time": 75.6014302
                      },
                      {
                        "iteration": 632,
                        "learn": [
                          0.3005442704
                        ],
                        "passed_time": 130.0540714,
                        "remaining_time": 75.40259748
                      },
                      {
                        "iteration": 633,
                        "learn": [
                          0.3002789829
                        ],
                        "passed_time": 130.270867,
                        "remaining_time": 75.20368661
                      },
                      {
                        "iteration": 634,
                        "learn": [
                          0.3000034666
                        ],
                        "passed_time": 130.4780335,
                        "remaining_time": 74.99918459
                      },
                      {
                        "iteration": 635,
                        "learn": [
                          0.299723601
                        ],
                        "passed_time": 130.6748545,
                        "remaining_time": 74.78875323
                      },
                      {
                        "iteration": 636,
                        "learn": [
                          0.2994457506
                        ],
                        "passed_time": 130.8609249,
                        "remaining_time": 74.57223823
                      },
                      {
                        "iteration": 637,
                        "learn": [
                          0.2992293054
                        ],
                        "passed_time": 131.0696735,
                        "remaining_time": 74.36868622
                      },
                      {
                        "iteration": 638,
                        "learn": [
                          0.2990058242
                        ],
                        "passed_time": 131.2756744,
                        "remaining_time": 74.16356565
                      },
                      {
                        "iteration": 639,
                        "learn": [
                          0.2987306218
                        ],
                        "passed_time": 131.4588077,
                        "remaining_time": 73.94557935
                      },
                      {
                        "iteration": 640,
                        "learn": [
                          0.2985025925
                        ],
                        "passed_time": 131.6499474,
                        "remaining_time": 73.73218583
                      },
                      {
                        "iteration": 641,
                        "learn": [
                          0.2982338643
                        ],
                        "passed_time": 131.828328,
                        "remaining_time": 73.51174677
                      },
                      {
                        "iteration": 642,
                        "learn": [
                          0.2979990632
                        ],
                        "passed_time": 132.0270235,
                        "remaining_time": 73.30271757
                      },
                      {
                        "iteration": 643,
                        "learn": [
                          0.2977019048
                        ],
                        "passed_time": 132.2575651,
                        "remaining_time": 73.11132479
                      },
                      {
                        "iteration": 644,
                        "learn": [
                          0.2974227572
                        ],
                        "passed_time": 132.4601876,
                        "remaining_time": 72.90444435
                      },
                      {
                        "iteration": 645,
                        "learn": [
                          0.297134958
                        ],
                        "passed_time": 132.6619269,
                        "remaining_time": 72.69709305
                      },
                      {
                        "iteration": 646,
                        "learn": [
                          0.2968386189
                        ],
                        "passed_time": 132.8618452,
                        "remaining_time": 72.48876563
                      },
                      {
                        "iteration": 647,
                        "learn": [
                          0.296532643
                        ],
                        "passed_time": 133.0615997,
                        "remaining_time": 72.28037513
                      },
                      {
                        "iteration": 648,
                        "learn": [
                          0.2962607004
                        ],
                        "passed_time": 133.3989972,
                        "remaining_time": 72.14645305
                      },
                      {
                        "iteration": 649,
                        "learn": [
                          0.2959721124
                        ],
                        "passed_time": 133.5824148,
                        "remaining_time": 71.9289926
                      },
                      {
                        "iteration": 650,
                        "learn": [
                          0.2956677917
                        ],
                        "passed_time": 133.7666076,
                        "remaining_time": 71.71205229
                      },
                      {
                        "iteration": 651,
                        "learn": [
                          0.2953722851
                        ],
                        "passed_time": 133.9762257,
                        "remaining_time": 71.50878307
                      },
                      {
                        "iteration": 652,
                        "learn": [
                          0.2951418829
                        ],
                        "passed_time": 134.1866929,
                        "remaining_time": 71.30594553
                      },
                      {
                        "iteration": 653,
                        "learn": [
                          0.2948921021
                        ],
                        "passed_time": 134.4386949,
                        "remaining_time": 71.12505875
                      },
                      {
                        "iteration": 654,
                        "learn": [
                          0.2946302715
                        ],
                        "passed_time": 134.6362619,
                        "remaining_time": 70.91528299
                      },
                      {
                        "iteration": 655,
                        "learn": [
                          0.2943655005
                        ],
                        "passed_time": 134.8154434,
                        "remaining_time": 70.69590323
                      },
                      {
                        "iteration": 656,
                        "learn": [
                          0.2940853955
                        ],
                        "passed_time": 135.0141671,
                        "remaining_time": 70.48684826
                      },
                      {
                        "iteration": 657,
                        "learn": [
                          0.2938438325
                        ],
                        "passed_time": 135.2130095,
                        "remaining_time": 70.27788639
                      },
                      {
                        "iteration": 658,
                        "learn": [
                          0.2936054582
                        ],
                        "passed_time": 135.4202934,
                        "remaining_time": 70.07332329
                      },
                      {
                        "iteration": 659,
                        "learn": [
                          0.2933484664
                        ],
                        "passed_time": 135.6396532,
                        "remaining_time": 69.87497284
                      },
                      {
                        "iteration": 660,
                        "learn": [
                          0.2930612157
                        ],
                        "passed_time": 135.8483274,
                        "remaining_time": 69.67107865
                      },
                      {
                        "iteration": 661,
                        "learn": [
                          0.2928009055
                        ],
                        "passed_time": 136.0651311,
                        "remaining_time": 69.47132073
                      },
                      {
                        "iteration": 662,
                        "learn": [
                          0.2925112922
                        ],
                        "passed_time": 136.258498,
                        "remaining_time": 69.25959852
                      },
                      {
                        "iteration": 663,
                        "learn": [
                          0.292252318
                        ],
                        "passed_time": 136.4750052,
                        "remaining_time": 69.05964117
                      },
                      {
                        "iteration": 664,
                        "learn": [
                          0.2919793727
                        ],
                        "passed_time": 136.6688759,
                        "remaining_time": 68.84823073
                      },
                      {
                        "iteration": 665,
                        "learn": [
                          0.2916831516
                        ],
                        "passed_time": 136.8596367,
                        "remaining_time": 68.6353133
                      },
                      {
                        "iteration": 666,
                        "learn": [
                          0.2913712905
                        ],
                        "passed_time": 137.0721664,
                        "remaining_time": 68.43333047
                      },
                      {
                        "iteration": 667,
                        "learn": [
                          0.2910779299
                        ],
                        "passed_time": 137.2768511,
                        "remaining_time": 68.227417
                      },
                      {
                        "iteration": 668,
                        "learn": [
                          0.2908162252
                        ],
                        "passed_time": 137.4640317,
                        "remaining_time": 68.01284679
                      },
                      {
                        "iteration": 669,
                        "learn": [
                          0.2905643233
                        ],
                        "passed_time": 137.7039463,
                        "remaining_time": 67.82433178
                      },
                      {
                        "iteration": 670,
                        "learn": [
                          0.2902720935
                        ],
                        "passed_time": 137.910448,
                        "remaining_time": 67.61928074
                      },
                      {
                        "iteration": 671,
                        "learn": [
                          0.2900055367
                        ],
                        "passed_time": 138.1280425,
                        "remaining_time": 67.41963978
                      },
                      {
                        "iteration": 672,
                        "learn": [
                          0.2897668434
                        ],
                        "passed_time": 138.3222177,
                        "remaining_time": 67.2085664
                      },
                      {
                        "iteration": 673,
                        "learn": [
                          0.2894818041
                        ],
                        "passed_time": 138.5382167,
                        "remaining_time": 67.00809888
                      },
                      {
                        "iteration": 674,
                        "learn": [
                          0.2892319623
                        ],
                        "passed_time": 138.7562659,
                        "remaining_time": 66.80857249
                      },
                      {
                        "iteration": 675,
                        "learn": [
                          0.2889441202
                        ],
                        "passed_time": 138.9402635,
                        "remaining_time": 66.59267065
                      },
                      {
                        "iteration": 676,
                        "learn": [
                          0.288657496
                        ],
                        "passed_time": 139.1461053,
                        "remaining_time": 66.38728511
                      },
                      {
                        "iteration": 677,
                        "learn": [
                          0.2883719781
                        ],
                        "passed_time": 139.3421189,
                        "remaining_time": 66.17723053
                      },
                      {
                        "iteration": 678,
                        "learn": [
                          0.2881134981
                        ],
                        "passed_time": 139.5477421,
                        "remaining_time": 65.97176027
                      },
                      {
                        "iteration": 679,
                        "learn": [
                          0.287848088
                        ],
                        "passed_time": 139.7887192,
                        "remaining_time": 65.78292666
                      },
                      {
                        "iteration": 680,
                        "learn": [
                          0.2875704253
                        ],
                        "passed_time": 139.9788483,
                        "remaining_time": 65.57012132
                      },
                      {
                        "iteration": 681,
                        "learn": [
                          0.287345706
                        ],
                        "passed_time": 140.1854417,
                        "remaining_time": 65.36505932
                      },
                      {
                        "iteration": 682,
                        "learn": [
                          0.2871374807
                        ],
                        "passed_time": 140.3795872,
                        "remaining_time": 65.15421541
                      },
                      {
                        "iteration": 683,
                        "learn": [
                          0.2869391465
                        ],
                        "passed_time": 140.5587149,
                        "remaining_time": 64.93648232
                      },
                      {
                        "iteration": 684,
                        "learn": [
                          0.2866871671
                        ],
                        "passed_time": 140.7994788,
                        "remaining_time": 64.74720556
                      },
                      {
                        "iteration": 685,
                        "learn": [
                          0.2864397139
                        ],
                        "passed_time": 141.0042979,
                        "remaining_time": 64.54132584
                      },
                      {
                        "iteration": 686,
                        "learn": [
                          0.2862543164
                        ],
                        "passed_time": 141.2090079,
                        "remaining_time": 64.33539953
                      },
                      {
                        "iteration": 687,
                        "learn": [
                          0.285992275
                        ],
                        "passed_time": 141.4013855,
                        "remaining_time": 64.12388413
                      },
                      {
                        "iteration": 688,
                        "learn": [
                          0.2857117159
                        ],
                        "passed_time": 141.5923005,
                        "remaining_time": 63.91176408
                      },
                      {
                        "iteration": 689,
                        "learn": [
                          0.2854952546
                        ],
                        "passed_time": 141.8436174,
                        "remaining_time": 63.72684262
                      },
                      {
                        "iteration": 690,
                        "learn": [
                          0.2852258067
                        ],
                        "passed_time": 142.0489244,
                        "remaining_time": 63.52115432
                      },
                      {
                        "iteration": 691,
                        "learn": [
                          0.2849667445
                        ],
                        "passed_time": 142.2609599,
                        "remaining_time": 63.3184619
                      },
                      {
                        "iteration": 692,
                        "learn": [
                          0.28470098
                        ],
                        "passed_time": 142.4516797,
                        "remaining_time": 63.10629969
                      },
                      {
                        "iteration": 693,
                        "learn": [
                          0.2844054012
                        ],
                        "passed_time": 142.6394294,
                        "remaining_time": 62.89288961
                      },
                      {
                        "iteration": 694,
                        "learn": [
                          0.2841392086
                        ],
                        "passed_time": 142.8851625,
                        "remaining_time": 62.70499936
                      },
                      {
                        "iteration": 695,
                        "learn": [
                          0.2838533005
                        ],
                        "passed_time": 143.0713309,
                        "remaining_time": 62.49092614
                      },
                      {
                        "iteration": 696,
                        "learn": [
                          0.2836339362
                        ],
                        "passed_time": 143.2633652,
                        "remaining_time": 62.279483
                      },
                      {
                        "iteration": 697,
                        "learn": [
                          0.2833516328
                        ],
                        "passed_time": 143.4530681,
                        "remaining_time": 62.06708679
                      },
                      {
                        "iteration": 698,
                        "learn": [
                          0.2830559457
                        ],
                        "passed_time": 143.6395929,
                        "remaining_time": 61.85338694
                      },
                      {
                        "iteration": 699,
                        "learn": [
                          0.2828662969
                        ],
                        "passed_time": 143.8523481,
                        "remaining_time": 61.65100633
                      },
                      {
                        "iteration": 700,
                        "learn": [
                          0.2825873513
                        ],
                        "passed_time": 144.0722754,
                        "remaining_time": 61.45165527
                      },
                      {
                        "iteration": 701,
                        "learn": [
                          0.2823144438
                        ],
                        "passed_time": 144.2785023,
                        "remaining_time": 61.24642975
                      },
                      {
                        "iteration": 702,
                        "learn": [
                          0.282072141
                        ],
                        "passed_time": 144.467129,
                        "remaining_time": 61.03376574
                      },
                      {
                        "iteration": 703,
                        "learn": [
                          0.2817604044
                        ],
                        "passed_time": 144.6701462,
                        "remaining_time": 60.82722058
                      },
                      {
                        "iteration": 704,
                        "learn": [
                          0.2814943964
                        ],
                        "passed_time": 144.8903947,
                        "remaining_time": 60.62789566
                      },
                      {
                        "iteration": 705,
                        "learn": [
                          0.2811919527
                        ],
                        "passed_time": 145.1337327,
                        "remaining_time": 60.43812663
                      },
                      {
                        "iteration": 706,
                        "learn": [
                          0.2809217273
                        ],
                        "passed_time": 145.3423372,
                        "remaining_time": 60.2338116
                      },
                      {
                        "iteration": 707,
                        "learn": [
                          0.2806518055
                        ],
                        "passed_time": 145.5384372,
                        "remaining_time": 60.02432719
                      },
                      {
                        "iteration": 708,
                        "learn": [
                          0.2803853919
                        ],
                        "passed_time": 145.73086,
                        "remaining_time": 59.81337129
                      },
                      {
                        "iteration": 709,
                        "learn": [
                          0.280090451
                        ],
                        "passed_time": 145.9651058,
                        "remaining_time": 59.61955026
                      },
                      {
                        "iteration": 710,
                        "learn": [
                          0.2798711871
                        ],
                        "passed_time": 146.1668873,
                        "remaining_time": 59.41241972
                      },
                      {
                        "iteration": 711,
                        "learn": [
                          0.2796164375
                        ],
                        "passed_time": 146.3589555,
                        "remaining_time": 59.20137527
                      },
                      {
                        "iteration": 712,
                        "learn": [
                          0.2793366115
                        ],
                        "passed_time": 146.5468018,
                        "remaining_time": 58.9886846
                      },
                      {
                        "iteration": 713,
                        "learn": [
                          0.2790710651
                        ],
                        "passed_time": 146.7469228,
                        "remaining_time": 58.78098029
                      },
                      {
                        "iteration": 714,
                        "learn": [
                          0.2788418344
                        ],
                        "passed_time": 146.9456523,
                        "remaining_time": 58.57274253
                      },
                      {
                        "iteration": 715,
                        "learn": [
                          0.2786366346
                        ],
                        "passed_time": 147.1851676,
                        "remaining_time": 58.38070895
                      },
                      {
                        "iteration": 716,
                        "learn": [
                          0.2783902481
                        ],
                        "passed_time": 147.3865605,
                        "remaining_time": 58.17349599
                      },
                      {
                        "iteration": 717,
                        "learn": [
                          0.2781057379
                        ],
                        "passed_time": 147.5784724,
                        "remaining_time": 57.96257553
                      },
                      {
                        "iteration": 718,
                        "learn": [
                          0.2778359605
                        ],
                        "passed_time": 147.790562,
                        "remaining_time": 57.75959378
                      },
                      {
                        "iteration": 719,
                        "learn": [
                          0.2775252691
                        ],
                        "passed_time": 147.9977014,
                        "remaining_time": 57.55466164
                      },
                      {
                        "iteration": 720,
                        "learn": [
                          0.2772719256
                        ],
                        "passed_time": 148.248954,
                        "remaining_time": 57.36679358
                      },
                      {
                        "iteration": 721,
                        "learn": [
                          0.2770146385
                        ],
                        "passed_time": 148.4440797,
                        "remaining_time": 57.15713872
                      },
                      {
                        "iteration": 722,
                        "learn": [
                          0.2767606553
                        ],
                        "passed_time": 148.6315147,
                        "remaining_time": 56.94457757
                      },
                      {
                        "iteration": 723,
                        "learn": [
                          0.2765591621
                        ],
                        "passed_time": 148.8023704,
                        "remaining_time": 56.7257655
                      },
                      {
                        "iteration": 724,
                        "learn": [
                          0.2762654408
                        ],
                        "passed_time": 149.0145188,
                        "remaining_time": 56.52274851
                      },
                      {
                        "iteration": 725,
                        "learn": [
                          0.2759829027
                        ],
                        "passed_time": 149.2656493,
                        "remaining_time": 56.33441859
                      },
                      {
                        "iteration": 726,
                        "learn": [
                          0.2757851274
                        ],
                        "passed_time": 149.4667881,
                        "remaining_time": 56.12714325
                      },
                      {
                        "iteration": 727,
                        "learn": [
                          0.2755320537
                        ],
                        "passed_time": 149.6551945,
                        "remaining_time": 55.91512761
                      },
                      {
                        "iteration": 728,
                        "learn": [
                          0.2752599826
                        ],
                        "passed_time": 149.8492779,
                        "remaining_time": 55.70528713
                      },
                      {
                        "iteration": 729,
                        "learn": [
                          0.2749905985
                        ],
                        "passed_time": 150.0344126,
                        "remaining_time": 55.49217999
                      },
                      {
                        "iteration": 730,
                        "learn": [
                          0.2747476027
                        ],
                        "passed_time": 150.2489605,
                        "remaining_time": 55.28997314
                      },
                      {
                        "iteration": 731,
                        "learn": [
                          0.2744700368
                        ],
                        "passed_time": 150.458278,
                        "remaining_time": 55.08581763
                      },
                      {
                        "iteration": 732,
                        "learn": [
                          0.2742202752
                        ],
                        "passed_time": 150.6598069,
                        "remaining_time": 54.87881097
                      },
                      {
                        "iteration": 733,
                        "learn": [
                          0.2739768416
                        ],
                        "passed_time": 150.8605119,
                        "remaining_time": 54.67152066
                      },
                      {
                        "iteration": 734,
                        "learn": [
                          0.273712858
                        ],
                        "passed_time": 151.055014,
                        "remaining_time": 54.46201184
                      },
                      {
                        "iteration": 735,
                        "learn": [
                          0.2734736178
                        ],
                        "passed_time": 151.2369643,
                        "remaining_time": 54.24804154
                      },
                      {
                        "iteration": 736,
                        "learn": [
                          0.2732113222
                        ],
                        "passed_time": 151.490114,
                        "remaining_time": 54.05956577
                      },
                      {
                        "iteration": 737,
                        "learn": [
                          0.2729564568
                        ],
                        "passed_time": 151.6882382,
                        "remaining_time": 53.85137995
                      },
                      {
                        "iteration": 738,
                        "learn": [
                          0.27275297
                        ],
                        "passed_time": 151.8843222,
                        "remaining_time": 53.64250082
                      },
                      {
                        "iteration": 739,
                        "learn": [
                          0.2724784192
                        ],
                        "passed_time": 152.0976201,
                        "remaining_time": 53.43970437
                      },
                      {
                        "iteration": 740,
                        "learn": [
                          0.2722008278
                        ],
                        "passed_time": 152.3117598,
                        "remaining_time": 53.23717382
                      },
                      {
                        "iteration": 741,
                        "learn": [
                          0.2719248413
                        ],
                        "passed_time": 152.569321,
                        "remaining_time": 53.04971001
                      },
                      {
                        "iteration": 742,
                        "learn": [
                          0.2716702856
                        ],
                        "passed_time": 152.7606695,
                        "remaining_time": 52.83915487
                      },
                      {
                        "iteration": 743,
                        "learn": [
                          0.2714729543
                        ],
                        "passed_time": 152.9550296,
                        "remaining_time": 52.62968762
                      },
                      {
                        "iteration": 744,
                        "learn": [
                          0.2712216754
                        ],
                        "passed_time": 153.1435651,
                        "remaining_time": 52.41826726
                      },
                      {
                        "iteration": 745,
                        "learn": [
                          0.2710114068
                        ],
                        "passed_time": 153.3287293,
                        "remaining_time": 52.20576039
                      },
                      {
                        "iteration": 746,
                        "learn": [
                          0.2707643169
                        ],
                        "passed_time": 153.5877239,
                        "remaining_time": 52.0183322
                      },
                      {
                        "iteration": 747,
                        "learn": [
                          0.2705268931
                        ],
                        "passed_time": 153.7800183,
                        "remaining_time": 51.80824145
                      },
                      {
                        "iteration": 748,
                        "learn": [
                          0.2702438494
                        ],
                        "passed_time": 153.9808556,
                        "remaining_time": 51.60106107
                      },
                      {
                        "iteration": 749,
                        "learn": [
                          0.2699485888
                        ],
                        "passed_time": 154.1762287,
                        "remaining_time": 51.39207622
                      },
                      {
                        "iteration": 750,
                        "learn": [
                          0.269688541
                        ],
                        "passed_time": 154.367816,
                        "remaining_time": 51.1818724
                      },
                      {
                        "iteration": 751,
                        "learn": [
                          0.2694362993
                        ],
                        "passed_time": 154.6133981,
                        "remaining_time": 50.9895249
                      },
                      {
                        "iteration": 752,
                        "learn": [
                          0.2691898636
                        ],
                        "passed_time": 154.791596,
                        "remaining_time": 50.77493256
                      },
                      {
                        "iteration": 753,
                        "learn": [
                          0.2689361222
                        ],
                        "passed_time": 154.9801194,
                        "remaining_time": 50.56380552
                      },
                      {
                        "iteration": 754,
                        "learn": [
                          0.2686479063
                        ],
                        "passed_time": 155.1867243,
                        "remaining_time": 50.3586059
                      },
                      {
                        "iteration": 755,
                        "learn": [
                          0.26836513
                        ],
                        "passed_time": 155.3707985,
                        "remaining_time": 50.14613073
                      },
                      {
                        "iteration": 756,
                        "learn": [
                          0.2681327189
                        ],
                        "passed_time": 155.6000709,
                        "remaining_time": 49.94823939
                      },
                      {
                        "iteration": 757,
                        "learn": [
                          0.2678652585
                        ],
                        "passed_time": 155.8141065,
                        "remaining_time": 49.74540077
                      },
                      {
                        "iteration": 758,
                        "learn": [
                          0.2676165453
                        ],
                        "passed_time": 155.9966278,
                        "remaining_time": 49.53252609
                      },
                      {
                        "iteration": 759,
                        "learn": [
                          0.2673535431
                        ],
                        "passed_time": 156.1954757,
                        "remaining_time": 49.32488707
                      },
                      {
                        "iteration": 760,
                        "learn": [
                          0.2670796473
                        ],
                        "passed_time": 156.3856516,
                        "remaining_time": 49.11454761
                      },
                      {
                        "iteration": 761,
                        "learn": [
                          0.2668318361
                        ],
                        "passed_time": 156.585415,
                        "remaining_time": 48.90725561
                      },
                      {
                        "iteration": 762,
                        "learn": [
                          0.2666347748
                        ],
                        "passed_time": 156.8223621,
                        "remaining_time": 48.71153317
                      },
                      {
                        "iteration": 763,
                        "learn": [
                          0.2664165083
                        ],
                        "passed_time": 157.0096089,
                        "remaining_time": 48.5003504
                      },
                      {
                        "iteration": 764,
                        "learn": [
                          0.2661781592
                        ],
                        "passed_time": 157.2188418,
                        "remaining_time": 48.29598409
                      },
                      {
                        "iteration": 765,
                        "learn": [
                          0.265950664
                        ],
                        "passed_time": 157.4101075,
                        "remaining_time": 48.08611641
                      },
                      {
                        "iteration": 766,
                        "learn": [
                          0.2656804845
                        ],
                        "passed_time": 157.6081468,
                        "remaining_time": 47.87835489
                      },
                      {
                        "iteration": 767,
                        "learn": [
                          0.2654630979
                        ],
                        "passed_time": 157.8457875,
                        "remaining_time": 47.68258165
                      },
                      {
                        "iteration": 768,
                        "learn": [
                          0.265230297
                        ],
                        "passed_time": 158.0519075,
                        "remaining_time": 47.47723099
                      },
                      {
                        "iteration": 769,
                        "learn": [
                          0.2649768509
                        ],
                        "passed_time": 158.2607159,
                        "remaining_time": 47.27268137
                      },
                      {
                        "iteration": 770,
                        "learn": [
                          0.2648248246
                        ],
                        "passed_time": 158.4472618,
                        "remaining_time": 47.06150838
                      },
                      {
                        "iteration": 771,
                        "learn": [
                          0.2645845509
                        ],
                        "passed_time": 158.6490049,
                        "remaining_time": 46.85488744
                      },
                      {
                        "iteration": 772,
                        "learn": [
                          0.2643072011
                        ],
                        "passed_time": 158.8953761,
                        "remaining_time": 46.6613847
                      },
                      {
                        "iteration": 773,
                        "learn": [
                          0.2640138906
                        ],
                        "passed_time": 159.108437,
                        "remaining_time": 46.45801907
                      },
                      {
                        "iteration": 774,
                        "learn": [
                          0.2637710362
                        ],
                        "passed_time": 159.3157219,
                        "remaining_time": 46.25295151
                      },
                      {
                        "iteration": 775,
                        "learn": [
                          0.2635030873
                        ],
                        "passed_time": 159.5222747,
                        "remaining_time": 46.04766693
                      },
                      {
                        "iteration": 776,
                        "learn": [
                          0.2632658496
                        ],
                        "passed_time": 159.7309222,
                        "remaining_time": 45.84298026
                      },
                      {
                        "iteration": 777,
                        "learn": [
                          0.2630421252
                        ],
                        "passed_time": 159.9942398,
                        "remaining_time": 45.65388334
                      },
                      {
                        "iteration": 778,
                        "learn": [
                          0.2627774212
                        ],
                        "passed_time": 160.2012749,
                        "remaining_time": 45.44862869
                      },
                      {
                        "iteration": 779,
                        "learn": [
                          0.2625512451
                        ],
                        "passed_time": 160.3957161,
                        "remaining_time": 45.23981736
                      },
                      {
                        "iteration": 780,
                        "learn": [
                          0.2622949168
                        ],
                        "passed_time": 160.601516,
                        "remaining_time": 45.03422792
                      },
                      {
                        "iteration": 781,
                        "learn": [
                          0.2620366026
                        ],
                        "passed_time": 160.7982615,
                        "remaining_time": 44.82611382
                      },
                      {
                        "iteration": 782,
                        "learn": [
                          0.2617914547
                        ],
                        "passed_time": 161.0596382,
                        "remaining_time": 44.6359406
                      },
                      {
                        "iteration": 783,
                        "learn": [
                          0.2615555705
                        ],
                        "passed_time": 161.2599908,
                        "remaining_time": 44.42877299
                      },
                      {
                        "iteration": 784,
                        "learn": [
                          0.2613487363
                        ],
                        "passed_time": 161.4519804,
                        "remaining_time": 44.21933222
                      },
                      {
                        "iteration": 785,
                        "learn": [
                          0.2611373973
                        ],
                        "passed_time": 161.6464173,
                        "remaining_time": 44.01060217
                      },
                      {
                        "iteration": 786,
                        "learn": [
                          0.2609007967
                        ],
                        "passed_time": 161.8340297,
                        "remaining_time": 43.80006139
                      },
                      {
                        "iteration": 787,
                        "learn": [
                          0.2606398825
                        ],
                        "passed_time": 162.0798696,
                        "remaining_time": 43.60524411
                      },
                      {
                        "iteration": 788,
                        "learn": [
                          0.2604145353
                        ],
                        "passed_time": 162.2766338,
                        "remaining_time": 43.3971733
                      },
                      {
                        "iteration": 789,
                        "learn": [
                          0.2601757933
                        ],
                        "passed_time": 162.4844717,
                        "remaining_time": 43.19207476
                      },
                      {
                        "iteration": 790,
                        "learn": [
                          0.2598999548
                        ],
                        "passed_time": 162.6840209,
                        "remaining_time": 42.98477923
                      },
                      {
                        "iteration": 791,
                        "learn": [
                          0.259661224
                        ],
                        "passed_time": 162.8682187,
                        "remaining_time": 42.77347157
                      },
                      {
                        "iteration": 792,
                        "learn": [
                          0.2594954386
                        ],
                        "passed_time": 163.1736144,
                        "remaining_time": 42.59386907
                      },
                      {
                        "iteration": 793,
                        "learn": [
                          0.2592619825
                        ],
                        "passed_time": 163.365028,
                        "remaining_time": 42.38437754
                      },
                      {
                        "iteration": 794,
                        "learn": [
                          0.2590020417
                        ],
                        "passed_time": 163.5554489,
                        "remaining_time": 42.17467552
                      },
                      {
                        "iteration": 795,
                        "learn": [
                          0.2587831737
                        ],
                        "passed_time": 163.7598208,
                        "remaining_time": 41.96859729
                      },
                      {
                        "iteration": 796,
                        "learn": [
                          0.2585304366
                        ],
                        "passed_time": 163.9652879,
                        "remaining_time": 41.76280231
                      },
                      {
                        "iteration": 797,
                        "learn": [
                          0.2582607423
                        ],
                        "passed_time": 164.2031606,
                        "remaining_time": 41.56521107
                      },
                      {
                        "iteration": 798,
                        "learn": [
                          0.2580251726
                        ],
                        "passed_time": 164.4138842,
                        "remaining_time": 41.36068927
                      },
                      {
                        "iteration": 799,
                        "learn": [
                          0.2578360408
                        ],
                        "passed_time": 164.6063715,
                        "remaining_time": 41.15159288
                      },
                      {
                        "iteration": 800,
                        "learn": [
                          0.2575644511
                        ],
                        "passed_time": 164.8001055,
                        "remaining_time": 40.94284768
                      },
                      {
                        "iteration": 801,
                        "learn": [
                          0.2573173565
                        ],
                        "passed_time": 164.9935858,
                        "remaining_time": 40.73407729
                      },
                      {
                        "iteration": 802,
                        "learn": [
                          0.2570811294
                        ],
                        "passed_time": 165.1859228,
                        "remaining_time": 40.52506449
                      },
                      {
                        "iteration": 803,
                        "learn": [
                          0.2569162542
                        ],
                        "passed_time": 165.4315438,
                        "remaining_time": 40.32908281
                      },
                      {
                        "iteration": 804,
                        "learn": [
                          0.2566610343
                        ],
                        "passed_time": 165.6296682,
                        "remaining_time": 40.12147242
                      },
                      {
                        "iteration": 805,
                        "learn": [
                          0.256427763
                        ],
                        "passed_time": 165.8319313,
                        "remaining_time": 39.91488173
                      },
                      {
                        "iteration": 806,
                        "learn": [
                          0.2561925415
                        ],
                        "passed_time": 166.0344695,
                        "remaining_time": 39.70836754
                      },
                      {
                        "iteration": 807,
                        "learn": [
                          0.255961522
                        ],
                        "passed_time": 166.2173672,
                        "remaining_time": 39.49719617
                      },
                      {
                        "iteration": 808,
                        "learn": [
                          0.2557024407
                        ],
                        "passed_time": 166.4482428,
                        "remaining_time": 39.29742197
                      },
                      {
                        "iteration": 809,
                        "learn": [
                          0.2554395446
                        ],
                        "passed_time": 166.6290356,
                        "remaining_time": 39.08582317
                      },
                      {
                        "iteration": 810,
                        "learn": [
                          0.2552193542
                        ],
                        "passed_time": 166.8297373,
                        "remaining_time": 38.87894001
                      },
                      {
                        "iteration": 811,
                        "learn": [
                          0.2549806589
                        ],
                        "passed_time": 167.0297093,
                        "remaining_time": 38.67190314
                      },
                      {
                        "iteration": 812,
                        "learn": [
                          0.2547653866
                        ],
                        "passed_time": 167.2265065,
                        "remaining_time": 38.46415341
                      },
                      {
                        "iteration": 813,
                        "learn": [
                          0.2545451422
                        ],
                        "passed_time": 167.4757679,
                        "remaining_time": 38.26841871
                      },
                      {
                        "iteration": 814,
                        "learn": [
                          0.2542835676
                        ],
                        "passed_time": 167.6798877,
                        "remaining_time": 38.06230579
                      },
                      {
                        "iteration": 815,
                        "learn": [
                          0.2540251534
                        ],
                        "passed_time": 167.8716497,
                        "remaining_time": 37.8534112
                      },
                      {
                        "iteration": 816,
                        "learn": [
                          0.2538089443
                        ],
                        "passed_time": 168.0550306,
                        "remaining_time": 37.64268127
                      },
                      {
                        "iteration": 817,
                        "learn": [
                          0.2535821964
                        ],
                        "passed_time": 168.2338629,
                        "remaining_time": 37.43100617
                      },
                      {
                        "iteration": 818,
                        "learn": [
                          0.2533280583
                        ],
                        "passed_time": 168.4623318,
                        "remaining_time": 37.23038103
                      },
                      {
                        "iteration": 819,
                        "learn": [
                          0.253069117
                        ],
                        "passed_time": 168.6685545,
                        "remaining_time": 37.02480464
                      },
                      {
                        "iteration": 820,
                        "learn": [
                          0.2528093453
                        ],
                        "passed_time": 168.8848081,
                        "remaining_time": 36.82141371
                      },
                      {
                        "iteration": 821,
                        "learn": [
                          0.2525784024
                        ],
                        "passed_time": 169.0750265,
                        "remaining_time": 36.61235367
                      },
                      {
                        "iteration": 822,
                        "learn": [
                          0.2523540657
                        ],
                        "passed_time": 169.2584507,
                        "remaining_time": 36.40187822
                      },
                      {
                        "iteration": 823,
                        "learn": [
                          0.2521129326
                        ],
                        "passed_time": 169.4533284,
                        "remaining_time": 36.1939148
                      },
                      {
                        "iteration": 824,
                        "learn": [
                          0.2518800001
                        ],
                        "passed_time": 169.7468418,
                        "remaining_time": 36.00690584
                      },
                      {
                        "iteration": 825,
                        "learn": [
                          0.2516565854
                        ],
                        "passed_time": 169.9426731,
                        "remaining_time": 35.79906188
                      },
                      {
                        "iteration": 826,
                        "learn": [
                          0.2514249097
                        ],
                        "passed_time": 170.1277938,
                        "remaining_time": 35.58900645
                      },
                      {
                        "iteration": 827,
                        "learn": [
                          0.2511867875
                        ],
                        "passed_time": 170.3155413,
                        "remaining_time": 35.3795569
                      },
                      {
                        "iteration": 828,
                        "learn": [
                          0.2509432893
                        ],
                        "passed_time": 170.4994291,
                        "remaining_time": 35.16936353
                      },
                      {
                        "iteration": 829,
                        "learn": [
                          0.2507279337
                        ],
                        "passed_time": 170.7395429,
                        "remaining_time": 34.97074976
                      },
                      {
                        "iteration": 830,
                        "learn": [
                          0.2505372801
                        ],
                        "passed_time": 170.9444201,
                        "remaining_time": 34.76487003
                      },
                      {
                        "iteration": 831,
                        "learn": [
                          0.2503359507
                        ],
                        "passed_time": 171.1467441,
                        "remaining_time": 34.55847718
                      },
                      {
                        "iteration": 832,
                        "learn": [
                          0.2501493529
                        ],
                        "passed_time": 171.3421694,
                        "remaining_time": 34.35071104
                      },
                      {
                        "iteration": 833,
                        "learn": [
                          0.249910291
                        ],
                        "passed_time": 171.5393206,
                        "remaining_time": 34.14331801
                      },
                      {
                        "iteration": 834,
                        "learn": [
                          0.2497096117
                        ],
                        "passed_time": 171.8275088,
                        "remaining_time": 33.95393887
                      },
                      {
                        "iteration": 835,
                        "learn": [
                          0.2494990361
                        ],
                        "passed_time": 172.0270325,
                        "remaining_time": 33.74692983
                      },
                      {
                        "iteration": 836,
                        "learn": [
                          0.2492657831
                        ],
                        "passed_time": 172.2241106,
                        "remaining_time": 33.53946241
                      },
                      {
                        "iteration": 837,
                        "learn": [
                          0.2490630721
                        ],
                        "passed_time": 172.4108658,
                        "remaining_time": 33.33002418
                      },
                      {
                        "iteration": 838,
                        "learn": [
                          0.2488484512
                        ],
                        "passed_time": 172.5960458,
                        "remaining_time": 33.12033776
                      },
                      {
                        "iteration": 839,
                        "learn": [
                          0.2486473156
                        ],
                        "passed_time": 172.8459427,
                        "remaining_time": 32.9230367
                      },
                      {
                        "iteration": 840,
                        "learn": [
                          0.2484182481
                        ],
                        "passed_time": 173.0478977,
                        "remaining_time": 32.71654664
                      },
                      {
                        "iteration": 841,
                        "learn": [
                          0.2482126171
                        ],
                        "passed_time": 173.2453341,
                        "remaining_time": 32.50921946
                      },
                      {
                        "iteration": 842,
                        "learn": [
                          0.2480500704
                        ],
                        "passed_time": 173.4209307,
                        "remaining_time": 32.2978483
                      },
                      {
                        "iteration": 843,
                        "learn": [
                          0.2478474013
                        ],
                        "passed_time": 173.6039244,
                        "remaining_time": 32.08792916
                      },
                      {
                        "iteration": 844,
                        "learn": [
                          0.247598389
                        ],
                        "passed_time": 173.8644325,
                        "remaining_time": 31.89229236
                      },
                      {
                        "iteration": 845,
                        "learn": [
                          0.2473596045
                        ],
                        "passed_time": 174.0506305,
                        "remaining_time": 31.68297529
                      },
                      {
                        "iteration": 846,
                        "learn": [
                          0.2471181986
                        ],
                        "passed_time": 174.2368704,
                        "remaining_time": 31.47372039
                      },
                      {
                        "iteration": 847,
                        "learn": [
                          0.2468941112
                        ],
                        "passed_time": 174.4266718,
                        "remaining_time": 31.26515815
                      },
                      {
                        "iteration": 848,
                        "learn": [
                          0.246688866
                        ],
                        "passed_time": 174.623883,
                        "remaining_time": 31.05795798
                      },
                      {
                        "iteration": 849,
                        "learn": [
                          0.2464820945
                        ],
                        "passed_time": 174.840885,
                        "remaining_time": 30.85427382
                      },
                      {
                        "iteration": 850,
                        "learn": [
                          0.246293814
                        ],
                        "passed_time": 175.0629488,
                        "remaining_time": 30.65144463
                      },
                      {
                        "iteration": 851,
                        "learn": [
                          0.246058444
                        ],
                        "passed_time": 175.2650289,
                        "remaining_time": 30.44509891
                      },
                      {
                        "iteration": 852,
                        "learn": [
                          0.2458186431
                        ],
                        "passed_time": 175.4634796,
                        "remaining_time": 30.23813776
                      },
                      {
                        "iteration": 853,
                        "learn": [
                          0.2456173259
                        ],
                        "passed_time": 175.6460731,
                        "remaining_time": 30.02848557
                      },
                      {
                        "iteration": 854,
                        "learn": [
                          0.2453965128
                        ],
                        "passed_time": 175.833276,
                        "remaining_time": 29.81967838
                      },
                      {
                        "iteration": 855,
                        "learn": [
                          0.2451624612
                        ],
                        "passed_time": 176.0701027,
                        "remaining_time": 29.61926962
                      },
                      {
                        "iteration": 856,
                        "learn": [
                          0.2449460439
                        ],
                        "passed_time": 176.267032,
                        "remaining_time": 29.41211853
                      },
                      {
                        "iteration": 857,
                        "learn": [
                          0.2446954092
                        ],
                        "passed_time": 176.4607712,
                        "remaining_time": 29.2044633
                      },
                      {
                        "iteration": 858,
                        "learn": [
                          0.2444504255
                        ],
                        "passed_time": 176.6478951,
                        "remaining_time": 28.9957546
                      },
                      {
                        "iteration": 859,
                        "learn": [
                          0.2442240491
                        ],
                        "passed_time": 176.8282329,
                        "remaining_time": 28.7859914
                      },
                      {
                        "iteration": 860,
                        "learn": [
                          0.24401828
                        ],
                        "passed_time": 177.0714548,
                        "remaining_time": 28.58644856
                      },
                      {
                        "iteration": 861,
                        "learn": [
                          0.243755783
                        ],
                        "passed_time": 177.2639133,
                        "remaining_time": 28.37867754
                      },
                      {
                        "iteration": 862,
                        "learn": [
                          0.243572015
                        ],
                        "passed_time": 177.4484724,
                        "remaining_time": 28.16968797
                      },
                      {
                        "iteration": 863,
                        "learn": [
                          0.2433563902
                        ],
                        "passed_time": 177.6509913,
                        "remaining_time": 27.96358196
                      },
                      {
                        "iteration": 864,
                        "learn": [
                          0.2432077312
                        ],
                        "passed_time": 177.8319888,
                        "remaining_time": 27.75412542
                      },
                      {
                        "iteration": 865,
                        "learn": [
                          0.2430298908
                        ],
                        "passed_time": 178.052924,
                        "remaining_time": 27.55091433
                      },
                      {
                        "iteration": 866,
                        "learn": [
                          0.2428202605
                        ],
                        "passed_time": 178.2520394,
                        "remaining_time": 27.34431516
                      },
                      {
                        "iteration": 867,
                        "learn": [
                          0.2426678452
                        ],
                        "passed_time": 178.4308014,
                        "remaining_time": 27.134638
                      },
                      {
                        "iteration": 868,
                        "learn": [
                          0.2424448539
                        ],
                        "passed_time": 178.6266774,
                        "remaining_time": 26.9276119
                      },
                      {
                        "iteration": 869,
                        "learn": [
                          0.2422936595
                        ],
                        "passed_time": 178.8199648,
                        "remaining_time": 26.72022463
                      },
                      {
                        "iteration": 870,
                        "learn": [
                          0.2421290273
                        ],
                        "passed_time": 179.0140111,
                        "remaining_time": 26.51298213
                      },
                      {
                        "iteration": 871,
                        "learn": [
                          0.2419119572
                        ],
                        "passed_time": 179.2732097,
                        "remaining_time": 26.31533353
                      },
                      {
                        "iteration": 872,
                        "learn": [
                          0.2416758853
                        ],
                        "passed_time": 179.478905,
                        "remaining_time": 26.10976053
                      },
                      {
                        "iteration": 873,
                        "learn": [
                          0.2414434887
                        ],
                        "passed_time": 179.6770884,
                        "remaining_time": 25.90310427
                      },
                      {
                        "iteration": 874,
                        "learn": [
                          0.2412422342
                        ],
                        "passed_time": 179.8614002,
                        "remaining_time": 25.69448574
                      },
                      {
                        "iteration": 875,
                        "learn": [
                          0.2410162486
                        ],
                        "passed_time": 180.0538741,
                        "remaining_time": 25.48707807
                      },
                      {
                        "iteration": 876,
                        "learn": [
                          0.2408357111
                        ],
                        "passed_time": 180.2921102,
                        "remaining_time": 25.28612264
                      },
                      {
                        "iteration": 877,
                        "learn": [
                          0.2406198218
                        ],
                        "passed_time": 180.4770859,
                        "remaining_time": 25.07768165
                      },
                      {
                        "iteration": 878,
                        "learn": [
                          0.2403987673
                        ],
                        "passed_time": 180.6612095,
                        "remaining_time": 24.86917673
                      },
                      {
                        "iteration": 879,
                        "learn": [
                          0.2402317311
                        ],
                        "passed_time": 180.8473626,
                        "remaining_time": 24.66100399
                      },
                      {
                        "iteration": 880,
                        "learn": [
                          0.240005865
                        ],
                        "passed_time": 181.0547802,
                        "remaining_time": 24.45575351
                      },
                      {
                        "iteration": 881,
                        "learn": [
                          0.2398070241
                        ],
                        "passed_time": 181.2641148,
                        "remaining_time": 24.25075459
                      },
                      {
                        "iteration": 882,
                        "learn": [
                          0.2395773948
                        ],
                        "passed_time": 181.488954,
                        "remaining_time": 24.04780025
                      },
                      {
                        "iteration": 883,
                        "learn": [
                          0.23941329
                        ],
                        "passed_time": 181.6654077,
                        "remaining_time": 23.83844716
                      },
                      {
                        "iteration": 884,
                        "learn": [
                          0.23918717
                        ],
                        "passed_time": 181.8522494,
                        "remaining_time": 23.63051829
                      },
                      {
                        "iteration": 885,
                        "learn": [
                          0.2390193606
                        ],
                        "passed_time": 182.0393923,
                        "remaining_time": 23.42267576
                      },
                      {
                        "iteration": 886,
                        "learn": [
                          0.2387798227
                        ],
                        "passed_time": 182.2273997,
                        "remaining_time": 23.21499004
                      },
                      {
                        "iteration": 887,
                        "learn": [
                          0.2385400251
                        ],
                        "passed_time": 182.4703395,
                        "remaining_time": 23.01427705
                      },
                      {
                        "iteration": 888,
                        "learn": [
                          0.2383469922
                        ],
                        "passed_time": 182.6578634,
                        "remaining_time": 22.80654987
                      },
                      {
                        "iteration": 889,
                        "learn": [
                          0.2381370347
                        ],
                        "passed_time": 182.8528788,
                        "remaining_time": 22.599794
                      },
                      {
                        "iteration": 890,
                        "learn": [
                          0.2379288472
                        ],
                        "passed_time": 183.0710936,
                        "remaining_time": 22.39590259
                      },
                      {
                        "iteration": 891,
                        "learn": [
                          0.2377481822
                        ],
                        "passed_time": 183.2551298,
                        "remaining_time": 22.18784082
                      },
                      {
                        "iteration": 892,
                        "learn": [
                          0.2374989653
                        ],
                        "passed_time": 183.4907746,
                        "remaining_time": 21.98601666
                      },
                      {
                        "iteration": 893,
                        "learn": [
                          0.2372698666
                        ],
                        "passed_time": 183.6805248,
                        "remaining_time": 21.7786752
                      },
                      {
                        "iteration": 894,
                        "learn": [
                          0.2370746104
                        ],
                        "passed_time": 183.8737384,
                        "remaining_time": 21.57177936
                      },
                      {
                        "iteration": 895,
                        "learn": [
                          0.2368647587
                        ],
                        "passed_time": 184.0842599,
                        "remaining_time": 21.36692302
                      },
                      {
                        "iteration": 896,
                        "learn": [
                          0.2367031054
                        ],
                        "passed_time": 184.2649931,
                        "remaining_time": 21.15863355
                      },
                      {
                        "iteration": 897,
                        "learn": [
                          0.2364796959
                        ],
                        "passed_time": 184.5650717,
                        "remaining_time": 20.96396137
                      },
                      {
                        "iteration": 898,
                        "learn": [
                          0.2362425108
                        ],
                        "passed_time": 184.7695216,
                        "remaining_time": 20.75831111
                      },
                      {
                        "iteration": 899,
                        "learn": [
                          0.236015784
                        ],
                        "passed_time": 184.9527982,
                        "remaining_time": 20.55031091
                      },
                      {
                        "iteration": 900,
                        "learn": [
                          0.2358061616
                        ],
                        "passed_time": 185.1507487,
                        "remaining_time": 20.34397794
                      },
                      {
                        "iteration": 901,
                        "learn": [
                          0.2355994433
                        ],
                        "passed_time": 185.3500297,
                        "remaining_time": 20.1378081
                      },
                      {
                        "iteration": 902,
                        "learn": [
                          0.2353943171
                        ],
                        "passed_time": 185.536933,
                        "remaining_time": 19.93032392
                      },
                      {
                        "iteration": 903,
                        "learn": [
                          0.2351769984
                        ],
                        "passed_time": 185.8011047,
                        "remaining_time": 19.73109077
                      },
                      {
                        "iteration": 904,
                        "learn": [
                          0.2349984848
                        ],
                        "passed_time": 186.0038873,
                        "remaining_time": 19.52526994
                      },
                      {
                        "iteration": 905,
                        "learn": [
                          0.2347991682
                        ],
                        "passed_time": 186.2196076,
                        "remaining_time": 19.32079814
                      },
                      {
                        "iteration": 906,
                        "learn": [
                          0.2346142056
                        ],
                        "passed_time": 186.4085735,
                        "remaining_time": 19.11355825
                      },
                      {
                        "iteration": 907,
                        "learn": [
                          0.234426749
                        ],
                        "passed_time": 186.5943481,
                        "remaining_time": 18.90603527
                      },
                      {
                        "iteration": 908,
                        "learn": [
                          0.2342282861
                        ],
                        "passed_time": 186.8535605,
                        "remaining_time": 18.705912
                      },
                      {
                        "iteration": 909,
                        "learn": [
                          0.2340126754
                        ],
                        "passed_time": 187.0501171,
                        "remaining_time": 18.49946213
                      },
                      {
                        "iteration": 910,
                        "learn": [
                          0.233815589
                        ],
                        "passed_time": 187.2526064,
                        "remaining_time": 18.29361358
                      },
                      {
                        "iteration": 911,
                        "learn": [
                          0.2336060773
                        ],
                        "passed_time": 187.4508202,
                        "remaining_time": 18.08735984
                      },
                      {
                        "iteration": 912,
                        "learn": [
                          0.233416338
                        ],
                        "passed_time": 187.6433857,
                        "remaining_time": 17.88058549
                      },
                      {
                        "iteration": 913,
                        "learn": [
                          0.233252215
                        ],
                        "passed_time": 187.8896612,
                        "remaining_time": 17.67889591
                      },
                      {
                        "iteration": 914,
                        "learn": [
                          0.2330513401
                        ],
                        "passed_time": 188.0868051,
                        "remaining_time": 17.47254474
                      },
                      {
                        "iteration": 915,
                        "learn": [
                          0.2328160211
                        ],
                        "passed_time": 188.2874542,
                        "remaining_time": 17.2665351
                      },
                      {
                        "iteration": 916,
                        "learn": [
                          0.2325797763
                        ],
                        "passed_time": 188.4859287,
                        "remaining_time": 17.06034033
                      },
                      {
                        "iteration": 917,
                        "learn": [
                          0.2324045553
                        ],
                        "passed_time": 188.681386,
                        "remaining_time": 16.85389287
                      },
                      {
                        "iteration": 918,
                        "learn": [
                          0.232176215
                        ],
                        "passed_time": 188.9097312,
                        "remaining_time": 16.65036804
                      },
                      {
                        "iteration": 919,
                        "learn": [
                          0.2320035272
                        ],
                        "passed_time": 189.101892,
                        "remaining_time": 16.44364278
                      },
                      {
                        "iteration": 920,
                        "learn": [
                          0.2318200519
                        ],
                        "passed_time": 189.2871214,
                        "remaining_time": 16.23635461
                      },
                      {
                        "iteration": 921,
                        "learn": [
                          0.2315823506
                        ],
                        "passed_time": 189.4843117,
                        "remaining_time": 16.03012615
                      },
                      {
                        "iteration": 922,
                        "learn": [
                          0.2313763365
                        ],
                        "passed_time": 189.674173,
                        "remaining_time": 15.82330588
                      },
                      {
                        "iteration": 923,
                        "learn": [
                          0.2311709454
                        ],
                        "passed_time": 189.8636866,
                        "remaining_time": 15.6164937
                      },
                      {
                        "iteration": 924,
                        "learn": [
                          0.2310051121
                        ],
                        "passed_time": 190.1153336,
                        "remaining_time": 15.41475678
                      },
                      {
                        "iteration": 925,
                        "learn": [
                          0.2307658864
                        ],
                        "passed_time": 190.3077144,
                        "remaining_time": 15.20817588
                      },
                      {
                        "iteration": 926,
                        "learn": [
                          0.23054215
                        ],
                        "passed_time": 190.5118824,
                        "remaining_time": 15.00255385
                      },
                      {
                        "iteration": 927,
                        "learn": [
                          0.2303724063
                        ],
                        "passed_time": 190.7232749,
                        "remaining_time": 14.79749546
                      },
                      {
                        "iteration": 928,
                        "learn": [
                          0.230188896
                        ],
                        "passed_time": 190.9128911,
                        "remaining_time": 14.59075917
                      },
                      {
                        "iteration": 929,
                        "learn": [
                          0.2300175443
                        ],
                        "passed_time": 191.1461335,
                        "remaining_time": 14.38734338
                      },
                      {
                        "iteration": 930,
                        "learn": [
                          0.2298249743
                        ],
                        "passed_time": 191.3571125,
                        "remaining_time": 14.18221349
                      },
                      {
                        "iteration": 931,
                        "learn": [
                          0.2296172708
                        ],
                        "passed_time": 191.5499906,
                        "remaining_time": 13.97575039
                      },
                      {
                        "iteration": 932,
                        "learn": [
                          0.2294008148
                        ],
                        "passed_time": 191.738123,
                        "remaining_time": 13.76897561
                      },
                      {
                        "iteration": 933,
                        "learn": [
                          0.2292099868
                        ],
                        "passed_time": 191.9219021,
                        "remaining_time": 13.56193312
                      },
                      {
                        "iteration": 934,
                        "learn": [
                          0.2290032269
                        ],
                        "passed_time": 192.1446879,
                        "remaining_time": 13.3576521
                      },
                      {
                        "iteration": 935,
                        "learn": [
                          0.2287847623
                        ],
                        "passed_time": 192.3541373,
                        "remaining_time": 13.15241965
                      },
                      {
                        "iteration": 936,
                        "learn": [
                          0.2285936658
                        ],
                        "passed_time": 192.5338557,
                        "remaining_time": 12.9451792
                      },
                      {
                        "iteration": 937,
                        "learn": [
                          0.2284112939
                        ],
                        "passed_time": 192.7191342,
                        "remaining_time": 12.73836495
                      },
                      {
                        "iteration": 938,
                        "learn": [
                          0.2281889591
                        ],
                        "passed_time": 192.9100569,
                        "remaining_time": 12.53196323
                      },
                      {
                        "iteration": 939,
                        "learn": [
                          0.2280425189
                        ],
                        "passed_time": 193.1020067,
                        "remaining_time": 12.32566
                      },
                      {
                        "iteration": 940,
                        "learn": [
                          0.2278246642
                        ],
                        "passed_time": 193.3584972,
                        "remaining_time": 12.12343394
                      },
                      {
                        "iteration": 941,
                        "learn": [
                          0.2276077388
                        ],
                        "passed_time": 193.5503358,
                        "remaining_time": 11.91711197
                      },
                      {
                        "iteration": 942,
                        "learn": [
                          0.2273588504
                        ],
                        "passed_time": 193.7466135,
                        "remaining_time": 11.71108905
                      },
                      {
                        "iteration": 943,
                        "learn": [
                          0.2271504377
                        ],
                        "passed_time": 193.937995,
                        "remaining_time": 11.50479631
                      },
                      {
                        "iteration": 944,
                        "learn": [
                          0.2269209769
                        ],
                        "passed_time": 194.1239557,
                        "remaining_time": 11.29821964
                      },
                      {
                        "iteration": 945,
                        "learn": [
                          0.22677035
                        ],
                        "passed_time": 194.369687,
                        "remaining_time": 11.09509841
                      },
                      {
                        "iteration": 946,
                        "learn": [
                          0.2265552333
                        ],
                        "passed_time": 194.5734163,
                        "remaining_time": 10.8895365
                      },
                      {
                        "iteration": 947,
                        "learn": [
                          0.226356594
                        ],
                        "passed_time": 194.7662558,
                        "remaining_time": 10.68338112
                      },
                      {
                        "iteration": 948,
                        "learn": [
                          0.2261761366
                        ],
                        "passed_time": 194.956571,
                        "remaining_time": 10.47711815
                      },
                      {
                        "iteration": 949,
                        "learn": [
                          0.2259427255
                        ],
                        "passed_time": 195.1460633,
                        "remaining_time": 10.27084544
                      },
                      {
                        "iteration": 950,
                        "learn": [
                          0.2257714709
                        ],
                        "passed_time": 195.375154,
                        "remaining_time": 10.06664831
                      },
                      {
                        "iteration": 951,
                        "learn": [
                          0.2255762752
                        ],
                        "passed_time": 195.5848172,
                        "remaining_time": 9.861419354
                      },
                      {
                        "iteration": 952,
                        "learn": [
                          0.2253902021
                        ],
                        "passed_time": 195.7674609,
                        "remaining_time": 9.654848542
                      },
                      {
                        "iteration": 953,
                        "learn": [
                          0.2252013792
                        ],
                        "passed_time": 195.948374,
                        "remaining_time": 9.448244451
                      },
                      {
                        "iteration": 954,
                        "learn": [
                          0.2250044006
                        ],
                        "passed_time": 196.1415175,
                        "remaining_time": 9.242270459
                      },
                      {
                        "iteration": 955,
                        "learn": [
                          0.2247913277
                        ],
                        "passed_time": 196.3530691,
                        "remaining_time": 9.037170544
                      },
                      {
                        "iteration": 956,
                        "learn": [
                          0.2246056206
                        ],
                        "passed_time": 196.6223155,
                        "remaining_time": 8.834649493
                      },
                      {
                        "iteration": 957,
                        "learn": [
                          0.2243618509
                        ],
                        "passed_time": 196.8208664,
                        "remaining_time": 8.628889759
                      },
                      {
                        "iteration": 958,
                        "learn": [
                          0.2241845433
                        ],
                        "passed_time": 197.0165922,
                        "remaining_time": 8.423024277
                      },
                      {
                        "iteration": 959,
                        "learn": [
                          0.2239724997
                        ],
                        "passed_time": 197.2071439,
                        "remaining_time": 8.216964329
                      },
                      {
                        "iteration": 960,
                        "learn": [
                          0.2237559144
                        ],
                        "passed_time": 197.4081605,
                        "remaining_time": 8.011361351
                      },
                      {
                        "iteration": 961,
                        "learn": [
                          0.223583223
                        ],
                        "passed_time": 197.6554578,
                        "remaining_time": 7.807596048
                      },
                      {
                        "iteration": 962,
                        "learn": [
                          0.2233933031
                        ],
                        "passed_time": 197.8551662,
                        "remaining_time": 7.601911889
                      },
                      {
                        "iteration": 963,
                        "learn": [
                          0.2231694371
                        ],
                        "passed_time": 198.062217,
                        "remaining_time": 7.396514329
                      },
                      {
                        "iteration": 964,
                        "learn": [
                          0.2229841564
                        ],
                        "passed_time": 198.2551116,
                        "remaining_time": 7.190599903
                      },
                      {
                        "iteration": 965,
                        "learn": [
                          0.2228107786
                        ],
                        "passed_time": 198.4544837,
                        "remaining_time": 6.984940419
                      },
                      {
                        "iteration": 966,
                        "learn": [
                          0.2225912664
                        ],
                        "passed_time": 198.7188308,
                        "remaining_time": 6.781511289
                      },
                      {
                        "iteration": 967,
                        "learn": [
                          0.2223918933
                        ],
                        "passed_time": 198.8982248,
                        "remaining_time": 6.575147927
                      },
                      {
                        "iteration": 968,
                        "learn": [
                          0.2221728668
                        ],
                        "passed_time": 199.0893308,
                        "remaining_time": 6.369214916
                      },
                      {
                        "iteration": 969,
                        "learn": [
                          0.2220112099
                        ],
                        "passed_time": 199.2718659,
                        "remaining_time": 6.163047399
                      },
                      {
                        "iteration": 970,
                        "learn": [
                          0.2218245746
                        ],
                        "passed_time": 199.465618,
                        "remaining_time": 5.957263566
                      },
                      {
                        "iteration": 971,
                        "learn": [
                          0.2216384381
                        ],
                        "passed_time": 199.7173695,
                        "remaining_time": 5.753175253
                      },
                      {
                        "iteration": 972,
                        "learn": [
                          0.221437511
                        ],
                        "passed_time": 199.9128871,
                        "remaining_time": 5.547428521
                      },
                      {
                        "iteration": 973,
                        "learn": [
                          0.2212481456
                        ],
                        "passed_time": 200.115351,
                        "remaining_time": 5.341888219
                      },
                      {
                        "iteration": 974,
                        "learn": [
                          0.2210337068
                        ],
                        "passed_time": 200.3011026,
                        "remaining_time": 5.135925707
                      },
                      {
                        "iteration": 975,
                        "learn": [
                          0.2208197633
                        ],
                        "passed_time": 200.512246,
                        "remaining_time": 4.930628999
                      },
                      {
                        "iteration": 976,
                        "learn": [
                          0.2206654539
                        ],
                        "passed_time": 200.74982,
                        "remaining_time": 4.72594254
                      },
                      {
                        "iteration": 977,
                        "learn": [
                          0.2204921928
                        ],
                        "passed_time": 200.928679,
                        "remaining_time": 4.519868035
                      },
                      {
                        "iteration": 978,
                        "learn": [
                          0.2203053992
                        ],
                        "passed_time": 201.1228329,
                        "remaining_time": 4.314177211
                      },
                      {
                        "iteration": 979,
                        "learn": [
                          0.2201163903
                        ],
                        "passed_time": 201.3148913,
                        "remaining_time": 4.10846717
                      },
                      {
                        "iteration": 980,
                        "learn": [
                          0.2198908294
                        ],
                        "passed_time": 201.5216689,
                        "remaining_time": 3.90307004
                      },
                      {
                        "iteration": 981,
                        "learn": [
                          0.2196942118
                        ],
                        "passed_time": 201.7424977,
                        "remaining_time": 3.697927657
                      },
                      {
                        "iteration": 982,
                        "learn": [
                          0.2194867275
                        ],
                        "passed_time": 201.967645,
                        "remaining_time": 3.492828042
                      },
                      {
                        "iteration": 983,
                        "learn": [
                          0.2193028
                        ],
                        "passed_time": 202.1571211,
                        "remaining_time": 3.287107659
                      },
                      {
                        "iteration": 984,
                        "learn": [
                          0.219126229
                        ],
                        "passed_time": 202.3404156,
                        "remaining_time": 3.081326125
                      },
                      {
                        "iteration": 985,
                        "learn": [
                          0.2189328167
                        ],
                        "passed_time": 202.5436843,
                        "remaining_time": 2.875873814
                      },
                      {
                        "iteration": 986,
                        "learn": [
                          0.2187416054
                        ],
                        "passed_time": 202.7254658,
                        "remaining_time": 2.670142913
                      },
                      {
                        "iteration": 987,
                        "learn": [
                          0.2185613901
                        ],
                        "passed_time": 202.9720744,
                        "remaining_time": 2.465247867
                      },
                      {
                        "iteration": 988,
                        "learn": [
                          0.2183634043
                        ],
                        "passed_time": 203.1554487,
                        "remaining_time": 2.259565153
                      },
                      {
                        "iteration": 989,
                        "learn": [
                          0.2181773018
                        ],
                        "passed_time": 203.3424942,
                        "remaining_time": 2.053964587
                      },
                      {
                        "iteration": 990,
                        "learn": [
                          0.2179460348
                        ],
                        "passed_time": 203.5334775,
                        "remaining_time": 1.848437233
                      },
                      {
                        "iteration": 991,
                        "learn": [
                          0.2177259271
                        ],
                        "passed_time": 203.7204645,
                        "remaining_time": 1.642906972
                      },
                      {
                        "iteration": 992,
                        "learn": [
                          0.2175436633
                        ],
                        "passed_time": 203.9332315,
                        "remaining_time": 1.437595791
                      },
                      {
                        "iteration": 993,
                        "learn": [
                          0.2173499505
                        ],
                        "passed_time": 204.1452678,
                        "remaining_time": 1.232265198
                      },
                      {
                        "iteration": 994,
                        "learn": [
                          0.2171750595
                        ],
                        "passed_time": 204.3440746,
                        "remaining_time": 1.026854646
                      },
                      {
                        "iteration": 995,
                        "learn": [
                          0.2170259825
                        ],
                        "passed_time": 204.5409359,
                        "remaining_time": 0.8214495419
                      },
                      {
                        "iteration": 996,
                        "learn": [
                          0.2168226676
                        ],
                        "passed_time": 204.743272,
                        "remaining_time": 0.6160780502
                      },
                      {
                        "iteration": 997,
                        "learn": [
                          0.2166165226
                        ],
                        "passed_time": 204.9287046,
                        "remaining_time": 0.4106787668
                      },
                      {
                        "iteration": 998,
                        "learn": [
                          0.2164412425
                        ],
                        "passed_time": 205.246858,
                        "remaining_time": 0.2054523103
                      },
                      {
                        "iteration": 999,
                        "learn": [
                          0.2162828427
                        ],
                        "passed_time": 205.4429389,
                        "remaining_time": 0
                      }
                    ],
                    "meta": {
                      "iteration_count": 1000,
                      "launch_mode": "Train",
                      "learn_metrics": [
                        {
                          "best_value": "Min",
                          "name": "Logloss"
                        }
                      ],
                      "learn_sets": [
                        "learn"
                      ],
                      "name": "experiment",
                      "parameters": "",
                      "test_metrics": [],
                      "test_sets": []
                    }
                  },
                  "passed_iterations": 999,
                  "total_iterations": 1000
                },
                "name": "catboost_info",
                "path": "catboost_info"
              }
            },
            "layout": "IPY_MODEL_e9d041b350ce4a8790e896e2a35e772f"
          }
        }
      }
    }
  },
  "cells": [
    {
      "cell_type": "markdown",
      "metadata": {
        "id": "view-in-github",
        "colab_type": "text"
      },
      "source": [
        "<a href=\"https://colab.research.google.com/github/MKrezheska/NLP_Project-Style_Change_Detection/blob/main/Models_doc2vec_Task1.ipynb\" target=\"_parent\"><img src=\"https://colab.research.google.com/assets/colab-badge.svg\" alt=\"Open In Colab\"/></a>"
      ]
    },
    {
      "cell_type": "code",
      "metadata": {
        "colab": {
          "base_uri": "https://localhost:8080/"
        },
        "id": "rdQCV-9w0zlB",
        "outputId": "e40d65a3-4e41-403b-9011-c548d2d1d094"
      },
      "source": [
        "from google.colab import drive\n",
        "drive.mount('/content/drive')"
      ],
      "execution_count": null,
      "outputs": [
        {
          "name": "stdout",
          "output_type": "stream",
          "text": [
            "Mounted at /content/drive\n"
          ]
        }
      ]
    },
    {
      "cell_type": "code",
      "metadata": {
        "id": "JFRgLrGS8HFn"
      },
      "source": [
        "import pandas as pd"
      ],
      "execution_count": null,
      "outputs": []
    },
    {
      "cell_type": "code",
      "metadata": {
        "id": "8JqDRgHAN5mg"
      },
      "source": [
        "import json\n",
        "import numpy as np \n",
        "import time\n",
        "import joblib"
      ],
      "execution_count": null,
      "outputs": []
    },
    {
      "cell_type": "code",
      "metadata": {
        "id": "55siDObqEJMa"
      },
      "source": [
        "df = pd.read_csv('drive/MyDrive/pan-2021/train-all-doc2vec.csv')"
      ],
      "execution_count": null,
      "outputs": []
    },
    {
      "cell_type": "code",
      "metadata": {
        "colab": {
          "base_uri": "https://localhost:8080/",
          "height": 416
        },
        "id": "yNxidgNkLtd-",
        "outputId": "6b7673a3-5e16-4625-c5e0-a27a73948302"
      },
      "source": [
        "df"
      ],
      "execution_count": null,
      "outputs": [
        {
          "data": {
            "text/html": [
              "<div>\n",
              "<style scoped>\n",
              "    .dataframe tbody tr th:only-of-type {\n",
              "        vertical-align: middle;\n",
              "    }\n",
              "\n",
              "    .dataframe tbody tr th {\n",
              "        vertical-align: top;\n",
              "    }\n",
              "\n",
              "    .dataframe thead th {\n",
              "        text-align: right;\n",
              "    }\n",
              "</style>\n",
              "<table border=\"1\" class=\"dataframe\">\n",
              "  <thead>\n",
              "    <tr style=\"text-align: right;\">\n",
              "      <th></th>\n",
              "      <th>Unnamed: 0</th>\n",
              "      <th>emb</th>\n",
              "      <th>label</th>\n",
              "    </tr>\n",
              "  </thead>\n",
              "  <tbody>\n",
              "    <tr>\n",
              "      <th>0</th>\n",
              "      <td>0</td>\n",
              "      <td>[-0.42520425, -0.5896193, 0.5205206, -0.593288...</td>\n",
              "      <td>1</td>\n",
              "    </tr>\n",
              "    <tr>\n",
              "      <th>1</th>\n",
              "      <td>1</td>\n",
              "      <td>[-0.4254572, -0.58123827, 0.5221102, -0.587345...</td>\n",
              "      <td>1</td>\n",
              "    </tr>\n",
              "    <tr>\n",
              "      <th>2</th>\n",
              "      <td>2</td>\n",
              "      <td>[-0.42301336, -0.5937055, 0.5184952, -0.595355...</td>\n",
              "      <td>1</td>\n",
              "    </tr>\n",
              "    <tr>\n",
              "      <th>3</th>\n",
              "      <td>3</td>\n",
              "      <td>[-0.40323308, -0.5757907, 0.49620217, -0.57779...</td>\n",
              "      <td>1</td>\n",
              "    </tr>\n",
              "    <tr>\n",
              "      <th>4</th>\n",
              "      <td>4</td>\n",
              "      <td>[-0.44926742, -0.6141171, 0.55056953, -0.61837...</td>\n",
              "      <td>1</td>\n",
              "    </tr>\n",
              "    <tr>\n",
              "      <th>...</th>\n",
              "      <td>...</td>\n",
              "      <td>...</td>\n",
              "      <td>...</td>\n",
              "    </tr>\n",
              "    <tr>\n",
              "      <th>11195</th>\n",
              "      <td>11195</td>\n",
              "      <td>[-0.4224246, -0.569643, 0.51600564, -0.5781902...</td>\n",
              "      <td>1</td>\n",
              "    </tr>\n",
              "    <tr>\n",
              "      <th>11196</th>\n",
              "      <td>11196</td>\n",
              "      <td>[-0.4169373, -0.5694096, 0.5110819, -0.5767367...</td>\n",
              "      <td>1</td>\n",
              "    </tr>\n",
              "    <tr>\n",
              "      <th>11197</th>\n",
              "      <td>11197</td>\n",
              "      <td>[-0.43073392, -0.5538504, 0.5250031, -0.567920...</td>\n",
              "      <td>1</td>\n",
              "    </tr>\n",
              "    <tr>\n",
              "      <th>11198</th>\n",
              "      <td>11198</td>\n",
              "      <td>[-0.42834198, -0.54565454, 0.5196462, -0.55598...</td>\n",
              "      <td>1</td>\n",
              "    </tr>\n",
              "    <tr>\n",
              "      <th>11199</th>\n",
              "      <td>11199</td>\n",
              "      <td>[-0.39242044, -0.5458493, 0.48183373, -0.54966...</td>\n",
              "      <td>1</td>\n",
              "    </tr>\n",
              "  </tbody>\n",
              "</table>\n",
              "<p>11200 rows × 3 columns</p>\n",
              "</div>"
            ],
            "text/plain": [
              "       Unnamed: 0                                                emb  label\n",
              "0               0  [-0.42520425, -0.5896193, 0.5205206, -0.593288...      1\n",
              "1               1  [-0.4254572, -0.58123827, 0.5221102, -0.587345...      1\n",
              "2               2  [-0.42301336, -0.5937055, 0.5184952, -0.595355...      1\n",
              "3               3  [-0.40323308, -0.5757907, 0.49620217, -0.57779...      1\n",
              "4               4  [-0.44926742, -0.6141171, 0.55056953, -0.61837...      1\n",
              "...           ...                                                ...    ...\n",
              "11195       11195  [-0.4224246, -0.569643, 0.51600564, -0.5781902...      1\n",
              "11196       11196  [-0.4169373, -0.5694096, 0.5110819, -0.5767367...      1\n",
              "11197       11197  [-0.43073392, -0.5538504, 0.5250031, -0.567920...      1\n",
              "11198       11198  [-0.42834198, -0.54565454, 0.5196462, -0.55598...      1\n",
              "11199       11199  [-0.39242044, -0.5458493, 0.48183373, -0.54966...      1\n",
              "\n",
              "[11200 rows x 3 columns]"
            ]
          },
          "execution_count": 54,
          "metadata": {},
          "output_type": "execute_result"
        }
      ]
    },
    {
      "cell_type": "code",
      "metadata": {
        "colab": {
          "base_uri": "https://localhost:8080/",
          "height": 85
        },
        "id": "qFIA6KZIOo3B",
        "outputId": "4dd1c6f6-db95-4f83-90bf-f4d5a50c717c"
      },
      "source": [
        "df['emb'][0]"
      ],
      "execution_count": null,
      "outputs": [
        {
          "data": {
            "application/vnd.google.colaboratory.intrinsic+json": {
              "type": "string"
            },
            "text/plain": [
              "'[-0.42520425, -0.5896193, 0.5205206, -0.5932886, 0.1657511, -0.34886378, 0.065321214, 0.12520634, 0.54470944, 1.0779126, -1.0388664, -0.49091935, 0.038679607, -0.33134133, -0.5158262, -0.56863636, 0.42988372, 0.35529396, 0.2653261, 1.0425092, 0.15403545, -0.53597015, -0.013205225, 0.13314776, -0.92486733, 0.49375078, 0.38202682, 0.4338538, 0.50164884, -0.20797144, 0.23583503, -0.5069543, 0.086701185, -0.16796775, 0.07079772, -0.39892146, -0.60181236, 0.25702673, 0.5521362, -0.44194734, 0.45240074, -0.14413077, 0.61322105, 0.13894282, 0.33924207, -0.62094176, 0.0077197435, 0.32877263, 0.17272447, 0.010080969, -0.21490374, 0.41670445, 0.23702203, 0.47660002, 0.03971004, -0.6290445, 0.7459236, 0.35450622, -0.33106786, -0.3165681, -0.14111638, -0.695467, -0.38160384, -0.2600981, -0.1935906, -1.0649455, -0.54054844, -0.13328506, -0.14372575, -0.09179154, 0.059771407, -1.0131506, -0.7321331, -0.43442103, -0.454332, 0.023593185, 0.75746113, -0.8515093, -0.16683702, -1.0565827, 0.028103547, -0.06135545, -0.1577249, -0.1137892, -0.23014106, 0.6015811, 0.6321446, -0.5856957, -0.051643502, 0.49555433, -0.82585466, -0.28607836, -0.15860485, 0.2998619, 0.13792421, 0.44968882, -0.7472724, -0.6357917, -0.4624795, -0.35351157, 0.21420923, 0.34111235, 0.025834572, 0.38391614, -0.0984697, -0.23159428, 0.008981157, -0.12683931, 0.83019114, 0.3616871, -0.08451798, -0.09475915, -0.09347658, 0.5066453, 0.20404378, 0.56723434, -1.1767415, -0.78903407, 0.997508, -0.15318094, -0.68069106, -0.7687263, -0.8645981, 0.6024505, 0.19255726, 0.3587414, -0.41617608, 0.120086394, 0.20361108, 0.7718258, 0.25374705, -0.29077312, -0.35314438, 0.5849736, -0.6683817, 0.13685113, -0.21281338, 0.13480328, -0.42074746, -0.38985893, -0.95586, 0.71092105, 0.76145875, -0.12476821, 0.4924001, -0.45475072, 0.0751405, 0.83260447, -0.836426, -1.0518826, -0.57365716, 0.1164769, 0.077841766, -0.06150615, -0.030284068, -0.2816206, 0.8548911, 0.27666253, 0.24067743, 0.33452868, 0.1995585, 0.15142772, -0.33497745, 0.56402194, -0.42609966, -0.07013988, -0.14366263, -0.3806374, 0.14937665, 0.08636649, 0.08575633, 0.5904299, 0.20105842, 0.10422712, 0.52708054, 0.2559605, 0.28742617, -0.20532891, -0.17482768, 0.23788258, -0.12062114, 0.1710757, 0.4183531, 0.84198236, 0.71618086, -0.1271142, 0.37063316, -0.52363676, 0.0769472, -0.43432328, -0.4442114, 0.2550719, 0.0040892954, 0.5604294, 0.16121808, -0.68106014, 0.092662506, 0.08376569, 0.34703052, 0.06183843, -0.4842809, 0.5280456, -0.51561475, 0.63422525, -0.087564364, 0.33306435, -0.5257612, 0.50144017, -0.004131292, -0.14542721, -0.23143122, -0.34596613, 0.33288357, 0.6521202, 0.38736615, 0.30706856, -0.12189176, 1.0496756, 0.05084346, 1.0486968, -0.7463253, -0.6495841, 0.75601584, -0.7199244, 6.0235674e-05, -0.4575485, 0.48463404, 0.8965624, -0.11407056, -0.4645898, 0.04746149, -0.28992602, -0.27595133, -0.4532643, -0.06466518, -0.44649985, -0.33790314, 0.47802383, -0.28967214, 0.9373124, -0.48475307, 0.34540313, -0.26716006, -0.33796272, 0.32274124, 0.08634063, 0.15971702, 0.109172635, -0.10274212, -0.07997663, -0.5973535, -0.27078095, 0.7177855, 0.098568365, -0.4130393, -0.15926203, 0.21932846, 0.33063754, -0.45030627, -0.8767885, 0.13399687, 0.66303694, -0.26375696, 0.8431434, 0.19902782, 0.50612557, -1.172286, -0.1141245, -0.023990987, 0.14717607, -1.1396893, -0.53041184, 0.26350075, -0.0814602, 0.7895568, 0.050959453, 0.27863973, -0.060326297, -0.67718476, 0.112473406, -0.5005924, 0.26861972, -0.83135724, -0.25433886, -0.7687065, -0.82427806, 0.029812463, 0.15751074, -0.61159194, 0.829318, -0.4775245, 0.44270527, -0.82316816, -0.31805882, 0.0151490895, -0.5505657, -0.056169126, 0.22257183, 0.38679397, 1.1261584, -0.28331265, 0.2717116, -0.13854134, 0.65673673, -0.025746282, 0.6487775, 0.27798292, -0.27317157, 0.12466283, -0.80067825, 0.7533054, 0.46009967, 0.31195557, 0.007339531, 0.34729362, 0.034196295, -0.10851413, -0.673968, -0.030696495, -0.2571553, 0.13407452, 1.8288847e-07, -0.32813376, -0.15629457, 0.46720514, 0.012585485, -0.14792529, -0.32594514, -0.73754007, -0.031605598, -0.037259594, -0.031161755, -0.44632116, -0.10334033, 0.35375443, 0.16610518, 0.30162358, 0.3146893, -0.93957394, 0.4286519, 0.3399883, 0.3809535, -0.43413475, 0.59870577, -0.45027885, 0.26499587, -0.119786024, -0.3151172, -0.29172158, -0.24787168, -0.014737551, -0.15750378, 0.020289512, -0.41057858, -0.120153934, 0.26929876, -0.4144701, -0.16303335, 0.08025629, 0.17301276, -0.309389, 0.280542, -0.06659409, -0.15891829, 0.07518785, 0.5351297, 0.06732761, -0.22026272, -0.22330974, 0.2639032, -0.21747325, 0.40508947, 0.7786049, 0.1921358, 0.9632259, -0.6176654, -0.4762496, 0.24307187, -0.17439103, 0.7855619, -0.3292974, 0.03201444, -0.10688661, 0.36862987, -0.47716233, -0.42311487, -0.5632669, 0.5864746, 0.079840444, -0.40138522, 0.84239125, 0.18515812, -0.03536126, -0.59208035, 0.20364924, 0.10293776, 0.69221437, 0.09063644, 0.07553906, 0.06982313, 0.020461133, -0.27203774, 0.009728068, 0.15307635, 0.093743004, 0.18130192, -0.34754384, 0.005359249, -0.68795663, 0.12256983, 0.1050213, 0.11520168, 0.06605324, -0.038579572, -0.023356432, -0.17801917, 0.3869088, 0.41649154, -0.6744658, 0.17178418, 0.53600645, 0.25992405, 0.2971431, -0.42333063, -0.25026047, -0.2988798, 0.02493333, -0.2796538, -0.16555946, -0.8039865, -0.29130143, 0.42012128, 0.2378127, -0.310098, 0.26084325, -0.22741295, 0.6302144, -0.121516444, 0.3003442, -0.10469429, 0.67734647, -0.25304392, -0.35171, 0.03617903, -0.3299918, 0.5463754, 0.09129426, -0.08972437, 0.2883514, 0.63032615, 0.040644746, 0.07044442, 0.12734395, 0.061649136, 0.05641498, 0.22907235, -0.57144827, -0.048305955, -0.1689696, 0.040066306, -0.12620422, 0.40899032, 0.07236501, -0.6255538, -0.21531, -0.26606393, 0.282199, 0.48823723, 0.13539128, 0.10106504, -0.30673704, 0.23936045, -0.058128215, -0.36040878, -0.25825536, -0.3049555, -0.12805402, -0.10473517, 0.29162186, 0.028101303, 0.02818925, -0.18198127, 0.041752197, -0.57715106, -0.20623288, -0.25241926, -0.6737712, 0.11292653, 0.30959764, 0.13175136, 0.41250372, 0.06684722, 0.35442948, -0.29428524, -0.5212279, 0.54039115, 0.065296, -0.20739114, -0.5058745, 0.1174901, 0.15219265, -0.42578617, 0.9071759, -0.30600655, -0.013747994, 0.055674497, -0.26875287, 0.0913075, -0.055796724, -0.10733644, 0.38195965, 0.10781073, -0.16243342, -0.40598005, -0.3175489, -0.19931532, -0.025635794, -0.6723467, -0.17214, -0.66581553, 0.23201762, 0.20341516, -0.058217745, 0.052300427, -0.3022975, 0.3647098, -0.07171477, -0.65080726, 0.2779513, 0.6676999, -0.319233, -0.040971626, 0.23883452, 0.19323115, 0.34794638, 0.3797381, 0.28853226, -0.4254653, -0.0094742505, -0.497714, 0.21341538, -0.31807852, -0.14660902, 0.191374, -0.05340272, -0.08002637, -0.21967039, 0.14409171, -0.1636618, -0.61615705, 0.36021224, 0.44113064, -0.32131243, 0.032253224, 0.4434977, 0.49097896, -0.25914708, -0.3886637, 0.6171711, 0.44163692, -0.29451457, -0.4736886, -0.12080712, -0.7669113, -0.09172508, -0.76147425, 0.4523874, -0.050455805, 0.07119989, 0.01222847, 0.66120964, 0.11611137, -0.19372275, 0.17843492, -0.2902344, 0.062161356, 0.3893396, -0.09653543, 0.36035305, -0.032562647, 0.20252027, -0.30475414, 0.44301224, 0.37734607, 0.54811573, 0.57956696, 0.37410665, -0.13064408, -0.037524205, -0.3350413, 0.5355866, -0.48240066, 0.07564904, 0.16657716, 0.11257986, 0.6537695, -0.014403979, -0.3041768, 0.080194704, -0.844899]'"
            ]
          },
          "execution_count": 55,
          "metadata": {},
          "output_type": "execute_result"
        }
      ]
    },
    {
      "cell_type": "code",
      "metadata": {
        "id": "WZpTJMbqNPsu"
      },
      "source": [
        "df = df.drop([\"Unnamed: 0\"], axis=\"columns\")"
      ],
      "execution_count": null,
      "outputs": []
    },
    {
      "cell_type": "code",
      "metadata": {
        "colab": {
          "base_uri": "https://localhost:8080/",
          "height": 202
        },
        "id": "s6TkLMWbL0tY",
        "outputId": "7b049113-a04d-45ea-8ef0-84d7951a1920"
      },
      "source": [
        "df_valid = pd.read_csv('drive/MyDrive/pan-2021/validation-all-doc2vec.csv')\n",
        "df_valid.head()"
      ],
      "execution_count": null,
      "outputs": [
        {
          "data": {
            "text/html": [
              "<div>\n",
              "<style scoped>\n",
              "    .dataframe tbody tr th:only-of-type {\n",
              "        vertical-align: middle;\n",
              "    }\n",
              "\n",
              "    .dataframe tbody tr th {\n",
              "        vertical-align: top;\n",
              "    }\n",
              "\n",
              "    .dataframe thead th {\n",
              "        text-align: right;\n",
              "    }\n",
              "</style>\n",
              "<table border=\"1\" class=\"dataframe\">\n",
              "  <thead>\n",
              "    <tr style=\"text-align: right;\">\n",
              "      <th></th>\n",
              "      <th>Unnamed: 0</th>\n",
              "      <th>emb</th>\n",
              "      <th>label</th>\n",
              "    </tr>\n",
              "  </thead>\n",
              "  <tbody>\n",
              "    <tr>\n",
              "      <th>0</th>\n",
              "      <td>0</td>\n",
              "      <td>[-0.37990028, -0.56253105, 0.4701854, -0.55762...</td>\n",
              "      <td>1</td>\n",
              "    </tr>\n",
              "    <tr>\n",
              "      <th>1</th>\n",
              "      <td>1</td>\n",
              "      <td>[-0.42221412, -0.5448298, 0.5109712, -0.555855...</td>\n",
              "      <td>1</td>\n",
              "    </tr>\n",
              "    <tr>\n",
              "      <th>2</th>\n",
              "      <td>2</td>\n",
              "      <td>[-0.43479097, -0.56790036, 0.53096306, -0.5787...</td>\n",
              "      <td>1</td>\n",
              "    </tr>\n",
              "    <tr>\n",
              "      <th>3</th>\n",
              "      <td>3</td>\n",
              "      <td>[-0.4297393, -0.57481635, 0.52691823, -0.58080...</td>\n",
              "      <td>1</td>\n",
              "    </tr>\n",
              "    <tr>\n",
              "      <th>4</th>\n",
              "      <td>4</td>\n",
              "      <td>[-0.4042255, -0.5774633, 0.49579495, -0.579156...</td>\n",
              "      <td>1</td>\n",
              "    </tr>\n",
              "  </tbody>\n",
              "</table>\n",
              "</div>"
            ],
            "text/plain": [
              "   Unnamed: 0                                                emb  label\n",
              "0           0  [-0.37990028, -0.56253105, 0.4701854, -0.55762...      1\n",
              "1           1  [-0.42221412, -0.5448298, 0.5109712, -0.555855...      1\n",
              "2           2  [-0.43479097, -0.56790036, 0.53096306, -0.5787...      1\n",
              "3           3  [-0.4297393, -0.57481635, 0.52691823, -0.58080...      1\n",
              "4           4  [-0.4042255, -0.5774633, 0.49579495, -0.579156...      1"
            ]
          },
          "execution_count": 57,
          "metadata": {},
          "output_type": "execute_result"
        }
      ]
    },
    {
      "cell_type": "code",
      "metadata": {
        "id": "Mj1sf7VFMBJX"
      },
      "source": [
        "df_valid = df_valid.drop([\"Unnamed: 0\"], axis=\"columns\")"
      ],
      "execution_count": null,
      "outputs": []
    },
    {
      "cell_type": "code",
      "metadata": {
        "colab": {
          "base_uri": "https://localhost:8080/",
          "height": 85
        },
        "id": "1AZQMVwRPzfS",
        "outputId": "fb3a58be-fb12-4e25-ed1a-01628f8c28ae"
      },
      "source": [
        "df_valid['emb'][0]"
      ],
      "execution_count": null,
      "outputs": [
        {
          "data": {
            "application/vnd.google.colaboratory.intrinsic+json": {
              "type": "string"
            },
            "text/plain": [
              "'[-0.37990028, -0.56253105, 0.4701854, -0.5576267, 0.14250328, -0.31300092, 0.060595606, 0.1193037, 0.5374184, 1.0698682, -1.0263542, -0.4677257, 0.08764769, -0.35166952, -0.5549489, -0.5978844, 0.452978, 0.38529062, 0.27739707, 1.0950382, 0.17731991, -0.546419, -0.005577241, 0.14550655, -0.9222856, 0.5015864, 0.34565473, 0.4544637, 0.48818466, -0.2110833, 0.27850172, -0.53035027, 0.09297301, -0.15619804, 0.05505348, -0.37496606, -0.60916024, 0.280497, 0.59639704, -0.44303668, 0.47115073, -0.14902681, 0.63431406, 0.14239295, 0.34671393, -0.63242596, 0.0035303102, 0.33642292, 0.18415123, 0.015536377, -0.2141615, 0.41954032, 0.21563134, 0.46663204, 0.013253173, -0.63811815, 0.76331955, 0.3646238, -0.35206798, -0.33780804, -0.14963797, -0.71067137, -0.38623628, -0.2738769, -0.18902993, -1.0382972, -0.52734065, -0.13223806, -0.13042404, -0.09308341, 0.06333991, -1.0068231, -0.7106911, -0.42472067, -0.4404314, 0.02054988, 0.74947464, -0.8382188, -0.16287585, -1.0431864, 0.024675362, -0.07025864, -0.17362042, -0.11739265, -0.22878946, 0.5955388, 0.63191813, -0.5918024, -0.046540894, 0.48331183, -0.79278654, -0.28440616, -0.1522365, 0.27680907, 0.118201226, 0.42486444, -0.6999372, -0.62477183, -0.45442095, -0.33120057, 0.20683913, 0.3576904, 0.05491596, 0.3669215, -0.09510461, -0.19827709, 0.031137444, -0.09267325, 0.81630784, 0.33018747, -0.068136975, -0.11307823, -0.11502901, 0.4999599, 0.18629652, 0.56885993, -1.1772102, -0.8141155, 0.98494565, -0.1242232, -0.7272818, -0.79798925, -0.89776623, 0.6268083, 0.23212735, 0.40006438, -0.4430087, 0.13123032, 0.21543743, 0.8208023, 0.26572016, -0.31028435, -0.35599256, 0.5926026, -0.6821169, 0.14392027, -0.21785136, 0.15548971, -0.44701275, -0.41015, -1.0070229, 0.7410626, 0.808268, -0.12158073, 0.48761132, -0.46134004, 0.080913424, 0.8363551, -0.8241472, -1.0362849, -0.56084836, 0.11516981, 0.052996155, -0.039618753, -0.036982227, -0.26832667, 0.84495807, 0.26394412, 0.2455126, 0.3133911, 0.19903705, 0.1488321, -0.32345015, 0.5495325, -0.40393206, -0.086290285, -0.1599499, -0.37776804, 0.15309668, 0.09611347, 0.059351303, 0.5554088, 0.22366706, 0.112628, 0.5536228, 0.2572527, 0.28667837, -0.2182289, -0.16968302, 0.23249352, -0.15487263, 0.16782296, 0.38530073, 0.82839674, 0.67882174, -0.112706795, 0.32970142, -0.488066, 0.06424561, -0.42057696, -0.41510186, 0.26343158, 0.009145054, 0.5908738, 0.18059465, -0.7212121, 0.1040746, 0.0702683, 0.38321176, 0.08718494, -0.5247312, 0.5632157, -0.5415097, 0.67963743, -0.09532989, 0.33800173, -0.5369299, 0.4973, -0.01803766, -0.12784238, -0.22636996, -0.37161928, 0.34581628, 0.6825792, 0.4219387, 0.3333459, -0.09154299, 1.0534644, 0.081444606, 1.0594879, -0.7284878, -0.6328637, 0.7357793, -0.69410175, -0.004871481, -0.45868024, 0.4815343, 0.8920126, -0.14012152, -0.49082232, 0.06898868, -0.30490008, -0.29707536, -0.44930694, -0.06940022, -0.45424104, -0.34884924, 0.49051052, -0.29765573, 0.9643732, -0.47848818, 0.36876965, -0.27404234, -0.33134332, 0.34459493, 0.089047305, 0.16099939, 0.12783363, -0.11447733, -0.08827158, -0.64698154, -0.28952548, 0.7806543, 0.10378724, -0.4483466, -0.17200764, 0.23104554, 0.33320704, -0.44732875, -0.89091074, 0.13203514, 0.6744548, -0.25272027, 0.85035557, 0.22228903, 0.50594395, -1.2020309, -0.123778276, -0.01791214, 0.1428684, -1.1181699, -0.53224635, 0.274009, -0.073196895, 0.7492307, 0.07363528, 0.25008726, -0.027604753, -0.6646964, 0.08914283, -0.4852091, 0.2868611, -0.83850145, -0.25298464, -0.7579786, -0.81952554, -4.200649e-05, 0.14292814, -0.60362154, 0.8020891, -0.43980652, 0.46727026, -0.80495054, -0.2447696, 0.026598481, -0.53654075, -0.07663421, 0.22362255, 0.38071185, 1.1330593, -0.22466569, 0.21652086, -0.20892441, -0.19468105, -0.5079277, 0.012611153, -0.5119634, 0.076760724, -0.5642761, -1.2270569, 0.79416466, 0.21115474, 0.187475, -0.049319744, 0.16076787, -0.65758693, 0.061675977, -0.22440219, -0.21230064, -0.6127235, -0.20451763, 0.011314326, 0.27304593, -0.1440851, 0.61926293, 0.1203247, -0.013411213, -0.1970915, -0.45410734, -0.36551312, 0.106748424, 0.14691782, -0.27988967, 0.11338454, 0.14291413, 0.4896617, 0.27414465, 0.04690288, -0.58667445, -0.11671932, 0.36029926, 0.29507852, -0.38338283, 0.1817019, -0.061373252, 0.16682284, -0.25860614, -0.26971498, -0.72520584, 0.11177825, -0.15525308, 0.45501423, -0.5016272, -0.19073813, 0.10916626, 0.8614121, -0.23324244, -0.32448027, 0.044862397, 0.26323298, -0.24888718, 0.61042404, 0.008231729, -0.4589552, 0.17013781, 1.3832103, 0.39989766, -0.5052566, -0.6780334, 0.60543114, -0.14637263, 0.46196344, 0.49649608, -0.20956562, 0.61986524, -0.1592079, -0.18695197, 0.09743134, -0.57779706, 0.38521412, -0.49055874, -0.031833854, 0.21115647, 0.090954565, 0.034123212, -0.29249415, -0.113067865, 0.108105466, -0.1011334, 0.07775879, 0.563151, -0.39327958, -0.22103928, -0.641484, 0.20172732, -0.21684852, -0.038523193, 0.19754227, -0.22144885, -0.08412217, 0.15949577, -0.78128254, 0.042209696, -0.095100574, -0.3483043, 0.35996816, -0.26203355, -0.16415806, -0.4773648, -0.37542492, -0.053726356, 0.10161119, 0.09647477, 0.42764443, 0.29265738, 0.23187712, -0.31904748, 0.20857531, -0.4133904, 0.755079, 0.5018636, 0.19023752, 0.34620675, 0.04686757, 0.32786393, -0.21299157, 0.18204114, -0.26584786, 0.03925585, -0.23115635, -0.1301319, -0.534979, 0.10835388, -0.58438325, -0.08092247, -0.19641976, 0.35084954, -0.08714015, -0.09920058, -0.31890154, 0.45833302, -0.19357648, -0.01525787, -0.47891173, -0.22798835, 0.25335875, 0.0062712645, 0.1883173, 0.15774843, 0.579309, 0.20392343, 0.26711583, 0.09697892, 0.027316887, 0.037626326, -0.18253419, -0.5155768, 0.31787524, -0.18493846, -0.17560965, -0.22146158, 0.9688846, 0.109990366, -1.1464033, -0.58446777, -0.23915946, 0.07733218, 0.52240646, 0.2511268, 0.2000696, -0.1002806, 0.410409, -0.030232714, -0.079730816, -0.026771381, -0.15694438, -0.08971157, 0.15614955, 0.040823992, 0.1154165, 0.29702026, -0.11010954, 0.14964153, -0.3577684, -0.19530408, -0.14111552, -0.37843683, 0.15406421, -0.15184827, 0.46311224, 0.24828133, -0.36080116, 0.29215616, 0.06571789, 0.18413837, 0.19786215, 0.13493814, -0.3111619, -0.07855885, 0.33331713, -0.14842267, -0.1243443, 0.15564176, -0.15890354, -0.45870084, -0.1403477, -0.008671115, -0.41078186, -0.25067115, 0.37223613, -0.05724053, 0.0009454909, -0.5642577, -0.010240567, -0.30369043, 0.4544735, -0.030627942, -0.6306557, 0.2649404, -0.042765204, 0.0058370903, 0.33056185, -0.20282827, 0.2039663, -0.18275282, 0.07269897, -0.42785138, -0.20443825, 0.14867344, 0.2205635, -0.18420719, 0.21195027, 0.07681083, 0.691151, 0.17367801, -0.18320264, 0.29389703, -0.49958912, -0.044855446, -0.73976654, 0.037322022, -0.07957478, 0.14378929, -0.055513468, -0.1482676, 0.6077425, 0.06377878, 0.033869803, -0.031942733, -0.15421857, 0.13930589, 0.3281928, -0.4554909, -0.08382833, 0.2509808, -0.41948414, -0.5144985, 0.22387917, -0.24955967, 0.49665424, 0.14962804, -0.3387332, 0.28271133, -0.69052184, 0.15284649, -0.4668288, 0.26398322, -0.27330482, 0.4088799, -0.05961674, 0.075169206, -0.1494068, 0.026187664, 0.33678687, -0.28558144, -0.44151, 0.08871525, -0.25246942, 0.5481408, -0.282723, -0.008800654, -0.3403357, 0.436169, 0.62829894, 0.9625956, 0.34217837, -0.14528915, -0.27529293, 0.16242355, -0.0502786, 0.40830302, 0.07736648, -0.21645482, -0.031806756, -0.12205421, 0.6907603, 0.07785722, -0.276844, 0.27661923, -0.7822917]'"
            ]
          },
          "execution_count": 59,
          "metadata": {},
          "output_type": "execute_result"
        }
      ]
    },
    {
      "cell_type": "code",
      "metadata": {
        "colab": {
          "base_uri": "https://localhost:8080/"
        },
        "id": "NsH17aHpjVrv",
        "outputId": "e0794743-9b54-4151-807c-cdf0c6a0970a"
      },
      "source": [
        "df_train = df.iloc[:, : ]\n",
        "df_test = df_valid.iloc[:, : ]\n",
        "print(len(df_train))\n",
        "print(len(df_test))"
      ],
      "execution_count": null,
      "outputs": [
        {
          "name": "stdout",
          "output_type": "stream",
          "text": [
            "11200\n",
            "2400\n"
          ]
        }
      ]
    },
    {
      "cell_type": "code",
      "metadata": {
        "colab": {
          "base_uri": "https://localhost:8080/",
          "height": 664
        },
        "id": "t68ySKq0f0eo",
        "outputId": "0f8decf4-88ab-4d00-f0ef-5bb75e35e611"
      },
      "source": [
        "y_train = df_train['label']\n",
        "df_train.drop(['label'], axis=1, inplace= True)\n",
        "df_train.head(20)"
      ],
      "execution_count": null,
      "outputs": [
        {
          "data": {
            "text/html": [
              "<div>\n",
              "<style scoped>\n",
              "    .dataframe tbody tr th:only-of-type {\n",
              "        vertical-align: middle;\n",
              "    }\n",
              "\n",
              "    .dataframe tbody tr th {\n",
              "        vertical-align: top;\n",
              "    }\n",
              "\n",
              "    .dataframe thead th {\n",
              "        text-align: right;\n",
              "    }\n",
              "</style>\n",
              "<table border=\"1\" class=\"dataframe\">\n",
              "  <thead>\n",
              "    <tr style=\"text-align: right;\">\n",
              "      <th></th>\n",
              "      <th>emb</th>\n",
              "    </tr>\n",
              "  </thead>\n",
              "  <tbody>\n",
              "    <tr>\n",
              "      <th>0</th>\n",
              "      <td>[-0.42520425, -0.5896193, 0.5205206, -0.593288...</td>\n",
              "    </tr>\n",
              "    <tr>\n",
              "      <th>1</th>\n",
              "      <td>[-0.4254572, -0.58123827, 0.5221102, -0.587345...</td>\n",
              "    </tr>\n",
              "    <tr>\n",
              "      <th>2</th>\n",
              "      <td>[-0.42301336, -0.5937055, 0.5184952, -0.595355...</td>\n",
              "    </tr>\n",
              "    <tr>\n",
              "      <th>3</th>\n",
              "      <td>[-0.40323308, -0.5757907, 0.49620217, -0.57779...</td>\n",
              "    </tr>\n",
              "    <tr>\n",
              "      <th>4</th>\n",
              "      <td>[-0.44926742, -0.6141171, 0.55056953, -0.61837...</td>\n",
              "    </tr>\n",
              "    <tr>\n",
              "      <th>5</th>\n",
              "      <td>[-0.41029772, -0.5299089, 0.4975417, -0.543229...</td>\n",
              "    </tr>\n",
              "    <tr>\n",
              "      <th>6</th>\n",
              "      <td>[-0.3999887, -0.5586191, 0.4908217, -0.5616216...</td>\n",
              "    </tr>\n",
              "    <tr>\n",
              "      <th>7</th>\n",
              "      <td>[-0.42021406, -0.5834756, 0.5152512, -0.584816...</td>\n",
              "    </tr>\n",
              "    <tr>\n",
              "      <th>8</th>\n",
              "      <td>[-0.4283086, -0.601769, 0.525902, -0.60438454,...</td>\n",
              "    </tr>\n",
              "    <tr>\n",
              "      <th>9</th>\n",
              "      <td>[-0.45847267, -0.5538079, 0.5510276, -0.573133...</td>\n",
              "    </tr>\n",
              "    <tr>\n",
              "      <th>10</th>\n",
              "      <td>[-0.42836395, -0.594967, 0.5228423, -0.5973093...</td>\n",
              "    </tr>\n",
              "    <tr>\n",
              "      <th>11</th>\n",
              "      <td>[-0.3977569, -0.5716472, 0.4906096, -0.5704689...</td>\n",
              "    </tr>\n",
              "    <tr>\n",
              "      <th>12</th>\n",
              "      <td>[-0.39221177, -0.57993245, 0.48454237, -0.5748...</td>\n",
              "    </tr>\n",
              "    <tr>\n",
              "      <th>13</th>\n",
              "      <td>[-0.4486897, -0.59605795, 0.5476514, -0.604488...</td>\n",
              "    </tr>\n",
              "    <tr>\n",
              "      <th>14</th>\n",
              "      <td>[-0.43739396, -0.5848037, 0.53194, -0.5915132,...</td>\n",
              "    </tr>\n",
              "    <tr>\n",
              "      <th>15</th>\n",
              "      <td>[-0.41499105, -0.56923467, 0.50871, -0.574385,...</td>\n",
              "    </tr>\n",
              "    <tr>\n",
              "      <th>16</th>\n",
              "      <td>[-0.406773, -0.6091548, 0.502848, -0.60441977,...</td>\n",
              "    </tr>\n",
              "    <tr>\n",
              "      <th>17</th>\n",
              "      <td>[-0.3871198, -0.5978095, 0.47830474, -0.587743...</td>\n",
              "    </tr>\n",
              "    <tr>\n",
              "      <th>18</th>\n",
              "      <td>[-0.42888057, -0.5582127, 0.5197461, -0.569486...</td>\n",
              "    </tr>\n",
              "    <tr>\n",
              "      <th>19</th>\n",
              "      <td>[-0.42840368, -0.564286, 0.52062964, -0.572776...</td>\n",
              "    </tr>\n",
              "  </tbody>\n",
              "</table>\n",
              "</div>"
            ],
            "text/plain": [
              "                                                  emb\n",
              "0   [-0.42520425, -0.5896193, 0.5205206, -0.593288...\n",
              "1   [-0.4254572, -0.58123827, 0.5221102, -0.587345...\n",
              "2   [-0.42301336, -0.5937055, 0.5184952, -0.595355...\n",
              "3   [-0.40323308, -0.5757907, 0.49620217, -0.57779...\n",
              "4   [-0.44926742, -0.6141171, 0.55056953, -0.61837...\n",
              "5   [-0.41029772, -0.5299089, 0.4975417, -0.543229...\n",
              "6   [-0.3999887, -0.5586191, 0.4908217, -0.5616216...\n",
              "7   [-0.42021406, -0.5834756, 0.5152512, -0.584816...\n",
              "8   [-0.4283086, -0.601769, 0.525902, -0.60438454,...\n",
              "9   [-0.45847267, -0.5538079, 0.5510276, -0.573133...\n",
              "10  [-0.42836395, -0.594967, 0.5228423, -0.5973093...\n",
              "11  [-0.3977569, -0.5716472, 0.4906096, -0.5704689...\n",
              "12  [-0.39221177, -0.57993245, 0.48454237, -0.5748...\n",
              "13  [-0.4486897, -0.59605795, 0.5476514, -0.604488...\n",
              "14  [-0.43739396, -0.5848037, 0.53194, -0.5915132,...\n",
              "15  [-0.41499105, -0.56923467, 0.50871, -0.574385,...\n",
              "16  [-0.406773, -0.6091548, 0.502848, -0.60441977,...\n",
              "17  [-0.3871198, -0.5978095, 0.47830474, -0.587743...\n",
              "18  [-0.42888057, -0.5582127, 0.5197461, -0.569486...\n",
              "19  [-0.42840368, -0.564286, 0.52062964, -0.572776..."
            ]
          },
          "execution_count": 61,
          "metadata": {},
          "output_type": "execute_result"
        }
      ]
    },
    {
      "cell_type": "code",
      "metadata": {
        "colab": {
          "base_uri": "https://localhost:8080/",
          "height": 664
        },
        "id": "c25t5BcMmOxV",
        "outputId": "6a7ae567-b2ba-4842-bee6-67cbc6a91f61"
      },
      "source": [
        "y_test = df_test['label']\n",
        "df_test.drop(['label'], axis=1, inplace= True)\n",
        "df_test.head(20)"
      ],
      "execution_count": null,
      "outputs": [
        {
          "data": {
            "text/html": [
              "<div>\n",
              "<style scoped>\n",
              "    .dataframe tbody tr th:only-of-type {\n",
              "        vertical-align: middle;\n",
              "    }\n",
              "\n",
              "    .dataframe tbody tr th {\n",
              "        vertical-align: top;\n",
              "    }\n",
              "\n",
              "    .dataframe thead th {\n",
              "        text-align: right;\n",
              "    }\n",
              "</style>\n",
              "<table border=\"1\" class=\"dataframe\">\n",
              "  <thead>\n",
              "    <tr style=\"text-align: right;\">\n",
              "      <th></th>\n",
              "      <th>emb</th>\n",
              "    </tr>\n",
              "  </thead>\n",
              "  <tbody>\n",
              "    <tr>\n",
              "      <th>0</th>\n",
              "      <td>[-0.37990028, -0.56253105, 0.4701854, -0.55762...</td>\n",
              "    </tr>\n",
              "    <tr>\n",
              "      <th>1</th>\n",
              "      <td>[-0.42221412, -0.5448298, 0.5109712, -0.555855...</td>\n",
              "    </tr>\n",
              "    <tr>\n",
              "      <th>2</th>\n",
              "      <td>[-0.43479097, -0.56790036, 0.53096306, -0.5787...</td>\n",
              "    </tr>\n",
              "    <tr>\n",
              "      <th>3</th>\n",
              "      <td>[-0.4297393, -0.57481635, 0.52691823, -0.58080...</td>\n",
              "    </tr>\n",
              "    <tr>\n",
              "      <th>4</th>\n",
              "      <td>[-0.4042255, -0.5774633, 0.49579495, -0.579156...</td>\n",
              "    </tr>\n",
              "    <tr>\n",
              "      <th>5</th>\n",
              "      <td>[-0.40673274, -0.57594615, 0.49841565, -0.5795...</td>\n",
              "    </tr>\n",
              "    <tr>\n",
              "      <th>6</th>\n",
              "      <td>[-0.4180541, -0.5691061, 0.51133007, -0.574279...</td>\n",
              "    </tr>\n",
              "    <tr>\n",
              "      <th>7</th>\n",
              "      <td>[-0.41327032, -0.55593103, 0.505578, -0.561464...</td>\n",
              "    </tr>\n",
              "    <tr>\n",
              "      <th>8</th>\n",
              "      <td>[-0.40444875, -0.53837246, 0.49089476, -0.5469...</td>\n",
              "    </tr>\n",
              "    <tr>\n",
              "      <th>9</th>\n",
              "      <td>[-0.4318484, -0.59669435, 0.5286605, -0.598973...</td>\n",
              "    </tr>\n",
              "    <tr>\n",
              "      <th>10</th>\n",
              "      <td>[-0.411761, -0.53723866, 0.5016521, -0.5488649...</td>\n",
              "    </tr>\n",
              "    <tr>\n",
              "      <th>11</th>\n",
              "      <td>[-0.3934184, -0.5764206, 0.48433104, -0.576044...</td>\n",
              "    </tr>\n",
              "    <tr>\n",
              "      <th>12</th>\n",
              "      <td>[-0.42154422, -0.55125123, 0.51375955, -0.5622...</td>\n",
              "    </tr>\n",
              "    <tr>\n",
              "      <th>13</th>\n",
              "      <td>[-0.4227177, -0.5890062, 0.5184662, -0.5935904...</td>\n",
              "    </tr>\n",
              "    <tr>\n",
              "      <th>14</th>\n",
              "      <td>[-0.4049405, -0.56084096, 0.49627757, -0.56675...</td>\n",
              "    </tr>\n",
              "    <tr>\n",
              "      <th>15</th>\n",
              "      <td>[-0.4191844, -0.58655643, 0.5144969, -0.589324...</td>\n",
              "    </tr>\n",
              "    <tr>\n",
              "      <th>16</th>\n",
              "      <td>[-0.42777836, -0.5862452, 0.5221738, -0.588900...</td>\n",
              "    </tr>\n",
              "    <tr>\n",
              "      <th>17</th>\n",
              "      <td>[-0.42546284, -0.5779949, 0.51875734, -0.58325...</td>\n",
              "    </tr>\n",
              "    <tr>\n",
              "      <th>18</th>\n",
              "      <td>[-0.41296378, -0.5811844, 0.5048976, -0.582768...</td>\n",
              "    </tr>\n",
              "    <tr>\n",
              "      <th>19</th>\n",
              "      <td>[-0.4441356, -0.576469, 0.5412948, -0.58863217...</td>\n",
              "    </tr>\n",
              "  </tbody>\n",
              "</table>\n",
              "</div>"
            ],
            "text/plain": [
              "                                                  emb\n",
              "0   [-0.37990028, -0.56253105, 0.4701854, -0.55762...\n",
              "1   [-0.42221412, -0.5448298, 0.5109712, -0.555855...\n",
              "2   [-0.43479097, -0.56790036, 0.53096306, -0.5787...\n",
              "3   [-0.4297393, -0.57481635, 0.52691823, -0.58080...\n",
              "4   [-0.4042255, -0.5774633, 0.49579495, -0.579156...\n",
              "5   [-0.40673274, -0.57594615, 0.49841565, -0.5795...\n",
              "6   [-0.4180541, -0.5691061, 0.51133007, -0.574279...\n",
              "7   [-0.41327032, -0.55593103, 0.505578, -0.561464...\n",
              "8   [-0.40444875, -0.53837246, 0.49089476, -0.5469...\n",
              "9   [-0.4318484, -0.59669435, 0.5286605, -0.598973...\n",
              "10  [-0.411761, -0.53723866, 0.5016521, -0.5488649...\n",
              "11  [-0.3934184, -0.5764206, 0.48433104, -0.576044...\n",
              "12  [-0.42154422, -0.55125123, 0.51375955, -0.5622...\n",
              "13  [-0.4227177, -0.5890062, 0.5184662, -0.5935904...\n",
              "14  [-0.4049405, -0.56084096, 0.49627757, -0.56675...\n",
              "15  [-0.4191844, -0.58655643, 0.5144969, -0.589324...\n",
              "16  [-0.42777836, -0.5862452, 0.5221738, -0.588900...\n",
              "17  [-0.42546284, -0.5779949, 0.51875734, -0.58325...\n",
              "18  [-0.41296378, -0.5811844, 0.5048976, -0.582768...\n",
              "19  [-0.4441356, -0.576469, 0.5412948, -0.58863217..."
            ]
          },
          "execution_count": 62,
          "metadata": {},
          "output_type": "execute_result"
        }
      ]
    },
    {
      "cell_type": "code",
      "metadata": {
        "colab": {
          "base_uri": "https://localhost:8080/",
          "height": 85
        },
        "id": "4v-sE30wNyJ-",
        "outputId": "723afb0b-5ad3-4725-bfa8-5365cbd19173"
      },
      "source": [
        "df_test['emb'][0]"
      ],
      "execution_count": null,
      "outputs": [
        {
          "data": {
            "application/vnd.google.colaboratory.intrinsic+json": {
              "type": "string"
            },
            "text/plain": [
              "'[-0.37990028, -0.56253105, 0.4701854, -0.5576267, 0.14250328, -0.31300092, 0.060595606, 0.1193037, 0.5374184, 1.0698682, -1.0263542, -0.4677257, 0.08764769, -0.35166952, -0.5549489, -0.5978844, 0.452978, 0.38529062, 0.27739707, 1.0950382, 0.17731991, -0.546419, -0.005577241, 0.14550655, -0.9222856, 0.5015864, 0.34565473, 0.4544637, 0.48818466, -0.2110833, 0.27850172, -0.53035027, 0.09297301, -0.15619804, 0.05505348, -0.37496606, -0.60916024, 0.280497, 0.59639704, -0.44303668, 0.47115073, -0.14902681, 0.63431406, 0.14239295, 0.34671393, -0.63242596, 0.0035303102, 0.33642292, 0.18415123, 0.015536377, -0.2141615, 0.41954032, 0.21563134, 0.46663204, 0.013253173, -0.63811815, 0.76331955, 0.3646238, -0.35206798, -0.33780804, -0.14963797, -0.71067137, -0.38623628, -0.2738769, -0.18902993, -1.0382972, -0.52734065, -0.13223806, -0.13042404, -0.09308341, 0.06333991, -1.0068231, -0.7106911, -0.42472067, -0.4404314, 0.02054988, 0.74947464, -0.8382188, -0.16287585, -1.0431864, 0.024675362, -0.07025864, -0.17362042, -0.11739265, -0.22878946, 0.5955388, 0.63191813, -0.5918024, -0.046540894, 0.48331183, -0.79278654, -0.28440616, -0.1522365, 0.27680907, 0.118201226, 0.42486444, -0.6999372, -0.62477183, -0.45442095, -0.33120057, 0.20683913, 0.3576904, 0.05491596, 0.3669215, -0.09510461, -0.19827709, 0.031137444, -0.09267325, 0.81630784, 0.33018747, -0.068136975, -0.11307823, -0.11502901, 0.4999599, 0.18629652, 0.56885993, -1.1772102, -0.8141155, 0.98494565, -0.1242232, -0.7272818, -0.79798925, -0.89776623, 0.6268083, 0.23212735, 0.40006438, -0.4430087, 0.13123032, 0.21543743, 0.8208023, 0.26572016, -0.31028435, -0.35599256, 0.5926026, -0.6821169, 0.14392027, -0.21785136, 0.15548971, -0.44701275, -0.41015, -1.0070229, 0.7410626, 0.808268, -0.12158073, 0.48761132, -0.46134004, 0.080913424, 0.8363551, -0.8241472, -1.0362849, -0.56084836, 0.11516981, 0.052996155, -0.039618753, -0.036982227, -0.26832667, 0.84495807, 0.26394412, 0.2455126, 0.3133911, 0.19903705, 0.1488321, -0.32345015, 0.5495325, -0.40393206, -0.086290285, -0.1599499, -0.37776804, 0.15309668, 0.09611347, 0.059351303, 0.5554088, 0.22366706, 0.112628, 0.5536228, 0.2572527, 0.28667837, -0.2182289, -0.16968302, 0.23249352, -0.15487263, 0.16782296, 0.38530073, 0.82839674, 0.67882174, -0.112706795, 0.32970142, -0.488066, 0.06424561, -0.42057696, -0.41510186, 0.26343158, 0.009145054, 0.5908738, 0.18059465, -0.7212121, 0.1040746, 0.0702683, 0.38321176, 0.08718494, -0.5247312, 0.5632157, -0.5415097, 0.67963743, -0.09532989, 0.33800173, -0.5369299, 0.4973, -0.01803766, -0.12784238, -0.22636996, -0.37161928, 0.34581628, 0.6825792, 0.4219387, 0.3333459, -0.09154299, 1.0534644, 0.081444606, 1.0594879, -0.7284878, -0.6328637, 0.7357793, -0.69410175, -0.004871481, -0.45868024, 0.4815343, 0.8920126, -0.14012152, -0.49082232, 0.06898868, -0.30490008, -0.29707536, -0.44930694, -0.06940022, -0.45424104, -0.34884924, 0.49051052, -0.29765573, 0.9643732, -0.47848818, 0.36876965, -0.27404234, -0.33134332, 0.34459493, 0.089047305, 0.16099939, 0.12783363, -0.11447733, -0.08827158, -0.64698154, -0.28952548, 0.7806543, 0.10378724, -0.4483466, -0.17200764, 0.23104554, 0.33320704, -0.44732875, -0.89091074, 0.13203514, 0.6744548, -0.25272027, 0.85035557, 0.22228903, 0.50594395, -1.2020309, -0.123778276, -0.01791214, 0.1428684, -1.1181699, -0.53224635, 0.274009, -0.073196895, 0.7492307, 0.07363528, 0.25008726, -0.027604753, -0.6646964, 0.08914283, -0.4852091, 0.2868611, -0.83850145, -0.25298464, -0.7579786, -0.81952554, -4.200649e-05, 0.14292814, -0.60362154, 0.8020891, -0.43980652, 0.46727026, -0.80495054, -0.2447696, 0.026598481, -0.53654075, -0.07663421, 0.22362255, 0.38071185, 1.1330593, -0.22466569, 0.21652086, -0.20892441, -0.19468105, -0.5079277, 0.012611153, -0.5119634, 0.076760724, -0.5642761, -1.2270569, 0.79416466, 0.21115474, 0.187475, -0.049319744, 0.16076787, -0.65758693, 0.061675977, -0.22440219, -0.21230064, -0.6127235, -0.20451763, 0.011314326, 0.27304593, -0.1440851, 0.61926293, 0.1203247, -0.013411213, -0.1970915, -0.45410734, -0.36551312, 0.106748424, 0.14691782, -0.27988967, 0.11338454, 0.14291413, 0.4896617, 0.27414465, 0.04690288, -0.58667445, -0.11671932, 0.36029926, 0.29507852, -0.38338283, 0.1817019, -0.061373252, 0.16682284, -0.25860614, -0.26971498, -0.72520584, 0.11177825, -0.15525308, 0.45501423, -0.5016272, -0.19073813, 0.10916626, 0.8614121, -0.23324244, -0.32448027, 0.044862397, 0.26323298, -0.24888718, 0.61042404, 0.008231729, -0.4589552, 0.17013781, 1.3832103, 0.39989766, -0.5052566, -0.6780334, 0.60543114, -0.14637263, 0.46196344, 0.49649608, -0.20956562, 0.61986524, -0.1592079, -0.18695197, 0.09743134, -0.57779706, 0.38521412, -0.49055874, -0.031833854, 0.21115647, 0.090954565, 0.034123212, -0.29249415, -0.113067865, 0.108105466, -0.1011334, 0.07775879, 0.563151, -0.39327958, -0.22103928, -0.641484, 0.20172732, -0.21684852, -0.038523193, 0.19754227, -0.22144885, -0.08412217, 0.15949577, -0.78128254, 0.042209696, -0.095100574, -0.3483043, 0.35996816, -0.26203355, -0.16415806, -0.4773648, -0.37542492, -0.053726356, 0.10161119, 0.09647477, 0.42764443, 0.29265738, 0.23187712, -0.31904748, 0.20857531, -0.4133904, 0.755079, 0.5018636, 0.19023752, 0.34620675, 0.04686757, 0.32786393, -0.21299157, 0.18204114, -0.26584786, 0.03925585, -0.23115635, -0.1301319, -0.534979, 0.10835388, -0.58438325, -0.08092247, -0.19641976, 0.35084954, -0.08714015, -0.09920058, -0.31890154, 0.45833302, -0.19357648, -0.01525787, -0.47891173, -0.22798835, 0.25335875, 0.0062712645, 0.1883173, 0.15774843, 0.579309, 0.20392343, 0.26711583, 0.09697892, 0.027316887, 0.037626326, -0.18253419, -0.5155768, 0.31787524, -0.18493846, -0.17560965, -0.22146158, 0.9688846, 0.109990366, -1.1464033, -0.58446777, -0.23915946, 0.07733218, 0.52240646, 0.2511268, 0.2000696, -0.1002806, 0.410409, -0.030232714, -0.079730816, -0.026771381, -0.15694438, -0.08971157, 0.15614955, 0.040823992, 0.1154165, 0.29702026, -0.11010954, 0.14964153, -0.3577684, -0.19530408, -0.14111552, -0.37843683, 0.15406421, -0.15184827, 0.46311224, 0.24828133, -0.36080116, 0.29215616, 0.06571789, 0.18413837, 0.19786215, 0.13493814, -0.3111619, -0.07855885, 0.33331713, -0.14842267, -0.1243443, 0.15564176, -0.15890354, -0.45870084, -0.1403477, -0.008671115, -0.41078186, -0.25067115, 0.37223613, -0.05724053, 0.0009454909, -0.5642577, -0.010240567, -0.30369043, 0.4544735, -0.030627942, -0.6306557, 0.2649404, -0.042765204, 0.0058370903, 0.33056185, -0.20282827, 0.2039663, -0.18275282, 0.07269897, -0.42785138, -0.20443825, 0.14867344, 0.2205635, -0.18420719, 0.21195027, 0.07681083, 0.691151, 0.17367801, -0.18320264, 0.29389703, -0.49958912, -0.044855446, -0.73976654, 0.037322022, -0.07957478, 0.14378929, -0.055513468, -0.1482676, 0.6077425, 0.06377878, 0.033869803, -0.031942733, -0.15421857, 0.13930589, 0.3281928, -0.4554909, -0.08382833, 0.2509808, -0.41948414, -0.5144985, 0.22387917, -0.24955967, 0.49665424, 0.14962804, -0.3387332, 0.28271133, -0.69052184, 0.15284649, -0.4668288, 0.26398322, -0.27330482, 0.4088799, -0.05961674, 0.075169206, -0.1494068, 0.026187664, 0.33678687, -0.28558144, -0.44151, 0.08871525, -0.25246942, 0.5481408, -0.282723, -0.008800654, -0.3403357, 0.436169, 0.62829894, 0.9625956, 0.34217837, -0.14528915, -0.27529293, 0.16242355, -0.0502786, 0.40830302, 0.07736648, -0.21645482, -0.031806756, -0.12205421, 0.6907603, 0.07785722, -0.276844, 0.27661923, -0.7822917]'"
            ]
          },
          "execution_count": 63,
          "metadata": {},
          "output_type": "execute_result"
        }
      ]
    },
    {
      "cell_type": "code",
      "metadata": {
        "id": "LLNTbTCtr77S"
      },
      "source": [
        "xtrain = df_train.values.tolist()\n",
        "X_test = df_test.values.tolist()"
      ],
      "execution_count": null,
      "outputs": []
    },
    {
      "cell_type": "code",
      "metadata": {
        "id": "8TpCbwr3rHse"
      },
      "source": [
        "xtrain = [eval(xtrain[i][0]) for i in range(0, len(xtrain))]\n",
        "X_test = [eval(X_test[i][0]) for i in range(0, len(X_test))]"
      ],
      "execution_count": null,
      "outputs": []
    },
    {
      "cell_type": "code",
      "metadata": {
        "id": "Aw1ESkBDsbQc"
      },
      "source": [
        "xtrain = np.asarray(xtrain)"
      ],
      "execution_count": null,
      "outputs": []
    },
    {
      "cell_type": "code",
      "metadata": {
        "id": "TuQ5Z5KJs9h2"
      },
      "source": [
        "X_test = np.asarray(X_test)"
      ],
      "execution_count": null,
      "outputs": []
    },
    {
      "cell_type": "code",
      "metadata": {
        "id": "DVHzcGxZtm0w"
      },
      "source": [
        "import seaborn as sns\n",
        "from sklearn.metrics import confusion_matrix\n",
        "from sklearn.metrics import classification_report\n",
        "import warnings\n",
        "warnings.simplefilter(action='ignore', category=FutureWarning)"
      ],
      "execution_count": null,
      "outputs": []
    },
    {
      "cell_type": "code",
      "metadata": {
        "id": "J16D3aMzS3PW"
      },
      "source": [
        "def print_confusion_matrix(preds, labels, names):\n",
        "  print(classification_report(labels, preds))\n",
        "\n",
        "  # Mатрица на конфузија \n",
        "  names = names\n",
        "  confusion = confusion_matrix(labels, preds)\n",
        "  confusion = 100 * confusion.astype('float') / confusion.sum(axis=-1)[:, np.newaxis]\n",
        "  df_1 = pd.DataFrame(data=confusion, columns=names, index=names)\n",
        "  image = sns.heatmap(df_1, annot=True, fmt=\".1f\", vmin=0, vmax=100,cmap='Greens')\n",
        "  image.set_title('Confusion matrix')\n",
        "  image.set_ylabel('True label')\n",
        "  image.set_xlabel('Predicted label')\n",
        "  image.plot()"
      ],
      "execution_count": null,
      "outputs": []
    },
    {
      "cell_type": "code",
      "metadata": {
        "id": "Kz-X5T8E8N5X"
      },
      "source": [
        "ytrain = y_train"
      ],
      "execution_count": null,
      "outputs": []
    },
    {
      "cell_type": "code",
      "metadata": {
        "colab": {
          "base_uri": "https://localhost:8080/"
        },
        "id": "6xeduEz3t9kI",
        "outputId": "1567ddb2-b1eb-4918-ed31-0c8fc4d40e30"
      },
      "source": [
        "from sklearn.tree import DecisionTreeClassifier\n",
        "from sklearn.naive_bayes import GaussianNB\n",
        "from sklearn.ensemble import RandomForestClassifier\n",
        "\n",
        "dtc = DecisionTreeClassifier()\n",
        "nbc = GaussianNB()\n",
        "rfc = RandomForestClassifier()\n",
        "\n",
        "dtc.fit(xtrain, ytrain)\n",
        "nbc.fit(xtrain, ytrain)\n",
        "rfc.fit(xtrain, ytrain)"
      ],
      "execution_count": null,
      "outputs": [
        {
          "data": {
            "text/plain": [
              "RandomForestClassifier(bootstrap=True, ccp_alpha=0.0, class_weight=None,\n",
              "                       criterion='gini', max_depth=None, max_features='auto',\n",
              "                       max_leaf_nodes=None, max_samples=None,\n",
              "                       min_impurity_decrease=0.0, min_impurity_split=None,\n",
              "                       min_samples_leaf=1, min_samples_split=2,\n",
              "                       min_weight_fraction_leaf=0.0, n_estimators=100,\n",
              "                       n_jobs=None, oob_score=False, random_state=None,\n",
              "                       verbose=0, warm_start=False)"
            ]
          },
          "execution_count": 71,
          "metadata": {},
          "output_type": "execute_result"
        }
      ]
    },
    {
      "cell_type": "code",
      "metadata": {
        "id": "ZTaLbY3JuGQy"
      },
      "source": [
        "test_tree_predict = dtc.predict(X_test)\n",
        "test_naive_predict = nbc.predict(X_test)\n",
        "test_random_forest_predict = rfc.predict(X_test)"
      ],
      "execution_count": null,
      "outputs": []
    },
    {
      "cell_type": "code",
      "metadata": {
        "colab": {
          "base_uri": "https://localhost:8080/",
          "height": 446
        },
        "id": "W4ayJJJ5TSe2",
        "outputId": "6bff86b4-3f61-4698-ecca-34c957f28a16"
      },
      "source": [
        "print_confusion_matrix(test_tree_predict,y_test, [\"0\", \"1\"])"
      ],
      "execution_count": null,
      "outputs": [
        {
          "name": "stdout",
          "output_type": "stream",
          "text": [
            "              precision    recall  f1-score   support\n",
            "\n",
            "           0       0.24      0.44      0.31       600\n",
            "           1       0.74      0.55      0.63      1800\n",
            "\n",
            "    accuracy                           0.52      2400\n",
            "   macro avg       0.49      0.49      0.47      2400\n",
            "weighted avg       0.62      0.52      0.55      2400\n",
            "\n"
          ]
        },
        {
          "data": {
            "image/png": "[encoded data removed]",
            "text/plain": [
              "<Figure size 432x288 with 2 Axes>"
            ]
          },
          "metadata": {},
          "output_type": "display_data"
        }
      ]
    },
    {
      "cell_type": "code",
      "metadata": {
        "colab": {
          "base_uri": "https://localhost:8080/",
          "height": 446
        },
        "id": "_M62vF_dTWrb",
        "outputId": "06e36de4-0852-4c2f-8cab-5392d00ecd50"
      },
      "source": [
        "print_confusion_matrix(test_naive_predict, y_test, [\"0\", \"1\"])"
      ],
      "execution_count": null,
      "outputs": [
        {
          "name": "stdout",
          "output_type": "stream",
          "text": [
            "              precision    recall  f1-score   support\n",
            "\n",
            "           0       0.25      0.02      0.04       600\n",
            "           1       0.75      0.98      0.85      1800\n",
            "\n",
            "    accuracy                           0.74      2400\n",
            "   macro avg       0.50      0.50      0.45      2400\n",
            "weighted avg       0.62      0.74      0.65      2400\n",
            "\n"
          ]
        },
        {
          "data": {
            "image/png": "[encoded data removed]",
            "text/plain": [
              "<Figure size 432x288 with 2 Axes>"
            ]
          },
          "metadata": {},
          "output_type": "display_data"
        }
      ]
    },
    {
      "cell_type": "code",
      "metadata": {
        "colab": {
          "base_uri": "https://localhost:8080/",
          "height": 446
        },
        "id": "BlhMD1ahTXAc",
        "outputId": "9565362e-0655-4c24-8e78-c50c3c402288"
      },
      "source": [
        "print_confusion_matrix(test_random_forest_predict,y_test, [\"0\", \"1\"])"
      ],
      "execution_count": null,
      "outputs": [
        {
          "name": "stdout",
          "output_type": "stream",
          "text": [
            "              precision    recall  f1-score   support\n",
            "\n",
            "           0       0.28      0.46      0.35       600\n",
            "           1       0.77      0.62      0.69      1800\n",
            "\n",
            "    accuracy                           0.58      2400\n",
            "   macro avg       0.53      0.54      0.52      2400\n",
            "weighted avg       0.65      0.58      0.60      2400\n",
            "\n"
          ]
        },
        {
          "data": {
            "image/png": "[encoded data removed]",
            "text/plain": [
              "<Figure size 432x288 with 2 Axes>"
            ]
          },
          "metadata": {},
          "output_type": "display_data"
        }
      ]
    },
    {
      "cell_type": "code",
      "metadata": {
        "colab": {
          "base_uri": "https://localhost:8080/"
        },
        "id": "tADymSdZtQ2E",
        "outputId": "94b97dd9-1835-4991-f1b2-1ef2e56d9be5"
      },
      "source": [
        "from sklearn.model_selection import StratifiedKFold, RandomizedSearchCV\n",
        "from sklearn.metrics import accuracy_score\n",
        "\n",
        "\n",
        "parameters_rf = {\n",
        "          \"criterion\":['gini','entropy'],\n",
        "          \"max_depth\": [3,5,None],\n",
        "          \"max_features\": [None, \"auto\"],\n",
        "          \"min_samples_leaf\": [1, 5],\n",
        "          \"min_samples_split\": [2, 5],\n",
        "          'bootstrap': [False, True],\n",
        "          'max_samples': [0.5, 1],\n",
        "          'n_estimators': [2, 5, 100],\n",
        "          \"oob_score\":[False, True],\n",
        "           \"random_state\":[None,2]\n",
        "         }\n",
        "\n",
        "\n",
        "gs_rf = RandomizedSearchCV(rfc, parameters_rf, scoring='accuracy', n_jobs=3)\n",
        "gs_rf.fit(xtrain, ytrain)"
      ],
      "execution_count": null,
      "outputs": [
        {
          "data": {
            "text/plain": [
              "RandomizedSearchCV(cv=None, error_score=nan,\n",
              "                   estimator=RandomForestClassifier(bootstrap=True,\n",
              "                                                    ccp_alpha=0.0,\n",
              "                                                    class_weight=None,\n",
              "                                                    criterion='gini',\n",
              "                                                    max_depth=None,\n",
              "                                                    max_features='auto',\n",
              "                                                    max_leaf_nodes=None,\n",
              "                                                    max_samples=None,\n",
              "                                                    min_impurity_decrease=0.0,\n",
              "                                                    min_impurity_split=None,\n",
              "                                                    min_samples_leaf=1,\n",
              "                                                    min_samples_split=2,\n",
              "                                                    min_weight_fraction_leaf=0.0,\n",
              "                                                    n_estimators=100,\n",
              "                                                    n_j...\n",
              "                   param_distributions={'bootstrap': [False, True],\n",
              "                                        'criterion': ['gini', 'entropy'],\n",
              "                                        'max_depth': [3, 5, None],\n",
              "                                        'max_features': [None, 'auto'],\n",
              "                                        'max_samples': [0.5, 1],\n",
              "                                        'min_samples_leaf': [1, 5],\n",
              "                                        'min_samples_split': [2, 5],\n",
              "                                        'n_estimators': [2, 5, 100],\n",
              "                                        'oob_score': [False, True],\n",
              "                                        'random_state': [None, 2]},\n",
              "                   pre_dispatch='2*n_jobs', random_state=None, refit=True,\n",
              "                   return_train_score=False, scoring='accuracy', verbose=0)"
            ]
          },
          "execution_count": 76,
          "metadata": {},
          "output_type": "execute_result"
        }
      ]
    },
    {
      "cell_type": "code",
      "metadata": {
        "colab": {
          "base_uri": "https://localhost:8080/",
          "height": 698
        },
        "id": "OqBbTdtm8XKA",
        "outputId": "abe08a36-f4f1-4efa-c5c8-0387394274e2"
      },
      "source": [
        "print(\"Best score: %0.3f\" % gs_rf.best_score_) \n",
        "print(\"Best parameters set:\" )\n",
        "best_parameters_rf = gs_rf.best_estimator_.get_params()\n",
        "for param_name_rf in sorted (parameters_rf . keys()): \n",
        "                    print(\"\\t %s: %r\" % (param_name_rf, best_parameters_rf[param_name_rf]))\n",
        "        \n",
        "y_pred = gs_rf.predict(X_test)\n",
        "\n",
        "# print(classification_report(y_test, y_pred))\n",
        "print(\"accuracy: \",accuracy_score(y_test, y_pred))\n",
        "print_confusion_matrix( y_pred,y_test, [\"0\", \"1\"])"
      ],
      "execution_count": null,
      "outputs": [
        {
          "name": "stdout",
          "output_type": "stream",
          "text": [
            "Best score: 0.750\n",
            "Best parameters set:\n",
            "\t bootstrap: True\n",
            "\t criterion: 'gini'\n",
            "\t max_depth: None\n",
            "\t max_features: 'auto'\n",
            "\t max_samples: 1\n",
            "\t min_samples_leaf: 5\n",
            "\t min_samples_split: 2\n",
            "\t n_estimators: 5\n",
            "\t oob_score: False\n",
            "\t random_state: 2\n",
            "accuracy:  0.75\n",
            "              precision    recall  f1-score   support\n",
            "\n",
            "           0       0.00      0.00      0.00       600\n",
            "           1       0.75      1.00      0.86      1800\n",
            "\n",
            "    accuracy                           0.75      2400\n",
            "   macro avg       0.38      0.50      0.43      2400\n",
            "weighted avg       0.56      0.75      0.64      2400\n",
            "\n"
          ]
        },
        {
          "name": "stderr",
          "output_type": "stream",
          "text": [
            "/usr/local/lib/python3.7/dist-packages/sklearn/metrics/_classification.py:1272: UndefinedMetricWarning: Precision and F-score are ill-defined and being set to 0.0 in labels with no predicted samples. Use `zero_division` parameter to control this behavior.\n",
            "  _warn_prf(average, modifier, msg_start, len(result))\n"
          ]
        },
        {
          "data": {
            "image/png": "[encoded data removed]",
            "text/plain": [
              "<Figure size 432x288 with 2 Axes>"
            ]
          },
          "metadata": {},
          "output_type": "display_data"
        }
      ]
    },
    {
      "cell_type": "code",
      "metadata": {
        "colab": {
          "base_uri": "https://localhost:8080/",
          "height": 278
        },
        "id": "IvzVBmQnufZJ",
        "outputId": "e37c4e81-94a2-4d8a-f471-ea23bbef4f8d"
      },
      "source": [
        "from sklearn.metrics import roc_curve, auc\n",
        "import matplotlib.pyplot as plt\n",
        "\n",
        "actual = y_test\n",
        "decision_tree_prob = [p[1] for p in dtc.predict_proba(X_test)]\n",
        "naive_bayes_prob = [p[1] for p in nbc.predict_proba(X_test)]\n",
        "random_forest_prob = [p[1] for p in rfc.predict_proba(X_test)]\n",
        "random_forest_prob_1 = [p[1] for p in gs_rf.predict_proba(X_test)]\n",
        "\n",
        "\n",
        "dt_false_pos, dt_true_pos, _ = roc_curve(actual, decision_tree_prob)\n",
        "dt_auc = auc(dt_false_pos, dt_true_pos)\n",
        "\n",
        "nb_false_pos, nb_true_pos, _ = roc_curve(actual, naive_bayes_prob)\n",
        "nb_auc = auc(nb_false_pos, nb_true_pos)\n",
        "\n",
        "rf_false_pos, rf_true_pos, _ = roc_curve(actual, random_forest_prob)\n",
        "rf_auc = auc(rf_false_pos, rf_true_pos)\n",
        "\n",
        "gs_rf_false_pos, gs_rf_true_pos, _ = roc_curve(actual, random_forest_prob_1)\n",
        "gs_rf_auc = auc(gs_rf_false_pos, gs_rf_true_pos)\n",
        "\n",
        "# plot\n",
        "plt.plot(dt_false_pos, dt_true_pos, 'r', label='Decision Tree AUC = %0.2f'% dt_auc)\n",
        "plt.plot(nb_false_pos, nb_true_pos, 'g', label='Naive Bayes AUC = %0.2f'% nb_auc)\n",
        "plt.plot(rf_false_pos, rf_true_pos, 'b', label='Random Forest AUC = %0.2f'% rf_auc)\n",
        "plt.plot(gs_rf_false_pos, gs_rf_true_pos, 'y', label='GS Random Forest AUC = %0.2f'% gs_rf_auc)\n",
        "\n",
        "\n",
        "plt.legend(loc='lower right')\n",
        "plt.plot([0,1], [0,1], 'r--')\n",
        "plt.ylabel('True Positive Rate')\n",
        "plt.xlabel('False Positive Rate')\n",
        "plt.show()"
      ],
      "execution_count": null,
      "outputs": [
        {
          "data": {
            "image/png": "[encoded data removed]",
            "text/plain": [
              "<Figure size 432x288 with 1 Axes>"
            ]
          },
          "metadata": {},
          "output_type": "display_data"
        }
      ]
    },
    {
      "cell_type": "code",
      "metadata": {
        "id": "9jCuGZAEvaBg"
      },
      "source": [
        "X_train_norm = xtrain\n",
        "X_test_norm = X_test"
      ],
      "execution_count": null,
      "outputs": []
    },
    {
      "cell_type": "code",
      "metadata": {
        "colab": {
          "base_uri": "https://localhost:8080/"
        },
        "id": "SHCXU5iLHJSW",
        "outputId": "21275ee9-b505-4808-e589-13682586f797"
      },
      "source": [
        "!pip install catboost"
      ],
      "execution_count": null,
      "outputs": [
        {
          "name": "stdout",
          "output_type": "stream",
          "text": [
            "Collecting catboost\n",
            "  Downloading catboost-0.26.1-cp37-none-manylinux1_x86_64.whl (67.4 MB)\n",
            "\u001b[K     |████████████████████████████████| 67.4 MB 29 kB/s \n",
            "\u001b[?25hRequirement already satisfied: matplotlib in /usr/local/lib/python3.7/dist-packages (from catboost) (3.2.2)\n",
            "Requirement already satisfied: pandas>=0.24.0 in /usr/local/lib/python3.7/dist-packages (from catboost) (1.1.5)\n",
            "Requirement already satisfied: plotly in /usr/local/lib/python3.7/dist-packages (from catboost) (4.4.1)\n",
            "Requirement already satisfied: numpy>=1.16.0 in /usr/local/lib/python3.7/dist-packages (from catboost) (1.19.5)\n",
            "Requirement already satisfied: scipy in /usr/local/lib/python3.7/dist-packages (from catboost) (1.4.1)\n",
            "Requirement already satisfied: graphviz in /usr/local/lib/python3.7/dist-packages (from catboost) (0.10.1)\n",
            "Requirement already satisfied: six in /usr/local/lib/python3.7/dist-packages (from catboost) (1.15.0)\n",
            "Requirement already satisfied: python-dateutil>=2.7.3 in /usr/local/lib/python3.7/dist-packages (from pandas>=0.24.0->catboost) (2.8.2)\n",
            "Requirement already satisfied: pytz>=2017.2 in /usr/local/lib/python3.7/dist-packages (from pandas>=0.24.0->catboost) (2018.9)\n",
            "Requirement already satisfied: pyparsing!=2.0.4,!=2.1.2,!=2.1.6,>=2.0.1 in /usr/local/lib/python3.7/dist-packages (from matplotlib->catboost) (2.4.7)\n",
            "Requirement already satisfied: kiwisolver>=1.0.1 in /usr/local/lib/python3.7/dist-packages (from matplotlib->catboost) (1.3.1)\n",
            "Requirement already satisfied: cycler>=0.10 in /usr/local/lib/python3.7/dist-packages (from matplotlib->catboost) (0.10.0)\n",
            "Requirement already satisfied: retrying>=1.3.3 in /usr/local/lib/python3.7/dist-packages (from plotly->catboost) (1.3.3)\n",
            "Installing collected packages: catboost\n",
            "Successfully installed catboost-0.26.1\n"
          ]
        }
      ]
    },
    {
      "cell_type": "code",
      "metadata": {
        "id": "4yEJP7H1HHqQ"
      },
      "source": [
        "from catboost import Pool, cv, CatBoostClassifier, CatBoostRegressor"
      ],
      "execution_count": null,
      "outputs": []
    },
    {
      "cell_type": "code",
      "metadata": {
        "id": "yOpNC5EIG2sE"
      },
      "source": [
        "train_pool = Pool(data=xtrain,label = ytrain)"
      ],
      "execution_count": null,
      "outputs": []
    },
    {
      "cell_type": "code",
      "metadata": {
        "id": "rZyM7CCCbKdj"
      },
      "source": [
        "import sklearn.metrics as metrics"
      ],
      "execution_count": null,
      "outputs": []
    },
    {
      "cell_type": "code",
      "metadata": {
        "colab": {
          "base_uri": "https://localhost:8080/",
          "height": 33,
          "referenced_widgets": [
            "a62acfcdbe114e13aceb7ecd880ad051"
          ]
        },
        "id": "Ozg2jw8LG-_h",
        "outputId": "faae2ef2-4fa7-4d9b-8ea0-3d709f60228c"
      },
      "source": [
        "model_basic = CatBoostClassifier()\n",
        "model_basic.fit(train_pool, plot=True,silent=True)\n",
        "print(model_basic.get_best_score())\n",
        "\n",
        "predicted_values = model_basic.predict(X_test)"
      ],
      "execution_count": null,
      "outputs": [
        {
          "data": {
            "application/vnd.jupyter.widget-view+json": {
              "model_id": "a62acfcdbe114e13aceb7ecd880ad051",
              "version_major": 2,
              "version_minor": 0
            },
            "text/plain": [
              "MetricVisualizer(layout=Layout(align_self='stretch', height='500px'))"
            ]
          },
          "metadata": {},
          "output_type": "display_data"
        },
        {
          "name": "stdout",
          "output_type": "stream",
          "text": [
            "{'learn': {'Logloss': 0.21628284270175893}}\n"
          ]
        }
      ]
    },
    {
      "cell_type": "code",
      "metadata": {
        "colab": {
          "base_uri": "https://localhost:8080/",
          "height": 463
        },
        "id": "T0wyhJbKPmP2",
        "outputId": "27b2d5bd-413e-4507-c4d3-04b8f3e604c0"
      },
      "source": [
        "print_confusion_matrix(predicted_values, y_test, [\"0\", \"1\"])\n",
        "print(\"Accuracy:\", metrics.accuracy_score(y_test, predicted_values))"
      ],
      "execution_count": null,
      "outputs": [
        {
          "name": "stdout",
          "output_type": "stream",
          "text": [
            "              precision    recall  f1-score   support\n",
            "\n",
            "           0       0.35      0.41      0.38       600\n",
            "           1       0.79      0.75      0.77      1800\n",
            "\n",
            "    accuracy                           0.66      2400\n",
            "   macro avg       0.57      0.58      0.57      2400\n",
            "weighted avg       0.68      0.66      0.67      2400\n",
            "\n",
            "Accuracy: 0.6629166666666667\n"
          ]
        },
        {
          "data": {
            "image/png": "[encoded data removed]",
            "text/plain": [
              "<Figure size 432x288 with 2 Axes>"
            ]
          },
          "metadata": {},
          "output_type": "display_data"
        }
      ]
    },
    {
      "cell_type": "code",
      "metadata": {
        "id": "4yciljC9FaTN"
      },
      "source": [
        "from sklearn.preprocessing import MinMaxScaler\n",
        "from sklearn.ensemble import GradientBoostingClassifier"
      ],
      "execution_count": null,
      "outputs": []
    },
    {
      "cell_type": "code",
      "metadata": {
        "colab": {
          "base_uri": "https://localhost:8080/",
          "height": 1000
        },
        "id": "0CFGIyWv4ks6",
        "outputId": "67b09e7b-2765-4c92-8d3c-5eabf2010b50"
      },
      "source": [
        "lr_list = [ 0.5, 0.75, 1, 1.1, 1.2, 1.3, 1.4, 1.5, 2, 3, 4, 5, 6.3, 7.7, 10, 20, 30, 45, 55, 62, 77, 84, 90]\n",
        "\n",
        "for learning_rate in lr_list:\n",
        "    gb_clf = GradientBoostingClassifier(n_estimators=100, learning_rate=learning_rate, max_features=10, max_depth=10, random_state=0)\n",
        "    gb_clf.fit(xtrain, ytrain)\n",
        "    predicted_values = gb_clf.predict(X_test)\n",
        "\n",
        "    print(\"Learning rate: \", learning_rate)\n",
        "    print_confusion_matrix(predicted_values, y_test, [\"0\", \"1\"])\n",
        "    plt.show()"
      ],
      "execution_count": null,
      "outputs": [
        {
          "name": "stdout",
          "output_type": "stream",
          "text": [
            "Learning rate:  0.5\n",
            "              precision    recall  f1-score   support\n",
            "\n",
            "           0       0.27      0.61      0.38       600\n",
            "           1       0.78      0.45      0.57      1800\n",
            "\n",
            "    accuracy                           0.49      2400\n",
            "   macro avg       0.52      0.53      0.47      2400\n",
            "weighted avg       0.65      0.49      0.52      2400\n",
            "\n"
          ]
        },
        {
          "data": {
            "image/png": "[encoded data removed]",
            "text/plain": [
              "<Figure size 432x288 with 2 Axes>"
            ]
          },
          "metadata": {},
          "output_type": "display_data"
        },
        {
          "name": "stdout",
          "output_type": "stream",
          "text": [
            "Learning rate:  0.75\n",
            "              precision    recall  f1-score   support\n",
            "\n",
            "           0       0.28      0.61      0.38       600\n",
            "           1       0.78      0.46      0.58      1800\n",
            "\n",
            "    accuracy                           0.50      2400\n",
            "   macro avg       0.53      0.54      0.48      2400\n",
            "weighted avg       0.66      0.50      0.53      2400\n",
            "\n"
          ]
        },
        {
          "data": {
            "image/png": "[encoded data removed]",
            "text/plain": [
              "<Figure size 432x288 with 2 Axes>"
            ]
          },
          "metadata": {},
          "output_type": "display_data"
        },
        {
          "name": "stdout",
          "output_type": "stream",
          "text": [
            "Learning rate:  1\n",
            "              precision    recall  f1-score   support\n",
            "\n",
            "           0       0.29      0.63      0.39       600\n",
            "           1       0.79      0.47      0.59      1800\n",
            "\n",
            "    accuracy                           0.51      2400\n",
            "   macro avg       0.54      0.55      0.49      2400\n",
            "weighted avg       0.67      0.51      0.54      2400\n",
            "\n"
          ]
        },
        {
          "data": {
            "image/png": "[encoded data removed]",
            "text/plain": [
              "<Figure size 432x288 with 2 Axes>"
            ]
          },
          "metadata": {},
          "output_type": "display_data"
        },
        {
          "name": "stdout",
          "output_type": "stream",
          "text": [
            "Learning rate:  1.1\n",
            "              precision    recall  f1-score   support\n",
            "\n",
            "           0       0.26      0.69      0.38       600\n",
            "           1       0.78      0.36      0.49      1800\n",
            "\n",
            "    accuracy                           0.44      2400\n",
            "   macro avg       0.52      0.53      0.44      2400\n",
            "weighted avg       0.65      0.44      0.47      2400\n",
            "\n"
          ]
        },
        {
          "data": {
            "image/png": "[encoded data removed]",
            "text/plain": [
              "<Figure size 432x288 with 2 Axes>"
            ]
          },
          "metadata": {},
          "output_type": "display_data"
        },
        {
          "name": "stdout",
          "output_type": "stream",
          "text": [
            "Learning rate:  1.2\n",
            "              precision    recall  f1-score   support\n",
            "\n",
            "           0       0.28      0.68      0.39       600\n",
            "           1       0.79      0.41      0.54      1800\n",
            "\n",
            "    accuracy                           0.48      2400\n",
            "   macro avg       0.53      0.54      0.47      2400\n",
            "weighted avg       0.66      0.48      0.50      2400\n",
            "\n"
          ]
        },
        {
          "data": {
            "image/png": "[encoded data removed]",
            "text/plain": [
              "<Figure size 432x288 with 2 Axes>"
            ]
          },
          "metadata": {},
          "output_type": "display_data"
        },
        {
          "name": "stdout",
          "output_type": "stream",
          "text": [
            "Learning rate:  1.3\n",
            "              precision    recall  f1-score   support\n",
            "\n",
            "           0       0.26      0.60      0.37       600\n",
            "           1       0.77      0.44      0.56      1800\n",
            "\n",
            "    accuracy                           0.48      2400\n",
            "   macro avg       0.52      0.52      0.46      2400\n",
            "weighted avg       0.64      0.48      0.51      2400\n",
            "\n"
          ]
        },
        {
          "data": {
            "image/png": "[encoded data removed]",
            "text/plain": [
              "<Figure size 432x288 with 2 Axes>"
            ]
          },
          "metadata": {},
          "output_type": "display_data"
        },
        {
          "name": "stdout",
          "output_type": "stream",
          "text": [
            "Learning rate:  1.4\n",
            "              precision    recall  f1-score   support\n",
            "\n",
            "           0       0.27      0.60      0.37       600\n",
            "           1       0.78      0.47      0.58      1800\n",
            "\n",
            "    accuracy                           0.50      2400\n",
            "   macro avg       0.53      0.53      0.48      2400\n",
            "weighted avg       0.65      0.50      0.53      2400\n",
            "\n"
          ]
        },
        {
          "data": {
            "image/png": "[encoded data removed]",
            "text/plain": [
              "<Figure size 432x288 with 2 Axes>"
            ]
          },
          "metadata": {},
          "output_type": "display_data"
        },
        {
          "name": "stdout",
          "output_type": "stream",
          "text": [
            "Learning rate:  1.5\n",
            "              precision    recall  f1-score   support\n",
            "\n",
            "           0       0.27      0.56      0.36       600\n",
            "           1       0.77      0.50      0.60      1800\n",
            "\n",
            "    accuracy                           0.51      2400\n",
            "   macro avg       0.52      0.53      0.48      2400\n",
            "weighted avg       0.65      0.51      0.54      2400\n",
            "\n"
          ]
        },
        {
          "data": {
            "image/png": "[encoded data removed]",
            "text/plain": [
              "<Figure size 432x288 with 2 Axes>"
            ]
          },
          "metadata": {},
          "output_type": "display_data"
        },
        {
          "name": "stdout",
          "output_type": "stream",
          "text": [
            "Learning rate:  2\n",
            "              precision    recall  f1-score   support\n",
            "\n",
            "           0       0.27      0.56      0.36       600\n",
            "           1       0.77      0.50      0.61      1800\n",
            "\n",
            "    accuracy                           0.51      2400\n",
            "   macro avg       0.52      0.53      0.49      2400\n",
            "weighted avg       0.65      0.51      0.55      2400\n",
            "\n"
          ]
        },
        {
          "data": {
            "image/png": "[encoded data removed]",
            "text/plain": [
              "<Figure size 432x288 with 2 Axes>"
            ]
          },
          "metadata": {},
          "output_type": "display_data"
        },
        {
          "name": "stdout",
          "output_type": "stream",
          "text": [
            "Learning rate:  3\n",
            "              precision    recall  f1-score   support\n",
            "\n",
            "           0       0.25      0.46      0.32       600\n",
            "           1       0.75      0.54      0.63      1800\n",
            "\n",
            "    accuracy                           0.52      2400\n",
            "   macro avg       0.50      0.50      0.48      2400\n",
            "weighted avg       0.63      0.52      0.55      2400\n",
            "\n"
          ]
        },
        {
          "data": {
            "image/png": "[encoded data removed]",
            "text/plain": [
              "<Figure size 432x288 with 2 Axes>"
            ]
          },
          "metadata": {},
          "output_type": "display_data"
        },
        {
          "name": "stdout",
          "output_type": "stream",
          "text": [
            "Learning rate:  4\n",
            "              precision    recall  f1-score   support\n",
            "\n",
            "           0       0.28      0.47      0.35       600\n",
            "           1       0.77      0.59      0.67      1800\n",
            "\n",
            "    accuracy                           0.56      2400\n",
            "   macro avg       0.52      0.53      0.51      2400\n",
            "weighted avg       0.65      0.56      0.59      2400\n",
            "\n"
          ]
        },
        {
          "data": {
            "image/png": "[encoded data removed]",
            "text/plain": [
              "<Figure size 432x288 with 2 Axes>"
            ]
          },
          "metadata": {},
          "output_type": "display_data"
        },
        {
          "name": "stdout",
          "output_type": "stream",
          "text": [
            "Learning rate:  5\n",
            "              precision    recall  f1-score   support\n",
            "\n",
            "           0       0.27      0.47      0.34       600\n",
            "           1       0.76      0.57      0.66      1800\n",
            "\n",
            "    accuracy                           0.55      2400\n",
            "   macro avg       0.52      0.52      0.50      2400\n",
            "weighted avg       0.64      0.55      0.58      2400\n",
            "\n"
          ]
        },
        {
          "data": {
            "image/png": "[encoded data removed]",
            "text/plain": [
              "<Figure size 432x288 with 2 Axes>"
            ]
          },
          "metadata": {},
          "output_type": "display_data"
        },
        {
          "name": "stdout",
          "output_type": "stream",
          "text": [
            "Learning rate:  6.3\n",
            "              precision    recall  f1-score   support\n",
            "\n",
            "           0       0.23      0.29      0.26       600\n",
            "           1       0.74      0.68      0.71      1800\n",
            "\n",
            "    accuracy                           0.58      2400\n",
            "   macro avg       0.49      0.48      0.48      2400\n",
            "weighted avg       0.61      0.58      0.60      2400\n",
            "\n"
          ]
        },
        {
          "data": {
            "image/png": "[encoded data removed]",
            "text/plain": [
              "<Figure size 432x288 with 2 Axes>"
            ]
          },
          "metadata": {},
          "output_type": "display_data"
        },
        {
          "name": "stdout",
          "output_type": "stream",
          "text": [
            "Learning rate:  7.7\n",
            "              precision    recall  f1-score   support\n",
            "\n",
            "           0       0.26      0.40      0.31       600\n",
            "           1       0.75      0.61      0.67      1800\n",
            "\n",
            "    accuracy                           0.56      2400\n",
            "   macro avg       0.51      0.51      0.49      2400\n",
            "weighted avg       0.63      0.56      0.58      2400\n",
            "\n"
          ]
        },
        {
          "data": {
            "image/png": "[encoded data removed]",
            "text/plain": [
              "<Figure size 432x288 with 2 Axes>"
            ]
          },
          "metadata": {},
          "output_type": "display_data"
        },
        {
          "name": "stdout",
          "output_type": "stream",
          "text": [
            "Learning rate:  10\n",
            "              precision    recall  f1-score   support\n",
            "\n",
            "           0       0.26      0.46      0.33       600\n",
            "           1       0.75      0.56      0.64      1800\n",
            "\n",
            "    accuracy                           0.53      2400\n",
            "   macro avg       0.51      0.51      0.48      2400\n",
            "weighted avg       0.63      0.53      0.56      2400\n",
            "\n"
          ]
        },
        {
          "data": {
            "image/png": "[encoded data removed]",
            "text/plain": [
              "<Figure size 432x288 with 2 Axes>"
            ]
          },
          "metadata": {},
          "output_type": "display_data"
        },
        {
          "name": "stdout",
          "output_type": "stream",
          "text": [
            "Learning rate:  20\n",
            "              precision    recall  f1-score   support\n",
            "\n",
            "           0       0.24      0.43      0.31       600\n",
            "           1       0.74      0.56      0.64      1800\n",
            "\n",
            "    accuracy                           0.52      2400\n",
            "   macro avg       0.49      0.49      0.47      2400\n",
            "weighted avg       0.62      0.52      0.55      2400\n",
            "\n"
          ]
        },
        {
          "data": {
            "image/png": "[encoded data removed]",
            "text/plain": [
              "<Figure size 432x288 with 2 Axes>"
            ]
          },
          "metadata": {},
          "output_type": "display_data"
        },
        {
          "name": "stdout",
          "output_type": "stream",
          "text": [
            "Learning rate:  30\n",
            "              precision    recall  f1-score   support\n",
            "\n",
            "           0       0.27      0.41      0.32       600\n",
            "           1       0.76      0.63      0.69      1800\n",
            "\n",
            "    accuracy                           0.57      2400\n",
            "   macro avg       0.52      0.52      0.51      2400\n",
            "weighted avg       0.64      0.57      0.60      2400\n",
            "\n"
          ]
        },
        {
          "data": {
            "image/png": "[encoded data removed]",
            "text/plain": [
              "<Figure size 432x288 with 2 Axes>"
            ]
          },
          "metadata": {},
          "output_type": "display_data"
        },
        {
          "name": "stdout",
          "output_type": "stream",
          "text": [
            "Learning rate:  45\n",
            "              precision    recall  f1-score   support\n",
            "\n",
            "           0       0.26      0.49      0.33       600\n",
            "           1       0.75      0.53      0.62      1800\n",
            "\n",
            "    accuracy                           0.52      2400\n",
            "   macro avg       0.51      0.51      0.48      2400\n",
            "weighted avg       0.63      0.52      0.55      2400\n",
            "\n"
          ]
        },
        {
          "data": {
            "image/png": "[encoded data removed]",
            "text/plain": [
              "<Figure size 432x288 with 2 Axes>"
            ]
          },
          "metadata": {},
          "output_type": "display_data"
        },
        {
          "name": "stdout",
          "output_type": "stream",
          "text": [
            "Learning rate:  55\n",
            "              precision    recall  f1-score   support\n",
            "\n",
            "           0       0.28      0.40      0.33       600\n",
            "           1       0.77      0.66      0.71      1800\n",
            "\n",
            "    accuracy                           0.59      2400\n",
            "   macro avg       0.52      0.53      0.52      2400\n",
            "weighted avg       0.65      0.59      0.61      2400\n",
            "\n"
          ]
        },
        {
          "data": {
            "image/png": "[encoded data removed]",
            "text/plain": [
              "<Figure size 432x288 with 2 Axes>"
            ]
          },
          "metadata": {},
          "output_type": "display_data"
        },
        {
          "name": "stdout",
          "output_type": "stream",
          "text": [
            "Learning rate:  62\n",
            "              precision    recall  f1-score   support\n",
            "\n",
            "           0       0.26      0.49      0.34       600\n",
            "           1       0.76      0.54      0.63      1800\n",
            "\n",
            "    accuracy                           0.53      2400\n",
            "   macro avg       0.51      0.52      0.49      2400\n",
            "weighted avg       0.64      0.53      0.56      2400\n",
            "\n"
          ]
        },
        {
          "data": {
            "image/png": "[encoded data removed]",
            "text/plain": [
              "<Figure size 432x288 with 2 Axes>"
            ]
          },
          "metadata": {},
          "output_type": "display_data"
        },
        {
          "name": "stdout",
          "output_type": "stream",
          "text": [
            "Learning rate:  77\n",
            "              precision    recall  f1-score   support\n",
            "\n",
            "           0       0.25      0.44      0.32       600\n",
            "           1       0.75      0.56      0.64      1800\n",
            "\n",
            "    accuracy                           0.53      2400\n",
            "   macro avg       0.50      0.50      0.48      2400\n",
            "weighted avg       0.62      0.53      0.56      2400\n",
            "\n"
          ]
        },
        {
          "data": {
            "image/png": "[encoded data removed]",
            "text/plain": [
              "<Figure size 432x288 with 2 Axes>"
            ]
          },
          "metadata": {},
          "output_type": "display_data"
        },
        {
          "name": "stdout",
          "output_type": "stream",
          "text": [
            "Learning rate:  84\n",
            "              precision    recall  f1-score   support\n",
            "\n",
            "           0       0.26      0.48      0.34       600\n",
            "           1       0.76      0.54      0.63      1800\n",
            "\n",
            "    accuracy                           0.53      2400\n",
            "   macro avg       0.51      0.51      0.48      2400\n",
            "weighted avg       0.63      0.53      0.56      2400\n",
            "\n"
          ]
        },
        {
          "data": {
            "image/png": "[encoded data removed]",
            "text/plain": [
              "<Figure size 432x288 with 2 Axes>"
            ]
          },
          "metadata": {},
          "output_type": "display_data"
        },
        {
          "name": "stdout",
          "output_type": "stream",
          "text": [
            "Learning rate:  90\n",
            "              precision    recall  f1-score   support\n",
            "\n",
            "           0       0.26      0.52      0.35       600\n",
            "           1       0.76      0.50      0.61      1800\n",
            "\n",
            "    accuracy                           0.51      2400\n",
            "   macro avg       0.51      0.51      0.48      2400\n",
            "weighted avg       0.63      0.51      0.54      2400\n",
            "\n"
          ]
        },
        {
          "data": {
            "image/png": "[encoded data removed]",
            "text/plain": [
              "<Figure size 432x288 with 2 Axes>"
            ]
          },
          "metadata": {},
          "output_type": "display_data"
        }
      ]
    },
    {
      "cell_type": "code",
      "metadata": {
        "id": "FSa4s9KAchAf"
      },
      "source": [
        "from sklearn.model_selection import train_test_split\n",
        "import scipy.stats as st"
      ],
      "execution_count": null,
      "outputs": []
    },
    {
      "cell_type": "code",
      "metadata": {
        "id": "APw2Zh054PXq"
      },
      "source": [
        "X_val, X_test_1, y_val, y_test_1 = train_test_split(X_test, y_test, test_size=0.7, random_state=42)"
      ],
      "execution_count": null,
      "outputs": []
    },
    {
      "cell_type": "code",
      "metadata": {
        "colab": {
          "base_uri": "https://localhost:8080/"
        },
        "id": "utRGrQlxcVZa",
        "outputId": "213f26b6-863d-4398-b66b-3e042fb62b28"
      },
      "source": [
        "from sklearn.model_selection import  GridSearchCV, RandomizedSearchCV\n",
        "from sklearn.metrics import roc_auc_score\n",
        "from sklearn.model_selection import KFold\n",
        "from xgboost import XGBClassifier\n",
        "from sklearn.metrics import roc_auc_score\n",
        "from sklearn.model_selection import StratifiedKFold, KFold\n",
        "\n",
        "from sklearn.metrics import (confusion_matrix, precision_recall_curve, auc,\n",
        "                             roc_curve, recall_score, classification_report, f1_score,\n",
        "                             precision_recall_fscore_support, roc_auc_score)\n",
        "\n",
        "gkf = KFold(n_splits=3, shuffle=True, random_state=42).split(X=xtrain, y=ytrain)\n",
        "fit_params_of_xgb = {\n",
        "    \"early_stopping_rounds\":100, \n",
        "    \"eval_metric\" : 'auc', \n",
        "    \"eval_set\" : [(X_val,y_val)],\n",
        "    'verbose': 500,\n",
        "}\n",
        "params = {\n",
        "    'booster': [\"gbtree\"],\n",
        "    'learning_rate': [0.01],\n",
        "    'n_estimators': [3000],\n",
        "    'min_child_weight': [1],#1\n",
        "    'gamma': [0],\n",
        "    'subsample': [0.4],\n",
        "    'colsample_bytree': [0.8],\n",
        "    'max_depth': [4],\n",
        "    \"scale_pos_weight\": [1],\n",
        "    \"reg_alpha\":[1],#0.08\n",
        "}\n",
        "xgb_estimator = XGBClassifier(\n",
        "    objective='binary:logistic',\n",
        "    silent=True,\n",
        ")\n",
        "\n",
        "gsearch = GridSearchCV(\n",
        "    estimator=xgb_estimator,\n",
        "    param_grid=params,\n",
        "    scoring='roc_auc',\n",
        "    n_jobs=-1,\n",
        "    cv=gkf, verbose=3\n",
        ")\n",
        "xgb_model = gsearch.fit(X=xtrain, y=ytrain, **fit_params_of_xgb)\n",
        "gsearch.best_params_, gsearch.best_score_"
      ],
      "execution_count": null,
      "outputs": [
        {
          "name": "stdout",
          "output_type": "stream",
          "text": [
            "Fitting 3 folds for each of 1 candidates, totalling 3 fits\n"
          ]
        },
        {
          "name": "stderr",
          "output_type": "stream",
          "text": [
            "[Parallel(n_jobs=-1)]: Using backend LokyBackend with 2 concurrent workers.\n",
            "[Parallel(n_jobs=-1)]: Done   3 out of   3 | elapsed:  4.0min finished\n"
          ]
        },
        {
          "name": "stdout",
          "output_type": "stream",
          "text": [
            "[0]\tvalidation_0-auc:0.532572\n",
            "Will train until validation_0-auc hasn't improved in 100 rounds.\n",
            "Stopping. Best iteration:\n",
            "[263]\tvalidation_0-auc:0.664253\n",
            "\n"
          ]
        },
        {
          "data": {
            "text/plain": [
              "({'booster': 'gbtree',\n",
              "  'colsample_bytree': 0.8,\n",
              "  'gamma': 0,\n",
              "  'learning_rate': 0.01,\n",
              "  'max_depth': 4,\n",
              "  'min_child_weight': 1,\n",
              "  'n_estimators': 3000,\n",
              "  'reg_alpha': 1,\n",
              "  'scale_pos_weight': 1,\n",
              "  'subsample': 0.4},\n",
              " 0.7486572365037323)"
            ]
          },
          "execution_count": 90,
          "metadata": {},
          "output_type": "execute_result"
        }
      ]
    },
    {
      "cell_type": "code",
      "metadata": {
        "id": "SUj26D0N7YeH"
      },
      "source": [
        "predicted_values = xgb_model.predict(X_test)"
      ],
      "execution_count": null,
      "outputs": []
    },
    {
      "cell_type": "code",
      "metadata": {
        "colab": {
          "base_uri": "https://localhost:8080/",
          "height": 463
        },
        "id": "IhFQT6UaDuvb",
        "outputId": "944fe767-61e0-4ede-8ef8-bafff41f29c7"
      },
      "source": [
        "print_confusion_matrix(predicted_values, y_test, [\"0\", \"1\"])\n",
        "print(\"Accuracy:\", metrics.accuracy_score(y_test, predicted_values))"
      ],
      "execution_count": null,
      "outputs": [
        {
          "name": "stdout",
          "output_type": "stream",
          "text": [
            "              precision    recall  f1-score   support\n",
            "\n",
            "           0       0.41      0.16      0.23       600\n",
            "           1       0.77      0.92      0.84      1800\n",
            "\n",
            "    accuracy                           0.73      2400\n",
            "   macro avg       0.59      0.54      0.53      2400\n",
            "weighted avg       0.68      0.73      0.69      2400\n",
            "\n",
            "Accuracy: 0.7325\n"
          ]
        },
        {
          "data": {
            "image/png": "[encoded data removed]",
            "text/plain": [
              "<Figure size 432x288 with 2 Axes>"
            ]
          },
          "metadata": {},
          "output_type": "display_data"
        }
      ]
    },
    {
      "cell_type": "code",
      "metadata": {
        "colab": {
          "base_uri": "https://localhost:8080/",
          "height": 278
        },
        "id": "_w6VKlTlBuUi",
        "outputId": "5b0b54a4-188b-4c77-bf51-0f3b414e4ee8"
      },
      "source": [
        "actual = y_test\n",
        "xg_tree_prob = [p[1] for p in xgb_model.predict_proba(X_test)]\n",
        "\n",
        "\n",
        "dt_false_pos, dt_true_pos, _ = roc_curve(actual, xg_tree_prob)\n",
        "dt_auc = auc(dt_false_pos, dt_true_pos)\n",
        "\n",
        "# plot\n",
        "plt.plot(dt_false_pos, dt_true_pos, 'r', label='XGBoost Tree AUC = %0.2f'% dt_auc)\n",
        "\n",
        "\n",
        "plt.legend(loc='lower right')\n",
        "plt.plot([0,1], [0,1], 'r--')\n",
        "plt.ylabel('True Positive Rate')\n",
        "plt.xlabel('False Positive Rate')\n",
        "plt.show()"
      ],
      "execution_count": null,
      "outputs": [
        {
          "data": {
            "image/png": "[encoded data removed]",
            "text/plain": [
              "<Figure size 432x288 with 1 Axes>"
            ]
          },
          "metadata": {},
          "output_type": "display_data"
        }
      ]
    },
    {
      "cell_type": "code",
      "metadata": {
        "id": "VuVNnEikPOOV"
      },
      "source": [
        "from sklearn.neural_network import MLPClassifier\n",
        "\n",
        "clf = MLPClassifier((20, ), max_iter=100000).fit(xtrain, ytrain)"
      ],
      "execution_count": null,
      "outputs": []
    },
    {
      "cell_type": "code",
      "metadata": {
        "id": "gQLITkC9P0OJ"
      },
      "source": [
        "predicted_values = clf.predict(X_test)"
      ],
      "execution_count": null,
      "outputs": []
    },
    {
      "cell_type": "code",
      "metadata": {
        "colab": {
          "base_uri": "https://localhost:8080/",
          "height": 463
        },
        "id": "J7D4apu5PuDn",
        "outputId": "b3731c30-5833-429a-f461-34a2fd4b8c29"
      },
      "source": [
        "print_confusion_matrix(predicted_values, y_test, [\"0\", \"1\"])\n",
        "print(\"Accuracy:\", metrics.accuracy_score(y_test, predicted_values))"
      ],
      "execution_count": null,
      "outputs": [
        {
          "name": "stdout",
          "output_type": "stream",
          "text": [
            "              precision    recall  f1-score   support\n",
            "\n",
            "           0       0.35      0.35      0.35       600\n",
            "           1       0.78      0.78      0.78      1800\n",
            "\n",
            "    accuracy                           0.67      2400\n",
            "   macro avg       0.57      0.57      0.57      2400\n",
            "weighted avg       0.68      0.67      0.67      2400\n",
            "\n",
            "Accuracy: 0.67375\n"
          ]
        },
        {
          "data": {
            "image/png": "[encoded data removed]",
            "text/plain": [
              "<Figure size 432x288 with 2 Axes>"
            ]
          },
          "metadata": {},
          "output_type": "display_data"
        }
      ]
    },
    {
      "cell_type": "code",
      "metadata": {
        "colab": {
          "base_uri": "https://localhost:8080/",
          "height": 463
        },
        "id": "7wJeUY1SEeU4",
        "outputId": "9295e8c5-d842-4991-8447-a244c35921c4"
      },
      "source": [
        "clf = MLPClassifier((20, 20, ), max_iter=100000).fit(xtrain, ytrain)\n",
        "predicted_values = clf.predict(X_test)\n",
        "print_confusion_matrix(predicted_values, y_test, [\"0\", \"1\"])\n",
        "print(\"Accuracy:\", metrics.accuracy_score(y_test, predicted_values))"
      ],
      "execution_count": null,
      "outputs": [
        {
          "name": "stdout",
          "output_type": "stream",
          "text": [
            "              precision    recall  f1-score   support\n",
            "\n",
            "           0       0.35      0.36      0.35       600\n",
            "           1       0.78      0.78      0.78      1800\n",
            "\n",
            "    accuracy                           0.68      2400\n",
            "   macro avg       0.57      0.57      0.57      2400\n",
            "weighted avg       0.68      0.68      0.68      2400\n",
            "\n",
            "Accuracy: 0.675\n"
          ]
        },
        {
          "data": {
            "image/png": "[encoded data removed]",
            "text/plain": [
              "<Figure size 432x288 with 2 Axes>"
            ]
          },
          "metadata": {},
          "output_type": "display_data"
        }
      ]
    },
    {
      "cell_type": "code",
      "metadata": {
        "colab": {
          "base_uri": "https://localhost:8080/",
          "height": 463
        },
        "id": "eIZpYZCyEr6d",
        "outputId": "23ae14d9-598b-4865-9a1d-08f14d00297c"
      },
      "source": [
        "clf = MLPClassifier((1000, ), max_iter=100000).fit(xtrain, ytrain)\n",
        "predicted_values = clf.predict(X_test)\n",
        "print_confusion_matrix(predicted_values, y_test, [\"0\", \"1\"])\n",
        "print(\"Accuracy:\", metrics.accuracy_score(y_test, predicted_values))"
      ],
      "execution_count": null,
      "outputs": [
        {
          "name": "stdout",
          "output_type": "stream",
          "text": [
            "              precision    recall  f1-score   support\n",
            "\n",
            "           0       0.37      0.36      0.37       600\n",
            "           1       0.79      0.79      0.79      1800\n",
            "\n",
            "    accuracy                           0.68      2400\n",
            "   macro avg       0.58      0.58      0.58      2400\n",
            "weighted avg       0.68      0.68      0.68      2400\n",
            "\n",
            "Accuracy: 0.6833333333333333\n"
          ]
        },
        {
          "data": {
            "image/png": "[encoded data removed]",
            "text/plain": [
              "<Figure size 432x288 with 2 Axes>"
            ]
          },
          "metadata": {},
          "output_type": "display_data"
        }
      ]
    },
    {
      "cell_type": "code",
      "metadata": {
        "colab": {
          "base_uri": "https://localhost:8080/",
          "height": 463
        },
        "id": "GKiGOYvSE_Xc",
        "outputId": "2ee72904-2692-4998-85db-0af0e3682e60"
      },
      "source": [
        "clf = MLPClassifier((256, 64, 128, ), max_iter=100000, learning_rate=\"invscaling\").fit(xtrain, ytrain)\n",
        "predicted_values = clf.predict(X_test)\n",
        "print_confusion_matrix(predicted_values, y_test, [\"0\", \"1\"])\n",
        "print(\"Accuracy:\", metrics.accuracy_score(y_test, predicted_values))"
      ],
      "execution_count": null,
      "outputs": [
        {
          "name": "stdout",
          "output_type": "stream",
          "text": [
            "              precision    recall  f1-score   support\n",
            "\n",
            "           0       0.34      0.31      0.33       600\n",
            "           1       0.78      0.80      0.79      1800\n",
            "\n",
            "    accuracy                           0.68      2400\n",
            "   macro avg       0.56      0.56      0.56      2400\n",
            "weighted avg       0.67      0.68      0.67      2400\n",
            "\n",
            "Accuracy: 0.67625\n"
          ]
        },
        {
          "data": {
            "image/png": "[encoded data removed]",
            "text/plain": [
              "<Figure size 432x288 with 2 Axes>"
            ]
          },
          "metadata": {},
          "output_type": "display_data"
        }
      ]
    },
    {
      "cell_type": "markdown",
      "metadata": {
        "id": "EEP95j-g6HKc"
      },
      "source": [
        "Undersampling со RandomUndersampler"
      ]
    },
    {
      "cell_type": "code",
      "metadata": {
        "colab": {
          "base_uri": "https://localhost:8080/"
        },
        "id": "1DrhUTxuoQaT",
        "outputId": "69af8186-ba4e-4188-a18b-1ba466aea4ec"
      },
      "source": [
        "from collections import Counter\n",
        "# from imblearn.under_sampling import TomekLinks\n",
        "from imblearn.under_sampling import RandomUnderSampler\n",
        "from sklearn.utils import shuffle\n",
        "\n",
        "undersample = RandomUnderSampler(sampling_strategy=0.5)\n",
        "X_train = xtrain\n",
        "X_over, y_over = undersample.fit_resample(X_train, y_train)\n",
        "print('Resampled dataset shape %s' % Counter(y_over))"
      ],
      "execution_count": null,
      "outputs": [
        {
          "name": "stdout",
          "output_type": "stream",
          "text": [
            "Resampled dataset shape Counter({1: 5600, 0: 2800})\n"
          ]
        }
      ]
    },
    {
      "cell_type": "code",
      "metadata": {
        "colab": {
          "base_uri": "https://localhost:8080/"
        },
        "id": "0bc89co9o3pF",
        "outputId": "030283fe-41c9-4a02-f129-39977897d7be"
      },
      "source": [
        "final, targets = shuffle(X_over,y_over,random_state=0)\n",
        "X_train_u  = final\n",
        "y_train_u  = targets\n",
        "X_test = df_test.values.tolist()\n",
        "print('Training set class distribution %s' % Counter(y_train_u))\n",
        "print('Testing set class distribution %s' % Counter(y_test))"
      ],
      "execution_count": null,
      "outputs": [
        {
          "name": "stdout",
          "output_type": "stream",
          "text": [
            "Training set class distribution Counter({1: 5600, 0: 2800})\n",
            "Testing set class distribution Counter({1: 1800, 0: 600})\n"
          ]
        }
      ]
    },
    {
      "cell_type": "code",
      "metadata": {
        "colab": {
          "base_uri": "https://localhost:8080/",
          "height": 349
        },
        "id": "9WQ9c47VpwI7",
        "outputId": "ccad528e-f90d-414a-a96c-446e19e34daa"
      },
      "source": [
        "import matplotlib.pyplot as pyplot\n",
        "pyplot.pie([float(v) for v in Counter(y_train_u).values()], labels=[float(k) for k in Counter(y_train_u).keys()],\n",
        "           autopct='%1.0f%%')"
      ],
      "execution_count": null,
      "outputs": [
        {
          "data": {
            "text/plain": [
              "([<matplotlib.patches.Wedge at 0x7f9bebd5e190>,\n",
              "  <matplotlib.patches.Wedge at 0x7f9bebd5e990>],\n",
              " [Text(-0.5500000594609755, 0.9526279098330699, '1.0'),\n",
              "  Text(0.5500001486524352, -0.9526278583383436, '0.0')],\n",
              " [Text(-0.30000003243325934, 0.5196152235453108, '67%'),\n",
              "  Text(0.30000008108314646, -0.5196151954572783, '33%')])"
            ]
          },
          "execution_count": 102,
          "metadata": {},
          "output_type": "execute_result"
        },
        {
          "data": {
            "image/png": "[encoded data removed]",
            "text/plain": [
              "<Figure size 432x288 with 1 Axes>"
            ]
          },
          "metadata": {},
          "output_type": "display_data"
        }
      ]
    },
    {
      "cell_type": "markdown",
      "metadata": {
        "id": "ODw2taBYr36G"
      },
      "source": [
        "Oversampling со SMOTE"
      ]
    },
    {
      "cell_type": "code",
      "metadata": {
        "colab": {
          "base_uri": "https://localhost:8080/"
        },
        "id": "S8S1WQ_nr4p9",
        "outputId": "c385e221-144a-4a14-a51c-809b656fa2d5"
      },
      "source": [
        "import imblearn\n",
        "from imblearn.over_sampling import SMOTE\n",
        "from numpy import where\n",
        "# X = df_train.values.tolist()\n",
        "counter = Counter(ytrain)\n",
        "print('Original dataset shape %s' % Counter(ytrain))\n",
        "oversample = SMOTE(sampling_strategy=0.7)\n",
        "X_train_o, y_train_o = oversample.fit_resample(xtrain, ytrain)\n",
        "print('Resampled dataset shape %s' % Counter(y_train_o))"
      ],
      "execution_count": null,
      "outputs": [
        {
          "name": "stdout",
          "output_type": "stream",
          "text": [
            "Original dataset shape Counter({1: 8400, 0: 2800})\n",
            "Resampled dataset shape Counter({1: 8400, 0: 5880})\n"
          ]
        }
      ]
    },
    {
      "cell_type": "code",
      "metadata": {
        "colab": {
          "base_uri": "https://localhost:8080/",
          "height": 349
        },
        "id": "0hVdsbcownjX",
        "outputId": "c758520b-0deb-48a0-9e81-eece65a61c10"
      },
      "source": [
        "import matplotlib.pyplot as pyplot\n",
        "pyplot.pie([float(v) for v in Counter(y_train_o).values()], labels=[float(k) for k in Counter(y_train_o).keys()],\n",
        "           autopct='%1.0f%%')"
      ],
      "execution_count": null,
      "outputs": [
        {
          "data": {
            "text/plain": [
              "([<matplotlib.patches.Wedge at 0x7f9bf7da5cd0>,\n",
              "  <matplotlib.patches.Wedge at 0x7f9bf7dbb4d0>],\n",
              " [Text(-0.30102937065636565, 1.0580081842794187, '1.0'),\n",
              "  Text(0.30102946971423916, -1.0580081560950105, '0.0')],\n",
              " [Text(-0.16419783853983577, 0.5770953732433193, '59%'),\n",
              "  Text(0.16419789257140316, -0.5770953578700057, '41%')])"
            ]
          },
          "execution_count": 104,
          "metadata": {},
          "output_type": "execute_result"
        },
        {
          "data": {
            "image/png": "[encoded data removed]",
            "text/plain": [
              "<Figure size 432x288 with 1 Axes>"
            ]
          },
          "metadata": {},
          "output_type": "display_data"
        }
      ]
    },
    {
      "cell_type": "markdown",
      "metadata": {
        "id": "Y0EJxDSqw_RG"
      },
      "source": [
        "Комбинација: Undersampling на majority, Oversampling на minority"
      ]
    },
    {
      "cell_type": "code",
      "metadata": {
        "colab": {
          "base_uri": "https://localhost:8080/"
        },
        "id": "AVckpBp1xLLq",
        "outputId": "082984e2-4ce1-4411-9ebc-8686dbc7a67d"
      },
      "source": [
        "from imblearn.pipeline import Pipeline\n",
        "print('Original dataset shape %s' % Counter(ytrain))\n",
        "over = SMOTE(sampling_strategy=0.7)\n",
        "under = RandomUnderSampler(sampling_strategy=0.5)\n",
        "steps = [('u', under),('o', over)]\n",
        "pipeline = Pipeline(steps=steps)\n",
        "X_train_ou, y_train_ou = pipeline.fit_resample(xtrain, ytrain)\n",
        "counter = Counter(y_train_ou)\n",
        "print('Resampled dataset shape %s' % Counter(counter))"
      ],
      "execution_count": null,
      "outputs": [
        {
          "name": "stdout",
          "output_type": "stream",
          "text": [
            "Original dataset shape Counter({1: 8400, 0: 2800})\n",
            "Resampled dataset shape Counter({1: 5600, 0: 3919})\n"
          ]
        }
      ]
    },
    {
      "cell_type": "code",
      "metadata": {
        "colab": {
          "base_uri": "https://localhost:8080/",
          "height": 349
        },
        "id": "W2zV3duFx17Z",
        "outputId": "282f9d37-5415-4085-e53d-f86ed716085c"
      },
      "source": [
        "import matplotlib.pyplot as pyplot\n",
        "pyplot.pie([float(v) for v in Counter(y_train_ou).values()], labels=[float(k) for k in Counter(y_train_ou).keys()],\n",
        "           autopct='%1.0f%%')"
      ],
      "execution_count": null,
      "outputs": [
        {
          "data": {
            "text/plain": [
              "([<matplotlib.patches.Wedge at 0x7f9bf5ad62d0>,\n",
              "  <matplotlib.patches.Wedge at 0x7f9bf5ad6a90>],\n",
              " [Text(0.30123471196054497, 1.0579497380830754, '0.0'),\n",
              "  Text(-0.3012348110129466, -1.0579497098794415, '1.0')],\n",
              " [Text(0.16430984288756995, 0.5770634934998592, '41%'),\n",
              "  Text(-0.16430989691615266, -0.577063478116059, '59%')])"
            ]
          },
          "execution_count": 106,
          "metadata": {},
          "output_type": "execute_result"
        },
        {
          "data": {
            "image/png": "[encoded data removed]",
            "text/plain": [
              "<Figure size 432x288 with 1 Axes>"
            ]
          },
          "metadata": {},
          "output_type": "display_data"
        }
      ]
    },
    {
      "cell_type": "code",
      "metadata": {
        "id": "xNHL_14r6qDK"
      },
      "source": [
        "X_test = [eval(X_test[i][0]) for i in range(0, len(X_test))]"
      ],
      "execution_count": null,
      "outputs": []
    },
    {
      "cell_type": "code",
      "metadata": {
        "colab": {
          "base_uri": "https://localhost:8080/"
        },
        "id": "3l32jpP7N32i",
        "outputId": "cb616139-dcf6-4ac0-e83b-75cd73026115"
      },
      "source": [
        "from sklearn.tree import DecisionTreeClassifier\n",
        "from sklearn.naive_bayes import GaussianNB\n",
        "from sklearn.ensemble import RandomForestClassifier\n",
        "\n",
        "dtc = DecisionTreeClassifier()\n",
        "nbc = GaussianNB()\n",
        "rfc = RandomForestClassifier()\n",
        "\n",
        "dtc.fit(X_train_u, y_train_u)\n",
        "nbc.fit(X_train_u, y_train_u)\n",
        "rfc.fit(X_train_u, y_train_u)"
      ],
      "execution_count": null,
      "outputs": [
        {
          "data": {
            "text/plain": [
              "RandomForestClassifier(bootstrap=True, ccp_alpha=0.0, class_weight=None,\n",
              "                       criterion='gini', max_depth=None, max_features='auto',\n",
              "                       max_leaf_nodes=None, max_samples=None,\n",
              "                       min_impurity_decrease=0.0, min_impurity_split=None,\n",
              "                       min_samples_leaf=1, min_samples_split=2,\n",
              "                       min_weight_fraction_leaf=0.0, n_estimators=100,\n",
              "                       n_jobs=None, oob_score=False, random_state=None,\n",
              "                       verbose=0, warm_start=False)"
            ]
          },
          "execution_count": 108,
          "metadata": {},
          "output_type": "execute_result"
        }
      ]
    },
    {
      "cell_type": "code",
      "metadata": {
        "id": "Y7nfouubN32i"
      },
      "source": [
        "test_tree_predict = dtc.predict(X_test)\n",
        "test_naive_predict = nbc.predict(X_test)\n",
        "test_random_forest_predict = rfc.predict(X_test)"
      ],
      "execution_count": null,
      "outputs": []
    },
    {
      "cell_type": "code",
      "metadata": {
        "colab": {
          "base_uri": "https://localhost:8080/",
          "height": 446
        },
        "id": "S85LUL4QN32i",
        "outputId": "d4ca44c1-1161-4b2d-dcb3-4bc3bcad7a53"
      },
      "source": [
        "print_confusion_matrix(test_tree_predict,y_test, [\"0\", \"1\"])"
      ],
      "execution_count": null,
      "outputs": [
        {
          "name": "stdout",
          "output_type": "stream",
          "text": [
            "              precision    recall  f1-score   support\n",
            "\n",
            "           0       0.26      0.50      0.34       600\n",
            "           1       0.75      0.52      0.61      1800\n",
            "\n",
            "    accuracy                           0.51      2400\n",
            "   macro avg       0.51      0.51      0.48      2400\n",
            "weighted avg       0.63      0.51      0.54      2400\n",
            "\n"
          ]
        },
        {
          "data": {
            "image/png": "[encoded data removed]",
            "text/plain": [
              "<Figure size 432x288 with 2 Axes>"
            ]
          },
          "metadata": {},
          "output_type": "display_data"
        }
      ]
    },
    {
      "cell_type": "code",
      "metadata": {
        "colab": {
          "base_uri": "https://localhost:8080/",
          "height": 446
        },
        "id": "AD0PiwUhN32i",
        "outputId": "7262a2a1-9784-4a9f-e8d7-7469bf5e540f"
      },
      "source": [
        "print_confusion_matrix(test_naive_predict, y_test, [\"0\", \"1\"])"
      ],
      "execution_count": null,
      "outputs": [
        {
          "name": "stdout",
          "output_type": "stream",
          "text": [
            "              precision    recall  f1-score   support\n",
            "\n",
            "           0       0.27      0.03      0.05       600\n",
            "           1       0.75      0.97      0.85      1800\n",
            "\n",
            "    accuracy                           0.74      2400\n",
            "   macro avg       0.51      0.50      0.45      2400\n",
            "weighted avg       0.63      0.74      0.65      2400\n",
            "\n"
          ]
        },
        {
          "data": {
            "image/png": "[encoded data removed]",
            "text/plain": [
              "<Figure size 432x288 with 2 Axes>"
            ]
          },
          "metadata": {},
          "output_type": "display_data"
        }
      ]
    },
    {
      "cell_type": "code",
      "metadata": {
        "colab": {
          "base_uri": "https://localhost:8080/",
          "height": 446
        },
        "id": "iiR5t5_TN32i",
        "outputId": "dd16aaee-8ef2-4d06-a57b-2222298869e3"
      },
      "source": [
        "print_confusion_matrix(test_random_forest_predict,y_test, [\"0\", \"1\"])"
      ],
      "execution_count": null,
      "outputs": [
        {
          "name": "stdout",
          "output_type": "stream",
          "text": [
            "              precision    recall  f1-score   support\n",
            "\n",
            "           0       0.28      0.49      0.36       600\n",
            "           1       0.77      0.59      0.67      1800\n",
            "\n",
            "    accuracy                           0.56      2400\n",
            "   macro avg       0.53      0.54      0.51      2400\n",
            "weighted avg       0.65      0.56      0.59      2400\n",
            "\n"
          ]
        },
        {
          "data": {
            "image/png": "[encoded data removed]",
            "text/plain": [
              "<Figure size 432x288 with 2 Axes>"
            ]
          },
          "metadata": {},
          "output_type": "display_data"
        }
      ]
    },
    {
      "cell_type": "code",
      "metadata": {
        "colab": {
          "base_uri": "https://localhost:8080/",
          "height": 278
        },
        "id": "WEGs2LSON32j",
        "outputId": "3590af6e-0a11-4e16-a67f-84a4b8e814ff"
      },
      "source": [
        "from sklearn.metrics import roc_curve, auc\n",
        "import matplotlib.pyplot as plt\n",
        "\n",
        "actual = y_test\n",
        "decision_tree_prob = [p[1] for p in dtc.predict_proba(X_test)]\n",
        "naive_bayes_prob = [p[1] for p in nbc.predict_proba(X_test)]\n",
        "random_forest_prob = [p[1] for p in rfc.predict_proba(X_test)]\n",
        "\n",
        "\n",
        "dt_false_pos, dt_true_pos, _ = roc_curve(actual, decision_tree_prob)\n",
        "dt_auc = auc(dt_false_pos, dt_true_pos)\n",
        "\n",
        "nb_false_pos, nb_true_pos, _ = roc_curve(actual, naive_bayes_prob)\n",
        "nb_auc = auc(nb_false_pos, nb_true_pos)\n",
        "\n",
        "rf_false_pos, rf_true_pos, _ = roc_curve(actual, random_forest_prob)\n",
        "rf_auc = auc(rf_false_pos, rf_true_pos)\n",
        "\n",
        "\n",
        "# plot\n",
        "plt.plot(dt_false_pos, dt_true_pos, 'r', label='Decision Tree AUC = %0.2f'% dt_auc)\n",
        "plt.plot(nb_false_pos, nb_true_pos, 'g', label='Naive Bayes AUC = %0.2f'% nb_auc)\n",
        "plt.plot(rf_false_pos, rf_true_pos, 'b', label='Random Forest AUC = %0.2f'% rf_auc)\n",
        "\n",
        "\n",
        "plt.legend(loc='lower right')\n",
        "plt.plot([0,1], [0,1], 'r--')\n",
        "plt.ylabel('True Positive Rate')\n",
        "plt.xlabel('False Positive Rate')\n",
        "plt.show()"
      ],
      "execution_count": null,
      "outputs": [
        {
          "data": {
            "image/png": "[encoded data removed]",
            "text/plain": [
              "<Figure size 432x288 with 1 Axes>"
            ]
          },
          "metadata": {},
          "output_type": "display_data"
        }
      ]
    },
    {
      "cell_type": "code",
      "metadata": {
        "id": "i6lifyKx2djO"
      },
      "source": [
        "import keras\n",
        "from keras.models import Sequential \n",
        "from keras.layers import Dense   \n",
        "from tensorflow.keras.callbacks import EarlyStopping"
      ],
      "execution_count": null,
      "outputs": []
    },
    {
      "cell_type": "code",
      "metadata": {
        "id": "dECS0zXwQHmJ"
      },
      "source": [
        "X_train, X_val, y_train, y_val = train_test_split(X_train_ou, y_train_ou, test_size=0.2, random_state=42)"
      ],
      "execution_count": null,
      "outputs": []
    },
    {
      "cell_type": "code",
      "metadata": {
        "id": "o6aJo6UI7X_n"
      },
      "source": [
        "from sklearn.preprocessing import StandardScaler\n",
        "scaler = StandardScaler()\n",
        "X_train_norm = scaler.fit_transform(X_train)\n",
        "X_val_norm = scaler.fit_transform(X_val)\n",
        "X_test_norm = scaler.fit_transform(X_test)"
      ],
      "execution_count": null,
      "outputs": []
    },
    {
      "cell_type": "code",
      "metadata": {
        "colab": {
          "base_uri": "https://localhost:8080/"
        },
        "id": "rJVmFhgY4WDx",
        "outputId": "2318c9a9-db01-468f-ef3b-f18effd66364"
      },
      "source": [
        "classifier = Sequential()\n",
        "\n",
        "classifier.add(Dense(64, activation='relu', input_dim=600))\n",
        "\n",
        "classifier.add(Dense(256, activation='relu'))\n",
        "\n",
        "classifier.add(Dense(1, activation='sigmoid'))\n",
        "\n",
        "\n",
        "classifier.compile(optimizer ='adam',loss='binary_crossentropy', metrics =['accuracy'])\n",
        "es = EarlyStopping(monitor='val_loss', mode='min', verbose=1,patience=30)\n",
        "history_callback = classifier.fit(X_train_norm, y_train, epochs=500, batch_size=64,validation_data=(X_val_norm,y_val), callbacks=[es])"
      ],
      "execution_count": null,
      "outputs": [
        {
          "name": "stdout",
          "output_type": "stream",
          "text": [
            "Epoch 1/500\n",
            "119/119 [==============================] - 2s 5ms/step - loss: 0.5552 - accuracy: 0.7031 - val_loss: 0.4538 - val_accuracy: 0.7889\n",
            "Epoch 2/500\n",
            "119/119 [==============================] - 0s 3ms/step - loss: 0.3306 - accuracy: 0.8615 - val_loss: 0.4028 - val_accuracy: 0.8057\n",
            "Epoch 3/500\n",
            "119/119 [==============================] - 0s 3ms/step - loss: 0.2320 - accuracy: 0.9049 - val_loss: 0.4026 - val_accuracy: 0.8309\n",
            "Epoch 4/500\n",
            "119/119 [==============================] - 0s 3ms/step - loss: 0.1610 - accuracy: 0.9392 - val_loss: 0.4385 - val_accuracy: 0.8309\n",
            "Epoch 5/500\n",
            "119/119 [==============================] - 0s 3ms/step - loss: 0.1105 - accuracy: 0.9626 - val_loss: 0.5025 - val_accuracy: 0.8335\n",
            "Epoch 6/500\n",
            "119/119 [==============================] - 0s 3ms/step - loss: 0.0853 - accuracy: 0.9691 - val_loss: 0.5847 - val_accuracy: 0.8377\n",
            "Epoch 7/500\n",
            "119/119 [==============================] - 0s 3ms/step - loss: 0.0602 - accuracy: 0.9794 - val_loss: 0.5932 - val_accuracy: 0.8351\n",
            "Epoch 8/500\n",
            "119/119 [==============================] - 0s 3ms/step - loss: 0.0344 - accuracy: 0.9891 - val_loss: 0.6864 - val_accuracy: 0.8283\n",
            "Epoch 9/500\n",
            "119/119 [==============================] - 0s 3ms/step - loss: 0.0251 - accuracy: 0.9921 - val_loss: 0.7409 - val_accuracy: 0.8445\n",
            "Epoch 10/500\n",
            "119/119 [==============================] - 0s 3ms/step - loss: 0.0299 - accuracy: 0.9908 - val_loss: 0.7703 - val_accuracy: 0.8435\n",
            "Epoch 11/500\n",
            "119/119 [==============================] - 0s 3ms/step - loss: 0.0408 - accuracy: 0.9838 - val_loss: 0.7822 - val_accuracy: 0.8262\n",
            "Epoch 12/500\n",
            "119/119 [==============================] - 0s 3ms/step - loss: 0.0247 - accuracy: 0.9923 - val_loss: 0.8401 - val_accuracy: 0.8330\n",
            "Epoch 13/500\n",
            "119/119 [==============================] - 0s 3ms/step - loss: 0.0183 - accuracy: 0.9941 - val_loss: 0.8805 - val_accuracy: 0.8356\n",
            "Epoch 14/500\n",
            "119/119 [==============================] - 0s 3ms/step - loss: 0.0286 - accuracy: 0.9903 - val_loss: 0.8857 - val_accuracy: 0.8435\n",
            "Epoch 15/500\n",
            "119/119 [==============================] - 0s 3ms/step - loss: 0.0325 - accuracy: 0.9891 - val_loss: 0.8861 - val_accuracy: 0.8351\n",
            "Epoch 16/500\n",
            "119/119 [==============================] - 0s 3ms/step - loss: 0.0114 - accuracy: 0.9972 - val_loss: 0.9458 - val_accuracy: 0.8382\n",
            "Epoch 17/500\n",
            "119/119 [==============================] - 0s 3ms/step - loss: 0.0050 - accuracy: 0.9992 - val_loss: 0.9612 - val_accuracy: 0.8445\n",
            "Epoch 18/500\n",
            "119/119 [==============================] - 0s 3ms/step - loss: 7.7061e-04 - accuracy: 1.0000 - val_loss: 0.9676 - val_accuracy: 0.8503\n",
            "Epoch 19/500\n",
            "119/119 [==============================] - 0s 3ms/step - loss: 4.4067e-04 - accuracy: 1.0000 - val_loss: 0.9814 - val_accuracy: 0.8508\n",
            "Epoch 20/500\n",
            "119/119 [==============================] - 0s 3ms/step - loss: 3.4544e-04 - accuracy: 1.0000 - val_loss: 0.9938 - val_accuracy: 0.8519\n",
            "Epoch 21/500\n",
            "119/119 [==============================] - 0s 3ms/step - loss: 2.8229e-04 - accuracy: 1.0000 - val_loss: 1.0066 - val_accuracy: 0.8524\n",
            "Epoch 22/500\n",
            "119/119 [==============================] - 0s 3ms/step - loss: 2.3882e-04 - accuracy: 1.0000 - val_loss: 1.0192 - val_accuracy: 0.8529\n",
            "Epoch 23/500\n",
            "119/119 [==============================] - 0s 3ms/step - loss: 2.0539e-04 - accuracy: 1.0000 - val_loss: 1.0308 - val_accuracy: 0.8519\n",
            "Epoch 24/500\n",
            "119/119 [==============================] - 0s 4ms/step - loss: 1.7877e-04 - accuracy: 1.0000 - val_loss: 1.0414 - val_accuracy: 0.8519\n",
            "Epoch 25/500\n",
            "119/119 [==============================] - 0s 3ms/step - loss: 1.5766e-04 - accuracy: 1.0000 - val_loss: 1.0522 - val_accuracy: 0.8529\n",
            "Epoch 26/500\n",
            "119/119 [==============================] - 0s 3ms/step - loss: 1.3972e-04 - accuracy: 1.0000 - val_loss: 1.0620 - val_accuracy: 0.8529\n",
            "Epoch 27/500\n",
            "119/119 [==============================] - 0s 3ms/step - loss: 1.2449e-04 - accuracy: 1.0000 - val_loss: 1.0721 - val_accuracy: 0.8524\n",
            "Epoch 28/500\n",
            "119/119 [==============================] - 0s 3ms/step - loss: 1.1167e-04 - accuracy: 1.0000 - val_loss: 1.0817 - val_accuracy: 0.8524\n",
            "Epoch 29/500\n",
            "119/119 [==============================] - 0s 3ms/step - loss: 1.0072e-04 - accuracy: 1.0000 - val_loss: 1.0911 - val_accuracy: 0.8524\n",
            "Epoch 30/500\n",
            "119/119 [==============================] - 0s 3ms/step - loss: 9.1096e-05 - accuracy: 1.0000 - val_loss: 1.1005 - val_accuracy: 0.8519\n",
            "Epoch 31/500\n",
            "119/119 [==============================] - 0s 3ms/step - loss: 8.2529e-05 - accuracy: 1.0000 - val_loss: 1.1102 - val_accuracy: 0.8519\n",
            "Epoch 32/500\n",
            "119/119 [==============================] - 0s 3ms/step - loss: 7.5142e-05 - accuracy: 1.0000 - val_loss: 1.1188 - val_accuracy: 0.8524\n",
            "Epoch 33/500\n",
            "119/119 [==============================] - 0s 3ms/step - loss: 6.8536e-05 - accuracy: 1.0000 - val_loss: 1.1272 - val_accuracy: 0.8519\n",
            "Epoch 00033: early stopping\n"
          ]
        }
      ]
    },
    {
      "cell_type": "code",
      "metadata": {
        "colab": {
          "base_uri": "https://localhost:8080/"
        },
        "id": "cVU2xmxA4bCb",
        "outputId": "1d9768ee-8a48-458a-ea54-cb814c1f584d"
      },
      "source": [
        "probs       = classifier.predict(X_test_norm)\n",
        "preds       = probs > 0.5\n",
        "print('Neural network score on test:\\n',classification_report(y_test, preds))"
      ],
      "execution_count": null,
      "outputs": [
        {
          "name": "stdout",
          "output_type": "stream",
          "text": [
            "Neural network score on test:\n",
            "               precision    recall  f1-score   support\n",
            "\n",
            "           0       0.34      0.46      0.39       600\n",
            "           1       0.79      0.70      0.74      1800\n",
            "\n",
            "    accuracy                           0.64      2400\n",
            "   macro avg       0.57      0.58      0.57      2400\n",
            "weighted avg       0.68      0.64      0.65      2400\n",
            "\n"
          ]
        }
      ]
    },
    {
      "cell_type": "code",
      "metadata": {
        "colab": {
          "base_uri": "https://localhost:8080/",
          "height": 312
        },
        "id": "fW27wgBp9aej",
        "outputId": "866ae6cd-d158-4336-e14e-79eee17180dc"
      },
      "source": [
        "cm=confusion_matrix(y_test,preds)\n",
        "names = ['0', '1'] \n",
        "cm = 100 * cm.astype('float') / cm.sum(axis=-1)[:, np.newaxis]  \n",
        " \n",
        "\n",
        "df = pd.DataFrame(data=cm, columns=names, index=names)\n",
        "g = sns.heatmap(df, annot=True, fmt=\".1f\", linewidths=.5, vmin=0, vmax=100,\n",
        "                    cmap='Greens')\n",
        "g.set_title('Confusion matrix')\n",
        "g.set_ylabel('True label')\n",
        "g.set_xlabel('Predicted label')\n",
        "g.plot()"
      ],
      "execution_count": null,
      "outputs": [
        {
          "data": {
            "text/plain": [
              "[]"
            ]
          },
          "execution_count": 120,
          "metadata": {},
          "output_type": "execute_result"
        },
        {
          "data": {
            "image/png": "[encoded data removed]",
            "text/plain": [
              "<Figure size 432x288 with 2 Axes>"
            ]
          },
          "metadata": {},
          "output_type": "display_data"
        }
      ]
    },
    {
      "cell_type": "code",
      "metadata": {
        "colab": {
          "base_uri": "https://localhost:8080/"
        },
        "id": "oqQWcEPKR0eD",
        "outputId": "04bd5142-5e4c-4934-c476-87ccd47418c1"
      },
      "source": [
        "from sklearn.model_selection import  GridSearchCV, RandomizedSearchCV\n",
        "from sklearn.metrics import roc_auc_score\n",
        "from sklearn.model_selection import KFold\n",
        "from xgboost import XGBClassifier\n",
        "from sklearn.metrics import roc_auc_score\n",
        "from sklearn.model_selection import StratifiedKFold, KFold\n",
        "\n",
        "from sklearn.metrics import (confusion_matrix, precision_recall_curve, auc,\n",
        "                             roc_curve, recall_score, classification_report, f1_score,\n",
        "                             precision_recall_fscore_support, roc_auc_score)\n",
        "\n",
        "gkf = KFold(n_splits=3, shuffle=True, random_state=42).split(X=X_train_u, y=y_train_u)\n",
        "fit_params_of_xgb = {\n",
        "    \"early_stopping_rounds\":100, \n",
        "    \"eval_metric\" : 'auc', \n",
        "    \"eval_set\" : [(X_val,y_val)],\n",
        "    'verbose': 500,\n",
        "}\n",
        "params = {\n",
        "    'booster': [\"gbtree\"],\n",
        "    'learning_rate': [0.01],\n",
        "    'n_estimators': [3000],\n",
        "    'min_child_weight': [1],#1\n",
        "    'gamma': [0],\n",
        "    'subsample': [0.4],\n",
        "    'colsample_bytree': [0.8],\n",
        "    'max_depth': [4],\n",
        "    \"scale_pos_weight\": [1],\n",
        "    \"reg_alpha\":[1],#0.08\n",
        "}\n",
        "xgb_estimator = XGBClassifier(\n",
        "    objective='binary:logistic',\n",
        "    silent=True,\n",
        ")\n",
        "\n",
        "gsearch = GridSearchCV(\n",
        "    estimator=xgb_estimator,\n",
        "    param_grid=params,\n",
        "    scoring='roc_auc',\n",
        "    n_jobs=-1,\n",
        "    cv=gkf, verbose=3\n",
        ")\n",
        "xgb_model = gsearch.fit(X=X_train_u, y=y_train_u, **fit_params_of_xgb)\n",
        "gsearch.best_params_, gsearch.best_score_"
      ],
      "execution_count": null,
      "outputs": [
        {
          "name": "stdout",
          "output_type": "stream",
          "text": [
            "Fitting 3 folds for each of 1 candidates, totalling 3 fits\n"
          ]
        },
        {
          "name": "stderr",
          "output_type": "stream",
          "text": [
            "[Parallel(n_jobs=-1)]: Using backend LokyBackend with 2 concurrent workers.\n",
            "[Parallel(n_jobs=-1)]: Done   3 out of   3 | elapsed: 21.1min finished\n"
          ]
        },
        {
          "name": "stdout",
          "output_type": "stream",
          "text": [
            "[0]\tvalidation_0-auc:0.64644\n",
            "Will train until validation_0-auc hasn't improved in 100 rounds.\n",
            "[500]\tvalidation_0-auc:0.927835\n",
            "[1000]\tvalidation_0-auc:0.972363\n",
            "[1500]\tvalidation_0-auc:0.986826\n",
            "[2000]\tvalidation_0-auc:0.992032\n",
            "[2500]\tvalidation_0-auc:0.994475\n",
            "[2999]\tvalidation_0-auc:0.995863\n"
          ]
        },
        {
          "data": {
            "text/plain": [
              "({'booster': 'gbtree',\n",
              "  'colsample_bytree': 0.8,\n",
              "  'gamma': 0,\n",
              "  'learning_rate': 0.01,\n",
              "  'max_depth': 4,\n",
              "  'min_child_weight': 1,\n",
              "  'n_estimators': 3000,\n",
              "  'reg_alpha': 1,\n",
              "  'scale_pos_weight': 1,\n",
              "  'subsample': 0.4},\n",
              " 0.8452315380547771)"
            ]
          },
          "execution_count": 121,
          "metadata": {},
          "output_type": "execute_result"
        }
      ]
    },
    {
      "cell_type": "code",
      "metadata": {
        "id": "3X8F6sthR0eQ"
      },
      "source": [
        "predicted_values = xgb_model.predict(X_test)"
      ],
      "execution_count": null,
      "outputs": []
    },
    {
      "cell_type": "code",
      "metadata": {
        "colab": {
          "base_uri": "https://localhost:8080/",
          "height": 463
        },
        "id": "JU8xnJFVR0eR",
        "outputId": "3e3a7e05-199a-4a1b-bf8d-00dbf937719a"
      },
      "source": [
        "print_confusion_matrix(predicted_values, y_test, [\"0\", \"1\"])\n",
        "print(\"Accuracy:\", metrics.accuracy_score(y_test, predicted_values))"
      ],
      "execution_count": null,
      "outputs": [
        {
          "name": "stdout",
          "output_type": "stream",
          "text": [
            "              precision    recall  f1-score   support\n",
            "\n",
            "           0       0.33      0.67      0.44       600\n",
            "           1       0.83      0.55      0.66      1800\n",
            "\n",
            "    accuracy                           0.58      2400\n",
            "   macro avg       0.58      0.61      0.55      2400\n",
            "weighted avg       0.71      0.58      0.61      2400\n",
            "\n",
            "Accuracy: 0.5804166666666667\n"
          ]
        },
        {
          "data": {
            "image/png": "[encoded data removed]",
            "text/plain": [
              "<Figure size 432x288 with 2 Axes>"
            ]
          },
          "metadata": {},
          "output_type": "display_data"
        }
      ]
    },
    {
      "cell_type": "code",
      "metadata": {
        "colab": {
          "base_uri": "https://localhost:8080/",
          "height": 278
        },
        "id": "dtaiB-fiR0eR",
        "outputId": "3cf3e370-603c-4a67-a725-52822b0c3723"
      },
      "source": [
        "actual = y_test\n",
        "xg_tree_prob = [p[1] for p in xgb_model.predict_proba(X_test)]\n",
        "\n",
        "\n",
        "dt_false_pos, dt_true_pos, _ = roc_curve(actual, xg_tree_prob)\n",
        "dt_auc = auc(dt_false_pos, dt_true_pos)\n",
        "\n",
        "# plot\n",
        "plt.plot(dt_false_pos, dt_true_pos, 'r', label='XGBoost Tree AUC = %0.2f'% dt_auc)\n",
        "\n",
        "\n",
        "plt.legend(loc='lower right')\n",
        "plt.plot([0,1], [0,1], 'r--')\n",
        "plt.ylabel('True Positive Rate')\n",
        "plt.xlabel('False Positive Rate')\n",
        "plt.show()"
      ],
      "execution_count": null,
      "outputs": [
        {
          "data": {
            "image/png": "[encoded data removed]",
            "text/plain": [
              "<Figure size 432x288 with 1 Axes>"
            ]
          },
          "metadata": {},
          "output_type": "display_data"
        }
      ]
    },
    {
      "cell_type": "code",
      "metadata": {
        "colab": {
          "base_uri": "https://localhost:8080/",
          "height": 463
        },
        "id": "tv7hRhz_R0eS",
        "outputId": "50e1264c-0eef-4b67-94c1-ea43d3b43b48"
      },
      "source": [
        "clf = MLPClassifier((20, 20, ), max_iter=100000).fit(xtrain, ytrain)\n",
        "predicted_values = clf.predict(X_test)\n",
        "print_confusion_matrix(predicted_values, y_test, [\"0\", \"1\"])\n",
        "print(\"Accuracy:\", metrics.accuracy_score(y_test, predicted_values))"
      ],
      "execution_count": null,
      "outputs": [
        {
          "name": "stdout",
          "output_type": "stream",
          "text": [
            "              precision    recall  f1-score   support\n",
            "\n",
            "           0       0.32      0.61      0.42       600\n",
            "           1       0.81      0.57      0.67      1800\n",
            "\n",
            "    accuracy                           0.58      2400\n",
            "   macro avg       0.57      0.59      0.54      2400\n",
            "weighted avg       0.69      0.58      0.61      2400\n",
            "\n",
            "Accuracy: 0.5779166666666666\n"
          ]
        },
        {
          "data": {
            "image/png": "[encoded data removed]",
            "text/plain": [
              "<Figure size 432x288 with 2 Axes>"
            ]
          },
          "metadata": {},
          "output_type": "display_data"
        }
      ]
    },
    {
      "cell_type": "code",
      "metadata": {
        "colab": {
          "base_uri": "https://localhost:8080/",
          "height": 463
        },
        "id": "YXgC8-QnR0eT",
        "outputId": "45f6ca87-c424-42b3-93fa-8b65e02e040b"
      },
      "source": [
        "clf = MLPClassifier((256, 64, 128, ), max_iter=100000, learning_rate=\"invscaling\").fit(xtrain, ytrain)\n",
        "predicted_values = clf.predict(X_test)\n",
        "print_confusion_matrix(predicted_values, y_test, [\"0\", \"1\"])\n",
        "print(\"Accuracy:\", metrics.accuracy_score(y_test, predicted_values))"
      ],
      "execution_count": null,
      "outputs": [
        {
          "name": "stdout",
          "output_type": "stream",
          "text": [
            "              precision    recall  f1-score   support\n",
            "\n",
            "           0       0.34      0.34      0.34       600\n",
            "           1       0.78      0.78      0.78      1800\n",
            "\n",
            "    accuracy                           0.67      2400\n",
            "   macro avg       0.56      0.56      0.56      2400\n",
            "weighted avg       0.67      0.67      0.67      2400\n",
            "\n",
            "Accuracy: 0.6683333333333333\n"
          ]
        },
        {
          "data": {
            "image/png": "[encoded data removed]",
            "text/plain": [
              "<Figure size 432x288 with 2 Axes>"
            ]
          },
          "metadata": {},
          "output_type": "display_data"
        }
      ]
    }
  ]
}