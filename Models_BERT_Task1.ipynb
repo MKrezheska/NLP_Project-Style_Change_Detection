{
  "nbformat": 4,
  "nbformat_minor": 0,
  "metadata": {
    "colab": {
      "name": "Models_BERT-Task1.ipynb",
      "provenance": [],
      "authorship_tag": "ABX9TyMnMw2dCLvaZHLLuX3gFV7W",
      "include_colab_link": true
    },
    "kernelspec": {
      "name": "python3",
      "display_name": "Python 3"
    },
    "language_info": {
      "name": "python"
    },
    "widgets": {
      "application/vnd.jupyter.widget-state+json": {
        "b975b5c14f9e4afca412387b6e27b1b5": {
          "model_module": "catboost-widget",
          "model_name": "CatboostWidgetModel",
          "model_module_version": "^1.0.0",
          "state": {
            "_view_name": "CatboostWidgetView",
            "_dom_classes": [],
            "_model_name": "CatboostWidgetModel",
            "data": {
              "catboost_info": {
                "content": {
                  "data": {
                    "meta": {
                      "name": "experiment",
                      "parameters": "",
                      "test_metrics": [],
                      "learn_sets": [
                        "learn"
                      ],
                      "launch_mode": "Train",
                      "learn_metrics": [
                        {
                          "best_value": "Min",
                          "name": "Logloss"
                        }
                      ],
                      "iteration_count": 1000,
                      "test_sets": []
                    },
                    "iterations": [
                      {
                        "passed_time": 0.3266520791,
                        "iteration": 0,
                        "remaining_time": 326.3254271,
                        "learn": [
                          0.6835732948
                        ]
                      },
                      {
                        "passed_time": 0.5507456383,
                        "iteration": 1,
                        "remaining_time": 274.8220735,
                        "learn": [
                          0.6746848592
                        ]
                      },
                      {
                        "passed_time": 0.7731338843,
                        "iteration": 2,
                        "remaining_time": 256.9381609,
                        "learn": [
                          0.6661283265
                        ]
                      },
                      {
                        "passed_time": 1.006996882,
                        "iteration": 3,
                        "remaining_time": 250.7422237,
                        "learn": [
                          0.6578379846
                        ]
                      },
                      {
                        "passed_time": 1.223476884,
                        "iteration": 4,
                        "remaining_time": 243.4719,
                        "learn": [
                          0.6499715453
                        ]
                      },
                      {
                        "passed_time": 1.433408341,
                        "iteration": 5,
                        "remaining_time": 237.4679819,
                        "learn": [
                          0.6426076006
                        ]
                      },
                      {
                        "passed_time": 1.647899869,
                        "iteration": 6,
                        "remaining_time": 233.7663671,
                        "learn": [
                          0.6354897652
                        ]
                      },
                      {
                        "passed_time": 1.860943618,
                        "iteration": 7,
                        "remaining_time": 230.7570086,
                        "learn": [
                          0.6292603646
                        ]
                      },
                      {
                        "passed_time": 2.085942088,
                        "iteration": 8,
                        "remaining_time": 229.685401,
                        "learn": [
                          0.6233854633
                        ]
                      },
                      {
                        "passed_time": 2.303864686,
                        "iteration": 9,
                        "remaining_time": 228.0826039,
                        "learn": [
                          0.6177855899
                        ]
                      },
                      {
                        "passed_time": 2.5123549,
                        "iteration": 10,
                        "remaining_time": 225.8835451,
                        "learn": [
                          0.6126279638
                        ]
                      },
                      {
                        "passed_time": 2.724351384,
                        "iteration": 11,
                        "remaining_time": 224.3049306,
                        "learn": [
                          0.6077394653
                        ]
                      },
                      {
                        "passed_time": 2.947168642,
                        "iteration": 12,
                        "remaining_time": 223.7581115,
                        "learn": [
                          0.6027110367
                        ]
                      },
                      {
                        "passed_time": 3.174941465,
                        "iteration": 13,
                        "remaining_time": 223.6065917,
                        "learn": [
                          0.5981501009
                        ]
                      },
                      {
                        "passed_time": 3.387779936,
                        "iteration": 14,
                        "remaining_time": 222.4642158,
                        "learn": [
                          0.5934228823
                        ]
                      },
                      {
                        "passed_time": 3.605740016,
                        "iteration": 15,
                        "remaining_time": 221.753011,
                        "learn": [
                          0.5891041345
                        ]
                      },
                      {
                        "passed_time": 3.81698298,
                        "iteration": 16,
                        "remaining_time": 220.7114276,
                        "learn": [
                          0.5853524017
                        ]
                      },
                      {
                        "passed_time": 4.046439444,
                        "iteration": 17,
                        "remaining_time": 220.7557519,
                        "learn": [
                          0.5813707487
                        ]
                      },
                      {
                        "passed_time": 4.266331059,
                        "iteration": 18,
                        "remaining_time": 220.2774089,
                        "learn": [
                          0.5776732531
                        ]
                      },
                      {
                        "passed_time": 4.488531295,
                        "iteration": 19,
                        "remaining_time": 219.9380335,
                        "learn": [
                          0.5741912275
                        ]
                      },
                      {
                        "passed_time": 4.702251902,
                        "iteration": 20,
                        "remaining_time": 219.2145053,
                        "learn": [
                          0.570870967
                        ]
                      },
                      {
                        "passed_time": 4.91715762,
                        "iteration": 21,
                        "remaining_time": 218.5900069,
                        "learn": [
                          0.567837491
                        ]
                      },
                      {
                        "passed_time": 5.147686166,
                        "iteration": 22,
                        "remaining_time": 218.6647558,
                        "learn": [
                          0.565134934
                        ]
                      },
                      {
                        "passed_time": 5.363777611,
                        "iteration": 23,
                        "remaining_time": 218.1269562,
                        "learn": [
                          0.5623295896
                        ]
                      },
                      {
                        "passed_time": 5.580537958,
                        "iteration": 24,
                        "remaining_time": 217.6409804,
                        "learn": [
                          0.5596086676
                        ]
                      },
                      {
                        "passed_time": 5.793782283,
                        "iteration": 25,
                        "remaining_time": 217.0439978,
                        "learn": [
                          0.5569563824
                        ]
                      },
                      {
                        "passed_time": 6.024119973,
                        "iteration": 26,
                        "remaining_time": 217.0914346,
                        "learn": [
                          0.5543631173
                        ]
                      },
                      {
                        "passed_time": 6.253246225,
                        "iteration": 27,
                        "remaining_time": 217.0769761,
                        "learn": [
                          0.5517324827
                        ]
                      },
                      {
                        "passed_time": 6.47232517,
                        "iteration": 28,
                        "remaining_time": 216.7113014,
                        "learn": [
                          0.5494123846
                        ]
                      },
                      {
                        "passed_time": 6.68840118,
                        "iteration": 29,
                        "remaining_time": 216.2583048,
                        "learn": [
                          0.5472694835
                        ]
                      },
                      {
                        "passed_time": 6.900740265,
                        "iteration": 30,
                        "remaining_time": 215.7037844,
                        "learn": [
                          0.5452597227
                        ]
                      },
                      {
                        "passed_time": 7.143401361,
                        "iteration": 31,
                        "remaining_time": 216.0878912,
                        "learn": [
                          0.5433505424
                        ]
                      },
                      {
                        "passed_time": 7.354168388,
                        "iteration": 32,
                        "remaining_time": 215.4994191,
                        "learn": [
                          0.5413419574
                        ]
                      },
                      {
                        "passed_time": 7.568008611,
                        "iteration": 33,
                        "remaining_time": 215.02048,
                        "learn": [
                          0.5396383332
                        ]
                      },
                      {
                        "passed_time": 7.802765892,
                        "iteration": 34,
                        "remaining_time": 215.1334024,
                        "learn": [
                          0.5377915898
                        ]
                      },
                      {
                        "passed_time": 8.019123484,
                        "iteration": 35,
                        "remaining_time": 214.7343066,
                        "learn": [
                          0.5363056282
                        ]
                      },
                      {
                        "passed_time": 8.247546842,
                        "iteration": 36,
                        "remaining_time": 214.6591246,
                        "learn": [
                          0.534732053
                        ]
                      },
                      {
                        "passed_time": 8.461566957,
                        "iteration": 37,
                        "remaining_time": 214.2112477,
                        "learn": [
                          0.532981226
                        ]
                      },
                      {
                        "passed_time": 8.672791396,
                        "iteration": 38,
                        "remaining_time": 213.7064752,
                        "learn": [
                          0.5313319278
                        ]
                      },
                      {
                        "passed_time": 8.882992553,
                        "iteration": 39,
                        "remaining_time": 213.1918213,
                        "learn": [
                          0.5298181147
                        ]
                      },
                      {
                        "passed_time": 9.106512712,
                        "iteration": 40,
                        "remaining_time": 213.0035534,
                        "learn": [
                          0.5285457106
                        ]
                      },
                      {
                        "passed_time": 9.322130447,
                        "iteration": 41,
                        "remaining_time": 212.6333564,
                        "learn": [
                          0.5271587285
                        ]
                      },
                      {
                        "passed_time": 9.539932567,
                        "iteration": 42,
                        "remaining_time": 212.3189643,
                        "learn": [
                          0.5256661686
                        ]
                      },
                      {
                        "passed_time": 9.751176811,
                        "iteration": 43,
                        "remaining_time": 211.866478,
                        "learn": [
                          0.5244077731
                        ]
                      },
                      {
                        "passed_time": 9.962702125,
                        "iteration": 44,
                        "remaining_time": 211.4306784,
                        "learn": [
                          0.5229596497
                        ]
                      },
                      {
                        "passed_time": 10.19287372,
                        "iteration": 45,
                        "remaining_time": 211.3913375,
                        "learn": [
                          0.5217606695
                        ]
                      },
                      {
                        "passed_time": 10.40324416,
                        "iteration": 46,
                        "remaining_time": 210.9423762,
                        "learn": [
                          0.5203721296
                        ]
                      },
                      {
                        "passed_time": 10.61154083,
                        "iteration": 47,
                        "remaining_time": 210.4622265,
                        "learn": [
                          0.5190967647
                        ]
                      },
                      {
                        "passed_time": 10.83167355,
                        "iteration": 48,
                        "remaining_time": 210.2228887,
                        "learn": [
                          0.5178753614
                        ]
                      },
                      {
                        "passed_time": 11.04369205,
                        "iteration": 49,
                        "remaining_time": 209.830149,
                        "learn": [
                          0.5169097145
                        ]
                      },
                      {
                        "passed_time": 11.28085408,
                        "iteration": 50,
                        "remaining_time": 209.9123632,
                        "learn": [
                          0.5158560606
                        ]
                      },
                      {
                        "passed_time": 11.49550883,
                        "iteration": 51,
                        "remaining_time": 209.5719687,
                        "learn": [
                          0.5146660343
                        ]
                      },
                      {
                        "passed_time": 11.70916283,
                        "iteration": 52,
                        "remaining_time": 209.2184377,
                        "learn": [
                          0.5136274701
                        ]
                      },
                      {
                        "passed_time": 11.92564953,
                        "iteration": 53,
                        "remaining_time": 208.9197121,
                        "learn": [
                          0.5125067224
                        ]
                      },
                      {
                        "passed_time": 12.15356393,
                        "iteration": 54,
                        "remaining_time": 208.8203257,
                        "learn": [
                          0.5114813699
                        ]
                      },
                      {
                        "passed_time": 12.36058562,
                        "iteration": 55,
                        "remaining_time": 208.3641576,
                        "learn": [
                          0.5106305652
                        ]
                      },
                      {
                        "passed_time": 12.57458645,
                        "iteration": 56,
                        "remaining_time": 208.0321935,
                        "learn": [
                          0.5096110726
                        ]
                      },
                      {
                        "passed_time": 12.78913892,
                        "iteration": 57,
                        "remaining_time": 207.7132563,
                        "learn": [
                          0.5087229732
                        ]
                      },
                      {
                        "passed_time": 13.00530825,
                        "iteration": 58,
                        "remaining_time": 207.4236451,
                        "learn": [
                          0.5078650054
                        ]
                      },
                      {
                        "passed_time": 13.23560496,
                        "iteration": 59,
                        "remaining_time": 207.357811,
                        "learn": [
                          0.5070935354
                        ]
                      },
                      {
                        "passed_time": 13.44658554,
                        "iteration": 60,
                        "remaining_time": 206.989243,
                        "learn": [
                          0.5061128858
                        ]
                      },
                      {
                        "passed_time": 13.6556265,
                        "iteration": 61,
                        "remaining_time": 206.5964139,
                        "learn": [
                          0.5052379794
                        ]
                      },
                      {
                        "passed_time": 13.87141745,
                        "iteration": 62,
                        "remaining_time": 206.3098119,
                        "learn": [
                          0.5043799091
                        ]
                      },
                      {
                        "passed_time": 14.08274014,
                        "iteration": 63,
                        "remaining_time": 205.9600745,
                        "learn": [
                          0.5037066041
                        ]
                      },
                      {
                        "passed_time": 14.31748649,
                        "iteration": 64,
                        "remaining_time": 205.9515365,
                        "learn": [
                          0.5030318102
                        ]
                      },
                      {
                        "passed_time": 14.5369597,
                        "iteration": 65,
                        "remaining_time": 205.7200055,
                        "learn": [
                          0.5022777521
                        ]
                      },
                      {
                        "passed_time": 14.74195201,
                        "iteration": 66,
                        "remaining_time": 205.2871824,
                        "learn": [
                          0.5015370301
                        ]
                      },
                      {
                        "passed_time": 14.95466115,
                        "iteration": 67,
                        "remaining_time": 204.9668263,
                        "learn": [
                          0.5008826624
                        ]
                      },
                      {
                        "passed_time": 15.17791185,
                        "iteration": 68,
                        "remaining_time": 204.7918251,
                        "learn": [
                          0.5000745012
                        ]
                      },
                      {
                        "passed_time": 15.403906,
                        "iteration": 69,
                        "remaining_time": 204.651894,
                        "learn": [
                          0.4993663
                        ]
                      },
                      {
                        "passed_time": 15.61434456,
                        "iteration": 70,
                        "remaining_time": 204.3060014,
                        "learn": [
                          0.4985215841
                        ]
                      },
                      {
                        "passed_time": 15.8248572,
                        "iteration": 71,
                        "remaining_time": 203.9648261,
                        "learn": [
                          0.4978334708
                        ]
                      },
                      {
                        "passed_time": 16.0467964,
                        "iteration": 72,
                        "remaining_time": 203.7723323,
                        "learn": [
                          0.4971091043
                        ]
                      },
                      {
                        "passed_time": 16.2794054,
                        "iteration": 73,
                        "remaining_time": 203.7125595,
                        "learn": [
                          0.4965827087
                        ]
                      },
                      {
                        "passed_time": 16.49553516,
                        "iteration": 74,
                        "remaining_time": 203.4449337,
                        "learn": [
                          0.4959446606
                        ]
                      },
                      {
                        "passed_time": 16.70228436,
                        "iteration": 75,
                        "remaining_time": 203.0646151,
                        "learn": [
                          0.4953436854
                        ]
                      },
                      {
                        "passed_time": 16.92175336,
                        "iteration": 76,
                        "remaining_time": 202.8412773,
                        "learn": [
                          0.4947358261
                        ]
                      },
                      {
                        "passed_time": 17.12946028,
                        "iteration": 77,
                        "remaining_time": 202.4790049,
                        "learn": [
                          0.4941201104
                        ]
                      },
                      {
                        "passed_time": 17.36690441,
                        "iteration": 78,
                        "remaining_time": 202.4673287,
                        "learn": [
                          0.4935217136
                        ]
                      },
                      {
                        "passed_time": 17.58369788,
                        "iteration": 79,
                        "remaining_time": 202.2125256,
                        "learn": [
                          0.4928932153
                        ]
                      },
                      {
                        "passed_time": 17.79962986,
                        "iteration": 80,
                        "remaining_time": 201.9488869,
                        "learn": [
                          0.4923545443
                        ]
                      },
                      {
                        "passed_time": 18.03234092,
                        "iteration": 81,
                        "remaining_time": 201.8742556,
                        "learn": [
                          0.4917128128
                        ]
                      },
                      {
                        "passed_time": 18.27225407,
                        "iteration": 82,
                        "remaining_time": 201.8753853,
                        "learn": [
                          0.4912657738
                        ]
                      },
                      {
                        "passed_time": 18.48300659,
                        "iteration": 83,
                        "remaining_time": 201.5527861,
                        "learn": [
                          0.4906381661
                        ]
                      },
                      {
                        "passed_time": 18.69607232,
                        "iteration": 84,
                        "remaining_time": 201.2577197,
                        "learn": [
                          0.4900399276
                        ]
                      },
                      {
                        "passed_time": 18.90230515,
                        "iteration": 85,
                        "remaining_time": 200.8919407,
                        "learn": [
                          0.4894613046
                        ]
                      },
                      {
                        "passed_time": 19.11770593,
                        "iteration": 86,
                        "remaining_time": 200.6260404,
                        "learn": [
                          0.4888552981
                        ]
                      },
                      {
                        "passed_time": 19.35076666,
                        "iteration": 87,
                        "remaining_time": 200.544309,
                        "learn": [
                          0.4882891798
                        ]
                      },
                      {
                        "passed_time": 19.56569162,
                        "iteration": 88,
                        "remaining_time": 200.2735401,
                        "learn": [
                          0.4877086142
                        ]
                      },
                      {
                        "passed_time": 19.78185128,
                        "iteration": 89,
                        "remaining_time": 200.0164963,
                        "learn": [
                          0.4871969364
                        ]
                      },
                      {
                        "passed_time": 19.99084491,
                        "iteration": 90,
                        "remaining_time": 199.6887695,
                        "learn": [
                          0.4866259165
                        ]
                      },
                      {
                        "passed_time": 20.21368329,
                        "iteration": 91,
                        "remaining_time": 199.5002655,
                        "learn": [
                          0.4860181866
                        ]
                      },
                      {
                        "passed_time": 20.43167973,
                        "iteration": 92,
                        "remaining_time": 199.2638012,
                        "learn": [
                          0.4853617323
                        ]
                      },
                      {
                        "passed_time": 20.64732903,
                        "iteration": 93,
                        "remaining_time": 199.0051075,
                        "learn": [
                          0.4848932512
                        ]
                      },
                      {
                        "passed_time": 20.86043266,
                        "iteration": 94,
                        "remaining_time": 198.723069,
                        "learn": [
                          0.4843874397
                        ]
                      },
                      {
                        "passed_time": 21.07330469,
                        "iteration": 95,
                        "remaining_time": 198.4402858,
                        "learn": [
                          0.4838087834
                        ]
                      },
                      {
                        "passed_time": 21.29772036,
                        "iteration": 96,
                        "remaining_time": 198.2664071,
                        "learn": [
                          0.4832777722
                        ]
                      },
                      {
                        "passed_time": 21.51522736,
                        "iteration": 97,
                        "remaining_time": 198.027909,
                        "learn": [
                          0.4827792587
                        ]
                      },
                      {
                        "passed_time": 21.72684723,
                        "iteration": 98,
                        "remaining_time": 197.7362561,
                        "learn": [
                          0.4823278714
                        ]
                      },
                      {
                        "passed_time": 21.94036623,
                        "iteration": 99,
                        "remaining_time": 197.4632961,
                        "learn": [
                          0.4818034034
                        ]
                      },
                      {
                        "passed_time": 22.14821919,
                        "iteration": 100,
                        "remaining_time": 197.1410797,
                        "learn": [
                          0.4813077144
                        ]
                      },
                      {
                        "passed_time": 22.38383446,
                        "iteration": 101,
                        "remaining_time": 197.065523,
                        "learn": [
                          0.480831102
                        ]
                      },
                      {
                        "passed_time": 22.59721111,
                        "iteration": 102,
                        "remaining_time": 196.793188,
                        "learn": [
                          0.4803432129
                        ]
                      },
                      {
                        "passed_time": 22.80775458,
                        "iteration": 103,
                        "remaining_time": 196.4975779,
                        "learn": [
                          0.4798315589
                        ]
                      },
                      {
                        "passed_time": 23.02195557,
                        "iteration": 104,
                        "remaining_time": 196.2347641,
                        "learn": [
                          0.4793916435
                        ]
                      },
                      {
                        "passed_time": 23.24420018,
                        "iteration": 105,
                        "remaining_time": 196.0407072,
                        "learn": [
                          0.4789507608
                        ]
                      },
                      {
                        "passed_time": 23.46151897,
                        "iteration": 106,
                        "remaining_time": 195.8050134,
                        "learn": [
                          0.4784926867
                        ]
                      },
                      {
                        "passed_time": 23.67377202,
                        "iteration": 107,
                        "remaining_time": 195.5278208,
                        "learn": [
                          0.4780754
                        ]
                      },
                      {
                        "passed_time": 23.88254727,
                        "iteration": 108,
                        "remaining_time": 195.223391,
                        "learn": [
                          0.4775365662
                        ]
                      },
                      {
                        "passed_time": 24.09947142,
                        "iteration": 109,
                        "remaining_time": 194.9866324,
                        "learn": [
                          0.477019007
                        ]
                      },
                      {
                        "passed_time": 24.31681066,
                        "iteration": 110,
                        "remaining_time": 194.7535556,
                        "learn": [
                          0.4765483476
                        ]
                      },
                      {
                        "passed_time": 24.54250808,
                        "iteration": 111,
                        "remaining_time": 194.5870284,
                        "learn": [
                          0.4761319169
                        ]
                      },
                      {
                        "passed_time": 24.76034128,
                        "iteration": 112,
                        "remaining_time": 194.3577232,
                        "learn": [
                          0.4756002979
                        ]
                      },
                      {
                        "passed_time": 24.96750187,
                        "iteration": 113,
                        "remaining_time": 194.0456724,
                        "learn": [
                          0.4752154898
                        ]
                      },
                      {
                        "passed_time": 25.18573909,
                        "iteration": 114,
                        "remaining_time": 193.8206877,
                        "learn": [
                          0.474784155
                        ]
                      },
                      {
                        "passed_time": 25.4175017,
                        "iteration": 115,
                        "remaining_time": 193.6988923,
                        "learn": [
                          0.4742896963
                        ]
                      },
                      {
                        "passed_time": 25.63207102,
                        "iteration": 116,
                        "remaining_time": 193.445459,
                        "learn": [
                          0.4737726452
                        ]
                      },
                      {
                        "passed_time": 25.84894674,
                        "iteration": 117,
                        "remaining_time": 193.209924,
                        "learn": [
                          0.4733936721
                        ]
                      },
                      {
                        "passed_time": 26.06293917,
                        "iteration": 118,
                        "remaining_time": 192.9533564,
                        "learn": [
                          0.4729467929
                        ]
                      },
                      {
                        "passed_time": 26.27352835,
                        "iteration": 119,
                        "remaining_time": 192.6725413,
                        "learn": [
                          0.4725816122
                        ]
                      },
                      {
                        "passed_time": 26.50186191,
                        "iteration": 120,
                        "remaining_time": 192.5217902,
                        "learn": [
                          0.4721817358
                        ]
                      },
                      {
                        "passed_time": 26.72022688,
                        "iteration": 121,
                        "remaining_time": 192.2980263,
                        "learn": [
                          0.4717991209
                        ]
                      },
                      {
                        "passed_time": 26.93667186,
                        "iteration": 122,
                        "remaining_time": 192.0606603,
                        "learn": [
                          0.4714011038
                        ]
                      },
                      {
                        "passed_time": 27.14742429,
                        "iteration": 123,
                        "remaining_time": 191.7834168,
                        "learn": [
                          0.4709333665
                        ]
                      },
                      {
                        "passed_time": 27.37593538,
                        "iteration": 124,
                        "remaining_time": 191.6315476,
                        "learn": [
                          0.4705602845
                        ]
                      },
                      {
                        "passed_time": 27.60191848,
                        "iteration": 125,
                        "remaining_time": 191.4609266,
                        "learn": [
                          0.4701999032
                        ]
                      },
                      {
                        "passed_time": 27.82340375,
                        "iteration": 126,
                        "remaining_time": 191.2585155,
                        "learn": [
                          0.469685001
                        ]
                      },
                      {
                        "passed_time": 28.04073599,
                        "iteration": 127,
                        "remaining_time": 191.0275139,
                        "learn": [
                          0.4692473205
                        ]
                      },
                      {
                        "passed_time": 28.26253227,
                        "iteration": 128,
                        "remaining_time": 190.8268652,
                        "learn": [
                          0.468846516
                        ]
                      },
                      {
                        "passed_time": 28.49504944,
                        "iteration": 129,
                        "remaining_time": 190.6976386,
                        "learn": [
                          0.4683911191
                        ]
                      },
                      {
                        "passed_time": 28.70630789,
                        "iteration": 130,
                        "remaining_time": 190.4258134,
                        "learn": [
                          0.4681124691
                        ]
                      },
                      {
                        "passed_time": 28.91160883,
                        "iteration": 131,
                        "remaining_time": 190.1157308,
                        "learn": [
                          0.4677864126
                        ]
                      },
                      {
                        "passed_time": 29.13401136,
                        "iteration": 132,
                        "remaining_time": 189.9187057,
                        "learn": [
                          0.4673360158
                        ]
                      },
                      {
                        "passed_time": 29.3674962,
                        "iteration": 133,
                        "remaining_time": 189.7929232,
                        "learn": [
                          0.4669051918
                        ]
                      },
                      {
                        "passed_time": 29.59642299,
                        "iteration": 134,
                        "remaining_time": 189.6363399,
                        "learn": [
                          0.4664709902
                        ]
                      },
                      {
                        "passed_time": 29.8112202,
                        "iteration": 135,
                        "remaining_time": 189.3889283,
                        "learn": [
                          0.4660065309
                        ]
                      },
                      {
                        "passed_time": 30.0265503,
                        "iteration": 136,
                        "remaining_time": 189.1453497,
                        "learn": [
                          0.4655999092
                        ]
                      },
                      {
                        "passed_time": 30.2380774,
                        "iteration": 137,
                        "remaining_time": 188.8784255,
                        "learn": [
                          0.4652431463
                        ]
                      },
                      {
                        "passed_time": 30.46987247,
                        "iteration": 138,
                        "remaining_time": 188.7378431,
                        "learn": [
                          0.4647693678
                        ]
                      },
                      {
                        "passed_time": 30.69374212,
                        "iteration": 139,
                        "remaining_time": 188.547273,
                        "learn": [
                          0.4643565688
                        ]
                      },
                      {
                        "passed_time": 30.91601222,
                        "iteration": 140,
                        "remaining_time": 188.3464858,
                        "learn": [
                          0.4639317665
                        ]
                      },
                      {
                        "passed_time": 31.12916353,
                        "iteration": 141,
                        "remaining_time": 188.090298,
                        "learn": [
                          0.4636311174
                        ]
                      },
                      {
                        "passed_time": 31.34142678,
                        "iteration": 142,
                        "remaining_time": 187.8293899,
                        "learn": [
                          0.463269493
                        ]
                      },
                      {
                        "passed_time": 31.57691383,
                        "iteration": 143,
                        "remaining_time": 187.70721,
                        "learn": [
                          0.4628169907
                        ]
                      },
                      {
                        "passed_time": 31.79253495,
                        "iteration": 144,
                        "remaining_time": 187.4663268,
                        "learn": [
                          0.4625408099
                        ]
                      },
                      {
                        "passed_time": 32.012073,
                        "iteration": 145,
                        "remaining_time": 187.2487009,
                        "learn": [
                          0.4620456497
                        ]
                      },
                      {
                        "passed_time": 32.22546668,
                        "iteration": 146,
                        "remaining_time": 186.9953951,
                        "learn": [
                          0.4616589864
                        ]
                      },
                      {
                        "passed_time": 32.44760368,
                        "iteration": 147,
                        "remaining_time": 186.7929617,
                        "learn": [
                          0.4612348691
                        ]
                      },
                      {
                        "passed_time": 32.66186378,
                        "iteration": 148,
                        "remaining_time": 186.5452757,
                        "learn": [
                          0.4608898551
                        ]
                      },
                      {
                        "passed_time": 32.88058663,
                        "iteration": 149,
                        "remaining_time": 186.3233243,
                        "learn": [
                          0.4604249744
                        ]
                      },
                      {
                        "passed_time": 33.09397383,
                        "iteration": 150,
                        "remaining_time": 186.0714158,
                        "learn": [
                          0.4600190167
                        ]
                      },
                      {
                        "passed_time": 33.30960741,
                        "iteration": 151,
                        "remaining_time": 185.8325466,
                        "learn": [
                          0.4594692582
                        ]
                      },
                      {
                        "passed_time": 33.53547238,
                        "iteration": 152,
                        "remaining_time": 185.6506216,
                        "learn": [
                          0.4592099654
                        ]
                      },
                      {
                        "passed_time": 33.76461626,
                        "iteration": 153,
                        "remaining_time": 185.4861387,
                        "learn": [
                          0.4588731478
                        ]
                      },
                      {
                        "passed_time": 33.97522415,
                        "iteration": 154,
                        "remaining_time": 185.2197704,
                        "learn": [
                          0.4585510371
                        ]
                      },
                      {
                        "passed_time": 34.1942011,
                        "iteration": 155,
                        "remaining_time": 184.9993957,
                        "learn": [
                          0.4581534227
                        ]
                      },
                      {
                        "passed_time": 34.4021558,
                        "iteration": 156,
                        "remaining_time": 184.7198556,
                        "learn": [
                          0.4577846894
                        ]
                      },
                      {
                        "passed_time": 34.63116613,
                        "iteration": 157,
                        "remaining_time": 184.5534296,
                        "learn": [
                          0.4575023995
                        ]
                      },
                      {
                        "passed_time": 34.85570632,
                        "iteration": 158,
                        "remaining_time": 184.3625724,
                        "learn": [
                          0.4571430243
                        ]
                      },
                      {
                        "passed_time": 35.06772485,
                        "iteration": 159,
                        "remaining_time": 184.1055555,
                        "learn": [
                          0.4567911271
                        ]
                      },
                      {
                        "passed_time": 35.28581449,
                        "iteration": 160,
                        "remaining_time": 183.8807352,
                        "learn": [
                          0.4563795186
                        ]
                      },
                      {
                        "passed_time": 35.50693488,
                        "iteration": 161,
                        "remaining_time": 183.6716755,
                        "learn": [
                          0.4559303678
                        ]
                      },
                      {
                        "passed_time": 35.7316315,
                        "iteration": 162,
                        "remaining_time": 183.4808317,
                        "learn": [
                          0.4556080784
                        ]
                      },
                      {
                        "passed_time": 35.94613959,
                        "iteration": 163,
                        "remaining_time": 183.2376384,
                        "learn": [
                          0.4552650845
                        ]
                      },
                      {
                        "passed_time": 36.16272179,
                        "iteration": 164,
                        "remaining_time": 183.0052891,
                        "learn": [
                          0.454803525
                        ]
                      },
                      {
                        "passed_time": 36.38062819,
                        "iteration": 165,
                        "remaining_time": 182.7797826,
                        "learn": [
                          0.4544267497
                        ]
                      },
                      {
                        "passed_time": 36.61414233,
                        "iteration": 166,
                        "remaining_time": 182.6322189,
                        "learn": [
                          0.4541264479
                        ]
                      },
                      {
                        "passed_time": 36.84051313,
                        "iteration": 167,
                        "remaining_time": 182.4482555,
                        "learn": [
                          0.4537916078
                        ]
                      },
                      {
                        "passed_time": 37.05037579,
                        "iteration": 168,
                        "remaining_time": 182.182617,
                        "learn": [
                          0.453449635
                        ]
                      },
                      {
                        "passed_time": 37.27283084,
                        "iteration": 169,
                        "remaining_time": 181.9791153,
                        "learn": [
                          0.4529742505
                        ]
                      },
                      {
                        "passed_time": 37.50594531,
                        "iteration": 170,
                        "remaining_time": 181.8270682,
                        "learn": [
                          0.452592397
                        ]
                      },
                      {
                        "passed_time": 37.73134343,
                        "iteration": 171,
                        "remaining_time": 181.6369323,
                        "learn": [
                          0.4521998084
                        ]
                      },
                      {
                        "passed_time": 37.94594885,
                        "iteration": 172,
                        "remaining_time": 181.3947959,
                        "learn": [
                          0.4519717525
                        ]
                      },
                      {
                        "passed_time": 38.16513396,
                        "iteration": 173,
                        "remaining_time": 181.1747164,
                        "learn": [
                          0.451613027
                        ]
                      },
                      {
                        "passed_time": 38.38281572,
                        "iteration": 174,
                        "remaining_time": 180.9475598,
                        "learn": [
                          0.4513601937
                        ]
                      },
                      {
                        "passed_time": 38.6114707,
                        "iteration": 175,
                        "remaining_time": 180.7718856,
                        "learn": [
                          0.4509181633
                        ]
                      },
                      {
                        "passed_time": 38.83445967,
                        "iteration": 176,
                        "remaining_time": 180.5692673,
                        "learn": [
                          0.4506261511
                        ]
                      },
                      {
                        "passed_time": 39.05177783,
                        "iteration": 177,
                        "remaining_time": 180.3402324,
                        "learn": [
                          0.4503296849
                        ]
                      },
                      {
                        "passed_time": 39.27060586,
                        "iteration": 178,
                        "remaining_time": 180.1182537,
                        "learn": [
                          0.4499354515
                        ]
                      },
                      {
                        "passed_time": 39.48682571,
                        "iteration": 179,
                        "remaining_time": 179.8844282,
                        "learn": [
                          0.4496390211
                        ]
                      },
                      {
                        "passed_time": 39.72046188,
                        "iteration": 180,
                        "remaining_time": 179.7296038,
                        "learn": [
                          0.449273978
                        ]
                      },
                      {
                        "passed_time": 39.94103187,
                        "iteration": 181,
                        "remaining_time": 179.5151872,
                        "learn": [
                          0.4488290969
                        ]
                      },
                      {
                        "passed_time": 40.1546329,
                        "iteration": 182,
                        "remaining_time": 179.2695906,
                        "learn": [
                          0.4484631359
                        ]
                      },
                      {
                        "passed_time": 40.36648377,
                        "iteration": 183,
                        "remaining_time": 179.0165802,
                        "learn": [
                          0.4481782315
                        ]
                      },
                      {
                        "passed_time": 40.59788838,
                        "iteration": 184,
                        "remaining_time": 178.8501569,
                        "learn": [
                          0.4478088468
                        ]
                      },
                      {
                        "passed_time": 40.82427747,
                        "iteration": 185,
                        "remaining_time": 178.6610853,
                        "learn": [
                          0.4475041748
                        ]
                      },
                      {
                        "passed_time": 41.04464306,
                        "iteration": 186,
                        "remaining_time": 178.4454268,
                        "learn": [
                          0.4471738689
                        ]
                      },
                      {
                        "passed_time": 41.26115432,
                        "iteration": 187,
                        "remaining_time": 178.2130708,
                        "learn": [
                          0.4467986895
                        ]
                      },
                      {
                        "passed_time": 41.47475498,
                        "iteration": 188,
                        "remaining_time": 177.9683931,
                        "learn": [
                          0.4465259721
                        ]
                      },
                      {
                        "passed_time": 41.70787846,
                        "iteration": 189,
                        "remaining_time": 177.8072713,
                        "learn": [
                          0.4461442542
                        ]
                      },
                      {
                        "passed_time": 41.92852734,
                        "iteration": 190,
                        "remaining_time": 177.5925582,
                        "learn": [
                          0.4458793427
                        ]
                      },
                      {
                        "passed_time": 42.14490791,
                        "iteration": 191,
                        "remaining_time": 177.3598208,
                        "learn": [
                          0.4456396267
                        ]
                      },
                      {
                        "passed_time": 42.36327908,
                        "iteration": 192,
                        "remaining_time": 177.1355763,
                        "learn": [
                          0.4453429058
                        ]
                      },
                      {
                        "passed_time": 42.59185402,
                        "iteration": 193,
                        "remaining_time": 176.9537853,
                        "learn": [
                          0.4450532043
                        ]
                      },
                      {
                        "passed_time": 42.82089238,
                        "iteration": 194,
                        "remaining_time": 176.7734275,
                        "learn": [
                          0.4447172496
                        ]
                      },
                      {
                        "passed_time": 43.04371919,
                        "iteration": 195,
                        "remaining_time": 176.567093,
                        "learn": [
                          0.4444038571
                        ]
                      },
                      {
                        "passed_time": 43.26102451,
                        "iteration": 196,
                        "remaining_time": 176.3380847,
                        "learn": [
                          0.4440605289
                        ]
                      },
                      {
                        "passed_time": 43.47771658,
                        "iteration": 197,
                        "remaining_time": 176.1067106,
                        "learn": [
                          0.4437065952
                        ]
                      },
                      {
                        "passed_time": 43.72181976,
                        "iteration": 198,
                        "remaining_time": 175.9858172,
                        "learn": [
                          0.4433516933
                        ]
                      },
                      {
                        "passed_time": 43.9465425,
                        "iteration": 199,
                        "remaining_time": 175.78617,
                        "learn": [
                          0.4430555491
                        ]
                      },
                      {
                        "passed_time": 44.16056814,
                        "iteration": 200,
                        "remaining_time": 175.543751,
                        "learn": [
                          0.4427455695
                        ]
                      },
                      {
                        "passed_time": 44.38607674,
                        "iteration": 201,
                        "remaining_time": 175.3469764,
                        "learn": [
                          0.4423892256
                        ]
                      },
                      {
                        "passed_time": 44.60039131,
                        "iteration": 202,
                        "remaining_time": 175.1059698,
                        "learn": [
                          0.4421009053
                        ]
                      },
                      {
                        "passed_time": 44.83907086,
                        "iteration": 203,
                        "remaining_time": 174.9602961,
                        "learn": [
                          0.4418362507
                        ]
                      },
                      {
                        "passed_time": 45.05592091,
                        "iteration": 204,
                        "remaining_time": 174.7290592,
                        "learn": [
                          0.4415842663
                        ]
                      },
                      {
                        "passed_time": 45.26861832,
                        "iteration": 205,
                        "remaining_time": 174.4819561,
                        "learn": [
                          0.4412302671
                        ]
                      },
                      {
                        "passed_time": 45.49617505,
                        "iteration": 206,
                        "remaining_time": 174.2921102,
                        "learn": [
                          0.4409067678
                        ]
                      },
                      {
                        "passed_time": 45.71953226,
                        "iteration": 207,
                        "remaining_time": 174.0859113,
                        "learn": [
                          0.4406551824
                        ]
                      },
                      {
                        "passed_time": 45.93742247,
                        "iteration": 208,
                        "remaining_time": 173.8588573,
                        "learn": [
                          0.4404369201
                        ]
                      },
                      {
                        "passed_time": 46.14723049,
                        "iteration": 209,
                        "remaining_time": 173.6014861,
                        "learn": [
                          0.4401231401
                        ]
                      },
                      {
                        "passed_time": 46.36627847,
                        "iteration": 210,
                        "remaining_time": 173.3791171,
                        "learn": [
                          0.4398868993
                        ]
                      },
                      {
                        "passed_time": 46.5802525,
                        "iteration": 211,
                        "remaining_time": 173.1379197,
                        "learn": [
                          0.4396674832
                        ]
                      },
                      {
                        "passed_time": 46.82618881,
                        "iteration": 212,
                        "remaining_time": 173.0150732,
                        "learn": [
                          0.4393542562
                        ]
                      },
                      {
                        "passed_time": 47.04598474,
                        "iteration": 213,
                        "remaining_time": 172.7950654,
                        "learn": [
                          0.4389978669
                        ]
                      },
                      {
                        "passed_time": 47.26368091,
                        "iteration": 214,
                        "remaining_time": 172.5673931,
                        "learn": [
                          0.438732514
                        ]
                      },
                      {
                        "passed_time": 47.48488251,
                        "iteration": 215,
                        "remaining_time": 172.3525365,
                        "learn": [
                          0.4383202762
                        ]
                      },
                      {
                        "passed_time": 47.71445015,
                        "iteration": 216,
                        "remaining_time": 172.1678086,
                        "learn": [
                          0.4380335596
                        ]
                      },
                      {
                        "passed_time": 47.9434175,
                        "iteration": 217,
                        "remaining_time": 171.980516,
                        "learn": [
                          0.4376946608
                        ]
                      },
                      {
                        "passed_time": 48.15867766,
                        "iteration": 218,
                        "remaining_time": 171.74396,
                        "learn": [
                          0.4373795932
                        ]
                      },
                      {
                        "passed_time": 48.36773153,
                        "iteration": 219,
                        "remaining_time": 171.4855936,
                        "learn": [
                          0.4371312473
                        ]
                      },
                      {
                        "passed_time": 48.58328956,
                        "iteration": 220,
                        "remaining_time": 171.2505999,
                        "learn": [
                          0.4367977793
                        ]
                      },
                      {
                        "passed_time": 48.81605758,
                        "iteration": 221,
                        "remaining_time": 171.0760937,
                        "learn": [
                          0.4364800867
                        ]
                      },
                      {
                        "passed_time": 49.04495373,
                        "iteration": 222,
                        "remaining_time": 170.8875742,
                        "learn": [
                          0.4361269536
                        ]
                      },
                      {
                        "passed_time": 49.2632787,
                        "iteration": 223,
                        "remaining_time": 170.6620726,
                        "learn": [
                          0.4357879388
                        ]
                      },
                      {
                        "passed_time": 49.47887242,
                        "iteration": 224,
                        "remaining_time": 170.4272272,
                        "learn": [
                          0.4354632571
                        ]
                      },
                      {
                        "passed_time": 49.69948425,
                        "iteration": 225,
                        "remaining_time": 170.2097381,
                        "learn": [
                          0.4351652598
                        ]
                      },
                      {
                        "passed_time": 49.94211108,
                        "iteration": 226,
                        "remaining_time": 170.0671888,
                        "learn": [
                          0.434783284
                        ]
                      },
                      {
                        "passed_time": 50.16112132,
                        "iteration": 227,
                        "remaining_time": 169.8437968,
                        "learn": [
                          0.4344999907
                        ]
                      },
                      {
                        "passed_time": 50.37331259,
                        "iteration": 228,
                        "remaining_time": 169.5974847,
                        "learn": [
                          0.4342379916
                        ]
                      },
                      {
                        "passed_time": 50.59033545,
                        "iteration": 229,
                        "remaining_time": 169.3676448,
                        "learn": [
                          0.4338712607
                        ]
                      },
                      {
                        "passed_time": 50.82519705,
                        "iteration": 230,
                        "remaining_time": 169.197301,
                        "learn": [
                          0.4336020781
                        ]
                      },
                      {
                        "passed_time": 51.05313225,
                        "iteration": 231,
                        "remaining_time": 169.0034723,
                        "learn": [
                          0.4333927111
                        ]
                      },
                      {
                        "passed_time": 51.27382651,
                        "iteration": 232,
                        "remaining_time": 168.7855147,
                        "learn": [
                          0.4330527656
                        ]
                      },
                      {
                        "passed_time": 51.48372771,
                        "iteration": 233,
                        "remaining_time": 168.5322027,
                        "learn": [
                          0.4327890729
                        ]
                      },
                      {
                        "passed_time": 51.69616957,
                        "iteration": 234,
                        "remaining_time": 168.2875307,
                        "learn": [
                          0.4325333632
                        ]
                      },
                      {
                        "passed_time": 51.9396836,
                        "iteration": 235,
                        "remaining_time": 168.1437215,
                        "learn": [
                          0.4322582481
                        ]
                      },
                      {
                        "passed_time": 52.15926823,
                        "iteration": 236,
                        "remaining_time": 167.9220323,
                        "learn": [
                          0.4319342593
                        ]
                      },
                      {
                        "passed_time": 52.37259971,
                        "iteration": 237,
                        "remaining_time": 167.6803402,
                        "learn": [
                          0.4316016708
                        ]
                      },
                      {
                        "passed_time": 52.58791106,
                        "iteration": 238,
                        "remaining_time": 167.4451896,
                        "learn": [
                          0.4313119168
                        ]
                      },
                      {
                        "passed_time": 52.79987994,
                        "iteration": 239,
                        "remaining_time": 167.1996198,
                        "learn": [
                          0.4310104393
                        ]
                      },
                      {
                        "passed_time": 53.04813824,
                        "iteration": 240,
                        "remaining_time": 167.0686179,
                        "learn": [
                          0.4307301512
                        ]
                      },
                      {
                        "passed_time": 53.26781498,
                        "iteration": 241,
                        "remaining_time": 166.847123,
                        "learn": [
                          0.4303794135
                        ]
                      },
                      {
                        "passed_time": 53.48387929,
                        "iteration": 242,
                        "remaining_time": 166.6143894,
                        "learn": [
                          0.4299944626
                        ]
                      },
                      {
                        "passed_time": 53.6984826,
                        "iteration": 243,
                        "remaining_time": 166.3772658,
                        "learn": [
                          0.4296779999
                        ]
                      },
                      {
                        "passed_time": 53.93497284,
                        "iteration": 244,
                        "remaining_time": 166.2077735,
                        "learn": [
                          0.4293875624
                        ]
                      },
                      {
                        "passed_time": 54.15610297,
                        "iteration": 245,
                        "remaining_time": 165.9906571,
                        "learn": [
                          0.429190664
                        ]
                      },
                      {
                        "passed_time": 54.37464433,
                        "iteration": 246,
                        "remaining_time": 165.7656161,
                        "learn": [
                          0.428941435
                        ]
                      },
                      {
                        "passed_time": 54.59140242,
                        "iteration": 247,
                        "remaining_time": 165.5352202,
                        "learn": [
                          0.4285528012
                        ]
                      },
                      {
                        "passed_time": 54.80214456,
                        "iteration": 248,
                        "remaining_time": 165.2867894,
                        "learn": [
                          0.4282569335
                        ]
                      },
                      {
                        "passed_time": 55.04811302,
                        "iteration": 249,
                        "remaining_time": 165.1443391,
                        "learn": [
                          0.4279503026
                        ]
                      },
                      {
                        "passed_time": 55.2708462,
                        "iteration": 250,
                        "remaining_time": 164.9317283,
                        "learn": [
                          0.4275973983
                        ]
                      },
                      {
                        "passed_time": 55.48599847,
                        "iteration": 251,
                        "remaining_time": 164.6965352,
                        "learn": [
                          0.4273700495
                        ]
                      },
                      {
                        "passed_time": 55.6950744,
                        "iteration": 252,
                        "remaining_time": 164.4435596,
                        "learn": [
                          0.4271479786
                        ]
                      },
                      {
                        "passed_time": 55.90949263,
                        "iteration": 253,
                        "remaining_time": 164.2066201,
                        "learn": [
                          0.4268585245
                        ]
                      },
                      {
                        "passed_time": 56.15399991,
                        "iteration": 254,
                        "remaining_time": 164.0577645,
                        "learn": [
                          0.4263970409
                        ]
                      },
                      {
                        "passed_time": 56.37520094,
                        "iteration": 255,
                        "remaining_time": 163.8404277,
                        "learn": [
                          0.4260919465
                        ]
                      },
                      {
                        "passed_time": 56.58509018,
                        "iteration": 256,
                        "remaining_time": 163.590358,
                        "learn": [
                          0.4258184558
                        ]
                      },
                      {
                        "passed_time": 56.7992956,
                        "iteration": 257,
                        "remaining_time": 163.3530129,
                        "learn": [
                          0.4256117434
                        ]
                      },
                      {
                        "passed_time": 57.04065368,
                        "iteration": 258,
                        "remaining_time": 163.1935304,
                        "learn": [
                          0.425279093
                        ]
                      },
                      {
                        "passed_time": 57.26204733,
                        "iteration": 259,
                        "remaining_time": 162.9765962,
                        "learn": [
                          0.4249414334
                        ]
                      },
                      {
                        "passed_time": 57.47185183,
                        "iteration": 260,
                        "remaining_time": 162.7268142,
                        "learn": [
                          0.4246450817
                        ]
                      },
                      {
                        "passed_time": 57.68671193,
                        "iteration": 261,
                        "remaining_time": 162.4915779,
                        "learn": [
                          0.4244019069
                        ]
                      },
                      {
                        "passed_time": 57.90288207,
                        "iteration": 262,
                        "remaining_time": 162.2601676,
                        "learn": [
                          0.4241676233
                        ]
                      },
                      {
                        "passed_time": 58.13941136,
                        "iteration": 263,
                        "remaining_time": 162.0856317,
                        "learn": [
                          0.4239089305
                        ]
                      },
                      {
                        "passed_time": 58.35917738,
                        "iteration": 264,
                        "remaining_time": 161.8641335,
                        "learn": [
                          0.4234687379
                        ]
                      },
                      {
                        "passed_time": 58.56534731,
                        "iteration": 265,
                        "remaining_time": 161.6051313,
                        "learn": [
                          0.4231827591
                        ]
                      },
                      {
                        "passed_time": 58.78413179,
                        "iteration": 266,
                        "remaining_time": 161.3811558,
                        "learn": [
                          0.4228660937
                        ]
                      },
                      {
                        "passed_time": 58.99724581,
                        "iteration": 267,
                        "remaining_time": 161.1417311,
                        "learn": [
                          0.4225729969
                        ]
                      },
                      {
                        "passed_time": 59.24223757,
                        "iteration": 268,
                        "remaining_time": 160.9891289,
                        "learn": [
                          0.4222836642
                        ]
                      },
                      {
                        "passed_time": 59.460805,
                        "iteration": 269,
                        "remaining_time": 160.7643987,
                        "learn": [
                          0.4219082576
                        ]
                      },
                      {
                        "passed_time": 59.66930792,
                        "iteration": 270,
                        "remaining_time": 160.5126401,
                        "learn": [
                          0.4216732831
                        ]
                      },
                      {
                        "passed_time": 59.88385547,
                        "iteration": 271,
                        "remaining_time": 160.2773779,
                        "learn": [
                          0.4213670603
                        ]
                      },
                      {
                        "passed_time": 60.12423135,
                        "iteration": 272,
                        "remaining_time": 160.1110483,
                        "learn": [
                          0.4210534446
                        ]
                      },
                      {
                        "passed_time": 60.3462273,
                        "iteration": 273,
                        "remaining_time": 159.8954782,
                        "learn": [
                          0.4207328372
                        ]
                      },
                      {
                        "passed_time": 60.56900095,
                        "iteration": 274,
                        "remaining_time": 159.6819116,
                        "learn": [
                          0.420436438
                        ]
                      },
                      {
                        "passed_time": 60.78681179,
                        "iteration": 275,
                        "remaining_time": 159.4552599,
                        "learn": [
                          0.4201912698
                        ]
                      },
                      {
                        "passed_time": 61.00669121,
                        "iteration": 276,
                        "remaining_time": 159.2340713,
                        "learn": [
                          0.4199489438
                        ]
                      },
                      {
                        "passed_time": 61.25513064,
                        "iteration": 277,
                        "remaining_time": 159.0870659,
                        "learn": [
                          0.4196319396
                        ]
                      },
                      {
                        "passed_time": 61.46711062,
                        "iteration": 278,
                        "remaining_time": 158.8451138,
                        "learn": [
                          0.4193900333
                        ]
                      },
                      {
                        "passed_time": 61.68051863,
                        "iteration": 279,
                        "remaining_time": 158.6070479,
                        "learn": [
                          0.4190487381
                        ]
                      },
                      {
                        "passed_time": 61.90399817,
                        "iteration": 280,
                        "remaining_time": 158.3949277,
                        "learn": [
                          0.4187071147
                        ]
                      },
                      {
                        "passed_time": 62.12721262,
                        "iteration": 281,
                        "remaining_time": 158.182052,
                        "learn": [
                          0.4184250786
                        ]
                      },
                      {
                        "passed_time": 62.37311365,
                        "iteration": 282,
                        "remaining_time": 158.0265812,
                        "learn": [
                          0.4181236874
                        ]
                      },
                      {
                        "passed_time": 62.59195745,
                        "iteration": 283,
                        "remaining_time": 157.8022589,
                        "learn": [
                          0.417865314
                        ]
                      },
                      {
                        "passed_time": 62.8173415,
                        "iteration": 284,
                        "remaining_time": 157.5943831,
                        "learn": [
                          0.4174744181
                        ]
                      },
                      {
                        "passed_time": 63.03489385,
                        "iteration": 285,
                        "remaining_time": 157.3668329,
                        "learn": [
                          0.4172292286
                        ]
                      },
                      {
                        "passed_time": 63.2830457,
                        "iteration": 286,
                        "remaining_time": 157.2153714,
                        "learn": [
                          0.4169302333
                        ]
                      },
                      {
                        "passed_time": 63.50386617,
                        "iteration": 287,
                        "remaining_time": 156.9956691,
                        "learn": [
                          0.4165769021
                        ]
                      },
                      {
                        "passed_time": 63.71170157,
                        "iteration": 288,
                        "remaining_time": 156.7440132,
                        "learn": [
                          0.4163053617
                        ]
                      },
                      {
                        "passed_time": 63.9287344,
                        "iteration": 289,
                        "remaining_time": 156.5151773,
                        "learn": [
                          0.4160209035
                        ]
                      },
                      {
                        "passed_time": 64.1512965,
                        "iteration": 290,
                        "remaining_time": 156.2998942,
                        "learn": [
                          0.415710006
                        ]
                      },
                      {
                        "passed_time": 64.38977508,
                        "iteration": 291,
                        "remaining_time": 156.1231533,
                        "learn": [
                          0.4153951413
                        ]
                      },
                      {
                        "passed_time": 64.60646861,
                        "iteration": 292,
                        "remaining_time": 155.8934243,
                        "learn": [
                          0.4150932448
                        ]
                      },
                      {
                        "passed_time": 64.82063496,
                        "iteration": 293,
                        "remaining_time": 155.6577152,
                        "learn": [
                          0.4147716877
                        ]
                      },
                      {
                        "passed_time": 65.03193336,
                        "iteration": 294,
                        "remaining_time": 155.4152984,
                        "learn": [
                          0.4144385402
                        ]
                      },
                      {
                        "passed_time": 65.26814535,
                        "iteration": 295,
                        "remaining_time": 155.2323457,
                        "learn": [
                          0.4142164879
                        ]
                      },
                      {
                        "passed_time": 65.50080185,
                        "iteration": 296,
                        "remaining_time": 155.0406185,
                        "learn": [
                          0.4138839787
                        ]
                      },
                      {
                        "passed_time": 65.719128,
                        "iteration": 297,
                        "remaining_time": 154.8148586,
                        "learn": [
                          0.4135870923
                        ]
                      },
                      {
                        "passed_time": 65.93848998,
                        "iteration": 298,
                        "remaining_time": 154.5915768,
                        "learn": [
                          0.4132789394
                        ]
                      },
                      {
                        "passed_time": 66.15143011,
                        "iteration": 299,
                        "remaining_time": 154.3533369,
                        "learn": [
                          0.4130248802
                        ]
                      },
                      {
                        "passed_time": 66.40325968,
                        "iteration": 300,
                        "remaining_time": 154.2055765,
                        "learn": [
                          0.4127238095
                        ]
                      },
                      {
                        "passed_time": 66.61974941,
                        "iteration": 301,
                        "remaining_time": 153.9754473,
                        "learn": [
                          0.4124440138
                        ]
                      },
                      {
                        "passed_time": 66.83879831,
                        "iteration": 302,
                        "remaining_time": 153.7512951,
                        "learn": [
                          0.4121210531
                        ]
                      },
                      {
                        "passed_time": 67.05460465,
                        "iteration": 303,
                        "remaining_time": 153.5197528,
                        "learn": [
                          0.4118226777
                        ]
                      },
                      {
                        "passed_time": 67.29169326,
                        "iteration": 304,
                        "remaining_time": 153.3368092,
                        "learn": [
                          0.4115195359
                        ]
                      },
                      {
                        "passed_time": 67.53338772,
                        "iteration": 305,
                        "remaining_time": 153.1639578,
                        "learn": [
                          0.4111974855
                        ]
                      },
                      {
                        "passed_time": 67.76149255,
                        "iteration": 306,
                        "remaining_time": 152.9599816,
                        "learn": [
                          0.4108331824
                        ]
                      },
                      {
                        "passed_time": 67.97831583,
                        "iteration": 307,
                        "remaining_time": 152.7305018,
                        "learn": [
                          0.4105293146
                        ]
                      },
                      {
                        "passed_time": 68.18438185,
                        "iteration": 308,
                        "remaining_time": 152.4770481,
                        "learn": [
                          0.4102216741
                        ]
                      },
                      {
                        "passed_time": 68.43309949,
                        "iteration": 309,
                        "remaining_time": 152.3188344,
                        "learn": [
                          0.4098873118
                        ]
                      },
                      {
                        "passed_time": 68.65438865,
                        "iteration": 310,
                        "remaining_time": 152.0992726,
                        "learn": [
                          0.4095829615
                        ]
                      },
                      {
                        "passed_time": 68.86615595,
                        "iteration": 311,
                        "remaining_time": 151.8587029,
                        "learn": [
                          0.4092928074
                        ]
                      },
                      {
                        "passed_time": 69.08506145,
                        "iteration": 312,
                        "remaining_time": 151.6339847,
                        "learn": [
                          0.4089996889
                        ]
                      },
                      {
                        "passed_time": 69.30753422,
                        "iteration": 313,
                        "remaining_time": 151.4170971,
                        "learn": [
                          0.4086561474
                        ]
                      },
                      {
                        "passed_time": 69.55620526,
                        "iteration": 314,
                        "remaining_time": 151.2571448,
                        "learn": [
                          0.4083537675
                        ]
                      },
                      {
                        "passed_time": 69.77380028,
                        "iteration": 315,
                        "remaining_time": 151.0293652,
                        "learn": [
                          0.4080904657
                        ]
                      },
                      {
                        "passed_time": 69.99049403,
                        "iteration": 316,
                        "remaining_time": 150.799708,
                        "learn": [
                          0.4078250588
                        ]
                      },
                      {
                        "passed_time": 70.21130323,
                        "iteration": 317,
                        "remaining_time": 150.5789585,
                        "learn": [
                          0.4075553314
                        ]
                      },
                      {
                        "passed_time": 70.45161385,
                        "iteration": 318,
                        "remaining_time": 150.3998402,
                        "learn": [
                          0.4072282042
                        ]
                      },
                      {
                        "passed_time": 70.67647963,
                        "iteration": 319,
                        "remaining_time": 150.1875192,
                        "learn": [
                          0.4068791823
                        ]
                      },
                      {
                        "passed_time": 70.89585045,
                        "iteration": 320,
                        "remaining_time": 149.9634967,
                        "learn": [
                          0.406634599
                        ]
                      },
                      {
                        "passed_time": 71.11005204,
                        "iteration": 321,
                        "remaining_time": 149.7286189,
                        "learn": [
                          0.4062624696
                        ]
                      },
                      {
                        "passed_time": 71.32956768,
                        "iteration": 322,
                        "remaining_time": 149.5050072,
                        "learn": [
                          0.4059732951
                        ]
                      },
                      {
                        "passed_time": 71.56442442,
                        "iteration": 323,
                        "remaining_time": 149.3134287,
                        "learn": [
                          0.4056620739
                        ]
                      },
                      {
                        "passed_time": 71.77522283,
                        "iteration": 324,
                        "remaining_time": 149.0716166,
                        "learn": [
                          0.4053458979
                        ]
                      },
                      {
                        "passed_time": 71.99651996,
                        "iteration": 325,
                        "remaining_time": 148.8517008,
                        "learn": [
                          0.4050152188
                        ]
                      },
                      {
                        "passed_time": 72.22330693,
                        "iteration": 326,
                        "remaining_time": 148.6430751,
                        "learn": [
                          0.4046601875
                        ]
                      },
                      {
                        "passed_time": 72.45123572,
                        "iteration": 327,
                        "remaining_time": 148.4366781,
                        "learn": [
                          0.404314264
                        ]
                      },
                      {
                        "passed_time": 72.68266099,
                        "iteration": 328,
                        "remaining_time": 148.2372812,
                        "learn": [
                          0.4040172187
                        ]
                      },
                      {
                        "passed_time": 72.89762313,
                        "iteration": 329,
                        "remaining_time": 148.0042651,
                        "learn": [
                          0.4037478266
                        ]
                      },
                      {
                        "passed_time": 73.11630325,
                        "iteration": 330,
                        "remaining_time": 147.7788727,
                        "learn": [
                          0.4034246595
                        ]
                      },
                      {
                        "passed_time": 73.33751322,
                        "iteration": 331,
                        "remaining_time": 147.5586109,
                        "learn": [
                          0.4031327365
                        ]
                      },
                      {
                        "passed_time": 73.57270062,
                        "iteration": 332,
                        "remaining_time": 147.3663403,
                        "learn": [
                          0.4027806153
                        ]
                      },
                      {
                        "passed_time": 73.7852583,
                        "iteration": 333,
                        "remaining_time": 147.1286887,
                        "learn": [
                          0.402466077
                        ]
                      },
                      {
                        "passed_time": 74.00345076,
                        "iteration": 334,
                        "remaining_time": 146.9023724,
                        "learn": [
                          0.4021479972
                        ]
                      },
                      {
                        "passed_time": 74.21372133,
                        "iteration": 335,
                        "remaining_time": 146.6604493,
                        "learn": [
                          0.4018585765
                        ]
                      },
                      {
                        "passed_time": 74.44213505,
                        "iteration": 336,
                        "remaining_time": 146.4544081,
                        "learn": [
                          0.4014635515
                        ]
                      },
                      {
                        "passed_time": 74.68200759,
                        "iteration": 337,
                        "remaining_time": 146.2706776,
                        "learn": [
                          0.4011125072
                        ]
                      },
                      {
                        "passed_time": 74.9078968,
                        "iteration": 338,
                        "remaining_time": 146.0593504,
                        "learn": [
                          0.4008346844
                        ]
                      },
                      {
                        "passed_time": 75.1236225,
                        "iteration": 339,
                        "remaining_time": 145.8282084,
                        "learn": [
                          0.4004943049
                        ]
                      },
                      {
                        "passed_time": 75.33655631,
                        "iteration": 340,
                        "remaining_time": 145.5917613,
                        "learn": [
                          0.4002008085
                        ]
                      },
                      {
                        "passed_time": 75.55835082,
                        "iteration": 341,
                        "remaining_time": 145.3724995,
                        "learn": [
                          0.3998717033
                        ]
                      },
                      {
                        "passed_time": 75.80162099,
                        "iteration": 342,
                        "remaining_time": 145.1943586,
                        "learn": [
                          0.3995401764
                        ]
                      },
                      {
                        "passed_time": 76.01843844,
                        "iteration": 343,
                        "remaining_time": 144.9653942,
                        "learn": [
                          0.3991470711
                        ]
                      },
                      {
                        "passed_time": 76.23185893,
                        "iteration": 344,
                        "remaining_time": 144.730051,
                        "learn": [
                          0.3988182641
                        ]
                      },
                      {
                        "passed_time": 76.45696045,
                        "iteration": 345,
                        "remaining_time": 144.5169137,
                        "learn": [
                          0.3984928824
                        ]
                      },
                      {
                        "passed_time": 76.69555271,
                        "iteration": 346,
                        "remaining_time": 144.3290949,
                        "learn": [
                          0.3981579936
                        ]
                      },
                      {
                        "passed_time": 76.91678669,
                        "iteration": 347,
                        "remaining_time": 144.1084624,
                        "learn": [
                          0.3978202797
                        ]
                      },
                      {
                        "passed_time": 77.13589679,
                        "iteration": 348,
                        "remaining_time": 143.8838648,
                        "learn": [
                          0.3974765105
                        ]
                      },
                      {
                        "passed_time": 77.34711991,
                        "iteration": 349,
                        "remaining_time": 143.6446513,
                        "learn": [
                          0.3971840589
                        ]
                      },
                      {
                        "passed_time": 77.56976182,
                        "iteration": 350,
                        "remaining_time": 143.4267106,
                        "learn": [
                          0.3968025751
                        ]
                      },
                      {
                        "passed_time": 77.80473797,
                        "iteration": 351,
                        "remaining_time": 143.2314495,
                        "learn": [
                          0.3964052331
                        ]
                      },
                      {
                        "passed_time": 78.02673454,
                        "iteration": 352,
                        "remaining_time": 143.0121735,
                        "learn": [
                          0.3960049724
                        ]
                      },
                      {
                        "passed_time": 78.24693243,
                        "iteration": 353,
                        "remaining_time": 142.7895999,
                        "learn": [
                          0.3956719647
                        ]
                      },
                      {
                        "passed_time": 78.46391439,
                        "iteration": 354,
                        "remaining_time": 142.5611966,
                        "learn": [
                          0.3953968883
                        ]
                      },
                      {
                        "passed_time": 78.6819179,
                        "iteration": 355,
                        "remaining_time": 142.3347054,
                        "learn": [
                          0.3949820044
                        ]
                      },
                      {
                        "passed_time": 78.91555073,
                        "iteration": 356,
                        "remaining_time": 142.1364121,
                        "learn": [
                          0.394728946
                        ]
                      },
                      {
                        "passed_time": 79.12872716,
                        "iteration": 357,
                        "remaining_time": 141.901237,
                        "learn": [
                          0.3943860392
                        ]
                      },
                      {
                        "passed_time": 79.34325287,
                        "iteration": 358,
                        "remaining_time": 141.6685936,
                        "learn": [
                          0.3940971424
                        ]
                      },
                      {
                        "passed_time": 79.57196295,
                        "iteration": 359,
                        "remaining_time": 141.4612675,
                        "learn": [
                          0.3937064739
                        ]
                      },
                      {
                        "passed_time": 79.80607266,
                        "iteration": 360,
                        "remaining_time": 141.2633807,
                        "learn": [
                          0.3933951391
                        ]
                      },
                      {
                        "passed_time": 80.02701481,
                        "iteration": 361,
                        "remaining_time": 141.0420869,
                        "learn": [
                          0.3930732114
                        ]
                      },
                      {
                        "passed_time": 80.24504382,
                        "iteration": 362,
                        "remaining_time": 140.815683,
                        "learn": [
                          0.3927244869
                        ]
                      },
                      {
                        "passed_time": 80.47381772,
                        "iteration": 363,
                        "remaining_time": 140.6080991,
                        "learn": [
                          0.3923090902
                        ]
                      },
                      {
                        "passed_time": 80.68456266,
                        "iteration": 364,
                        "remaining_time": 140.3690337,
                        "learn": [
                          0.3920293016
                        ]
                      },
                      {
                        "passed_time": 80.92121023,
                        "iteration": 365,
                        "remaining_time": 140.1749926,
                        "learn": [
                          0.3916602384
                        ]
                      },
                      {
                        "passed_time": 81.14162719,
                        "iteration": 366,
                        "remaining_time": 139.9527248,
                        "learn": [
                          0.3913323609
                        ]
                      },
                      {
                        "passed_time": 81.35199101,
                        "iteration": 367,
                        "remaining_time": 139.713202,
                        "learn": [
                          0.390994576
                        ]
                      },
                      {
                        "passed_time": 81.56802345,
                        "iteration": 368,
                        "remaining_time": 139.4835306,
                        "learn": [
                          0.3906856112
                        ]
                      },
                      {
                        "passed_time": 81.78146532,
                        "iteration": 369,
                        "remaining_time": 139.249522,
                        "learn": [
                          0.3903238134
                        ]
                      },
                      {
                        "passed_time": 82.02952831,
                        "iteration": 370,
                        "remaining_time": 139.0743216,
                        "learn": [
                          0.3899782185
                        ]
                      },
                      {
                        "passed_time": 82.24361978,
                        "iteration": 371,
                        "remaining_time": 138.8413796,
                        "learn": [
                          0.3896538519
                        ]
                      },
                      {
                        "passed_time": 82.45855757,
                        "iteration": 372,
                        "remaining_time": 138.6099614,
                        "learn": [
                          0.3893524464
                        ]
                      },
                      {
                        "passed_time": 82.67562143,
                        "iteration": 373,
                        "remaining_time": 138.3821899,
                        "learn": [
                          0.3890449394
                        ]
                      },
                      {
                        "passed_time": 82.90771852,
                        "iteration": 374,
                        "remaining_time": 138.1795309,
                        "learn": [
                          0.388663803
                        ]
                      },
                      {
                        "passed_time": 83.12696932,
                        "iteration": 375,
                        "remaining_time": 137.9553959,
                        "learn": [
                          0.3883638364
                        ]
                      },
                      {
                        "passed_time": 83.34750645,
                        "iteration": 376,
                        "remaining_time": 137.7334125,
                        "learn": [
                          0.3880488347
                        ]
                      },
                      {
                        "passed_time": 83.56728499,
                        "iteration": 377,
                        "remaining_time": 137.5101885,
                        "learn": [
                          0.3877114869
                        ]
                      },
                      {
                        "passed_time": 83.79194485,
                        "iteration": 378,
                        "remaining_time": 137.2949809,
                        "learn": [
                          0.3873703437
                        ]
                      },
                      {
                        "passed_time": 84.03377799,
                        "iteration": 379,
                        "remaining_time": 137.107743,
                        "learn": [
                          0.3870555656
                        ]
                      },
                      {
                        "passed_time": 84.25197674,
                        "iteration": 380,
                        "remaining_time": 136.8818205,
                        "learn": [
                          0.3866880555
                        ]
                      },
                      {
                        "passed_time": 84.46705184,
                        "iteration": 381,
                        "remaining_time": 136.6508849,
                        "learn": [
                          0.3863666174
                        ]
                      },
                      {
                        "passed_time": 84.69141385,
                        "iteration": 382,
                        "remaining_time": 136.4349931,
                        "learn": [
                          0.3859897935
                        ]
                      },
                      {
                        "passed_time": 84.90556491,
                        "iteration": 383,
                        "remaining_time": 136.202677,
                        "learn": [
                          0.3857450225
                        ]
                      },
                      {
                        "passed_time": 85.14596679,
                        "iteration": 384,
                        "remaining_time": 136.0123885,
                        "learn": [
                          0.3854829814
                        ]
                      },
                      {
                        "passed_time": 85.35994516,
                        "iteration": 385,
                        "remaining_time": 135.7798091,
                        "learn": [
                          0.3850686576
                        ]
                      },
                      {
                        "passed_time": 85.58456858,
                        "iteration": 386,
                        "remaining_time": 135.5641874,
                        "learn": [
                          0.3847165039
                        ]
                      },
                      {
                        "passed_time": 85.80061619,
                        "iteration": 387,
                        "remaining_time": 135.3349925,
                        "learn": [
                          0.3842909492
                        ]
                      },
                      {
                        "passed_time": 86.01665877,
                        "iteration": 388,
                        "remaining_time": 135.1058573,
                        "learn": [
                          0.3839169438
                        ]
                      },
                      {
                        "passed_time": 86.25586446,
                        "iteration": 389,
                        "remaining_time": 134.9130188,
                        "learn": [
                          0.3835596075
                        ]
                      },
                      {
                        "passed_time": 86.47751825,
                        "iteration": 390,
                        "remaining_time": 134.6926052,
                        "learn": [
                          0.3832094423
                        ]
                      },
                      {
                        "passed_time": 86.69967983,
                        "iteration": 391,
                        "remaining_time": 134.4729728,
                        "learn": [
                          0.3828764355
                        ]
                      },
                      {
                        "passed_time": 86.91668449,
                        "iteration": 392,
                        "remaining_time": 134.2453626,
                        "learn": [
                          0.3825273653
                        ]
                      },
                      {
                        "passed_time": 87.16062522,
                        "iteration": 393,
                        "remaining_time": 134.0592357,
                        "learn": [
                          0.3821356867
                        ]
                      },
                      {
                        "passed_time": 87.37829266,
                        "iteration": 394,
                        "remaining_time": 133.8325748,
                        "learn": [
                          0.381799911
                        ]
                      },
                      {
                        "passed_time": 87.61498976,
                        "iteration": 395,
                        "remaining_time": 133.6349844,
                        "learn": [
                          0.3814350403
                        ]
                      },
                      {
                        "passed_time": 87.84080313,
                        "iteration": 396,
                        "remaining_time": 133.4206657,
                        "learn": [
                          0.3810504354
                        ]
                      },
                      {
                        "passed_time": 88.06006297,
                        "iteration": 397,
                        "remaining_time": 133.1963767,
                        "learn": [
                          0.3806746855
                        ]
                      },
                      {
                        "passed_time": 88.31510596,
                        "iteration": 398,
                        "remaining_time": 133.0260117,
                        "learn": [
                          0.3803148882
                        ]
                      },
                      {
                        "passed_time": 88.53282869,
                        "iteration": 399,
                        "remaining_time": 132.799243,
                        "learn": [
                          0.3799130446
                        ]
                      },
                      {
                        "passed_time": 88.75987936,
                        "iteration": 400,
                        "remaining_time": 132.5864532,
                        "learn": [
                          0.3795466909
                        ]
                      },
                      {
                        "passed_time": 88.97659474,
                        "iteration": 401,
                        "remaining_time": 132.3582181,
                        "learn": [
                          0.3791785046
                        ]
                      },
                      {
                        "passed_time": 89.20528131,
                        "iteration": 402,
                        "remaining_time": 132.1477741,
                        "learn": [
                          0.3788785035
                        ]
                      },
                      {
                        "passed_time": 89.42339992,
                        "iteration": 403,
                        "remaining_time": 131.9216494,
                        "learn": [
                          0.3785279138
                        ]
                      },
                      {
                        "passed_time": 89.63677522,
                        "iteration": 404,
                        "remaining_time": 131.6885957,
                        "learn": [
                          0.3781451629
                        ]
                      },
                      {
                        "passed_time": 89.85887201,
                        "iteration": 405,
                        "remaining_time": 131.468399,
                        "learn": [
                          0.3778116132
                        ]
                      },
                      {
                        "passed_time": 90.07431219,
                        "iteration": 406,
                        "remaining_time": 131.2384942,
                        "learn": [
                          0.3773942713
                        ]
                      },
                      {
                        "passed_time": 90.32077307,
                        "iteration": 407,
                        "remaining_time": 131.0536707,
                        "learn": [
                          0.3770313025
                        ]
                      },
                      {
                        "passed_time": 90.53792172,
                        "iteration": 408,
                        "remaining_time": 130.8261901,
                        "learn": [
                          0.3766702493
                        ]
                      },
                      {
                        "passed_time": 90.76279004,
                        "iteration": 409,
                        "remaining_time": 130.6098686,
                        "learn": [
                          0.3763428867
                        ]
                      },
                      {
                        "passed_time": 90.98719449,
                        "iteration": 410,
                        "remaining_time": 130.3928408,
                        "learn": [
                          0.3759912132
                        ]
                      },
                      {
                        "passed_time": 91.19748237,
                        "iteration": 411,
                        "remaining_time": 130.1556302,
                        "learn": [
                          0.3756719028
                        ]
                      },
                      {
                        "passed_time": 91.46263075,
                        "iteration": 412,
                        "remaining_time": 129.9965236,
                        "learn": [
                          0.3753210157
                        ]
                      },
                      {
                        "passed_time": 91.681548,
                        "iteration": 413,
                        "remaining_time": 129.7714665,
                        "learn": [
                          0.3749348336
                        ]
                      },
                      {
                        "passed_time": 91.90303775,
                        "iteration": 414,
                        "remaining_time": 129.5500653,
                        "learn": [
                          0.3746147058
                        ]
                      },
                      {
                        "passed_time": 92.11261332,
                        "iteration": 415,
                        "remaining_time": 129.3119379,
                        "learn": [
                          0.3742038583
                        ]
                      },
                      {
                        "passed_time": 92.34961311,
                        "iteration": 416,
                        "remaining_time": 129.1122888,
                        "learn": [
                          0.373904844
                        ]
                      },
                      {
                        "passed_time": 92.57130636,
                        "iteration": 417,
                        "remaining_time": 128.891149,
                        "learn": [
                          0.3735439345
                        ]
                      },
                      {
                        "passed_time": 92.79305807,
                        "iteration": 418,
                        "remaining_time": 128.6700877,
                        "learn": [
                          0.3732456311
                        ]
                      },
                      {
                        "passed_time": 93.01582097,
                        "iteration": 419,
                        "remaining_time": 128.4504194,
                        "learn": [
                          0.3729096906
                        ]
                      },
                      {
                        "passed_time": 93.23527951,
                        "iteration": 420,
                        "remaining_time": 128.226192,
                        "learn": [
                          0.3724583813
                        ]
                      },
                      {
                        "passed_time": 93.48244071,
                        "iteration": 421,
                        "remaining_time": 128.0399306,
                        "learn": [
                          0.3720387938
                        ]
                      },
                      {
                        "passed_time": 93.70216022,
                        "iteration": 422,
                        "remaining_time": 127.815949,
                        "learn": [
                          0.3716669979
                        ]
                      },
                      {
                        "passed_time": 93.92480685,
                        "iteration": 423,
                        "remaining_time": 127.595964,
                        "learn": [
                          0.3713397263
                        ]
                      },
                      {
                        "passed_time": 94.14530956,
                        "iteration": 424,
                        "remaining_time": 127.3730659,
                        "learn": [
                          0.3709679002
                        ]
                      },
                      {
                        "passed_time": 94.37534773,
                        "iteration": 425,
                        "remaining_time": 127.1630272,
                        "learn": [
                          0.3706150725
                        ]
                      },
                      {
                        "passed_time": 94.60725153,
                        "iteration": 426,
                        "remaining_time": 126.9553984,
                        "learn": [
                          0.3702133358
                        ]
                      },
                      {
                        "passed_time": 94.84577353,
                        "iteration": 427,
                        "remaining_time": 126.7565011,
                        "learn": [
                          0.3698063059
                        ]
                      },
                      {
                        "passed_time": 95.05723532,
                        "iteration": 428,
                        "remaining_time": 126.5214018,
                        "learn": [
                          0.3694765005
                        ]
                      },
                      {
                        "passed_time": 95.26932901,
                        "iteration": 429,
                        "remaining_time": 126.2872501,
                        "learn": [
                          0.3691288365
                        ]
                      },
                      {
                        "passed_time": 95.51304009,
                        "iteration": 430,
                        "remaining_time": 126.0949416,
                        "learn": [
                          0.3687299679
                        ]
                      },
                      {
                        "passed_time": 95.72878173,
                        "iteration": 431,
                        "remaining_time": 125.8656204,
                        "learn": [
                          0.3683693249
                        ]
                      },
                      {
                        "passed_time": 95.95676582,
                        "iteration": 432,
                        "remaining_time": 125.6523931,
                        "learn": [
                          0.368065167
                        ]
                      },
                      {
                        "passed_time": 96.17739596,
                        "iteration": 433,
                        "remaining_time": 125.4295072,
                        "learn": [
                          0.3677019992
                        ]
                      },
                      {
                        "passed_time": 96.39940108,
                        "iteration": 434,
                        "remaining_time": 125.2084175,
                        "learn": [
                          0.3673557445
                        ]
                      },
                      {
                        "passed_time": 96.63557729,
                        "iteration": 435,
                        "remaining_time": 125.005655,
                        "learn": [
                          0.3671007062
                        ]
                      },
                      {
                        "passed_time": 96.86824658,
                        "iteration": 436,
                        "remaining_time": 124.7982216,
                        "learn": [
                          0.3668164244
                        ]
                      },
                      {
                        "passed_time": 97.09017894,
                        "iteration": 437,
                        "remaining_time": 124.5768963,
                        "learn": [
                          0.3663952168
                        ]
                      },
                      {
                        "passed_time": 97.31169618,
                        "iteration": 438,
                        "remaining_time": 124.3550377,
                        "learn": [
                          0.366084982
                        ]
                      },
                      {
                        "passed_time": 97.5518577,
                        "iteration": 439,
                        "remaining_time": 124.1569098,
                        "learn": [
                          0.3657317397
                        ]
                      },
                      {
                        "passed_time": 97.77662183,
                        "iteration": 440,
                        "remaining_time": 123.9390739,
                        "learn": [
                          0.3653580983
                        ]
                      },
                      {
                        "passed_time": 97.99907911,
                        "iteration": 441,
                        "remaining_time": 123.7182944,
                        "learn": [
                          0.3649511144
                        ]
                      },
                      {
                        "passed_time": 98.21222441,
                        "iteration": 442,
                        "remaining_time": 123.4857991,
                        "learn": [
                          0.3646375454
                        ]
                      },
                      {
                        "passed_time": 98.43118993,
                        "iteration": 443,
                        "remaining_time": 123.2606793,
                        "learn": [
                          0.3642749852
                        ]
                      },
                      {
                        "passed_time": 98.66976332,
                        "iteration": 444,
                        "remaining_time": 123.0600419,
                        "learn": [
                          0.363992424
                        ]
                      },
                      {
                        "passed_time": 98.90217051,
                        "iteration": 445,
                        "remaining_time": 122.851575,
                        "learn": [
                          0.3636449712
                        ]
                      },
                      {
                        "passed_time": 99.11842331,
                        "iteration": 446,
                        "remaining_time": 122.6230159,
                        "learn": [
                          0.3632999162
                        ]
                      },
                      {
                        "passed_time": 99.33711728,
                        "iteration": 447,
                        "remaining_time": 122.3975195,
                        "learn": [
                          0.3629161864
                        ]
                      },
                      {
                        "passed_time": 99.57247842,
                        "iteration": 448,
                        "remaining_time": 122.1925069,
                        "learn": [
                          0.3625232922
                        ]
                      },
                      {
                        "passed_time": 99.79889297,
                        "iteration": 449,
                        "remaining_time": 121.9764247,
                        "learn": [
                          0.3621403747
                        ]
                      },
                      {
                        "passed_time": 100.0258565,
                        "iteration": 450,
                        "remaining_time": 121.760965,
                        "learn": [
                          0.3618150071
                        ]
                      },
                      {
                        "passed_time": 100.2433805,
                        "iteration": 451,
                        "remaining_time": 121.53401,
                        "learn": [
                          0.36151861
                        ]
                      },
                      {
                        "passed_time": 100.4589031,
                        "iteration": 452,
                        "remaining_time": 121.3046799,
                        "learn": [
                          0.3612057682
                        ]
                      },
                      {
                        "passed_time": 100.7038795,
                        "iteration": 453,
                        "remaining_time": 121.110833,
                        "learn": [
                          0.3608131219
                        ]
                      },
                      {
                        "passed_time": 100.930031,
                        "iteration": 454,
                        "remaining_time": 120.894213,
                        "learn": [
                          0.3604729477
                        ]
                      },
                      {
                        "passed_time": 101.1502681,
                        "iteration": 455,
                        "remaining_time": 120.6704953,
                        "learn": [
                          0.3601140935
                        ]
                      },
                      {
                        "passed_time": 101.3669868,
                        "iteration": 456,
                        "remaining_time": 120.4426123,
                        "learn": [
                          0.3598132609
                        ]
                      },
                      {
                        "passed_time": 101.5777485,
                        "iteration": 457,
                        "remaining_time": 120.2077286,
                        "learn": [
                          0.3595573326
                        ]
                      },
                      {
                        "passed_time": 101.8251657,
                        "iteration": 458,
                        "remaining_time": 120.016154,
                        "learn": [
                          0.35925926
                        ]
                      },
                      {
                        "passed_time": 102.0544054,
                        "iteration": 459,
                        "remaining_time": 119.8029977,
                        "learn": [
                          0.3588913234
                        ]
                      },
                      {
                        "passed_time": 102.2760369,
                        "iteration": 460,
                        "remaining_time": 119.5808761,
                        "learn": [
                          0.3585267267
                        ]
                      },
                      {
                        "passed_time": 102.493218,
                        "iteration": 461,
                        "remaining_time": 119.3535742,
                        "learn": [
                          0.3582307485
                        ]
                      },
                      {
                        "passed_time": 102.7315197,
                        "iteration": 462,
                        "remaining_time": 119.1508122,
                        "learn": [
                          0.357938537
                        ]
                      },
                      {
                        "passed_time": 102.9584108,
                        "iteration": 463,
                        "remaining_time": 118.934716,
                        "learn": [
                          0.3576543535
                        ]
                      },
                      {
                        "passed_time": 103.1825732,
                        "iteration": 464,
                        "remaining_time": 118.7154337,
                        "learn": [
                          0.3572892065
                        ]
                      },
                      {
                        "passed_time": 103.4049701,
                        "iteration": 465,
                        "remaining_time": 118.4941073,
                        "learn": [
                          0.3569436671
                        ]
                      },
                      {
                        "passed_time": 103.6192088,
                        "iteration": 466,
                        "remaining_time": 118.2634653,
                        "learn": [
                          0.3566256571
                        ]
                      },
                      {
                        "passed_time": 103.8572555,
                        "iteration": 467,
                        "remaining_time": 118.0599571,
                        "learn": [
                          0.3563567982
                        ]
                      },
                      {
                        "passed_time": 104.079596,
                        "iteration": 468,
                        "remaining_time": 117.8385191,
                        "learn": [
                          0.3560025392
                        ]
                      },
                      {
                        "passed_time": 104.2986034,
                        "iteration": 469,
                        "remaining_time": 117.6133187,
                        "learn": [
                          0.3556122681
                        ]
                      },
                      {
                        "passed_time": 104.5122476,
                        "iteration": 470,
                        "remaining_time": 117.3821209,
                        "learn": [
                          0.3553182879
                        ]
                      },
                      {
                        "passed_time": 104.7451513,
                        "iteration": 471,
                        "remaining_time": 117.1725421,
                        "learn": [
                          0.3549910932
                        ]
                      },
                      {
                        "passed_time": 104.9996404,
                        "iteration": 472,
                        "remaining_time": 116.9869143,
                        "learn": [
                          0.3545667989
                        ]
                      },
                      {
                        "passed_time": 105.2203352,
                        "iteration": 473,
                        "remaining_time": 116.7634944,
                        "learn": [
                          0.3542238136
                        ]
                      },
                      {
                        "passed_time": 105.4393273,
                        "iteration": 474,
                        "remaining_time": 116.5382038,
                        "learn": [
                          0.3538608878
                        ]
                      },
                      {
                        "passed_time": 105.6552213,
                        "iteration": 475,
                        "remaining_time": 116.3095294,
                        "learn": [
                          0.3534830977
                        ]
                      },
                      {
                        "passed_time": 105.9054094,
                        "iteration": 476,
                        "remaining_time": 116.1185097,
                        "learn": [
                          0.3531794307
                        ]
                      },
                      {
                        "passed_time": 106.1289526,
                        "iteration": 477,
                        "remaining_time": 115.8981449,
                        "learn": [
                          0.3528569647
                        ]
                      },
                      {
                        "passed_time": 106.3410808,
                        "iteration": 478,
                        "remaining_time": 115.6653509,
                        "learn": [
                          0.3525951338
                        ]
                      },
                      {
                        "passed_time": 106.5597456,
                        "iteration": 479,
                        "remaining_time": 115.4397244,
                        "learn": [
                          0.3522682226
                        ]
                      },
                      {
                        "passed_time": 106.7809904,
                        "iteration": 480,
                        "remaining_time": 115.2169106,
                        "learn": [
                          0.3518804259
                        ]
                      },
                      {
                        "passed_time": 107.0400939,
                        "iteration": 481,
                        "remaining_time": 115.0347897,
                        "learn": [
                          0.3515300032
                        ]
                      },
                      {
                        "passed_time": 107.2631431,
                        "iteration": 482,
                        "remaining_time": 114.8137577,
                        "learn": [
                          0.3511783817
                        ]
                      },
                      {
                        "passed_time": 107.4688291,
                        "iteration": 483,
                        "remaining_time": 114.5742062,
                        "learn": [
                          0.3509031973
                        ]
                      },
                      {
                        "passed_time": 107.6938118,
                        "iteration": 484,
                        "remaining_time": 114.3552847,
                        "learn": [
                          0.3505906392
                        ]
                      },
                      {
                        "passed_time": 107.9210813,
                        "iteration": 485,
                        "remaining_time": 114.1387567,
                        "learn": [
                          0.3502585586
                        ]
                      },
                      {
                        "passed_time": 108.1589226,
                        "iteration": 486,
                        "remaining_time": 113.933321,
                        "learn": [
                          0.350008814
                        ]
                      },
                      {
                        "passed_time": 108.3731783,
                        "iteration": 487,
                        "remaining_time": 113.7030067,
                        "learn": [
                          0.3496937746
                        ]
                      },
                      {
                        "passed_time": 108.5875657,
                        "iteration": 488,
                        "remaining_time": 113.4728959,
                        "learn": [
                          0.3493793712
                        ]
                      },
                      {
                        "passed_time": 108.8130159,
                        "iteration": 489,
                        "remaining_time": 113.2543635,
                        "learn": [
                          0.3490079721
                        ]
                      },
                      {
                        "passed_time": 109.0719992,
                        "iteration": 490,
                        "remaining_time": 113.0705654,
                        "learn": [
                          0.3486574841
                        ]
                      },
                      {
                        "passed_time": 109.2878632,
                        "iteration": 491,
                        "remaining_time": 112.84194,
                        "learn": [
                          0.3483193622
                        ]
                      },
                      {
                        "passed_time": 109.5046821,
                        "iteration": 492,
                        "remaining_time": 112.6143485,
                        "learn": [
                          0.3479495378
                        ]
                      },
                      {
                        "passed_time": 109.7268627,
                        "iteration": 493,
                        "remaining_time": 112.3922926,
                        "learn": [
                          0.3475933853
                        ]
                      },
                      {
                        "passed_time": 109.9445966,
                        "iteration": 494,
                        "remaining_time": 112.1656995,
                        "learn": [
                          0.3473052216
                        ]
                      },
                      {
                        "passed_time": 110.2021819,
                        "iteration": 495,
                        "remaining_time": 111.9796364,
                        "learn": [
                          0.3469985426
                        ]
                      },
                      {
                        "passed_time": 110.4303672,
                        "iteration": 496,
                        "remaining_time": 111.7635306,
                        "learn": [
                          0.3466729554
                        ]
                      },
                      {
                        "passed_time": 110.6418423,
                        "iteration": 497,
                        "remaining_time": 111.5305318,
                        "learn": [
                          0.3463982742
                        ]
                      },
                      {
                        "passed_time": 110.8586453,
                        "iteration": 498,
                        "remaining_time": 111.3029685,
                        "learn": [
                          0.3460566229
                        ]
                      },
                      {
                        "passed_time": 111.176139,
                        "iteration": 499,
                        "remaining_time": 111.176139,
                        "learn": [
                          0.3457899791
                        ]
                      },
                      {
                        "passed_time": 111.4159404,
                        "iteration": 500,
                        "remaining_time": 110.9711662,
                        "learn": [
                          0.3454800543
                        ]
                      },
                      {
                        "passed_time": 111.6334649,
                        "iteration": 501,
                        "remaining_time": 110.7439552,
                        "learn": [
                          0.3451583652
                        ]
                      },
                      {
                        "passed_time": 111.8448645,
                        "iteration": 502,
                        "remaining_time": 110.510731,
                        "learn": [
                          0.3448413456
                        ]
                      },
                      {
                        "passed_time": 112.0600591,
                        "iteration": 503,
                        "remaining_time": 110.281328,
                        "learn": [
                          0.3445663098
                        ]
                      },
                      {
                        "passed_time": 112.3133269,
                        "iteration": 504,
                        "remaining_time": 110.0893006,
                        "learn": [
                          0.3442531227
                        ]
                      },
                      {
                        "passed_time": 112.5293301,
                        "iteration": 505,
                        "remaining_time": 109.8606503,
                        "learn": [
                          0.343942854
                        ]
                      },
                      {
                        "passed_time": 112.7467642,
                        "iteration": 506,
                        "remaining_time": 109.6334413,
                        "learn": [
                          0.3436634236
                        ]
                      },
                      {
                        "passed_time": 112.9589475,
                        "iteration": 507,
                        "remaining_time": 109.4011854,
                        "learn": [
                          0.34335027
                        ]
                      },
                      {
                        "passed_time": 113.185759,
                        "iteration": 508,
                        "remaining_time": 109.1831192,
                        "learn": [
                          0.3430265161
                        ]
                      },
                      {
                        "passed_time": 113.4322176,
                        "iteration": 509,
                        "remaining_time": 108.9838953,
                        "learn": [
                          0.3427745572
                        ]
                      },
                      {
                        "passed_time": 113.6452464,
                        "iteration": 510,
                        "remaining_time": 108.7524961,
                        "learn": [
                          0.3424978919
                        ]
                      },
                      {
                        "passed_time": 113.8631087,
                        "iteration": 511,
                        "remaining_time": 108.5257755,
                        "learn": [
                          0.3422434357
                        ]
                      },
                      {
                        "passed_time": 114.0784076,
                        "iteration": 512,
                        "remaining_time": 108.2966559,
                        "learn": [
                          0.3419109107
                        ]
                      },
                      {
                        "passed_time": 114.3329012,
                        "iteration": 513,
                        "remaining_time": 108.1046498,
                        "learn": [
                          0.3415571727
                        ]
                      },
                      {
                        "passed_time": 114.5602692,
                        "iteration": 514,
                        "remaining_time": 107.8868554,
                        "learn": [
                          0.3412137642
                        ]
                      },
                      {
                        "passed_time": 114.7765466,
                        "iteration": 515,
                        "remaining_time": 107.6586212,
                        "learn": [
                          0.3409175879
                        ]
                      },
                      {
                        "passed_time": 114.9918016,
                        "iteration": 516,
                        "remaining_time": 107.4294781,
                        "learn": [
                          0.3405968587
                        ]
                      },
                      {
                        "passed_time": 115.2200109,
                        "iteration": 517,
                        "remaining_time": 107.2124425,
                        "learn": [
                          0.3403213847
                        ]
                      },
                      {
                        "passed_time": 115.4648319,
                        "iteration": 518,
                        "remaining_time": 107.0107594,
                        "learn": [
                          0.3400704839
                        ]
                      },
                      {
                        "passed_time": 115.6924425,
                        "iteration": 519,
                        "remaining_time": 106.7930239,
                        "learn": [
                          0.3397740759
                        ]
                      },
                      {
                        "passed_time": 115.9137189,
                        "iteration": 520,
                        "remaining_time": 106.5694268,
                        "learn": [
                          0.3394635502
                        ]
                      },
                      {
                        "passed_time": 116.1331967,
                        "iteration": 521,
                        "remaining_time": 106.3441916,
                        "learn": [
                          0.3391219303
                        ]
                      },
                      {
                        "passed_time": 116.36116,
                        "iteration": 522,
                        "remaining_time": 106.1267177,
                        "learn": [
                          0.3388309467
                        ]
                      },
                      {
                        "passed_time": 116.6147871,
                        "iteration": 523,
                        "remaining_time": 105.9325166,
                        "learn": [
                          0.3384716888
                        ]
                      },
                      {
                        "passed_time": 116.8391977,
                        "iteration": 524,
                        "remaining_time": 105.711655,
                        "learn": [
                          0.3381069577
                        ]
                      },
                      {
                        "passed_time": 117.0589763,
                        "iteration": 525,
                        "remaining_time": 105.486606,
                        "learn": [
                          0.3377936603
                        ]
                      },
                      {
                        "passed_time": 117.2820235,
                        "iteration": 526,
                        "remaining_time": 105.2645106,
                        "learn": [
                          0.3374815999
                        ]
                      },
                      {
                        "passed_time": 117.5276748,
                        "iteration": 527,
                        "remaining_time": 105.0626184,
                        "learn": [
                          0.3372251216
                        ]
                      },
                      {
                        "passed_time": 117.7368395,
                        "iteration": 528,
                        "remaining_time": 104.8280745,
                        "learn": [
                          0.3369577016
                        ]
                      },
                      {
                        "passed_time": 117.9584679,
                        "iteration": 529,
                        "remaining_time": 104.6046791,
                        "learn": [
                          0.3366257711
                        ]
                      },
                      {
                        "passed_time": 118.1691913,
                        "iteration": 530,
                        "remaining_time": 104.3716586,
                        "learn": [
                          0.3363900235
                        ]
                      },
                      {
                        "passed_time": 118.3926517,
                        "iteration": 531,
                        "remaining_time": 104.1499266,
                        "learn": [
                          0.3360518918
                        ]
                      },
                      {
                        "passed_time": 118.6404378,
                        "iteration": 532,
                        "remaining_time": 103.9495018,
                        "learn": [
                          0.3357978578
                        ]
                      },
                      {
                        "passed_time": 118.8568329,
                        "iteration": 533,
                        "remaining_time": 103.7215059,
                        "learn": [
                          0.3355381978
                        ]
                      },
                      {
                        "passed_time": 119.0748083,
                        "iteration": 534,
                        "remaining_time": 103.4949268,
                        "learn": [
                          0.3351989419
                        ]
                      },
                      {
                        "passed_time": 119.3062563,
                        "iteration": 535,
                        "remaining_time": 103.2800428,
                        "learn": [
                          0.3348880143
                        ]
                      },
                      {
                        "passed_time": 119.525705,
                        "iteration": 536,
                        "remaining_time": 103.0547513,
                        "learn": [
                          0.3345858151
                        ]
                      },
                      {
                        "passed_time": 119.7811619,
                        "iteration": 537,
                        "remaining_time": 102.860403,
                        "learn": [
                          0.334282415
                        ]
                      },
                      {
                        "passed_time": 120.0016046,
                        "iteration": 538,
                        "remaining_time": 102.6358807,
                        "learn": [
                          0.3340222663
                        ]
                      },
                      {
                        "passed_time": 120.2142612,
                        "iteration": 539,
                        "remaining_time": 102.4047411,
                        "learn": [
                          0.3336999168
                        ]
                      },
                      {
                        "passed_time": 120.4422197,
                        "iteration": 540,
                        "remaining_time": 102.1866522,
                        "learn": [
                          0.3333638293
                        ]
                      },
                      {
                        "passed_time": 120.6961455,
                        "iteration": 541,
                        "remaining_time": 101.9904699,
                        "learn": [
                          0.3330095949
                        ]
                      },
                      {
                        "passed_time": 120.9094075,
                        "iteration": 542,
                        "remaining_time": 101.7598513,
                        "learn": [
                          0.33275827
                        ]
                      },
                      {
                        "passed_time": 121.1299253,
                        "iteration": 543,
                        "remaining_time": 101.5353785,
                        "learn": [
                          0.3324919494
                        ]
                      },
                      {
                        "passed_time": 121.3553726,
                        "iteration": 544,
                        "remaining_time": 101.3150359,
                        "learn": [
                          0.3321813171
                        ]
                      },
                      {
                        "passed_time": 121.5726841,
                        "iteration": 545,
                        "remaining_time": 101.0879095,
                        "learn": [
                          0.331857307
                        ]
                      },
                      {
                        "passed_time": 121.8258518,
                        "iteration": 546,
                        "remaining_time": 100.8905135,
                        "learn": [
                          0.3315807205
                        ]
                      },
                      {
                        "passed_time": 122.0526931,
                        "iteration": 547,
                        "remaining_time": 100.6711994,
                        "learn": [
                          0.3312455887
                        ]
                      },
                      {
                        "passed_time": 122.2794004,
                        "iteration": 548,
                        "remaining_time": 100.4517479,
                        "learn": [
                          0.3309774719
                        ]
                      },
                      {
                        "passed_time": 122.4931558,
                        "iteration": 549,
                        "remaining_time": 100.2216729,
                        "learn": [
                          0.3306503276
                        ]
                      },
                      {
                        "passed_time": 122.74414,
                        "iteration": 550,
                        "remaining_time": 100.0219943,
                        "learn": [
                          0.3303691779
                        ]
                      },
                      {
                        "passed_time": 122.9704531,
                        "iteration": 551,
                        "remaining_time": 99.8021069,
                        "learn": [
                          0.3300640317
                        ]
                      },
                      {
                        "passed_time": 123.1927981,
                        "iteration": 552,
                        "remaining_time": 99.57898871,
                        "learn": [
                          0.3297333694
                        ]
                      },
                      {
                        "passed_time": 123.422536,
                        "iteration": 553,
                        "remaining_time": 99.361825,
                        "learn": [
                          0.3294471243
                        ]
                      },
                      {
                        "passed_time": 123.634787,
                        "iteration": 554,
                        "remaining_time": 99.13059495,
                        "learn": [
                          0.3291849162
                        ]
                      },
                      {
                        "passed_time": 123.88296,
                        "iteration": 555,
                        "remaining_time": 98.92811916,
                        "learn": [
                          0.3289060494
                        ]
                      },
                      {
                        "passed_time": 124.0938331,
                        "iteration": 556,
                        "remaining_time": 98.69581343,
                        "learn": [
                          0.3286472019
                        ]
                      },
                      {
                        "passed_time": 124.3142788,
                        "iteration": 557,
                        "remaining_time": 98.4711671,
                        "learn": [
                          0.3283690434
                        ]
                      },
                      {
                        "passed_time": 124.5312348,
                        "iteration": 558,
                        "remaining_time": 98.24378275,
                        "learn": [
                          0.3280815975
                        ]
                      },
                      {
                        "passed_time": 124.7476869,
                        "iteration": 559,
                        "remaining_time": 98.01603972,
                        "learn": [
                          0.3277871116
                        ]
                      },
                      {
                        "passed_time": 124.9998967,
                        "iteration": 560,
                        "remaining_time": 97.81631847,
                        "learn": [
                          0.3275060762
                        ]
                      },
                      {
                        "passed_time": 125.223023,
                        "iteration": 561,
                        "remaining_time": 97.59374391,
                        "learn": [
                          0.3272377758
                        ]
                      },
                      {
                        "passed_time": 125.4443043,
                        "iteration": 562,
                        "remaining_time": 97.36973533,
                        "learn": [
                          0.3269952114
                        ]
                      },
                      {
                        "passed_time": 125.6632064,
                        "iteration": 563,
                        "remaining_time": 97.14389713,
                        "learn": [
                          0.3267167782
                        ]
                      },
                      {
                        "passed_time": 125.9193626,
                        "iteration": 564,
                        "remaining_time": 96.94676589,
                        "learn": [
                          0.326435439
                        ]
                      },
                      {
                        "passed_time": 126.142893,
                        "iteration": 565,
                        "remaining_time": 96.72440909,
                        "learn": [
                          0.3261026017
                        ]
                      },
                      {
                        "passed_time": 126.3708803,
                        "iteration": 566,
                        "remaining_time": 96.50545177,
                        "learn": [
                          0.3257589931
                        ]
                      },
                      {
                        "passed_time": 126.5909801,
                        "iteration": 567,
                        "remaining_time": 96.28046374,
                        "learn": [
                          0.3254262575
                        ]
                      },
                      {
                        "passed_time": 126.8112688,
                        "iteration": 568,
                        "remaining_time": 96.05563598,
                        "learn": [
                          0.3251185901
                        ]
                      },
                      {
                        "passed_time": 127.0714052,
                        "iteration": 569,
                        "remaining_time": 95.86088466,
                        "learn": [
                          0.3247938981
                        ]
                      },
                      {
                        "passed_time": 127.3010755,
                        "iteration": 570,
                        "remaining_time": 95.64301466,
                        "learn": [
                          0.3244851564
                        ]
                      },
                      {
                        "passed_time": 127.5291531,
                        "iteration": 571,
                        "remaining_time": 95.42391179,
                        "learn": [
                          0.3241740427
                        ]
                      },
                      {
                        "passed_time": 127.7516947,
                        "iteration": 572,
                        "remaining_time": 95.20065207,
                        "learn": [
                          0.3239038498
                        ]
                      },
                      {
                        "passed_time": 127.9936556,
                        "iteration": 573,
                        "remaining_time": 94.99180714,
                        "learn": [
                          0.3236026222
                        ]
                      },
                      {
                        "passed_time": 128.2259315,
                        "iteration": 574,
                        "remaining_time": 94.77568852,
                        "learn": [
                          0.323328614
                        ]
                      },
                      {
                        "passed_time": 128.4561106,
                        "iteration": 575,
                        "remaining_time": 94.55797027,
                        "learn": [
                          0.3230299471
                        ]
                      },
                      {
                        "passed_time": 128.666217,
                        "iteration": 576,
                        "remaining_time": 94.3254936,
                        "learn": [
                          0.3227664731
                        ]
                      },
                      {
                        "passed_time": 128.883673,
                        "iteration": 577,
                        "remaining_time": 94.09846025,
                        "learn": [
                          0.3224442952
                        ]
                      },
                      {
                        "passed_time": 129.1282673,
                        "iteration": 578,
                        "remaining_time": 93.89119263,
                        "learn": [
                          0.3222005585
                        ]
                      },
                      {
                        "passed_time": 129.3409812,
                        "iteration": 579,
                        "remaining_time": 93.66071055,
                        "learn": [
                          0.3219251149
                        ]
                      },
                      {
                        "passed_time": 129.5714869,
                        "iteration": 580,
                        "remaining_time": 93.44312049,
                        "learn": [
                          0.3216111878
                        ]
                      },
                      {
                        "passed_time": 129.7956777,
                        "iteration": 581,
                        "remaining_time": 93.22095062,
                        "learn": [
                          0.3213269875
                        ]
                      },
                      {
                        "passed_time": 130.010445,
                        "iteration": 582,
                        "remaining_time": 92.99203358,
                        "learn": [
                          0.3210371876
                        ]
                      },
                      {
                        "passed_time": 130.2651906,
                        "iteration": 583,
                        "remaining_time": 92.79164261,
                        "learn": [
                          0.3207163619
                        ]
                      },
                      {
                        "passed_time": 130.4947267,
                        "iteration": 584,
                        "remaining_time": 92.57318217,
                        "learn": [
                          0.3204262056
                        ]
                      },
                      {
                        "passed_time": 130.7057266,
                        "iteration": 585,
                        "remaining_time": 92.34158841,
                        "learn": [
                          0.3201471579
                        ]
                      },
                      {
                        "passed_time": 130.9207963,
                        "iteration": 586,
                        "remaining_time": 92.11292826,
                        "learn": [
                          0.3198740318
                        ]
                      },
                      {
                        "passed_time": 131.1648854,
                        "iteration": 587,
                        "remaining_time": 91.90464758,
                        "learn": [
                          0.3196300713
                        ]
                      },
                      {
                        "passed_time": 131.3806914,
                        "iteration": 588,
                        "remaining_time": 91.67650963,
                        "learn": [
                          0.3194007118
                        ]
                      },
                      {
                        "passed_time": 131.6086089,
                        "iteration": 589,
                        "remaining_time": 91.45682991,
                        "learn": [
                          0.3191061289
                        ]
                      },
                      {
                        "passed_time": 131.8247406,
                        "iteration": 590,
                        "remaining_time": 91.22896597,
                        "learn": [
                          0.31879774
                        ]
                      },
                      {
                        "passed_time": 132.0403309,
                        "iteration": 591,
                        "remaining_time": 91.00076858,
                        "learn": [
                          0.3185331729
                        ]
                      },
                      {
                        "passed_time": 132.283308,
                        "iteration": 592,
                        "remaining_time": 90.7914104,
                        "learn": [
                          0.3182996317
                        ]
                      },
                      {
                        "passed_time": 132.5085921,
                        "iteration": 593,
                        "remaining_time": 90.56984578,
                        "learn": [
                          0.3180694381
                        ]
                      },
                      {
                        "passed_time": 132.7237028,
                        "iteration": 594,
                        "remaining_time": 90.34134392,
                        "learn": [
                          0.3177699432
                        ]
                      },
                      {
                        "passed_time": 132.9369152,
                        "iteration": 595,
                        "remaining_time": 90.11160025,
                        "learn": [
                          0.3174689053
                        ]
                      },
                      {
                        "passed_time": 133.1552764,
                        "iteration": 596,
                        "remaining_time": 89.8853876,
                        "learn": [
                          0.3171561951
                        ]
                      },
                      {
                        "passed_time": 133.4067796,
                        "iteration": 597,
                        "remaining_time": 89.68148061,
                        "learn": [
                          0.3168854953
                        ]
                      },
                      {
                        "passed_time": 133.6344557,
                        "iteration": 598,
                        "remaining_time": 89.46146366,
                        "learn": [
                          0.3166530239
                        ]
                      },
                      {
                        "passed_time": 133.8535689,
                        "iteration": 599,
                        "remaining_time": 89.23571262,
                        "learn": [
                          0.3163660048
                        ]
                      },
                      {
                        "passed_time": 134.0750549,
                        "iteration": 600,
                        "remaining_time": 89.0115589,
                        "learn": [
                          0.3161094693
                        ]
                      },
                      {
                        "passed_time": 134.3071256,
                        "iteration": 601,
                        "remaining_time": 88.79441196,
                        "learn": [
                          0.3158417459
                        ]
                      },
                      {
                        "passed_time": 134.5338233,
                        "iteration": 602,
                        "remaining_time": 88.57367804,
                        "learn": [
                          0.3155761861
                        ]
                      },
                      {
                        "passed_time": 134.7461371,
                        "iteration": 603,
                        "remaining_time": 88.34349384,
                        "learn": [
                          0.3153540029
                        ]
                      },
                      {
                        "passed_time": 134.9739311,
                        "iteration": 604,
                        "remaining_time": 88.12347569,
                        "learn": [
                          0.3150427953
                        ]
                      },
                      {
                        "passed_time": 135.1877688,
                        "iteration": 605,
                        "remaining_time": 87.89435792,
                        "learn": [
                          0.3147823615
                        ]
                      },
                      {
                        "passed_time": 135.4473759,
                        "iteration": 606,
                        "remaining_time": 87.69492378,
                        "learn": [
                          0.3144618247
                        ]
                      },
                      {
                        "passed_time": 135.6857968,
                        "iteration": 607,
                        "remaining_time": 87.48163216,
                        "learn": [
                          0.3141693439
                        ]
                      },
                      {
                        "passed_time": 135.9128346,
                        "iteration": 608,
                        "remaining_time": 87.26094965,
                        "learn": [
                          0.3138542357
                        ]
                      },
                      {
                        "passed_time": 136.1310495,
                        "iteration": 609,
                        "remaining_time": 87.03460542,
                        "learn": [
                          0.3136052715
                        ]
                      },
                      {
                        "passed_time": 136.3482421,
                        "iteration": 610,
                        "remaining_time": 86.80763693,
                        "learn": [
                          0.3133149387
                        ]
                      },
                      {
                        "passed_time": 136.6139678,
                        "iteration": 611,
                        "remaining_time": 86.61146978,
                        "learn": [
                          0.3130931625
                        ]
                      },
                      {
                        "passed_time": 136.8292071,
                        "iteration": 612,
                        "remaining_time": 86.38320254,
                        "learn": [
                          0.3128353206
                        ]
                      },
                      {
                        "passed_time": 137.0488002,
                        "iteration": 613,
                        "remaining_time": 86.15771481,
                        "learn": [
                          0.3126085296
                        ]
                      },
                      {
                        "passed_time": 137.267456,
                        "iteration": 614,
                        "remaining_time": 85.93165945,
                        "learn": [
                          0.3122984472
                        ]
                      },
                      {
                        "passed_time": 137.5118982,
                        "iteration": 615,
                        "remaining_time": 85.72170278,
                        "learn": [
                          0.3120277618
                        ]
                      },
                      {
                        "passed_time": 137.7436001,
                        "iteration": 616,
                        "remaining_time": 85.50372586,
                        "learn": [
                          0.3117405819
                        ]
                      },
                      {
                        "passed_time": 137.9645856,
                        "iteration": 617,
                        "remaining_time": 85.27908045,
                        "learn": [
                          0.3114638226
                        ]
                      },
                      {
                        "passed_time": 138.1811075,
                        "iteration": 618,
                        "remaining_time": 85.05169944,
                        "learn": [
                          0.3111833229
                        ]
                      },
                      {
                        "passed_time": 138.3931923,
                        "iteration": 619,
                        "remaining_time": 84.82163398,
                        "learn": [
                          0.3109355169
                        ]
                      },
                      {
                        "passed_time": 138.6488339,
                        "iteration": 620,
                        "remaining_time": 84.61820942,
                        "learn": [
                          0.3106703247
                        ]
                      },
                      {
                        "passed_time": 138.8707494,
                        "iteration": 621,
                        "remaining_time": 84.394121,
                        "learn": [
                          0.3103541996
                        ]
                      },
                      {
                        "passed_time": 139.088844,
                        "iteration": 622,
                        "remaining_time": 84.16772742,
                        "learn": [
                          0.3100362156
                        ]
                      },
                      {
                        "passed_time": 139.3042081,
                        "iteration": 623,
                        "remaining_time": 83.93971516,
                        "learn": [
                          0.3097850357
                        ]
                      },
                      {
                        "passed_time": 139.5449557,
                        "iteration": 624,
                        "remaining_time": 83.7269734,
                        "learn": [
                          0.3095555114
                        ]
                      },
                      {
                        "passed_time": 139.8033378,
                        "iteration": 625,
                        "remaining_time": 83.52467786,
                        "learn": [
                          0.3092991993
                        ]
                      },
                      {
                        "passed_time": 140.0147845,
                        "iteration": 626,
                        "remaining_time": 83.2942817,
                        "learn": [
                          0.3090797976
                        ]
                      },
                      {
                        "passed_time": 140.2303742,
                        "iteration": 627,
                        "remaining_time": 83.06639998,
                        "learn": [
                          0.3088545697
                        ]
                      },
                      {
                        "passed_time": 140.4403838,
                        "iteration": 628,
                        "remaining_time": 82.83526612,
                        "learn": [
                          0.3086502449
                        ]
                      },
                      {
                        "passed_time": 140.6997637,
                        "iteration": 629,
                        "remaining_time": 82.63319456,
                        "learn": [
                          0.3083633557
                        ]
                      },
                      {
                        "passed_time": 140.9222435,
                        "iteration": 630,
                        "remaining_time": 82.40936266,
                        "learn": [
                          0.3080788111
                        ]
                      },
                      {
                        "passed_time": 141.1390295,
                        "iteration": 631,
                        "remaining_time": 82.18221973,
                        "learn": [
                          0.3078279788
                        ]
                      },
                      {
                        "passed_time": 141.3652827,
                        "iteration": 632,
                        "remaining_time": 81.96059837,
                        "learn": [
                          0.3075105213
                        ]
                      },
                      {
                        "passed_time": 141.5794632,
                        "iteration": 633,
                        "remaining_time": 81.73199293,
                        "learn": [
                          0.3072618462
                        ]
                      },
                      {
                        "passed_time": 141.8443354,
                        "iteration": 634,
                        "remaining_time": 81.53257073,
                        "learn": [
                          0.306990197
                        ]
                      },
                      {
                        "passed_time": 142.0668362,
                        "iteration": 635,
                        "remaining_time": 81.30869243,
                        "learn": [
                          0.3066881219
                        ]
                      },
                      {
                        "passed_time": 142.279257,
                        "iteration": 636,
                        "remaining_time": 81.07907423,
                        "learn": [
                          0.3064268359
                        ]
                      },
                      {
                        "passed_time": 142.4963129,
                        "iteration": 637,
                        "remaining_time": 80.85213994,
                        "learn": [
                          0.3061063256
                        ]
                      },
                      {
                        "passed_time": 142.7566993,
                        "iteration": 638,
                        "remaining_time": 80.6497159,
                        "learn": [
                          0.3057896898
                        ]
                      },
                      {
                        "passed_time": 142.9813377,
                        "iteration": 639,
                        "remaining_time": 80.42700245,
                        "learn": [
                          0.3055204127
                        ]
                      },
                      {
                        "passed_time": 143.2021542,
                        "iteration": 640,
                        "remaining_time": 80.20214254,
                        "learn": [
                          0.3052791938
                        ]
                      },
                      {
                        "passed_time": 143.4172947,
                        "iteration": 641,
                        "remaining_time": 79.97413006,
                        "learn": [
                          0.3050211771
                        ]
                      },
                      {
                        "passed_time": 143.6290038,
                        "iteration": 642,
                        "remaining_time": 79.74425247,
                        "learn": [
                          0.3048001792
                        ]
                      },
                      {
                        "passed_time": 143.8895257,
                        "iteration": 643,
                        "remaining_time": 79.54141482,
                        "learn": [
                          0.3045032031
                        ]
                      },
                      {
                        "passed_time": 144.1099974,
                        "iteration": 644,
                        "remaining_time": 79.31635517,
                        "learn": [
                          0.3042450323
                        ]
                      },
                      {
                        "passed_time": 144.3187421,
                        "iteration": 645,
                        "remaining_time": 79.08488346,
                        "learn": [
                          0.3040104126
                        ]
                      },
                      {
                        "passed_time": 144.5372755,
                        "iteration": 646,
                        "remaining_time": 78.85882262,
                        "learn": [
                          0.3037220149
                        ]
                      },
                      {
                        "passed_time": 144.7651338,
                        "iteration": 647,
                        "remaining_time": 78.63785044,
                        "learn": [
                          0.3034503713
                        ]
                      },
                      {
                        "passed_time": 145.0192543,
                        "iteration": 648,
                        "remaining_time": 78.43106051,
                        "learn": [
                          0.3031739067
                        ]
                      },
                      {
                        "passed_time": 145.241038,
                        "iteration": 649,
                        "remaining_time": 78.20671278,
                        "learn": [
                          0.3029165768
                        ]
                      },
                      {
                        "passed_time": 145.4562445,
                        "iteration": 650,
                        "remaining_time": 77.97884689,
                        "learn": [
                          0.3026419576
                        ]
                      },
                      {
                        "passed_time": 145.6702077,
                        "iteration": 651,
                        "remaining_time": 77.75035623,
                        "learn": [
                          0.3023268943
                        ]
                      },
                      {
                        "passed_time": 145.9185161,
                        "iteration": 652,
                        "remaining_time": 77.54016092,
                        "learn": [
                          0.3020362678
                        ]
                      },
                      {
                        "passed_time": 146.1562443,
                        "iteration": 653,
                        "remaining_time": 77.32425158,
                        "learn": [
                          0.3018066162
                        ]
                      },
                      {
                        "passed_time": 146.371486,
                        "iteration": 654,
                        "remaining_time": 77.09643158,
                        "learn": [
                          0.3015686804
                        ]
                      },
                      {
                        "passed_time": 146.5881265,
                        "iteration": 655,
                        "remaining_time": 76.86938339,
                        "learn": [
                          0.3012677605
                        ]
                      },
                      {
                        "passed_time": 146.8130187,
                        "iteration": 656,
                        "remaining_time": 76.6466749,
                        "learn": [
                          0.3010209856
                        ]
                      },
                      {
                        "passed_time": 147.059448,
                        "iteration": 657,
                        "remaining_time": 76.43515381,
                        "learn": [
                          0.3007795364
                        ]
                      },
                      {
                        "passed_time": 147.2791877,
                        "iteration": 658,
                        "remaining_time": 76.20971623,
                        "learn": [
                          0.3005147115
                        ]
                      },
                      {
                        "passed_time": 147.498489,
                        "iteration": 659,
                        "remaining_time": 75.98407009,
                        "learn": [
                          0.3002244238
                        ]
                      },
                      {
                        "passed_time": 147.7102244,
                        "iteration": 660,
                        "remaining_time": 75.7545629,
                        "learn": [
                          0.3000419866
                        ]
                      },
                      {
                        "passed_time": 147.9406956,
                        "iteration": 661,
                        "remaining_time": 75.53467538,
                        "learn": [
                          0.2997999586
                        ]
                      },
                      {
                        "passed_time": 148.1948401,
                        "iteration": 662,
                        "remaining_time": 75.32678899,
                        "learn": [
                          0.2995614181
                        ]
                      },
                      {
                        "passed_time": 148.421795,
                        "iteration": 663,
                        "remaining_time": 75.10500469,
                        "learn": [
                          0.2993024982
                        ]
                      },
                      {
                        "passed_time": 148.6391078,
                        "iteration": 664,
                        "remaining_time": 74.87834754,
                        "learn": [
                          0.2990561426
                        ]
                      },
                      {
                        "passed_time": 148.8579354,
                        "iteration": 665,
                        "remaining_time": 74.65247809,
                        "learn": [
                          0.2988583076
                        ]
                      },
                      {
                        "passed_time": 149.1022393,
                        "iteration": 666,
                        "remaining_time": 74.43934888,
                        "learn": [
                          0.2985908797
                        ]
                      },
                      {
                        "passed_time": 149.3361963,
                        "iteration": 667,
                        "remaining_time": 74.22098377,
                        "learn": [
                          0.2983498588
                        ]
                      },
                      {
                        "passed_time": 149.5487671,
                        "iteration": 668,
                        "remaining_time": 73.9919909,
                        "learn": [
                          0.2981106138
                        ]
                      },
                      {
                        "passed_time": 149.7666508,
                        "iteration": 669,
                        "remaining_time": 73.76566381,
                        "learn": [
                          0.2978582077
                        ]
                      },
                      {
                        "passed_time": 149.9926992,
                        "iteration": 670,
                        "remaining_time": 73.54336519,
                        "learn": [
                          0.2975690083
                        ]
                      },
                      {
                        "passed_time": 150.2541835,
                        "iteration": 671,
                        "remaining_time": 73.33835146,
                        "learn": [
                          0.2972361242
                        ]
                      },
                      {
                        "passed_time": 150.4708951,
                        "iteration": 672,
                        "remaining_time": 73.11141562,
                        "learn": [
                          0.2969630842
                        ]
                      },
                      {
                        "passed_time": 150.6938993,
                        "iteration": 673,
                        "remaining_time": 72.88755366,
                        "learn": [
                          0.2966966399
                        ]
                      },
                      {
                        "passed_time": 150.9270689,
                        "iteration": 674,
                        "remaining_time": 72.66858872,
                        "learn": [
                          0.2963953612
                        ]
                      },
                      {
                        "passed_time": 151.1401864,
                        "iteration": 675,
                        "remaining_time": 72.439971,
                        "learn": [
                          0.2961646712
                        ]
                      },
                      {
                        "passed_time": 151.3988984,
                        "iteration": 676,
                        "remaining_time": 72.23315239,
                        "learn": [
                          0.2958924116
                        ]
                      },
                      {
                        "passed_time": 151.6090742,
                        "iteration": 677,
                        "remaining_time": 72.00312963,
                        "learn": [
                          0.2956961662
                        ]
                      },
                      {
                        "passed_time": 151.8298835,
                        "iteration": 678,
                        "remaining_time": 71.77819232,
                        "learn": [
                          0.2954767864
                        ]
                      },
                      {
                        "passed_time": 152.0490313,
                        "iteration": 679,
                        "remaining_time": 71.5524853,
                        "learn": [
                          0.2952568556
                        ]
                      },
                      {
                        "passed_time": 152.2933805,
                        "iteration": 680,
                        "remaining_time": 71.33860259,
                        "learn": [
                          0.2950580478
                        ]
                      },
                      {
                        "passed_time": 152.5247706,
                        "iteration": 681,
                        "remaining_time": 71.11858803,
                        "learn": [
                          0.2948228536
                        ]
                      },
                      {
                        "passed_time": 152.7450797,
                        "iteration": 682,
                        "remaining_time": 70.89339718,
                        "learn": [
                          0.2945871463
                        ]
                      },
                      {
                        "passed_time": 152.9762254,
                        "iteration": 683,
                        "remaining_time": 70.67322695,
                        "learn": [
                          0.2942782682
                        ]
                      },
                      {
                        "passed_time": 153.1861779,
                        "iteration": 684,
                        "remaining_time": 70.44327888,
                        "learn": [
                          0.2940728007
                        ]
                      },
                      {
                        "passed_time": 153.4493417,
                        "iteration": 685,
                        "remaining_time": 70.23774532,
                        "learn": [
                          0.2937815827
                        ]
                      },
                      {
                        "passed_time": 153.6681264,
                        "iteration": 686,
                        "remaining_time": 70.01182468,
                        "learn": [
                          0.2935980937
                        ]
                      },
                      {
                        "passed_time": 153.8964046,
                        "iteration": 687,
                        "remaining_time": 69.79023,
                        "learn": [
                          0.2933525988
                        ]
                      },
                      {
                        "passed_time": 154.1114668,
                        "iteration": 688,
                        "remaining_time": 69.56265048,
                        "learn": [
                          0.2930475747
                        ]
                      },
                      {
                        "passed_time": 154.3569935,
                        "iteration": 689,
                        "remaining_time": 69.34879417,
                        "learn": [
                          0.2927948936
                        ]
                      },
                      {
                        "passed_time": 154.5994845,
                        "iteration": 690,
                        "remaining_time": 69.13348873,
                        "learn": [
                          0.2925571429
                        ]
                      },
                      {
                        "passed_time": 154.8280877,
                        "iteration": 691,
                        "remaining_time": 68.91192343,
                        "learn": [
                          0.2922507505
                        ]
                      },
                      {
                        "passed_time": 155.0476049,
                        "iteration": 692,
                        "remaining_time": 68.68631271,
                        "learn": [
                          0.291993962
                        ]
                      },
                      {
                        "passed_time": 155.2726734,
                        "iteration": 693,
                        "remaining_time": 68.46316724,
                        "learn": [
                          0.2916696972
                        ]
                      },
                      {
                        "passed_time": 155.6023743,
                        "iteration": 694,
                        "remaining_time": 68.28593405,
                        "learn": [
                          0.2914180549
                        ]
                      },
                      {
                        "passed_time": 155.8226949,
                        "iteration": 695,
                        "remaining_time": 68.06048742,
                        "learn": [
                          0.2911920944
                        ]
                      },
                      {
                        "passed_time": 156.0519046,
                        "iteration": 696,
                        "remaining_time": 67.8389198,
                        "learn": [
                          0.2909766477
                        ]
                      },
                      {
                        "passed_time": 156.2596081,
                        "iteration": 697,
                        "remaining_time": 67.60802526,
                        "learn": [
                          0.2907465667
                        ]
                      },
                      {
                        "passed_time": 156.5074516,
                        "iteration": 698,
                        "remaining_time": 67.39448202,
                        "learn": [
                          0.2904600816
                        ]
                      },
                      {
                        "passed_time": 156.753488,
                        "iteration": 699,
                        "remaining_time": 67.1800663,
                        "learn": [
                          0.2901712687
                        ]
                      },
                      {
                        "passed_time": 156.9814833,
                        "iteration": 700,
                        "remaining_time": 66.95786519,
                        "learn": [
                          0.289914559
                        ]
                      },
                      {
                        "passed_time": 157.2066719,
                        "iteration": 701,
                        "remaining_time": 66.73445614,
                        "learn": [
                          0.2896669663
                        ]
                      },
                      {
                        "passed_time": 157.4292576,
                        "iteration": 702,
                        "remaining_time": 66.5099424,
                        "learn": [
                          0.2894424244
                        ]
                      },
                      {
                        "passed_time": 157.6892036,
                        "iteration": 703,
                        "remaining_time": 66.30114243,
                        "learn": [
                          0.2892307719
                        ]
                      },
                      {
                        "passed_time": 157.9070785,
                        "iteration": 704,
                        "remaining_time": 66.07459313,
                        "learn": [
                          0.2889597529
                        ]
                      },
                      {
                        "passed_time": 158.1292898,
                        "iteration": 705,
                        "remaining_time": 65.84987421,
                        "learn": [
                          0.2887657075
                        ]
                      },
                      {
                        "passed_time": 158.3532698,
                        "iteration": 706,
                        "remaining_time": 65.62589539,
                        "learn": [
                          0.2884637183
                        ]
                      },
                      {
                        "passed_time": 158.5983159,
                        "iteration": 707,
                        "remaining_time": 65.41060484,
                        "learn": [
                          0.2882256102
                        ]
                      },
                      {
                        "passed_time": 158.8333356,
                        "iteration": 708,
                        "remaining_time": 65.19111518,
                        "learn": [
                          0.2880044865
                        ]
                      },
                      {
                        "passed_time": 159.0582746,
                        "iteration": 709,
                        "remaining_time": 64.96746426,
                        "learn": [
                          0.2877744593
                        ]
                      },
                      {
                        "passed_time": 159.2694387,
                        "iteration": 710,
                        "remaining_time": 64.73821069,
                        "learn": [
                          0.2875835183
                        ]
                      },
                      {
                        "passed_time": 159.4835671,
                        "iteration": 711,
                        "remaining_time": 64.51020692,
                        "learn": [
                          0.2873100763
                        ]
                      },
                      {
                        "passed_time": 159.7440638,
                        "iteration": 712,
                        "remaining_time": 64.30090647,
                        "learn": [
                          0.287048645
                        ]
                      },
                      {
                        "passed_time": 159.973134,
                        "iteration": 713,
                        "remaining_time": 64.07887442,
                        "learn": [
                          0.2867633828
                        ]
                      },
                      {
                        "passed_time": 160.2072575,
                        "iteration": 714,
                        "remaining_time": 63.85883692,
                        "learn": [
                          0.2865392053
                        ]
                      },
                      {
                        "passed_time": 160.4290386,
                        "iteration": 715,
                        "remaining_time": 63.63386449,
                        "learn": [
                          0.2862677244
                        ]
                      },
                      {
                        "passed_time": 160.6435642,
                        "iteration": 716,
                        "remaining_time": 63.4060372,
                        "learn": [
                          0.2860313773
                        ]
                      },
                      {
                        "passed_time": 160.9020538,
                        "iteration": 717,
                        "remaining_time": 63.19551415,
                        "learn": [
                          0.2857835722
                        ]
                      },
                      {
                        "passed_time": 161.1272547,
                        "iteration": 718,
                        "remaining_time": 62.97184779,
                        "learn": [
                          0.2855643397
                        ]
                      },
                      {
                        "passed_time": 161.3461563,
                        "iteration": 719,
                        "remaining_time": 62.74572745,
                        "learn": [
                          0.2853230844
                        ]
                      },
                      {
                        "passed_time": 161.5636305,
                        "iteration": 720,
                        "remaining_time": 62.51907478,
                        "learn": [
                          0.285021507
                        ]
                      },
                      {
                        "passed_time": 161.8203347,
                        "iteration": 721,
                        "remaining_time": 62.3075527,
                        "learn": [
                          0.2847690439
                        ]
                      },
                      {
                        "passed_time": 162.0550351,
                        "iteration": 722,
                        "remaining_time": 62.0874754,
                        "learn": [
                          0.284484465
                        ]
                      },
                      {
                        "passed_time": 162.2752524,
                        "iteration": 723,
                        "remaining_time": 61.86183655,
                        "learn": [
                          0.2842938682
                        ]
                      },
                      {
                        "passed_time": 162.494606,
                        "iteration": 724,
                        "remaining_time": 61.63588504,
                        "learn": [
                          0.2840124325
                        ]
                      },
                      {
                        "passed_time": 162.7068269,
                        "iteration": 725,
                        "remaining_time": 61.40725973,
                        "learn": [
                          0.2837980665
                        ]
                      },
                      {
                        "passed_time": 162.9637198,
                        "iteration": 726,
                        "remaining_time": 61.19545461,
                        "learn": [
                          0.2835955863
                        ]
                      },
                      {
                        "passed_time": 163.1941887,
                        "iteration": 727,
                        "remaining_time": 60.97365292,
                        "learn": [
                          0.2833241531
                        ]
                      },
                      {
                        "passed_time": 163.4135165,
                        "iteration": 728,
                        "remaining_time": 60.74768585,
                        "learn": [
                          0.2830666556
                        ]
                      },
                      {
                        "passed_time": 163.6308873,
                        "iteration": 729,
                        "remaining_time": 60.52101313,
                        "learn": [
                          0.2828122859
                        ]
                      },
                      {
                        "passed_time": 163.8777902,
                        "iteration": 730,
                        "remaining_time": 60.30523335,
                        "learn": [
                          0.2825337186
                        ]
                      },
                      {
                        "passed_time": 164.121246,
                        "iteration": 731,
                        "remaining_time": 60.08810646,
                        "learn": [
                          0.2823127959
                        ]
                      },
                      {
                        "passed_time": 164.3483986,
                        "iteration": 732,
                        "remaining_time": 59.8649692,
                        "learn": [
                          0.2820352844
                        ]
                      },
                      {
                        "passed_time": 164.5599907,
                        "iteration": 733,
                        "remaining_time": 59.63618193,
                        "learn": [
                          0.2818229359
                        ]
                      },
                      {
                        "passed_time": 164.7788434,
                        "iteration": 734,
                        "remaining_time": 59.41005918,
                        "learn": [
                          0.281560715
                        ]
                      },
                      {
                        "passed_time": 165.0320474,
                        "iteration": 735,
                        "remaining_time": 59.19627789,
                        "learn": [
                          0.28133907
                        ]
                      },
                      {
                        "passed_time": 165.2603954,
                        "iteration": 736,
                        "remaining_time": 58.97351965,
                        "learn": [
                          0.2810936676
                        ]
                      },
                      {
                        "passed_time": 165.4756571,
                        "iteration": 737,
                        "remaining_time": 58.7461005,
                        "learn": [
                          0.2808695504
                        ]
                      },
                      {
                        "passed_time": 165.6934987,
                        "iteration": 738,
                        "remaining_time": 58.5196254,
                        "learn": [
                          0.280665725
                        ]
                      },
                      {
                        "passed_time": 165.9172621,
                        "iteration": 739,
                        "remaining_time": 58.29525424,
                        "learn": [
                          0.2803707566
                        ]
                      },
                      {
                        "passed_time": 166.191223,
                        "iteration": 740,
                        "remaining_time": 58.08843016,
                        "learn": [
                          0.2801424045
                        ]
                      },
                      {
                        "passed_time": 166.4111215,
                        "iteration": 741,
                        "remaining_time": 57.86262715,
                        "learn": [
                          0.2799470414
                        ]
                      },
                      {
                        "passed_time": 166.6214392,
                        "iteration": 742,
                        "remaining_time": 57.63352606,
                        "learn": [
                          0.2797056291
                        ]
                      },
                      {
                        "passed_time": 166.8445161,
                        "iteration": 743,
                        "remaining_time": 57.40886575,
                        "learn": [
                          0.2794501931
                        ]
                      },
                      {
                        "passed_time": 167.0774656,
                        "iteration": 744,
                        "remaining_time": 57.18758888,
                        "learn": [
                          0.2792422437
                        ]
                      },
                      {
                        "passed_time": 167.3301911,
                        "iteration": 745,
                        "remaining_time": 56.97301413,
                        "learn": [
                          0.2789679816
                        ]
                      },
                      {
                        "passed_time": 167.5613434,
                        "iteration": 746,
                        "remaining_time": 56.75103064,
                        "learn": [
                          0.2787286377
                        ]
                      },
                      {
                        "passed_time": 167.7783967,
                        "iteration": 747,
                        "remaining_time": 56.52427269,
                        "learn": [
                          0.2785079382
                        ]
                      },
                      {
                        "passed_time": 168.006725,
                        "iteration": 748,
                        "remaining_time": 56.30131907,
                        "learn": [
                          0.2781820068
                        ]
                      },
                      {
                        "passed_time": 168.280729,
                        "iteration": 749,
                        "remaining_time": 56.09357632,
                        "learn": [
                          0.2779478386
                        ]
                      },
                      {
                        "passed_time": 168.4965394,
                        "iteration": 750,
                        "remaining_time": 55.86636258,
                        "learn": [
                          0.2776924719
                        ]
                      },
                      {
                        "passed_time": 168.714143,
                        "iteration": 751,
                        "remaining_time": 55.63977058,
                        "learn": [
                          0.2774506694
                        ]
                      },
                      {
                        "passed_time": 168.9348306,
                        "iteration": 752,
                        "remaining_time": 55.41421401,
                        "learn": [
                          0.2771879381
                        ]
                      },
                      {
                        "passed_time": 169.1559061,
                        "iteration": 753,
                        "remaining_time": 55.18879695,
                        "learn": [
                          0.2769318876
                        ]
                      },
                      {
                        "passed_time": 169.4327505,
                        "iteration": 754,
                        "remaining_time": 54.98148858,
                        "learn": [
                          0.2766407658
                        ]
                      },
                      {
                        "passed_time": 169.6526201,
                        "iteration": 755,
                        "remaining_time": 54.75560754,
                        "learn": [
                          0.2764079438
                        ]
                      },
                      {
                        "passed_time": 169.8711177,
                        "iteration": 756,
                        "remaining_time": 54.52930198,
                        "learn": [
                          0.2762338622
                        ]
                      },
                      {
                        "passed_time": 170.085033,
                        "iteration": 757,
                        "remaining_time": 54.30155408,
                        "learn": [
                          0.276010474
                        ]
                      },
                      {
                        "passed_time": 170.3555742,
                        "iteration": 758,
                        "remaining_time": 54.09182264,
                        "learn": [
                          0.2757685023
                        ]
                      },
                      {
                        "passed_time": 170.5806408,
                        "iteration": 759,
                        "remaining_time": 53.86757078,
                        "learn": [
                          0.2755592863
                        ]
                      },
                      {
                        "passed_time": 170.7934021,
                        "iteration": 760,
                        "remaining_time": 53.63945218,
                        "learn": [
                          0.2753527878
                        ]
                      },
                      {
                        "passed_time": 171.0042898,
                        "iteration": 761,
                        "remaining_time": 53.41078866,
                        "learn": [
                          0.2751603843
                        ]
                      },
                      {
                        "passed_time": 171.2261034,
                        "iteration": 762,
                        "remaining_time": 53.18556552,
                        "learn": [
                          0.2749583989
                        ]
                      },
                      {
                        "passed_time": 171.4983135,
                        "iteration": 763,
                        "remaining_time": 52.97591883,
                        "learn": [
                          0.2747548127
                        ]
                      },
                      {
                        "passed_time": 171.7259049,
                        "iteration": 764,
                        "remaining_time": 52.75240214,
                        "learn": [
                          0.2744631821
                        ]
                      },
                      {
                        "passed_time": 171.9504452,
                        "iteration": 765,
                        "remaining_time": 52.5279428,
                        "learn": [
                          0.2741905688
                        ]
                      },
                      {
                        "passed_time": 172.1615775,
                        "iteration": 766,
                        "remaining_time": 52.29941013,
                        "learn": [
                          0.2740134902
                        ]
                      },
                      {
                        "passed_time": 172.4130013,
                        "iteration": 767,
                        "remaining_time": 52.08309413,
                        "learn": [
                          0.2737636214
                        ]
                      },
                      {
                        "passed_time": 172.6514168,
                        "iteration": 768,
                        "remaining_time": 51.86277931,
                        "learn": [
                          0.2735399484
                        ]
                      },
                      {
                        "passed_time": 172.8706285,
                        "iteration": 769,
                        "remaining_time": 51.63668124,
                        "learn": [
                          0.2733779707
                        ]
                      },
                      {
                        "passed_time": 173.086822,
                        "iteration": 770,
                        "remaining_time": 51.40970459,
                        "learn": [
                          0.2731487964
                        ]
                      },
                      {
                        "passed_time": 173.3102428,
                        "iteration": 771,
                        "remaining_time": 51.18489035,
                        "learn": [
                          0.2729001182
                        ]
                      },
                      {
                        "passed_time": 173.5795056,
                        "iteration": 772,
                        "remaining_time": 50.97354176,
                        "learn": [
                          0.2726266975
                        ]
                      },
                      {
                        "passed_time": 173.797848,
                        "iteration": 773,
                        "remaining_time": 50.74717526,
                        "learn": [
                          0.2723748755
                        ]
                      },
                      {
                        "passed_time": 174.0092952,
                        "iteration": 774,
                        "remaining_time": 50.51882765,
                        "learn": [
                          0.2722085062
                        ]
                      },
                      {
                        "passed_time": 174.231233,
                        "iteration": 775,
                        "remaining_time": 50.29355179,
                        "learn": [
                          0.2718807569
                        ]
                      },
                      {
                        "passed_time": 174.4529341,
                        "iteration": 776,
                        "remaining_time": 50.06821661,
                        "learn": [
                          0.2717111484
                        ]
                      },
                      {
                        "passed_time": 174.7192928,
                        "iteration": 777,
                        "remaining_time": 49.85563367,
                        "learn": [
                          0.2714675838
                        ]
                      },
                      {
                        "passed_time": 174.9419817,
                        "iteration": 778,
                        "remaining_time": 49.63052368,
                        "learn": [
                          0.2712774861
                        ]
                      },
                      {
                        "passed_time": 175.1603705,
                        "iteration": 779,
                        "remaining_time": 49.40420707,
                        "learn": [
                          0.2710439658
                        ]
                      },
                      {
                        "passed_time": 175.389029,
                        "iteration": 780,
                        "remaining_time": 49.18079046,
                        "learn": [
                          0.2707878613
                        ]
                      },
                      {
                        "passed_time": 175.6504105,
                        "iteration": 781,
                        "remaining_time": 48.96648271,
                        "learn": [
                          0.2705351565
                        ]
                      },
                      {
                        "passed_time": 175.8758084,
                        "iteration": 782,
                        "remaining_time": 48.74208229,
                        "learn": [
                          0.2702715983
                        ]
                      },
                      {
                        "passed_time": 176.0962037,
                        "iteration": 783,
                        "remaining_time": 48.51630102,
                        "learn": [
                          0.27001774
                        ]
                      },
                      {
                        "passed_time": 176.315903,
                        "iteration": 784,
                        "remaining_time": 48.29034286,
                        "learn": [
                          0.2698027751
                        ]
                      },
                      {
                        "passed_time": 176.538583,
                        "iteration": 785,
                        "remaining_time": 48.06521217,
                        "learn": [
                          0.2695619453
                        ]
                      },
                      {
                        "passed_time": 176.7996227,
                        "iteration": 786,
                        "remaining_time": 47.85046968,
                        "learn": [
                          0.2693567201
                        ]
                      },
                      {
                        "passed_time": 177.0175332,
                        "iteration": 787,
                        "remaining_time": 47.6240064,
                        "learn": [
                          0.2691487738
                        ]
                      },
                      {
                        "passed_time": 177.2385748,
                        "iteration": 788,
                        "remaining_time": 47.39840212,
                        "learn": [
                          0.2688853985
                        ]
                      },
                      {
                        "passed_time": 177.461685,
                        "iteration": 789,
                        "remaining_time": 47.17335931,
                        "learn": [
                          0.2687027639
                        ]
                      },
                      {
                        "passed_time": 177.6957714,
                        "iteration": 790,
                        "remaining_time": 46.95122151,
                        "learn": [
                          0.2684612112
                        ]
                      },
                      {
                        "passed_time": 177.9392852,
                        "iteration": 791,
                        "remaining_time": 46.73152944,
                        "learn": [
                          0.2682255811
                        ]
                      },
                      {
                        "passed_time": 178.1643545,
                        "iteration": 792,
                        "remaining_time": 46.50696265,
                        "learn": [
                          0.2679859638
                        ]
                      },
                      {
                        "passed_time": 178.3846049,
                        "iteration": 793,
                        "remaining_time": 46.28114434,
                        "learn": [
                          0.2677793302
                        ]
                      },
                      {
                        "passed_time": 178.601696,
                        "iteration": 794,
                        "remaining_time": 46.05452538,
                        "learn": [
                          0.2675053548
                        ]
                      },
                      {
                        "passed_time": 178.8605643,
                        "iteration": 795,
                        "remaining_time": 45.83863708,
                        "learn": [
                          0.2673089921
                        ]
                      },
                      {
                        "passed_time": 179.0765235,
                        "iteration": 796,
                        "remaining_time": 45.61171176,
                        "learn": [
                          0.2670777632
                        ]
                      },
                      {
                        "passed_time": 179.2945601,
                        "iteration": 797,
                        "remaining_time": 45.38533978,
                        "learn": [
                          0.2668444607
                        ]
                      },
                      {
                        "passed_time": 179.5103357,
                        "iteration": 798,
                        "remaining_time": 45.15841987,
                        "learn": [
                          0.266650306
                        ]
                      },
                      {
                        "passed_time": 179.7376299,
                        "iteration": 799,
                        "remaining_time": 44.93440746,
                        "learn": [
                          0.2663876235
                        ]
                      },
                      {
                        "passed_time": 179.9917165,
                        "iteration": 800,
                        "remaining_time": 44.71704317,
                        "learn": [
                          0.2661738011
                        ]
                      },
                      {
                        "passed_time": 180.2132663,
                        "iteration": 801,
                        "remaining_time": 44.49155452,
                        "learn": [
                          0.2659498373
                        ]
                      },
                      {
                        "passed_time": 180.4423867,
                        "iteration": 802,
                        "remaining_time": 44.26793298,
                        "learn": [
                          0.2657097059
                        ]
                      },
                      {
                        "passed_time": 180.6550123,
                        "iteration": 803,
                        "remaining_time": 44.04027663,
                        "learn": [
                          0.2655141132
                        ]
                      },
                      {
                        "passed_time": 180.8914245,
                        "iteration": 804,
                        "remaining_time": 43.8184196,
                        "learn": [
                          0.2653129816
                        ]
                      },
                      {
                        "passed_time": 181.1387792,
                        "iteration": 805,
                        "remaining_time": 43.59916025,
                        "learn": [
                          0.2650327201
                        ]
                      },
                      {
                        "passed_time": 181.3586983,
                        "iteration": 806,
                        "remaining_time": 43.37326985,
                        "learn": [
                          0.2647932151
                        ]
                      },
                      {
                        "passed_time": 181.5859067,
                        "iteration": 807,
                        "remaining_time": 43.14912635,
                        "learn": [
                          0.2645813753
                        ]
                      },
                      {
                        "passed_time": 181.7943237,
                        "iteration": 808,
                        "remaining_time": 42.92053872,
                        "learn": [
                          0.2644186659
                        ]
                      },
                      {
                        "passed_time": 182.0570418,
                        "iteration": 809,
                        "remaining_time": 42.7047382,
                        "learn": [
                          0.2641924502
                        ]
                      },
                      {
                        "passed_time": 182.2762419,
                        "iteration": 810,
                        "remaining_time": 42.47868029,
                        "learn": [
                          0.2639288377
                        ]
                      },
                      {
                        "passed_time": 182.5027986,
                        "iteration": 811,
                        "remaining_time": 42.25434253,
                        "learn": [
                          0.2637318103
                        ]
                      },
                      {
                        "passed_time": 182.7179917,
                        "iteration": 812,
                        "remaining_time": 42.02738555,
                        "learn": [
                          0.2635253768
                        ]
                      },
                      {
                        "passed_time": 182.9329279,
                        "iteration": 813,
                        "remaining_time": 41.80039875,
                        "learn": [
                          0.2633128695
                        ]
                      },
                      {
                        "passed_time": 183.2046015,
                        "iteration": 814,
                        "remaining_time": 41.58632059,
                        "learn": [
                          0.2630131002
                        ]
                      },
                      {
                        "passed_time": 183.4144522,
                        "iteration": 815,
                        "remaining_time": 41.35816079,
                        "learn": [
                          0.2628165722
                        ]
                      },
                      {
                        "passed_time": 183.6365044,
                        "iteration": 816,
                        "remaining_time": 41.13277883,
                        "learn": [
                          0.262638548
                        ]
                      },
                      {
                        "passed_time": 183.8605352,
                        "iteration": 817,
                        "remaining_time": 40.90784523,
                        "learn": [
                          0.2623611188
                        ]
                      },
                      {
                        "passed_time": 184.0994769,
                        "iteration": 818,
                        "remaining_time": 40.68620918,
                        "learn": [
                          0.2621599442
                        ]
                      },
                      {
                        "passed_time": 184.3298136,
                        "iteration": 819,
                        "remaining_time": 40.46264201,
                        "learn": [
                          0.2619427336
                        ]
                      },
                      {
                        "passed_time": 184.5592297,
                        "iteration": 820,
                        "remaining_time": 40.23885762,
                        "learn": [
                          0.2617208992
                        ]
                      },
                      {
                        "passed_time": 184.7770912,
                        "iteration": 821,
                        "remaining_time": 40.01255746,
                        "learn": [
                          0.2614938947
                        ]
                      },
                      {
                        "passed_time": 184.9901599,
                        "iteration": 822,
                        "remaining_time": 39.78524703,
                        "learn": [
                          0.2612399404
                        ]
                      },
                      {
                        "passed_time": 185.2605585,
                        "iteration": 823,
                        "remaining_time": 39.57021638,
                        "learn": [
                          0.2610095906
                        ]
                      },
                      {
                        "passed_time": 185.4862614,
                        "iteration": 824,
                        "remaining_time": 39.34557061,
                        "learn": [
                          0.260796243
                        ]
                      },
                      {
                        "passed_time": 185.7054195,
                        "iteration": 825,
                        "remaining_time": 39.11954357,
                        "learn": [
                          0.260590441
                        ]
                      },
                      {
                        "passed_time": 185.9248739,
                        "iteration": 826,
                        "remaining_time": 38.89359515,
                        "learn": [
                          0.2603630519
                        ]
                      },
                      {
                        "passed_time": 186.147728,
                        "iteration": 827,
                        "remaining_time": 38.66836862,
                        "learn": [
                          0.2601195455
                        ]
                      },
                      {
                        "passed_time": 186.4075616,
                        "iteration": 828,
                        "remaining_time": 38.45077567,
                        "learn": [
                          0.2599025597
                        ]
                      },
                      {
                        "passed_time": 186.6296511,
                        "iteration": 829,
                        "remaining_time": 38.22535022,
                        "learn": [
                          0.2597189602
                        ]
                      },
                      {
                        "passed_time": 186.850059,
                        "iteration": 830,
                        "remaining_time": 37.99959083,
                        "learn": [
                          0.2594946438
                        ]
                      },
                      {
                        "passed_time": 187.0672777,
                        "iteration": 831,
                        "remaining_time": 37.7732003,
                        "learn": [
                          0.2592551943
                        ]
                      },
                      {
                        "passed_time": 187.396642,
                        "iteration": 832,
                        "remaining_time": 37.56931479,
                        "learn": [
                          0.2590629124
                        ]
                      },
                      {
                        "passed_time": 187.65723,
                        "iteration": 833,
                        "remaining_time": 37.35143907,
                        "learn": [
                          0.2588641091
                        ]
                      },
                      {
                        "passed_time": 187.8708995,
                        "iteration": 834,
                        "remaining_time": 37.12418973,
                        "learn": [
                          0.2587334574
                        ]
                      },
                      {
                        "passed_time": 188.0989354,
                        "iteration": 835,
                        "remaining_time": 36.89979115,
                        "learn": [
                          0.2585462165
                        ]
                      },
                      {
                        "passed_time": 188.3163991,
                        "iteration": 836,
                        "remaining_time": 36.67332503,
                        "learn": [
                          0.2583623522
                        ]
                      },
                      {
                        "passed_time": 188.5788061,
                        "iteration": 837,
                        "remaining_time": 36.45556873,
                        "learn": [
                          0.258171777
                        ]
                      },
                      {
                        "passed_time": 188.8042025,
                        "iteration": 838,
                        "remaining_time": 36.23060382,
                        "learn": [
                          0.2578813044
                        ]
                      },
                      {
                        "passed_time": 189.0184543,
                        "iteration": 839,
                        "remaining_time": 36.0035151,
                        "learn": [
                          0.2576755585
                        ]
                      },
                      {
                        "passed_time": 189.2325053,
                        "iteration": 840,
                        "remaining_time": 35.77641897,
                        "learn": [
                          0.2574922984
                        ]
                      },
                      {
                        "passed_time": 189.4517615,
                        "iteration": 841,
                        "remaining_time": 35.55033055,
                        "learn": [
                          0.257264382
                        ]
                      },
                      {
                        "passed_time": 189.7315892,
                        "iteration": 842,
                        "remaining_time": 35.33553915,
                        "learn": [
                          0.2570712212
                        ]
                      },
                      {
                        "passed_time": 189.956659,
                        "iteration": 843,
                        "remaining_time": 35.11047253,
                        "learn": [
                          0.2568646088
                        ]
                      },
                      {
                        "passed_time": 190.1861154,
                        "iteration": 844,
                        "remaining_time": 34.88621051,
                        "learn": [
                          0.2566877432
                        ]
                      },
                      {
                        "passed_time": 190.4069128,
                        "iteration": 845,
                        "remaining_time": 34.66036001,
                        "learn": [
                          0.2564614068
                        ]
                      },
                      {
                        "passed_time": 190.6840079,
                        "iteration": 846,
                        "remaining_time": 34.44469092,
                        "learn": [
                          0.2562136207
                        ]
                      },
                      {
                        "passed_time": 190.9031397,
                        "iteration": 847,
                        "remaining_time": 34.21848731,
                        "learn": [
                          0.2560090404
                        ]
                      },
                      {
                        "passed_time": 191.1246172,
                        "iteration": 848,
                        "remaining_time": 33.99271754,
                        "learn": [
                          0.2557697527
                        ]
                      },
                      {
                        "passed_time": 191.3344214,
                        "iteration": 849,
                        "remaining_time": 33.7648979,
                        "learn": [
                          0.2555857825
                        ]
                      },
                      {
                        "passed_time": 191.5541364,
                        "iteration": 850,
                        "remaining_time": 33.53885584,
                        "learn": [
                          0.2553754679
                        ]
                      },
                      {
                        "passed_time": 191.8306272,
                        "iteration": 851,
                        "remaining_time": 33.3226911,
                        "learn": [
                          0.2551735916
                        ]
                      },
                      {
                        "passed_time": 192.0467652,
                        "iteration": 852,
                        "remaining_time": 33.09598415,
                        "learn": [
                          0.2549659811
                        ]
                      },
                      {
                        "passed_time": 192.275101,
                        "iteration": 853,
                        "remaining_time": 32.87138729,
                        "learn": [
                          0.2547217301
                        ]
                      },
                      {
                        "passed_time": 192.487905,
                        "iteration": 854,
                        "remaining_time": 32.64414763,
                        "learn": [
                          0.2545317742
                        ]
                      },
                      {
                        "passed_time": 192.7260243,
                        "iteration": 855,
                        "remaining_time": 32.42120035,
                        "learn": [
                          0.2543581984
                        ]
                      },
                      {
                        "passed_time": 192.9712111,
                        "iteration": 856,
                        "remaining_time": 32.19939695,
                        "learn": [
                          0.254123758
                        ]
                      },
                      {
                        "passed_time": 193.1953637,
                        "iteration": 857,
                        "remaining_time": 31.97405787,
                        "learn": [
                          0.2539051629
                        ]
                      },
                      {
                        "passed_time": 193.4062851,
                        "iteration": 858,
                        "remaining_time": 31.7465497,
                        "learn": [
                          0.2537443997
                        ]
                      },
                      {
                        "passed_time": 193.6272314,
                        "iteration": 859,
                        "remaining_time": 31.52071208,
                        "learn": [
                          0.253546642
                        ]
                      },
                      {
                        "passed_time": 193.9109966,
                        "iteration": 860,
                        "remaining_time": 31.30502733,
                        "learn": [
                          0.2532829558
                        ]
                      },
                      {
                        "passed_time": 194.1322916,
                        "iteration": 861,
                        "remaining_time": 31.07918357,
                        "learn": [
                          0.2530596646
                        ]
                      },
                      {
                        "passed_time": 194.3517252,
                        "iteration": 862,
                        "remaining_time": 30.85305487,
                        "learn": [
                          0.2528749684
                        ]
                      },
                      {
                        "passed_time": 194.5622584,
                        "iteration": 863,
                        "remaining_time": 30.62554068,
                        "learn": [
                          0.2526938904
                        ]
                      },
                      {
                        "passed_time": 194.7956341,
                        "iteration": 864,
                        "remaining_time": 30.40163075,
                        "learn": [
                          0.2525050695
                        ]
                      },
                      {
                        "passed_time": 195.0556411,
                        "iteration": 865,
                        "remaining_time": 30.18181976,
                        "learn": [
                          0.2522871541
                        ]
                      },
                      {
                        "passed_time": 195.2777931,
                        "iteration": 866,
                        "remaining_time": 29.95610898,
                        "learn": [
                          0.2520718184
                        ]
                      },
                      {
                        "passed_time": 195.5009333,
                        "iteration": 867,
                        "remaining_time": 29.73055668,
                        "learn": [
                          0.2518626532
                        ]
                      },
                      {
                        "passed_time": 195.7242644,
                        "iteration": 868,
                        "remaining_time": 29.50503871,
                        "learn": [
                          0.2517157391
                        ]
                      },
                      {
                        "passed_time": 195.9685229,
                        "iteration": 869,
                        "remaining_time": 29.28265285,
                        "learn": [
                          0.2514826918
                        ]
                      },
                      {
                        "passed_time": 196.2119088,
                        "iteration": 870,
                        "remaining_time": 29.06008752,
                        "learn": [
                          0.2512603729
                        ]
                      },
                      {
                        "passed_time": 196.4346412,
                        "iteration": 871,
                        "remaining_time": 28.83444274,
                        "learn": [
                          0.2510427093
                        ]
                      },
                      {
                        "passed_time": 196.6550324,
                        "iteration": 872,
                        "remaining_time": 28.60846406,
                        "learn": [
                          0.2508616514
                        ]
                      },
                      {
                        "passed_time": 196.8940087,
                        "iteration": 873,
                        "remaining_time": 28.38517746,
                        "learn": [
                          0.2506661141
                        ]
                      },
                      {
                        "passed_time": 197.1582388,
                        "iteration": 874,
                        "remaining_time": 28.16546268,
                        "learn": [
                          0.2504838423
                        ]
                      },
                      {
                        "passed_time": 197.3751339,
                        "iteration": 875,
                        "remaining_time": 27.93894589,
                        "learn": [
                          0.2503317614
                        ]
                      },
                      {
                        "passed_time": 197.5980007,
                        "iteration": 876,
                        "remaining_time": 27.71328858,
                        "learn": [
                          0.2501368314
                        ]
                      },
                      {
                        "passed_time": 197.823341,
                        "iteration": 877,
                        "remaining_time": 27.48798133,
                        "learn": [
                          0.2499463379
                        ]
                      },
                      {
                        "passed_time": 198.0689614,
                        "iteration": 878,
                        "remaining_time": 27.26546568,
                        "learn": [
                          0.2497398453
                        ]
                      },
                      {
                        "passed_time": 198.3084605,
                        "iteration": 879,
                        "remaining_time": 27.0420628,
                        "learn": [
                          0.2495441106
                        ]
                      },
                      {
                        "passed_time": 198.5348487,
                        "iteration": 880,
                        "remaining_time": 26.81685243,
                        "learn": [
                          0.2492992242
                        ]
                      },
                      {
                        "passed_time": 198.7585272,
                        "iteration": 881,
                        "remaining_time": 26.59127688,
                        "learn": [
                          0.2490915981
                        ]
                      },
                      {
                        "passed_time": 198.9737864,
                        "iteration": 882,
                        "remaining_time": 26.36459004,
                        "learn": [
                          0.2489076659
                        ]
                      },
                      {
                        "passed_time": 199.2368577,
                        "iteration": 883,
                        "remaining_time": 26.14420305,
                        "learn": [
                          0.2487033113
                        ]
                      },
                      {
                        "passed_time": 199.4530571,
                        "iteration": 884,
                        "remaining_time": 25.91762889,
                        "learn": [
                          0.2485161373
                        ]
                      },
                      {
                        "passed_time": 199.6649924,
                        "iteration": 885,
                        "remaining_time": 25.6905295,
                        "learn": [
                          0.2483650997
                        ]
                      },
                      {
                        "passed_time": 199.8891225,
                        "iteration": 886,
                        "remaining_time": 25.46501787,
                        "learn": [
                          0.2481610654
                        ]
                      },
                      {
                        "passed_time": 200.1086333,
                        "iteration": 887,
                        "remaining_time": 25.23892673,
                        "learn": [
                          0.2479299958
                        ]
                      },
                      {
                        "passed_time": 200.3748806,
                        "iteration": 888,
                        "remaining_time": 25.01868588,
                        "learn": [
                          0.247748902
                        ]
                      },
                      {
                        "passed_time": 200.5960557,
                        "iteration": 889,
                        "remaining_time": 24.79277093,
                        "learn": [
                          0.2475649052
                        ]
                      },
                      {
                        "passed_time": 200.8307693,
                        "iteration": 890,
                        "remaining_time": 24.56852285,
                        "learn": [
                          0.2473492987
                        ]
                      },
                      {
                        "passed_time": 201.0512243,
                        "iteration": 891,
                        "remaining_time": 24.34252492,
                        "learn": [
                          0.2471064586
                        ]
                      },
                      {
                        "passed_time": 201.3100109,
                        "iteration": 892,
                        "remaining_time": 24.12113233,
                        "learn": [
                          0.2468693814
                        ]
                      },
                      {
                        "passed_time": 201.5345225,
                        "iteration": 893,
                        "remaining_time": 23.89559215,
                        "learn": [
                          0.2466862668
                        ]
                      },
                      {
                        "passed_time": 201.7521856,
                        "iteration": 894,
                        "remaining_time": 23.66925082,
                        "learn": [
                          0.2464859283
                        ]
                      },
                      {
                        "passed_time": 201.9822091,
                        "iteration": 895,
                        "remaining_time": 23.44436356,
                        "learn": [
                          0.2462620765
                        ]
                      },
                      {
                        "passed_time": 202.1961674,
                        "iteration": 896,
                        "remaining_time": 23.21762011,
                        "learn": [
                          0.2460970461
                        ]
                      },
                      {
                        "passed_time": 202.4646295,
                        "iteration": 897,
                        "remaining_time": 22.997096,
                        "learn": [
                          0.2458575946
                        ]
                      },
                      {
                        "passed_time": 202.688266,
                        "iteration": 898,
                        "remaining_time": 22.77142922,
                        "learn": [
                          0.2456497902
                        ]
                      },
                      {
                        "passed_time": 202.9088913,
                        "iteration": 899,
                        "remaining_time": 22.54543236,
                        "learn": [
                          0.2454380082
                        ]
                      },
                      {
                        "passed_time": 203.1239008,
                        "iteration": 900,
                        "remaining_time": 22.31883038,
                        "learn": [
                          0.2452178574
                        ]
                      },
                      {
                        "passed_time": 203.3728117,
                        "iteration": 901,
                        "remaining_time": 22.09593741,
                        "learn": [
                          0.2450459364
                        ]
                      },
                      {
                        "passed_time": 203.6098344,
                        "iteration": 902,
                        "remaining_time": 21.87170979,
                        "learn": [
                          0.2448707951
                        ]
                      },
                      {
                        "passed_time": 203.8432668,
                        "iteration": 903,
                        "remaining_time": 21.64707258,
                        "learn": [
                          0.2447059239
                        ]
                      },
                      {
                        "passed_time": 204.0627481,
                        "iteration": 904,
                        "remaining_time": 21.42095146,
                        "learn": [
                          0.2445407698
                        ]
                      },
                      {
                        "passed_time": 204.2879669,
                        "iteration": 905,
                        "remaining_time": 21.19544027,
                        "learn": [
                          0.2443158495
                        ]
                      },
                      {
                        "passed_time": 204.5611184,
                        "iteration": 906,
                        "remaining_time": 20.97484456,
                        "learn": [
                          0.2440871786
                        ]
                      },
                      {
                        "passed_time": 204.7756798,
                        "iteration": 907,
                        "remaining_time": 20.74819664,
                        "learn": [
                          0.2438958062
                        ]
                      },
                      {
                        "passed_time": 205.0001412,
                        "iteration": 908,
                        "remaining_time": 20.52256639,
                        "learn": [
                          0.2436927572
                        ]
                      },
                      {
                        "passed_time": 205.2154145,
                        "iteration": 909,
                        "remaining_time": 20.29603001,
                        "learn": [
                          0.2435021145
                        ]
                      },
                      {
                        "passed_time": 205.4244287,
                        "iteration": 910,
                        "remaining_time": 20.06890687,
                        "learn": [
                          0.2433450676
                        ]
                      },
                      {
                        "passed_time": 205.6965101,
                        "iteration": 911,
                        "remaining_time": 19.84790887,
                        "learn": [
                          0.2431231818
                        ]
                      },
                      {
                        "passed_time": 205.9246003,
                        "iteration": 912,
                        "remaining_time": 19.62260704,
                        "learn": [
                          0.2429466631
                        ]
                      },
                      {
                        "passed_time": 206.1411671,
                        "iteration": 913,
                        "remaining_time": 19.39621485,
                        "learn": [
                          0.2427491891
                        ]
                      },
                      {
                        "passed_time": 206.3618666,
                        "iteration": 914,
                        "remaining_time": 19.17022805,
                        "learn": [
                          0.2425864488
                        ]
                      },
                      {
                        "passed_time": 206.6218082,
                        "iteration": 915,
                        "remaining_time": 18.94785141,
                        "learn": [
                          0.2423884937
                        ]
                      },
                      {
                        "passed_time": 206.8502165,
                        "iteration": 916,
                        "remaining_time": 18.72253868,
                        "learn": [
                          0.2422010571
                        ]
                      },
                      {
                        "passed_time": 207.0750649,
                        "iteration": 917,
                        "remaining_time": 18.49690122,
                        "learn": [
                          0.2420202003
                        ]
                      },
                      {
                        "passed_time": 207.2929797,
                        "iteration": 918,
                        "remaining_time": 18.27065436,
                        "learn": [
                          0.241819792
                        ]
                      },
                      {
                        "passed_time": 207.5028629,
                        "iteration": 919,
                        "remaining_time": 18.04372721,
                        "learn": [
                          0.24162425
                        ]
                      },
                      {
                        "passed_time": 207.8434684,
                        "iteration": 920,
                        "remaining_time": 17.82804995,
                        "learn": [
                          0.2414703862
                        ]
                      },
                      {
                        "passed_time": 208.0770068,
                        "iteration": 921,
                        "remaining_time": 17.60304396,
                        "learn": [
                          0.2412317729
                        ]
                      },
                      {
                        "passed_time": 208.2986323,
                        "iteration": 922,
                        "remaining_time": 17.37702566,
                        "learn": [
                          0.2410206254
                        ]
                      },
                      {
                        "passed_time": 208.5195234,
                        "iteration": 923,
                        "remaining_time": 17.15095647,
                        "learn": [
                          0.2408176928
                        ]
                      },
                      {
                        "passed_time": 208.7353785,
                        "iteration": 924,
                        "remaining_time": 16.92449015,
                        "learn": [
                          0.2406067778
                        ]
                      },
                      {
                        "passed_time": 209.0096742,
                        "iteration": 925,
                        "remaining_time": 16.70271694,
                        "learn": [
                          0.240426156
                        ]
                      },
                      {
                        "passed_time": 209.2366141,
                        "iteration": 926,
                        "remaining_time": 16.47710122,
                        "learn": [
                          0.2402345539
                        ]
                      },
                      {
                        "passed_time": 209.4493433,
                        "iteration": 927,
                        "remaining_time": 16.25038009,
                        "learn": [
                          0.2400372796
                        ]
                      },
                      {
                        "passed_time": 209.6630638,
                        "iteration": 928,
                        "remaining_time": 16.02376484,
                        "learn": [
                          0.2398505583
                        ]
                      },
                      {
                        "passed_time": 209.9276897,
                        "iteration": 929,
                        "remaining_time": 15.8010089,
                        "learn": [
                          0.2396589601
                        ]
                      },
                      {
                        "passed_time": 210.1747015,
                        "iteration": 930,
                        "remaining_time": 15.57685757,
                        "learn": [
                          0.2394511113
                        ]
                      },
                      {
                        "passed_time": 210.3971436,
                        "iteration": 931,
                        "remaining_time": 15.35086456,
                        "learn": [
                          0.239254391
                        ]
                      },
                      {
                        "passed_time": 210.6127301,
                        "iteration": 932,
                        "remaining_time": 15.12438684,
                        "learn": [
                          0.2390302832
                        ]
                      },
                      {
                        "passed_time": 210.836572,
                        "iteration": 933,
                        "remaining_time": 14.8985158,
                        "learn": [
                          0.2388729085
                        ]
                      },
                      {
                        "passed_time": 211.1213497,
                        "iteration": 934,
                        "remaining_time": 14.67688528,
                        "learn": [
                          0.2386327186
                        ]
                      },
                      {
                        "passed_time": 211.3400631,
                        "iteration": 935,
                        "remaining_time": 14.4506026,
                        "learn": [
                          0.2384257588
                        ]
                      },
                      {
                        "passed_time": 211.5572476,
                        "iteration": 936,
                        "remaining_time": 14.2242333,
                        "learn": [
                          0.2382096294
                        ]
                      },
                      {
                        "passed_time": 211.7819559,
                        "iteration": 937,
                        "remaining_time": 13.99838088,
                        "learn": [
                          0.2379967237
                        ]
                      },
                      {
                        "passed_time": 212.0086096,
                        "iteration": 938,
                        "remaining_time": 13.77265728,
                        "learn": [
                          0.2378316302
                        ]
                      },
                      {
                        "passed_time": 212.2815182,
                        "iteration": 939,
                        "remaining_time": 13.54988414,
                        "learn": [
                          0.2376673066
                        ]
                      },
                      {
                        "passed_time": 212.4990847,
                        "iteration": 940,
                        "remaining_time": 13.32353454,
                        "learn": [
                          0.2374384218
                        ]
                      },
                      {
                        "passed_time": 212.7208529,
                        "iteration": 941,
                        "remaining_time": 13.09746228,
                        "learn": [
                          0.2372444735
                        ]
                      },
                      {
                        "passed_time": 212.9355806,
                        "iteration": 942,
                        "remaining_time": 12.87097359,
                        "learn": [
                          0.2370520247
                        ]
                      },
                      {
                        "passed_time": 213.2037753,
                        "iteration": 943,
                        "remaining_time": 12.64768159,
                        "learn": [
                          0.2368467246
                        ]
                      },
                      {
                        "passed_time": 213.4370451,
                        "iteration": 944,
                        "remaining_time": 12.42226188,
                        "learn": [
                          0.236645823
                        ]
                      },
                      {
                        "passed_time": 213.6609378,
                        "iteration": 945,
                        "remaining_time": 12.19629032,
                        "learn": [
                          0.2364152139
                        ]
                      },
                      {
                        "passed_time": 213.8771034,
                        "iteration": 946,
                        "remaining_time": 11.96989068,
                        "learn": [
                          0.2362595411
                        ]
                      },
                      {
                        "passed_time": 214.0931357,
                        "iteration": 947,
                        "remaining_time": 11.74350534,
                        "learn": [
                          0.2360719079
                        ]
                      },
                      {
                        "passed_time": 214.3606694,
                        "iteration": 948,
                        "remaining_time": 11.51990953,
                        "learn": [
                          0.2358735278
                        ]
                      },
                      {
                        "passed_time": 214.5831891,
                        "iteration": 949,
                        "remaining_time": 11.29385206,
                        "learn": [
                          0.2356478482
                        ]
                      },
                      {
                        "passed_time": 214.8074295,
                        "iteration": 950,
                        "remaining_time": 11.06789069,
                        "learn": [
                          0.2354472635
                        ]
                      },
                      {
                        "passed_time": 215.0147465,
                        "iteration": 951,
                        "remaining_time": 10.84107965,
                        "learn": [
                          0.2352855232
                        ]
                      },
                      {
                        "passed_time": 215.2434465,
                        "iteration": 952,
                        "remaining_time": 10.6153641,
                        "learn": [
                          0.2351116862
                        ]
                      },
                      {
                        "passed_time": 215.5056946,
                        "iteration": 953,
                        "remaining_time": 10.39125991,
                        "learn": [
                          0.2349721513
                        ]
                      },
                      {
                        "passed_time": 215.7328509,
                        "iteration": 954,
                        "remaining_time": 10.16542229,
                        "learn": [
                          0.234805079
                        ]
                      },
                      {
                        "passed_time": 215.9434483,
                        "iteration": 955,
                        "remaining_time": 9.938819798,
                        "learn": [
                          0.2346406835
                        ]
                      },
                      {
                        "passed_time": 216.1690466,
                        "iteration": 956,
                        "remaining_time": 9.712924768,
                        "learn": [
                          0.2344431634
                        ]
                      },
                      {
                        "passed_time": 216.4129174,
                        "iteration": 957,
                        "remaining_time": 9.487831454,
                        "learn": [
                          0.23429672
                        ]
                      },
                      {
                        "passed_time": 216.6599072,
                        "iteration": 958,
                        "remaining_time": 9.262832318,
                        "learn": [
                          0.2341186627
                        ]
                      },
                      {
                        "passed_time": 216.8770787,
                        "iteration": 959,
                        "remaining_time": 9.036544946,
                        "learn": [
                          0.2339617451
                        ]
                      },
                      {
                        "passed_time": 217.0980072,
                        "iteration": 960,
                        "remaining_time": 8.81042901,
                        "learn": [
                          0.2337871024
                        ]
                      },
                      {
                        "passed_time": 217.3204994,
                        "iteration": 961,
                        "remaining_time": 8.584385633,
                        "learn": [
                          0.2336368412
                        ]
                      },
                      {
                        "passed_time": 217.5917975,
                        "iteration": 962,
                        "remaining_time": 8.360224828,
                        "learn": [
                          0.2334408507
                        ]
                      },
                      {
                        "passed_time": 217.8095747,
                        "iteration": 963,
                        "remaining_time": 8.13396752,
                        "learn": [
                          0.233231903
                        ]
                      },
                      {
                        "passed_time": 218.0265689,
                        "iteration": 964,
                        "remaining_time": 7.907699391,
                        "learn": [
                          0.2330668004
                        ]
                      },
                      {
                        "passed_time": 218.2494216,
                        "iteration": 965,
                        "remaining_time": 7.681656661,
                        "learn": [
                          0.2329021556
                        ]
                      },
                      {
                        "passed_time": 218.4580345,
                        "iteration": 966,
                        "remaining_time": 7.45513458,
                        "learn": [
                          0.2326956457
                        ]
                      },
                      {
                        "passed_time": 218.7253906,
                        "iteration": 967,
                        "remaining_time": 7.230591424,
                        "learn": [
                          0.232503554
                        ]
                      },
                      {
                        "passed_time": 218.9427426,
                        "iteration": 968,
                        "remaining_time": 7.004360185,
                        "learn": [
                          0.2323240209
                        ]
                      },
                      {
                        "passed_time": 219.1768389,
                        "iteration": 969,
                        "remaining_time": 6.778665121,
                        "learn": [
                          0.2320796702
                        ]
                      },
                      {
                        "passed_time": 219.3934315,
                        "iteration": 970,
                        "remaining_time": 6.552429982,
                        "learn": [
                          0.2319054747
                        ]
                      },
                      {
                        "passed_time": 219.641742,
                        "iteration": 971,
                        "remaining_time": 6.32712837,
                        "learn": [
                          0.2317334625
                        ]
                      },
                      {
                        "passed_time": 219.8815614,
                        "iteration": 972,
                        "remaining_time": 6.10154384,
                        "learn": [
                          0.2315266699
                        ]
                      },
                      {
                        "passed_time": 220.0943729,
                        "iteration": 973,
                        "remaining_time": 5.875209133,
                        "learn": [
                          0.231366517
                        ]
                      },
                      {
                        "passed_time": 220.321407,
                        "iteration": 974,
                        "remaining_time": 5.649266846,
                        "learn": [
                          0.2311564604
                        ]
                      },
                      {
                        "passed_time": 220.533463,
                        "iteration": 975,
                        "remaining_time": 5.422954007,
                        "learn": [
                          0.2309464982
                        ]
                      },
                      {
                        "passed_time": 220.800533,
                        "iteration": 976,
                        "remaining_time": 5.197965464,
                        "learn": [
                          0.230800041
                        ]
                      },
                      {
                        "passed_time": 221.0246276,
                        "iteration": 977,
                        "remaining_time": 4.971924137,
                        "learn": [
                          0.2305828154
                        ]
                      },
                      {
                        "passed_time": 221.2445628,
                        "iteration": 978,
                        "remaining_time": 4.745797568,
                        "learn": [
                          0.2304161345
                        ]
                      },
                      {
                        "passed_time": 221.4681118,
                        "iteration": 979,
                        "remaining_time": 4.519757384,
                        "learn": [
                          0.2301857637
                        ]
                      },
                      {
                        "passed_time": 221.6817877,
                        "iteration": 980,
                        "remaining_time": 4.293531056,
                        "learn": [
                          0.2300114066
                        ]
                      },
                      {
                        "passed_time": 221.9515873,
                        "iteration": 981,
                        "remaining_time": 4.068359034,
                        "learn": [
                          0.2298370575
                        ]
                      },
                      {
                        "passed_time": 222.1773606,
                        "iteration": 982,
                        "remaining_time": 3.842334822,
                        "learn": [
                          0.2296488566
                        ]
                      },
                      {
                        "passed_time": 222.3990704,
                        "iteration": 983,
                        "remaining_time": 3.616245048,
                        "learn": [
                          0.2294526865
                        ]
                      },
                      {
                        "passed_time": 222.6105378,
                        "iteration": 984,
                        "remaining_time": 3.390008189,
                        "learn": [
                          0.2292739475
                        ]
                      },
                      {
                        "passed_time": 222.8492361,
                        "iteration": 985,
                        "remaining_time": 3.164187937,
                        "learn": [
                          0.2291385992
                        ]
                      },
                      {
                        "passed_time": 223.0982649,
                        "iteration": 986,
                        "remaining_time": 2.938477653,
                        "learn": [
                          0.2289632552
                        ]
                      },
                      {
                        "passed_time": 223.3299057,
                        "iteration": 987,
                        "remaining_time": 2.712508977,
                        "learn": [
                          0.2287861498
                        ]
                      },
                      {
                        "passed_time": 223.547827,
                        "iteration": 988,
                        "remaining_time": 2.486376236,
                        "learn": [
                          0.2286214904
                        ]
                      },
                      {
                        "passed_time": 223.767269,
                        "iteration": 989,
                        "remaining_time": 2.260275445,
                        "learn": [
                          0.2284161521
                        ]
                      },
                      {
                        "passed_time": 224.0348158,
                        "iteration": 990,
                        "remaining_time": 2.034624967,
                        "learn": [
                          0.2282634846
                        ]
                      },
                      {
                        "passed_time": 224.2666628,
                        "iteration": 991,
                        "remaining_time": 1.808602119,
                        "learn": [
                          0.2280815392
                        ]
                      },
                      {
                        "passed_time": 224.4858753,
                        "iteration": 992,
                        "remaining_time": 1.582478477,
                        "learn": [
                          0.2279210222
                        ]
                      },
                      {
                        "passed_time": 224.7023177,
                        "iteration": 993,
                        "remaining_time": 1.356352018,
                        "learn": [
                          0.2277514994
                        ]
                      },
                      {
                        "passed_time": 224.9509161,
                        "iteration": 994,
                        "remaining_time": 1.130406613,
                        "learn": [
                          0.2275949028
                        ]
                      },
                      {
                        "passed_time": 225.1905127,
                        "iteration": 995,
                        "remaining_time": 0.9043795692,
                        "learn": [
                          0.2273886563
                        ]
                      },
                      {
                        "passed_time": 225.4244581,
                        "iteration": 996,
                        "remaining_time": 0.6783082993,
                        "learn": [
                          0.2271800106
                        ]
                      },
                      {
                        "passed_time": 225.6495328,
                        "iteration": 997,
                        "remaining_time": 0.4522034726,
                        "learn": [
                          0.2269598951
                        ]
                      },
                      {
                        "passed_time": 225.8660925,
                        "iteration": 998,
                        "remaining_time": 0.2260921847,
                        "learn": [
                          0.2267826929
                        ]
                      },
                      {
                        "passed_time": 226.1686234,
                        "iteration": 999,
                        "remaining_time": 0,
                        "learn": [
                          0.2265727732
                        ]
                      }
                    ]
                  },
                  "total_iterations": 1000,
                  "passed_iterations": 999
                },
                "path": "catboost_info",
                "name": "catboost_info"
              }
            },
            "_view_module": "catboost-widget",
            "_model_module_version": "^1.0.0",
            "_view_count": null,
            "_view_module_version": "^1.0.0",
            "layout": "IPY_MODEL_730f846b08c0439cbf18af49e1056eb3",
            "_model_module": "catboost-widget"
          }
        }
      }
    }
  },
  "cells": [
    {
      "cell_type": "markdown",
      "metadata": {
        "id": "view-in-github",
        "colab_type": "text"
      },
      "source": [
        "<a href=\"https://colab.research.google.com/github/MKrezheska/NLP_Project-Style_Change_Detetion/blob/main/Models_BERT_Task1.ipynb\" target=\"_parent\"><img src=\"https://colab.research.google.com/assets/colab-badge.svg\" alt=\"Open In Colab\"/></a>"
      ]
    },
    {
      "cell_type": "code",
      "metadata": {
        "colab": {
          "base_uri": "https://localhost:8080/"
        },
        "id": "rdQCV-9w0zlB",
        "outputId": "4bcbcde0-77ab-4622-bd07-9efe1b24994e"
      },
      "source": [
        "from google.colab import drive\n",
        "drive.mount('/content/drive')"
      ],
      "execution_count": 1,
      "outputs": [
        {
          "output_type": "stream",
          "name": "stdout",
          "text": [
            "Mounted at /content/drive\n"
          ]
        }
      ]
    },
    {
      "cell_type": "code",
      "metadata": {
        "id": "JFRgLrGS8HFn"
      },
      "source": [
        "import pandas as pd"
      ],
      "execution_count": 2,
      "outputs": []
    },
    {
      "cell_type": "code",
      "metadata": {
        "id": "8JqDRgHAN5mg"
      },
      "source": [
        "import json\n",
        "import numpy as np \n",
        "import time\n",
        "import joblib"
      ],
      "execution_count": 3,
      "outputs": []
    },
    {
      "cell_type": "code",
      "metadata": {
        "id": "55siDObqEJMa"
      },
      "source": [
        "df_1 = pd.read_csv('drive/MyDrive/pan-2021/first-5000-bert-emb.csv')\n",
        "df_2 = pd.read_csv('drive/MyDrive/pan-2021/train-5000-7300-bert.csv')\n",
        "df_3 = pd.read_csv('drive/MyDrive/pan-2021/train-from-7300-bert.csv')\n",
        "\n",
        "df = pd.concat([df_1, df_2, df_3])"
      ],
      "execution_count": 4,
      "outputs": []
    },
    {
      "cell_type": "code",
      "metadata": {
        "colab": {
          "base_uri": "https://localhost:8080/",
          "height": 416
        },
        "id": "yNxidgNkLtd-",
        "outputId": "f5a20f0b-f5db-4bcf-dca3-8a712967c32a"
      },
      "source": [
        "df"
      ],
      "execution_count": 5,
      "outputs": [
        {
          "output_type": "execute_result",
          "data": {
            "text/html": [
              "<div>\n",
              "<style scoped>\n",
              "    .dataframe tbody tr th:only-of-type {\n",
              "        vertical-align: middle;\n",
              "    }\n",
              "\n",
              "    .dataframe tbody tr th {\n",
              "        vertical-align: top;\n",
              "    }\n",
              "\n",
              "    .dataframe thead th {\n",
              "        text-align: right;\n",
              "    }\n",
              "</style>\n",
              "<table border=\"1\" class=\"dataframe\">\n",
              "  <thead>\n",
              "    <tr style=\"text-align: right;\">\n",
              "      <th></th>\n",
              "      <th>Unnamed: 0</th>\n",
              "      <th>file_name</th>\n",
              "      <th>emb</th>\n",
              "      <th>changes</th>\n",
              "      <th>label</th>\n",
              "      <th>authors</th>\n",
              "      <th>paragraph_authors</th>\n",
              "    </tr>\n",
              "  </thead>\n",
              "  <tbody>\n",
              "    <tr>\n",
              "      <th>0</th>\n",
              "      <td>0</td>\n",
              "      <td>problem-10702</td>\n",
              "      <td>[50.449974060058594, 2.697402238845825, 14.426...</td>\n",
              "      <td>[1, 1, 1, 0, 1]</td>\n",
              "      <td>1</td>\n",
              "      <td>2</td>\n",
              "      <td>[1, 2, 1, 2, 2, 1]</td>\n",
              "    </tr>\n",
              "    <tr>\n",
              "      <th>1</th>\n",
              "      <td>1</td>\n",
              "      <td>problem-10706</td>\n",
              "      <td>[50.037479400634766, -24.617265701293945, 1.43...</td>\n",
              "      <td>[0, 1, 1, 1, 1, 1]</td>\n",
              "      <td>1</td>\n",
              "      <td>4</td>\n",
              "      <td>[1, 1, 2, 3, 4, 3, 2]</td>\n",
              "    </tr>\n",
              "    <tr>\n",
              "      <th>2</th>\n",
              "      <td>2</td>\n",
              "      <td>problem-10710</td>\n",
              "      <td>[38.54051971435547, 14.400163650512695, 6.9886...</td>\n",
              "      <td>[1, 1, 0, 1, 0, 1]</td>\n",
              "      <td>1</td>\n",
              "      <td>4</td>\n",
              "      <td>[1, 2, 3, 3, 4, 4, 3]</td>\n",
              "    </tr>\n",
              "    <tr>\n",
              "      <th>3</th>\n",
              "      <td>3</td>\n",
              "      <td>problem-10712</td>\n",
              "      <td>[71.1371078491211, -0.6726647019386292, 17.260...</td>\n",
              "      <td>[0, 0, 0, 0, 1, 1]</td>\n",
              "      <td>1</td>\n",
              "      <td>2</td>\n",
              "      <td>[1, 1, 1, 1, 1, 2, 1]</td>\n",
              "    </tr>\n",
              "    <tr>\n",
              "      <th>4</th>\n",
              "      <td>4</td>\n",
              "      <td>problem-10708</td>\n",
              "      <td>[42.75421142578125, 3.8431107997894287, 3.0734...</td>\n",
              "      <td>[1, 0, 0, 0, 1]</td>\n",
              "      <td>1</td>\n",
              "      <td>3</td>\n",
              "      <td>[1, 2, 2, 2, 2, 3]</td>\n",
              "    </tr>\n",
              "    <tr>\n",
              "      <th>...</th>\n",
              "      <td>...</td>\n",
              "      <td>...</td>\n",
              "      <td>...</td>\n",
              "      <td>...</td>\n",
              "      <td>...</td>\n",
              "      <td>...</td>\n",
              "      <td>...</td>\n",
              "    </tr>\n",
              "    <tr>\n",
              "      <th>3895</th>\n",
              "      <td>3895</td>\n",
              "      <td>problem-207</td>\n",
              "      <td>[55.4754524230957, -7.976742744445801, 3.05340...</td>\n",
              "      <td>[1, 0, 0]</td>\n",
              "      <td>1</td>\n",
              "      <td>2</td>\n",
              "      <td>[1, 2, 2, 2]</td>\n",
              "    </tr>\n",
              "    <tr>\n",
              "      <th>3896</th>\n",
              "      <td>3896</td>\n",
              "      <td>problem-211</td>\n",
              "      <td>[70.7889404296875, 2.030505418777466, -0.37436...</td>\n",
              "      <td>[0, 0, 1, 0, 1, 0, 0]</td>\n",
              "      <td>1</td>\n",
              "      <td>3</td>\n",
              "      <td>[1, 1, 1, 2, 2, 3, 3, 3]</td>\n",
              "    </tr>\n",
              "    <tr>\n",
              "      <th>3897</th>\n",
              "      <td>3897</td>\n",
              "      <td>problem-208</td>\n",
              "      <td>[65.77025604248047, 1.8704386949539185, -1.180...</td>\n",
              "      <td>[1, 1, 0, 0, 1]</td>\n",
              "      <td>1</td>\n",
              "      <td>2</td>\n",
              "      <td>[1, 2, 1, 1, 1, 2]</td>\n",
              "    </tr>\n",
              "    <tr>\n",
              "      <th>3898</th>\n",
              "      <td>3898</td>\n",
              "      <td>problem-217</td>\n",
              "      <td>[54.963741302490234, 0.9973352551460266, 16.82...</td>\n",
              "      <td>[1, 1, 1]</td>\n",
              "      <td>1</td>\n",
              "      <td>3</td>\n",
              "      <td>[1, 2, 3, 2]</td>\n",
              "    </tr>\n",
              "    <tr>\n",
              "      <th>3899</th>\n",
              "      <td>3899</td>\n",
              "      <td>problem-219</td>\n",
              "      <td>[56.694549560546875, -0.448446661233902, -2.90...</td>\n",
              "      <td>[1, 0, 1, 1, 0, 1]</td>\n",
              "      <td>1</td>\n",
              "      <td>4</td>\n",
              "      <td>[1, 2, 2, 1, 3, 3, 4]</td>\n",
              "    </tr>\n",
              "  </tbody>\n",
              "</table>\n",
              "<p>11200 rows × 7 columns</p>\n",
              "</div>"
            ],
            "text/plain": [
              "      Unnamed: 0      file_name  ... authors         paragraph_authors\n",
              "0              0  problem-10702  ...       2        [1, 2, 1, 2, 2, 1]\n",
              "1              1  problem-10706  ...       4     [1, 1, 2, 3, 4, 3, 2]\n",
              "2              2  problem-10710  ...       4     [1, 2, 3, 3, 4, 4, 3]\n",
              "3              3  problem-10712  ...       2     [1, 1, 1, 1, 1, 2, 1]\n",
              "4              4  problem-10708  ...       3        [1, 2, 2, 2, 2, 3]\n",
              "...          ...            ...  ...     ...                       ...\n",
              "3895        3895    problem-207  ...       2              [1, 2, 2, 2]\n",
              "3896        3896    problem-211  ...       3  [1, 1, 1, 2, 2, 3, 3, 3]\n",
              "3897        3897    problem-208  ...       2        [1, 2, 1, 1, 1, 2]\n",
              "3898        3898    problem-217  ...       3              [1, 2, 3, 2]\n",
              "3899        3899    problem-219  ...       4     [1, 2, 2, 1, 3, 3, 4]\n",
              "\n",
              "[11200 rows x 7 columns]"
            ]
          },
          "metadata": {},
          "execution_count": 5
        }
      ]
    },
    {
      "cell_type": "code",
      "metadata": {
        "id": "l77LvwdjrnwC"
      },
      "source": [
        "df = df.drop([\"Unnamed: 0\",\"file_name\", \"changes\", \"authors\", \"paragraph_authors\"], axis=\"columns\")"
      ],
      "execution_count": 6,
      "outputs": []
    },
    {
      "cell_type": "code",
      "metadata": {
        "colab": {
          "base_uri": "https://localhost:8080/",
          "height": 202
        },
        "id": "s6TkLMWbL0tY",
        "outputId": "0bee5835-3f0c-4ca5-d9f0-806bae7abde5"
      },
      "source": [
        "df_valid = pd.read_csv('drive/MyDrive/pan-2021/validation_bert.csv')\n",
        "df_valid.head()"
      ],
      "execution_count": 7,
      "outputs": [
        {
          "output_type": "execute_result",
          "data": {
            "text/html": [
              "<div>\n",
              "<style scoped>\n",
              "    .dataframe tbody tr th:only-of-type {\n",
              "        vertical-align: middle;\n",
              "    }\n",
              "\n",
              "    .dataframe tbody tr th {\n",
              "        vertical-align: top;\n",
              "    }\n",
              "\n",
              "    .dataframe thead th {\n",
              "        text-align: right;\n",
              "    }\n",
              "</style>\n",
              "<table border=\"1\" class=\"dataframe\">\n",
              "  <thead>\n",
              "    <tr style=\"text-align: right;\">\n",
              "      <th></th>\n",
              "      <th>Unnamed: 0</th>\n",
              "      <th>file_name</th>\n",
              "      <th>emb</th>\n",
              "      <th>changes</th>\n",
              "      <th>multi_author</th>\n",
              "      <th>authors</th>\n",
              "      <th>paragraph_authors</th>\n",
              "    </tr>\n",
              "  </thead>\n",
              "  <tbody>\n",
              "    <tr>\n",
              "      <th>0</th>\n",
              "      <td>0</td>\n",
              "      <td>problem-1899</td>\n",
              "      <td>[49.12980651855469, -1.5622761249542236, 14.18...</td>\n",
              "      <td>[0, 1, 1, 1, 1, 1, 0, 1]</td>\n",
              "      <td>1</td>\n",
              "      <td>4</td>\n",
              "      <td>[1, 1, 2, 3, 1, 4, 3, 3, 1]</td>\n",
              "    </tr>\n",
              "    <tr>\n",
              "      <th>1</th>\n",
              "      <td>1</td>\n",
              "      <td>problem-1906</td>\n",
              "      <td>[61.219879150390625, -5.509589195251465, 29.22...</td>\n",
              "      <td>[1, 0, 1]</td>\n",
              "      <td>1</td>\n",
              "      <td>3</td>\n",
              "      <td>[1, 2, 2, 3]</td>\n",
              "    </tr>\n",
              "    <tr>\n",
              "      <th>2</th>\n",
              "      <td>2</td>\n",
              "      <td>problem-1903</td>\n",
              "      <td>[44.21048355102539, -6.232966423034668, 26.735...</td>\n",
              "      <td>[1, 1, 1, 1, 0, 0]</td>\n",
              "      <td>1</td>\n",
              "      <td>3</td>\n",
              "      <td>[1, 2, 3, 1, 3, 3, 3]</td>\n",
              "    </tr>\n",
              "    <tr>\n",
              "      <th>3</th>\n",
              "      <td>3</td>\n",
              "      <td>problem-1900</td>\n",
              "      <td>[44.55337905883789, -5.841452598571777, 13.936...</td>\n",
              "      <td>[1, 1, 1, 1, 1]</td>\n",
              "      <td>1</td>\n",
              "      <td>4</td>\n",
              "      <td>[1, 2, 1, 3, 4, 2]</td>\n",
              "    </tr>\n",
              "    <tr>\n",
              "      <th>4</th>\n",
              "      <td>4</td>\n",
              "      <td>problem-1904</td>\n",
              "      <td>[53.226463317871094, 6.5912981033325195, 16.66...</td>\n",
              "      <td>[0, 1, 1, 0, 1, 1, 1, 1]</td>\n",
              "      <td>1</td>\n",
              "      <td>4</td>\n",
              "      <td>[1, 1, 2, 3, 3, 1, 2, 4, 1]</td>\n",
              "    </tr>\n",
              "  </tbody>\n",
              "</table>\n",
              "</div>"
            ],
            "text/plain": [
              "   Unnamed: 0     file_name  ... authors            paragraph_authors\n",
              "0           0  problem-1899  ...       4  [1, 1, 2, 3, 1, 4, 3, 3, 1]\n",
              "1           1  problem-1906  ...       3                 [1, 2, 2, 3]\n",
              "2           2  problem-1903  ...       3        [1, 2, 3, 1, 3, 3, 3]\n",
              "3           3  problem-1900  ...       4           [1, 2, 1, 3, 4, 2]\n",
              "4           4  problem-1904  ...       4  [1, 1, 2, 3, 3, 1, 2, 4, 1]\n",
              "\n",
              "[5 rows x 7 columns]"
            ]
          },
          "metadata": {},
          "execution_count": 7
        }
      ]
    },
    {
      "cell_type": "code",
      "metadata": {
        "id": "Mj1sf7VFMBJX"
      },
      "source": [
        "df_valid = df_valid.drop([\"Unnamed: 0\",\"file_name\", \"changes\", \"authors\", \"paragraph_authors\"], axis=\"columns\")"
      ],
      "execution_count": 8,
      "outputs": []
    },
    {
      "cell_type": "code",
      "metadata": {
        "colab": {
          "base_uri": "https://localhost:8080/"
        },
        "id": "NsH17aHpjVrv",
        "outputId": "bf60f592-c3fd-4838-efbe-e8dc3432b1c3"
      },
      "source": [
        "df_train = df.iloc[:, : ]\n",
        "df_test = df_valid.iloc[:, : ]\n",
        "print(len(df_train))\n",
        "print(len(df_test))"
      ],
      "execution_count": 9,
      "outputs": [
        {
          "output_type": "stream",
          "name": "stdout",
          "text": [
            "11200\n",
            "2400\n"
          ]
        }
      ]
    },
    {
      "cell_type": "code",
      "metadata": {
        "colab": {
          "base_uri": "https://localhost:8080/",
          "height": 664
        },
        "id": "t68ySKq0f0eo",
        "outputId": "5955b0e5-ab30-42e9-fde6-4cc3a1da7f05"
      },
      "source": [
        "y_train = df_train['label']\n",
        "df_train.drop(['label'], axis=1, inplace= True)\n",
        "df_train.head(20)"
      ],
      "execution_count": 11,
      "outputs": [
        {
          "output_type": "execute_result",
          "data": {
            "text/html": [
              "<div>\n",
              "<style scoped>\n",
              "    .dataframe tbody tr th:only-of-type {\n",
              "        vertical-align: middle;\n",
              "    }\n",
              "\n",
              "    .dataframe tbody tr th {\n",
              "        vertical-align: top;\n",
              "    }\n",
              "\n",
              "    .dataframe thead th {\n",
              "        text-align: right;\n",
              "    }\n",
              "</style>\n",
              "<table border=\"1\" class=\"dataframe\">\n",
              "  <thead>\n",
              "    <tr style=\"text-align: right;\">\n",
              "      <th></th>\n",
              "      <th>emb</th>\n",
              "    </tr>\n",
              "  </thead>\n",
              "  <tbody>\n",
              "    <tr>\n",
              "      <th>0</th>\n",
              "      <td>[50.449974060058594, 2.697402238845825, 14.426...</td>\n",
              "    </tr>\n",
              "    <tr>\n",
              "      <th>1</th>\n",
              "      <td>[50.037479400634766, -24.617265701293945, 1.43...</td>\n",
              "    </tr>\n",
              "    <tr>\n",
              "      <th>2</th>\n",
              "      <td>[38.54051971435547, 14.400163650512695, 6.9886...</td>\n",
              "    </tr>\n",
              "    <tr>\n",
              "      <th>3</th>\n",
              "      <td>[71.1371078491211, -0.6726647019386292, 17.260...</td>\n",
              "    </tr>\n",
              "    <tr>\n",
              "      <th>4</th>\n",
              "      <td>[42.75421142578125, 3.8431107997894287, 3.0734...</td>\n",
              "    </tr>\n",
              "    <tr>\n",
              "      <th>5</th>\n",
              "      <td>[55.965675354003906, -10.863653182983398, 21.1...</td>\n",
              "    </tr>\n",
              "    <tr>\n",
              "      <th>6</th>\n",
              "      <td>[57.53012466430664, 3.316451072692871, 24.9135...</td>\n",
              "    </tr>\n",
              "    <tr>\n",
              "      <th>7</th>\n",
              "      <td>[65.28244018554688, 8.659195899963379, 22.4455...</td>\n",
              "    </tr>\n",
              "    <tr>\n",
              "      <th>8</th>\n",
              "      <td>[55.271812438964844, -7.61473274230957, 11.138...</td>\n",
              "    </tr>\n",
              "    <tr>\n",
              "      <th>9</th>\n",
              "      <td>[54.49051284790039, -3.902076482772827, -1.088...</td>\n",
              "    </tr>\n",
              "    <tr>\n",
              "      <th>10</th>\n",
              "      <td>[53.479156494140625, -3.165987014770508, -7.41...</td>\n",
              "    </tr>\n",
              "    <tr>\n",
              "      <th>11</th>\n",
              "      <td>[40.99274826049805, -0.215070903301239, 11.532...</td>\n",
              "    </tr>\n",
              "    <tr>\n",
              "      <th>12</th>\n",
              "      <td>[49.76732635498047, -1.4836666584014893, 13.23...</td>\n",
              "    </tr>\n",
              "    <tr>\n",
              "      <th>13</th>\n",
              "      <td>[67.90938568115234, 2.4500410556793213, 3.0704...</td>\n",
              "    </tr>\n",
              "    <tr>\n",
              "      <th>14</th>\n",
              "      <td>[82.6149673461914, -4.886507987976074, 1.67071...</td>\n",
              "    </tr>\n",
              "    <tr>\n",
              "      <th>15</th>\n",
              "      <td>[51.11058044433594, -2.2949912548065186, 24.35...</td>\n",
              "    </tr>\n",
              "    <tr>\n",
              "      <th>16</th>\n",
              "      <td>[38.687782287597656, 0.14057967066764832, 21.9...</td>\n",
              "    </tr>\n",
              "    <tr>\n",
              "      <th>17</th>\n",
              "      <td>[50.43648910522461, -5.118882179260254, 18.281...</td>\n",
              "    </tr>\n",
              "    <tr>\n",
              "      <th>18</th>\n",
              "      <td>[69.52214050292969, -0.04532412067055702, 11.6...</td>\n",
              "    </tr>\n",
              "    <tr>\n",
              "      <th>19</th>\n",
              "      <td>[34.52493667602539, 1.0090495347976685, 11.310...</td>\n",
              "    </tr>\n",
              "  </tbody>\n",
              "</table>\n",
              "</div>"
            ],
            "text/plain": [
              "                                                  emb\n",
              "0   [50.449974060058594, 2.697402238845825, 14.426...\n",
              "1   [50.037479400634766, -24.617265701293945, 1.43...\n",
              "2   [38.54051971435547, 14.400163650512695, 6.9886...\n",
              "3   [71.1371078491211, -0.6726647019386292, 17.260...\n",
              "4   [42.75421142578125, 3.8431107997894287, 3.0734...\n",
              "5   [55.965675354003906, -10.863653182983398, 21.1...\n",
              "6   [57.53012466430664, 3.316451072692871, 24.9135...\n",
              "7   [65.28244018554688, 8.659195899963379, 22.4455...\n",
              "8   [55.271812438964844, -7.61473274230957, 11.138...\n",
              "9   [54.49051284790039, -3.902076482772827, -1.088...\n",
              "10  [53.479156494140625, -3.165987014770508, -7.41...\n",
              "11  [40.99274826049805, -0.215070903301239, 11.532...\n",
              "12  [49.76732635498047, -1.4836666584014893, 13.23...\n",
              "13  [67.90938568115234, 2.4500410556793213, 3.0704...\n",
              "14  [82.6149673461914, -4.886507987976074, 1.67071...\n",
              "15  [51.11058044433594, -2.2949912548065186, 24.35...\n",
              "16  [38.687782287597656, 0.14057967066764832, 21.9...\n",
              "17  [50.43648910522461, -5.118882179260254, 18.281...\n",
              "18  [69.52214050292969, -0.04532412067055702, 11.6...\n",
              "19  [34.52493667602539, 1.0090495347976685, 11.310..."
            ]
          },
          "metadata": {},
          "execution_count": 11
        }
      ]
    },
    {
      "cell_type": "code",
      "metadata": {
        "colab": {
          "base_uri": "https://localhost:8080/",
          "height": 664
        },
        "id": "c25t5BcMmOxV",
        "outputId": "85664b0e-8582-43d5-8a4d-b548b0249a01"
      },
      "source": [
        "y_test = df_test['multi_author']\n",
        "df_test.drop(['multi_author'], axis=1, inplace= True)\n",
        "df_test.head(20)"
      ],
      "execution_count": 12,
      "outputs": [
        {
          "output_type": "execute_result",
          "data": {
            "text/html": [
              "<div>\n",
              "<style scoped>\n",
              "    .dataframe tbody tr th:only-of-type {\n",
              "        vertical-align: middle;\n",
              "    }\n",
              "\n",
              "    .dataframe tbody tr th {\n",
              "        vertical-align: top;\n",
              "    }\n",
              "\n",
              "    .dataframe thead th {\n",
              "        text-align: right;\n",
              "    }\n",
              "</style>\n",
              "<table border=\"1\" class=\"dataframe\">\n",
              "  <thead>\n",
              "    <tr style=\"text-align: right;\">\n",
              "      <th></th>\n",
              "      <th>emb</th>\n",
              "    </tr>\n",
              "  </thead>\n",
              "  <tbody>\n",
              "    <tr>\n",
              "      <th>0</th>\n",
              "      <td>[49.12980651855469, -1.5622761249542236, 14.18...</td>\n",
              "    </tr>\n",
              "    <tr>\n",
              "      <th>1</th>\n",
              "      <td>[61.219879150390625, -5.509589195251465, 29.22...</td>\n",
              "    </tr>\n",
              "    <tr>\n",
              "      <th>2</th>\n",
              "      <td>[44.21048355102539, -6.232966423034668, 26.735...</td>\n",
              "    </tr>\n",
              "    <tr>\n",
              "      <th>3</th>\n",
              "      <td>[44.55337905883789, -5.841452598571777, 13.936...</td>\n",
              "    </tr>\n",
              "    <tr>\n",
              "      <th>4</th>\n",
              "      <td>[53.226463317871094, 6.5912981033325195, 16.66...</td>\n",
              "    </tr>\n",
              "    <tr>\n",
              "      <th>5</th>\n",
              "      <td>[128.64418029785156, -9.34257984161377, 13.457...</td>\n",
              "    </tr>\n",
              "    <tr>\n",
              "      <th>6</th>\n",
              "      <td>[54.58216094970703, -9.10063648223877, 20.0652...</td>\n",
              "    </tr>\n",
              "    <tr>\n",
              "      <th>7</th>\n",
              "      <td>[51.603538513183594, -8.352190017700195, 15.29...</td>\n",
              "    </tr>\n",
              "    <tr>\n",
              "      <th>8</th>\n",
              "      <td>[41.43244934082031, 4.549075603485107, 8.16766...</td>\n",
              "    </tr>\n",
              "    <tr>\n",
              "      <th>9</th>\n",
              "      <td>[24.141916275024414, -0.02147524617612362, 11....</td>\n",
              "    </tr>\n",
              "    <tr>\n",
              "      <th>10</th>\n",
              "      <td>[67.75716400146484, -8.146570205688477, 22.627...</td>\n",
              "    </tr>\n",
              "    <tr>\n",
              "      <th>11</th>\n",
              "      <td>[85.95368957519531, -4.500657558441162, 7.5279...</td>\n",
              "    </tr>\n",
              "    <tr>\n",
              "      <th>12</th>\n",
              "      <td>[37.48949432373047, -2.715994119644165, -2.352...</td>\n",
              "    </tr>\n",
              "    <tr>\n",
              "      <th>13</th>\n",
              "      <td>[69.31034851074219, -3.2226738929748535, 15.71...</td>\n",
              "    </tr>\n",
              "    <tr>\n",
              "      <th>14</th>\n",
              "      <td>[49.52146911621094, -11.581655502319336, 12.98...</td>\n",
              "    </tr>\n",
              "    <tr>\n",
              "      <th>15</th>\n",
              "      <td>[62.06267166137695, -6.393728256225586, 21.470...</td>\n",
              "    </tr>\n",
              "    <tr>\n",
              "      <th>16</th>\n",
              "      <td>[78.77119445800781, -9.490426063537598, 26.569...</td>\n",
              "    </tr>\n",
              "    <tr>\n",
              "      <th>17</th>\n",
              "      <td>[45.70342254638672, -6.156473636627197, 14.690...</td>\n",
              "    </tr>\n",
              "    <tr>\n",
              "      <th>18</th>\n",
              "      <td>[43.94287872314453, 9.55101490020752, 14.89742...</td>\n",
              "    </tr>\n",
              "    <tr>\n",
              "      <th>19</th>\n",
              "      <td>[70.65206146240234, -7.1862311363220215, 20.22...</td>\n",
              "    </tr>\n",
              "  </tbody>\n",
              "</table>\n",
              "</div>"
            ],
            "text/plain": [
              "                                                  emb\n",
              "0   [49.12980651855469, -1.5622761249542236, 14.18...\n",
              "1   [61.219879150390625, -5.509589195251465, 29.22...\n",
              "2   [44.21048355102539, -6.232966423034668, 26.735...\n",
              "3   [44.55337905883789, -5.841452598571777, 13.936...\n",
              "4   [53.226463317871094, 6.5912981033325195, 16.66...\n",
              "5   [128.64418029785156, -9.34257984161377, 13.457...\n",
              "6   [54.58216094970703, -9.10063648223877, 20.0652...\n",
              "7   [51.603538513183594, -8.352190017700195, 15.29...\n",
              "8   [41.43244934082031, 4.549075603485107, 8.16766...\n",
              "9   [24.141916275024414, -0.02147524617612362, 11....\n",
              "10  [67.75716400146484, -8.146570205688477, 22.627...\n",
              "11  [85.95368957519531, -4.500657558441162, 7.5279...\n",
              "12  [37.48949432373047, -2.715994119644165, -2.352...\n",
              "13  [69.31034851074219, -3.2226738929748535, 15.71...\n",
              "14  [49.52146911621094, -11.581655502319336, 12.98...\n",
              "15  [62.06267166137695, -6.393728256225586, 21.470...\n",
              "16  [78.77119445800781, -9.490426063537598, 26.569...\n",
              "17  [45.70342254638672, -6.156473636627197, 14.690...\n",
              "18  [43.94287872314453, 9.55101490020752, 14.89742...\n",
              "19  [70.65206146240234, -7.1862311363220215, 20.22..."
            ]
          },
          "metadata": {},
          "execution_count": 12
        }
      ]
    },
    {
      "cell_type": "code",
      "metadata": {
        "id": "LLNTbTCtr77S"
      },
      "source": [
        "xtrain = df_train.values.tolist()\n",
        "X_test = df_test.values.tolist()"
      ],
      "execution_count": 13,
      "outputs": []
    },
    {
      "cell_type": "code",
      "metadata": {
        "id": "8TpCbwr3rHse"
      },
      "source": [
        "xtrain = [eval(xtrain[i][0]) for i in range(0, len(xtrain))]\n",
        "X_test = [eval(X_test[i][0]) for i in range(0, len(X_test))]"
      ],
      "execution_count": 133,
      "outputs": []
    },
    {
      "cell_type": "code",
      "metadata": {
        "id": "Aw1ESkBDsbQc"
      },
      "source": [
        "xtrain = np.asarray(xtrain)"
      ],
      "execution_count": 15,
      "outputs": []
    },
    {
      "cell_type": "code",
      "metadata": {
        "id": "TuQ5Z5KJs9h2"
      },
      "source": [
        "X_test = np.asarray(X_test)"
      ],
      "execution_count": 16,
      "outputs": []
    },
    {
      "cell_type": "code",
      "metadata": {
        "id": "DVHzcGxZtm0w"
      },
      "source": [
        "import seaborn as sns\n",
        "from sklearn.metrics import confusion_matrix\n",
        "from sklearn.metrics import classification_report\n",
        "import warnings\n",
        "warnings.simplefilter(action='ignore', category=FutureWarning)"
      ],
      "execution_count": 27,
      "outputs": []
    },
    {
      "cell_type": "code",
      "metadata": {
        "id": "J16D3aMzS3PW"
      },
      "source": [
        "def print_confusion_matrix(preds, labels, names):\n",
        "  print(classification_report(labels, preds))\n",
        "\n",
        "  # Mатрица на конфузија \n",
        "  names = names\n",
        "  confusion = confusion_matrix(labels, preds)\n",
        "  confusion = 100 * confusion.astype('float') / confusion.sum(axis=-1)[:, np.newaxis]\n",
        "  df_1 = pd.DataFrame(data=confusion, columns=names, index=names)\n",
        "  image = sns.heatmap(df_1, annot=True, fmt=\".1f\", vmin=0, vmax=100,cmap='Greens')\n",
        "  image.set_title('Confusion matrix')\n",
        "  image.set_ylabel('True label')\n",
        "  image.set_xlabel('Predicted label')\n",
        "  image.plot()"
      ],
      "execution_count": 17,
      "outputs": []
    },
    {
      "cell_type": "code",
      "metadata": {
        "id": "Kz-X5T8E8N5X"
      },
      "source": [
        "ytrain = y_train"
      ],
      "execution_count": 19,
      "outputs": []
    },
    {
      "cell_type": "code",
      "metadata": {
        "colab": {
          "base_uri": "https://localhost:8080/"
        },
        "id": "6xeduEz3t9kI",
        "outputId": "653629f4-fb87-45cb-a20f-f05159fb0ed6"
      },
      "source": [
        "from sklearn.tree import DecisionTreeClassifier\n",
        "from sklearn.naive_bayes import GaussianNB\n",
        "from sklearn.ensemble import RandomForestClassifier\n",
        "\n",
        "dtc = DecisionTreeClassifier()\n",
        "nbc = GaussianNB()\n",
        "rfc = RandomForestClassifier()\n",
        "\n",
        "dtc.fit(xtrain, ytrain)\n",
        "nbc.fit(xtrain, ytrain)\n",
        "rfc.fit(xtrain, ytrain)"
      ],
      "execution_count": 118,
      "outputs": [
        {
          "output_type": "execute_result",
          "data": {
            "text/plain": [
              "RandomForestClassifier(bootstrap=True, ccp_alpha=0.0, class_weight=None,\n",
              "                       criterion='gini', max_depth=None, max_features='auto',\n",
              "                       max_leaf_nodes=None, max_samples=None,\n",
              "                       min_impurity_decrease=0.0, min_impurity_split=None,\n",
              "                       min_samples_leaf=1, min_samples_split=2,\n",
              "                       min_weight_fraction_leaf=0.0, n_estimators=100,\n",
              "                       n_jobs=None, oob_score=False, random_state=None,\n",
              "                       verbose=0, warm_start=False)"
            ]
          },
          "metadata": {},
          "execution_count": 118
        }
      ]
    },
    {
      "cell_type": "code",
      "metadata": {
        "id": "ZTaLbY3JuGQy"
      },
      "source": [
        "test_tree_predict = dtc.predict(X_test)\n",
        "test_naive_predict = nbc.predict(X_test)\n",
        "test_random_forest_predict = rfc.predict(X_test)"
      ],
      "execution_count": 119,
      "outputs": []
    },
    {
      "cell_type": "code",
      "metadata": {
        "colab": {
          "base_uri": "https://localhost:8080/",
          "height": 446
        },
        "id": "W4ayJJJ5TSe2",
        "outputId": "5553eb1b-2241-40db-f39f-ed9348728ae4"
      },
      "source": [
        "print_confusion_matrix(test_tree_predict,y_test, [\"0\", \"1\"])"
      ],
      "execution_count": 115,
      "outputs": [
        {
          "output_type": "stream",
          "name": "stdout",
          "text": [
            "              precision    recall  f1-score   support\n",
            "\n",
            "           0       0.37      0.38      0.38       600\n",
            "           1       0.79      0.78      0.79      1800\n",
            "\n",
            "    accuracy                           0.68      2400\n",
            "   macro avg       0.58      0.58      0.58      2400\n",
            "weighted avg       0.69      0.68      0.68      2400\n",
            "\n"
          ]
        },
        {
          "output_type": "display_data",
          "data": {
            "image/png": "[encoded data removed]",
            "text/plain": [
              "<Figure size 432x288 with 2 Axes>"
            ]
          },
          "metadata": {
            "needs_background": "light"
          }
        }
      ]
    },
    {
      "cell_type": "code",
      "metadata": {
        "colab": {
          "base_uri": "https://localhost:8080/",
          "height": 446
        },
        "id": "_M62vF_dTWrb",
        "outputId": "c115645d-c9f9-4626-d454-3b892cfbb1b6"
      },
      "source": [
        "print_confusion_matrix(test_naive_predict, y_test, [\"0\", \"1\"])"
      ],
      "execution_count": 116,
      "outputs": [
        {
          "output_type": "stream",
          "name": "stdout",
          "text": [
            "              precision    recall  f1-score   support\n",
            "\n",
            "           0       0.41      0.39      0.40       600\n",
            "           1       0.80      0.81      0.81      1800\n",
            "\n",
            "    accuracy                           0.71      2400\n",
            "   macro avg       0.60      0.60      0.60      2400\n",
            "weighted avg       0.70      0.71      0.70      2400\n",
            "\n"
          ]
        },
        {
          "output_type": "display_data",
          "data": {
            "image/png": "[encoded data removed]",
            "text/plain": [
              "<Figure size 432x288 with 2 Axes>"
            ]
          },
          "metadata": {
            "needs_background": "light"
          }
        }
      ]
    },
    {
      "cell_type": "code",
      "metadata": {
        "colab": {
          "base_uri": "https://localhost:8080/",
          "height": 446
        },
        "id": "BlhMD1ahTXAc",
        "outputId": "55c721d1-8661-42c2-c472-340589f3490f"
      },
      "source": [
        "print_confusion_matrix(test_random_forest_predict,y_test, [\"0\", \"1\"])"
      ],
      "execution_count": 120,
      "outputs": [
        {
          "output_type": "stream",
          "name": "stdout",
          "text": [
            "              precision    recall  f1-score   support\n",
            "\n",
            "           0       0.64      0.22      0.32       600\n",
            "           1       0.79      0.96      0.86      1800\n",
            "\n",
            "    accuracy                           0.77      2400\n",
            "   macro avg       0.71      0.59      0.59      2400\n",
            "weighted avg       0.75      0.77      0.73      2400\n",
            "\n"
          ]
        },
        {
          "output_type": "display_data",
          "data": {
            "image/png": "[encoded data removed]",
            "text/plain": [
              "<Figure size 432x288 with 2 Axes>"
            ]
          },
          "metadata": {
            "needs_background": "light"
          }
        }
      ]
    },
    {
      "cell_type": "code",
      "metadata": {
        "id": "tADymSdZtQ2E"
      },
      "source": [
        "from sklearn.model_selection import StratifiedKFold, RandomizedSearchCV\n",
        "from sklearn.metrics import accuracy_score\n",
        "\n",
        "\n",
        "parameters_rf = {\n",
        "          \"criterion\":['gini','entropy'],\n",
        "          \"max_depth\": [3,5,None],\n",
        "          \"max_features\": [None, \"auto\"],\n",
        "          \"min_samples_leaf\": [1, 5],\n",
        "          \"min_samples_split\": [2, 5],\n",
        "          'bootstrap': [False, True],\n",
        "          'max_samples': [0.5, 1],\n",
        "          'n_estimators': [2, 5, 100],\n",
        "          \"oob_score\":[False, True],\n",
        "           \"random_state\":[None,2]\n",
        "         }\n",
        "\n",
        "\n",
        "gs_rf = RandomizedSearchCV(rfc, parameters_rf, scoring='accuracy', n_jobs=3)\n",
        "gs_rf.fit(xtrain, ytrain)"
      ],
      "execution_count": null,
      "outputs": []
    },
    {
      "cell_type": "code",
      "metadata": {
        "id": "OqBbTdtm8XKA",
        "colab": {
          "base_uri": "https://localhost:8080/",
          "height": 664
        },
        "outputId": "1f3b5357-6a5d-4b2b-b316-d232b32d9377"
      },
      "source": [
        "print(\"Best score: %0.3f\" % gs_rf.best_score_) \n",
        "print(\"Best parameters set:\" )\n",
        "best_parameters_rf = gs_rf.best_estimator_.get_params()\n",
        "for param_name_rf in sorted (parameters_rf . keys()): \n",
        "                    print(\"\\t %s: %r\" % (param_name_rf, best_parameters_rf[param_name_rf]))\n",
        "        \n",
        "y_pred = gs_rf.predict(X_test)\n",
        "\n",
        "# print(classification_report(y_test, y_pred))\n",
        "print(\"accuracy: \",accuracy_score(y_test, y_pred))\n",
        "print_confusion_matrix( y_pred,y_test, [\"0\", \"1\"])"
      ],
      "execution_count": 35,
      "outputs": [
        {
          "output_type": "stream",
          "name": "stdout",
          "text": [
            "Best score: 0.761\n",
            "Best parameters set:\n",
            "\t bootstrap: True\n",
            "\t criterion: 'gini'\n",
            "\t max_depth: 5\n",
            "\t max_features: None\n",
            "\t max_samples: 0.5\n",
            "\t min_samples_leaf: 5\n",
            "\t min_samples_split: 2\n",
            "\t n_estimators: 100\n",
            "\t oob_score: True\n",
            "\t random_state: None\n",
            "accuracy:  0.7591666666666667\n",
            "              precision    recall  f1-score   support\n",
            "\n",
            "           0       0.64      0.08      0.14       600\n",
            "           1       0.76      0.98      0.86      1800\n",
            "\n",
            "    accuracy                           0.76      2400\n",
            "   macro avg       0.70      0.53      0.50      2400\n",
            "weighted avg       0.73      0.76      0.68      2400\n",
            "\n"
          ]
        },
        {
          "output_type": "display_data",
          "data": {
            "image/png": "[encoded data removed]",
            "text/plain": [
              "<Figure size 432x288 with 2 Axes>"
            ]
          },
          "metadata": {
            "needs_background": "light"
          }
        }
      ]
    },
    {
      "cell_type": "code",
      "metadata": {
        "colab": {
          "base_uri": "https://localhost:8080/",
          "height": 278
        },
        "id": "IvzVBmQnufZJ",
        "outputId": "4af29e90-a1dc-4e76-9b16-0e679859e3e3"
      },
      "source": [
        "from sklearn.metrics import roc_curve, auc\n",
        "import matplotlib.pyplot as plt\n",
        "\n",
        "actual = y_test\n",
        "decision_tree_prob = [p[1] for p in dtc.predict_proba(X_test)]\n",
        "naive_bayes_prob = [p[1] for p in nbc.predict_proba(X_test)]\n",
        "random_forest_prob = [p[1] for p in rfc.predict_proba(X_test)]\n",
        "random_forest_prob_1 = [p[1] for p in gs_rf.predict_proba(X_test)]\n",
        "\n",
        "\n",
        "dt_false_pos, dt_true_pos, _ = roc_curve(actual, decision_tree_prob)\n",
        "dt_auc = auc(dt_false_pos, dt_true_pos)\n",
        "\n",
        "nb_false_pos, nb_true_pos, _ = roc_curve(actual, naive_bayes_prob)\n",
        "nb_auc = auc(nb_false_pos, nb_true_pos)\n",
        "\n",
        "rf_false_pos, rf_true_pos, _ = roc_curve(actual, random_forest_prob)\n",
        "rf_auc = auc(rf_false_pos, rf_true_pos)\n",
        "\n",
        "gs_rf_false_pos, gs_rf_true_pos, _ = roc_curve(actual, random_forest_prob_1)\n",
        "gs_rf_auc = auc(gs_rf_false_pos, gs_rf_true_pos)\n",
        "\n",
        "# plot\n",
        "plt.plot(dt_false_pos, dt_true_pos, 'r', label='Decision Tree AUC = %0.2f'% dt_auc)\n",
        "plt.plot(nb_false_pos, nb_true_pos, 'g', label='Naive Bayes AUC = %0.2f'% nb_auc)\n",
        "plt.plot(rf_false_pos, rf_true_pos, 'b', label='Random Forest AUC = %0.2f'% rf_auc)\n",
        "plt.plot(gs_rf_false_pos, gs_rf_true_pos, 'y', label='GS Random Forest AUC = %0.2f'% gs_rf_auc)\n",
        "\n",
        "\n",
        "plt.legend(loc='lower right')\n",
        "plt.plot([0,1], [0,1], 'r--')\n",
        "plt.ylabel('True Positive Rate')\n",
        "plt.xlabel('False Positive Rate')\n",
        "plt.show()"
      ],
      "execution_count": 39,
      "outputs": [
        {
          "output_type": "display_data",
          "data": {
            "image/png": "[encoded data removed]",
            "text/plain": [
              "<Figure size 432x288 with 1 Axes>"
            ]
          },
          "metadata": {
            "needs_background": "light"
          }
        }
      ]
    },
    {
      "cell_type": "code",
      "metadata": {
        "id": "9jCuGZAEvaBg"
      },
      "source": [
        "X_train_norm = xtrain\n",
        "X_test_norm = X_test"
      ],
      "execution_count": null,
      "outputs": []
    },
    {
      "cell_type": "code",
      "metadata": {
        "colab": {
          "base_uri": "https://localhost:8080/"
        },
        "id": "SHCXU5iLHJSW",
        "outputId": "43667b30-a43f-403a-d3d7-c4e8d5864ff5"
      },
      "source": [
        "!pip install catboost"
      ],
      "execution_count": 40,
      "outputs": [
        {
          "output_type": "stream",
          "name": "stdout",
          "text": [
            "Collecting catboost\n",
            "  Downloading catboost-0.26.1-cp37-none-manylinux1_x86_64.whl (67.4 MB)\n",
            "\u001b[K     |████████████████████████████████| 67.4 MB 27 kB/s \n",
            "\u001b[?25hRequirement already satisfied: matplotlib in /usr/local/lib/python3.7/dist-packages (from catboost) (3.2.2)\n",
            "Requirement already satisfied: plotly in /usr/local/lib/python3.7/dist-packages (from catboost) (4.4.1)\n",
            "Requirement already satisfied: pandas>=0.24.0 in /usr/local/lib/python3.7/dist-packages (from catboost) (1.1.5)\n",
            "Requirement already satisfied: six in /usr/local/lib/python3.7/dist-packages (from catboost) (1.15.0)\n",
            "Requirement already satisfied: scipy in /usr/local/lib/python3.7/dist-packages (from catboost) (1.4.1)\n",
            "Requirement already satisfied: numpy>=1.16.0 in /usr/local/lib/python3.7/dist-packages (from catboost) (1.19.5)\n",
            "Requirement already satisfied: graphviz in /usr/local/lib/python3.7/dist-packages (from catboost) (0.10.1)\n",
            "Requirement already satisfied: pytz>=2017.2 in /usr/local/lib/python3.7/dist-packages (from pandas>=0.24.0->catboost) (2018.9)\n",
            "Requirement already satisfied: python-dateutil>=2.7.3 in /usr/local/lib/python3.7/dist-packages (from pandas>=0.24.0->catboost) (2.8.2)\n",
            "Requirement already satisfied: cycler>=0.10 in /usr/local/lib/python3.7/dist-packages (from matplotlib->catboost) (0.10.0)\n",
            "Requirement already satisfied: pyparsing!=2.0.4,!=2.1.2,!=2.1.6,>=2.0.1 in /usr/local/lib/python3.7/dist-packages (from matplotlib->catboost) (2.4.7)\n",
            "Requirement already satisfied: kiwisolver>=1.0.1 in /usr/local/lib/python3.7/dist-packages (from matplotlib->catboost) (1.3.1)\n",
            "Requirement already satisfied: retrying>=1.3.3 in /usr/local/lib/python3.7/dist-packages (from plotly->catboost) (1.3.3)\n",
            "Installing collected packages: catboost\n",
            "Successfully installed catboost-0.26.1\n"
          ]
        }
      ]
    },
    {
      "cell_type": "code",
      "metadata": {
        "id": "4yEJP7H1HHqQ"
      },
      "source": [
        "from catboost import Pool, cv, CatBoostClassifier, CatBoostRegressor"
      ],
      "execution_count": 41,
      "outputs": []
    },
    {
      "cell_type": "code",
      "metadata": {
        "id": "yOpNC5EIG2sE"
      },
      "source": [
        "train_pool = Pool(data=xtrain,label = ytrain)"
      ],
      "execution_count": 42,
      "outputs": []
    },
    {
      "cell_type": "code",
      "metadata": {
        "id": "rZyM7CCCbKdj"
      },
      "source": [
        "import sklearn.metrics as metrics"
      ],
      "execution_count": 43,
      "outputs": []
    },
    {
      "cell_type": "code",
      "metadata": {
        "colab": {
          "base_uri": "https://localhost:8080/",
          "height": 33,
          "referenced_widgets": [
            "b975b5c14f9e4afca412387b6e27b1b5"
          ]
        },
        "id": "Ozg2jw8LG-_h",
        "outputId": "e313f9f8-6ba7-4635-9391-afd1e408be1e"
      },
      "source": [
        "model_basic = CatBoostClassifier()\n",
        "model_basic.fit(train_pool, plot=True,silent=True)\n",
        "print(model_basic.get_best_score())\n",
        "\n",
        "predicted_values = model_basic.predict(X_test)"
      ],
      "execution_count": 70,
      "outputs": [
        {
          "output_type": "display_data",
          "data": {
            "application/vnd.jupyter.widget-view+json": {
              "model_id": "b975b5c14f9e4afca412387b6e27b1b5",
              "version_minor": 0,
              "version_major": 2
            },
            "text/plain": [
              "MetricVisualizer(layout=Layout(align_self='stretch', height='500px'))"
            ]
          },
          "metadata": {}
        },
        {
          "output_type": "stream",
          "name": "stdout",
          "text": [
            "{'learn': {'Logloss': 0.22657277323256128}}\n"
          ]
        }
      ]
    },
    {
      "cell_type": "code",
      "metadata": {
        "id": "T0wyhJbKPmP2",
        "colab": {
          "base_uri": "https://localhost:8080/",
          "height": 463
        },
        "outputId": "736d9be3-8b69-4099-b5de-78d5062823ae"
      },
      "source": [
        "print_confusion_matrix(predicted_values, y_test, [\"0\", \"1\"])\n",
        "print(\"Accuracy:\", metrics.accuracy_score(y_test, predicted_values))"
      ],
      "execution_count": 71,
      "outputs": [
        {
          "output_type": "stream",
          "name": "stdout",
          "text": [
            "              precision    recall  f1-score   support\n",
            "\n",
            "           0       0.66      0.30      0.41       600\n",
            "           1       0.80      0.95      0.87      1800\n",
            "\n",
            "    accuracy                           0.79      2400\n",
            "   macro avg       0.73      0.62      0.64      2400\n",
            "weighted avg       0.77      0.79      0.76      2400\n",
            "\n",
            "Accuracy: 0.7866666666666666\n"
          ]
        },
        {
          "output_type": "display_data",
          "data": {
            "image/png": "[encoded data removed]",
            "text/plain": [
              "<Figure size 432x288 with 2 Axes>"
            ]
          },
          "metadata": {
            "needs_background": "light"
          }
        }
      ]
    },
    {
      "cell_type": "code",
      "metadata": {
        "id": "4yciljC9FaTN"
      },
      "source": [
        "from sklearn.preprocessing import MinMaxScaler\n",
        "from sklearn.ensemble import GradientBoostingClassifier"
      ],
      "execution_count": 46,
      "outputs": []
    },
    {
      "cell_type": "code",
      "metadata": {
        "colab": {
          "base_uri": "https://localhost:8080/",
          "height": 1000
        },
        "id": "0CFGIyWv4ks6",
        "outputId": "6ab03167-7159-4756-9b77-b454c475fe4c"
      },
      "source": [
        "lr_list = [ 0.5, 0.75, 1, 1.1, 1.2, 1.3, 1.4, 1.5, 2, 3, 4, 5, 6.3, 7.7, 10, 20, 30, 45, 55, 62, 77, 84, 90]\n",
        "\n",
        "for learning_rate in lr_list:\n",
        "    gb_clf = GradientBoostingClassifier(n_estimators=100, learning_rate=learning_rate, max_features=10, max_depth=10, random_state=0)\n",
        "    gb_clf.fit(xtrain, ytrain)\n",
        "    predicted_values = gb_clf.predict(X_test)\n",
        "\n",
        "    print(\"Learning rate: \", learning_rate)\n",
        "    print_confusion_matrix(predicted_values, y_test, [\"0\", \"1\"])\n",
        "    plt.show()"
      ],
      "execution_count": 48,
      "outputs": [
        {
          "output_type": "stream",
          "name": "stdout",
          "text": [
            "Learning rate:  0.5\n",
            "              precision    recall  f1-score   support\n",
            "\n",
            "           0       0.57      0.29      0.38       600\n",
            "           1       0.80      0.93      0.86      1800\n",
            "\n",
            "    accuracy                           0.77      2400\n",
            "   macro avg       0.68      0.61      0.62      2400\n",
            "weighted avg       0.74      0.77      0.74      2400\n",
            "\n"
          ]
        },
        {
          "output_type": "display_data",
          "data": {
            "image/png": "[encoded data removed]",
            "text/plain": [
              "<Figure size 432x288 with 2 Axes>"
            ]
          },
          "metadata": {
            "needs_background": "light"
          }
        },
        {
          "output_type": "stream",
          "name": "stdout",
          "text": [
            "Learning rate:  0.75\n",
            "              precision    recall  f1-score   support\n",
            "\n",
            "           0       0.53      0.30      0.38       600\n",
            "           1       0.80      0.91      0.85      1800\n",
            "\n",
            "    accuracy                           0.76      2400\n",
            "   macro avg       0.66      0.60      0.61      2400\n",
            "weighted avg       0.73      0.76      0.73      2400\n",
            "\n"
          ]
        },
        {
          "output_type": "display_data",
          "data": {
            "image/png": "[encoded data removed]",
            "text/plain": [
              "<Figure size 432x288 with 2 Axes>"
            ]
          },
          "metadata": {
            "needs_background": "light"
          }
        },
        {
          "output_type": "stream",
          "name": "stdout",
          "text": [
            "Learning rate:  1\n",
            "              precision    recall  f1-score   support\n",
            "\n",
            "           0       0.49      0.31      0.38       600\n",
            "           1       0.79      0.89      0.84      1800\n",
            "\n",
            "    accuracy                           0.75      2400\n",
            "   macro avg       0.64      0.60      0.61      2400\n",
            "weighted avg       0.72      0.75      0.73      2400\n",
            "\n"
          ]
        },
        {
          "output_type": "display_data",
          "data": {
            "image/png": "[encoded data removed]",
            "text/plain": [
              "<Figure size 432x288 with 2 Axes>"
            ]
          },
          "metadata": {
            "needs_background": "light"
          }
        },
        {
          "output_type": "stream",
          "name": "stdout",
          "text": [
            "Learning rate:  1.1\n",
            "              precision    recall  f1-score   support\n",
            "\n",
            "           0       0.50      0.34      0.41       600\n",
            "           1       0.80      0.89      0.84      1800\n",
            "\n",
            "    accuracy                           0.75      2400\n",
            "   macro avg       0.65      0.61      0.62      2400\n",
            "weighted avg       0.73      0.75      0.73      2400\n",
            "\n"
          ]
        },
        {
          "output_type": "display_data",
          "data": {
            "image/png": "[encoded data removed]",
            "text/plain": [
              "<Figure size 432x288 with 2 Axes>"
            ]
          },
          "metadata": {
            "needs_background": "light"
          }
        },
        {
          "output_type": "stream",
          "name": "stdout",
          "text": [
            "Learning rate:  1.2\n",
            "              precision    recall  f1-score   support\n",
            "\n",
            "           0       0.48      0.31      0.38       600\n",
            "           1       0.79      0.89      0.84      1800\n",
            "\n",
            "    accuracy                           0.74      2400\n",
            "   macro avg       0.64      0.60      0.61      2400\n",
            "weighted avg       0.72      0.74      0.72      2400\n",
            "\n"
          ]
        },
        {
          "output_type": "display_data",
          "data": {
            "image/png": "[encoded data removed]",
            "text/plain": [
              "<Figure size 432x288 with 2 Axes>"
            ]
          },
          "metadata": {
            "needs_background": "light"
          }
        },
        {
          "output_type": "stream",
          "name": "stdout",
          "text": [
            "Learning rate:  1.3\n",
            "              precision    recall  f1-score   support\n",
            "\n",
            "           0       0.48      0.35      0.41       600\n",
            "           1       0.80      0.87      0.84      1800\n",
            "\n",
            "    accuracy                           0.74      2400\n",
            "   macro avg       0.64      0.61      0.62      2400\n",
            "weighted avg       0.72      0.74      0.73      2400\n",
            "\n"
          ]
        },
        {
          "output_type": "display_data",
          "data": {
            "image/png": "[encoded data removed]",
            "text/plain": [
              "<Figure size 432x288 with 2 Axes>"
            ]
          },
          "metadata": {
            "needs_background": "light"
          }
        },
        {
          "output_type": "stream",
          "name": "stdout",
          "text": [
            "Learning rate:  1.4\n",
            "              precision    recall  f1-score   support\n",
            "\n",
            "           0       0.46      0.34      0.39       600\n",
            "           1       0.80      0.86      0.83      1800\n",
            "\n",
            "    accuracy                           0.73      2400\n",
            "   macro avg       0.63      0.60      0.61      2400\n",
            "weighted avg       0.71      0.73      0.72      2400\n",
            "\n"
          ]
        },
        {
          "output_type": "display_data",
          "data": {
            "image/png": "[encoded data removed]",
            "text/plain": [
              "<Figure size 432x288 with 2 Axes>"
            ]
          },
          "metadata": {
            "needs_background": "light"
          }
        },
        {
          "output_type": "stream",
          "name": "stdout",
          "text": [
            "Learning rate:  1.5\n",
            "              precision    recall  f1-score   support\n",
            "\n",
            "           0       0.44      0.31      0.37       600\n",
            "           1       0.79      0.87      0.83      1800\n",
            "\n",
            "    accuracy                           0.73      2400\n",
            "   macro avg       0.62      0.59      0.60      2400\n",
            "weighted avg       0.70      0.73      0.71      2400\n",
            "\n"
          ]
        },
        {
          "output_type": "display_data",
          "data": {
            "image/png": "[encoded data removed]",
            "text/plain": [
              "<Figure size 432x288 with 2 Axes>"
            ]
          },
          "metadata": {
            "needs_background": "light"
          }
        },
        {
          "output_type": "stream",
          "name": "stdout",
          "text": [
            "Learning rate:  2\n",
            "              precision    recall  f1-score   support\n",
            "\n",
            "           0       0.38      0.35      0.36       600\n",
            "           1       0.79      0.81      0.80      1800\n",
            "\n",
            "    accuracy                           0.69      2400\n",
            "   macro avg       0.58      0.58      0.58      2400\n",
            "weighted avg       0.69      0.69      0.69      2400\n",
            "\n"
          ]
        },
        {
          "output_type": "display_data",
          "data": {
            "image/png": "[encoded data removed]",
            "text/plain": [
              "<Figure size 432x288 with 2 Axes>"
            ]
          },
          "metadata": {
            "needs_background": "light"
          }
        },
        {
          "output_type": "stream",
          "name": "stdout",
          "text": [
            "Learning rate:  3\n",
            "              precision    recall  f1-score   support\n",
            "\n",
            "           0       0.29      0.39      0.33       600\n",
            "           1       0.77      0.68      0.72      1800\n",
            "\n",
            "    accuracy                           0.60      2400\n",
            "   macro avg       0.53      0.53      0.52      2400\n",
            "weighted avg       0.65      0.60      0.62      2400\n",
            "\n"
          ]
        },
        {
          "output_type": "display_data",
          "data": {
            "image/png": "[encoded data removed]",
            "text/plain": [
              "<Figure size 432x288 with 2 Axes>"
            ]
          },
          "metadata": {
            "needs_background": "light"
          }
        },
        {
          "output_type": "stream",
          "name": "stdout",
          "text": [
            "Learning rate:  4\n",
            "              precision    recall  f1-score   support\n",
            "\n",
            "           0       0.28      0.33      0.30       600\n",
            "           1       0.76      0.72      0.74      1800\n",
            "\n",
            "    accuracy                           0.62      2400\n",
            "   macro avg       0.52      0.53      0.52      2400\n",
            "weighted avg       0.64      0.62      0.63      2400\n",
            "\n"
          ]
        },
        {
          "output_type": "display_data",
          "data": {
            "image/png": "[encoded data removed]",
            "text/plain": [
              "<Figure size 432x288 with 2 Axes>"
            ]
          },
          "metadata": {
            "needs_background": "light"
          }
        },
        {
          "output_type": "stream",
          "name": "stdout",
          "text": [
            "Learning rate:  5\n",
            "              precision    recall  f1-score   support\n",
            "\n",
            "           0       0.33      0.32      0.32       600\n",
            "           1       0.77      0.78      0.78      1800\n",
            "\n",
            "    accuracy                           0.67      2400\n",
            "   macro avg       0.55      0.55      0.55      2400\n",
            "weighted avg       0.66      0.67      0.66      2400\n",
            "\n"
          ]
        },
        {
          "output_type": "display_data",
          "data": {
            "image/png": "[encoded data removed]",
            "text/plain": [
              "<Figure size 432x288 with 2 Axes>"
            ]
          },
          "metadata": {
            "needs_background": "light"
          }
        },
        {
          "output_type": "stream",
          "name": "stdout",
          "text": [
            "Learning rate:  6.3\n",
            "              precision    recall  f1-score   support\n",
            "\n",
            "           0       0.30      0.38      0.34       600\n",
            "           1       0.77      0.70      0.74      1800\n",
            "\n",
            "    accuracy                           0.62      2400\n",
            "   macro avg       0.54      0.54      0.54      2400\n",
            "weighted avg       0.66      0.62      0.64      2400\n",
            "\n"
          ]
        },
        {
          "output_type": "display_data",
          "data": {
            "image/png": "[encoded data removed]",
            "text/plain": [
              "<Figure size 432x288 with 2 Axes>"
            ]
          },
          "metadata": {
            "needs_background": "light"
          }
        },
        {
          "output_type": "stream",
          "name": "stdout",
          "text": [
            "Learning rate:  7.7\n",
            "              precision    recall  f1-score   support\n",
            "\n",
            "           0       0.28      0.34      0.31       600\n",
            "           1       0.76      0.71      0.73      1800\n",
            "\n",
            "    accuracy                           0.62      2400\n",
            "   macro avg       0.52      0.53      0.52      2400\n",
            "weighted avg       0.64      0.62      0.63      2400\n",
            "\n"
          ]
        },
        {
          "output_type": "display_data",
          "data": {
            "image/png": "[encoded data removed]",
            "text/plain": [
              "<Figure size 432x288 with 2 Axes>"
            ]
          },
          "metadata": {
            "needs_background": "light"
          }
        },
        {
          "output_type": "stream",
          "name": "stdout",
          "text": [
            "Learning rate:  10\n",
            "              precision    recall  f1-score   support\n",
            "\n",
            "           0       0.24      0.51      0.33       600\n",
            "           1       0.74      0.46      0.57      1800\n",
            "\n",
            "    accuracy                           0.47      2400\n",
            "   macro avg       0.49      0.49      0.45      2400\n",
            "weighted avg       0.61      0.47      0.51      2400\n",
            "\n"
          ]
        },
        {
          "output_type": "display_data",
          "data": {
            "image/png": "[encoded data removed]",
            "text/plain": [
              "<Figure size 432x288 with 2 Axes>"
            ]
          },
          "metadata": {
            "needs_background": "light"
          }
        },
        {
          "output_type": "stream",
          "name": "stdout",
          "text": [
            "Learning rate:  20\n",
            "              precision    recall  f1-score   support\n",
            "\n",
            "           0       0.32      0.40      0.36       600\n",
            "           1       0.78      0.72      0.75      1800\n",
            "\n",
            "    accuracy                           0.64      2400\n",
            "   macro avg       0.55      0.56      0.55      2400\n",
            "weighted avg       0.67      0.64      0.65      2400\n",
            "\n"
          ]
        },
        {
          "output_type": "display_data",
          "data": {
            "image/png": "[encoded data removed]",
            "text/plain": [
              "<Figure size 432x288 with 2 Axes>"
            ]
          },
          "metadata": {
            "needs_background": "light"
          }
        },
        {
          "output_type": "stream",
          "name": "stdout",
          "text": [
            "Learning rate:  30\n",
            "              precision    recall  f1-score   support\n",
            "\n",
            "           0       0.22      0.48      0.30       600\n",
            "           1       0.71      0.43      0.54      1800\n",
            "\n",
            "    accuracy                           0.44      2400\n",
            "   macro avg       0.47      0.46      0.42      2400\n",
            "weighted avg       0.59      0.44      0.48      2400\n",
            "\n"
          ]
        },
        {
          "output_type": "display_data",
          "data": {
            "image/png": "[encoded data removed]",
            "text/plain": [
              "<Figure size 432x288 with 2 Axes>"
            ]
          },
          "metadata": {
            "needs_background": "light"
          }
        },
        {
          "output_type": "stream",
          "name": "stdout",
          "text": [
            "Learning rate:  45\n",
            "              precision    recall  f1-score   support\n",
            "\n",
            "           0       0.31      0.34      0.33       600\n",
            "           1       0.77      0.75      0.76      1800\n",
            "\n",
            "    accuracy                           0.65      2400\n",
            "   macro avg       0.54      0.55      0.54      2400\n",
            "weighted avg       0.66      0.65      0.65      2400\n",
            "\n"
          ]
        },
        {
          "output_type": "display_data",
          "data": {
            "image/png": "[encoded data removed]",
            "text/plain": [
              "<Figure size 432x288 with 2 Axes>"
            ]
          },
          "metadata": {
            "needs_background": "light"
          }
        },
        {
          "output_type": "stream",
          "name": "stdout",
          "text": [
            "Learning rate:  55\n",
            "              precision    recall  f1-score   support\n",
            "\n",
            "           0       0.27      0.36      0.31       600\n",
            "           1       0.76      0.67      0.71      1800\n",
            "\n",
            "    accuracy                           0.59      2400\n",
            "   macro avg       0.51      0.52      0.51      2400\n",
            "weighted avg       0.64      0.59      0.61      2400\n",
            "\n"
          ]
        },
        {
          "output_type": "display_data",
          "data": {
            "image/png": "[encoded data removed]",
            "text/plain": [
              "<Figure size 432x288 with 2 Axes>"
            ]
          },
          "metadata": {
            "needs_background": "light"
          }
        },
        {
          "output_type": "stream",
          "name": "stdout",
          "text": [
            "Learning rate:  62\n",
            "              precision    recall  f1-score   support\n",
            "\n",
            "           0       0.29      0.40      0.34       600\n",
            "           1       0.77      0.67      0.71      1800\n",
            "\n",
            "    accuracy                           0.60      2400\n",
            "   macro avg       0.53      0.53      0.53      2400\n",
            "weighted avg       0.65      0.60      0.62      2400\n",
            "\n"
          ]
        },
        {
          "output_type": "display_data",
          "data": {
            "image/png": "[encoded data removed]",
            "text/plain": [
              "<Figure size 432x288 with 2 Axes>"
            ]
          },
          "metadata": {
            "needs_background": "light"
          }
        },
        {
          "output_type": "stream",
          "name": "stdout",
          "text": [
            "Learning rate:  77\n",
            "              precision    recall  f1-score   support\n",
            "\n",
            "           0       0.23      0.42      0.30       600\n",
            "           1       0.73      0.53      0.62      1800\n",
            "\n",
            "    accuracy                           0.51      2400\n",
            "   macro avg       0.48      0.48      0.46      2400\n",
            "weighted avg       0.61      0.51      0.54      2400\n",
            "\n"
          ]
        },
        {
          "output_type": "display_data",
          "data": {
            "image/png": "[encoded data removed]",
            "text/plain": [
              "<Figure size 432x288 with 2 Axes>"
            ]
          },
          "metadata": {
            "needs_background": "light"
          }
        },
        {
          "output_type": "stream",
          "name": "stdout",
          "text": [
            "Learning rate:  84\n",
            "              precision    recall  f1-score   support\n",
            "\n",
            "           0       0.32      0.37      0.34       600\n",
            "           1       0.78      0.73      0.75      1800\n",
            "\n",
            "    accuracy                           0.64      2400\n",
            "   macro avg       0.55      0.55      0.55      2400\n",
            "weighted avg       0.66      0.64      0.65      2400\n",
            "\n"
          ]
        },
        {
          "output_type": "display_data",
          "data": {
            "image/png": "[encoded data removed]",
            "text/plain": [
              "<Figure size 432x288 with 2 Axes>"
            ]
          },
          "metadata": {
            "needs_background": "light"
          }
        },
        {
          "output_type": "stream",
          "name": "stdout",
          "text": [
            "Learning rate:  90\n",
            "              precision    recall  f1-score   support\n",
            "\n",
            "           0       0.26      0.54      0.35       600\n",
            "           1       0.76      0.48      0.59      1800\n",
            "\n",
            "    accuracy                           0.50      2400\n",
            "   macro avg       0.51      0.51      0.47      2400\n",
            "weighted avg       0.64      0.50      0.53      2400\n",
            "\n"
          ]
        },
        {
          "output_type": "display_data",
          "data": {
            "image/png": "[encoded data removed]",
            "text/plain": [
              "<Figure size 432x288 with 2 Axes>"
            ]
          },
          "metadata": {
            "needs_background": "light"
          }
        }
      ]
    },
    {
      "cell_type": "code",
      "metadata": {
        "id": "FSa4s9KAchAf"
      },
      "source": [
        "from sklearn.model_selection import train_test_split\n",
        "import scipy.stats as st"
      ],
      "execution_count": 54,
      "outputs": []
    },
    {
      "cell_type": "code",
      "metadata": {
        "id": "APw2Zh054PXq"
      },
      "source": [
        "X_val, X_test_1, y_val, y_test_1 = train_test_split(X_test, y_test, test_size=0.7, random_state=42)"
      ],
      "execution_count": 51,
      "outputs": []
    },
    {
      "cell_type": "code",
      "metadata": {
        "colab": {
          "base_uri": "https://localhost:8080/"
        },
        "id": "utRGrQlxcVZa",
        "outputId": "f80b2949-1b07-4f3e-f08d-c35fc1fd2abf"
      },
      "source": [
        "from sklearn.model_selection import  GridSearchCV, RandomizedSearchCV\n",
        "from sklearn.metrics import roc_auc_score\n",
        "from sklearn.model_selection import KFold\n",
        "from xgboost import XGBClassifier\n",
        "from sklearn.metrics import roc_auc_score\n",
        "from sklearn.model_selection import StratifiedKFold, KFold\n",
        "\n",
        "from sklearn.metrics import (confusion_matrix, precision_recall_curve, auc,\n",
        "                             roc_curve, recall_score, classification_report, f1_score,\n",
        "                             precision_recall_fscore_support, roc_auc_score)\n",
        "\n",
        "gkf = KFold(n_splits=3, shuffle=True, random_state=42).split(X=xtrain, y=ytrain)\n",
        "fit_params_of_xgb = {\n",
        "    \"early_stopping_rounds\":100, \n",
        "    \"eval_metric\" : 'auc', \n",
        "    \"eval_set\" : [(X_val,y_val)],\n",
        "    'verbose': 500,\n",
        "}\n",
        "params = {\n",
        "    'booster': [\"gbtree\"],\n",
        "    'learning_rate': [0.01],\n",
        "    'n_estimators': [3000],\n",
        "    'min_child_weight': [1],#1\n",
        "    'gamma': [0],\n",
        "    'subsample': [0.4],\n",
        "    'colsample_bytree': [0.8],\n",
        "    'max_depth': [4],\n",
        "    \"scale_pos_weight\": [1],\n",
        "    \"reg_alpha\":[1],#0.08\n",
        "}\n",
        "xgb_estimator = XGBClassifier(\n",
        "    objective='binary:logistic',\n",
        "    silent=True,\n",
        ")\n",
        "\n",
        "gsearch = GridSearchCV(\n",
        "    estimator=xgb_estimator,\n",
        "    param_grid=params,\n",
        "    scoring='roc_auc',\n",
        "    n_jobs=-1,\n",
        "    cv=gkf, verbose=3\n",
        ")\n",
        "xgb_model = gsearch.fit(X=xtrain, y=ytrain, **fit_params_of_xgb)\n",
        "gsearch.best_params_, gsearch.best_score_"
      ],
      "execution_count": 75,
      "outputs": [
        {
          "output_type": "stream",
          "name": "stdout",
          "text": [
            "Fitting 3 folds for each of 1 candidates, totalling 3 fits\n"
          ]
        },
        {
          "output_type": "stream",
          "name": "stderr",
          "text": [
            "[Parallel(n_jobs=-1)]: Using backend LokyBackend with 2 concurrent workers.\n",
            "[Parallel(n_jobs=-1)]: Done   3 out of   3 | elapsed: 17.8min finished\n"
          ]
        },
        {
          "output_type": "stream",
          "name": "stdout",
          "text": [
            "[0]\tvalidation_0-auc:0.632014\n",
            "Will train until validation_0-auc hasn't improved in 100 rounds.\n",
            "[500]\tvalidation_0-auc:0.786445\n",
            "[1000]\tvalidation_0-auc:0.79996\n",
            "[1500]\tvalidation_0-auc:0.807212\n",
            "Stopping. Best iteration:\n",
            "[1774]\tvalidation_0-auc:0.813029\n",
            "\n"
          ]
        },
        {
          "output_type": "execute_result",
          "data": {
            "text/plain": [
              "({'booster': 'gbtree',\n",
              "  'colsample_bytree': 0.8,\n",
              "  'gamma': 0,\n",
              "  'learning_rate': 0.01,\n",
              "  'max_depth': 4,\n",
              "  'min_child_weight': 1,\n",
              "  'n_estimators': 3000,\n",
              "  'reg_alpha': 1,\n",
              "  'scale_pos_weight': 1,\n",
              "  'subsample': 0.4},\n",
              " 0.7950579164723771)"
            ]
          },
          "metadata": {},
          "execution_count": 75
        }
      ]
    },
    {
      "cell_type": "code",
      "metadata": {
        "id": "SUj26D0N7YeH"
      },
      "source": [
        "predicted_values = xgb_model.predict(X_test)"
      ],
      "execution_count": 76,
      "outputs": []
    },
    {
      "cell_type": "code",
      "metadata": {
        "colab": {
          "base_uri": "https://localhost:8080/",
          "height": 463
        },
        "id": "IhFQT6UaDuvb",
        "outputId": "9e0f0569-bcb3-4da5-baf7-5ec527a984fd"
      },
      "source": [
        "print_confusion_matrix(predicted_values, y_test, [\"0\", \"1\"])\n",
        "print(\"Accuracy:\", metrics.accuracy_score(y_test, predicted_values))"
      ],
      "execution_count": 77,
      "outputs": [
        {
          "output_type": "stream",
          "name": "stdout",
          "text": [
            "              precision    recall  f1-score   support\n",
            "\n",
            "           0       0.66      0.32      0.43       600\n",
            "           1       0.81      0.95      0.87      1800\n",
            "\n",
            "    accuracy                           0.79      2400\n",
            "   macro avg       0.73      0.63      0.65      2400\n",
            "weighted avg       0.77      0.79      0.76      2400\n",
            "\n",
            "Accuracy: 0.78875\n"
          ]
        },
        {
          "output_type": "display_data",
          "data": {
            "image/png": "[encoded data removed]",
            "text/plain": [
              "<Figure size 432x288 with 2 Axes>"
            ]
          },
          "metadata": {
            "needs_background": "light"
          }
        }
      ]
    },
    {
      "cell_type": "code",
      "metadata": {
        "id": "VuVNnEikPOOV"
      },
      "source": [
        "from sklearn.neural_network import MLPClassifier\n",
        "\n",
        "clf = MLPClassifier((20, ), max_iter=100000).fit(X_train_u, y_train_u)"
      ],
      "execution_count": 158,
      "outputs": []
    },
    {
      "cell_type": "code",
      "metadata": {
        "id": "gQLITkC9P0OJ"
      },
      "source": [
        "predicted_values = clf.predict(X_test)"
      ],
      "execution_count": 159,
      "outputs": []
    },
    {
      "cell_type": "code",
      "metadata": {
        "colab": {
          "base_uri": "https://localhost:8080/",
          "height": 463
        },
        "id": "J7D4apu5PuDn",
        "outputId": "a4146b79-5ebd-4a54-f53c-73748b040953"
      },
      "source": [
        "print_confusion_matrix(predicted_values, y_test, [\"0\", \"1\"])\n",
        "print(\"Accuracy:\", metrics.accuracy_score(y_test, predicted_values))"
      ],
      "execution_count": 160,
      "outputs": [
        {
          "output_type": "stream",
          "name": "stdout",
          "text": [
            "              precision    recall  f1-score   support\n",
            "\n",
            "           0       0.53      0.52      0.53       600\n",
            "           1       0.84      0.85      0.84      1800\n",
            "\n",
            "    accuracy                           0.77      2400\n",
            "   macro avg       0.69      0.69      0.69      2400\n",
            "weighted avg       0.76      0.77      0.77      2400\n",
            "\n",
            "Accuracy: 0.76625\n"
          ]
        },
        {
          "output_type": "display_data",
          "data": {
            "image/png": "[encoded data removed]",
            "text/plain": [
              "<Figure size 432x288 with 2 Axes>"
            ]
          },
          "metadata": {
            "needs_background": "light"
          }
        }
      ]
    },
    {
      "cell_type": "code",
      "metadata": {
        "colab": {
          "base_uri": "https://localhost:8080/",
          "height": 463
        },
        "id": "7wJeUY1SEeU4",
        "outputId": "bd80ec4c-c9a2-4364-8332-98122c5935ae"
      },
      "source": [
        "clf = MLPClassifier((20, 20, ), max_iter=100000).fit(xtrain, ytrain)\n",
        "predicted_values = clf.predict(X_test)\n",
        "print_confusion_matrix(predicted_values, y_test, [\"0\", \"1\"])\n",
        "print(\"Accuracy:\", metrics.accuracy_score(y_test, predicted_values))"
      ],
      "execution_count": 86,
      "outputs": [
        {
          "output_type": "stream",
          "name": "stdout",
          "text": [
            "              precision    recall  f1-score   support\n",
            "\n",
            "           0       0.55      0.46      0.50       600\n",
            "           1       0.83      0.88      0.85      1800\n",
            "\n",
            "    accuracy                           0.77      2400\n",
            "   macro avg       0.69      0.67      0.68      2400\n",
            "weighted avg       0.76      0.77      0.77      2400\n",
            "\n",
            "Accuracy: 0.7725\n"
          ]
        },
        {
          "output_type": "display_data",
          "data": {
            "image/png": "[encoded data removed]",
            "text/plain": [
              "<Figure size 432x288 with 2 Axes>"
            ]
          },
          "metadata": {
            "needs_background": "light"
          }
        }
      ]
    },
    {
      "cell_type": "code",
      "metadata": {
        "colab": {
          "base_uri": "https://localhost:8080/",
          "height": 463
        },
        "id": "eIZpYZCyEr6d",
        "outputId": "e0d058c9-1531-43d1-ea9f-00aec5138a8b"
      },
      "source": [
        "clf = MLPClassifier((1000, ), max_iter=100000).fit(xtrain, ytrain)\n",
        "predicted_values = clf.predict(X_test)\n",
        "print_confusion_matrix(predicted_values, y_test, [\"0\", \"1\"])\n",
        "print(\"Accuracy:\", metrics.accuracy_score(y_test, predicted_values))"
      ],
      "execution_count": 90,
      "outputs": [
        {
          "output_type": "stream",
          "name": "stdout",
          "text": [
            "              precision    recall  f1-score   support\n",
            "\n",
            "           0       0.58      0.43      0.50       600\n",
            "           1       0.83      0.90      0.86      1800\n",
            "\n",
            "    accuracy                           0.78      2400\n",
            "   macro avg       0.71      0.67      0.68      2400\n",
            "weighted avg       0.77      0.78      0.77      2400\n",
            "\n",
            "Accuracy: 0.78125\n"
          ]
        },
        {
          "output_type": "display_data",
          "data": {
            "image/png": "[encoded data removed]",
            "text/plain": [
              "<Figure size 432x288 with 2 Axes>"
            ]
          },
          "metadata": {
            "needs_background": "light"
          }
        }
      ]
    },
    {
      "cell_type": "code",
      "metadata": {
        "colab": {
          "base_uri": "https://localhost:8080/",
          "height": 463
        },
        "id": "GKiGOYvSE_Xc",
        "outputId": "69665522-f452-4dba-ab32-98ab2f61481e"
      },
      "source": [
        "clf = MLPClassifier((256, 64, 128, ), max_iter=100000, learning_rate=\"invscaling\").fit(xtrain, ytrain)\n",
        "predicted_values = clf.predict(X_test)\n",
        "print_confusion_matrix(predicted_values, y_test, [\"0\", \"1\"])\n",
        "print(\"Accuracy:\", metrics.accuracy_score(y_test, predicted_values))"
      ],
      "execution_count": 97,
      "outputs": [
        {
          "output_type": "stream",
          "name": "stdout",
          "text": [
            "              precision    recall  f1-score   support\n",
            "\n",
            "           0       0.56      0.49      0.53       600\n",
            "           1       0.84      0.87      0.85      1800\n",
            "\n",
            "    accuracy                           0.78      2400\n",
            "   macro avg       0.70      0.68      0.69      2400\n",
            "weighted avg       0.77      0.78      0.77      2400\n",
            "\n",
            "Accuracy: 0.7770833333333333\n"
          ]
        },
        {
          "output_type": "display_data",
          "data": {
            "image/png": "[encoded data removed]",
            "text/plain": [
              "<Figure size 432x288 with 2 Axes>"
            ]
          },
          "metadata": {
            "needs_background": "light"
          }
        }
      ]
    },
    {
      "cell_type": "code",
      "metadata": {
        "id": "dcd2nYzFLKMx"
      },
      "source": [
        ""
      ],
      "execution_count": null,
      "outputs": []
    },
    {
      "cell_type": "markdown",
      "metadata": {
        "id": "EEP95j-g6HKc"
      },
      "source": [
        "Undersampling со RandomUndersampler"
      ]
    },
    {
      "cell_type": "code",
      "metadata": {
        "colab": {
          "base_uri": "https://localhost:8080/"
        },
        "id": "1DrhUTxuoQaT",
        "outputId": "20c08676-1968-4a86-d5f0-2283db0b9b0c"
      },
      "source": [
        "from collections import Counter\n",
        "# from imblearn.under_sampling import TomekLinks\n",
        "from imblearn.under_sampling import RandomUnderSampler\n",
        "from sklearn.utils import shuffle\n",
        "\n",
        "undersample = RandomUnderSampler(sampling_strategy=0.5)\n",
        "X_train = xtrain\n",
        "X_over, y_over = undersample.fit_resample(X_train, y_train)\n",
        "print('Resampled dataset shape %s' % Counter(y_over))"
      ],
      "execution_count": 121,
      "outputs": [
        {
          "output_type": "stream",
          "name": "stdout",
          "text": [
            "Resampled dataset shape Counter({1: 5600, 0: 2800})\n"
          ]
        }
      ]
    },
    {
      "cell_type": "code",
      "metadata": {
        "colab": {
          "base_uri": "https://localhost:8080/"
        },
        "id": "0bc89co9o3pF",
        "outputId": "c5c6fe22-bdf6-4fda-f9f0-7aa139a6c3d1"
      },
      "source": [
        "final, targets = shuffle(X_over,y_over,random_state=0)\n",
        "X_train_u  = final\n",
        "y_train_u  = targets\n",
        "X_test = df_test.values.tolist()\n",
        "print('Training set class distribution %s' % Counter(y_train_u))\n",
        "print('Testing set class distribution %s' % Counter(y_test))"
      ],
      "execution_count": 122,
      "outputs": [
        {
          "output_type": "stream",
          "name": "stdout",
          "text": [
            "Training set class distribution Counter({1: 5600, 0: 2800})\n",
            "Testing set class distribution Counter({1: 1800, 0: 600})\n"
          ]
        }
      ]
    },
    {
      "cell_type": "code",
      "metadata": {
        "colab": {
          "base_uri": "https://localhost:8080/",
          "height": 349
        },
        "id": "9WQ9c47VpwI7",
        "outputId": "2aab9fd4-85e4-4ab2-a489-fcdd9dcb11ba"
      },
      "source": [
        "import matplotlib.pyplot as pyplot\n",
        "pyplot.pie([float(v) for v in Counter(y_train_u).values()], labels=[float(k) for k in Counter(y_train_u).keys()],\n",
        "           autopct='%1.0f%%')"
      ],
      "execution_count": 123,
      "outputs": [
        {
          "output_type": "execute_result",
          "data": {
            "text/plain": [
              "([<matplotlib.patches.Wedge at 0x7fd6bea40550>,\n",
              "  <matplotlib.patches.Wedge at 0x7fd6bea40e50>],\n",
              " [Text(-0.5500000594609755, 0.9526279098330699, '1.0'),\n",
              "  Text(0.5500001486524352, -0.9526278583383436, '0.0')],\n",
              " [Text(-0.30000003243325934, 0.5196152235453108, '67%'),\n",
              "  Text(0.30000008108314646, -0.5196151954572783, '33%')])"
            ]
          },
          "metadata": {},
          "execution_count": 123
        },
        {
          "output_type": "display_data",
          "data": {
            "image/png": "[encoded data removed]",
            "text/plain": [
              "<Figure size 432x288 with 1 Axes>"
            ]
          },
          "metadata": {}
        }
      ]
    },
    {
      "cell_type": "markdown",
      "metadata": {
        "id": "ODw2taBYr36G"
      },
      "source": [
        "Oversampling со SMOTE"
      ]
    },
    {
      "cell_type": "code",
      "metadata": {
        "colab": {
          "base_uri": "https://localhost:8080/"
        },
        "id": "S8S1WQ_nr4p9",
        "outputId": "112adb9c-115b-4b04-c5c4-1bf242e57b64"
      },
      "source": [
        "import imblearn\n",
        "from imblearn.over_sampling import SMOTE\n",
        "from numpy import where\n",
        "# X = df_train.values.tolist()\n",
        "counter = Counter(ytrain)\n",
        "print('Original dataset shape %s' % Counter(ytrain))\n",
        "oversample = SMOTE(sampling_strategy=0.7)\n",
        "X_train_o, y_train_o = oversample.fit_resample(xtrain, ytrain)\n",
        "print('Resampled dataset shape %s' % Counter(y_train_o))"
      ],
      "execution_count": 126,
      "outputs": [
        {
          "output_type": "stream",
          "name": "stdout",
          "text": [
            "Original dataset shape Counter({1: 8400, 0: 2800})\n",
            "Resampled dataset shape Counter({1: 8400, 0: 5880})\n"
          ]
        }
      ]
    },
    {
      "cell_type": "code",
      "metadata": {
        "colab": {
          "base_uri": "https://localhost:8080/",
          "height": 349
        },
        "id": "0hVdsbcownjX",
        "outputId": "8788ae9f-845b-45a2-b185-49d43144ae3b"
      },
      "source": [
        "import matplotlib.pyplot as pyplot\n",
        "pyplot.pie([float(v) for v in Counter(y_train_o).values()], labels=[float(k) for k in Counter(y_train_o).keys()],\n",
        "           autopct='%1.0f%%')"
      ],
      "execution_count": 127,
      "outputs": [
        {
          "output_type": "execute_result",
          "data": {
            "text/plain": [
              "([<matplotlib.patches.Wedge at 0x7fd6b9909e10>,\n",
              "  <matplotlib.patches.Wedge at 0x7fd6b9916710>],\n",
              " [Text(-0.30102937065636565, 1.0580081842794187, '1.0'),\n",
              "  Text(0.30102946971423916, -1.0580081560950105, '0.0')],\n",
              " [Text(-0.16419783853983577, 0.5770953732433193, '59%'),\n",
              "  Text(0.16419789257140316, -0.5770953578700057, '41%')])"
            ]
          },
          "metadata": {},
          "execution_count": 127
        },
        {
          "output_type": "display_data",
          "data": {
            "image/png": "[encoded data removed]",
            "text/plain": [
              "<Figure size 432x288 with 1 Axes>"
            ]
          },
          "metadata": {}
        }
      ]
    },
    {
      "cell_type": "markdown",
      "metadata": {
        "id": "Y0EJxDSqw_RG"
      },
      "source": [
        "Комбинација: Undersampling на majority, Oversampling на minority"
      ]
    },
    {
      "cell_type": "code",
      "metadata": {
        "colab": {
          "base_uri": "https://localhost:8080/"
        },
        "id": "AVckpBp1xLLq",
        "outputId": "5a9a0e32-60c6-4189-b405-bc501a09bb07"
      },
      "source": [
        "from imblearn.pipeline import Pipeline\n",
        "print('Original dataset shape %s' % Counter(ytrain))\n",
        "over = SMOTE(sampling_strategy=0.7)\n",
        "under = RandomUnderSampler(sampling_strategy=0.5)\n",
        "steps = [('u', under),('o', over)]\n",
        "pipeline = Pipeline(steps=steps)\n",
        "X_train_ou, y_train_ou = pipeline.fit_resample(xtrain, ytrain)\n",
        "counter = Counter(y_train_ou)\n",
        "print('Resampled dataset shape %s' % Counter(counter))"
      ],
      "execution_count": 128,
      "outputs": [
        {
          "output_type": "stream",
          "name": "stdout",
          "text": [
            "Original dataset shape Counter({1: 8400, 0: 2800})\n",
            "Resampled dataset shape Counter({1: 5600, 0: 3919})\n"
          ]
        }
      ]
    },
    {
      "cell_type": "code",
      "metadata": {
        "colab": {
          "base_uri": "https://localhost:8080/",
          "height": 349
        },
        "id": "W2zV3duFx17Z",
        "outputId": "d0a95d15-7f1f-4c1f-83d2-cbfb5bfb656e"
      },
      "source": [
        "import matplotlib.pyplot as pyplot\n",
        "pyplot.pie([float(v) for v in Counter(y_train_ou).values()], labels=[float(k) for k in Counter(y_train_ou).keys()],\n",
        "           autopct='%1.0f%%')"
      ],
      "execution_count": 129,
      "outputs": [
        {
          "output_type": "execute_result",
          "data": {
            "text/plain": [
              "([<matplotlib.patches.Wedge at 0x7fd6bf7a5510>,\n",
              "  <matplotlib.patches.Wedge at 0x7fd6bed7c090>],\n",
              " [Text(0.30123471196054497, 1.0579497380830754, '0.0'),\n",
              "  Text(-0.3012348110129466, -1.0579497098794415, '1.0')],\n",
              " [Text(0.16430984288756995, 0.5770634934998592, '41%'),\n",
              "  Text(-0.16430989691615266, -0.577063478116059, '59%')])"
            ]
          },
          "metadata": {},
          "execution_count": 129
        },
        {
          "output_type": "display_data",
          "data": {
            "image/png": "[encoded data removed]",
            "text/plain": [
              "<Figure size 432x288 with 1 Axes>"
            ]
          },
          "metadata": {}
        }
      ]
    },
    {
      "cell_type": "code",
      "metadata": {
        "colab": {
          "base_uri": "https://localhost:8080/"
        },
        "id": "3l32jpP7N32i",
        "outputId": "8a318cd4-b325-4c9a-e422-4441e923735a"
      },
      "source": [
        "from sklearn.tree import DecisionTreeClassifier\n",
        "from sklearn.naive_bayes import GaussianNB\n",
        "from sklearn.ensemble import RandomForestClassifier\n",
        "\n",
        "dtc = DecisionTreeClassifier()\n",
        "nbc = GaussianNB()\n",
        "rfc = RandomForestClassifier()\n",
        "\n",
        "dtc.fit(X_train_u, y_train_u)\n",
        "nbc.fit(X_train_u, y_train_u)\n",
        "rfc.fit(X_train_u, y_train_u)"
      ],
      "execution_count": 146,
      "outputs": [
        {
          "output_type": "execute_result",
          "data": {
            "text/plain": [
              "RandomForestClassifier(bootstrap=True, ccp_alpha=0.0, class_weight=None,\n",
              "                       criterion='gini', max_depth=None, max_features='auto',\n",
              "                       max_leaf_nodes=None, max_samples=None,\n",
              "                       min_impurity_decrease=0.0, min_impurity_split=None,\n",
              "                       min_samples_leaf=1, min_samples_split=2,\n",
              "                       min_weight_fraction_leaf=0.0, n_estimators=100,\n",
              "                       n_jobs=None, oob_score=False, random_state=None,\n",
              "                       verbose=0, warm_start=False)"
            ]
          },
          "metadata": {},
          "execution_count": 146
        }
      ]
    },
    {
      "cell_type": "code",
      "metadata": {
        "id": "Y7nfouubN32i"
      },
      "source": [
        "test_tree_predict = dtc.predict(X_test)\n",
        "test_naive_predict = nbc.predict(X_test)\n",
        "test_random_forest_predict = rfc.predict(X_test)"
      ],
      "execution_count": 147,
      "outputs": []
    },
    {
      "cell_type": "code",
      "metadata": {
        "colab": {
          "base_uri": "https://localhost:8080/",
          "height": 446
        },
        "id": "S85LUL4QN32i",
        "outputId": "703447f2-1fcd-4907-bc09-27538a5f0f06"
      },
      "source": [
        "print_confusion_matrix(test_tree_predict,y_test, [\"0\", \"1\"])"
      ],
      "execution_count": 148,
      "outputs": [
        {
          "output_type": "stream",
          "name": "stdout",
          "text": [
            "              precision    recall  f1-score   support\n",
            "\n",
            "           0       0.37      0.50      0.43       600\n",
            "           1       0.81      0.72      0.76      1800\n",
            "\n",
            "    accuracy                           0.67      2400\n",
            "   macro avg       0.59      0.61      0.60      2400\n",
            "weighted avg       0.70      0.67      0.68      2400\n",
            "\n"
          ]
        },
        {
          "output_type": "display_data",
          "data": {
            "image/png": "[encoded data removed]",
            "text/plain": [
              "<Figure size 432x288 with 2 Axes>"
            ]
          },
          "metadata": {
            "needs_background": "light"
          }
        }
      ]
    },
    {
      "cell_type": "code",
      "metadata": {
        "colab": {
          "base_uri": "https://localhost:8080/",
          "height": 446
        },
        "id": "AD0PiwUhN32i",
        "outputId": "cc995db0-3bf7-41c0-df52-f62ae9f753ef"
      },
      "source": [
        "print_confusion_matrix(test_naive_predict, y_test, [\"0\", \"1\"])"
      ],
      "execution_count": 149,
      "outputs": [
        {
          "output_type": "stream",
          "name": "stdout",
          "text": [
            "              precision    recall  f1-score   support\n",
            "\n",
            "           0       0.40      0.39      0.40       600\n",
            "           1       0.80      0.81      0.80      1800\n",
            "\n",
            "    accuracy                           0.70      2400\n",
            "   macro avg       0.60      0.60      0.60      2400\n",
            "weighted avg       0.70      0.70      0.70      2400\n",
            "\n"
          ]
        },
        {
          "output_type": "display_data",
          "data": {
            "image/png": "[encoded data removed]",
            "text/plain": [
              "<Figure size 432x288 with 2 Axes>"
            ]
          },
          "metadata": {
            "needs_background": "light"
          }
        }
      ]
    },
    {
      "cell_type": "code",
      "metadata": {
        "colab": {
          "base_uri": "https://localhost:8080/",
          "height": 446
        },
        "id": "iiR5t5_TN32i",
        "outputId": "2fa24a82-b5f8-49db-c491-7f2156d43be1"
      },
      "source": [
        "print_confusion_matrix(test_random_forest_predict,y_test, [\"0\", \"1\"])"
      ],
      "execution_count": 150,
      "outputs": [
        {
          "output_type": "stream",
          "name": "stdout",
          "text": [
            "              precision    recall  f1-score   support\n",
            "\n",
            "           0       0.54      0.38      0.45       600\n",
            "           1       0.81      0.89      0.85      1800\n",
            "\n",
            "    accuracy                           0.76      2400\n",
            "   macro avg       0.68      0.64      0.65      2400\n",
            "weighted avg       0.74      0.76      0.75      2400\n",
            "\n"
          ]
        },
        {
          "output_type": "display_data",
          "data": {
            "image/png": "[encoded data removed]",
            "text/plain": [
              "<Figure size 432x288 with 2 Axes>"
            ]
          },
          "metadata": {
            "needs_background": "light"
          }
        }
      ]
    },
    {
      "cell_type": "code",
      "metadata": {
        "colab": {
          "base_uri": "https://localhost:8080/",
          "height": 278
        },
        "id": "WEGs2LSON32j",
        "outputId": "77132c9f-4c6e-4107-99f7-0c845a0d847a"
      },
      "source": [
        "from sklearn.metrics import roc_curve, auc\n",
        "import matplotlib.pyplot as plt\n",
        "\n",
        "actual = y_test\n",
        "decision_tree_prob = [p[1] for p in dtc.predict_proba(X_test)]\n",
        "naive_bayes_prob = [p[1] for p in nbc.predict_proba(X_test)]\n",
        "random_forest_prob = [p[1] for p in rfc.predict_proba(X_test)]\n",
        "\n",
        "\n",
        "dt_false_pos, dt_true_pos, _ = roc_curve(actual, decision_tree_prob)\n",
        "dt_auc = auc(dt_false_pos, dt_true_pos)\n",
        "\n",
        "nb_false_pos, nb_true_pos, _ = roc_curve(actual, naive_bayes_prob)\n",
        "nb_auc = auc(nb_false_pos, nb_true_pos)\n",
        "\n",
        "rf_false_pos, rf_true_pos, _ = roc_curve(actual, random_forest_prob)\n",
        "rf_auc = auc(rf_false_pos, rf_true_pos)\n",
        "\n",
        "\n",
        "# plot\n",
        "plt.plot(dt_false_pos, dt_true_pos, 'r', label='Decision Tree AUC = %0.2f'% dt_auc)\n",
        "plt.plot(nb_false_pos, nb_true_pos, 'g', label='Naive Bayes AUC = %0.2f'% nb_auc)\n",
        "plt.plot(rf_false_pos, rf_true_pos, 'b', label='Random Forest AUC = %0.2f'% rf_auc)\n",
        "\n",
        "\n",
        "plt.legend(loc='lower right')\n",
        "plt.plot([0,1], [0,1], 'r--')\n",
        "plt.ylabel('True Positive Rate')\n",
        "plt.xlabel('False Positive Rate')\n",
        "plt.show()"
      ],
      "execution_count": 151,
      "outputs": [
        {
          "output_type": "display_data",
          "data": {
            "image/png": "[encoded data removed]",
            "text/plain": [
              "<Figure size 432x288 with 1 Axes>"
            ]
          },
          "metadata": {
            "needs_background": "light"
          }
        }
      ]
    },
    {
      "cell_type": "code",
      "metadata": {
        "id": "i6lifyKx2djO"
      },
      "source": [
        "import keras\n",
        "from keras.models import Sequential \n",
        "from keras.layers import Dense   \n",
        "from tensorflow.keras.callbacks import EarlyStopping"
      ],
      "execution_count": 161,
      "outputs": []
    },
    {
      "cell_type": "code",
      "metadata": {
        "id": "dECS0zXwQHmJ"
      },
      "source": [
        "X_val, X_test_ann, y_val, y_test_ann = train_test_split(X_test, y_test, test_size=0.7, random_state=42)"
      ],
      "execution_count": 162,
      "outputs": []
    },
    {
      "cell_type": "code",
      "metadata": {
        "id": "o6aJo6UI7X_n"
      },
      "source": [
        "from sklearn.preprocessing import StandardScaler\n",
        "scaler = StandardScaler()\n",
        "X_train_norm = scaler.fit_transform(X_train_u)\n",
        "X_val_norm = scaler.fit_transform(X_val)\n",
        "X_test_norm = scaler.fit_transform(X_test_ann)"
      ],
      "execution_count": 163,
      "outputs": []
    },
    {
      "cell_type": "code",
      "metadata": {
        "colab": {
          "base_uri": "https://localhost:8080/"
        },
        "id": "rJVmFhgY4WDx",
        "outputId": "33b2fc43-0ebe-444f-9685-8cba883a57bc"
      },
      "source": [
        "classifier = Sequential()\n",
        "\n",
        "classifier.add(Dense(64, activation='relu', input_dim=768))\n",
        "\n",
        "classifier.add(Dense(256, activation='relu'))\n",
        "\n",
        "classifier.add(Dense(1, activation='sigmoid'))\n",
        "\n",
        "\n",
        "classifier.compile(optimizer ='adam',loss='binary_crossentropy', metrics =['mse'])\n",
        "es = EarlyStopping(monitor='mse', mode='min', verbose=1,patience=10)\n",
        "history_callback = classifier.fit(X_train_norm, y_train_u, epochs=500, batch_size=64,validation_data=(X_val_norm,y_val), callbacks=[es])"
      ],
      "execution_count": 175,
      "outputs": [
        {
          "output_type": "stream",
          "name": "stdout",
          "text": [
            "Epoch 1/500\n",
            "132/132 [==============================] - 1s 3ms/step - loss: 0.6020 - mse: 0.2064 - val_loss: 0.5641 - val_mse: 0.1892\n",
            "Epoch 2/500\n",
            "132/132 [==============================] - 0s 2ms/step - loss: 0.5263 - mse: 0.1751 - val_loss: 0.5282 - val_mse: 0.1747\n",
            "Epoch 3/500\n",
            "132/132 [==============================] - 0s 2ms/step - loss: 0.4714 - mse: 0.1538 - val_loss: 0.4653 - val_mse: 0.1487\n",
            "Epoch 4/500\n",
            "132/132 [==============================] - 0s 3ms/step - loss: 0.4294 - mse: 0.1386 - val_loss: 0.5085 - val_mse: 0.1642\n",
            "Epoch 5/500\n",
            "132/132 [==============================] - 0s 2ms/step - loss: 0.3878 - mse: 0.1227 - val_loss: 0.5004 - val_mse: 0.1624\n",
            "Epoch 6/500\n",
            "132/132 [==============================] - 0s 3ms/step - loss: 0.3463 - mse: 0.1088 - val_loss: 0.5199 - val_mse: 0.1573\n",
            "Epoch 7/500\n",
            "132/132 [==============================] - 0s 3ms/step - loss: 0.2973 - mse: 0.0913 - val_loss: 0.5704 - val_mse: 0.1717\n",
            "Epoch 8/500\n",
            "132/132 [==============================] - 0s 3ms/step - loss: 0.2640 - mse: 0.0804 - val_loss: 0.6697 - val_mse: 0.2049\n",
            "Epoch 9/500\n",
            "132/132 [==============================] - 0s 2ms/step - loss: 0.2508 - mse: 0.0771 - val_loss: 0.6416 - val_mse: 0.1829\n",
            "Epoch 10/500\n",
            "132/132 [==============================] - 0s 2ms/step - loss: 0.1948 - mse: 0.0574 - val_loss: 0.7092 - val_mse: 0.1955\n",
            "Epoch 11/500\n",
            "132/132 [==============================] - 0s 2ms/step - loss: 0.1689 - mse: 0.0492 - val_loss: 0.7215 - val_mse: 0.1954\n",
            "Epoch 12/500\n",
            "132/132 [==============================] - 0s 2ms/step - loss: 0.1585 - mse: 0.0456 - val_loss: 0.8244 - val_mse: 0.2199\n",
            "Epoch 13/500\n",
            "132/132 [==============================] - 0s 3ms/step - loss: 0.1249 - mse: 0.0345 - val_loss: 0.8245 - val_mse: 0.1983\n",
            "Epoch 14/500\n",
            "132/132 [==============================] - 0s 2ms/step - loss: 0.0926 - mse: 0.0247 - val_loss: 0.9292 - val_mse: 0.2203\n",
            "Epoch 15/500\n",
            "132/132 [==============================] - 0s 2ms/step - loss: 0.0880 - mse: 0.0232 - val_loss: 1.1325 - val_mse: 0.2614\n",
            "Epoch 16/500\n",
            "132/132 [==============================] - 0s 3ms/step - loss: 0.0734 - mse: 0.0191 - val_loss: 1.0409 - val_mse: 0.2261\n",
            "Epoch 17/500\n",
            "132/132 [==============================] - 0s 2ms/step - loss: 0.0608 - mse: 0.0157 - val_loss: 1.0840 - val_mse: 0.2092\n",
            "Epoch 18/500\n",
            "132/132 [==============================] - 0s 2ms/step - loss: 0.0465 - mse: 0.0111 - val_loss: 1.0843 - val_mse: 0.2154\n",
            "Epoch 19/500\n",
            "132/132 [==============================] - 0s 2ms/step - loss: 0.0342 - mse: 0.0076 - val_loss: 1.1073 - val_mse: 0.2112\n",
            "Epoch 20/500\n",
            "132/132 [==============================] - 0s 2ms/step - loss: 0.0279 - mse: 0.0061 - val_loss: 1.2288 - val_mse: 0.2209\n",
            "Epoch 21/500\n",
            "132/132 [==============================] - 0s 2ms/step - loss: 0.0220 - mse: 0.0041 - val_loss: 1.2660 - val_mse: 0.2133\n",
            "Epoch 22/500\n",
            "132/132 [==============================] - 0s 2ms/step - loss: 0.1421 - mse: 0.0339 - val_loss: 1.4093 - val_mse: 0.2402\n",
            "Epoch 23/500\n",
            "132/132 [==============================] - 0s 3ms/step - loss: 0.1165 - mse: 0.0324 - val_loss: 1.2194 - val_mse: 0.2348\n",
            "Epoch 24/500\n",
            "132/132 [==============================] - 0s 2ms/step - loss: 0.0326 - mse: 0.0076 - val_loss: 1.2749 - val_mse: 0.2238\n",
            "Epoch 25/500\n",
            "132/132 [==============================] - 0s 3ms/step - loss: 0.0119 - mse: 0.0015 - val_loss: 1.2719 - val_mse: 0.2209\n",
            "Epoch 26/500\n",
            "132/132 [==============================] - 0s 2ms/step - loss: 0.0068 - mse: 5.7248e-04 - val_loss: 1.3353 - val_mse: 0.2217\n",
            "Epoch 27/500\n",
            "132/132 [==============================] - 0s 2ms/step - loss: 0.0172 - mse: 0.0036 - val_loss: 1.3029 - val_mse: 0.2108\n",
            "Epoch 28/500\n",
            "132/132 [==============================] - 0s 2ms/step - loss: 0.0092 - mse: 0.0013 - val_loss: 1.4662 - val_mse: 0.2307\n",
            "Epoch 29/500\n",
            "132/132 [==============================] - 0s 2ms/step - loss: 0.0036 - mse: 1.5895e-04 - val_loss: 1.4521 - val_mse: 0.2204\n",
            "Epoch 30/500\n",
            "132/132 [==============================] - 0s 2ms/step - loss: 0.0025 - mse: 6.0143e-05 - val_loss: 1.5048 - val_mse: 0.2258\n",
            "Epoch 31/500\n",
            "132/132 [==============================] - 0s 3ms/step - loss: 0.0020 - mse: 3.6789e-05 - val_loss: 1.5216 - val_mse: 0.2246\n",
            "Epoch 32/500\n",
            "132/132 [==============================] - 0s 2ms/step - loss: 0.0018 - mse: 2.7583e-05 - val_loss: 1.5367 - val_mse: 0.2249\n",
            "Epoch 33/500\n",
            "132/132 [==============================] - 0s 2ms/step - loss: 0.0015 - mse: 1.7687e-05 - val_loss: 1.5638 - val_mse: 0.2266\n",
            "Epoch 34/500\n",
            "132/132 [==============================] - 0s 2ms/step - loss: 0.0013 - mse: 1.4307e-05 - val_loss: 1.5696 - val_mse: 0.2242\n",
            "Epoch 35/500\n",
            "132/132 [==============================] - 0s 3ms/step - loss: 0.0012 - mse: 1.4860e-05 - val_loss: 1.6015 - val_mse: 0.2270\n",
            "Epoch 36/500\n",
            "132/132 [==============================] - 0s 2ms/step - loss: 0.0010 - mse: 7.8295e-06 - val_loss: 1.6308 - val_mse: 0.2282\n",
            "Epoch 37/500\n",
            "132/132 [==============================] - 0s 2ms/step - loss: 9.3343e-04 - mse: 7.1540e-06 - val_loss: 1.6507 - val_mse: 0.2288\n",
            "Epoch 38/500\n",
            "132/132 [==============================] - 0s 3ms/step - loss: 8.4430e-04 - mse: 6.1710e-06 - val_loss: 1.6707 - val_mse: 0.2274\n",
            "Epoch 39/500\n",
            "132/132 [==============================] - 0s 2ms/step - loss: 7.5078e-04 - mse: 4.1823e-06 - val_loss: 1.6903 - val_mse: 0.2292\n",
            "Epoch 40/500\n",
            "132/132 [==============================] - 0s 2ms/step - loss: 6.6925e-04 - mse: 3.0380e-06 - val_loss: 1.7034 - val_mse: 0.2287\n",
            "Epoch 41/500\n",
            "132/132 [==============================] - 0s 3ms/step - loss: 6.2462e-04 - mse: 3.1464e-06 - val_loss: 1.7218 - val_mse: 0.2288\n",
            "Epoch 42/500\n",
            "132/132 [==============================] - 0s 2ms/step - loss: 5.6592e-04 - mse: 2.3149e-06 - val_loss: 1.7438 - val_mse: 0.2292\n",
            "Epoch 43/500\n",
            "132/132 [==============================] - 0s 3ms/step - loss: 5.1158e-04 - mse: 1.9067e-06 - val_loss: 1.7500 - val_mse: 0.2275\n",
            "Epoch 44/500\n",
            "132/132 [==============================] - 0s 3ms/step - loss: 4.8137e-04 - mse: 2.1341e-06 - val_loss: 1.7672 - val_mse: 0.2273\n",
            "Epoch 45/500\n",
            "132/132 [==============================] - 0s 3ms/step - loss: 4.4439e-04 - mse: 1.6015e-06 - val_loss: 1.7906 - val_mse: 0.2293\n",
            "Epoch 46/500\n",
            "132/132 [==============================] - 0s 2ms/step - loss: 3.9562e-04 - mse: 1.1723e-06 - val_loss: 1.8132 - val_mse: 0.2305\n",
            "Epoch 47/500\n",
            "132/132 [==============================] - 0s 2ms/step - loss: 3.5442e-04 - mse: 9.3561e-07 - val_loss: 1.8468 - val_mse: 0.2306\n",
            "Epoch 48/500\n",
            "132/132 [==============================] - 0s 2ms/step - loss: 3.2186e-04 - mse: 7.1758e-07 - val_loss: 1.8561 - val_mse: 0.2304\n",
            "Epoch 49/500\n",
            "132/132 [==============================] - 0s 2ms/step - loss: 2.9289e-04 - mse: 5.6666e-07 - val_loss: 1.8708 - val_mse: 0.2309\n",
            "Epoch 50/500\n",
            "132/132 [==============================] - 0s 2ms/step - loss: 2.7301e-04 - mse: 5.0862e-07 - val_loss: 1.8952 - val_mse: 0.2303\n",
            "Epoch 51/500\n",
            "132/132 [==============================] - 0s 2ms/step - loss: 2.5110e-04 - mse: 4.2336e-07 - val_loss: 1.9118 - val_mse: 0.2317\n",
            "Epoch 52/500\n",
            "132/132 [==============================] - 0s 2ms/step - loss: 2.3354e-04 - mse: 4.0244e-07 - val_loss: 1.9263 - val_mse: 0.2307\n",
            "Epoch 53/500\n",
            "132/132 [==============================] - 0s 3ms/step - loss: 2.1105e-04 - mse: 2.9792e-07 - val_loss: 1.9465 - val_mse: 0.2314\n",
            "Epoch 54/500\n",
            "132/132 [==============================] - 0s 2ms/step - loss: 1.9196e-04 - mse: 2.3692e-07 - val_loss: 1.9652 - val_mse: 0.2321\n",
            "Epoch 55/500\n",
            "132/132 [==============================] - 0s 2ms/step - loss: 1.7932e-04 - mse: 2.1671e-07 - val_loss: 1.9841 - val_mse: 0.2306\n",
            "Epoch 56/500\n",
            "132/132 [==============================] - 0s 2ms/step - loss: 1.6971e-04 - mse: 2.6036e-07 - val_loss: 2.0020 - val_mse: 0.2316\n",
            "Epoch 57/500\n",
            "132/132 [==============================] - 0s 3ms/step - loss: 1.5283e-04 - mse: 1.8694e-07 - val_loss: 2.0254 - val_mse: 0.2318\n",
            "Epoch 58/500\n",
            "132/132 [==============================] - 0s 2ms/step - loss: 1.3726e-04 - mse: 1.1902e-07 - val_loss: 2.0498 - val_mse: 0.2319\n",
            "Epoch 59/500\n",
            "132/132 [==============================] - 0s 3ms/step - loss: 1.2847e-04 - mse: 1.1186e-07 - val_loss: 2.0557 - val_mse: 0.2325\n",
            "Epoch 60/500\n",
            "132/132 [==============================] - 0s 3ms/step - loss: 1.1691e-04 - mse: 8.6863e-08 - val_loss: 2.0899 - val_mse: 0.2324\n",
            "Epoch 61/500\n",
            "132/132 [==============================] - 0s 3ms/step - loss: 1.0688e-04 - mse: 7.6494e-08 - val_loss: 2.1053 - val_mse: 0.2333\n",
            "Epoch 62/500\n",
            "132/132 [==============================] - 0s 2ms/step - loss: 1.0042e-04 - mse: 7.3920e-08 - val_loss: 2.1244 - val_mse: 0.2331\n",
            "Epoch 63/500\n",
            "132/132 [==============================] - 0s 2ms/step - loss: 9.0010e-05 - mse: 5.2898e-08 - val_loss: 2.1421 - val_mse: 0.2331\n",
            "Epoch 64/500\n",
            "132/132 [==============================] - 0s 2ms/step - loss: 8.3471e-05 - mse: 4.6500e-08 - val_loss: 2.1704 - val_mse: 0.2324\n",
            "Epoch 65/500\n",
            "132/132 [==============================] - 0s 2ms/step - loss: 7.8894e-05 - mse: 4.8291e-08 - val_loss: 2.1852 - val_mse: 0.2341\n",
            "Epoch 66/500\n",
            "132/132 [==============================] - 0s 2ms/step - loss: 7.0064e-05 - mse: 3.1817e-08 - val_loss: 2.2104 - val_mse: 0.2346\n",
            "Epoch 67/500\n",
            "132/132 [==============================] - 0s 2ms/step - loss: 6.5645e-05 - mse: 3.1954e-08 - val_loss: 2.2311 - val_mse: 0.2363\n",
            "Epoch 68/500\n",
            "132/132 [==============================] - 0s 3ms/step - loss: 5.9679e-05 - mse: 2.3492e-08 - val_loss: 2.2503 - val_mse: 0.2348\n",
            "Epoch 69/500\n",
            "132/132 [==============================] - 0s 2ms/step - loss: 5.5355e-05 - mse: 2.2623e-08 - val_loss: 2.2670 - val_mse: 0.2343\n",
            "Epoch 70/500\n",
            "132/132 [==============================] - 0s 2ms/step - loss: 5.1452e-05 - mse: 2.1151e-08 - val_loss: 2.2958 - val_mse: 0.2372\n",
            "Epoch 71/500\n",
            "132/132 [==============================] - 0s 2ms/step - loss: 4.6554e-05 - mse: 1.4470e-08 - val_loss: 2.3067 - val_mse: 0.2349\n",
            "Epoch 72/500\n",
            "132/132 [==============================] - 0s 2ms/step - loss: 4.2491e-05 - mse: 1.2017e-08 - val_loss: 2.3234 - val_mse: 0.2350\n",
            "Epoch 73/500\n",
            "132/132 [==============================] - 0s 3ms/step - loss: 3.9074e-05 - mse: 1.0018e-08 - val_loss: 2.3537 - val_mse: 0.2354\n",
            "Epoch 74/500\n",
            "132/132 [==============================] - 0s 3ms/step - loss: 3.6392e-05 - mse: 9.4137e-09 - val_loss: 2.3655 - val_mse: 0.2355\n",
            "Epoch 75/500\n",
            "132/132 [==============================] - 0s 3ms/step - loss: 3.3309e-05 - mse: 7.1416e-09 - val_loss: 2.4046 - val_mse: 0.2376\n",
            "Epoch 76/500\n",
            "132/132 [==============================] - 0s 2ms/step - loss: 3.0673e-05 - mse: 6.2157e-09 - val_loss: 2.4114 - val_mse: 0.2360\n",
            "Epoch 77/500\n",
            "132/132 [==============================] - 0s 3ms/step - loss: 2.8284e-05 - mse: 5.3395e-09 - val_loss: 2.4313 - val_mse: 0.2361\n",
            "Epoch 78/500\n",
            "132/132 [==============================] - 0s 2ms/step - loss: 2.6534e-05 - mse: 4.7442e-09 - val_loss: 2.4445 - val_mse: 0.2367\n",
            "Epoch 79/500\n",
            "132/132 [==============================] - 0s 3ms/step - loss: 2.5023e-05 - mse: 4.9833e-09 - val_loss: 2.4632 - val_mse: 0.2361\n",
            "Epoch 80/500\n",
            "132/132 [==============================] - 0s 2ms/step - loss: 2.2074e-05 - mse: 3.0883e-09 - val_loss: 2.4848 - val_mse: 0.2385\n",
            "Epoch 81/500\n",
            "132/132 [==============================] - 0s 2ms/step - loss: 2.0418e-05 - mse: 2.8591e-09 - val_loss: 2.5106 - val_mse: 0.2375\n",
            "Epoch 82/500\n",
            "132/132 [==============================] - 0s 2ms/step - loss: 1.8564e-05 - mse: 2.2938e-09 - val_loss: 2.5256 - val_mse: 0.2368\n",
            "Epoch 83/500\n",
            "132/132 [==============================] - 0s 3ms/step - loss: 1.7293e-05 - mse: 1.9462e-09 - val_loss: 2.5465 - val_mse: 0.2378\n",
            "Epoch 84/500\n",
            "132/132 [==============================] - 0s 3ms/step - loss: 1.5977e-05 - mse: 1.7828e-09 - val_loss: 2.5732 - val_mse: 0.2381\n",
            "Epoch 85/500\n",
            "132/132 [==============================] - 0s 3ms/step - loss: 1.4837e-05 - mse: 1.4200e-09 - val_loss: 2.5934 - val_mse: 0.2396\n",
            "Epoch 86/500\n",
            "132/132 [==============================] - 0s 3ms/step - loss: 1.4197e-05 - mse: 1.5270e-09 - val_loss: 2.6129 - val_mse: 0.2382\n",
            "Epoch 87/500\n",
            "132/132 [==============================] - 0s 2ms/step - loss: 1.2609e-05 - mse: 1.0122e-09 - val_loss: 2.6208 - val_mse: 0.2378\n",
            "Epoch 88/500\n",
            "132/132 [==============================] - 0s 3ms/step - loss: 1.1657e-05 - mse: 9.6893e-10 - val_loss: 2.6444 - val_mse: 0.2391\n",
            "Epoch 89/500\n",
            "132/132 [==============================] - 0s 2ms/step - loss: 1.0687e-05 - mse: 7.3460e-10 - val_loss: 2.6639 - val_mse: 0.2393\n",
            "Epoch 90/500\n",
            "132/132 [==============================] - 0s 2ms/step - loss: 9.9638e-06 - mse: 6.8724e-10 - val_loss: 2.6876 - val_mse: 0.2417\n",
            "Epoch 91/500\n",
            "132/132 [==============================] - 0s 2ms/step - loss: 9.2296e-06 - mse: 5.9061e-10 - val_loss: 2.7013 - val_mse: 0.2402\n",
            "Epoch 92/500\n",
            "132/132 [==============================] - 0s 3ms/step - loss: 8.4653e-06 - mse: 4.8012e-10 - val_loss: 2.7284 - val_mse: 0.2407\n",
            "Epoch 93/500\n",
            "132/132 [==============================] - 0s 3ms/step - loss: 7.7961e-06 - mse: 3.9482e-10 - val_loss: 2.7459 - val_mse: 0.2407\n",
            "Epoch 94/500\n",
            "132/132 [==============================] - 0s 3ms/step - loss: 7.1729e-06 - mse: 3.2973e-10 - val_loss: 2.7749 - val_mse: 0.2414\n",
            "Epoch 95/500\n",
            "132/132 [==============================] - 0s 2ms/step - loss: 6.7097e-06 - mse: 3.0006e-10 - val_loss: 2.7665 - val_mse: 0.2401\n",
            "Epoch 96/500\n",
            "132/132 [==============================] - 0s 2ms/step - loss: 6.3272e-06 - mse: 2.7661e-10 - val_loss: 2.8077 - val_mse: 0.2417\n",
            "Epoch 97/500\n",
            "132/132 [==============================] - 0s 2ms/step - loss: 5.6921e-06 - mse: 2.0604e-10 - val_loss: 2.8229 - val_mse: 0.2415\n",
            "Epoch 98/500\n",
            "132/132 [==============================] - 0s 3ms/step - loss: 5.3339e-06 - mse: 1.9955e-10 - val_loss: 2.8395 - val_mse: 0.2417\n",
            "Epoch 99/500\n",
            "132/132 [==============================] - 0s 2ms/step - loss: 4.9005e-06 - mse: 1.5829e-10 - val_loss: 2.8631 - val_mse: 0.2418\n",
            "Epoch 100/500\n",
            "132/132 [==============================] - 0s 3ms/step - loss: 4.5334e-06 - mse: 1.3326e-10 - val_loss: 2.8801 - val_mse: 0.2421\n",
            "Epoch 101/500\n",
            "132/132 [==============================] - 0s 2ms/step - loss: 4.2176e-06 - mse: 1.2330e-10 - val_loss: 2.8886 - val_mse: 0.2414\n",
            "Epoch 102/500\n",
            "132/132 [==============================] - 0s 2ms/step - loss: 3.8563e-06 - mse: 9.7486e-11 - val_loss: 2.9066 - val_mse: 0.2409\n",
            "Epoch 103/500\n",
            "132/132 [==============================] - 0s 2ms/step - loss: 3.5791e-06 - mse: 8.1397e-11 - val_loss: 2.9393 - val_mse: 0.2429\n",
            "Epoch 104/500\n",
            "132/132 [==============================] - 0s 3ms/step - loss: 3.3488e-06 - mse: 8.0228e-11 - val_loss: 2.9445 - val_mse: 0.2422\n",
            "Epoch 105/500\n",
            "132/132 [==============================] - 0s 3ms/step - loss: 3.1316e-06 - mse: 6.4842e-11 - val_loss: 2.9713 - val_mse: 0.2430\n",
            "Epoch 106/500\n",
            "132/132 [==============================] - 0s 2ms/step - loss: 3.0592e-06 - mse: 7.3830e-11 - val_loss: 2.9947 - val_mse: 0.2434\n",
            "Epoch 107/500\n",
            "132/132 [==============================] - 0s 3ms/step - loss: 2.6706e-06 - mse: 4.8992e-11 - val_loss: 3.0048 - val_mse: 0.2428\n",
            "Epoch 108/500\n",
            "132/132 [==============================] - 0s 2ms/step - loss: 2.4017e-06 - mse: 3.4937e-11 - val_loss: 3.0289 - val_mse: 0.2433\n",
            "Epoch 109/500\n",
            "132/132 [==============================] - 0s 3ms/step - loss: 2.3392e-06 - mse: 4.0012e-11 - val_loss: 3.0538 - val_mse: 0.2441\n",
            "Epoch 110/500\n",
            "132/132 [==============================] - 0s 3ms/step - loss: 2.1012e-06 - mse: 2.8272e-11 - val_loss: 3.0593 - val_mse: 0.2433\n",
            "Epoch 111/500\n",
            "132/132 [==============================] - 0s 3ms/step - loss: 1.9402e-06 - mse: 2.4772e-11 - val_loss: 3.0673 - val_mse: 0.2418\n",
            "Epoch 112/500\n",
            "132/132 [==============================] - 0s 3ms/step - loss: 1.9385e-06 - mse: 3.3540e-11 - val_loss: 3.1010 - val_mse: 0.2428\n",
            "Epoch 113/500\n",
            "132/132 [==============================] - 0s 3ms/step - loss: 1.6512e-06 - mse: 1.7860e-11 - val_loss: 3.1242 - val_mse: 0.2448\n",
            "Epoch 114/500\n",
            "132/132 [==============================] - 0s 3ms/step - loss: 1.5605e-06 - mse: 1.5326e-11 - val_loss: 3.1407 - val_mse: 0.2434\n",
            "Epoch 115/500\n",
            "132/132 [==============================] - 0s 3ms/step - loss: 1.4349e-06 - mse: 1.3521e-11 - val_loss: 3.1480 - val_mse: 0.2442\n",
            "Epoch 116/500\n",
            "132/132 [==============================] - 0s 2ms/step - loss: 1.3497e-06 - mse: 1.2701e-11 - val_loss: 3.1765 - val_mse: 0.2429\n",
            "Epoch 117/500\n",
            "132/132 [==============================] - 0s 3ms/step - loss: 1.2309e-06 - mse: 9.8265e-12 - val_loss: 3.1993 - val_mse: 0.2451\n",
            "Epoch 118/500\n",
            "132/132 [==============================] - 0s 3ms/step - loss: 1.1421e-06 - mse: 8.8449e-12 - val_loss: 3.2161 - val_mse: 0.2444\n",
            "Epoch 119/500\n",
            "132/132 [==============================] - 0s 3ms/step - loss: 1.0681e-06 - mse: 7.5111e-12 - val_loss: 3.2394 - val_mse: 0.2455\n",
            "Epoch 120/500\n",
            "132/132 [==============================] - 0s 2ms/step - loss: 9.9475e-07 - mse: 6.9239e-12 - val_loss: 3.2509 - val_mse: 0.2450\n",
            "Epoch 121/500\n",
            "132/132 [==============================] - 0s 3ms/step - loss: 9.3023e-07 - mse: 5.8594e-12 - val_loss: 3.2712 - val_mse: 0.2449\n",
            "Epoch 122/500\n",
            "132/132 [==============================] - 0s 3ms/step - loss: 8.3956e-07 - mse: 4.4035e-12 - val_loss: 3.2834 - val_mse: 0.2449\n",
            "Epoch 123/500\n",
            "132/132 [==============================] - 0s 3ms/step - loss: 7.6854e-07 - mse: 3.5889e-12 - val_loss: 3.3054 - val_mse: 0.2447\n",
            "Epoch 124/500\n",
            "132/132 [==============================] - 0s 3ms/step - loss: 7.1762e-07 - mse: 3.2884e-12 - val_loss: 3.3209 - val_mse: 0.2451\n",
            "Epoch 125/500\n",
            "132/132 [==============================] - 0s 2ms/step - loss: 6.6301e-07 - mse: 2.7034e-12 - val_loss: 3.3356 - val_mse: 0.2438\n",
            "Epoch 126/500\n",
            "132/132 [==============================] - 0s 3ms/step - loss: 6.3601e-07 - mse: 2.6826e-12 - val_loss: 3.3436 - val_mse: 0.2444\n",
            "Epoch 127/500\n",
            "132/132 [==============================] - 0s 2ms/step - loss: 5.8105e-07 - mse: 2.2669e-12 - val_loss: 3.3720 - val_mse: 0.2454\n",
            "Epoch 128/500\n",
            "132/132 [==============================] - 0s 3ms/step - loss: 5.4402e-07 - mse: 1.9318e-12 - val_loss: 3.4068 - val_mse: 0.2461\n",
            "Epoch 129/500\n",
            "132/132 [==============================] - 0s 3ms/step - loss: 4.9885e-07 - mse: 1.6143e-12 - val_loss: 3.4320 - val_mse: 0.2465\n",
            "Epoch 130/500\n",
            "132/132 [==============================] - 0s 3ms/step - loss: 4.6037e-07 - mse: 1.3127e-12 - val_loss: 3.4256 - val_mse: 0.2448\n",
            "Epoch 131/500\n",
            "132/132 [==============================] - 0s 3ms/step - loss: 4.3658e-07 - mse: 1.3153e-12 - val_loss: 3.4433 - val_mse: 0.2454\n",
            "Epoch 132/500\n",
            "132/132 [==============================] - 0s 3ms/step - loss: 3.9340e-07 - mse: 9.5124e-13 - val_loss: 3.4623 - val_mse: 0.2444\n",
            "Epoch 133/500\n",
            "132/132 [==============================] - 0s 2ms/step - loss: 3.6579e-07 - mse: 7.8058e-13 - val_loss: 3.4906 - val_mse: 0.2451\n",
            "Epoch 134/500\n",
            "132/132 [==============================] - 0s 3ms/step - loss: 3.4516e-07 - mse: 8.1306e-13 - val_loss: 3.5002 - val_mse: 0.2453\n",
            "Epoch 135/500\n",
            "132/132 [==============================] - 0s 3ms/step - loss: 3.2942e-07 - mse: 7.5053e-13 - val_loss: 3.5174 - val_mse: 0.2438\n",
            "Epoch 136/500\n",
            "132/132 [==============================] - 0s 2ms/step - loss: 3.1186e-07 - mse: 8.2908e-13 - val_loss: 3.5417 - val_mse: 0.2454\n",
            "Epoch 137/500\n",
            "132/132 [==============================] - 0s 3ms/step - loss: 2.8430e-07 - mse: 5.8306e-13 - val_loss: 3.5736 - val_mse: 0.2457\n",
            "Epoch 138/500\n",
            "132/132 [==============================] - 0s 3ms/step - loss: 2.5087e-07 - mse: 4.1706e-13 - val_loss: 3.5757 - val_mse: 0.2455\n",
            "Epoch 139/500\n",
            "132/132 [==============================] - 0s 2ms/step - loss: 2.3411e-07 - mse: 3.4358e-13 - val_loss: 3.5978 - val_mse: 0.2454\n",
            "Epoch 140/500\n",
            "132/132 [==============================] - 0s 3ms/step - loss: 2.1876e-07 - mse: 2.9422e-13 - val_loss: 3.6136 - val_mse: 0.2460\n",
            "Epoch 141/500\n",
            "132/132 [==============================] - 0s 2ms/step - loss: 2.0291e-07 - mse: 2.5427e-13 - val_loss: 3.6321 - val_mse: 0.2453\n",
            "Epoch 142/500\n",
            "132/132 [==============================] - 0s 2ms/step - loss: 1.8870e-07 - mse: 2.1435e-13 - val_loss: 3.6516 - val_mse: 0.2458\n",
            "Epoch 143/500\n",
            "132/132 [==============================] - 0s 3ms/step - loss: 1.7552e-07 - mse: 2.0390e-13 - val_loss: 3.6731 - val_mse: 0.2455\n",
            "Epoch 144/500\n",
            "132/132 [==============================] - 0s 2ms/step - loss: 1.6503e-07 - mse: 1.7361e-13 - val_loss: 3.6903 - val_mse: 0.2463\n",
            "Epoch 145/500\n",
            "132/132 [==============================] - 0s 3ms/step - loss: 1.5188e-07 - mse: 1.4495e-13 - val_loss: 3.7009 - val_mse: 0.2459\n",
            "Epoch 146/500\n",
            "132/132 [==============================] - 0s 3ms/step - loss: 1.4236e-07 - mse: 1.3680e-13 - val_loss: 3.7214 - val_mse: 0.2460\n",
            "Epoch 147/500\n",
            "132/132 [==============================] - 0s 2ms/step - loss: 1.3127e-07 - mse: 1.0711e-13 - val_loss: 3.7334 - val_mse: 0.2456\n",
            "Epoch 148/500\n",
            "132/132 [==============================] - 0s 2ms/step - loss: 1.2543e-07 - mse: 1.1443e-13 - val_loss: 3.7659 - val_mse: 0.2461\n",
            "Epoch 149/500\n",
            "132/132 [==============================] - 0s 3ms/step - loss: 1.1537e-07 - mse: 8.5447e-14 - val_loss: 3.7738 - val_mse: 0.2459\n",
            "Epoch 150/500\n",
            "132/132 [==============================] - 0s 2ms/step - loss: 1.0871e-07 - mse: 7.8670e-14 - val_loss: 3.7961 - val_mse: 0.2455\n",
            "Epoch 151/500\n",
            "132/132 [==============================] - 0s 2ms/step - loss: 1.0692e-07 - mse: 1.0343e-13 - val_loss: 3.8068 - val_mse: 0.2455\n",
            "Epoch 152/500\n",
            "132/132 [==============================] - 0s 3ms/step - loss: 9.1987e-08 - mse: 5.2361e-14 - val_loss: 3.8236 - val_mse: 0.2461\n",
            "Epoch 153/500\n",
            "132/132 [==============================] - 0s 2ms/step - loss: 8.5083e-08 - mse: 4.4387e-14 - val_loss: 3.8368 - val_mse: 0.2457\n",
            "Epoch 154/500\n",
            "132/132 [==============================] - 0s 3ms/step - loss: 8.1566e-08 - mse: 4.0740e-14 - val_loss: 3.8658 - val_mse: 0.2467\n",
            "Epoch 155/500\n",
            "132/132 [==============================] - 0s 3ms/step - loss: 7.7143e-08 - mse: 4.4077e-14 - val_loss: 3.8783 - val_mse: 0.2470\n",
            "Epoch 156/500\n",
            "132/132 [==============================] - 0s 3ms/step - loss: 7.1139e-08 - mse: 3.2822e-14 - val_loss: 3.8903 - val_mse: 0.2470\n",
            "Epoch 157/500\n",
            "132/132 [==============================] - 0s 3ms/step - loss: 6.5177e-08 - mse: 2.5622e-14 - val_loss: 3.9000 - val_mse: 0.2461\n",
            "Epoch 158/500\n",
            "132/132 [==============================] - 0s 3ms/step - loss: 5.9505e-08 - mse: 2.0545e-14 - val_loss: 3.9260 - val_mse: 0.2467\n",
            "Epoch 159/500\n",
            "132/132 [==============================] - 0s 3ms/step - loss: 5.6040e-08 - mse: 1.8815e-14 - val_loss: 3.9427 - val_mse: 0.2468\n",
            "Epoch 160/500\n",
            "132/132 [==============================] - 0s 3ms/step - loss: 5.2691e-08 - mse: 1.6491e-14 - val_loss: 3.9623 - val_mse: 0.2471\n",
            "Epoch 161/500\n",
            "132/132 [==============================] - 0s 3ms/step - loss: 4.9496e-08 - mse: 1.5252e-14 - val_loss: 3.9757 - val_mse: 0.2467\n",
            "Epoch 162/500\n",
            "132/132 [==============================] - 0s 2ms/step - loss: 4.6127e-08 - mse: 1.2729e-14 - val_loss: 3.9906 - val_mse: 0.2465\n",
            "Epoch 163/500\n",
            "132/132 [==============================] - 0s 3ms/step - loss: 4.3801e-08 - mse: 1.1474e-14 - val_loss: 4.0105 - val_mse: 0.2460\n",
            "Epoch 164/500\n",
            "132/132 [==============================] - 0s 3ms/step - loss: 4.0658e-08 - mse: 1.0486e-14 - val_loss: 4.0271 - val_mse: 0.2460\n",
            "Epoch 165/500\n",
            "132/132 [==============================] - 0s 3ms/step - loss: 3.7592e-08 - mse: 8.2184e-15 - val_loss: 4.0406 - val_mse: 0.2468\n",
            "Epoch 166/500\n",
            "132/132 [==============================] - 0s 3ms/step - loss: 3.5055e-08 - mse: 7.0919e-15 - val_loss: 4.0548 - val_mse: 0.2461\n",
            "Epoch 167/500\n",
            "132/132 [==============================] - 0s 3ms/step - loss: 3.2806e-08 - mse: 5.6521e-15 - val_loss: 4.0746 - val_mse: 0.2468\n",
            "Epoch 168/500\n",
            "132/132 [==============================] - 0s 2ms/step - loss: 3.0863e-08 - mse: 5.1716e-15 - val_loss: 4.0911 - val_mse: 0.2475\n",
            "Epoch 169/500\n",
            "132/132 [==============================] - 0s 3ms/step - loss: 2.9191e-08 - mse: 4.7896e-15 - val_loss: 4.1066 - val_mse: 0.2471\n",
            "Epoch 170/500\n",
            "132/132 [==============================] - 0s 3ms/step - loss: 2.7020e-08 - mse: 3.8525e-15 - val_loss: 4.1176 - val_mse: 0.2482\n",
            "Epoch 171/500\n",
            "132/132 [==============================] - 0s 2ms/step - loss: 2.6068e-08 - mse: 4.2474e-15 - val_loss: 4.1368 - val_mse: 0.2471\n",
            "Epoch 172/500\n",
            "132/132 [==============================] - 0s 3ms/step - loss: 2.3617e-08 - mse: 2.7211e-15 - val_loss: 4.1452 - val_mse: 0.2473\n",
            "Epoch 173/500\n",
            "132/132 [==============================] - 0s 3ms/step - loss: 2.2236e-08 - mse: 2.2915e-15 - val_loss: 4.1625 - val_mse: 0.2471\n",
            "Epoch 174/500\n",
            "132/132 [==============================] - 0s 3ms/step - loss: 2.1134e-08 - mse: 2.1493e-15 - val_loss: 4.1743 - val_mse: 0.2470\n",
            "Epoch 175/500\n",
            "132/132 [==============================] - 0s 3ms/step - loss: 2.0225e-08 - mse: 2.0750e-15 - val_loss: 4.1939 - val_mse: 0.2477\n",
            "Epoch 176/500\n",
            "132/132 [==============================] - 0s 3ms/step - loss: 1.8622e-08 - mse: 1.4879e-15 - val_loss: 4.2031 - val_mse: 0.2476\n",
            "Epoch 177/500\n",
            "132/132 [==============================] - 0s 3ms/step - loss: 1.7456e-08 - mse: 1.3081e-15 - val_loss: 4.2251 - val_mse: 0.2483\n",
            "Epoch 178/500\n",
            "132/132 [==============================] - 0s 3ms/step - loss: 1.6438e-08 - mse: 1.0778e-15 - val_loss: 4.2358 - val_mse: 0.2480\n",
            "Epoch 179/500\n",
            "132/132 [==============================] - 0s 3ms/step - loss: 1.5346e-08 - mse: 8.9810e-16 - val_loss: 4.2453 - val_mse: 0.2478\n",
            "Epoch 180/500\n",
            "132/132 [==============================] - 0s 3ms/step - loss: 1.4608e-08 - mse: 8.1988e-16 - val_loss: 4.2662 - val_mse: 0.2483\n",
            "Epoch 181/500\n",
            "132/132 [==============================] - 0s 3ms/step - loss: 1.3850e-08 - mse: 7.1035e-16 - val_loss: 4.2846 - val_mse: 0.2482\n",
            "Epoch 182/500\n",
            "132/132 [==============================] - 0s 2ms/step - loss: 1.2953e-08 - mse: 5.9058e-16 - val_loss: 4.2960 - val_mse: 0.2484\n",
            "Epoch 183/500\n",
            "132/132 [==============================] - 0s 3ms/step - loss: 1.2428e-08 - mse: 5.6572e-16 - val_loss: 4.3113 - val_mse: 0.2489\n",
            "Epoch 184/500\n",
            "132/132 [==============================] - 0s 3ms/step - loss: 1.1593e-08 - mse: 4.7499e-16 - val_loss: 4.3213 - val_mse: 0.2488\n",
            "Epoch 185/500\n",
            "132/132 [==============================] - 0s 3ms/step - loss: 1.0956e-08 - mse: 3.7250e-16 - val_loss: 4.3367 - val_mse: 0.2494\n",
            "Epoch 186/500\n",
            "132/132 [==============================] - 0s 3ms/step - loss: 1.0529e-08 - mse: 3.4196e-16 - val_loss: 4.3464 - val_mse: 0.2491\n",
            "Epoch 187/500\n",
            "132/132 [==============================] - 0s 3ms/step - loss: 9.9545e-09 - mse: 2.9072e-16 - val_loss: 4.3622 - val_mse: 0.2491\n",
            "Epoch 188/500\n",
            "132/132 [==============================] - 0s 3ms/step - loss: 9.4523e-09 - mse: 2.5745e-16 - val_loss: 4.3683 - val_mse: 0.2494\n",
            "Epoch 189/500\n",
            "132/132 [==============================] - 0s 3ms/step - loss: 9.0461e-09 - mse: 2.2392e-16 - val_loss: 4.3761 - val_mse: 0.2496\n",
            "Epoch 190/500\n",
            "132/132 [==============================] - 0s 3ms/step - loss: 8.5392e-09 - mse: 1.6880e-16 - val_loss: 4.3927 - val_mse: 0.2494\n",
            "Epoch 191/500\n",
            "132/132 [==============================] - 0s 3ms/step - loss: 8.1269e-09 - mse: 1.6657e-16 - val_loss: 4.4057 - val_mse: 0.2491\n",
            "Epoch 192/500\n",
            "132/132 [==============================] - 0s 3ms/step - loss: 7.8481e-09 - mse: 1.1699e-16 - val_loss: 4.4159 - val_mse: 0.2507\n",
            "Epoch 193/500\n",
            "132/132 [==============================] - 0s 3ms/step - loss: 7.5518e-09 - mse: 1.2876e-16 - val_loss: 4.4282 - val_mse: 0.2505\n",
            "Epoch 194/500\n",
            "132/132 [==============================] - 0s 3ms/step - loss: 7.2742e-09 - mse: 1.0581e-16 - val_loss: 4.4382 - val_mse: 0.2499\n",
            "Epoch 195/500\n",
            "132/132 [==============================] - 0s 3ms/step - loss: 6.8599e-09 - mse: 8.4497e-17 - val_loss: 4.4544 - val_mse: 0.2509\n",
            "Epoch 196/500\n",
            "132/132 [==============================] - 0s 3ms/step - loss: 6.6604e-09 - mse: 8.0923e-17 - val_loss: 4.4631 - val_mse: 0.2504\n",
            "Epoch 197/500\n",
            "132/132 [==============================] - 0s 3ms/step - loss: 6.4556e-09 - mse: 7.7903e-17 - val_loss: 4.4689 - val_mse: 0.2508\n",
            "Epoch 198/500\n",
            "132/132 [==============================] - 0s 3ms/step - loss: 6.2971e-09 - mse: 7.4170e-17 - val_loss: 4.4816 - val_mse: 0.2506\n",
            "Epoch 199/500\n",
            "132/132 [==============================] - 0s 3ms/step - loss: 5.9705e-09 - mse: 5.6532e-17 - val_loss: 4.4893 - val_mse: 0.2513\n",
            "Epoch 200/500\n",
            "132/132 [==============================] - 0s 3ms/step - loss: 5.8201e-09 - mse: 4.8339e-17 - val_loss: 4.5060 - val_mse: 0.2523\n",
            "Epoch 201/500\n",
            "132/132 [==============================] - 0s 3ms/step - loss: 5.6422e-09 - mse: 3.7450e-17 - val_loss: 4.5117 - val_mse: 0.2518\n",
            "Epoch 202/500\n",
            "132/132 [==============================] - 0s 3ms/step - loss: 5.5128e-09 - mse: 4.3320e-17 - val_loss: 4.5160 - val_mse: 0.2517\n",
            "Epoch 203/500\n",
            "132/132 [==============================] - 0s 3ms/step - loss: 5.3612e-09 - mse: 3.4923e-17 - val_loss: 4.5220 - val_mse: 0.2521\n",
            "Epoch 204/500\n",
            "132/132 [==============================] - 0s 3ms/step - loss: 5.1813e-09 - mse: 3.0585e-17 - val_loss: 4.5392 - val_mse: 0.2528\n",
            "Epoch 205/500\n",
            "132/132 [==============================] - 0s 3ms/step - loss: 5.0721e-09 - mse: 2.5896e-17 - val_loss: 4.5511 - val_mse: 0.2522\n",
            "Epoch 206/500\n",
            "132/132 [==============================] - 0s 3ms/step - loss: 4.9751e-09 - mse: 2.3221e-17 - val_loss: 4.5523 - val_mse: 0.2530\n",
            "Epoch 207/500\n",
            "132/132 [==============================] - 0s 3ms/step - loss: 4.8785e-09 - mse: 2.1099e-17 - val_loss: 4.5541 - val_mse: 0.2528\n",
            "Epoch 208/500\n",
            "132/132 [==============================] - 0s 3ms/step - loss: 4.7549e-09 - mse: 1.9286e-17 - val_loss: 4.5677 - val_mse: 0.2526\n",
            "Epoch 209/500\n",
            "132/132 [==============================] - 0s 3ms/step - loss: 4.6604e-09 - mse: 1.7717e-17 - val_loss: 4.5748 - val_mse: 0.2530\n",
            "Epoch 210/500\n",
            "132/132 [==============================] - 0s 3ms/step - loss: 4.5961e-09 - mse: 1.4744e-17 - val_loss: 4.5854 - val_mse: 0.2532\n",
            "Epoch 211/500\n",
            "132/132 [==============================] - 0s 3ms/step - loss: 4.4785e-09 - mse: 1.2794e-17 - val_loss: 4.5974 - val_mse: 0.2542\n",
            "Epoch 212/500\n",
            "132/132 [==============================] - 0s 3ms/step - loss: 4.4132e-09 - mse: 1.2205e-17 - val_loss: 4.5974 - val_mse: 0.2535\n",
            "Epoch 213/500\n",
            "132/132 [==============================] - 0s 3ms/step - loss: 4.3259e-09 - mse: 1.0435e-17 - val_loss: 4.6095 - val_mse: 0.2546\n",
            "Epoch 214/500\n",
            "132/132 [==============================] - 0s 3ms/step - loss: 4.2975e-09 - mse: 1.0370e-17 - val_loss: 4.6234 - val_mse: 0.2547\n",
            "Epoch 215/500\n",
            "132/132 [==============================] - 0s 3ms/step - loss: 4.2444e-09 - mse: 8.8826e-18 - val_loss: 4.6272 - val_mse: 0.2542\n",
            "Epoch 216/500\n",
            "132/132 [==============================] - 0s 3ms/step - loss: 4.1993e-09 - mse: 8.6467e-18 - val_loss: 4.6275 - val_mse: 0.2545\n",
            "Epoch 217/500\n",
            "132/132 [==============================] - 0s 3ms/step - loss: 4.0905e-09 - mse: 7.6320e-18 - val_loss: 4.6399 - val_mse: 0.2548\n",
            "Epoch 218/500\n",
            "132/132 [==============================] - 0s 3ms/step - loss: 4.1136e-09 - mse: 6.3004e-18 - val_loss: 4.6458 - val_mse: 0.2551\n",
            "Epoch 219/500\n",
            "132/132 [==============================] - 0s 3ms/step - loss: 4.0737e-09 - mse: 6.5229e-18 - val_loss: 4.6583 - val_mse: 0.2559\n",
            "Epoch 220/500\n",
            "132/132 [==============================] - 0s 3ms/step - loss: 4.0283e-09 - mse: 6.3578e-18 - val_loss: 4.6550 - val_mse: 0.2545\n",
            "Epoch 221/500\n",
            "132/132 [==============================] - 0s 3ms/step - loss: 3.9810e-09 - mse: 5.5150e-18 - val_loss: 4.6672 - val_mse: 0.2556\n",
            "Epoch 222/500\n",
            "132/132 [==============================] - 0s 3ms/step - loss: 3.8669e-09 - mse: 5.3439e-18 - val_loss: 4.6657 - val_mse: 0.2549\n",
            "Epoch 223/500\n",
            "132/132 [==============================] - 0s 3ms/step - loss: 3.8020e-09 - mse: 4.7014e-18 - val_loss: 4.6709 - val_mse: 0.2550\n",
            "Epoch 224/500\n",
            "132/132 [==============================] - 0s 3ms/step - loss: 3.7848e-09 - mse: 4.1535e-18 - val_loss: 4.6754 - val_mse: 0.2561\n",
            "Epoch 225/500\n",
            "132/132 [==============================] - 0s 3ms/step - loss: 3.7989e-09 - mse: 3.7066e-18 - val_loss: 4.6858 - val_mse: 0.2555\n",
            "Epoch 226/500\n",
            "132/132 [==============================] - 0s 3ms/step - loss: 3.7345e-09 - mse: 3.8141e-18 - val_loss: 4.6825 - val_mse: 0.2559\n",
            "Epoch 227/500\n",
            "132/132 [==============================] - 0s 3ms/step - loss: 3.7106e-09 - mse: 3.4140e-18 - val_loss: 4.6936 - val_mse: 0.2563\n",
            "Epoch 228/500\n",
            "132/132 [==============================] - 0s 3ms/step - loss: 3.6944e-09 - mse: 3.1428e-18 - val_loss: 4.7009 - val_mse: 0.2557\n",
            "Epoch 229/500\n",
            "132/132 [==============================] - 0s 3ms/step - loss: 3.6476e-09 - mse: 3.2294e-18 - val_loss: 4.7109 - val_mse: 0.2567\n",
            "Epoch 230/500\n",
            "132/132 [==============================] - 0s 3ms/step - loss: 3.7286e-09 - mse: 2.5097e-18 - val_loss: 4.7124 - val_mse: 0.2565\n",
            "Epoch 231/500\n",
            "132/132 [==============================] - 0s 3ms/step - loss: 3.6296e-09 - mse: 2.5402e-18 - val_loss: 4.7087 - val_mse: 0.2559\n",
            "Epoch 232/500\n",
            "132/132 [==============================] - 0s 3ms/step - loss: 3.5855e-09 - mse: 2.3669e-18 - val_loss: 4.7251 - val_mse: 0.2569\n",
            "Epoch 233/500\n",
            "132/132 [==============================] - 0s 3ms/step - loss: 3.6281e-09 - mse: 2.1462e-18 - val_loss: 4.7304 - val_mse: 0.2572\n",
            "Epoch 234/500\n",
            "132/132 [==============================] - 0s 3ms/step - loss: 3.5661e-09 - mse: 2.1235e-18 - val_loss: 4.7279 - val_mse: 0.2564\n",
            "Epoch 235/500\n",
            "132/132 [==============================] - 0s 3ms/step - loss: 3.5766e-09 - mse: 1.9943e-18 - val_loss: 4.7350 - val_mse: 0.2565\n",
            "Epoch 236/500\n",
            "132/132 [==============================] - 0s 3ms/step - loss: 3.5115e-09 - mse: 1.8603e-18 - val_loss: 4.7381 - val_mse: 0.2570\n",
            "Epoch 237/500\n",
            "132/132 [==============================] - 0s 3ms/step - loss: 3.4840e-09 - mse: 1.7264e-18 - val_loss: 4.7446 - val_mse: 0.2569\n",
            "Epoch 238/500\n",
            "132/132 [==============================] - 0s 3ms/step - loss: 3.4869e-09 - mse: 1.7034e-18 - val_loss: 4.7481 - val_mse: 0.2569\n",
            "Epoch 239/500\n",
            "132/132 [==============================] - 0s 3ms/step - loss: 3.5417e-09 - mse: 1.3553e-18 - val_loss: 4.7534 - val_mse: 0.2575\n",
            "Epoch 240/500\n",
            "132/132 [==============================] - 0s 3ms/step - loss: 3.4358e-09 - mse: 1.5664e-18 - val_loss: 4.7638 - val_mse: 0.2577\n",
            "Epoch 241/500\n",
            "132/132 [==============================] - 0s 3ms/step - loss: 3.4267e-09 - mse: 1.3436e-18 - val_loss: 4.7642 - val_mse: 0.2577\n",
            "Epoch 242/500\n",
            "132/132 [==============================] - 0s 3ms/step - loss: 3.4460e-09 - mse: 1.2990e-18 - val_loss: 4.7555 - val_mse: 0.2570\n",
            "Epoch 243/500\n",
            "132/132 [==============================] - 0s 3ms/step - loss: 3.3325e-09 - mse: 1.4042e-18 - val_loss: 4.7662 - val_mse: 0.2572\n",
            "Epoch 244/500\n",
            "132/132 [==============================] - 0s 3ms/step - loss: 3.4523e-09 - mse: 1.1186e-18 - val_loss: 4.7685 - val_mse: 0.2573\n",
            "Epoch 245/500\n",
            "132/132 [==============================] - 0s 3ms/step - loss: 3.4207e-09 - mse: 1.0731e-18 - val_loss: 4.7723 - val_mse: 0.2576\n",
            "Epoch 246/500\n",
            "132/132 [==============================] - 0s 3ms/step - loss: 3.4392e-09 - mse: 1.0103e-18 - val_loss: 4.7799 - val_mse: 0.2580\n",
            "Epoch 247/500\n",
            "132/132 [==============================] - 0s 3ms/step - loss: 3.4381e-09 - mse: 9.3455e-19 - val_loss: 4.7814 - val_mse: 0.2579\n",
            "Epoch 248/500\n",
            "132/132 [==============================] - 0s 3ms/step - loss: 3.3981e-09 - mse: 9.2085e-19 - val_loss: 4.7757 - val_mse: 0.2570\n",
            "Epoch 249/500\n",
            "132/132 [==============================] - 0s 3ms/step - loss: 3.2684e-09 - mse: 9.8121e-19 - val_loss: 4.7908 - val_mse: 0.2579\n",
            "Epoch 250/500\n",
            "132/132 [==============================] - 0s 3ms/step - loss: 3.3683e-09 - mse: 8.4673e-19 - val_loss: 4.7882 - val_mse: 0.2572\n",
            "Epoch 251/500\n",
            "132/132 [==============================] - 0s 3ms/step - loss: 3.1796e-09 - mse: 9.6016e-19 - val_loss: 4.7953 - val_mse: 0.2578\n",
            "Epoch 252/500\n",
            "132/132 [==============================] - 0s 3ms/step - loss: 3.2961e-09 - mse: 8.0310e-19 - val_loss: 4.7935 - val_mse: 0.2575\n",
            "Epoch 253/500\n",
            "132/132 [==============================] - 0s 3ms/step - loss: 3.3195e-09 - mse: 7.0319e-19 - val_loss: 4.8007 - val_mse: 0.2577\n",
            "Epoch 254/500\n",
            "132/132 [==============================] - 0s 3ms/step - loss: 3.3221e-09 - mse: 6.7471e-19 - val_loss: 4.8055 - val_mse: 0.2584\n",
            "Epoch 255/500\n",
            "132/132 [==============================] - 0s 3ms/step - loss: 3.3070e-09 - mse: 6.9451e-19 - val_loss: 4.8073 - val_mse: 0.2578\n",
            "Epoch 256/500\n",
            "132/132 [==============================] - 0s 3ms/step - loss: 3.3150e-09 - mse: 6.3678e-19 - val_loss: 4.8108 - val_mse: 0.2585\n",
            "Epoch 257/500\n",
            "132/132 [==============================] - 0s 3ms/step - loss: 3.2509e-09 - mse: 6.5554e-19 - val_loss: 4.8177 - val_mse: 0.2590\n",
            "Epoch 258/500\n",
            "132/132 [==============================] - 0s 3ms/step - loss: 3.2181e-09 - mse: 6.1121e-19 - val_loss: 4.8130 - val_mse: 0.2589\n",
            "Epoch 259/500\n",
            "132/132 [==============================] - 0s 3ms/step - loss: 3.3263e-09 - mse: 5.3086e-19 - val_loss: 4.8133 - val_mse: 0.2587\n",
            "Epoch 260/500\n",
            "132/132 [==============================] - 0s 3ms/step - loss: 3.2884e-09 - mse: 5.2208e-19 - val_loss: 4.8250 - val_mse: 0.2590\n",
            "Epoch 261/500\n",
            "132/132 [==============================] - 0s 3ms/step - loss: 3.2722e-09 - mse: 5.2586e-19 - val_loss: 4.8239 - val_mse: 0.2583\n",
            "Epoch 262/500\n",
            "132/132 [==============================] - 0s 3ms/step - loss: 3.2048e-09 - mse: 5.1253e-19 - val_loss: 4.8245 - val_mse: 0.2586\n",
            "Epoch 263/500\n",
            "132/132 [==============================] - 0s 3ms/step - loss: 3.3098e-09 - mse: 4.4926e-19 - val_loss: 4.8256 - val_mse: 0.2589\n",
            "Epoch 264/500\n",
            "132/132 [==============================] - 0s 3ms/step - loss: 3.3805e-09 - mse: 4.2563e-19 - val_loss: 4.8296 - val_mse: 0.2587\n",
            "Epoch 265/500\n",
            "132/132 [==============================] - 0s 3ms/step - loss: 3.2360e-09 - mse: 4.5025e-19 - val_loss: 4.8292 - val_mse: 0.2584\n",
            "Epoch 266/500\n",
            "132/132 [==============================] - 0s 3ms/step - loss: 3.2767e-09 - mse: 4.4711e-19 - val_loss: 4.8406 - val_mse: 0.2588\n",
            "Epoch 267/500\n",
            "132/132 [==============================] - 0s 3ms/step - loss: 3.2087e-09 - mse: 4.1888e-19 - val_loss: 4.8404 - val_mse: 0.2591\n",
            "Epoch 268/500\n",
            "132/132 [==============================] - 0s 3ms/step - loss: 3.1200e-09 - mse: 5.0195e-19 - val_loss: 4.8439 - val_mse: 0.2590\n",
            "Epoch 269/500\n",
            "132/132 [==============================] - 0s 3ms/step - loss: 3.2103e-09 - mse: 4.4329e-19 - val_loss: 4.8480 - val_mse: 0.2592\n",
            "Epoch 270/500\n",
            "132/132 [==============================] - 0s 3ms/step - loss: 3.1451e-09 - mse: 3.9798e-19 - val_loss: 4.8447 - val_mse: 0.2589\n",
            "Epoch 271/500\n",
            "132/132 [==============================] - 0s 3ms/step - loss: 3.2235e-09 - mse: 3.9148e-19 - val_loss: 4.8445 - val_mse: 0.2585\n",
            "Epoch 272/500\n",
            "132/132 [==============================] - 0s 3ms/step - loss: 3.1739e-09 - mse: 3.6425e-19 - val_loss: 4.8525 - val_mse: 0.2594\n",
            "Epoch 273/500\n",
            "132/132 [==============================] - 0s 3ms/step - loss: 3.1901e-09 - mse: 3.5260e-19 - val_loss: 4.8583 - val_mse: 0.2591\n",
            "Epoch 274/500\n",
            "132/132 [==============================] - 0s 3ms/step - loss: 3.1772e-09 - mse: 3.4352e-19 - val_loss: 4.8654 - val_mse: 0.2596\n",
            "Epoch 275/500\n",
            "132/132 [==============================] - 0s 3ms/step - loss: 3.2116e-09 - mse: 3.3250e-19 - val_loss: 4.8654 - val_mse: 0.2587\n",
            "Epoch 276/500\n",
            "132/132 [==============================] - 0s 3ms/step - loss: 3.2123e-09 - mse: 3.2111e-19 - val_loss: 4.8562 - val_mse: 0.2586\n",
            "Epoch 277/500\n",
            "132/132 [==============================] - 0s 3ms/step - loss: 3.2294e-09 - mse: 3.0522e-19 - val_loss: 4.8589 - val_mse: 0.2590\n",
            "Epoch 278/500\n",
            "132/132 [==============================] - 0s 3ms/step - loss: 3.2022e-09 - mse: 3.0714e-19 - val_loss: 4.8695 - val_mse: 0.2595\n",
            "Epoch 279/500\n",
            "132/132 [==============================] - 0s 3ms/step - loss: 3.1838e-09 - mse: 2.9598e-19 - val_loss: 4.8711 - val_mse: 0.2592\n",
            "Epoch 280/500\n",
            "132/132 [==============================] - 0s 3ms/step - loss: 3.2405e-09 - mse: 2.5693e-19 - val_loss: 4.8721 - val_mse: 0.2601\n",
            "Epoch 281/500\n",
            "132/132 [==============================] - 0s 3ms/step - loss: 3.1728e-09 - mse: 2.7841e-19 - val_loss: 4.8721 - val_mse: 0.2601\n",
            "Epoch 282/500\n",
            "132/132 [==============================] - 0s 3ms/step - loss: 3.1350e-09 - mse: 2.9489e-19 - val_loss: 4.8782 - val_mse: 0.2605\n",
            "Epoch 283/500\n",
            "132/132 [==============================] - 0s 3ms/step - loss: 3.2759e-09 - mse: 2.3650e-19 - val_loss: 4.8744 - val_mse: 0.2599\n",
            "Epoch 284/500\n",
            "132/132 [==============================] - 0s 3ms/step - loss: 3.1836e-09 - mse: 2.4978e-19 - val_loss: 4.8742 - val_mse: 0.2605\n",
            "Epoch 285/500\n",
            "132/132 [==============================] - 0s 3ms/step - loss: 3.1634e-09 - mse: 2.4568e-19 - val_loss: 4.8749 - val_mse: 0.2600\n",
            "Epoch 286/500\n",
            "132/132 [==============================] - 0s 3ms/step - loss: 3.0864e-09 - mse: 2.8595e-19 - val_loss: 4.8743 - val_mse: 0.2599\n",
            "Epoch 287/500\n",
            "132/132 [==============================] - 0s 3ms/step - loss: 3.0500e-09 - mse: 2.7593e-19 - val_loss: 4.8843 - val_mse: 0.2603\n",
            "Epoch 288/500\n",
            "132/132 [==============================] - 0s 3ms/step - loss: 3.2098e-09 - mse: 2.1913e-19 - val_loss: 4.8885 - val_mse: 0.2610\n",
            "Epoch 289/500\n",
            "132/132 [==============================] - 0s 3ms/step - loss: 3.1915e-09 - mse: 2.0868e-19 - val_loss: 4.8898 - val_mse: 0.2607\n",
            "Epoch 290/500\n",
            "132/132 [==============================] - 0s 3ms/step - loss: 3.1515e-09 - mse: 2.0933e-19 - val_loss: 4.8870 - val_mse: 0.2600\n",
            "Epoch 291/500\n",
            "132/132 [==============================] - 0s 3ms/step - loss: 3.1447e-09 - mse: 2.1615e-19 - val_loss: 4.8982 - val_mse: 0.2608\n",
            "Epoch 292/500\n",
            "132/132 [==============================] - 0s 3ms/step - loss: 3.1614e-09 - mse: 2.1734e-19 - val_loss: 4.8915 - val_mse: 0.2603\n",
            "Epoch 293/500\n",
            "132/132 [==============================] - 0s 3ms/step - loss: 3.2279e-09 - mse: 1.8934e-19 - val_loss: 4.9022 - val_mse: 0.2604\n",
            "Epoch 294/500\n",
            "132/132 [==============================] - 0s 3ms/step - loss: 3.0558e-09 - mse: 2.2946e-19 - val_loss: 4.8975 - val_mse: 0.2601\n",
            "Epoch 295/500\n",
            "132/132 [==============================] - 0s 3ms/step - loss: 3.1349e-09 - mse: 1.8980e-19 - val_loss: 4.9032 - val_mse: 0.2604\n",
            "Epoch 296/500\n",
            "132/132 [==============================] - 0s 3ms/step - loss: 3.2072e-09 - mse: 1.8285e-19 - val_loss: 4.8984 - val_mse: 0.2598\n",
            "Epoch 297/500\n",
            "132/132 [==============================] - 0s 3ms/step - loss: 3.0940e-09 - mse: 1.9673e-19 - val_loss: 4.9011 - val_mse: 0.2606\n",
            "Epoch 298/500\n",
            "132/132 [==============================] - 0s 3ms/step - loss: 3.0597e-09 - mse: 1.9220e-19 - val_loss: 4.9032 - val_mse: 0.2606\n",
            "Epoch 299/500\n",
            "132/132 [==============================] - 0s 3ms/step - loss: 3.2197e-09 - mse: 1.5015e-19 - val_loss: 4.9017 - val_mse: 0.2603\n",
            "Epoch 300/500\n",
            "132/132 [==============================] - 0s 3ms/step - loss: 3.0857e-09 - mse: 1.6753e-19 - val_loss: 4.9108 - val_mse: 0.2612\n",
            "Epoch 301/500\n",
            "132/132 [==============================] - 0s 3ms/step - loss: 3.1550e-09 - mse: 1.6183e-19 - val_loss: 4.9079 - val_mse: 0.2605\n",
            "Epoch 302/500\n",
            "132/132 [==============================] - 0s 3ms/step - loss: 3.1037e-09 - mse: 1.7038e-19 - val_loss: 4.9094 - val_mse: 0.2608\n",
            "Epoch 303/500\n",
            "132/132 [==============================] - 0s 3ms/step - loss: 3.1842e-09 - mse: 1.5306e-19 - val_loss: 4.9110 - val_mse: 0.2608\n",
            "Epoch 304/500\n",
            "132/132 [==============================] - 0s 3ms/step - loss: 2.9764e-09 - mse: 1.8289e-19 - val_loss: 4.9076 - val_mse: 0.2603\n",
            "Epoch 305/500\n",
            "132/132 [==============================] - 0s 3ms/step - loss: 3.0946e-09 - mse: 1.6499e-19 - val_loss: 4.9104 - val_mse: 0.2603\n",
            "Epoch 306/500\n",
            "132/132 [==============================] - 0s 3ms/step - loss: 3.0736e-09 - mse: 1.4922e-19 - val_loss: 4.9217 - val_mse: 0.2609\n",
            "Epoch 307/500\n",
            "132/132 [==============================] - 0s 3ms/step - loss: 3.1568e-09 - mse: 1.3984e-19 - val_loss: 4.9238 - val_mse: 0.2609\n",
            "Epoch 308/500\n",
            "132/132 [==============================] - 0s 3ms/step - loss: 3.1919e-09 - mse: 1.3427e-19 - val_loss: 4.9185 - val_mse: 0.2609\n",
            "Epoch 309/500\n",
            "132/132 [==============================] - 0s 3ms/step - loss: 3.1088e-09 - mse: 1.5801e-19 - val_loss: 4.9168 - val_mse: 0.2609\n",
            "Epoch 310/500\n",
            "132/132 [==============================] - 0s 3ms/step - loss: 3.0389e-09 - mse: 1.5522e-19 - val_loss: 4.9267 - val_mse: 0.2612\n",
            "Epoch 311/500\n",
            "132/132 [==============================] - 0s 3ms/step - loss: 3.1206e-09 - mse: 1.3250e-19 - val_loss: 4.9251 - val_mse: 0.2613\n",
            "Epoch 312/500\n",
            "132/132 [==============================] - 0s 3ms/step - loss: 3.0780e-09 - mse: 1.3125e-19 - val_loss: 4.9213 - val_mse: 0.2608\n",
            "Epoch 313/500\n",
            "132/132 [==============================] - 0s 3ms/step - loss: 3.1112e-09 - mse: 1.3032e-19 - val_loss: 4.9342 - val_mse: 0.2616\n",
            "Epoch 314/500\n",
            "132/132 [==============================] - 0s 3ms/step - loss: 3.1455e-09 - mse: 1.1833e-19 - val_loss: 4.9258 - val_mse: 0.2611\n",
            "Epoch 315/500\n",
            "132/132 [==============================] - 0s 3ms/step - loss: 2.7691e-09 - mse: 1.8628e-19 - val_loss: 4.9245 - val_mse: 0.2609\n",
            "Epoch 316/500\n",
            "132/132 [==============================] - 0s 3ms/step - loss: 3.0276e-09 - mse: 1.3798e-19 - val_loss: 4.9280 - val_mse: 0.2614\n",
            "Epoch 317/500\n",
            "132/132 [==============================] - 0s 3ms/step - loss: 3.0710e-09 - mse: 1.2786e-19 - val_loss: 4.9310 - val_mse: 0.2614\n",
            "Epoch 318/500\n",
            "132/132 [==============================] - 0s 3ms/step - loss: 3.1004e-09 - mse: 1.2011e-19 - val_loss: 4.9394 - val_mse: 0.2618\n",
            "Epoch 319/500\n",
            "132/132 [==============================] - 0s 3ms/step - loss: 3.0805e-09 - mse: 1.1638e-19 - val_loss: 4.9355 - val_mse: 0.2613\n",
            "Epoch 320/500\n",
            "132/132 [==============================] - 0s 3ms/step - loss: 3.0584e-09 - mse: 1.1625e-19 - val_loss: 4.9407 - val_mse: 0.2612\n",
            "Epoch 321/500\n",
            "132/132 [==============================] - 0s 3ms/step - loss: 3.1427e-09 - mse: 1.0423e-19 - val_loss: 4.9396 - val_mse: 0.2609\n",
            "Epoch 322/500\n",
            "132/132 [==============================] - 0s 3ms/step - loss: 3.0410e-09 - mse: 1.0939e-19 - val_loss: 4.9367 - val_mse: 0.2612\n",
            "Epoch 323/500\n",
            "132/132 [==============================] - 0s 3ms/step - loss: 3.0879e-09 - mse: 1.0419e-19 - val_loss: 4.9415 - val_mse: 0.2611\n",
            "Epoch 324/500\n",
            "132/132 [==============================] - 0s 3ms/step - loss: 3.0448e-09 - mse: 1.1039e-19 - val_loss: 4.9439 - val_mse: 0.2613\n",
            "Epoch 325/500\n",
            "132/132 [==============================] - 0s 3ms/step - loss: 3.1524e-09 - mse: 1.0195e-19 - val_loss: 4.9458 - val_mse: 0.2615\n",
            "Epoch 326/500\n",
            "132/132 [==============================] - 0s 3ms/step - loss: 3.0094e-09 - mse: 1.0889e-19 - val_loss: 4.9385 - val_mse: 0.2605\n",
            "Epoch 327/500\n",
            "132/132 [==============================] - 0s 3ms/step - loss: 3.0078e-09 - mse: 1.0117e-19 - val_loss: 4.9476 - val_mse: 0.2615\n",
            "Epoch 328/500\n",
            "132/132 [==============================] - 0s 3ms/step - loss: 3.0881e-09 - mse: 1.0068e-19 - val_loss: 4.9398 - val_mse: 0.2613\n",
            "Epoch 329/500\n",
            "132/132 [==============================] - 0s 3ms/step - loss: 2.9979e-09 - mse: 9.7579e-20 - val_loss: 4.9479 - val_mse: 0.2611\n",
            "Epoch 330/500\n",
            "132/132 [==============================] - 0s 3ms/step - loss: 3.1550e-09 - mse: 8.7249e-20 - val_loss: 4.9528 - val_mse: 0.2611\n",
            "Epoch 331/500\n",
            "132/132 [==============================] - 0s 3ms/step - loss: 3.0865e-09 - mse: 9.7311e-20 - val_loss: 4.9541 - val_mse: 0.2615\n",
            "Epoch 332/500\n",
            "132/132 [==============================] - 0s 3ms/step - loss: 3.1233e-09 - mse: 8.9536e-20 - val_loss: 4.9479 - val_mse: 0.2607\n",
            "Epoch 333/500\n",
            "132/132 [==============================] - 0s 3ms/step - loss: 2.9781e-09 - mse: 9.7029e-20 - val_loss: 4.9535 - val_mse: 0.2612\n",
            "Epoch 334/500\n",
            "132/132 [==============================] - 0s 3ms/step - loss: 3.1076e-09 - mse: 8.5422e-20 - val_loss: 4.9588 - val_mse: 0.2614\n",
            "Epoch 335/500\n",
            "132/132 [==============================] - 0s 3ms/step - loss: 3.1642e-09 - mse: 8.2284e-20 - val_loss: 4.9661 - val_mse: 0.2618\n",
            "Epoch 336/500\n",
            "132/132 [==============================] - 0s 3ms/step - loss: 3.0724e-09 - mse: 8.4750e-20 - val_loss: 4.9612 - val_mse: 0.2603\n",
            "Epoch 337/500\n",
            "132/132 [==============================] - 0s 3ms/step - loss: 3.0336e-09 - mse: 8.1621e-20 - val_loss: 4.9662 - val_mse: 0.2611\n",
            "Epoch 338/500\n",
            "132/132 [==============================] - 0s 3ms/step - loss: 3.0665e-09 - mse: 8.6421e-20 - val_loss: 4.9583 - val_mse: 0.2608\n",
            "Epoch 339/500\n",
            "132/132 [==============================] - 0s 3ms/step - loss: 3.0775e-09 - mse: 8.3791e-20 - val_loss: 4.9646 - val_mse: 0.2613\n",
            "Epoch 340/500\n",
            "132/132 [==============================] - 0s 3ms/step - loss: 3.0365e-09 - mse: 8.0592e-20 - val_loss: 4.9686 - val_mse: 0.2616\n",
            "Epoch 341/500\n",
            "132/132 [==============================] - 0s 3ms/step - loss: 3.0754e-09 - mse: 7.8485e-20 - val_loss: 4.9703 - val_mse: 0.2619\n",
            "Epoch 342/500\n",
            "132/132 [==============================] - 0s 3ms/step - loss: 3.0682e-09 - mse: 7.8060e-20 - val_loss: 4.9669 - val_mse: 0.2615\n",
            "Epoch 343/500\n",
            "132/132 [==============================] - 0s 3ms/step - loss: 3.0400e-09 - mse: 8.2510e-20 - val_loss: 4.9715 - val_mse: 0.2619\n",
            "Epoch 344/500\n",
            "132/132 [==============================] - 0s 3ms/step - loss: 2.8851e-09 - mse: 9.2506e-20 - val_loss: 4.9736 - val_mse: 0.2620\n",
            "Epoch 345/500\n",
            "132/132 [==============================] - 0s 3ms/step - loss: 2.9788e-09 - mse: 8.3934e-20 - val_loss: 4.9762 - val_mse: 0.2619\n",
            "Epoch 346/500\n",
            "132/132 [==============================] - 0s 3ms/step - loss: 3.0310e-09 - mse: 7.0268e-20 - val_loss: 4.9770 - val_mse: 0.2618\n",
            "Epoch 347/500\n",
            "132/132 [==============================] - 0s 3ms/step - loss: 3.0436e-09 - mse: 7.1191e-20 - val_loss: 4.9692 - val_mse: 0.2615\n",
            "Epoch 348/500\n",
            "132/132 [==============================] - 0s 3ms/step - loss: 2.9611e-09 - mse: 7.5065e-20 - val_loss: 4.9751 - val_mse: 0.2619\n",
            "Epoch 349/500\n",
            "132/132 [==============================] - 0s 3ms/step - loss: 3.0698e-09 - mse: 7.4054e-20 - val_loss: 4.9774 - val_mse: 0.2616\n",
            "Epoch 350/500\n",
            "132/132 [==============================] - 0s 3ms/step - loss: 3.0972e-09 - mse: 6.6075e-20 - val_loss: 4.9778 - val_mse: 0.2617\n",
            "Epoch 351/500\n",
            "132/132 [==============================] - 0s 3ms/step - loss: 3.0990e-09 - mse: 6.4397e-20 - val_loss: 4.9852 - val_mse: 0.2618\n",
            "Epoch 352/500\n",
            "132/132 [==============================] - 0s 3ms/step - loss: 3.0812e-09 - mse: 6.5901e-20 - val_loss: 4.9876 - val_mse: 0.2621\n",
            "Epoch 353/500\n",
            "132/132 [==============================] - 0s 3ms/step - loss: 3.0277e-09 - mse: 6.7038e-20 - val_loss: 4.9824 - val_mse: 0.2620\n",
            "Epoch 354/500\n",
            "132/132 [==============================] - 0s 3ms/step - loss: 2.8917e-09 - mse: 8.2982e-20 - val_loss: 4.9875 - val_mse: 0.2617\n",
            "Epoch 355/500\n",
            "132/132 [==============================] - 0s 3ms/step - loss: 3.0674e-09 - mse: 6.4144e-20 - val_loss: 4.9862 - val_mse: 0.2617\n",
            "Epoch 356/500\n",
            "132/132 [==============================] - 0s 3ms/step - loss: 2.9485e-09 - mse: 6.5904e-20 - val_loss: 4.9893 - val_mse: 0.2622\n",
            "Epoch 357/500\n",
            "132/132 [==============================] - 0s 3ms/step - loss: 3.0548e-09 - mse: 6.0425e-20 - val_loss: 4.9926 - val_mse: 0.2623\n",
            "Epoch 358/500\n",
            "132/132 [==============================] - 0s 3ms/step - loss: 2.9795e-09 - mse: 6.5169e-20 - val_loss: 4.9898 - val_mse: 0.2621\n",
            "Epoch 359/500\n",
            "132/132 [==============================] - 0s 3ms/step - loss: 3.0953e-09 - mse: 6.0356e-20 - val_loss: 4.9912 - val_mse: 0.2620\n",
            "Epoch 360/500\n",
            "132/132 [==============================] - 0s 3ms/step - loss: 2.9946e-09 - mse: 5.9212e-20 - val_loss: 4.9884 - val_mse: 0.2621\n",
            "Epoch 361/500\n",
            "132/132 [==============================] - 0s 3ms/step - loss: 3.0489e-09 - mse: 6.1500e-20 - val_loss: 4.9866 - val_mse: 0.2618\n",
            "Epoch 362/500\n",
            "132/132 [==============================] - 0s 3ms/step - loss: 3.0505e-09 - mse: 5.9935e-20 - val_loss: 4.9901 - val_mse: 0.2621\n",
            "Epoch 363/500\n",
            "132/132 [==============================] - 0s 3ms/step - loss: 2.9820e-09 - mse: 6.3780e-20 - val_loss: 4.9947 - val_mse: 0.2622\n",
            "Epoch 364/500\n",
            "132/132 [==============================] - 0s 3ms/step - loss: 3.0112e-09 - mse: 5.8634e-20 - val_loss: 4.9969 - val_mse: 0.2625\n",
            "Epoch 365/500\n",
            "132/132 [==============================] - 0s 3ms/step - loss: 3.0238e-09 - mse: 5.7434e-20 - val_loss: 4.9970 - val_mse: 0.2626\n",
            "Epoch 366/500\n",
            "132/132 [==============================] - 0s 3ms/step - loss: 3.0953e-09 - mse: 5.1435e-20 - val_loss: 5.0027 - val_mse: 0.2629\n",
            "Epoch 367/500\n",
            "132/132 [==============================] - 0s 3ms/step - loss: 2.9581e-09 - mse: 5.7666e-20 - val_loss: 4.9925 - val_mse: 0.2624\n",
            "Epoch 368/500\n",
            "132/132 [==============================] - 0s 3ms/step - loss: 2.9841e-09 - mse: 5.3591e-20 - val_loss: 4.9995 - val_mse: 0.2626\n",
            "Epoch 369/500\n",
            "132/132 [==============================] - 0s 3ms/step - loss: 2.9875e-09 - mse: 5.3554e-20 - val_loss: 4.9987 - val_mse: 0.2627\n",
            "Epoch 370/500\n",
            "132/132 [==============================] - 0s 3ms/step - loss: 2.9974e-09 - mse: 5.2910e-20 - val_loss: 5.0007 - val_mse: 0.2627\n",
            "Epoch 371/500\n",
            "132/132 [==============================] - 0s 3ms/step - loss: 2.9559e-09 - mse: 5.6355e-20 - val_loss: 5.0017 - val_mse: 0.2629\n",
            "Epoch 372/500\n",
            "132/132 [==============================] - 0s 3ms/step - loss: 3.0566e-09 - mse: 4.7300e-20 - val_loss: 5.0023 - val_mse: 0.2627\n",
            "Epoch 373/500\n",
            "132/132 [==============================] - 0s 3ms/step - loss: 3.0966e-09 - mse: 4.8902e-20 - val_loss: 5.0053 - val_mse: 0.2629\n",
            "Epoch 374/500\n",
            "132/132 [==============================] - 0s 3ms/step - loss: 3.0451e-09 - mse: 4.7658e-20 - val_loss: 5.0013 - val_mse: 0.2627\n",
            "Epoch 375/500\n",
            "132/132 [==============================] - 0s 3ms/step - loss: 2.9923e-09 - mse: 5.1241e-20 - val_loss: 5.0014 - val_mse: 0.2624\n",
            "Epoch 376/500\n",
            "132/132 [==============================] - 0s 3ms/step - loss: 2.9746e-09 - mse: 4.7640e-20 - val_loss: 5.0089 - val_mse: 0.2630\n",
            "Epoch 377/500\n",
            "132/132 [==============================] - 0s 3ms/step - loss: 3.0598e-09 - mse: 4.5398e-20 - val_loss: 5.0078 - val_mse: 0.2626\n",
            "Epoch 378/500\n",
            "132/132 [==============================] - 0s 3ms/step - loss: 3.0860e-09 - mse: 4.5994e-20 - val_loss: 5.0115 - val_mse: 0.2629\n",
            "Epoch 379/500\n",
            "132/132 [==============================] - 0s 3ms/step - loss: 2.8948e-09 - mse: 5.7313e-20 - val_loss: 5.0081 - val_mse: 0.2618\n",
            "Epoch 380/500\n",
            "132/132 [==============================] - 0s 3ms/step - loss: 2.8246e-09 - mse: 5.7781e-20 - val_loss: 5.0114 - val_mse: 0.2620\n",
            "Epoch 381/500\n",
            "132/132 [==============================] - 0s 3ms/step - loss: 2.9294e-09 - mse: 5.1748e-20 - val_loss: 5.0099 - val_mse: 0.2623\n",
            "Epoch 382/500\n",
            "132/132 [==============================] - 0s 3ms/step - loss: 2.7652e-09 - mse: 6.3361e-20 - val_loss: 5.0134 - val_mse: 0.2619\n",
            "Epoch 383/500\n",
            "132/132 [==============================] - 0s 3ms/step - loss: 2.9672e-09 - mse: 4.8272e-20 - val_loss: 5.0057 - val_mse: 0.2617\n",
            "Epoch 384/500\n",
            "132/132 [==============================] - 0s 3ms/step - loss: 2.8925e-09 - mse: 4.7368e-20 - val_loss: 5.0170 - val_mse: 0.2625\n",
            "Epoch 385/500\n",
            "132/132 [==============================] - 0s 3ms/step - loss: 2.9718e-09 - mse: 4.5769e-20 - val_loss: 5.0150 - val_mse: 0.2624\n",
            "Epoch 386/500\n",
            "132/132 [==============================] - 0s 3ms/step - loss: 2.9051e-09 - mse: 4.7809e-20 - val_loss: 5.0204 - val_mse: 0.2627\n",
            "Epoch 387/500\n",
            "132/132 [==============================] - 0s 3ms/step - loss: 3.0067e-09 - mse: 4.2560e-20 - val_loss: 5.0168 - val_mse: 0.2625\n",
            "Epoch 388/500\n",
            "132/132 [==============================] - 0s 3ms/step - loss: 3.0504e-09 - mse: 4.0255e-20 - val_loss: 5.0166 - val_mse: 0.2628\n",
            "Epoch 389/500\n",
            "132/132 [==============================] - 0s 3ms/step - loss: 3.0191e-09 - mse: 3.9992e-20 - val_loss: 5.0159 - val_mse: 0.2628\n",
            "Epoch 390/500\n",
            "132/132 [==============================] - 0s 3ms/step - loss: 3.0765e-09 - mse: 3.9014e-20 - val_loss: 5.0217 - val_mse: 0.2626\n",
            "Epoch 391/500\n",
            "132/132 [==============================] - 0s 3ms/step - loss: 3.0189e-09 - mse: 4.1869e-20 - val_loss: 5.0157 - val_mse: 0.2628\n",
            "Epoch 392/500\n",
            "132/132 [==============================] - 0s 3ms/step - loss: 3.0727e-09 - mse: 3.7776e-20 - val_loss: 5.0156 - val_mse: 0.2628\n",
            "Epoch 393/500\n",
            "132/132 [==============================] - 0s 3ms/step - loss: 2.9765e-09 - mse: 4.4217e-20 - val_loss: 5.0171 - val_mse: 0.2631\n",
            "Epoch 394/500\n",
            "132/132 [==============================] - 0s 3ms/step - loss: 3.0360e-09 - mse: 3.8814e-20 - val_loss: 5.0212 - val_mse: 0.2631\n",
            "Epoch 395/500\n",
            "132/132 [==============================] - 0s 3ms/step - loss: 2.9626e-09 - mse: 3.9670e-20 - val_loss: 5.0132 - val_mse: 0.2626\n",
            "Epoch 396/500\n",
            "132/132 [==============================] - 0s 3ms/step - loss: 3.0197e-09 - mse: 3.7547e-20 - val_loss: 5.0166 - val_mse: 0.2628\n",
            "Epoch 397/500\n",
            "132/132 [==============================] - 0s 3ms/step - loss: 3.0709e-09 - mse: 3.9831e-20 - val_loss: 5.0157 - val_mse: 0.2626\n",
            "Epoch 398/500\n",
            "132/132 [==============================] - 0s 3ms/step - loss: 3.0612e-09 - mse: 3.7656e-20 - val_loss: 5.0217 - val_mse: 0.2632\n",
            "Epoch 399/500\n",
            "132/132 [==============================] - 0s 3ms/step - loss: 2.9877e-09 - mse: 3.7648e-20 - val_loss: 5.0240 - val_mse: 0.2632\n",
            "Epoch 400/500\n",
            "132/132 [==============================] - 0s 3ms/step - loss: 2.9834e-09 - mse: 3.9854e-20 - val_loss: 5.0203 - val_mse: 0.2628\n",
            "Epoch 401/500\n",
            "132/132 [==============================] - 0s 3ms/step - loss: 2.9955e-09 - mse: 3.6679e-20 - val_loss: 5.0275 - val_mse: 0.2632\n",
            "Epoch 402/500\n",
            "132/132 [==============================] - 0s 3ms/step - loss: 2.9789e-09 - mse: 3.7609e-20 - val_loss: 5.0291 - val_mse: 0.2634\n",
            "Epoch 403/500\n",
            "132/132 [==============================] - 0s 3ms/step - loss: 3.0998e-09 - mse: 3.2802e-20 - val_loss: 5.0314 - val_mse: 0.2630\n",
            "Epoch 404/500\n",
            "132/132 [==============================] - 0s 3ms/step - loss: 3.0376e-09 - mse: 3.3706e-20 - val_loss: 5.0336 - val_mse: 0.2629\n",
            "Epoch 405/500\n",
            "132/132 [==============================] - 0s 3ms/step - loss: 2.9586e-09 - mse: 3.8072e-20 - val_loss: 5.0315 - val_mse: 0.2628\n",
            "Epoch 406/500\n",
            "132/132 [==============================] - 0s 3ms/step - loss: 3.0017e-09 - mse: 3.6007e-20 - val_loss: 5.0433 - val_mse: 0.2638\n",
            "Epoch 407/500\n",
            "132/132 [==============================] - 0s 3ms/step - loss: 3.0982e-09 - mse: 3.3515e-20 - val_loss: 5.0392 - val_mse: 0.2634\n",
            "Epoch 408/500\n",
            "132/132 [==============================] - 0s 3ms/step - loss: 3.1001e-09 - mse: 3.3413e-20 - val_loss: 5.0394 - val_mse: 0.2634\n",
            "Epoch 409/500\n",
            "132/132 [==============================] - 0s 3ms/step - loss: 3.0040e-09 - mse: 3.5100e-20 - val_loss: 5.0343 - val_mse: 0.2630\n",
            "Epoch 410/500\n",
            "132/132 [==============================] - 0s 3ms/step - loss: 2.9830e-09 - mse: 3.4694e-20 - val_loss: 5.0395 - val_mse: 0.2633\n",
            "Epoch 411/500\n",
            "132/132 [==============================] - 0s 3ms/step - loss: 3.0360e-09 - mse: 3.2821e-20 - val_loss: 5.0294 - val_mse: 0.2629\n",
            "Epoch 412/500\n",
            "132/132 [==============================] - 0s 3ms/step - loss: 3.0359e-09 - mse: 3.1404e-20 - val_loss: 5.0391 - val_mse: 0.2636\n",
            "Epoch 413/500\n",
            "132/132 [==============================] - 0s 3ms/step - loss: 3.1505e-09 - mse: 2.8703e-20 - val_loss: 5.0381 - val_mse: 0.2635\n",
            "Epoch 414/500\n",
            "132/132 [==============================] - 0s 3ms/step - loss: 3.0374e-09 - mse: 3.0756e-20 - val_loss: 5.0342 - val_mse: 0.2634\n",
            "Epoch 415/500\n",
            "132/132 [==============================] - 0s 3ms/step - loss: 3.0470e-09 - mse: 3.0105e-20 - val_loss: 5.0397 - val_mse: 0.2631\n",
            "Epoch 416/500\n",
            "132/132 [==============================] - 0s 3ms/step - loss: 2.9875e-09 - mse: 3.3023e-20 - val_loss: 5.0393 - val_mse: 0.2631\n",
            "Epoch 417/500\n",
            "132/132 [==============================] - 0s 3ms/step - loss: 2.9094e-09 - mse: 3.3094e-20 - val_loss: 5.0414 - val_mse: 0.2628\n",
            "Epoch 418/500\n",
            "132/132 [==============================] - 0s 3ms/step - loss: 3.0450e-09 - mse: 2.9983e-20 - val_loss: 5.0382 - val_mse: 0.2631\n",
            "Epoch 419/500\n",
            "132/132 [==============================] - 0s 3ms/step - loss: 2.9972e-09 - mse: 3.4026e-20 - val_loss: 5.0451 - val_mse: 0.2633\n",
            "Epoch 420/500\n",
            "132/132 [==============================] - 0s 3ms/step - loss: 3.0940e-09 - mse: 2.8150e-20 - val_loss: 5.0508 - val_mse: 0.2635\n",
            "Epoch 421/500\n",
            "132/132 [==============================] - 0s 3ms/step - loss: 2.9954e-09 - mse: 3.0480e-20 - val_loss: 5.0470 - val_mse: 0.2634\n",
            "Epoch 422/500\n",
            "132/132 [==============================] - 0s 3ms/step - loss: 3.0410e-09 - mse: 2.9601e-20 - val_loss: 5.0481 - val_mse: 0.2636\n",
            "Epoch 423/500\n",
            "132/132 [==============================] - 0s 3ms/step - loss: 2.9535e-09 - mse: 2.9918e-20 - val_loss: 5.0497 - val_mse: 0.2636\n",
            "Epoch 424/500\n",
            "132/132 [==============================] - 0s 3ms/step - loss: 2.9377e-09 - mse: 3.6855e-20 - val_loss: 5.0536 - val_mse: 0.2634\n",
            "Epoch 425/500\n",
            "132/132 [==============================] - 0s 3ms/step - loss: 3.0388e-09 - mse: 2.7310e-20 - val_loss: 5.0485 - val_mse: 0.2634\n",
            "Epoch 426/500\n",
            "132/132 [==============================] - 0s 3ms/step - loss: 2.9541e-09 - mse: 2.9558e-20 - val_loss: 5.0421 - val_mse: 0.2627\n",
            "Epoch 427/500\n",
            "132/132 [==============================] - 0s 3ms/step - loss: 3.0130e-09 - mse: 2.8227e-20 - val_loss: 5.0492 - val_mse: 0.2633\n",
            "Epoch 428/500\n",
            "132/132 [==============================] - 0s 3ms/step - loss: 2.9843e-09 - mse: 2.7884e-20 - val_loss: 5.0548 - val_mse: 0.2636\n",
            "Epoch 429/500\n",
            "132/132 [==============================] - 0s 3ms/step - loss: 3.0820e-09 - mse: 2.6284e-20 - val_loss: 5.0560 - val_mse: 0.2638\n",
            "Epoch 430/500\n",
            "132/132 [==============================] - 0s 3ms/step - loss: 3.1489e-09 - mse: 2.4852e-20 - val_loss: 5.0547 - val_mse: 0.2635\n",
            "Epoch 431/500\n",
            "132/132 [==============================] - 0s 3ms/step - loss: 3.1261e-09 - mse: 2.4528e-20 - val_loss: 5.0563 - val_mse: 0.2639\n",
            "Epoch 432/500\n",
            "132/132 [==============================] - 0s 3ms/step - loss: 2.9762e-09 - mse: 2.8996e-20 - val_loss: 5.0511 - val_mse: 0.2631\n",
            "Epoch 433/500\n",
            "132/132 [==============================] - 0s 3ms/step - loss: 2.9782e-09 - mse: 2.5719e-20 - val_loss: 5.0480 - val_mse: 0.2631\n",
            "Epoch 434/500\n",
            "132/132 [==============================] - 0s 3ms/step - loss: 3.0159e-09 - mse: 2.6398e-20 - val_loss: 5.0527 - val_mse: 0.2635\n",
            "Epoch 435/500\n",
            "132/132 [==============================] - 0s 3ms/step - loss: 3.0187e-09 - mse: 2.5437e-20 - val_loss: 5.0547 - val_mse: 0.2637\n",
            "Epoch 436/500\n",
            "132/132 [==============================] - 0s 3ms/step - loss: 2.9140e-09 - mse: 2.9590e-20 - val_loss: 5.0511 - val_mse: 0.2634\n",
            "Epoch 437/500\n",
            "132/132 [==============================] - 0s 3ms/step - loss: 3.0374e-09 - mse: 2.4229e-20 - val_loss: 5.0504 - val_mse: 0.2630\n",
            "Epoch 438/500\n",
            "132/132 [==============================] - 0s 3ms/step - loss: 3.0349e-09 - mse: 2.4535e-20 - val_loss: 5.0533 - val_mse: 0.2634\n",
            "Epoch 439/500\n",
            "132/132 [==============================] - 0s 3ms/step - loss: 3.0051e-09 - mse: 2.6152e-20 - val_loss: 5.0522 - val_mse: 0.2632\n",
            "Epoch 440/500\n",
            "132/132 [==============================] - 0s 3ms/step - loss: 2.9961e-09 - mse: 2.5104e-20 - val_loss: 5.0557 - val_mse: 0.2630\n",
            "Epoch 441/500\n",
            "132/132 [==============================] - 0s 3ms/step - loss: 2.8970e-09 - mse: 2.8904e-20 - val_loss: 5.0460 - val_mse: 0.2624\n",
            "Epoch 442/500\n",
            "132/132 [==============================] - 0s 3ms/step - loss: 2.6401e-09 - mse: 3.3106e-20 - val_loss: 5.0521 - val_mse: 0.2625\n",
            "Epoch 443/500\n",
            "132/132 [==============================] - 0s 3ms/step - loss: 2.7715e-09 - mse: 2.7738e-20 - val_loss: 5.0505 - val_mse: 0.2626\n",
            "Epoch 444/500\n",
            "132/132 [==============================] - 0s 3ms/step - loss: 2.8953e-09 - mse: 2.4491e-20 - val_loss: 5.0571 - val_mse: 0.2630\n",
            "Epoch 445/500\n",
            "132/132 [==============================] - 0s 3ms/step - loss: 2.9712e-09 - mse: 2.3134e-20 - val_loss: 5.0596 - val_mse: 0.2634\n",
            "Epoch 446/500\n",
            "132/132 [==============================] - 0s 3ms/step - loss: 2.9082e-09 - mse: 2.5313e-20 - val_loss: 5.0545 - val_mse: 0.2628\n",
            "Epoch 447/500\n",
            "132/132 [==============================] - 0s 3ms/step - loss: 2.9143e-09 - mse: 2.4999e-20 - val_loss: 5.0607 - val_mse: 0.2634\n",
            "Epoch 448/500\n",
            "132/132 [==============================] - 0s 3ms/step - loss: 2.9974e-09 - mse: 2.3655e-20 - val_loss: 5.0492 - val_mse: 0.2630\n",
            "Epoch 449/500\n",
            "132/132 [==============================] - 0s 3ms/step - loss: 2.7809e-09 - mse: 2.8400e-20 - val_loss: 5.0585 - val_mse: 0.2633\n",
            "Epoch 450/500\n",
            "132/132 [==============================] - 0s 3ms/step - loss: 2.8918e-09 - mse: 2.5455e-20 - val_loss: 5.0605 - val_mse: 0.2636\n",
            "Epoch 451/500\n",
            "132/132 [==============================] - 0s 3ms/step - loss: 2.9568e-09 - mse: 2.2814e-20 - val_loss: 5.0619 - val_mse: 0.2634\n",
            "Epoch 452/500\n",
            "132/132 [==============================] - 0s 3ms/step - loss: 3.0536e-09 - mse: 2.0978e-20 - val_loss: 5.0619 - val_mse: 0.2634\n",
            "Epoch 453/500\n",
            "132/132 [==============================] - 0s 3ms/step - loss: 3.0220e-09 - mse: 2.1496e-20 - val_loss: 5.0637 - val_mse: 0.2638\n",
            "Epoch 454/500\n",
            "132/132 [==============================] - 0s 3ms/step - loss: 3.0483e-09 - mse: 2.0593e-20 - val_loss: 5.0603 - val_mse: 0.2635\n",
            "Epoch 455/500\n",
            "132/132 [==============================] - 0s 3ms/step - loss: 2.9474e-09 - mse: 2.1934e-20 - val_loss: 5.0630 - val_mse: 0.2633\n",
            "Epoch 456/500\n",
            "132/132 [==============================] - 0s 3ms/step - loss: 2.9430e-09 - mse: 2.2021e-20 - val_loss: 5.0661 - val_mse: 0.2635\n",
            "Epoch 457/500\n",
            "132/132 [==============================] - 0s 3ms/step - loss: 3.0441e-09 - mse: 1.9683e-20 - val_loss: 5.0715 - val_mse: 0.2635\n",
            "Epoch 458/500\n",
            "132/132 [==============================] - 0s 3ms/step - loss: 2.9942e-09 - mse: 2.2061e-20 - val_loss: 5.0689 - val_mse: 0.2632\n",
            "Epoch 459/500\n",
            "132/132 [==============================] - 0s 3ms/step - loss: 2.9527e-09 - mse: 2.2822e-20 - val_loss: 5.0692 - val_mse: 0.2637\n",
            "Epoch 460/500\n",
            "132/132 [==============================] - 0s 3ms/step - loss: 3.0108e-09 - mse: 2.1048e-20 - val_loss: 5.0654 - val_mse: 0.2636\n",
            "Epoch 461/500\n",
            "132/132 [==============================] - 0s 3ms/step - loss: 3.0390e-09 - mse: 2.0557e-20 - val_loss: 5.0773 - val_mse: 0.2639\n",
            "Epoch 462/500\n",
            "132/132 [==============================] - 0s 3ms/step - loss: 3.0861e-09 - mse: 2.0429e-20 - val_loss: 5.0768 - val_mse: 0.2639\n",
            "Epoch 463/500\n",
            "132/132 [==============================] - 0s 3ms/step - loss: 3.0888e-09 - mse: 2.0520e-20 - val_loss: 5.0753 - val_mse: 0.2638\n",
            "Epoch 464/500\n",
            "132/132 [==============================] - 0s 3ms/step - loss: 2.9215e-09 - mse: 2.2481e-20 - val_loss: 5.0718 - val_mse: 0.2639\n",
            "Epoch 465/500\n",
            "132/132 [==============================] - 0s 3ms/step - loss: 2.9440e-09 - mse: 2.2356e-20 - val_loss: 5.0733 - val_mse: 0.2641\n",
            "Epoch 466/500\n",
            "132/132 [==============================] - 0s 3ms/step - loss: 2.8905e-09 - mse: 2.2900e-20 - val_loss: 5.0738 - val_mse: 0.2637\n",
            "Epoch 467/500\n",
            "132/132 [==============================] - 0s 3ms/step - loss: 3.0106e-09 - mse: 1.9329e-20 - val_loss: 5.0700 - val_mse: 0.2635\n",
            "Epoch 468/500\n",
            "132/132 [==============================] - 0s 3ms/step - loss: 2.9330e-09 - mse: 2.0116e-20 - val_loss: 5.0740 - val_mse: 0.2639\n",
            "Epoch 469/500\n",
            "132/132 [==============================] - 0s 3ms/step - loss: 2.9834e-09 - mse: 1.9412e-20 - val_loss: 5.0710 - val_mse: 0.2637\n",
            "Epoch 470/500\n",
            "132/132 [==============================] - 0s 3ms/step - loss: 2.9289e-09 - mse: 2.2092e-20 - val_loss: 5.0753 - val_mse: 0.2638\n",
            "Epoch 471/500\n",
            "132/132 [==============================] - 0s 3ms/step - loss: 3.0051e-09 - mse: 1.9424e-20 - val_loss: 5.0753 - val_mse: 0.2643\n",
            "Epoch 472/500\n",
            "132/132 [==============================] - 0s 3ms/step - loss: 3.1191e-09 - mse: 1.7025e-20 - val_loss: 5.0734 - val_mse: 0.2640\n",
            "Epoch 473/500\n",
            "132/132 [==============================] - 0s 3ms/step - loss: 3.0209e-09 - mse: 1.8514e-20 - val_loss: 5.0760 - val_mse: 0.2641\n",
            "Epoch 474/500\n",
            "132/132 [==============================] - 0s 3ms/step - loss: 3.0448e-09 - mse: 1.7662e-20 - val_loss: 5.0796 - val_mse: 0.2639\n",
            "Epoch 475/500\n",
            "132/132 [==============================] - 0s 3ms/step - loss: 3.0130e-09 - mse: 1.7568e-20 - val_loss: 5.0755 - val_mse: 0.2639\n",
            "Epoch 476/500\n",
            "132/132 [==============================] - 0s 3ms/step - loss: 2.8482e-09 - mse: 2.1442e-20 - val_loss: 5.0749 - val_mse: 0.2638\n",
            "Epoch 477/500\n",
            "132/132 [==============================] - 0s 3ms/step - loss: 2.9876e-09 - mse: 1.9522e-20 - val_loss: 5.0795 - val_mse: 0.2640\n",
            "Epoch 478/500\n",
            "132/132 [==============================] - 0s 3ms/step - loss: 3.0957e-09 - mse: 1.6943e-20 - val_loss: 5.0815 - val_mse: 0.2641\n",
            "Epoch 479/500\n",
            "132/132 [==============================] - 0s 3ms/step - loss: 3.1009e-09 - mse: 1.6500e-20 - val_loss: 5.0815 - val_mse: 0.2641\n",
            "Epoch 480/500\n",
            "132/132 [==============================] - 0s 3ms/step - loss: 3.0721e-09 - mse: 1.7248e-20 - val_loss: 5.0805 - val_mse: 0.2639\n",
            "Epoch 481/500\n",
            "132/132 [==============================] - 0s 3ms/step - loss: 2.9926e-09 - mse: 1.8725e-20 - val_loss: 5.0769 - val_mse: 0.2635\n",
            "Epoch 482/500\n",
            "132/132 [==============================] - 0s 3ms/step - loss: 3.0483e-09 - mse: 1.6859e-20 - val_loss: 5.0831 - val_mse: 0.2639\n",
            "Epoch 483/500\n",
            "132/132 [==============================] - 0s 3ms/step - loss: 2.8936e-09 - mse: 1.9083e-20 - val_loss: 5.0786 - val_mse: 0.2641\n",
            "Epoch 484/500\n",
            "132/132 [==============================] - 0s 3ms/step - loss: 2.9481e-09 - mse: 1.8221e-20 - val_loss: 5.0835 - val_mse: 0.2641\n",
            "Epoch 485/500\n",
            "132/132 [==============================] - 0s 3ms/step - loss: 2.9980e-09 - mse: 1.7738e-20 - val_loss: 5.0904 - val_mse: 0.2643\n",
            "Epoch 486/500\n",
            "132/132 [==============================] - 0s 3ms/step - loss: 3.1468e-09 - mse: 1.5273e-20 - val_loss: 5.0799 - val_mse: 0.2639\n",
            "Epoch 487/500\n",
            "132/132 [==============================] - 0s 3ms/step - loss: 3.0459e-09 - mse: 1.6722e-20 - val_loss: 5.0858 - val_mse: 0.2641\n",
            "Epoch 488/500\n",
            "132/132 [==============================] - 0s 3ms/step - loss: 3.1067e-09 - mse: 1.5302e-20 - val_loss: 5.0902 - val_mse: 0.2644\n",
            "Epoch 489/500\n",
            "132/132 [==============================] - 0s 3ms/step - loss: 3.1143e-09 - mse: 1.5721e-20 - val_loss: 5.0865 - val_mse: 0.2643\n",
            "Epoch 490/500\n",
            "132/132 [==============================] - 0s 3ms/step - loss: 3.0015e-09 - mse: 1.6602e-20 - val_loss: 5.0818 - val_mse: 0.2640\n",
            "Epoch 491/500\n",
            "132/132 [==============================] - 0s 3ms/step - loss: 3.0083e-09 - mse: 1.6034e-20 - val_loss: 5.0829 - val_mse: 0.2638\n",
            "Epoch 492/500\n",
            "132/132 [==============================] - 0s 3ms/step - loss: 2.8556e-09 - mse: 1.7377e-20 - val_loss: 5.0725 - val_mse: 0.2632\n",
            "Epoch 493/500\n",
            "132/132 [==============================] - 0s 3ms/step - loss: 2.7488e-09 - mse: 2.2731e-20 - val_loss: 5.0750 - val_mse: 0.2637\n",
            "Epoch 494/500\n",
            "132/132 [==============================] - 0s 3ms/step - loss: 2.8577e-09 - mse: 1.8148e-20 - val_loss: 5.0745 - val_mse: 0.2634\n",
            "Epoch 495/500\n",
            "132/132 [==============================] - 0s 3ms/step - loss: 2.8022e-09 - mse: 1.8714e-20 - val_loss: 5.0832 - val_mse: 0.2638\n",
            "Epoch 496/500\n",
            "132/132 [==============================] - 0s 3ms/step - loss: 2.8375e-09 - mse: 1.7910e-20 - val_loss: 5.0793 - val_mse: 0.2636\n",
            "Epoch 00496: early stopping\n"
          ]
        }
      ]
    },
    {
      "cell_type": "code",
      "metadata": {
        "colab": {
          "base_uri": "https://localhost:8080/"
        },
        "id": "cVU2xmxA4bCb",
        "outputId": "c9291337-83f1-4670-c831-3fb1a98ce0b2"
      },
      "source": [
        "probs       = classifier.predict(X_test_norm)\n",
        "preds       = probs > 0.9\n",
        "print('Neural network score on test:\\n',classification_report(y_test_ann, preds))"
      ],
      "execution_count": 188,
      "outputs": [
        {
          "output_type": "stream",
          "name": "stdout",
          "text": [
            "Neural network score on test:\n",
            "               precision    recall  f1-score   support\n",
            "\n",
            "           0       0.46      0.61      0.53       423\n",
            "           1       0.85      0.76      0.80      1257\n",
            "\n",
            "    accuracy                           0.72      1680\n",
            "   macro avg       0.66      0.69      0.66      1680\n",
            "weighted avg       0.75      0.72      0.73      1680\n",
            "\n"
          ]
        }
      ]
    },
    {
      "cell_type": "code",
      "metadata": {
        "colab": {
          "base_uri": "https://localhost:8080/",
          "height": 312
        },
        "id": "fW27wgBp9aej",
        "outputId": "ff2022f7-06ee-468c-b8ae-62e94fbbf8ac"
      },
      "source": [
        "cm=confusion_matrix(y_test_ann,preds)\n",
        "names = ['0', '1'] \n",
        "cm = 100 * cm.astype('float') / cm.sum(axis=-1)[:, np.newaxis]  \n",
        " \n",
        "\n",
        "df = pd.DataFrame(data=cm, columns=names, index=names)\n",
        "g = sns.heatmap(df, annot=True, fmt=\".1f\", linewidths=.5, vmin=0, vmax=100,\n",
        "                    cmap='Greens')\n",
        "g.set_title('Confusion matrix')\n",
        "g.set_ylabel('True label')\n",
        "g.set_xlabel('Predicted label')\n",
        "g.plot()"
      ],
      "execution_count": 189,
      "outputs": [
        {
          "output_type": "execute_result",
          "data": {
            "text/plain": [
              "[]"
            ]
          },
          "metadata": {},
          "execution_count": 189
        },
        {
          "output_type": "display_data",
          "data": {
            "image/png": "[encoded data removed]",
            "text/plain": [
              "<Figure size 432x288 with 2 Axes>"
            ]
          },
          "metadata": {
            "needs_background": "light"
          }
        }
      ]
    }
  ]
}